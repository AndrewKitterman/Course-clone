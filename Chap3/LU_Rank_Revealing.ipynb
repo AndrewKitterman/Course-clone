{
 "cells": [
  {
   "cell_type": "code",
   "execution_count": 1,
   "metadata": {},
   "outputs": [],
   "source": [
    "using LinearAlgebra\n",
    "using Random\n",
    "rng = MersenneTwister()\n",
    "Random.seed!(rng, 2018)\n",
    "output = false\n",
    ";"
   ]
  },
  {
   "cell_type": "code",
   "execution_count": 2,
   "metadata": {},
   "outputs": [],
   "source": [
    "# Size of the matrix\n",
    "n = 24;"
   ]
  },
  {
   "cell_type": "code",
   "execution_count": 3,
   "metadata": {},
   "outputs": [
    {
     "data": {
      "text/plain": [
       "getrs (generic function with 3 methods)"
      ]
     },
     "execution_count": 3,
     "metadata": {},
     "output_type": "execute_result"
    }
   ],
   "source": [
    "include(\"../src/getrf.jl\")"
   ]
  },
  {
   "cell_type": "code",
   "execution_count": 4,
   "metadata": {},
   "outputs": [],
   "source": [
    "# Initialize matrix\n",
    "d = (1.0/2.0).^(n-1:-1:0)\n",
    "Q, = qr(rand(n,n))\n",
    "A = Q * diagm(0 => d);"
   ]
  },
  {
   "cell_type": "code",
   "execution_count": 5,
   "metadata": {},
   "outputs": [
    {
     "name": "stdout",
     "output_type": "stream",
     "text": [
      "norm(x1 - x2) / norm(x2) = 2.3055095076400537e-16\n"
     ]
    },
    {
     "data": {
      "text/plain": [
       "\"TEST PASSED\""
      ]
     },
     "execution_count": 5,
     "metadata": {},
     "output_type": "execute_result"
    }
   ],
   "source": [
    "# Testing rook pivoting kernel\n",
    "b = rand(n)\n",
    "x1 = (A1 = copy(A); P = getrf!(A1); getrs(A1, P, b))\n",
    "x2 = (A1 = copy(A); (P_row, P_col) = getrfRook!(A1); getrs(A1, P_row, P_col, b))\n",
    "@show norm(x1-x2)/norm(x2)\n",
    "norm(x1-x2)/norm(x2) < 1e2*eps(Float64) ? \"TEST PASSED\" : \"TEST FAILED\""
   ]
  },
  {
   "cell_type": "code",
   "execution_count": 6,
   "metadata": {},
   "outputs": [
    {
     "name": "stdout",
     "output_type": "stream",
     "text": [
      "  0.000023 seconds (121 allocations: 15.641 KiB)\n",
      "  0.000031 seconds (199 allocations: 36.438 KiB)\n"
     ]
    }
   ],
   "source": [
    "dA = Array{Float64}(undef,n,3)\n",
    "A1 = copy(A)\n",
    "@time getrf!(A1)\n",
    "dA[:,1] = abs.(diag(A1))\n",
    "\n",
    "A1 = copy(A)\n",
    "@time getrfRook!(A1)\n",
    "dA[:,2] = abs.(diag(A1));\n",
    "\n",
    "# These are the sorted singular values of the matrix\n",
    "dA[:,3] = sort(d)[n:-1:1]; "
   ]
  },
  {
   "cell_type": "code",
   "execution_count": 7,
   "metadata": {},
   "outputs": [
    {
     "data": {
      "text/html": [
       "<script>\n",
       "// Immediately-invoked-function-expression to avoid global variables.\n",
       "(function() {\n",
       "    var warning_div = document.getElementById(\"webio-warning-11417591307773001046\");\n",
       "    var hide = function () {\n",
       "        var script = document.getElementById(\"webio-setup-1599665603162221182\");\n",
       "        var parent = script && script.parentElement;\n",
       "        var grandparent = parent && parent.parentElement;\n",
       "        if (grandparent) {\n",
       "            grandparent.style.display = \"none\";\n",
       "        }\n",
       "        warning_div.style.display = \"none\";\n",
       "    };\n",
       "    if (typeof Jupyter !== \"undefined\") {\n",
       "        console.log(\"WebIO detected Jupyter notebook environment.\");\n",
       "        // Jupyter notebook.\n",
       "        var extensions = (\n",
       "            Jupyter\n",
       "            && Jupyter.notebook.config.data\n",
       "            && Jupyter.notebook.config.data.load_extensions\n",
       "        );\n",
       "        if (extensions && extensions[\"webio-jupyter-notebook\"]) {\n",
       "            // Extension already loaded.\n",
       "            console.log(\"Jupyter WebIO nbextension detected; not loading ad-hoc.\");\n",
       "            hide();\n",
       "            return;\n",
       "        }\n",
       "    } else if (window.location.pathname.includes(\"/lab\")) {\n",
       "        // Guessing JupyterLa\n",
       "        console.log(\"Jupyter Lab detected; make sure the @webio/jupyter-lab-provider labextension is installed.\");\n",
       "        hide();\n",
       "        return;\n",
       "    }\n",
       "})();\n",
       "\n",
       "</script>\n",
       "<p\n",
       "    id=\"webio-warning-11417591307773001046\"\n",
       "    class=\"output_text output_stderr\"\n",
       "    style=\"padding: 1em; font-weight: bold;\"\n",
       ">\n",
       "    Unable to load WebIO. Please make sure WebIO works for your Jupyter client.\n",
       "    For troubleshooting, please see <a href=\"https://juliagizmos.github.io/WebIO.jl/latest/providers/ijulia/\">\n",
       "    the WebIO/IJulia documentation</a>.\n",
       "    <!-- TODO: link to installation docs. -->\n",
       "</p>\n"
      ],
      "text/plain": [
       "HTML{String}(\"<script>\\n// Immediately-invoked-function-expression to avoid global variables.\\n(function() {\\n    var warning_div = document.getElementById(\\\"webio-warning-11417591307773001046\\\");\\n    var hide = function () {\\n        var script = document.getElementById(\\\"webio-setup-1599665603162221182\\\");\\n        var parent = script && script.parentElement;\\n        var grandparent = parent && parent.parentElement;\\n        if (grandparent) {\\n            grandparent.style.display = \\\"none\\\";\\n        }\\n        warning_div.style.display = \\\"none\\\";\\n    };\\n    if (typeof Jupyter !== \\\"undefined\\\") {\\n        console.log(\\\"WebIO detected Jupyter notebook environment.\\\");\\n        // Jupyter notebook.\\n        var extensions = (\\n            Jupyter\\n            && Jupyter.notebook.config.data\\n            && Jupyter.notebook.config.data.load_extensions\\n        );\\n        if (extensions && extensions[\\\"webio-jupyter-notebook\\\"]) {\\n            // Extension already loaded.\\n            console.log(\\\"Jupyter WebIO nbextension detected; not loading ad-hoc.\\\");\\n            hide();\\n            return;\\n        }\\n    } else if (window.location.pathname.includes(\\\"/lab\\\")) {\\n        // Guessing JupyterLa\\n        console.log(\\\"Jupyter Lab detected; make sure the @webio/jupyter-lab-provider labextension is installed.\\\");\\n        hide();\\n        return;\\n    }\\n})();\\n\\n</script>\\n<p\\n    id=\\\"webio-warning-11417591307773001046\\\"\\n    class=\\\"output_text output_stderr\\\"\\n    style=\\\"padding: 1em; font-weight: bold;\\\"\\n>\\n    Unable to load WebIO. Please make sure WebIO works for your Jupyter client.\\n    For troubleshooting, please see <a href=\\\"https://juliagizmos.github.io/WebIO.jl/latest/providers/ijulia/\\\">\\n    the WebIO/IJulia documentation</a>.\\n    <!-- TODO: link to installation docs. -->\\n</p>\\n\")"
      ]
     },
     "metadata": {},
     "output_type": "display_data"
    },
    {
     "data": {
      "text/plain": [
       "plotToPDF (generic function with 1 method)"
      ]
     },
     "execution_count": 7,
     "metadata": {},
     "output_type": "execute_result"
    }
   ],
   "source": [
    "include(\"../load_plot_pkg.jl\")"
   ]
  },
  {
   "cell_type": "code",
   "execution_count": 8,
   "metadata": {},
   "outputs": [
    {
     "data": {
      "application/vnd.plotly.v1+json": {
       "data": [
        {
         "marker": {
          "color": "#E24A33",
          "line": {
           "color": "#348ABD",
           "width": 0.5
          },
          "size": 10
         },
         "name": "Pivoted LU",
         "type": "scatter",
         "x": [
          1,
          2,
          3,
          4,
          5,
          6,
          7,
          8,
          9,
          10,
          11,
          12,
          13,
          14,
          15,
          16,
          17,
          18,
          19,
          20,
          21,
          22,
          23,
          24
         ],
         "y": [
          3.847213625553232e-08,
          1.0230878781146078e-07,
          2.614416987526875e-07,
          5.123081167872418e-07,
          1.0190183794540069e-06,
          3.6784321520081014e-06,
          5.895962932366117e-06,
          1.1854391266486218e-05,
          2.4969498054938672e-05,
          8.701965753294304e-05,
          7.948206748075611e-05,
          0.0002429723970812809,
          0.00029787545266056026,
          0.0010717525557127384,
          0.003095830022688054,
          0.005916002119374435,
          0.008174412177134632,
          0.018495077959022384,
          0.039657466793832585,
          0.20172496992319752,
          0.1814843075919349,
          0.35871593964137866,
          1.3976052158823529,
          2.2086024609895647
         ]
        },
        {
         "marker": {
          "color": "#348ABD",
          "line": {
           "color": "#348ABD",
           "width": 0.5
          },
          "size": 10
         },
         "name": "Rook LU",
         "type": "scatter",
         "x": [
          1,
          2,
          3,
          4,
          5,
          6,
          7,
          8,
          9,
          10,
          11,
          12,
          13,
          14,
          15,
          16,
          17,
          18,
          19,
          20,
          21,
          22,
          23,
          24
         ],
         "y": [
          0.45277500938396564,
          0.2581744676006007,
          0.03204652754036559,
          0.0727018792186851,
          0.185843641724233,
          0.015376556122538522,
          0.00800953898231235,
          0.007666269090167589,
          0.0027017614986085525,
          0.0021385391746395936,
          0.0008417833664804607,
          0.00039460580382912644,
          0.000218807381731306,
          9.740783207548541e-05,
          0.00020231759484851678,
          4.021079626089053e-05,
          1.1899522340528868e-05,
          7.464447845779403e-06,
          3.857342682353579e-06,
          5.454775906505635e-06,
          9.809777728193217e-07,
          1.3600696079739031e-06,
          5.342036533923984e-07,
          3.887950881183538e-07
         ]
        },
        {
         "marker": {
          "color": "#988ED5",
          "line": {
           "color": "#348ABD",
           "width": 0.5
          },
          "size": 10
         },
         "name": "Singular Values",
         "type": "scatter",
         "x": [
          1,
          2,
          3,
          4,
          5,
          6,
          7,
          8,
          9,
          10,
          11,
          12,
          13,
          14,
          15,
          16,
          17,
          18,
          19,
          20,
          21,
          22,
          23,
          24
         ],
         "y": [
          1,
          0.5,
          0.25,
          0.125,
          0.0625,
          0.03125,
          0.015625,
          0.0078125,
          0.00390625,
          0.001953125,
          0.0009765625,
          0.00048828125,
          0.000244140625,
          0.0001220703125,
          6.103515625e-05,
          3.0517578125e-05,
          1.52587890625e-05,
          7.62939453125e-06,
          3.814697265625e-06,
          1.9073486328125e-06,
          9.5367431640625e-07,
          4.76837158203125e-07,
          2.384185791015625e-07,
          1.1920928955078125e-07
         ]
        }
       ],
       "frames": [],
       "layout": {
        "font": {
         "size": 16
        },
        "height": 350,
        "margin": {
         "b": 50,
         "l": 70,
         "r": 50,
         "t": 60
        },
        "titlefont": {
         "size": 18
        },
        "width": 550,
        "xaxis": {
         "gridcolor": "#E5E5E5",
         "linecolor": "black",
         "linewidth": 1,
         "mirror": true,
         "showgrid": true,
         "ticks": "inside",
         "title": "Diagonal entry",
         "titlefont": {
          "color": "#555555",
          "size": 18
         },
         "zeroline": false
        },
        "yaxis": {
         "gridcolor": "#E5E5E5",
         "linecolor": "black",
         "linewidth": 1,
         "mirror": true,
         "showgrid": true,
         "ticks": "inside",
         "title": "Magnitude",
         "titlefont": {
          "color": "#555555",
          "size": 18
         },
         "type": "log",
         "zeroline": false
        }
       }
      },
      "application/vnd.webio.node+json": {
       "children": [
        {
         "children": [],
         "instanceArgs": {
          "namespace": "html",
          "tag": "div"
         },
         "nodeType": "DOM",
         "props": {
          "id": "plot-43388a8a-a4db-40b2-96db-3772155be5a7"
         },
         "type": "node"
        }
       ],
       "instanceArgs": {
        "handlers": {
         "__get_gd_contents": [
          "(function (prop){prop==\"data\" ? (WebIO.setval({\"name\":\"__gd_contents\",\"scope\":\"3726329580475062300\",\"id\":\"4182443592744976162\",\"type\":\"observable\"},this.plotElem.data)) : undefined; return prop==\"layout\" ? (WebIO.setval({\"name\":\"__gd_contents\",\"scope\":\"3726329580475062300\",\"id\":\"4182443592744976162\",\"type\":\"observable\"},this.plotElem.layout)) : undefined})"
         ],
         "_commands": [
          "(function (args){var fn=args.shift(); var elem=this.plotElem; var Plotly=this.Plotly; args.unshift(elem); return Plotly[fn].apply(this,args)})"
         ],
         "_downloadImage": [
          "(function (options){return this.Plotly.downloadImage(this.plotElem,options)})"
         ],
         "_toImage": [
          "(function (options){return this.Plotly.toImage(this.plotElem,options).then((function (data){return WebIO.setval({\"name\":\"image\",\"scope\":\"3726329580475062300\",\"id\":\"8163795294927812348\",\"type\":\"observable\"},data)}))})"
         ]
        },
        "id": "3726329580475062300",
        "imports": {
         "data": [
          {
           "name": "Plotly",
           "type": "js",
           "url": "/assetserver/57533c5d787f8bc76a9e58ed0a1abce5f1b0c14d-plotly-latest.min.js"
          },
          {
           "name": null,
           "type": "js",
           "url": "/assetserver/58a7932c57029f7dbaa4105104076ff149fc7585-plotly_webio.bundle.js"
          }
         ],
         "type": "async_block"
        },
        "mount_callbacks": [
         "function () {\n    var handler = ((function (Plotly,PlotlyWebIO){PlotlyWebIO.init(WebIO); var gd=this.dom.querySelector(\"#plot-43388a8a-a4db-40b2-96db-3772155be5a7\"); this.plotElem=gd; this.Plotly=Plotly; (window.Blink!==undefined) ? (gd.style.width=\"100%\", gd.style.height=\"100vh\", gd.style.marginLeft=\"0%\", gd.style.marginTop=\"0vh\") : undefined; window.onresize=(function (){return Plotly.Plots.resize(gd)}); Plotly.newPlot(gd,[{\"marker\":{\"color\":\"#E24A33\",\"line\":{\"color\":\"#348ABD\",\"width\":0.5},\"size\":10},\"y\":[3.847213625553232e-8,1.0230878781146078e-7,2.614416987526875e-7,5.123081167872418e-7,1.0190183794540069e-6,3.6784321520081014e-6,5.895962932366117e-6,1.1854391266486218e-5,2.4969498054938672e-5,8.701965753294304e-5,7.948206748075611e-5,0.0002429723970812809,0.00029787545266056026,0.0010717525557127384,0.003095830022688054,0.005916002119374435,0.008174412177134632,0.018495077959022384,0.039657466793832585,0.20172496992319752,0.1814843075919349,0.35871593964137866,1.3976052158823529,2.2086024609895647],\"type\":\"scatter\",\"name\":\"Pivoted LU\",\"x\":[1,2,3,4,5,6,7,8,9,10,11,12,13,14,15,16,17,18,19,20,21,22,23,24]},{\"marker\":{\"color\":\"#348ABD\",\"line\":{\"color\":\"#348ABD\",\"width\":0.5},\"size\":10},\"y\":[0.45277500938396564,0.2581744676006007,0.03204652754036559,0.0727018792186851,0.185843641724233,0.015376556122538522,0.00800953898231235,0.007666269090167589,0.0027017614986085525,0.0021385391746395936,0.0008417833664804607,0.00039460580382912644,0.000218807381731306,9.740783207548541e-5,0.00020231759484851678,4.021079626089053e-5,1.1899522340528868e-5,7.464447845779403e-6,3.857342682353579e-6,5.454775906505635e-6,9.809777728193217e-7,1.3600696079739031e-6,5.342036533923984e-7,3.887950881183538e-7],\"type\":\"scatter\",\"name\":\"Rook LU\",\"x\":[1,2,3,4,5,6,7,8,9,10,11,12,13,14,15,16,17,18,19,20,21,22,23,24]},{\"marker\":{\"color\":\"#988ED5\",\"line\":{\"color\":\"#348ABD\",\"width\":0.5},\"size\":10},\"y\":[1.0,0.5,0.25,0.125,0.0625,0.03125,0.015625,0.0078125,0.00390625,0.001953125,0.0009765625,0.00048828125,0.000244140625,0.0001220703125,6.103515625e-5,3.0517578125e-5,1.52587890625e-5,7.62939453125e-6,3.814697265625e-6,1.9073486328125e-6,9.5367431640625e-7,4.76837158203125e-7,2.384185791015625e-7,1.1920928955078125e-7],\"type\":\"scatter\",\"name\":\"Singular Values\",\"x\":[1,2,3,4,5,6,7,8,9,10,11,12,13,14,15,16,17,18,19,20,21,22,23,24]}],{\"xaxis\":{\"showgrid\":true,\"gridcolor\":\"#E5E5E5\",\"titlefont\":{\"color\":\"#555555\",\"size\":18},\"zeroline\":false,\"ticks\":\"inside\",\"title\":\"Diagonal entry\",\"linewidth\":1.0,\"mirror\":true,\"linecolor\":\"black\"},\"titlefont\":{\"size\":18},\"font\":{\"size\":16},\"height\":350,\"margin\":{\"l\":70,\"b\":50,\"r\":50,\"t\":60},\"yaxis\":{\"showgrid\":true,\"gridcolor\":\"#E5E5E5\",\"titlefont\":{\"color\":\"#555555\",\"size\":18},\"zeroline\":false,\"type\":\"log\",\"ticks\":\"inside\",\"title\":\"Magnitude\",\"linewidth\":1.0,\"mirror\":true,\"linecolor\":\"black\"},\"width\":550},{}); gd.on(\"plotly_hover\",(function (data){var filtered_data=WebIO.PlotlyCommands.filterEventData(gd,data,\"hover\"); return !(filtered_data.isnil) ? (WebIO.setval({\"name\":\"hover\",\"scope\":\"3726329580475062300\",\"id\":\"15729289525746677857\",\"type\":\"observable\"},filtered_data.out)) : undefined})); gd.on(\"plotly_unhover\",(function (){return WebIO.setval({\"name\":\"hover\",\"scope\":\"3726329580475062300\",\"id\":\"15729289525746677857\",\"type\":\"observable\"},{})})); gd.on(\"plotly_selected\",(function (data){var filtered_data=WebIO.PlotlyCommands.filterEventData(gd,data,\"selected\"); return !(filtered_data.isnil) ? (WebIO.setval({\"name\":\"selected\",\"scope\":\"3726329580475062300\",\"id\":\"14575605163543873772\",\"type\":\"observable\"},filtered_data.out)) : undefined})); gd.on(\"plotly_deselect\",(function (){return WebIO.setval({\"name\":\"selected\",\"scope\":\"3726329580475062300\",\"id\":\"14575605163543873772\",\"type\":\"observable\"},{})})); gd.on(\"plotly_relayout\",(function (data){var filtered_data=WebIO.PlotlyCommands.filterEventData(gd,data,\"relayout\"); return !(filtered_data.isnil) ? (WebIO.setval({\"name\":\"relayout\",\"scope\":\"3726329580475062300\",\"id\":\"2229811058744735335\",\"type\":\"observable\"},filtered_data.out)) : undefined})); return gd.on(\"plotly_click\",(function (data){var filtered_data=WebIO.PlotlyCommands.filterEventData(gd,data,\"click\"); return !(filtered_data.isnil) ? (WebIO.setval({\"name\":\"click\",\"scope\":\"3726329580475062300\",\"id\":\"4208167803311669679\",\"type\":\"observable\"},filtered_data.out)) : undefined}))}));\n    (WebIO.importBlock({\"data\":[{\"name\":\"Plotly\",\"type\":\"js\",\"url\":\"/assetserver/57533c5d787f8bc76a9e58ed0a1abce5f1b0c14d-plotly-latest.min.js\"},{\"name\":null,\"type\":\"js\",\"url\":\"/assetserver/58a7932c57029f7dbaa4105104076ff149fc7585-plotly_webio.bundle.js\"}],\"type\":\"async_block\"})).then((imports) => handler.apply(this, imports));\n}\n"
        ],
        "observables": {
         "__gd_contents": {
          "id": "4182443592744976162",
          "sync": false,
          "value": {}
         },
         "__get_gd_contents": {
          "id": "4429155001197546106",
          "sync": false,
          "value": ""
         },
         "_commands": {
          "id": "1036891955522294758",
          "sync": false,
          "value": []
         },
         "_downloadImage": {
          "id": "8006653503182334955",
          "sync": false,
          "value": {}
         },
         "_toImage": {
          "id": "6913893183382121578",
          "sync": false,
          "value": {}
         },
         "click": {
          "id": "4208167803311669679",
          "sync": false,
          "value": {}
         },
         "hover": {
          "id": "15729289525746677857",
          "sync": false,
          "value": {}
         },
         "image": {
          "id": "8163795294927812348",
          "sync": true,
          "value": ""
         },
         "relayout": {
          "id": "2229811058744735335",
          "sync": false,
          "value": {}
         },
         "selected": {
          "id": "14575605163543873772",
          "sync": false,
          "value": {}
         }
        },
        "systemjs_options": null
       },
       "nodeType": "Scope",
       "props": {},
       "type": "node"
      },
      "image/png": "[encoded data removed]",
      "image/svg+xml": [
       "<svg class=\"main-svg\" xmlns=\"http://www.w3.org/2000/svg\" xmlns:xlink=\"http://www.w3.org/1999/xlink\" width=\"700\" height=\"500\" style=\"\" viewBox=\"0 0 700 500\"><rect x=\"0\" y=\"0\" width=\"700\" height=\"500\" style=\"fill: rgb(255, 255, 255); fill-opacity: 1;\"/><defs id=\"defs-c07e04\"><g class=\"clips\"><clipPath id=\"clipc07e04xyplot\" class=\"plotclip\"><rect width=\"450\" height=\"390\"/></clipPath><clipPath class=\"axesclip\" id=\"clipc07e04x\"><rect x=\"70\" y=\"0\" width=\"450\" height=\"500\"/></clipPath><clipPath class=\"axesclip\" id=\"clipc07e04y\"><rect x=\"0\" y=\"60\" width=\"700\" height=\"390\"/></clipPath><clipPath class=\"axesclip\" id=\"clipc07e04xy\"><rect x=\"70\" y=\"60\" width=\"450\" height=\"390\"/></clipPath></g><g class=\"gradients\"/></defs><g class=\"bglayer\"/><g class=\"layer-below\"><g class=\"imagelayer\"/><g class=\"shapelayer\"/></g><g class=\"cartesianlayer\"><g class=\"subplot xy\"><g class=\"layer-subplot\"><g class=\"shapelayer\"/><g class=\"imagelayer\"/></g><g class=\"gridlayer\"><g class=\"x\"><path class=\"xgrid crisp\" transform=\"translate(148.26,0)\" d=\"M0,60v390\" style=\"stroke: rgb(229, 229, 229); stroke-opacity: 1; stroke-width: 1px;\"/><path class=\"xgrid crisp\" transform=\"translate(246.09,0)\" d=\"M0,60v390\" style=\"stroke: rgb(229, 229, 229); stroke-opacity: 1; stroke-width: 1px;\"/><path class=\"xgrid crisp\" transform=\"translate(343.91,0)\" d=\"M0,60v390\" style=\"stroke: rgb(229, 229, 229); stroke-opacity: 1; stroke-width: 1px;\"/><path class=\"xgrid crisp\" transform=\"translate(441.74,0)\" d=\"M0,60v390\" style=\"stroke: rgb(229, 229, 229); stroke-opacity: 1; stroke-width: 1px;\"/></g><g class=\"y\"><path class=\"ygrid crisp\" transform=\"translate(0,411.73)\" d=\"M70,0h450\" style=\"stroke: rgb(229, 229, 229); stroke-opacity: 1; stroke-width: 1px;\"/><path class=\"ygrid crisp\" transform=\"translate(0,366.49)\" d=\"M70,0h450\" style=\"stroke: rgb(229, 229, 229); stroke-opacity: 1; stroke-width: 1px;\"/><path class=\"ygrid crisp\" transform=\"translate(0,321.26)\" d=\"M70,0h450\" style=\"stroke: rgb(229, 229, 229); stroke-opacity: 1; stroke-width: 1px;\"/><path class=\"ygrid crisp\" transform=\"translate(0,276.02)\" d=\"M70,0h450\" style=\"stroke: rgb(229, 229, 229); stroke-opacity: 1; stroke-width: 1px;\"/><path class=\"ygrid crisp\" transform=\"translate(0,230.78)\" d=\"M70,0h450\" style=\"stroke: rgb(229, 229, 229); stroke-opacity: 1; stroke-width: 1px;\"/><path class=\"ygrid crisp\" transform=\"translate(0,185.54000000000002)\" d=\"M70,0h450\" style=\"stroke: rgb(229, 229, 229); stroke-opacity: 1; stroke-width: 1px;\"/><path class=\"ygrid crisp\" transform=\"translate(0,140.31)\" d=\"M70,0h450\" style=\"stroke: rgb(229, 229, 229); stroke-opacity: 1; stroke-width: 1px;\"/><path class=\"ygrid crisp\" transform=\"translate(0,95.07)\" d=\"M70,0h450\" style=\"stroke: rgb(229, 229, 229); stroke-opacity: 1; stroke-width: 1px;\"/></g></g><g class=\"zerolinelayer\"/><path class=\"xlines-below\"/><path class=\"ylines-below\"/><g class=\"overlines-below\"/><g class=\"xaxislayer-below\"/><g class=\"yaxislayer-below\"/><g class=\"overaxes-below\"/><g class=\"plot\" transform=\"translate(70,60)\" clip-path=\"url('#clipc07e04xyplot')\"><g class=\"scatterlayer mlayer\"><g class=\"trace scatter tracea9f2bf\" style=\"stroke-miterlimit: 2; opacity: 1;\"><g class=\"fills\"/><g class=\"errorbars\"/><g class=\"lines\"><path class=\"js-line\" d=\"M0,370.5L39.13,332.85L58.7,319.64L78.26,306.12L97.83,280.91L117.39,271.64L136.96,257.91L156.52,243.28L176.09,218.75L195.65,220.53L215.22,198.58L234.78,194.57L254.35,169.42L273.91,148.58L293.48,135.86L313.04,129.5L332.61,113.46L352.17,98.48L371.74,66.52L391.3,68.6L410.87,55.21L430.43,28.49L450,19.5\" style=\"vector-effect: non-scaling-stroke; fill: none; stroke: rgb(226, 74, 51); stroke-opacity: 1; stroke-width: 2px; opacity: 1;\"/></g><g class=\"points\"/><g class=\"text\"/></g><g class=\"trace scatter trace291032\" style=\"stroke-miterlimit: 2; opacity: 1;\"><g class=\"fills\"/><g class=\"errorbars\"/><g class=\"lines\"><path class=\"js-line\" d=\"M0,50.63L19.57,61.67L39.13,102.66L58.7,86.57L78.26,68.13L97.83,117.09L117.39,129.9L136.96,130.76L156.52,151.25L176.09,155.85L195.65,174.16L215.22,189.05L234.78,200.64L254.35,216.53L273.91,202.17L293.48,233.92L313.04,257.84L332.61,267L352.17,279.97L371.74,273.16L391.3,306.87L410.87,300.45L430.43,318.81L450,325.06\" style=\"vector-effect: non-scaling-stroke; fill: none; stroke: rgb(52, 138, 189); stroke-opacity: 1; stroke-width: 2px; opacity: 1;\"/></g><g class=\"points\"/><g class=\"text\"/></g><g class=\"trace scatter tracef310dd\" style=\"stroke-miterlimit: 2; opacity: 1;\"><g class=\"fills\"/><g class=\"errorbars\"/><g class=\"lines\"><path class=\"js-line\" d=\"M0,35.07L450,348.28\" style=\"vector-effect: non-scaling-stroke; fill: none; stroke: rgb(152, 142, 213); stroke-opacity: 1; stroke-width: 2px; opacity: 1;\"/></g><g class=\"points\"/><g class=\"text\"/></g></g></g><g class=\"overplot\"/><path class=\"xlines-above crisp\" d=\"M69,450.5H521M69,59.5H521\" style=\"fill: none; stroke-width: 1px; stroke: rgb(0, 0, 0); stroke-opacity: 1;\"/><path class=\"ylines-above crisp\" d=\"M69.5,60V450M520.5,60V450\" style=\"fill: none; stroke-width: 1px; stroke: rgb(0, 0, 0); stroke-opacity: 1;\"/><g class=\"overlines-above\"/><g class=\"xaxislayer-above\"><path class=\"xtick ticks crisp\" d=\"M0,450v-5\" transform=\"translate(148.26,0)\" style=\"stroke: rgb(68, 68, 68); stroke-opacity: 1; stroke-width: 1px;\"/><path class=\"xtick ticks crisp\" d=\"M0,450v-5\" transform=\"translate(246.09,0)\" style=\"stroke: rgb(68, 68, 68); stroke-opacity: 1; stroke-width: 1px;\"/><path class=\"xtick ticks crisp\" d=\"M0,450v-5\" transform=\"translate(343.91,0)\" style=\"stroke: rgb(68, 68, 68); stroke-opacity: 1; stroke-width: 1px;\"/><path class=\"xtick ticks crisp\" d=\"M0,450v-5\" transform=\"translate(441.74,0)\" style=\"stroke: rgb(68, 68, 68); stroke-opacity: 1; stroke-width: 1px;\"/><g class=\"xtick\"><text text-anchor=\"middle\" x=\"0\" y=\"470.2\" transform=\"translate(148.26,0)\" style=\"font-family: 'Open Sans', verdana, arial, sans-serif; font-size: 16px; fill: rgb(68, 68, 68); fill-opacity: 1; white-space: pre;\">5</text></g><g class=\"xtick\"><text text-anchor=\"middle\" x=\"0\" y=\"470.2\" transform=\"translate(246.09,0)\" style=\"font-family: 'Open Sans', verdana, arial, sans-serif; font-size: 16px; fill: rgb(68, 68, 68); fill-opacity: 1; white-space: pre;\">10</text></g><g class=\"xtick\"><text text-anchor=\"middle\" x=\"0\" y=\"470.2\" transform=\"translate(343.91,0)\" style=\"font-family: 'Open Sans', verdana, arial, sans-serif; font-size: 16px; fill: rgb(68, 68, 68); fill-opacity: 1; white-space: pre;\">15</text></g><g class=\"xtick\"><text text-anchor=\"middle\" x=\"0\" y=\"470.2\" transform=\"translate(441.74,0)\" style=\"font-family: 'Open Sans', verdana, arial, sans-serif; font-size: 16px; fill: rgb(68, 68, 68); fill-opacity: 1; white-space: pre;\">20</text></g></g><g class=\"yaxislayer-above\"><path class=\"ytick ticks crisp\" d=\"M70,0h5\" transform=\"translate(0,411.73)\" style=\"stroke: rgb(68, 68, 68); stroke-opacity: 1; stroke-width: 1px;\"/><path class=\"ytick ticks crisp\" d=\"M70,0h5\" transform=\"translate(0,366.49)\" style=\"stroke: rgb(68, 68, 68); stroke-opacity: 1; stroke-width: 1px;\"/><path class=\"ytick ticks crisp\" d=\"M70,0h5\" transform=\"translate(0,321.26)\" style=\"stroke: rgb(68, 68, 68); stroke-opacity: 1; stroke-width: 1px;\"/><path class=\"ytick ticks crisp\" d=\"M70,0h5\" transform=\"translate(0,276.02)\" style=\"stroke: rgb(68, 68, 68); stroke-opacity: 1; stroke-width: 1px;\"/><path class=\"ytick ticks crisp\" d=\"M70,0h5\" transform=\"translate(0,230.78)\" style=\"stroke: rgb(68, 68, 68); stroke-opacity: 1; stroke-width: 1px;\"/><path class=\"ytick ticks crisp\" d=\"M70,0h5\" transform=\"translate(0,185.54000000000002)\" style=\"stroke: rgb(68, 68, 68); stroke-opacity: 1; stroke-width: 1px;\"/><path class=\"ytick ticks crisp\" d=\"M70,0h5\" transform=\"translate(0,140.31)\" style=\"stroke: rgb(68, 68, 68); stroke-opacity: 1; stroke-width: 1px;\"/><path class=\"ytick ticks crisp\" d=\"M70,0h5\" transform=\"translate(0,95.07)\" style=\"stroke: rgb(68, 68, 68); stroke-opacity: 1; stroke-width: 1px;\"/><g class=\"ytick\"><text text-anchor=\"end\" x=\"65.8\" y=\"5.6\" transform=\"translate(0,411.73)\" style=\"font-family: 'Open Sans', verdana, arial, sans-serif; font-size: 16px; fill: rgb(68, 68, 68); fill-opacity: 1; white-space: pre;\">100n</text></g><g class=\"ytick\"><text text-anchor=\"end\" x=\"65.8\" y=\"5.6\" transform=\"translate(0,366.49)\" style=\"font-family: 'Open Sans', verdana, arial, sans-serif; font-size: 16px; fill: rgb(68, 68, 68); fill-opacity: 1; white-space: pre;\">1μ</text></g><g class=\"ytick\"><text text-anchor=\"end\" x=\"65.8\" y=\"5.6\" transform=\"translate(0,321.26)\" style=\"font-family: 'Open Sans', verdana, arial, sans-serif; font-size: 16px; fill: rgb(68, 68, 68); fill-opacity: 1; white-space: pre;\">10μ</text></g><g class=\"ytick\"><text text-anchor=\"end\" x=\"65.8\" y=\"5.6\" transform=\"translate(0,276.02)\" style=\"font-family: 'Open Sans', verdana, arial, sans-serif; font-size: 16px; fill: rgb(68, 68, 68); fill-opacity: 1; white-space: pre;\">100μ</text></g><g class=\"ytick\"><text text-anchor=\"end\" x=\"65.8\" y=\"5.6\" transform=\"translate(0,230.78)\" style=\"font-family: 'Open Sans', verdana, arial, sans-serif; font-size: 16px; fill: rgb(68, 68, 68); fill-opacity: 1; white-space: pre;\">0.001</text></g><g class=\"ytick\"><text text-anchor=\"end\" x=\"65.8\" y=\"5.6\" transform=\"translate(0,185.54000000000002)\" style=\"font-family: 'Open Sans', verdana, arial, sans-serif; font-size: 16px; fill: rgb(68, 68, 68); fill-opacity: 1; white-space: pre;\">0.01</text></g><g class=\"ytick\"><text text-anchor=\"end\" x=\"65.8\" y=\"5.6\" transform=\"translate(0,140.31)\" style=\"font-family: 'Open Sans', verdana, arial, sans-serif; font-size: 16px; fill: rgb(68, 68, 68); fill-opacity: 1; white-space: pre;\">0.1</text></g><g class=\"ytick\"><text text-anchor=\"end\" x=\"65.8\" y=\"5.6\" transform=\"translate(0,95.07)\" style=\"font-family: 'Open Sans', verdana, arial, sans-serif; font-size: 16px; fill: rgb(68, 68, 68); fill-opacity: 1; white-space: pre;\">1</text></g></g><g class=\"overaxes-above\"/></g></g><g class=\"polarlayer\"/><g class=\"ternarylayer\"/><g class=\"geolayer\"/><g class=\"funnelarealayer\"/><g class=\"pielayer\"/><g class=\"treemaplayer\"/><g class=\"sunburstlayer\"/><g class=\"glimages\"/><defs id=\"topdefs-c07e04\"><g class=\"clips\"/><clipPath id=\"legendc07e04\"><rect width=\"159\" height=\"82\" x=\"0\" y=\"0\"/></clipPath></defs><g class=\"layer-above\"><g class=\"imagelayer\"/><g class=\"shapelayer\"/></g><g class=\"infolayer\"><g class=\"legend\" pointer-events=\"all\" transform=\"translate(529,60)\"><rect class=\"bg\" shape-rendering=\"crispEdges\" style=\"stroke: rgb(68, 68, 68); stroke-opacity: 1; fill: rgb(255, 255, 255); fill-opacity: 1; stroke-width: 0px;\" width=\"159\" height=\"82\" x=\"0\" y=\"0\"/><g class=\"scrollbox\" transform=\"\" clip-path=\"url('#legendc07e04')\"><g class=\"groups\"><g class=\"traces\" transform=\"translate(0,16.9)\" style=\"opacity: 1;\"><text class=\"legendtext\" text-anchor=\"start\" x=\"40\" y=\"6.24\" style=\"font-family: 'Open Sans', verdana, arial, sans-serif; font-size: 16px; fill: rgb(68, 68, 68); fill-opacity: 1; white-space: pre;\">Pivoted LU</text><g class=\"layers\" style=\"opacity: 1;\"><g class=\"legendfill\"/><g class=\"legendlines\"><path class=\"js-line\" d=\"M5,0h30\" style=\"fill: none; stroke: rgb(226, 74, 51); stroke-opacity: 1; stroke-width: 2px;\"/></g><g class=\"legendsymbols\"><g class=\"legendpoints\"/></g></g><rect class=\"legendtoggle\" x=\"0\" y=\"-11.9\" width=\"153.765625\" height=\"23.8\" style=\"fill: rgb(0, 0, 0); fill-opacity: 0;\"/></g><g class=\"traces\" transform=\"translate(0,40.7)\" style=\"opacity: 1;\"><text class=\"legendtext\" text-anchor=\"start\" x=\"40\" y=\"6.24\" style=\"font-family: 'Open Sans', verdana, arial, sans-serif; font-size: 16px; fill: rgb(68, 68, 68); fill-opacity: 1; white-space: pre;\">Rook LU</text><g class=\"layers\" style=\"opacity: 1;\"><g class=\"legendfill\"/><g class=\"legendlines\"><path class=\"js-line\" d=\"M5,0h30\" style=\"fill: none; stroke: rgb(52, 138, 189); stroke-opacity: 1; stroke-width: 2px;\"/></g><g class=\"legendsymbols\"><g class=\"legendpoints\"/></g></g><rect class=\"legendtoggle\" x=\"0\" y=\"-11.9\" width=\"153.765625\" height=\"23.8\" style=\"fill: rgb(0, 0, 0); fill-opacity: 0;\"/></g><g class=\"traces\" transform=\"translate(0,64.5)\" style=\"opacity: 1;\"><text class=\"legendtext\" text-anchor=\"start\" x=\"40\" y=\"6.24\" style=\"font-family: 'Open Sans', verdana, arial, sans-serif; font-size: 16px; fill: rgb(68, 68, 68); fill-opacity: 1; white-space: pre;\">Singular Values</text><g class=\"layers\" style=\"opacity: 1;\"><g class=\"legendfill\"/><g class=\"legendlines\"><path class=\"js-line\" d=\"M5,0h30\" style=\"fill: none; stroke: rgb(152, 142, 213); stroke-opacity: 1; stroke-width: 2px;\"/></g><g class=\"legendsymbols\"><g class=\"legendpoints\"/></g></g><rect class=\"legendtoggle\" x=\"0\" y=\"-11.9\" width=\"153.765625\" height=\"23.8\" style=\"fill: rgb(0, 0, 0); fill-opacity: 0;\"/></g></g></g><rect class=\"scrollbar\" rx=\"20\" ry=\"3\" width=\"0\" height=\"0\" style=\"fill: rgb(128, 139, 164); fill-opacity: 1;\" x=\"0\" y=\"0\"/></g><g class=\"g-gtitle\"/><g class=\"g-xtitle\" transform=\"translate(0,-19.5)\"><text class=\"xtitle\" x=\"295\" y=\"514\" text-anchor=\"middle\" style=\"font-family: 'Open Sans', verdana, arial, sans-serif; font-size: 18px; fill: rgb(85, 85, 85); opacity: 1; font-weight: normal; white-space: pre;\">Diagonal entry</text></g><g class=\"g-ytitle\" transform=\"translate(-5,0)\"><text class=\"ytitle\" transform=\"rotate(-90,24,255)\" x=\"24\" y=\"255\" text-anchor=\"middle\" style=\"font-family: 'Open Sans', verdana, arial, sans-serif; font-size: 18px; fill: rgb(85, 85, 85); opacity: 1; font-weight: normal; white-space: pre;\">Magnitude</text></g></g></svg>"
      ],
      "text/html": [
       "<div\n",
       "    class=\"webio-mountpoint\"\n",
       "    data-webio-mountpoint=\"10870343088712967591\"\n",
       ">\n",
       "    <script>\n",
       "    if (window.require && require.defined && require.defined(\"nbextensions/webio-jupyter-notebook\")) {\n",
       "        console.log(\"Jupyter WebIO extension detected, not mounting.\");\n",
       "    } else if (window.WebIO) {\n",
       "        WebIO.mount(\n",
       "            document.querySelector('[data-webio-mountpoint=\"10870343088712967591\"]'),\n",
       "            {\"props\":{},\"nodeType\":\"Scope\",\"type\":\"node\",\"instanceArgs\":{\"imports\":{\"data\":[{\"name\":\"Plotly\",\"type\":\"js\",\"url\":\"\\/assetserver\\/57533c5d787f8bc76a9e58ed0a1abce5f1b0c14d-plotly-latest.min.js\"},{\"name\":null,\"type\":\"js\",\"url\":\"\\/assetserver\\/58a7932c57029f7dbaa4105104076ff149fc7585-plotly_webio.bundle.js\"}],\"type\":\"async_block\"},\"id\":\"3726329580475062300\",\"handlers\":{\"_toImage\":[\"(function (options){return this.Plotly.toImage(this.plotElem,options).then((function (data){return WebIO.setval({\\\"name\\\":\\\"image\\\",\\\"scope\\\":\\\"3726329580475062300\\\",\\\"id\\\":\\\"8163795294927812348\\\",\\\"type\\\":\\\"observable\\\"},data)}))})\"],\"__get_gd_contents\":[\"(function (prop){prop==\\\"data\\\" ? (WebIO.setval({\\\"name\\\":\\\"__gd_contents\\\",\\\"scope\\\":\\\"3726329580475062300\\\",\\\"id\\\":\\\"4182443592744976162\\\",\\\"type\\\":\\\"observable\\\"},this.plotElem.data)) : undefined; return prop==\\\"layout\\\" ? (WebIO.setval({\\\"name\\\":\\\"__gd_contents\\\",\\\"scope\\\":\\\"3726329580475062300\\\",\\\"id\\\":\\\"4182443592744976162\\\",\\\"type\\\":\\\"observable\\\"},this.plotElem.layout)) : undefined})\"],\"_downloadImage\":[\"(function (options){return this.Plotly.downloadImage(this.plotElem,options)})\"],\"_commands\":[\"(function (args){var fn=args.shift(); var elem=this.plotElem; var Plotly=this.Plotly; args.unshift(elem); return Plotly[fn].apply(this,args)})\"]},\"systemjs_options\":null,\"mount_callbacks\":[\"function () {\\n    var handler = ((function (Plotly,PlotlyWebIO){PlotlyWebIO.init(WebIO); var gd=this.dom.querySelector(\\\"#plot-43388a8a-a4db-40b2-96db-3772155be5a7\\\"); this.plotElem=gd; this.Plotly=Plotly; (window.Blink!==undefined) ? (gd.style.width=\\\"100%\\\", gd.style.height=\\\"100vh\\\", gd.style.marginLeft=\\\"0%\\\", gd.style.marginTop=\\\"0vh\\\") : undefined; window.onresize=(function (){return Plotly.Plots.resize(gd)}); Plotly.newPlot(gd,[{\\\"marker\\\":{\\\"color\\\":\\\"#E24A33\\\",\\\"line\\\":{\\\"color\\\":\\\"#348ABD\\\",\\\"width\\\":0.5},\\\"size\\\":10},\\\"y\\\":[3.847213625553232e-8,1.0230878781146078e-7,2.614416987526875e-7,5.123081167872418e-7,1.0190183794540069e-6,3.6784321520081014e-6,5.895962932366117e-6,1.1854391266486218e-5,2.4969498054938672e-5,8.701965753294304e-5,7.948206748075611e-5,0.0002429723970812809,0.00029787545266056026,0.0010717525557127384,0.003095830022688054,0.005916002119374435,0.008174412177134632,0.018495077959022384,0.039657466793832585,0.20172496992319752,0.1814843075919349,0.35871593964137866,1.3976052158823529,2.2086024609895647],\\\"type\\\":\\\"scatter\\\",\\\"name\\\":\\\"Pivoted LU\\\",\\\"x\\\":[1,2,3,4,5,6,7,8,9,10,11,12,13,14,15,16,17,18,19,20,21,22,23,24]},{\\\"marker\\\":{\\\"color\\\":\\\"#348ABD\\\",\\\"line\\\":{\\\"color\\\":\\\"#348ABD\\\",\\\"width\\\":0.5},\\\"size\\\":10},\\\"y\\\":[0.45277500938396564,0.2581744676006007,0.03204652754036559,0.0727018792186851,0.185843641724233,0.015376556122538522,0.00800953898231235,0.007666269090167589,0.0027017614986085525,0.0021385391746395936,0.0008417833664804607,0.00039460580382912644,0.000218807381731306,9.740783207548541e-5,0.00020231759484851678,4.021079626089053e-5,1.1899522340528868e-5,7.464447845779403e-6,3.857342682353579e-6,5.454775906505635e-6,9.809777728193217e-7,1.3600696079739031e-6,5.342036533923984e-7,3.887950881183538e-7],\\\"type\\\":\\\"scatter\\\",\\\"name\\\":\\\"Rook LU\\\",\\\"x\\\":[1,2,3,4,5,6,7,8,9,10,11,12,13,14,15,16,17,18,19,20,21,22,23,24]},{\\\"marker\\\":{\\\"color\\\":\\\"#988ED5\\\",\\\"line\\\":{\\\"color\\\":\\\"#348ABD\\\",\\\"width\\\":0.5},\\\"size\\\":10},\\\"y\\\":[1.0,0.5,0.25,0.125,0.0625,0.03125,0.015625,0.0078125,0.00390625,0.001953125,0.0009765625,0.00048828125,0.000244140625,0.0001220703125,6.103515625e-5,3.0517578125e-5,1.52587890625e-5,7.62939453125e-6,3.814697265625e-6,1.9073486328125e-6,9.5367431640625e-7,4.76837158203125e-7,2.384185791015625e-7,1.1920928955078125e-7],\\\"type\\\":\\\"scatter\\\",\\\"name\\\":\\\"Singular Values\\\",\\\"x\\\":[1,2,3,4,5,6,7,8,9,10,11,12,13,14,15,16,17,18,19,20,21,22,23,24]}],{\\\"xaxis\\\":{\\\"showgrid\\\":true,\\\"gridcolor\\\":\\\"#E5E5E5\\\",\\\"titlefont\\\":{\\\"color\\\":\\\"#555555\\\",\\\"size\\\":18},\\\"zeroline\\\":false,\\\"ticks\\\":\\\"inside\\\",\\\"title\\\":\\\"Diagonal entry\\\",\\\"linewidth\\\":1.0,\\\"mirror\\\":true,\\\"linecolor\\\":\\\"black\\\"},\\\"titlefont\\\":{\\\"size\\\":18},\\\"font\\\":{\\\"size\\\":16},\\\"height\\\":350,\\\"margin\\\":{\\\"l\\\":70,\\\"b\\\":50,\\\"r\\\":50,\\\"t\\\":60},\\\"yaxis\\\":{\\\"showgrid\\\":true,\\\"gridcolor\\\":\\\"#E5E5E5\\\",\\\"titlefont\\\":{\\\"color\\\":\\\"#555555\\\",\\\"size\\\":18},\\\"zeroline\\\":false,\\\"type\\\":\\\"log\\\",\\\"ticks\\\":\\\"inside\\\",\\\"title\\\":\\\"Magnitude\\\",\\\"linewidth\\\":1.0,\\\"mirror\\\":true,\\\"linecolor\\\":\\\"black\\\"},\\\"width\\\":550},{}); gd.on(\\\"plotly_hover\\\",(function (data){var filtered_data=WebIO.PlotlyCommands.filterEventData(gd,data,\\\"hover\\\"); return !(filtered_data.isnil) ? (WebIO.setval({\\\"name\\\":\\\"hover\\\",\\\"scope\\\":\\\"3726329580475062300\\\",\\\"id\\\":\\\"15729289525746677857\\\",\\\"type\\\":\\\"observable\\\"},filtered_data.out)) : undefined})); gd.on(\\\"plotly_unhover\\\",(function (){return WebIO.setval({\\\"name\\\":\\\"hover\\\",\\\"scope\\\":\\\"3726329580475062300\\\",\\\"id\\\":\\\"15729289525746677857\\\",\\\"type\\\":\\\"observable\\\"},{})})); gd.on(\\\"plotly_selected\\\",(function (data){var filtered_data=WebIO.PlotlyCommands.filterEventData(gd,data,\\\"selected\\\"); return !(filtered_data.isnil) ? (WebIO.setval({\\\"name\\\":\\\"selected\\\",\\\"scope\\\":\\\"3726329580475062300\\\",\\\"id\\\":\\\"14575605163543873772\\\",\\\"type\\\":\\\"observable\\\"},filtered_data.out)) : undefined})); gd.on(\\\"plotly_deselect\\\",(function (){return WebIO.setval({\\\"name\\\":\\\"selected\\\",\\\"scope\\\":\\\"3726329580475062300\\\",\\\"id\\\":\\\"14575605163543873772\\\",\\\"type\\\":\\\"observable\\\"},{})})); gd.on(\\\"plotly_relayout\\\",(function (data){var filtered_data=WebIO.PlotlyCommands.filterEventData(gd,data,\\\"relayout\\\"); return !(filtered_data.isnil) ? (WebIO.setval({\\\"name\\\":\\\"relayout\\\",\\\"scope\\\":\\\"3726329580475062300\\\",\\\"id\\\":\\\"2229811058744735335\\\",\\\"type\\\":\\\"observable\\\"},filtered_data.out)) : undefined})); return gd.on(\\\"plotly_click\\\",(function (data){var filtered_data=WebIO.PlotlyCommands.filterEventData(gd,data,\\\"click\\\"); return !(filtered_data.isnil) ? (WebIO.setval({\\\"name\\\":\\\"click\\\",\\\"scope\\\":\\\"3726329580475062300\\\",\\\"id\\\":\\\"4208167803311669679\\\",\\\"type\\\":\\\"observable\\\"},filtered_data.out)) : undefined}))}));\\n    (WebIO.importBlock({\\\"data\\\":[{\\\"name\\\":\\\"Plotly\\\",\\\"type\\\":\\\"js\\\",\\\"url\\\":\\\"\\/assetserver\\/57533c5d787f8bc76a9e58ed0a1abce5f1b0c14d-plotly-latest.min.js\\\"},{\\\"name\\\":null,\\\"type\\\":\\\"js\\\",\\\"url\\\":\\\"\\/assetserver\\/58a7932c57029f7dbaa4105104076ff149fc7585-plotly_webio.bundle.js\\\"}],\\\"type\\\":\\\"async_block\\\"})).then((imports) => handler.apply(this, imports));\\n}\\n\"],\"observables\":{\"_toImage\":{\"sync\":false,\"id\":\"6913893183382121578\",\"value\":{}},\"hover\":{\"sync\":false,\"id\":\"15729289525746677857\",\"value\":{}},\"selected\":{\"sync\":false,\"id\":\"14575605163543873772\",\"value\":{}},\"__gd_contents\":{\"sync\":false,\"id\":\"4182443592744976162\",\"value\":{}},\"click\":{\"sync\":false,\"id\":\"4208167803311669679\",\"value\":{}},\"image\":{\"sync\":true,\"id\":\"8163795294927812348\",\"value\":\"\"},\"__get_gd_contents\":{\"sync\":false,\"id\":\"4429155001197546106\",\"value\":\"\"},\"_downloadImage\":{\"sync\":false,\"id\":\"8006653503182334955\",\"value\":{}},\"relayout\":{\"sync\":false,\"id\":\"2229811058744735335\",\"value\":{}},\"_commands\":{\"sync\":false,\"id\":\"1036891955522294758\",\"value\":[]}}},\"children\":[{\"props\":{\"id\":\"plot-43388a8a-a4db-40b2-96db-3772155be5a7\"},\"nodeType\":\"DOM\",\"type\":\"node\",\"instanceArgs\":{\"namespace\":\"html\",\"tag\":\"div\"},\"children\":[]}]},\n",
       "            window,\n",
       "        );\n",
       "    } else {\n",
       "        document\n",
       "            .querySelector('[data-webio-mountpoint=\"10870343088712967591\"]')\n",
       "            .innerHTML = (\n",
       "                '<div style=\"padding: 1em; background-color: #f8d6da; border: 1px solid #f5c6cb\">' +\n",
       "                '<p><strong>WebIO not detected.</strong></p>' +\n",
       "                '<p>Please read ' +\n",
       "                '<a href=\"https://juliagizmos.github.io/WebIO.jl/latest/troubleshooting/not-detected/\" target=\"_blank\">the troubleshooting guide</a> ' +\n",
       "                'for more information on how to resolve this issue.</p>' +\n",
       "                '<p><a href=\"https://juliagizmos.github.io/WebIO.jl/latest/troubleshooting/not-detected/\" target=\"_blank\">https://juliagizmos.github.io/WebIO.jl/latest/troubleshooting/not-detected/</a></p>' +\n",
       "                '</div>'\n",
       "            );\n",
       "    }\n",
       "    </script>\n",
       "</div>\n"
      ],
      "text/plain": [
       "data: [\n",
       "  \"scatter with fields marker, name, type, x, and y\",\n",
       "  \"scatter with fields marker, name, type, x, and y\",\n",
       "  \"scatter with fields marker, name, type, x, and y\"\n",
       "]\n",
       "\n",
       "layout: \"layout with fields font, height, margin, titlefont, width, xaxis, and yaxis\"\n",
       "\n"
      ]
     },
     "execution_count": 8,
     "metadata": {
      "application/vnd.webio.node+json": {
       "kernelId": "1d9c10d1-6ae4-4bd5-9d67-b85f6071b032"
      }
     },
     "output_type": "execute_result"
    }
   ],
   "source": [
    "t1 = scatter(x=1:n,y=dA[:,1],name=\"Pivoted LU\")\n",
    "t2 = scatter(x=1:n,y=dA[:,2],name=\"Rook LU\")\n",
    "t3 = scatter(x=1:n,y=dA[:,3],name=\"Singular Values\")\n",
    "l = Layout(yaxis_type=\"log\",xaxis_title=\"Diagonal entry\",yaxis_title=\"Magnitude\",\n",
    "    height=350,width=550,margin=attr(l=70))\n",
    "p = plot([t1, t2, t3],l)"
   ]
  },
  {
   "cell_type": "code",
   "execution_count": 9,
   "metadata": {},
   "outputs": [],
   "source": [
    "if output\n",
    "    plotToPDF(p,\"fig_rook_pivoting\")\n",
    "end"
   ]
  }
 ],
 "metadata": {
  "@webio": {
   "lastCommId": "231f7aea3aa642fbab2c46c0077fe755",
   "lastKernelId": "1d9c10d1-6ae4-4bd5-9d67-b85f6071b032"
  },
  "anaconda-cloud": {},
  "kernelspec": {
   "display_name": "Julia 1.5.1",
   "language": "julia",
   "name": "julia-1.5"
  },
  "language_info": {
   "file_extension": ".jl",
   "mimetype": "application/julia",
   "name": "julia",
   "version": "1.5.1"
  }
 },
 "nbformat": 4,
 "nbformat_minor": 4
}
