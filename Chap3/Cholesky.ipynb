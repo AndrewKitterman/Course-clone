{
 "cells": [
  {
   "cell_type": "code",
   "execution_count": 1,
   "metadata": {},
   "outputs": [],
   "source": [
    "using LinearAlgebra\n",
    "using Random\n",
    "rng = MersenneTwister()\n",
    "Random.seed!(rng, 2018)\n",
    ";"
   ]
  },
  {
   "cell_type": "code",
   "execution_count": 2,
   "metadata": {},
   "outputs": [],
   "source": [
    "# Size of the matrix\n",
    "n = 512;\n",
    "\n",
    "# Random initialization of matrix A\n",
    "G = zeros(Float64,n,n)\n",
    "for i=1:n\n",
    "    G[i,i] = rand(rng, 1:2)\n",
    "    G[i+1:n,i] = rand(rng, -2:2, n-i)\n",
    "end\n",
    "A = G * transpose(G)\n",
    "A0 = copy(A);"
   ]
  },
  {
   "cell_type": "code",
   "execution_count": 3,
   "metadata": {},
   "outputs": [
    {
     "data": {
      "text/plain": [
       "1×512 Adjoint{Float64,Array{Float64,1}}:\n",
       " 164.0  276.0  -609.0  298.0  1225.0  …  -6754.0  894.0  4969.0  -983.0"
      ]
     },
     "execution_count": 3,
     "metadata": {},
     "output_type": "execute_result"
    }
   ],
   "source": [
    "# Initializing the right-hand side\n",
    "xe = rand(rng, 0:9, n) # This will be our solution\n",
    "b = A * xe\n",
    "b'"
   ]
  },
  {
   "cell_type": "code",
   "execution_count": 4,
   "metadata": {},
   "outputs": [
    {
     "data": {
      "text/plain": [
       "potrs (generic function with 1 method)"
      ]
     },
     "execution_count": 4,
     "metadata": {},
     "output_type": "execute_result"
    }
   ],
   "source": [
    "include(\"../src/getrf.jl\")\n",
    "include(\"../src/potrf.jl\")"
   ]
  },
  {
   "cell_type": "code",
   "execution_count": 5,
   "metadata": {},
   "outputs": [
    {
     "name": "stdout",
     "output_type": "stream",
     "text": [
      "  0.065163 seconds (29.09 k allocations: 1.493 MiB)\n"
     ]
    },
    {
     "data": {
      "text/plain": [
       "\"TEST PASSED\""
      ]
     },
     "execution_count": 5,
     "metadata": {},
     "output_type": "execute_result"
    }
   ],
   "source": [
    "A = copy(A0)\n",
    "@time potrf!(A)\n",
    "# Solve\n",
    "x = potrs(A, b)\n",
    "norm(x - xe) == 0 ? \"TEST PASSED\" : \"TEST FAILED\""
   ]
  },
  {
   "cell_type": "code",
   "execution_count": 6,
   "metadata": {},
   "outputs": [
    {
     "name": "stdout",
     "output_type": "stream",
     "text": [
      "  0.213301 seconds (344.08 k allocations: 19.801 MiB)\n",
      "  0.024932 seconds\n"
     ]
    }
   ],
   "source": [
    "# Compare with LU factorization\n",
    "A = copy(A0)\n",
    "@time getrf!(A);\n",
    "A = copy(A0)\n",
    "@time potrf!(A)"
   ]
  }
 ],
 "metadata": {
  "@webio": {
   "lastCommId": null,
   "lastKernelId": null
  },
  "kernelspec": {
   "display_name": "Julia 1.5.1",
   "language": "julia",
   "name": "julia-1.5"
  },
  "language_info": {
   "file_extension": ".jl",
   "mimetype": "application/julia",
   "name": "julia",
   "version": "1.5.1"
  }
 },
 "nbformat": 4,
 "nbformat_minor": 4
}
