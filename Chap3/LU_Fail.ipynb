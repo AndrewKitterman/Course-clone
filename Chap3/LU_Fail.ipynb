{
 "cells": [
  {
   "cell_type": "code",
   "execution_count": 1,
   "metadata": {},
   "outputs": [],
   "source": [
    "using LinearAlgebra\n",
    "using Random\n",
    "rng = MersenneTwister();"
   ]
  },
  {
   "cell_type": "code",
   "execution_count": 2,
   "metadata": {},
   "outputs": [
    {
     "data": {
      "text/plain": [
       "\"L,U =\""
      ]
     },
     "metadata": {},
     "output_type": "display_data"
    },
    {
     "data": {
      "text/plain": [
       "4×4 Array{Float64,2}:\n",
       " 1.0  0.0  0.0  0.0\n",
       " 0.0  1.0  0.0  0.0\n",
       " 1.0  0.0  0.0  1.0\n",
       " 0.0  0.0  1.0  0.0"
      ]
     },
     "metadata": {},
     "output_type": "display_data"
    },
    {
     "data": {
      "text/plain": [
       "4×4 Array{Float64,2}:\n",
       " 1.0  3.0  4.0  0.0\n",
       " 0.0  1.0  3.0  1.0\n",
       " 0.0  0.0  1.0  7.0\n",
       " 0.0  0.0  0.0  1.0"
      ]
     },
     "metadata": {},
     "output_type": "display_data"
    },
    {
     "name": "stdout",
     "output_type": "stream",
     "text": [
      "n = 4\n",
      "det(A) = -1.0\n",
      "A:\n",
      "\n"
     ]
    },
    {
     "data": {
      "text/plain": [
       "4×4 Array{Float64,2}:\n",
       " 1.0  3.0  4.0  0.0\n",
       " 0.0  1.0  3.0  1.0\n",
       " 1.0  3.0  4.0  1.0\n",
       " 0.0  0.0  1.0  7.0"
      ]
     },
     "execution_count": 2,
     "metadata": {},
     "output_type": "execute_result"
    }
   ],
   "source": [
    "Random.seed!(rng, 2018)\n",
    "\n",
    "# Size of the matrix\n",
    "n = 4;\n",
    "\n",
    "# Initialization of matrix A\n",
    "@show n\n",
    "L = zeros(Float64,n,n)\n",
    "U = zeros(Float64,n,n)\n",
    "for i=1:n\n",
    "    L[i,i] = 1\n",
    "    U[i,i] = 1\n",
    "    U[i,i+1:n] = rand(rng, 0:9, n-i)\n",
    "end\n",
    "L[3, [1,3,4]] = [1,0,1]\n",
    "L[4,[3,4]] = [1,0]\n",
    "display(\"L,U =\")\n",
    "display(L)\n",
    "display(U)\n",
    "A = L * U\n",
    "@show det(A)\n",
    "println(\"A:\\n\")\n",
    "A"
   ]
  },
  {
   "cell_type": "code",
   "execution_count": 3,
   "metadata": {},
   "outputs": [
    {
     "data": {
      "text/plain": [
       "getrs (generic function with 3 methods)"
      ]
     },
     "execution_count": 3,
     "metadata": {},
     "output_type": "execute_result"
    }
   ],
   "source": [
    "include(\"../src/getrf.jl\")"
   ]
  },
  {
   "cell_type": "code",
   "execution_count": 4,
   "metadata": {},
   "outputs": [
    {
     "name": "stdout",
     "output_type": "stream",
     "text": [
      "One of the pivots A[k,k] was 0. The algorithm could not proceed.\n"
     ]
    }
   ],
   "source": [
    "# This call is expected to fail\n",
    "try\n",
    "    getrfOuter!(A)\n",
    "    println(\"The algorithm completed successfully.\")\n",
    "catch\n",
    "    println(\"One of the pivots A[k,k] was 0. The algorithm could not proceed.\")\n",
    "end    "
   ]
  },
  {
   "cell_type": "code",
   "execution_count": 5,
   "metadata": {},
   "outputs": [
    {
     "name": "stdout",
     "output_type": "stream",
     "text": [
      "L:\n",
      "[1.0 0.0; 1.0e17 1.0]\n",
      "U:\n",
      "[1.0e-17 1.0; 0.0 -1.0e17]\n",
      "LU:\n",
      "[1.0e-17 1.0; 1.0 0.0]\n",
      "A:\n",
      "[1.0e-17 1.0; 1.0 3.141592653589793]\n"
     ]
    }
   ],
   "source": [
    "n = 2\n",
    "ϵ = 1e-17\n",
    "# ϵ = 1e-17 # Type \\epsilon [TAB]\n",
    "# ϵ = 64.0 * eps(Float64) / π \n",
    "# ϵ = eps(Float64) / π \n",
    "# ϵ = 0.25 * eps(Float64) / π\n",
    "A = [ϵ 1; 1 π] # Type \\pi [TAB]\n",
    "A0 = copy(A)\n",
    "\n",
    "getrfOuter!(A)\n",
    "L = tril(A,-1) + UniformScaling(1)\n",
    "U = triu(A)\n",
    "println(\"L:\\n\",L)\n",
    "println(\"U:\\n\",U)\n",
    "println(\"LU:\\n\",L*U)\n",
    "println(\"A:\\n\",A0)"
   ]
  }
 ],
 "metadata": {
  "@webio": {
   "lastCommId": null,
   "lastKernelId": null
  },
  "anaconda-cloud": {},
  "kernelspec": {
   "display_name": "Julia 1.8.1",
   "language": "julia",
   "name": "julia-1.8"
  },
  "language_info": {
   "file_extension": ".jl",
   "mimetype": "application/julia",
   "name": "julia",
   "version": "1.8.1"
  }
 },
 "nbformat": 4,
 "nbformat_minor": 4
}
