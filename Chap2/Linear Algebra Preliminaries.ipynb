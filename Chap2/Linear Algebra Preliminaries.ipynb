{
 "cells": [
  {
   "cell_type": "code",
   "execution_count": 1,
   "metadata": {},
   "outputs": [
    {
     "data": {
      "text/html": [
       "<script>\n",
       "// Immediately-invoked-function-expression to avoid global variables.\n",
       "(function() {\n",
       "    var warning_div = document.getElementById(\"webio-warning-17881487792536212113\");\n",
       "    var hide = function () {\n",
       "        var script = document.getElementById(\"webio-setup-4180776746406762074\");\n",
       "        var parent = script && script.parentElement;\n",
       "        var grandparent = parent && parent.parentElement;\n",
       "        if (grandparent) {\n",
       "            grandparent.style.display = \"none\";\n",
       "        }\n",
       "        warning_div.style.display = \"none\";\n",
       "    };\n",
       "    if (typeof Jupyter !== \"undefined\") {\n",
       "        console.log(\"WebIO detected Jupyter notebook environment.\");\n",
       "        // Jupyter notebook.\n",
       "        var extensions = (\n",
       "            Jupyter\n",
       "            && Jupyter.notebook.config.data\n",
       "            && Jupyter.notebook.config.data.load_extensions\n",
       "        );\n",
       "        if (extensions && extensions[\"webio-jupyter-notebook\"]) {\n",
       "            // Extension already loaded.\n",
       "            console.log(\"Jupyter WebIO nbextension detected; not loading ad-hoc.\");\n",
       "            hide();\n",
       "            return;\n",
       "        }\n",
       "    } else if (window.location.pathname.includes(\"/lab\")) {\n",
       "        // Guessing JupyterLa\n",
       "        console.log(\"Jupyter Lab detected; make sure the @webio/jupyter-lab-provider labextension is installed.\");\n",
       "        hide();\n",
       "        return;\n",
       "    }\n",
       "})();\n",
       "\n",
       "</script>\n",
       "<p\n",
       "    id=\"webio-warning-17881487792536212113\"\n",
       "    class=\"output_text output_stderr\"\n",
       "    style=\"padding: 1em; font-weight: bold;\"\n",
       ">\n",
       "    Unable to load WebIO. Please make sure WebIO works for your Jupyter client.\n",
       "    For troubleshooting, please see <a href=\"https://juliagizmos.github.io/WebIO.jl/latest/providers/ijulia/\">\n",
       "    the WebIO/IJulia documentation</a>.\n",
       "    <!-- TODO: link to installation docs. -->\n",
       "</p>\n"
      ],
      "text/plain": [
       "HTML{String}(\"<script>\\n// Immediately-invoked-function-expression to avoid global variables.\\n(function() {\\n    var warning_div = document.getElementById(\\\"webio-warning-17881487792536212113\\\");\\n    var hide = function () {\\n        var script = document.getElementById(\\\"webio-setup-4180776746406762074\\\");\\n        var parent = script && script.parentElement;\\n        var grandparent = parent && parent.parentElement;\\n        if (grandparent) {\\n            grandparent.style.display = \\\"none\\\";\\n        }\\n        warning_div.style.display = \\\"none\\\";\\n    };\\n    if (typeof Jupyter !== \\\"undefined\\\") {\\n        console.log(\\\"WebIO detected Jupyter notebook environment.\\\");\\n        // Jupyter notebook.\\n        var extensions = (\\n            Jupyter\\n            && Jupyter.notebook.config.data\\n            && Jupyter.notebook.config.data.load_extensions\\n        );\\n        if (extensions && extensions[\\\"webio-jupyter-notebook\\\"]) {\\n            // Extension already loaded.\\n            console.log(\\\"Jupyter WebIO nbextension detected; not loading ad-hoc.\\\");\\n            hide();\\n            return;\\n        }\\n    } else if (window.location.pathname.includes(\\\"/lab\\\")) {\\n        // Guessing JupyterLa\\n        console.log(\\\"Jupyter Lab detected; make sure the @webio/jupyter-lab-provider labextension is installed.\\\");\\n        hide();\\n        return;\\n    }\\n})();\\n\\n</script>\\n<p\\n    id=\\\"webio-warning-17881487792536212113\\\"\\n    class=\\\"output_text output_stderr\\\"\\n    style=\\\"padding: 1em; font-weight: bold;\\\"\\n>\\n    Unable to load WebIO. Please make sure WebIO works for your Jupyter client.\\n    For troubleshooting, please see <a href=\\\"https://juliagizmos.github.io/WebIO.jl/latest/providers/ijulia/\\\">\\n    the WebIO/IJulia documentation</a>.\\n    <!-- TODO: link to installation docs. -->\\n</p>\\n\")"
      ]
     },
     "metadata": {},
     "output_type": "display_data"
    },
    {
     "data": {
      "text/plain": [
       "true"
      ]
     },
     "execution_count": 1,
     "metadata": {},
     "output_type": "execute_result"
    }
   ],
   "source": [
    "using PlotlyJS\n",
    "using LinearAlgebra\n",
    "output = true"
   ]
  },
  {
   "cell_type": "code",
   "execution_count": 2,
   "metadata": {},
   "outputs": [
    {
     "data": {
      "text/plain": [
       "Style with:\n",
       "  - layout with fields font, margin, xaxis, and yaxis\n",
       "  - global_trace: PlotlyAttribute with field marker\n"
      ]
     },
     "execution_count": 2,
     "metadata": {},
     "output_type": "execute_result"
    }
   ],
   "source": [
    "nla_style = let\n",
    "    axis = attr(showgrid=true, titlefont_color=\"#555555\",\n",
    "                titlefont_size=18,\n",
    "                tickfont_size=18,\n",
    "                ticks=\"inside\", tickcolor=\"#555555\",\n",
    "                linecolor=\"black\", mirror=\"ticks\"\n",
    "                )\n",
    "    \n",
    "    layout = Layout(font_size=18,\n",
    "                    xaxis=axis,\n",
    "                    yaxis=axis)\n",
    "\n",
    "    colors = [\"#E24A33\", \"#348ABD\", \"#988ED5\", \"#777777\", \"#FBC15E\",\n",
    "              \"#8EBA42\", \"#FFB5B8\"]\n",
    "    \n",
    "    gta = attr(marker_line_width=0.5, marker_line_color=\"#348ABD\", marker_color=Cycler(colors))\n",
    "\n",
    "    Style(layout=layout, global_trace=gta)\n",
    "end"
   ]
  },
  {
   "cell_type": "code",
   "execution_count": 3,
   "metadata": {},
   "outputs": [
    {
     "data": {
      "application/vnd.plotly.v1+json": {
       "data": [
        {
         "marker": {
          "color": "#E24A33",
          "line": {
           "color": "#348ABD",
           "width": 0.5
          }
         },
         "type": "scatter",
         "x": [
          0,
          1
         ],
         "y": [
          0,
          2
         ]
        },
        {
         "marker": {
          "color": "#348ABD",
          "line": {
           "color": "#348ABD",
           "width": 0.5
          }
         },
         "type": "scatter",
         "x": [
          0,
          -2
         ],
         "y": [
          0,
          1
         ]
        },
        {
         "marker": {
          "color": "#988ED5",
          "line": {
           "color": "#348ABD",
           "width": 0.5
          }
         },
         "type": "scatter",
         "x": [
          0,
          -1
         ],
         "y": [
          0,
          3
         ]
        },
        {
         "line": {
          "dash": "dash"
         },
         "marker": {
          "color": "#777777",
          "line": {
           "color": "#348ABD",
           "width": 0.5
          }
         },
         "type": "scatter",
         "x": [
          -2,
          -1
         ],
         "y": [
          1,
          3
         ]
        }
       ],
       "frames": [],
       "layout": {
        "annotations": [
         {
          "text": "x",
          "x": 1,
          "y": 2
         },
         {
          "text": "y",
          "x": -2,
          "y": 1
         },
         {
          "text": "x+y",
          "x": -1,
          "y": 3
         }
        ],
        "font": {
         "size": 18
        },
        "margin": {
         "b": 50,
         "l": 50,
         "r": 50,
         "t": 60
        },
        "showlegend": false,
        "xaxis": {
         "linecolor": "black",
         "mirror": "ticks",
         "showgrid": true,
         "tickcolor": "#555555",
         "tickfont": {
          "size": 18
         },
         "ticks": "inside",
         "titlefont": {
          "color": "#555555",
          "size": 18
         }
        },
        "yaxis": {
         "linecolor": "black",
         "mirror": "ticks",
         "scaleanchor": "x",
         "showgrid": true,
         "tickcolor": "#555555",
         "tickfont": {
          "size": 18
         },
         "ticks": "inside",
         "titlefont": {
          "color": "#555555",
          "size": 18
         }
        }
       }
      },
      "application/vnd.webio.node+json": {
       "children": [
        {
         "children": [],
         "instanceArgs": {
          "namespace": "html",
          "tag": "div"
         },
         "nodeType": "DOM",
         "props": {
          "id": "plot-7de79139-2f5e-452e-930b-483a0f9945ed"
         },
         "type": "node"
        }
       ],
       "instanceArgs": {
        "handlers": {
         "__get_gd_contents": [
          "(function (prop){prop==\"data\" ? (WebIO.setval({\"name\":\"__gd_contents\",\"scope\":\"3088653332015871774\",\"id\":\"3509378570353347574\",\"type\":\"observable\"},this.plotElem.data)) : undefined; return prop==\"layout\" ? (WebIO.setval({\"name\":\"__gd_contents\",\"scope\":\"3088653332015871774\",\"id\":\"3509378570353347574\",\"type\":\"observable\"},this.plotElem.layout)) : undefined})"
         ],
         "_commands": [
          "(function (args){var fn=args.shift(); var elem=this.plotElem; var Plotly=this.Plotly; args.unshift(elem); return Plotly[fn].apply(this,args)})"
         ],
         "_downloadImage": [
          "(function (options){return this.Plotly.downloadImage(this.plotElem,options)})"
         ],
         "_toImage": [
          "(function (options){return this.Plotly.toImage(this.plotElem,options).then((function (data){return WebIO.setval({\"name\":\"image\",\"scope\":\"3088653332015871774\",\"id\":\"14629823124270422594\",\"type\":\"observable\"},data)}))})"
         ]
        },
        "id": "3088653332015871774",
        "imports": {
         "data": [
          {
           "name": "Plotly",
           "type": "js",
           "url": "/assetserver/57533c5d787f8bc76a9e58ed0a1abce5f1b0c14d-plotly-latest.min.js"
          },
          {
           "name": null,
           "type": "js",
           "url": "/assetserver/58a7932c57029f7dbaa4105104076ff149fc7585-plotly_webio.bundle.js"
          }
         ],
         "type": "async_block"
        },
        "mount_callbacks": [
         "function () {\n    var handler = ((function (Plotly,PlotlyWebIO){PlotlyWebIO.init(WebIO); var gd=this.dom.querySelector(\"#plot-7de79139-2f5e-452e-930b-483a0f9945ed\"); this.plotElem=gd; this.Plotly=Plotly; (window.Blink!==undefined) ? (gd.style.width=\"100%\", gd.style.height=\"100vh\", gd.style.marginLeft=\"0%\", gd.style.marginTop=\"0vh\") : undefined; window.onresize=(function (){return Plotly.Plots.resize(gd)}); Plotly.newPlot(gd,[{\"marker\":{\"color\":\"#E24A33\",\"line\":{\"color\":\"#348ABD\",\"width\":0.5}},\"y\":[0,2],\"type\":\"scatter\",\"x\":[0,1]},{\"marker\":{\"color\":\"#348ABD\",\"line\":{\"color\":\"#348ABD\",\"width\":0.5}},\"y\":[0,1],\"type\":\"scatter\",\"x\":[0,-2]},{\"marker\":{\"color\":\"#988ED5\",\"line\":{\"color\":\"#348ABD\",\"width\":0.5}},\"y\":[0,3],\"type\":\"scatter\",\"x\":[0,-1]},{\"marker\":{\"color\":\"#777777\",\"line\":{\"color\":\"#348ABD\",\"width\":0.5}},\"line\":{\"dash\":\"dash\"},\"y\":[1,3],\"type\":\"scatter\",\"x\":[-2,-1]}],{\"showlegend\":false,\"xaxis\":{\"showgrid\":true,\"titlefont\":{\"color\":\"#555555\",\"size\":18},\"tickfont\":{\"size\":18},\"ticks\":\"inside\",\"tickcolor\":\"#555555\",\"mirror\":\"ticks\",\"linecolor\":\"black\"},\"font\":{\"size\":18},\"annotations\":[{\"y\":2,\"text\":\"x\",\"x\":1},{\"y\":1,\"text\":\"y\",\"x\":-2},{\"y\":3,\"text\":\"x+y\",\"x\":-1}],\"margin\":{\"l\":50,\"b\":50,\"r\":50,\"t\":60},\"yaxis\":{\"showgrid\":true,\"titlefont\":{\"color\":\"#555555\",\"size\":18},\"tickfont\":{\"size\":18},\"scaleanchor\":\"x\",\"ticks\":\"inside\",\"tickcolor\":\"#555555\",\"mirror\":\"ticks\",\"linecolor\":\"black\"}},{}); gd.on(\"plotly_hover\",(function (data){var filtered_data=WebIO.PlotlyCommands.filterEventData(gd,data,\"hover\"); return !(filtered_data.isnil) ? (WebIO.setval({\"name\":\"hover\",\"scope\":\"3088653332015871774\",\"id\":\"7719391636389719449\",\"type\":\"observable\"},filtered_data.out)) : undefined})); gd.on(\"plotly_unhover\",(function (){return WebIO.setval({\"name\":\"hover\",\"scope\":\"3088653332015871774\",\"id\":\"7719391636389719449\",\"type\":\"observable\"},{})})); gd.on(\"plotly_selected\",(function (data){var filtered_data=WebIO.PlotlyCommands.filterEventData(gd,data,\"selected\"); return !(filtered_data.isnil) ? (WebIO.setval({\"name\":\"selected\",\"scope\":\"3088653332015871774\",\"id\":\"16927067715253962215\",\"type\":\"observable\"},filtered_data.out)) : undefined})); gd.on(\"plotly_deselect\",(function (){return WebIO.setval({\"name\":\"selected\",\"scope\":\"3088653332015871774\",\"id\":\"16927067715253962215\",\"type\":\"observable\"},{})})); gd.on(\"plotly_relayout\",(function (data){var filtered_data=WebIO.PlotlyCommands.filterEventData(gd,data,\"relayout\"); return !(filtered_data.isnil) ? (WebIO.setval({\"name\":\"relayout\",\"scope\":\"3088653332015871774\",\"id\":\"9691873316664565059\",\"type\":\"observable\"},filtered_data.out)) : undefined})); return gd.on(\"plotly_click\",(function (data){var filtered_data=WebIO.PlotlyCommands.filterEventData(gd,data,\"click\"); return !(filtered_data.isnil) ? (WebIO.setval({\"name\":\"click\",\"scope\":\"3088653332015871774\",\"id\":\"8736925271105441363\",\"type\":\"observable\"},filtered_data.out)) : undefined}))}));\n    (WebIO.importBlock({\"data\":[{\"name\":\"Plotly\",\"type\":\"js\",\"url\":\"/assetserver/57533c5d787f8bc76a9e58ed0a1abce5f1b0c14d-plotly-latest.min.js\"},{\"name\":null,\"type\":\"js\",\"url\":\"/assetserver/58a7932c57029f7dbaa4105104076ff149fc7585-plotly_webio.bundle.js\"}],\"type\":\"async_block\"})).then((imports) => handler.apply(this, imports));\n}\n"
        ],
        "observables": {
         "__gd_contents": {
          "id": "3509378570353347574",
          "sync": false,
          "value": {}
         },
         "__get_gd_contents": {
          "id": "4186709024362963261",
          "sync": false,
          "value": ""
         },
         "_commands": {
          "id": "10113654747599060759",
          "sync": false,
          "value": []
         },
         "_downloadImage": {
          "id": "7523147334934227695",
          "sync": false,
          "value": {}
         },
         "_toImage": {
          "id": "3282009308756661055",
          "sync": false,
          "value": {}
         },
         "click": {
          "id": "8736925271105441363",
          "sync": false,
          "value": {}
         },
         "hover": {
          "id": "7719391636389719449",
          "sync": false,
          "value": {}
         },
         "image": {
          "id": "14629823124270422594",
          "sync": true,
          "value": ""
         },
         "relayout": {
          "id": "9691873316664565059",
          "sync": false,
          "value": {}
         },
         "selected": {
          "id": "16927067715253962215",
          "sync": false,
          "value": {}
         }
        },
        "systemjs_options": null
       },
       "nodeType": "Scope",
       "props": {},
       "type": "node"
      },
      "image/png": "[encoded data removed]",
      "image/svg+xml": [
       "<svg class=\"main-svg\" xmlns=\"http://www.w3.org/2000/svg\" xmlns:xlink=\"http://www.w3.org/1999/xlink\" width=\"700\" height=\"500\" style=\"\" viewBox=\"0 0 700 500\"><rect x=\"0\" y=\"0\" width=\"700\" height=\"500\" style=\"fill: rgb(255, 255, 255); fill-opacity: 1;\"/><defs id=\"defs-1965fc\"><g class=\"clips\"><clipPath id=\"clip1965fcxyplot\" class=\"plotclip\"><rect width=\"600\" height=\"390\"/></clipPath><clipPath class=\"axesclip\" id=\"clip1965fcx\"><rect x=\"50\" y=\"0\" width=\"600\" height=\"500\"/></clipPath><clipPath class=\"axesclip\" id=\"clip1965fcy\"><rect x=\"0\" y=\"60\" width=\"700\" height=\"390\"/></clipPath><clipPath class=\"axesclip\" id=\"clip1965fcxy\"><rect x=\"50\" y=\"60\" width=\"600\" height=\"390\"/></clipPath></g><g class=\"gradients\"/></defs><g class=\"bglayer\"/><g class=\"layer-below\"><g class=\"imagelayer\"/><g class=\"shapelayer\"/></g><g class=\"cartesianlayer\"><g class=\"subplot xy\"><g class=\"layer-subplot\"><g class=\"shapelayer\"/><g class=\"imagelayer\"/></g><g class=\"gridlayer\"><g class=\"x\"><path class=\"xgrid crisp\" transform=\"translate(81.46000000000001,0)\" d=\"M0,60v390\" style=\"stroke: rgb(238, 238, 238); stroke-opacity: 1; stroke-width: 1px;\"/><path class=\"xgrid crisp\" transform=\"translate(188.88,0)\" d=\"M0,60v390\" style=\"stroke: rgb(238, 238, 238); stroke-opacity: 1; stroke-width: 1px;\"/><path class=\"xgrid crisp\" transform=\"translate(296.28999999999996,0)\" d=\"M0,60v390\" style=\"stroke: rgb(238, 238, 238); stroke-opacity: 1; stroke-width: 1px;\"/><path class=\"xgrid crisp\" transform=\"translate(511.13,0)\" d=\"M0,60v390\" style=\"stroke: rgb(238, 238, 238); stroke-opacity: 1; stroke-width: 1px;\"/><path class=\"xgrid crisp\" transform=\"translate(618.54,0)\" d=\"M0,60v390\" style=\"stroke: rgb(238, 238, 238); stroke-opacity: 1; stroke-width: 1px;\"/></g><g class=\"y\"><path class=\"ygrid crisp\" transform=\"translate(0,373.04)\" d=\"M50,0h600\" style=\"stroke: rgb(238, 238, 238); stroke-opacity: 1; stroke-width: 1px;\"/><path class=\"ygrid crisp\" transform=\"translate(0,319.33)\" d=\"M50,0h600\" style=\"stroke: rgb(238, 238, 238); stroke-opacity: 1; stroke-width: 1px;\"/><path class=\"ygrid crisp\" transform=\"translate(0,265.63)\" d=\"M50,0h600\" style=\"stroke: rgb(238, 238, 238); stroke-opacity: 1; stroke-width: 1px;\"/><path class=\"ygrid crisp\" transform=\"translate(0,211.92)\" d=\"M50,0h600\" style=\"stroke: rgb(238, 238, 238); stroke-opacity: 1; stroke-width: 1px;\"/><path class=\"ygrid crisp\" transform=\"translate(0,158.20999999999998)\" d=\"M50,0h600\" style=\"stroke: rgb(238, 238, 238); stroke-opacity: 1; stroke-width: 1px;\"/><path class=\"ygrid crisp\" transform=\"translate(0,104.5)\" d=\"M50,0h600\" style=\"stroke: rgb(238, 238, 238); stroke-opacity: 1; stroke-width: 1px;\"/></g></g><g class=\"zerolinelayer\"><path class=\"xzl zl crisp\" transform=\"translate(403.71,0)\" d=\"M0,60v390\" style=\"stroke: rgb(68, 68, 68); stroke-opacity: 1; stroke-width: 1px;\"/><path class=\"yzl zl crisp\" transform=\"translate(0,426.75)\" d=\"M50,0h600\" style=\"stroke: rgb(68, 68, 68); stroke-opacity: 1; stroke-width: 1px;\"/></g><path class=\"xlines-below\"/><path class=\"ylines-below\"/><g class=\"overlines-below\"/><g class=\"xaxislayer-below\"/><g class=\"yaxislayer-below\"/><g class=\"overaxes-below\"/><g class=\"plot\" transform=\"translate(50, 60)\" clip-path=\"url('#clip1965fcxyplot')\"><g class=\"scatterlayer mlayer\"><g class=\"trace scatter trace820459\" style=\"stroke-miterlimit: 2; opacity: 1;\"><g class=\"fills\"/><g class=\"errorbars\"/><g class=\"lines\"><path class=\"js-line\" d=\"M353.71,366.75L461.13,151.92\" style=\"vector-effect: non-scaling-stroke; fill: none; stroke: rgb(226, 74, 51); stroke-opacity: 1; stroke-width: 2px; opacity: 1;\"/></g><g class=\"points\"><path class=\"point\" transform=\"translate(353.71,366.75)\" d=\"M3,0A3,3 0 1,1 0,-3A3,3 0 0,1 3,0Z\" style=\"opacity: 1; stroke-width: 0.5px; fill: rgb(226, 74, 51); fill-opacity: 1; stroke: rgb(52, 138, 189); stroke-opacity: 1;\"/><path class=\"point\" transform=\"translate(461.13,151.92)\" d=\"M3,0A3,3 0 1,1 0,-3A3,3 0 0,1 3,0Z\" style=\"opacity: 1; stroke-width: 0.5px; fill: rgb(226, 74, 51); fill-opacity: 1; stroke: rgb(52, 138, 189); stroke-opacity: 1;\"/></g><g class=\"text\"/></g><g class=\"trace scatter trace143943\" style=\"stroke-miterlimit: 2; opacity: 1;\"><g class=\"fills\"/><g class=\"errorbars\"/><g class=\"lines\"><path class=\"js-line\" d=\"M353.71,366.75L138.88,259.33\" style=\"vector-effect: non-scaling-stroke; fill: none; stroke: rgb(52, 138, 189); stroke-opacity: 1; stroke-width: 2px; opacity: 1;\"/></g><g class=\"points\"><path class=\"point\" transform=\"translate(353.71,366.75)\" d=\"M3,0A3,3 0 1,1 0,-3A3,3 0 0,1 3,0Z\" style=\"opacity: 1; stroke-width: 0.5px; fill: rgb(52, 138, 189); fill-opacity: 1; stroke: rgb(52, 138, 189); stroke-opacity: 1;\"/><path class=\"point\" transform=\"translate(138.88,259.33)\" d=\"M3,0A3,3 0 1,1 0,-3A3,3 0 0,1 3,0Z\" style=\"opacity: 1; stroke-width: 0.5px; fill: rgb(52, 138, 189); fill-opacity: 1; stroke: rgb(52, 138, 189); stroke-opacity: 1;\"/></g><g class=\"text\"/></g><g class=\"trace scatter trace250c53\" style=\"stroke-miterlimit: 2; opacity: 1;\"><g class=\"fills\"/><g class=\"errorbars\"/><g class=\"lines\"><path class=\"js-line\" d=\"M353.71,366.75L246.29,44.5\" style=\"vector-effect: non-scaling-stroke; fill: none; stroke: rgb(152, 142, 213); stroke-opacity: 1; stroke-width: 2px; opacity: 1;\"/></g><g class=\"points\"><path class=\"point\" transform=\"translate(353.71,366.75)\" d=\"M3,0A3,3 0 1,1 0,-3A3,3 0 0,1 3,0Z\" style=\"opacity: 1; stroke-width: 0.5px; fill: rgb(152, 142, 213); fill-opacity: 1; stroke: rgb(52, 138, 189); stroke-opacity: 1;\"/><path class=\"point\" transform=\"translate(246.29,44.5)\" d=\"M3,0A3,3 0 1,1 0,-3A3,3 0 0,1 3,0Z\" style=\"opacity: 1; stroke-width: 0.5px; fill: rgb(152, 142, 213); fill-opacity: 1; stroke: rgb(52, 138, 189); stroke-opacity: 1;\"/></g><g class=\"text\"/></g><g class=\"trace scatter trace5964a4\" style=\"stroke-miterlimit: 2; opacity: 1;\"><g class=\"fills\"/><g class=\"errorbars\"/><g class=\"lines\"><path class=\"js-line\" d=\"M138.88,259.33L246.29,44.5\" style=\"vector-effect: non-scaling-stroke; fill: none; stroke: rgb(119, 119, 119); stroke-opacity: 1; stroke-width: 2px; opacity: 1; stroke-dasharray: 9px, 9px;\"/></g><g class=\"points\"><path class=\"point\" transform=\"translate(138.88,259.33)\" d=\"M3,0A3,3 0 1,1 0,-3A3,3 0 0,1 3,0Z\" style=\"opacity: 1; stroke-width: 0.5px; fill: rgb(119, 119, 119); fill-opacity: 1; stroke: rgb(52, 138, 189); stroke-opacity: 1;\"/><path class=\"point\" transform=\"translate(246.29,44.5)\" d=\"M3,0A3,3 0 1,1 0,-3A3,3 0 0,1 3,0Z\" style=\"opacity: 1; stroke-width: 0.5px; fill: rgb(119, 119, 119); fill-opacity: 1; stroke: rgb(52, 138, 189); stroke-opacity: 1;\"/></g><g class=\"text\"/></g></g></g><g class=\"overplot\"/><path class=\"xlines-above crisp\" d=\"M49,450.5H651M49,59.5H651\" style=\"fill: none; stroke-width: 1px; stroke: rgb(0, 0, 0); stroke-opacity: 1;\"/><path class=\"ylines-above crisp\" d=\"M49.5,60V450M650.5,60V450\" style=\"fill: none; stroke-width: 1px; stroke: rgb(0, 0, 0); stroke-opacity: 1;\"/><g class=\"overlines-above\"/><g class=\"xaxislayer-above\"><path class=\"xtick ticks crisp\" d=\"M0,450v-5M0,60v5\" transform=\"translate(81.46000000000001,0)\" style=\"stroke: rgb(85, 85, 85); stroke-opacity: 1; stroke-width: 1px;\"/><path class=\"xtick ticks crisp\" d=\"M0,450v-5M0,60v5\" transform=\"translate(188.88,0)\" style=\"stroke: rgb(85, 85, 85); stroke-opacity: 1; stroke-width: 1px;\"/><path class=\"xtick ticks crisp\" d=\"M0,450v-5M0,60v5\" transform=\"translate(296.28999999999996,0)\" style=\"stroke: rgb(85, 85, 85); stroke-opacity: 1; stroke-width: 1px;\"/><path class=\"xtick ticks crisp\" d=\"M0,450v-5M0,60v5\" transform=\"translate(403.71,0)\" style=\"stroke: rgb(85, 85, 85); stroke-opacity: 1; stroke-width: 1px;\"/><path class=\"xtick ticks crisp\" d=\"M0,450v-5M0,60v5\" transform=\"translate(511.13,0)\" style=\"stroke: rgb(85, 85, 85); stroke-opacity: 1; stroke-width: 1px;\"/><path class=\"xtick ticks crisp\" d=\"M0,450v-5M0,60v5\" transform=\"translate(618.54,0)\" style=\"stroke: rgb(85, 85, 85); stroke-opacity: 1; stroke-width: 1px;\"/><g class=\"xtick\"><text text-anchor=\"middle\" x=\"0\" y=\"472.6\" transform=\"translate(81.46000000000001,0)\" style=\"font-family: 'Open Sans', verdana, arial, sans-serif; font-size: 18px; fill: rgb(68, 68, 68); fill-opacity: 1; white-space: pre;\">−3</text></g><g class=\"xtick\"><text text-anchor=\"middle\" x=\"0\" y=\"472.6\" transform=\"translate(188.88,0)\" style=\"font-family: 'Open Sans', verdana, arial, sans-serif; font-size: 18px; fill: rgb(68, 68, 68); fill-opacity: 1; white-space: pre;\">−2</text></g><g class=\"xtick\"><text text-anchor=\"middle\" x=\"0\" y=\"472.6\" transform=\"translate(296.28999999999996,0)\" style=\"font-family: 'Open Sans', verdana, arial, sans-serif; font-size: 18px; fill: rgb(68, 68, 68); fill-opacity: 1; white-space: pre;\">−1</text></g><g class=\"xtick\"><text text-anchor=\"middle\" x=\"0\" y=\"472.6\" transform=\"translate(403.71,0)\" style=\"font-family: 'Open Sans', verdana, arial, sans-serif; font-size: 18px; fill: rgb(68, 68, 68); fill-opacity: 1; white-space: pre;\">0</text></g><g class=\"xtick\"><text text-anchor=\"middle\" x=\"0\" y=\"472.6\" transform=\"translate(511.13,0)\" style=\"font-family: 'Open Sans', verdana, arial, sans-serif; font-size: 18px; fill: rgb(68, 68, 68); fill-opacity: 1; white-space: pre;\">1</text></g><g class=\"xtick\"><text text-anchor=\"middle\" x=\"0\" y=\"472.6\" transform=\"translate(618.54,0)\" style=\"font-family: 'Open Sans', verdana, arial, sans-serif; font-size: 18px; fill: rgb(68, 68, 68); fill-opacity: 1; white-space: pre;\">2</text></g></g><g class=\"yaxislayer-above\"><path class=\"ytick ticks crisp\" d=\"M50,0h5M650,0h-5\" transform=\"translate(0,426.75)\" style=\"stroke: rgb(85, 85, 85); stroke-opacity: 1; stroke-width: 1px;\"/><path class=\"ytick ticks crisp\" d=\"M50,0h5M650,0h-5\" transform=\"translate(0,373.04)\" style=\"stroke: rgb(85, 85, 85); stroke-opacity: 1; stroke-width: 1px;\"/><path class=\"ytick ticks crisp\" d=\"M50,0h5M650,0h-5\" transform=\"translate(0,319.33)\" style=\"stroke: rgb(85, 85, 85); stroke-opacity: 1; stroke-width: 1px;\"/><path class=\"ytick ticks crisp\" d=\"M50,0h5M650,0h-5\" transform=\"translate(0,265.63)\" style=\"stroke: rgb(85, 85, 85); stroke-opacity: 1; stroke-width: 1px;\"/><path class=\"ytick ticks crisp\" d=\"M50,0h5M650,0h-5\" transform=\"translate(0,211.92)\" style=\"stroke: rgb(85, 85, 85); stroke-opacity: 1; stroke-width: 1px;\"/><path class=\"ytick ticks crisp\" d=\"M50,0h5M650,0h-5\" transform=\"translate(0,158.20999999999998)\" style=\"stroke: rgb(85, 85, 85); stroke-opacity: 1; stroke-width: 1px;\"/><path class=\"ytick ticks crisp\" d=\"M50,0h5M650,0h-5\" transform=\"translate(0,104.5)\" style=\"stroke: rgb(85, 85, 85); stroke-opacity: 1; stroke-width: 1px;\"/><g class=\"ytick\"><text text-anchor=\"end\" x=\"45.4\" y=\"6.3\" transform=\"translate(0,426.75)\" style=\"font-family: 'Open Sans', verdana, arial, sans-serif; font-size: 18px; fill: rgb(68, 68, 68); fill-opacity: 1; white-space: pre;\">0</text></g><g class=\"ytick\"><text text-anchor=\"end\" x=\"45.4\" y=\"6.3\" transform=\"translate(0,373.04)\" style=\"font-family: 'Open Sans', verdana, arial, sans-serif; font-size: 18px; fill: rgb(68, 68, 68); fill-opacity: 1; white-space: pre;\">0.5</text></g><g class=\"ytick\"><text text-anchor=\"end\" x=\"45.4\" y=\"6.3\" transform=\"translate(0,319.33)\" style=\"font-family: 'Open Sans', verdana, arial, sans-serif; font-size: 18px; fill: rgb(68, 68, 68); fill-opacity: 1; white-space: pre;\">1</text></g><g class=\"ytick\"><text text-anchor=\"end\" x=\"45.4\" y=\"6.3\" transform=\"translate(0,265.63)\" style=\"font-family: 'Open Sans', verdana, arial, sans-serif; font-size: 18px; fill: rgb(68, 68, 68); fill-opacity: 1; white-space: pre;\">1.5</text></g><g class=\"ytick\"><text text-anchor=\"end\" x=\"45.4\" y=\"6.3\" transform=\"translate(0,211.92)\" style=\"font-family: 'Open Sans', verdana, arial, sans-serif; font-size: 18px; fill: rgb(68, 68, 68); fill-opacity: 1; white-space: pre;\">2</text></g><g class=\"ytick\"><text text-anchor=\"end\" x=\"45.4\" y=\"6.3\" transform=\"translate(0,158.20999999999998)\" style=\"font-family: 'Open Sans', verdana, arial, sans-serif; font-size: 18px; fill: rgb(68, 68, 68); fill-opacity: 1; white-space: pre;\">2.5</text></g><g class=\"ytick\"><text text-anchor=\"end\" x=\"45.4\" y=\"6.3\" transform=\"translate(0,104.5)\" style=\"font-family: 'Open Sans', verdana, arial, sans-serif; font-size: 18px; fill: rgb(68, 68, 68); fill-opacity: 1; white-space: pre;\">3</text></g></g><g class=\"overaxes-above\"/></g></g><g class=\"polarlayer\"/><g class=\"ternarylayer\"/><g class=\"geolayer\"/><g class=\"funnelarealayer\"/><g class=\"pielayer\"/><g class=\"treemaplayer\"/><g class=\"sunburstlayer\"/><g class=\"glimages\"/><defs id=\"topdefs-1965fc\"><g class=\"clips\"/></defs><g class=\"layer-above\"><g class=\"imagelayer\"/><g class=\"shapelayer\"/></g><g class=\"infolayer\"><g class=\"g-gtitle\"/><g class=\"g-xtitle\"/><g class=\"g-ytitle\"/><g class=\"annotation\" data-index=\"0\" style=\"opacity: 1;\"><g class=\"annotation-text-g\" transform=\"rotate(0,501.13,181.92)\"><g class=\"cursor-pointer\" transform=\"translate(495, 167)\"><rect class=\"bg\" x=\"0.5\" y=\"0.5\" width=\"12\" height=\"28\" style=\"stroke-width: 1px; stroke: rgb(0, 0, 0); stroke-opacity: 0; fill: rgb(0, 0, 0); fill-opacity: 0;\"/><text class=\"annotation-text\" text-anchor=\"middle\" x=\"6.71875\" y=\"21\" style=\"font-family: 'Open Sans', verdana, arial, sans-serif; font-size: 18px; fill: rgb(68, 68, 68); fill-opacity: 1; white-space: pre;\">x</text></g></g><g class=\"annotation-arrow-g\" style=\"opacity: 1;\"><path d=\"M505.7966666666667,195.92L511.13,211.92\" style=\"stroke-width: 2px; stroke: rgb(68, 68, 68); stroke-opacity: 1; stroke-dasharray: 0px, 0px, 15.6655px, 16.8655px;\"/><path d=\"M-2.4,-3V3L0.6,0Z\" transform=\"translate(510.7505187988281,210.78158569335938)rotate(71.56781601708516)scale(2)\" style=\"fill: rgb(68, 68, 68); stroke-width: 0;\"/></g></g><g class=\"annotation\" data-index=\"1\" style=\"opacity: 1;\"><g class=\"annotation-text-g\" transform=\"rotate(0,178.88,289.33)\"><g class=\"cursor-pointer\" transform=\"translate(172, 275)\"><rect class=\"bg\" x=\"0.5\" y=\"0.5\" width=\"12\" height=\"28\" style=\"stroke-width: 1px; stroke: rgb(0, 0, 0); stroke-opacity: 0; fill: rgb(0, 0, 0); fill-opacity: 0;\"/><text class=\"annotation-text\" text-anchor=\"middle\" x=\"6.546875\" y=\"21\" style=\"font-family: 'Open Sans', verdana, arial, sans-serif; font-size: 18px; fill: rgb(68, 68, 68); fill-opacity: 1; white-space: pre;\">y</text></g></g><g class=\"annotation-arrow-g\" style=\"opacity: 1;\"><path d=\"M183.54666666666665,303.33L188.88,319.33\" style=\"stroke-width: 2px; stroke: rgb(68, 68, 68); stroke-opacity: 1; stroke-dasharray: 0px, 0px, 15.6655px, 16.8655px;\"/><path d=\"M-2.4,-3V3L0.6,0Z\" transform=\"translate(188.5005340576172,318.1915588378906)rotate(71.57058005668189)scale(2)\" style=\"fill: rgb(68, 68, 68); stroke-width: 0;\"/></g></g><g class=\"annotation\" data-index=\"2\" style=\"opacity: 1;\"><g class=\"annotation-text-g\" transform=\"rotate(0,286.28999999999996,74.5)\"><g class=\"cursor-pointer\" transform=\"translate(270, 60)\"><rect class=\"bg\" x=\"0.5\" y=\"0.5\" width=\"32\" height=\"28\" style=\"stroke-width: 1px; stroke: rgb(0, 0, 0); stroke-opacity: 0; fill: rgb(0, 0, 0); fill-opacity: 0;\"/><text class=\"annotation-text\" text-anchor=\"middle\" x=\"16.40625\" y=\"21\" style=\"font-family: 'Open Sans', verdana, arial, sans-serif; font-size: 18px; fill: rgb(68, 68, 68); fill-opacity: 1; white-space: pre;\">x+y</text></g></g><g class=\"annotation-arrow-g\" style=\"opacity: 1;\"><path d=\"M290.95666666666665,88.5L296.28999999999996,104.5\" style=\"stroke-width: 2px; stroke: rgb(68, 68, 68); stroke-opacity: 1; stroke-dasharray: 0px, 0px, 15.6655px, 16.8655px;\"/><path d=\"M-2.4,-3V3L0.6,0Z\" transform=\"translate(295.9105224609375,103.36157989501953)rotate(71.56919813691391)scale(2)\" style=\"fill: rgb(68, 68, 68); stroke-width: 0;\"/></g></g></g></svg>"
      ],
      "text/html": [
       "<div\n",
       "    class=\"webio-mountpoint\"\n",
       "    data-webio-mountpoint=\"15207327980953617901\"\n",
       ">\n",
       "    <script>\n",
       "    if (window.require && require.defined && require.defined(\"nbextensions/webio-jupyter-notebook\")) {\n",
       "        console.log(\"Jupyter WebIO extension detected, not mounting.\");\n",
       "    } else if (window.WebIO) {\n",
       "        WebIO.mount(\n",
       "            document.querySelector('[data-webio-mountpoint=\"15207327980953617901\"]'),\n",
       "            {\"props\":{},\"nodeType\":\"Scope\",\"type\":\"node\",\"instanceArgs\":{\"imports\":{\"data\":[{\"name\":\"Plotly\",\"type\":\"js\",\"url\":\"\\/assetserver\\/57533c5d787f8bc76a9e58ed0a1abce5f1b0c14d-plotly-latest.min.js\"},{\"name\":null,\"type\":\"js\",\"url\":\"\\/assetserver\\/58a7932c57029f7dbaa4105104076ff149fc7585-plotly_webio.bundle.js\"}],\"type\":\"async_block\"},\"id\":\"3088653332015871774\",\"handlers\":{\"_toImage\":[\"(function (options){return this.Plotly.toImage(this.plotElem,options).then((function (data){return WebIO.setval({\\\"name\\\":\\\"image\\\",\\\"scope\\\":\\\"3088653332015871774\\\",\\\"id\\\":\\\"14629823124270422594\\\",\\\"type\\\":\\\"observable\\\"},data)}))})\"],\"__get_gd_contents\":[\"(function (prop){prop==\\\"data\\\" ? (WebIO.setval({\\\"name\\\":\\\"__gd_contents\\\",\\\"scope\\\":\\\"3088653332015871774\\\",\\\"id\\\":\\\"3509378570353347574\\\",\\\"type\\\":\\\"observable\\\"},this.plotElem.data)) : undefined; return prop==\\\"layout\\\" ? (WebIO.setval({\\\"name\\\":\\\"__gd_contents\\\",\\\"scope\\\":\\\"3088653332015871774\\\",\\\"id\\\":\\\"3509378570353347574\\\",\\\"type\\\":\\\"observable\\\"},this.plotElem.layout)) : undefined})\"],\"_downloadImage\":[\"(function (options){return this.Plotly.downloadImage(this.plotElem,options)})\"],\"_commands\":[\"(function (args){var fn=args.shift(); var elem=this.plotElem; var Plotly=this.Plotly; args.unshift(elem); return Plotly[fn].apply(this,args)})\"]},\"systemjs_options\":null,\"mount_callbacks\":[\"function () {\\n    var handler = ((function (Plotly,PlotlyWebIO){PlotlyWebIO.init(WebIO); var gd=this.dom.querySelector(\\\"#plot-7de79139-2f5e-452e-930b-483a0f9945ed\\\"); this.plotElem=gd; this.Plotly=Plotly; (window.Blink!==undefined) ? (gd.style.width=\\\"100%\\\", gd.style.height=\\\"100vh\\\", gd.style.marginLeft=\\\"0%\\\", gd.style.marginTop=\\\"0vh\\\") : undefined; window.onresize=(function (){return Plotly.Plots.resize(gd)}); Plotly.newPlot(gd,[{\\\"marker\\\":{\\\"color\\\":\\\"#E24A33\\\",\\\"line\\\":{\\\"color\\\":\\\"#348ABD\\\",\\\"width\\\":0.5}},\\\"y\\\":[0,2],\\\"type\\\":\\\"scatter\\\",\\\"x\\\":[0,1]},{\\\"marker\\\":{\\\"color\\\":\\\"#348ABD\\\",\\\"line\\\":{\\\"color\\\":\\\"#348ABD\\\",\\\"width\\\":0.5}},\\\"y\\\":[0,1],\\\"type\\\":\\\"scatter\\\",\\\"x\\\":[0,-2]},{\\\"marker\\\":{\\\"color\\\":\\\"#988ED5\\\",\\\"line\\\":{\\\"color\\\":\\\"#348ABD\\\",\\\"width\\\":0.5}},\\\"y\\\":[0,3],\\\"type\\\":\\\"scatter\\\",\\\"x\\\":[0,-1]},{\\\"marker\\\":{\\\"color\\\":\\\"#777777\\\",\\\"line\\\":{\\\"color\\\":\\\"#348ABD\\\",\\\"width\\\":0.5}},\\\"line\\\":{\\\"dash\\\":\\\"dash\\\"},\\\"y\\\":[1,3],\\\"type\\\":\\\"scatter\\\",\\\"x\\\":[-2,-1]}],{\\\"showlegend\\\":false,\\\"xaxis\\\":{\\\"showgrid\\\":true,\\\"titlefont\\\":{\\\"color\\\":\\\"#555555\\\",\\\"size\\\":18},\\\"tickfont\\\":{\\\"size\\\":18},\\\"ticks\\\":\\\"inside\\\",\\\"tickcolor\\\":\\\"#555555\\\",\\\"mirror\\\":\\\"ticks\\\",\\\"linecolor\\\":\\\"black\\\"},\\\"font\\\":{\\\"size\\\":18},\\\"annotations\\\":[{\\\"y\\\":2,\\\"text\\\":\\\"x\\\",\\\"x\\\":1},{\\\"y\\\":1,\\\"text\\\":\\\"y\\\",\\\"x\\\":-2},{\\\"y\\\":3,\\\"text\\\":\\\"x+y\\\",\\\"x\\\":-1}],\\\"margin\\\":{\\\"l\\\":50,\\\"b\\\":50,\\\"r\\\":50,\\\"t\\\":60},\\\"yaxis\\\":{\\\"showgrid\\\":true,\\\"titlefont\\\":{\\\"color\\\":\\\"#555555\\\",\\\"size\\\":18},\\\"tickfont\\\":{\\\"size\\\":18},\\\"scaleanchor\\\":\\\"x\\\",\\\"ticks\\\":\\\"inside\\\",\\\"tickcolor\\\":\\\"#555555\\\",\\\"mirror\\\":\\\"ticks\\\",\\\"linecolor\\\":\\\"black\\\"}},{}); gd.on(\\\"plotly_hover\\\",(function (data){var filtered_data=WebIO.PlotlyCommands.filterEventData(gd,data,\\\"hover\\\"); return !(filtered_data.isnil) ? (WebIO.setval({\\\"name\\\":\\\"hover\\\",\\\"scope\\\":\\\"3088653332015871774\\\",\\\"id\\\":\\\"7719391636389719449\\\",\\\"type\\\":\\\"observable\\\"},filtered_data.out)) : undefined})); gd.on(\\\"plotly_unhover\\\",(function (){return WebIO.setval({\\\"name\\\":\\\"hover\\\",\\\"scope\\\":\\\"3088653332015871774\\\",\\\"id\\\":\\\"7719391636389719449\\\",\\\"type\\\":\\\"observable\\\"},{})})); gd.on(\\\"plotly_selected\\\",(function (data){var filtered_data=WebIO.PlotlyCommands.filterEventData(gd,data,\\\"selected\\\"); return !(filtered_data.isnil) ? (WebIO.setval({\\\"name\\\":\\\"selected\\\",\\\"scope\\\":\\\"3088653332015871774\\\",\\\"id\\\":\\\"16927067715253962215\\\",\\\"type\\\":\\\"observable\\\"},filtered_data.out)) : undefined})); gd.on(\\\"plotly_deselect\\\",(function (){return WebIO.setval({\\\"name\\\":\\\"selected\\\",\\\"scope\\\":\\\"3088653332015871774\\\",\\\"id\\\":\\\"16927067715253962215\\\",\\\"type\\\":\\\"observable\\\"},{})})); gd.on(\\\"plotly_relayout\\\",(function (data){var filtered_data=WebIO.PlotlyCommands.filterEventData(gd,data,\\\"relayout\\\"); return !(filtered_data.isnil) ? (WebIO.setval({\\\"name\\\":\\\"relayout\\\",\\\"scope\\\":\\\"3088653332015871774\\\",\\\"id\\\":\\\"9691873316664565059\\\",\\\"type\\\":\\\"observable\\\"},filtered_data.out)) : undefined})); return gd.on(\\\"plotly_click\\\",(function (data){var filtered_data=WebIO.PlotlyCommands.filterEventData(gd,data,\\\"click\\\"); return !(filtered_data.isnil) ? (WebIO.setval({\\\"name\\\":\\\"click\\\",\\\"scope\\\":\\\"3088653332015871774\\\",\\\"id\\\":\\\"8736925271105441363\\\",\\\"type\\\":\\\"observable\\\"},filtered_data.out)) : undefined}))}));\\n    (WebIO.importBlock({\\\"data\\\":[{\\\"name\\\":\\\"Plotly\\\",\\\"type\\\":\\\"js\\\",\\\"url\\\":\\\"\\/assetserver\\/57533c5d787f8bc76a9e58ed0a1abce5f1b0c14d-plotly-latest.min.js\\\"},{\\\"name\\\":null,\\\"type\\\":\\\"js\\\",\\\"url\\\":\\\"\\/assetserver\\/58a7932c57029f7dbaa4105104076ff149fc7585-plotly_webio.bundle.js\\\"}],\\\"type\\\":\\\"async_block\\\"})).then((imports) => handler.apply(this, imports));\\n}\\n\"],\"observables\":{\"_toImage\":{\"sync\":false,\"id\":\"3282009308756661055\",\"value\":{}},\"hover\":{\"sync\":false,\"id\":\"7719391636389719449\",\"value\":{}},\"selected\":{\"sync\":false,\"id\":\"16927067715253962215\",\"value\":{}},\"__gd_contents\":{\"sync\":false,\"id\":\"3509378570353347574\",\"value\":{}},\"click\":{\"sync\":false,\"id\":\"8736925271105441363\",\"value\":{}},\"image\":{\"sync\":true,\"id\":\"14629823124270422594\",\"value\":\"\"},\"__get_gd_contents\":{\"sync\":false,\"id\":\"4186709024362963261\",\"value\":\"\"},\"_downloadImage\":{\"sync\":false,\"id\":\"7523147334934227695\",\"value\":{}},\"relayout\":{\"sync\":false,\"id\":\"9691873316664565059\",\"value\":{}},\"_commands\":{\"sync\":false,\"id\":\"10113654747599060759\",\"value\":[]}}},\"children\":[{\"props\":{\"id\":\"plot-7de79139-2f5e-452e-930b-483a0f9945ed\"},\"nodeType\":\"DOM\",\"type\":\"node\",\"instanceArgs\":{\"namespace\":\"html\",\"tag\":\"div\"},\"children\":[]}]},\n",
       "            window,\n",
       "        );\n",
       "    } else {\n",
       "        document\n",
       "            .querySelector('[data-webio-mountpoint=\"15207327980953617901\"]')\n",
       "            .innerHTML = (\n",
       "                '<div style=\"padding: 1em; background-color: #f8d6da; border: 1px solid #f5c6cb\">' +\n",
       "                '<p><strong>WebIO not detected.</strong></p>' +\n",
       "                '<p>Please read ' +\n",
       "                '<a href=\"https://juliagizmos.github.io/WebIO.jl/latest/troubleshooting/not-detected/\" target=\"_blank\">the troubleshooting guide</a> ' +\n",
       "                'for more information on how to resolve this issue.</p>' +\n",
       "                '<p><a href=\"https://juliagizmos.github.io/WebIO.jl/latest/troubleshooting/not-detected/\" target=\"_blank\">https://juliagizmos.github.io/WebIO.jl/latest/troubleshooting/not-detected/</a></p>' +\n",
       "                '</div>'\n",
       "            );\n",
       "    }\n",
       "    </script>\n",
       "</div>\n"
      ],
      "text/plain": [
       "data: [\n",
       "  \"scatter with fields marker, type, x, and y\",\n",
       "  \"scatter with fields marker, type, x, and y\",\n",
       "  \"scatter with fields marker, type, x, and y\",\n",
       "  \"scatter with fields line, marker, type, x, and y\"\n",
       "]\n",
       "\n",
       "layout: \"layout with fields annotations, font, margin, showlegend, xaxis, and yaxis\"\n",
       "\n"
      ]
     },
     "execution_count": 3,
     "metadata": {
      "application/vnd.webio.node+json": {
       "kernelId": "28ec333a-283d-4da8-8e5f-39150d162437"
      }
     },
     "output_type": "execute_result"
    }
   ],
   "source": [
    "x = [1, 2]\n",
    "y = [-2, 1]\n",
    "z = x+y\n",
    "tr = [scatter(x=[0,x[1]], y=[0,x[2]]), \n",
    "      scatter(x=[0,y[1]], y=[0,y[2]]),\n",
    "      scatter(x=[0,z[1]], y=[0,z[2]]),\n",
    "      scatter(x=[y[1],z[1]], y=[y[2],z[2]],\n",
    "        line_dash=\"dash\")]\n",
    "an = [attr(x=x[1], y=x[2], text=\"x\"),\n",
    "      attr(x=y[1], y=y[2], text=\"y\"),\n",
    "      attr(x=z[1], y=z[2], text=\"x+y\")]\n",
    "la = Layout(yaxis_scaleanchor=\"x\", \n",
    "         showlegend=false, annotations=an) \n",
    "p1 = plot(tr,la,style=nla_style)"
   ]
  },
  {
   "cell_type": "code",
   "execution_count": 4,
   "metadata": {},
   "outputs": [
    {
     "data": {
      "text/plain": [
       "\"fig_la1.pdf\""
      ]
     },
     "execution_count": 4,
     "metadata": {},
     "output_type": "execute_result"
    }
   ],
   "source": [
    "if output\n",
    "    PlotlyJS.savefig(p1,\"fig_la1.pdf\")\n",
    "end"
   ]
  },
  {
   "cell_type": "code",
   "execution_count": 5,
   "metadata": {},
   "outputs": [
    {
     "data": {
      "application/vnd.plotly.v1+json": {
       "data": [
        {
         "showlegend": false,
         "type": "scatter",
         "x": [
          1,
          0.9987764162142613,
          0.9951086591716066,
          0.9890057044881307,
          0.9804824871166253,
          0.9695598647982466,
          0.9562645670201275,
          0.9406291296038439,
          0.9226918150848067,
          0.9024965190774262,
          0.8800926628551884,
          0.855535072408516,
          0.8288838442763838,
          0.8002041984800171,
          0.7695663189185699,
          0.7370451816173639,
          0.7027203712489902,
          0.6666758863762794,
          0.6289999338937425,
          0.5897847131705195,
          0.5491261904230725,
          0.507123863869773,
          0.46388052024208937,
          0.41950198324822896,
          0.37409685460479325,
          0.3277762482701767,
          0.2806535185300931,
          0.2328439826006414,
          0.18446463842775596,
          0.1356338783736256,
          0.08647119949074578,
          0.03709691109260524,
          -0.012368159663362882,
          -0.061802963460083966,
          -0.11108652504880455,
          -0.16009823929579758,
          -0.2087181663233351,
          -0.25682732502266786,
          -0.3043079842207361,
          -0.35104395078807754,
          -0.396920853982887,
          -0.44182642533538663,
          -0.4856507733875837,
          -0.5282866526160838,
          -0.569629725879857,
          -0.6095788197507078,
          -0.6480361721016052,
          -0.6849076713469913,
          -0.7201030867496003,
          -0.7535362892301954,
          -0.7851254621398549,
          -0.8147933014790243,
          -0.8424672050733574,
          -0.8680794502434017,
          -0.8915673595333444,
          -0.9128734540932492,
          -0.9319455943394345,
          -0.9487371075487709,
          -0.9632069020746571,
          -0.9753195679051626,
          -0.9850454633172633,
          -0.9923607874151029,
          -0.9972476383747747,
          -0.9996940572530831,
          -0.9996940572530831,
          -0.9972476383747747,
          -0.992360787415103,
          -0.9850454633172634,
          -0.9753195679051626,
          -0.963206902074657,
          -0.948737107548771,
          -0.9319455943394346,
          -0.9128734540932493,
          -0.8915673595333445,
          -0.8680794502434018,
          -0.8424672050733577,
          -0.8147933014790244,
          -0.7851254621398548,
          -0.7535362892301956,
          -0.7201030867496006,
          -0.6849076713469914,
          -0.6480361721016055,
          -0.609578819750708,
          -0.5696297258798572,
          -0.5282866526160837,
          -0.48565077338758356,
          -0.44182642533538646,
          -0.3969208539828876,
          -0.35104395078807793,
          -0.30430798422073635,
          -0.25682732502266814,
          -0.20871816632333598,
          -0.1600982392957974,
          -0.11108652504880435,
          -0.061802963460083765,
          -0.012368159663363349,
          0.037096911092604996,
          0.08647119949074553,
          0.13563387837362556,
          0.18446463842775507,
          0.2328439826006416,
          0.2806535185300933,
          0.32777624827017626,
          0.3740968546047928,
          0.41950198324822874,
          0.4638805202420892,
          0.507123863869773,
          0.5491261904230718,
          0.5897847131705196,
          0.6289999338937428,
          0.666675886376279,
          0.7027203712489899,
          0.7370451816173637,
          0.7695663189185697,
          0.8002041984800166,
          0.8288838442763834,
          0.8555350724085161,
          0.8800926628551885,
          0.9024965190774261,
          0.9226918150848066,
          0.9406291296038438,
          0.9562645670201275,
          0.9695598647982464,
          0.9804824871166252,
          0.9890057044881307,
          0.9951086591716065,
          0.9987764162142613,
          1
         ],
         "xaxis": "x1",
         "y": [
          0,
          0.049453719922738996,
          0.09878641830579414,
          0.14787736976946894,
          0.19660644052928852,
          0.24485438238350118,
          0.2925031245334109,
          0.33943606252240655,
          0.3855383435866074,
          0.43069714771882195,
          0.47480196375801115,
          0.5177448598286181,
          0.5594207474679531,
          0.599727638795273,
          0.6385668960932144,
          0.6758434731908174,
          0.7114661480574332,
          0.7453477460383189,
          0.7774053531856258,
          0.8075605191627239,
          0.8357394492253214,
          0.8618731848095704,
          0.8858977722852274,
          0.9077544194609038,
          0.9273896394584102,
          0.94475538160411,
          0.9598091490169692,
          0.9725141026055469,
          0.9828391512194238,
          0.990759027734458,
          0.9962543508856719,
          0.9993116726964553,
          0.9999235113880169,
          0.998088369688552,
          0.9938107384973164,
          0.9871010858946441,
          0.9779758315248003,
          0.9664573064143605,
          0.9525736983244457,
          0.9363589827705493,
          0.9178528398787551,
          0.8971005572818211,
          0.8741529192927526,
          0.8490660826270787,
          0.8219014389779585,
          0.7927254647804207,
          0.7616095585323879,
          0.7286298660705872,
          0.693867094228929,
          0.6574063133353583,
          0.6193367490305086,
          0.5797515639176076,
          0.5387476295779737,
          0.49642528951002635,
          0.4528881135719287,
          0.4082426445287906,
          0.3625981373246671,
          0.31606629171740497,
          0.268760978930614,
          0.2207979629917064,
          0.17229461743791677,
          0.12336963808359339,
          0.07414275255164605,
          0.024734427279995138,
          -0.02473442727999489,
          -0.0741427525516458,
          -0.1233696380835927,
          -0.17229461743791608,
          -0.22079796299170615,
          -0.26876097893061424,
          -0.31606629171740475,
          -0.3625981373246669,
          -0.4082426445287904,
          -0.4528881135719285,
          -0.4964252895100261,
          -0.5387476295779732,
          -0.5797515639176074,
          -0.6193367490305087,
          -0.657406313335358,
          -0.6938670942289289,
          -0.7286298660705871,
          -0.7616095585323877,
          -0.7927254647804206,
          -0.8219014389779584,
          -0.8490660826270788,
          -0.8741529192927527,
          -0.8971005572818213,
          -0.9178528398787549,
          -0.9363589827705491,
          -0.9525736983244457,
          -0.9664573064143603,
          -0.9779758315248002,
          -0.9871010858946441,
          -0.9938107384973164,
          -0.998088369688552,
          -0.9999235113880169,
          -0.9993116726964553,
          -0.996254350885672,
          -0.990759027734458,
          -0.9828391512194239,
          -0.9725141026055468,
          -0.9598091490169692,
          -0.9447553816041101,
          -0.9273896394584105,
          -0.907754419460904,
          -0.8858977722852275,
          -0.8618731848095704,
          -0.8357394492253218,
          -0.8075605191627238,
          -0.7774053531856255,
          -0.7453477460383192,
          -0.7114661480574335,
          -0.6758434731908176,
          -0.6385668960932145,
          -0.5997276387952737,
          -0.5594207474679538,
          -0.5177448598286178,
          -0.47480196375801087,
          -0.43069714771882234,
          -0.38553834358660766,
          -0.3394360625224067,
          -0.29250312453341093,
          -0.24485438238350202,
          -0.19660644052928922,
          -0.14787736976946866,
          -0.09878641830579461,
          -0.04945371992273936,
          -2.4492935982947064e-16
         ],
         "yaxis": "y1"
        },
        {
         "showlegend": false,
         "type": "scatter",
         "x": [
          1,
          0,
          0,
          -1,
          -1,
          0,
          0,
          1
         ],
         "xaxis": "x2",
         "y": [
          0,
          1,
          1,
          0,
          0,
          -1,
          -1,
          0
         ],
         "yaxis": "y2"
        },
        {
         "showlegend": false,
         "type": "scatter",
         "x": [
          1,
          1,
          1,
          -1,
          -1,
          -1,
          -1,
          1
         ],
         "xaxis": "x3",
         "y": [
          -1,
          1,
          1,
          1,
          1,
          -1,
          -1,
          -1
         ],
         "yaxis": "y3"
        },
        {
         "showlegend": false,
         "type": "scatter",
         "x": [
          1,
          0.9993580475340421,
          0.9974313627472795,
          0.9942174431823811,
          0.9897120496652017,
          0.9839091009164436,
          0.9768005202701567,
          0.9683760282798621,
          0.9586228724687464,
          0.9475254822804196,
          0.9350650331097736,
          0.9212188977082216,
          0.9059599556311947,
          0.8892557207787299,
          0.8710672320164449,
          0.8513476300719466,
          0.8300403117172603,
          0.807076503636565,
          0.782372023111552,
          0.7558228728311894,
          0.7272991202572449,
          0.6966361765879527,
          0.6636219944800159,
          0.6279775912509288,
          0.5893261005969618,
          0.5471408620943587,
          0.5006521070151613,
          0.44866303624062914,
          0.3891372219469331,
          0.3180696810251367,
          0.22505370212176642,
          7.825109581173138e-09,
          -7.825109581173138e-09,
          -0.22505370212176642,
          -0.3180696810251367,
          -0.3891372219469331,
          -0.44866303624062914,
          -0.5006521070151613,
          -0.5471408620943587,
          -0.5893261005969618,
          -0.6279775912509288,
          -0.6636219944800159,
          -0.6966361765879527,
          -0.7272991202572449,
          -0.7558228728311894,
          -0.782372023111552,
          -0.807076503636565,
          -0.8300403117172603,
          -0.8513476300719466,
          -0.8710672320164449,
          -0.8892557207787299,
          -0.9059599556311947,
          -0.9212188977082216,
          -0.9350650331097736,
          -0.9475254822804196,
          -0.9586228724687464,
          -0.9683760282798621,
          -0.9768005202701567,
          -0.9839091009164436,
          -0.9897120496652017,
          -0.9942174431823811,
          -0.9974313627472795,
          -0.9993580475340421,
          -1,
          -1,
          -0.9993580475340421,
          -0.9974313627472795,
          -0.9942174431823811,
          -0.9897120496652017,
          -0.9839091009164436,
          -0.9768005202701567,
          -0.9683760282798621,
          -0.9586228724687464,
          -0.9475254822804196,
          -0.9350650331097736,
          -0.9212188977082216,
          -0.9059599556311947,
          -0.8892557207787299,
          -0.8710672320164449,
          -0.8513476300719466,
          -0.8300403117172603,
          -0.807076503636565,
          -0.782372023111552,
          -0.7558228728311894,
          -0.7272991202572449,
          -0.6966361765879527,
          -0.6636219944800159,
          -0.6279775912509288,
          -0.5893261005969618,
          -0.5471408620943587,
          -0.5006521070151613,
          -0.44866303624062914,
          -0.3891372219469331,
          -0.3180696810251367,
          -0.22505370212176642,
          -7.825109581173138e-09,
          7.825109581173138e-09,
          0.22505370212176642,
          0.3180696810251367,
          0.3891372219469331,
          0.44866303624062914,
          0.5006521070151613,
          0.5471408620943587,
          0.5893261005969618,
          0.6279775912509288,
          0.6636219944800159,
          0.6966361765879527,
          0.7272991202572449,
          0.7558228728311894,
          0.782372023111552,
          0.807076503636565,
          0.8300403117172603,
          0.8513476300719466,
          0.8710672320164449,
          0.8892557207787299,
          0.9059599556311947,
          0.9212188977082216,
          0.9350650331097736,
          0.9475254822804196,
          0.9586228724687464,
          0.9683760282798621,
          0.9768005202701567,
          0.9839091009164436,
          0.9897120496652017,
          0.9942174431823811,
          0.9974313627472795,
          0.9993580475340421,
          1
         ],
         "xaxis": "x4",
         "y": [
          0,
          0.22505370212176629,
          0.31806968102513666,
          0.3891372219469331,
          0.4486630362406291,
          0.5006521070151613,
          0.5471408620943586,
          0.5893261005969618,
          0.6279775912509288,
          0.663621994480016,
          0.6966361765879526,
          0.727299120257245,
          0.7558228728311894,
          0.782372023111552,
          0.8070765036365649,
          0.8300403117172602,
          0.8513476300719466,
          0.8710672320164448,
          0.88925572077873,
          0.9059599556311947,
          0.9212188977082216,
          0.9350650331097736,
          0.9475254822804196,
          0.9586228724687464,
          0.9683760282798621,
          0.9768005202701567,
          0.9839091009164436,
          0.9897120496652017,
          0.9942174431823811,
          0.9974313627472795,
          0.9993580475340421,
          1,
          1,
          0.9993580475340421,
          0.9974313627472795,
          0.9942174431823811,
          0.9897120496652017,
          0.9839091009164436,
          0.9768005202701567,
          0.9683760282798621,
          0.9586228724687464,
          0.9475254822804196,
          0.9350650331097736,
          0.9212188977082216,
          0.9059599556311947,
          0.88925572077873,
          0.8710672320164448,
          0.8513476300719466,
          0.8300403117172602,
          0.8070765036365649,
          0.782372023111552,
          0.7558228728311894,
          0.727299120257245,
          0.6966361765879526,
          0.663621994480016,
          0.6279775912509288,
          0.5893261005969618,
          0.5471408620943586,
          0.5006521070151613,
          0.4486630362406291,
          0.3891372219469331,
          0.31806968102513666,
          0.22505370212176629,
          0,
          0,
          -0.22505370212176629,
          -0.31806968102513666,
          -0.3891372219469331,
          -0.4486630362406291,
          -0.5006521070151613,
          -0.5471408620943586,
          -0.5893261005969618,
          -0.6279775912509288,
          -0.663621994480016,
          -0.6966361765879526,
          -0.727299120257245,
          -0.7558228728311894,
          -0.782372023111552,
          -0.8070765036365649,
          -0.8300403117172602,
          -0.8513476300719466,
          -0.8710672320164448,
          -0.88925572077873,
          -0.9059599556311947,
          -0.9212188977082216,
          -0.9350650331097736,
          -0.9475254822804196,
          -0.9586228724687464,
          -0.9683760282798621,
          -0.9768005202701567,
          -0.9839091009164436,
          -0.9897120496652017,
          -0.9942174431823811,
          -0.9974313627472795,
          -0.9993580475340421,
          -1,
          -1,
          -0.9993580475340421,
          -0.9974313627472795,
          -0.9942174431823811,
          -0.9897120496652017,
          -0.9839091009164436,
          -0.9768005202701567,
          -0.9683760282798621,
          -0.9586228724687464,
          -0.9475254822804196,
          -0.9350650331097736,
          -0.9212188977082216,
          -0.9059599556311947,
          -0.88925572077873,
          -0.8710672320164448,
          -0.8513476300719466,
          -0.8300403117172602,
          -0.8070765036365649,
          -0.782372023111552,
          -0.7558228728311894,
          -0.727299120257245,
          -0.6966361765879526,
          -0.663621994480016,
          -0.6279775912509288,
          -0.5893261005969618,
          -0.5471408620943586,
          -0.5006521070151613,
          -0.4486630362406291,
          -0.3891372219469331,
          -0.31806968102513666,
          -0.22505370212176629,
          0
         ],
         "yaxis": "y4"
        }
       ],
       "frames": [],
       "layout": {
        "annotations": [
         {
          "font": {
           "size": 16
          },
          "showarrow": false,
          "text": "Unit ball in the 2-norm",
          "x": 0.225,
          "xanchor": "center",
          "xref": "paper",
          "y": 1,
          "yanchor": "bottom",
          "yref": "paper"
         },
         {
          "font": {
           "size": 16
          },
          "showarrow": false,
          "text": "Unit ball in the infinity-norm",
          "x": 0.225,
          "xanchor": "center",
          "xref": "paper",
          "y": 0.36250000000000004,
          "yanchor": "bottom",
          "yref": "paper"
         },
         {
          "font": {
           "size": 16
          },
          "showarrow": false,
          "text": "Unit ball in the 1-norm",
          "x": 0.775,
          "xanchor": "center",
          "xref": "paper",
          "y": 1,
          "yanchor": "bottom",
          "yref": "paper"
         },
         {
          "font": {
           "size": 16
          },
          "showarrow": false,
          "text": "Unit ball in the 4-norm",
          "x": 0.775,
          "xanchor": "center",
          "xref": "paper",
          "y": 0.36250000000000004,
          "yanchor": "bottom",
          "yref": "paper"
         }
        ],
        "margin": {
         "b": 50,
         "l": 50,
         "r": 50,
         "t": 60
        },
        "xaxis1": {
         "anchor": "y1",
         "domain": [
          0,
          0.45
         ]
        },
        "xaxis2": {
         "anchor": "y2",
         "domain": [
          0.55,
          1
         ]
        },
        "xaxis3": {
         "anchor": "y3",
         "domain": [
          0,
          0.45
         ]
        },
        "xaxis4": {
         "anchor": "y4",
         "domain": [
          0.55,
          1
         ]
        },
        "yaxis1": {
         "anchor": "x1",
         "domain": [
          0.6375,
          1
         ],
         "scaleanchor": "x"
        },
        "yaxis2": {
         "anchor": "x2",
         "domain": [
          0.6375,
          1
         ],
         "scaleanchor": "x2"
        },
        "yaxis3": {
         "anchor": "x3",
         "domain": [
          5.551115123125783e-17,
          0.36250000000000004
         ],
         "scaleanchor": "x3"
        },
        "yaxis4": {
         "anchor": "x4",
         "domain": [
          5.551115123125783e-17,
          0.36250000000000004
         ],
         "scaleanchor": "x4"
        }
       }
      },
      "application/vnd.webio.node+json": {
       "children": [
        {
         "children": [],
         "instanceArgs": {
          "namespace": "html",
          "tag": "div"
         },
         "nodeType": "DOM",
         "props": {
          "id": "plot-c5ad5fb5-bd3f-4d5c-ba3b-90151cd134d7"
         },
         "type": "node"
        }
       ],
       "instanceArgs": {
        "handlers": {
         "__get_gd_contents": [
          "(function (prop){prop==\"data\" ? (WebIO.setval({\"name\":\"__gd_contents\",\"scope\":\"897704300484073984\",\"id\":\"4621293203112831305\",\"type\":\"observable\"},this.plotElem.data)) : undefined; return prop==\"layout\" ? (WebIO.setval({\"name\":\"__gd_contents\",\"scope\":\"897704300484073984\",\"id\":\"4621293203112831305\",\"type\":\"observable\"},this.plotElem.layout)) : undefined})"
         ],
         "_commands": [
          "(function (args){var fn=args.shift(); var elem=this.plotElem; var Plotly=this.Plotly; args.unshift(elem); return Plotly[fn].apply(this,args)})"
         ],
         "_downloadImage": [
          "(function (options){return this.Plotly.downloadImage(this.plotElem,options)})"
         ],
         "_toImage": [
          "(function (options){return this.Plotly.toImage(this.plotElem,options).then((function (data){return WebIO.setval({\"name\":\"image\",\"scope\":\"897704300484073984\",\"id\":\"6837380774933162636\",\"type\":\"observable\"},data)}))})"
         ]
        },
        "id": "897704300484073984",
        "imports": {
         "data": [
          {
           "name": "Plotly",
           "type": "js",
           "url": "/assetserver/57533c5d787f8bc76a9e58ed0a1abce5f1b0c14d-plotly-latest.min.js"
          },
          {
           "name": null,
           "type": "js",
           "url": "/assetserver/58a7932c57029f7dbaa4105104076ff149fc7585-plotly_webio.bundle.js"
          }
         ],
         "type": "async_block"
        },
        "mount_callbacks": [
         "function () {\n    var handler = ((function (Plotly,PlotlyWebIO){PlotlyWebIO.init(WebIO); var gd=this.dom.querySelector(\"#plot-c5ad5fb5-bd3f-4d5c-ba3b-90151cd134d7\"); this.plotElem=gd; this.Plotly=Plotly; (window.Blink!==undefined) ? (gd.style.width=\"100%\", gd.style.height=\"100vh\", gd.style.marginLeft=\"0%\", gd.style.marginTop=\"0vh\") : undefined; window.onresize=(function (){return Plotly.Plots.resize(gd)}); Plotly.newPlot(gd,[{\"showlegend\":false,\"xaxis\":\"x1\",\"y\":[0.0,0.049453719922738996,0.09878641830579414,0.14787736976946894,0.19660644052928852,0.24485438238350118,0.2925031245334109,0.33943606252240655,0.3855383435866074,0.43069714771882195,0.47480196375801115,0.5177448598286181,0.5594207474679531,0.599727638795273,0.6385668960932144,0.6758434731908174,0.7114661480574332,0.7453477460383189,0.7774053531856258,0.8075605191627239,0.8357394492253214,0.8618731848095704,0.8858977722852274,0.9077544194609038,0.9273896394584102,0.94475538160411,0.9598091490169692,0.9725141026055469,0.9828391512194238,0.990759027734458,0.9962543508856719,0.9993116726964553,0.9999235113880169,0.998088369688552,0.9938107384973164,0.9871010858946441,0.9779758315248003,0.9664573064143605,0.9525736983244457,0.9363589827705493,0.9178528398787551,0.8971005572818211,0.8741529192927526,0.8490660826270787,0.8219014389779585,0.7927254647804207,0.7616095585323879,0.7286298660705872,0.693867094228929,0.6574063133353583,0.6193367490305086,0.5797515639176076,0.5387476295779737,0.49642528951002635,0.4528881135719287,0.4082426445287906,0.3625981373246671,0.31606629171740497,0.268760978930614,0.2207979629917064,0.17229461743791677,0.12336963808359339,0.07414275255164605,0.024734427279995138,-0.02473442727999489,-0.0741427525516458,-0.1233696380835927,-0.17229461743791608,-0.22079796299170615,-0.26876097893061424,-0.31606629171740475,-0.3625981373246669,-0.4082426445287904,-0.4528881135719285,-0.4964252895100261,-0.5387476295779732,-0.5797515639176074,-0.6193367490305087,-0.657406313335358,-0.6938670942289289,-0.7286298660705871,-0.7616095585323877,-0.7927254647804206,-0.8219014389779584,-0.8490660826270788,-0.8741529192927527,-0.8971005572818213,-0.9178528398787549,-0.9363589827705491,-0.9525736983244457,-0.9664573064143603,-0.9779758315248002,-0.9871010858946441,-0.9938107384973164,-0.998088369688552,-0.9999235113880169,-0.9993116726964553,-0.996254350885672,-0.990759027734458,-0.9828391512194239,-0.9725141026055468,-0.9598091490169692,-0.9447553816041101,-0.9273896394584105,-0.907754419460904,-0.8858977722852275,-0.8618731848095704,-0.8357394492253218,-0.8075605191627238,-0.7774053531856255,-0.7453477460383192,-0.7114661480574335,-0.6758434731908176,-0.6385668960932145,-0.5997276387952737,-0.5594207474679538,-0.5177448598286178,-0.47480196375801087,-0.43069714771882234,-0.38553834358660766,-0.3394360625224067,-0.29250312453341093,-0.24485438238350202,-0.19660644052928922,-0.14787736976946866,-0.09878641830579461,-0.04945371992273936,-2.4492935982947064e-16],\"type\":\"scatter\",\"yaxis\":\"y1\",\"x\":[1.0,0.9987764162142613,0.9951086591716066,0.9890057044881307,0.9804824871166253,0.9695598647982466,0.9562645670201275,0.9406291296038439,0.9226918150848067,0.9024965190774262,0.8800926628551884,0.855535072408516,0.8288838442763838,0.8002041984800171,0.7695663189185699,0.7370451816173639,0.7027203712489902,0.6666758863762794,0.6289999338937425,0.5897847131705195,0.5491261904230725,0.507123863869773,0.46388052024208937,0.41950198324822896,0.37409685460479325,0.3277762482701767,0.2806535185300931,0.2328439826006414,0.18446463842775596,0.1356338783736256,0.08647119949074578,0.03709691109260524,-0.012368159663362882,-0.061802963460083966,-0.11108652504880455,-0.16009823929579758,-0.2087181663233351,-0.25682732502266786,-0.3043079842207361,-0.35104395078807754,-0.396920853982887,-0.44182642533538663,-0.4856507733875837,-0.5282866526160838,-0.569629725879857,-0.6095788197507078,-0.6480361721016052,-0.6849076713469913,-0.7201030867496003,-0.7535362892301954,-0.7851254621398549,-0.8147933014790243,-0.8424672050733574,-0.8680794502434017,-0.8915673595333444,-0.9128734540932492,-0.9319455943394345,-0.9487371075487709,-0.9632069020746571,-0.9753195679051626,-0.9850454633172633,-0.9923607874151029,-0.9972476383747747,-0.9996940572530831,-0.9996940572530831,-0.9972476383747747,-0.992360787415103,-0.9850454633172634,-0.9753195679051626,-0.963206902074657,-0.948737107548771,-0.9319455943394346,-0.9128734540932493,-0.8915673595333445,-0.8680794502434018,-0.8424672050733577,-0.8147933014790244,-0.7851254621398548,-0.7535362892301956,-0.7201030867496006,-0.6849076713469914,-0.6480361721016055,-0.609578819750708,-0.5696297258798572,-0.5282866526160837,-0.48565077338758356,-0.44182642533538646,-0.3969208539828876,-0.35104395078807793,-0.30430798422073635,-0.25682732502266814,-0.20871816632333598,-0.1600982392957974,-0.11108652504880435,-0.061802963460083765,-0.012368159663363349,0.037096911092604996,0.08647119949074553,0.13563387837362556,0.18446463842775507,0.2328439826006416,0.2806535185300933,0.32777624827017626,0.3740968546047928,0.41950198324822874,0.4638805202420892,0.507123863869773,0.5491261904230718,0.5897847131705196,0.6289999338937428,0.666675886376279,0.7027203712489899,0.7370451816173637,0.7695663189185697,0.8002041984800166,0.8288838442763834,0.8555350724085161,0.8800926628551885,0.9024965190774261,0.9226918150848066,0.9406291296038438,0.9562645670201275,0.9695598647982464,0.9804824871166252,0.9890057044881307,0.9951086591716065,0.9987764162142613,1.0]},{\"showlegend\":false,\"xaxis\":\"x2\",\"y\":[0.0,1.0,1.0,0.0,-0.0,-1.0,-1.0,-0.0],\"type\":\"scatter\",\"yaxis\":\"y2\",\"x\":[1.0,0.0,-0.0,-1.0,-1.0,-0.0,0.0,1.0]},{\"showlegend\":false,\"xaxis\":\"x3\",\"y\":[-1.0,1.0,1.0,1.0,1.0,-1.0,-1.0,-1.0],\"type\":\"scatter\",\"yaxis\":\"y3\",\"x\":[1.0,1.0,1.0,-1.0,-1.0,-1.0,-1.0,1.0]},{\"showlegend\":false,\"xaxis\":\"x4\",\"y\":[0.0,0.22505370212176629,0.31806968102513666,0.3891372219469331,0.4486630362406291,0.5006521070151613,0.5471408620943586,0.5893261005969618,0.6279775912509288,0.663621994480016,0.6966361765879526,0.727299120257245,0.7558228728311894,0.782372023111552,0.8070765036365649,0.8300403117172602,0.8513476300719466,0.8710672320164448,0.88925572077873,0.9059599556311947,0.9212188977082216,0.9350650331097736,0.9475254822804196,0.9586228724687464,0.9683760282798621,0.9768005202701567,0.9839091009164436,0.9897120496652017,0.9942174431823811,0.9974313627472795,0.9993580475340421,1.0,1.0,0.9993580475340421,0.9974313627472795,0.9942174431823811,0.9897120496652017,0.9839091009164436,0.9768005202701567,0.9683760282798621,0.9586228724687464,0.9475254822804196,0.9350650331097736,0.9212188977082216,0.9059599556311947,0.88925572077873,0.8710672320164448,0.8513476300719466,0.8300403117172602,0.8070765036365649,0.782372023111552,0.7558228728311894,0.727299120257245,0.6966361765879526,0.663621994480016,0.6279775912509288,0.5893261005969618,0.5471408620943586,0.5006521070151613,0.4486630362406291,0.3891372219469331,0.31806968102513666,0.22505370212176629,0.0,-0.0,-0.22505370212176629,-0.31806968102513666,-0.3891372219469331,-0.4486630362406291,-0.5006521070151613,-0.5471408620943586,-0.5893261005969618,-0.6279775912509288,-0.663621994480016,-0.6966361765879526,-0.727299120257245,-0.7558228728311894,-0.782372023111552,-0.8070765036365649,-0.8300403117172602,-0.8513476300719466,-0.8710672320164448,-0.88925572077873,-0.9059599556311947,-0.9212188977082216,-0.9350650331097736,-0.9475254822804196,-0.9586228724687464,-0.9683760282798621,-0.9768005202701567,-0.9839091009164436,-0.9897120496652017,-0.9942174431823811,-0.9974313627472795,-0.9993580475340421,-1.0,-1.0,-0.9993580475340421,-0.9974313627472795,-0.9942174431823811,-0.9897120496652017,-0.9839091009164436,-0.9768005202701567,-0.9683760282798621,-0.9586228724687464,-0.9475254822804196,-0.9350650331097736,-0.9212188977082216,-0.9059599556311947,-0.88925572077873,-0.8710672320164448,-0.8513476300719466,-0.8300403117172602,-0.8070765036365649,-0.782372023111552,-0.7558228728311894,-0.727299120257245,-0.6966361765879526,-0.663621994480016,-0.6279775912509288,-0.5893261005969618,-0.5471408620943586,-0.5006521070151613,-0.4486630362406291,-0.3891372219469331,-0.31806968102513666,-0.22505370212176629,-0.0],\"type\":\"scatter\",\"yaxis\":\"y4\",\"x\":[1.0,0.9993580475340421,0.9974313627472795,0.9942174431823811,0.9897120496652017,0.9839091009164436,0.9768005202701567,0.9683760282798621,0.9586228724687464,0.9475254822804196,0.9350650331097736,0.9212188977082216,0.9059599556311947,0.8892557207787299,0.8710672320164449,0.8513476300719466,0.8300403117172603,0.807076503636565,0.782372023111552,0.7558228728311894,0.7272991202572449,0.6966361765879527,0.6636219944800159,0.6279775912509288,0.5893261005969618,0.5471408620943587,0.5006521070151613,0.44866303624062914,0.3891372219469331,0.3180696810251367,0.22505370212176642,7.825109581173138e-9,-7.825109581173138e-9,-0.22505370212176642,-0.3180696810251367,-0.3891372219469331,-0.44866303624062914,-0.5006521070151613,-0.5471408620943587,-0.5893261005969618,-0.6279775912509288,-0.6636219944800159,-0.6966361765879527,-0.7272991202572449,-0.7558228728311894,-0.782372023111552,-0.807076503636565,-0.8300403117172603,-0.8513476300719466,-0.8710672320164449,-0.8892557207787299,-0.9059599556311947,-0.9212188977082216,-0.9350650331097736,-0.9475254822804196,-0.9586228724687464,-0.9683760282798621,-0.9768005202701567,-0.9839091009164436,-0.9897120496652017,-0.9942174431823811,-0.9974313627472795,-0.9993580475340421,-1.0,-1.0,-0.9993580475340421,-0.9974313627472795,-0.9942174431823811,-0.9897120496652017,-0.9839091009164436,-0.9768005202701567,-0.9683760282798621,-0.9586228724687464,-0.9475254822804196,-0.9350650331097736,-0.9212188977082216,-0.9059599556311947,-0.8892557207787299,-0.8710672320164449,-0.8513476300719466,-0.8300403117172603,-0.807076503636565,-0.782372023111552,-0.7558228728311894,-0.7272991202572449,-0.6966361765879527,-0.6636219944800159,-0.6279775912509288,-0.5893261005969618,-0.5471408620943587,-0.5006521070151613,-0.44866303624062914,-0.3891372219469331,-0.3180696810251367,-0.22505370212176642,-7.825109581173138e-9,7.825109581173138e-9,0.22505370212176642,0.3180696810251367,0.3891372219469331,0.44866303624062914,0.5006521070151613,0.5471408620943587,0.5893261005969618,0.6279775912509288,0.6636219944800159,0.6966361765879527,0.7272991202572449,0.7558228728311894,0.782372023111552,0.807076503636565,0.8300403117172603,0.8513476300719466,0.8710672320164449,0.8892557207787299,0.9059599556311947,0.9212188977082216,0.9350650331097736,0.9475254822804196,0.9586228724687464,0.9683760282798621,0.9768005202701567,0.9839091009164436,0.9897120496652017,0.9942174431823811,0.9974313627472795,0.9993580475340421,1.0]}],{\"xaxis1\":{\"domain\":[0.0,0.45],\"anchor\":\"y1\"},\"yaxis1\":{\"scaleanchor\":\"x\",\"domain\":[0.6375,1.0],\"anchor\":\"x1\"},\"yaxis3\":{\"scaleanchor\":\"x3\",\"domain\":[5.551115123125783e-17,0.36250000000000004],\"anchor\":\"x3\"},\"xaxis2\":{\"domain\":[0.55,1.0],\"anchor\":\"y2\"},\"margin\":{\"l\":50,\"b\":50,\"r\":50,\"t\":60},\"xaxis3\":{\"domain\":[0.0,0.45],\"anchor\":\"y3\"},\"yaxis2\":{\"scaleanchor\":\"x2\",\"domain\":[0.6375,1.0],\"anchor\":\"x2\"},\"xaxis4\":{\"domain\":[0.55,1.0],\"anchor\":\"y4\"},\"yaxis4\":{\"scaleanchor\":\"x4\",\"domain\":[5.551115123125783e-17,0.36250000000000004],\"anchor\":\"x4\"},\"annotations\":[{\"yanchor\":\"bottom\",\"xanchor\":\"center\",\"y\":1.0,\"font\":{\"size\":16},\"showarrow\":false,\"yref\":\"paper\",\"text\":\"Unit ball in the 2-norm\",\"xref\":\"paper\",\"x\":0.225},{\"yanchor\":\"bottom\",\"xanchor\":\"center\",\"y\":0.36250000000000004,\"font\":{\"size\":16},\"showarrow\":false,\"yref\":\"paper\",\"text\":\"Unit ball in the infinity-norm\",\"xref\":\"paper\",\"x\":0.225},{\"yanchor\":\"bottom\",\"xanchor\":\"center\",\"y\":1.0,\"font\":{\"size\":16},\"showarrow\":false,\"yref\":\"paper\",\"text\":\"Unit ball in the 1-norm\",\"xref\":\"paper\",\"x\":0.775},{\"yanchor\":\"bottom\",\"xanchor\":\"center\",\"y\":0.36250000000000004,\"font\":{\"size\":16},\"showarrow\":false,\"yref\":\"paper\",\"text\":\"Unit ball in the 4-norm\",\"xref\":\"paper\",\"x\":0.775}]},{\"showLink\":false}); gd.on(\"plotly_hover\",(function (data){var filtered_data=WebIO.PlotlyCommands.filterEventData(gd,data,\"hover\"); return !(filtered_data.isnil) ? (WebIO.setval({\"name\":\"hover\",\"scope\":\"897704300484073984\",\"id\":\"4944075998605689941\",\"type\":\"observable\"},filtered_data.out)) : undefined})); gd.on(\"plotly_unhover\",(function (){return WebIO.setval({\"name\":\"hover\",\"scope\":\"897704300484073984\",\"id\":\"4944075998605689941\",\"type\":\"observable\"},{})})); gd.on(\"plotly_selected\",(function (data){var filtered_data=WebIO.PlotlyCommands.filterEventData(gd,data,\"selected\"); return !(filtered_data.isnil) ? (WebIO.setval({\"name\":\"selected\",\"scope\":\"897704300484073984\",\"id\":\"9680933682825036859\",\"type\":\"observable\"},filtered_data.out)) : undefined})); gd.on(\"plotly_deselect\",(function (){return WebIO.setval({\"name\":\"selected\",\"scope\":\"897704300484073984\",\"id\":\"9680933682825036859\",\"type\":\"observable\"},{})})); gd.on(\"plotly_relayout\",(function (data){var filtered_data=WebIO.PlotlyCommands.filterEventData(gd,data,\"relayout\"); return !(filtered_data.isnil) ? (WebIO.setval({\"name\":\"relayout\",\"scope\":\"897704300484073984\",\"id\":\"6924385712047659935\",\"type\":\"observable\"},filtered_data.out)) : undefined})); return gd.on(\"plotly_click\",(function (data){var filtered_data=WebIO.PlotlyCommands.filterEventData(gd,data,\"click\"); return !(filtered_data.isnil) ? (WebIO.setval({\"name\":\"click\",\"scope\":\"897704300484073984\",\"id\":\"678228933220921922\",\"type\":\"observable\"},filtered_data.out)) : undefined}))}));\n    (WebIO.importBlock({\"data\":[{\"name\":\"Plotly\",\"type\":\"js\",\"url\":\"/assetserver/57533c5d787f8bc76a9e58ed0a1abce5f1b0c14d-plotly-latest.min.js\"},{\"name\":null,\"type\":\"js\",\"url\":\"/assetserver/58a7932c57029f7dbaa4105104076ff149fc7585-plotly_webio.bundle.js\"}],\"type\":\"async_block\"})).then((imports) => handler.apply(this, imports));\n}\n"
        ],
        "observables": {
         "__gd_contents": {
          "id": "4621293203112831305",
          "sync": false,
          "value": {}
         },
         "__get_gd_contents": {
          "id": "7731548665936565663",
          "sync": false,
          "value": ""
         },
         "_commands": {
          "id": "4855830861766601417",
          "sync": false,
          "value": []
         },
         "_downloadImage": {
          "id": "9930359725358241047",
          "sync": false,
          "value": {}
         },
         "_toImage": {
          "id": "9227563634997143159",
          "sync": false,
          "value": {}
         },
         "click": {
          "id": "678228933220921922",
          "sync": false,
          "value": {}
         },
         "hover": {
          "id": "4944075998605689941",
          "sync": false,
          "value": {}
         },
         "image": {
          "id": "6837380774933162636",
          "sync": true,
          "value": ""
         },
         "relayout": {
          "id": "6924385712047659935",
          "sync": false,
          "value": {}
         },
         "selected": {
          "id": "9680933682825036859",
          "sync": false,
          "value": {}
         }
        },
        "systemjs_options": null
       },
       "nodeType": "Scope",
       "props": {},
       "type": "node"
      },
      "image/png": "[encoded data removed]",
      "image/svg+xml": [
       "<svg class=\"main-svg\" xmlns=\"http://www.w3.org/2000/svg\" xmlns:xlink=\"http://www.w3.org/1999/xlink\" width=\"700\" height=\"500\" style=\"\" viewBox=\"0 0 700 500\"><rect x=\"0\" y=\"0\" width=\"700\" height=\"500\" style=\"fill: rgb(255, 255, 255); fill-opacity: 1;\"/><defs id=\"defs-75fc10\"><g class=\"clips\"><clipPath id=\"clip75fc10xyplot\" class=\"plotclip\"><rect width=\"270\" height=\"141.37500000000003\"/></clipPath><clipPath id=\"clip75fc10x2y2plot\" class=\"plotclip\"><rect width=\"270\" height=\"141.37500000000003\"/></clipPath><clipPath id=\"clip75fc10x3y3plot\" class=\"plotclip\"><rect width=\"270\" height=\"141.375\"/></clipPath><clipPath id=\"clip75fc10x4y4plot\" class=\"plotclip\"><rect width=\"270\" height=\"141.375\"/></clipPath><clipPath class=\"axesclip\" id=\"clip75fc10x\"><rect x=\"50\" y=\"0\" width=\"270\" height=\"500\"/></clipPath><clipPath class=\"axesclip\" id=\"clip75fc10y\"><rect x=\"0\" y=\"60\" width=\"700\" height=\"141.37500000000003\"/></clipPath><clipPath class=\"axesclip\" id=\"clip75fc10xy\"><rect x=\"50\" y=\"60\" width=\"270\" height=\"141.37500000000003\"/></clipPath><clipPath class=\"axesclip\" id=\"clip75fc10y2\"><rect x=\"0\" y=\"60\" width=\"700\" height=\"141.37500000000003\"/></clipPath><clipPath class=\"axesclip\" id=\"clip75fc10xy2\"><rect x=\"50\" y=\"60\" width=\"270\" height=\"141.37500000000003\"/></clipPath><clipPath class=\"axesclip\" id=\"clip75fc10y3\"><rect x=\"0\" y=\"308.625\" width=\"700\" height=\"141.375\"/></clipPath><clipPath class=\"axesclip\" id=\"clip75fc10xy3\"><rect x=\"50\" y=\"308.625\" width=\"270\" height=\"141.375\"/></clipPath><clipPath class=\"axesclip\" id=\"clip75fc10y4\"><rect x=\"0\" y=\"308.625\" width=\"700\" height=\"141.375\"/></clipPath><clipPath class=\"axesclip\" id=\"clip75fc10xy4\"><rect x=\"50\" y=\"308.625\" width=\"270\" height=\"141.375\"/></clipPath><clipPath class=\"axesclip\" id=\"clip75fc10x2\"><rect x=\"380\" y=\"0\" width=\"270\" height=\"500\"/></clipPath><clipPath class=\"axesclip\" id=\"clip75fc10x2y\"><rect x=\"380\" y=\"60\" width=\"270\" height=\"141.37500000000003\"/></clipPath><clipPath class=\"axesclip\" id=\"clip75fc10x2y2\"><rect x=\"380\" y=\"60\" width=\"270\" height=\"141.37500000000003\"/></clipPath><clipPath class=\"axesclip\" id=\"clip75fc10x2y3\"><rect x=\"380\" y=\"308.625\" width=\"270\" height=\"141.375\"/></clipPath><clipPath class=\"axesclip\" id=\"clip75fc10x2y4\"><rect x=\"380\" y=\"308.625\" width=\"270\" height=\"141.375\"/></clipPath><clipPath class=\"axesclip\" id=\"clip75fc10x3\"><rect x=\"50\" y=\"0\" width=\"270\" height=\"500\"/></clipPath><clipPath class=\"axesclip\" id=\"clip75fc10x3y\"><rect x=\"50\" y=\"60\" width=\"270\" height=\"141.37500000000003\"/></clipPath><clipPath class=\"axesclip\" id=\"clip75fc10x3y2\"><rect x=\"50\" y=\"60\" width=\"270\" height=\"141.37500000000003\"/></clipPath><clipPath class=\"axesclip\" id=\"clip75fc10x3y3\"><rect x=\"50\" y=\"308.625\" width=\"270\" height=\"141.375\"/></clipPath><clipPath class=\"axesclip\" id=\"clip75fc10x3y4\"><rect x=\"50\" y=\"308.625\" width=\"270\" height=\"141.375\"/></clipPath><clipPath class=\"axesclip\" id=\"clip75fc10x4\"><rect x=\"380\" y=\"0\" width=\"270\" height=\"500\"/></clipPath><clipPath class=\"axesclip\" id=\"clip75fc10x4y\"><rect x=\"380\" y=\"60\" width=\"270\" height=\"141.37500000000003\"/></clipPath><clipPath class=\"axesclip\" id=\"clip75fc10x4y2\"><rect x=\"380\" y=\"60\" width=\"270\" height=\"141.37500000000003\"/></clipPath><clipPath class=\"axesclip\" id=\"clip75fc10x4y3\"><rect x=\"380\" y=\"308.625\" width=\"270\" height=\"141.375\"/></clipPath><clipPath class=\"axesclip\" id=\"clip75fc10x4y4\"><rect x=\"380\" y=\"308.625\" width=\"270\" height=\"141.375\"/></clipPath></g><g class=\"gradients\"/></defs><g class=\"bglayer\"/><g class=\"layer-below\"><g class=\"imagelayer\"/><g class=\"shapelayer\"/></g><g class=\"cartesianlayer\"><g class=\"subplot xy\"><g class=\"layer-subplot\"><g class=\"shapelayer\"/><g class=\"imagelayer\"/></g><g class=\"gridlayer\"><g class=\"x\"><path class=\"xgrid crisp\" transform=\"translate(57.74,0)\" d=\"M0,60v141.37500000000003\" style=\"stroke: rgb(238, 238, 238); stroke-opacity: 1; stroke-width: 1px;\"/><path class=\"xgrid crisp\" transform=\"translate(121.37,0)\" d=\"M0,60v141.37500000000003\" style=\"stroke: rgb(238, 238, 238); stroke-opacity: 1; stroke-width: 1px;\"/><path class=\"xgrid crisp\" transform=\"translate(248.61,0)\" d=\"M0,60v141.37500000000003\" style=\"stroke: rgb(238, 238, 238); stroke-opacity: 1; stroke-width: 1px;\"/><path class=\"xgrid crisp\" transform=\"translate(312.24,0)\" d=\"M0,60v141.37500000000003\" style=\"stroke: rgb(238, 238, 238); stroke-opacity: 1; stroke-width: 1px;\"/></g><g class=\"y\"><path class=\"ygrid crisp\" transform=\"translate(0,194.31)\" d=\"M50,0h270\" style=\"stroke: rgb(238, 238, 238); stroke-opacity: 1; stroke-width: 1px;\"/><path class=\"ygrid crisp\" transform=\"translate(0,162.5)\" d=\"M50,0h270\" style=\"stroke: rgb(238, 238, 238); stroke-opacity: 1; stroke-width: 1px;\"/><path class=\"ygrid crisp\" transform=\"translate(0,98.88)\" d=\"M50,0h270\" style=\"stroke: rgb(238, 238, 238); stroke-opacity: 1; stroke-width: 1px;\"/><path class=\"ygrid crisp\" transform=\"translate(0,67.06)\" d=\"M50,0h270\" style=\"stroke: rgb(238, 238, 238); stroke-opacity: 1; stroke-width: 1px;\"/></g></g><g class=\"zerolinelayer\"><path class=\"xzl zl crisp\" transform=\"translate(184.99,0)\" d=\"M0,60v141.37500000000003\" style=\"stroke: rgb(68, 68, 68); stroke-opacity: 1; stroke-width: 1px;\"/><path class=\"yzl zl crisp\" transform=\"translate(0,130.69)\" d=\"M50,0h270\" style=\"stroke: rgb(68, 68, 68); stroke-opacity: 1; stroke-width: 1px;\"/></g><path class=\"xlines-below\"/><path class=\"ylines-below\"/><g class=\"overlines-below\"/><g class=\"xaxislayer-below\"/><g class=\"yaxislayer-below\"/><g class=\"overaxes-below\"/><g class=\"plot\" transform=\"translate(50, 60)\" clip-path=\"url('#clip75fc10xyplot')\"><g class=\"scatterlayer mlayer\"><g class=\"trace scatter trace673b4c\" style=\"stroke-miterlimit: 2; opacity: 1;\"><g class=\"fills\"/><g class=\"errorbars\"/><g class=\"lines\"><path class=\"js-line\" d=\"M198.61,70.69L197.91,61.28L197.37,58.18L194.84,49.09L193.7,46.16L189.42,37.75L187.73,35.1L181.88,27.69L179.7,25.42L172.51,19.31L169.93,17.51L161.68,12.93L158.79,11.68L149.8,8.81L146.73,8.16L137.35,7.11L134.2,7.07L124.8,7.88L121.71,8.47L112.66,11.11L109.74,12.29L101.38,16.67L98.75,18.4L91.41,24.33L89.17,26.54L83.15,33.8L81.39,36.41L76.91,44.71L75.7,47.62L72.94,56.64L72.32,59.73L71.39,69.11L71.39,72.26L72.32,81.65L72.94,84.74L75.7,93.76L76.91,96.66L81.39,104.96L83.15,107.57L89.17,114.83L91.41,117.05L98.75,122.98L101.38,124.71L109.74,129.08L112.66,130.26L121.71,132.91L124.8,133.49L134.2,134.31L137.35,134.27L146.73,133.22L149.8,132.56L158.79,129.69L161.68,128.44L169.93,123.86L172.51,122.07L179.7,115.95L181.88,113.69L187.73,106.28L189.42,103.63L193.7,95.22L194.84,92.28L197.37,83.2L197.91,80.1L198.61,70.69\" style=\"vector-effect: non-scaling-stroke; fill: none; stroke: rgb(31, 119, 180); stroke-opacity: 1; stroke-width: 2px; opacity: 1;\"/></g><g class=\"points\"/><g class=\"text\"/></g></g></g><g class=\"overplot\"/><path class=\"xlines-above crisp\" d=\"M0,0\" style=\"fill: none;\"/><path class=\"ylines-above crisp\" d=\"M0,0\" style=\"fill: none;\"/><g class=\"overlines-above\"/><g class=\"xaxislayer-above\"><g class=\"xtick\"><text text-anchor=\"middle\" x=\"0\" y=\"214.37500000000003\" transform=\"translate(57.74,0)\" style=\"font-family: 'Open Sans', verdana, arial, sans-serif; font-size: 12px; fill: rgb(68, 68, 68); fill-opacity: 1; white-space: pre;\">−2</text></g><g class=\"xtick\"><text text-anchor=\"middle\" x=\"0\" y=\"214.37500000000003\" transform=\"translate(121.37,0)\" style=\"font-family: 'Open Sans', verdana, arial, sans-serif; font-size: 12px; fill: rgb(68, 68, 68); fill-opacity: 1; white-space: pre;\">−1</text></g><g class=\"xtick\"><text text-anchor=\"middle\" x=\"0\" y=\"214.37500000000003\" transform=\"translate(184.99,0)\" style=\"font-family: 'Open Sans', verdana, arial, sans-serif; font-size: 12px; fill: rgb(68, 68, 68); fill-opacity: 1; white-space: pre;\">0</text></g><g class=\"xtick\"><text text-anchor=\"middle\" x=\"0\" y=\"214.37500000000003\" transform=\"translate(248.61,0)\" style=\"font-family: 'Open Sans', verdana, arial, sans-serif; font-size: 12px; fill: rgb(68, 68, 68); fill-opacity: 1; white-space: pre;\">1</text></g><g class=\"xtick\"><text text-anchor=\"middle\" x=\"0\" y=\"214.37500000000003\" transform=\"translate(312.24,0)\" style=\"font-family: 'Open Sans', verdana, arial, sans-serif; font-size: 12px; fill: rgb(68, 68, 68); fill-opacity: 1; white-space: pre;\">2</text></g></g><g class=\"yaxislayer-above\"><g class=\"ytick\"><text text-anchor=\"end\" x=\"49\" y=\"4.199999999999999\" transform=\"translate(0,194.31)\" style=\"font-family: 'Open Sans', verdana, arial, sans-serif; font-size: 12px; fill: rgb(68, 68, 68); fill-opacity: 1; white-space: pre;\">−1</text></g><g class=\"ytick\"><text text-anchor=\"end\" x=\"49\" y=\"4.199999999999999\" transform=\"translate(0,162.5)\" style=\"font-family: 'Open Sans', verdana, arial, sans-serif; font-size: 12px; fill: rgb(68, 68, 68); fill-opacity: 1; white-space: pre;\">−0.5</text></g><g class=\"ytick\"><text text-anchor=\"end\" x=\"49\" y=\"4.199999999999999\" transform=\"translate(0,130.69)\" style=\"font-family: 'Open Sans', verdana, arial, sans-serif; font-size: 12px; fill: rgb(68, 68, 68); fill-opacity: 1; white-space: pre;\">0</text></g><g class=\"ytick\"><text text-anchor=\"end\" x=\"49\" y=\"4.199999999999999\" transform=\"translate(0,98.88)\" style=\"font-family: 'Open Sans', verdana, arial, sans-serif; font-size: 12px; fill: rgb(68, 68, 68); fill-opacity: 1; white-space: pre;\">0.5</text></g><g class=\"ytick\"><text text-anchor=\"end\" x=\"49\" y=\"4.199999999999999\" transform=\"translate(0,67.06)\" style=\"font-family: 'Open Sans', verdana, arial, sans-serif; font-size: 12px; fill: rgb(68, 68, 68); fill-opacity: 1; white-space: pre;\">1</text></g></g><g class=\"overaxes-above\"/></g><g class=\"subplot x2y2\"><g class=\"layer-subplot\"><g class=\"shapelayer\"/><g class=\"imagelayer\"/></g><g class=\"gridlayer\"><g class=\"x2\"><path class=\"x2grid crisp\" transform=\"translate(395.26,0)\" d=\"M0,60v141.37500000000003\" style=\"stroke: rgb(238, 238, 238); stroke-opacity: 1; stroke-width: 1px;\"/><path class=\"x2grid crisp\" transform=\"translate(455.13,0)\" d=\"M0,60v141.37500000000003\" style=\"stroke: rgb(238, 238, 238); stroke-opacity: 1; stroke-width: 1px;\"/><path class=\"x2grid crisp\" transform=\"translate(574.87,0)\" d=\"M0,60v141.37500000000003\" style=\"stroke: rgb(238, 238, 238); stroke-opacity: 1; stroke-width: 1px;\"/><path class=\"x2grid crisp\" transform=\"translate(634.74,0)\" d=\"M0,60v141.37500000000003\" style=\"stroke: rgb(238, 238, 238); stroke-opacity: 1; stroke-width: 1px;\"/></g><g class=\"y2\"><path class=\"y2grid crisp\" transform=\"translate(0,190.56)\" d=\"M380,0h270\" style=\"stroke: rgb(238, 238, 238); stroke-opacity: 1; stroke-width: 1px;\"/><path class=\"y2grid crisp\" transform=\"translate(0,160.62)\" d=\"M380,0h270\" style=\"stroke: rgb(238, 238, 238); stroke-opacity: 1; stroke-width: 1px;\"/><path class=\"y2grid crisp\" transform=\"translate(0,100.75)\" d=\"M380,0h270\" style=\"stroke: rgb(238, 238, 238); stroke-opacity: 1; stroke-width: 1px;\"/><path class=\"y2grid crisp\" transform=\"translate(0,70.82)\" d=\"M380,0h270\" style=\"stroke: rgb(238, 238, 238); stroke-opacity: 1; stroke-width: 1px;\"/></g></g><g class=\"zerolinelayer\"><path class=\"x2zl zl crisp\" transform=\"translate(515,0)\" d=\"M0,60v141.37500000000003\" style=\"stroke: rgb(68, 68, 68); stroke-opacity: 1; stroke-width: 1px;\"/><path class=\"y2zl zl crisp\" transform=\"translate(0,130.69)\" d=\"M380,0h270\" style=\"stroke: rgb(68, 68, 68); stroke-opacity: 1; stroke-width: 1px;\"/></g><path class=\"xlines-below\"/><path class=\"ylines-below\"/><g class=\"overlines-below\"/><g class=\"xaxislayer-below\"/><g class=\"yaxislayer-below\"/><g class=\"overaxes-below\"/><g class=\"plot\" transform=\"translate(380, 60)\" clip-path=\"url('#clip75fc10x2y2plot')\"><g class=\"scatterlayer mlayer\"><g class=\"trace scatter trace95ebe0\" style=\"stroke-miterlimit: 2; opacity: 1;\"><g class=\"fills\"/><g class=\"errorbars\"/><g class=\"lines\"><path class=\"js-line\" d=\"M194.87,70.69L135,10.82L135,10.82L75.13,70.69L135,130.56L194.87,70.69\" style=\"vector-effect: non-scaling-stroke; fill: none; stroke: rgb(255, 127, 14); stroke-opacity: 1; stroke-width: 2px; opacity: 1;\"/></g><g class=\"points\"><path class=\"point\" transform=\"translate(194.87,70.69)\" d=\"M3,0A3,3 0 1,1 0,-3A3,3 0 0,1 3,0Z\" style=\"opacity: 1; stroke-width: 0px; fill: rgb(255, 127, 14); fill-opacity: 1;\"/><path class=\"point\" transform=\"translate(135,10.82)\" d=\"M3,0A3,3 0 1,1 0,-3A3,3 0 0,1 3,0Z\" style=\"opacity: 1; stroke-width: 0px; fill: rgb(255, 127, 14); fill-opacity: 1;\"/><path class=\"point\" transform=\"translate(135,10.82)\" d=\"M3,0A3,3 0 1,1 0,-3A3,3 0 0,1 3,0Z\" style=\"opacity: 1; stroke-width: 0px; fill: rgb(255, 127, 14); fill-opacity: 1;\"/><path class=\"point\" transform=\"translate(75.13,70.69)\" d=\"M3,0A3,3 0 1,1 0,-3A3,3 0 0,1 3,0Z\" style=\"opacity: 1; stroke-width: 0px; fill: rgb(255, 127, 14); fill-opacity: 1;\"/><path class=\"point\" transform=\"translate(75.13,70.69)\" d=\"M3,0A3,3 0 1,1 0,-3A3,3 0 0,1 3,0Z\" style=\"opacity: 1; stroke-width: 0px; fill: rgb(255, 127, 14); fill-opacity: 1;\"/><path class=\"point\" transform=\"translate(135,130.56)\" d=\"M3,0A3,3 0 1,1 0,-3A3,3 0 0,1 3,0Z\" style=\"opacity: 1; stroke-width: 0px; fill: rgb(255, 127, 14); fill-opacity: 1;\"/><path class=\"point\" transform=\"translate(135,130.56)\" d=\"M3,0A3,3 0 1,1 0,-3A3,3 0 0,1 3,0Z\" style=\"opacity: 1; stroke-width: 0px; fill: rgb(255, 127, 14); fill-opacity: 1;\"/><path class=\"point\" transform=\"translate(194.87,70.69)\" d=\"M3,0A3,3 0 1,1 0,-3A3,3 0 0,1 3,0Z\" style=\"opacity: 1; stroke-width: 0px; fill: rgb(255, 127, 14); fill-opacity: 1;\"/></g><g class=\"text\"/></g></g></g><g class=\"overplot\"/><path class=\"xlines-above crisp\" d=\"M0,0\" style=\"fill: none;\"/><path class=\"ylines-above crisp\" d=\"M0,0\" style=\"fill: none;\"/><g class=\"overlines-above\"/><g class=\"xaxislayer-above\"><g class=\"x2tick\"><text text-anchor=\"middle\" x=\"0\" y=\"214.37500000000003\" transform=\"translate(395.26,0)\" style=\"font-family: 'Open Sans', verdana, arial, sans-serif; font-size: 12px; fill: rgb(68, 68, 68); fill-opacity: 1; white-space: pre;\">−2</text></g><g class=\"x2tick\"><text text-anchor=\"middle\" x=\"0\" y=\"214.37500000000003\" transform=\"translate(455.13,0)\" style=\"font-family: 'Open Sans', verdana, arial, sans-serif; font-size: 12px; fill: rgb(68, 68, 68); fill-opacity: 1; white-space: pre;\">−1</text></g><g class=\"x2tick\"><text text-anchor=\"middle\" x=\"0\" y=\"214.37500000000003\" transform=\"translate(515,0)\" style=\"font-family: 'Open Sans', verdana, arial, sans-serif; font-size: 12px; fill: rgb(68, 68, 68); fill-opacity: 1; white-space: pre;\">0</text></g><g class=\"x2tick\"><text text-anchor=\"middle\" x=\"0\" y=\"214.37500000000003\" transform=\"translate(574.87,0)\" style=\"font-family: 'Open Sans', verdana, arial, sans-serif; font-size: 12px; fill: rgb(68, 68, 68); fill-opacity: 1; white-space: pre;\">1</text></g><g class=\"x2tick\"><text text-anchor=\"middle\" x=\"0\" y=\"214.37500000000003\" transform=\"translate(634.74,0)\" style=\"font-family: 'Open Sans', verdana, arial, sans-serif; font-size: 12px; fill: rgb(68, 68, 68); fill-opacity: 1; white-space: pre;\">2</text></g></g><g class=\"yaxislayer-above\"><g class=\"y2tick\"><text text-anchor=\"end\" x=\"379\" y=\"4.199999999999999\" transform=\"translate(0,190.56)\" style=\"font-family: 'Open Sans', verdana, arial, sans-serif; font-size: 12px; fill: rgb(68, 68, 68); fill-opacity: 1; white-space: pre;\">−1</text></g><g class=\"y2tick\"><text text-anchor=\"end\" x=\"379\" y=\"4.199999999999999\" transform=\"translate(0,160.62)\" style=\"font-family: 'Open Sans', verdana, arial, sans-serif; font-size: 12px; fill: rgb(68, 68, 68); fill-opacity: 1; white-space: pre;\">−0.5</text></g><g class=\"y2tick\"><text text-anchor=\"end\" x=\"379\" y=\"4.199999999999999\" transform=\"translate(0,130.69)\" style=\"font-family: 'Open Sans', verdana, arial, sans-serif; font-size: 12px; fill: rgb(68, 68, 68); fill-opacity: 1; white-space: pre;\">0</text></g><g class=\"y2tick\"><text text-anchor=\"end\" x=\"379\" y=\"4.199999999999999\" transform=\"translate(0,100.75)\" style=\"font-family: 'Open Sans', verdana, arial, sans-serif; font-size: 12px; fill: rgb(68, 68, 68); fill-opacity: 1; white-space: pre;\">0.5</text></g><g class=\"y2tick\"><text text-anchor=\"end\" x=\"379\" y=\"4.199999999999999\" transform=\"translate(0,70.82)\" style=\"font-family: 'Open Sans', verdana, arial, sans-serif; font-size: 12px; fill: rgb(68, 68, 68); fill-opacity: 1; white-space: pre;\">1</text></g></g><g class=\"overaxes-above\"/></g><g class=\"subplot x3y3\"><g class=\"layer-subplot\"><g class=\"shapelayer\"/><g class=\"imagelayer\"/></g><g class=\"gridlayer\"><g class=\"x3\"><path class=\"x3grid crisp\" transform=\"translate(65.26,0)\" d=\"M0,308.625v141.375\" style=\"stroke: rgb(238, 238, 238); stroke-opacity: 1; stroke-width: 1px;\"/><path class=\"x3grid crisp\" transform=\"translate(125.13,0)\" d=\"M0,308.625v141.375\" style=\"stroke: rgb(238, 238, 238); stroke-opacity: 1; stroke-width: 1px;\"/><path class=\"x3grid crisp\" transform=\"translate(244.87,0)\" d=\"M0,308.625v141.375\" style=\"stroke: rgb(238, 238, 238); stroke-opacity: 1; stroke-width: 1px;\"/><path class=\"x3grid crisp\" transform=\"translate(304.74,0)\" d=\"M0,308.625v141.375\" style=\"stroke: rgb(238, 238, 238); stroke-opacity: 1; stroke-width: 1px;\"/></g><g class=\"y3\"><path class=\"y3grid crisp\" transform=\"translate(0,439.185)\" d=\"M50,0h270\" style=\"stroke: rgb(238, 238, 238); stroke-opacity: 1; stroke-width: 1px;\"/><path class=\"y3grid crisp\" transform=\"translate(0,409.245)\" d=\"M50,0h270\" style=\"stroke: rgb(238, 238, 238); stroke-opacity: 1; stroke-width: 1px;\"/><path class=\"y3grid crisp\" transform=\"translate(0,349.375)\" d=\"M50,0h270\" style=\"stroke: rgb(238, 238, 238); stroke-opacity: 1; stroke-width: 1px;\"/><path class=\"y3grid crisp\" transform=\"translate(0,319.445)\" d=\"M50,0h270\" style=\"stroke: rgb(238, 238, 238); stroke-opacity: 1; stroke-width: 1px;\"/></g></g><g class=\"zerolinelayer\"><path class=\"x3zl zl crisp\" transform=\"translate(185,0)\" d=\"M0,308.625v141.375\" style=\"stroke: rgb(68, 68, 68); stroke-opacity: 1; stroke-width: 1px;\"/><path class=\"y3zl zl crisp\" transform=\"translate(0,379.315)\" d=\"M50,0h270\" style=\"stroke: rgb(68, 68, 68); stroke-opacity: 1; stroke-width: 1px;\"/></g><path class=\"xlines-below\"/><path class=\"ylines-below\"/><g class=\"overlines-below\"/><g class=\"xaxislayer-below\"/><g class=\"yaxislayer-below\"/><g class=\"overaxes-below\"/><g class=\"plot\" transform=\"translate(50, 308.625)\" clip-path=\"url('#clip75fc10x3y3plot')\"><g class=\"scatterlayer mlayer\"><g class=\"trace scatter trace44a6f6\" style=\"stroke-miterlimit: 2; opacity: 1;\"><g class=\"fills\"/><g class=\"errorbars\"/><g class=\"lines\"><path class=\"js-line\" d=\"M194.87,130.56L194.87,10.82L194.87,10.82L75.13,10.82L75.13,130.56L75.13,130.56L194.87,130.56\" style=\"vector-effect: non-scaling-stroke; fill: none; stroke: rgb(44, 160, 44); stroke-opacity: 1; stroke-width: 2px; opacity: 1;\"/></g><g class=\"points\"><path class=\"point\" transform=\"translate(194.87,130.56)\" d=\"M3,0A3,3 0 1,1 0,-3A3,3 0 0,1 3,0Z\" style=\"opacity: 1; stroke-width: 0px; fill: rgb(44, 160, 44); fill-opacity: 1;\"/><path class=\"point\" transform=\"translate(194.87,10.82)\" d=\"M3,0A3,3 0 1,1 0,-3A3,3 0 0,1 3,0Z\" style=\"opacity: 1; stroke-width: 0px; fill: rgb(44, 160, 44); fill-opacity: 1;\"/><path class=\"point\" transform=\"translate(194.87,10.82)\" d=\"M3,0A3,3 0 1,1 0,-3A3,3 0 0,1 3,0Z\" style=\"opacity: 1; stroke-width: 0px; fill: rgb(44, 160, 44); fill-opacity: 1;\"/><path class=\"point\" transform=\"translate(75.13,10.82)\" d=\"M3,0A3,3 0 1,1 0,-3A3,3 0 0,1 3,0Z\" style=\"opacity: 1; stroke-width: 0px; fill: rgb(44, 160, 44); fill-opacity: 1;\"/><path class=\"point\" transform=\"translate(75.13,10.82)\" d=\"M3,0A3,3 0 1,1 0,-3A3,3 0 0,1 3,0Z\" style=\"opacity: 1; stroke-width: 0px; fill: rgb(44, 160, 44); fill-opacity: 1;\"/><path class=\"point\" transform=\"translate(75.13,130.56)\" d=\"M3,0A3,3 0 1,1 0,-3A3,3 0 0,1 3,0Z\" style=\"opacity: 1; stroke-width: 0px; fill: rgb(44, 160, 44); fill-opacity: 1;\"/><path class=\"point\" transform=\"translate(75.13,130.56)\" d=\"M3,0A3,3 0 1,1 0,-3A3,3 0 0,1 3,0Z\" style=\"opacity: 1; stroke-width: 0px; fill: rgb(44, 160, 44); fill-opacity: 1;\"/><path class=\"point\" transform=\"translate(194.87,130.56)\" d=\"M3,0A3,3 0 1,1 0,-3A3,3 0 0,1 3,0Z\" style=\"opacity: 1; stroke-width: 0px; fill: rgb(44, 160, 44); fill-opacity: 1;\"/></g><g class=\"text\"/></g></g></g><g class=\"overplot\"/><path class=\"xlines-above crisp\" d=\"M0,0\" style=\"fill: none;\"/><path class=\"ylines-above crisp\" d=\"M0,0\" style=\"fill: none;\"/><g class=\"overlines-above\"/><g class=\"xaxislayer-above\"><g class=\"x3tick\"><text text-anchor=\"middle\" x=\"0\" y=\"463\" transform=\"translate(65.26,0)\" style=\"font-family: 'Open Sans', verdana, arial, sans-serif; font-size: 12px; fill: rgb(68, 68, 68); fill-opacity: 1; white-space: pre;\">−2</text></g><g class=\"x3tick\"><text text-anchor=\"middle\" x=\"0\" y=\"463\" transform=\"translate(125.13,0)\" style=\"font-family: 'Open Sans', verdana, arial, sans-serif; font-size: 12px; fill: rgb(68, 68, 68); fill-opacity: 1; white-space: pre;\">−1</text></g><g class=\"x3tick\"><text text-anchor=\"middle\" x=\"0\" y=\"463\" transform=\"translate(185,0)\" style=\"font-family: 'Open Sans', verdana, arial, sans-serif; font-size: 12px; fill: rgb(68, 68, 68); fill-opacity: 1; white-space: pre;\">0</text></g><g class=\"x3tick\"><text text-anchor=\"middle\" x=\"0\" y=\"463\" transform=\"translate(244.87,0)\" style=\"font-family: 'Open Sans', verdana, arial, sans-serif; font-size: 12px; fill: rgb(68, 68, 68); fill-opacity: 1; white-space: pre;\">1</text></g><g class=\"x3tick\"><text text-anchor=\"middle\" x=\"0\" y=\"463\" transform=\"translate(304.74,0)\" style=\"font-family: 'Open Sans', verdana, arial, sans-serif; font-size: 12px; fill: rgb(68, 68, 68); fill-opacity: 1; white-space: pre;\">2</text></g></g><g class=\"yaxislayer-above\"><g class=\"y3tick\"><text text-anchor=\"end\" x=\"49\" y=\"4.199999999999999\" transform=\"translate(0,439.185)\" style=\"font-family: 'Open Sans', verdana, arial, sans-serif; font-size: 12px; fill: rgb(68, 68, 68); fill-opacity: 1; white-space: pre;\">−1</text></g><g class=\"y3tick\"><text text-anchor=\"end\" x=\"49\" y=\"4.199999999999999\" transform=\"translate(0,409.245)\" style=\"font-family: 'Open Sans', verdana, arial, sans-serif; font-size: 12px; fill: rgb(68, 68, 68); fill-opacity: 1; white-space: pre;\">−0.5</text></g><g class=\"y3tick\"><text text-anchor=\"end\" x=\"49\" y=\"4.199999999999999\" transform=\"translate(0,379.315)\" style=\"font-family: 'Open Sans', verdana, arial, sans-serif; font-size: 12px; fill: rgb(68, 68, 68); fill-opacity: 1; white-space: pre;\">0</text></g><g class=\"y3tick\"><text text-anchor=\"end\" x=\"49\" y=\"4.199999999999999\" transform=\"translate(0,349.375)\" style=\"font-family: 'Open Sans', verdana, arial, sans-serif; font-size: 12px; fill: rgb(68, 68, 68); fill-opacity: 1; white-space: pre;\">0.5</text></g><g class=\"y3tick\"><text text-anchor=\"end\" x=\"49\" y=\"4.199999999999999\" transform=\"translate(0,319.445)\" style=\"font-family: 'Open Sans', verdana, arial, sans-serif; font-size: 12px; fill: rgb(68, 68, 68); fill-opacity: 1; white-space: pre;\">1</text></g></g><g class=\"overaxes-above\"/></g><g class=\"subplot x4y4\"><g class=\"layer-subplot\"><g class=\"shapelayer\"/><g class=\"imagelayer\"/></g><g class=\"gridlayer\"><g class=\"x4\"><path class=\"x4grid crisp\" transform=\"translate(387.76,0)\" d=\"M0,308.625v141.375\" style=\"stroke: rgb(238, 238, 238); stroke-opacity: 1; stroke-width: 1px;\"/><path class=\"x4grid crisp\" transform=\"translate(451.38,0)\" d=\"M0,308.625v141.375\" style=\"stroke: rgb(238, 238, 238); stroke-opacity: 1; stroke-width: 1px;\"/><path class=\"x4grid crisp\" transform=\"translate(578.62,0)\" d=\"M0,308.625v141.375\" style=\"stroke: rgb(238, 238, 238); stroke-opacity: 1; stroke-width: 1px;\"/><path class=\"x4grid crisp\" transform=\"translate(642.24,0)\" d=\"M0,308.625v141.375\" style=\"stroke: rgb(238, 238, 238); stroke-opacity: 1; stroke-width: 1px;\"/></g><g class=\"y4\"><path class=\"y4grid crisp\" transform=\"translate(0,442.935)\" d=\"M380,0h270\" style=\"stroke: rgb(238, 238, 238); stroke-opacity: 1; stroke-width: 1px;\"/><path class=\"y4grid crisp\" transform=\"translate(0,411.125)\" d=\"M380,0h270\" style=\"stroke: rgb(238, 238, 238); stroke-opacity: 1; stroke-width: 1px;\"/><path class=\"y4grid crisp\" transform=\"translate(0,347.505)\" d=\"M380,0h270\" style=\"stroke: rgb(238, 238, 238); stroke-opacity: 1; stroke-width: 1px;\"/><path class=\"y4grid crisp\" transform=\"translate(0,315.695)\" d=\"M380,0h270\" style=\"stroke: rgb(238, 238, 238); stroke-opacity: 1; stroke-width: 1px;\"/></g></g><g class=\"zerolinelayer\"><path class=\"x4zl zl crisp\" transform=\"translate(515,0)\" d=\"M0,308.625v141.375\" style=\"stroke: rgb(68, 68, 68); stroke-opacity: 1; stroke-width: 1px;\"/><path class=\"y4zl zl crisp\" transform=\"translate(0,379.315)\" d=\"M380,0h270\" style=\"stroke: rgb(68, 68, 68); stroke-opacity: 1; stroke-width: 1px;\"/></g><path class=\"xlines-below\"/><path class=\"ylines-below\"/><g class=\"overlines-below\"/><g class=\"xaxislayer-below\"/><g class=\"yaxislayer-below\"/><g class=\"overaxes-below\"/><g class=\"plot\" transform=\"translate(380, 308.625)\" clip-path=\"url('#clip75fc10x4y4plot')\"><g class=\"scatterlayer mlayer\"><g class=\"trace scatter tracecfb7b9\" style=\"stroke-miterlimit: 2; opacity: 1;\"><g class=\"fills\"/><g class=\"errorbars\"/><g class=\"lines\"><path class=\"js-line\" d=\"M198.62,70.69L197.96,42.14L197.6,38.84L195.28,28.47L194.49,26.37L191.57,20.91L190.42,19.34L186.35,15.27L184.77,14.11L179.32,11.2L177.22,10.41L169.81,8.54L166.85,8.09L155.24,7.23L149.32,7.11L106.46,7.72L103.15,8.09L92.78,10.41L90.68,11.2L85.23,14.11L83.65,15.27L79.58,19.34L78.43,20.91L75.51,26.37L74.72,28.47L72.86,35.88L72.4,38.84L71.54,50.45L71.42,56.37L72.04,99.23L72.4,102.54L74.72,112.91L75.51,115.01L78.43,120.46L79.58,122.03L83.65,126.1L85.23,127.26L90.68,130.18L92.78,130.97L100.19,132.83L103.15,133.28L114.76,134.14L120.68,134.27L163.54,133.65L166.85,133.28L177.22,130.97L179.32,130.18L184.77,127.26L186.35,126.1L190.42,122.03L191.57,120.46L194.49,115.01L195.28,112.91L197.14,105.5L197.6,102.54L198.46,90.92L198.58,85.01L198.62,70.69\" style=\"vector-effect: non-scaling-stroke; fill: none; stroke: rgb(214, 39, 40); stroke-opacity: 1; stroke-width: 2px; opacity: 1;\"/></g><g class=\"points\"/><g class=\"text\"/></g></g></g><g class=\"overplot\"/><path class=\"xlines-above crisp\" d=\"M0,0\" style=\"fill: none;\"/><path class=\"ylines-above crisp\" d=\"M0,0\" style=\"fill: none;\"/><g class=\"overlines-above\"/><g class=\"xaxislayer-above\"><g class=\"x4tick\"><text text-anchor=\"middle\" x=\"0\" y=\"463\" transform=\"translate(387.76,0)\" style=\"font-family: 'Open Sans', verdana, arial, sans-serif; font-size: 12px; fill: rgb(68, 68, 68); fill-opacity: 1; white-space: pre;\">−2</text></g><g class=\"x4tick\"><text text-anchor=\"middle\" x=\"0\" y=\"463\" transform=\"translate(451.38,0)\" style=\"font-family: 'Open Sans', verdana, arial, sans-serif; font-size: 12px; fill: rgb(68, 68, 68); fill-opacity: 1; white-space: pre;\">−1</text></g><g class=\"x4tick\"><text text-anchor=\"middle\" x=\"0\" y=\"463\" transform=\"translate(515,0)\" style=\"font-family: 'Open Sans', verdana, arial, sans-serif; font-size: 12px; fill: rgb(68, 68, 68); fill-opacity: 1; white-space: pre;\">0</text></g><g class=\"x4tick\"><text text-anchor=\"middle\" x=\"0\" y=\"463\" transform=\"translate(578.62,0)\" style=\"font-family: 'Open Sans', verdana, arial, sans-serif; font-size: 12px; fill: rgb(68, 68, 68); fill-opacity: 1; white-space: pre;\">1</text></g><g class=\"x4tick\"><text text-anchor=\"middle\" x=\"0\" y=\"463\" transform=\"translate(642.24,0)\" style=\"font-family: 'Open Sans', verdana, arial, sans-serif; font-size: 12px; fill: rgb(68, 68, 68); fill-opacity: 1; white-space: pre;\">2</text></g></g><g class=\"yaxislayer-above\"><g class=\"y4tick\"><text text-anchor=\"end\" x=\"379\" y=\"4.199999999999999\" transform=\"translate(0,442.935)\" style=\"font-family: 'Open Sans', verdana, arial, sans-serif; font-size: 12px; fill: rgb(68, 68, 68); fill-opacity: 1; white-space: pre;\">−1</text></g><g class=\"y4tick\"><text text-anchor=\"end\" x=\"379\" y=\"4.199999999999999\" transform=\"translate(0,411.125)\" style=\"font-family: 'Open Sans', verdana, arial, sans-serif; font-size: 12px; fill: rgb(68, 68, 68); fill-opacity: 1; white-space: pre;\">−0.5</text></g><g class=\"y4tick\"><text text-anchor=\"end\" x=\"379\" y=\"4.199999999999999\" transform=\"translate(0,379.315)\" style=\"font-family: 'Open Sans', verdana, arial, sans-serif; font-size: 12px; fill: rgb(68, 68, 68); fill-opacity: 1; white-space: pre;\">0</text></g><g class=\"y4tick\"><text text-anchor=\"end\" x=\"379\" y=\"4.199999999999999\" transform=\"translate(0,347.505)\" style=\"font-family: 'Open Sans', verdana, arial, sans-serif; font-size: 12px; fill: rgb(68, 68, 68); fill-opacity: 1; white-space: pre;\">0.5</text></g><g class=\"y4tick\"><text text-anchor=\"end\" x=\"379\" y=\"4.199999999999999\" transform=\"translate(0,315.695)\" style=\"font-family: 'Open Sans', verdana, arial, sans-serif; font-size: 12px; fill: rgb(68, 68, 68); fill-opacity: 1; white-space: pre;\">1</text></g></g><g class=\"overaxes-above\"/></g></g><g class=\"polarlayer\"/><g class=\"ternarylayer\"/><g class=\"geolayer\"/><g class=\"funnelarealayer\"/><g class=\"pielayer\"/><g class=\"treemaplayer\"/><g class=\"sunburstlayer\"/><g class=\"glimages\"/><defs id=\"topdefs-75fc10\"><g class=\"clips\"/></defs><g class=\"layer-above\"><g class=\"imagelayer\"/><g class=\"shapelayer\"/></g><g class=\"infolayer\"><g class=\"g-gtitle\"/><g class=\"g-xtitle\"/><g class=\"g-x2title\"/><g class=\"g-x3title\"/><g class=\"g-x4title\"/><g class=\"g-ytitle\"/><g class=\"g-y2title\"/><g class=\"g-y3title\"/><g class=\"g-y4title\"/><g class=\"annotation\" data-index=\"0\" style=\"opacity: 1;\"><g class=\"annotation-text-g\" transform=\"rotate(0,185,46.99999999999999)\"><g class=\"cursor-pointer\" transform=\"translate(99, 34)\"><rect class=\"bg\" x=\"0.5\" y=\"0.5\" width=\"171\" height=\"25\" style=\"stroke-width: 1px; stroke: rgb(0, 0, 0); stroke-opacity: 0; fill: rgb(0, 0, 0); fill-opacity: 0;\"/><text class=\"annotation-text\" text-anchor=\"middle\" x=\"86.046875\" y=\"19\" style=\"font-family: 'Open Sans', verdana, arial, sans-serif; font-size: 16px; fill: rgb(68, 68, 68); fill-opacity: 1; white-space: pre;\">Unit ball in the 2-norm</text></g></g></g><g class=\"annotation\" data-index=\"1\" style=\"opacity: 1;\"><g class=\"annotation-text-g\" transform=\"rotate(0,185,295.625)\"><g class=\"cursor-pointer\" transform=\"translate(78, 283)\"><rect class=\"bg\" x=\"0.5\" y=\"0.5\" width=\"213\" height=\"25\" style=\"stroke-width: 1px; stroke: rgb(0, 0, 0); stroke-opacity: 0; fill: rgb(0, 0, 0); fill-opacity: 0;\"/><text class=\"annotation-text\" text-anchor=\"middle\" x=\"106.9375\" y=\"19\" style=\"font-family: 'Open Sans', verdana, arial, sans-serif; font-size: 16px; fill: rgb(68, 68, 68); fill-opacity: 1; white-space: pre;\">Unit ball in the infinity-norm</text></g></g></g><g class=\"annotation\" data-index=\"2\" style=\"opacity: 1;\"><g class=\"annotation-text-g\" transform=\"rotate(0,515,46.99999999999999)\"><g class=\"cursor-pointer\" transform=\"translate(429, 34)\"><rect class=\"bg\" x=\"0.5\" y=\"0.5\" width=\"171\" height=\"25\" style=\"stroke-width: 1px; stroke: rgb(0, 0, 0); stroke-opacity: 0; fill: rgb(0, 0, 0); fill-opacity: 0;\"/><text class=\"annotation-text\" text-anchor=\"middle\" x=\"86.046875\" y=\"19\" style=\"font-family: 'Open Sans', verdana, arial, sans-serif; font-size: 16px; fill: rgb(68, 68, 68); fill-opacity: 1; white-space: pre;\">Unit ball in the 1-norm</text></g></g></g><g class=\"annotation\" data-index=\"3\" style=\"opacity: 1;\"><g class=\"annotation-text-g\" transform=\"rotate(0,515,295.625)\"><g class=\"cursor-pointer\" transform=\"translate(429, 283)\"><rect class=\"bg\" x=\"0.5\" y=\"0.5\" width=\"171\" height=\"25\" style=\"stroke-width: 1px; stroke: rgb(0, 0, 0); stroke-opacity: 0; fill: rgb(0, 0, 0); fill-opacity: 0;\"/><text class=\"annotation-text\" text-anchor=\"middle\" x=\"86.046875\" y=\"19\" style=\"font-family: 'Open Sans', verdana, arial, sans-serif; font-size: 16px; fill: rgb(68, 68, 68); fill-opacity: 1; white-space: pre;\">Unit ball in the 4-norm</text></g></g></g></g></svg>"
      ],
      "text/html": [
       "<div\n",
       "    class=\"webio-mountpoint\"\n",
       "    data-webio-mountpoint=\"15690764135113882977\"\n",
       ">\n",
       "    <script>\n",
       "    if (window.require && require.defined && require.defined(\"nbextensions/webio-jupyter-notebook\")) {\n",
       "        console.log(\"Jupyter WebIO extension detected, not mounting.\");\n",
       "    } else if (window.WebIO) {\n",
       "        WebIO.mount(\n",
       "            document.querySelector('[data-webio-mountpoint=\"15690764135113882977\"]'),\n",
       "            {\"props\":{},\"nodeType\":\"Scope\",\"type\":\"node\",\"instanceArgs\":{\"imports\":{\"data\":[{\"name\":\"Plotly\",\"type\":\"js\",\"url\":\"\\/assetserver\\/57533c5d787f8bc76a9e58ed0a1abce5f1b0c14d-plotly-latest.min.js\"},{\"name\":null,\"type\":\"js\",\"url\":\"\\/assetserver\\/58a7932c57029f7dbaa4105104076ff149fc7585-plotly_webio.bundle.js\"}],\"type\":\"async_block\"},\"id\":\"897704300484073984\",\"handlers\":{\"_toImage\":[\"(function (options){return this.Plotly.toImage(this.plotElem,options).then((function (data){return WebIO.setval({\\\"name\\\":\\\"image\\\",\\\"scope\\\":\\\"897704300484073984\\\",\\\"id\\\":\\\"6837380774933162636\\\",\\\"type\\\":\\\"observable\\\"},data)}))})\"],\"__get_gd_contents\":[\"(function (prop){prop==\\\"data\\\" ? (WebIO.setval({\\\"name\\\":\\\"__gd_contents\\\",\\\"scope\\\":\\\"897704300484073984\\\",\\\"id\\\":\\\"4621293203112831305\\\",\\\"type\\\":\\\"observable\\\"},this.plotElem.data)) : undefined; return prop==\\\"layout\\\" ? (WebIO.setval({\\\"name\\\":\\\"__gd_contents\\\",\\\"scope\\\":\\\"897704300484073984\\\",\\\"id\\\":\\\"4621293203112831305\\\",\\\"type\\\":\\\"observable\\\"},this.plotElem.layout)) : undefined})\"],\"_downloadImage\":[\"(function (options){return this.Plotly.downloadImage(this.plotElem,options)})\"],\"_commands\":[\"(function (args){var fn=args.shift(); var elem=this.plotElem; var Plotly=this.Plotly; args.unshift(elem); return Plotly[fn].apply(this,args)})\"]},\"systemjs_options\":null,\"mount_callbacks\":[\"function () {\\n    var handler = ((function (Plotly,PlotlyWebIO){PlotlyWebIO.init(WebIO); var gd=this.dom.querySelector(\\\"#plot-c5ad5fb5-bd3f-4d5c-ba3b-90151cd134d7\\\"); this.plotElem=gd; this.Plotly=Plotly; (window.Blink!==undefined) ? (gd.style.width=\\\"100%\\\", gd.style.height=\\\"100vh\\\", gd.style.marginLeft=\\\"0%\\\", gd.style.marginTop=\\\"0vh\\\") : undefined; window.onresize=(function (){return Plotly.Plots.resize(gd)}); Plotly.newPlot(gd,[{\\\"showlegend\\\":false,\\\"xaxis\\\":\\\"x1\\\",\\\"y\\\":[0.0,0.049453719922738996,0.09878641830579414,0.14787736976946894,0.19660644052928852,0.24485438238350118,0.2925031245334109,0.33943606252240655,0.3855383435866074,0.43069714771882195,0.47480196375801115,0.5177448598286181,0.5594207474679531,0.599727638795273,0.6385668960932144,0.6758434731908174,0.7114661480574332,0.7453477460383189,0.7774053531856258,0.8075605191627239,0.8357394492253214,0.8618731848095704,0.8858977722852274,0.9077544194609038,0.9273896394584102,0.94475538160411,0.9598091490169692,0.9725141026055469,0.9828391512194238,0.990759027734458,0.9962543508856719,0.9993116726964553,0.9999235113880169,0.998088369688552,0.9938107384973164,0.9871010858946441,0.9779758315248003,0.9664573064143605,0.9525736983244457,0.9363589827705493,0.9178528398787551,0.8971005572818211,0.8741529192927526,0.8490660826270787,0.8219014389779585,0.7927254647804207,0.7616095585323879,0.7286298660705872,0.693867094228929,0.6574063133353583,0.6193367490305086,0.5797515639176076,0.5387476295779737,0.49642528951002635,0.4528881135719287,0.4082426445287906,0.3625981373246671,0.31606629171740497,0.268760978930614,0.2207979629917064,0.17229461743791677,0.12336963808359339,0.07414275255164605,0.024734427279995138,-0.02473442727999489,-0.0741427525516458,-0.1233696380835927,-0.17229461743791608,-0.22079796299170615,-0.26876097893061424,-0.31606629171740475,-0.3625981373246669,-0.4082426445287904,-0.4528881135719285,-0.4964252895100261,-0.5387476295779732,-0.5797515639176074,-0.6193367490305087,-0.657406313335358,-0.6938670942289289,-0.7286298660705871,-0.7616095585323877,-0.7927254647804206,-0.8219014389779584,-0.8490660826270788,-0.8741529192927527,-0.8971005572818213,-0.9178528398787549,-0.9363589827705491,-0.9525736983244457,-0.9664573064143603,-0.9779758315248002,-0.9871010858946441,-0.9938107384973164,-0.998088369688552,-0.9999235113880169,-0.9993116726964553,-0.996254350885672,-0.990759027734458,-0.9828391512194239,-0.9725141026055468,-0.9598091490169692,-0.9447553816041101,-0.9273896394584105,-0.907754419460904,-0.8858977722852275,-0.8618731848095704,-0.8357394492253218,-0.8075605191627238,-0.7774053531856255,-0.7453477460383192,-0.7114661480574335,-0.6758434731908176,-0.6385668960932145,-0.5997276387952737,-0.5594207474679538,-0.5177448598286178,-0.47480196375801087,-0.43069714771882234,-0.38553834358660766,-0.3394360625224067,-0.29250312453341093,-0.24485438238350202,-0.19660644052928922,-0.14787736976946866,-0.09878641830579461,-0.04945371992273936,-2.4492935982947064e-16],\\\"type\\\":\\\"scatter\\\",\\\"yaxis\\\":\\\"y1\\\",\\\"x\\\":[1.0,0.9987764162142613,0.9951086591716066,0.9890057044881307,0.9804824871166253,0.9695598647982466,0.9562645670201275,0.9406291296038439,0.9226918150848067,0.9024965190774262,0.8800926628551884,0.855535072408516,0.8288838442763838,0.8002041984800171,0.7695663189185699,0.7370451816173639,0.7027203712489902,0.6666758863762794,0.6289999338937425,0.5897847131705195,0.5491261904230725,0.507123863869773,0.46388052024208937,0.41950198324822896,0.37409685460479325,0.3277762482701767,0.2806535185300931,0.2328439826006414,0.18446463842775596,0.1356338783736256,0.08647119949074578,0.03709691109260524,-0.012368159663362882,-0.061802963460083966,-0.11108652504880455,-0.16009823929579758,-0.2087181663233351,-0.25682732502266786,-0.3043079842207361,-0.35104395078807754,-0.396920853982887,-0.44182642533538663,-0.4856507733875837,-0.5282866526160838,-0.569629725879857,-0.6095788197507078,-0.6480361721016052,-0.6849076713469913,-0.7201030867496003,-0.7535362892301954,-0.7851254621398549,-0.8147933014790243,-0.8424672050733574,-0.8680794502434017,-0.8915673595333444,-0.9128734540932492,-0.9319455943394345,-0.9487371075487709,-0.9632069020746571,-0.9753195679051626,-0.9850454633172633,-0.9923607874151029,-0.9972476383747747,-0.9996940572530831,-0.9996940572530831,-0.9972476383747747,-0.992360787415103,-0.9850454633172634,-0.9753195679051626,-0.963206902074657,-0.948737107548771,-0.9319455943394346,-0.9128734540932493,-0.8915673595333445,-0.8680794502434018,-0.8424672050733577,-0.8147933014790244,-0.7851254621398548,-0.7535362892301956,-0.7201030867496006,-0.6849076713469914,-0.6480361721016055,-0.609578819750708,-0.5696297258798572,-0.5282866526160837,-0.48565077338758356,-0.44182642533538646,-0.3969208539828876,-0.35104395078807793,-0.30430798422073635,-0.25682732502266814,-0.20871816632333598,-0.1600982392957974,-0.11108652504880435,-0.061802963460083765,-0.012368159663363349,0.037096911092604996,0.08647119949074553,0.13563387837362556,0.18446463842775507,0.2328439826006416,0.2806535185300933,0.32777624827017626,0.3740968546047928,0.41950198324822874,0.4638805202420892,0.507123863869773,0.5491261904230718,0.5897847131705196,0.6289999338937428,0.666675886376279,0.7027203712489899,0.7370451816173637,0.7695663189185697,0.8002041984800166,0.8288838442763834,0.8555350724085161,0.8800926628551885,0.9024965190774261,0.9226918150848066,0.9406291296038438,0.9562645670201275,0.9695598647982464,0.9804824871166252,0.9890057044881307,0.9951086591716065,0.9987764162142613,1.0]},{\\\"showlegend\\\":false,\\\"xaxis\\\":\\\"x2\\\",\\\"y\\\":[0.0,1.0,1.0,0.0,-0.0,-1.0,-1.0,-0.0],\\\"type\\\":\\\"scatter\\\",\\\"yaxis\\\":\\\"y2\\\",\\\"x\\\":[1.0,0.0,-0.0,-1.0,-1.0,-0.0,0.0,1.0]},{\\\"showlegend\\\":false,\\\"xaxis\\\":\\\"x3\\\",\\\"y\\\":[-1.0,1.0,1.0,1.0,1.0,-1.0,-1.0,-1.0],\\\"type\\\":\\\"scatter\\\",\\\"yaxis\\\":\\\"y3\\\",\\\"x\\\":[1.0,1.0,1.0,-1.0,-1.0,-1.0,-1.0,1.0]},{\\\"showlegend\\\":false,\\\"xaxis\\\":\\\"x4\\\",\\\"y\\\":[0.0,0.22505370212176629,0.31806968102513666,0.3891372219469331,0.4486630362406291,0.5006521070151613,0.5471408620943586,0.5893261005969618,0.6279775912509288,0.663621994480016,0.6966361765879526,0.727299120257245,0.7558228728311894,0.782372023111552,0.8070765036365649,0.8300403117172602,0.8513476300719466,0.8710672320164448,0.88925572077873,0.9059599556311947,0.9212188977082216,0.9350650331097736,0.9475254822804196,0.9586228724687464,0.9683760282798621,0.9768005202701567,0.9839091009164436,0.9897120496652017,0.9942174431823811,0.9974313627472795,0.9993580475340421,1.0,1.0,0.9993580475340421,0.9974313627472795,0.9942174431823811,0.9897120496652017,0.9839091009164436,0.9768005202701567,0.9683760282798621,0.9586228724687464,0.9475254822804196,0.9350650331097736,0.9212188977082216,0.9059599556311947,0.88925572077873,0.8710672320164448,0.8513476300719466,0.8300403117172602,0.8070765036365649,0.782372023111552,0.7558228728311894,0.727299120257245,0.6966361765879526,0.663621994480016,0.6279775912509288,0.5893261005969618,0.5471408620943586,0.5006521070151613,0.4486630362406291,0.3891372219469331,0.31806968102513666,0.22505370212176629,0.0,-0.0,-0.22505370212176629,-0.31806968102513666,-0.3891372219469331,-0.4486630362406291,-0.5006521070151613,-0.5471408620943586,-0.5893261005969618,-0.6279775912509288,-0.663621994480016,-0.6966361765879526,-0.727299120257245,-0.7558228728311894,-0.782372023111552,-0.8070765036365649,-0.8300403117172602,-0.8513476300719466,-0.8710672320164448,-0.88925572077873,-0.9059599556311947,-0.9212188977082216,-0.9350650331097736,-0.9475254822804196,-0.9586228724687464,-0.9683760282798621,-0.9768005202701567,-0.9839091009164436,-0.9897120496652017,-0.9942174431823811,-0.9974313627472795,-0.9993580475340421,-1.0,-1.0,-0.9993580475340421,-0.9974313627472795,-0.9942174431823811,-0.9897120496652017,-0.9839091009164436,-0.9768005202701567,-0.9683760282798621,-0.9586228724687464,-0.9475254822804196,-0.9350650331097736,-0.9212188977082216,-0.9059599556311947,-0.88925572077873,-0.8710672320164448,-0.8513476300719466,-0.8300403117172602,-0.8070765036365649,-0.782372023111552,-0.7558228728311894,-0.727299120257245,-0.6966361765879526,-0.663621994480016,-0.6279775912509288,-0.5893261005969618,-0.5471408620943586,-0.5006521070151613,-0.4486630362406291,-0.3891372219469331,-0.31806968102513666,-0.22505370212176629,-0.0],\\\"type\\\":\\\"scatter\\\",\\\"yaxis\\\":\\\"y4\\\",\\\"x\\\":[1.0,0.9993580475340421,0.9974313627472795,0.9942174431823811,0.9897120496652017,0.9839091009164436,0.9768005202701567,0.9683760282798621,0.9586228724687464,0.9475254822804196,0.9350650331097736,0.9212188977082216,0.9059599556311947,0.8892557207787299,0.8710672320164449,0.8513476300719466,0.8300403117172603,0.807076503636565,0.782372023111552,0.7558228728311894,0.7272991202572449,0.6966361765879527,0.6636219944800159,0.6279775912509288,0.5893261005969618,0.5471408620943587,0.5006521070151613,0.44866303624062914,0.3891372219469331,0.3180696810251367,0.22505370212176642,7.825109581173138e-9,-7.825109581173138e-9,-0.22505370212176642,-0.3180696810251367,-0.3891372219469331,-0.44866303624062914,-0.5006521070151613,-0.5471408620943587,-0.5893261005969618,-0.6279775912509288,-0.6636219944800159,-0.6966361765879527,-0.7272991202572449,-0.7558228728311894,-0.782372023111552,-0.807076503636565,-0.8300403117172603,-0.8513476300719466,-0.8710672320164449,-0.8892557207787299,-0.9059599556311947,-0.9212188977082216,-0.9350650331097736,-0.9475254822804196,-0.9586228724687464,-0.9683760282798621,-0.9768005202701567,-0.9839091009164436,-0.9897120496652017,-0.9942174431823811,-0.9974313627472795,-0.9993580475340421,-1.0,-1.0,-0.9993580475340421,-0.9974313627472795,-0.9942174431823811,-0.9897120496652017,-0.9839091009164436,-0.9768005202701567,-0.9683760282798621,-0.9586228724687464,-0.9475254822804196,-0.9350650331097736,-0.9212188977082216,-0.9059599556311947,-0.8892557207787299,-0.8710672320164449,-0.8513476300719466,-0.8300403117172603,-0.807076503636565,-0.782372023111552,-0.7558228728311894,-0.7272991202572449,-0.6966361765879527,-0.6636219944800159,-0.6279775912509288,-0.5893261005969618,-0.5471408620943587,-0.5006521070151613,-0.44866303624062914,-0.3891372219469331,-0.3180696810251367,-0.22505370212176642,-7.825109581173138e-9,7.825109581173138e-9,0.22505370212176642,0.3180696810251367,0.3891372219469331,0.44866303624062914,0.5006521070151613,0.5471408620943587,0.5893261005969618,0.6279775912509288,0.6636219944800159,0.6966361765879527,0.7272991202572449,0.7558228728311894,0.782372023111552,0.807076503636565,0.8300403117172603,0.8513476300719466,0.8710672320164449,0.8892557207787299,0.9059599556311947,0.9212188977082216,0.9350650331097736,0.9475254822804196,0.9586228724687464,0.9683760282798621,0.9768005202701567,0.9839091009164436,0.9897120496652017,0.9942174431823811,0.9974313627472795,0.9993580475340421,1.0]}],{\\\"xaxis1\\\":{\\\"domain\\\":[0.0,0.45],\\\"anchor\\\":\\\"y1\\\"},\\\"yaxis1\\\":{\\\"scaleanchor\\\":\\\"x\\\",\\\"domain\\\":[0.6375,1.0],\\\"anchor\\\":\\\"x1\\\"},\\\"yaxis3\\\":{\\\"scaleanchor\\\":\\\"x3\\\",\\\"domain\\\":[5.551115123125783e-17,0.36250000000000004],\\\"anchor\\\":\\\"x3\\\"},\\\"xaxis2\\\":{\\\"domain\\\":[0.55,1.0],\\\"anchor\\\":\\\"y2\\\"},\\\"margin\\\":{\\\"l\\\":50,\\\"b\\\":50,\\\"r\\\":50,\\\"t\\\":60},\\\"xaxis3\\\":{\\\"domain\\\":[0.0,0.45],\\\"anchor\\\":\\\"y3\\\"},\\\"yaxis2\\\":{\\\"scaleanchor\\\":\\\"x2\\\",\\\"domain\\\":[0.6375,1.0],\\\"anchor\\\":\\\"x2\\\"},\\\"xaxis4\\\":{\\\"domain\\\":[0.55,1.0],\\\"anchor\\\":\\\"y4\\\"},\\\"yaxis4\\\":{\\\"scaleanchor\\\":\\\"x4\\\",\\\"domain\\\":[5.551115123125783e-17,0.36250000000000004],\\\"anchor\\\":\\\"x4\\\"},\\\"annotations\\\":[{\\\"yanchor\\\":\\\"bottom\\\",\\\"xanchor\\\":\\\"center\\\",\\\"y\\\":1.0,\\\"font\\\":{\\\"size\\\":16},\\\"showarrow\\\":false,\\\"yref\\\":\\\"paper\\\",\\\"text\\\":\\\"Unit ball in the 2-norm\\\",\\\"xref\\\":\\\"paper\\\",\\\"x\\\":0.225},{\\\"yanchor\\\":\\\"bottom\\\",\\\"xanchor\\\":\\\"center\\\",\\\"y\\\":0.36250000000000004,\\\"font\\\":{\\\"size\\\":16},\\\"showarrow\\\":false,\\\"yref\\\":\\\"paper\\\",\\\"text\\\":\\\"Unit ball in the infinity-norm\\\",\\\"xref\\\":\\\"paper\\\",\\\"x\\\":0.225},{\\\"yanchor\\\":\\\"bottom\\\",\\\"xanchor\\\":\\\"center\\\",\\\"y\\\":1.0,\\\"font\\\":{\\\"size\\\":16},\\\"showarrow\\\":false,\\\"yref\\\":\\\"paper\\\",\\\"text\\\":\\\"Unit ball in the 1-norm\\\",\\\"xref\\\":\\\"paper\\\",\\\"x\\\":0.775},{\\\"yanchor\\\":\\\"bottom\\\",\\\"xanchor\\\":\\\"center\\\",\\\"y\\\":0.36250000000000004,\\\"font\\\":{\\\"size\\\":16},\\\"showarrow\\\":false,\\\"yref\\\":\\\"paper\\\",\\\"text\\\":\\\"Unit ball in the 4-norm\\\",\\\"xref\\\":\\\"paper\\\",\\\"x\\\":0.775}]},{\\\"showLink\\\":false}); gd.on(\\\"plotly_hover\\\",(function (data){var filtered_data=WebIO.PlotlyCommands.filterEventData(gd,data,\\\"hover\\\"); return !(filtered_data.isnil) ? (WebIO.setval({\\\"name\\\":\\\"hover\\\",\\\"scope\\\":\\\"897704300484073984\\\",\\\"id\\\":\\\"4944075998605689941\\\",\\\"type\\\":\\\"observable\\\"},filtered_data.out)) : undefined})); gd.on(\\\"plotly_unhover\\\",(function (){return WebIO.setval({\\\"name\\\":\\\"hover\\\",\\\"scope\\\":\\\"897704300484073984\\\",\\\"id\\\":\\\"4944075998605689941\\\",\\\"type\\\":\\\"observable\\\"},{})})); gd.on(\\\"plotly_selected\\\",(function (data){var filtered_data=WebIO.PlotlyCommands.filterEventData(gd,data,\\\"selected\\\"); return !(filtered_data.isnil) ? (WebIO.setval({\\\"name\\\":\\\"selected\\\",\\\"scope\\\":\\\"897704300484073984\\\",\\\"id\\\":\\\"9680933682825036859\\\",\\\"type\\\":\\\"observable\\\"},filtered_data.out)) : undefined})); gd.on(\\\"plotly_deselect\\\",(function (){return WebIO.setval({\\\"name\\\":\\\"selected\\\",\\\"scope\\\":\\\"897704300484073984\\\",\\\"id\\\":\\\"9680933682825036859\\\",\\\"type\\\":\\\"observable\\\"},{})})); gd.on(\\\"plotly_relayout\\\",(function (data){var filtered_data=WebIO.PlotlyCommands.filterEventData(gd,data,\\\"relayout\\\"); return !(filtered_data.isnil) ? (WebIO.setval({\\\"name\\\":\\\"relayout\\\",\\\"scope\\\":\\\"897704300484073984\\\",\\\"id\\\":\\\"6924385712047659935\\\",\\\"type\\\":\\\"observable\\\"},filtered_data.out)) : undefined})); return gd.on(\\\"plotly_click\\\",(function (data){var filtered_data=WebIO.PlotlyCommands.filterEventData(gd,data,\\\"click\\\"); return !(filtered_data.isnil) ? (WebIO.setval({\\\"name\\\":\\\"click\\\",\\\"scope\\\":\\\"897704300484073984\\\",\\\"id\\\":\\\"678228933220921922\\\",\\\"type\\\":\\\"observable\\\"},filtered_data.out)) : undefined}))}));\\n    (WebIO.importBlock({\\\"data\\\":[{\\\"name\\\":\\\"Plotly\\\",\\\"type\\\":\\\"js\\\",\\\"url\\\":\\\"\\/assetserver\\/57533c5d787f8bc76a9e58ed0a1abce5f1b0c14d-plotly-latest.min.js\\\"},{\\\"name\\\":null,\\\"type\\\":\\\"js\\\",\\\"url\\\":\\\"\\/assetserver\\/58a7932c57029f7dbaa4105104076ff149fc7585-plotly_webio.bundle.js\\\"}],\\\"type\\\":\\\"async_block\\\"})).then((imports) => handler.apply(this, imports));\\n}\\n\"],\"observables\":{\"_toImage\":{\"sync\":false,\"id\":\"9227563634997143159\",\"value\":{}},\"hover\":{\"sync\":false,\"id\":\"4944075998605689941\",\"value\":{}},\"selected\":{\"sync\":false,\"id\":\"9680933682825036859\",\"value\":{}},\"__gd_contents\":{\"sync\":false,\"id\":\"4621293203112831305\",\"value\":{}},\"click\":{\"sync\":false,\"id\":\"678228933220921922\",\"value\":{}},\"image\":{\"sync\":true,\"id\":\"6837380774933162636\",\"value\":\"\"},\"__get_gd_contents\":{\"sync\":false,\"id\":\"7731548665936565663\",\"value\":\"\"},\"_downloadImage\":{\"sync\":false,\"id\":\"9930359725358241047\",\"value\":{}},\"relayout\":{\"sync\":false,\"id\":\"6924385712047659935\",\"value\":{}},\"_commands\":{\"sync\":false,\"id\":\"4855830861766601417\",\"value\":[]}}},\"children\":[{\"props\":{\"id\":\"plot-c5ad5fb5-bd3f-4d5c-ba3b-90151cd134d7\"},\"nodeType\":\"DOM\",\"type\":\"node\",\"instanceArgs\":{\"namespace\":\"html\",\"tag\":\"div\"},\"children\":[]}]},\n",
       "            window,\n",
       "        );\n",
       "    } else {\n",
       "        document\n",
       "            .querySelector('[data-webio-mountpoint=\"15690764135113882977\"]')\n",
       "            .innerHTML = (\n",
       "                '<div style=\"padding: 1em; background-color: #f8d6da; border: 1px solid #f5c6cb\">' +\n",
       "                '<p><strong>WebIO not detected.</strong></p>' +\n",
       "                '<p>Please read ' +\n",
       "                '<a href=\"https://juliagizmos.github.io/WebIO.jl/latest/troubleshooting/not-detected/\" target=\"_blank\">the troubleshooting guide</a> ' +\n",
       "                'for more information on how to resolve this issue.</p>' +\n",
       "                '<p><a href=\"https://juliagizmos.github.io/WebIO.jl/latest/troubleshooting/not-detected/\" target=\"_blank\">https://juliagizmos.github.io/WebIO.jl/latest/troubleshooting/not-detected/</a></p>' +\n",
       "                '</div>'\n",
       "            );\n",
       "    }\n",
       "    </script>\n",
       "</div>\n"
      ],
      "text/plain": [
       "data: [\n",
       "  \"scatter with fields showlegend, type, x, xaxis, y, and yaxis\",\n",
       "  \"scatter with fields showlegend, type, x, xaxis, y, and yaxis\",\n",
       "  \"scatter with fields showlegend, type, x, xaxis, y, and yaxis\",\n",
       "  \"scatter with fields showlegend, type, x, xaxis, y, and yaxis\"\n",
       "]\n",
       "\n",
       "layout: \"layout with fields annotations, margin, xaxis1, xaxis2, xaxis3, xaxis4, yaxis1, yaxis2, yaxis3, and yaxis4\"\n",
       "\n"
      ]
     },
     "execution_count": 5,
     "metadata": {
      "application/vnd.webio.node+json": {
       "kernelId": "28ec333a-283d-4da8-8e5f-39150d162437"
      }
     },
     "output_type": "execute_result"
    }
   ],
   "source": [
    "θ = LinRange(0,2π,128)\n",
    "p1 = plot(\n",
    "    scatter(x=cos.(θ), y=sin.(θ), showlegend=false),\n",
    "    Layout(title=\"Unit ball in the 2-norm\",\n",
    "        yaxis_scaleanchor=\"x\"))\n",
    "\n",
    "u = LinRange(0,1,2); ru = u[end:-1:1]\n",
    "p2 = plot(\n",
    "    scatter(x=[ru; -u; -ru; u], y=[u; ru; -u; -ru], \n",
    "        showlegend=false), \n",
    "    Layout(title=\"Unit ball in the 1-norm\",\n",
    "        yaxis_scaleanchor=\"x2\"))\n",
    "\n",
    "u = LinRange(-1,1,2); ru = u[end:-1:1]\n",
    "o = [1, 1]\n",
    "p3 = plot(\n",
    "    scatter(x=[o; ru; -o; u], y=[u; o; ru; -o],\n",
    "        showlegend=false), \n",
    "    Layout(title=\"Unit ball in the infinity-norm\",\n",
    "        yaxis_scaleanchor=\"x3\"))\n",
    "\n",
    "θ = LinRange(0,π/2,32)\n",
    "p = 4\n",
    "x = cos.(θ).^(2/p); rx = x[end:-1:1]\n",
    "y = sin.(θ).^(2/p); ry = y[end:-1:1]\n",
    "p4 = plot(\n",
    "    scatter(x=[x; -rx; -x; rx], y=[y; ry; -y; -ry],\n",
    "        showlegend=false),\n",
    "    Layout(title=\"Unit ball in the 4-norm\",\n",
    "        yaxis_scaleanchor=\"x4\"))\n",
    "\n",
    "P = [p1 p2; p3 p4]"
   ]
  },
  {
   "cell_type": "code",
   "execution_count": 6,
   "metadata": {},
   "outputs": [
    {
     "data": {
      "text/plain": [
       "\"fig_la2.pdf\""
      ]
     },
     "execution_count": 6,
     "metadata": {},
     "output_type": "execute_result"
    }
   ],
   "source": [
    "if output\n",
    "    PlotlyJS.savefig(P,\"fig_la2.pdf\")\n",
    "end"
   ]
  },
  {
   "cell_type": "code",
   "execution_count": 7,
   "metadata": {},
   "outputs": [
    {
     "data": {
      "application/vnd.plotly.v1+json": {
       "data": [
        {
         "showlegend": false,
         "type": "scatter",
         "x": [
          0,
          1
         ],
         "xaxis": "x1",
         "y": [
          0,
          -2
         ],
         "yaxis": "y1"
        },
        {
         "showlegend": false,
         "type": "scatter",
         "x": [
          0,
          0.5
         ],
         "xaxis": "x1",
         "y": [
          0,
          0.25
         ],
         "yaxis": "y1"
        },
        {
         "showlegend": false,
         "type": "scatter",
         "x": [
          0,
          0.5000000000000001
         ],
         "xaxis": "x2",
         "y": [
          0,
          0.8660254037844386
         ],
         "yaxis": "y2"
        },
        {
         "showlegend": false,
         "type": "scatter",
         "x": [
          0,
          0.8660254037844386
         ],
         "xaxis": "x2",
         "y": [
          0,
          -0.5000000000000001
         ],
         "yaxis": "y2"
        }
       ],
       "frames": [],
       "layout": {
        "annotations": [
         {
          "font": {
           "size": 16
          },
          "showarrow": false,
          "text": "Orthogonal vectors",
          "x": 0.225,
          "xanchor": "center",
          "xref": "paper",
          "y": 1,
          "yanchor": "bottom",
          "yref": "paper"
         },
         {
          "font": {
           "size": 16
          },
          "showarrow": false,
          "text": "Orthonormal vectors",
          "x": 0.775,
          "xanchor": "center",
          "xref": "paper",
          "y": 1,
          "yanchor": "bottom",
          "yref": "paper"
         }
        ],
        "margin": {
         "b": 50,
         "l": 50,
         "r": 50,
         "t": 60
        },
        "xaxis1": {
         "anchor": "y1",
         "domain": [
          0,
          0.45
         ]
        },
        "xaxis2": {
         "anchor": "y2",
         "domain": [
          0.55,
          1
         ]
        },
        "yaxis1": {
         "anchor": "x1",
         "domain": [
          0,
          1
         ],
         "scaleanchor": "x"
        },
        "yaxis2": {
         "anchor": "x2",
         "domain": [
          0,
          1
         ],
         "scaleanchor": "x2"
        }
       }
      },
      "application/vnd.webio.node+json": {
       "children": [
        {
         "children": [],
         "instanceArgs": {
          "namespace": "html",
          "tag": "div"
         },
         "nodeType": "DOM",
         "props": {
          "id": "plot-0fc5b9e2-d88d-41a6-9c6f-29345e979fee"
         },
         "type": "node"
        }
       ],
       "instanceArgs": {
        "handlers": {
         "__get_gd_contents": [
          "(function (prop){prop==\"data\" ? (WebIO.setval({\"name\":\"__gd_contents\",\"scope\":\"7807363110632608435\",\"id\":\"18351465481010855728\",\"type\":\"observable\"},this.plotElem.data)) : undefined; return prop==\"layout\" ? (WebIO.setval({\"name\":\"__gd_contents\",\"scope\":\"7807363110632608435\",\"id\":\"18351465481010855728\",\"type\":\"observable\"},this.plotElem.layout)) : undefined})"
         ],
         "_commands": [
          "(function (args){var fn=args.shift(); var elem=this.plotElem; var Plotly=this.Plotly; args.unshift(elem); return Plotly[fn].apply(this,args)})"
         ],
         "_downloadImage": [
          "(function (options){return this.Plotly.downloadImage(this.plotElem,options)})"
         ],
         "_toImage": [
          "(function (options){return this.Plotly.toImage(this.plotElem,options).then((function (data){return WebIO.setval({\"name\":\"image\",\"scope\":\"7807363110632608435\",\"id\":\"2940304742628179051\",\"type\":\"observable\"},data)}))})"
         ]
        },
        "id": "7807363110632608435",
        "imports": {
         "data": [
          {
           "name": "Plotly",
           "type": "js",
           "url": "/assetserver/57533c5d787f8bc76a9e58ed0a1abce5f1b0c14d-plotly-latest.min.js"
          },
          {
           "name": null,
           "type": "js",
           "url": "/assetserver/58a7932c57029f7dbaa4105104076ff149fc7585-plotly_webio.bundle.js"
          }
         ],
         "type": "async_block"
        },
        "mount_callbacks": [
         "function () {\n    var handler = ((function (Plotly,PlotlyWebIO){PlotlyWebIO.init(WebIO); var gd=this.dom.querySelector(\"#plot-0fc5b9e2-d88d-41a6-9c6f-29345e979fee\"); this.plotElem=gd; this.Plotly=Plotly; (window.Blink!==undefined) ? (gd.style.width=\"100%\", gd.style.height=\"100vh\", gd.style.marginLeft=\"0%\", gd.style.marginTop=\"0vh\") : undefined; window.onresize=(function (){return Plotly.Plots.resize(gd)}); Plotly.newPlot(gd,[{\"showlegend\":false,\"xaxis\":\"x1\",\"y\":[0,-2],\"type\":\"scatter\",\"yaxis\":\"y1\",\"x\":[0,1]},{\"showlegend\":false,\"xaxis\":\"x1\",\"y\":[0.0,0.25],\"type\":\"scatter\",\"yaxis\":\"y1\",\"x\":[0.0,0.5]},{\"showlegend\":false,\"xaxis\":\"x2\",\"y\":[0.0,0.8660254037844386],\"type\":\"scatter\",\"yaxis\":\"y2\",\"x\":[0.0,0.5000000000000001]},{\"showlegend\":false,\"xaxis\":\"x2\",\"y\":[0.0,-0.5000000000000001],\"type\":\"scatter\",\"yaxis\":\"y2\",\"x\":[0.0,0.8660254037844386]}],{\"xaxis1\":{\"domain\":[0.0,0.45],\"anchor\":\"y1\"},\"yaxis1\":{\"scaleanchor\":\"x\",\"domain\":[0.0,1.0],\"anchor\":\"x1\"},\"xaxis2\":{\"domain\":[0.55,1.0],\"anchor\":\"y2\"},\"annotations\":[{\"yanchor\":\"bottom\",\"xanchor\":\"center\",\"y\":1.0,\"font\":{\"size\":16},\"showarrow\":false,\"yref\":\"paper\",\"text\":\"Orthogonal vectors\",\"xref\":\"paper\",\"x\":0.225},{\"yanchor\":\"bottom\",\"xanchor\":\"center\",\"y\":1.0,\"font\":{\"size\":16},\"showarrow\":false,\"yref\":\"paper\",\"text\":\"Orthonormal vectors\",\"xref\":\"paper\",\"x\":0.775}],\"margin\":{\"l\":50,\"b\":50,\"r\":50,\"t\":60},\"yaxis2\":{\"scaleanchor\":\"x2\",\"domain\":[0.0,1.0],\"anchor\":\"x2\"}},{\"showLink\":false}); gd.on(\"plotly_hover\",(function (data){var filtered_data=WebIO.PlotlyCommands.filterEventData(gd,data,\"hover\"); return !(filtered_data.isnil) ? (WebIO.setval({\"name\":\"hover\",\"scope\":\"7807363110632608435\",\"id\":\"4962711496437131579\",\"type\":\"observable\"},filtered_data.out)) : undefined})); gd.on(\"plotly_unhover\",(function (){return WebIO.setval({\"name\":\"hover\",\"scope\":\"7807363110632608435\",\"id\":\"4962711496437131579\",\"type\":\"observable\"},{})})); gd.on(\"plotly_selected\",(function (data){var filtered_data=WebIO.PlotlyCommands.filterEventData(gd,data,\"selected\"); return !(filtered_data.isnil) ? (WebIO.setval({\"name\":\"selected\",\"scope\":\"7807363110632608435\",\"id\":\"12198311389331583478\",\"type\":\"observable\"},filtered_data.out)) : undefined})); gd.on(\"plotly_deselect\",(function (){return WebIO.setval({\"name\":\"selected\",\"scope\":\"7807363110632608435\",\"id\":\"12198311389331583478\",\"type\":\"observable\"},{})})); gd.on(\"plotly_relayout\",(function (data){var filtered_data=WebIO.PlotlyCommands.filterEventData(gd,data,\"relayout\"); return !(filtered_data.isnil) ? (WebIO.setval({\"name\":\"relayout\",\"scope\":\"7807363110632608435\",\"id\":\"2473507475975499667\",\"type\":\"observable\"},filtered_data.out)) : undefined})); return gd.on(\"plotly_click\",(function (data){var filtered_data=WebIO.PlotlyCommands.filterEventData(gd,data,\"click\"); return !(filtered_data.isnil) ? (WebIO.setval({\"name\":\"click\",\"scope\":\"7807363110632608435\",\"id\":\"12657966060943179340\",\"type\":\"observable\"},filtered_data.out)) : undefined}))}));\n    (WebIO.importBlock({\"data\":[{\"name\":\"Plotly\",\"type\":\"js\",\"url\":\"/assetserver/57533c5d787f8bc76a9e58ed0a1abce5f1b0c14d-plotly-latest.min.js\"},{\"name\":null,\"type\":\"js\",\"url\":\"/assetserver/58a7932c57029f7dbaa4105104076ff149fc7585-plotly_webio.bundle.js\"}],\"type\":\"async_block\"})).then((imports) => handler.apply(this, imports));\n}\n"
        ],
        "observables": {
         "__gd_contents": {
          "id": "18351465481010855728",
          "sync": false,
          "value": {}
         },
         "__get_gd_contents": {
          "id": "16486368254600306989",
          "sync": false,
          "value": ""
         },
         "_commands": {
          "id": "212984090885691162",
          "sync": false,
          "value": []
         },
         "_downloadImage": {
          "id": "15997473825728533000",
          "sync": false,
          "value": {}
         },
         "_toImage": {
          "id": "11867823482635660586",
          "sync": false,
          "value": {}
         },
         "click": {
          "id": "12657966060943179340",
          "sync": false,
          "value": {}
         },
         "hover": {
          "id": "4962711496437131579",
          "sync": false,
          "value": {}
         },
         "image": {
          "id": "2940304742628179051",
          "sync": true,
          "value": ""
         },
         "relayout": {
          "id": "2473507475975499667",
          "sync": false,
          "value": {}
         },
         "selected": {
          "id": "12198311389331583478",
          "sync": false,
          "value": {}
         }
        },
        "systemjs_options": null
       },
       "nodeType": "Scope",
       "props": {},
       "type": "node"
      },
      "image/png": "[encoded data removed]",
      "image/svg+xml": [
       "<svg class=\"main-svg\" xmlns=\"http://www.w3.org/2000/svg\" xmlns:xlink=\"http://www.w3.org/1999/xlink\" width=\"700\" height=\"500\" style=\"\" viewBox=\"0 0 700 500\"><rect x=\"0\" y=\"0\" width=\"700\" height=\"500\" style=\"fill: rgb(255, 255, 255); fill-opacity: 1;\"/><defs id=\"defs-a3da12\"><g class=\"clips\"><clipPath id=\"clipa3da12xyplot\" class=\"plotclip\"><rect width=\"270\" height=\"390\"/></clipPath><clipPath id=\"clipa3da12x2y2plot\" class=\"plotclip\"><rect width=\"270\" height=\"390\"/></clipPath><clipPath class=\"axesclip\" id=\"clipa3da12x\"><rect x=\"50\" y=\"0\" width=\"270\" height=\"500\"/></clipPath><clipPath class=\"axesclip\" id=\"clipa3da12y\"><rect x=\"0\" y=\"60\" width=\"700\" height=\"390\"/></clipPath><clipPath class=\"axesclip\" id=\"clipa3da12xy\"><rect x=\"50\" y=\"60\" width=\"270\" height=\"390\"/></clipPath><clipPath class=\"axesclip\" id=\"clipa3da12y2\"><rect x=\"0\" y=\"60\" width=\"700\" height=\"390\"/></clipPath><clipPath class=\"axesclip\" id=\"clipa3da12xy2\"><rect x=\"50\" y=\"60\" width=\"270\" height=\"390\"/></clipPath><clipPath class=\"axesclip\" id=\"clipa3da12x2\"><rect x=\"380\" y=\"0\" width=\"270\" height=\"500\"/></clipPath><clipPath class=\"axesclip\" id=\"clipa3da12x2y\"><rect x=\"380\" y=\"60\" width=\"270\" height=\"390\"/></clipPath><clipPath class=\"axesclip\" id=\"clipa3da12x2y2\"><rect x=\"380\" y=\"60\" width=\"270\" height=\"390\"/></clipPath></g><g class=\"gradients\"/></defs><g class=\"bglayer\"/><g class=\"layer-below\"><g class=\"imagelayer\"/><g class=\"shapelayer\"/></g><g class=\"cartesianlayer\"><g class=\"subplot xy\"><g class=\"layer-subplot\"><g class=\"shapelayer\"/><g class=\"imagelayer\"/></g><g class=\"gridlayer\"><g class=\"x\"><path class=\"xgrid crisp\" transform=\"translate(185,0)\" d=\"M0,60v390\" style=\"stroke: rgb(238, 238, 238); stroke-opacity: 1; stroke-width: 1px;\"/><path class=\"xgrid crisp\" transform=\"translate(261.33000000000004,0)\" d=\"M0,60v390\" style=\"stroke: rgb(238, 238, 238); stroke-opacity: 1; stroke-width: 1px;\"/></g><g class=\"y\"><path class=\"ygrid crisp\" transform=\"translate(0,426.75)\" d=\"M50,0h270\" style=\"stroke: rgb(238, 238, 238); stroke-opacity: 1; stroke-width: 1px;\"/><path class=\"ygrid crisp\" transform=\"translate(0,350.42)\" d=\"M50,0h270\" style=\"stroke: rgb(238, 238, 238); stroke-opacity: 1; stroke-width: 1px;\"/><path class=\"ygrid crisp\" transform=\"translate(0,274.08000000000004)\" d=\"M50,0h270\" style=\"stroke: rgb(238, 238, 238); stroke-opacity: 1; stroke-width: 1px;\"/><path class=\"ygrid crisp\" transform=\"translate(0,197.75)\" d=\"M50,0h270\" style=\"stroke: rgb(238, 238, 238); stroke-opacity: 1; stroke-width: 1px;\"/></g></g><g class=\"zerolinelayer\"><path class=\"xzl zl crisp\" transform=\"translate(108.67,0)\" d=\"M0,60v390\" style=\"stroke: rgb(68, 68, 68); stroke-opacity: 1; stroke-width: 1px;\"/><path class=\"yzl zl crisp\" transform=\"translate(0,121.42)\" d=\"M50,0h270\" style=\"stroke: rgb(68, 68, 68); stroke-opacity: 1; stroke-width: 1px;\"/></g><path class=\"xlines-below\"/><path class=\"ylines-below\"/><g class=\"overlines-below\"/><g class=\"xaxislayer-below\"/><g class=\"yaxislayer-below\"/><g class=\"overaxes-below\"/><g class=\"plot\" transform=\"translate(50, 60)\" clip-path=\"url('#clipa3da12xyplot')\"><g class=\"scatterlayer mlayer\"><g class=\"trace scatter tracedbac4f\" style=\"stroke-miterlimit: 2; opacity: 1;\"><g class=\"fills\"/><g class=\"errorbars\"/><g class=\"lines\"><path class=\"js-line\" d=\"M58.67,61.42L211.33,366.75\" style=\"vector-effect: non-scaling-stroke; fill: none; stroke: rgb(31, 119, 180); stroke-opacity: 1; stroke-width: 2px; opacity: 1;\"/></g><g class=\"points\"><path class=\"point\" transform=\"translate(58.67,61.42)\" d=\"M3,0A3,3 0 1,1 0,-3A3,3 0 0,1 3,0Z\" style=\"opacity: 1; stroke-width: 0px; fill: rgb(31, 119, 180); fill-opacity: 1;\"/><path class=\"point\" transform=\"translate(211.33,366.75)\" d=\"M3,0A3,3 0 1,1 0,-3A3,3 0 0,1 3,0Z\" style=\"opacity: 1; stroke-width: 0px; fill: rgb(31, 119, 180); fill-opacity: 1;\"/></g><g class=\"text\"/></g><g class=\"trace scatter trace704fd2\" style=\"stroke-miterlimit: 2; opacity: 1;\"><g class=\"fills\"/><g class=\"errorbars\"/><g class=\"lines\"><path class=\"js-line\" d=\"M58.67,61.42L135,23.25\" style=\"vector-effect: non-scaling-stroke; fill: none; stroke: rgb(255, 127, 14); stroke-opacity: 1; stroke-width: 2px; opacity: 1;\"/></g><g class=\"points\"><path class=\"point\" transform=\"translate(58.67,61.42)\" d=\"M3,0A3,3 0 1,1 0,-3A3,3 0 0,1 3,0Z\" style=\"opacity: 1; stroke-width: 0px; fill: rgb(255, 127, 14); fill-opacity: 1;\"/><path class=\"point\" transform=\"translate(135,23.25)\" d=\"M3,0A3,3 0 1,1 0,-3A3,3 0 0,1 3,0Z\" style=\"opacity: 1; stroke-width: 0px; fill: rgb(255, 127, 14); fill-opacity: 1;\"/></g><g class=\"text\"/></g></g></g><g class=\"overplot\"/><path class=\"xlines-above crisp\" d=\"M0,0\" style=\"fill: none;\"/><path class=\"ylines-above crisp\" d=\"M0,0\" style=\"fill: none;\"/><g class=\"overlines-above\"/><g class=\"xaxislayer-above\"><g class=\"xtick\"><text text-anchor=\"middle\" x=\"0\" y=\"463\" transform=\"translate(108.67,0)\" style=\"font-family: 'Open Sans', verdana, arial, sans-serif; font-size: 12px; fill: rgb(68, 68, 68); fill-opacity: 1; white-space: pre;\">0</text></g><g class=\"xtick\"><text text-anchor=\"middle\" x=\"0\" y=\"463\" transform=\"translate(185,0)\" style=\"font-family: 'Open Sans', verdana, arial, sans-serif; font-size: 12px; fill: rgb(68, 68, 68); fill-opacity: 1; white-space: pre;\">0.5</text></g><g class=\"xtick\"><text text-anchor=\"middle\" x=\"0\" y=\"463\" transform=\"translate(261.33000000000004,0)\" style=\"font-family: 'Open Sans', verdana, arial, sans-serif; font-size: 12px; fill: rgb(68, 68, 68); fill-opacity: 1; white-space: pre;\">1</text></g></g><g class=\"yaxislayer-above\"><g class=\"ytick\"><text text-anchor=\"end\" x=\"49\" y=\"4.199999999999999\" transform=\"translate(0,426.75)\" style=\"font-family: 'Open Sans', verdana, arial, sans-serif; font-size: 12px; fill: rgb(68, 68, 68); fill-opacity: 1; white-space: pre;\">−2</text></g><g class=\"ytick\"><text text-anchor=\"end\" x=\"49\" y=\"4.199999999999999\" transform=\"translate(0,350.42)\" style=\"font-family: 'Open Sans', verdana, arial, sans-serif; font-size: 12px; fill: rgb(68, 68, 68); fill-opacity: 1; white-space: pre;\">−1.5</text></g><g class=\"ytick\"><text text-anchor=\"end\" x=\"49\" y=\"4.199999999999999\" transform=\"translate(0,274.08000000000004)\" style=\"font-family: 'Open Sans', verdana, arial, sans-serif; font-size: 12px; fill: rgb(68, 68, 68); fill-opacity: 1; white-space: pre;\">−1</text></g><g class=\"ytick\"><text text-anchor=\"end\" x=\"49\" y=\"4.199999999999999\" transform=\"translate(0,197.75)\" style=\"font-family: 'Open Sans', verdana, arial, sans-serif; font-size: 12px; fill: rgb(68, 68, 68); fill-opacity: 1; white-space: pre;\">−0.5</text></g><g class=\"ytick\"><text text-anchor=\"end\" x=\"49\" y=\"4.199999999999999\" transform=\"translate(0,121.42)\" style=\"font-family: 'Open Sans', verdana, arial, sans-serif; font-size: 12px; fill: rgb(68, 68, 68); fill-opacity: 1; white-space: pre;\">0</text></g></g><g class=\"overaxes-above\"/></g><g class=\"subplot x2y2\"><g class=\"layer-subplot\"><g class=\"shapelayer\"/><g class=\"imagelayer\"/></g><g class=\"gridlayer\"><g class=\"x2\"><path class=\"x2grid crisp\" transform=\"translate(531.84,0)\" d=\"M0,60v390\" style=\"stroke: rgb(238, 238, 238); stroke-opacity: 1; stroke-width: 1px;\"/></g><g class=\"y2\"><path class=\"y2grid crisp\" transform=\"translate(0,401.6)\" d=\"M380,0h270\" style=\"stroke: rgb(238, 238, 238); stroke-opacity: 1; stroke-width: 1px;\"/><path class=\"y2grid crisp\" transform=\"translate(0,351.31)\" d=\"M380,0h270\" style=\"stroke: rgb(238, 238, 238); stroke-opacity: 1; stroke-width: 1px;\"/><path class=\"y2grid crisp\" transform=\"translate(0,250.73)\" d=\"M380,0h270\" style=\"stroke: rgb(238, 238, 238); stroke-opacity: 1; stroke-width: 1px;\"/><path class=\"y2grid crisp\" transform=\"translate(0,200.44)\" d=\"M380,0h270\" style=\"stroke: rgb(238, 238, 238); stroke-opacity: 1; stroke-width: 1px;\"/><path class=\"y2grid crisp\" transform=\"translate(0,150.14)\" d=\"M380,0h270\" style=\"stroke: rgb(238, 238, 238); stroke-opacity: 1; stroke-width: 1px;\"/><path class=\"y2grid crisp\" transform=\"translate(0,99.85)\" d=\"M380,0h270\" style=\"stroke: rgb(238, 238, 238); stroke-opacity: 1; stroke-width: 1px;\"/></g></g><g class=\"zerolinelayer\"><path class=\"x2zl zl crisp\" transform=\"translate(406.11,0)\" d=\"M0,60v390\" style=\"stroke: rgb(68, 68, 68); stroke-opacity: 1; stroke-width: 1px;\"/><path class=\"y2zl zl crisp\" transform=\"translate(0,301.02)\" d=\"M380,0h270\" style=\"stroke: rgb(68, 68, 68); stroke-opacity: 1; stroke-width: 1px;\"/></g><path class=\"xlines-below\"/><path class=\"ylines-below\"/><g class=\"overlines-below\"/><g class=\"xaxislayer-below\"/><g class=\"yaxislayer-below\"/><g class=\"overaxes-below\"/><g class=\"plot\" transform=\"translate(380, 60)\" clip-path=\"url('#clipa3da12x2y2plot')\"><g class=\"scatterlayer mlayer\"><g class=\"trace scatter trace674a1b\" style=\"stroke-miterlimit: 2; opacity: 1;\"><g class=\"fills\"/><g class=\"errorbars\"/><g class=\"lines\"><path class=\"js-line\" d=\"M26.11,241.02L151.84,23.25\" style=\"vector-effect: non-scaling-stroke; fill: none; stroke: rgb(44, 160, 44); stroke-opacity: 1; stroke-width: 2px; opacity: 1;\"/></g><g class=\"points\"><path class=\"point\" transform=\"translate(26.11,241.02)\" d=\"M3,0A3,3 0 1,1 0,-3A3,3 0 0,1 3,0Z\" style=\"opacity: 1; stroke-width: 0px; fill: rgb(44, 160, 44); fill-opacity: 1;\"/><path class=\"point\" transform=\"translate(151.84,23.25)\" d=\"M3,0A3,3 0 1,1 0,-3A3,3 0 0,1 3,0Z\" style=\"opacity: 1; stroke-width: 0px; fill: rgb(44, 160, 44); fill-opacity: 1;\"/></g><g class=\"text\"/></g><g class=\"trace scatter trace92958e\" style=\"stroke-miterlimit: 2; opacity: 1;\"><g class=\"fills\"/><g class=\"errorbars\"/><g class=\"lines\"><path class=\"js-line\" d=\"M26.11,241.02L243.89,366.75\" style=\"vector-effect: non-scaling-stroke; fill: none; stroke: rgb(214, 39, 40); stroke-opacity: 1; stroke-width: 2px; opacity: 1;\"/></g><g class=\"points\"><path class=\"point\" transform=\"translate(26.11,241.02)\" d=\"M3,0A3,3 0 1,1 0,-3A3,3 0 0,1 3,0Z\" style=\"opacity: 1; stroke-width: 0px; fill: rgb(214, 39, 40); fill-opacity: 1;\"/><path class=\"point\" transform=\"translate(243.89,366.75)\" d=\"M3,0A3,3 0 1,1 0,-3A3,3 0 0,1 3,0Z\" style=\"opacity: 1; stroke-width: 0px; fill: rgb(214, 39, 40); fill-opacity: 1;\"/></g><g class=\"text\"/></g></g></g><g class=\"overplot\"/><path class=\"xlines-above crisp\" d=\"M0,0\" style=\"fill: none;\"/><path class=\"ylines-above crisp\" d=\"M0,0\" style=\"fill: none;\"/><g class=\"overlines-above\"/><g class=\"xaxislayer-above\"><g class=\"x2tick\"><text text-anchor=\"middle\" x=\"0\" y=\"463\" transform=\"translate(406.11,0)\" style=\"font-family: 'Open Sans', verdana, arial, sans-serif; font-size: 12px; fill: rgb(68, 68, 68); fill-opacity: 1; white-space: pre;\">0</text></g><g class=\"x2tick\"><text text-anchor=\"middle\" x=\"0\" y=\"463\" transform=\"translate(531.84,0)\" style=\"font-family: 'Open Sans', verdana, arial, sans-serif; font-size: 12px; fill: rgb(68, 68, 68); fill-opacity: 1; white-space: pre;\">0.5</text></g></g><g class=\"yaxislayer-above\"><g class=\"y2tick\"><text text-anchor=\"end\" x=\"379\" y=\"4.199999999999999\" transform=\"translate(0,401.6)\" style=\"font-family: 'Open Sans', verdana, arial, sans-serif; font-size: 12px; fill: rgb(68, 68, 68); fill-opacity: 1; white-space: pre;\">−0.4</text></g><g class=\"y2tick\"><text text-anchor=\"end\" x=\"379\" y=\"4.199999999999999\" transform=\"translate(0,351.31)\" style=\"font-family: 'Open Sans', verdana, arial, sans-serif; font-size: 12px; fill: rgb(68, 68, 68); fill-opacity: 1; white-space: pre;\">−0.2</text></g><g class=\"y2tick\"><text text-anchor=\"end\" x=\"379\" y=\"4.199999999999999\" transform=\"translate(0,301.02)\" style=\"font-family: 'Open Sans', verdana, arial, sans-serif; font-size: 12px; fill: rgb(68, 68, 68); fill-opacity: 1; white-space: pre;\">0</text></g><g class=\"y2tick\"><text text-anchor=\"end\" x=\"379\" y=\"4.199999999999999\" transform=\"translate(0,250.73)\" style=\"font-family: 'Open Sans', verdana, arial, sans-serif; font-size: 12px; fill: rgb(68, 68, 68); fill-opacity: 1; white-space: pre;\">0.2</text></g><g class=\"y2tick\"><text text-anchor=\"end\" x=\"379\" y=\"4.199999999999999\" transform=\"translate(0,200.44)\" style=\"font-family: 'Open Sans', verdana, arial, sans-serif; font-size: 12px; fill: rgb(68, 68, 68); fill-opacity: 1; white-space: pre;\">0.4</text></g><g class=\"y2tick\"><text text-anchor=\"end\" x=\"379\" y=\"4.199999999999999\" transform=\"translate(0,150.14)\" style=\"font-family: 'Open Sans', verdana, arial, sans-serif; font-size: 12px; fill: rgb(68, 68, 68); fill-opacity: 1; white-space: pre;\">0.6</text></g><g class=\"y2tick\"><text text-anchor=\"end\" x=\"379\" y=\"4.199999999999999\" transform=\"translate(0,99.85)\" style=\"font-family: 'Open Sans', verdana, arial, sans-serif; font-size: 12px; fill: rgb(68, 68, 68); fill-opacity: 1; white-space: pre;\">0.8</text></g></g><g class=\"overaxes-above\"/></g></g><g class=\"polarlayer\"/><g class=\"ternarylayer\"/><g class=\"geolayer\"/><g class=\"funnelarealayer\"/><g class=\"pielayer\"/><g class=\"treemaplayer\"/><g class=\"sunburstlayer\"/><g class=\"glimages\"/><defs id=\"topdefs-a3da12\"><g class=\"clips\"/></defs><g class=\"layer-above\"><g class=\"imagelayer\"/><g class=\"shapelayer\"/></g><g class=\"infolayer\"><g class=\"g-gtitle\"/><g class=\"g-xtitle\"/><g class=\"g-x2title\"/><g class=\"g-ytitle\"/><g class=\"g-y2title\"/><g class=\"annotation\" data-index=\"0\" style=\"opacity: 1;\"><g class=\"annotation-text-g\" transform=\"rotate(0,185,46.99999999999999)\"><g class=\"cursor-pointer\" transform=\"translate(111, 34)\"><rect class=\"bg\" x=\"0.5\" y=\"0.5\" width=\"147\" height=\"25\" style=\"stroke-width: 1px; stroke: rgb(0, 0, 0); stroke-opacity: 0; fill: rgb(0, 0, 0); fill-opacity: 0;\"/><text class=\"annotation-text\" text-anchor=\"middle\" x=\"73.78125\" y=\"19\" style=\"font-family: 'Open Sans', verdana, arial, sans-serif; font-size: 16px; fill: rgb(68, 68, 68); fill-opacity: 1; white-space: pre;\">Orthogonal vectors</text></g></g></g><g class=\"annotation\" data-index=\"1\" style=\"opacity: 1;\"><g class=\"annotation-text-g\" transform=\"rotate(0,515,46.99999999999999)\"><g class=\"cursor-pointer\" transform=\"translate(435, 34)\"><rect class=\"bg\" x=\"0.5\" y=\"0.5\" width=\"159\" height=\"25\" style=\"stroke-width: 1px; stroke: rgb(0, 0, 0); stroke-opacity: 0; fill: rgb(0, 0, 0); fill-opacity: 0;\"/><text class=\"annotation-text\" text-anchor=\"middle\" x=\"80.109375\" y=\"19\" style=\"font-family: 'Open Sans', verdana, arial, sans-serif; font-size: 16px; fill: rgb(68, 68, 68); fill-opacity: 1; white-space: pre;\">Orthonormal vectors</text></g></g></g></g></svg>"
      ],
      "text/html": [
       "<div\n",
       "    class=\"webio-mountpoint\"\n",
       "    data-webio-mountpoint=\"6660587678806286318\"\n",
       ">\n",
       "    <script>\n",
       "    if (window.require && require.defined && require.defined(\"nbextensions/webio-jupyter-notebook\")) {\n",
       "        console.log(\"Jupyter WebIO extension detected, not mounting.\");\n",
       "    } else if (window.WebIO) {\n",
       "        WebIO.mount(\n",
       "            document.querySelector('[data-webio-mountpoint=\"6660587678806286318\"]'),\n",
       "            {\"props\":{},\"nodeType\":\"Scope\",\"type\":\"node\",\"instanceArgs\":{\"imports\":{\"data\":[{\"name\":\"Plotly\",\"type\":\"js\",\"url\":\"\\/assetserver\\/57533c5d787f8bc76a9e58ed0a1abce5f1b0c14d-plotly-latest.min.js\"},{\"name\":null,\"type\":\"js\",\"url\":\"\\/assetserver\\/58a7932c57029f7dbaa4105104076ff149fc7585-plotly_webio.bundle.js\"}],\"type\":\"async_block\"},\"id\":\"7807363110632608435\",\"handlers\":{\"_toImage\":[\"(function (options){return this.Plotly.toImage(this.plotElem,options).then((function (data){return WebIO.setval({\\\"name\\\":\\\"image\\\",\\\"scope\\\":\\\"7807363110632608435\\\",\\\"id\\\":\\\"2940304742628179051\\\",\\\"type\\\":\\\"observable\\\"},data)}))})\"],\"__get_gd_contents\":[\"(function (prop){prop==\\\"data\\\" ? (WebIO.setval({\\\"name\\\":\\\"__gd_contents\\\",\\\"scope\\\":\\\"7807363110632608435\\\",\\\"id\\\":\\\"18351465481010855728\\\",\\\"type\\\":\\\"observable\\\"},this.plotElem.data)) : undefined; return prop==\\\"layout\\\" ? (WebIO.setval({\\\"name\\\":\\\"__gd_contents\\\",\\\"scope\\\":\\\"7807363110632608435\\\",\\\"id\\\":\\\"18351465481010855728\\\",\\\"type\\\":\\\"observable\\\"},this.plotElem.layout)) : undefined})\"],\"_downloadImage\":[\"(function (options){return this.Plotly.downloadImage(this.plotElem,options)})\"],\"_commands\":[\"(function (args){var fn=args.shift(); var elem=this.plotElem; var Plotly=this.Plotly; args.unshift(elem); return Plotly[fn].apply(this,args)})\"]},\"systemjs_options\":null,\"mount_callbacks\":[\"function () {\\n    var handler = ((function (Plotly,PlotlyWebIO){PlotlyWebIO.init(WebIO); var gd=this.dom.querySelector(\\\"#plot-0fc5b9e2-d88d-41a6-9c6f-29345e979fee\\\"); this.plotElem=gd; this.Plotly=Plotly; (window.Blink!==undefined) ? (gd.style.width=\\\"100%\\\", gd.style.height=\\\"100vh\\\", gd.style.marginLeft=\\\"0%\\\", gd.style.marginTop=\\\"0vh\\\") : undefined; window.onresize=(function (){return Plotly.Plots.resize(gd)}); Plotly.newPlot(gd,[{\\\"showlegend\\\":false,\\\"xaxis\\\":\\\"x1\\\",\\\"y\\\":[0,-2],\\\"type\\\":\\\"scatter\\\",\\\"yaxis\\\":\\\"y1\\\",\\\"x\\\":[0,1]},{\\\"showlegend\\\":false,\\\"xaxis\\\":\\\"x1\\\",\\\"y\\\":[0.0,0.25],\\\"type\\\":\\\"scatter\\\",\\\"yaxis\\\":\\\"y1\\\",\\\"x\\\":[0.0,0.5]},{\\\"showlegend\\\":false,\\\"xaxis\\\":\\\"x2\\\",\\\"y\\\":[0.0,0.8660254037844386],\\\"type\\\":\\\"scatter\\\",\\\"yaxis\\\":\\\"y2\\\",\\\"x\\\":[0.0,0.5000000000000001]},{\\\"showlegend\\\":false,\\\"xaxis\\\":\\\"x2\\\",\\\"y\\\":[0.0,-0.5000000000000001],\\\"type\\\":\\\"scatter\\\",\\\"yaxis\\\":\\\"y2\\\",\\\"x\\\":[0.0,0.8660254037844386]}],{\\\"xaxis1\\\":{\\\"domain\\\":[0.0,0.45],\\\"anchor\\\":\\\"y1\\\"},\\\"yaxis1\\\":{\\\"scaleanchor\\\":\\\"x\\\",\\\"domain\\\":[0.0,1.0],\\\"anchor\\\":\\\"x1\\\"},\\\"xaxis2\\\":{\\\"domain\\\":[0.55,1.0],\\\"anchor\\\":\\\"y2\\\"},\\\"annotations\\\":[{\\\"yanchor\\\":\\\"bottom\\\",\\\"xanchor\\\":\\\"center\\\",\\\"y\\\":1.0,\\\"font\\\":{\\\"size\\\":16},\\\"showarrow\\\":false,\\\"yref\\\":\\\"paper\\\",\\\"text\\\":\\\"Orthogonal vectors\\\",\\\"xref\\\":\\\"paper\\\",\\\"x\\\":0.225},{\\\"yanchor\\\":\\\"bottom\\\",\\\"xanchor\\\":\\\"center\\\",\\\"y\\\":1.0,\\\"font\\\":{\\\"size\\\":16},\\\"showarrow\\\":false,\\\"yref\\\":\\\"paper\\\",\\\"text\\\":\\\"Orthonormal vectors\\\",\\\"xref\\\":\\\"paper\\\",\\\"x\\\":0.775}],\\\"margin\\\":{\\\"l\\\":50,\\\"b\\\":50,\\\"r\\\":50,\\\"t\\\":60},\\\"yaxis2\\\":{\\\"scaleanchor\\\":\\\"x2\\\",\\\"domain\\\":[0.0,1.0],\\\"anchor\\\":\\\"x2\\\"}},{\\\"showLink\\\":false}); gd.on(\\\"plotly_hover\\\",(function (data){var filtered_data=WebIO.PlotlyCommands.filterEventData(gd,data,\\\"hover\\\"); return !(filtered_data.isnil) ? (WebIO.setval({\\\"name\\\":\\\"hover\\\",\\\"scope\\\":\\\"7807363110632608435\\\",\\\"id\\\":\\\"4962711496437131579\\\",\\\"type\\\":\\\"observable\\\"},filtered_data.out)) : undefined})); gd.on(\\\"plotly_unhover\\\",(function (){return WebIO.setval({\\\"name\\\":\\\"hover\\\",\\\"scope\\\":\\\"7807363110632608435\\\",\\\"id\\\":\\\"4962711496437131579\\\",\\\"type\\\":\\\"observable\\\"},{})})); gd.on(\\\"plotly_selected\\\",(function (data){var filtered_data=WebIO.PlotlyCommands.filterEventData(gd,data,\\\"selected\\\"); return !(filtered_data.isnil) ? (WebIO.setval({\\\"name\\\":\\\"selected\\\",\\\"scope\\\":\\\"7807363110632608435\\\",\\\"id\\\":\\\"12198311389331583478\\\",\\\"type\\\":\\\"observable\\\"},filtered_data.out)) : undefined})); gd.on(\\\"plotly_deselect\\\",(function (){return WebIO.setval({\\\"name\\\":\\\"selected\\\",\\\"scope\\\":\\\"7807363110632608435\\\",\\\"id\\\":\\\"12198311389331583478\\\",\\\"type\\\":\\\"observable\\\"},{})})); gd.on(\\\"plotly_relayout\\\",(function (data){var filtered_data=WebIO.PlotlyCommands.filterEventData(gd,data,\\\"relayout\\\"); return !(filtered_data.isnil) ? (WebIO.setval({\\\"name\\\":\\\"relayout\\\",\\\"scope\\\":\\\"7807363110632608435\\\",\\\"id\\\":\\\"2473507475975499667\\\",\\\"type\\\":\\\"observable\\\"},filtered_data.out)) : undefined})); return gd.on(\\\"plotly_click\\\",(function (data){var filtered_data=WebIO.PlotlyCommands.filterEventData(gd,data,\\\"click\\\"); return !(filtered_data.isnil) ? (WebIO.setval({\\\"name\\\":\\\"click\\\",\\\"scope\\\":\\\"7807363110632608435\\\",\\\"id\\\":\\\"12657966060943179340\\\",\\\"type\\\":\\\"observable\\\"},filtered_data.out)) : undefined}))}));\\n    (WebIO.importBlock({\\\"data\\\":[{\\\"name\\\":\\\"Plotly\\\",\\\"type\\\":\\\"js\\\",\\\"url\\\":\\\"\\/assetserver\\/57533c5d787f8bc76a9e58ed0a1abce5f1b0c14d-plotly-latest.min.js\\\"},{\\\"name\\\":null,\\\"type\\\":\\\"js\\\",\\\"url\\\":\\\"\\/assetserver\\/58a7932c57029f7dbaa4105104076ff149fc7585-plotly_webio.bundle.js\\\"}],\\\"type\\\":\\\"async_block\\\"})).then((imports) => handler.apply(this, imports));\\n}\\n\"],\"observables\":{\"_toImage\":{\"sync\":false,\"id\":\"11867823482635660586\",\"value\":{}},\"hover\":{\"sync\":false,\"id\":\"4962711496437131579\",\"value\":{}},\"selected\":{\"sync\":false,\"id\":\"12198311389331583478\",\"value\":{}},\"__gd_contents\":{\"sync\":false,\"id\":\"18351465481010855728\",\"value\":{}},\"click\":{\"sync\":false,\"id\":\"12657966060943179340\",\"value\":{}},\"image\":{\"sync\":true,\"id\":\"2940304742628179051\",\"value\":\"\"},\"__get_gd_contents\":{\"sync\":false,\"id\":\"16486368254600306989\",\"value\":\"\"},\"_downloadImage\":{\"sync\":false,\"id\":\"15997473825728533000\",\"value\":{}},\"relayout\":{\"sync\":false,\"id\":\"2473507475975499667\",\"value\":{}},\"_commands\":{\"sync\":false,\"id\":\"212984090885691162\",\"value\":[]}}},\"children\":[{\"props\":{\"id\":\"plot-0fc5b9e2-d88d-41a6-9c6f-29345e979fee\"},\"nodeType\":\"DOM\",\"type\":\"node\",\"instanceArgs\":{\"namespace\":\"html\",\"tag\":\"div\"},\"children\":[]}]},\n",
       "            window,\n",
       "        );\n",
       "    } else {\n",
       "        document\n",
       "            .querySelector('[data-webio-mountpoint=\"6660587678806286318\"]')\n",
       "            .innerHTML = (\n",
       "                '<div style=\"padding: 1em; background-color: #f8d6da; border: 1px solid #f5c6cb\">' +\n",
       "                '<p><strong>WebIO not detected.</strong></p>' +\n",
       "                '<p>Please read ' +\n",
       "                '<a href=\"https://juliagizmos.github.io/WebIO.jl/latest/troubleshooting/not-detected/\" target=\"_blank\">the troubleshooting guide</a> ' +\n",
       "                'for more information on how to resolve this issue.</p>' +\n",
       "                '<p><a href=\"https://juliagizmos.github.io/WebIO.jl/latest/troubleshooting/not-detected/\" target=\"_blank\">https://juliagizmos.github.io/WebIO.jl/latest/troubleshooting/not-detected/</a></p>' +\n",
       "                '</div>'\n",
       "            );\n",
       "    }\n",
       "    </script>\n",
       "</div>\n"
      ],
      "text/plain": [
       "data: [\n",
       "  \"scatter with fields showlegend, type, x, xaxis, y, and yaxis\",\n",
       "  \"scatter with fields showlegend, type, x, xaxis, y, and yaxis\",\n",
       "  \"scatter with fields showlegend, type, x, xaxis, y, and yaxis\",\n",
       "  \"scatter with fields showlegend, type, x, xaxis, y, and yaxis\"\n",
       "]\n",
       "\n",
       "layout: \"layout with fields annotations, margin, xaxis1, xaxis2, yaxis1, and yaxis2\"\n",
       "\n"
      ]
     },
     "execution_count": 7,
     "metadata": {
      "application/vnd.webio.node+json": {
       "kernelId": "28ec333a-283d-4da8-8e5f-39150d162437"
      }
     },
     "output_type": "execute_result"
    }
   ],
   "source": [
    "x = [1, -2]; y = [2, 1] / 4\n",
    "tr = [ scatter(x=[0,x[1]], y=[0,x[2]],\n",
    "          showlegend=false), \n",
    "       scatter(x=[0,y[1]], y=[0,y[2]],\n",
    "          showlegend=false)\n",
    "     ]\n",
    "la = Layout(yaxis_scaleanchor=\"x\",\n",
    "        title=\"Orthogonal vectors\",\n",
    "        showlegend=false) \n",
    "p1 = plot(tr,la)\n",
    "        \n",
    "t = pi/3; \n",
    "x = [cos.(t), sin.(t)]; y = [x[2], -x[1]]\n",
    "tr = [ scatter(x=[0,x[1]], y=[0,x[2]],\n",
    "          showlegend=false), \n",
    "       scatter(x=[0,y[1]], y=[0,y[2]],\n",
    "          showlegend=false)\n",
    "     ]\n",
    "la = Layout(yaxis_scaleanchor=\"x2\",title=\"Orthonormal vectors\") \n",
    "p2 = plot(tr,la)\n",
    "\n",
    "[p1 p2]"
   ]
  },
  {
   "cell_type": "code",
   "execution_count": 8,
   "metadata": {},
   "outputs": [
    {
     "data": {
      "text/plain": [
       "\"fig_la3.pdf\""
      ]
     },
     "execution_count": 8,
     "metadata": {},
     "output_type": "execute_result"
    }
   ],
   "source": [
    "if output\n",
    "    PlotlyJS.savefig([p1 p2],\"fig_la3.pdf\")\n",
    "end"
   ]
  },
  {
   "cell_type": "code",
   "execution_count": 9,
   "metadata": {},
   "outputs": [
    {
     "data": {
      "application/vnd.plotly.v1+json": {
       "data": [
        {
         "line": {
          "color": "gray",
          "dash": "dash"
         },
         "opacity": 0.3,
         "showlegend": false,
         "type": "scatter",
         "x": [
          1,
          0.9950307753654014,
          0.9801724878485438,
          0.9555728057861408,
          0.9214762118704076,
          0.8782215733702285,
          0.8262387743159949,
          0.766044443118978,
          0.6982368180860729,
          0.6234898018587336,
          0.5425462638657594,
          0.4562106573531631,
          0.3653410243663952,
          0.27084046814300516,
          0.17364817766693041,
          0.07473009358642439,
          -0.02493069173807269,
          -0.12434370464748494,
          -0.22252093395631434,
          -0.3184866502516843,
          -0.4112871031306114,
          -0.4999999999999998,
          -0.5837436722347896,
          -0.6616858375968592,
          -0.733051871829826,
          -0.7971325072229222,
          -0.8532908816321556,
          -0.900968867902419,
          -0.9396926207859083,
          -0.9690772862290778,
          -0.9888308262251285,
          -0.9987569212189223,
          -0.9987569212189223,
          -0.9888308262251285,
          -0.9690772862290781,
          -0.9396926207859084,
          -0.9009688679024191,
          -0.8532908816321557,
          -0.7971325072229226,
          -0.7330518718298262,
          -0.6616858375968597,
          -0.5837436722347898,
          -0.5000000000000004,
          -0.4112871031306116,
          -0.318486650251685,
          -0.2225209339563146,
          -0.12434370464748584,
          -0.024930691738073156,
          0.07473009358642348,
          0.17364817766692997,
          0.2708404681430043,
          0.36534102436639454,
          0.45621065735316285,
          0.5425462638657597,
          0.6234898018587334,
          0.698236818086073,
          0.7660444431189778,
          0.8262387743159949,
          0.8782215733702283,
          0.9214762118704076,
          0.9555728057861406,
          0.9801724878485438,
          0.9950307753654013,
          1
         ],
         "xaxis": "x1",
         "y": [
          0,
          0.09956784659581665,
          0.19814614319939755,
          0.29475517441090415,
          0.3884347962746947,
          0.4782539786213182,
          0.563320058063622,
          0.6427876096865393,
          0.7158668492597184,
          0.7818314824680298,
          0.8400259231507714,
          0.8898718088114685,
          0.9308737486442041,
          0.962624246950012,
          0.984807753012208,
          0.9972037971811801,
          0.9996891820008162,
          0.9922392066001721,
          0.9749279121818236,
          0.9479273461671318,
          0.9115058523116732,
          0.8660254037844387,
          0.8119380057158566,
          0.7497812029677344,
          0.6801727377709197,
          0.6038044103254777,
          0.5214352033794981,
          0.43388373911755823,
          0.3420201433256689,
          0.24675739769029384,
          0.14904226617617472,
          0.04984588566069748,
          -0.049845885660696795,
          -0.14904226617617447,
          -0.24675739769029317,
          -0.34202014332566866,
          -0.433883739117558,
          -0.5214352033794979,
          -0.6038044103254772,
          -0.6801727377709195,
          -0.749781202967734,
          -0.8119380057158565,
          -0.8660254037844385,
          -0.9115058523116731,
          -0.9479273461671316,
          -0.9749279121818236,
          -0.992239206600172,
          -0.9996891820008162,
          -0.9972037971811802,
          -0.9848077530122081,
          -0.9626242469500124,
          -0.9308737486442045,
          -0.8898718088114687,
          -0.8400259231507713,
          -0.7818314824680299,
          -0.7158668492597183,
          -0.6427876096865396,
          -0.563320058063622,
          -0.4782539786213186,
          -0.38843479627469474,
          -0.2947551744109047,
          -0.19814614319939772,
          -0.09956784659581729,
          -2.4492935982947064e-16
         ],
         "yaxis": "y1"
        },
        {
         "showlegend": false,
         "type": "scatter",
         "x": [
          2,
          1.9900615507308028,
          1.9603449756970877,
          1.9111456115722816,
          1.8429524237408152,
          1.756443146740457,
          1.6524775486319898,
          1.532088886237956,
          1.3964736361721457,
          1.2469796037174672,
          1.0850925277315189,
          0.9124213147063261,
          0.7306820487327904,
          0.5416809362860103,
          0.34729635533386083,
          0.14946018717284879,
          -0.04986138347614538,
          -0.24868740929496988,
          -0.4450418679126287,
          -0.6369733005033686,
          -0.8225742062612228,
          -0.9999999999999996,
          -1.1674873444695792,
          -1.3233716751937183,
          -1.466103743659652,
          -1.5942650144458443,
          -1.7065817632643112,
          -1.801937735804838,
          -1.8793852415718166,
          -1.9381545724581557,
          -1.977661652450257,
          -1.9975138424378447,
          -1.9975138424378447,
          -1.977661652450257,
          -1.9381545724581561,
          -1.8793852415718169,
          -1.8019377358048383,
          -1.7065817632643114,
          -1.5942650144458452,
          -1.4661037436596525,
          -1.3233716751937195,
          -1.1674873444695797,
          -1.0000000000000009,
          -0.8225742062612232,
          -0.63697330050337,
          -0.4450418679126292,
          -0.24868740929497168,
          -0.04986138347614631,
          0.14946018717284695,
          0.34729635533385994,
          0.5416809362860086,
          0.7306820487327891,
          0.9124213147063257,
          1.0850925277315193,
          1.2469796037174667,
          1.396473636172146,
          1.5320888862379556,
          1.6524775486319898,
          1.7564431467404567,
          1.8429524237408152,
          1.9111456115722811,
          1.9603449756970877,
          1.9900615507308026,
          2
         ],
         "xaxis": "x1",
         "y": [
          0,
          -0.09956784659581665,
          -0.19814614319939755,
          -0.29475517441090415,
          -0.3884347962746947,
          -0.4782539786213182,
          -0.563320058063622,
          -0.6427876096865393,
          -0.7158668492597184,
          -0.7818314824680298,
          -0.8400259231507714,
          -0.8898718088114685,
          -0.9308737486442041,
          -0.962624246950012,
          -0.984807753012208,
          -0.9972037971811801,
          -0.9996891820008162,
          -0.9922392066001721,
          -0.9749279121818236,
          -0.9479273461671318,
          -0.9115058523116732,
          -0.8660254037844387,
          -0.8119380057158566,
          -0.7497812029677344,
          -0.6801727377709197,
          -0.6038044103254777,
          -0.5214352033794981,
          -0.43388373911755823,
          -0.3420201433256689,
          -0.24675739769029384,
          -0.14904226617617472,
          -0.04984588566069748,
          0.049845885660696795,
          0.14904226617617447,
          0.24675739769029317,
          0.34202014332566866,
          0.433883739117558,
          0.5214352033794979,
          0.6038044103254772,
          0.6801727377709195,
          0.749781202967734,
          0.8119380057158565,
          0.8660254037844385,
          0.9115058523116731,
          0.9479273461671316,
          0.9749279121818236,
          0.992239206600172,
          0.9996891820008162,
          0.9972037971811802,
          0.9848077530122081,
          0.9626242469500124,
          0.9308737486442045,
          0.8898718088114687,
          0.8400259231507713,
          0.7818314824680299,
          0.7158668492597183,
          0.6427876096865396,
          0.563320058063622,
          0.4782539786213186,
          0.38843479627469474,
          0.2947551744109047,
          0.19814614319939772,
          0.09956784659581729,
          2.4492935982947064e-16
         ],
         "yaxis": "y1"
        },
        {
         "marker": {
          "color": "black"
         },
         "mode": "markers",
         "showlegend": false,
         "type": "scatter",
         "x": [
          2,
          0
         ],
         "xaxis": "x1",
         "y": [
          0,
          -1
         ],
         "yaxis": "y1"
        },
        {
         "line": {
          "color": "gray",
          "dash": "dash"
         },
         "opacity": 0.3,
         "showlegend": false,
         "type": "scatter",
         "x": [
          1,
          0.9950307753654014,
          0.9801724878485438,
          0.9555728057861408,
          0.9214762118704076,
          0.8782215733702285,
          0.8262387743159949,
          0.766044443118978,
          0.6982368180860729,
          0.6234898018587336,
          0.5425462638657594,
          0.4562106573531631,
          0.3653410243663952,
          0.27084046814300516,
          0.17364817766693041,
          0.07473009358642439,
          -0.02493069173807269,
          -0.12434370464748494,
          -0.22252093395631434,
          -0.3184866502516843,
          -0.4112871031306114,
          -0.4999999999999998,
          -0.5837436722347896,
          -0.6616858375968592,
          -0.733051871829826,
          -0.7971325072229222,
          -0.8532908816321556,
          -0.900968867902419,
          -0.9396926207859083,
          -0.9690772862290778,
          -0.9888308262251285,
          -0.9987569212189223,
          -0.9987569212189223,
          -0.9888308262251285,
          -0.9690772862290781,
          -0.9396926207859084,
          -0.9009688679024191,
          -0.8532908816321557,
          -0.7971325072229226,
          -0.7330518718298262,
          -0.6616858375968597,
          -0.5837436722347898,
          -0.5000000000000004,
          -0.4112871031306116,
          -0.318486650251685,
          -0.2225209339563146,
          -0.12434370464748584,
          -0.024930691738073156,
          0.07473009358642348,
          0.17364817766692997,
          0.2708404681430043,
          0.36534102436639454,
          0.45621065735316285,
          0.5425462638657597,
          0.6234898018587334,
          0.698236818086073,
          0.7660444431189778,
          0.8262387743159949,
          0.8782215733702283,
          0.9214762118704076,
          0.9555728057861406,
          0.9801724878485438,
          0.9950307753654013,
          1
         ],
         "xaxis": "x2",
         "y": [
          0,
          0.09956784659581665,
          0.19814614319939755,
          0.29475517441090415,
          0.3884347962746947,
          0.4782539786213182,
          0.563320058063622,
          0.6427876096865393,
          0.7158668492597184,
          0.7818314824680298,
          0.8400259231507714,
          0.8898718088114685,
          0.9308737486442041,
          0.962624246950012,
          0.984807753012208,
          0.9972037971811801,
          0.9996891820008162,
          0.9922392066001721,
          0.9749279121818236,
          0.9479273461671318,
          0.9115058523116732,
          0.8660254037844387,
          0.8119380057158566,
          0.7497812029677344,
          0.6801727377709197,
          0.6038044103254777,
          0.5214352033794981,
          0.43388373911755823,
          0.3420201433256689,
          0.24675739769029384,
          0.14904226617617472,
          0.04984588566069748,
          -0.049845885660696795,
          -0.14904226617617447,
          -0.24675739769029317,
          -0.34202014332566866,
          -0.433883739117558,
          -0.5214352033794979,
          -0.6038044103254772,
          -0.6801727377709195,
          -0.749781202967734,
          -0.8119380057158565,
          -0.8660254037844385,
          -0.9115058523116731,
          -0.9479273461671316,
          -0.9749279121818236,
          -0.992239206600172,
          -0.9996891820008162,
          -0.9972037971811802,
          -0.9848077530122081,
          -0.9626242469500124,
          -0.9308737486442045,
          -0.8898718088114687,
          -0.8400259231507713,
          -0.7818314824680299,
          -0.7158668492597183,
          -0.6427876096865396,
          -0.563320058063622,
          -0.4782539786213186,
          -0.38843479627469474,
          -0.2947551744109047,
          -0.19814614319939772,
          -0.09956784659581729,
          -2.4492935982947064e-16
         ],
         "yaxis": "y2"
        },
        {
         "showlegend": false,
         "type": "scatter",
         "x": [
          1,
          1.094598621961218,
          1.1783186310479414,
          1.2503279801970448,
          1.3099110081451024,
          1.3564755519915468,
          1.3895588323796169,
          1.4088320528055172,
          1.4141036673457914,
          1.4053212843267633,
          1.3825721870165308,
          1.3460824661646316,
          1.2962147730105993,
          1.2334647150930171,
          1.1584559306791384,
          1.0719338907676046,
          0.9747584902627435,
          0.8678955019526872,
          0.7524069782255093,
          0.6294406959154475,
          0.5002187491810619,
          0.36602540378443893,
          0.228194333481067,
          0.08809536537087526,
          -0.05287913405890632,
          -0.19332809689744446,
          -0.3318556782526575,
          -0.4670851287848608,
          -0.5976724774602394,
          -0.722319888538784,
          -0.8397885600489539,
          -0.9489110355582249,
          -1.0486028068796192,
          -1.137873092401303,
          -1.2158346839193712,
          -1.281712764111577,
          -1.334852607019977,
          -1.3747260850116536,
          -1.4009369175483997,
          -1.4132246096007457,
          -1.4114670405645937,
          -1.3956816779506465,
          -1.3660254037844388,
          -1.3227929554422848,
          -1.2664139964188166,
          -1.1974488461381383,
          -1.1165829112476577,
          -1.0246198737388894,
          -0.9224737035947568,
          -0.8111595753452782,
          -0.691783778807008,
          -0.5655327242778099,
          -0.4336611514583058,
          -0.29747965928501163,
          -0.15834168060929654,
          -0.017630031173645366,
          0.1232568334324382,
          0.26291871625237295,
          0.39996759474890975,
          0.5330414155957128,
          0.6608176313752359,
          0.7820263446491461,
          0.895462928769584,
          0.9999999999999998
         ],
         "xaxis": "x2",
         "y": [
          0,
          0.09956784659581665,
          0.19814614319939755,
          0.29475517441090415,
          0.3884347962746947,
          0.4782539786213182,
          0.563320058063622,
          0.6427876096865393,
          0.7158668492597184,
          0.7818314824680298,
          0.8400259231507714,
          0.8898718088114685,
          0.9308737486442041,
          0.962624246950012,
          0.984807753012208,
          0.9972037971811801,
          0.9996891820008162,
          0.9922392066001721,
          0.9749279121818236,
          0.9479273461671318,
          0.9115058523116732,
          0.8660254037844387,
          0.8119380057158566,
          0.7497812029677344,
          0.6801727377709197,
          0.6038044103254777,
          0.5214352033794981,
          0.43388373911755823,
          0.3420201433256689,
          0.24675739769029384,
          0.14904226617617472,
          0.04984588566069748,
          -0.049845885660696795,
          -0.14904226617617447,
          -0.24675739769029317,
          -0.34202014332566866,
          -0.433883739117558,
          -0.5214352033794979,
          -0.6038044103254772,
          -0.6801727377709195,
          -0.749781202967734,
          -0.8119380057158565,
          -0.8660254037844385,
          -0.9115058523116731,
          -0.9479273461671316,
          -0.9749279121818236,
          -0.992239206600172,
          -0.9996891820008162,
          -0.9972037971811802,
          -0.9848077530122081,
          -0.9626242469500124,
          -0.9308737486442045,
          -0.8898718088114687,
          -0.8400259231507713,
          -0.7818314824680299,
          -0.7158668492597183,
          -0.6427876096865396,
          -0.563320058063622,
          -0.4782539786213186,
          -0.38843479627469474,
          -0.2947551744109047,
          -0.19814614319939772,
          -0.09956784659581729,
          -2.4492935982947064e-16
         ],
         "yaxis": "y2"
        },
        {
         "marker": {
          "color": "black"
         },
         "mode": "markers",
         "showlegend": false,
         "type": "scatter",
         "x": [
          1,
          1
         ],
         "xaxis": "x2",
         "y": [
          0,
          1
         ],
         "yaxis": "y2"
        },
        {
         "line": {
          "color": "gray",
          "dash": "dash"
         },
         "opacity": 0.3,
         "showlegend": false,
         "type": "scatter",
         "x": [
          1,
          0.9950307753654014,
          0.9801724878485438,
          0.9555728057861408,
          0.9214762118704076,
          0.8782215733702285,
          0.8262387743159949,
          0.766044443118978,
          0.6982368180860729,
          0.6234898018587336,
          0.5425462638657594,
          0.4562106573531631,
          0.3653410243663952,
          0.27084046814300516,
          0.17364817766693041,
          0.07473009358642439,
          -0.02493069173807269,
          -0.12434370464748494,
          -0.22252093395631434,
          -0.3184866502516843,
          -0.4112871031306114,
          -0.4999999999999998,
          -0.5837436722347896,
          -0.6616858375968592,
          -0.733051871829826,
          -0.7971325072229222,
          -0.8532908816321556,
          -0.900968867902419,
          -0.9396926207859083,
          -0.9690772862290778,
          -0.9888308262251285,
          -0.9987569212189223,
          -0.9987569212189223,
          -0.9888308262251285,
          -0.9690772862290781,
          -0.9396926207859084,
          -0.9009688679024191,
          -0.8532908816321557,
          -0.7971325072229226,
          -0.7330518718298262,
          -0.6616858375968597,
          -0.5837436722347898,
          -0.5000000000000004,
          -0.4112871031306116,
          -0.318486650251685,
          -0.2225209339563146,
          -0.12434370464748584,
          -0.024930691738073156,
          0.07473009358642348,
          0.17364817766692997,
          0.2708404681430043,
          0.36534102436639454,
          0.45621065735316285,
          0.5425462638657597,
          0.6234898018587334,
          0.698236818086073,
          0.7660444431189778,
          0.8262387743159949,
          0.8782215733702283,
          0.9214762118704076,
          0.9555728057861406,
          0.9801724878485438,
          0.9950307753654013,
          1
         ],
         "xaxis": "x3",
         "y": [
          0,
          0.09956784659581665,
          0.19814614319939755,
          0.29475517441090415,
          0.3884347962746947,
          0.4782539786213182,
          0.563320058063622,
          0.6427876096865393,
          0.7158668492597184,
          0.7818314824680298,
          0.8400259231507714,
          0.8898718088114685,
          0.9308737486442041,
          0.962624246950012,
          0.984807753012208,
          0.9972037971811801,
          0.9996891820008162,
          0.9922392066001721,
          0.9749279121818236,
          0.9479273461671318,
          0.9115058523116732,
          0.8660254037844387,
          0.8119380057158566,
          0.7497812029677344,
          0.6801727377709197,
          0.6038044103254777,
          0.5214352033794981,
          0.43388373911755823,
          0.3420201433256689,
          0.24675739769029384,
          0.14904226617617472,
          0.04984588566069748,
          -0.049845885660696795,
          -0.14904226617617447,
          -0.24675739769029317,
          -0.34202014332566866,
          -0.433883739117558,
          -0.5214352033794979,
          -0.6038044103254772,
          -0.6801727377709195,
          -0.749781202967734,
          -0.8119380057158565,
          -0.8660254037844385,
          -0.9115058523116731,
          -0.9479273461671316,
          -0.9749279121818236,
          -0.992239206600172,
          -0.9996891820008162,
          -0.9972037971811802,
          -0.9848077530122081,
          -0.9626242469500124,
          -0.9308737486442045,
          -0.8898718088114687,
          -0.8400259231507713,
          -0.7818314824680299,
          -0.7158668492597183,
          -0.6427876096865396,
          -0.563320058063622,
          -0.4782539786213186,
          -0.38843479627469474,
          -0.2947551744109047,
          -0.19814614319939772,
          -0.09956784659581729,
          -2.4492935982947064e-16
         ],
         "yaxis": "y3"
        },
        {
         "showlegend": false,
         "type": "scatter",
         "x": [
          0.8660254037844386,
          0.8119380057158564,
          0.7497812029677341,
          0.6801727377709195,
          0.6038044103254774,
          0.521435203379498,
          0.4338837391175582,
          0.34202014332566877,
          0.2467573976902936,
          0.1490422661761745,
          0.0498458856606972,
          -0.04984588566069709,
          -0.14904226617617422,
          -0.2467573976902936,
          -0.34202014332566866,
          -0.433883739117558,
          -0.5214352033794979,
          -0.6038044103254772,
          -0.6801727377709194,
          -0.7497812029677341,
          -0.8119380057158564,
          -0.8660254037844385,
          -0.911505852311673,
          -0.9479273461671316,
          -0.9749279121818234,
          -0.992239206600172,
          -0.9996891820008162,
          -0.9972037971811801,
          -0.984807753012208,
          -0.962624246950012,
          -0.9308737486442044,
          -0.8898718088114688,
          -0.8400259231507716,
          -0.7818314824680297,
          -0.7158668492597187,
          -0.6427876096865394,
          -0.5633200580636221,
          -0.4782539786213183,
          -0.3884347962746949,
          -0.29475517441090404,
          -0.19814614319939794,
          -0.09956784659581663,
          -4.440892098500626e-16,
          0.09956784659581658,
          0.19814614319939705,
          0.29475517441090404,
          0.38843479627469407,
          0.47825397862131797,
          0.5633200580636214,
          0.642787609686539,
          0.7158668492597178,
          0.7818314824680295,
          0.8400259231507714,
          0.8898718088114688,
          0.9308737486442041,
          0.9626242469500121,
          0.9848077530122079,
          0.9972037971811801,
          0.9996891820008162,
          0.9922392066001721,
          0.9749279121818236,
          0.9479273461671318,
          0.9115058523116732,
          0.8660254037844387
         ],
         "xaxis": "x3",
         "y": [
          0.5,
          0.5837436722347898,
          0.6616858375968594,
          0.7330518718298263,
          0.7971325072229224,
          0.8532908816321556,
          0.900968867902419,
          0.9396926207859083,
          0.969077286229078,
          0.9888308262251285,
          0.9987569212189223,
          0.9987569212189223,
          0.9888308262251285,
          0.9690772862290778,
          0.9396926207859083,
          0.9009688679024191,
          0.8532908816321557,
          0.7971325072229225,
          0.7330518718298263,
          0.6616858375968595,
          0.58374367223479,
          0.5000000000000001,
          0.41128710313061173,
          0.3184866502516847,
          0.22252093395631478,
          0.12434370464748559,
          0.02493069173807291,
          -0.07473009358642413,
          -0.1736481776669302,
          -0.2708404681430049,
          -0.36534102436639476,
          -0.4562106573531627,
          -0.5425462638657591,
          -0.6234898018587335,
          -0.6982368180860725,
          -0.766044443118978,
          -0.8262387743159948,
          -0.8782215733702284,
          -0.9214762118704075,
          -0.9555728057861407,
          -0.9801724878485438,
          -0.9950307753654014,
          -1,
          -0.9950307753654014,
          -0.9801724878485439,
          -0.9555728057861408,
          -0.9214762118704078,
          -0.8782215733702285,
          -0.8262387743159952,
          -0.7660444431189782,
          -0.6982368180860734,
          -0.6234898018587339,
          -0.5425462638657594,
          -0.4562106573531627,
          -0.36534102436639515,
          -0.27084046814300494,
          -0.17364817766693066,
          -0.07473009358642414,
          0.02493069173807248,
          0.12434370464748516,
          0.22252093395631392,
          0.3184866502516843,
          0.41128710313061095,
          0.4999999999999998
         ],
         "yaxis": "y3"
        },
        {
         "marker": {
          "color": "black"
         },
         "mode": "markers",
         "showlegend": false,
         "type": "scatter",
         "x": [
          0.8660254037844386,
          -0.5
         ],
         "xaxis": "x3",
         "y": [
          0.5,
          0.8660254037844386
         ],
         "yaxis": "y3"
        },
        {
         "line": {
          "color": "gray",
          "dash": "dash"
         },
         "opacity": 0.3,
         "showlegend": false,
         "type": "scatter",
         "x": [
          1,
          0.9950307753654014,
          0.9801724878485438,
          0.9555728057861408,
          0.9214762118704076,
          0.8782215733702285,
          0.8262387743159949,
          0.766044443118978,
          0.6982368180860729,
          0.6234898018587336,
          0.5425462638657594,
          0.4562106573531631,
          0.3653410243663952,
          0.27084046814300516,
          0.17364817766693041,
          0.07473009358642439,
          -0.02493069173807269,
          -0.12434370464748494,
          -0.22252093395631434,
          -0.3184866502516843,
          -0.4112871031306114,
          -0.4999999999999998,
          -0.5837436722347896,
          -0.6616858375968592,
          -0.733051871829826,
          -0.7971325072229222,
          -0.8532908816321556,
          -0.900968867902419,
          -0.9396926207859083,
          -0.9690772862290778,
          -0.9888308262251285,
          -0.9987569212189223,
          -0.9987569212189223,
          -0.9888308262251285,
          -0.9690772862290781,
          -0.9396926207859084,
          -0.9009688679024191,
          -0.8532908816321557,
          -0.7971325072229226,
          -0.7330518718298262,
          -0.6616858375968597,
          -0.5837436722347898,
          -0.5000000000000004,
          -0.4112871031306116,
          -0.318486650251685,
          -0.2225209339563146,
          -0.12434370464748584,
          -0.024930691738073156,
          0.07473009358642348,
          0.17364817766692997,
          0.2708404681430043,
          0.36534102436639454,
          0.45621065735316285,
          0.5425462638657597,
          0.6234898018587334,
          0.698236818086073,
          0.7660444431189778,
          0.8262387743159949,
          0.8782215733702283,
          0.9214762118704076,
          0.9555728057861406,
          0.9801724878485438,
          0.9950307753654013,
          1
         ],
         "xaxis": "x4",
         "y": [
          0,
          0.09956784659581665,
          0.19814614319939755,
          0.29475517441090415,
          0.3884347962746947,
          0.4782539786213182,
          0.563320058063622,
          0.6427876096865393,
          0.7158668492597184,
          0.7818314824680298,
          0.8400259231507714,
          0.8898718088114685,
          0.9308737486442041,
          0.962624246950012,
          0.984807753012208,
          0.9972037971811801,
          0.9996891820008162,
          0.9922392066001721,
          0.9749279121818236,
          0.9479273461671318,
          0.9115058523116732,
          0.8660254037844387,
          0.8119380057158566,
          0.7497812029677344,
          0.6801727377709197,
          0.6038044103254777,
          0.5214352033794981,
          0.43388373911755823,
          0.3420201433256689,
          0.24675739769029384,
          0.14904226617617472,
          0.04984588566069748,
          -0.049845885660696795,
          -0.14904226617617447,
          -0.24675739769029317,
          -0.34202014332566866,
          -0.433883739117558,
          -0.5214352033794979,
          -0.6038044103254772,
          -0.6801727377709195,
          -0.749781202967734,
          -0.8119380057158565,
          -0.8660254037844385,
          -0.9115058523116731,
          -0.9479273461671316,
          -0.9749279121818236,
          -0.992239206600172,
          -0.9996891820008162,
          -0.9972037971811802,
          -0.9848077530122081,
          -0.9626242469500124,
          -0.9308737486442045,
          -0.8898718088114687,
          -0.8400259231507713,
          -0.7818314824680299,
          -0.7158668492597183,
          -0.6427876096865396,
          -0.563320058063622,
          -0.4782539786213186,
          -0.38843479627469474,
          -0.2947551744109047,
          -0.19814614319939772,
          -0.09956784659581729,
          -2.4492935982947064e-16
         ],
         "yaxis": "y4"
        },
        {
         "showlegend": false,
         "type": "scatter",
         "x": [
          1,
          1.0448146986633098,
          1.0792455594482426,
          1.102950392991593,
          1.115693610007755,
          1.1173485626808877,
          1.1078988033478059,
          1.0874382479622478,
          1.056170242715932,
          1.0144055430927486,
          0.9625592254411451,
          0.9011465617588974,
          0.8307778986884973,
          0.7521525916180112,
          0.6660520541730344,
          0.5733319921770145,
          0.4749138992623354,
          0.3717758986526011,
          0.2649430221345975,
          0.15547702283188158,
          0.044465823025225226,
          -0.06698729810778042,
          -0.17777466937686132,
          -0.28679523611299196,
          -0.39296550294436616,
          -0.4952303020601833,
          -0.5925732799424066,
          -0.6840269983436399,
          -0.7686825491230739,
          -0.8456985873839309,
          -0.9143096931370411,
          -0.9738339783885736,
          -1.0236798640492708,
          -1.0633519593132157,
          -1.0924559850742246,
          -1.1107026924487426,
          -1.117910737461198,
          -1.1140084833219046,
          -1.0990347123856612,
          -1.073138240715286,
          -1.0365764390807266,
          -0.9897126750927181,
          -0.9330127018922196,
          -0.8670400292864482,
          -0.7924503233352508,
          -0.7099848900472264,
          -0.6204633079475719,
          -0.5247752827384813,
          -0.42387180500416666,
          -0.3187556988391741,
          -0.2104716553320019,
          -0.1000958499557077,
          0.011274752947428524,
          0.12253330229037401,
          0.23257406062471842,
          0.3403033934562138,
          0.444650638275708,
          0.5445787452841839,
          0.639094584059569,
          0.7272588137330602,
          0.8081952185806882,
          0.881099416248845,
          0.9452468520674927,
          0.9999999999999999
         ],
         "xaxis": "x4",
         "y": [
          1,
          1.0448146986633098,
          1.0792455594482426,
          1.102950392991593,
          1.115693610007755,
          1.1173485626808877,
          1.1078988033478059,
          1.0874382479622478,
          1.056170242715932,
          1.0144055430927486,
          0.9625592254411451,
          0.9011465617588974,
          0.8307778986884973,
          0.7521525916180112,
          0.6660520541730344,
          0.5733319921770145,
          0.4749138992623354,
          0.3717758986526011,
          0.2649430221345975,
          0.15547702283188158,
          0.044465823025225226,
          -0.06698729810778042,
          -0.17777466937686132,
          -0.28679523611299196,
          -0.39296550294436616,
          -0.4952303020601833,
          -0.5925732799424066,
          -0.6840269983436399,
          -0.7686825491230739,
          -0.8456985873839309,
          -0.9143096931370411,
          -0.9738339783885736,
          -1.0236798640492708,
          -1.0633519593132157,
          -1.0924559850742246,
          -1.1107026924487426,
          -1.117910737461198,
          -1.1140084833219046,
          -1.0990347123856612,
          -1.073138240715286,
          -1.0365764390807266,
          -0.9897126750927181,
          -0.9330127018922196,
          -0.8670400292864482,
          -0.7924503233352508,
          -0.7099848900472264,
          -0.6204633079475719,
          -0.5247752827384813,
          -0.42387180500416666,
          -0.3187556988391741,
          -0.2104716553320019,
          -0.1000958499557077,
          0.011274752947428524,
          0.12253330229037401,
          0.23257406062471842,
          0.3403033934562138,
          0.444650638275708,
          0.5445787452841839,
          0.639094584059569,
          0.7272588137330602,
          0.8081952185806882,
          0.881099416248845,
          0.9452468520674927,
          0.9999999999999999
         ],
         "yaxis": "y4"
        },
        {
         "marker": {
          "color": "black"
         },
         "mode": "markers",
         "showlegend": false,
         "type": "scatter",
         "x": [
          1,
          0.5
         ],
         "xaxis": "x4",
         "y": [
          1,
          0.5
         ],
         "yaxis": "y4"
        }
       ],
       "frames": [],
       "layout": {
        "annotations": [
         {
          "font": {
           "size": 16
          },
          "showarrow": false,
          "text": "A = [2 0; 0 -1]",
          "x": 0.225,
          "xanchor": "center",
          "xref": "paper",
          "y": 1,
          "yanchor": "bottom",
          "yref": "paper"
         },
         {
          "font": {
           "size": 16
          },
          "showarrow": false,
          "text": "A = rotation by pi/3",
          "x": 0.225,
          "xanchor": "center",
          "xref": "paper",
          "y": 0.36250000000000004,
          "yanchor": "bottom",
          "yref": "paper"
         },
         {
          "font": {
           "size": 16
          },
          "showarrow": false,
          "text": "A = [1 1; 0 1]",
          "x": 0.775,
          "xanchor": "center",
          "xref": "paper",
          "y": 1,
          "yanchor": "bottom",
          "yref": "paper"
         },
         {
          "font": {
           "size": 16
          },
          "showarrow": false,
          "text": "Singular matrix A",
          "x": 0.775,
          "xanchor": "center",
          "xref": "paper",
          "y": 0.36250000000000004,
          "yanchor": "bottom",
          "yref": "paper"
         }
        ],
        "margin": {
         "b": 50,
         "l": 50,
         "r": 50,
         "t": 60
        },
        "xaxis1": {
         "anchor": "y1",
         "domain": [
          0,
          0.45
         ]
        },
        "xaxis2": {
         "anchor": "y2",
         "domain": [
          0.55,
          1
         ]
        },
        "xaxis3": {
         "anchor": "y3",
         "domain": [
          0,
          0.45
         ]
        },
        "xaxis4": {
         "anchor": "y4",
         "domain": [
          0.55,
          1
         ]
        },
        "yaxis1": {
         "anchor": "x1",
         "domain": [
          0.6375,
          1
         ],
         "scaleanchor": "x"
        },
        "yaxis2": {
         "anchor": "x2",
         "domain": [
          0.6375,
          1
         ],
         "scaleanchor": "x2"
        },
        "yaxis3": {
         "anchor": "x3",
         "domain": [
          5.551115123125783e-17,
          0.36250000000000004
         ],
         "scaleanchor": "x3"
        },
        "yaxis4": {
         "anchor": "x4",
         "domain": [
          5.551115123125783e-17,
          0.36250000000000004
         ],
         "scaleanchor": "x4"
        }
       }
      },
      "application/vnd.webio.node+json": {
       "children": [
        {
         "children": [],
         "instanceArgs": {
          "namespace": "html",
          "tag": "div"
         },
         "nodeType": "DOM",
         "props": {
          "id": "plot-e04c8e95-3de9-4dac-9508-d9c3c4a6b328"
         },
         "type": "node"
        }
       ],
       "instanceArgs": {
        "handlers": {
         "__get_gd_contents": [
          "(function (prop){prop==\"data\" ? (WebIO.setval({\"name\":\"__gd_contents\",\"scope\":\"13045227348532044694\",\"id\":\"13829788488769217028\",\"type\":\"observable\"},this.plotElem.data)) : undefined; return prop==\"layout\" ? (WebIO.setval({\"name\":\"__gd_contents\",\"scope\":\"13045227348532044694\",\"id\":\"13829788488769217028\",\"type\":\"observable\"},this.plotElem.layout)) : undefined})"
         ],
         "_commands": [
          "(function (args){var fn=args.shift(); var elem=this.plotElem; var Plotly=this.Plotly; args.unshift(elem); return Plotly[fn].apply(this,args)})"
         ],
         "_downloadImage": [
          "(function (options){return this.Plotly.downloadImage(this.plotElem,options)})"
         ],
         "_toImage": [
          "(function (options){return this.Plotly.toImage(this.plotElem,options).then((function (data){return WebIO.setval({\"name\":\"image\",\"scope\":\"13045227348532044694\",\"id\":\"5239358878460769339\",\"type\":\"observable\"},data)}))})"
         ]
        },
        "id": "13045227348532044694",
        "imports": {
         "data": [
          {
           "name": "Plotly",
           "type": "js",
           "url": "/assetserver/57533c5d787f8bc76a9e58ed0a1abce5f1b0c14d-plotly-latest.min.js"
          },
          {
           "name": null,
           "type": "js",
           "url": "/assetserver/58a7932c57029f7dbaa4105104076ff149fc7585-plotly_webio.bundle.js"
          }
         ],
         "type": "async_block"
        },
        "mount_callbacks": [
         "function () {\n    var handler = ((function (Plotly,PlotlyWebIO){PlotlyWebIO.init(WebIO); var gd=this.dom.querySelector(\"#plot-e04c8e95-3de9-4dac-9508-d9c3c4a6b328\"); this.plotElem=gd; this.Plotly=Plotly; (window.Blink!==undefined) ? (gd.style.width=\"100%\", gd.style.height=\"100vh\", gd.style.marginLeft=\"0%\", gd.style.marginTop=\"0vh\") : undefined; window.onresize=(function (){return Plotly.Plots.resize(gd)}); Plotly.newPlot(gd,[{\"showlegend\":false,\"line\":{\"color\":\"gray\",\"dash\":\"dash\"},\"xaxis\":\"x1\",\"y\":[0.0,0.09956784659581665,0.19814614319939755,0.29475517441090415,0.3884347962746947,0.4782539786213182,0.563320058063622,0.6427876096865393,0.7158668492597184,0.7818314824680298,0.8400259231507714,0.8898718088114685,0.9308737486442041,0.962624246950012,0.984807753012208,0.9972037971811801,0.9996891820008162,0.9922392066001721,0.9749279121818236,0.9479273461671318,0.9115058523116732,0.8660254037844387,0.8119380057158566,0.7497812029677344,0.6801727377709197,0.6038044103254777,0.5214352033794981,0.43388373911755823,0.3420201433256689,0.24675739769029384,0.14904226617617472,0.04984588566069748,-0.049845885660696795,-0.14904226617617447,-0.24675739769029317,-0.34202014332566866,-0.433883739117558,-0.5214352033794979,-0.6038044103254772,-0.6801727377709195,-0.749781202967734,-0.8119380057158565,-0.8660254037844385,-0.9115058523116731,-0.9479273461671316,-0.9749279121818236,-0.992239206600172,-0.9996891820008162,-0.9972037971811802,-0.9848077530122081,-0.9626242469500124,-0.9308737486442045,-0.8898718088114687,-0.8400259231507713,-0.7818314824680299,-0.7158668492597183,-0.6427876096865396,-0.563320058063622,-0.4782539786213186,-0.38843479627469474,-0.2947551744109047,-0.19814614319939772,-0.09956784659581729,-2.4492935982947064e-16],\"type\":\"scatter\",\"opacity\":0.3,\"yaxis\":\"y1\",\"x\":[1.0,0.9950307753654014,0.9801724878485438,0.9555728057861408,0.9214762118704076,0.8782215733702285,0.8262387743159949,0.766044443118978,0.6982368180860729,0.6234898018587336,0.5425462638657594,0.4562106573531631,0.3653410243663952,0.27084046814300516,0.17364817766693041,0.07473009358642439,-0.02493069173807269,-0.12434370464748494,-0.22252093395631434,-0.3184866502516843,-0.4112871031306114,-0.4999999999999998,-0.5837436722347896,-0.6616858375968592,-0.733051871829826,-0.7971325072229222,-0.8532908816321556,-0.900968867902419,-0.9396926207859083,-0.9690772862290778,-0.9888308262251285,-0.9987569212189223,-0.9987569212189223,-0.9888308262251285,-0.9690772862290781,-0.9396926207859084,-0.9009688679024191,-0.8532908816321557,-0.7971325072229226,-0.7330518718298262,-0.6616858375968597,-0.5837436722347898,-0.5000000000000004,-0.4112871031306116,-0.318486650251685,-0.2225209339563146,-0.12434370464748584,-0.024930691738073156,0.07473009358642348,0.17364817766692997,0.2708404681430043,0.36534102436639454,0.45621065735316285,0.5425462638657597,0.6234898018587334,0.698236818086073,0.7660444431189778,0.8262387743159949,0.8782215733702283,0.9214762118704076,0.9555728057861406,0.9801724878485438,0.9950307753654013,1.0]},{\"showlegend\":false,\"xaxis\":\"x1\",\"y\":[0.0,-0.09956784659581665,-0.19814614319939755,-0.29475517441090415,-0.3884347962746947,-0.4782539786213182,-0.563320058063622,-0.6427876096865393,-0.7158668492597184,-0.7818314824680298,-0.8400259231507714,-0.8898718088114685,-0.9308737486442041,-0.962624246950012,-0.984807753012208,-0.9972037971811801,-0.9996891820008162,-0.9922392066001721,-0.9749279121818236,-0.9479273461671318,-0.9115058523116732,-0.8660254037844387,-0.8119380057158566,-0.7497812029677344,-0.6801727377709197,-0.6038044103254777,-0.5214352033794981,-0.43388373911755823,-0.3420201433256689,-0.24675739769029384,-0.14904226617617472,-0.04984588566069748,0.049845885660696795,0.14904226617617447,0.24675739769029317,0.34202014332566866,0.433883739117558,0.5214352033794979,0.6038044103254772,0.6801727377709195,0.749781202967734,0.8119380057158565,0.8660254037844385,0.9115058523116731,0.9479273461671316,0.9749279121818236,0.992239206600172,0.9996891820008162,0.9972037971811802,0.9848077530122081,0.9626242469500124,0.9308737486442045,0.8898718088114687,0.8400259231507713,0.7818314824680299,0.7158668492597183,0.6427876096865396,0.563320058063622,0.4782539786213186,0.38843479627469474,0.2947551744109047,0.19814614319939772,0.09956784659581729,2.4492935982947064e-16],\"type\":\"scatter\",\"yaxis\":\"y1\",\"x\":[2.0,1.9900615507308028,1.9603449756970877,1.9111456115722816,1.8429524237408152,1.756443146740457,1.6524775486319898,1.532088886237956,1.3964736361721457,1.2469796037174672,1.0850925277315189,0.9124213147063261,0.7306820487327904,0.5416809362860103,0.34729635533386083,0.14946018717284879,-0.04986138347614538,-0.24868740929496988,-0.4450418679126287,-0.6369733005033686,-0.8225742062612228,-0.9999999999999996,-1.1674873444695792,-1.3233716751937183,-1.466103743659652,-1.5942650144458443,-1.7065817632643112,-1.801937735804838,-1.8793852415718166,-1.9381545724581557,-1.977661652450257,-1.9975138424378447,-1.9975138424378447,-1.977661652450257,-1.9381545724581561,-1.8793852415718169,-1.8019377358048383,-1.7065817632643114,-1.5942650144458452,-1.4661037436596525,-1.3233716751937195,-1.1674873444695797,-1.0000000000000009,-0.8225742062612232,-0.63697330050337,-0.4450418679126292,-0.24868740929497168,-0.04986138347614631,0.14946018717284695,0.34729635533385994,0.5416809362860086,0.7306820487327891,0.9124213147063257,1.0850925277315193,1.2469796037174667,1.396473636172146,1.5320888862379556,1.6524775486319898,1.7564431467404567,1.8429524237408152,1.9111456115722811,1.9603449756970877,1.9900615507308026,2.0]},{\"showlegend\":false,\"mode\":\"markers\",\"x\":[2,0],\"xaxis\":\"x1\",\"y\":[0,-1],\"type\":\"scatter\",\"yaxis\":\"y1\",\"marker\":{\"color\":\"black\"}},{\"showlegend\":false,\"line\":{\"color\":\"gray\",\"dash\":\"dash\"},\"xaxis\":\"x2\",\"y\":[0.0,0.09956784659581665,0.19814614319939755,0.29475517441090415,0.3884347962746947,0.4782539786213182,0.563320058063622,0.6427876096865393,0.7158668492597184,0.7818314824680298,0.8400259231507714,0.8898718088114685,0.9308737486442041,0.962624246950012,0.984807753012208,0.9972037971811801,0.9996891820008162,0.9922392066001721,0.9749279121818236,0.9479273461671318,0.9115058523116732,0.8660254037844387,0.8119380057158566,0.7497812029677344,0.6801727377709197,0.6038044103254777,0.5214352033794981,0.43388373911755823,0.3420201433256689,0.24675739769029384,0.14904226617617472,0.04984588566069748,-0.049845885660696795,-0.14904226617617447,-0.24675739769029317,-0.34202014332566866,-0.433883739117558,-0.5214352033794979,-0.6038044103254772,-0.6801727377709195,-0.749781202967734,-0.8119380057158565,-0.8660254037844385,-0.9115058523116731,-0.9479273461671316,-0.9749279121818236,-0.992239206600172,-0.9996891820008162,-0.9972037971811802,-0.9848077530122081,-0.9626242469500124,-0.9308737486442045,-0.8898718088114687,-0.8400259231507713,-0.7818314824680299,-0.7158668492597183,-0.6427876096865396,-0.563320058063622,-0.4782539786213186,-0.38843479627469474,-0.2947551744109047,-0.19814614319939772,-0.09956784659581729,-2.4492935982947064e-16],\"type\":\"scatter\",\"opacity\":0.3,\"yaxis\":\"y2\",\"x\":[1.0,0.9950307753654014,0.9801724878485438,0.9555728057861408,0.9214762118704076,0.8782215733702285,0.8262387743159949,0.766044443118978,0.6982368180860729,0.6234898018587336,0.5425462638657594,0.4562106573531631,0.3653410243663952,0.27084046814300516,0.17364817766693041,0.07473009358642439,-0.02493069173807269,-0.12434370464748494,-0.22252093395631434,-0.3184866502516843,-0.4112871031306114,-0.4999999999999998,-0.5837436722347896,-0.6616858375968592,-0.733051871829826,-0.7971325072229222,-0.8532908816321556,-0.900968867902419,-0.9396926207859083,-0.9690772862290778,-0.9888308262251285,-0.9987569212189223,-0.9987569212189223,-0.9888308262251285,-0.9690772862290781,-0.9396926207859084,-0.9009688679024191,-0.8532908816321557,-0.7971325072229226,-0.7330518718298262,-0.6616858375968597,-0.5837436722347898,-0.5000000000000004,-0.4112871031306116,-0.318486650251685,-0.2225209339563146,-0.12434370464748584,-0.024930691738073156,0.07473009358642348,0.17364817766692997,0.2708404681430043,0.36534102436639454,0.45621065735316285,0.5425462638657597,0.6234898018587334,0.698236818086073,0.7660444431189778,0.8262387743159949,0.8782215733702283,0.9214762118704076,0.9555728057861406,0.9801724878485438,0.9950307753654013,1.0]},{\"showlegend\":false,\"xaxis\":\"x2\",\"y\":[0.0,0.09956784659581665,0.19814614319939755,0.29475517441090415,0.3884347962746947,0.4782539786213182,0.563320058063622,0.6427876096865393,0.7158668492597184,0.7818314824680298,0.8400259231507714,0.8898718088114685,0.9308737486442041,0.962624246950012,0.984807753012208,0.9972037971811801,0.9996891820008162,0.9922392066001721,0.9749279121818236,0.9479273461671318,0.9115058523116732,0.8660254037844387,0.8119380057158566,0.7497812029677344,0.6801727377709197,0.6038044103254777,0.5214352033794981,0.43388373911755823,0.3420201433256689,0.24675739769029384,0.14904226617617472,0.04984588566069748,-0.049845885660696795,-0.14904226617617447,-0.24675739769029317,-0.34202014332566866,-0.433883739117558,-0.5214352033794979,-0.6038044103254772,-0.6801727377709195,-0.749781202967734,-0.8119380057158565,-0.8660254037844385,-0.9115058523116731,-0.9479273461671316,-0.9749279121818236,-0.992239206600172,-0.9996891820008162,-0.9972037971811802,-0.9848077530122081,-0.9626242469500124,-0.9308737486442045,-0.8898718088114687,-0.8400259231507713,-0.7818314824680299,-0.7158668492597183,-0.6427876096865396,-0.563320058063622,-0.4782539786213186,-0.38843479627469474,-0.2947551744109047,-0.19814614319939772,-0.09956784659581729,-2.4492935982947064e-16],\"type\":\"scatter\",\"yaxis\":\"y2\",\"x\":[1.0,1.094598621961218,1.1783186310479414,1.2503279801970448,1.3099110081451024,1.3564755519915468,1.3895588323796169,1.4088320528055172,1.4141036673457914,1.4053212843267633,1.3825721870165308,1.3460824661646316,1.2962147730105993,1.2334647150930171,1.1584559306791384,1.0719338907676046,0.9747584902627435,0.8678955019526872,0.7524069782255093,0.6294406959154475,0.5002187491810619,0.36602540378443893,0.228194333481067,0.08809536537087526,-0.05287913405890632,-0.19332809689744446,-0.3318556782526575,-0.4670851287848608,-0.5976724774602394,-0.722319888538784,-0.8397885600489539,-0.9489110355582249,-1.0486028068796192,-1.137873092401303,-1.2158346839193712,-1.281712764111577,-1.334852607019977,-1.3747260850116536,-1.4009369175483997,-1.4132246096007457,-1.4114670405645937,-1.3956816779506465,-1.3660254037844388,-1.3227929554422848,-1.2664139964188166,-1.1974488461381383,-1.1165829112476577,-1.0246198737388894,-0.9224737035947568,-0.8111595753452782,-0.691783778807008,-0.5655327242778099,-0.4336611514583058,-0.29747965928501163,-0.15834168060929654,-0.017630031173645366,0.1232568334324382,0.26291871625237295,0.39996759474890975,0.5330414155957128,0.6608176313752359,0.7820263446491461,0.895462928769584,0.9999999999999998]},{\"showlegend\":false,\"mode\":\"markers\",\"x\":[1,1],\"xaxis\":\"x2\",\"y\":[0,1],\"type\":\"scatter\",\"yaxis\":\"y2\",\"marker\":{\"color\":\"black\"}},{\"showlegend\":false,\"line\":{\"color\":\"gray\",\"dash\":\"dash\"},\"xaxis\":\"x3\",\"y\":[0.0,0.09956784659581665,0.19814614319939755,0.29475517441090415,0.3884347962746947,0.4782539786213182,0.563320058063622,0.6427876096865393,0.7158668492597184,0.7818314824680298,0.8400259231507714,0.8898718088114685,0.9308737486442041,0.962624246950012,0.984807753012208,0.9972037971811801,0.9996891820008162,0.9922392066001721,0.9749279121818236,0.9479273461671318,0.9115058523116732,0.8660254037844387,0.8119380057158566,0.7497812029677344,0.6801727377709197,0.6038044103254777,0.5214352033794981,0.43388373911755823,0.3420201433256689,0.24675739769029384,0.14904226617617472,0.04984588566069748,-0.049845885660696795,-0.14904226617617447,-0.24675739769029317,-0.34202014332566866,-0.433883739117558,-0.5214352033794979,-0.6038044103254772,-0.6801727377709195,-0.749781202967734,-0.8119380057158565,-0.8660254037844385,-0.9115058523116731,-0.9479273461671316,-0.9749279121818236,-0.992239206600172,-0.9996891820008162,-0.9972037971811802,-0.9848077530122081,-0.9626242469500124,-0.9308737486442045,-0.8898718088114687,-0.8400259231507713,-0.7818314824680299,-0.7158668492597183,-0.6427876096865396,-0.563320058063622,-0.4782539786213186,-0.38843479627469474,-0.2947551744109047,-0.19814614319939772,-0.09956784659581729,-2.4492935982947064e-16],\"type\":\"scatter\",\"opacity\":0.3,\"yaxis\":\"y3\",\"x\":[1.0,0.9950307753654014,0.9801724878485438,0.9555728057861408,0.9214762118704076,0.8782215733702285,0.8262387743159949,0.766044443118978,0.6982368180860729,0.6234898018587336,0.5425462638657594,0.4562106573531631,0.3653410243663952,0.27084046814300516,0.17364817766693041,0.07473009358642439,-0.02493069173807269,-0.12434370464748494,-0.22252093395631434,-0.3184866502516843,-0.4112871031306114,-0.4999999999999998,-0.5837436722347896,-0.6616858375968592,-0.733051871829826,-0.7971325072229222,-0.8532908816321556,-0.900968867902419,-0.9396926207859083,-0.9690772862290778,-0.9888308262251285,-0.9987569212189223,-0.9987569212189223,-0.9888308262251285,-0.9690772862290781,-0.9396926207859084,-0.9009688679024191,-0.8532908816321557,-0.7971325072229226,-0.7330518718298262,-0.6616858375968597,-0.5837436722347898,-0.5000000000000004,-0.4112871031306116,-0.318486650251685,-0.2225209339563146,-0.12434370464748584,-0.024930691738073156,0.07473009358642348,0.17364817766692997,0.2708404681430043,0.36534102436639454,0.45621065735316285,0.5425462638657597,0.6234898018587334,0.698236818086073,0.7660444431189778,0.8262387743159949,0.8782215733702283,0.9214762118704076,0.9555728057861406,0.9801724878485438,0.9950307753654013,1.0]},{\"showlegend\":false,\"xaxis\":\"x3\",\"y\":[0.5,0.5837436722347898,0.6616858375968594,0.7330518718298263,0.7971325072229224,0.8532908816321556,0.900968867902419,0.9396926207859083,0.969077286229078,0.9888308262251285,0.9987569212189223,0.9987569212189223,0.9888308262251285,0.9690772862290778,0.9396926207859083,0.9009688679024191,0.8532908816321557,0.7971325072229225,0.7330518718298263,0.6616858375968595,0.58374367223479,0.5000000000000001,0.41128710313061173,0.3184866502516847,0.22252093395631478,0.12434370464748559,0.02493069173807291,-0.07473009358642413,-0.1736481776669302,-0.2708404681430049,-0.36534102436639476,-0.4562106573531627,-0.5425462638657591,-0.6234898018587335,-0.6982368180860725,-0.766044443118978,-0.8262387743159948,-0.8782215733702284,-0.9214762118704075,-0.9555728057861407,-0.9801724878485438,-0.9950307753654014,-1.0,-0.9950307753654014,-0.9801724878485439,-0.9555728057861408,-0.9214762118704078,-0.8782215733702285,-0.8262387743159952,-0.7660444431189782,-0.6982368180860734,-0.6234898018587339,-0.5425462638657594,-0.4562106573531627,-0.36534102436639515,-0.27084046814300494,-0.17364817766693066,-0.07473009358642414,0.02493069173807248,0.12434370464748516,0.22252093395631392,0.3184866502516843,0.41128710313061095,0.4999999999999998],\"type\":\"scatter\",\"yaxis\":\"y3\",\"x\":[0.8660254037844386,0.8119380057158564,0.7497812029677341,0.6801727377709195,0.6038044103254774,0.521435203379498,0.4338837391175582,0.34202014332566877,0.2467573976902936,0.1490422661761745,0.0498458856606972,-0.04984588566069709,-0.14904226617617422,-0.2467573976902936,-0.34202014332566866,-0.433883739117558,-0.5214352033794979,-0.6038044103254772,-0.6801727377709194,-0.7497812029677341,-0.8119380057158564,-0.8660254037844385,-0.911505852311673,-0.9479273461671316,-0.9749279121818234,-0.992239206600172,-0.9996891820008162,-0.9972037971811801,-0.984807753012208,-0.962624246950012,-0.9308737486442044,-0.8898718088114688,-0.8400259231507716,-0.7818314824680297,-0.7158668492597187,-0.6427876096865394,-0.5633200580636221,-0.4782539786213183,-0.3884347962746949,-0.29475517441090404,-0.19814614319939794,-0.09956784659581663,-4.440892098500626e-16,0.09956784659581658,0.19814614319939705,0.29475517441090404,0.38843479627469407,0.47825397862131797,0.5633200580636214,0.642787609686539,0.7158668492597178,0.7818314824680295,0.8400259231507714,0.8898718088114688,0.9308737486442041,0.9626242469500121,0.9848077530122079,0.9972037971811801,0.9996891820008162,0.9922392066001721,0.9749279121818236,0.9479273461671318,0.9115058523116732,0.8660254037844387]},{\"showlegend\":false,\"mode\":\"markers\",\"x\":[0.8660254037844386,-0.5],\"xaxis\":\"x3\",\"y\":[0.5,0.8660254037844386],\"type\":\"scatter\",\"yaxis\":\"y3\",\"marker\":{\"color\":\"black\"}},{\"showlegend\":false,\"line\":{\"color\":\"gray\",\"dash\":\"dash\"},\"xaxis\":\"x4\",\"y\":[0.0,0.09956784659581665,0.19814614319939755,0.29475517441090415,0.3884347962746947,0.4782539786213182,0.563320058063622,0.6427876096865393,0.7158668492597184,0.7818314824680298,0.8400259231507714,0.8898718088114685,0.9308737486442041,0.962624246950012,0.984807753012208,0.9972037971811801,0.9996891820008162,0.9922392066001721,0.9749279121818236,0.9479273461671318,0.9115058523116732,0.8660254037844387,0.8119380057158566,0.7497812029677344,0.6801727377709197,0.6038044103254777,0.5214352033794981,0.43388373911755823,0.3420201433256689,0.24675739769029384,0.14904226617617472,0.04984588566069748,-0.049845885660696795,-0.14904226617617447,-0.24675739769029317,-0.34202014332566866,-0.433883739117558,-0.5214352033794979,-0.6038044103254772,-0.6801727377709195,-0.749781202967734,-0.8119380057158565,-0.8660254037844385,-0.9115058523116731,-0.9479273461671316,-0.9749279121818236,-0.992239206600172,-0.9996891820008162,-0.9972037971811802,-0.9848077530122081,-0.9626242469500124,-0.9308737486442045,-0.8898718088114687,-0.8400259231507713,-0.7818314824680299,-0.7158668492597183,-0.6427876096865396,-0.563320058063622,-0.4782539786213186,-0.38843479627469474,-0.2947551744109047,-0.19814614319939772,-0.09956784659581729,-2.4492935982947064e-16],\"type\":\"scatter\",\"opacity\":0.3,\"yaxis\":\"y4\",\"x\":[1.0,0.9950307753654014,0.9801724878485438,0.9555728057861408,0.9214762118704076,0.8782215733702285,0.8262387743159949,0.766044443118978,0.6982368180860729,0.6234898018587336,0.5425462638657594,0.4562106573531631,0.3653410243663952,0.27084046814300516,0.17364817766693041,0.07473009358642439,-0.02493069173807269,-0.12434370464748494,-0.22252093395631434,-0.3184866502516843,-0.4112871031306114,-0.4999999999999998,-0.5837436722347896,-0.6616858375968592,-0.733051871829826,-0.7971325072229222,-0.8532908816321556,-0.900968867902419,-0.9396926207859083,-0.9690772862290778,-0.9888308262251285,-0.9987569212189223,-0.9987569212189223,-0.9888308262251285,-0.9690772862290781,-0.9396926207859084,-0.9009688679024191,-0.8532908816321557,-0.7971325072229226,-0.7330518718298262,-0.6616858375968597,-0.5837436722347898,-0.5000000000000004,-0.4112871031306116,-0.318486650251685,-0.2225209339563146,-0.12434370464748584,-0.024930691738073156,0.07473009358642348,0.17364817766692997,0.2708404681430043,0.36534102436639454,0.45621065735316285,0.5425462638657597,0.6234898018587334,0.698236818086073,0.7660444431189778,0.8262387743159949,0.8782215733702283,0.9214762118704076,0.9555728057861406,0.9801724878485438,0.9950307753654013,1.0]},{\"showlegend\":false,\"xaxis\":\"x4\",\"y\":[1.0,1.0448146986633098,1.0792455594482426,1.102950392991593,1.115693610007755,1.1173485626808877,1.1078988033478059,1.0874382479622478,1.056170242715932,1.0144055430927486,0.9625592254411451,0.9011465617588974,0.8307778986884973,0.7521525916180112,0.6660520541730344,0.5733319921770145,0.4749138992623354,0.3717758986526011,0.2649430221345975,0.15547702283188158,0.044465823025225226,-0.06698729810778042,-0.17777466937686132,-0.28679523611299196,-0.39296550294436616,-0.4952303020601833,-0.5925732799424066,-0.6840269983436399,-0.7686825491230739,-0.8456985873839309,-0.9143096931370411,-0.9738339783885736,-1.0236798640492708,-1.0633519593132157,-1.0924559850742246,-1.1107026924487426,-1.117910737461198,-1.1140084833219046,-1.0990347123856612,-1.073138240715286,-1.0365764390807266,-0.9897126750927181,-0.9330127018922196,-0.8670400292864482,-0.7924503233352508,-0.7099848900472264,-0.6204633079475719,-0.5247752827384813,-0.42387180500416666,-0.3187556988391741,-0.2104716553320019,-0.1000958499557077,0.011274752947428524,0.12253330229037401,0.23257406062471842,0.3403033934562138,0.444650638275708,0.5445787452841839,0.639094584059569,0.7272588137330602,0.8081952185806882,0.881099416248845,0.9452468520674927,0.9999999999999999],\"type\":\"scatter\",\"yaxis\":\"y4\",\"x\":[1.0,1.0448146986633098,1.0792455594482426,1.102950392991593,1.115693610007755,1.1173485626808877,1.1078988033478059,1.0874382479622478,1.056170242715932,1.0144055430927486,0.9625592254411451,0.9011465617588974,0.8307778986884973,0.7521525916180112,0.6660520541730344,0.5733319921770145,0.4749138992623354,0.3717758986526011,0.2649430221345975,0.15547702283188158,0.044465823025225226,-0.06698729810778042,-0.17777466937686132,-0.28679523611299196,-0.39296550294436616,-0.4952303020601833,-0.5925732799424066,-0.6840269983436399,-0.7686825491230739,-0.8456985873839309,-0.9143096931370411,-0.9738339783885736,-1.0236798640492708,-1.0633519593132157,-1.0924559850742246,-1.1107026924487426,-1.117910737461198,-1.1140084833219046,-1.0990347123856612,-1.073138240715286,-1.0365764390807266,-0.9897126750927181,-0.9330127018922196,-0.8670400292864482,-0.7924503233352508,-0.7099848900472264,-0.6204633079475719,-0.5247752827384813,-0.42387180500416666,-0.3187556988391741,-0.2104716553320019,-0.1000958499557077,0.011274752947428524,0.12253330229037401,0.23257406062471842,0.3403033934562138,0.444650638275708,0.5445787452841839,0.639094584059569,0.7272588137330602,0.8081952185806882,0.881099416248845,0.9452468520674927,0.9999999999999999]},{\"showlegend\":false,\"mode\":\"markers\",\"x\":[1.0,0.5],\"xaxis\":\"x4\",\"y\":[1.0,0.5],\"type\":\"scatter\",\"yaxis\":\"y4\",\"marker\":{\"color\":\"black\"}}],{\"xaxis1\":{\"domain\":[0.0,0.45],\"anchor\":\"y1\"},\"yaxis1\":{\"scaleanchor\":\"x\",\"domain\":[0.6375,1.0],\"anchor\":\"x1\"},\"yaxis3\":{\"scaleanchor\":\"x3\",\"domain\":[5.551115123125783e-17,0.36250000000000004],\"anchor\":\"x3\"},\"xaxis2\":{\"domain\":[0.55,1.0],\"anchor\":\"y2\"},\"margin\":{\"l\":50,\"b\":50,\"r\":50,\"t\":60},\"xaxis3\":{\"domain\":[0.0,0.45],\"anchor\":\"y3\"},\"yaxis2\":{\"scaleanchor\":\"x2\",\"domain\":[0.6375,1.0],\"anchor\":\"x2\"},\"xaxis4\":{\"domain\":[0.55,1.0],\"anchor\":\"y4\"},\"yaxis4\":{\"scaleanchor\":\"x4\",\"domain\":[5.551115123125783e-17,0.36250000000000004],\"anchor\":\"x4\"},\"annotations\":[{\"yanchor\":\"bottom\",\"xanchor\":\"center\",\"y\":1.0,\"font\":{\"size\":16},\"showarrow\":false,\"yref\":\"paper\",\"text\":\"A = [2 0; 0 -1]\",\"xref\":\"paper\",\"x\":0.225},{\"yanchor\":\"bottom\",\"xanchor\":\"center\",\"y\":0.36250000000000004,\"font\":{\"size\":16},\"showarrow\":false,\"yref\":\"paper\",\"text\":\"A = rotation by pi/3\",\"xref\":\"paper\",\"x\":0.225},{\"yanchor\":\"bottom\",\"xanchor\":\"center\",\"y\":1.0,\"font\":{\"size\":16},\"showarrow\":false,\"yref\":\"paper\",\"text\":\"A = [1 1; 0 1]\",\"xref\":\"paper\",\"x\":0.775},{\"yanchor\":\"bottom\",\"xanchor\":\"center\",\"y\":0.36250000000000004,\"font\":{\"size\":16},\"showarrow\":false,\"yref\":\"paper\",\"text\":\"Singular matrix A\",\"xref\":\"paper\",\"x\":0.775}]},{\"showLink\":false}); gd.on(\"plotly_hover\",(function (data){var filtered_data=WebIO.PlotlyCommands.filterEventData(gd,data,\"hover\"); return !(filtered_data.isnil) ? (WebIO.setval({\"name\":\"hover\",\"scope\":\"13045227348532044694\",\"id\":\"3142551630214246573\",\"type\":\"observable\"},filtered_data.out)) : undefined})); gd.on(\"plotly_unhover\",(function (){return WebIO.setval({\"name\":\"hover\",\"scope\":\"13045227348532044694\",\"id\":\"3142551630214246573\",\"type\":\"observable\"},{})})); gd.on(\"plotly_selected\",(function (data){var filtered_data=WebIO.PlotlyCommands.filterEventData(gd,data,\"selected\"); return !(filtered_data.isnil) ? (WebIO.setval({\"name\":\"selected\",\"scope\":\"13045227348532044694\",\"id\":\"14584550380606254442\",\"type\":\"observable\"},filtered_data.out)) : undefined})); gd.on(\"plotly_deselect\",(function (){return WebIO.setval({\"name\":\"selected\",\"scope\":\"13045227348532044694\",\"id\":\"14584550380606254442\",\"type\":\"observable\"},{})})); gd.on(\"plotly_relayout\",(function (data){var filtered_data=WebIO.PlotlyCommands.filterEventData(gd,data,\"relayout\"); return !(filtered_data.isnil) ? (WebIO.setval({\"name\":\"relayout\",\"scope\":\"13045227348532044694\",\"id\":\"2783028825460838805\",\"type\":\"observable\"},filtered_data.out)) : undefined})); return gd.on(\"plotly_click\",(function (data){var filtered_data=WebIO.PlotlyCommands.filterEventData(gd,data,\"click\"); return !(filtered_data.isnil) ? (WebIO.setval({\"name\":\"click\",\"scope\":\"13045227348532044694\",\"id\":\"4332152321439122262\",\"type\":\"observable\"},filtered_data.out)) : undefined}))}));\n    (WebIO.importBlock({\"data\":[{\"name\":\"Plotly\",\"type\":\"js\",\"url\":\"/assetserver/57533c5d787f8bc76a9e58ed0a1abce5f1b0c14d-plotly-latest.min.js\"},{\"name\":null,\"type\":\"js\",\"url\":\"/assetserver/58a7932c57029f7dbaa4105104076ff149fc7585-plotly_webio.bundle.js\"}],\"type\":\"async_block\"})).then((imports) => handler.apply(this, imports));\n}\n"
        ],
        "observables": {
         "__gd_contents": {
          "id": "13829788488769217028",
          "sync": false,
          "value": {}
         },
         "__get_gd_contents": {
          "id": "7679910288907210530",
          "sync": false,
          "value": ""
         },
         "_commands": {
          "id": "12686493525758739552",
          "sync": false,
          "value": []
         },
         "_downloadImage": {
          "id": "8335687995720082041",
          "sync": false,
          "value": {}
         },
         "_toImage": {
          "id": "11956365618575353551",
          "sync": false,
          "value": {}
         },
         "click": {
          "id": "4332152321439122262",
          "sync": false,
          "value": {}
         },
         "hover": {
          "id": "3142551630214246573",
          "sync": false,
          "value": {}
         },
         "image": {
          "id": "5239358878460769339",
          "sync": true,
          "value": ""
         },
         "relayout": {
          "id": "2783028825460838805",
          "sync": false,
          "value": {}
         },
         "selected": {
          "id": "14584550380606254442",
          "sync": false,
          "value": {}
         }
        },
        "systemjs_options": null
       },
       "nodeType": "Scope",
       "props": {},
       "type": "node"
      },
      "image/png": "[encoded data removed]",
      "image/svg+xml": [
       "<svg class=\"main-svg\" xmlns=\"http://www.w3.org/2000/svg\" xmlns:xlink=\"http://www.w3.org/1999/xlink\" width=\"700\" height=\"500\" style=\"\" viewBox=\"0 0 700 500\"><rect x=\"0\" y=\"0\" width=\"700\" height=\"500\" style=\"fill: rgb(255, 255, 255); fill-opacity: 1;\"/><defs id=\"defs-344583\"><g class=\"clips\"><clipPath id=\"clip344583xyplot\" class=\"plotclip\"><rect width=\"270\" height=\"141.37500000000003\"/></clipPath><clipPath id=\"clip344583x2y2plot\" class=\"plotclip\"><rect width=\"270\" height=\"141.37500000000003\"/></clipPath><clipPath id=\"clip344583x3y3plot\" class=\"plotclip\"><rect width=\"270\" height=\"141.375\"/></clipPath><clipPath id=\"clip344583x4y4plot\" class=\"plotclip\"><rect width=\"270\" height=\"141.375\"/></clipPath><clipPath class=\"axesclip\" id=\"clip344583x\"><rect x=\"50\" y=\"0\" width=\"270\" height=\"500\"/></clipPath><clipPath class=\"axesclip\" id=\"clip344583y\"><rect x=\"0\" y=\"60\" width=\"700\" height=\"141.37500000000003\"/></clipPath><clipPath class=\"axesclip\" id=\"clip344583xy\"><rect x=\"50\" y=\"60\" width=\"270\" height=\"141.37500000000003\"/></clipPath><clipPath class=\"axesclip\" id=\"clip344583y2\"><rect x=\"0\" y=\"60\" width=\"700\" height=\"141.37500000000003\"/></clipPath><clipPath class=\"axesclip\" id=\"clip344583xy2\"><rect x=\"50\" y=\"60\" width=\"270\" height=\"141.37500000000003\"/></clipPath><clipPath class=\"axesclip\" id=\"clip344583y3\"><rect x=\"0\" y=\"308.625\" width=\"700\" height=\"141.375\"/></clipPath><clipPath class=\"axesclip\" id=\"clip344583xy3\"><rect x=\"50\" y=\"308.625\" width=\"270\" height=\"141.375\"/></clipPath><clipPath class=\"axesclip\" id=\"clip344583y4\"><rect x=\"0\" y=\"308.625\" width=\"700\" height=\"141.375\"/></clipPath><clipPath class=\"axesclip\" id=\"clip344583xy4\"><rect x=\"50\" y=\"308.625\" width=\"270\" height=\"141.375\"/></clipPath><clipPath class=\"axesclip\" id=\"clip344583x2\"><rect x=\"380\" y=\"0\" width=\"270\" height=\"500\"/></clipPath><clipPath class=\"axesclip\" id=\"clip344583x2y\"><rect x=\"380\" y=\"60\" width=\"270\" height=\"141.37500000000003\"/></clipPath><clipPath class=\"axesclip\" id=\"clip344583x2y2\"><rect x=\"380\" y=\"60\" width=\"270\" height=\"141.37500000000003\"/></clipPath><clipPath class=\"axesclip\" id=\"clip344583x2y3\"><rect x=\"380\" y=\"308.625\" width=\"270\" height=\"141.375\"/></clipPath><clipPath class=\"axesclip\" id=\"clip344583x2y4\"><rect x=\"380\" y=\"308.625\" width=\"270\" height=\"141.375\"/></clipPath><clipPath class=\"axesclip\" id=\"clip344583x3\"><rect x=\"50\" y=\"0\" width=\"270\" height=\"500\"/></clipPath><clipPath class=\"axesclip\" id=\"clip344583x3y\"><rect x=\"50\" y=\"60\" width=\"270\" height=\"141.37500000000003\"/></clipPath><clipPath class=\"axesclip\" id=\"clip344583x3y2\"><rect x=\"50\" y=\"60\" width=\"270\" height=\"141.37500000000003\"/></clipPath><clipPath class=\"axesclip\" id=\"clip344583x3y3\"><rect x=\"50\" y=\"308.625\" width=\"270\" height=\"141.375\"/></clipPath><clipPath class=\"axesclip\" id=\"clip344583x3y4\"><rect x=\"50\" y=\"308.625\" width=\"270\" height=\"141.375\"/></clipPath><clipPath class=\"axesclip\" id=\"clip344583x4\"><rect x=\"380\" y=\"0\" width=\"270\" height=\"500\"/></clipPath><clipPath class=\"axesclip\" id=\"clip344583x4y\"><rect x=\"380\" y=\"60\" width=\"270\" height=\"141.37500000000003\"/></clipPath><clipPath class=\"axesclip\" id=\"clip344583x4y2\"><rect x=\"380\" y=\"60\" width=\"270\" height=\"141.37500000000003\"/></clipPath><clipPath class=\"axesclip\" id=\"clip344583x4y3\"><rect x=\"380\" y=\"308.625\" width=\"270\" height=\"141.375\"/></clipPath><clipPath class=\"axesclip\" id=\"clip344583x4y4\"><rect x=\"380\" y=\"308.625\" width=\"270\" height=\"141.375\"/></clipPath></g><g class=\"gradients\"/></defs><g class=\"bglayer\"/><g class=\"layer-below\"><g class=\"imagelayer\"/><g class=\"shapelayer\"/></g><g class=\"cartesianlayer\"><g class=\"subplot xy\"><g class=\"layer-subplot\"><g class=\"shapelayer\"/><g class=\"imagelayer\"/></g><g class=\"gridlayer\"><g class=\"x\"><path class=\"xgrid crisp\" transform=\"translate(52.99,0)\" d=\"M0,60v141.37500000000003\" style=\"stroke: rgb(238, 238, 238); stroke-opacity: 1; stroke-width: 1px;\"/><path class=\"xgrid crisp\" transform=\"translate(114.75,0)\" d=\"M0,60v141.37500000000003\" style=\"stroke: rgb(238, 238, 238); stroke-opacity: 1; stroke-width: 1px;\"/><path class=\"xgrid crisp\" transform=\"translate(238.25,0)\" d=\"M0,60v141.37500000000003\" style=\"stroke: rgb(238, 238, 238); stroke-opacity: 1; stroke-width: 1px;\"/><path class=\"xgrid crisp\" transform=\"translate(300.01,0)\" d=\"M0,60v141.37500000000003\" style=\"stroke: rgb(238, 238, 238); stroke-opacity: 1; stroke-width: 1px;\"/></g><g class=\"y\"><path class=\"ygrid crisp\" transform=\"translate(0,190.56)\" d=\"M50,0h270\" style=\"stroke: rgb(238, 238, 238); stroke-opacity: 1; stroke-width: 1px;\"/><path class=\"ygrid crisp\" transform=\"translate(0,159.68)\" d=\"M50,0h270\" style=\"stroke: rgb(238, 238, 238); stroke-opacity: 1; stroke-width: 1px;\"/><path class=\"ygrid crisp\" transform=\"translate(0,97.93)\" d=\"M50,0h270\" style=\"stroke: rgb(238, 238, 238); stroke-opacity: 1; stroke-width: 1px;\"/><path class=\"ygrid crisp\" transform=\"translate(0,67.05)\" d=\"M50,0h270\" style=\"stroke: rgb(238, 238, 238); stroke-opacity: 1; stroke-width: 1px;\"/></g></g><g class=\"zerolinelayer\"><path class=\"xzl zl crisp\" transform=\"translate(176.5,0)\" d=\"M0,60v141.37500000000003\" style=\"stroke: rgb(68, 68, 68); stroke-opacity: 1; stroke-width: 1px;\"/><path class=\"yzl zl crisp\" transform=\"translate(0,128.8)\" d=\"M50,0h270\" style=\"stroke: rgb(68, 68, 68); stroke-opacity: 1; stroke-width: 1px;\"/></g><path class=\"xlines-below\"/><path class=\"ylines-below\"/><g class=\"overlines-below\"/><g class=\"xaxislayer-below\"/><g class=\"yaxislayer-below\"/><g class=\"overaxes-below\"/><g class=\"plot\" transform=\"translate(50, 60)\" clip-path=\"url('#clip344583xyplot')\"><g class=\"scatterlayer mlayer\"><g class=\"trace scatter trace469017\" style=\"stroke-miterlimit: 2; opacity: 0.3;\"><g class=\"fills\"/><g class=\"errorbars\"/><g class=\"lines\"><path class=\"js-line\" d=\"M188.25,68.8L187.03,56.57L185.51,50.6L180.73,39.27L177.52,34.02L169.62,24.6L165,20.52L154.67,13.85L149.06,11.32L137.22,7.99L131.11,7.22L118.82,7.53L112.76,8.6L101.1,12.51L95.62,15.32L85.64,22.5L81.23,26.8L73.81,36.6L70.86,42.01L66.66,53.56L65.44,59.6L64.82,71.88L65.44,78.01L68.47,89.92L70.86,95.6L77.27,106.09L81.23,110.81L90.45,118.94L95.62,122.28L106.83,127.34L112.76,129.01L124.96,130.54L131.11,130.38L143.22,128.25L149.06,126.29L160,120.68L165,117.08L173.81,108.5L177.52,103.59L183.4,92.79L185.51,87.01L187.95,74.95L188.25,68.8\" style=\"vector-effect: non-scaling-stroke; fill: none; stroke: rgb(128, 128, 128); stroke-opacity: 1; stroke-width: 2px; opacity: 1; stroke-dasharray: 9px, 9px;\"/></g><g class=\"points\"/><g class=\"text\"/></g><g class=\"trace scatter trace6c241b\" style=\"stroke-miterlimit: 2; opacity: 1;\"><g class=\"fills\"/><g class=\"errorbars\"/><g class=\"lines\"><path class=\"js-line\" d=\"M250.01,68.8L249.39,74.95L247.56,81.04L244.52,87.01L240.31,92.79L234.97,98.34L228.55,103.59L221.11,108.5L212.74,113.01L193.51,120.68L182.84,123.76L159.95,128.25L147.95,129.62L123.42,130.54L111.14,130.08L87.16,127.34L75.7,125.09L54.4,118.94L44.78,115.1L35.96,110.81L28.05,106.09L21.11,101L15.22,95.6L10.44,89.92L6.81,84.04L4.37,78.01L3.15,71.88L3.15,65.72L4.37,59.6L6.81,53.56L10.44,47.68L15.22,42.01L21.11,36.6L28.05,31.52L35.96,26.8L44.78,22.5L54.4,18.66L75.7,12.51L87.16,10.27L111.14,7.53L123.42,7.07L147.95,7.99L159.95,9.36L182.84,13.85L193.51,16.93L212.74,24.6L221.11,29.11L228.55,34.02L234.97,39.27L240.31,44.82L244.52,50.6L247.56,56.57L249.39,62.65L250.01,68.8\" style=\"vector-effect: non-scaling-stroke; fill: none; stroke: rgb(255, 127, 14); stroke-opacity: 1; stroke-width: 2px; opacity: 1;\"/></g><g class=\"points\"/><g class=\"text\"/></g><g class=\"trace scatter trace89c9a2\" style=\"stroke-miterlimit: 2; opacity: 1;\"><g class=\"fills\"/><g class=\"errorbars\"/><g class=\"lines\"/><g class=\"points\"><path class=\"point\" transform=\"translate(250.01,68.8)\" d=\"M3,0A3,3 0 1,1 0,-3A3,3 0 0,1 3,0Z\" style=\"opacity: 1; stroke-width: 0px; fill: rgb(0, 0, 0); fill-opacity: 1;\"/><path class=\"point\" transform=\"translate(126.5,130.56)\" d=\"M3,0A3,3 0 1,1 0,-3A3,3 0 0,1 3,0Z\" style=\"opacity: 1; stroke-width: 0px; fill: rgb(0, 0, 0); fill-opacity: 1;\"/></g><g class=\"text\"/></g></g></g><g class=\"overplot\"/><path class=\"xlines-above crisp\" d=\"M0,0\" style=\"fill: none;\"/><path class=\"ylines-above crisp\" d=\"M0,0\" style=\"fill: none;\"/><g class=\"overlines-above\"/><g class=\"xaxislayer-above\"><g class=\"xtick\"><text text-anchor=\"middle\" x=\"0\" y=\"214.37500000000003\" transform=\"translate(52.99,0)\" style=\"font-family: 'Open Sans', verdana, arial, sans-serif; font-size: 12px; fill: rgb(68, 68, 68); fill-opacity: 1; white-space: pre;\">−2</text></g><g class=\"xtick\"><text text-anchor=\"middle\" x=\"0\" y=\"214.37500000000003\" transform=\"translate(114.75,0)\" style=\"font-family: 'Open Sans', verdana, arial, sans-serif; font-size: 12px; fill: rgb(68, 68, 68); fill-opacity: 1; white-space: pre;\">−1</text></g><g class=\"xtick\"><text text-anchor=\"middle\" x=\"0\" y=\"214.37500000000003\" transform=\"translate(176.5,0)\" style=\"font-family: 'Open Sans', verdana, arial, sans-serif; font-size: 12px; fill: rgb(68, 68, 68); fill-opacity: 1; white-space: pre;\">0</text></g><g class=\"xtick\"><text text-anchor=\"middle\" x=\"0\" y=\"214.37500000000003\" transform=\"translate(238.25,0)\" style=\"font-family: 'Open Sans', verdana, arial, sans-serif; font-size: 12px; fill: rgb(68, 68, 68); fill-opacity: 1; white-space: pre;\">1</text></g><g class=\"xtick\"><text text-anchor=\"middle\" x=\"0\" y=\"214.37500000000003\" transform=\"translate(300.01,0)\" style=\"font-family: 'Open Sans', verdana, arial, sans-serif; font-size: 12px; fill: rgb(68, 68, 68); fill-opacity: 1; white-space: pre;\">2</text></g></g><g class=\"yaxislayer-above\"><g class=\"ytick\"><text text-anchor=\"end\" x=\"49\" y=\"4.199999999999999\" transform=\"translate(0,190.56)\" style=\"font-family: 'Open Sans', verdana, arial, sans-serif; font-size: 12px; fill: rgb(68, 68, 68); fill-opacity: 1; white-space: pre;\">−1</text></g><g class=\"ytick\"><text text-anchor=\"end\" x=\"49\" y=\"4.199999999999999\" transform=\"translate(0,159.68)\" style=\"font-family: 'Open Sans', verdana, arial, sans-serif; font-size: 12px; fill: rgb(68, 68, 68); fill-opacity: 1; white-space: pre;\">−0.5</text></g><g class=\"ytick\"><text text-anchor=\"end\" x=\"49\" y=\"4.199999999999999\" transform=\"translate(0,128.8)\" style=\"font-family: 'Open Sans', verdana, arial, sans-serif; font-size: 12px; fill: rgb(68, 68, 68); fill-opacity: 1; white-space: pre;\">0</text></g><g class=\"ytick\"><text text-anchor=\"end\" x=\"49\" y=\"4.199999999999999\" transform=\"translate(0,97.93)\" style=\"font-family: 'Open Sans', verdana, arial, sans-serif; font-size: 12px; fill: rgb(68, 68, 68); fill-opacity: 1; white-space: pre;\">0.5</text></g><g class=\"ytick\"><text text-anchor=\"end\" x=\"49\" y=\"4.199999999999999\" transform=\"translate(0,67.05)\" style=\"font-family: 'Open Sans', verdana, arial, sans-serif; font-size: 12px; fill: rgb(68, 68, 68); fill-opacity: 1; white-space: pre;\">1</text></g></g><g class=\"overaxes-above\"/></g><g class=\"subplot x2y2\"><g class=\"layer-subplot\"><g class=\"shapelayer\"/><g class=\"imagelayer\"/></g><g class=\"gridlayer\"><g class=\"x2\"><path class=\"x2grid crisp\" transform=\"translate(391.47,0)\" d=\"M0,60v141.37500000000003\" style=\"stroke: rgb(238, 238, 238); stroke-opacity: 1; stroke-width: 1px;\"/><path class=\"x2grid crisp\" transform=\"translate(453.22,0)\" d=\"M0,60v141.37500000000003\" style=\"stroke: rgb(238, 238, 238); stroke-opacity: 1; stroke-width: 1px;\"/><path class=\"x2grid crisp\" transform=\"translate(576.73,0)\" d=\"M0,60v141.37500000000003\" style=\"stroke: rgb(238, 238, 238); stroke-opacity: 1; stroke-width: 1px;\"/><path class=\"x2grid crisp\" transform=\"translate(638.48,0)\" d=\"M0,60v141.37500000000003\" style=\"stroke: rgb(238, 238, 238); stroke-opacity: 1; stroke-width: 1px;\"/></g><g class=\"y2\"><path class=\"y2grid crisp\" transform=\"translate(0,194.33)\" d=\"M380,0h270\" style=\"stroke: rgb(238, 238, 238); stroke-opacity: 1; stroke-width: 1px;\"/><path class=\"y2grid crisp\" transform=\"translate(0,163.45)\" d=\"M380,0h270\" style=\"stroke: rgb(238, 238, 238); stroke-opacity: 1; stroke-width: 1px;\"/><path class=\"y2grid crisp\" transform=\"translate(0,101.7)\" d=\"M380,0h270\" style=\"stroke: rgb(238, 238, 238); stroke-opacity: 1; stroke-width: 1px;\"/><path class=\"y2grid crisp\" transform=\"translate(0,70.82)\" d=\"M380,0h270\" style=\"stroke: rgb(238, 238, 238); stroke-opacity: 1; stroke-width: 1px;\"/></g></g><g class=\"zerolinelayer\"><path class=\"x2zl zl crisp\" transform=\"translate(514.97,0)\" d=\"M0,60v141.37500000000003\" style=\"stroke: rgb(68, 68, 68); stroke-opacity: 1; stroke-width: 1px;\"/><path class=\"y2zl zl crisp\" transform=\"translate(0,132.57)\" d=\"M380,0h270\" style=\"stroke: rgb(68, 68, 68); stroke-opacity: 1; stroke-width: 1px;\"/></g><path class=\"xlines-below\"/><path class=\"ylines-below\"/><g class=\"overlines-below\"/><g class=\"xaxislayer-below\"/><g class=\"yaxislayer-below\"/><g class=\"overaxes-below\"/><g class=\"plot\" transform=\"translate(380, 60)\" clip-path=\"url('#clip344583x2y2plot')\"><g class=\"scatterlayer mlayer\"><g class=\"trace scatter trace10408d\" style=\"stroke-miterlimit: 2; opacity: 0.3;\"><g class=\"fills\"/><g class=\"errorbars\"/><g class=\"lines\"><path class=\"js-line\" d=\"M196.73,72.57L195.5,60.34L193.98,54.37L189.21,43.04L186,37.79L178.09,28.36L173.48,24.29L163.15,17.62L157.53,15.09L145.7,11.76L139.59,10.99L127.29,11.3L121.23,12.37L109.57,16.28L104.1,19.09L94.11,26.27L89.7,30.57L82.28,40.37L79.34,45.78L75.13,57.33L73.91,63.37L73.3,75.65L73.91,81.78L76.94,93.69L79.34,99.37L85.75,109.86L89.7,114.58L98.92,122.71L104.1,126.05L115.31,131.11L121.23,132.78L133.43,134.31L139.59,134.15L151.7,132.02L157.53,130.06L168.48,124.45L173.48,120.85L182.28,112.27L186,107.36L191.88,96.56L193.98,90.77L196.42,78.72L196.73,72.57\" style=\"vector-effect: non-scaling-stroke; fill: none; stroke: rgb(128, 128, 128); stroke-opacity: 1; stroke-width: 2px; opacity: 1; stroke-dasharray: 9px, 9px;\"/></g><g class=\"points\"/><g class=\"text\"/></g><g class=\"trace scatter traced5e2eb\" style=\"stroke-miterlimit: 2; opacity: 1;\"><g class=\"fills\"/><g class=\"errorbars\"/><g class=\"lines\"><path class=\"js-line\" d=\"M196.73,72.57L207.74,60.34L212.18,54.37L218.74,43.04L220.78,37.79L222.3,28.36L221.76,24.29L220.35,20.7L218.1,17.62L215.02,15.09L211.14,13.13L206.51,11.76L201.17,10.99L188.57,11.3L181.44,12.37L165.86,16.28L157.58,19.09L140.41,26.27L131.71,30.57L114.48,40.37L106.13,45.78L90.37,57.33L83.11,63.37L70.22,75.65L64.71,81.78L55.82,93.69L52.54,99.37L48.46,109.86L47.7,114.58L47.81,118.87L48.78,122.71L50.62,126.05L53.29,128.86L56.77,131.11L61.03,132.78L71.7,134.31L78.01,134.15L92.25,132.02L100.05,130.06L116.6,124.45L125.19,120.85L142.58,112.27L151.21,107.36L167.89,96.56L175.78,90.77L190.27,78.72L196.73,72.57\" style=\"vector-effect: non-scaling-stroke; fill: none; stroke: rgb(148, 103, 189); stroke-opacity: 1; stroke-width: 2px; opacity: 1;\"/></g><g class=\"points\"/><g class=\"text\"/></g><g class=\"trace scatter trace17c689\" style=\"stroke-miterlimit: 2; opacity: 1;\"><g class=\"fills\"/><g class=\"errorbars\"/><g class=\"lines\"/><g class=\"points\"><path class=\"point\" transform=\"translate(196.73,72.57)\" d=\"M3,0A3,3 0 1,1 0,-3A3,3 0 0,1 3,0Z\" style=\"opacity: 1; stroke-width: 0px; fill: rgb(0, 0, 0); fill-opacity: 1;\"/><path class=\"point\" transform=\"translate(196.73,10.82)\" d=\"M3,0A3,3 0 1,1 0,-3A3,3 0 0,1 3,0Z\" style=\"opacity: 1; stroke-width: 0px; fill: rgb(0, 0, 0); fill-opacity: 1;\"/></g><g class=\"text\"/></g></g></g><g class=\"overplot\"/><path class=\"xlines-above crisp\" d=\"M0,0\" style=\"fill: none;\"/><path class=\"ylines-above crisp\" d=\"M0,0\" style=\"fill: none;\"/><g class=\"overlines-above\"/><g class=\"xaxislayer-above\"><g class=\"x2tick\"><text text-anchor=\"middle\" x=\"0\" y=\"214.37500000000003\" transform=\"translate(391.47,0)\" style=\"font-family: 'Open Sans', verdana, arial, sans-serif; font-size: 12px; fill: rgb(68, 68, 68); fill-opacity: 1; white-space: pre;\">−2</text></g><g class=\"x2tick\"><text text-anchor=\"middle\" x=\"0\" y=\"214.37500000000003\" transform=\"translate(453.22,0)\" style=\"font-family: 'Open Sans', verdana, arial, sans-serif; font-size: 12px; fill: rgb(68, 68, 68); fill-opacity: 1; white-space: pre;\">−1</text></g><g class=\"x2tick\"><text text-anchor=\"middle\" x=\"0\" y=\"214.37500000000003\" transform=\"translate(514.97,0)\" style=\"font-family: 'Open Sans', verdana, arial, sans-serif; font-size: 12px; fill: rgb(68, 68, 68); fill-opacity: 1; white-space: pre;\">0</text></g><g class=\"x2tick\"><text text-anchor=\"middle\" x=\"0\" y=\"214.37500000000003\" transform=\"translate(576.73,0)\" style=\"font-family: 'Open Sans', verdana, arial, sans-serif; font-size: 12px; fill: rgb(68, 68, 68); fill-opacity: 1; white-space: pre;\">1</text></g><g class=\"x2tick\"><text text-anchor=\"middle\" x=\"0\" y=\"214.37500000000003\" transform=\"translate(638.48,0)\" style=\"font-family: 'Open Sans', verdana, arial, sans-serif; font-size: 12px; fill: rgb(68, 68, 68); fill-opacity: 1; white-space: pre;\">2</text></g></g><g class=\"yaxislayer-above\"><g class=\"y2tick\"><text text-anchor=\"end\" x=\"379\" y=\"4.199999999999999\" transform=\"translate(0,194.33)\" style=\"font-family: 'Open Sans', verdana, arial, sans-serif; font-size: 12px; fill: rgb(68, 68, 68); fill-opacity: 1; white-space: pre;\">−1</text></g><g class=\"y2tick\"><text text-anchor=\"end\" x=\"379\" y=\"4.199999999999999\" transform=\"translate(0,163.45)\" style=\"font-family: 'Open Sans', verdana, arial, sans-serif; font-size: 12px; fill: rgb(68, 68, 68); fill-opacity: 1; white-space: pre;\">−0.5</text></g><g class=\"y2tick\"><text text-anchor=\"end\" x=\"379\" y=\"4.199999999999999\" transform=\"translate(0,132.57)\" style=\"font-family: 'Open Sans', verdana, arial, sans-serif; font-size: 12px; fill: rgb(68, 68, 68); fill-opacity: 1; white-space: pre;\">0</text></g><g class=\"y2tick\"><text text-anchor=\"end\" x=\"379\" y=\"4.199999999999999\" transform=\"translate(0,101.7)\" style=\"font-family: 'Open Sans', verdana, arial, sans-serif; font-size: 12px; fill: rgb(68, 68, 68); fill-opacity: 1; white-space: pre;\">0.5</text></g><g class=\"y2tick\"><text text-anchor=\"end\" x=\"379\" y=\"4.199999999999999\" transform=\"translate(0,70.82)\" style=\"font-family: 'Open Sans', verdana, arial, sans-serif; font-size: 12px; fill: rgb(68, 68, 68); fill-opacity: 1; white-space: pre;\">1</text></g></g><g class=\"overaxes-above\"/></g><g class=\"subplot x3y3\"><g class=\"layer-subplot\"><g class=\"shapelayer\"/><g class=\"imagelayer\"/></g><g class=\"gridlayer\"><g class=\"x3\"><path class=\"x3grid crisp\" transform=\"translate(57.730000000000004,0)\" d=\"M0,308.625v141.375\" style=\"stroke: rgb(238, 238, 238); stroke-opacity: 1; stroke-width: 1px;\"/><path class=\"x3grid crisp\" transform=\"translate(121.36,0)\" d=\"M0,308.625v141.375\" style=\"stroke: rgb(238, 238, 238); stroke-opacity: 1; stroke-width: 1px;\"/><path class=\"x3grid crisp\" transform=\"translate(248.62,0)\" d=\"M0,308.625v141.375\" style=\"stroke: rgb(238, 238, 238); stroke-opacity: 1; stroke-width: 1px;\"/><path class=\"x3grid crisp\" transform=\"translate(312.25,0)\" d=\"M0,308.625v141.375\" style=\"stroke: rgb(238, 238, 238); stroke-opacity: 1; stroke-width: 1px;\"/></g><g class=\"y3\"><path class=\"y3grid crisp\" transform=\"translate(0,442.935)\" d=\"M50,0h270\" style=\"stroke: rgb(238, 238, 238); stroke-opacity: 1; stroke-width: 1px;\"/><path class=\"y3grid crisp\" transform=\"translate(0,411.115)\" d=\"M50,0h270\" style=\"stroke: rgb(238, 238, 238); stroke-opacity: 1; stroke-width: 1px;\"/><path class=\"y3grid crisp\" transform=\"translate(0,347.485)\" d=\"M50,0h270\" style=\"stroke: rgb(238, 238, 238); stroke-opacity: 1; stroke-width: 1px;\"/><path class=\"y3grid crisp\" transform=\"translate(0,315.675)\" d=\"M50,0h270\" style=\"stroke: rgb(238, 238, 238); stroke-opacity: 1; stroke-width: 1px;\"/></g></g><g class=\"zerolinelayer\"><path class=\"x3zl zl crisp\" transform=\"translate(184.99,0)\" d=\"M0,308.625v141.375\" style=\"stroke: rgb(68, 68, 68); stroke-opacity: 1; stroke-width: 1px;\"/><path class=\"y3zl zl crisp\" transform=\"translate(0,379.305)\" d=\"M50,0h270\" style=\"stroke: rgb(68, 68, 68); stroke-opacity: 1; stroke-width: 1px;\"/></g><path class=\"xlines-below\"/><path class=\"ylines-below\"/><g class=\"overlines-below\"/><g class=\"xaxislayer-below\"/><g class=\"yaxislayer-below\"/><g class=\"overaxes-below\"/><g class=\"plot\" transform=\"translate(50, 308.625)\" clip-path=\"url('#clip344583x3y3plot')\"><g class=\"scatterlayer mlayer\"><g class=\"trace scatter trace09aeba\" style=\"stroke-miterlimit: 2; opacity: 0.3;\"><g class=\"fills\"/><g class=\"errorbars\"/><g class=\"lines\"><path class=\"js-line\" d=\"M198.62,70.68L197.36,58.07L195.79,51.92L190.87,40.25L187.56,34.83L179.42,25.13L174.66,20.93L164.02,14.06L158.24,11.45L146.04,8.02L139.75,7.23L127.08,7.54L120.83,8.64L108.82,12.68L103.18,15.57L92.89,22.97L88.35,27.4L80.7,37.5L77.66,43.07L73.33,54.98L72.07,61.19L71.44,73.85L72.07,80.16L75.2,92.44L77.66,98.29L84.27,109.1L88.35,113.96L97.85,122.34L103.18,125.78L114.73,130.99L120.83,132.71L133.4,134.29L139.75,134.13L152.22,131.93L158.24,129.91L169.51,124.13L174.66,120.42L183.73,111.58L187.56,106.52L193.62,95.39L195.79,89.43L198.3,77.01L198.62,70.68\" style=\"vector-effect: non-scaling-stroke; fill: none; stroke: rgb(128, 128, 128); stroke-opacity: 1; stroke-width: 2px; opacity: 1; stroke-dasharray: 9px, 9px;\"/></g><g class=\"points\"/><g class=\"text\"/></g><g class=\"trace scatter trace249287\" style=\"stroke-miterlimit: 2; opacity: 1;\"><g class=\"fills\"/><g class=\"errorbars\"/><g class=\"lines\"><path class=\"js-line\" d=\"M190.09,38.86L182.7,28.58L178.27,24.03L168.17,16.38L162.6,13.35L150.69,9.02L144.47,7.76L131.82,7.13L125.51,7.76L113.23,10.89L107.38,13.35L96.57,19.96L91.71,24.03L83.33,33.53L79.89,38.86L74.67,50.41L72.96,56.52L71.38,69.09L71.54,75.43L73.74,87.91L75.76,93.92L81.54,105.2L85.24,110.35L94.09,119.42L99.15,123.25L110.27,129.31L116.24,131.48L128.65,133.99L134.99,134.31L147.6,133.04L153.74,131.48L165.42,126.56L170.83,123.25L180.54,115.11L184.74,110.35L191.61,99.71L194.22,93.92L197.65,81.73L198.44,75.43L198.12,62.77L197.02,56.52L192.99,44.51L190.09,38.86\" style=\"vector-effect: non-scaling-stroke; fill: none; stroke: rgb(127, 127, 127); stroke-opacity: 1; stroke-width: 2px; opacity: 1;\"/></g><g class=\"points\"/><g class=\"text\"/></g><g class=\"trace scatter trace1c82c4\" style=\"stroke-miterlimit: 2; opacity: 1;\"><g class=\"fills\"/><g class=\"errorbars\"/><g class=\"lines\"/><g class=\"points\"><path class=\"point\" transform=\"translate(190.09,38.86)\" d=\"M3,0A3,3 0 1,1 0,-3A3,3 0 0,1 3,0Z\" style=\"opacity: 1; stroke-width: 0px; fill: rgb(0, 0, 0); fill-opacity: 1;\"/><path class=\"point\" transform=\"translate(103.18,15.57)\" d=\"M3,0A3,3 0 1,1 0,-3A3,3 0 0,1 3,0Z\" style=\"opacity: 1; stroke-width: 0px; fill: rgb(0, 0, 0); fill-opacity: 1;\"/></g><g class=\"text\"/></g></g></g><g class=\"overplot\"/><path class=\"xlines-above crisp\" d=\"M0,0\" style=\"fill: none;\"/><path class=\"ylines-above crisp\" d=\"M0,0\" style=\"fill: none;\"/><g class=\"overlines-above\"/><g class=\"xaxislayer-above\"><g class=\"x3tick\"><text text-anchor=\"middle\" x=\"0\" y=\"463\" transform=\"translate(57.730000000000004,0)\" style=\"font-family: 'Open Sans', verdana, arial, sans-serif; font-size: 12px; fill: rgb(68, 68, 68); fill-opacity: 1; white-space: pre;\">−2</text></g><g class=\"x3tick\"><text text-anchor=\"middle\" x=\"0\" y=\"463\" transform=\"translate(121.36,0)\" style=\"font-family: 'Open Sans', verdana, arial, sans-serif; font-size: 12px; fill: rgb(68, 68, 68); fill-opacity: 1; white-space: pre;\">−1</text></g><g class=\"x3tick\"><text text-anchor=\"middle\" x=\"0\" y=\"463\" transform=\"translate(184.99,0)\" style=\"font-family: 'Open Sans', verdana, arial, sans-serif; font-size: 12px; fill: rgb(68, 68, 68); fill-opacity: 1; white-space: pre;\">0</text></g><g class=\"x3tick\"><text text-anchor=\"middle\" x=\"0\" y=\"463\" transform=\"translate(248.62,0)\" style=\"font-family: 'Open Sans', verdana, arial, sans-serif; font-size: 12px; fill: rgb(68, 68, 68); fill-opacity: 1; white-space: pre;\">1</text></g><g class=\"x3tick\"><text text-anchor=\"middle\" x=\"0\" y=\"463\" transform=\"translate(312.25,0)\" style=\"font-family: 'Open Sans', verdana, arial, sans-serif; font-size: 12px; fill: rgb(68, 68, 68); fill-opacity: 1; white-space: pre;\">2</text></g></g><g class=\"yaxislayer-above\"><g class=\"y3tick\"><text text-anchor=\"end\" x=\"49\" y=\"4.199999999999999\" transform=\"translate(0,442.935)\" style=\"font-family: 'Open Sans', verdana, arial, sans-serif; font-size: 12px; fill: rgb(68, 68, 68); fill-opacity: 1; white-space: pre;\">−1</text></g><g class=\"y3tick\"><text text-anchor=\"end\" x=\"49\" y=\"4.199999999999999\" transform=\"translate(0,411.115)\" style=\"font-family: 'Open Sans', verdana, arial, sans-serif; font-size: 12px; fill: rgb(68, 68, 68); fill-opacity: 1; white-space: pre;\">−0.5</text></g><g class=\"y3tick\"><text text-anchor=\"end\" x=\"49\" y=\"4.199999999999999\" transform=\"translate(0,379.305)\" style=\"font-family: 'Open Sans', verdana, arial, sans-serif; font-size: 12px; fill: rgb(68, 68, 68); fill-opacity: 1; white-space: pre;\">0</text></g><g class=\"y3tick\"><text text-anchor=\"end\" x=\"49\" y=\"4.199999999999999\" transform=\"translate(0,347.485)\" style=\"font-family: 'Open Sans', verdana, arial, sans-serif; font-size: 12px; fill: rgb(68, 68, 68); fill-opacity: 1; white-space: pre;\">0.5</text></g><g class=\"y3tick\"><text text-anchor=\"end\" x=\"49\" y=\"4.199999999999999\" transform=\"translate(0,315.675)\" style=\"font-family: 'Open Sans', verdana, arial, sans-serif; font-size: 12px; fill: rgb(68, 68, 68); fill-opacity: 1; white-space: pre;\">1</text></g></g><g class=\"overaxes-above\"/></g><g class=\"subplot x4y4\"><g class=\"layer-subplot\"><g class=\"shapelayer\"/><g class=\"imagelayer\"/></g><g class=\"gridlayer\"><g class=\"x4\"><path class=\"x4grid crisp\" transform=\"translate(400.4,0)\" d=\"M0,308.625v141.375\" style=\"stroke: rgb(238, 238, 238); stroke-opacity: 1; stroke-width: 1px;\"/><path class=\"x4grid crisp\" transform=\"translate(457.32,0)\" d=\"M0,308.625v141.375\" style=\"stroke: rgb(238, 238, 238); stroke-opacity: 1; stroke-width: 1px;\"/><path class=\"x4grid crisp\" transform=\"translate(571.16,0)\" d=\"M0,308.625v141.375\" style=\"stroke: rgb(238, 238, 238); stroke-opacity: 1; stroke-width: 1px;\"/><path class=\"x4grid crisp\" transform=\"translate(628.09,0)\" d=\"M0,308.625v141.375\" style=\"stroke: rgb(238, 238, 238); stroke-opacity: 1; stroke-width: 1px;\"/></g><g class=\"y4\"><path class=\"y4grid crisp\" transform=\"translate(0,436.21500000000003)\" d=\"M380,0h270\" style=\"stroke: rgb(238, 238, 238); stroke-opacity: 1; stroke-width: 1px;\"/><path class=\"y4grid crisp\" transform=\"translate(0,407.755)\" d=\"M380,0h270\" style=\"stroke: rgb(238, 238, 238); stroke-opacity: 1; stroke-width: 1px;\"/><path class=\"y4grid crisp\" transform=\"translate(0,350.835)\" d=\"M380,0h270\" style=\"stroke: rgb(238, 238, 238); stroke-opacity: 1; stroke-width: 1px;\"/><path class=\"y4grid crisp\" transform=\"translate(0,322.375)\" d=\"M380,0h270\" style=\"stroke: rgb(238, 238, 238); stroke-opacity: 1; stroke-width: 1px;\"/></g></g><g class=\"zerolinelayer\"><path class=\"x4zl zl crisp\" transform=\"translate(514.24,0)\" d=\"M0,308.625v141.375\" style=\"stroke: rgb(68, 68, 68); stroke-opacity: 1; stroke-width: 1px;\"/><path class=\"y4zl zl crisp\" transform=\"translate(0,379.295)\" d=\"M380,0h270\" style=\"stroke: rgb(68, 68, 68); stroke-opacity: 1; stroke-width: 1px;\"/></g><path class=\"xlines-below\"/><path class=\"ylines-below\"/><g class=\"overlines-below\"/><g class=\"xaxislayer-below\"/><g class=\"yaxislayer-below\"/><g class=\"overaxes-below\"/><g class=\"plot\" transform=\"translate(380, 308.625)\" clip-path=\"url('#clip344583x4y4plot')\"><g class=\"scatterlayer mlayer\"><g class=\"trace scatter trace302083\" style=\"stroke-miterlimit: 2; opacity: 0.3;\"><g class=\"fills\"/><g class=\"errorbars\"/><g class=\"lines\"><path class=\"js-line\" d=\"M191.16,70.67L190.04,59.39L188.64,53.89L184.23,43.45L181.27,38.61L173.99,29.92L169.73,26.17L160.21,20.02L155.04,17.68L144.13,14.61L138.5,13.91L127.16,14.19L121.58,15.18L110.83,18.79L105.78,21.37L96.58,27.99L92.51,31.95L85.67,40.99L82.96,45.97L79.08,56.63L77.95,62.19L77.39,73.51L77.95,79.16L80.75,90.14L82.96,95.37L88.87,105.04L92.51,109.39L101.01,116.89L105.78,119.97L116.11,124.63L121.58,126.17L132.82,127.58L138.5,127.44L149.66,125.47L155.04,123.66L165.13,118.49L169.73,115.18L177.85,107.26L181.27,102.74L186.7,92.78L188.64,87.45L190.88,76.34L191.16,70.67\" style=\"vector-effect: non-scaling-stroke; fill: none; stroke: rgb(128, 128, 128); stroke-opacity: 1; stroke-width: 2px; opacity: 1; stroke-dasharray: 9px, 9px;\"/></g><g class=\"points\"/><g class=\"text\"/></g><g class=\"trace scatter trace9f1764\" style=\"stroke-miterlimit: 2; opacity: 1;\"><g class=\"fills\"/><g class=\"errorbars\"/><g class=\"lines\"><path class=\"js-line\" d=\"M191.16,13.75L197.84,7.07L70.61,134.31L191.16,13.75\" style=\"vector-effect: non-scaling-stroke; fill: none; stroke: rgb(31, 119, 180); stroke-opacity: 1; stroke-width: 2px; opacity: 1;\"/></g><g class=\"points\"/><g class=\"text\"/></g><g class=\"trace scatter trace03dad5\" style=\"stroke-miterlimit: 2; opacity: 1;\"><g class=\"fills\"/><g class=\"errorbars\"/><g class=\"lines\"/><g class=\"points\"><path class=\"point\" transform=\"translate(191.16,13.75)\" d=\"M3,0A3,3 0 1,1 0,-3A3,3 0 0,1 3,0Z\" style=\"opacity: 1; stroke-width: 0px; fill: rgb(0, 0, 0); fill-opacity: 1;\"/><path class=\"point\" transform=\"translate(162.7,42.21)\" d=\"M3,0A3,3 0 1,1 0,-3A3,3 0 0,1 3,0Z\" style=\"opacity: 1; stroke-width: 0px; fill: rgb(0, 0, 0); fill-opacity: 1;\"/></g><g class=\"text\"/></g></g></g><g class=\"overplot\"/><path class=\"xlines-above crisp\" d=\"M0,0\" style=\"fill: none;\"/><path class=\"ylines-above crisp\" d=\"M0,0\" style=\"fill: none;\"/><g class=\"overlines-above\"/><g class=\"xaxislayer-above\"><g class=\"x4tick\"><text text-anchor=\"middle\" x=\"0\" y=\"463\" transform=\"translate(400.4,0)\" style=\"font-family: 'Open Sans', verdana, arial, sans-serif; font-size: 12px; fill: rgb(68, 68, 68); fill-opacity: 1; white-space: pre;\">−2</text></g><g class=\"x4tick\"><text text-anchor=\"middle\" x=\"0\" y=\"463\" transform=\"translate(457.32,0)\" style=\"font-family: 'Open Sans', verdana, arial, sans-serif; font-size: 12px; fill: rgb(68, 68, 68); fill-opacity: 1; white-space: pre;\">−1</text></g><g class=\"x4tick\"><text text-anchor=\"middle\" x=\"0\" y=\"463\" transform=\"translate(514.24,0)\" style=\"font-family: 'Open Sans', verdana, arial, sans-serif; font-size: 12px; fill: rgb(68, 68, 68); fill-opacity: 1; white-space: pre;\">0</text></g><g class=\"x4tick\"><text text-anchor=\"middle\" x=\"0\" y=\"463\" transform=\"translate(571.16,0)\" style=\"font-family: 'Open Sans', verdana, arial, sans-serif; font-size: 12px; fill: rgb(68, 68, 68); fill-opacity: 1; white-space: pre;\">1</text></g><g class=\"x4tick\"><text text-anchor=\"middle\" x=\"0\" y=\"463\" transform=\"translate(628.09,0)\" style=\"font-family: 'Open Sans', verdana, arial, sans-serif; font-size: 12px; fill: rgb(68, 68, 68); fill-opacity: 1; white-space: pre;\">2</text></g></g><g class=\"yaxislayer-above\"><g class=\"y4tick\"><text text-anchor=\"end\" x=\"379\" y=\"4.199999999999999\" transform=\"translate(0,436.21500000000003)\" style=\"font-family: 'Open Sans', verdana, arial, sans-serif; font-size: 12px; fill: rgb(68, 68, 68); fill-opacity: 1; white-space: pre;\">−1</text></g><g class=\"y4tick\"><text text-anchor=\"end\" x=\"379\" y=\"4.199999999999999\" transform=\"translate(0,407.755)\" style=\"font-family: 'Open Sans', verdana, arial, sans-serif; font-size: 12px; fill: rgb(68, 68, 68); fill-opacity: 1; white-space: pre;\">−0.5</text></g><g class=\"y4tick\"><text text-anchor=\"end\" x=\"379\" y=\"4.199999999999999\" transform=\"translate(0,379.295)\" style=\"font-family: 'Open Sans', verdana, arial, sans-serif; font-size: 12px; fill: rgb(68, 68, 68); fill-opacity: 1; white-space: pre;\">0</text></g><g class=\"y4tick\"><text text-anchor=\"end\" x=\"379\" y=\"4.199999999999999\" transform=\"translate(0,350.835)\" style=\"font-family: 'Open Sans', verdana, arial, sans-serif; font-size: 12px; fill: rgb(68, 68, 68); fill-opacity: 1; white-space: pre;\">0.5</text></g><g class=\"y4tick\"><text text-anchor=\"end\" x=\"379\" y=\"4.199999999999999\" transform=\"translate(0,322.375)\" style=\"font-family: 'Open Sans', verdana, arial, sans-serif; font-size: 12px; fill: rgb(68, 68, 68); fill-opacity: 1; white-space: pre;\">1</text></g></g><g class=\"overaxes-above\"/></g></g><g class=\"polarlayer\"/><g class=\"ternarylayer\"/><g class=\"geolayer\"/><g class=\"funnelarealayer\"/><g class=\"pielayer\"/><g class=\"treemaplayer\"/><g class=\"sunburstlayer\"/><g class=\"glimages\"/><defs id=\"topdefs-344583\"><g class=\"clips\"/></defs><g class=\"layer-above\"><g class=\"imagelayer\"/><g class=\"shapelayer\"/></g><g class=\"infolayer\"><g class=\"g-gtitle\"/><g class=\"g-xtitle\"/><g class=\"g-x2title\"/><g class=\"g-x3title\"/><g class=\"g-x4title\"/><g class=\"g-ytitle\"/><g class=\"g-y2title\"/><g class=\"g-y3title\"/><g class=\"g-y4title\"/><g class=\"annotation\" data-index=\"0\" style=\"opacity: 1;\"><g class=\"annotation-text-g\" transform=\"rotate(0,185,47)\"><g class=\"cursor-pointer\" transform=\"translate(135, 34)\"><rect class=\"bg\" x=\"0.5\" y=\"0.5\" width=\"100\" height=\"25\" style=\"stroke-width: 1px; stroke: rgb(0, 0, 0); stroke-opacity: 0; fill: rgb(0, 0, 0); fill-opacity: 0;\"/><text class=\"annotation-text\" text-anchor=\"middle\" x=\"50.296875\" y=\"19\" style=\"font-family: 'Open Sans', verdana, arial, sans-serif; font-size: 16px; fill: rgb(68, 68, 68); fill-opacity: 1; white-space: pre;\">A = [2 0; 0 -1]</text></g></g></g><g class=\"annotation\" data-index=\"1\" style=\"opacity: 1;\"><g class=\"annotation-text-g\" transform=\"rotate(0,185,295.625)\"><g class=\"cursor-pointer\" transform=\"translate(112, 283)\"><rect class=\"bg\" x=\"0.5\" y=\"0.5\" width=\"146\" height=\"25\" style=\"stroke-width: 1px; stroke: rgb(0, 0, 0); stroke-opacity: 0; fill: rgb(0, 0, 0); fill-opacity: 0;\"/><text class=\"annotation-text\" text-anchor=\"middle\" x=\"73.28125\" y=\"19\" style=\"font-family: 'Open Sans', verdana, arial, sans-serif; font-size: 16px; fill: rgb(68, 68, 68); fill-opacity: 1; white-space: pre;\">A = rotation by pi/3</text></g></g></g><g class=\"annotation\" data-index=\"2\" style=\"opacity: 1;\"><g class=\"annotation-text-g\" transform=\"rotate(0,515,47)\"><g class=\"cursor-pointer\" transform=\"translate(468, 34)\"><rect class=\"bg\" x=\"0.5\" y=\"0.5\" width=\"94\" height=\"25\" style=\"stroke-width: 1px; stroke: rgb(0, 0, 0); stroke-opacity: 0; fill: rgb(0, 0, 0); fill-opacity: 0;\"/><text class=\"annotation-text\" text-anchor=\"middle\" x=\"47.71875\" y=\"19\" style=\"font-family: 'Open Sans', verdana, arial, sans-serif; font-size: 16px; fill: rgb(68, 68, 68); fill-opacity: 1; white-space: pre;\">A = [1 1; 0 1]</text></g></g></g><g class=\"annotation\" data-index=\"3\" style=\"opacity: 1;\"><g class=\"annotation-text-g\" transform=\"rotate(0,515,295.625)\"><g class=\"cursor-pointer\" transform=\"translate(449, 283)\"><rect class=\"bg\" x=\"0.5\" y=\"0.5\" width=\"131\" height=\"25\" style=\"stroke-width: 1px; stroke: rgb(0, 0, 0); stroke-opacity: 0; fill: rgb(0, 0, 0); fill-opacity: 0;\"/><text class=\"annotation-text\" text-anchor=\"middle\" x=\"65.78125\" y=\"19\" style=\"font-family: 'Open Sans', verdana, arial, sans-serif; font-size: 16px; fill: rgb(68, 68, 68); fill-opacity: 1; white-space: pre;\">Singular matrix A</text></g></g></g></g></svg>"
      ],
      "text/html": [
       "<div\n",
       "    class=\"webio-mountpoint\"\n",
       "    data-webio-mountpoint=\"18303090239251201256\"\n",
       ">\n",
       "    <script>\n",
       "    if (window.require && require.defined && require.defined(\"nbextensions/webio-jupyter-notebook\")) {\n",
       "        console.log(\"Jupyter WebIO extension detected, not mounting.\");\n",
       "    } else if (window.WebIO) {\n",
       "        WebIO.mount(\n",
       "            document.querySelector('[data-webio-mountpoint=\"18303090239251201256\"]'),\n",
       "            {\"props\":{},\"nodeType\":\"Scope\",\"type\":\"node\",\"instanceArgs\":{\"imports\":{\"data\":[{\"name\":\"Plotly\",\"type\":\"js\",\"url\":\"\\/assetserver\\/57533c5d787f8bc76a9e58ed0a1abce5f1b0c14d-plotly-latest.min.js\"},{\"name\":null,\"type\":\"js\",\"url\":\"\\/assetserver\\/58a7932c57029f7dbaa4105104076ff149fc7585-plotly_webio.bundle.js\"}],\"type\":\"async_block\"},\"id\":\"13045227348532044694\",\"handlers\":{\"_toImage\":[\"(function (options){return this.Plotly.toImage(this.plotElem,options).then((function (data){return WebIO.setval({\\\"name\\\":\\\"image\\\",\\\"scope\\\":\\\"13045227348532044694\\\",\\\"id\\\":\\\"5239358878460769339\\\",\\\"type\\\":\\\"observable\\\"},data)}))})\"],\"__get_gd_contents\":[\"(function (prop){prop==\\\"data\\\" ? (WebIO.setval({\\\"name\\\":\\\"__gd_contents\\\",\\\"scope\\\":\\\"13045227348532044694\\\",\\\"id\\\":\\\"13829788488769217028\\\",\\\"type\\\":\\\"observable\\\"},this.plotElem.data)) : undefined; return prop==\\\"layout\\\" ? (WebIO.setval({\\\"name\\\":\\\"__gd_contents\\\",\\\"scope\\\":\\\"13045227348532044694\\\",\\\"id\\\":\\\"13829788488769217028\\\",\\\"type\\\":\\\"observable\\\"},this.plotElem.layout)) : undefined})\"],\"_downloadImage\":[\"(function (options){return this.Plotly.downloadImage(this.plotElem,options)})\"],\"_commands\":[\"(function (args){var fn=args.shift(); var elem=this.plotElem; var Plotly=this.Plotly; args.unshift(elem); return Plotly[fn].apply(this,args)})\"]},\"systemjs_options\":null,\"mount_callbacks\":[\"function () {\\n    var handler = ((function (Plotly,PlotlyWebIO){PlotlyWebIO.init(WebIO); var gd=this.dom.querySelector(\\\"#plot-e04c8e95-3de9-4dac-9508-d9c3c4a6b328\\\"); this.plotElem=gd; this.Plotly=Plotly; (window.Blink!==undefined) ? (gd.style.width=\\\"100%\\\", gd.style.height=\\\"100vh\\\", gd.style.marginLeft=\\\"0%\\\", gd.style.marginTop=\\\"0vh\\\") : undefined; window.onresize=(function (){return Plotly.Plots.resize(gd)}); Plotly.newPlot(gd,[{\\\"showlegend\\\":false,\\\"line\\\":{\\\"color\\\":\\\"gray\\\",\\\"dash\\\":\\\"dash\\\"},\\\"xaxis\\\":\\\"x1\\\",\\\"y\\\":[0.0,0.09956784659581665,0.19814614319939755,0.29475517441090415,0.3884347962746947,0.4782539786213182,0.563320058063622,0.6427876096865393,0.7158668492597184,0.7818314824680298,0.8400259231507714,0.8898718088114685,0.9308737486442041,0.962624246950012,0.984807753012208,0.9972037971811801,0.9996891820008162,0.9922392066001721,0.9749279121818236,0.9479273461671318,0.9115058523116732,0.8660254037844387,0.8119380057158566,0.7497812029677344,0.6801727377709197,0.6038044103254777,0.5214352033794981,0.43388373911755823,0.3420201433256689,0.24675739769029384,0.14904226617617472,0.04984588566069748,-0.049845885660696795,-0.14904226617617447,-0.24675739769029317,-0.34202014332566866,-0.433883739117558,-0.5214352033794979,-0.6038044103254772,-0.6801727377709195,-0.749781202967734,-0.8119380057158565,-0.8660254037844385,-0.9115058523116731,-0.9479273461671316,-0.9749279121818236,-0.992239206600172,-0.9996891820008162,-0.9972037971811802,-0.9848077530122081,-0.9626242469500124,-0.9308737486442045,-0.8898718088114687,-0.8400259231507713,-0.7818314824680299,-0.7158668492597183,-0.6427876096865396,-0.563320058063622,-0.4782539786213186,-0.38843479627469474,-0.2947551744109047,-0.19814614319939772,-0.09956784659581729,-2.4492935982947064e-16],\\\"type\\\":\\\"scatter\\\",\\\"opacity\\\":0.3,\\\"yaxis\\\":\\\"y1\\\",\\\"x\\\":[1.0,0.9950307753654014,0.9801724878485438,0.9555728057861408,0.9214762118704076,0.8782215733702285,0.8262387743159949,0.766044443118978,0.6982368180860729,0.6234898018587336,0.5425462638657594,0.4562106573531631,0.3653410243663952,0.27084046814300516,0.17364817766693041,0.07473009358642439,-0.02493069173807269,-0.12434370464748494,-0.22252093395631434,-0.3184866502516843,-0.4112871031306114,-0.4999999999999998,-0.5837436722347896,-0.6616858375968592,-0.733051871829826,-0.7971325072229222,-0.8532908816321556,-0.900968867902419,-0.9396926207859083,-0.9690772862290778,-0.9888308262251285,-0.9987569212189223,-0.9987569212189223,-0.9888308262251285,-0.9690772862290781,-0.9396926207859084,-0.9009688679024191,-0.8532908816321557,-0.7971325072229226,-0.7330518718298262,-0.6616858375968597,-0.5837436722347898,-0.5000000000000004,-0.4112871031306116,-0.318486650251685,-0.2225209339563146,-0.12434370464748584,-0.024930691738073156,0.07473009358642348,0.17364817766692997,0.2708404681430043,0.36534102436639454,0.45621065735316285,0.5425462638657597,0.6234898018587334,0.698236818086073,0.7660444431189778,0.8262387743159949,0.8782215733702283,0.9214762118704076,0.9555728057861406,0.9801724878485438,0.9950307753654013,1.0]},{\\\"showlegend\\\":false,\\\"xaxis\\\":\\\"x1\\\",\\\"y\\\":[0.0,-0.09956784659581665,-0.19814614319939755,-0.29475517441090415,-0.3884347962746947,-0.4782539786213182,-0.563320058063622,-0.6427876096865393,-0.7158668492597184,-0.7818314824680298,-0.8400259231507714,-0.8898718088114685,-0.9308737486442041,-0.962624246950012,-0.984807753012208,-0.9972037971811801,-0.9996891820008162,-0.9922392066001721,-0.9749279121818236,-0.9479273461671318,-0.9115058523116732,-0.8660254037844387,-0.8119380057158566,-0.7497812029677344,-0.6801727377709197,-0.6038044103254777,-0.5214352033794981,-0.43388373911755823,-0.3420201433256689,-0.24675739769029384,-0.14904226617617472,-0.04984588566069748,0.049845885660696795,0.14904226617617447,0.24675739769029317,0.34202014332566866,0.433883739117558,0.5214352033794979,0.6038044103254772,0.6801727377709195,0.749781202967734,0.8119380057158565,0.8660254037844385,0.9115058523116731,0.9479273461671316,0.9749279121818236,0.992239206600172,0.9996891820008162,0.9972037971811802,0.9848077530122081,0.9626242469500124,0.9308737486442045,0.8898718088114687,0.8400259231507713,0.7818314824680299,0.7158668492597183,0.6427876096865396,0.563320058063622,0.4782539786213186,0.38843479627469474,0.2947551744109047,0.19814614319939772,0.09956784659581729,2.4492935982947064e-16],\\\"type\\\":\\\"scatter\\\",\\\"yaxis\\\":\\\"y1\\\",\\\"x\\\":[2.0,1.9900615507308028,1.9603449756970877,1.9111456115722816,1.8429524237408152,1.756443146740457,1.6524775486319898,1.532088886237956,1.3964736361721457,1.2469796037174672,1.0850925277315189,0.9124213147063261,0.7306820487327904,0.5416809362860103,0.34729635533386083,0.14946018717284879,-0.04986138347614538,-0.24868740929496988,-0.4450418679126287,-0.6369733005033686,-0.8225742062612228,-0.9999999999999996,-1.1674873444695792,-1.3233716751937183,-1.466103743659652,-1.5942650144458443,-1.7065817632643112,-1.801937735804838,-1.8793852415718166,-1.9381545724581557,-1.977661652450257,-1.9975138424378447,-1.9975138424378447,-1.977661652450257,-1.9381545724581561,-1.8793852415718169,-1.8019377358048383,-1.7065817632643114,-1.5942650144458452,-1.4661037436596525,-1.3233716751937195,-1.1674873444695797,-1.0000000000000009,-0.8225742062612232,-0.63697330050337,-0.4450418679126292,-0.24868740929497168,-0.04986138347614631,0.14946018717284695,0.34729635533385994,0.5416809362860086,0.7306820487327891,0.9124213147063257,1.0850925277315193,1.2469796037174667,1.396473636172146,1.5320888862379556,1.6524775486319898,1.7564431467404567,1.8429524237408152,1.9111456115722811,1.9603449756970877,1.9900615507308026,2.0]},{\\\"showlegend\\\":false,\\\"mode\\\":\\\"markers\\\",\\\"x\\\":[2,0],\\\"xaxis\\\":\\\"x1\\\",\\\"y\\\":[0,-1],\\\"type\\\":\\\"scatter\\\",\\\"yaxis\\\":\\\"y1\\\",\\\"marker\\\":{\\\"color\\\":\\\"black\\\"}},{\\\"showlegend\\\":false,\\\"line\\\":{\\\"color\\\":\\\"gray\\\",\\\"dash\\\":\\\"dash\\\"},\\\"xaxis\\\":\\\"x2\\\",\\\"y\\\":[0.0,0.09956784659581665,0.19814614319939755,0.29475517441090415,0.3884347962746947,0.4782539786213182,0.563320058063622,0.6427876096865393,0.7158668492597184,0.7818314824680298,0.8400259231507714,0.8898718088114685,0.9308737486442041,0.962624246950012,0.984807753012208,0.9972037971811801,0.9996891820008162,0.9922392066001721,0.9749279121818236,0.9479273461671318,0.9115058523116732,0.8660254037844387,0.8119380057158566,0.7497812029677344,0.6801727377709197,0.6038044103254777,0.5214352033794981,0.43388373911755823,0.3420201433256689,0.24675739769029384,0.14904226617617472,0.04984588566069748,-0.049845885660696795,-0.14904226617617447,-0.24675739769029317,-0.34202014332566866,-0.433883739117558,-0.5214352033794979,-0.6038044103254772,-0.6801727377709195,-0.749781202967734,-0.8119380057158565,-0.8660254037844385,-0.9115058523116731,-0.9479273461671316,-0.9749279121818236,-0.992239206600172,-0.9996891820008162,-0.9972037971811802,-0.9848077530122081,-0.9626242469500124,-0.9308737486442045,-0.8898718088114687,-0.8400259231507713,-0.7818314824680299,-0.7158668492597183,-0.6427876096865396,-0.563320058063622,-0.4782539786213186,-0.38843479627469474,-0.2947551744109047,-0.19814614319939772,-0.09956784659581729,-2.4492935982947064e-16],\\\"type\\\":\\\"scatter\\\",\\\"opacity\\\":0.3,\\\"yaxis\\\":\\\"y2\\\",\\\"x\\\":[1.0,0.9950307753654014,0.9801724878485438,0.9555728057861408,0.9214762118704076,0.8782215733702285,0.8262387743159949,0.766044443118978,0.6982368180860729,0.6234898018587336,0.5425462638657594,0.4562106573531631,0.3653410243663952,0.27084046814300516,0.17364817766693041,0.07473009358642439,-0.02493069173807269,-0.12434370464748494,-0.22252093395631434,-0.3184866502516843,-0.4112871031306114,-0.4999999999999998,-0.5837436722347896,-0.6616858375968592,-0.733051871829826,-0.7971325072229222,-0.8532908816321556,-0.900968867902419,-0.9396926207859083,-0.9690772862290778,-0.9888308262251285,-0.9987569212189223,-0.9987569212189223,-0.9888308262251285,-0.9690772862290781,-0.9396926207859084,-0.9009688679024191,-0.8532908816321557,-0.7971325072229226,-0.7330518718298262,-0.6616858375968597,-0.5837436722347898,-0.5000000000000004,-0.4112871031306116,-0.318486650251685,-0.2225209339563146,-0.12434370464748584,-0.024930691738073156,0.07473009358642348,0.17364817766692997,0.2708404681430043,0.36534102436639454,0.45621065735316285,0.5425462638657597,0.6234898018587334,0.698236818086073,0.7660444431189778,0.8262387743159949,0.8782215733702283,0.9214762118704076,0.9555728057861406,0.9801724878485438,0.9950307753654013,1.0]},{\\\"showlegend\\\":false,\\\"xaxis\\\":\\\"x2\\\",\\\"y\\\":[0.0,0.09956784659581665,0.19814614319939755,0.29475517441090415,0.3884347962746947,0.4782539786213182,0.563320058063622,0.6427876096865393,0.7158668492597184,0.7818314824680298,0.8400259231507714,0.8898718088114685,0.9308737486442041,0.962624246950012,0.984807753012208,0.9972037971811801,0.9996891820008162,0.9922392066001721,0.9749279121818236,0.9479273461671318,0.9115058523116732,0.8660254037844387,0.8119380057158566,0.7497812029677344,0.6801727377709197,0.6038044103254777,0.5214352033794981,0.43388373911755823,0.3420201433256689,0.24675739769029384,0.14904226617617472,0.04984588566069748,-0.049845885660696795,-0.14904226617617447,-0.24675739769029317,-0.34202014332566866,-0.433883739117558,-0.5214352033794979,-0.6038044103254772,-0.6801727377709195,-0.749781202967734,-0.8119380057158565,-0.8660254037844385,-0.9115058523116731,-0.9479273461671316,-0.9749279121818236,-0.992239206600172,-0.9996891820008162,-0.9972037971811802,-0.9848077530122081,-0.9626242469500124,-0.9308737486442045,-0.8898718088114687,-0.8400259231507713,-0.7818314824680299,-0.7158668492597183,-0.6427876096865396,-0.563320058063622,-0.4782539786213186,-0.38843479627469474,-0.2947551744109047,-0.19814614319939772,-0.09956784659581729,-2.4492935982947064e-16],\\\"type\\\":\\\"scatter\\\",\\\"yaxis\\\":\\\"y2\\\",\\\"x\\\":[1.0,1.094598621961218,1.1783186310479414,1.2503279801970448,1.3099110081451024,1.3564755519915468,1.3895588323796169,1.4088320528055172,1.4141036673457914,1.4053212843267633,1.3825721870165308,1.3460824661646316,1.2962147730105993,1.2334647150930171,1.1584559306791384,1.0719338907676046,0.9747584902627435,0.8678955019526872,0.7524069782255093,0.6294406959154475,0.5002187491810619,0.36602540378443893,0.228194333481067,0.08809536537087526,-0.05287913405890632,-0.19332809689744446,-0.3318556782526575,-0.4670851287848608,-0.5976724774602394,-0.722319888538784,-0.8397885600489539,-0.9489110355582249,-1.0486028068796192,-1.137873092401303,-1.2158346839193712,-1.281712764111577,-1.334852607019977,-1.3747260850116536,-1.4009369175483997,-1.4132246096007457,-1.4114670405645937,-1.3956816779506465,-1.3660254037844388,-1.3227929554422848,-1.2664139964188166,-1.1974488461381383,-1.1165829112476577,-1.0246198737388894,-0.9224737035947568,-0.8111595753452782,-0.691783778807008,-0.5655327242778099,-0.4336611514583058,-0.29747965928501163,-0.15834168060929654,-0.017630031173645366,0.1232568334324382,0.26291871625237295,0.39996759474890975,0.5330414155957128,0.6608176313752359,0.7820263446491461,0.895462928769584,0.9999999999999998]},{\\\"showlegend\\\":false,\\\"mode\\\":\\\"markers\\\",\\\"x\\\":[1,1],\\\"xaxis\\\":\\\"x2\\\",\\\"y\\\":[0,1],\\\"type\\\":\\\"scatter\\\",\\\"yaxis\\\":\\\"y2\\\",\\\"marker\\\":{\\\"color\\\":\\\"black\\\"}},{\\\"showlegend\\\":false,\\\"line\\\":{\\\"color\\\":\\\"gray\\\",\\\"dash\\\":\\\"dash\\\"},\\\"xaxis\\\":\\\"x3\\\",\\\"y\\\":[0.0,0.09956784659581665,0.19814614319939755,0.29475517441090415,0.3884347962746947,0.4782539786213182,0.563320058063622,0.6427876096865393,0.7158668492597184,0.7818314824680298,0.8400259231507714,0.8898718088114685,0.9308737486442041,0.962624246950012,0.984807753012208,0.9972037971811801,0.9996891820008162,0.9922392066001721,0.9749279121818236,0.9479273461671318,0.9115058523116732,0.8660254037844387,0.8119380057158566,0.7497812029677344,0.6801727377709197,0.6038044103254777,0.5214352033794981,0.43388373911755823,0.3420201433256689,0.24675739769029384,0.14904226617617472,0.04984588566069748,-0.049845885660696795,-0.14904226617617447,-0.24675739769029317,-0.34202014332566866,-0.433883739117558,-0.5214352033794979,-0.6038044103254772,-0.6801727377709195,-0.749781202967734,-0.8119380057158565,-0.8660254037844385,-0.9115058523116731,-0.9479273461671316,-0.9749279121818236,-0.992239206600172,-0.9996891820008162,-0.9972037971811802,-0.9848077530122081,-0.9626242469500124,-0.9308737486442045,-0.8898718088114687,-0.8400259231507713,-0.7818314824680299,-0.7158668492597183,-0.6427876096865396,-0.563320058063622,-0.4782539786213186,-0.38843479627469474,-0.2947551744109047,-0.19814614319939772,-0.09956784659581729,-2.4492935982947064e-16],\\\"type\\\":\\\"scatter\\\",\\\"opacity\\\":0.3,\\\"yaxis\\\":\\\"y3\\\",\\\"x\\\":[1.0,0.9950307753654014,0.9801724878485438,0.9555728057861408,0.9214762118704076,0.8782215733702285,0.8262387743159949,0.766044443118978,0.6982368180860729,0.6234898018587336,0.5425462638657594,0.4562106573531631,0.3653410243663952,0.27084046814300516,0.17364817766693041,0.07473009358642439,-0.02493069173807269,-0.12434370464748494,-0.22252093395631434,-0.3184866502516843,-0.4112871031306114,-0.4999999999999998,-0.5837436722347896,-0.6616858375968592,-0.733051871829826,-0.7971325072229222,-0.8532908816321556,-0.900968867902419,-0.9396926207859083,-0.9690772862290778,-0.9888308262251285,-0.9987569212189223,-0.9987569212189223,-0.9888308262251285,-0.9690772862290781,-0.9396926207859084,-0.9009688679024191,-0.8532908816321557,-0.7971325072229226,-0.7330518718298262,-0.6616858375968597,-0.5837436722347898,-0.5000000000000004,-0.4112871031306116,-0.318486650251685,-0.2225209339563146,-0.12434370464748584,-0.024930691738073156,0.07473009358642348,0.17364817766692997,0.2708404681430043,0.36534102436639454,0.45621065735316285,0.5425462638657597,0.6234898018587334,0.698236818086073,0.7660444431189778,0.8262387743159949,0.8782215733702283,0.9214762118704076,0.9555728057861406,0.9801724878485438,0.9950307753654013,1.0]},{\\\"showlegend\\\":false,\\\"xaxis\\\":\\\"x3\\\",\\\"y\\\":[0.5,0.5837436722347898,0.6616858375968594,0.7330518718298263,0.7971325072229224,0.8532908816321556,0.900968867902419,0.9396926207859083,0.969077286229078,0.9888308262251285,0.9987569212189223,0.9987569212189223,0.9888308262251285,0.9690772862290778,0.9396926207859083,0.9009688679024191,0.8532908816321557,0.7971325072229225,0.7330518718298263,0.6616858375968595,0.58374367223479,0.5000000000000001,0.41128710313061173,0.3184866502516847,0.22252093395631478,0.12434370464748559,0.02493069173807291,-0.07473009358642413,-0.1736481776669302,-0.2708404681430049,-0.36534102436639476,-0.4562106573531627,-0.5425462638657591,-0.6234898018587335,-0.6982368180860725,-0.766044443118978,-0.8262387743159948,-0.8782215733702284,-0.9214762118704075,-0.9555728057861407,-0.9801724878485438,-0.9950307753654014,-1.0,-0.9950307753654014,-0.9801724878485439,-0.9555728057861408,-0.9214762118704078,-0.8782215733702285,-0.8262387743159952,-0.7660444431189782,-0.6982368180860734,-0.6234898018587339,-0.5425462638657594,-0.4562106573531627,-0.36534102436639515,-0.27084046814300494,-0.17364817766693066,-0.07473009358642414,0.02493069173807248,0.12434370464748516,0.22252093395631392,0.3184866502516843,0.41128710313061095,0.4999999999999998],\\\"type\\\":\\\"scatter\\\",\\\"yaxis\\\":\\\"y3\\\",\\\"x\\\":[0.8660254037844386,0.8119380057158564,0.7497812029677341,0.6801727377709195,0.6038044103254774,0.521435203379498,0.4338837391175582,0.34202014332566877,0.2467573976902936,0.1490422661761745,0.0498458856606972,-0.04984588566069709,-0.14904226617617422,-0.2467573976902936,-0.34202014332566866,-0.433883739117558,-0.5214352033794979,-0.6038044103254772,-0.6801727377709194,-0.7497812029677341,-0.8119380057158564,-0.8660254037844385,-0.911505852311673,-0.9479273461671316,-0.9749279121818234,-0.992239206600172,-0.9996891820008162,-0.9972037971811801,-0.984807753012208,-0.962624246950012,-0.9308737486442044,-0.8898718088114688,-0.8400259231507716,-0.7818314824680297,-0.7158668492597187,-0.6427876096865394,-0.5633200580636221,-0.4782539786213183,-0.3884347962746949,-0.29475517441090404,-0.19814614319939794,-0.09956784659581663,-4.440892098500626e-16,0.09956784659581658,0.19814614319939705,0.29475517441090404,0.38843479627469407,0.47825397862131797,0.5633200580636214,0.642787609686539,0.7158668492597178,0.7818314824680295,0.8400259231507714,0.8898718088114688,0.9308737486442041,0.9626242469500121,0.9848077530122079,0.9972037971811801,0.9996891820008162,0.9922392066001721,0.9749279121818236,0.9479273461671318,0.9115058523116732,0.8660254037844387]},{\\\"showlegend\\\":false,\\\"mode\\\":\\\"markers\\\",\\\"x\\\":[0.8660254037844386,-0.5],\\\"xaxis\\\":\\\"x3\\\",\\\"y\\\":[0.5,0.8660254037844386],\\\"type\\\":\\\"scatter\\\",\\\"yaxis\\\":\\\"y3\\\",\\\"marker\\\":{\\\"color\\\":\\\"black\\\"}},{\\\"showlegend\\\":false,\\\"line\\\":{\\\"color\\\":\\\"gray\\\",\\\"dash\\\":\\\"dash\\\"},\\\"xaxis\\\":\\\"x4\\\",\\\"y\\\":[0.0,0.09956784659581665,0.19814614319939755,0.29475517441090415,0.3884347962746947,0.4782539786213182,0.563320058063622,0.6427876096865393,0.7158668492597184,0.7818314824680298,0.8400259231507714,0.8898718088114685,0.9308737486442041,0.962624246950012,0.984807753012208,0.9972037971811801,0.9996891820008162,0.9922392066001721,0.9749279121818236,0.9479273461671318,0.9115058523116732,0.8660254037844387,0.8119380057158566,0.7497812029677344,0.6801727377709197,0.6038044103254777,0.5214352033794981,0.43388373911755823,0.3420201433256689,0.24675739769029384,0.14904226617617472,0.04984588566069748,-0.049845885660696795,-0.14904226617617447,-0.24675739769029317,-0.34202014332566866,-0.433883739117558,-0.5214352033794979,-0.6038044103254772,-0.6801727377709195,-0.749781202967734,-0.8119380057158565,-0.8660254037844385,-0.9115058523116731,-0.9479273461671316,-0.9749279121818236,-0.992239206600172,-0.9996891820008162,-0.9972037971811802,-0.9848077530122081,-0.9626242469500124,-0.9308737486442045,-0.8898718088114687,-0.8400259231507713,-0.7818314824680299,-0.7158668492597183,-0.6427876096865396,-0.563320058063622,-0.4782539786213186,-0.38843479627469474,-0.2947551744109047,-0.19814614319939772,-0.09956784659581729,-2.4492935982947064e-16],\\\"type\\\":\\\"scatter\\\",\\\"opacity\\\":0.3,\\\"yaxis\\\":\\\"y4\\\",\\\"x\\\":[1.0,0.9950307753654014,0.9801724878485438,0.9555728057861408,0.9214762118704076,0.8782215733702285,0.8262387743159949,0.766044443118978,0.6982368180860729,0.6234898018587336,0.5425462638657594,0.4562106573531631,0.3653410243663952,0.27084046814300516,0.17364817766693041,0.07473009358642439,-0.02493069173807269,-0.12434370464748494,-0.22252093395631434,-0.3184866502516843,-0.4112871031306114,-0.4999999999999998,-0.5837436722347896,-0.6616858375968592,-0.733051871829826,-0.7971325072229222,-0.8532908816321556,-0.900968867902419,-0.9396926207859083,-0.9690772862290778,-0.9888308262251285,-0.9987569212189223,-0.9987569212189223,-0.9888308262251285,-0.9690772862290781,-0.9396926207859084,-0.9009688679024191,-0.8532908816321557,-0.7971325072229226,-0.7330518718298262,-0.6616858375968597,-0.5837436722347898,-0.5000000000000004,-0.4112871031306116,-0.318486650251685,-0.2225209339563146,-0.12434370464748584,-0.024930691738073156,0.07473009358642348,0.17364817766692997,0.2708404681430043,0.36534102436639454,0.45621065735316285,0.5425462638657597,0.6234898018587334,0.698236818086073,0.7660444431189778,0.8262387743159949,0.8782215733702283,0.9214762118704076,0.9555728057861406,0.9801724878485438,0.9950307753654013,1.0]},{\\\"showlegend\\\":false,\\\"xaxis\\\":\\\"x4\\\",\\\"y\\\":[1.0,1.0448146986633098,1.0792455594482426,1.102950392991593,1.115693610007755,1.1173485626808877,1.1078988033478059,1.0874382479622478,1.056170242715932,1.0144055430927486,0.9625592254411451,0.9011465617588974,0.8307778986884973,0.7521525916180112,0.6660520541730344,0.5733319921770145,0.4749138992623354,0.3717758986526011,0.2649430221345975,0.15547702283188158,0.044465823025225226,-0.06698729810778042,-0.17777466937686132,-0.28679523611299196,-0.39296550294436616,-0.4952303020601833,-0.5925732799424066,-0.6840269983436399,-0.7686825491230739,-0.8456985873839309,-0.9143096931370411,-0.9738339783885736,-1.0236798640492708,-1.0633519593132157,-1.0924559850742246,-1.1107026924487426,-1.117910737461198,-1.1140084833219046,-1.0990347123856612,-1.073138240715286,-1.0365764390807266,-0.9897126750927181,-0.9330127018922196,-0.8670400292864482,-0.7924503233352508,-0.7099848900472264,-0.6204633079475719,-0.5247752827384813,-0.42387180500416666,-0.3187556988391741,-0.2104716553320019,-0.1000958499557077,0.011274752947428524,0.12253330229037401,0.23257406062471842,0.3403033934562138,0.444650638275708,0.5445787452841839,0.639094584059569,0.7272588137330602,0.8081952185806882,0.881099416248845,0.9452468520674927,0.9999999999999999],\\\"type\\\":\\\"scatter\\\",\\\"yaxis\\\":\\\"y4\\\",\\\"x\\\":[1.0,1.0448146986633098,1.0792455594482426,1.102950392991593,1.115693610007755,1.1173485626808877,1.1078988033478059,1.0874382479622478,1.056170242715932,1.0144055430927486,0.9625592254411451,0.9011465617588974,0.8307778986884973,0.7521525916180112,0.6660520541730344,0.5733319921770145,0.4749138992623354,0.3717758986526011,0.2649430221345975,0.15547702283188158,0.044465823025225226,-0.06698729810778042,-0.17777466937686132,-0.28679523611299196,-0.39296550294436616,-0.4952303020601833,-0.5925732799424066,-0.6840269983436399,-0.7686825491230739,-0.8456985873839309,-0.9143096931370411,-0.9738339783885736,-1.0236798640492708,-1.0633519593132157,-1.0924559850742246,-1.1107026924487426,-1.117910737461198,-1.1140084833219046,-1.0990347123856612,-1.073138240715286,-1.0365764390807266,-0.9897126750927181,-0.9330127018922196,-0.8670400292864482,-0.7924503233352508,-0.7099848900472264,-0.6204633079475719,-0.5247752827384813,-0.42387180500416666,-0.3187556988391741,-0.2104716553320019,-0.1000958499557077,0.011274752947428524,0.12253330229037401,0.23257406062471842,0.3403033934562138,0.444650638275708,0.5445787452841839,0.639094584059569,0.7272588137330602,0.8081952185806882,0.881099416248845,0.9452468520674927,0.9999999999999999]},{\\\"showlegend\\\":false,\\\"mode\\\":\\\"markers\\\",\\\"x\\\":[1.0,0.5],\\\"xaxis\\\":\\\"x4\\\",\\\"y\\\":[1.0,0.5],\\\"type\\\":\\\"scatter\\\",\\\"yaxis\\\":\\\"y4\\\",\\\"marker\\\":{\\\"color\\\":\\\"black\\\"}}],{\\\"xaxis1\\\":{\\\"domain\\\":[0.0,0.45],\\\"anchor\\\":\\\"y1\\\"},\\\"yaxis1\\\":{\\\"scaleanchor\\\":\\\"x\\\",\\\"domain\\\":[0.6375,1.0],\\\"anchor\\\":\\\"x1\\\"},\\\"yaxis3\\\":{\\\"scaleanchor\\\":\\\"x3\\\",\\\"domain\\\":[5.551115123125783e-17,0.36250000000000004],\\\"anchor\\\":\\\"x3\\\"},\\\"xaxis2\\\":{\\\"domain\\\":[0.55,1.0],\\\"anchor\\\":\\\"y2\\\"},\\\"margin\\\":{\\\"l\\\":50,\\\"b\\\":50,\\\"r\\\":50,\\\"t\\\":60},\\\"xaxis3\\\":{\\\"domain\\\":[0.0,0.45],\\\"anchor\\\":\\\"y3\\\"},\\\"yaxis2\\\":{\\\"scaleanchor\\\":\\\"x2\\\",\\\"domain\\\":[0.6375,1.0],\\\"anchor\\\":\\\"x2\\\"},\\\"xaxis4\\\":{\\\"domain\\\":[0.55,1.0],\\\"anchor\\\":\\\"y4\\\"},\\\"yaxis4\\\":{\\\"scaleanchor\\\":\\\"x4\\\",\\\"domain\\\":[5.551115123125783e-17,0.36250000000000004],\\\"anchor\\\":\\\"x4\\\"},\\\"annotations\\\":[{\\\"yanchor\\\":\\\"bottom\\\",\\\"xanchor\\\":\\\"center\\\",\\\"y\\\":1.0,\\\"font\\\":{\\\"size\\\":16},\\\"showarrow\\\":false,\\\"yref\\\":\\\"paper\\\",\\\"text\\\":\\\"A = [2 0; 0 -1]\\\",\\\"xref\\\":\\\"paper\\\",\\\"x\\\":0.225},{\\\"yanchor\\\":\\\"bottom\\\",\\\"xanchor\\\":\\\"center\\\",\\\"y\\\":0.36250000000000004,\\\"font\\\":{\\\"size\\\":16},\\\"showarrow\\\":false,\\\"yref\\\":\\\"paper\\\",\\\"text\\\":\\\"A = rotation by pi\\/3\\\",\\\"xref\\\":\\\"paper\\\",\\\"x\\\":0.225},{\\\"yanchor\\\":\\\"bottom\\\",\\\"xanchor\\\":\\\"center\\\",\\\"y\\\":1.0,\\\"font\\\":{\\\"size\\\":16},\\\"showarrow\\\":false,\\\"yref\\\":\\\"paper\\\",\\\"text\\\":\\\"A = [1 1; 0 1]\\\",\\\"xref\\\":\\\"paper\\\",\\\"x\\\":0.775},{\\\"yanchor\\\":\\\"bottom\\\",\\\"xanchor\\\":\\\"center\\\",\\\"y\\\":0.36250000000000004,\\\"font\\\":{\\\"size\\\":16},\\\"showarrow\\\":false,\\\"yref\\\":\\\"paper\\\",\\\"text\\\":\\\"Singular matrix A\\\",\\\"xref\\\":\\\"paper\\\",\\\"x\\\":0.775}]},{\\\"showLink\\\":false}); gd.on(\\\"plotly_hover\\\",(function (data){var filtered_data=WebIO.PlotlyCommands.filterEventData(gd,data,\\\"hover\\\"); return !(filtered_data.isnil) ? (WebIO.setval({\\\"name\\\":\\\"hover\\\",\\\"scope\\\":\\\"13045227348532044694\\\",\\\"id\\\":\\\"3142551630214246573\\\",\\\"type\\\":\\\"observable\\\"},filtered_data.out)) : undefined})); gd.on(\\\"plotly_unhover\\\",(function (){return WebIO.setval({\\\"name\\\":\\\"hover\\\",\\\"scope\\\":\\\"13045227348532044694\\\",\\\"id\\\":\\\"3142551630214246573\\\",\\\"type\\\":\\\"observable\\\"},{})})); gd.on(\\\"plotly_selected\\\",(function (data){var filtered_data=WebIO.PlotlyCommands.filterEventData(gd,data,\\\"selected\\\"); return !(filtered_data.isnil) ? (WebIO.setval({\\\"name\\\":\\\"selected\\\",\\\"scope\\\":\\\"13045227348532044694\\\",\\\"id\\\":\\\"14584550380606254442\\\",\\\"type\\\":\\\"observable\\\"},filtered_data.out)) : undefined})); gd.on(\\\"plotly_deselect\\\",(function (){return WebIO.setval({\\\"name\\\":\\\"selected\\\",\\\"scope\\\":\\\"13045227348532044694\\\",\\\"id\\\":\\\"14584550380606254442\\\",\\\"type\\\":\\\"observable\\\"},{})})); gd.on(\\\"plotly_relayout\\\",(function (data){var filtered_data=WebIO.PlotlyCommands.filterEventData(gd,data,\\\"relayout\\\"); return !(filtered_data.isnil) ? (WebIO.setval({\\\"name\\\":\\\"relayout\\\",\\\"scope\\\":\\\"13045227348532044694\\\",\\\"id\\\":\\\"2783028825460838805\\\",\\\"type\\\":\\\"observable\\\"},filtered_data.out)) : undefined})); return gd.on(\\\"plotly_click\\\",(function (data){var filtered_data=WebIO.PlotlyCommands.filterEventData(gd,data,\\\"click\\\"); return !(filtered_data.isnil) ? (WebIO.setval({\\\"name\\\":\\\"click\\\",\\\"scope\\\":\\\"13045227348532044694\\\",\\\"id\\\":\\\"4332152321439122262\\\",\\\"type\\\":\\\"observable\\\"},filtered_data.out)) : undefined}))}));\\n    (WebIO.importBlock({\\\"data\\\":[{\\\"name\\\":\\\"Plotly\\\",\\\"type\\\":\\\"js\\\",\\\"url\\\":\\\"\\/assetserver\\/57533c5d787f8bc76a9e58ed0a1abce5f1b0c14d-plotly-latest.min.js\\\"},{\\\"name\\\":null,\\\"type\\\":\\\"js\\\",\\\"url\\\":\\\"\\/assetserver\\/58a7932c57029f7dbaa4105104076ff149fc7585-plotly_webio.bundle.js\\\"}],\\\"type\\\":\\\"async_block\\\"})).then((imports) => handler.apply(this, imports));\\n}\\n\"],\"observables\":{\"_toImage\":{\"sync\":false,\"id\":\"11956365618575353551\",\"value\":{}},\"hover\":{\"sync\":false,\"id\":\"3142551630214246573\",\"value\":{}},\"selected\":{\"sync\":false,\"id\":\"14584550380606254442\",\"value\":{}},\"__gd_contents\":{\"sync\":false,\"id\":\"13829788488769217028\",\"value\":{}},\"click\":{\"sync\":false,\"id\":\"4332152321439122262\",\"value\":{}},\"image\":{\"sync\":true,\"id\":\"5239358878460769339\",\"value\":\"\"},\"__get_gd_contents\":{\"sync\":false,\"id\":\"7679910288907210530\",\"value\":\"\"},\"_downloadImage\":{\"sync\":false,\"id\":\"8335687995720082041\",\"value\":{}},\"relayout\":{\"sync\":false,\"id\":\"2783028825460838805\",\"value\":{}},\"_commands\":{\"sync\":false,\"id\":\"12686493525758739552\",\"value\":[]}}},\"children\":[{\"props\":{\"id\":\"plot-e04c8e95-3de9-4dac-9508-d9c3c4a6b328\"},\"nodeType\":\"DOM\",\"type\":\"node\",\"instanceArgs\":{\"namespace\":\"html\",\"tag\":\"div\"},\"children\":[]}]},\n",
       "            window,\n",
       "        );\n",
       "    } else {\n",
       "        document\n",
       "            .querySelector('[data-webio-mountpoint=\"18303090239251201256\"]')\n",
       "            .innerHTML = (\n",
       "                '<div style=\"padding: 1em; background-color: #f8d6da; border: 1px solid #f5c6cb\">' +\n",
       "                '<p><strong>WebIO not detected.</strong></p>' +\n",
       "                '<p>Please read ' +\n",
       "                '<a href=\"https://juliagizmos.github.io/WebIO.jl/latest/troubleshooting/not-detected/\" target=\"_blank\">the troubleshooting guide</a> ' +\n",
       "                'for more information on how to resolve this issue.</p>' +\n",
       "                '<p><a href=\"https://juliagizmos.github.io/WebIO.jl/latest/troubleshooting/not-detected/\" target=\"_blank\">https://juliagizmos.github.io/WebIO.jl/latest/troubleshooting/not-detected/</a></p>' +\n",
       "                '</div>'\n",
       "            );\n",
       "    }\n",
       "    </script>\n",
       "</div>\n"
      ],
      "text/plain": [
       "data: [\n",
       "  \"scatter with fields line, opacity, showlegend, type, x, xaxis, y, and yaxis\",\n",
       "  \"scatter with fields showlegend, type, x, xaxis, y, and yaxis\",\n",
       "  \"scatter with fields marker, mode, showlegend, type, x, xaxis, y, and yaxis\",\n",
       "  \"scatter with fields line, opacity, showlegend, type, x, xaxis, y, and yaxis\",\n",
       "  \"scatter with fields showlegend, type, x, xaxis, y, and yaxis\",\n",
       "  \"scatter with fields marker, mode, showlegend, type, x, xaxis, y, and yaxis\",\n",
       "  \"scatter with fields line, opacity, showlegend, type, x, xaxis, y, and yaxis\",\n",
       "  \"scatter with fields showlegend, type, x, xaxis, y, and yaxis\",\n",
       "  \"scatter with fields marker, mode, showlegend, type, x, xaxis, y, and yaxis\",\n",
       "  \"scatter with fields line, opacity, showlegend, type, x, xaxis, y, and yaxis\",\n",
       "  \"scatter with fields showlegend, type, x, xaxis, y, and yaxis\",\n",
       "  \"scatter with fields marker, mode, showlegend, type, x, xaxis, y, and yaxis\"\n",
       "]\n",
       "\n",
       "layout: \"layout with fields annotations, margin, xaxis1, xaxis2, xaxis3, xaxis4, yaxis1, yaxis2, yaxis3, and yaxis4\"\n",
       "\n"
      ]
     },
     "execution_count": 9,
     "metadata": {
      "application/vnd.webio.node+json": {
       "kernelId": "28ec333a-283d-4da8-8e5f-39150d162437"
      }
     },
     "output_type": "execute_result"
    }
   ],
   "source": [
    "t = LinRange(0,2π,64)\n",
    "x = [cos.(t)'; sin.(t)']\n",
    "\n",
    "function plotA(A,x)\n",
    "    Ax = A*x\n",
    "    tr = [\n",
    "      scatter(x=x[1,:], y=x[2,:],\n",
    "        line_color=\"gray\", line_dash=\"dash\",\n",
    "        showlegend=false,opacity=0.3),\n",
    "      scatter(x=Ax[1,:], y=Ax[2,:],\n",
    "        showlegend=false),\n",
    "      scatter(x=A[1,:],y=A[2,:],mode=\"markers\",\n",
    "        marker_color=\"black\", showlegend=false)\n",
    "     ]\n",
    "    an = [attr(x=A[1,1],y=A[2,1],text=\"a1\"),\n",
    "          attr(x=A[1,2],y=A[2,2],text=\"a2\")]\n",
    "    la = Layout(annotations=an) \n",
    "    return plot(tr,la)\n",
    "end\n",
    "\n",
    "A = [2 0; 0 -1]\n",
    "p1 = plotA(A,x)\n",
    "p1.plot.layout[\"yaxis_scaleanchor\"]=\"x\"\n",
    "p1.plot.layout[\"title\"]=\"A = [2 0; 0 -1]\"\n",
    "\n",
    "A = [1 1; 0 1]\n",
    "p2 = plotA(A,x)\n",
    "p2.plot.layout[\"yaxis_scaleanchor\"]=\"x2\"\n",
    "p2.plot.layout[\"title\"]=\"A = [1 1; 0 1]\"\n",
    "\n",
    "A = [sqrt(3)/2 -1/2; 1/2 sqrt(3)/2]\n",
    "p3 = plotA(A,x)\n",
    "p3.plot.layout[\"yaxis_scaleanchor\"]=\"x3\"\n",
    "p3.plot.layout[\"title\"]=\"A = rotation by pi/3\"\n",
    "\n",
    "A = [1 1/2; 1 1/2]\n",
    "p4 = plotA(A,x)\n",
    "p4.plot.layout[\"yaxis_scaleanchor\"]=\"x4\"\n",
    "p4.plot.layout[\"title\"]=\"Singular matrix A\"\n",
    "P = [p1 p2; p3 p4]"
   ]
  },
  {
   "cell_type": "code",
   "execution_count": 10,
   "metadata": {},
   "outputs": [
    {
     "data": {
      "text/plain": [
       "\"fig_la4.pdf\""
      ]
     },
     "execution_count": 10,
     "metadata": {},
     "output_type": "execute_result"
    }
   ],
   "source": [
    "if output\n",
    "    PlotlyJS.savefig(P,\"fig_la4.pdf\")\n",
    "end"
   ]
  },
  {
   "cell_type": "code",
   "execution_count": 11,
   "metadata": {},
   "outputs": [
    {
     "data": {
      "text/plain": [
       "quiver"
      ]
     },
     "execution_count": 11,
     "metadata": {},
     "output_type": "execute_result"
    }
   ],
   "source": [
    "\"\"\"\n",
    "    quiver(x,u)\n",
    "\n",
    "Returns a trace, to be plotted using PlotlyJS, corresponding to a quiver plot.\n",
    "\n",
    "# Arguments\n",
    "* `x::Matrix{Float64}`: matrix of size 2 x n with the 2D coordinates of the points\n",
    "* `u::Matrix{Float64}`: matrix of size 2 x n with the 2D arrows to be plotted at x\n",
    "\"\"\"\n",
    "function quiver(x::Matrix{Float64},u::Matrix{Float64})\n",
    "    n = size(x,2)\n",
    "    s = 8\n",
    "    X = Matrix{Float64}(undef,2,s*n)\n",
    "    for i=1:n\n",
    "        k = s*(i-1)\n",
    "        \n",
    "        r = x[:,i]\n",
    "        V = u[:,i]\n",
    "        \n",
    "        dist = norm(V)\n",
    "        arrow_h = 0.1dist     # height of arrowhead\n",
    "        arrow_w = 0.5arrow_h  # halfwidth of arrowhead\n",
    "        U1 = V ./ dist        # vector of arrowhead height\n",
    "        U2 = [-U1[2], U1[1]]  # vector of arrowhead halfwidth\n",
    "        U1 *= arrow_h\n",
    "        U2 *= arrow_w\n",
    "        \n",
    "        X[:,k+1] = r        \n",
    "        r += V\n",
    "        X[:,k+2:k+s] = [r-U1 [NaN, NaN] r r-U1+U2 r-U1-U2 r [NaN, NaN]]\n",
    "    end\n",
    "    trace = scatter(fill=\"toself\")\n",
    "    trace[:x] = X[1,:]; trace[:y] = X[2,:]\n",
    "    return trace\n",
    "end"
   ]
  },
  {
   "cell_type": "code",
   "execution_count": 12,
   "metadata": {},
   "outputs": [
    {
     "name": "stdout",
     "output_type": "stream",
     "text": [
      "search: \u001b[0m\u001b[1mq\u001b[22m\u001b[0m\u001b[1mu\u001b[22m\u001b[0m\u001b[1mi\u001b[22m\u001b[0m\u001b[1mv\u001b[22m\u001b[0m\u001b[1me\u001b[22m\u001b[0m\u001b[1mr\u001b[22m\n",
      "\n"
     ]
    },
    {
     "data": {
      "text/latex": [
       "\\begin{verbatim}\n",
       "quiver(x,u)\n",
       "\\end{verbatim}\n",
       "Returns a trace, to be plotted using PlotlyJS, corresponding to a quiver plot.\n",
       "\n",
       "\\section{Arguments}\n",
       "\\begin{itemize}\n",
       "\\item \\texttt{x::Matrix\\{Float64\\}}: matrix of size 2 x n with the 2D coordinates of the points\n",
       "\n",
       "\n",
       "\\item \\texttt{u::Matrix\\{Float64\\}}: matrix of size 2 x n with the 2D arrows to be plotted at x\n",
       "\n",
       "\\end{itemize}\n"
      ],
      "text/markdown": [
       "```\n",
       "quiver(x,u)\n",
       "```\n",
       "\n",
       "Returns a trace, to be plotted using PlotlyJS, corresponding to a quiver plot.\n",
       "\n",
       "# Arguments\n",
       "\n",
       "  * `x::Matrix{Float64}`: matrix of size 2 x n with the 2D coordinates of the points\n",
       "  * `u::Matrix{Float64}`: matrix of size 2 x n with the 2D arrows to be plotted at x\n"
      ],
      "text/plain": [
       "\u001b[36m  quiver(x,u)\u001b[39m\n",
       "\n",
       "  Returns a trace, to be plotted using PlotlyJS, corresponding to a quiver\n",
       "  plot.\n",
       "\n",
       "\u001b[1m  Arguments\u001b[22m\n",
       "\u001b[1m  ≡≡≡≡≡≡≡≡≡≡≡\u001b[22m\n",
       "\n",
       "    •    \u001b[36mx::Matrix{Float64}\u001b[39m: matrix of size 2 x n with the 2D coordinates\n",
       "        of the points\n",
       "\n",
       "    •    \u001b[36mu::Matrix{Float64}\u001b[39m: matrix of size 2 x n with the 2D arrows to be\n",
       "        plotted at x"
      ]
     },
     "execution_count": 12,
     "metadata": {},
     "output_type": "execute_result"
    }
   ],
   "source": [
    "?quiver"
   ]
  },
  {
   "cell_type": "code",
   "execution_count": 13,
   "metadata": {},
   "outputs": [
    {
     "data": {
      "application/vnd.plotly.v1+json": {
       "data": [
        {
         "fill": "toself",
         "marker": {
          "color": "#E24A33",
          "line": {
           "color": "#348ABD",
           "width": 0.5
          }
         },
         "type": "scatter",
         "x": [
          -0.6,
          -1.41,
          null,
          -1.5,
          -1.4249999999999998,
          -1.395,
          -1.5,
          null,
          -0.42857142857142866,
          -1.0842857142857143,
          null,
          -1.1571428571428573,
          -1.0907142857142857,
          -1.0778571428571428,
          -1.1571428571428573,
          null,
          -0.2571428571428571,
          -0.7585714285714286,
          null,
          -0.8142857142857143,
          -0.7564285714285715,
          -0.7607142857142857,
          -0.8142857142857143,
          null,
          -0.08571428571428569,
          -0.4328571428571428,
          null,
          -0.47142857142857136,
          -0.42214285714285704,
          -0.4435714285714285,
          -0.47142857142857136,
          null,
          0.08571428571428563,
          -0.10714285714285729,
          null,
          -0.12857142857142873,
          -0.08785714285714301,
          -0.12642857142857158,
          -0.12857142857142873,
          null,
          0.2571428571428571,
          0.21857142857142853,
          null,
          0.21428571428571425,
          0.24642857142857139,
          0.19071428571428567,
          0.21428571428571425,
          null,
          0.4285714285714285,
          0.544285714285714,
          null,
          0.5571428571428569,
          0.5807142857142855,
          0.5078571428571426,
          0.5571428571428569,
          null,
          0.6,
          0.8699999999999999,
          null,
          0.8999999999999999,
          0.9149999999999999,
          0.8249999999999998,
          0.8999999999999999,
          null,
          -0.6,
          -1.3328571428571427,
          null,
          -1.4142857142857141,
          -1.352142857142857,
          -1.3135714285714284,
          -1.4142857142857141,
          null,
          -0.42857142857142866,
          -1.0071428571428573,
          null,
          -1.0714285714285716,
          -1.017857142857143,
          -0.9964285714285717,
          -1.0714285714285716,
          null,
          -0.2571428571428571,
          -0.6814285714285714,
          null,
          -0.7285714285714285,
          -0.6835714285714285,
          -0.6792857142857143,
          -0.7285714285714285,
          null,
          -0.08571428571428569,
          -0.3557142857142857,
          null,
          -0.38571428571428573,
          -0.34928571428571425,
          -0.36214285714285716,
          -0.38571428571428573,
          null,
          0.08571428571428563,
          -0.030000000000000193,
          null,
          -0.042857142857143066,
          -0.015000000000000195,
          -0.04500000000000019,
          -0.042857142857143066,
          null,
          0.2571428571428571,
          0.29571428571428565,
          null,
          0.29999999999999993,
          0.31928571428571423,
          0.2721428571428571,
          0.29999999999999993,
          null,
          0.4285714285714285,
          0.6214285714285712,
          null,
          0.6428571428571427,
          0.6535714285714284,
          0.5892857142857141,
          0.6428571428571427,
          null,
          0.6,
          0.9471428571428571,
          null,
          0.9857142857142857,
          0.9878571428571428,
          0.9064285714285714,
          0.9857142857142857,
          null,
          -0.6,
          -1.2557142857142856,
          null,
          -1.3285714285714285,
          -1.2792857142857141,
          -1.232142857142857,
          -1.3285714285714285,
          null,
          -0.42857142857142866,
          -0.93,
          null,
          -0.9857142857142858,
          -0.9450000000000001,
          -0.915,
          -0.9857142857142858,
          null,
          -0.2571428571428571,
          -0.6042857142857142,
          null,
          -0.6428571428571428,
          -0.6107142857142857,
          -0.5978571428571428,
          -0.6428571428571428,
          null,
          -0.08571428571428569,
          -0.2785714285714285,
          null,
          -0.29999999999999993,
          -0.27642857142857136,
          -0.2807142857142857,
          -0.29999999999999993,
          null,
          0.08571428571428563,
          0.047142857142857,
          null,
          0.042857142857142705,
          0.05785714285714271,
          0.03642857142857129,
          0.042857142857142705,
          null,
          0.2571428571428571,
          0.37285714285714283,
          null,
          0.3857142857142857,
          0.3921428571428571,
          0.35357142857142854,
          0.3857142857142857,
          null,
          0.4285714285714285,
          0.6985714285714284,
          null,
          0.7285714285714284,
          0.7264285714285712,
          0.6707142857142856,
          0.7285714285714284,
          null,
          0.6,
          1.0242857142857142,
          null,
          1.0714285714285714,
          1.0607142857142857,
          0.9878571428571428,
          1.0714285714285714,
          null,
          -0.6,
          -1.1785714285714286,
          null,
          -1.2428571428571429,
          -1.2064285714285714,
          -1.1507142857142858,
          -1.2428571428571429,
          null,
          -0.42857142857142866,
          -0.852857142857143,
          null,
          -0.9000000000000001,
          -0.8721428571428572,
          -0.8335714285714287,
          -0.9000000000000001,
          null,
          -0.2571428571428571,
          -0.527142857142857,
          null,
          -0.557142857142857,
          -0.5378571428571427,
          -0.5164285714285713,
          -0.557142857142857,
          null,
          -0.08571428571428569,
          -0.20142857142857137,
          null,
          -0.21428571428571422,
          -0.20357142857142851,
          -0.19928571428571423,
          -0.21428571428571422,
          null,
          0.08571428571428563,
          0.12428571428571414,
          null,
          0.12857142857142842,
          0.13071428571428556,
          0.11785714285714272,
          0.12857142857142842,
          null,
          0.2571428571428571,
          0.45,
          null,
          0.4714285714285714,
          0.465,
          0.435,
          0.4714285714285714,
          null,
          0.4285714285714285,
          0.7757142857142856,
          null,
          0.8142857142857142,
          0.7992857142857142,
          0.752142857142857,
          0.8142857142857142,
          null,
          0.6,
          1.1014285714285714,
          null,
          1.157142857142857,
          1.1335714285714285,
          1.0692857142857144,
          1.157142857142857,
          null,
          -0.6,
          -1.1014285714285714,
          null,
          -1.157142857142857,
          -1.1335714285714285,
          -1.0692857142857144,
          -1.157142857142857,
          null,
          -0.42857142857142866,
          -0.7757142857142859,
          null,
          -0.8142857142857145,
          -0.7992857142857145,
          -0.7521428571428573,
          -0.8142857142857145,
          null,
          -0.2571428571428571,
          -0.45,
          null,
          -0.4714285714285714,
          -0.465,
          -0.435,
          -0.4714285714285714,
          null,
          -0.08571428571428569,
          -0.12428571428571428,
          null,
          -0.12857142857142856,
          -0.1307142857142857,
          -0.11785714285714285,
          -0.12857142857142856,
          null,
          0.08571428571428563,
          0.20142857142857123,
          null,
          0.21428571428571408,
          0.20357142857142838,
          0.1992857142857141,
          0.21428571428571408,
          null,
          0.2571428571428571,
          0.527142857142857,
          null,
          0.557142857142857,
          0.5378571428571427,
          0.5164285714285713,
          0.557142857142857,
          null,
          0.4285714285714285,
          0.8528571428571426,
          null,
          0.8999999999999998,
          0.8721428571428569,
          0.8335714285714284,
          0.8999999999999998,
          null,
          0.6,
          1.1785714285714286,
          null,
          1.2428571428571429,
          1.2064285714285714,
          1.1507142857142858,
          1.2428571428571429,
          null,
          -0.6,
          -1.0242857142857142,
          null,
          -1.0714285714285714,
          -1.0607142857142857,
          -0.9878571428571428,
          -1.0714285714285714,
          null,
          -0.42857142857142866,
          -0.6985714285714287,
          null,
          -0.7285714285714288,
          -0.7264285714285716,
          -0.6707142857142858,
          -0.7285714285714288,
          null,
          -0.2571428571428571,
          -0.37285714285714283,
          null,
          -0.3857142857142857,
          -0.3921428571428571,
          -0.35357142857142854,
          -0.3857142857142857,
          null,
          -0.08571428571428569,
          -0.047142857142857104,
          null,
          -0.042857142857142816,
          -0.057857142857142815,
          -0.036428571428571394,
          -0.042857142857142816,
          null,
          0.08571428571428563,
          0.2785714285714284,
          null,
          0.2999999999999998,
          0.27642857142857125,
          0.2807142857142856,
          0.2999999999999998,
          null,
          0.2571428571428571,
          0.6042857142857142,
          null,
          0.6428571428571428,
          0.6107142857142857,
          0.5978571428571428,
          0.6428571428571428,
          null,
          0.4285714285714285,
          0.9299999999999998,
          null,
          0.9857142857142855,
          0.9449999999999998,
          0.9149999999999998,
          0.9857142857142855,
          null,
          0.6,
          1.2557142857142856,
          null,
          1.3285714285714285,
          1.2792857142857141,
          1.232142857142857,
          1.3285714285714285,
          null,
          -0.6,
          -0.9471428571428572,
          null,
          -0.9857142857142858,
          -0.9878571428571429,
          -0.9064285714285715,
          -0.9857142857142858,
          null,
          -0.42857142857142866,
          -0.6214285714285716,
          null,
          -0.642857142857143,
          -0.6535714285714287,
          -0.5892857142857144,
          -0.642857142857143,
          null,
          -0.2571428571428571,
          -0.2957142857142857,
          null,
          -0.3,
          -0.3192857142857143,
          -0.27214285714285713,
          -0.3,
          null,
          -0.08571428571428569,
          0.030000000000000013,
          null,
          0.04285714285714287,
          0.015000000000000015,
          0.04500000000000001,
          0.04285714285714287,
          null,
          0.08571428571428563,
          0.35571428571428554,
          null,
          0.3857142857142855,
          0.3492857142857141,
          0.362142857142857,
          0.3857142857142855,
          null,
          0.2571428571428571,
          0.6814285714285713,
          null,
          0.7285714285714284,
          0.6835714285714284,
          0.6792857142857142,
          0.7285714285714284,
          null,
          0.4285714285714285,
          1.007142857142857,
          null,
          1.0714285714285712,
          1.0178571428571426,
          0.9964285714285712,
          1.0714285714285712,
          null,
          0.6,
          1.3328571428571427,
          null,
          1.4142857142857141,
          1.352142857142857,
          1.3135714285714284,
          1.4142857142857141,
          null,
          -0.6,
          -0.8699999999999999,
          null,
          -0.8999999999999999,
          -0.9149999999999999,
          -0.8249999999999998,
          -0.8999999999999999,
          null,
          -0.42857142857142866,
          -0.5442857142857145,
          null,
          -0.5571428571428574,
          -0.580714285714286,
          -0.507857142857143,
          -0.5571428571428574,
          null,
          -0.2571428571428571,
          -0.21857142857142853,
          null,
          -0.21428571428571425,
          -0.24642857142857139,
          -0.19071428571428567,
          -0.21428571428571425,
          null,
          -0.08571428571428569,
          0.10714285714285718,
          null,
          0.12857142857142861,
          0.0878571428571429,
          0.12642857142857147,
          0.12857142857142861,
          null,
          0.08571428571428563,
          0.43285714285714266,
          null,
          0.47142857142857125,
          0.42214285714285693,
          0.4435714285714284,
          0.47142857142857125,
          null,
          0.2571428571428571,
          0.7585714285714286,
          null,
          0.8142857142857143,
          0.7564285714285715,
          0.7607142857142857,
          0.8142857142857143,
          null,
          0.4285714285714285,
          1.084285714285714,
          null,
          1.157142857142857,
          1.0907142857142855,
          1.0778571428571426,
          1.157142857142857,
          null,
          0.6,
          1.41,
          null,
          1.5,
          1.4249999999999998,
          1.395,
          1.5,
          null
         ],
         "y": [
          -0.6,
          -0.33,
          null,
          -0.3,
          -0.375,
          -0.28500000000000003,
          -0.3,
          null,
          -0.6,
          -0.48428571428571415,
          null,
          -0.4714285714285713,
          -0.5207142857142856,
          -0.44785714285714273,
          -0.4714285714285713,
          null,
          -0.6,
          -0.6385714285714285,
          null,
          -0.6428571428571428,
          -0.6664285714285714,
          -0.6107142857142855,
          -0.6428571428571428,
          null,
          -0.6,
          -0.7928571428571428,
          null,
          -0.8142857142857143,
          -0.812142857142857,
          -0.7735714285714286,
          -0.8142857142857143,
          null,
          -0.6,
          -0.947142857142857,
          null,
          -0.9857142857142855,
          -0.9578571428571426,
          -0.9364285714285713,
          -0.9857142857142855,
          null,
          -0.6,
          -1.1014285714285714,
          null,
          -1.157142857142857,
          -1.1035714285714286,
          -1.0992857142857142,
          -1.157142857142857,
          null,
          -0.6,
          -1.2557142857142853,
          null,
          -1.3285714285714283,
          -1.2492857142857139,
          -1.2621428571428568,
          -1.3285714285714283,
          null,
          -0.6,
          -1.41,
          null,
          -1.5,
          -1.395,
          -1.4249999999999998,
          -1.5,
          null,
          -0.42857142857142866,
          -0.08142857142857154,
          null,
          -0.04285714285714298,
          -0.12214285714285726,
          -0.04071428571428583,
          -0.04285714285714298,
          null,
          -0.42857142857142866,
          -0.23571428571428577,
          null,
          -0.21428571428571433,
          -0.2678571428571429,
          -0.20357142857142863,
          -0.21428571428571433,
          null,
          -0.42857142857142866,
          -0.3900000000000002,
          null,
          -0.3857142857142859,
          -0.41357142857142876,
          -0.3664285714285716,
          -0.3857142857142859,
          null,
          -0.42857142857142866,
          -0.5442857142857144,
          null,
          -0.5571428571428573,
          -0.5592857142857144,
          -0.5292857142857144,
          -0.5571428571428573,
          null,
          -0.42857142857142866,
          -0.6985714285714286,
          null,
          -0.7285714285714286,
          -0.7050000000000001,
          -0.6921428571428572,
          -0.7285714285714286,
          null,
          -0.42857142857142866,
          -0.852857142857143,
          null,
          -0.9000000000000001,
          -0.8507142857142859,
          -0.8550000000000001,
          -0.9000000000000001,
          null,
          -0.42857142857142866,
          -1.0071428571428571,
          null,
          -1.0714285714285714,
          -0.9964285714285714,
          -1.0178571428571428,
          -1.0714285714285714,
          null,
          -0.42857142857142866,
          -1.1614285714285715,
          null,
          -1.2428571428571429,
          -1.1421428571428571,
          -1.1807142857142858,
          -1.2428571428571429,
          null,
          -0.2571428571428571,
          0.16714285714285715,
          null,
          0.2142857142857143,
          0.13071428571428573,
          0.20357142857142857,
          0.2142857142857143,
          null,
          -0.2571428571428571,
          0.012857142857142973,
          null,
          0.04285714285714298,
          -0.014999999999999885,
          0.04071428571428583,
          0.04285714285714298,
          null,
          -0.2571428571428571,
          -0.1414285714285714,
          null,
          -0.12857142857142856,
          -0.1607142857142857,
          -0.12214285714285712,
          -0.12857142857142856,
          null,
          -0.2571428571428571,
          -0.2957142857142857,
          null,
          -0.3,
          -0.30642857142857144,
          -0.285,
          -0.3,
          null,
          -0.2571428571428571,
          -0.4499999999999999,
          null,
          -0.4714285714285713,
          -0.45214285714285707,
          -0.44785714285714273,
          -0.4714285714285713,
          null,
          -0.2571428571428571,
          -0.6042857142857142,
          null,
          -0.6428571428571428,
          -0.5978571428571428,
          -0.6107142857142857,
          -0.6428571428571428,
          null,
          -0.2571428571428571,
          -0.7585714285714285,
          null,
          -0.8142857142857142,
          -0.7435714285714284,
          -0.7735714285714285,
          -0.8142857142857142,
          null,
          -0.2571428571428571,
          -0.9128571428571428,
          null,
          -0.9857142857142857,
          -0.8892857142857142,
          -0.9364285714285714,
          -0.9857142857142857,
          null,
          -0.08571428571428569,
          0.41571428571428576,
          null,
          0.4714285714285715,
          0.3835714285714286,
          0.4478571428571429,
          0.4714285714285715,
          null,
          -0.08571428571428569,
          0.2614285714285715,
          null,
          0.3000000000000001,
          0.23785714285714293,
          0.2850000000000001,
          0.3000000000000001,
          null,
          -0.08571428571428569,
          0.10714285714285715,
          null,
          0.1285714285714286,
          0.09214285714285715,
          0.12214285714285715,
          0.1285714285714286,
          null,
          -0.08571428571428569,
          -0.047142857142857125,
          null,
          -0.042857142857142844,
          -0.053571428571428555,
          -0.040714285714285696,
          -0.042857142857142844,
          null,
          -0.08571428571428569,
          -0.20142857142857132,
          null,
          -0.21428571428571416,
          -0.19928571428571418,
          -0.20357142857142846,
          -0.21428571428571416,
          null,
          -0.08571428571428569,
          -0.35571428571428565,
          null,
          -0.3857142857142856,
          -0.3449999999999999,
          -0.3664285714285714,
          -0.3857142857142856,
          null,
          -0.08571428571428569,
          -0.5099999999999998,
          null,
          -0.5571428571428569,
          -0.4907142857142855,
          -0.529285714285714,
          -0.5571428571428569,
          null,
          -0.08571428571428569,
          -0.6642857142857141,
          null,
          -0.7285714285714284,
          -0.6364285714285713,
          -0.692142857142857,
          -0.7285714285714284,
          null,
          0.08571428571428563,
          0.6642857142857141,
          null,
          0.7285714285714284,
          0.6364285714285713,
          0.692142857142857,
          0.7285714285714284,
          null,
          0.08571428571428563,
          0.51,
          null,
          0.5571428571428572,
          0.4907142857142857,
          0.5292857142857142,
          0.5571428571428572,
          null,
          0.08571428571428563,
          0.3557142857142856,
          null,
          0.38571428571428557,
          0.34499999999999986,
          0.3664285714285713,
          0.38571428571428557,
          null,
          0.08571428571428563,
          0.2014285714285713,
          null,
          0.21428571428571414,
          0.19928571428571415,
          0.20357142857142843,
          0.21428571428571414,
          null,
          0.08571428571428563,
          0.0471428571428571,
          null,
          0.042857142857142816,
          0.05357142857142852,
          0.040714285714285675,
          0.042857142857142816,
          null,
          0.08571428571428563,
          -0.10714285714285723,
          null,
          -0.12857142857142867,
          -0.09214285714285723,
          -0.12214285714285723,
          -0.12857142857142867,
          null,
          0.08571428571428563,
          -0.26142857142857145,
          null,
          -0.30000000000000004,
          -0.23785714285714288,
          -0.28500000000000003,
          -0.30000000000000004,
          null,
          0.08571428571428563,
          -0.4157142857142858,
          null,
          -0.47142857142857153,
          -0.3835714285714287,
          -0.44785714285714295,
          -0.47142857142857153,
          null,
          0.2571428571428571,
          0.9128571428571428,
          null,
          0.9857142857142857,
          0.8892857142857142,
          0.9364285714285714,
          0.9857142857142857,
          null,
          0.2571428571428571,
          0.7585714285714286,
          null,
          0.8142857142857143,
          0.7435714285714285,
          0.7735714285714286,
          0.8142857142857143,
          null,
          0.2571428571428571,
          0.6042857142857142,
          null,
          0.6428571428571428,
          0.5978571428571428,
          0.6107142857142857,
          0.6428571428571428,
          null,
          0.2571428571428571,
          0.44999999999999996,
          null,
          0.47142857142857136,
          0.4521428571428571,
          0.4478571428571428,
          0.47142857142857136,
          null,
          0.2571428571428571,
          0.29571428571428576,
          null,
          0.30000000000000004,
          0.3064285714285715,
          0.28500000000000003,
          0.30000000000000004,
          null,
          0.2571428571428571,
          0.1414285714285714,
          null,
          0.12857142857142856,
          0.1607142857142857,
          0.12214285714285712,
          0.12857142857142856,
          null,
          0.2571428571428571,
          -0.012857142857142817,
          null,
          -0.042857142857142816,
          0.015000000000000041,
          -0.040714285714285675,
          -0.042857142857142816,
          null,
          0.2571428571428571,
          -0.16714285714285715,
          null,
          -0.2142857142857143,
          -0.13071428571428573,
          -0.20357142857142857,
          -0.2142857142857143,
          null,
          0.4285714285714285,
          1.1614285714285715,
          null,
          1.2428571428571429,
          1.1421428571428571,
          1.1807142857142858,
          1.2428571428571429,
          null,
          0.4285714285714285,
          1.0071428571428571,
          null,
          1.0714285714285714,
          0.9964285714285714,
          1.0178571428571428,
          1.0714285714285714,
          null,
          0.4285714285714285,
          0.8528571428571428,
          null,
          0.8999999999999999,
          0.8507142857142856,
          0.8549999999999999,
          0.8999999999999999,
          null,
          0.4285714285714285,
          0.6985714285714284,
          null,
          0.7285714285714284,
          0.7049999999999998,
          0.692142857142857,
          0.7285714285714284,
          null,
          0.4285714285714285,
          0.5442857142857143,
          null,
          0.5571428571428572,
          0.5592857142857143,
          0.5292857142857142,
          0.5571428571428572,
          null,
          0.4285714285714285,
          0.3899999999999999,
          null,
          0.3857142857142856,
          0.4135714285714285,
          0.3664285714285713,
          0.3857142857142856,
          null,
          0.4285714285714285,
          0.23571428571428568,
          null,
          0.21428571428571425,
          0.2678571428571428,
          0.20357142857142854,
          0.21428571428571425,
          null,
          0.4285714285714285,
          0.08142857142857134,
          null,
          0.04285714285714276,
          0.12214285714285705,
          0.04071428571428562,
          0.04285714285714276,
          null,
          0.6,
          1.41,
          null,
          1.5,
          1.395,
          1.4249999999999998,
          1.5,
          null,
          0.6,
          1.2557142857142858,
          null,
          1.3285714285714287,
          1.2492857142857143,
          1.2621428571428572,
          1.3285714285714287,
          null,
          0.6,
          1.1014285714285714,
          null,
          1.157142857142857,
          1.1035714285714286,
          1.0992857142857142,
          1.157142857142857,
          null,
          0.6,
          0.9471428571428571,
          null,
          0.9857142857142857,
          0.9578571428571427,
          0.9364285714285714,
          0.9857142857142857,
          null,
          0.6,
          0.7928571428571428,
          null,
          0.8142857142857143,
          0.812142857142857,
          0.7735714285714286,
          0.8142857142857143,
          null,
          0.6,
          0.6385714285714285,
          null,
          0.6428571428571428,
          0.6664285714285714,
          0.6107142857142855,
          0.6428571428571428,
          null,
          0.6,
          0.4842857142857143,
          null,
          0.4714285714285715,
          0.5207142857142857,
          0.4478571428571429,
          0.4714285714285715,
          null,
          0.6,
          0.33,
          null,
          0.3,
          0.375,
          0.28500000000000003,
          0.3,
          null
         ]
        },
        {
         "line": {
          "color": "black"
         },
         "marker": {
          "color": "#348ABD",
          "line": {
           "color": "#348ABD",
           "width": 0.5
          }
         },
         "mode": "lines",
         "type": "scatter",
         "x": [
          -0.5,
          0.5,
          0.5,
          -0.5,
          -0.5
         ],
         "y": [
          -0.5,
          -0.5,
          0.5,
          0.5,
          -0.5
         ]
        }
       ],
       "frames": [],
       "layout": {
        "font": {
         "size": 18
        },
        "margin": {
         "b": 50,
         "l": 50,
         "r": 50,
         "t": 60
        },
        "showlegend": false,
        "title": "A = [1, 0.5; -1, 0.5]",
        "xaxis": {
         "linecolor": "black",
         "mirror": "ticks",
         "showgrid": true,
         "tickcolor": "#555555",
         "tickfont": {
          "size": 18
         },
         "ticks": "inside",
         "titlefont": {
          "color": "#555555",
          "size": 18
         }
        },
        "yaxis": {
         "linecolor": "black",
         "mirror": "ticks",
         "scaleanchor": "x",
         "showgrid": true,
         "tickcolor": "#555555",
         "tickfont": {
          "size": 18
         },
         "ticks": "inside",
         "titlefont": {
          "color": "#555555",
          "size": 18
         }
        }
       }
      },
      "application/vnd.webio.node+json": {
       "children": [
        {
         "children": [],
         "instanceArgs": {
          "namespace": "html",
          "tag": "div"
         },
         "nodeType": "DOM",
         "props": {
          "id": "plot-09f5ee0b-1125-4d59-9117-13f88dbf9852"
         },
         "type": "node"
        }
       ],
       "instanceArgs": {
        "handlers": {
         "__get_gd_contents": [
          "(function (prop){prop==\"data\" ? (WebIO.setval({\"name\":\"__gd_contents\",\"scope\":\"4285294689102093001\",\"id\":\"17409714735273597456\",\"type\":\"observable\"},this.plotElem.data)) : undefined; return prop==\"layout\" ? (WebIO.setval({\"name\":\"__gd_contents\",\"scope\":\"4285294689102093001\",\"id\":\"17409714735273597456\",\"type\":\"observable\"},this.plotElem.layout)) : undefined})"
         ],
         "_commands": [
          "(function (args){var fn=args.shift(); var elem=this.plotElem; var Plotly=this.Plotly; args.unshift(elem); return Plotly[fn].apply(this,args)})"
         ],
         "_downloadImage": [
          "(function (options){return this.Plotly.downloadImage(this.plotElem,options)})"
         ],
         "_toImage": [
          "(function (options){return this.Plotly.toImage(this.plotElem,options).then((function (data){return WebIO.setval({\"name\":\"image\",\"scope\":\"4285294689102093001\",\"id\":\"13891207121648051196\",\"type\":\"observable\"},data)}))})"
         ]
        },
        "id": "4285294689102093001",
        "imports": {
         "data": [
          {
           "name": "Plotly",
           "type": "js",
           "url": "/assetserver/57533c5d787f8bc76a9e58ed0a1abce5f1b0c14d-plotly-latest.min.js"
          },
          {
           "name": null,
           "type": "js",
           "url": "/assetserver/58a7932c57029f7dbaa4105104076ff149fc7585-plotly_webio.bundle.js"
          }
         ],
         "type": "async_block"
        },
        "mount_callbacks": [
         "function () {\n    var handler = ((function (Plotly,PlotlyWebIO){PlotlyWebIO.init(WebIO); var gd=this.dom.querySelector(\"#plot-09f5ee0b-1125-4d59-9117-13f88dbf9852\"); this.plotElem=gd; this.Plotly=Plotly; (window.Blink!==undefined) ? (gd.style.width=\"100%\", gd.style.height=\"100vh\", gd.style.marginLeft=\"0%\", gd.style.marginTop=\"0vh\") : undefined; window.onresize=(function (){return Plotly.Plots.resize(gd)}); Plotly.newPlot(gd,[{\"marker\":{\"color\":\"#E24A33\",\"line\":{\"color\":\"#348ABD\",\"width\":0.5}},\"y\":[-0.6,-0.33,null,-0.3,-0.375,-0.28500000000000003,-0.3,null,-0.6,-0.48428571428571415,null,-0.4714285714285713,-0.5207142857142856,-0.44785714285714273,-0.4714285714285713,null,-0.6,-0.6385714285714285,null,-0.6428571428571428,-0.6664285714285714,-0.6107142857142855,-0.6428571428571428,null,-0.6,-0.7928571428571428,null,-0.8142857142857143,-0.812142857142857,-0.7735714285714286,-0.8142857142857143,null,-0.6,-0.947142857142857,null,-0.9857142857142855,-0.9578571428571426,-0.9364285714285713,-0.9857142857142855,null,-0.6,-1.1014285714285714,null,-1.157142857142857,-1.1035714285714286,-1.0992857142857142,-1.157142857142857,null,-0.6,-1.2557142857142853,null,-1.3285714285714283,-1.2492857142857139,-1.2621428571428568,-1.3285714285714283,null,-0.6,-1.41,null,-1.5,-1.395,-1.4249999999999998,-1.5,null,-0.42857142857142866,-0.08142857142857154,null,-0.04285714285714298,-0.12214285714285726,-0.04071428571428583,-0.04285714285714298,null,-0.42857142857142866,-0.23571428571428577,null,-0.21428571428571433,-0.2678571428571429,-0.20357142857142863,-0.21428571428571433,null,-0.42857142857142866,-0.3900000000000002,null,-0.3857142857142859,-0.41357142857142876,-0.3664285714285716,-0.3857142857142859,null,-0.42857142857142866,-0.5442857142857144,null,-0.5571428571428573,-0.5592857142857144,-0.5292857142857144,-0.5571428571428573,null,-0.42857142857142866,-0.6985714285714286,null,-0.7285714285714286,-0.7050000000000001,-0.6921428571428572,-0.7285714285714286,null,-0.42857142857142866,-0.852857142857143,null,-0.9000000000000001,-0.8507142857142859,-0.8550000000000001,-0.9000000000000001,null,-0.42857142857142866,-1.0071428571428571,null,-1.0714285714285714,-0.9964285714285714,-1.0178571428571428,-1.0714285714285714,null,-0.42857142857142866,-1.1614285714285715,null,-1.2428571428571429,-1.1421428571428571,-1.1807142857142858,-1.2428571428571429,null,-0.2571428571428571,0.16714285714285715,null,0.2142857142857143,0.13071428571428573,0.20357142857142857,0.2142857142857143,null,-0.2571428571428571,0.012857142857142973,null,0.04285714285714298,-0.014999999999999885,0.04071428571428583,0.04285714285714298,null,-0.2571428571428571,-0.1414285714285714,null,-0.12857142857142856,-0.1607142857142857,-0.12214285714285712,-0.12857142857142856,null,-0.2571428571428571,-0.2957142857142857,null,-0.3,-0.30642857142857144,-0.285,-0.3,null,-0.2571428571428571,-0.4499999999999999,null,-0.4714285714285713,-0.45214285714285707,-0.44785714285714273,-0.4714285714285713,null,-0.2571428571428571,-0.6042857142857142,null,-0.6428571428571428,-0.5978571428571428,-0.6107142857142857,-0.6428571428571428,null,-0.2571428571428571,-0.7585714285714285,null,-0.8142857142857142,-0.7435714285714284,-0.7735714285714285,-0.8142857142857142,null,-0.2571428571428571,-0.9128571428571428,null,-0.9857142857142857,-0.8892857142857142,-0.9364285714285714,-0.9857142857142857,null,-0.08571428571428569,0.41571428571428576,null,0.4714285714285715,0.3835714285714286,0.4478571428571429,0.4714285714285715,null,-0.08571428571428569,0.2614285714285715,null,0.3000000000000001,0.23785714285714293,0.2850000000000001,0.3000000000000001,null,-0.08571428571428569,0.10714285714285715,null,0.1285714285714286,0.09214285714285715,0.12214285714285715,0.1285714285714286,null,-0.08571428571428569,-0.047142857142857125,null,-0.042857142857142844,-0.053571428571428555,-0.040714285714285696,-0.042857142857142844,null,-0.08571428571428569,-0.20142857142857132,null,-0.21428571428571416,-0.19928571428571418,-0.20357142857142846,-0.21428571428571416,null,-0.08571428571428569,-0.35571428571428565,null,-0.3857142857142856,-0.3449999999999999,-0.3664285714285714,-0.3857142857142856,null,-0.08571428571428569,-0.5099999999999998,null,-0.5571428571428569,-0.4907142857142855,-0.529285714285714,-0.5571428571428569,null,-0.08571428571428569,-0.6642857142857141,null,-0.7285714285714284,-0.6364285714285713,-0.692142857142857,-0.7285714285714284,null,0.08571428571428563,0.6642857142857141,null,0.7285714285714284,0.6364285714285713,0.692142857142857,0.7285714285714284,null,0.08571428571428563,0.51,null,0.5571428571428572,0.4907142857142857,0.5292857142857142,0.5571428571428572,null,0.08571428571428563,0.3557142857142856,null,0.38571428571428557,0.34499999999999986,0.3664285714285713,0.38571428571428557,null,0.08571428571428563,0.2014285714285713,null,0.21428571428571414,0.19928571428571415,0.20357142857142843,0.21428571428571414,null,0.08571428571428563,0.0471428571428571,null,0.042857142857142816,0.05357142857142852,0.040714285714285675,0.042857142857142816,null,0.08571428571428563,-0.10714285714285723,null,-0.12857142857142867,-0.09214285714285723,-0.12214285714285723,-0.12857142857142867,null,0.08571428571428563,-0.26142857142857145,null,-0.30000000000000004,-0.23785714285714288,-0.28500000000000003,-0.30000000000000004,null,0.08571428571428563,-0.4157142857142858,null,-0.47142857142857153,-0.3835714285714287,-0.44785714285714295,-0.47142857142857153,null,0.2571428571428571,0.9128571428571428,null,0.9857142857142857,0.8892857142857142,0.9364285714285714,0.9857142857142857,null,0.2571428571428571,0.7585714285714286,null,0.8142857142857143,0.7435714285714285,0.7735714285714286,0.8142857142857143,null,0.2571428571428571,0.6042857142857142,null,0.6428571428571428,0.5978571428571428,0.6107142857142857,0.6428571428571428,null,0.2571428571428571,0.44999999999999996,null,0.47142857142857136,0.4521428571428571,0.4478571428571428,0.47142857142857136,null,0.2571428571428571,0.29571428571428576,null,0.30000000000000004,0.3064285714285715,0.28500000000000003,0.30000000000000004,null,0.2571428571428571,0.1414285714285714,null,0.12857142857142856,0.1607142857142857,0.12214285714285712,0.12857142857142856,null,0.2571428571428571,-0.012857142857142817,null,-0.042857142857142816,0.015000000000000041,-0.040714285714285675,-0.042857142857142816,null,0.2571428571428571,-0.16714285714285715,null,-0.2142857142857143,-0.13071428571428573,-0.20357142857142857,-0.2142857142857143,null,0.4285714285714285,1.1614285714285715,null,1.2428571428571429,1.1421428571428571,1.1807142857142858,1.2428571428571429,null,0.4285714285714285,1.0071428571428571,null,1.0714285714285714,0.9964285714285714,1.0178571428571428,1.0714285714285714,null,0.4285714285714285,0.8528571428571428,null,0.8999999999999999,0.8507142857142856,0.8549999999999999,0.8999999999999999,null,0.4285714285714285,0.6985714285714284,null,0.7285714285714284,0.7049999999999998,0.692142857142857,0.7285714285714284,null,0.4285714285714285,0.5442857142857143,null,0.5571428571428572,0.5592857142857143,0.5292857142857142,0.5571428571428572,null,0.4285714285714285,0.3899999999999999,null,0.3857142857142856,0.4135714285714285,0.3664285714285713,0.3857142857142856,null,0.4285714285714285,0.23571428571428568,null,0.21428571428571425,0.2678571428571428,0.20357142857142854,0.21428571428571425,null,0.4285714285714285,0.08142857142857134,null,0.04285714285714276,0.12214285714285705,0.04071428571428562,0.04285714285714276,null,0.6,1.41,null,1.5,1.395,1.4249999999999998,1.5,null,0.6,1.2557142857142858,null,1.3285714285714287,1.2492857142857143,1.2621428571428572,1.3285714285714287,null,0.6,1.1014285714285714,null,1.157142857142857,1.1035714285714286,1.0992857142857142,1.157142857142857,null,0.6,0.9471428571428571,null,0.9857142857142857,0.9578571428571427,0.9364285714285714,0.9857142857142857,null,0.6,0.7928571428571428,null,0.8142857142857143,0.812142857142857,0.7735714285714286,0.8142857142857143,null,0.6,0.6385714285714285,null,0.6428571428571428,0.6664285714285714,0.6107142857142855,0.6428571428571428,null,0.6,0.4842857142857143,null,0.4714285714285715,0.5207142857142857,0.4478571428571429,0.4714285714285715,null,0.6,0.33,null,0.3,0.375,0.28500000000000003,0.3,null],\"type\":\"scatter\",\"fill\":\"toself\",\"x\":[-0.6,-1.41,null,-1.5,-1.4249999999999998,-1.395,-1.5,null,-0.42857142857142866,-1.0842857142857143,null,-1.1571428571428573,-1.0907142857142857,-1.0778571428571428,-1.1571428571428573,null,-0.2571428571428571,-0.7585714285714286,null,-0.8142857142857143,-0.7564285714285715,-0.7607142857142857,-0.8142857142857143,null,-0.08571428571428569,-0.4328571428571428,null,-0.47142857142857136,-0.42214285714285704,-0.4435714285714285,-0.47142857142857136,null,0.08571428571428563,-0.10714285714285729,null,-0.12857142857142873,-0.08785714285714301,-0.12642857142857158,-0.12857142857142873,null,0.2571428571428571,0.21857142857142853,null,0.21428571428571425,0.24642857142857139,0.19071428571428567,0.21428571428571425,null,0.4285714285714285,0.544285714285714,null,0.5571428571428569,0.5807142857142855,0.5078571428571426,0.5571428571428569,null,0.6,0.8699999999999999,null,0.8999999999999999,0.9149999999999999,0.8249999999999998,0.8999999999999999,null,-0.6,-1.3328571428571427,null,-1.4142857142857141,-1.352142857142857,-1.3135714285714284,-1.4142857142857141,null,-0.42857142857142866,-1.0071428571428573,null,-1.0714285714285716,-1.017857142857143,-0.9964285714285717,-1.0714285714285716,null,-0.2571428571428571,-0.6814285714285714,null,-0.7285714285714285,-0.6835714285714285,-0.6792857142857143,-0.7285714285714285,null,-0.08571428571428569,-0.3557142857142857,null,-0.38571428571428573,-0.34928571428571425,-0.36214285714285716,-0.38571428571428573,null,0.08571428571428563,-0.030000000000000193,null,-0.042857142857143066,-0.015000000000000195,-0.04500000000000019,-0.042857142857143066,null,0.2571428571428571,0.29571428571428565,null,0.29999999999999993,0.31928571428571423,0.2721428571428571,0.29999999999999993,null,0.4285714285714285,0.6214285714285712,null,0.6428571428571427,0.6535714285714284,0.5892857142857141,0.6428571428571427,null,0.6,0.9471428571428571,null,0.9857142857142857,0.9878571428571428,0.9064285714285714,0.9857142857142857,null,-0.6,-1.2557142857142856,null,-1.3285714285714285,-1.2792857142857141,-1.232142857142857,-1.3285714285714285,null,-0.42857142857142866,-0.93,null,-0.9857142857142858,-0.9450000000000001,-0.915,-0.9857142857142858,null,-0.2571428571428571,-0.6042857142857142,null,-0.6428571428571428,-0.6107142857142857,-0.5978571428571428,-0.6428571428571428,null,-0.08571428571428569,-0.2785714285714285,null,-0.29999999999999993,-0.27642857142857136,-0.2807142857142857,-0.29999999999999993,null,0.08571428571428563,0.047142857142857,null,0.042857142857142705,0.05785714285714271,0.03642857142857129,0.042857142857142705,null,0.2571428571428571,0.37285714285714283,null,0.3857142857142857,0.3921428571428571,0.35357142857142854,0.3857142857142857,null,0.4285714285714285,0.6985714285714284,null,0.7285714285714284,0.7264285714285712,0.6707142857142856,0.7285714285714284,null,0.6,1.0242857142857142,null,1.0714285714285714,1.0607142857142857,0.9878571428571428,1.0714285714285714,null,-0.6,-1.1785714285714286,null,-1.2428571428571429,-1.2064285714285714,-1.1507142857142858,-1.2428571428571429,null,-0.42857142857142866,-0.852857142857143,null,-0.9000000000000001,-0.8721428571428572,-0.8335714285714287,-0.9000000000000001,null,-0.2571428571428571,-0.527142857142857,null,-0.557142857142857,-0.5378571428571427,-0.5164285714285713,-0.557142857142857,null,-0.08571428571428569,-0.20142857142857137,null,-0.21428571428571422,-0.20357142857142851,-0.19928571428571423,-0.21428571428571422,null,0.08571428571428563,0.12428571428571414,null,0.12857142857142842,0.13071428571428556,0.11785714285714272,0.12857142857142842,null,0.2571428571428571,0.45,null,0.4714285714285714,0.465,0.435,0.4714285714285714,null,0.4285714285714285,0.7757142857142856,null,0.8142857142857142,0.7992857142857142,0.752142857142857,0.8142857142857142,null,0.6,1.1014285714285714,null,1.157142857142857,1.1335714285714285,1.0692857142857144,1.157142857142857,null,-0.6,-1.1014285714285714,null,-1.157142857142857,-1.1335714285714285,-1.0692857142857144,-1.157142857142857,null,-0.42857142857142866,-0.7757142857142859,null,-0.8142857142857145,-0.7992857142857145,-0.7521428571428573,-0.8142857142857145,null,-0.2571428571428571,-0.45,null,-0.4714285714285714,-0.465,-0.435,-0.4714285714285714,null,-0.08571428571428569,-0.12428571428571428,null,-0.12857142857142856,-0.1307142857142857,-0.11785714285714285,-0.12857142857142856,null,0.08571428571428563,0.20142857142857123,null,0.21428571428571408,0.20357142857142838,0.1992857142857141,0.21428571428571408,null,0.2571428571428571,0.527142857142857,null,0.557142857142857,0.5378571428571427,0.5164285714285713,0.557142857142857,null,0.4285714285714285,0.8528571428571426,null,0.8999999999999998,0.8721428571428569,0.8335714285714284,0.8999999999999998,null,0.6,1.1785714285714286,null,1.2428571428571429,1.2064285714285714,1.1507142857142858,1.2428571428571429,null,-0.6,-1.0242857142857142,null,-1.0714285714285714,-1.0607142857142857,-0.9878571428571428,-1.0714285714285714,null,-0.42857142857142866,-0.6985714285714287,null,-0.7285714285714288,-0.7264285714285716,-0.6707142857142858,-0.7285714285714288,null,-0.2571428571428571,-0.37285714285714283,null,-0.3857142857142857,-0.3921428571428571,-0.35357142857142854,-0.3857142857142857,null,-0.08571428571428569,-0.047142857142857104,null,-0.042857142857142816,-0.057857142857142815,-0.036428571428571394,-0.042857142857142816,null,0.08571428571428563,0.2785714285714284,null,0.2999999999999998,0.27642857142857125,0.2807142857142856,0.2999999999999998,null,0.2571428571428571,0.6042857142857142,null,0.6428571428571428,0.6107142857142857,0.5978571428571428,0.6428571428571428,null,0.4285714285714285,0.9299999999999998,null,0.9857142857142855,0.9449999999999998,0.9149999999999998,0.9857142857142855,null,0.6,1.2557142857142856,null,1.3285714285714285,1.2792857142857141,1.232142857142857,1.3285714285714285,null,-0.6,-0.9471428571428572,null,-0.9857142857142858,-0.9878571428571429,-0.9064285714285715,-0.9857142857142858,null,-0.42857142857142866,-0.6214285714285716,null,-0.642857142857143,-0.6535714285714287,-0.5892857142857144,-0.642857142857143,null,-0.2571428571428571,-0.2957142857142857,null,-0.3,-0.3192857142857143,-0.27214285714285713,-0.3,null,-0.08571428571428569,0.030000000000000013,null,0.04285714285714287,0.015000000000000015,0.04500000000000001,0.04285714285714287,null,0.08571428571428563,0.35571428571428554,null,0.3857142857142855,0.3492857142857141,0.362142857142857,0.3857142857142855,null,0.2571428571428571,0.6814285714285713,null,0.7285714285714284,0.6835714285714284,0.6792857142857142,0.7285714285714284,null,0.4285714285714285,1.007142857142857,null,1.0714285714285712,1.0178571428571426,0.9964285714285712,1.0714285714285712,null,0.6,1.3328571428571427,null,1.4142857142857141,1.352142857142857,1.3135714285714284,1.4142857142857141,null,-0.6,-0.8699999999999999,null,-0.8999999999999999,-0.9149999999999999,-0.8249999999999998,-0.8999999999999999,null,-0.42857142857142866,-0.5442857142857145,null,-0.5571428571428574,-0.580714285714286,-0.507857142857143,-0.5571428571428574,null,-0.2571428571428571,-0.21857142857142853,null,-0.21428571428571425,-0.24642857142857139,-0.19071428571428567,-0.21428571428571425,null,-0.08571428571428569,0.10714285714285718,null,0.12857142857142861,0.0878571428571429,0.12642857142857147,0.12857142857142861,null,0.08571428571428563,0.43285714285714266,null,0.47142857142857125,0.42214285714285693,0.4435714285714284,0.47142857142857125,null,0.2571428571428571,0.7585714285714286,null,0.8142857142857143,0.7564285714285715,0.7607142857142857,0.8142857142857143,null,0.4285714285714285,1.084285714285714,null,1.157142857142857,1.0907142857142855,1.0778571428571426,1.157142857142857,null,0.6,1.41,null,1.5,1.4249999999999998,1.395,1.5,null]},{\"marker\":{\"color\":\"#348ABD\",\"line\":{\"color\":\"#348ABD\",\"width\":0.5}},\"mode\":\"lines\",\"line\":{\"color\":\"black\"},\"y\":[-0.5,-0.5,0.5,0.5,-0.5],\"type\":\"scatter\",\"x\":[-0.5,0.5,0.5,-0.5,-0.5]}],{\"showlegend\":false,\"xaxis\":{\"showgrid\":true,\"titlefont\":{\"color\":\"#555555\",\"size\":18},\"tickfont\":{\"size\":18},\"ticks\":\"inside\",\"tickcolor\":\"#555555\",\"mirror\":\"ticks\",\"linecolor\":\"black\"},\"font\":{\"size\":18},\"margin\":{\"l\":50,\"b\":50,\"r\":50,\"t\":60},\"yaxis\":{\"showgrid\":true,\"titlefont\":{\"color\":\"#555555\",\"size\":18},\"tickfont\":{\"size\":18},\"scaleanchor\":\"x\",\"ticks\":\"inside\",\"tickcolor\":\"#555555\",\"mirror\":\"ticks\",\"linecolor\":\"black\"},\"title\":\"A = [1, 0.5; -1, 0.5]\"},{}); gd.on(\"plotly_hover\",(function (data){var filtered_data=WebIO.PlotlyCommands.filterEventData(gd,data,\"hover\"); return !(filtered_data.isnil) ? (WebIO.setval({\"name\":\"hover\",\"scope\":\"4285294689102093001\",\"id\":\"6446006644153259155\",\"type\":\"observable\"},filtered_data.out)) : undefined})); gd.on(\"plotly_unhover\",(function (){return WebIO.setval({\"name\":\"hover\",\"scope\":\"4285294689102093001\",\"id\":\"6446006644153259155\",\"type\":\"observable\"},{})})); gd.on(\"plotly_selected\",(function (data){var filtered_data=WebIO.PlotlyCommands.filterEventData(gd,data,\"selected\"); return !(filtered_data.isnil) ? (WebIO.setval({\"name\":\"selected\",\"scope\":\"4285294689102093001\",\"id\":\"17395871327675193317\",\"type\":\"observable\"},filtered_data.out)) : undefined})); gd.on(\"plotly_deselect\",(function (){return WebIO.setval({\"name\":\"selected\",\"scope\":\"4285294689102093001\",\"id\":\"17395871327675193317\",\"type\":\"observable\"},{})})); gd.on(\"plotly_relayout\",(function (data){var filtered_data=WebIO.PlotlyCommands.filterEventData(gd,data,\"relayout\"); return !(filtered_data.isnil) ? (WebIO.setval({\"name\":\"relayout\",\"scope\":\"4285294689102093001\",\"id\":\"1042647995383215820\",\"type\":\"observable\"},filtered_data.out)) : undefined})); return gd.on(\"plotly_click\",(function (data){var filtered_data=WebIO.PlotlyCommands.filterEventData(gd,data,\"click\"); return !(filtered_data.isnil) ? (WebIO.setval({\"name\":\"click\",\"scope\":\"4285294689102093001\",\"id\":\"11602125680802565950\",\"type\":\"observable\"},filtered_data.out)) : undefined}))}));\n    (WebIO.importBlock({\"data\":[{\"name\":\"Plotly\",\"type\":\"js\",\"url\":\"/assetserver/57533c5d787f8bc76a9e58ed0a1abce5f1b0c14d-plotly-latest.min.js\"},{\"name\":null,\"type\":\"js\",\"url\":\"/assetserver/58a7932c57029f7dbaa4105104076ff149fc7585-plotly_webio.bundle.js\"}],\"type\":\"async_block\"})).then((imports) => handler.apply(this, imports));\n}\n"
        ],
        "observables": {
         "__gd_contents": {
          "id": "17409714735273597456",
          "sync": false,
          "value": {}
         },
         "__get_gd_contents": {
          "id": "6402115982492973369",
          "sync": false,
          "value": ""
         },
         "_commands": {
          "id": "11546232155354910379",
          "sync": false,
          "value": []
         },
         "_downloadImage": {
          "id": "13902285680555595160",
          "sync": false,
          "value": {}
         },
         "_toImage": {
          "id": "850385669778882686",
          "sync": false,
          "value": {}
         },
         "click": {
          "id": "11602125680802565950",
          "sync": false,
          "value": {}
         },
         "hover": {
          "id": "6446006644153259155",
          "sync": false,
          "value": {}
         },
         "image": {
          "id": "13891207121648051196",
          "sync": true,
          "value": ""
         },
         "relayout": {
          "id": "1042647995383215820",
          "sync": false,
          "value": {}
         },
         "selected": {
          "id": "17395871327675193317",
          "sync": false,
          "value": {}
         }
        },
        "systemjs_options": null
       },
       "nodeType": "Scope",
       "props": {},
       "type": "node"
      },
      "image/png": "[encoded data removed]",
      "image/svg+xml": [
       "<svg class=\"main-svg\" xmlns=\"http://www.w3.org/2000/svg\" xmlns:xlink=\"http://www.w3.org/1999/xlink\" width=\"700\" height=\"500\" style=\"\" viewBox=\"0 0 700 500\"><rect x=\"0\" y=\"0\" width=\"700\" height=\"500\" style=\"fill: rgb(255, 255, 255); fill-opacity: 1;\"/><defs id=\"defs-da75ac\"><g class=\"clips\"><clipPath id=\"clipda75acxyplot\" class=\"plotclip\"><rect width=\"600\" height=\"390\"/></clipPath><clipPath class=\"axesclip\" id=\"clipda75acx\"><rect x=\"50\" y=\"0\" width=\"600\" height=\"500\"/></clipPath><clipPath class=\"axesclip\" id=\"clipda75acy\"><rect x=\"0\" y=\"60\" width=\"700\" height=\"390\"/></clipPath><clipPath class=\"axesclip\" id=\"clipda75acxy\"><rect x=\"50\" y=\"60\" width=\"600\" height=\"390\"/></clipPath></g><g class=\"gradients\"/></defs><g class=\"bglayer\"/><g class=\"layer-below\"><g class=\"imagelayer\"/><g class=\"shapelayer\"/></g><g class=\"cartesianlayer\"><g class=\"subplot xy\"><g class=\"layer-subplot\"><g class=\"shapelayer\"/><g class=\"imagelayer\"/></g><g class=\"gridlayer\"><g class=\"x\"><path class=\"xgrid crisp\" transform=\"translate(116,0)\" d=\"M0,60v390\" style=\"stroke: rgb(238, 238, 238); stroke-opacity: 1; stroke-width: 1px;\"/><path class=\"xgrid crisp\" transform=\"translate(233,0)\" d=\"M0,60v390\" style=\"stroke: rgb(238, 238, 238); stroke-opacity: 1; stroke-width: 1px;\"/><path class=\"xgrid crisp\" transform=\"translate(467,0)\" d=\"M0,60v390\" style=\"stroke: rgb(238, 238, 238); stroke-opacity: 1; stroke-width: 1px;\"/><path class=\"xgrid crisp\" transform=\"translate(584,0)\" d=\"M0,60v390\" style=\"stroke: rgb(238, 238, 238); stroke-opacity: 1; stroke-width: 1px;\"/></g><g class=\"y\"><path class=\"ygrid crisp\" transform=\"translate(0,430.5)\" d=\"M50,0h600\" style=\"stroke: rgb(238, 238, 238); stroke-opacity: 1; stroke-width: 1px;\"/><path class=\"ygrid crisp\" transform=\"translate(0,372)\" d=\"M50,0h600\" style=\"stroke: rgb(238, 238, 238); stroke-opacity: 1; stroke-width: 1px;\"/><path class=\"ygrid crisp\" transform=\"translate(0,313.5)\" d=\"M50,0h600\" style=\"stroke: rgb(238, 238, 238); stroke-opacity: 1; stroke-width: 1px;\"/><path class=\"ygrid crisp\" transform=\"translate(0,196.5)\" d=\"M50,0h600\" style=\"stroke: rgb(238, 238, 238); stroke-opacity: 1; stroke-width: 1px;\"/><path class=\"ygrid crisp\" transform=\"translate(0,138)\" d=\"M50,0h600\" style=\"stroke: rgb(238, 238, 238); stroke-opacity: 1; stroke-width: 1px;\"/><path class=\"ygrid crisp\" transform=\"translate(0,79.5)\" d=\"M50,0h600\" style=\"stroke: rgb(238, 238, 238); stroke-opacity: 1; stroke-width: 1px;\"/></g></g><g class=\"zerolinelayer\"><path class=\"xzl zl crisp\" transform=\"translate(350,0)\" d=\"M0,60v390\" style=\"stroke: rgb(68, 68, 68); stroke-opacity: 1; stroke-width: 1px;\"/><path class=\"yzl zl crisp\" transform=\"translate(0,255)\" d=\"M50,0h600\" style=\"stroke: rgb(68, 68, 68); stroke-opacity: 1; stroke-width: 1px;\"/></g><path class=\"xlines-below\"/><path class=\"ylines-below\"/><g class=\"overlines-below\"/><g class=\"xaxislayer-below\"/><g class=\"yaxislayer-below\"/><g class=\"overaxes-below\"/><g class=\"plot\" transform=\"translate(50, 60)\" clip-path=\"url('#clipda75acxyplot')\"><g class=\"scatterlayer mlayer\"><g class=\"trace scatter tracef8509a\" style=\"stroke-miterlimit: 2; opacity: 1;\"><g class=\"fills\"><g><path class=\"js-fill\" d=\"M229.8,265.2L135.03,233.61ZM124.5,230.1L133.28,238.88L136.78,228.35L124.5,230.1ZM249.86,265.2L173.14,251.66ZM164.61,250.16L172.39,255.92L173.89,247.4L164.61,250.16ZM269.91,265.2L211.25,269.71ZM204.73,270.21L211.5,272.97L211,266.45L204.73,270.21ZM289.97,265.2L249.36,287.76ZM244.84,290.27L250.61,290.02L248.1,285.51L244.84,290.27ZM310.03,265.2L287.46,305.82ZM284.96,310.33L289.72,307.07L285.21,304.56L284.96,310.33ZM330.09,265.2L325.57,323.87ZM325.07,330.39L328.83,324.12L322.31,323.62L325.07,330.39ZM350.14,265.2L363.68,341.92ZM365.19,350.44L367.94,341.17L359.42,342.67L365.19,350.44ZM370.2,265.2L401.79,359.97ZM405.3,370.5L407.06,358.22L396.53,361.73L405.3,370.5ZM229.8,245.14L144.06,204.53ZM134.53,200.01L141.8,209.29L146.31,199.76L134.53,200.01ZM249.86,245.14L182.16,222.58ZM174.64,220.07L180.91,226.34L183.42,218.82L174.64,220.07ZM269.91,245.14L220.27,240.63ZM214.76,240.13L220.02,243.39L220.52,237.87L214.76,240.13ZM289.97,245.14L258.38,258.68ZM254.87,260.19L259.13,260.44L257.63,256.93L254.87,260.19ZM310.03,245.14L296.49,276.73ZM294.99,280.24L298.25,277.49L294.73,275.98L294.99,280.24ZM330.09,245.14L334.6,294.78ZM335.1,300.3L337.36,294.53L331.84,295.04L335.1,300.3ZM350.14,245.14L372.71,312.84ZM375.21,320.36L376.47,311.58L368.95,314.09L375.21,320.36ZM370.2,245.14L410.82,330.89ZM415.33,340.41L415.58,328.63L406.05,333.14L415.33,340.41ZM229.8,225.09L153.08,175.44ZM144.56,169.93L150.32,179.71L155.84,171.18L144.56,169.93ZM249.86,225.09L191.19,193.5ZM184.67,189.99L189.43,196.76L192.95,190.24L184.67,189.99ZM269.91,225.09L229.3,211.55ZM224.79,210.04L228.55,213.8L230.05,209.29L224.79,210.04ZM289.97,225.09L267.41,229.6ZM264.9,230.1L267.66,230.85L267.16,228.35L264.9,230.1ZM310.03,225.09L305.52,247.65ZM305.01,250.16L306.77,247.9L304.26,247.4L305.01,250.16ZM330.09,225.09L343.62,265.7ZM345.13,270.21L345.88,264.95L341.37,266.45L345.13,270.21ZM350.14,225.09L381.73,283.75ZM385.24,290.27L384.99,282L378.47,285.51L385.24,290.27ZM370.2,225.09L419.84,301.8ZM425.36,310.33L424.1,299.05L415.58,304.56L425.36,310.33ZM229.8,205.03L162.11,146.36ZM154.59,139.84L158.85,150.12L165.37,142.6L154.59,139.84ZM249.86,205.03L200.22,164.41ZM194.7,159.9L197.96,167.17L202.47,161.65L194.7,159.9ZM269.91,205.03L238.32,182.46ZM234.81,179.96L237.07,184.22L239.58,180.71L234.81,179.96ZM289.97,205.03L276.43,200.52ZM274.93,200.01L276.18,201.27L276.68,199.76L274.93,200.01ZM310.03,205.03L314.54,218.57ZM315.04,220.07L315.29,218.32L313.79,218.82L315.04,220.07ZM330.09,205.03L352.65,236.62ZM355.16,240.13L354.41,235.36L350.9,237.87L355.16,240.13ZM350.14,205.03L390.76,254.67ZM395.27,260.19L393.52,252.41L388,256.93L395.27,260.19ZM370.2,205.03L428.87,272.72ZM435.39,280.24L432.63,269.46L425.11,275.98L435.39,280.24ZM229.8,184.97L171.13,117.28ZM164.61,109.76L167.37,120.54L174.89,114.02L164.61,109.76ZM249.86,184.97L209.24,135.33ZM204.73,129.81L206.48,137.59L212,133.07L204.73,129.81ZM269.91,184.97L247.35,153.38ZM244.84,149.87L245.6,154.64L249.11,152.13L244.84,149.87ZM289.97,184.97L285.46,171.43ZM284.96,169.93L284.71,171.68L286.21,171.18L284.96,169.93ZM310.03,184.97L323.57,189.48ZM325.07,189.99L323.82,188.73L323.32,190.24L325.07,189.99ZM330.09,184.97L361.68,207.54ZM365.19,210.04L362.93,205.78L360.42,209.29L365.19,210.04ZM350.14,184.97L399.78,225.59ZM405.3,230.1L402.04,222.83L397.53,228.35L405.3,230.1ZM370.2,184.97L437.89,243.64ZM445.41,250.16L441.15,239.88L434.63,247.4L445.41,250.16ZM229.8,164.91L180.16,88.2ZM174.64,79.67L175.9,90.95L184.42,85.44L174.64,79.67ZM249.86,164.91L218.27,106.25ZM214.76,99.73L215.01,108L221.53,104.49L214.76,99.73ZM269.91,164.91L256.38,124.3ZM254.87,119.79L254.12,125.05L258.63,123.55L254.87,119.79ZM289.97,164.91L294.48,142.35ZM294.99,139.84L293.23,142.1L295.74,142.6L294.99,139.84ZM310.03,164.91L332.59,160.4ZM335.1,159.9L332.34,159.15L332.84,161.66L335.1,159.9ZM330.09,164.91L370.7,178.45ZM375.21,179.96L371.45,176.2L369.95,180.71L375.21,179.96ZM350.14,164.91L408.81,196.5ZM415.33,200.01L410.57,193.25L407.06,199.76L415.33,200.01ZM370.2,164.91L446.92,214.56ZM455.44,220.07L449.68,210.29L444.16,218.82L455.44,220.07ZM229.8,144.86L189.18,59.11ZM184.67,49.59L184.42,61.37L193.95,56.86L184.67,49.59ZM249.86,144.86L227.29,77.16ZM224.79,69.64L223.53,78.42L231.05,75.91L224.79,69.64ZM269.91,144.86L265.4,95.22ZM264.9,89.7L262.64,95.47L268.16,94.97L264.9,89.7ZM289.97,144.86L303.51,113.27ZM305.01,109.76L301.76,112.52L305.27,114.02L305.01,109.76ZM310.03,144.86L341.62,131.32ZM345.13,129.81L340.87,129.56L342.37,133.07L345.13,129.81ZM330.09,144.86L379.73,149.37ZM385.24,149.87L379.98,146.61L379.48,152.13L385.24,149.87ZM350.14,144.86L417.84,167.42ZM425.36,169.93L419.09,163.66L416.58,171.18L425.36,169.93ZM370.2,144.86L455.94,185.47ZM465.47,189.99L458.2,180.71L453.69,190.24L465.47,189.99ZM229.8,124.8L198.21,30.03ZM194.7,19.5L192.95,31.78L203.48,28.28L194.7,19.5ZM249.86,124.8L236.32,48.08ZM234.81,39.56L232.06,48.83L240.58,47.33L234.81,39.56ZM269.91,124.8L274.43,66.13ZM274.93,59.61L271.17,65.88L277.69,66.38L274.93,59.61ZM289.97,124.8L312.54,84.18ZM315.04,79.67L310.28,82.93L314.79,85.44L315.04,79.67ZM310.03,124.8L350.64,102.24ZM355.16,99.73L349.39,99.98L351.9,104.49L355.16,99.73ZM330.09,124.8L388.75,120.29ZM395.27,119.79L388.5,117.03L389,123.55L395.27,119.79ZM350.14,124.8L426.86,138.34ZM435.39,139.84L427.61,134.08L426.11,142.6L435.39,139.84ZM370.2,124.8L464.97,156.39ZM475.5,159.9L466.73,151.13L463.22,161.66L475.5,159.9Z\" style=\"fill: rgb(226, 74, 51); fill-opacity: 0.5; stroke-width: 0;\"/></g></g><g class=\"errorbars\"/><g class=\"lines\"><path class=\"js-line\" d=\"M229.8,265.2L135.03,233.61\" style=\"vector-effect: non-scaling-stroke; fill: none; stroke: rgb(226, 74, 51); stroke-opacity: 1; stroke-width: 2px; opacity: 1;\"/><path class=\"js-line\" d=\"M124.5,230.1L133.28,238.88L136.78,228.35L124.5,230.1\" style=\"vector-effect: non-scaling-stroke; fill: none; stroke: rgb(226, 74, 51); stroke-opacity: 1; stroke-width: 2px; opacity: 1;\"/><path class=\"js-line\" d=\"M249.86,265.2L173.14,251.66\" style=\"vector-effect: non-scaling-stroke; fill: none; stroke: rgb(226, 74, 51); stroke-opacity: 1; stroke-width: 2px; opacity: 1;\"/><path class=\"js-line\" d=\"M164.61,250.16L172.39,255.92L173.89,247.4L164.61,250.16\" style=\"vector-effect: non-scaling-stroke; fill: none; stroke: rgb(226, 74, 51); stroke-opacity: 1; stroke-width: 2px; opacity: 1;\"/><path class=\"js-line\" d=\"M269.91,265.2L211.25,269.71\" style=\"vector-effect: non-scaling-stroke; fill: none; stroke: rgb(226, 74, 51); stroke-opacity: 1; stroke-width: 2px; opacity: 1;\"/><path class=\"js-line\" d=\"M204.73,270.21L211.5,272.97L211,266.45L204.73,270.21\" style=\"vector-effect: non-scaling-stroke; fill: none; stroke: rgb(226, 74, 51); stroke-opacity: 1; stroke-width: 2px; opacity: 1;\"/><path class=\"js-line\" d=\"M289.97,265.2L249.36,287.76\" style=\"vector-effect: non-scaling-stroke; fill: none; stroke: rgb(226, 74, 51); stroke-opacity: 1; stroke-width: 2px; opacity: 1;\"/><path class=\"js-line\" d=\"M244.84,290.27L250.61,290.02L248.1,285.51L244.84,290.27\" style=\"vector-effect: non-scaling-stroke; fill: none; stroke: rgb(226, 74, 51); stroke-opacity: 1; stroke-width: 2px; opacity: 1;\"/><path class=\"js-line\" d=\"M310.03,265.2L287.46,305.82\" style=\"vector-effect: non-scaling-stroke; fill: none; stroke: rgb(226, 74, 51); stroke-opacity: 1; stroke-width: 2px; opacity: 1;\"/><path class=\"js-line\" d=\"M284.96,310.33L289.72,307.07L285.21,304.56L284.96,310.33\" style=\"vector-effect: non-scaling-stroke; fill: none; stroke: rgb(226, 74, 51); stroke-opacity: 1; stroke-width: 2px; opacity: 1;\"/><path class=\"js-line\" d=\"M330.09,265.2L325.57,323.87\" style=\"vector-effect: non-scaling-stroke; fill: none; stroke: rgb(226, 74, 51); stroke-opacity: 1; stroke-width: 2px; opacity: 1;\"/><path class=\"js-line\" d=\"M325.07,330.39L328.83,324.12L322.31,323.62L325.07,330.39\" style=\"vector-effect: non-scaling-stroke; fill: none; stroke: rgb(226, 74, 51); stroke-opacity: 1; stroke-width: 2px; opacity: 1;\"/><path class=\"js-line\" d=\"M350.14,265.2L363.68,341.92\" style=\"vector-effect: non-scaling-stroke; fill: none; stroke: rgb(226, 74, 51); stroke-opacity: 1; stroke-width: 2px; opacity: 1;\"/><path class=\"js-line\" d=\"M365.19,350.44L367.94,341.17L359.42,342.67L365.19,350.44\" style=\"vector-effect: non-scaling-stroke; fill: none; stroke: rgb(226, 74, 51); stroke-opacity: 1; stroke-width: 2px; opacity: 1;\"/><path class=\"js-line\" d=\"M370.2,265.2L401.79,359.97\" style=\"vector-effect: non-scaling-stroke; fill: none; stroke: rgb(226, 74, 51); stroke-opacity: 1; stroke-width: 2px; opacity: 1;\"/><path class=\"js-line\" d=\"M405.3,370.5L407.06,358.22L396.53,361.73L405.3,370.5\" style=\"vector-effect: non-scaling-stroke; fill: none; stroke: rgb(226, 74, 51); stroke-opacity: 1; stroke-width: 2px; opacity: 1;\"/><path class=\"js-line\" d=\"M229.8,245.14L144.06,204.53\" style=\"vector-effect: non-scaling-stroke; fill: none; stroke: rgb(226, 74, 51); stroke-opacity: 1; stroke-width: 2px; opacity: 1;\"/><path class=\"js-line\" d=\"M134.53,200.01L141.8,209.29L146.31,199.76L134.53,200.01\" style=\"vector-effect: non-scaling-stroke; fill: none; stroke: rgb(226, 74, 51); stroke-opacity: 1; stroke-width: 2px; opacity: 1;\"/><path class=\"js-line\" d=\"M249.86,245.14L182.16,222.58\" style=\"vector-effect: non-scaling-stroke; fill: none; stroke: rgb(226, 74, 51); stroke-opacity: 1; stroke-width: 2px; opacity: 1;\"/><path class=\"js-line\" d=\"M174.64,220.07L180.91,226.34L183.42,218.82L174.64,220.07\" style=\"vector-effect: non-scaling-stroke; fill: none; stroke: rgb(226, 74, 51); stroke-opacity: 1; stroke-width: 2px; opacity: 1;\"/><path class=\"js-line\" d=\"M269.91,245.14L220.27,240.63\" style=\"vector-effect: non-scaling-stroke; fill: none; stroke: rgb(226, 74, 51); stroke-opacity: 1; stroke-width: 2px; opacity: 1;\"/><path class=\"js-line\" d=\"M214.76,240.13L220.02,243.39L220.52,237.87L214.76,240.13\" style=\"vector-effect: non-scaling-stroke; fill: none; stroke: rgb(226, 74, 51); stroke-opacity: 1; stroke-width: 2px; opacity: 1;\"/><path class=\"js-line\" d=\"M289.97,245.14L258.38,258.68\" style=\"vector-effect: non-scaling-stroke; fill: none; stroke: rgb(226, 74, 51); stroke-opacity: 1; stroke-width: 2px; opacity: 1;\"/><path class=\"js-line\" d=\"M254.87,260.19L259.13,260.44L257.63,256.93L254.87,260.19\" style=\"vector-effect: non-scaling-stroke; fill: none; stroke: rgb(226, 74, 51); stroke-opacity: 1; stroke-width: 2px; opacity: 1;\"/><path class=\"js-line\" d=\"M310.03,245.14L296.49,276.73\" style=\"vector-effect: non-scaling-stroke; fill: none; stroke: rgb(226, 74, 51); stroke-opacity: 1; stroke-width: 2px; opacity: 1;\"/><path class=\"js-line\" d=\"M294.99,280.24L298.25,277.49L294.73,275.98L294.99,280.24\" style=\"vector-effect: non-scaling-stroke; fill: none; stroke: rgb(226, 74, 51); stroke-opacity: 1; stroke-width: 2px; opacity: 1;\"/><path class=\"js-line\" d=\"M330.09,245.14L334.6,294.78\" style=\"vector-effect: non-scaling-stroke; fill: none; stroke: rgb(226, 74, 51); stroke-opacity: 1; stroke-width: 2px; opacity: 1;\"/><path class=\"js-line\" d=\"M335.1,300.3L337.36,294.53L331.84,295.04L335.1,300.3\" style=\"vector-effect: non-scaling-stroke; fill: none; stroke: rgb(226, 74, 51); stroke-opacity: 1; stroke-width: 2px; opacity: 1;\"/><path class=\"js-line\" d=\"M350.14,245.14L372.71,312.84\" style=\"vector-effect: non-scaling-stroke; fill: none; stroke: rgb(226, 74, 51); stroke-opacity: 1; stroke-width: 2px; opacity: 1;\"/><path class=\"js-line\" d=\"M375.21,320.36L376.47,311.58L368.95,314.09L375.21,320.36\" style=\"vector-effect: non-scaling-stroke; fill: none; stroke: rgb(226, 74, 51); stroke-opacity: 1; stroke-width: 2px; opacity: 1;\"/><path class=\"js-line\" d=\"M370.2,245.14L410.82,330.89\" style=\"vector-effect: non-scaling-stroke; fill: none; stroke: rgb(226, 74, 51); stroke-opacity: 1; stroke-width: 2px; opacity: 1;\"/><path class=\"js-line\" d=\"M415.33,340.41L415.58,328.63L406.05,333.14L415.33,340.41\" style=\"vector-effect: non-scaling-stroke; fill: none; stroke: rgb(226, 74, 51); stroke-opacity: 1; stroke-width: 2px; opacity: 1;\"/><path class=\"js-line\" d=\"M229.8,225.09L153.08,175.44\" style=\"vector-effect: non-scaling-stroke; fill: none; stroke: rgb(226, 74, 51); stroke-opacity: 1; stroke-width: 2px; opacity: 1;\"/><path class=\"js-line\" d=\"M144.56,169.93L150.32,179.71L155.84,171.18L144.56,169.93\" style=\"vector-effect: non-scaling-stroke; fill: none; stroke: rgb(226, 74, 51); stroke-opacity: 1; stroke-width: 2px; opacity: 1;\"/><path class=\"js-line\" d=\"M249.86,225.09L191.19,193.5\" style=\"vector-effect: non-scaling-stroke; fill: none; stroke: rgb(226, 74, 51); stroke-opacity: 1; stroke-width: 2px; opacity: 1;\"/><path class=\"js-line\" d=\"M184.67,189.99L189.43,196.76L192.95,190.24L184.67,189.99\" style=\"vector-effect: non-scaling-stroke; fill: none; stroke: rgb(226, 74, 51); stroke-opacity: 1; stroke-width: 2px; opacity: 1;\"/><path class=\"js-line\" d=\"M269.91,225.09L229.3,211.55\" style=\"vector-effect: non-scaling-stroke; fill: none; stroke: rgb(226, 74, 51); stroke-opacity: 1; stroke-width: 2px; opacity: 1;\"/><path class=\"js-line\" d=\"M224.79,210.04L228.55,213.8L230.05,209.29L224.79,210.04\" style=\"vector-effect: non-scaling-stroke; fill: none; stroke: rgb(226, 74, 51); stroke-opacity: 1; stroke-width: 2px; opacity: 1;\"/><path class=\"js-line\" d=\"M289.97,225.09L267.41,229.6\" style=\"vector-effect: non-scaling-stroke; fill: none; stroke: rgb(226, 74, 51); stroke-opacity: 1; stroke-width: 2px; opacity: 1;\"/><path class=\"js-line\" d=\"M264.9,230.1L267.66,230.85L267.16,228.35L264.9,230.1\" style=\"vector-effect: non-scaling-stroke; fill: none; stroke: rgb(226, 74, 51); stroke-opacity: 1; stroke-width: 2px; opacity: 1;\"/><path class=\"js-line\" d=\"M310.03,225.09L305.52,247.65\" style=\"vector-effect: non-scaling-stroke; fill: none; stroke: rgb(226, 74, 51); stroke-opacity: 1; stroke-width: 2px; opacity: 1;\"/><path class=\"js-line\" d=\"M305.01,250.16L306.77,247.9L304.26,247.4L305.01,250.16\" style=\"vector-effect: non-scaling-stroke; fill: none; stroke: rgb(226, 74, 51); stroke-opacity: 1; stroke-width: 2px; opacity: 1;\"/><path class=\"js-line\" d=\"M330.09,225.09L343.62,265.7\" style=\"vector-effect: non-scaling-stroke; fill: none; stroke: rgb(226, 74, 51); stroke-opacity: 1; stroke-width: 2px; opacity: 1;\"/><path class=\"js-line\" d=\"M345.13,270.21L345.88,264.95L341.37,266.45L345.13,270.21\" style=\"vector-effect: non-scaling-stroke; fill: none; stroke: rgb(226, 74, 51); stroke-opacity: 1; stroke-width: 2px; opacity: 1;\"/><path class=\"js-line\" d=\"M350.14,225.09L381.73,283.75\" style=\"vector-effect: non-scaling-stroke; fill: none; stroke: rgb(226, 74, 51); stroke-opacity: 1; stroke-width: 2px; opacity: 1;\"/><path class=\"js-line\" d=\"M385.24,290.27L384.99,282L378.47,285.51L385.24,290.27\" style=\"vector-effect: non-scaling-stroke; fill: none; stroke: rgb(226, 74, 51); stroke-opacity: 1; stroke-width: 2px; opacity: 1;\"/><path class=\"js-line\" d=\"M370.2,225.09L419.84,301.8\" style=\"vector-effect: non-scaling-stroke; fill: none; stroke: rgb(226, 74, 51); stroke-opacity: 1; stroke-width: 2px; opacity: 1;\"/><path class=\"js-line\" d=\"M425.36,310.33L424.1,299.05L415.58,304.56L425.36,310.33\" style=\"vector-effect: non-scaling-stroke; fill: none; stroke: rgb(226, 74, 51); stroke-opacity: 1; stroke-width: 2px; opacity: 1;\"/><path class=\"js-line\" d=\"M229.8,205.03L162.11,146.36\" style=\"vector-effect: non-scaling-stroke; fill: none; stroke: rgb(226, 74, 51); stroke-opacity: 1; stroke-width: 2px; opacity: 1;\"/><path class=\"js-line\" d=\"M154.59,139.84L158.85,150.12L165.37,142.6L154.59,139.84\" style=\"vector-effect: non-scaling-stroke; fill: none; stroke: rgb(226, 74, 51); stroke-opacity: 1; stroke-width: 2px; opacity: 1;\"/><path class=\"js-line\" d=\"M249.86,205.03L200.22,164.41\" style=\"vector-effect: non-scaling-stroke; fill: none; stroke: rgb(226, 74, 51); stroke-opacity: 1; stroke-width: 2px; opacity: 1;\"/><path class=\"js-line\" d=\"M194.7,159.9L197.96,167.17L202.47,161.65L194.7,159.9\" style=\"vector-effect: non-scaling-stroke; fill: none; stroke: rgb(226, 74, 51); stroke-opacity: 1; stroke-width: 2px; opacity: 1;\"/><path class=\"js-line\" d=\"M269.91,205.03L238.32,182.46\" style=\"vector-effect: non-scaling-stroke; fill: none; stroke: rgb(226, 74, 51); stroke-opacity: 1; stroke-width: 2px; opacity: 1;\"/><path class=\"js-line\" d=\"M234.81,179.96L237.07,184.22L239.58,180.71L234.81,179.96\" style=\"vector-effect: non-scaling-stroke; fill: none; stroke: rgb(226, 74, 51); stroke-opacity: 1; stroke-width: 2px; opacity: 1;\"/><path class=\"js-line\" d=\"M289.97,205.03L276.43,200.52\" style=\"vector-effect: non-scaling-stroke; fill: none; stroke: rgb(226, 74, 51); stroke-opacity: 1; stroke-width: 2px; opacity: 1;\"/><path class=\"js-line\" d=\"M274.93,200.01L276.18,201.27L276.68,199.76L274.93,200.01\" style=\"vector-effect: non-scaling-stroke; fill: none; stroke: rgb(226, 74, 51); stroke-opacity: 1; stroke-width: 2px; opacity: 1;\"/><path class=\"js-line\" d=\"M310.03,205.03L314.54,218.57\" style=\"vector-effect: non-scaling-stroke; fill: none; stroke: rgb(226, 74, 51); stroke-opacity: 1; stroke-width: 2px; opacity: 1;\"/><path class=\"js-line\" d=\"M315.04,220.07L315.29,218.32L313.79,218.82L315.04,220.07\" style=\"vector-effect: non-scaling-stroke; fill: none; stroke: rgb(226, 74, 51); stroke-opacity: 1; stroke-width: 2px; opacity: 1;\"/><path class=\"js-line\" d=\"M330.09,205.03L352.65,236.62\" style=\"vector-effect: non-scaling-stroke; fill: none; stroke: rgb(226, 74, 51); stroke-opacity: 1; stroke-width: 2px; opacity: 1;\"/><path class=\"js-line\" d=\"M355.16,240.13L354.41,235.36L350.9,237.87L355.16,240.13\" style=\"vector-effect: non-scaling-stroke; fill: none; stroke: rgb(226, 74, 51); stroke-opacity: 1; stroke-width: 2px; opacity: 1;\"/><path class=\"js-line\" d=\"M350.14,205.03L390.76,254.67\" style=\"vector-effect: non-scaling-stroke; fill: none; stroke: rgb(226, 74, 51); stroke-opacity: 1; stroke-width: 2px; opacity: 1;\"/><path class=\"js-line\" d=\"M395.27,260.19L393.52,252.41L388,256.93L395.27,260.19\" style=\"vector-effect: non-scaling-stroke; fill: none; stroke: rgb(226, 74, 51); stroke-opacity: 1; stroke-width: 2px; opacity: 1;\"/><path class=\"js-line\" d=\"M370.2,205.03L428.87,272.72\" style=\"vector-effect: non-scaling-stroke; fill: none; stroke: rgb(226, 74, 51); stroke-opacity: 1; stroke-width: 2px; opacity: 1;\"/><path class=\"js-line\" d=\"M435.39,280.24L432.63,269.46L425.11,275.98L435.39,280.24\" style=\"vector-effect: non-scaling-stroke; fill: none; stroke: rgb(226, 74, 51); stroke-opacity: 1; stroke-width: 2px; opacity: 1;\"/><path class=\"js-line\" d=\"M229.8,184.97L171.13,117.28\" style=\"vector-effect: non-scaling-stroke; fill: none; stroke: rgb(226, 74, 51); stroke-opacity: 1; stroke-width: 2px; opacity: 1;\"/><path class=\"js-line\" d=\"M164.61,109.76L167.37,120.54L174.89,114.02L164.61,109.76\" style=\"vector-effect: non-scaling-stroke; fill: none; stroke: rgb(226, 74, 51); stroke-opacity: 1; stroke-width: 2px; opacity: 1;\"/><path class=\"js-line\" d=\"M249.86,184.97L209.24,135.33\" style=\"vector-effect: non-scaling-stroke; fill: none; stroke: rgb(226, 74, 51); stroke-opacity: 1; stroke-width: 2px; opacity: 1;\"/><path class=\"js-line\" d=\"M204.73,129.81L206.48,137.59L212,133.07L204.73,129.81\" style=\"vector-effect: non-scaling-stroke; fill: none; stroke: rgb(226, 74, 51); stroke-opacity: 1; stroke-width: 2px; opacity: 1;\"/><path class=\"js-line\" d=\"M269.91,184.97L247.35,153.38\" style=\"vector-effect: non-scaling-stroke; fill: none; stroke: rgb(226, 74, 51); stroke-opacity: 1; stroke-width: 2px; opacity: 1;\"/><path class=\"js-line\" d=\"M244.84,149.87L245.6,154.64L249.11,152.13L244.84,149.87\" style=\"vector-effect: non-scaling-stroke; fill: none; stroke: rgb(226, 74, 51); stroke-opacity: 1; stroke-width: 2px; opacity: 1;\"/><path class=\"js-line\" d=\"M289.97,184.97L285.46,171.43\" style=\"vector-effect: non-scaling-stroke; fill: none; stroke: rgb(226, 74, 51); stroke-opacity: 1; stroke-width: 2px; opacity: 1;\"/><path class=\"js-line\" d=\"M284.96,169.93L284.71,171.68L286.21,171.18L284.96,169.93\" style=\"vector-effect: non-scaling-stroke; fill: none; stroke: rgb(226, 74, 51); stroke-opacity: 1; stroke-width: 2px; opacity: 1;\"/><path class=\"js-line\" d=\"M310.03,184.97L323.57,189.48\" style=\"vector-effect: non-scaling-stroke; fill: none; stroke: rgb(226, 74, 51); stroke-opacity: 1; stroke-width: 2px; opacity: 1;\"/><path class=\"js-line\" d=\"M325.07,189.99L323.82,188.73L323.32,190.24L325.07,189.99\" style=\"vector-effect: non-scaling-stroke; fill: none; stroke: rgb(226, 74, 51); stroke-opacity: 1; stroke-width: 2px; opacity: 1;\"/><path class=\"js-line\" d=\"M330.09,184.97L361.68,207.54\" style=\"vector-effect: non-scaling-stroke; fill: none; stroke: rgb(226, 74, 51); stroke-opacity: 1; stroke-width: 2px; opacity: 1;\"/><path class=\"js-line\" d=\"M365.19,210.04L362.93,205.78L360.42,209.29L365.19,210.04\" style=\"vector-effect: non-scaling-stroke; fill: none; stroke: rgb(226, 74, 51); stroke-opacity: 1; stroke-width: 2px; opacity: 1;\"/><path class=\"js-line\" d=\"M350.14,184.97L399.78,225.59\" style=\"vector-effect: non-scaling-stroke; fill: none; stroke: rgb(226, 74, 51); stroke-opacity: 1; stroke-width: 2px; opacity: 1;\"/><path class=\"js-line\" d=\"M405.3,230.1L402.04,222.83L397.53,228.35L405.3,230.1\" style=\"vector-effect: non-scaling-stroke; fill: none; stroke: rgb(226, 74, 51); stroke-opacity: 1; stroke-width: 2px; opacity: 1;\"/><path class=\"js-line\" d=\"M370.2,184.97L437.89,243.64\" style=\"vector-effect: non-scaling-stroke; fill: none; stroke: rgb(226, 74, 51); stroke-opacity: 1; stroke-width: 2px; opacity: 1;\"/><path class=\"js-line\" d=\"M445.41,250.16L441.15,239.88L434.63,247.4L445.41,250.16\" style=\"vector-effect: non-scaling-stroke; fill: none; stroke: rgb(226, 74, 51); stroke-opacity: 1; stroke-width: 2px; opacity: 1;\"/><path class=\"js-line\" d=\"M229.8,164.91L180.16,88.2\" style=\"vector-effect: non-scaling-stroke; fill: none; stroke: rgb(226, 74, 51); stroke-opacity: 1; stroke-width: 2px; opacity: 1;\"/><path class=\"js-line\" d=\"M174.64,79.67L175.9,90.95L184.42,85.44L174.64,79.67\" style=\"vector-effect: non-scaling-stroke; fill: none; stroke: rgb(226, 74, 51); stroke-opacity: 1; stroke-width: 2px; opacity: 1;\"/><path class=\"js-line\" d=\"M249.86,164.91L218.27,106.25\" style=\"vector-effect: non-scaling-stroke; fill: none; stroke: rgb(226, 74, 51); stroke-opacity: 1; stroke-width: 2px; opacity: 1;\"/><path class=\"js-line\" d=\"M214.76,99.73L215.01,108L221.53,104.49L214.76,99.73\" style=\"vector-effect: non-scaling-stroke; fill: none; stroke: rgb(226, 74, 51); stroke-opacity: 1; stroke-width: 2px; opacity: 1;\"/><path class=\"js-line\" d=\"M269.91,164.91L256.38,124.3\" style=\"vector-effect: non-scaling-stroke; fill: none; stroke: rgb(226, 74, 51); stroke-opacity: 1; stroke-width: 2px; opacity: 1;\"/><path class=\"js-line\" d=\"M254.87,119.79L254.12,125.05L258.63,123.55L254.87,119.79\" style=\"vector-effect: non-scaling-stroke; fill: none; stroke: rgb(226, 74, 51); stroke-opacity: 1; stroke-width: 2px; opacity: 1;\"/><path class=\"js-line\" d=\"M289.97,164.91L294.48,142.35\" style=\"vector-effect: non-scaling-stroke; fill: none; stroke: rgb(226, 74, 51); stroke-opacity: 1; stroke-width: 2px; opacity: 1;\"/><path class=\"js-line\" d=\"M294.99,139.84L293.23,142.1L295.74,142.6L294.99,139.84\" style=\"vector-effect: non-scaling-stroke; fill: none; stroke: rgb(226, 74, 51); stroke-opacity: 1; stroke-width: 2px; opacity: 1;\"/><path class=\"js-line\" d=\"M310.03,164.91L332.59,160.4\" style=\"vector-effect: non-scaling-stroke; fill: none; stroke: rgb(226, 74, 51); stroke-opacity: 1; stroke-width: 2px; opacity: 1;\"/><path class=\"js-line\" d=\"M335.1,159.9L332.34,159.15L332.84,161.66L335.1,159.9\" style=\"vector-effect: non-scaling-stroke; fill: none; stroke: rgb(226, 74, 51); stroke-opacity: 1; stroke-width: 2px; opacity: 1;\"/><path class=\"js-line\" d=\"M330.09,164.91L370.7,178.45\" style=\"vector-effect: non-scaling-stroke; fill: none; stroke: rgb(226, 74, 51); stroke-opacity: 1; stroke-width: 2px; opacity: 1;\"/><path class=\"js-line\" d=\"M375.21,179.96L371.45,176.2L369.95,180.71L375.21,179.96\" style=\"vector-effect: non-scaling-stroke; fill: none; stroke: rgb(226, 74, 51); stroke-opacity: 1; stroke-width: 2px; opacity: 1;\"/><path class=\"js-line\" d=\"M350.14,164.91L408.81,196.5\" style=\"vector-effect: non-scaling-stroke; fill: none; stroke: rgb(226, 74, 51); stroke-opacity: 1; stroke-width: 2px; opacity: 1;\"/><path class=\"js-line\" d=\"M415.33,200.01L410.57,193.25L407.06,199.76L415.33,200.01\" style=\"vector-effect: non-scaling-stroke; fill: none; stroke: rgb(226, 74, 51); stroke-opacity: 1; stroke-width: 2px; opacity: 1;\"/><path class=\"js-line\" d=\"M370.2,164.91L446.92,214.56\" style=\"vector-effect: non-scaling-stroke; fill: none; stroke: rgb(226, 74, 51); stroke-opacity: 1; stroke-width: 2px; opacity: 1;\"/><path class=\"js-line\" d=\"M455.44,220.07L449.68,210.29L444.16,218.82L455.44,220.07\" style=\"vector-effect: non-scaling-stroke; fill: none; stroke: rgb(226, 74, 51); stroke-opacity: 1; stroke-width: 2px; opacity: 1;\"/><path class=\"js-line\" d=\"M229.8,144.86L189.18,59.11\" style=\"vector-effect: non-scaling-stroke; fill: none; stroke: rgb(226, 74, 51); stroke-opacity: 1; stroke-width: 2px; opacity: 1;\"/><path class=\"js-line\" d=\"M184.67,49.59L184.42,61.37L193.95,56.86L184.67,49.59\" style=\"vector-effect: non-scaling-stroke; fill: none; stroke: rgb(226, 74, 51); stroke-opacity: 1; stroke-width: 2px; opacity: 1;\"/><path class=\"js-line\" d=\"M249.86,144.86L227.29,77.16\" style=\"vector-effect: non-scaling-stroke; fill: none; stroke: rgb(226, 74, 51); stroke-opacity: 1; stroke-width: 2px; opacity: 1;\"/><path class=\"js-line\" d=\"M224.79,69.64L223.53,78.42L231.05,75.91L224.79,69.64\" style=\"vector-effect: non-scaling-stroke; fill: none; stroke: rgb(226, 74, 51); stroke-opacity: 1; stroke-width: 2px; opacity: 1;\"/><path class=\"js-line\" d=\"M269.91,144.86L265.4,95.22\" style=\"vector-effect: non-scaling-stroke; fill: none; stroke: rgb(226, 74, 51); stroke-opacity: 1; stroke-width: 2px; opacity: 1;\"/><path class=\"js-line\" d=\"M264.9,89.7L262.64,95.47L268.16,94.97L264.9,89.7\" style=\"vector-effect: non-scaling-stroke; fill: none; stroke: rgb(226, 74, 51); stroke-opacity: 1; stroke-width: 2px; opacity: 1;\"/><path class=\"js-line\" d=\"M289.97,144.86L303.51,113.27\" style=\"vector-effect: non-scaling-stroke; fill: none; stroke: rgb(226, 74, 51); stroke-opacity: 1; stroke-width: 2px; opacity: 1;\"/><path class=\"js-line\" d=\"M305.01,109.76L301.76,112.52L305.27,114.02L305.01,109.76\" style=\"vector-effect: non-scaling-stroke; fill: none; stroke: rgb(226, 74, 51); stroke-opacity: 1; stroke-width: 2px; opacity: 1;\"/><path class=\"js-line\" d=\"M310.03,144.86L341.62,131.32\" style=\"vector-effect: non-scaling-stroke; fill: none; stroke: rgb(226, 74, 51); stroke-opacity: 1; stroke-width: 2px; opacity: 1;\"/><path class=\"js-line\" d=\"M345.13,129.81L340.87,129.56L342.37,133.07L345.13,129.81\" style=\"vector-effect: non-scaling-stroke; fill: none; stroke: rgb(226, 74, 51); stroke-opacity: 1; stroke-width: 2px; opacity: 1;\"/><path class=\"js-line\" d=\"M330.09,144.86L379.73,149.37\" style=\"vector-effect: non-scaling-stroke; fill: none; stroke: rgb(226, 74, 51); stroke-opacity: 1; stroke-width: 2px; opacity: 1;\"/><path class=\"js-line\" d=\"M385.24,149.87L379.98,146.61L379.48,152.13L385.24,149.87\" style=\"vector-effect: non-scaling-stroke; fill: none; stroke: rgb(226, 74, 51); stroke-opacity: 1; stroke-width: 2px; opacity: 1;\"/><path class=\"js-line\" d=\"M350.14,144.86L417.84,167.42\" style=\"vector-effect: non-scaling-stroke; fill: none; stroke: rgb(226, 74, 51); stroke-opacity: 1; stroke-width: 2px; opacity: 1;\"/><path class=\"js-line\" d=\"M425.36,169.93L419.09,163.66L416.58,171.18L425.36,169.93\" style=\"vector-effect: non-scaling-stroke; fill: none; stroke: rgb(226, 74, 51); stroke-opacity: 1; stroke-width: 2px; opacity: 1;\"/><path class=\"js-line\" d=\"M370.2,144.86L455.94,185.47\" style=\"vector-effect: non-scaling-stroke; fill: none; stroke: rgb(226, 74, 51); stroke-opacity: 1; stroke-width: 2px; opacity: 1;\"/><path class=\"js-line\" d=\"M465.47,189.99L458.2,180.71L453.69,190.24L465.47,189.99\" style=\"vector-effect: non-scaling-stroke; fill: none; stroke: rgb(226, 74, 51); stroke-opacity: 1; stroke-width: 2px; opacity: 1;\"/><path class=\"js-line\" d=\"M229.8,124.8L198.21,30.03\" style=\"vector-effect: non-scaling-stroke; fill: none; stroke: rgb(226, 74, 51); stroke-opacity: 1; stroke-width: 2px; opacity: 1;\"/><path class=\"js-line\" d=\"M194.7,19.5L192.95,31.78L203.48,28.28L194.7,19.5\" style=\"vector-effect: non-scaling-stroke; fill: none; stroke: rgb(226, 74, 51); stroke-opacity: 1; stroke-width: 2px; opacity: 1;\"/><path class=\"js-line\" d=\"M249.86,124.8L236.32,48.08\" style=\"vector-effect: non-scaling-stroke; fill: none; stroke: rgb(226, 74, 51); stroke-opacity: 1; stroke-width: 2px; opacity: 1;\"/><path class=\"js-line\" d=\"M234.81,39.56L232.06,48.83L240.58,47.33L234.81,39.56\" style=\"vector-effect: non-scaling-stroke; fill: none; stroke: rgb(226, 74, 51); stroke-opacity: 1; stroke-width: 2px; opacity: 1;\"/><path class=\"js-line\" d=\"M269.91,124.8L274.43,66.13\" style=\"vector-effect: non-scaling-stroke; fill: none; stroke: rgb(226, 74, 51); stroke-opacity: 1; stroke-width: 2px; opacity: 1;\"/><path class=\"js-line\" d=\"M274.93,59.61L271.17,65.88L277.69,66.38L274.93,59.61\" style=\"vector-effect: non-scaling-stroke; fill: none; stroke: rgb(226, 74, 51); stroke-opacity: 1; stroke-width: 2px; opacity: 1;\"/><path class=\"js-line\" d=\"M289.97,124.8L312.54,84.18\" style=\"vector-effect: non-scaling-stroke; fill: none; stroke: rgb(226, 74, 51); stroke-opacity: 1; stroke-width: 2px; opacity: 1;\"/><path class=\"js-line\" d=\"M315.04,79.67L310.28,82.93L314.79,85.44L315.04,79.67\" style=\"vector-effect: non-scaling-stroke; fill: none; stroke: rgb(226, 74, 51); stroke-opacity: 1; stroke-width: 2px; opacity: 1;\"/><path class=\"js-line\" d=\"M310.03,124.8L350.64,102.24\" style=\"vector-effect: non-scaling-stroke; fill: none; stroke: rgb(226, 74, 51); stroke-opacity: 1; stroke-width: 2px; opacity: 1;\"/><path class=\"js-line\" d=\"M355.16,99.73L349.39,99.98L351.9,104.49L355.16,99.73\" style=\"vector-effect: non-scaling-stroke; fill: none; stroke: rgb(226, 74, 51); stroke-opacity: 1; stroke-width: 2px; opacity: 1;\"/><path class=\"js-line\" d=\"M330.09,124.8L388.75,120.29\" style=\"vector-effect: non-scaling-stroke; fill: none; stroke: rgb(226, 74, 51); stroke-opacity: 1; stroke-width: 2px; opacity: 1;\"/><path class=\"js-line\" d=\"M395.27,119.79L388.5,117.03L389,123.55L395.27,119.79\" style=\"vector-effect: non-scaling-stroke; fill: none; stroke: rgb(226, 74, 51); stroke-opacity: 1; stroke-width: 2px; opacity: 1;\"/><path class=\"js-line\" d=\"M350.14,124.8L426.86,138.34\" style=\"vector-effect: non-scaling-stroke; fill: none; stroke: rgb(226, 74, 51); stroke-opacity: 1; stroke-width: 2px; opacity: 1;\"/><path class=\"js-line\" d=\"M435.39,139.84L427.61,134.08L426.11,142.6L435.39,139.84\" style=\"vector-effect: non-scaling-stroke; fill: none; stroke: rgb(226, 74, 51); stroke-opacity: 1; stroke-width: 2px; opacity: 1;\"/><path class=\"js-line\" d=\"M370.2,124.8L464.97,156.39\" style=\"vector-effect: non-scaling-stroke; fill: none; stroke: rgb(226, 74, 51); stroke-opacity: 1; stroke-width: 2px; opacity: 1;\"/><path class=\"js-line\" d=\"M475.5,159.9L466.73,151.13L463.22,161.66L475.5,159.9\" style=\"vector-effect: non-scaling-stroke; fill: none; stroke: rgb(226, 74, 51); stroke-opacity: 1; stroke-width: 2px; opacity: 1;\"/></g><g class=\"points\"/><g class=\"text\"/></g><g class=\"trace scatter trace33316c\" style=\"stroke-miterlimit: 2; opacity: 1;\"><g class=\"fills\"/><g class=\"errorbars\"/><g class=\"lines\"><path class=\"js-line\" d=\"M241.5,253.5L358.5,253.5L358.5,136.5L241.5,136.5L241.5,253.5\" style=\"vector-effect: non-scaling-stroke; fill: none; stroke: rgb(0, 0, 0); stroke-opacity: 1; stroke-width: 2px; opacity: 1;\"/></g><g class=\"points\"/><g class=\"text\"/></g></g></g><g class=\"overplot\"/><path class=\"xlines-above crisp\" d=\"M49,450.5H651M49,59.5H651\" style=\"fill: none; stroke-width: 1px; stroke: rgb(0, 0, 0); stroke-opacity: 1;\"/><path class=\"ylines-above crisp\" d=\"M49.5,60V450M650.5,60V450\" style=\"fill: none; stroke-width: 1px; stroke: rgb(0, 0, 0); stroke-opacity: 1;\"/><g class=\"overlines-above\"/><g class=\"xaxislayer-above\"><path class=\"xtick ticks crisp\" d=\"M0,450v-5M0,60v5\" transform=\"translate(116,0)\" style=\"stroke: rgb(85, 85, 85); stroke-opacity: 1; stroke-width: 1px;\"/><path class=\"xtick ticks crisp\" d=\"M0,450v-5M0,60v5\" transform=\"translate(233,0)\" style=\"stroke: rgb(85, 85, 85); stroke-opacity: 1; stroke-width: 1px;\"/><path class=\"xtick ticks crisp\" d=\"M0,450v-5M0,60v5\" transform=\"translate(350,0)\" style=\"stroke: rgb(85, 85, 85); stroke-opacity: 1; stroke-width: 1px;\"/><path class=\"xtick ticks crisp\" d=\"M0,450v-5M0,60v5\" transform=\"translate(467,0)\" style=\"stroke: rgb(85, 85, 85); stroke-opacity: 1; stroke-width: 1px;\"/><path class=\"xtick ticks crisp\" d=\"M0,450v-5M0,60v5\" transform=\"translate(584,0)\" style=\"stroke: rgb(85, 85, 85); stroke-opacity: 1; stroke-width: 1px;\"/><g class=\"xtick\"><text text-anchor=\"middle\" x=\"0\" y=\"472.6\" transform=\"translate(116,0)\" style=\"font-family: 'Open Sans', verdana, arial, sans-serif; font-size: 18px; fill: rgb(68, 68, 68); fill-opacity: 1; white-space: pre;\">−2</text></g><g class=\"xtick\"><text text-anchor=\"middle\" x=\"0\" y=\"472.6\" transform=\"translate(233,0)\" style=\"font-family: 'Open Sans', verdana, arial, sans-serif; font-size: 18px; fill: rgb(68, 68, 68); fill-opacity: 1; white-space: pre;\">−1</text></g><g class=\"xtick\"><text text-anchor=\"middle\" x=\"0\" y=\"472.6\" transform=\"translate(350,0)\" style=\"font-family: 'Open Sans', verdana, arial, sans-serif; font-size: 18px; fill: rgb(68, 68, 68); fill-opacity: 1; white-space: pre;\">0</text></g><g class=\"xtick\"><text text-anchor=\"middle\" x=\"0\" y=\"472.6\" transform=\"translate(467,0)\" style=\"font-family: 'Open Sans', verdana, arial, sans-serif; font-size: 18px; fill: rgb(68, 68, 68); fill-opacity: 1; white-space: pre;\">1</text></g><g class=\"xtick\"><text text-anchor=\"middle\" x=\"0\" y=\"472.6\" transform=\"translate(584,0)\" style=\"font-family: 'Open Sans', verdana, arial, sans-serif; font-size: 18px; fill: rgb(68, 68, 68); fill-opacity: 1; white-space: pre;\">2</text></g></g><g class=\"yaxislayer-above\"><path class=\"ytick ticks crisp\" d=\"M50,0h5M650,0h-5\" transform=\"translate(0,430.5)\" style=\"stroke: rgb(85, 85, 85); stroke-opacity: 1; stroke-width: 1px;\"/><path class=\"ytick ticks crisp\" d=\"M50,0h5M650,0h-5\" transform=\"translate(0,372)\" style=\"stroke: rgb(85, 85, 85); stroke-opacity: 1; stroke-width: 1px;\"/><path class=\"ytick ticks crisp\" d=\"M50,0h5M650,0h-5\" transform=\"translate(0,313.5)\" style=\"stroke: rgb(85, 85, 85); stroke-opacity: 1; stroke-width: 1px;\"/><path class=\"ytick ticks crisp\" d=\"M50,0h5M650,0h-5\" transform=\"translate(0,255)\" style=\"stroke: rgb(85, 85, 85); stroke-opacity: 1; stroke-width: 1px;\"/><path class=\"ytick ticks crisp\" d=\"M50,0h5M650,0h-5\" transform=\"translate(0,196.5)\" style=\"stroke: rgb(85, 85, 85); stroke-opacity: 1; stroke-width: 1px;\"/><path class=\"ytick ticks crisp\" d=\"M50,0h5M650,0h-5\" transform=\"translate(0,138)\" style=\"stroke: rgb(85, 85, 85); stroke-opacity: 1; stroke-width: 1px;\"/><path class=\"ytick ticks crisp\" d=\"M50,0h5M650,0h-5\" transform=\"translate(0,79.5)\" style=\"stroke: rgb(85, 85, 85); stroke-opacity: 1; stroke-width: 1px;\"/><g class=\"ytick\"><text text-anchor=\"end\" x=\"45.4\" y=\"6.3\" transform=\"translate(0,430.5)\" style=\"font-family: 'Open Sans', verdana, arial, sans-serif; font-size: 18px; fill: rgb(68, 68, 68); fill-opacity: 1; white-space: pre;\">−1.5</text></g><g class=\"ytick\"><text text-anchor=\"end\" x=\"45.4\" y=\"6.3\" transform=\"translate(0,372)\" style=\"font-family: 'Open Sans', verdana, arial, sans-serif; font-size: 18px; fill: rgb(68, 68, 68); fill-opacity: 1; white-space: pre;\">−1</text></g><g class=\"ytick\"><text text-anchor=\"end\" x=\"45.4\" y=\"6.3\" transform=\"translate(0,313.5)\" style=\"font-family: 'Open Sans', verdana, arial, sans-serif; font-size: 18px; fill: rgb(68, 68, 68); fill-opacity: 1; white-space: pre;\">−0.5</text></g><g class=\"ytick\"><text text-anchor=\"end\" x=\"45.4\" y=\"6.3\" transform=\"translate(0,255)\" style=\"font-family: 'Open Sans', verdana, arial, sans-serif; font-size: 18px; fill: rgb(68, 68, 68); fill-opacity: 1; white-space: pre;\">0</text></g><g class=\"ytick\"><text text-anchor=\"end\" x=\"45.4\" y=\"6.3\" transform=\"translate(0,196.5)\" style=\"font-family: 'Open Sans', verdana, arial, sans-serif; font-size: 18px; fill: rgb(68, 68, 68); fill-opacity: 1; white-space: pre;\">0.5</text></g><g class=\"ytick\"><text text-anchor=\"end\" x=\"45.4\" y=\"6.3\" transform=\"translate(0,138)\" style=\"font-family: 'Open Sans', verdana, arial, sans-serif; font-size: 18px; fill: rgb(68, 68, 68); fill-opacity: 1; white-space: pre;\">1</text></g><g class=\"ytick\"><text text-anchor=\"end\" x=\"45.4\" y=\"6.3\" transform=\"translate(0,79.5)\" style=\"font-family: 'Open Sans', verdana, arial, sans-serif; font-size: 18px; fill: rgb(68, 68, 68); fill-opacity: 1; white-space: pre;\">1.5</text></g></g><g class=\"overaxes-above\"/></g></g><g class=\"polarlayer\"/><g class=\"ternarylayer\"/><g class=\"geolayer\"/><g class=\"funnelarealayer\"/><g class=\"pielayer\"/><g class=\"treemaplayer\"/><g class=\"sunburstlayer\"/><g class=\"glimages\"/><defs id=\"topdefs-da75ac\"><g class=\"clips\"/></defs><g class=\"layer-above\"><g class=\"imagelayer\"/><g class=\"shapelayer\"/></g><g class=\"infolayer\"><g class=\"g-gtitle\"><text class=\"gtitle\" x=\"350\" y=\"30\" text-anchor=\"middle\" dy=\"0em\" style=\"font-family: 'Open Sans', verdana, arial, sans-serif; font-size: 25px; fill: rgb(68, 68, 68); opacity: 1; font-weight: normal; white-space: pre;\">A = [1, 0.5; -1, 0.5]</text></g><g class=\"g-xtitle\"/><g class=\"g-ytitle\"/></g></svg>"
      ],
      "text/html": [
       "<div\n",
       "    class=\"webio-mountpoint\"\n",
       "    data-webio-mountpoint=\"1231474981360080978\"\n",
       ">\n",
       "    <script>\n",
       "    if (window.require && require.defined && require.defined(\"nbextensions/webio-jupyter-notebook\")) {\n",
       "        console.log(\"Jupyter WebIO extension detected, not mounting.\");\n",
       "    } else if (window.WebIO) {\n",
       "        WebIO.mount(\n",
       "            document.querySelector('[data-webio-mountpoint=\"1231474981360080978\"]'),\n",
       "            {\"props\":{},\"nodeType\":\"Scope\",\"type\":\"node\",\"instanceArgs\":{\"imports\":{\"data\":[{\"name\":\"Plotly\",\"type\":\"js\",\"url\":\"\\/assetserver\\/57533c5d787f8bc76a9e58ed0a1abce5f1b0c14d-plotly-latest.min.js\"},{\"name\":null,\"type\":\"js\",\"url\":\"\\/assetserver\\/58a7932c57029f7dbaa4105104076ff149fc7585-plotly_webio.bundle.js\"}],\"type\":\"async_block\"},\"id\":\"4285294689102093001\",\"handlers\":{\"_toImage\":[\"(function (options){return this.Plotly.toImage(this.plotElem,options).then((function (data){return WebIO.setval({\\\"name\\\":\\\"image\\\",\\\"scope\\\":\\\"4285294689102093001\\\",\\\"id\\\":\\\"13891207121648051196\\\",\\\"type\\\":\\\"observable\\\"},data)}))})\"],\"__get_gd_contents\":[\"(function (prop){prop==\\\"data\\\" ? (WebIO.setval({\\\"name\\\":\\\"__gd_contents\\\",\\\"scope\\\":\\\"4285294689102093001\\\",\\\"id\\\":\\\"17409714735273597456\\\",\\\"type\\\":\\\"observable\\\"},this.plotElem.data)) : undefined; return prop==\\\"layout\\\" ? (WebIO.setval({\\\"name\\\":\\\"__gd_contents\\\",\\\"scope\\\":\\\"4285294689102093001\\\",\\\"id\\\":\\\"17409714735273597456\\\",\\\"type\\\":\\\"observable\\\"},this.plotElem.layout)) : undefined})\"],\"_downloadImage\":[\"(function (options){return this.Plotly.downloadImage(this.plotElem,options)})\"],\"_commands\":[\"(function (args){var fn=args.shift(); var elem=this.plotElem; var Plotly=this.Plotly; args.unshift(elem); return Plotly[fn].apply(this,args)})\"]},\"systemjs_options\":null,\"mount_callbacks\":[\"function () {\\n    var handler = ((function (Plotly,PlotlyWebIO){PlotlyWebIO.init(WebIO); var gd=this.dom.querySelector(\\\"#plot-09f5ee0b-1125-4d59-9117-13f88dbf9852\\\"); this.plotElem=gd; this.Plotly=Plotly; (window.Blink!==undefined) ? (gd.style.width=\\\"100%\\\", gd.style.height=\\\"100vh\\\", gd.style.marginLeft=\\\"0%\\\", gd.style.marginTop=\\\"0vh\\\") : undefined; window.onresize=(function (){return Plotly.Plots.resize(gd)}); Plotly.newPlot(gd,[{\\\"marker\\\":{\\\"color\\\":\\\"#E24A33\\\",\\\"line\\\":{\\\"color\\\":\\\"#348ABD\\\",\\\"width\\\":0.5}},\\\"y\\\":[-0.6,-0.33,null,-0.3,-0.375,-0.28500000000000003,-0.3,null,-0.6,-0.48428571428571415,null,-0.4714285714285713,-0.5207142857142856,-0.44785714285714273,-0.4714285714285713,null,-0.6,-0.6385714285714285,null,-0.6428571428571428,-0.6664285714285714,-0.6107142857142855,-0.6428571428571428,null,-0.6,-0.7928571428571428,null,-0.8142857142857143,-0.812142857142857,-0.7735714285714286,-0.8142857142857143,null,-0.6,-0.947142857142857,null,-0.9857142857142855,-0.9578571428571426,-0.9364285714285713,-0.9857142857142855,null,-0.6,-1.1014285714285714,null,-1.157142857142857,-1.1035714285714286,-1.0992857142857142,-1.157142857142857,null,-0.6,-1.2557142857142853,null,-1.3285714285714283,-1.2492857142857139,-1.2621428571428568,-1.3285714285714283,null,-0.6,-1.41,null,-1.5,-1.395,-1.4249999999999998,-1.5,null,-0.42857142857142866,-0.08142857142857154,null,-0.04285714285714298,-0.12214285714285726,-0.04071428571428583,-0.04285714285714298,null,-0.42857142857142866,-0.23571428571428577,null,-0.21428571428571433,-0.2678571428571429,-0.20357142857142863,-0.21428571428571433,null,-0.42857142857142866,-0.3900000000000002,null,-0.3857142857142859,-0.41357142857142876,-0.3664285714285716,-0.3857142857142859,null,-0.42857142857142866,-0.5442857142857144,null,-0.5571428571428573,-0.5592857142857144,-0.5292857142857144,-0.5571428571428573,null,-0.42857142857142866,-0.6985714285714286,null,-0.7285714285714286,-0.7050000000000001,-0.6921428571428572,-0.7285714285714286,null,-0.42857142857142866,-0.852857142857143,null,-0.9000000000000001,-0.8507142857142859,-0.8550000000000001,-0.9000000000000001,null,-0.42857142857142866,-1.0071428571428571,null,-1.0714285714285714,-0.9964285714285714,-1.0178571428571428,-1.0714285714285714,null,-0.42857142857142866,-1.1614285714285715,null,-1.2428571428571429,-1.1421428571428571,-1.1807142857142858,-1.2428571428571429,null,-0.2571428571428571,0.16714285714285715,null,0.2142857142857143,0.13071428571428573,0.20357142857142857,0.2142857142857143,null,-0.2571428571428571,0.012857142857142973,null,0.04285714285714298,-0.014999999999999885,0.04071428571428583,0.04285714285714298,null,-0.2571428571428571,-0.1414285714285714,null,-0.12857142857142856,-0.1607142857142857,-0.12214285714285712,-0.12857142857142856,null,-0.2571428571428571,-0.2957142857142857,null,-0.3,-0.30642857142857144,-0.285,-0.3,null,-0.2571428571428571,-0.4499999999999999,null,-0.4714285714285713,-0.45214285714285707,-0.44785714285714273,-0.4714285714285713,null,-0.2571428571428571,-0.6042857142857142,null,-0.6428571428571428,-0.5978571428571428,-0.6107142857142857,-0.6428571428571428,null,-0.2571428571428571,-0.7585714285714285,null,-0.8142857142857142,-0.7435714285714284,-0.7735714285714285,-0.8142857142857142,null,-0.2571428571428571,-0.9128571428571428,null,-0.9857142857142857,-0.8892857142857142,-0.9364285714285714,-0.9857142857142857,null,-0.08571428571428569,0.41571428571428576,null,0.4714285714285715,0.3835714285714286,0.4478571428571429,0.4714285714285715,null,-0.08571428571428569,0.2614285714285715,null,0.3000000000000001,0.23785714285714293,0.2850000000000001,0.3000000000000001,null,-0.08571428571428569,0.10714285714285715,null,0.1285714285714286,0.09214285714285715,0.12214285714285715,0.1285714285714286,null,-0.08571428571428569,-0.047142857142857125,null,-0.042857142857142844,-0.053571428571428555,-0.040714285714285696,-0.042857142857142844,null,-0.08571428571428569,-0.20142857142857132,null,-0.21428571428571416,-0.19928571428571418,-0.20357142857142846,-0.21428571428571416,null,-0.08571428571428569,-0.35571428571428565,null,-0.3857142857142856,-0.3449999999999999,-0.3664285714285714,-0.3857142857142856,null,-0.08571428571428569,-0.5099999999999998,null,-0.5571428571428569,-0.4907142857142855,-0.529285714285714,-0.5571428571428569,null,-0.08571428571428569,-0.6642857142857141,null,-0.7285714285714284,-0.6364285714285713,-0.692142857142857,-0.7285714285714284,null,0.08571428571428563,0.6642857142857141,null,0.7285714285714284,0.6364285714285713,0.692142857142857,0.7285714285714284,null,0.08571428571428563,0.51,null,0.5571428571428572,0.4907142857142857,0.5292857142857142,0.5571428571428572,null,0.08571428571428563,0.3557142857142856,null,0.38571428571428557,0.34499999999999986,0.3664285714285713,0.38571428571428557,null,0.08571428571428563,0.2014285714285713,null,0.21428571428571414,0.19928571428571415,0.20357142857142843,0.21428571428571414,null,0.08571428571428563,0.0471428571428571,null,0.042857142857142816,0.05357142857142852,0.040714285714285675,0.042857142857142816,null,0.08571428571428563,-0.10714285714285723,null,-0.12857142857142867,-0.09214285714285723,-0.12214285714285723,-0.12857142857142867,null,0.08571428571428563,-0.26142857142857145,null,-0.30000000000000004,-0.23785714285714288,-0.28500000000000003,-0.30000000000000004,null,0.08571428571428563,-0.4157142857142858,null,-0.47142857142857153,-0.3835714285714287,-0.44785714285714295,-0.47142857142857153,null,0.2571428571428571,0.9128571428571428,null,0.9857142857142857,0.8892857142857142,0.9364285714285714,0.9857142857142857,null,0.2571428571428571,0.7585714285714286,null,0.8142857142857143,0.7435714285714285,0.7735714285714286,0.8142857142857143,null,0.2571428571428571,0.6042857142857142,null,0.6428571428571428,0.5978571428571428,0.6107142857142857,0.6428571428571428,null,0.2571428571428571,0.44999999999999996,null,0.47142857142857136,0.4521428571428571,0.4478571428571428,0.47142857142857136,null,0.2571428571428571,0.29571428571428576,null,0.30000000000000004,0.3064285714285715,0.28500000000000003,0.30000000000000004,null,0.2571428571428571,0.1414285714285714,null,0.12857142857142856,0.1607142857142857,0.12214285714285712,0.12857142857142856,null,0.2571428571428571,-0.012857142857142817,null,-0.042857142857142816,0.015000000000000041,-0.040714285714285675,-0.042857142857142816,null,0.2571428571428571,-0.16714285714285715,null,-0.2142857142857143,-0.13071428571428573,-0.20357142857142857,-0.2142857142857143,null,0.4285714285714285,1.1614285714285715,null,1.2428571428571429,1.1421428571428571,1.1807142857142858,1.2428571428571429,null,0.4285714285714285,1.0071428571428571,null,1.0714285714285714,0.9964285714285714,1.0178571428571428,1.0714285714285714,null,0.4285714285714285,0.8528571428571428,null,0.8999999999999999,0.8507142857142856,0.8549999999999999,0.8999999999999999,null,0.4285714285714285,0.6985714285714284,null,0.7285714285714284,0.7049999999999998,0.692142857142857,0.7285714285714284,null,0.4285714285714285,0.5442857142857143,null,0.5571428571428572,0.5592857142857143,0.5292857142857142,0.5571428571428572,null,0.4285714285714285,0.3899999999999999,null,0.3857142857142856,0.4135714285714285,0.3664285714285713,0.3857142857142856,null,0.4285714285714285,0.23571428571428568,null,0.21428571428571425,0.2678571428571428,0.20357142857142854,0.21428571428571425,null,0.4285714285714285,0.08142857142857134,null,0.04285714285714276,0.12214285714285705,0.04071428571428562,0.04285714285714276,null,0.6,1.41,null,1.5,1.395,1.4249999999999998,1.5,null,0.6,1.2557142857142858,null,1.3285714285714287,1.2492857142857143,1.2621428571428572,1.3285714285714287,null,0.6,1.1014285714285714,null,1.157142857142857,1.1035714285714286,1.0992857142857142,1.157142857142857,null,0.6,0.9471428571428571,null,0.9857142857142857,0.9578571428571427,0.9364285714285714,0.9857142857142857,null,0.6,0.7928571428571428,null,0.8142857142857143,0.812142857142857,0.7735714285714286,0.8142857142857143,null,0.6,0.6385714285714285,null,0.6428571428571428,0.6664285714285714,0.6107142857142855,0.6428571428571428,null,0.6,0.4842857142857143,null,0.4714285714285715,0.5207142857142857,0.4478571428571429,0.4714285714285715,null,0.6,0.33,null,0.3,0.375,0.28500000000000003,0.3,null],\\\"type\\\":\\\"scatter\\\",\\\"fill\\\":\\\"toself\\\",\\\"x\\\":[-0.6,-1.41,null,-1.5,-1.4249999999999998,-1.395,-1.5,null,-0.42857142857142866,-1.0842857142857143,null,-1.1571428571428573,-1.0907142857142857,-1.0778571428571428,-1.1571428571428573,null,-0.2571428571428571,-0.7585714285714286,null,-0.8142857142857143,-0.7564285714285715,-0.7607142857142857,-0.8142857142857143,null,-0.08571428571428569,-0.4328571428571428,null,-0.47142857142857136,-0.42214285714285704,-0.4435714285714285,-0.47142857142857136,null,0.08571428571428563,-0.10714285714285729,null,-0.12857142857142873,-0.08785714285714301,-0.12642857142857158,-0.12857142857142873,null,0.2571428571428571,0.21857142857142853,null,0.21428571428571425,0.24642857142857139,0.19071428571428567,0.21428571428571425,null,0.4285714285714285,0.544285714285714,null,0.5571428571428569,0.5807142857142855,0.5078571428571426,0.5571428571428569,null,0.6,0.8699999999999999,null,0.8999999999999999,0.9149999999999999,0.8249999999999998,0.8999999999999999,null,-0.6,-1.3328571428571427,null,-1.4142857142857141,-1.352142857142857,-1.3135714285714284,-1.4142857142857141,null,-0.42857142857142866,-1.0071428571428573,null,-1.0714285714285716,-1.017857142857143,-0.9964285714285717,-1.0714285714285716,null,-0.2571428571428571,-0.6814285714285714,null,-0.7285714285714285,-0.6835714285714285,-0.6792857142857143,-0.7285714285714285,null,-0.08571428571428569,-0.3557142857142857,null,-0.38571428571428573,-0.34928571428571425,-0.36214285714285716,-0.38571428571428573,null,0.08571428571428563,-0.030000000000000193,null,-0.042857142857143066,-0.015000000000000195,-0.04500000000000019,-0.042857142857143066,null,0.2571428571428571,0.29571428571428565,null,0.29999999999999993,0.31928571428571423,0.2721428571428571,0.29999999999999993,null,0.4285714285714285,0.6214285714285712,null,0.6428571428571427,0.6535714285714284,0.5892857142857141,0.6428571428571427,null,0.6,0.9471428571428571,null,0.9857142857142857,0.9878571428571428,0.9064285714285714,0.9857142857142857,null,-0.6,-1.2557142857142856,null,-1.3285714285714285,-1.2792857142857141,-1.232142857142857,-1.3285714285714285,null,-0.42857142857142866,-0.93,null,-0.9857142857142858,-0.9450000000000001,-0.915,-0.9857142857142858,null,-0.2571428571428571,-0.6042857142857142,null,-0.6428571428571428,-0.6107142857142857,-0.5978571428571428,-0.6428571428571428,null,-0.08571428571428569,-0.2785714285714285,null,-0.29999999999999993,-0.27642857142857136,-0.2807142857142857,-0.29999999999999993,null,0.08571428571428563,0.047142857142857,null,0.042857142857142705,0.05785714285714271,0.03642857142857129,0.042857142857142705,null,0.2571428571428571,0.37285714285714283,null,0.3857142857142857,0.3921428571428571,0.35357142857142854,0.3857142857142857,null,0.4285714285714285,0.6985714285714284,null,0.7285714285714284,0.7264285714285712,0.6707142857142856,0.7285714285714284,null,0.6,1.0242857142857142,null,1.0714285714285714,1.0607142857142857,0.9878571428571428,1.0714285714285714,null,-0.6,-1.1785714285714286,null,-1.2428571428571429,-1.2064285714285714,-1.1507142857142858,-1.2428571428571429,null,-0.42857142857142866,-0.852857142857143,null,-0.9000000000000001,-0.8721428571428572,-0.8335714285714287,-0.9000000000000001,null,-0.2571428571428571,-0.527142857142857,null,-0.557142857142857,-0.5378571428571427,-0.5164285714285713,-0.557142857142857,null,-0.08571428571428569,-0.20142857142857137,null,-0.21428571428571422,-0.20357142857142851,-0.19928571428571423,-0.21428571428571422,null,0.08571428571428563,0.12428571428571414,null,0.12857142857142842,0.13071428571428556,0.11785714285714272,0.12857142857142842,null,0.2571428571428571,0.45,null,0.4714285714285714,0.465,0.435,0.4714285714285714,null,0.4285714285714285,0.7757142857142856,null,0.8142857142857142,0.7992857142857142,0.752142857142857,0.8142857142857142,null,0.6,1.1014285714285714,null,1.157142857142857,1.1335714285714285,1.0692857142857144,1.157142857142857,null,-0.6,-1.1014285714285714,null,-1.157142857142857,-1.1335714285714285,-1.0692857142857144,-1.157142857142857,null,-0.42857142857142866,-0.7757142857142859,null,-0.8142857142857145,-0.7992857142857145,-0.7521428571428573,-0.8142857142857145,null,-0.2571428571428571,-0.45,null,-0.4714285714285714,-0.465,-0.435,-0.4714285714285714,null,-0.08571428571428569,-0.12428571428571428,null,-0.12857142857142856,-0.1307142857142857,-0.11785714285714285,-0.12857142857142856,null,0.08571428571428563,0.20142857142857123,null,0.21428571428571408,0.20357142857142838,0.1992857142857141,0.21428571428571408,null,0.2571428571428571,0.527142857142857,null,0.557142857142857,0.5378571428571427,0.5164285714285713,0.557142857142857,null,0.4285714285714285,0.8528571428571426,null,0.8999999999999998,0.8721428571428569,0.8335714285714284,0.8999999999999998,null,0.6,1.1785714285714286,null,1.2428571428571429,1.2064285714285714,1.1507142857142858,1.2428571428571429,null,-0.6,-1.0242857142857142,null,-1.0714285714285714,-1.0607142857142857,-0.9878571428571428,-1.0714285714285714,null,-0.42857142857142866,-0.6985714285714287,null,-0.7285714285714288,-0.7264285714285716,-0.6707142857142858,-0.7285714285714288,null,-0.2571428571428571,-0.37285714285714283,null,-0.3857142857142857,-0.3921428571428571,-0.35357142857142854,-0.3857142857142857,null,-0.08571428571428569,-0.047142857142857104,null,-0.042857142857142816,-0.057857142857142815,-0.036428571428571394,-0.042857142857142816,null,0.08571428571428563,0.2785714285714284,null,0.2999999999999998,0.27642857142857125,0.2807142857142856,0.2999999999999998,null,0.2571428571428571,0.6042857142857142,null,0.6428571428571428,0.6107142857142857,0.5978571428571428,0.6428571428571428,null,0.4285714285714285,0.9299999999999998,null,0.9857142857142855,0.9449999999999998,0.9149999999999998,0.9857142857142855,null,0.6,1.2557142857142856,null,1.3285714285714285,1.2792857142857141,1.232142857142857,1.3285714285714285,null,-0.6,-0.9471428571428572,null,-0.9857142857142858,-0.9878571428571429,-0.9064285714285715,-0.9857142857142858,null,-0.42857142857142866,-0.6214285714285716,null,-0.642857142857143,-0.6535714285714287,-0.5892857142857144,-0.642857142857143,null,-0.2571428571428571,-0.2957142857142857,null,-0.3,-0.3192857142857143,-0.27214285714285713,-0.3,null,-0.08571428571428569,0.030000000000000013,null,0.04285714285714287,0.015000000000000015,0.04500000000000001,0.04285714285714287,null,0.08571428571428563,0.35571428571428554,null,0.3857142857142855,0.3492857142857141,0.362142857142857,0.3857142857142855,null,0.2571428571428571,0.6814285714285713,null,0.7285714285714284,0.6835714285714284,0.6792857142857142,0.7285714285714284,null,0.4285714285714285,1.007142857142857,null,1.0714285714285712,1.0178571428571426,0.9964285714285712,1.0714285714285712,null,0.6,1.3328571428571427,null,1.4142857142857141,1.352142857142857,1.3135714285714284,1.4142857142857141,null,-0.6,-0.8699999999999999,null,-0.8999999999999999,-0.9149999999999999,-0.8249999999999998,-0.8999999999999999,null,-0.42857142857142866,-0.5442857142857145,null,-0.5571428571428574,-0.580714285714286,-0.507857142857143,-0.5571428571428574,null,-0.2571428571428571,-0.21857142857142853,null,-0.21428571428571425,-0.24642857142857139,-0.19071428571428567,-0.21428571428571425,null,-0.08571428571428569,0.10714285714285718,null,0.12857142857142861,0.0878571428571429,0.12642857142857147,0.12857142857142861,null,0.08571428571428563,0.43285714285714266,null,0.47142857142857125,0.42214285714285693,0.4435714285714284,0.47142857142857125,null,0.2571428571428571,0.7585714285714286,null,0.8142857142857143,0.7564285714285715,0.7607142857142857,0.8142857142857143,null,0.4285714285714285,1.084285714285714,null,1.157142857142857,1.0907142857142855,1.0778571428571426,1.157142857142857,null,0.6,1.41,null,1.5,1.4249999999999998,1.395,1.5,null]},{\\\"marker\\\":{\\\"color\\\":\\\"#348ABD\\\",\\\"line\\\":{\\\"color\\\":\\\"#348ABD\\\",\\\"width\\\":0.5}},\\\"mode\\\":\\\"lines\\\",\\\"line\\\":{\\\"color\\\":\\\"black\\\"},\\\"y\\\":[-0.5,-0.5,0.5,0.5,-0.5],\\\"type\\\":\\\"scatter\\\",\\\"x\\\":[-0.5,0.5,0.5,-0.5,-0.5]}],{\\\"showlegend\\\":false,\\\"xaxis\\\":{\\\"showgrid\\\":true,\\\"titlefont\\\":{\\\"color\\\":\\\"#555555\\\",\\\"size\\\":18},\\\"tickfont\\\":{\\\"size\\\":18},\\\"ticks\\\":\\\"inside\\\",\\\"tickcolor\\\":\\\"#555555\\\",\\\"mirror\\\":\\\"ticks\\\",\\\"linecolor\\\":\\\"black\\\"},\\\"font\\\":{\\\"size\\\":18},\\\"margin\\\":{\\\"l\\\":50,\\\"b\\\":50,\\\"r\\\":50,\\\"t\\\":60},\\\"yaxis\\\":{\\\"showgrid\\\":true,\\\"titlefont\\\":{\\\"color\\\":\\\"#555555\\\",\\\"size\\\":18},\\\"tickfont\\\":{\\\"size\\\":18},\\\"scaleanchor\\\":\\\"x\\\",\\\"ticks\\\":\\\"inside\\\",\\\"tickcolor\\\":\\\"#555555\\\",\\\"mirror\\\":\\\"ticks\\\",\\\"linecolor\\\":\\\"black\\\"},\\\"title\\\":\\\"A = [1, 0.5; -1, 0.5]\\\"},{}); gd.on(\\\"plotly_hover\\\",(function (data){var filtered_data=WebIO.PlotlyCommands.filterEventData(gd,data,\\\"hover\\\"); return !(filtered_data.isnil) ? (WebIO.setval({\\\"name\\\":\\\"hover\\\",\\\"scope\\\":\\\"4285294689102093001\\\",\\\"id\\\":\\\"6446006644153259155\\\",\\\"type\\\":\\\"observable\\\"},filtered_data.out)) : undefined})); gd.on(\\\"plotly_unhover\\\",(function (){return WebIO.setval({\\\"name\\\":\\\"hover\\\",\\\"scope\\\":\\\"4285294689102093001\\\",\\\"id\\\":\\\"6446006644153259155\\\",\\\"type\\\":\\\"observable\\\"},{})})); gd.on(\\\"plotly_selected\\\",(function (data){var filtered_data=WebIO.PlotlyCommands.filterEventData(gd,data,\\\"selected\\\"); return !(filtered_data.isnil) ? (WebIO.setval({\\\"name\\\":\\\"selected\\\",\\\"scope\\\":\\\"4285294689102093001\\\",\\\"id\\\":\\\"17395871327675193317\\\",\\\"type\\\":\\\"observable\\\"},filtered_data.out)) : undefined})); gd.on(\\\"plotly_deselect\\\",(function (){return WebIO.setval({\\\"name\\\":\\\"selected\\\",\\\"scope\\\":\\\"4285294689102093001\\\",\\\"id\\\":\\\"17395871327675193317\\\",\\\"type\\\":\\\"observable\\\"},{})})); gd.on(\\\"plotly_relayout\\\",(function (data){var filtered_data=WebIO.PlotlyCommands.filterEventData(gd,data,\\\"relayout\\\"); return !(filtered_data.isnil) ? (WebIO.setval({\\\"name\\\":\\\"relayout\\\",\\\"scope\\\":\\\"4285294689102093001\\\",\\\"id\\\":\\\"1042647995383215820\\\",\\\"type\\\":\\\"observable\\\"},filtered_data.out)) : undefined})); return gd.on(\\\"plotly_click\\\",(function (data){var filtered_data=WebIO.PlotlyCommands.filterEventData(gd,data,\\\"click\\\"); return !(filtered_data.isnil) ? (WebIO.setval({\\\"name\\\":\\\"click\\\",\\\"scope\\\":\\\"4285294689102093001\\\",\\\"id\\\":\\\"11602125680802565950\\\",\\\"type\\\":\\\"observable\\\"},filtered_data.out)) : undefined}))}));\\n    (WebIO.importBlock({\\\"data\\\":[{\\\"name\\\":\\\"Plotly\\\",\\\"type\\\":\\\"js\\\",\\\"url\\\":\\\"\\/assetserver\\/57533c5d787f8bc76a9e58ed0a1abce5f1b0c14d-plotly-latest.min.js\\\"},{\\\"name\\\":null,\\\"type\\\":\\\"js\\\",\\\"url\\\":\\\"\\/assetserver\\/58a7932c57029f7dbaa4105104076ff149fc7585-plotly_webio.bundle.js\\\"}],\\\"type\\\":\\\"async_block\\\"})).then((imports) => handler.apply(this, imports));\\n}\\n\"],\"observables\":{\"_toImage\":{\"sync\":false,\"id\":\"850385669778882686\",\"value\":{}},\"hover\":{\"sync\":false,\"id\":\"6446006644153259155\",\"value\":{}},\"selected\":{\"sync\":false,\"id\":\"17395871327675193317\",\"value\":{}},\"__gd_contents\":{\"sync\":false,\"id\":\"17409714735273597456\",\"value\":{}},\"click\":{\"sync\":false,\"id\":\"11602125680802565950\",\"value\":{}},\"image\":{\"sync\":true,\"id\":\"13891207121648051196\",\"value\":\"\"},\"__get_gd_contents\":{\"sync\":false,\"id\":\"6402115982492973369\",\"value\":\"\"},\"_downloadImage\":{\"sync\":false,\"id\":\"13902285680555595160\",\"value\":{}},\"relayout\":{\"sync\":false,\"id\":\"1042647995383215820\",\"value\":{}},\"_commands\":{\"sync\":false,\"id\":\"11546232155354910379\",\"value\":[]}}},\"children\":[{\"props\":{\"id\":\"plot-09f5ee0b-1125-4d59-9117-13f88dbf9852\"},\"nodeType\":\"DOM\",\"type\":\"node\",\"instanceArgs\":{\"namespace\":\"html\",\"tag\":\"div\"},\"children\":[]}]},\n",
       "            window,\n",
       "        );\n",
       "    } else {\n",
       "        document\n",
       "            .querySelector('[data-webio-mountpoint=\"1231474981360080978\"]')\n",
       "            .innerHTML = (\n",
       "                '<div style=\"padding: 1em; background-color: #f8d6da; border: 1px solid #f5c6cb\">' +\n",
       "                '<p><strong>WebIO not detected.</strong></p>' +\n",
       "                '<p>Please read ' +\n",
       "                '<a href=\"https://juliagizmos.github.io/WebIO.jl/latest/troubleshooting/not-detected/\" target=\"_blank\">the troubleshooting guide</a> ' +\n",
       "                'for more information on how to resolve this issue.</p>' +\n",
       "                '<p><a href=\"https://juliagizmos.github.io/WebIO.jl/latest/troubleshooting/not-detected/\" target=\"_blank\">https://juliagizmos.github.io/WebIO.jl/latest/troubleshooting/not-detected/</a></p>' +\n",
       "                '</div>'\n",
       "            );\n",
       "    }\n",
       "    </script>\n",
       "</div>\n"
      ],
      "text/plain": [
       "data: [\n",
       "  \"scatter with fields fill, marker, type, x, and y\",\n",
       "  \"scatter with fields line, marker, mode, type, x, and y\"\n",
       "]\n",
       "\n",
       "layout: \"layout with fields font, margin, showlegend, title, xaxis, and yaxis\"\n",
       "\n"
      ]
     },
     "execution_count": 13,
     "metadata": {
      "application/vnd.webio.node+json": {
       "kernelId": "28ec333a-283d-4da8-8e5f-39150d162437"
      }
     },
     "output_type": "execute_result"
    }
   ],
   "source": [
    "A = [1 1/2; -1 1/2]\n",
    "\n",
    "n = 8\n",
    "g = LinRange(-0.6,0.6,n)\n",
    "x = [ i==1 ? g[1+rem(j,n)] : g[1+div(j,n)] for i=1:2, j=0:n*n-1 ]\n",
    "\n",
    "u = A*x\n",
    "\n",
    "t1 = quiver(x,A*x)\n",
    "t2 = scatter(x=[-1, 1, 1, -1, -1]/2, y=[-1, -1, 1, 1, -1]/2, \n",
    "    mode=\"lines\", line_color=\"black\")\n",
    "\n",
    "p1 = plot([t1, t2], \n",
    "    Layout(yaxis_scaleanchor=\"x\", title=\"A = [1, 0.5; -1, 0.5]\",showlegend=false), \n",
    "    style=nla_style)"
   ]
  },
  {
   "cell_type": "code",
   "execution_count": 14,
   "metadata": {},
   "outputs": [
    {
     "data": {
      "text/plain": [
       "\"fig_la5.pdf\""
      ]
     },
     "execution_count": 14,
     "metadata": {},
     "output_type": "execute_result"
    }
   ],
   "source": [
    "if output\n",
    "    PlotlyJS.savefig(p1,\"fig_la5.pdf\")\n",
    "end"
   ]
  },
  {
   "cell_type": "code",
   "execution_count": 15,
   "metadata": {},
   "outputs": [
    {
     "data": {
      "application/vnd.plotly.v1+json": {
       "data": [
        {
         "fill": "toself",
         "marker": {
          "color": "#E24A33",
          "line": {
           "color": "#348ABD",
           "width": 0.5
          }
         },
         "type": "scatter",
         "x": [
          0,
          2,
          3,
          1,
          0
         ],
         "y": [
          0,
          1,
          3,
          2,
          0
         ]
        }
       ],
       "frames": [],
       "layout": {
        "annotations": [
         {
          "text": "(a,b)",
          "x": 2,
          "y": 1
         },
         {
          "text": "(c,d)",
          "x": 1,
          "y": 2
         },
         {
          "text": "(a+c,b+d)",
          "x": 3,
          "y": 3
         },
         {
          "showarrow": false,
          "text": "ad-bc",
          "x": 1.5,
          "y": 1.6500000000000001
         }
        ],
        "font": {
         "size": 18
        },
        "margin": {
         "b": 50,
         "l": 50,
         "r": 50,
         "t": 60
        },
        "showlegend": false,
        "title": "Area = ad - bc",
        "xaxis": {
         "linecolor": "black",
         "mirror": "ticks",
         "showgrid": true,
         "tickcolor": "#555555",
         "tickfont": {
          "size": 18
         },
         "ticks": "inside",
         "titlefont": {
          "color": "#555555",
          "size": 18
         }
        },
        "yaxis": {
         "linecolor": "black",
         "mirror": "ticks",
         "scaleanchor": "x",
         "showgrid": true,
         "tickcolor": "#555555",
         "tickfont": {
          "size": 18
         },
         "ticks": "inside",
         "titlefont": {
          "color": "#555555",
          "size": 18
         }
        }
       }
      },
      "application/vnd.webio.node+json": {
       "children": [
        {
         "children": [],
         "instanceArgs": {
          "namespace": "html",
          "tag": "div"
         },
         "nodeType": "DOM",
         "props": {
          "id": "plot-239edfa0-dda6-4dbf-88e5-81bcdde3ee46"
         },
         "type": "node"
        }
       ],
       "instanceArgs": {
        "handlers": {
         "__get_gd_contents": [
          "(function (prop){prop==\"data\" ? (WebIO.setval({\"name\":\"__gd_contents\",\"scope\":\"9040616494466075881\",\"id\":\"17075397354966551958\",\"type\":\"observable\"},this.plotElem.data)) : undefined; return prop==\"layout\" ? (WebIO.setval({\"name\":\"__gd_contents\",\"scope\":\"9040616494466075881\",\"id\":\"17075397354966551958\",\"type\":\"observable\"},this.plotElem.layout)) : undefined})"
         ],
         "_commands": [
          "(function (args){var fn=args.shift(); var elem=this.plotElem; var Plotly=this.Plotly; args.unshift(elem); return Plotly[fn].apply(this,args)})"
         ],
         "_downloadImage": [
          "(function (options){return this.Plotly.downloadImage(this.plotElem,options)})"
         ],
         "_toImage": [
          "(function (options){return this.Plotly.toImage(this.plotElem,options).then((function (data){return WebIO.setval({\"name\":\"image\",\"scope\":\"9040616494466075881\",\"id\":\"12959107325845376117\",\"type\":\"observable\"},data)}))})"
         ]
        },
        "id": "9040616494466075881",
        "imports": {
         "data": [
          {
           "name": "Plotly",
           "type": "js",
           "url": "/assetserver/57533c5d787f8bc76a9e58ed0a1abce5f1b0c14d-plotly-latest.min.js"
          },
          {
           "name": null,
           "type": "js",
           "url": "/assetserver/58a7932c57029f7dbaa4105104076ff149fc7585-plotly_webio.bundle.js"
          }
         ],
         "type": "async_block"
        },
        "mount_callbacks": [
         "function () {\n    var handler = ((function (Plotly,PlotlyWebIO){PlotlyWebIO.init(WebIO); var gd=this.dom.querySelector(\"#plot-239edfa0-dda6-4dbf-88e5-81bcdde3ee46\"); this.plotElem=gd; this.Plotly=Plotly; (window.Blink!==undefined) ? (gd.style.width=\"100%\", gd.style.height=\"100vh\", gd.style.marginLeft=\"0%\", gd.style.marginTop=\"0vh\") : undefined; window.onresize=(function (){return Plotly.Plots.resize(gd)}); Plotly.newPlot(gd,[{\"marker\":{\"color\":\"#E24A33\",\"line\":{\"color\":\"#348ABD\",\"width\":0.5}},\"y\":[0,1,3,2,0],\"type\":\"scatter\",\"fill\":\"toself\",\"x\":[0,2,3,1,0]}],{\"showlegend\":false,\"xaxis\":{\"showgrid\":true,\"titlefont\":{\"color\":\"#555555\",\"size\":18},\"tickfont\":{\"size\":18},\"ticks\":\"inside\",\"tickcolor\":\"#555555\",\"mirror\":\"ticks\",\"linecolor\":\"black\"},\"font\":{\"size\":18},\"annotations\":[{\"y\":1,\"text\":\"(a,b)\",\"x\":2},{\"y\":2,\"text\":\"(c,d)\",\"x\":1},{\"y\":3,\"text\":\"(a+c,b+d)\",\"x\":3},{\"y\":1.6500000000000001,\"showarrow\":false,\"text\":\"ad-bc\",\"x\":1.5}],\"margin\":{\"l\":50,\"b\":50,\"r\":50,\"t\":60},\"yaxis\":{\"showgrid\":true,\"titlefont\":{\"color\":\"#555555\",\"size\":18},\"tickfont\":{\"size\":18},\"scaleanchor\":\"x\",\"ticks\":\"inside\",\"tickcolor\":\"#555555\",\"mirror\":\"ticks\",\"linecolor\":\"black\"},\"title\":\"Area = ad - bc\"},{}); gd.on(\"plotly_hover\",(function (data){var filtered_data=WebIO.PlotlyCommands.filterEventData(gd,data,\"hover\"); return !(filtered_data.isnil) ? (WebIO.setval({\"name\":\"hover\",\"scope\":\"9040616494466075881\",\"id\":\"6803141690590782220\",\"type\":\"observable\"},filtered_data.out)) : undefined})); gd.on(\"plotly_unhover\",(function (){return WebIO.setval({\"name\":\"hover\",\"scope\":\"9040616494466075881\",\"id\":\"6803141690590782220\",\"type\":\"observable\"},{})})); gd.on(\"plotly_selected\",(function (data){var filtered_data=WebIO.PlotlyCommands.filterEventData(gd,data,\"selected\"); return !(filtered_data.isnil) ? (WebIO.setval({\"name\":\"selected\",\"scope\":\"9040616494466075881\",\"id\":\"12942973676327437709\",\"type\":\"observable\"},filtered_data.out)) : undefined})); gd.on(\"plotly_deselect\",(function (){return WebIO.setval({\"name\":\"selected\",\"scope\":\"9040616494466075881\",\"id\":\"12942973676327437709\",\"type\":\"observable\"},{})})); gd.on(\"plotly_relayout\",(function (data){var filtered_data=WebIO.PlotlyCommands.filterEventData(gd,data,\"relayout\"); return !(filtered_data.isnil) ? (WebIO.setval({\"name\":\"relayout\",\"scope\":\"9040616494466075881\",\"id\":\"13719325307914606457\",\"type\":\"observable\"},filtered_data.out)) : undefined})); return gd.on(\"plotly_click\",(function (data){var filtered_data=WebIO.PlotlyCommands.filterEventData(gd,data,\"click\"); return !(filtered_data.isnil) ? (WebIO.setval({\"name\":\"click\",\"scope\":\"9040616494466075881\",\"id\":\"7853236964893771201\",\"type\":\"observable\"},filtered_data.out)) : undefined}))}));\n    (WebIO.importBlock({\"data\":[{\"name\":\"Plotly\",\"type\":\"js\",\"url\":\"/assetserver/57533c5d787f8bc76a9e58ed0a1abce5f1b0c14d-plotly-latest.min.js\"},{\"name\":null,\"type\":\"js\",\"url\":\"/assetserver/58a7932c57029f7dbaa4105104076ff149fc7585-plotly_webio.bundle.js\"}],\"type\":\"async_block\"})).then((imports) => handler.apply(this, imports));\n}\n"
        ],
        "observables": {
         "__gd_contents": {
          "id": "17075397354966551958",
          "sync": false,
          "value": {}
         },
         "__get_gd_contents": {
          "id": "3748828211183227030",
          "sync": false,
          "value": ""
         },
         "_commands": {
          "id": "13713902078477218469",
          "sync": false,
          "value": []
         },
         "_downloadImage": {
          "id": "6847923353954448503",
          "sync": false,
          "value": {}
         },
         "_toImage": {
          "id": "10660359814135118544",
          "sync": false,
          "value": {}
         },
         "click": {
          "id": "7853236964893771201",
          "sync": false,
          "value": {}
         },
         "hover": {
          "id": "6803141690590782220",
          "sync": false,
          "value": {}
         },
         "image": {
          "id": "12959107325845376117",
          "sync": true,
          "value": ""
         },
         "relayout": {
          "id": "13719325307914606457",
          "sync": false,
          "value": {}
         },
         "selected": {
          "id": "12942973676327437709",
          "sync": false,
          "value": {}
         }
        },
        "systemjs_options": null
       },
       "nodeType": "Scope",
       "props": {},
       "type": "node"
      },
      "image/png": "[encoded data removed]",
      "image/svg+xml": [
       "<svg class=\"main-svg\" xmlns=\"http://www.w3.org/2000/svg\" xmlns:xlink=\"http://www.w3.org/1999/xlink\" width=\"700\" height=\"500\" style=\"\" viewBox=\"0 0 700 500\"><rect x=\"0\" y=\"0\" width=\"700\" height=\"500\" style=\"fill: rgb(255, 255, 255); fill-opacity: 1;\"/><defs id=\"defs-b1ae71\"><g class=\"clips\"><clipPath id=\"clipb1ae71xyplot\" class=\"plotclip\"><rect width=\"600\" height=\"390\"/></clipPath><clipPath class=\"axesclip\" id=\"clipb1ae71x\"><rect x=\"50\" y=\"0\" width=\"600\" height=\"500\"/></clipPath><clipPath class=\"axesclip\" id=\"clipb1ae71y\"><rect x=\"0\" y=\"60\" width=\"700\" height=\"390\"/></clipPath><clipPath class=\"axesclip\" id=\"clipb1ae71xy\"><rect x=\"50\" y=\"60\" width=\"600\" height=\"390\"/></clipPath></g><g class=\"gradients\"/></defs><g class=\"bglayer\"/><g class=\"layer-below\"><g class=\"imagelayer\"/><g class=\"shapelayer\"/></g><g class=\"cartesianlayer\"><g class=\"subplot xy\"><g class=\"layer-subplot\"><g class=\"shapelayer\"/><g class=\"imagelayer\"/></g><g class=\"gridlayer\"><g class=\"x\"><path class=\"xgrid crisp\" transform=\"translate(81.46000000000001,0)\" d=\"M0,60v390\" style=\"stroke: rgb(238, 238, 238); stroke-opacity: 1; stroke-width: 1px;\"/><path class=\"xgrid crisp\" transform=\"translate(296.28999999999996,0)\" d=\"M0,60v390\" style=\"stroke: rgb(238, 238, 238); stroke-opacity: 1; stroke-width: 1px;\"/><path class=\"xgrid crisp\" transform=\"translate(403.71,0)\" d=\"M0,60v390\" style=\"stroke: rgb(238, 238, 238); stroke-opacity: 1; stroke-width: 1px;\"/><path class=\"xgrid crisp\" transform=\"translate(511.13,0)\" d=\"M0,60v390\" style=\"stroke: rgb(238, 238, 238); stroke-opacity: 1; stroke-width: 1px;\"/><path class=\"xgrid crisp\" transform=\"translate(618.54,0)\" d=\"M0,60v390\" style=\"stroke: rgb(238, 238, 238); stroke-opacity: 1; stroke-width: 1px;\"/></g><g class=\"y\"><path class=\"ygrid crisp\" transform=\"translate(0,373.04)\" d=\"M50,0h600\" style=\"stroke: rgb(238, 238, 238); stroke-opacity: 1; stroke-width: 1px;\"/><path class=\"ygrid crisp\" transform=\"translate(0,319.33)\" d=\"M50,0h600\" style=\"stroke: rgb(238, 238, 238); stroke-opacity: 1; stroke-width: 1px;\"/><path class=\"ygrid crisp\" transform=\"translate(0,265.63)\" d=\"M50,0h600\" style=\"stroke: rgb(238, 238, 238); stroke-opacity: 1; stroke-width: 1px;\"/><path class=\"ygrid crisp\" transform=\"translate(0,211.92)\" d=\"M50,0h600\" style=\"stroke: rgb(238, 238, 238); stroke-opacity: 1; stroke-width: 1px;\"/><path class=\"ygrid crisp\" transform=\"translate(0,158.20999999999998)\" d=\"M50,0h600\" style=\"stroke: rgb(238, 238, 238); stroke-opacity: 1; stroke-width: 1px;\"/><path class=\"ygrid crisp\" transform=\"translate(0,104.5)\" d=\"M50,0h600\" style=\"stroke: rgb(238, 238, 238); stroke-opacity: 1; stroke-width: 1px;\"/></g></g><g class=\"zerolinelayer\"><path class=\"xzl zl crisp\" transform=\"translate(188.88,0)\" d=\"M0,60v390\" style=\"stroke: rgb(68, 68, 68); stroke-opacity: 1; stroke-width: 1px;\"/><path class=\"yzl zl crisp\" transform=\"translate(0,426.75)\" d=\"M50,0h600\" style=\"stroke: rgb(68, 68, 68); stroke-opacity: 1; stroke-width: 1px;\"/></g><path class=\"xlines-below\"/><path class=\"ylines-below\"/><g class=\"overlines-below\"/><g class=\"xaxislayer-below\"/><g class=\"yaxislayer-below\"/><g class=\"overaxes-below\"/><g class=\"plot\" transform=\"translate(50, 60)\" clip-path=\"url('#clipb1ae71xyplot')\"><g class=\"scatterlayer mlayer\"><g class=\"trace scatter trace2cf079\" style=\"stroke-miterlimit: 2; opacity: 1;\"><g class=\"fills\"><g><path class=\"js-fill\" d=\"M138.88,366.75L353.71,259.33L461.13,44.5L246.29,151.92L138.88,366.75Z\" style=\"fill: rgb(226, 74, 51); fill-opacity: 0.5; stroke-width: 0;\"/></g></g><g class=\"errorbars\"/><g class=\"lines\"><path class=\"js-line\" d=\"M138.88,366.75L353.71,259.33L461.13,44.5L246.29,151.92L138.88,366.75\" style=\"vector-effect: non-scaling-stroke; fill: none; stroke: rgb(226, 74, 51); stroke-opacity: 1; stroke-width: 2px; opacity: 1;\"/></g><g class=\"points\"><path class=\"point\" transform=\"translate(138.88,366.75)\" d=\"M3,0A3,3 0 1,1 0,-3A3,3 0 0,1 3,0Z\" style=\"opacity: 1; stroke-width: 0.5px; fill: rgb(226, 74, 51); fill-opacity: 1; stroke: rgb(52, 138, 189); stroke-opacity: 1;\"/><path class=\"point\" transform=\"translate(353.71,259.33)\" d=\"M3,0A3,3 0 1,1 0,-3A3,3 0 0,1 3,0Z\" style=\"opacity: 1; stroke-width: 0.5px; fill: rgb(226, 74, 51); fill-opacity: 1; stroke: rgb(52, 138, 189); stroke-opacity: 1;\"/><path class=\"point\" transform=\"translate(461.13,44.5)\" d=\"M3,0A3,3 0 1,1 0,-3A3,3 0 0,1 3,0Z\" style=\"opacity: 1; stroke-width: 0.5px; fill: rgb(226, 74, 51); fill-opacity: 1; stroke: rgb(52, 138, 189); stroke-opacity: 1;\"/><path class=\"point\" transform=\"translate(246.29,151.92)\" d=\"M3,0A3,3 0 1,1 0,-3A3,3 0 0,1 3,0Z\" style=\"opacity: 1; stroke-width: 0.5px; fill: rgb(226, 74, 51); fill-opacity: 1; stroke: rgb(52, 138, 189); stroke-opacity: 1;\"/><path class=\"point\" transform=\"translate(138.88,366.75)\" d=\"M3,0A3,3 0 1,1 0,-3A3,3 0 0,1 3,0Z\" style=\"opacity: 1; stroke-width: 0.5px; fill: rgb(226, 74, 51); fill-opacity: 1; stroke: rgb(52, 138, 189); stroke-opacity: 1;\"/></g><g class=\"text\"/></g></g></g><g class=\"overplot\"/><path class=\"xlines-above crisp\" d=\"M49,450.5H651M49,59.5H651\" style=\"fill: none; stroke-width: 1px; stroke: rgb(0, 0, 0); stroke-opacity: 1;\"/><path class=\"ylines-above crisp\" d=\"M49.5,60V450M650.5,60V450\" style=\"fill: none; stroke-width: 1px; stroke: rgb(0, 0, 0); stroke-opacity: 1;\"/><g class=\"overlines-above\"/><g class=\"xaxislayer-above\"><path class=\"xtick ticks crisp\" d=\"M0,450v-5M0,60v5\" transform=\"translate(81.46000000000001,0)\" style=\"stroke: rgb(85, 85, 85); stroke-opacity: 1; stroke-width: 1px;\"/><path class=\"xtick ticks crisp\" d=\"M0,450v-5M0,60v5\" transform=\"translate(188.88,0)\" style=\"stroke: rgb(85, 85, 85); stroke-opacity: 1; stroke-width: 1px;\"/><path class=\"xtick ticks crisp\" d=\"M0,450v-5M0,60v5\" transform=\"translate(296.28999999999996,0)\" style=\"stroke: rgb(85, 85, 85); stroke-opacity: 1; stroke-width: 1px;\"/><path class=\"xtick ticks crisp\" d=\"M0,450v-5M0,60v5\" transform=\"translate(403.71,0)\" style=\"stroke: rgb(85, 85, 85); stroke-opacity: 1; stroke-width: 1px;\"/><path class=\"xtick ticks crisp\" d=\"M0,450v-5M0,60v5\" transform=\"translate(511.13,0)\" style=\"stroke: rgb(85, 85, 85); stroke-opacity: 1; stroke-width: 1px;\"/><path class=\"xtick ticks crisp\" d=\"M0,450v-5M0,60v5\" transform=\"translate(618.54,0)\" style=\"stroke: rgb(85, 85, 85); stroke-opacity: 1; stroke-width: 1px;\"/><g class=\"xtick\"><text text-anchor=\"middle\" x=\"0\" y=\"472.6\" transform=\"translate(81.46000000000001,0)\" style=\"font-family: 'Open Sans', verdana, arial, sans-serif; font-size: 18px; fill: rgb(68, 68, 68); fill-opacity: 1; white-space: pre;\">−1</text></g><g class=\"xtick\"><text text-anchor=\"middle\" x=\"0\" y=\"472.6\" transform=\"translate(188.88,0)\" style=\"font-family: 'Open Sans', verdana, arial, sans-serif; font-size: 18px; fill: rgb(68, 68, 68); fill-opacity: 1; white-space: pre;\">0</text></g><g class=\"xtick\"><text text-anchor=\"middle\" x=\"0\" y=\"472.6\" transform=\"translate(296.28999999999996,0)\" style=\"font-family: 'Open Sans', verdana, arial, sans-serif; font-size: 18px; fill: rgb(68, 68, 68); fill-opacity: 1; white-space: pre;\">1</text></g><g class=\"xtick\"><text text-anchor=\"middle\" x=\"0\" y=\"472.6\" transform=\"translate(403.71,0)\" style=\"font-family: 'Open Sans', verdana, arial, sans-serif; font-size: 18px; fill: rgb(68, 68, 68); fill-opacity: 1; white-space: pre;\">2</text></g><g class=\"xtick\"><text text-anchor=\"middle\" x=\"0\" y=\"472.6\" transform=\"translate(511.13,0)\" style=\"font-family: 'Open Sans', verdana, arial, sans-serif; font-size: 18px; fill: rgb(68, 68, 68); fill-opacity: 1; white-space: pre;\">3</text></g><g class=\"xtick\"><text text-anchor=\"middle\" x=\"0\" y=\"472.6\" transform=\"translate(618.54,0)\" style=\"font-family: 'Open Sans', verdana, arial, sans-serif; font-size: 18px; fill: rgb(68, 68, 68); fill-opacity: 1; white-space: pre;\">4</text></g></g><g class=\"yaxislayer-above\"><path class=\"ytick ticks crisp\" d=\"M50,0h5M650,0h-5\" transform=\"translate(0,426.75)\" style=\"stroke: rgb(85, 85, 85); stroke-opacity: 1; stroke-width: 1px;\"/><path class=\"ytick ticks crisp\" d=\"M50,0h5M650,0h-5\" transform=\"translate(0,373.04)\" style=\"stroke: rgb(85, 85, 85); stroke-opacity: 1; stroke-width: 1px;\"/><path class=\"ytick ticks crisp\" d=\"M50,0h5M650,0h-5\" transform=\"translate(0,319.33)\" style=\"stroke: rgb(85, 85, 85); stroke-opacity: 1; stroke-width: 1px;\"/><path class=\"ytick ticks crisp\" d=\"M50,0h5M650,0h-5\" transform=\"translate(0,265.63)\" style=\"stroke: rgb(85, 85, 85); stroke-opacity: 1; stroke-width: 1px;\"/><path class=\"ytick ticks crisp\" d=\"M50,0h5M650,0h-5\" transform=\"translate(0,211.92)\" style=\"stroke: rgb(85, 85, 85); stroke-opacity: 1; stroke-width: 1px;\"/><path class=\"ytick ticks crisp\" d=\"M50,0h5M650,0h-5\" transform=\"translate(0,158.20999999999998)\" style=\"stroke: rgb(85, 85, 85); stroke-opacity: 1; stroke-width: 1px;\"/><path class=\"ytick ticks crisp\" d=\"M50,0h5M650,0h-5\" transform=\"translate(0,104.5)\" style=\"stroke: rgb(85, 85, 85); stroke-opacity: 1; stroke-width: 1px;\"/><g class=\"ytick\"><text text-anchor=\"end\" x=\"45.4\" y=\"6.3\" transform=\"translate(0,426.75)\" style=\"font-family: 'Open Sans', verdana, arial, sans-serif; font-size: 18px; fill: rgb(68, 68, 68); fill-opacity: 1; white-space: pre;\">0</text></g><g class=\"ytick\"><text text-anchor=\"end\" x=\"45.4\" y=\"6.3\" transform=\"translate(0,373.04)\" style=\"font-family: 'Open Sans', verdana, arial, sans-serif; font-size: 18px; fill: rgb(68, 68, 68); fill-opacity: 1; white-space: pre;\">0.5</text></g><g class=\"ytick\"><text text-anchor=\"end\" x=\"45.4\" y=\"6.3\" transform=\"translate(0,319.33)\" style=\"font-family: 'Open Sans', verdana, arial, sans-serif; font-size: 18px; fill: rgb(68, 68, 68); fill-opacity: 1; white-space: pre;\">1</text></g><g class=\"ytick\"><text text-anchor=\"end\" x=\"45.4\" y=\"6.3\" transform=\"translate(0,265.63)\" style=\"font-family: 'Open Sans', verdana, arial, sans-serif; font-size: 18px; fill: rgb(68, 68, 68); fill-opacity: 1; white-space: pre;\">1.5</text></g><g class=\"ytick\"><text text-anchor=\"end\" x=\"45.4\" y=\"6.3\" transform=\"translate(0,211.92)\" style=\"font-family: 'Open Sans', verdana, arial, sans-serif; font-size: 18px; fill: rgb(68, 68, 68); fill-opacity: 1; white-space: pre;\">2</text></g><g class=\"ytick\"><text text-anchor=\"end\" x=\"45.4\" y=\"6.3\" transform=\"translate(0,158.20999999999998)\" style=\"font-family: 'Open Sans', verdana, arial, sans-serif; font-size: 18px; fill: rgb(68, 68, 68); fill-opacity: 1; white-space: pre;\">2.5</text></g><g class=\"ytick\"><text text-anchor=\"end\" x=\"45.4\" y=\"6.3\" transform=\"translate(0,104.5)\" style=\"font-family: 'Open Sans', verdana, arial, sans-serif; font-size: 18px; fill: rgb(68, 68, 68); fill-opacity: 1; white-space: pre;\">3</text></g></g><g class=\"overaxes-above\"/></g></g><g class=\"polarlayer\"/><g class=\"ternarylayer\"/><g class=\"geolayer\"/><g class=\"funnelarealayer\"/><g class=\"pielayer\"/><g class=\"treemaplayer\"/><g class=\"sunburstlayer\"/><g class=\"glimages\"/><defs id=\"topdefs-b1ae71\"><g class=\"clips\"/></defs><g class=\"layer-above\"><g class=\"imagelayer\"/><g class=\"shapelayer\"/></g><g class=\"infolayer\"><g class=\"g-gtitle\"><text class=\"gtitle\" x=\"350\" y=\"30\" text-anchor=\"middle\" dy=\"0em\" style=\"font-family: 'Open Sans', verdana, arial, sans-serif; font-size: 25px; fill: rgb(68, 68, 68); opacity: 1; font-weight: normal; white-space: pre;\">Area = ad - bc</text></g><g class=\"g-xtitle\"/><g class=\"g-ytitle\"/><g class=\"annotation\" data-index=\"0\" style=\"opacity: 1;\"><g class=\"annotation-text-g\" transform=\"rotate(0,393.71,289.33)\"><g class=\"cursor-pointer\" transform=\"translate(374, 275)\"><rect class=\"bg\" x=\"0.5\" y=\"0.5\" width=\"39\" height=\"28\" style=\"stroke-width: 1px; stroke: rgb(0, 0, 0); stroke-opacity: 0; fill: rgb(0, 0, 0); fill-opacity: 0;\"/><text class=\"annotation-text\" text-anchor=\"middle\" x=\"20.0625\" y=\"21\" style=\"font-family: 'Open Sans', verdana, arial, sans-serif; font-size: 18px; fill: rgb(68, 68, 68); fill-opacity: 1; white-space: pre;\">(a,b)</text></g></g><g class=\"annotation-arrow-g\" style=\"opacity: 1;\"><path d=\"M398.37666666666667,303.33L403.71,319.33\" style=\"stroke-width: 2px; stroke: rgb(68, 68, 68); stroke-opacity: 1; stroke-dasharray: 0px, 0px, 15.6655px, 16.8655px;\"/><path d=\"M-2.4,-3V3L0.6,0Z\" transform=\"translate(403.33050537109375,318.1915588378906)rotate(71.57058005668189)scale(2)\" style=\"fill: rgb(68, 68, 68); stroke-width: 0;\"/></g></g><g class=\"annotation\" data-index=\"1\" style=\"opacity: 1;\"><g class=\"annotation-text-g\" transform=\"rotate(0,286.28999999999996,181.92)\"><g class=\"cursor-pointer\" transform=\"translate(267, 167)\"><rect class=\"bg\" x=\"0.5\" y=\"0.5\" width=\"38\" height=\"28\" style=\"stroke-width: 1px; stroke: rgb(0, 0, 0); stroke-opacity: 0; fill: rgb(0, 0, 0); fill-opacity: 0;\"/><text class=\"annotation-text\" text-anchor=\"middle\" x=\"19.34375\" y=\"21\" style=\"font-family: 'Open Sans', verdana, arial, sans-serif; font-size: 18px; fill: rgb(68, 68, 68); fill-opacity: 1; white-space: pre;\">(c,d)</text></g></g><g class=\"annotation-arrow-g\" style=\"opacity: 1;\"><path d=\"M290.95666666666665,195.92L296.28999999999996,211.92\" style=\"stroke-width: 2px; stroke: rgb(68, 68, 68); stroke-opacity: 1; stroke-dasharray: 0px, 0px, 15.6655px, 16.8655px;\"/><path d=\"M-2.4,-3V3L0.6,0Z\" transform=\"translate(295.9105224609375,210.78158569335938)rotate(71.56781601708516)scale(2)\" style=\"fill: rgb(68, 68, 68); stroke-width: 0;\"/></g></g><g class=\"annotation\" data-index=\"2\" style=\"opacity: 1;\"><g class=\"annotation-text-g\" transform=\"rotate(0,501.13,74.5)\"><g class=\"cursor-pointer\" transform=\"translate(461, 60)\"><rect class=\"bg\" x=\"0.5\" y=\"0.5\" width=\"79\" height=\"28\" style=\"stroke-width: 1px; stroke: rgb(0, 0, 0); stroke-opacity: 0; fill: rgb(0, 0, 0); fill-opacity: 0;\"/><text class=\"annotation-text\" text-anchor=\"middle\" x=\"40.15625\" y=\"21\" style=\"font-family: 'Open Sans', verdana, arial, sans-serif; font-size: 18px; fill: rgb(68, 68, 68); fill-opacity: 1; white-space: pre;\">(a+c,b+d)</text></g></g><g class=\"annotation-arrow-g\" style=\"opacity: 1;\"><path d=\"M505.7966666666667,88.5L511.13,104.5\" style=\"stroke-width: 2px; stroke: rgb(68, 68, 68); stroke-opacity: 1; stroke-dasharray: 0px, 0px, 15.6655px, 16.8655px;\"/><path d=\"M-2.4,-3V3L0.6,0Z\" transform=\"translate(510.7505187988281,103.36157989501953)rotate(71.56919813691391)scale(2)\" style=\"fill: rgb(68, 68, 68); stroke-width: 0;\"/></g></g><g class=\"annotation\" data-index=\"3\" style=\"opacity: 1;\"><g class=\"annotation-text-g\" transform=\"rotate(0,350,249.51)\"><g class=\"cursor-pointer\" transform=\"translate(325, 235)\"><rect class=\"bg\" x=\"0.5\" y=\"0.5\" width=\"49\" height=\"28\" style=\"stroke-width: 1px; stroke: rgb(0, 0, 0); stroke-opacity: 0; fill: rgb(0, 0, 0); fill-opacity: 0;\"/><text class=\"annotation-text\" text-anchor=\"middle\" x=\"25.21875\" y=\"21\" style=\"font-family: 'Open Sans', verdana, arial, sans-serif; font-size: 18px; fill: rgb(68, 68, 68); fill-opacity: 1; white-space: pre;\">ad-bc</text></g></g></g></g></svg>"
      ],
      "text/html": [
       "<div\n",
       "    class=\"webio-mountpoint\"\n",
       "    data-webio-mountpoint=\"5840629876085714976\"\n",
       ">\n",
       "    <script>\n",
       "    if (window.require && require.defined && require.defined(\"nbextensions/webio-jupyter-notebook\")) {\n",
       "        console.log(\"Jupyter WebIO extension detected, not mounting.\");\n",
       "    } else if (window.WebIO) {\n",
       "        WebIO.mount(\n",
       "            document.querySelector('[data-webio-mountpoint=\"5840629876085714976\"]'),\n",
       "            {\"props\":{},\"nodeType\":\"Scope\",\"type\":\"node\",\"instanceArgs\":{\"imports\":{\"data\":[{\"name\":\"Plotly\",\"type\":\"js\",\"url\":\"\\/assetserver\\/57533c5d787f8bc76a9e58ed0a1abce5f1b0c14d-plotly-latest.min.js\"},{\"name\":null,\"type\":\"js\",\"url\":\"\\/assetserver\\/58a7932c57029f7dbaa4105104076ff149fc7585-plotly_webio.bundle.js\"}],\"type\":\"async_block\"},\"id\":\"9040616494466075881\",\"handlers\":{\"_toImage\":[\"(function (options){return this.Plotly.toImage(this.plotElem,options).then((function (data){return WebIO.setval({\\\"name\\\":\\\"image\\\",\\\"scope\\\":\\\"9040616494466075881\\\",\\\"id\\\":\\\"12959107325845376117\\\",\\\"type\\\":\\\"observable\\\"},data)}))})\"],\"__get_gd_contents\":[\"(function (prop){prop==\\\"data\\\" ? (WebIO.setval({\\\"name\\\":\\\"__gd_contents\\\",\\\"scope\\\":\\\"9040616494466075881\\\",\\\"id\\\":\\\"17075397354966551958\\\",\\\"type\\\":\\\"observable\\\"},this.plotElem.data)) : undefined; return prop==\\\"layout\\\" ? (WebIO.setval({\\\"name\\\":\\\"__gd_contents\\\",\\\"scope\\\":\\\"9040616494466075881\\\",\\\"id\\\":\\\"17075397354966551958\\\",\\\"type\\\":\\\"observable\\\"},this.plotElem.layout)) : undefined})\"],\"_downloadImage\":[\"(function (options){return this.Plotly.downloadImage(this.plotElem,options)})\"],\"_commands\":[\"(function (args){var fn=args.shift(); var elem=this.plotElem; var Plotly=this.Plotly; args.unshift(elem); return Plotly[fn].apply(this,args)})\"]},\"systemjs_options\":null,\"mount_callbacks\":[\"function () {\\n    var handler = ((function (Plotly,PlotlyWebIO){PlotlyWebIO.init(WebIO); var gd=this.dom.querySelector(\\\"#plot-239edfa0-dda6-4dbf-88e5-81bcdde3ee46\\\"); this.plotElem=gd; this.Plotly=Plotly; (window.Blink!==undefined) ? (gd.style.width=\\\"100%\\\", gd.style.height=\\\"100vh\\\", gd.style.marginLeft=\\\"0%\\\", gd.style.marginTop=\\\"0vh\\\") : undefined; window.onresize=(function (){return Plotly.Plots.resize(gd)}); Plotly.newPlot(gd,[{\\\"marker\\\":{\\\"color\\\":\\\"#E24A33\\\",\\\"line\\\":{\\\"color\\\":\\\"#348ABD\\\",\\\"width\\\":0.5}},\\\"y\\\":[0,1,3,2,0],\\\"type\\\":\\\"scatter\\\",\\\"fill\\\":\\\"toself\\\",\\\"x\\\":[0,2,3,1,0]}],{\\\"showlegend\\\":false,\\\"xaxis\\\":{\\\"showgrid\\\":true,\\\"titlefont\\\":{\\\"color\\\":\\\"#555555\\\",\\\"size\\\":18},\\\"tickfont\\\":{\\\"size\\\":18},\\\"ticks\\\":\\\"inside\\\",\\\"tickcolor\\\":\\\"#555555\\\",\\\"mirror\\\":\\\"ticks\\\",\\\"linecolor\\\":\\\"black\\\"},\\\"font\\\":{\\\"size\\\":18},\\\"annotations\\\":[{\\\"y\\\":1,\\\"text\\\":\\\"(a,b)\\\",\\\"x\\\":2},{\\\"y\\\":2,\\\"text\\\":\\\"(c,d)\\\",\\\"x\\\":1},{\\\"y\\\":3,\\\"text\\\":\\\"(a+c,b+d)\\\",\\\"x\\\":3},{\\\"y\\\":1.6500000000000001,\\\"showarrow\\\":false,\\\"text\\\":\\\"ad-bc\\\",\\\"x\\\":1.5}],\\\"margin\\\":{\\\"l\\\":50,\\\"b\\\":50,\\\"r\\\":50,\\\"t\\\":60},\\\"yaxis\\\":{\\\"showgrid\\\":true,\\\"titlefont\\\":{\\\"color\\\":\\\"#555555\\\",\\\"size\\\":18},\\\"tickfont\\\":{\\\"size\\\":18},\\\"scaleanchor\\\":\\\"x\\\",\\\"ticks\\\":\\\"inside\\\",\\\"tickcolor\\\":\\\"#555555\\\",\\\"mirror\\\":\\\"ticks\\\",\\\"linecolor\\\":\\\"black\\\"},\\\"title\\\":\\\"Area = ad - bc\\\"},{}); gd.on(\\\"plotly_hover\\\",(function (data){var filtered_data=WebIO.PlotlyCommands.filterEventData(gd,data,\\\"hover\\\"); return !(filtered_data.isnil) ? (WebIO.setval({\\\"name\\\":\\\"hover\\\",\\\"scope\\\":\\\"9040616494466075881\\\",\\\"id\\\":\\\"6803141690590782220\\\",\\\"type\\\":\\\"observable\\\"},filtered_data.out)) : undefined})); gd.on(\\\"plotly_unhover\\\",(function (){return WebIO.setval({\\\"name\\\":\\\"hover\\\",\\\"scope\\\":\\\"9040616494466075881\\\",\\\"id\\\":\\\"6803141690590782220\\\",\\\"type\\\":\\\"observable\\\"},{})})); gd.on(\\\"plotly_selected\\\",(function (data){var filtered_data=WebIO.PlotlyCommands.filterEventData(gd,data,\\\"selected\\\"); return !(filtered_data.isnil) ? (WebIO.setval({\\\"name\\\":\\\"selected\\\",\\\"scope\\\":\\\"9040616494466075881\\\",\\\"id\\\":\\\"12942973676327437709\\\",\\\"type\\\":\\\"observable\\\"},filtered_data.out)) : undefined})); gd.on(\\\"plotly_deselect\\\",(function (){return WebIO.setval({\\\"name\\\":\\\"selected\\\",\\\"scope\\\":\\\"9040616494466075881\\\",\\\"id\\\":\\\"12942973676327437709\\\",\\\"type\\\":\\\"observable\\\"},{})})); gd.on(\\\"plotly_relayout\\\",(function (data){var filtered_data=WebIO.PlotlyCommands.filterEventData(gd,data,\\\"relayout\\\"); return !(filtered_data.isnil) ? (WebIO.setval({\\\"name\\\":\\\"relayout\\\",\\\"scope\\\":\\\"9040616494466075881\\\",\\\"id\\\":\\\"13719325307914606457\\\",\\\"type\\\":\\\"observable\\\"},filtered_data.out)) : undefined})); return gd.on(\\\"plotly_click\\\",(function (data){var filtered_data=WebIO.PlotlyCommands.filterEventData(gd,data,\\\"click\\\"); return !(filtered_data.isnil) ? (WebIO.setval({\\\"name\\\":\\\"click\\\",\\\"scope\\\":\\\"9040616494466075881\\\",\\\"id\\\":\\\"7853236964893771201\\\",\\\"type\\\":\\\"observable\\\"},filtered_data.out)) : undefined}))}));\\n    (WebIO.importBlock({\\\"data\\\":[{\\\"name\\\":\\\"Plotly\\\",\\\"type\\\":\\\"js\\\",\\\"url\\\":\\\"\\/assetserver\\/57533c5d787f8bc76a9e58ed0a1abce5f1b0c14d-plotly-latest.min.js\\\"},{\\\"name\\\":null,\\\"type\\\":\\\"js\\\",\\\"url\\\":\\\"\\/assetserver\\/58a7932c57029f7dbaa4105104076ff149fc7585-plotly_webio.bundle.js\\\"}],\\\"type\\\":\\\"async_block\\\"})).then((imports) => handler.apply(this, imports));\\n}\\n\"],\"observables\":{\"_toImage\":{\"sync\":false,\"id\":\"10660359814135118544\",\"value\":{}},\"hover\":{\"sync\":false,\"id\":\"6803141690590782220\",\"value\":{}},\"selected\":{\"sync\":false,\"id\":\"12942973676327437709\",\"value\":{}},\"__gd_contents\":{\"sync\":false,\"id\":\"17075397354966551958\",\"value\":{}},\"click\":{\"sync\":false,\"id\":\"7853236964893771201\",\"value\":{}},\"image\":{\"sync\":true,\"id\":\"12959107325845376117\",\"value\":\"\"},\"__get_gd_contents\":{\"sync\":false,\"id\":\"3748828211183227030\",\"value\":\"\"},\"_downloadImage\":{\"sync\":false,\"id\":\"6847923353954448503\",\"value\":{}},\"relayout\":{\"sync\":false,\"id\":\"13719325307914606457\",\"value\":{}},\"_commands\":{\"sync\":false,\"id\":\"13713902078477218469\",\"value\":[]}}},\"children\":[{\"props\":{\"id\":\"plot-239edfa0-dda6-4dbf-88e5-81bcdde3ee46\"},\"nodeType\":\"DOM\",\"type\":\"node\",\"instanceArgs\":{\"namespace\":\"html\",\"tag\":\"div\"},\"children\":[]}]},\n",
       "            window,\n",
       "        );\n",
       "    } else {\n",
       "        document\n",
       "            .querySelector('[data-webio-mountpoint=\"5840629876085714976\"]')\n",
       "            .innerHTML = (\n",
       "                '<div style=\"padding: 1em; background-color: #f8d6da; border: 1px solid #f5c6cb\">' +\n",
       "                '<p><strong>WebIO not detected.</strong></p>' +\n",
       "                '<p>Please read ' +\n",
       "                '<a href=\"https://juliagizmos.github.io/WebIO.jl/latest/troubleshooting/not-detected/\" target=\"_blank\">the troubleshooting guide</a> ' +\n",
       "                'for more information on how to resolve this issue.</p>' +\n",
       "                '<p><a href=\"https://juliagizmos.github.io/WebIO.jl/latest/troubleshooting/not-detected/\" target=\"_blank\">https://juliagizmos.github.io/WebIO.jl/latest/troubleshooting/not-detected/</a></p>' +\n",
       "                '</div>'\n",
       "            );\n",
       "    }\n",
       "    </script>\n",
       "</div>\n"
      ],
      "text/plain": [
       "data: [\n",
       "  \"scatter with fields fill, marker, type, x, and y\"\n",
       "]\n",
       "\n",
       "layout: \"layout with fields annotations, font, margin, showlegend, title, xaxis, and yaxis\"\n",
       "\n"
      ]
     },
     "execution_count": 15,
     "metadata": {
      "application/vnd.webio.node+json": {
       "kernelId": "28ec333a-283d-4da8-8e5f-39150d162437"
      }
     },
     "output_type": "execute_result"
    }
   ],
   "source": [
    "x = [2, 1]\n",
    "y = [1, 2]\n",
    "z = x+y\n",
    "o = [0, 0]\n",
    "X = [ o x x+y y o ];\n",
    "t1 = scatter(x=X[1,:],y=X[2,:],fill=\"toself\")\n",
    "tr = [t1]\n",
    "an = [attr(x=x[1], y=x[2], text=\"(a,b)\"),\n",
    "      attr(x=y[1], y=y[2], text=\"(c,d)\"),\n",
    "      attr(x=z[1], y=z[2], text=\"(a+c,b+d)\"),\n",
    "      attr(x=.5z[1], y=.55z[2], text=\"ad-bc\", showarrow=false),\n",
    "     ]\n",
    "la = Layout(yaxis_scaleanchor=\"x\", title=\"Area = ad - bc\",\n",
    "         showlegend=false, annotations=an) \n",
    "p1 = plot(tr,la,style=nla_style)"
   ]
  },
  {
   "cell_type": "code",
   "execution_count": 16,
   "metadata": {},
   "outputs": [
    {
     "data": {
      "text/plain": [
       "\"fig_la6.pdf\""
      ]
     },
     "execution_count": 16,
     "metadata": {},
     "output_type": "execute_result"
    }
   ],
   "source": [
    "if output\n",
    "    PlotlyJS.savefig(p1,\"fig_la6.pdf\")\n",
    "end"
   ]
  }
 ],
 "metadata": {
  "@webio": {
   "lastCommId": "73c3d33260644188b3514d8e9ef52877",
   "lastKernelId": "28ec333a-283d-4da8-8e5f-39150d162437"
  },
  "anaconda-cloud": {},
  "kernelspec": {
   "display_name": "Julia 1.5.1",
   "language": "julia",
   "name": "julia-1.5"
  },
  "language_info": {
   "file_extension": ".jl",
   "mimetype": "application/julia",
   "name": "julia",
   "version": "1.5.1"
  }
 },
 "nbformat": 4,
 "nbformat_minor": 4
}
