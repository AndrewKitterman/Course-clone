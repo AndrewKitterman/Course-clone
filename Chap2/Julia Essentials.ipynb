{
 "cells": [
  {
   "cell_type": "code",
   "execution_count": 60,
   "metadata": {},
   "outputs": [
    {
     "data": {
      "text/plain": [
       "Int64"
      ]
     },
     "execution_count": 60,
     "metadata": {},
     "output_type": "execute_result"
    }
   ],
   "source": [
    "x = 1\n",
    "typeof(x)"
   ]
  },
  {
   "cell_type": "code",
   "execution_count": 61,
   "metadata": {
    "scrolled": true
   },
   "outputs": [
    {
     "data": {
      "text/plain": [
       "Float64"
      ]
     },
     "execution_count": 61,
     "metadata": {},
     "output_type": "execute_result"
    }
   ],
   "source": [
    "y = 1.0\n",
    "typeof(y)"
   ]
  },
  {
   "cell_type": "code",
   "execution_count": 62,
   "metadata": {},
   "outputs": [
    {
     "data": {
      "text/plain": [
       "2"
      ]
     },
     "execution_count": 62,
     "metadata": {},
     "output_type": "execute_result"
    }
   ],
   "source": [
    "2*x\n",
    "2x"
   ]
  },
  {
   "cell_type": "code",
   "execution_count": 63,
   "metadata": {},
   "outputs": [
    {
     "data": {
      "text/plain": [
       "-3.0 + 2.0im"
      ]
     },
     "execution_count": 63,
     "metadata": {},
     "output_type": "execute_result"
    }
   ],
   "source": [
    "-3.0 + 2.0*im"
   ]
  },
  {
   "cell_type": "code",
   "execution_count": 64,
   "metadata": {},
   "outputs": [
    {
     "data": {
      "text/plain": [
       "π = 3.1415926535897..."
      ]
     },
     "execution_count": 64,
     "metadata": {},
     "output_type": "execute_result"
    }
   ],
   "source": [
    "π"
   ]
  },
  {
   "cell_type": "code",
   "execution_count": 65,
   "metadata": {},
   "outputs": [
    {
     "data": {
      "text/plain": [
       "6"
      ]
     },
     "execution_count": 65,
     "metadata": {},
     "output_type": "execute_result"
    }
   ],
   "source": [
    "x = 1\n",
    "x += 5"
   ]
  },
  {
   "cell_type": "code",
   "execution_count": 66,
   "metadata": {},
   "outputs": [
    {
     "name": "stdout",
     "output_type": "stream",
     "text": [
      "6"
     ]
    }
   ],
   "source": [
    "show(x)"
   ]
  },
  {
   "cell_type": "code",
   "execution_count": 67,
   "metadata": {
    "collapsed": true
   },
   "outputs": [],
   "source": [
    "x;"
   ]
  },
  {
   "cell_type": "code",
   "execution_count": 68,
   "metadata": {},
   "outputs": [
    {
     "name": "stdout",
     "output_type": "stream",
     "text": [
      "[1 2]"
     ]
    }
   ],
   "source": [
    "show([1 2])"
   ]
  },
  {
   "cell_type": "code",
   "execution_count": 69,
   "metadata": {},
   "outputs": [
    {
     "name": "stdout",
     "output_type": "stream",
     "text": [
      "6\n"
     ]
    }
   ],
   "source": [
    "println(x)"
   ]
  },
  {
   "cell_type": "code",
   "execution_count": 70,
   "metadata": {},
   "outputs": [
    {
     "name": "stdout",
     "output_type": "stream",
     "text": [
      "12\n",
      "3\n"
     ]
    }
   ],
   "source": [
    "print(\"1\")\n",
    "println(\"2\")\n",
    "println(\"3\")"
   ]
  },
  {
   "cell_type": "code",
   "execution_count": 71,
   "metadata": {},
   "outputs": [
    {
     "name": "stdout",
     "output_type": "stream",
     "text": [
      "The formatting of 3.142 is similar to the C language\n"
     ]
    }
   ],
   "source": [
    "using Printf\n",
    "@printf(\"The formatting of %5.3f is similar to the C language\\n\",pi)"
   ]
  },
  {
   "cell_type": "code",
   "execution_count": 72,
   "metadata": {},
   "outputs": [
    {
     "name": "stderr",
     "output_type": "stream",
     "text": [
      "┌ Info: Everything is going well\n",
      "└ @ Main In[72]:2\n",
      "┌ Warning: I can see clouds on the horizon\n",
      "└ @ Main In[72]:3\n",
      "┌ Error: The storm is here\n",
      "└ @ Main In[72]:4\n"
     ]
    }
   ],
   "source": [
    "using Logging\n",
    "@info \"Everything is going well\"\n",
    "@warn \"I can see clouds on the horizon\"\n",
    "@error \"The storm is here\""
   ]
  },
  {
   "cell_type": "code",
   "execution_count": 73,
   "metadata": {},
   "outputs": [
    {
     "data": {
      "text/plain": [
       "1×3 Array{Float64,2}:\n",
       " 1.0  -1.0  1.0"
      ]
     },
     "execution_count": 73,
     "metadata": {},
     "output_type": "execute_result"
    }
   ],
   "source": [
    "a = [1.0 -1.0 1.0]"
   ]
  },
  {
   "cell_type": "code",
   "execution_count": 74,
   "metadata": {},
   "outputs": [
    {
     "data": {
      "text/plain": [
       "3-element Array{Float64,1}:\n",
       " 3.141592653589793\n",
       " 6.283185307179586\n",
       " 9.42477796076938 "
      ]
     },
     "execution_count": 74,
     "metadata": {},
     "output_type": "execute_result"
    }
   ],
   "source": [
    "a = [pi, 2pi, 3pi]"
   ]
  },
  {
   "cell_type": "code",
   "execution_count": 75,
   "metadata": {},
   "outputs": [
    {
     "name": "stdout",
     "output_type": "stream",
     "text": [
      "[3.14159, 6.28319, 9.42478]"
     ]
    }
   ],
   "source": [
    "show(a)"
   ]
  },
  {
   "cell_type": "code",
   "execution_count": 76,
   "metadata": {},
   "outputs": [
    {
     "name": "stdout",
     "output_type": "stream",
     "text": [
      "a = [3.14159, 6.28319, 9.42478]\n"
     ]
    },
    {
     "data": {
      "text/plain": [
       "3-element Array{Float64,1}:\n",
       " 3.141592653589793\n",
       " 6.283185307179586\n",
       " 9.42477796076938 "
      ]
     },
     "execution_count": 76,
     "metadata": {},
     "output_type": "execute_result"
    }
   ],
   "source": [
    "@show a"
   ]
  },
  {
   "cell_type": "code",
   "execution_count": 77,
   "metadata": {},
   "outputs": [
    {
     "name": "stdout",
     "output_type": "stream",
     "text": [
      "1:0.1:2 = 1.0:0.1:2.0\n",
      "LinRange(1, 65, 17) = range(1.0, stop=65.0, length=17)\n",
      "exp10.(LinRange(1, 5, 3)) = [10.0, 1000.0, 100000.0]\n"
     ]
    },
    {
     "data": {
      "text/plain": [
       "3-element Array{Float64,1}:\n",
       "     10.0\n",
       "   1000.0\n",
       " 100000.0"
      ]
     },
     "execution_count": 77,
     "metadata": {},
     "output_type": "execute_result"
    }
   ],
   "source": [
    "@show 1:.1:2\n",
    "@show LinRange(1,65,17)\n",
    "@show exp10.(LinRange(1,5,3))"
   ]
  },
  {
   "cell_type": "code",
   "execution_count": 78,
   "metadata": {},
   "outputs": [
    {
     "data": {
      "text/plain": [
       "2×2 Array{Float64,2}:\n",
       " 3.14159  -1.0\n",
       " 2.0       3.0"
      ]
     },
     "execution_count": 78,
     "metadata": {},
     "output_type": "execute_result"
    }
   ],
   "source": [
    "a = [pi -1.0; 2.0 3.0]"
   ]
  },
  {
   "cell_type": "code",
   "execution_count": 79,
   "metadata": {},
   "outputs": [
    {
     "name": "stdout",
     "output_type": "stream",
     "text": [
      "zeros(2, 1) = [0.0; 0.0]\n",
      "ones(2, 3) = [1.0 1.0 1.0; 1.0 1.0 1.0]\n",
      "Diagonal(ones(3, 3)) = [1.0 0.0 0.0; 0.0 1.0 0.0; 0.0 0.0 1.0]\n"
     ]
    },
    {
     "data": {
      "text/plain": [
       "3×3 Diagonal{Float64,Array{Float64,1}}:\n",
       " 1.0   ⋅    ⋅ \n",
       "  ⋅   1.0   ⋅ \n",
       "  ⋅    ⋅   1.0"
      ]
     },
     "execution_count": 79,
     "metadata": {},
     "output_type": "execute_result"
    }
   ],
   "source": [
    "using LinearAlgebra\n",
    "@show zeros(2,1)\n",
    "@show ones(2,3)\n",
    "@show Diagonal(ones(3,3))"
   ]
  },
  {
   "cell_type": "code",
   "execution_count": 80,
   "metadata": {},
   "outputs": [
    {
     "name": "stdout",
     "output_type": "stream",
     "text": [
      "UniformScaling(3) = UniformScaling{Int64}\n",
      "3*I\n"
     ]
    },
    {
     "data": {
      "text/plain": [
       "UniformScaling{Int64}\n",
       "3*I"
      ]
     },
     "execution_count": 80,
     "metadata": {},
     "output_type": "execute_result"
    }
   ],
   "source": [
    "@show UniformScaling(3)"
   ]
  },
  {
   "cell_type": "code",
   "execution_count": 81,
   "metadata": {},
   "outputs": [
    {
     "name": "stdout",
     "output_type": "stream",
     "text": [
      "size(zeros(5, 2)) = (5, 2)\n"
     ]
    },
    {
     "data": {
      "text/plain": [
       "(5, 2)"
      ]
     },
     "execution_count": 81,
     "metadata": {},
     "output_type": "execute_result"
    }
   ],
   "source": [
    "@show size( zeros(5,2) )"
   ]
  },
  {
   "cell_type": "code",
   "execution_count": 82,
   "metadata": {},
   "outputs": [
    {
     "name": "stdout",
     "output_type": "stream",
     "text": [
      "x[1] = -1.0\n",
      "x[2] = 3.0\n",
      "x[end] = 3.141592653589793\n"
     ]
    },
    {
     "data": {
      "text/plain": [
       "3.141592653589793"
      ]
     },
     "execution_count": 82,
     "metadata": {},
     "output_type": "execute_result"
    }
   ],
   "source": [
    "x = [-1.0 3.0 5.0 pi]\n",
    "@show x[1] x[2] x[end]"
   ]
  },
  {
   "cell_type": "code",
   "execution_count": 83,
   "metadata": {},
   "outputs": [
    {
     "name": "stdout",
     "output_type": "stream",
     "text": [
      "a[1, 2] = -1.0\n"
     ]
    },
    {
     "data": {
      "text/plain": [
       "-1.0"
      ]
     },
     "execution_count": 83,
     "metadata": {},
     "output_type": "execute_result"
    }
   ],
   "source": [
    "a = [pi -1.0; 2.0 3.0];\n",
    "@show a[1,2]"
   ]
  },
  {
   "cell_type": "code",
   "execution_count": 84,
   "metadata": {},
   "outputs": [
    {
     "name": "stdout",
     "output_type": "stream",
     "text": [
      "a = [3.14159 -1.0; 2.0 2.71828]\n"
     ]
    },
    {
     "data": {
      "text/plain": [
       "2×2 Array{Float64,2}:\n",
       " 3.14159  -1.0    \n",
       " 2.0       2.71828"
      ]
     },
     "execution_count": 84,
     "metadata": {},
     "output_type": "execute_result"
    }
   ],
   "source": [
    "a[2,2] = e\n",
    "@show a"
   ]
  },
  {
   "cell_type": "code",
   "execution_count": 85,
   "metadata": {},
   "outputs": [
    {
     "name": "stdout",
     "output_type": "stream",
     "text": [
      "a[:, 1] = [3.14159, 2.0]\n",
      "a[2, :] = [2.0, 2.71828]\n"
     ]
    },
    {
     "data": {
      "text/plain": [
       "2-element Array{Float64,1}:\n",
       " 2.0              \n",
       " 2.718281828459045"
      ]
     },
     "execution_count": 85,
     "metadata": {},
     "output_type": "execute_result"
    }
   ],
   "source": [
    "@show a[:,1]\n",
    "@show a[2,:]"
   ]
  },
  {
   "cell_type": "code",
   "execution_count": 86,
   "metadata": {},
   "outputs": [
    {
     "name": "stdout",
     "output_type": "stream",
     "text": [
      "a = [-1 1]\n",
      "a = [15 1]\n"
     ]
    },
    {
     "data": {
      "text/plain": [
       "1×2 Array{Int64,2}:\n",
       " 15  1"
      ]
     },
     "execution_count": 86,
     "metadata": {},
     "output_type": "execute_result"
    }
   ],
   "source": [
    "a = [-1 1]\n",
    "b = a\n",
    "@show a\n",
    "b[1] = 15\n",
    "@show a"
   ]
  },
  {
   "cell_type": "code",
   "execution_count": 87,
   "metadata": {},
   "outputs": [
    {
     "name": "stdout",
     "output_type": "stream",
     "text": [
      "a = [-1 1]\n",
      "a = [-1 1]\n"
     ]
    },
    {
     "data": {
      "text/plain": [
       "1×2 Array{Int64,2}:\n",
       " -1  1"
      ]
     },
     "execution_count": 87,
     "metadata": {},
     "output_type": "execute_result"
    }
   ],
   "source": [
    "a = [-1 1]\n",
    "b = copy(a)\n",
    "@show a\n",
    "b[1] = 15\n",
    "@show a"
   ]
  },
  {
   "cell_type": "code",
   "execution_count": 88,
   "metadata": {},
   "outputs": [
    {
     "name": "stdout",
     "output_type": "stream",
     "text": [
      "(x, A) = ([2.27796e-314, 2.27886e-314], [2.27548e-314 2.27548e-314; 2.27548e-314 2.27548e-314; 2.27548e-314 2.27548e-314])\n"
     ]
    },
    {
     "data": {
      "text/plain": [
       "([2.27796e-314, 2.27886e-314], [2.27548e-314 2.27548e-314; 2.27548e-314 2.27548e-314; 2.27548e-314 2.27548e-314])"
      ]
     },
     "execution_count": 88,
     "metadata": {},
     "output_type": "execute_result"
    }
   ],
   "source": [
    "x = Vector{Float64}(undef,2)\n",
    "A = Matrix{Float64}(undef,3,2)\n",
    "@show x, A"
   ]
  },
  {
   "cell_type": "code",
   "execution_count": 89,
   "metadata": {},
   "outputs": [
    {
     "name": "stdout",
     "output_type": "stream",
     "text": [
      "(x, A) = ([0.0, 0.0], [0.0 0.0; 0.0 0.0; 0.0 0.0])\n"
     ]
    },
    {
     "data": {
      "text/plain": [
       "([0.0, 0.0], [0.0 0.0; 0.0 0.0; 0.0 0.0])"
      ]
     },
     "execution_count": 89,
     "metadata": {},
     "output_type": "execute_result"
    }
   ],
   "source": [
    "x = fill(0., 2)\n",
    "A = fill(0., 3, 2)\n",
    "@show x, A"
   ]
  },
  {
   "cell_type": "code",
   "execution_count": 90,
   "metadata": {},
   "outputs": [
    {
     "name": "stdout",
     "output_type": "stream",
     "text": [
      "x = [0.707107, 0.447214, 0.316228, 0.242536]\n",
      "A = [0 -3; 1 -2; 2 -1; 3 0]\n"
     ]
    },
    {
     "data": {
      "text/plain": [
       "4×2 Array{Int64,2}:\n",
       " 0  -3\n",
       " 1  -2\n",
       " 2  -1\n",
       " 3   0"
      ]
     },
     "execution_count": 90,
     "metadata": {},
     "output_type": "execute_result"
    }
   ],
   "source": [
    "x = [ 1.0 / sqrt(1.0 + i^2) for i=1:4 ]\n",
    "@show x\n",
    "A = [ i-j^2 for i=1:4, j=1:2 ]\n",
    "@show A"
   ]
  },
  {
   "cell_type": "code",
   "execution_count": 91,
   "metadata": {},
   "outputs": [
    {
     "data": {
      "text/plain": [
       "2-element Array{Float64,1}:\n",
       " 1.0              \n",
       " 2.141592653589793"
      ]
     },
     "execution_count": 91,
     "metadata": {},
     "output_type": "execute_result"
    }
   ],
   "source": [
    "A = [1 0; -1 1]\n",
    "x = [1, pi]\n",
    "A*x"
   ]
  },
  {
   "cell_type": "code",
   "execution_count": 92,
   "metadata": {},
   "outputs": [
    {
     "data": {
      "text/plain": [
       "2-element Array{Float64,1}:\n",
       "  1.0\n",
       " -1.0"
      ]
     },
     "execution_count": 92,
     "metadata": {},
     "output_type": "execute_result"
    }
   ],
   "source": [
    "A = [1 0; 1 1]\n",
    "x = [1, 0]\n",
    "A \\ x"
   ]
  },
  {
   "cell_type": "code",
   "execution_count": 93,
   "metadata": {},
   "outputs": [
    {
     "name": "stdout",
     "output_type": "stream",
     "text": [
      "x .^ 2 = [1.0 4.0]\n",
      "x .+ y = [0.0 7.0]\n",
      "x .* y = [-1.0 10.0]\n"
     ]
    },
    {
     "data": {
      "text/plain": [
       "1×2 Array{Float64,2}:\n",
       " -1.0  10.0"
      ]
     },
     "execution_count": 93,
     "metadata": {},
     "output_type": "execute_result"
    }
   ],
   "source": [
    "x = [1.0 2.0]\n",
    "@show x.^2\n",
    "y = [-1.0 5.0]\n",
    "@show x .+ y\n",
    "@show x .* y"
   ]
  },
  {
   "cell_type": "code",
   "execution_count": 94,
   "metadata": {},
   "outputs": [
    {
     "name": "stdout",
     "output_type": "stream",
     "text": [
      "exp.(x) = [2.71828 7.38906]\n"
     ]
    },
    {
     "data": {
      "text/plain": [
       "1×2 Array{Float64,2}:\n",
       " 2.71828  7.38906"
      ]
     },
     "execution_count": 94,
     "metadata": {},
     "output_type": "execute_result"
    }
   ],
   "source": [
    "x = [1.0 2.0]\n",
    "@show exp.(x)"
   ]
  },
  {
   "cell_type": "code",
   "execution_count": 95,
   "metadata": {},
   "outputs": [
    {
     "name": "stdout",
     "output_type": "stream",
     "text": [
      "A = [0 1 2; 3 4 0; 0 5 6]\n",
      "opnorm(A, 1) = 10.0\n",
      "opnorm(A, 2) = 8.612425896637122\n",
      "opnorm(A, Inf) = 11.0\n"
     ]
    },
    {
     "data": {
      "text/plain": [
       "11.0"
      ]
     },
     "execution_count": 95,
     "metadata": {},
     "output_type": "execute_result"
    }
   ],
   "source": [
    "A = [0 1 2; 3 4 0; 0 5 6]\n",
    "@show A\n",
    "@show opnorm(A,1)\n",
    "@show opnorm(A,2)\n",
    "@show opnorm(A,Inf)"
   ]
  },
  {
   "cell_type": "code",
   "execution_count": 96,
   "metadata": {},
   "outputs": [
    {
     "name": "stdout",
     "output_type": "stream",
     "text": [
      "norm(A) = 9.539392014169456\n"
     ]
    },
    {
     "data": {
      "text/plain": [
       "9.539392014169456"
      ]
     },
     "execution_count": 96,
     "metadata": {},
     "output_type": "execute_result"
    }
   ],
   "source": [
    "@show norm(A)"
   ]
  },
  {
   "cell_type": "code",
   "execution_count": 97,
   "metadata": {},
   "outputs": [
    {
     "data": {
      "text/plain": [
       "4×4 Array{Float64,2}:\n",
       "  1.0   0.0   0.0  0.0\n",
       " -1.0   1.0   0.0  0.0\n",
       " -1.0  -1.0   1.0  0.0\n",
       " -1.0  -1.0  -1.0  1.0"
      ]
     },
     "metadata": {},
     "output_type": "display_data"
    },
    {
     "data": {
      "text/plain": [
       "4×4 Array{Float64,2}:\n",
       " 1.0  0.0  0.0  1.0\n",
       " 0.0  1.0  0.0  2.0\n",
       " 0.0  0.0  1.0  4.0\n",
       " 0.0  0.0  0.0  8.0"
      ]
     },
     "metadata": {},
     "output_type": "display_data"
    },
    {
     "name": "stdout",
     "output_type": "stream",
     "text": [
      "p = [1, 2, 3, 4]\n"
     ]
    },
    {
     "data": {
      "text/plain": [
       "4-element Array{Int64,1}:\n",
       " 1\n",
       " 2\n",
       " 3\n",
       " 4"
      ]
     },
     "execution_count": 97,
     "metadata": {},
     "output_type": "execute_result"
    }
   ],
   "source": [
    "A = [1 0 0 1; -1 1 0 1; -1 -1 1 1; -1 -1 -1 1]\n",
    "L, U, p = lu(A)\n",
    "display(L)\n",
    "display(U)\n",
    "@show p"
   ]
  },
  {
   "cell_type": "code",
   "execution_count": 98,
   "metadata": {},
   "outputs": [
    {
     "data": {
      "text/plain": [
       "\"SUCCESS\""
      ]
     },
     "execution_count": 98,
     "metadata": {},
     "output_type": "execute_result"
    }
   ],
   "source": [
    "A[p,:] == L*U ? \"SUCCESS\" : \"FAIL\""
   ]
  },
  {
   "cell_type": "code",
   "execution_count": 99,
   "metadata": {},
   "outputs": [
    {
     "name": "stdout",
     "output_type": "stream",
     "text": [
      "F.Q = [-0.707107 0.707107; 0.707107 0.707107]\n",
      "F.R = [-1.0 1.0; 0.0 0.125]\n"
     ]
    },
    {
     "data": {
      "text/plain": [
       "2×2 Array{Float64,2}:\n",
       " -1.0  1.0  \n",
       "  0.0  0.125"
      ]
     },
     "execution_count": 99,
     "metadata": {},
     "output_type": "execute_result"
    }
   ],
   "source": [
    "t = pi / 4\n",
    "A = [cos(t) sin(t); -sin(t) cos(t)] * [1 -1; 0 1/8]\n",
    "F = qr(A)\n",
    "@show F.Q\n",
    "@show F.R"
   ]
  },
  {
   "cell_type": "code",
   "execution_count": 100,
   "metadata": {},
   "outputs": [
    {
     "name": "stdout",
     "output_type": "stream",
     "text": [
      "F.values = Complex{Float64}[-0.5+0.866025im, -0.5-0.866025im, 1.0+0.0im]\n",
      "F.vectors = Complex{Float64}[0.57735+0.0im 0.57735-0.0im -0.57735+0.0im; -0.288675+0.5im -0.288675-0.5im -0.57735+0.0im; -0.288675-0.5im -0.288675+0.5im -0.57735+0.0im]\n"
     ]
    },
    {
     "data": {
      "text/plain": [
       "3×3 Array{Complex{Float64},2}:\n",
       "   0.57735+0.0im    0.57735-0.0im  -0.57735+0.0im\n",
       " -0.288675+0.5im  -0.288675-0.5im  -0.57735+0.0im\n",
       " -0.288675-0.5im  -0.288675+0.5im  -0.57735+0.0im"
      ]
     },
     "execution_count": 100,
     "metadata": {},
     "output_type": "execute_result"
    }
   ],
   "source": [
    "A = [0 1 0; 0 0 1; 1 0 0]\n",
    "F = eigen(A)\n",
    "@show F.values\n",
    "@show F.vectors"
   ]
  },
  {
   "cell_type": "code",
   "execution_count": 101,
   "metadata": {},
   "outputs": [
    {
     "name": "stdout",
     "output_type": "stream",
     "text": [
      "F.Schur = [-0.5 0.866025 2.09387e-16; -0.866025 -0.5 3.41432e-16; 0.0 0.0 1.0]\n",
      "F.vectors = [0.803898 -0.142879 -0.57735; -0.278212 0.767636 -0.57735; -0.525686 -0.624756 -0.57735]\n"
     ]
    },
    {
     "data": {
      "text/plain": [
       "3×3 Array{Float64,2}:\n",
       "  0.803898  -0.142879  -0.57735\n",
       " -0.278212   0.767636  -0.57735\n",
       " -0.525686  -0.624756  -0.57735"
      ]
     },
     "execution_count": 101,
     "metadata": {},
     "output_type": "execute_result"
    }
   ],
   "source": [
    "A = [0 1 0; 0 0 1; 1 0 0]\n",
    "F = schur(A)\n",
    "@show F.Schur\n",
    "@show F.vectors"
   ]
  },
  {
   "cell_type": "code",
   "execution_count": 102,
   "metadata": {},
   "outputs": [
    {
     "name": "stdout",
     "output_type": "stream",
     "text": [
      "F.U = [-0.57735 0.707107 -0.408248; -0.57735 -0.707107 -0.408248; -0.57735 1.11022e-16 0.816497]\n",
      "F.S = [6.0, 1.73205, 1.73205]\n",
      "F.V = [-0.57735 -0.816497 -0.0; -0.57735 0.408248 0.707107; -0.57735 0.408248 -0.707107]\n"
     ]
    },
    {
     "data": {
      "text/plain": [
       "3×3 Adjoint{Float64,Array{Float64,2}}:\n",
       " -0.57735  -0.816497  -0.0     \n",
       " -0.57735   0.408248   0.707107\n",
       " -0.57735   0.408248  -0.707107"
      ]
     },
     "execution_count": 102,
     "metadata": {},
     "output_type": "execute_result"
    }
   ],
   "source": [
    "A = [1 2 3; 3 1 2; 2 3 1]\n",
    "F = svd(A)\n",
    "@show F.U\n",
    "@show F.S\n",
    "@show F.V"
   ]
  },
  {
   "cell_type": "code",
   "execution_count": 103,
   "metadata": {},
   "outputs": [
    {
     "name": "stdout",
     "output_type": "stream",
     "text": [
      "s = 2.9289682539682538\n"
     ]
    },
    {
     "data": {
      "text/plain": [
       "2.9289682539682538"
      ]
     },
     "execution_count": 103,
     "metadata": {},
     "output_type": "execute_result"
    }
   ],
   "source": [
    "s = 0.0\n",
    "for i=1:10\n",
    "    s += 1.0 / i\n",
    "end\n",
    "@show s"
   ]
  },
  {
   "cell_type": "code",
   "execution_count": 104,
   "metadata": {},
   "outputs": [
    {
     "name": "stdout",
     "output_type": "stream",
     "text": [
      "s = 1.7873015873015872\n"
     ]
    },
    {
     "data": {
      "text/plain": [
       "1.7873015873015872"
      ]
     },
     "execution_count": 104,
     "metadata": {},
     "output_type": "execute_result"
    }
   ],
   "source": [
    "s = 0.0\n",
    "for i = 1:2:9\n",
    "    s += 1.0 / i\n",
    "end\n",
    "@show s"
   ]
  },
  {
   "cell_type": "code",
   "execution_count": 105,
   "metadata": {},
   "outputs": [
    {
     "name": "stdout",
     "output_type": "stream",
     "text": [
      "exp2.(0:2:8) = [1.0, 4.0, 16.0, 64.0, 256.0]\n"
     ]
    },
    {
     "data": {
      "text/plain": [
       "5-element Array{Float64,1}:\n",
       "   1.0\n",
       "   4.0\n",
       "  16.0\n",
       "  64.0\n",
       " 256.0"
      ]
     },
     "execution_count": 105,
     "metadata": {},
     "output_type": "execute_result"
    }
   ],
   "source": [
    "s = 0.0\n",
    "for i = exp2.(0:2:8)\n",
    "    s += 1.0 / i\n",
    "end\n",
    "@show exp2.(0:2:8)"
   ]
  },
  {
   "cell_type": "code",
   "execution_count": 106,
   "metadata": {},
   "outputs": [
    {
     "name": "stdout",
     "output_type": "stream",
     "text": [
      "2 .^ (0:2:8) = [1, 4, 16, 64, 256]\n"
     ]
    },
    {
     "data": {
      "text/plain": [
       "5-element Array{Int64,1}:\n",
       "   1\n",
       "   4\n",
       "  16\n",
       "  64\n",
       " 256"
      ]
     },
     "execution_count": 106,
     "metadata": {},
     "output_type": "execute_result"
    }
   ],
   "source": [
    "# Another way of doing the same thing\n",
    "s = 0.0\n",
    "for i = 2 .^(0:2:8)\n",
    "    s += 1.0 / i\n",
    "end\n",
    "@show 2 .^(0:2:8)"
   ]
  },
  {
   "cell_type": "code",
   "execution_count": 107,
   "metadata": {},
   "outputs": [
    {
     "data": {
      "text/plain": [
       "1.3125"
      ]
     },
     "execution_count": 107,
     "metadata": {},
     "output_type": "execute_result"
    }
   ],
   "source": [
    "s = 0.0\n",
    "for i = [1 4 16]\n",
    "    s += 1.0 / i\n",
    "end\n",
    "s"
   ]
  },
  {
   "cell_type": "code",
   "execution_count": 108,
   "metadata": {},
   "outputs": [
    {
     "name": "stdout",
     "output_type": "stream",
     "text": [
      "(x, e) = (2.7182818284590455, ℯ = 2.7182818284590...)\n"
     ]
    },
    {
     "data": {
      "text/plain": [
       "(2.7182818284590455, ℯ = 2.7182818284590...)"
      ]
     },
     "execution_count": 108,
     "metadata": {},
     "output_type": "execute_result"
    }
   ],
   "source": [
    "using Base.MathConstants\n",
    "x = 1.0; f = 1.0; i = 2\n",
    "while f > eps(1.0)\n",
    "    x += f\n",
    "    f /= i\n",
    "    i += 1\n",
    "end\n",
    "@show x, e"
   ]
  },
  {
   "cell_type": "code",
   "execution_count": 109,
   "metadata": {},
   "outputs": [
    {
     "name": "stdout",
     "output_type": "stream",
     "text": [
      "(flog(20, 0.5), log(1 - 0.5)) = (-0.6931471370510288, -0.6931471805599453)\n"
     ]
    },
    {
     "data": {
      "text/plain": [
       "(-0.6931471370510288, -0.6931471805599453)"
      ]
     },
     "execution_count": 109,
     "metadata": {},
     "output_type": "execute_result"
    }
   ],
   "source": [
    "function flog(n,x)\n",
    "    p = -x\n",
    "    l = 0.0\n",
    "    for i=1:n\n",
    "        l += p/i\n",
    "        p *= x\n",
    "    end\n",
    "    return l\n",
    "end\n",
    "@show flog(20,0.5), log(1-0.5)"
   ]
  },
  {
   "cell_type": "code",
   "execution_count": 110,
   "metadata": {},
   "outputs": [
    {
     "name": "stdout",
     "output_type": "stream",
     "text": [
      "fpower(2, 3) = 8\n"
     ]
    },
    {
     "data": {
      "text/plain": [
       "8"
      ]
     },
     "execution_count": 110,
     "metadata": {},
     "output_type": "execute_result"
    }
   ],
   "source": [
    "fpower(x,y) = x^y\n",
    "@show fpower(2,3)"
   ]
  },
  {
   "cell_type": "code",
   "execution_count": 111,
   "metadata": {},
   "outputs": [
    {
     "data": {
      "text/plain": [
       "4-element Array{Int64,1}:\n",
       "  4\n",
       "  9\n",
       " 16\n",
       " 25"
      ]
     },
     "execution_count": 111,
     "metadata": {},
     "output_type": "execute_result"
    }
   ],
   "source": [
    "map(x -> x^2 + 2x + 1, 1:4)"
   ]
  },
  {
   "cell_type": "code",
   "execution_count": 112,
   "metadata": {},
   "outputs": [
    {
     "name": "stdout",
     "output_type": "stream",
     "text": [
      "(x, y) = (1, [-4 3])\n",
      "f_reference(x, y) = 2\n",
      "(x, y) = (1, [-3 3])\n"
     ]
    },
    {
     "data": {
      "text/plain": [
       "(1, [-3 3])"
      ]
     },
     "execution_count": 112,
     "metadata": {},
     "output_type": "execute_result"
    }
   ],
   "source": [
    "function f_reference(x,y)\n",
    "    x += 1\n",
    "    y[1] += 1\n",
    "    return x\n",
    "end\n",
    "x = 1\n",
    "y = [-4 3]\n",
    "@show x,y\n",
    "@show f_reference(x,y)\n",
    "@show x,y"
   ]
  },
  {
   "cell_type": "code",
   "execution_count": 113,
   "metadata": {},
   "outputs": [
    {
     "data": {
      "text/plain": [
       "π = 3.1415926535897..."
      ]
     },
     "execution_count": 113,
     "metadata": {},
     "output_type": "execute_result"
    }
   ],
   "source": [
    "tup = (pi,e)\n",
    "tup[1]"
   ]
  },
  {
   "cell_type": "code",
   "execution_count": 114,
   "metadata": {},
   "outputs": [
    {
     "data": {
      "text/plain": [
       "(3, 6, 12)"
      ]
     },
     "execution_count": 114,
     "metadata": {},
     "output_type": "execute_result"
    }
   ],
   "source": [
    "function f_multiple(x)\n",
    "    return (x, 2x, 4x)\n",
    "end\n",
    "f_multiple(3)"
   ]
  },
  {
   "cell_type": "code",
   "execution_count": 115,
   "metadata": {},
   "outputs": [
    {
     "name": "stdout",
     "output_type": "stream",
     "text": [
      "(x, y) = (φ = 1.6180339887498..., γ = 0.5772156649015...)\n"
     ]
    },
    {
     "data": {
      "text/plain": [
       "(φ = 1.6180339887498..., γ = 0.5772156649015...)"
      ]
     },
     "execution_count": 115,
     "metadata": {},
     "output_type": "execute_result"
    }
   ],
   "source": [
    "x, y = golden, eulergamma\n",
    "@show x, y"
   ]
  },
  {
   "cell_type": "code",
   "execution_count": 116,
   "metadata": {},
   "outputs": [
    {
     "data": {
      "text/plain": [
       "2-element Array{Tuple{Int64,Int64,Int64},1}:\n",
       " (1, 2, 4)\n",
       " (2, 4, 8)"
      ]
     },
     "execution_count": 116,
     "metadata": {},
     "output_type": "execute_result"
    }
   ],
   "source": [
    "f_multiple.([1, 2])"
   ]
  },
  {
   "cell_type": "code",
   "execution_count": 117,
   "metadata": {},
   "outputs": [
    {
     "name": "stdout",
     "output_type": "stream",
     "text": [
      "f_type(UInt32(1)) = 4\n"
     ]
    },
    {
     "data": {
      "text/plain": [
       "4"
      ]
     },
     "execution_count": 117,
     "metadata": {},
     "output_type": "execute_result"
    }
   ],
   "source": [
    "function f_type(x::UInt32) # 32 bit unsigned integer\n",
    "    return x + 3\n",
    "end\n",
    "@show f_type(UInt32(1))\n",
    "#f_type(UInt32(-1)) # Conversion error\n",
    "#f_type(1)          # Wrong type for input variable; 1 is an Int64"
   ]
  },
  {
   "cell_type": "code",
   "execution_count": 118,
   "metadata": {},
   "outputs": [
    {
     "name": "stdout",
     "output_type": "stream",
     "text": [
      "f_if_then_else(2) = 0.6931471805599453\n",
      "f_if_then_else(-2) = 0.6931471805599453\n",
      "f_if_then_else(0) = nothing\n"
     ]
    },
    {
     "name": "stderr",
     "output_type": "stream",
     "text": [
      "┌ Warning: The input argument is negative; returning log(-x)\n",
      "└ @ Main In[118]:5\n",
      "┌ Error: The input argument is equal to 0\n",
      "└ @ Main In[118]:8\n"
     ]
    }
   ],
   "source": [
    "function f_if_then_else(x)\n",
    "    if x > 0\n",
    "        return log(x)\n",
    "    elseif x < 0\n",
    "        @warn \"The input argument is negative; returning log(-x)\"\n",
    "        return log(-x)\n",
    "    else\n",
    "        @error \"The input argument is equal to 0\"\n",
    "    end\n",
    "end\n",
    "@show f_if_then_else(2)\n",
    "@show f_if_then_else(-2)\n",
    "@show f_if_then_else(0)"
   ]
  }
 ],
 "metadata": {
  "anaconda-cloud": {},
  "kernelspec": {
   "display_name": "Julia 1.0.0",
   "language": "julia",
   "name": "julia-1.0"
  },
  "language_info": {
   "file_extension": ".jl",
   "mimetype": "application/julia",
   "name": "julia",
   "version": "1.0.0"
  }
 },
 "nbformat": 4,
 "nbformat_minor": 1
}
