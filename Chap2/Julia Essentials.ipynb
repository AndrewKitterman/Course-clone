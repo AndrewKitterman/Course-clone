{
 "cells": [
  {
   "cell_type": "code",
   "execution_count": 1,
   "metadata": {},
   "outputs": [
    {
     "data": {
      "text/plain": [
       "Int64"
      ]
     },
     "execution_count": 1,
     "metadata": {},
     "output_type": "execute_result"
    }
   ],
   "source": [
    "x = 1\n",
    "typeof(x)"
   ]
  },
  {
   "cell_type": "code",
   "execution_count": 2,
   "metadata": {
    "scrolled": true
   },
   "outputs": [
    {
     "data": {
      "text/plain": [
       "Float64"
      ]
     },
     "execution_count": 2,
     "metadata": {},
     "output_type": "execute_result"
    }
   ],
   "source": [
    "y = 1.0\n",
    "typeof(y)"
   ]
  },
  {
   "cell_type": "code",
   "execution_count": 3,
   "metadata": {},
   "outputs": [
    {
     "data": {
      "text/plain": [
       "2"
      ]
     },
     "execution_count": 3,
     "metadata": {},
     "output_type": "execute_result"
    }
   ],
   "source": [
    "2*x\n",
    "2x"
   ]
  },
  {
   "cell_type": "code",
   "execution_count": 4,
   "metadata": {},
   "outputs": [
    {
     "data": {
      "text/plain": [
       "-3.0 + 2.0im"
      ]
     },
     "execution_count": 4,
     "metadata": {},
     "output_type": "execute_result"
    }
   ],
   "source": [
    "-3.0 + 2.0*im"
   ]
  },
  {
   "cell_type": "code",
   "execution_count": 5,
   "metadata": {},
   "outputs": [
    {
     "data": {
      "text/plain": [
       "π = 3.1415926535897..."
      ]
     },
     "execution_count": 5,
     "metadata": {},
     "output_type": "execute_result"
    }
   ],
   "source": [
    "π"
   ]
  },
  {
   "cell_type": "code",
   "execution_count": 6,
   "metadata": {},
   "outputs": [
    {
     "data": {
      "text/plain": [
       "6"
      ]
     },
     "execution_count": 6,
     "metadata": {},
     "output_type": "execute_result"
    }
   ],
   "source": [
    "x = 1\n",
    "x += 5"
   ]
  },
  {
   "cell_type": "code",
   "execution_count": 7,
   "metadata": {},
   "outputs": [
    {
     "name": "stdout",
     "output_type": "stream",
     "text": [
      "6"
     ]
    }
   ],
   "source": [
    "show(x)"
   ]
  },
  {
   "cell_type": "code",
   "execution_count": 8,
   "metadata": {},
   "outputs": [],
   "source": [
    "x;"
   ]
  },
  {
   "cell_type": "code",
   "execution_count": 9,
   "metadata": {},
   "outputs": [
    {
     "name": "stdout",
     "output_type": "stream",
     "text": [
      "[1 2]"
     ]
    }
   ],
   "source": [
    "show([1 2])"
   ]
  },
  {
   "cell_type": "code",
   "execution_count": 10,
   "metadata": {},
   "outputs": [
    {
     "name": "stdout",
     "output_type": "stream",
     "text": [
      "6\n"
     ]
    }
   ],
   "source": [
    "println(x)"
   ]
  },
  {
   "cell_type": "code",
   "execution_count": 11,
   "metadata": {},
   "outputs": [
    {
     "name": "stdout",
     "output_type": "stream",
     "text": [
      "12\n",
      "3\n"
     ]
    }
   ],
   "source": [
    "print(\"1\")\n",
    "println(\"2\")\n",
    "println(\"3\")"
   ]
  },
  {
   "cell_type": "code",
   "execution_count": 12,
   "metadata": {},
   "outputs": [
    {
     "name": "stdout",
     "output_type": "stream",
     "text": [
      "The formatting of 3.142 is similar to the C language\n"
     ]
    }
   ],
   "source": [
    "using Printf\n",
    "@printf(\"The formatting of %5.3f is similar to the C language\\n\",pi)"
   ]
  },
  {
   "cell_type": "code",
   "execution_count": 13,
   "metadata": {},
   "outputs": [
    {
     "name": "stderr",
     "output_type": "stream",
     "text": [
      "┌ Info: Everything is going well\n",
      "└ @ Main In[13]:2\n",
      "┌ Warning: I can see clouds on the horizon\n",
      "└ @ Main In[13]:3\n",
      "┌ Error: The storm is here\n",
      "└ @ Main In[13]:4\n"
     ]
    }
   ],
   "source": [
    "using Logging\n",
    "@info \"Everything is going well\"\n",
    "@warn \"I can see clouds on the horizon\"\n",
    "@error \"The storm is here\""
   ]
  },
  {
   "cell_type": "code",
   "execution_count": 14,
   "metadata": {},
   "outputs": [],
   "source": [
    "using Base.MathConstants"
   ]
  },
  {
   "cell_type": "code",
   "execution_count": 15,
   "metadata": {},
   "outputs": [
    {
     "data": {
      "text/plain": [
       "1×3 Array{Float64,2}:\n",
       " 1.0  -1.0  1.0"
      ]
     },
     "execution_count": 15,
     "metadata": {},
     "output_type": "execute_result"
    }
   ],
   "source": [
    "a = [1.0 -1.0 1.0]"
   ]
  },
  {
   "cell_type": "code",
   "execution_count": 16,
   "metadata": {},
   "outputs": [
    {
     "data": {
      "text/plain": [
       "3-element Array{Float64,1}:\n",
       " 3.141592653589793\n",
       " 6.283185307179586\n",
       " 9.42477796076938"
      ]
     },
     "execution_count": 16,
     "metadata": {},
     "output_type": "execute_result"
    }
   ],
   "source": [
    "a = [pi, 2pi, 3pi]"
   ]
  },
  {
   "cell_type": "code",
   "execution_count": 17,
   "metadata": {},
   "outputs": [
    {
     "name": "stdout",
     "output_type": "stream",
     "text": [
      "[3.141592653589793, 6.283185307179586, 9.42477796076938]"
     ]
    }
   ],
   "source": [
    "show(a)"
   ]
  },
  {
   "cell_type": "code",
   "execution_count": 18,
   "metadata": {},
   "outputs": [
    {
     "name": "stdout",
     "output_type": "stream",
     "text": [
      "a = [3.141592653589793, 6.283185307179586, 9.42477796076938]\n"
     ]
    },
    {
     "data": {
      "text/plain": [
       "3-element Array{Float64,1}:\n",
       " 3.141592653589793\n",
       " 6.283185307179586\n",
       " 9.42477796076938"
      ]
     },
     "execution_count": 18,
     "metadata": {},
     "output_type": "execute_result"
    }
   ],
   "source": [
    "@show a"
   ]
  },
  {
   "cell_type": "code",
   "execution_count": 19,
   "metadata": {},
   "outputs": [
    {
     "name": "stdout",
     "output_type": "stream",
     "text": [
      "1:0.1:2 = 1.0:0.1:2.0\n",
      "LinRange(1, 65, 17) = range(1.0, stop=65.0, length=17)\n",
      "exp10.(LinRange(1, 5, 3)) = [10.0, 1000.0, 100000.0]\n"
     ]
    },
    {
     "data": {
      "text/plain": [
       "3-element Array{Float64,1}:\n",
       "     10.0\n",
       "   1000.0\n",
       " 100000.0"
      ]
     },
     "execution_count": 19,
     "metadata": {},
     "output_type": "execute_result"
    }
   ],
   "source": [
    "@show 1:.1:2\n",
    "@show LinRange(1,65,17)\n",
    "@show exp10.(LinRange(1,5,3))"
   ]
  },
  {
   "cell_type": "code",
   "execution_count": 20,
   "metadata": {},
   "outputs": [
    {
     "data": {
      "text/plain": [
       "2×2 Array{Float64,2}:\n",
       " 3.14159  -1.0\n",
       " 2.0       3.0"
      ]
     },
     "execution_count": 20,
     "metadata": {},
     "output_type": "execute_result"
    }
   ],
   "source": [
    "a = [pi -1.0; 2.0 3.0]"
   ]
  },
  {
   "cell_type": "code",
   "execution_count": 21,
   "metadata": {},
   "outputs": [
    {
     "name": "stdout",
     "output_type": "stream",
     "text": [
      "zeros(2, 1) = [0.0; 0.0]\n",
      "ones(2, 3) = [1.0 1.0 1.0; 1.0 1.0 1.0]\n",
      "Diagonal(ones(3, 3)) = [1.0 0.0 0.0; 0.0 1.0 0.0; 0.0 0.0 1.0]\n"
     ]
    },
    {
     "data": {
      "text/plain": [
       "3×3 Diagonal{Float64,Array{Float64,1}}:\n",
       " 1.0   ⋅    ⋅ \n",
       "  ⋅   1.0   ⋅ \n",
       "  ⋅    ⋅   1.0"
      ]
     },
     "execution_count": 21,
     "metadata": {},
     "output_type": "execute_result"
    }
   ],
   "source": [
    "using LinearAlgebra\n",
    "@show zeros(2,1)\n",
    "@show ones(2,3)\n",
    "@show Diagonal(ones(3,3))"
   ]
  },
  {
   "cell_type": "code",
   "execution_count": 22,
   "metadata": {},
   "outputs": [
    {
     "name": "stdout",
     "output_type": "stream",
     "text": [
      "UniformScaling(3) = UniformScaling{Int64}(3)\n"
     ]
    },
    {
     "data": {
      "text/plain": [
       "UniformScaling{Int64}\n",
       "3*I"
      ]
     },
     "execution_count": 22,
     "metadata": {},
     "output_type": "execute_result"
    }
   ],
   "source": [
    "@show UniformScaling(3)"
   ]
  },
  {
   "cell_type": "code",
   "execution_count": 23,
   "metadata": {},
   "outputs": [
    {
     "name": "stdout",
     "output_type": "stream",
     "text": [
      "size(zeros(5, 2)) = (5, 2)\n"
     ]
    },
    {
     "data": {
      "text/plain": [
       "(5, 2)"
      ]
     },
     "execution_count": 23,
     "metadata": {},
     "output_type": "execute_result"
    }
   ],
   "source": [
    "@show size( zeros(5,2) )"
   ]
  },
  {
   "cell_type": "code",
   "execution_count": 24,
   "metadata": {},
   "outputs": [
    {
     "name": "stdout",
     "output_type": "stream",
     "text": [
      "x[1] = -1.0\n",
      "x[2] = 3.0\n",
      "x[end] = 3.141592653589793\n"
     ]
    },
    {
     "data": {
      "text/plain": [
       "3.141592653589793"
      ]
     },
     "execution_count": 24,
     "metadata": {},
     "output_type": "execute_result"
    }
   ],
   "source": [
    "x = [-1.0 3.0 5.0 pi]\n",
    "@show x[1] x[2] x[end]"
   ]
  },
  {
   "cell_type": "code",
   "execution_count": 25,
   "metadata": {},
   "outputs": [
    {
     "name": "stdout",
     "output_type": "stream",
     "text": [
      "a[1, 2] = -1.0\n"
     ]
    },
    {
     "data": {
      "text/plain": [
       "-1.0"
      ]
     },
     "execution_count": 25,
     "metadata": {},
     "output_type": "execute_result"
    }
   ],
   "source": [
    "a = [pi -1.0; 2.0 3.0];\n",
    "@show a[1,2]"
   ]
  },
  {
   "cell_type": "code",
   "execution_count": 26,
   "metadata": {},
   "outputs": [
    {
     "name": "stdout",
     "output_type": "stream",
     "text": [
      "a = [3.141592653589793 -1.0; 2.0 2.718281828459045]\n"
     ]
    },
    {
     "data": {
      "text/plain": [
       "2×2 Array{Float64,2}:\n",
       " 3.14159  -1.0\n",
       " 2.0       2.71828"
      ]
     },
     "execution_count": 26,
     "metadata": {},
     "output_type": "execute_result"
    }
   ],
   "source": [
    "a[2,2] = e\n",
    "@show a"
   ]
  },
  {
   "cell_type": "code",
   "execution_count": 27,
   "metadata": {},
   "outputs": [
    {
     "name": "stdout",
     "output_type": "stream",
     "text": [
      "a[:, 1] = [3.141592653589793, 2.0]\n",
      "a[2, :] = [2.0, 2.718281828459045]\n"
     ]
    },
    {
     "data": {
      "text/plain": [
       "2-element Array{Float64,1}:\n",
       " 2.0\n",
       " 2.718281828459045"
      ]
     },
     "execution_count": 27,
     "metadata": {},
     "output_type": "execute_result"
    }
   ],
   "source": [
    "@show a[:,1]\n",
    "@show a[2,:]"
   ]
  },
  {
   "cell_type": "code",
   "execution_count": 28,
   "metadata": {},
   "outputs": [
    {
     "name": "stdout",
     "output_type": "stream",
     "text": [
      "a = [-1 1]\n",
      "a = [15 1]\n"
     ]
    },
    {
     "data": {
      "text/plain": [
       "1×2 Array{Int64,2}:\n",
       " 15  1"
      ]
     },
     "execution_count": 28,
     "metadata": {},
     "output_type": "execute_result"
    }
   ],
   "source": [
    "a = [-1 1]\n",
    "b = a\n",
    "@show a\n",
    "b[1] = 15\n",
    "@show a"
   ]
  },
  {
   "cell_type": "code",
   "execution_count": 29,
   "metadata": {},
   "outputs": [
    {
     "name": "stdout",
     "output_type": "stream",
     "text": [
      "a = [-1 1]\n",
      "a = [-1 1]\n"
     ]
    },
    {
     "data": {
      "text/plain": [
       "1×2 Array{Int64,2}:\n",
       " -1  1"
      ]
     },
     "execution_count": 29,
     "metadata": {},
     "output_type": "execute_result"
    }
   ],
   "source": [
    "a = [-1 1]\n",
    "b = copy(a)\n",
    "@show a\n",
    "b[1] = 15\n",
    "@show a"
   ]
  },
  {
   "cell_type": "code",
   "execution_count": 30,
   "metadata": {},
   "outputs": [
    {
     "name": "stdout",
     "output_type": "stream",
     "text": [
      "(x, A) = ([2.1887342337e-314, 2.238498992e-314], [2.2721655895e-314 2.188731483e-314; 2.268881958e-314 2.165807999e-314; 2.165807991e-314 2.1887315776e-314])\n"
     ]
    },
    {
     "data": {
      "text/plain": [
       "([2.1887342337e-314, 2.238498992e-314], [2.2721655895e-314 2.188731483e-314; 2.268881958e-314 2.165807999e-314; 2.165807991e-314 2.1887315776e-314])"
      ]
     },
     "execution_count": 30,
     "metadata": {},
     "output_type": "execute_result"
    }
   ],
   "source": [
    "x = Vector{Float64}(undef,2)\n",
    "A = Matrix{Float64}(undef,3,2)\n",
    "@show x, A"
   ]
  },
  {
   "cell_type": "code",
   "execution_count": 31,
   "metadata": {},
   "outputs": [
    {
     "name": "stdout",
     "output_type": "stream",
     "text": [
      "(x, A) = ([0.0, 0.0], [0.0 0.0; 0.0 0.0; 0.0 0.0])\n"
     ]
    },
    {
     "data": {
      "text/plain": [
       "([0.0, 0.0], [0.0 0.0; 0.0 0.0; 0.0 0.0])"
      ]
     },
     "execution_count": 31,
     "metadata": {},
     "output_type": "execute_result"
    }
   ],
   "source": [
    "x = fill(0., 2)\n",
    "A = fill(0., 3, 2)\n",
    "@show x, A"
   ]
  },
  {
   "cell_type": "code",
   "execution_count": 32,
   "metadata": {},
   "outputs": [
    {
     "name": "stdout",
     "output_type": "stream",
     "text": [
      "x = [0.7071067811865475, 0.4472135954999579, 0.31622776601683794, 0.24253562503633297]\n",
      "A = [0 -3; 1 -2; 2 -1; 3 0]\n"
     ]
    },
    {
     "data": {
      "text/plain": [
       "4×2 Array{Int64,2}:\n",
       " 0  -3\n",
       " 1  -2\n",
       " 2  -1\n",
       " 3   0"
      ]
     },
     "execution_count": 32,
     "metadata": {},
     "output_type": "execute_result"
    }
   ],
   "source": [
    "x = [ 1.0 / sqrt(1.0 + i^2) for i=1:4 ]\n",
    "@show x\n",
    "A = [ i-j^2 for i=1:4, j=1:2 ]\n",
    "@show A"
   ]
  },
  {
   "cell_type": "code",
   "execution_count": 33,
   "metadata": {},
   "outputs": [
    {
     "data": {
      "text/plain": [
       "2-element Array{Float64,1}:\n",
       " 1.0\n",
       " 2.141592653589793"
      ]
     },
     "execution_count": 33,
     "metadata": {},
     "output_type": "execute_result"
    }
   ],
   "source": [
    "A = [1 0; -1 1]\n",
    "x = [1, pi]\n",
    "A*x"
   ]
  },
  {
   "cell_type": "code",
   "execution_count": 34,
   "metadata": {},
   "outputs": [
    {
     "data": {
      "text/plain": [
       "2-element Array{Float64,1}:\n",
       "  1.0\n",
       " -1.0"
      ]
     },
     "execution_count": 34,
     "metadata": {},
     "output_type": "execute_result"
    }
   ],
   "source": [
    "A = [1 0; 1 1]\n",
    "x = [1, 0]\n",
    "A \\ x"
   ]
  },
  {
   "cell_type": "code",
   "execution_count": 35,
   "metadata": {},
   "outputs": [
    {
     "name": "stdout",
     "output_type": "stream",
     "text": [
      "x .^ 2 = [1.0 4.0]\n",
      "x .+ y = [0.0 7.0]\n",
      "x .* y = [-1.0 10.0]\n"
     ]
    },
    {
     "data": {
      "text/plain": [
       "1×2 Array{Float64,2}:\n",
       " -1.0  10.0"
      ]
     },
     "execution_count": 35,
     "metadata": {},
     "output_type": "execute_result"
    }
   ],
   "source": [
    "x = [1.0 2.0]\n",
    "@show x.^2\n",
    "y = [-1.0 5.0]\n",
    "@show x .+ y\n",
    "@show x .* y"
   ]
  },
  {
   "cell_type": "code",
   "execution_count": 36,
   "metadata": {},
   "outputs": [
    {
     "name": "stdout",
     "output_type": "stream",
     "text": [
      "exp.(x) = [2.718281828459045 7.38905609893065]\n"
     ]
    },
    {
     "data": {
      "text/plain": [
       "1×2 Array{Float64,2}:\n",
       " 2.71828  7.38906"
      ]
     },
     "execution_count": 36,
     "metadata": {},
     "output_type": "execute_result"
    }
   ],
   "source": [
    "x = [1.0 2.0]\n",
    "@show exp.(x)"
   ]
  },
  {
   "cell_type": "code",
   "execution_count": 37,
   "metadata": {},
   "outputs": [
    {
     "name": "stdout",
     "output_type": "stream",
     "text": [
      "A = [0 1 2; 3 4 0; 0 5 6]\n",
      "opnorm(A, 1) = 10.0\n",
      "opnorm(A, 2) = 8.612425896637122\n",
      "opnorm(A, Inf) = 11.0\n"
     ]
    },
    {
     "data": {
      "text/plain": [
       "11.0"
      ]
     },
     "execution_count": 37,
     "metadata": {},
     "output_type": "execute_result"
    }
   ],
   "source": [
    "A = [0 1 2; 3 4 0; 0 5 6]\n",
    "@show A\n",
    "@show opnorm(A,1)\n",
    "@show opnorm(A,2)\n",
    "@show opnorm(A,Inf)"
   ]
  },
  {
   "cell_type": "code",
   "execution_count": 38,
   "metadata": {},
   "outputs": [
    {
     "name": "stdout",
     "output_type": "stream",
     "text": [
      "norm(A) = 9.539392014169456\n"
     ]
    },
    {
     "data": {
      "text/plain": [
       "9.539392014169456"
      ]
     },
     "execution_count": 38,
     "metadata": {},
     "output_type": "execute_result"
    }
   ],
   "source": [
    "@show norm(A)"
   ]
  },
  {
   "cell_type": "code",
   "execution_count": 39,
   "metadata": {},
   "outputs": [
    {
     "name": "stdout",
     "output_type": "stream",
     "text": [
      "F.L = [1.0 0.0 0.0 0.0; -1.0 1.0 0.0 0.0; -1.0 -1.0 1.0 0.0; -1.0 -1.0 -1.0 1.0]\n",
      "F.U = [1.0 0.0 0.0 1.0; 0.0 1.0 0.0 2.0; 0.0 0.0 1.0 4.0; 0.0 0.0 0.0 8.0]\n",
      "F.p = [1, 2, 3, 4]\n"
     ]
    },
    {
     "data": {
      "text/plain": [
       "4-element Array{Int64,1}:\n",
       " 1\n",
       " 2\n",
       " 3\n",
       " 4"
      ]
     },
     "execution_count": 39,
     "metadata": {},
     "output_type": "execute_result"
    }
   ],
   "source": [
    "A = [1 0 0 1; -1 1 0 1; -1 -1 1 1; -1 -1 -1 1]\n",
    "F = lu(A)\n",
    "@show F.L\n",
    "@show F.U\n",
    "@show F.p"
   ]
  },
  {
   "cell_type": "code",
   "execution_count": 40,
   "metadata": {},
   "outputs": [
    {
     "data": {
      "text/plain": [
       "\"SUCCESS\""
      ]
     },
     "execution_count": 40,
     "metadata": {},
     "output_type": "execute_result"
    }
   ],
   "source": [
    "A[F.p,:] == F.L*F.U ? \"SUCCESS\" : \"FAIL\""
   ]
  },
  {
   "cell_type": "code",
   "execution_count": 41,
   "metadata": {},
   "outputs": [
    {
     "name": "stdout",
     "output_type": "stream",
     "text": [
      "F.Q = [-0.7071067811865475 0.7071067811865475; 0.7071067811865475 0.7071067811865476]\n",
      "F.R = [-1.0 1.0; 0.0 0.125]\n"
     ]
    },
    {
     "data": {
      "text/plain": [
       "2×2 Array{Float64,2}:\n",
       " -1.0  1.0\n",
       "  0.0  0.125"
      ]
     },
     "execution_count": 41,
     "metadata": {},
     "output_type": "execute_result"
    }
   ],
   "source": [
    "t = pi / 4\n",
    "A = [cos(t) sin(t); -sin(t) cos(t)] * [1 -1; 0 1/8]\n",
    "F = qr(A)\n",
    "@show F.Q\n",
    "@show F.R"
   ]
  },
  {
   "cell_type": "code",
   "execution_count": 42,
   "metadata": {},
   "outputs": [
    {
     "name": "stdout",
     "output_type": "stream",
     "text": [
      "F.values = Complex{Float64}[-0.5 - 0.8660254037844389im, -0.5 + 0.8660254037844389im, 0.9999999999999998 + 0.0im]\n",
      "F.vectors = Complex{Float64}[0.577350269189626 - 0.0im 0.577350269189626 + 0.0im -0.5773502691896256 + 0.0im; -0.28867513459481303 - 0.4999999999999997im -0.28867513459481303 + 0.4999999999999997im -0.5773502691896256 + 0.0im; -0.28867513459481287 + 0.4999999999999999im -0.28867513459481287 - 0.4999999999999999im -0.577350269189626 + 0.0im]\n"
     ]
    },
    {
     "data": {
      "text/plain": [
       "3×3 Array{Complex{Float64},2}:\n",
       "   0.57735-0.0im    0.57735+0.0im  -0.57735+0.0im\n",
       " -0.288675-0.5im  -0.288675+0.5im  -0.57735+0.0im\n",
       " -0.288675+0.5im  -0.288675-0.5im  -0.57735+0.0im"
      ]
     },
     "execution_count": 42,
     "metadata": {},
     "output_type": "execute_result"
    }
   ],
   "source": [
    "A = [0 1 0; 0 0 1; 1 0 0]\n",
    "F = eigen(A)\n",
    "@show F.values\n",
    "@show F.vectors"
   ]
  },
  {
   "cell_type": "code",
   "execution_count": 43,
   "metadata": {},
   "outputs": [
    {
     "name": "stdout",
     "output_type": "stream",
     "text": [
      "F.Schur = [-0.5 0.8660254037844394 2.093866863762892e-16; -0.8660254037844386 -0.5 3.414324379582377e-16; 0.0 0.0 0.9999999999999998]\n",
      "F.vectors = [0.8038980964653946 -0.14287937977882714 -0.5773502691896257; -0.27821187566726857 0.7676358634823983 -0.5773502691896256; -0.5256862207981258 -0.6247564837035714 -0.5773502691896257]\n"
     ]
    },
    {
     "data": {
      "text/plain": [
       "3×3 Array{Float64,2}:\n",
       "  0.803898  -0.142879  -0.57735\n",
       " -0.278212   0.767636  -0.57735\n",
       " -0.525686  -0.624756  -0.57735"
      ]
     },
     "execution_count": 43,
     "metadata": {},
     "output_type": "execute_result"
    }
   ],
   "source": [
    "A = [0 1 0; 0 0 1; 1 0 0]\n",
    "F = schur(A)\n",
    "@show F.Schur\n",
    "@show F.vectors"
   ]
  },
  {
   "cell_type": "code",
   "execution_count": 44,
   "metadata": {},
   "outputs": [
    {
     "name": "stdout",
     "output_type": "stream",
     "text": [
      "F.U = [-0.5773502691896258 0.7071067811865477 -0.40824829046386313; -0.577350269189626 -0.7071067811865476 -0.408248290463863; -0.5773502691896258 1.1102230246251565e-16 0.816496580927726]\n",
      "F.S = [5.999999999999999, 1.7320508075688776, 1.7320508075688772]\n",
      "F.V = [-0.5773502691896257 -0.816496580927726 -0.0; -0.5773502691896257 0.4082482904638629 0.7071067811865475; -0.5773502691896257 0.40824829046386296 -0.7071067811865476]\n"
     ]
    },
    {
     "data": {
      "text/plain": [
       "3×3 Adjoint{Float64,Array{Float64,2}}:\n",
       " -0.57735  -0.816497  -0.0\n",
       " -0.57735   0.408248   0.707107\n",
       " -0.57735   0.408248  -0.707107"
      ]
     },
     "execution_count": 44,
     "metadata": {},
     "output_type": "execute_result"
    }
   ],
   "source": [
    "A = [1 2 3; 3 1 2; 2 3 1]\n",
    "F = svd(A)\n",
    "@show F.U\n",
    "@show F.S\n",
    "@show F.V"
   ]
  },
  {
   "cell_type": "code",
   "execution_count": 45,
   "metadata": {},
   "outputs": [
    {
     "name": "stdout",
     "output_type": "stream",
     "text": [
      "s = 2.9289682539682538\n"
     ]
    },
    {
     "data": {
      "text/plain": [
       "2.9289682539682538"
      ]
     },
     "execution_count": 45,
     "metadata": {},
     "output_type": "execute_result"
    }
   ],
   "source": [
    "s = 0.0\n",
    "for i=1:10\n",
    "    s += 1.0 / i\n",
    "end\n",
    "@show s"
   ]
  },
  {
   "cell_type": "code",
   "execution_count": 46,
   "metadata": {},
   "outputs": [
    {
     "name": "stdout",
     "output_type": "stream",
     "text": [
      "s = 1.7873015873015872\n"
     ]
    },
    {
     "data": {
      "text/plain": [
       "1.7873015873015872"
      ]
     },
     "execution_count": 46,
     "metadata": {},
     "output_type": "execute_result"
    }
   ],
   "source": [
    "s = 0.0\n",
    "for i = 1:2:9\n",
    "    s += 1.0 / i\n",
    "end\n",
    "@show s"
   ]
  },
  {
   "cell_type": "code",
   "execution_count": 47,
   "metadata": {},
   "outputs": [
    {
     "name": "stdout",
     "output_type": "stream",
     "text": [
      "exp2.(0:2:8) = [1.0, 4.0, 16.0, 64.0, 256.0]\n"
     ]
    },
    {
     "data": {
      "text/plain": [
       "5-element Array{Float64,1}:\n",
       "   1.0\n",
       "   4.0\n",
       "  16.0\n",
       "  64.0\n",
       " 256.0"
      ]
     },
     "execution_count": 47,
     "metadata": {},
     "output_type": "execute_result"
    }
   ],
   "source": [
    "s = 0.0\n",
    "for i = exp2.(0:2:8)\n",
    "    s += 1.0 / i\n",
    "end\n",
    "@show exp2.(0:2:8)"
   ]
  },
  {
   "cell_type": "code",
   "execution_count": 48,
   "metadata": {},
   "outputs": [
    {
     "name": "stdout",
     "output_type": "stream",
     "text": [
      "2 .^ (0:2:8) = [1, 4, 16, 64, 256]\n"
     ]
    },
    {
     "data": {
      "text/plain": [
       "5-element Array{Int64,1}:\n",
       "   1\n",
       "   4\n",
       "  16\n",
       "  64\n",
       " 256"
      ]
     },
     "execution_count": 48,
     "metadata": {},
     "output_type": "execute_result"
    }
   ],
   "source": [
    "# Another way of doing the same thing\n",
    "s = 0.0\n",
    "for i = 2 .^(0:2:8)\n",
    "    s += 1.0 / i\n",
    "end\n",
    "@show 2 .^(0:2:8)"
   ]
  },
  {
   "cell_type": "code",
   "execution_count": 49,
   "metadata": {},
   "outputs": [
    {
     "data": {
      "text/plain": [
       "1.3125"
      ]
     },
     "execution_count": 49,
     "metadata": {},
     "output_type": "execute_result"
    }
   ],
   "source": [
    "s = 0.0\n",
    "for i = [1 4 16]\n",
    "    s += 1.0 / i\n",
    "end\n",
    "s"
   ]
  },
  {
   "cell_type": "code",
   "execution_count": 50,
   "metadata": {},
   "outputs": [
    {
     "name": "stdout",
     "output_type": "stream",
     "text": [
      "(x, e) = (2.7182818284590455, ℯ)\n"
     ]
    },
    {
     "data": {
      "text/plain": [
       "(2.7182818284590455, ℯ)"
      ]
     },
     "execution_count": 50,
     "metadata": {},
     "output_type": "execute_result"
    }
   ],
   "source": [
    "x = 1.0; f = 1.0; i = 2\n",
    "while f > eps(1.0)\n",
    "    x += f\n",
    "    f /= i\n",
    "    i += 1\n",
    "end\n",
    "@show x, e"
   ]
  },
  {
   "cell_type": "code",
   "execution_count": 51,
   "metadata": {},
   "outputs": [
    {
     "name": "stdout",
     "output_type": "stream",
     "text": [
      "(flog(20, 0.5), log(1 - 0.5)) = (-0.6931471370510288, -0.6931471805599453)\n"
     ]
    },
    {
     "data": {
      "text/plain": [
       "(-0.6931471370510288, -0.6931471805599453)"
      ]
     },
     "execution_count": 51,
     "metadata": {},
     "output_type": "execute_result"
    }
   ],
   "source": [
    "function flog(n,x)\n",
    "    p = -x\n",
    "    l = 0.0\n",
    "    for i=1:n\n",
    "        l += p/i\n",
    "        p *= x\n",
    "    end\n",
    "    return l\n",
    "end\n",
    "@show flog(20,0.5), log(1-0.5)"
   ]
  },
  {
   "cell_type": "code",
   "execution_count": 52,
   "metadata": {},
   "outputs": [
    {
     "name": "stdout",
     "output_type": "stream",
     "text": [
      "fpower(2, 3) = 8\n"
     ]
    },
    {
     "data": {
      "text/plain": [
       "8"
      ]
     },
     "execution_count": 52,
     "metadata": {},
     "output_type": "execute_result"
    }
   ],
   "source": [
    "fpower(x,y) = x^y\n",
    "@show fpower(2,3)"
   ]
  },
  {
   "cell_type": "code",
   "execution_count": 53,
   "metadata": {},
   "outputs": [
    {
     "data": {
      "text/plain": [
       "4-element Array{Int64,1}:\n",
       "  4\n",
       "  9\n",
       " 16\n",
       " 25"
      ]
     },
     "execution_count": 53,
     "metadata": {},
     "output_type": "execute_result"
    }
   ],
   "source": [
    "map(x -> x^2 + 2x + 1, 1:4)"
   ]
  },
  {
   "cell_type": "code",
   "execution_count": 54,
   "metadata": {},
   "outputs": [
    {
     "name": "stdout",
     "output_type": "stream",
     "text": [
      "(x, y) = (1, [-4 3])\n",
      "f_reference(x, y) = 2\n",
      "(x, y) = (1, [-3 3])\n"
     ]
    },
    {
     "data": {
      "text/plain": [
       "(1, [-3 3])"
      ]
     },
     "execution_count": 54,
     "metadata": {},
     "output_type": "execute_result"
    }
   ],
   "source": [
    "function f_reference(x,y)\n",
    "    x += 1\n",
    "    y[1] += 1\n",
    "    return x\n",
    "end\n",
    "x = 1\n",
    "y = [-4 3]\n",
    "@show x,y\n",
    "@show f_reference(x,y)\n",
    "@show x,y"
   ]
  },
  {
   "cell_type": "code",
   "execution_count": 55,
   "metadata": {},
   "outputs": [
    {
     "data": {
      "text/plain": [
       "π = 3.1415926535897..."
      ]
     },
     "execution_count": 55,
     "metadata": {},
     "output_type": "execute_result"
    }
   ],
   "source": [
    "tup = (pi,e)\n",
    "tup[1]"
   ]
  },
  {
   "cell_type": "code",
   "execution_count": 56,
   "metadata": {},
   "outputs": [
    {
     "data": {
      "text/plain": [
       "(3, 6, 12)"
      ]
     },
     "execution_count": 56,
     "metadata": {},
     "output_type": "execute_result"
    }
   ],
   "source": [
    "function f_multiple(x)\n",
    "    return (x, 2x, 4x)\n",
    "end\n",
    "f_multiple(3)"
   ]
  },
  {
   "cell_type": "code",
   "execution_count": 57,
   "metadata": {},
   "outputs": [
    {
     "name": "stdout",
     "output_type": "stream",
     "text": [
      "(x, y) = (φ, γ)\n"
     ]
    },
    {
     "data": {
      "text/plain": [
       "(φ, γ)"
      ]
     },
     "execution_count": 57,
     "metadata": {},
     "output_type": "execute_result"
    }
   ],
   "source": [
    "x, y = golden, eulergamma\n",
    "@show x, y"
   ]
  },
  {
   "cell_type": "code",
   "execution_count": 58,
   "metadata": {},
   "outputs": [
    {
     "data": {
      "text/plain": [
       "2-element Array{Tuple{Int64,Int64,Int64},1}:\n",
       " (1, 2, 4)\n",
       " (2, 4, 8)"
      ]
     },
     "execution_count": 58,
     "metadata": {},
     "output_type": "execute_result"
    }
   ],
   "source": [
    "f_multiple.([1, 2])"
   ]
  },
  {
   "cell_type": "code",
   "execution_count": 59,
   "metadata": {},
   "outputs": [
    {
     "name": "stdout",
     "output_type": "stream",
     "text": [
      "f_type(UInt32(1)) = 4\n"
     ]
    },
    {
     "data": {
      "text/plain": [
       "4"
      ]
     },
     "execution_count": 59,
     "metadata": {},
     "output_type": "execute_result"
    }
   ],
   "source": [
    "function f_type(x::UInt32) # 32 bit unsigned integer\n",
    "    return x + 3\n",
    "end\n",
    "@show f_type(UInt32(1))\n",
    "#f_type(UInt32(-1)) # Conversion error\n",
    "#f_type(1)          # Wrong type for input variable; 1 is an Int64"
   ]
  },
  {
   "cell_type": "code",
   "execution_count": 60,
   "metadata": {},
   "outputs": [
    {
     "name": "stdout",
     "output_type": "stream",
     "text": [
      "f_if_then_else(2) = 0.6931471805599453\n",
      "f_if_then_else(-2) = 0.6931471805599453\n",
      "f_if_then_else(0) = nothing\n"
     ]
    },
    {
     "name": "stderr",
     "output_type": "stream",
     "text": [
      "┌ Warning: The input argument is negative; returning log(-x)\n",
      "└ @ Main In[60]:5\n",
      "┌ Error: The input argument is equal to 0\n",
      "└ @ Main In[60]:8\n"
     ]
    }
   ],
   "source": [
    "function f_if_then_else(x)\n",
    "    if x > 0\n",
    "        return log(x)\n",
    "    elseif x < 0\n",
    "        @warn \"The input argument is negative; returning log(-x)\"\n",
    "        return log(-x)\n",
    "    else\n",
    "        @error \"The input argument is equal to 0\"\n",
    "    end\n",
    "end\n",
    "@show f_if_then_else(2)\n",
    "@show f_if_then_else(-2)\n",
    "@show f_if_then_else(0)"
   ]
  }
 ],
 "metadata": {
  "@webio": {
   "lastCommId": null,
   "lastKernelId": null
  },
  "anaconda-cloud": {},
  "kernelspec": {
   "display_name": "Julia 1.5.1",
   "language": "julia",
   "name": "julia-1.5"
  },
  "language_info": {
   "file_extension": ".jl",
   "mimetype": "application/julia",
   "name": "julia",
   "version": "1.5.1"
  }
 },
 "nbformat": 4,
 "nbformat_minor": 4
}
