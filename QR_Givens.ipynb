{
 "cells": [
  {
   "cell_type": "code",
   "execution_count": 20,
   "metadata": {
    "collapsed": false
   },
   "outputs": [
    {
     "data": {
      "text/plain": [
       "givens (generic function with 1 method)"
      ]
     },
     "execution_count": 20,
     "metadata": {},
     "output_type": "execute_result"
    }
   ],
   "source": [
    "include(\"geqrf.jl\")"
   ]
  },
  {
   "cell_type": "code",
   "execution_count": 21,
   "metadata": {
    "collapsed": false
   },
   "outputs": [
    {
     "data": {
      "text/plain": [
       "6x6 Array{Float64,2}:\n",
       " 0.699955  0.6675    0.369599  0.967839  0.456007   0.0358876\n",
       " 0.94536   0.616676  0.630516  0.201181  0.0419528  0.240538 \n",
       " 0.0       0.524076  0.819348  0.334158  0.354749   0.543491 \n",
       " 0.0       0.0       0.673754  0.536738  0.479899   0.432927 \n",
       " 0.0       0.0       0.0       0.641362  0.481727   0.686683 \n",
       " 0.0       0.0       0.0       0.0       0.36249    0.164226 "
      ]
     },
     "execution_count": 21,
     "metadata": {},
     "output_type": "execute_result"
    }
   ],
   "source": [
    "n = 6\n",
    "A = triu(rand(n,n),-1)\n",
    "\n",
    "# A is a matrix with non-zero entries only above the first sub-diagonal.\n",
    "# Such a matrix is also called an upper Hessenberg matrix.\n",
    "A"
   ]
  },
  {
   "cell_type": "code",
   "execution_count": 22,
   "metadata": {
    "collapsed": false
   },
   "outputs": [
    {
     "data": {
      "text/plain": [
       "6x6 Array{Float64,2}:\n",
       " -1.17628  -0.892813  -0.726668  -0.737604     -0.305067     -0.214671\n",
       "  0.0      -0.550805  -0.755537  -0.520469     -0.442632     -0.481945\n",
       "  0.0       0.0       -0.748697  -0.254781     -0.337762     -0.509952\n",
       "  0.0       0.0        0.0        0.95311       0.622609      0.418013\n",
       "  0.0       0.0        0.0       -5.55112e-17  -0.372288     -0.284807\n",
       "  0.0       0.0        0.0        0.0           1.38778e-17   0.496189"
      ]
     },
     "execution_count": 22,
     "metadata": {},
     "output_type": "execute_result"
    }
   ],
   "source": [
    "for k=1:n-1\n",
    "    c, s = givens(A[k,k], A[k+1,k])\n",
    "    # Apply the Givens rotation to row k and k+1\n",
    "    for j=k:n\n",
    "        A[k,j], A[k+1,j] =\n",
    "            ( c * A[k,j] - s * A[k+1,j],\n",
    "              s * A[k,j] + c * A[k+1,j] )\n",
    "    end\n",
    "end\n",
    "# A is now upper triangular\n",
    "A"
   ]
  }
 ],
 "metadata": {
  "kernelspec": {
   "display_name": "Julia 0.4.5",
   "language": "julia",
   "name": "julia-0.4"
  },
  "language_info": {
   "file_extension": ".jl",
   "mimetype": "application/julia",
   "name": "julia",
   "version": "0.4.5"
  }
 },
 "nbformat": 4,
 "nbformat_minor": 0
}
