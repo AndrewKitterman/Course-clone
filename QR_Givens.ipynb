{
 "cells": [
  {
   "cell_type": "code",
   "execution_count": 10,
   "metadata": {
    "collapsed": false
   },
   "outputs": [
    {
     "data": {
      "text/plain": [
       "geqrfMGS! (generic function with 1 method)"
      ]
     },
     "execution_count": 10,
     "metadata": {},
     "output_type": "execute_result"
    }
   ],
   "source": [
    "include(\"geqrf.jl\")"
   ]
  },
  {
   "cell_type": "code",
   "execution_count": 11,
   "metadata": {
    "collapsed": false
   },
   "outputs": [
    {
     "data": {
      "text/plain": [
       "6x6 Array{Float64,2}:\n",
       " 0.869095  0.993167  0.121802  0.21018     0.348553  0.934866\n",
       " 0.781853  0.530262  0.521668  0.245027    0.939995  0.364152\n",
       " 0.0       0.682448  0.888797  0.78001     0.882693  0.085181\n",
       " 0.0       0.0       0.459036  0.858371    0.692267  0.247962\n",
       " 0.0       0.0       0.0       0.00623574  0.359011  0.300751\n",
       " 0.0       0.0       0.0       0.0         0.31112   0.179628"
      ]
     },
     "execution_count": 11,
     "metadata": {},
     "output_type": "execute_result"
    }
   ],
   "source": [
    "n = 6\n",
    "rng = MersenneTwister(2016)\n",
    "A = triu(rand(rng,n,n),-1)\n",
    "\n",
    "# A is a matrix with non-zero entries only above the first sub-diagonal.\n",
    "# Such a matrix is also called an upper Hessenberg matrix.\n",
    "A"
   ]
  },
  {
   "cell_type": "code",
   "execution_count": 12,
   "metadata": {
    "collapsed": false
   },
   "outputs": [
    {
     "data": {
      "text/plain": [
       "6x6 Array{Float64,2}:\n",
       " 1.16903   1.093      0.439447      0.320131   0.887803      0.93856  \n",
       " 0.0      -0.733927  -0.71374      -0.709997  -0.649438     -0.209641 \n",
       " 0.0       0.0        0.764924      0.775609   1.02161      -0.089826 \n",
       " 0.0       0.0       -5.55112e-17   0.491242   0.103546      0.381159 \n",
       " 0.0       0.0        0.0           0.0        0.474091      0.341178 \n",
       " 0.0       0.0        0.0           0.0        2.77556e-17  -0.0586682"
      ]
     },
     "execution_count": 12,
     "metadata": {},
     "output_type": "execute_result"
    }
   ],
   "source": [
    "for k=1:n-1\n",
    "    c, s = givens(A[k,k], A[k+1,k])\n",
    "    # Apply the Givens rotation to row k and k+1\n",
    "    for j=k:n\n",
    "        A[k,j], A[k+1,j] =\n",
    "            ( c * A[k,j] - s * A[k+1,j],\n",
    "              s * A[k,j] + c * A[k+1,j] )\n",
    "    end\n",
    "end\n",
    "# A is now upper triangular\n",
    "A"
   ]
  }
 ],
 "metadata": {
  "kernelspec": {
   "display_name": "Julia 0.4.6",
   "language": "julia",
   "name": "julia-0.4"
  },
  "language_info": {
   "file_extension": ".jl",
   "mimetype": "application/julia",
   "name": "julia",
   "version": "0.4.6"
  }
 },
 "nbformat": 4,
 "nbformat_minor": 0
}
