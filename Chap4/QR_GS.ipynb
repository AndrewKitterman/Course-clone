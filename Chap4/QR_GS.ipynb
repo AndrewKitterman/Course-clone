{
 "cells": [
  {
   "cell_type": "code",
   "execution_count": 1,
   "metadata": {},
   "outputs": [],
   "source": [
    "include(\"../src/geqrf.jl\")\n",
    "using Random\n",
    "rng = MersenneTwister(2018)\n",
    "import LinearAlgebra.dot\n",
    "import LinearAlgebra.norm\n",
    "import LinearAlgebra.triu\n",
    "import LinearAlgebra.diag\n",
    "using Printf\n",
    ";"
   ]
  },
  {
   "cell_type": "code",
   "execution_count": 2,
   "metadata": {},
   "outputs": [
    {
     "data": {
      "text/plain": [
       "orthogonal_matrix (generic function with 1 method)"
      ]
     },
     "execution_count": 2,
     "metadata": {},
     "output_type": "execute_result"
    }
   ],
   "source": [
    "function orthogonal_matrix(m,n)\n",
    "    # Building an orthogonal matrix Q\n",
    "    Q = zeros(m,n)\n",
    "    for j=0:n-1, i=0:m-1\n",
    "        Q[i+1,j+1] = cos(π*(2i+1)*j/2m)\n",
    "    end\n",
    "    for j=1:n\n",
    "        Q[:,j] /= norm(Q[:,j])\n",
    "    end\n",
    "    return Q\n",
    "end    "
   ]
  },
  {
   "cell_type": "code",
   "execution_count": 3,
   "metadata": {},
   "outputs": [
    {
     "name": "stdout",
     "output_type": "stream",
     "text": [
      "norm(Q - A) = 4.999857065771613e-16\n",
      "norm(R - RGS) = 4.079219866531555e-16\n"
     ]
    },
    {
     "data": {
      "text/plain": [
       "4.079219866531555e-16"
      ]
     },
     "execution_count": 3,
     "metadata": {},
     "output_type": "execute_result"
    }
   ],
   "source": [
    "# Testing QR factorization using CGS\n",
    "n = 4\n",
    "m = 8\n",
    "\n",
    "# Building an orthogonal matrix Q\n",
    "Q = orthogonal_matrix(m,n)\n",
    "\n",
    "# Initializing an upper triangular matrix R\n",
    "R = triu(Float64[ i/j for i=1:n, j=1:n ])\n",
    "\n",
    "# Matrix A\n",
    "A = Q*R\n",
    "# QR factorization\n",
    "RGS = geqrfCGS!(A)\n",
    "# The factor Q is stored in A\n",
    "\n",
    "# These matrices should now be equal\n",
    "@show norm(Q-A)\n",
    "@show norm(R-RGS)"
   ]
  },
  {
   "cell_type": "code",
   "execution_count": 4,
   "metadata": {},
   "outputs": [
    {
     "data": {
      "text/plain": [
       "pretty_print (generic function with 1 method)"
      ]
     },
     "execution_count": 4,
     "metadata": {},
     "output_type": "execute_result"
    }
   ],
   "source": [
    "function pretty_print(A)\n",
    "    m = size(A,1)\n",
    "    n = size(A,2)\n",
    "    for i=1:m\n",
    "        for j=1:n\n",
    "            @printf \"%12.3e\" A[i,j]\n",
    "        end\n",
    "        @printf \"\\n\"\n",
    "    end\n",
    "end    "
   ]
  },
  {
   "cell_type": "code",
   "execution_count": 5,
   "metadata": {},
   "outputs": [
    {
     "name": "stdout",
     "output_type": "stream",
     "text": [
      "e = 2.0 ^ -10 * sqrt(eps(Float64)) = 1.4551915228366852e-11\n",
      "A\n",
      "   1.000e+00   1.000e+00   1.000e+00\n",
      "   1.455e-11   0.000e+00   0.000e+00\n",
      "   0.000e+00   1.455e-11   0.000e+00\n",
      "   0.000e+00   0.000e+00   1.455e-11\n",
      "\n",
      "CGS\n",
      "   1.000e+00   0.000e+00   0.000e+00\n",
      "   1.455e-11  -7.071e-01  -7.071e-01\n",
      "   0.000e+00   7.071e-01   0.000e+00\n",
      "   0.000e+00   0.000e+00   7.071e-01\n",
      "\n",
      "MGS\n",
      "   1.000e+00   0.000e+00   0.000e+00\n",
      "   1.455e-11  -7.071e-01  -4.082e-01\n",
      "   0.000e+00   7.071e-01  -4.082e-01\n",
      "   0.000e+00   0.000e+00   8.165e-01\n"
     ]
    }
   ],
   "source": [
    "@show e = 2.0^(-10) * sqrt(eps(Float64))\n",
    "A0 = [1 1 1; e 0 0; 0 e 0; 0 0 e]\n",
    "@printf \"A\\n\"\n",
    "pretty_print(A0)\n",
    "A = copy(A0); geqrfCGS!(A)\n",
    "@printf \"\\nCGS\\n\"\n",
    "pretty_print(A)\n",
    "\n",
    "A = copy(A0); geqrfMGS!(A)\n",
    "@printf \"\\nMGS\\n\"\n",
    "pretty_print(A)"
   ]
  },
  {
   "cell_type": "code",
   "execution_count": 6,
   "metadata": {},
   "outputs": [
    {
     "data": {
      "text/html": [
       "<script>\n",
       "// Immediately-invoked-function-expression to avoid global variables.\n",
       "(function() {\n",
       "    var warning_div = document.getElementById(\"webio-warning-12084389780233594176\");\n",
       "    var hide = function () {\n",
       "        var script = document.getElementById(\"webio-setup-16893049587163549528\");\n",
       "        var parent = script && script.parentElement;\n",
       "        var grandparent = parent && parent.parentElement;\n",
       "        if (grandparent) {\n",
       "            grandparent.style.display = \"none\";\n",
       "        }\n",
       "        warning_div.style.display = \"none\";\n",
       "    };\n",
       "    if (typeof Jupyter !== \"undefined\") {\n",
       "        console.log(\"WebIO detected Jupyter notebook environment.\");\n",
       "        // Jupyter notebook.\n",
       "        var extensions = (\n",
       "            Jupyter\n",
       "            && Jupyter.notebook.config.data\n",
       "            && Jupyter.notebook.config.data.load_extensions\n",
       "        );\n",
       "        if (extensions && extensions[\"webio-jupyter-notebook\"]) {\n",
       "            // Extension already loaded.\n",
       "            console.log(\"Jupyter WebIO nbextension detected; not loading ad-hoc.\");\n",
       "            hide();\n",
       "            return;\n",
       "        }\n",
       "    } else if (window.location.pathname.includes(\"/lab\")) {\n",
       "        // Guessing JupyterLa\n",
       "        console.log(\"Jupyter Lab detected; make sure the @webio/jupyter-lab-provider labextension is installed.\");\n",
       "        hide();\n",
       "        return;\n",
       "    }\n",
       "})();\n",
       "\n",
       "</script>\n",
       "<p\n",
       "    id=\"webio-warning-12084389780233594176\"\n",
       "    class=\"output_text output_stderr\"\n",
       "    style=\"padding: 1em; font-weight: bold;\"\n",
       ">\n",
       "    Unable to load WebIO. Please make sure WebIO works for your Jupyter client.\n",
       "    For troubleshooting, please see <a href=\"https://juliagizmos.github.io/WebIO.jl/latest/providers/ijulia/\">\n",
       "    the WebIO/IJulia documentation</a>.\n",
       "    <!-- TODO: link to installation docs. -->\n",
       "</p>\n"
      ],
      "text/plain": [
       "HTML{String}(\"<script>\\n// Immediately-invoked-function-expression to avoid global variables.\\n(function() {\\n    var warning_div = document.getElementById(\\\"webio-warning-12084389780233594176\\\");\\n    var hide = function () {\\n        var script = document.getElementById(\\\"webio-setup-16893049587163549528\\\");\\n        var parent = script && script.parentElement;\\n        var grandparent = parent && parent.parentElement;\\n        if (grandparent) {\\n            grandparent.style.display = \\\"none\\\";\\n        }\\n        warning_div.style.display = \\\"none\\\";\\n    };\\n    if (typeof Jupyter !== \\\"undefined\\\") {\\n        console.log(\\\"WebIO detected Jupyter notebook environment.\\\");\\n        // Jupyter notebook.\\n        var extensions = (\\n            Jupyter\\n            && Jupyter.notebook.config.data\\n            && Jupyter.notebook.config.data.load_extensions\\n        );\\n        if (extensions && extensions[\\\"webio-jupyter-notebook\\\"]) {\\n            // Extension already loaded.\\n            console.log(\\\"Jupyter WebIO nbextension detected; not loading ad-hoc.\\\");\\n            hide();\\n            return;\\n        }\\n    } else if (window.location.pathname.includes(\\\"/lab\\\")) {\\n        // Guessing JupyterLa\\n        console.log(\\\"Jupyter Lab detected; make sure the @webio/jupyter-lab-provider labextension is installed.\\\");\\n        hide();\\n        return;\\n    }\\n})();\\n\\n</script>\\n<p\\n    id=\\\"webio-warning-12084389780233594176\\\"\\n    class=\\\"output_text output_stderr\\\"\\n    style=\\\"padding: 1em; font-weight: bold;\\\"\\n>\\n    Unable to load WebIO. Please make sure WebIO works for your Jupyter client.\\n    For troubleshooting, please see <a href=\\\"https://juliagizmos.github.io/WebIO.jl/latest/providers/ijulia/\\\">\\n    the WebIO/IJulia documentation</a>.\\n    <!-- TODO: link to installation docs. -->\\n</p>\\n\")"
      ]
     },
     "metadata": {},
     "output_type": "display_data"
    }
   ],
   "source": [
    "include(\"../load_plot_pkg.jl\")\n",
    "output = false\n",
    "if output\n",
    "    using ORCA\n",
    "end"
   ]
  },
  {
   "cell_type": "code",
   "execution_count": 7,
   "metadata": {},
   "outputs": [
    {
     "data": {
      "application/vnd.plotly.v1+json": {
       "data": [
        {
         "marker": {
          "color": "#E24A33",
          "line": {
           "color": "#348ABD",
           "width": 0.5
          },
          "size": 10
         },
         "name": "exact",
         "type": "scatter",
         "y": [
          0.5,
          0.125,
          0.041666666666666664,
          0.015625,
          0.00625,
          0.0026041666666666665,
          0.0011160714285714285,
          0.00048828125,
          0.00021701388888888888,
          9.765625e-05,
          4.438920454545455e-05,
          2.0345052083333332e-05,
          9.390024038461539e-06,
          4.359654017857143e-06,
          2.0345052083333333e-06,
          9.5367431640625e-07,
          4.4878791360294117e-07,
          2.1192762586805554e-07,
          1.0038677014802631e-07,
          4.76837158203125e-08,
          2.270653134300595e-08,
          1.0837208140980114e-08,
          5.183012589164402e-09,
          2.483526865641276e-09,
          1.1920928955078125e-09,
          5.73121584378756e-10,
          2.759474295156973e-10,
          1.330460820879255e-10,
          6.422914307692955e-11,
          3.104408582051595e-11,
          1.502133184863675e-11,
          7.275957614183426e-12,
          3.527737025058631e-12,
          1.7119900268666884e-12,
          8.315380130495344e-13,
          4.0421986745463475e-13,
          1.9664750308603855e-13,
          9.573628439715034e-14,
          4.664075393707324e-14,
          2.2737367544323207e-14,
          1.1091398802108881e-14,
          5.4136589391245725e-15,
          2.6438799470143262e-15,
          1.2918958832001822e-15,
          6.315935428978669e-16,
          3.089316242435218e-16,
          1.5117930548087238e-16,
          7.401486830834377e-17,
          3.6252180395923476e-17,
          1.7763568394002505e-17,
          8.707631565687502e-18,
          4.270088556250602e-18,
          2.09476042382105e-18,
          1.02798428206033e-18,
          5.046468293750711e-19,
          2.4781763942525814e-19,
          1.2173498077030225e-19,
          5.981805089575197e-20,
          2.940209281316622e-20,
          1.4456028966473392e-20,
          7.109522442527898e-21,
          3.497426362856466e-21,
          1.7209558293420704e-21,
          8.470329472543003e-22
         ]
        },
        {
         "marker": {
          "color": "#348ABD",
          "line": {
           "color": "#348ABD",
           "width": 0.5
          },
          "size": 10
         },
         "name": "CGS",
         "type": "scatter",
         "y": [
          0.49999999999999994,
          0.125,
          0.041666666666666664,
          0.015624999999999997,
          0.006250000000000001,
          0.002604166666666667,
          0.0011160714285714283,
          0.00048828125,
          0.00021701388888888983,
          9.765625000000029e-05,
          4.4389204545453476e-05,
          2.0345052083332756e-05,
          9.39002403846267e-06,
          4.359654017857629e-06,
          2.0345052083325413e-06,
          9.536743164094677e-07,
          4.4878791361680085e-07,
          2.1192762594628597e-07,
          1.0038677052977145e-07,
          4.7683717198759713e-08,
          2.2706541022170957e-08,
          1.0837398240704197e-08,
          5.184287976500051e-09,
          2.487077860085011e-09,
          1.2238833411468093e-09,
          6.786402968918553e-10,
          6.208833106871207e-10,
          7.643826808234364e-10,
          8.284836901374826e-10,
          4.917395070888842e-10,
          8.930627339040384e-10,
          1.202788309268584e-09,
          1.5961502393162597e-09,
          1.9303752086609154e-09,
          2.2033817421183026e-09,
          2.4307820415215584e-09,
          2.646953026933481e-09,
          2.8828954274285165e-09,
          3.1051833284041188e-09,
          3.309413150088379e-09,
          3.4908598576620835e-09,
          3.6679629893115476e-09,
          3.83276781380685e-09,
          4.0117512410438085e-09,
          4.176781804106932e-09,
          4.349966060680394e-09,
          4.49057290121154e-09,
          4.638719803238111e-09,
          4.778744402629368e-09,
          4.915634754408083e-09,
          5.021822368570744e-09,
          5.1521278783568745e-09,
          5.275497942046299e-09,
          5.393216839572812e-09,
          5.499038771794344e-09,
          5.599611353963386e-09,
          5.692449496326514e-09,
          5.784215549705856e-09,
          5.8853869802657134e-09,
          5.9806710188980546e-09,
          6.063121552129852e-09,
          6.148516698050588e-09,
          6.224435574155441e-09,
          6.2997475067148544e-09
         ]
        },
        {
         "marker": {
          "color": "#988ED5",
          "line": {
           "color": "#348ABD",
           "width": 0.5
          },
          "size": 10
         },
         "name": "Error in qk",
         "type": "scatter",
         "y": [
          1.5700924586837752e-16,
          6.29785931692991e-16,
          1.6995356782062242e-15,
          1.1497852858108991e-14,
          5.795256918129784e-14,
          5.86387656849119e-13,
          4.201616970803709e-12,
          2.1712895800946992e-11,
          1.0110347042682066e-10,
          4.612200982447007e-10,
          2.267337671461073e-09,
          1.0474317238690713e-08,
          4.192604644354569e-08,
          1.4963950463665324e-07,
          5.495447715410168e-07,
          2.1654413805555835e-06,
          8.018893924823216e-06,
          2.71695318963491e-05,
          8.70562831473493e-05,
          0.00024046604454708184,
          0.0009233483083103464,
          0.005923001163325806,
          0.022181540448149628,
          0.05343739696835822,
          0.22792570053971833,
          0.5576477016689939,
          1.054093635926362,
          1.2852572489877827,
          1.3582885255409836,
          1.3688453815529151,
          1.4022695754573282,
          1.4099296135644215,
          1.4126498830165608,
          1.4135863123448444,
          1.4139466820656816,
          1.4140959718006296,
          1.4141610281516892,
          1.414190079449797,
          1.4142029416585218,
          1.4142087051982888,
          1.4142113169988728,
          1.4142125201274012,
          1.4142130754481774,
          1.414213334377601,
          1.4142134557124206,
          1.4142135124281774,
          1.4142135386063872,
          1.4142135505411517,
          1.414213557096618,
          1.4142135598657541,
          1.4142135607824557,
          1.4142135613386737,
          1.414213562917469,
          1.4142135631730632,
          1.4142135642917897,
          1.4142135634221413,
          1.4142135632522468,
          1.414213562516879,
          1.414213562557731,
          1.4142135622827994,
          1.4142135628576922,
          1.414213561863225,
          1.4142135617660119,
          1.4142135622696284
         ]
        }
       ],
       "frames": [],
       "layout": {
        "font": {
         "size": 16
        },
        "height": 300,
        "margin": {
         "b": 50,
         "l": 50,
         "r": 50,
         "t": 60
        },
        "titlefont": {
         "size": 18
        },
        "width": 500,
        "xaxis": {
         "gridcolor": "#E5E5E5",
         "linecolor": "black",
         "linewidth": 1,
         "mirror": true,
         "showgrid": true,
         "ticks": "inside",
         "titlefont": {
          "color": "#555555",
          "size": 18
         },
         "zeroline": false
        },
        "yaxis": {
         "gridcolor": "#E5E5E5",
         "linecolor": "black",
         "linewidth": 1,
         "mirror": true,
         "showgrid": true,
         "ticks": "inside",
         "titlefont": {
          "color": "#555555",
          "size": 18
         },
         "type": "log",
         "zeroline": false
        }
       }
      },
      "application/vnd.webio.node+json": {
       "children": [
        {
         "children": [],
         "instanceArgs": {
          "namespace": "html",
          "tag": "div"
         },
         "nodeType": "DOM",
         "props": {
          "id": "plot-6ffc1d15-9f25-4b03-a3a8-a51cb0c884a9"
         },
         "type": "node"
        }
       ],
       "instanceArgs": {
        "handlers": {
         "__get_gd_contents": [
          "(function (prop){prop==\"data\" ? (WebIO.setval({\"name\":\"__gd_contents\",\"scope\":\"8324918107232565913\",\"id\":\"17350970190490402207\",\"type\":\"observable\"},this.plotElem.data)) : undefined; return prop==\"layout\" ? (WebIO.setval({\"name\":\"__gd_contents\",\"scope\":\"8324918107232565913\",\"id\":\"17350970190490402207\",\"type\":\"observable\"},this.plotElem.layout)) : undefined})"
         ],
         "_commands": [
          "(function (args){var fn=args.shift(); var elem=this.plotElem; var Plotly=this.Plotly; args.unshift(elem); return Plotly[fn].apply(this,args)})"
         ],
         "_downloadImage": [
          "(function (options){return this.Plotly.downloadImage(this.plotElem,options)})"
         ],
         "_toImage": [
          "(function (options){return this.Plotly.toImage(this.plotElem,options).then((function (data){return WebIO.setval({\"name\":\"image\",\"scope\":\"8324918107232565913\",\"id\":\"8050249608677150154\",\"type\":\"observable\"},data)}))})"
         ]
        },
        "id": "8324918107232565913",
        "imports": {
         "data": [
          {
           "name": "Plotly",
           "type": "js",
           "url": "/assetserver/57533c5d787f8bc76a9e58ed0a1abce5f1b0c14d-plotly-latest.min.js"
          },
          {
           "name": null,
           "type": "js",
           "url": "/assetserver/58a7932c57029f7dbaa4105104076ff149fc7585-plotly_webio.bundle.js"
          }
         ],
         "type": "async_block"
        },
        "mount_callbacks": [
         "function () {\n    var handler = ((function (Plotly,PlotlyWebIO){PlotlyWebIO.init(WebIO); var gd=this.dom.querySelector(\"#plot-6ffc1d15-9f25-4b03-a3a8-a51cb0c884a9\"); this.plotElem=gd; this.Plotly=Plotly; (window.Blink!==undefined) ? (gd.style.width=\"100%\", gd.style.height=\"100vh\", gd.style.marginLeft=\"0%\", gd.style.marginTop=\"0vh\") : undefined; window.onresize=(function (){return Plotly.Plots.resize(gd)}); Plotly.newPlot(gd,[{\"y\":[0.5,0.125,0.041666666666666664,0.015625,0.00625,0.0026041666666666665,0.0011160714285714285,0.00048828125,0.00021701388888888888,9.765625e-5,4.438920454545455e-5,2.0345052083333332e-5,9.390024038461539e-6,4.359654017857143e-6,2.0345052083333333e-6,9.5367431640625e-7,4.4878791360294117e-7,2.1192762586805554e-7,1.0038677014802631e-7,4.76837158203125e-8,2.270653134300595e-8,1.0837208140980114e-8,5.183012589164402e-9,2.483526865641276e-9,1.1920928955078125e-9,5.73121584378756e-10,2.759474295156973e-10,1.330460820879255e-10,6.422914307692955e-11,3.104408582051595e-11,1.502133184863675e-11,7.275957614183426e-12,3.527737025058631e-12,1.7119900268666884e-12,8.315380130495344e-13,4.0421986745463475e-13,1.9664750308603855e-13,9.573628439715034e-14,4.664075393707324e-14,2.2737367544323207e-14,1.1091398802108881e-14,5.4136589391245725e-15,2.6438799470143262e-15,1.2918958832001822e-15,6.315935428978669e-16,3.089316242435218e-16,1.5117930548087238e-16,7.401486830834377e-17,3.6252180395923476e-17,1.7763568394002505e-17,8.707631565687502e-18,4.270088556250602e-18,2.09476042382105e-18,1.02798428206033e-18,5.046468293750711e-19,2.4781763942525814e-19,1.2173498077030225e-19,5.981805089575197e-20,2.940209281316622e-20,1.4456028966473392e-20,7.109522442527898e-21,3.497426362856466e-21,1.7209558293420704e-21,8.470329472543003e-22],\"type\":\"scatter\",\"name\":\"exact\",\"marker\":{\"color\":\"#E24A33\",\"line\":{\"color\":\"#348ABD\",\"width\":0.5},\"size\":10}},{\"y\":[0.49999999999999994,0.125,0.041666666666666664,0.015624999999999997,0.006250000000000001,0.002604166666666667,0.0011160714285714283,0.00048828125,0.00021701388888888983,9.765625000000029e-5,4.4389204545453476e-5,2.0345052083332756e-5,9.39002403846267e-6,4.359654017857629e-6,2.0345052083325413e-6,9.536743164094677e-7,4.4878791361680085e-7,2.1192762594628597e-7,1.0038677052977145e-7,4.7683717198759713e-8,2.2706541022170957e-8,1.0837398240704197e-8,5.184287976500051e-9,2.487077860085011e-9,1.2238833411468093e-9,6.786402968918553e-10,6.208833106871207e-10,7.643826808234364e-10,8.284836901374826e-10,4.917395070888842e-10,8.930627339040384e-10,1.202788309268584e-9,1.5961502393162597e-9,1.9303752086609154e-9,2.2033817421183026e-9,2.4307820415215584e-9,2.646953026933481e-9,2.8828954274285165e-9,3.1051833284041188e-9,3.309413150088379e-9,3.4908598576620835e-9,3.6679629893115476e-9,3.83276781380685e-9,4.0117512410438085e-9,4.176781804106932e-9,4.349966060680394e-9,4.49057290121154e-9,4.638719803238111e-9,4.778744402629368e-9,4.915634754408083e-9,5.021822368570744e-9,5.1521278783568745e-9,5.275497942046299e-9,5.393216839572812e-9,5.499038771794344e-9,5.599611353963386e-9,5.692449496326514e-9,5.784215549705856e-9,5.8853869802657134e-9,5.9806710188980546e-9,6.063121552129852e-9,6.148516698050588e-9,6.224435574155441e-9,6.2997475067148544e-9],\"type\":\"scatter\",\"name\":\"CGS\",\"marker\":{\"color\":\"#348ABD\",\"line\":{\"color\":\"#348ABD\",\"width\":0.5},\"size\":10}},{\"y\":[1.5700924586837752e-16,6.29785931692991e-16,1.6995356782062242e-15,1.1497852858108991e-14,5.795256918129784e-14,5.86387656849119e-13,4.201616970803709e-12,2.1712895800946992e-11,1.0110347042682066e-10,4.612200982447007e-10,2.267337671461073e-9,1.0474317238690713e-8,4.192604644354569e-8,1.4963950463665324e-7,5.495447715410168e-7,2.1654413805555835e-6,8.018893924823216e-6,2.71695318963491e-5,8.70562831473493e-5,0.00024046604454708184,0.0009233483083103464,0.005923001163325806,0.022181540448149628,0.05343739696835822,0.22792570053971833,0.5576477016689939,1.054093635926362,1.2852572489877827,1.3582885255409836,1.3688453815529151,1.4022695754573282,1.4099296135644215,1.4126498830165608,1.4135863123448444,1.4139466820656816,1.4140959718006296,1.4141610281516892,1.414190079449797,1.4142029416585218,1.4142087051982888,1.4142113169988728,1.4142125201274012,1.4142130754481774,1.414213334377601,1.4142134557124206,1.4142135124281774,1.4142135386063872,1.4142135505411517,1.414213557096618,1.4142135598657541,1.4142135607824557,1.4142135613386737,1.414213562917469,1.4142135631730632,1.4142135642917897,1.4142135634221413,1.4142135632522468,1.414213562516879,1.414213562557731,1.4142135622827994,1.4142135628576922,1.414213561863225,1.4142135617660119,1.4142135622696284],\"type\":\"scatter\",\"name\":\"Error in qk\",\"marker\":{\"color\":\"#988ED5\",\"line\":{\"color\":\"#348ABD\",\"width\":0.5},\"size\":10}}],{\"xaxis\":{\"showgrid\":true,\"gridcolor\":\"#E5E5E5\",\"titlefont\":{\"color\":\"#555555\",\"size\":18},\"zeroline\":false,\"ticks\":\"inside\",\"linewidth\":1.0,\"mirror\":true,\"linecolor\":\"black\"},\"titlefont\":{\"size\":18},\"font\":{\"size\":16},\"height\":300,\"margin\":{\"l\":50,\"b\":50,\"r\":50,\"t\":60},\"yaxis\":{\"showgrid\":true,\"gridcolor\":\"#E5E5E5\",\"titlefont\":{\"color\":\"#555555\",\"size\":18},\"zeroline\":false,\"type\":\"log\",\"ticks\":\"inside\",\"linewidth\":1.0,\"mirror\":true,\"linecolor\":\"black\"},\"width\":500},{}); gd.on(\"plotly_hover\",(function (data){var filtered_data=WebIO.PlotlyCommands.filterEventData(gd,data,\"hover\"); return !(filtered_data.isnil) ? (WebIO.setval({\"name\":\"hover\",\"scope\":\"8324918107232565913\",\"id\":\"5161818993362787836\",\"type\":\"observable\"},filtered_data.out)) : undefined})); gd.on(\"plotly_unhover\",(function (){return WebIO.setval({\"name\":\"hover\",\"scope\":\"8324918107232565913\",\"id\":\"5161818993362787836\",\"type\":\"observable\"},{})})); gd.on(\"plotly_selected\",(function (data){var filtered_data=WebIO.PlotlyCommands.filterEventData(gd,data,\"selected\"); return !(filtered_data.isnil) ? (WebIO.setval({\"name\":\"selected\",\"scope\":\"8324918107232565913\",\"id\":\"13624259984792622924\",\"type\":\"observable\"},filtered_data.out)) : undefined})); gd.on(\"plotly_deselect\",(function (){return WebIO.setval({\"name\":\"selected\",\"scope\":\"8324918107232565913\",\"id\":\"13624259984792622924\",\"type\":\"observable\"},{})})); gd.on(\"plotly_relayout\",(function (data){var filtered_data=WebIO.PlotlyCommands.filterEventData(gd,data,\"relayout\"); return !(filtered_data.isnil) ? (WebIO.setval({\"name\":\"relayout\",\"scope\":\"8324918107232565913\",\"id\":\"8117204324184495429\",\"type\":\"observable\"},filtered_data.out)) : undefined})); return gd.on(\"plotly_click\",(function (data){var filtered_data=WebIO.PlotlyCommands.filterEventData(gd,data,\"click\"); return !(filtered_data.isnil) ? (WebIO.setval({\"name\":\"click\",\"scope\":\"8324918107232565913\",\"id\":\"13511319374400557522\",\"type\":\"observable\"},filtered_data.out)) : undefined}))}));\n    (WebIO.importBlock({\"data\":[{\"name\":\"Plotly\",\"type\":\"js\",\"url\":\"/assetserver/57533c5d787f8bc76a9e58ed0a1abce5f1b0c14d-plotly-latest.min.js\"},{\"name\":null,\"type\":\"js\",\"url\":\"/assetserver/58a7932c57029f7dbaa4105104076ff149fc7585-plotly_webio.bundle.js\"}],\"type\":\"async_block\"})).then((imports) => handler.apply(this, imports));\n}\n"
        ],
        "observables": {
         "__gd_contents": {
          "id": "17350970190490402207",
          "sync": false,
          "value": {}
         },
         "__get_gd_contents": {
          "id": "3242477899785324824",
          "sync": false,
          "value": ""
         },
         "_commands": {
          "id": "3224443884004383769",
          "sync": false,
          "value": []
         },
         "_downloadImage": {
          "id": "9815623400288437310",
          "sync": false,
          "value": {}
         },
         "_toImage": {
          "id": "14987989578819052058",
          "sync": false,
          "value": {}
         },
         "click": {
          "id": "13511319374400557522",
          "sync": false,
          "value": {}
         },
         "hover": {
          "id": "5161818993362787836",
          "sync": false,
          "value": {}
         },
         "image": {
          "id": "8050249608677150154",
          "sync": true,
          "value": ""
         },
         "relayout": {
          "id": "8117204324184495429",
          "sync": false,
          "value": {}
         },
         "selected": {
          "id": "13624259984792622924",
          "sync": false,
          "value": {}
         }
        },
        "systemjs_options": null
       },
       "nodeType": "Scope",
       "props": {},
       "type": "node"
      },
      "image/png": "[encoded data removed]",
      "image/svg+xml": [
       "<svg class=\"main-svg\" xmlns=\"http://www.w3.org/2000/svg\" xmlns:xlink=\"http://www.w3.org/1999/xlink\" width=\"700\" height=\"500\" style=\"\" viewBox=\"0 0 700 500\"><rect x=\"0\" y=\"0\" width=\"700\" height=\"500\" style=\"fill: rgb(255, 255, 255); fill-opacity: 1;\"/><defs id=\"defs-004e5e\"><g class=\"clips\"><clipPath id=\"clip004e5exyplot\" class=\"plotclip\"><rect width=\"504\" height=\"390\"/></clipPath><clipPath class=\"axesclip\" id=\"clip004e5ex\"><rect x=\"50\" y=\"0\" width=\"504\" height=\"500\"/></clipPath><clipPath class=\"axesclip\" id=\"clip004e5ey\"><rect x=\"0\" y=\"60\" width=\"700\" height=\"390\"/></clipPath><clipPath class=\"axesclip\" id=\"clip004e5exy\"><rect x=\"50\" y=\"60\" width=\"504\" height=\"390\"/></clipPath></g><g class=\"gradients\"/></defs><g class=\"bglayer\"/><g class=\"layer-below\"><g class=\"imagelayer\"/><g class=\"shapelayer\"/></g><g class=\"cartesianlayer\"><g class=\"subplot xy\"><g class=\"layer-subplot\"><g class=\"shapelayer\"/><g class=\"imagelayer\"/></g><g class=\"gridlayer\"><g class=\"x\"><path class=\"xgrid crisp\" transform=\"translate(130,0)\" d=\"M0,60v390\" style=\"stroke: rgb(229, 229, 229); stroke-opacity: 1; stroke-width: 1px;\"/><path class=\"xgrid crisp\" transform=\"translate(210,0)\" d=\"M0,60v390\" style=\"stroke: rgb(229, 229, 229); stroke-opacity: 1; stroke-width: 1px;\"/><path class=\"xgrid crisp\" transform=\"translate(290,0)\" d=\"M0,60v390\" style=\"stroke: rgb(229, 229, 229); stroke-opacity: 1; stroke-width: 1px;\"/><path class=\"xgrid crisp\" transform=\"translate(370,0)\" d=\"M0,60v390\" style=\"stroke: rgb(229, 229, 229); stroke-opacity: 1; stroke-width: 1px;\"/><path class=\"xgrid crisp\" transform=\"translate(450,0)\" d=\"M0,60v390\" style=\"stroke: rgb(229, 229, 229); stroke-opacity: 1; stroke-width: 1px;\"/><path class=\"xgrid crisp\" transform=\"translate(530,0)\" d=\"M0,60v390\" style=\"stroke: rgb(229, 229, 229); stroke-opacity: 1; stroke-width: 1px;\"/></g><g class=\"y\"><path class=\"ygrid crisp\" transform=\"translate(0,429.31)\" d=\"M50,0h504\" style=\"stroke: rgb(229, 229, 229); stroke-opacity: 1; stroke-width: 1px;\"/><path class=\"ygrid crisp\" transform=\"translate(0,379.69)\" d=\"M50,0h504\" style=\"stroke: rgb(229, 229, 229); stroke-opacity: 1; stroke-width: 1px;\"/><path class=\"ygrid crisp\" transform=\"translate(0,330.07)\" d=\"M50,0h504\" style=\"stroke: rgb(229, 229, 229); stroke-opacity: 1; stroke-width: 1px;\"/><path class=\"ygrid crisp\" transform=\"translate(0,280.46000000000004)\" d=\"M50,0h504\" style=\"stroke: rgb(229, 229, 229); stroke-opacity: 1; stroke-width: 1px;\"/><path class=\"ygrid crisp\" transform=\"translate(0,230.84)\" d=\"M50,0h504\" style=\"stroke: rgb(229, 229, 229); stroke-opacity: 1; stroke-width: 1px;\"/><path class=\"ygrid crisp\" transform=\"translate(0,181.22)\" d=\"M50,0h504\" style=\"stroke: rgb(229, 229, 229); stroke-opacity: 1; stroke-width: 1px;\"/><path class=\"ygrid crisp\" transform=\"translate(0,131.61)\" d=\"M50,0h504\" style=\"stroke: rgb(229, 229, 229); stroke-opacity: 1; stroke-width: 1px;\"/><path class=\"ygrid crisp\" transform=\"translate(0,81.99)\" d=\"M50,0h504\" style=\"stroke: rgb(229, 229, 229); stroke-opacity: 1; stroke-width: 1px;\"/></g></g><g class=\"zerolinelayer\"/><path class=\"xlines-below\"/><path class=\"ylines-below\"/><g class=\"overlines-below\"/><g class=\"xaxislayer-below\"/><g class=\"yaxislayer-below\"/><g class=\"overaxes-below\"/><g class=\"plot\" transform=\"translate(50,60)\" clip-path=\"url('#clip004e5exyplot')\"><g class=\"scatterlayer mlayer\"><g class=\"trace scatter trace4f538a\" style=\"stroke-miterlimit: 2; opacity: 1;\"><g class=\"fills\"/><g class=\"errorbars\"/><g class=\"lines\"><path class=\"js-line\" d=\"M0,26.97L8,36.93L16,44.82L32,58.44L40,64.73L72,88.32L80,93.98L136,132.37L144,137.73L232,195.78L240,201L400,304.15L408,309.26L504,370.5\" style=\"vector-effect: non-scaling-stroke; fill: none; stroke: rgb(226, 74, 51); stroke-opacity: 1; stroke-width: 2px; opacity: 1;\"/></g><g class=\"points\"/><g class=\"text\"/></g><g class=\"trace scatter trace2e030d\" style=\"stroke-miterlimit: 2; opacity: 1;\"><g class=\"fills\"/><g class=\"errorbars\"/><g class=\"lines\"><path class=\"js-line\" d=\"M0,26.97L8,36.93L16,44.82L32,58.44L40,64.73L72,88.32L80,93.98L136,132.37L144,137.73L192,169.39L200,173.62L208,174.26L216,172.77L224,172.19L232,175.94L240,171.65L248,169.51L264,166.12L272,165.17L312,162.24L320,161.86L392,159.4L400,159.25L496,157.71L504,157.62\" style=\"vector-effect: non-scaling-stroke; fill: none; stroke: rgb(52, 138, 189); stroke-opacity: 1; stroke-width: 2px; opacity: 1;\"/></g><g class=\"points\"/><g class=\"text\"/></g><g class=\"trace scatter trace9720c4\" style=\"stroke-miterlimit: 2; opacity: 1;\"><g class=\"fills\"/><g class=\"errorbars\"/><g class=\"lines\"><path class=\"js-line\" d=\"M0,283.37L8,273.39L16,266.26L24,252.53L32,240.91L40,224.29L48,210.15L64,187.3L72,176.4L88,153.97L96,144.01L120,115.67L128,106.27L144,89.14L152,81.84L160,72.18L168,58.83L176,49.34L184,43.03L192,32.61L200,26.18L208,21.61L216,20.19L240,19.56L248,19.52L504,19.5\" style=\"vector-effect: non-scaling-stroke; fill: none; stroke: rgb(152, 142, 213); stroke-opacity: 1; stroke-width: 2px; opacity: 1;\"/></g><g class=\"points\"/><g class=\"text\"/></g></g></g><g class=\"overplot\"/><path class=\"xlines-above crisp\" d=\"M49,450.5H555M49,59.5H555\" style=\"fill: none; stroke-width: 1px; stroke: rgb(0, 0, 0); stroke-opacity: 1;\"/><path class=\"ylines-above crisp\" d=\"M49.5,60V450M554.5,60V450\" style=\"fill: none; stroke-width: 1px; stroke: rgb(0, 0, 0); stroke-opacity: 1;\"/><g class=\"overlines-above\"/><g class=\"xaxislayer-above\"><path class=\"xtick ticks crisp\" d=\"M0,450v-5\" transform=\"translate(130,0)\" style=\"stroke: rgb(68, 68, 68); stroke-opacity: 1; stroke-width: 1px;\"/><path class=\"xtick ticks crisp\" d=\"M0,450v-5\" transform=\"translate(210,0)\" style=\"stroke: rgb(68, 68, 68); stroke-opacity: 1; stroke-width: 1px;\"/><path class=\"xtick ticks crisp\" d=\"M0,450v-5\" transform=\"translate(290,0)\" style=\"stroke: rgb(68, 68, 68); stroke-opacity: 1; stroke-width: 1px;\"/><path class=\"xtick ticks crisp\" d=\"M0,450v-5\" transform=\"translate(370,0)\" style=\"stroke: rgb(68, 68, 68); stroke-opacity: 1; stroke-width: 1px;\"/><path class=\"xtick ticks crisp\" d=\"M0,450v-5\" transform=\"translate(450,0)\" style=\"stroke: rgb(68, 68, 68); stroke-opacity: 1; stroke-width: 1px;\"/><path class=\"xtick ticks crisp\" d=\"M0,450v-5\" transform=\"translate(530,0)\" style=\"stroke: rgb(68, 68, 68); stroke-opacity: 1; stroke-width: 1px;\"/><g class=\"xtick\"><text text-anchor=\"middle\" x=\"0\" y=\"470.2\" transform=\"translate(50,0)\" style=\"font-family: 'Open Sans', verdana, arial, sans-serif; font-size: 16px; fill: rgb(68, 68, 68); fill-opacity: 1; white-space: pre;\">0</text></g><g class=\"xtick\"><text text-anchor=\"middle\" x=\"0\" y=\"470.2\" transform=\"translate(130,0)\" style=\"font-family: 'Open Sans', verdana, arial, sans-serif; font-size: 16px; fill: rgb(68, 68, 68); fill-opacity: 1; white-space: pre;\">10</text></g><g class=\"xtick\"><text text-anchor=\"middle\" x=\"0\" y=\"470.2\" transform=\"translate(210,0)\" style=\"font-family: 'Open Sans', verdana, arial, sans-serif; font-size: 16px; fill: rgb(68, 68, 68); fill-opacity: 1; white-space: pre;\">20</text></g><g class=\"xtick\"><text text-anchor=\"middle\" x=\"0\" y=\"470.2\" transform=\"translate(290,0)\" style=\"font-family: 'Open Sans', verdana, arial, sans-serif; font-size: 16px; fill: rgb(68, 68, 68); fill-opacity: 1; white-space: pre;\">30</text></g><g class=\"xtick\"><text text-anchor=\"middle\" x=\"0\" y=\"470.2\" transform=\"translate(370,0)\" style=\"font-family: 'Open Sans', verdana, arial, sans-serif; font-size: 16px; fill: rgb(68, 68, 68); fill-opacity: 1; white-space: pre;\">40</text></g><g class=\"xtick\"><text text-anchor=\"middle\" x=\"0\" y=\"470.2\" transform=\"translate(450,0)\" style=\"font-family: 'Open Sans', verdana, arial, sans-serif; font-size: 16px; fill: rgb(68, 68, 68); fill-opacity: 1; white-space: pre;\">50</text></g><g class=\"xtick\"><text text-anchor=\"middle\" x=\"0\" y=\"470.2\" transform=\"translate(530,0)\" style=\"font-family: 'Open Sans', verdana, arial, sans-serif; font-size: 16px; fill: rgb(68, 68, 68); fill-opacity: 1; white-space: pre;\">60</text></g></g><g class=\"yaxislayer-above\"><path class=\"ytick ticks crisp\" d=\"M50,0h5\" transform=\"translate(0,429.31)\" style=\"stroke: rgb(68, 68, 68); stroke-opacity: 1; stroke-width: 1px;\"/><path class=\"ytick ticks crisp\" d=\"M50,0h5\" transform=\"translate(0,379.69)\" style=\"stroke: rgb(68, 68, 68); stroke-opacity: 1; stroke-width: 1px;\"/><path class=\"ytick ticks crisp\" d=\"M50,0h5\" transform=\"translate(0,330.07)\" style=\"stroke: rgb(68, 68, 68); stroke-opacity: 1; stroke-width: 1px;\"/><path class=\"ytick ticks crisp\" d=\"M50,0h5\" transform=\"translate(0,280.46000000000004)\" style=\"stroke: rgb(68, 68, 68); stroke-opacity: 1; stroke-width: 1px;\"/><path class=\"ytick ticks crisp\" d=\"M50,0h5\" transform=\"translate(0,230.84)\" style=\"stroke: rgb(68, 68, 68); stroke-opacity: 1; stroke-width: 1px;\"/><path class=\"ytick ticks crisp\" d=\"M50,0h5\" transform=\"translate(0,181.22)\" style=\"stroke: rgb(68, 68, 68); stroke-opacity: 1; stroke-width: 1px;\"/><path class=\"ytick ticks crisp\" d=\"M50,0h5\" transform=\"translate(0,131.61)\" style=\"stroke: rgb(68, 68, 68); stroke-opacity: 1; stroke-width: 1px;\"/><path class=\"ytick ticks crisp\" d=\"M50,0h5\" transform=\"translate(0,81.99)\" style=\"stroke: rgb(68, 68, 68); stroke-opacity: 1; stroke-width: 1px;\"/><g class=\"ytick\"><text text-anchor=\"end\" x=\"45.8\" y=\"7\" transform=\"translate(0,429.31)\" style=\"font-family: 'Open Sans', verdana, arial, sans-serif; font-size: 20px; fill: rgb(68, 68, 68); fill-opacity: 1; white-space: pre;\">10​<tspan style=\"font-size:70%\" dy=\"-0.6em\">−21</tspan><tspan dy=\"0.42em\">​</tspan></text></g><g class=\"ytick\"><text text-anchor=\"end\" x=\"45.8\" y=\"7\" transform=\"translate(0,379.69)\" style=\"font-family: 'Open Sans', verdana, arial, sans-serif; font-size: 20px; fill: rgb(68, 68, 68); fill-opacity: 1; white-space: pre;\">10​<tspan style=\"font-size:70%\" dy=\"-0.6em\">−18</tspan><tspan dy=\"0.42em\">​</tspan></text></g><g class=\"ytick\"><text text-anchor=\"end\" x=\"45.8\" y=\"5.6\" transform=\"translate(0,330.07)\" style=\"font-family: 'Open Sans', verdana, arial, sans-serif; font-size: 16px; fill: rgb(68, 68, 68); fill-opacity: 1; white-space: pre;\">1f</text></g><g class=\"ytick\"><text text-anchor=\"end\" x=\"45.8\" y=\"5.6\" transform=\"translate(0,280.46000000000004)\" style=\"font-family: 'Open Sans', verdana, arial, sans-serif; font-size: 16px; fill: rgb(68, 68, 68); fill-opacity: 1; white-space: pre;\">1p</text></g><g class=\"ytick\"><text text-anchor=\"end\" x=\"45.8\" y=\"5.6\" transform=\"translate(0,230.84)\" style=\"font-family: 'Open Sans', verdana, arial, sans-serif; font-size: 16px; fill: rgb(68, 68, 68); fill-opacity: 1; white-space: pre;\">1n</text></g><g class=\"ytick\"><text text-anchor=\"end\" x=\"45.8\" y=\"5.6\" transform=\"translate(0,181.22)\" style=\"font-family: 'Open Sans', verdana, arial, sans-serif; font-size: 16px; fill: rgb(68, 68, 68); fill-opacity: 1; white-space: pre;\">1μ</text></g><g class=\"ytick\"><text text-anchor=\"end\" x=\"45.8\" y=\"5.6\" transform=\"translate(0,131.61)\" style=\"font-family: 'Open Sans', verdana, arial, sans-serif; font-size: 16px; fill: rgb(68, 68, 68); fill-opacity: 1; white-space: pre;\">0.001</text></g><g class=\"ytick\"><text text-anchor=\"end\" x=\"45.8\" y=\"5.6\" transform=\"translate(0,81.99)\" style=\"font-family: 'Open Sans', verdana, arial, sans-serif; font-size: 16px; fill: rgb(68, 68, 68); fill-opacity: 1; white-space: pre;\">1</text></g></g><g class=\"overaxes-above\"/></g></g><g class=\"polarlayer\"/><g class=\"ternarylayer\"/><g class=\"geolayer\"/><g class=\"funnelarealayer\"/><g class=\"pielayer\"/><g class=\"treemaplayer\"/><g class=\"sunburstlayer\"/><g class=\"glimages\"/><defs id=\"topdefs-004e5e\"><g class=\"clips\"/><clipPath id=\"legend004e5e\"><rect width=\"124\" height=\"82\" x=\"0\" y=\"0\"/></clipPath></defs><g class=\"layer-above\"><g class=\"imagelayer\"/><g class=\"shapelayer\"/></g><g class=\"infolayer\"><g class=\"legend\" pointer-events=\"all\" transform=\"translate(564.08,60)\"><rect class=\"bg\" shape-rendering=\"crispEdges\" style=\"stroke: rgb(68, 68, 68); stroke-opacity: 1; fill: rgb(255, 255, 255); fill-opacity: 1; stroke-width: 0px;\" width=\"124\" height=\"82\" x=\"0\" y=\"0\"/><g class=\"scrollbox\" transform=\"\" clip-path=\"url('#legend004e5e')\"><g class=\"groups\"><g class=\"traces\" transform=\"translate(0,16.9)\" style=\"opacity: 1;\"><text class=\"legendtext\" text-anchor=\"start\" x=\"40\" y=\"6.24\" style=\"font-family: 'Open Sans', verdana, arial, sans-serif; font-size: 16px; fill: rgb(68, 68, 68); fill-opacity: 1; white-space: pre;\">exact</text><g class=\"layers\" style=\"opacity: 1;\"><g class=\"legendfill\"/><g class=\"legendlines\"><path class=\"js-line\" d=\"M5,0h30\" style=\"fill: none; stroke: rgb(226, 74, 51); stroke-opacity: 1; stroke-width: 2px;\"/></g><g class=\"legendsymbols\"><g class=\"legendpoints\"/></g></g><rect class=\"legendtoggle\" x=\"0\" y=\"-11.9\" width=\"118.546875\" height=\"23.8\" style=\"fill: rgb(0, 0, 0); fill-opacity: 0;\"/></g><g class=\"traces\" transform=\"translate(0,40.7)\" style=\"opacity: 1;\"><text class=\"legendtext\" text-anchor=\"start\" x=\"40\" y=\"6.24\" style=\"font-family: 'Open Sans', verdana, arial, sans-serif; font-size: 16px; fill: rgb(68, 68, 68); fill-opacity: 1; white-space: pre;\">CGS</text><g class=\"layers\" style=\"opacity: 1;\"><g class=\"legendfill\"/><g class=\"legendlines\"><path class=\"js-line\" d=\"M5,0h30\" style=\"fill: none; stroke: rgb(52, 138, 189); stroke-opacity: 1; stroke-width: 2px;\"/></g><g class=\"legendsymbols\"><g class=\"legendpoints\"/></g></g><rect class=\"legendtoggle\" x=\"0\" y=\"-11.9\" width=\"118.546875\" height=\"23.8\" style=\"fill: rgb(0, 0, 0); fill-opacity: 0;\"/></g><g class=\"traces\" transform=\"translate(0,64.5)\" style=\"opacity: 1;\"><text class=\"legendtext\" text-anchor=\"start\" x=\"40\" y=\"6.24\" style=\"font-family: 'Open Sans', verdana, arial, sans-serif; font-size: 16px; fill: rgb(68, 68, 68); fill-opacity: 1; white-space: pre;\">Error in qk</text><g class=\"layers\" style=\"opacity: 1;\"><g class=\"legendfill\"/><g class=\"legendlines\"><path class=\"js-line\" d=\"M5,0h30\" style=\"fill: none; stroke: rgb(152, 142, 213); stroke-opacity: 1; stroke-width: 2px;\"/></g><g class=\"legendsymbols\"><g class=\"legendpoints\"/></g></g><rect class=\"legendtoggle\" x=\"0\" y=\"-11.9\" width=\"118.546875\" height=\"23.8\" style=\"fill: rgb(0, 0, 0); fill-opacity: 0;\"/></g></g></g><rect class=\"scrollbar\" rx=\"20\" ry=\"3\" width=\"0\" height=\"0\" style=\"fill: rgb(128, 139, 164); fill-opacity: 1;\" x=\"0\" y=\"0\"/></g><g class=\"g-gtitle\"/><g class=\"g-xtitle\"/><g class=\"g-ytitle\"/></g></svg>"
      ],
      "text/html": [
       "<div\n",
       "    class=\"webio-mountpoint\"\n",
       "    data-webio-mountpoint=\"2569485130058466473\"\n",
       ">\n",
       "    <script>\n",
       "    if (window.require && require.defined && require.defined(\"nbextensions/webio-jupyter-notebook\")) {\n",
       "        console.log(\"Jupyter WebIO extension detected, not mounting.\");\n",
       "    } else if (window.WebIO) {\n",
       "        WebIO.mount(\n",
       "            document.querySelector('[data-webio-mountpoint=\"2569485130058466473\"]'),\n",
       "            {\"props\":{},\"nodeType\":\"Scope\",\"type\":\"node\",\"instanceArgs\":{\"imports\":{\"data\":[{\"name\":\"Plotly\",\"type\":\"js\",\"url\":\"\\/assetserver\\/57533c5d787f8bc76a9e58ed0a1abce5f1b0c14d-plotly-latest.min.js\"},{\"name\":null,\"type\":\"js\",\"url\":\"\\/assetserver\\/58a7932c57029f7dbaa4105104076ff149fc7585-plotly_webio.bundle.js\"}],\"type\":\"async_block\"},\"id\":\"8324918107232565913\",\"handlers\":{\"_toImage\":[\"(function (options){return this.Plotly.toImage(this.plotElem,options).then((function (data){return WebIO.setval({\\\"name\\\":\\\"image\\\",\\\"scope\\\":\\\"8324918107232565913\\\",\\\"id\\\":\\\"8050249608677150154\\\",\\\"type\\\":\\\"observable\\\"},data)}))})\"],\"__get_gd_contents\":[\"(function (prop){prop==\\\"data\\\" ? (WebIO.setval({\\\"name\\\":\\\"__gd_contents\\\",\\\"scope\\\":\\\"8324918107232565913\\\",\\\"id\\\":\\\"17350970190490402207\\\",\\\"type\\\":\\\"observable\\\"},this.plotElem.data)) : undefined; return prop==\\\"layout\\\" ? (WebIO.setval({\\\"name\\\":\\\"__gd_contents\\\",\\\"scope\\\":\\\"8324918107232565913\\\",\\\"id\\\":\\\"17350970190490402207\\\",\\\"type\\\":\\\"observable\\\"},this.plotElem.layout)) : undefined})\"],\"_downloadImage\":[\"(function (options){return this.Plotly.downloadImage(this.plotElem,options)})\"],\"_commands\":[\"(function (args){var fn=args.shift(); var elem=this.plotElem; var Plotly=this.Plotly; args.unshift(elem); return Plotly[fn].apply(this,args)})\"]},\"systemjs_options\":null,\"mount_callbacks\":[\"function () {\\n    var handler = ((function (Plotly,PlotlyWebIO){PlotlyWebIO.init(WebIO); var gd=this.dom.querySelector(\\\"#plot-6ffc1d15-9f25-4b03-a3a8-a51cb0c884a9\\\"); this.plotElem=gd; this.Plotly=Plotly; (window.Blink!==undefined) ? (gd.style.width=\\\"100%\\\", gd.style.height=\\\"100vh\\\", gd.style.marginLeft=\\\"0%\\\", gd.style.marginTop=\\\"0vh\\\") : undefined; window.onresize=(function (){return Plotly.Plots.resize(gd)}); Plotly.newPlot(gd,[{\\\"y\\\":[0.5,0.125,0.041666666666666664,0.015625,0.00625,0.0026041666666666665,0.0011160714285714285,0.00048828125,0.00021701388888888888,9.765625e-5,4.438920454545455e-5,2.0345052083333332e-5,9.390024038461539e-6,4.359654017857143e-6,2.0345052083333333e-6,9.5367431640625e-7,4.4878791360294117e-7,2.1192762586805554e-7,1.0038677014802631e-7,4.76837158203125e-8,2.270653134300595e-8,1.0837208140980114e-8,5.183012589164402e-9,2.483526865641276e-9,1.1920928955078125e-9,5.73121584378756e-10,2.759474295156973e-10,1.330460820879255e-10,6.422914307692955e-11,3.104408582051595e-11,1.502133184863675e-11,7.275957614183426e-12,3.527737025058631e-12,1.7119900268666884e-12,8.315380130495344e-13,4.0421986745463475e-13,1.9664750308603855e-13,9.573628439715034e-14,4.664075393707324e-14,2.2737367544323207e-14,1.1091398802108881e-14,5.4136589391245725e-15,2.6438799470143262e-15,1.2918958832001822e-15,6.315935428978669e-16,3.089316242435218e-16,1.5117930548087238e-16,7.401486830834377e-17,3.6252180395923476e-17,1.7763568394002505e-17,8.707631565687502e-18,4.270088556250602e-18,2.09476042382105e-18,1.02798428206033e-18,5.046468293750711e-19,2.4781763942525814e-19,1.2173498077030225e-19,5.981805089575197e-20,2.940209281316622e-20,1.4456028966473392e-20,7.109522442527898e-21,3.497426362856466e-21,1.7209558293420704e-21,8.470329472543003e-22],\\\"type\\\":\\\"scatter\\\",\\\"name\\\":\\\"exact\\\",\\\"marker\\\":{\\\"color\\\":\\\"#E24A33\\\",\\\"line\\\":{\\\"color\\\":\\\"#348ABD\\\",\\\"width\\\":0.5},\\\"size\\\":10}},{\\\"y\\\":[0.49999999999999994,0.125,0.041666666666666664,0.015624999999999997,0.006250000000000001,0.002604166666666667,0.0011160714285714283,0.00048828125,0.00021701388888888983,9.765625000000029e-5,4.4389204545453476e-5,2.0345052083332756e-5,9.39002403846267e-6,4.359654017857629e-6,2.0345052083325413e-6,9.536743164094677e-7,4.4878791361680085e-7,2.1192762594628597e-7,1.0038677052977145e-7,4.7683717198759713e-8,2.2706541022170957e-8,1.0837398240704197e-8,5.184287976500051e-9,2.487077860085011e-9,1.2238833411468093e-9,6.786402968918553e-10,6.208833106871207e-10,7.643826808234364e-10,8.284836901374826e-10,4.917395070888842e-10,8.930627339040384e-10,1.202788309268584e-9,1.5961502393162597e-9,1.9303752086609154e-9,2.2033817421183026e-9,2.4307820415215584e-9,2.646953026933481e-9,2.8828954274285165e-9,3.1051833284041188e-9,3.309413150088379e-9,3.4908598576620835e-9,3.6679629893115476e-9,3.83276781380685e-9,4.0117512410438085e-9,4.176781804106932e-9,4.349966060680394e-9,4.49057290121154e-9,4.638719803238111e-9,4.778744402629368e-9,4.915634754408083e-9,5.021822368570744e-9,5.1521278783568745e-9,5.275497942046299e-9,5.393216839572812e-9,5.499038771794344e-9,5.599611353963386e-9,5.692449496326514e-9,5.784215549705856e-9,5.8853869802657134e-9,5.9806710188980546e-9,6.063121552129852e-9,6.148516698050588e-9,6.224435574155441e-9,6.2997475067148544e-9],\\\"type\\\":\\\"scatter\\\",\\\"name\\\":\\\"CGS\\\",\\\"marker\\\":{\\\"color\\\":\\\"#348ABD\\\",\\\"line\\\":{\\\"color\\\":\\\"#348ABD\\\",\\\"width\\\":0.5},\\\"size\\\":10}},{\\\"y\\\":[1.5700924586837752e-16,6.29785931692991e-16,1.6995356782062242e-15,1.1497852858108991e-14,5.795256918129784e-14,5.86387656849119e-13,4.201616970803709e-12,2.1712895800946992e-11,1.0110347042682066e-10,4.612200982447007e-10,2.267337671461073e-9,1.0474317238690713e-8,4.192604644354569e-8,1.4963950463665324e-7,5.495447715410168e-7,2.1654413805555835e-6,8.018893924823216e-6,2.71695318963491e-5,8.70562831473493e-5,0.00024046604454708184,0.0009233483083103464,0.005923001163325806,0.022181540448149628,0.05343739696835822,0.22792570053971833,0.5576477016689939,1.054093635926362,1.2852572489877827,1.3582885255409836,1.3688453815529151,1.4022695754573282,1.4099296135644215,1.4126498830165608,1.4135863123448444,1.4139466820656816,1.4140959718006296,1.4141610281516892,1.414190079449797,1.4142029416585218,1.4142087051982888,1.4142113169988728,1.4142125201274012,1.4142130754481774,1.414213334377601,1.4142134557124206,1.4142135124281774,1.4142135386063872,1.4142135505411517,1.414213557096618,1.4142135598657541,1.4142135607824557,1.4142135613386737,1.414213562917469,1.4142135631730632,1.4142135642917897,1.4142135634221413,1.4142135632522468,1.414213562516879,1.414213562557731,1.4142135622827994,1.4142135628576922,1.414213561863225,1.4142135617660119,1.4142135622696284],\\\"type\\\":\\\"scatter\\\",\\\"name\\\":\\\"Error in qk\\\",\\\"marker\\\":{\\\"color\\\":\\\"#988ED5\\\",\\\"line\\\":{\\\"color\\\":\\\"#348ABD\\\",\\\"width\\\":0.5},\\\"size\\\":10}}],{\\\"xaxis\\\":{\\\"showgrid\\\":true,\\\"gridcolor\\\":\\\"#E5E5E5\\\",\\\"titlefont\\\":{\\\"color\\\":\\\"#555555\\\",\\\"size\\\":18},\\\"zeroline\\\":false,\\\"ticks\\\":\\\"inside\\\",\\\"linewidth\\\":1.0,\\\"mirror\\\":true,\\\"linecolor\\\":\\\"black\\\"},\\\"titlefont\\\":{\\\"size\\\":18},\\\"font\\\":{\\\"size\\\":16},\\\"height\\\":300,\\\"margin\\\":{\\\"l\\\":50,\\\"b\\\":50,\\\"r\\\":50,\\\"t\\\":60},\\\"yaxis\\\":{\\\"showgrid\\\":true,\\\"gridcolor\\\":\\\"#E5E5E5\\\",\\\"titlefont\\\":{\\\"color\\\":\\\"#555555\\\",\\\"size\\\":18},\\\"zeroline\\\":false,\\\"type\\\":\\\"log\\\",\\\"ticks\\\":\\\"inside\\\",\\\"linewidth\\\":1.0,\\\"mirror\\\":true,\\\"linecolor\\\":\\\"black\\\"},\\\"width\\\":500},{}); gd.on(\\\"plotly_hover\\\",(function (data){var filtered_data=WebIO.PlotlyCommands.filterEventData(gd,data,\\\"hover\\\"); return !(filtered_data.isnil) ? (WebIO.setval({\\\"name\\\":\\\"hover\\\",\\\"scope\\\":\\\"8324918107232565913\\\",\\\"id\\\":\\\"5161818993362787836\\\",\\\"type\\\":\\\"observable\\\"},filtered_data.out)) : undefined})); gd.on(\\\"plotly_unhover\\\",(function (){return WebIO.setval({\\\"name\\\":\\\"hover\\\",\\\"scope\\\":\\\"8324918107232565913\\\",\\\"id\\\":\\\"5161818993362787836\\\",\\\"type\\\":\\\"observable\\\"},{})})); gd.on(\\\"plotly_selected\\\",(function (data){var filtered_data=WebIO.PlotlyCommands.filterEventData(gd,data,\\\"selected\\\"); return !(filtered_data.isnil) ? (WebIO.setval({\\\"name\\\":\\\"selected\\\",\\\"scope\\\":\\\"8324918107232565913\\\",\\\"id\\\":\\\"13624259984792622924\\\",\\\"type\\\":\\\"observable\\\"},filtered_data.out)) : undefined})); gd.on(\\\"plotly_deselect\\\",(function (){return WebIO.setval({\\\"name\\\":\\\"selected\\\",\\\"scope\\\":\\\"8324918107232565913\\\",\\\"id\\\":\\\"13624259984792622924\\\",\\\"type\\\":\\\"observable\\\"},{})})); gd.on(\\\"plotly_relayout\\\",(function (data){var filtered_data=WebIO.PlotlyCommands.filterEventData(gd,data,\\\"relayout\\\"); return !(filtered_data.isnil) ? (WebIO.setval({\\\"name\\\":\\\"relayout\\\",\\\"scope\\\":\\\"8324918107232565913\\\",\\\"id\\\":\\\"8117204324184495429\\\",\\\"type\\\":\\\"observable\\\"},filtered_data.out)) : undefined})); return gd.on(\\\"plotly_click\\\",(function (data){var filtered_data=WebIO.PlotlyCommands.filterEventData(gd,data,\\\"click\\\"); return !(filtered_data.isnil) ? (WebIO.setval({\\\"name\\\":\\\"click\\\",\\\"scope\\\":\\\"8324918107232565913\\\",\\\"id\\\":\\\"13511319374400557522\\\",\\\"type\\\":\\\"observable\\\"},filtered_data.out)) : undefined}))}));\\n    (WebIO.importBlock({\\\"data\\\":[{\\\"name\\\":\\\"Plotly\\\",\\\"type\\\":\\\"js\\\",\\\"url\\\":\\\"\\/assetserver\\/57533c5d787f8bc76a9e58ed0a1abce5f1b0c14d-plotly-latest.min.js\\\"},{\\\"name\\\":null,\\\"type\\\":\\\"js\\\",\\\"url\\\":\\\"\\/assetserver\\/58a7932c57029f7dbaa4105104076ff149fc7585-plotly_webio.bundle.js\\\"}],\\\"type\\\":\\\"async_block\\\"})).then((imports) => handler.apply(this, imports));\\n}\\n\"],\"observables\":{\"_toImage\":{\"sync\":false,\"id\":\"14987989578819052058\",\"value\":{}},\"hover\":{\"sync\":false,\"id\":\"5161818993362787836\",\"value\":{}},\"selected\":{\"sync\":false,\"id\":\"13624259984792622924\",\"value\":{}},\"__gd_contents\":{\"sync\":false,\"id\":\"17350970190490402207\",\"value\":{}},\"click\":{\"sync\":false,\"id\":\"13511319374400557522\",\"value\":{}},\"image\":{\"sync\":true,\"id\":\"8050249608677150154\",\"value\":\"\"},\"__get_gd_contents\":{\"sync\":false,\"id\":\"3242477899785324824\",\"value\":\"\"},\"_downloadImage\":{\"sync\":false,\"id\":\"9815623400288437310\",\"value\":{}},\"relayout\":{\"sync\":false,\"id\":\"8117204324184495429\",\"value\":{}},\"_commands\":{\"sync\":false,\"id\":\"3224443884004383769\",\"value\":[]}}},\"children\":[{\"props\":{\"id\":\"plot-6ffc1d15-9f25-4b03-a3a8-a51cb0c884a9\"},\"nodeType\":\"DOM\",\"type\":\"node\",\"instanceArgs\":{\"namespace\":\"html\",\"tag\":\"div\"},\"children\":[]}]},\n",
       "            window,\n",
       "        );\n",
       "    } else {\n",
       "        document\n",
       "            .querySelector('[data-webio-mountpoint=\"2569485130058466473\"]')\n",
       "            .innerHTML = (\n",
       "                '<div style=\"padding: 1em; background-color: #f8d6da; border: 1px solid #f5c6cb\">' +\n",
       "                '<p><strong>WebIO not detected.</strong></p>' +\n",
       "                '<p>Please read ' +\n",
       "                '<a href=\"https://juliagizmos.github.io/WebIO.jl/latest/troubleshooting/not-detected/\" target=\"_blank\">the troubleshooting guide</a> ' +\n",
       "                'for more information on how to resolve this issue.</p>' +\n",
       "                '<p><a href=\"https://juliagizmos.github.io/WebIO.jl/latest/troubleshooting/not-detected/\" target=\"_blank\">https://juliagizmos.github.io/WebIO.jl/latest/troubleshooting/not-detected/</a></p>' +\n",
       "                '</div>'\n",
       "            );\n",
       "    }\n",
       "    </script>\n",
       "</div>\n"
      ],
      "text/plain": [
       "data: [\n",
       "  \"scatter with fields marker, name, type, and y\",\n",
       "  \"scatter with fields marker, name, type, and y\",\n",
       "  \"scatter with fields marker, name, type, and y\"\n",
       "]\n",
       "\n",
       "layout: \"layout with fields font, height, margin, titlefont, width, xaxis, and yaxis\"\n",
       "\n"
      ]
     },
     "execution_count": 7,
     "metadata": {
      "application/vnd.webio.node+json": {
       "kernelId": "4b7ce2e0-2c08-477b-8954-48b2f5bea872"
      }
     },
     "output_type": "execute_result"
    }
   ],
   "source": [
    "n = 64\n",
    "m = 128\n",
    "\n",
    "Q = orthogonal_matrix(m,n)\n",
    "R = triu(Float64[ 2.0^(-i)/j for i=1:n, j=1:n ])\n",
    "# R has decaying entries on the diagonal\n",
    "\n",
    "A = Q*R\n",
    "CGS = geqrfCGS!(A)\n",
    "\n",
    "e = zeros(n)\n",
    "for j=1:n\n",
    "    e[j] = norm(Q[:,j]-A[:,j])\n",
    "end\n",
    "\n",
    "line1 = scatter(y=diag(R),name=\"exact\")\n",
    "line2 = scatter(y=diag(CGS),name=\"CGS\")\n",
    "line3 = scatter(y=e,name=\"Error in qk\")\n",
    "plot([line1, line2, line3],Layout(yaxis_type=\"log\"))"
   ]
  },
  {
   "cell_type": "code",
   "execution_count": 8,
   "metadata": {},
   "outputs": [
    {
     "data": {
      "application/vnd.plotly.v1+json": {
       "data": [
        {
         "marker": {
          "color": "#E24A33",
          "line": {
           "color": "#348ABD",
           "width": 0.5
          },
          "size": 10
         },
         "name": "r_kk",
         "type": "scatter",
         "y": [
          0.5,
          0.125,
          0.041666666666666664,
          0.015625,
          0.00625,
          0.0026041666666666665,
          0.0011160714285714285,
          0.00048828125,
          0.00021701388888888888,
          9.765625e-05,
          4.438920454545455e-05,
          2.0345052083333332e-05,
          9.390024038461539e-06,
          4.359654017857143e-06,
          2.0345052083333333e-06,
          9.5367431640625e-07,
          4.4878791360294117e-07,
          2.1192762586805554e-07,
          1.0038677014802631e-07,
          4.76837158203125e-08,
          2.270653134300595e-08,
          1.0837208140980114e-08,
          5.183012589164402e-09,
          2.483526865641276e-09,
          1.1920928955078125e-09,
          5.73121584378756e-10,
          2.759474295156973e-10,
          1.330460820879255e-10,
          6.422914307692955e-11,
          3.104408582051595e-11,
          1.502133184863675e-11,
          7.275957614183426e-12,
          3.527737025058631e-12,
          1.7119900268666884e-12,
          8.315380130495344e-13,
          4.0421986745463475e-13,
          1.9664750308603855e-13,
          9.573628439715034e-14,
          4.664075393707324e-14,
          2.2737367544323207e-14,
          1.1091398802108881e-14,
          5.4136589391245725e-15,
          2.6438799470143262e-15,
          1.2918958832001822e-15,
          6.315935428978669e-16,
          3.089316242435218e-16,
          1.5117930548087238e-16,
          7.401486830834377e-17,
          3.6252180395923476e-17,
          1.7763568394002505e-17,
          8.707631565687502e-18,
          4.270088556250602e-18,
          2.09476042382105e-18,
          1.02798428206033e-18,
          5.046468293750711e-19,
          2.4781763942525814e-19,
          1.2173498077030225e-19,
          5.981805089575197e-20,
          2.940209281316622e-20,
          1.4456028966473392e-20,
          7.109522442527898e-21,
          3.497426362856466e-21,
          1.7209558293420704e-21,
          8.470329472543003e-22
         ]
        },
        {
         "marker": {
          "color": "#348ABD",
          "line": {
           "color": "#348ABD",
           "width": 0.5
          },
          "size": 10
         },
         "name": "GS Classical",
         "type": "scatter",
         "y": [
          0.49999999999999994,
          0.125,
          0.041666666666666664,
          0.015624999999999997,
          0.006250000000000001,
          0.002604166666666667,
          0.0011160714285714283,
          0.00048828125,
          0.00021701388888888983,
          9.765625000000029e-05,
          4.4389204545453476e-05,
          2.0345052083332756e-05,
          9.39002403846267e-06,
          4.359654017857629e-06,
          2.0345052083325413e-06,
          9.536743164094677e-07,
          4.4878791361680085e-07,
          2.1192762594628597e-07,
          1.0038677052977145e-07,
          4.7683717198759713e-08,
          2.2706541022170957e-08,
          1.0837398240704197e-08,
          5.184287976500051e-09,
          2.487077860085011e-09,
          1.2238833411468093e-09,
          6.786402968918553e-10,
          6.208833106871207e-10,
          7.643826808234364e-10,
          8.284836901374826e-10,
          4.917395070888842e-10,
          8.930627339040384e-10,
          1.202788309268584e-09,
          1.5961502393162597e-09,
          1.9303752086609154e-09,
          2.2033817421183026e-09,
          2.4307820415215584e-09,
          2.646953026933481e-09,
          2.8828954274285165e-09,
          3.1051833284041188e-09,
          3.309413150088379e-09,
          3.4908598576620835e-09,
          3.6679629893115476e-09,
          3.83276781380685e-09,
          4.0117512410438085e-09,
          4.176781804106932e-09,
          4.349966060680394e-09,
          4.49057290121154e-09,
          4.638719803238111e-09,
          4.778744402629368e-09,
          4.915634754408083e-09,
          5.021822368570744e-09,
          5.1521278783568745e-09,
          5.275497942046299e-09,
          5.393216839572812e-09,
          5.499038771794344e-09,
          5.599611353963386e-09,
          5.692449496326514e-09,
          5.784215549705856e-09,
          5.8853869802657134e-09,
          5.9806710188980546e-09,
          6.063121552129852e-09,
          6.148516698050588e-09,
          6.224435574155441e-09,
          6.2997475067148544e-09
         ]
        },
        {
         "marker": {
          "color": "#988ED5",
          "line": {
           "color": "#348ABD",
           "width": 0.5
          },
          "size": 10
         },
         "name": "GS Modified",
         "type": "scatter",
         "y": [
          0.49999999999999994,
          0.125,
          0.041666666666666664,
          0.015624999999999998,
          0.006250000000000002,
          0.0026041666666666674,
          0.0011160714285714285,
          0.0004882812499999997,
          0.00021701388888888993,
          9.765624999999987e-05,
          4.4389204545453584e-05,
          2.0345052083332953e-05,
          9.39002403846263e-06,
          4.359654017857597e-06,
          2.034505208332367e-06,
          9.53674316407378e-07,
          4.4878791360248324e-07,
          2.1192762586792555e-07,
          1.0038677014938232e-07,
          4.7683715820013904e-08,
          2.2706531342714013e-08,
          1.0837208142332313e-08,
          5.183012587690047e-09,
          2.483526865654078e-09,
          1.1920928948293774e-09,
          5.731215848978508e-10,
          2.759474294652509e-10,
          1.3304608148000596e-10,
          6.422914381062106e-11,
          3.1044085143783174e-11,
          1.502133174567482e-11,
          7.27595860812024e-12,
          3.5277369575274986e-12,
          1.7119894026019355e-12,
          8.31537895484137e-13,
          4.042196271918057e-13,
          1.966478370652279e-13,
          9.573616358147418e-14,
          4.664144121121882e-14,
          2.273719881170693e-14,
          1.1090350981988867e-14,
          5.414966391501222e-15,
          2.6438927078003986e-15,
          1.2916718594264066e-15,
          6.310008765745598e-16,
          3.09885109358849e-16,
          1.5147090050791042e-16,
          7.35602059445747e-17,
          3.686568864550698e-17,
          2.1405198861117068e-17,
          1.489869432141532e-17,
          6.633204013528828e-18,
          5.34759384694378e-18,
          4.53985178772676e-18,
          3.2799228842729498e-18,
          3.48455342793753e-18,
          2.6103636021734833e-18,
          3.4934497549055595e-18,
          2.729720882387128e-18,
          3.315158359102139e-18,
          1.887678507774449e-18,
          2.3643680805893388e-18,
          2.1312708680527456e-18,
          2.0929762834886365e-18
         ]
        },
        {
         "marker": {
          "color": "#777777",
          "line": {
           "color": "#348ABD",
           "width": 0.5
          },
          "size": 10
         },
         "name": "Error in q_k",
         "type": "scatter",
         "y": [
          1.5700924586837752e-16,
          6.29785931692991e-16,
          5.66430880171396e-16,
          7.882043836729312e-15,
          1.616993414526527e-14,
          2.344161018127084e-14,
          4.7067104720617097e-14,
          6.994082416948258e-14,
          1.2560169530122977e-13,
          4.6320780776797e-13,
          9.109683387336675e-13,
          6.825333557378999e-13,
          2.4899011641783725e-12,
          2.874900054365741e-12,
          5.551287054318673e-12,
          1.398027919345406e-11,
          2.9150200175500865e-11,
          9.047344673114974e-11,
          2.4577541467757694e-10,
          3.652283860190271e-10,
          1.2974740320486042e-09,
          1.0345756992343794e-09,
          4.63841635368402e-09,
          3.902651570360717e-09,
          7.238917848496317e-09,
          2.388709206635039e-08,
          3.2932280592427823e-08,
          5.971285096269647e-08,
          2.922365497041915e-07,
          8.840959398475034e-07,
          9.09656929556757e-07,
          1.214741107851369e-06,
          1.7244818452870024e-06,
          6.313140242518168e-06,
          1.0199793302022075e-05,
          1.9809882652939636e-05,
          4.3796577575319405e-05,
          8.432675910214485e-05,
          0.00015623099244253672,
          0.0003023736047000808,
          0.0005811284622974125,
          0.0015383530576103313,
          0.003169507195623597,
          0.005068268640765602,
          0.008219593097567418,
          0.027371315338546292,
          0.03128695374601276,
          0.08072650191490843,
          0.11216533966923622,
          0.6173868754232283,
          0.883658588180056,
          0.9910756373074302,
          1.104783930253767,
          1.3106034938266002,
          1.366566483799306,
          1.402856099379874,
          1.4376894310369244,
          1.445812321201657,
          1.4576799240038687,
          1.485987047404361,
          1.3443459561037614,
          1.4701994777314582,
          1.3439411619020845,
          1.4018066249271444
         ]
        }
       ],
       "frames": [],
       "layout": {
        "font": {
         "size": 16
        },
        "height": 300,
        "margin": {
         "b": 50,
         "l": 80,
         "r": 50,
         "t": 60
        },
        "titlefont": {
         "size": 18
        },
        "width": 500,
        "xaxis": {
         "gridcolor": "#E5E5E5",
         "linecolor": "black",
         "linewidth": 1,
         "mirror": true,
         "showgrid": true,
         "ticks": "inside",
         "title": "Column index",
         "titlefont": {
          "color": "#555555",
          "size": 18
         },
         "zeroline": false
        },
        "yaxis": {
         "gridcolor": "#E5E5E5",
         "linecolor": "black",
         "linewidth": 1,
         "mirror": true,
         "showgrid": true,
         "ticks": "inside",
         "title": "Magnitude",
         "titlefont": {
          "color": "#555555",
          "size": 18
         },
         "type": "log",
         "zeroline": false
        }
       }
      },
      "application/vnd.webio.node+json": {
       "children": [
        {
         "children": [],
         "instanceArgs": {
          "namespace": "html",
          "tag": "div"
         },
         "nodeType": "DOM",
         "props": {
          "id": "plot-21561e8f-aefb-4af8-adb2-7f1a6e8b13b0"
         },
         "type": "node"
        }
       ],
       "instanceArgs": {
        "handlers": {
         "__get_gd_contents": [
          "(function (prop){prop==\"data\" ? (WebIO.setval({\"name\":\"__gd_contents\",\"scope\":\"3969148317667055426\",\"id\":\"12712938464900079132\",\"type\":\"observable\"},this.plotElem.data)) : undefined; return prop==\"layout\" ? (WebIO.setval({\"name\":\"__gd_contents\",\"scope\":\"3969148317667055426\",\"id\":\"12712938464900079132\",\"type\":\"observable\"},this.plotElem.layout)) : undefined})"
         ],
         "_commands": [
          "(function (args){var fn=args.shift(); var elem=this.plotElem; var Plotly=this.Plotly; args.unshift(elem); return Plotly[fn].apply(this,args)})"
         ],
         "_downloadImage": [
          "(function (options){return this.Plotly.downloadImage(this.plotElem,options)})"
         ],
         "_toImage": [
          "(function (options){return this.Plotly.toImage(this.plotElem,options).then((function (data){return WebIO.setval({\"name\":\"image\",\"scope\":\"3969148317667055426\",\"id\":\"5759869204564566767\",\"type\":\"observable\"},data)}))})"
         ]
        },
        "id": "3969148317667055426",
        "imports": {
         "data": [
          {
           "name": "Plotly",
           "type": "js",
           "url": "/assetserver/57533c5d787f8bc76a9e58ed0a1abce5f1b0c14d-plotly-latest.min.js"
          },
          {
           "name": null,
           "type": "js",
           "url": "/assetserver/58a7932c57029f7dbaa4105104076ff149fc7585-plotly_webio.bundle.js"
          }
         ],
         "type": "async_block"
        },
        "mount_callbacks": [
         "function () {\n    var handler = ((function (Plotly,PlotlyWebIO){PlotlyWebIO.init(WebIO); var gd=this.dom.querySelector(\"#plot-21561e8f-aefb-4af8-adb2-7f1a6e8b13b0\"); this.plotElem=gd; this.Plotly=Plotly; (window.Blink!==undefined) ? (gd.style.width=\"100%\", gd.style.height=\"100vh\", gd.style.marginLeft=\"0%\", gd.style.marginTop=\"0vh\") : undefined; window.onresize=(function (){return Plotly.Plots.resize(gd)}); Plotly.newPlot(gd,[{\"y\":[0.5,0.125,0.041666666666666664,0.015625,0.00625,0.0026041666666666665,0.0011160714285714285,0.00048828125,0.00021701388888888888,9.765625e-5,4.438920454545455e-5,2.0345052083333332e-5,9.390024038461539e-6,4.359654017857143e-6,2.0345052083333333e-6,9.5367431640625e-7,4.4878791360294117e-7,2.1192762586805554e-7,1.0038677014802631e-7,4.76837158203125e-8,2.270653134300595e-8,1.0837208140980114e-8,5.183012589164402e-9,2.483526865641276e-9,1.1920928955078125e-9,5.73121584378756e-10,2.759474295156973e-10,1.330460820879255e-10,6.422914307692955e-11,3.104408582051595e-11,1.502133184863675e-11,7.275957614183426e-12,3.527737025058631e-12,1.7119900268666884e-12,8.315380130495344e-13,4.0421986745463475e-13,1.9664750308603855e-13,9.573628439715034e-14,4.664075393707324e-14,2.2737367544323207e-14,1.1091398802108881e-14,5.4136589391245725e-15,2.6438799470143262e-15,1.2918958832001822e-15,6.315935428978669e-16,3.089316242435218e-16,1.5117930548087238e-16,7.401486830834377e-17,3.6252180395923476e-17,1.7763568394002505e-17,8.707631565687502e-18,4.270088556250602e-18,2.09476042382105e-18,1.02798428206033e-18,5.046468293750711e-19,2.4781763942525814e-19,1.2173498077030225e-19,5.981805089575197e-20,2.940209281316622e-20,1.4456028966473392e-20,7.109522442527898e-21,3.497426362856466e-21,1.7209558293420704e-21,8.470329472543003e-22],\"type\":\"scatter\",\"name\":\"r_kk\",\"marker\":{\"color\":\"#E24A33\",\"line\":{\"color\":\"#348ABD\",\"width\":0.5},\"size\":10}},{\"y\":[0.49999999999999994,0.125,0.041666666666666664,0.015624999999999997,0.006250000000000001,0.002604166666666667,0.0011160714285714283,0.00048828125,0.00021701388888888983,9.765625000000029e-5,4.4389204545453476e-5,2.0345052083332756e-5,9.39002403846267e-6,4.359654017857629e-6,2.0345052083325413e-6,9.536743164094677e-7,4.4878791361680085e-7,2.1192762594628597e-7,1.0038677052977145e-7,4.7683717198759713e-8,2.2706541022170957e-8,1.0837398240704197e-8,5.184287976500051e-9,2.487077860085011e-9,1.2238833411468093e-9,6.786402968918553e-10,6.208833106871207e-10,7.643826808234364e-10,8.284836901374826e-10,4.917395070888842e-10,8.930627339040384e-10,1.202788309268584e-9,1.5961502393162597e-9,1.9303752086609154e-9,2.2033817421183026e-9,2.4307820415215584e-9,2.646953026933481e-9,2.8828954274285165e-9,3.1051833284041188e-9,3.309413150088379e-9,3.4908598576620835e-9,3.6679629893115476e-9,3.83276781380685e-9,4.0117512410438085e-9,4.176781804106932e-9,4.349966060680394e-9,4.49057290121154e-9,4.638719803238111e-9,4.778744402629368e-9,4.915634754408083e-9,5.021822368570744e-9,5.1521278783568745e-9,5.275497942046299e-9,5.393216839572812e-9,5.499038771794344e-9,5.599611353963386e-9,5.692449496326514e-9,5.784215549705856e-9,5.8853869802657134e-9,5.9806710188980546e-9,6.063121552129852e-9,6.148516698050588e-9,6.224435574155441e-9,6.2997475067148544e-9],\"type\":\"scatter\",\"name\":\"GS Classical\",\"marker\":{\"color\":\"#348ABD\",\"line\":{\"color\":\"#348ABD\",\"width\":0.5},\"size\":10}},{\"y\":[0.49999999999999994,0.125,0.041666666666666664,0.015624999999999998,0.006250000000000002,0.0026041666666666674,0.0011160714285714285,0.0004882812499999997,0.00021701388888888993,9.765624999999987e-5,4.4389204545453584e-5,2.0345052083332953e-5,9.39002403846263e-6,4.359654017857597e-6,2.034505208332367e-6,9.53674316407378e-7,4.4878791360248324e-7,2.1192762586792555e-7,1.0038677014938232e-7,4.7683715820013904e-8,2.2706531342714013e-8,1.0837208142332313e-8,5.183012587690047e-9,2.483526865654078e-9,1.1920928948293774e-9,5.731215848978508e-10,2.759474294652509e-10,1.3304608148000596e-10,6.422914381062106e-11,3.1044085143783174e-11,1.502133174567482e-11,7.27595860812024e-12,3.5277369575274986e-12,1.7119894026019355e-12,8.31537895484137e-13,4.042196271918057e-13,1.966478370652279e-13,9.573616358147418e-14,4.664144121121882e-14,2.273719881170693e-14,1.1090350981988867e-14,5.414966391501222e-15,2.6438927078003986e-15,1.2916718594264066e-15,6.310008765745598e-16,3.09885109358849e-16,1.5147090050791042e-16,7.35602059445747e-17,3.686568864550698e-17,2.1405198861117068e-17,1.489869432141532e-17,6.633204013528828e-18,5.34759384694378e-18,4.53985178772676e-18,3.2799228842729498e-18,3.48455342793753e-18,2.6103636021734833e-18,3.4934497549055595e-18,2.729720882387128e-18,3.315158359102139e-18,1.887678507774449e-18,2.3643680805893388e-18,2.1312708680527456e-18,2.0929762834886365e-18],\"type\":\"scatter\",\"name\":\"GS Modified\",\"marker\":{\"color\":\"#988ED5\",\"line\":{\"color\":\"#348ABD\",\"width\":0.5},\"size\":10}},{\"y\":[1.5700924586837752e-16,6.29785931692991e-16,5.66430880171396e-16,7.882043836729312e-15,1.616993414526527e-14,2.344161018127084e-14,4.7067104720617097e-14,6.994082416948258e-14,1.2560169530122977e-13,4.6320780776797e-13,9.109683387336675e-13,6.825333557378999e-13,2.4899011641783725e-12,2.874900054365741e-12,5.551287054318673e-12,1.398027919345406e-11,2.9150200175500865e-11,9.047344673114974e-11,2.4577541467757694e-10,3.652283860190271e-10,1.2974740320486042e-9,1.0345756992343794e-9,4.63841635368402e-9,3.902651570360717e-9,7.238917848496317e-9,2.388709206635039e-8,3.2932280592427823e-8,5.971285096269647e-8,2.922365497041915e-7,8.840959398475034e-7,9.09656929556757e-7,1.214741107851369e-6,1.7244818452870024e-6,6.313140242518168e-6,1.0199793302022075e-5,1.9809882652939636e-5,4.3796577575319405e-5,8.432675910214485e-5,0.00015623099244253672,0.0003023736047000808,0.0005811284622974125,0.0015383530576103313,0.003169507195623597,0.005068268640765602,0.008219593097567418,0.027371315338546292,0.03128695374601276,0.08072650191490843,0.11216533966923622,0.6173868754232283,0.883658588180056,0.9910756373074302,1.104783930253767,1.3106034938266002,1.366566483799306,1.402856099379874,1.4376894310369244,1.445812321201657,1.4576799240038687,1.485987047404361,1.3443459561037614,1.4701994777314582,1.3439411619020845,1.4018066249271444],\"type\":\"scatter\",\"name\":\"Error in q_k\",\"marker\":{\"color\":\"#777777\",\"line\":{\"color\":\"#348ABD\",\"width\":0.5},\"size\":10}}],{\"xaxis\":{\"showgrid\":true,\"gridcolor\":\"#E5E5E5\",\"titlefont\":{\"color\":\"#555555\",\"size\":18},\"zeroline\":false,\"ticks\":\"inside\",\"title\":\"Column index\",\"linewidth\":1.0,\"mirror\":true,\"linecolor\":\"black\"},\"titlefont\":{\"size\":18},\"font\":{\"size\":16},\"height\":300,\"margin\":{\"l\":80,\"b\":50,\"r\":50,\"t\":60},\"yaxis\":{\"showgrid\":true,\"gridcolor\":\"#E5E5E5\",\"titlefont\":{\"color\":\"#555555\",\"size\":18},\"zeroline\":false,\"type\":\"log\",\"ticks\":\"inside\",\"title\":\"Magnitude\",\"linewidth\":1.0,\"mirror\":true,\"linecolor\":\"black\"},\"width\":500},{}); gd.on(\"plotly_hover\",(function (data){var filtered_data=WebIO.PlotlyCommands.filterEventData(gd,data,\"hover\"); return !(filtered_data.isnil) ? (WebIO.setval({\"name\":\"hover\",\"scope\":\"3969148317667055426\",\"id\":\"13094301605713079187\",\"type\":\"observable\"},filtered_data.out)) : undefined})); gd.on(\"plotly_unhover\",(function (){return WebIO.setval({\"name\":\"hover\",\"scope\":\"3969148317667055426\",\"id\":\"13094301605713079187\",\"type\":\"observable\"},{})})); gd.on(\"plotly_selected\",(function (data){var filtered_data=WebIO.PlotlyCommands.filterEventData(gd,data,\"selected\"); return !(filtered_data.isnil) ? (WebIO.setval({\"name\":\"selected\",\"scope\":\"3969148317667055426\",\"id\":\"11749558737110036816\",\"type\":\"observable\"},filtered_data.out)) : undefined})); gd.on(\"plotly_deselect\",(function (){return WebIO.setval({\"name\":\"selected\",\"scope\":\"3969148317667055426\",\"id\":\"11749558737110036816\",\"type\":\"observable\"},{})})); gd.on(\"plotly_relayout\",(function (data){var filtered_data=WebIO.PlotlyCommands.filterEventData(gd,data,\"relayout\"); return !(filtered_data.isnil) ? (WebIO.setval({\"name\":\"relayout\",\"scope\":\"3969148317667055426\",\"id\":\"6722086029156505044\",\"type\":\"observable\"},filtered_data.out)) : undefined})); return gd.on(\"plotly_click\",(function (data){var filtered_data=WebIO.PlotlyCommands.filterEventData(gd,data,\"click\"); return !(filtered_data.isnil) ? (WebIO.setval({\"name\":\"click\",\"scope\":\"3969148317667055426\",\"id\":\"7078443303424842655\",\"type\":\"observable\"},filtered_data.out)) : undefined}))}));\n    (WebIO.importBlock({\"data\":[{\"name\":\"Plotly\",\"type\":\"js\",\"url\":\"/assetserver/57533c5d787f8bc76a9e58ed0a1abce5f1b0c14d-plotly-latest.min.js\"},{\"name\":null,\"type\":\"js\",\"url\":\"/assetserver/58a7932c57029f7dbaa4105104076ff149fc7585-plotly_webio.bundle.js\"}],\"type\":\"async_block\"})).then((imports) => handler.apply(this, imports));\n}\n"
        ],
        "observables": {
         "__gd_contents": {
          "id": "12712938464900079132",
          "sync": false,
          "value": {}
         },
         "__get_gd_contents": {
          "id": "850059494414228846",
          "sync": false,
          "value": ""
         },
         "_commands": {
          "id": "25912657133577945",
          "sync": false,
          "value": []
         },
         "_downloadImage": {
          "id": "2165473227487621710",
          "sync": false,
          "value": {}
         },
         "_toImage": {
          "id": "17685690970194733820",
          "sync": false,
          "value": {}
         },
         "click": {
          "id": "7078443303424842655",
          "sync": false,
          "value": {}
         },
         "hover": {
          "id": "13094301605713079187",
          "sync": false,
          "value": {}
         },
         "image": {
          "id": "5759869204564566767",
          "sync": true,
          "value": ""
         },
         "relayout": {
          "id": "6722086029156505044",
          "sync": false,
          "value": {}
         },
         "selected": {
          "id": "11749558737110036816",
          "sync": false,
          "value": {}
         }
        },
        "systemjs_options": null
       },
       "nodeType": "Scope",
       "props": {},
       "type": "node"
      },
      "image/png": "[encoded data removed]",
      "image/svg+xml": [
       "<svg class=\"main-svg\" xmlns=\"http://www.w3.org/2000/svg\" xmlns:xlink=\"http://www.w3.org/1999/xlink\" width=\"700\" height=\"500\" style=\"\" viewBox=\"0 0 700 500\"><rect x=\"0\" y=\"0\" width=\"700\" height=\"500\" style=\"fill: rgb(255, 255, 255); fill-opacity: 1;\"/><defs id=\"defs-bc31c4\"><g class=\"clips\"><clipPath id=\"clipbc31c4xyplot\" class=\"plotclip\"><rect width=\"463\" height=\"390\"/></clipPath><clipPath class=\"axesclip\" id=\"clipbc31c4x\"><rect x=\"80\" y=\"0\" width=\"463\" height=\"500\"/></clipPath><clipPath class=\"axesclip\" id=\"clipbc31c4y\"><rect x=\"0\" y=\"60\" width=\"700\" height=\"390\"/></clipPath><clipPath class=\"axesclip\" id=\"clipbc31c4xy\"><rect x=\"80\" y=\"60\" width=\"463\" height=\"390\"/></clipPath></g><g class=\"gradients\"/></defs><g class=\"bglayer\"/><g class=\"layer-below\"><g class=\"imagelayer\"/><g class=\"shapelayer\"/></g><g class=\"cartesianlayer\"><g class=\"subplot xy\"><g class=\"layer-subplot\"><g class=\"shapelayer\"/><g class=\"imagelayer\"/></g><g class=\"gridlayer\"><g class=\"x\"><path class=\"xgrid crisp\" transform=\"translate(153.49,0)\" d=\"M0,60v390\" style=\"stroke: rgb(229, 229, 229); stroke-opacity: 1; stroke-width: 1px;\"/><path class=\"xgrid crisp\" transform=\"translate(226.98,0)\" d=\"M0,60v390\" style=\"stroke: rgb(229, 229, 229); stroke-opacity: 1; stroke-width: 1px;\"/><path class=\"xgrid crisp\" transform=\"translate(300.48,0)\" d=\"M0,60v390\" style=\"stroke: rgb(229, 229, 229); stroke-opacity: 1; stroke-width: 1px;\"/><path class=\"xgrid crisp\" transform=\"translate(373.97,0)\" d=\"M0,60v390\" style=\"stroke: rgb(229, 229, 229); stroke-opacity: 1; stroke-width: 1px;\"/><path class=\"xgrid crisp\" transform=\"translate(447.46,0)\" d=\"M0,60v390\" style=\"stroke: rgb(229, 229, 229); stroke-opacity: 1; stroke-width: 1px;\"/><path class=\"xgrid crisp\" transform=\"translate(520.95,0)\" d=\"M0,60v390\" style=\"stroke: rgb(229, 229, 229); stroke-opacity: 1; stroke-width: 1px;\"/></g><g class=\"y\"><path class=\"ygrid crisp\" transform=\"translate(0,429.31)\" d=\"M80,0h463\" style=\"stroke: rgb(229, 229, 229); stroke-opacity: 1; stroke-width: 1px;\"/><path class=\"ygrid crisp\" transform=\"translate(0,379.74)\" d=\"M80,0h463\" style=\"stroke: rgb(229, 229, 229); stroke-opacity: 1; stroke-width: 1px;\"/><path class=\"ygrid crisp\" transform=\"translate(0,330.18)\" d=\"M80,0h463\" style=\"stroke: rgb(229, 229, 229); stroke-opacity: 1; stroke-width: 1px;\"/><path class=\"ygrid crisp\" transform=\"translate(0,280.61)\" d=\"M80,0h463\" style=\"stroke: rgb(229, 229, 229); stroke-opacity: 1; stroke-width: 1px;\"/><path class=\"ygrid crisp\" transform=\"translate(0,231.04)\" d=\"M80,0h463\" style=\"stroke: rgb(229, 229, 229); stroke-opacity: 1; stroke-width: 1px;\"/><path class=\"ygrid crisp\" transform=\"translate(0,181.48000000000002)\" d=\"M80,0h463\" style=\"stroke: rgb(229, 229, 229); stroke-opacity: 1; stroke-width: 1px;\"/><path class=\"ygrid crisp\" transform=\"translate(0,131.91)\" d=\"M80,0h463\" style=\"stroke: rgb(229, 229, 229); stroke-opacity: 1; stroke-width: 1px;\"/><path class=\"ygrid crisp\" transform=\"translate(0,82.34)\" d=\"M80,0h463\" style=\"stroke: rgb(229, 229, 229); stroke-opacity: 1; stroke-width: 1px;\"/></g></g><g class=\"zerolinelayer\"/><path class=\"xlines-below\"/><path class=\"ylines-below\"/><g class=\"overlines-below\"/><g class=\"xaxislayer-below\"/><g class=\"yaxislayer-below\"/><g class=\"overaxes-below\"/><g class=\"plot\" transform=\"translate(80,60)\" clip-path=\"url('#clipbc31c4xyplot')\"><g class=\"scatterlayer mlayer\"><g class=\"trace scatter trace6b3d2d\" style=\"stroke-miterlimit: 2; opacity: 1;\"><g class=\"fills\"/><g class=\"errorbars\"/><g class=\"lines\"><path class=\"js-line\" d=\"M0,27.32L7.35,37.26L14.7,45.15L29.4,58.76L36.75,65.04L66.14,88.6L73.49,94.26L124.94,132.61L132.29,137.97L213.13,195.96L220.48,201.17L360.11,299.1L367.46,304.21L463,370.5\" style=\"vector-effect: non-scaling-stroke; fill: none; stroke: rgb(226, 74, 51); stroke-opacity: 1; stroke-width: 2px; opacity: 1;\"/></g><g class=\"points\"/><g class=\"text\"/></g><g class=\"trace scatter tracef85a19\" style=\"stroke-miterlimit: 2; opacity: 1;\"><g class=\"fills\"/><g class=\"errorbars\"/><g class=\"lines\"><path class=\"js-line\" d=\"M0,27.32L7.35,37.26L14.7,45.15L29.4,58.76L36.75,65.04L66.14,88.6L73.49,94.26L124.94,132.61L132.29,137.97L176.38,169.59L183.73,173.82L191.08,174.46L198.43,172.97L205.78,172.39L213.13,176.14L220.48,171.85L227.83,169.72L242.52,166.32L249.87,165.37L286.62,162.45L293.97,162.07L360.11,159.62L367.46,159.46L463,157.84\" style=\"vector-effect: non-scaling-stroke; fill: none; stroke: rgb(52, 138, 189); stroke-opacity: 1; stroke-width: 2px; opacity: 1;\"/></g><g class=\"points\"/><g class=\"text\"/></g><g class=\"trace scatter tracede16b5\" style=\"stroke-miterlimit: 2; opacity: 1;\"><g class=\"fills\"/><g class=\"errorbars\"/><g class=\"lines\"><path class=\"js-line\" d=\"M0,27.32L7.35,37.26L14.7,45.15L29.4,58.76L36.75,65.04L66.14,88.6L73.49,94.26L124.94,132.61L132.29,137.97L213.13,195.96L220.48,201.17L352.76,293.86L360.11,297.76L367.46,300.36L374.81,306.17L389.51,308.89L396.86,311.22L404.21,310.78L411.56,312.86L418.9,310.77L426.25,312.54L433.6,311.14L440.95,315.18L448.3,313.57L455.65,314.31L463,314.44\" style=\"vector-effect: non-scaling-stroke; fill: none; stroke: rgb(152, 142, 213); stroke-opacity: 1; stroke-width: 2px; opacity: 1;\"/></g><g class=\"points\"/><g class=\"text\"/></g><g class=\"trace scatter traceae34e7\" style=\"stroke-miterlimit: 2; opacity: 1;\"><g class=\"fills\"/><g class=\"errorbars\"/><g class=\"lines\"><path class=\"js-line\" d=\"M0,283.46L7.35,273.49L14.7,274.25L22.05,255.36L29.4,250.2L36.75,247.54L44.1,242.54L51.44,239.7L58.79,235.5L66.14,226.13L73.49,221.28L80.84,223.35L88.19,214.06L95.54,213.03L102.89,208.31L110.24,201.68L117.59,196.41L132.29,181.11L139.63,178.27L146.98,169.17L154.33,170.8L161.68,160.03L169.03,161.27L176.38,156.84L183.73,148.27L191.08,145.97L198.43,141.7L205.78,130.3L213.13,122.36L220.48,122.15L227.83,120.08L235.17,117.57L242.52,108.25L249.87,104.81L257.22,100.05L264.57,94.36L271.92,89.65L293.97,75.8L301.32,68.82L308.67,63.63L316.02,60.26L323.37,56.79L330.71,48.16L338.06,47.2L345.41,40.4L352.76,38.04L360.11,25.8L367.46,23.23L374.81,22.41L396.86,20.1L404.21,19.91L433.6,19.5L440.95,20.22L448.3,19.58L455.65,20.22L463,19.92\" style=\"vector-effect: non-scaling-stroke; fill: none; stroke: rgb(119, 119, 119); stroke-opacity: 1; stroke-width: 2px; opacity: 1;\"/></g><g class=\"points\"/><g class=\"text\"/></g></g></g><g class=\"overplot\"/><path class=\"xlines-above crisp\" d=\"M79,450.5H544M79,59.5H544\" style=\"fill: none; stroke-width: 1px; stroke: rgb(0, 0, 0); stroke-opacity: 1;\"/><path class=\"ylines-above crisp\" d=\"M79.5,60V450M543.5,60V450\" style=\"fill: none; stroke-width: 1px; stroke: rgb(0, 0, 0); stroke-opacity: 1;\"/><g class=\"overlines-above\"/><g class=\"xaxislayer-above\"><path class=\"xtick ticks crisp\" d=\"M0,450v-5\" transform=\"translate(153.49,0)\" style=\"stroke: rgb(68, 68, 68); stroke-opacity: 1; stroke-width: 1px;\"/><path class=\"xtick ticks crisp\" d=\"M0,450v-5\" transform=\"translate(226.98,0)\" style=\"stroke: rgb(68, 68, 68); stroke-opacity: 1; stroke-width: 1px;\"/><path class=\"xtick ticks crisp\" d=\"M0,450v-5\" transform=\"translate(300.48,0)\" style=\"stroke: rgb(68, 68, 68); stroke-opacity: 1; stroke-width: 1px;\"/><path class=\"xtick ticks crisp\" d=\"M0,450v-5\" transform=\"translate(373.97,0)\" style=\"stroke: rgb(68, 68, 68); stroke-opacity: 1; stroke-width: 1px;\"/><path class=\"xtick ticks crisp\" d=\"M0,450v-5\" transform=\"translate(447.46,0)\" style=\"stroke: rgb(68, 68, 68); stroke-opacity: 1; stroke-width: 1px;\"/><path class=\"xtick ticks crisp\" d=\"M0,450v-5\" transform=\"translate(520.95,0)\" style=\"stroke: rgb(68, 68, 68); stroke-opacity: 1; stroke-width: 1px;\"/><g class=\"xtick\"><text text-anchor=\"middle\" x=\"0\" y=\"470.2\" transform=\"translate(80,0)\" style=\"font-family: 'Open Sans', verdana, arial, sans-serif; font-size: 16px; fill: rgb(68, 68, 68); fill-opacity: 1; white-space: pre;\">0</text></g><g class=\"xtick\"><text text-anchor=\"middle\" x=\"0\" y=\"470.2\" transform=\"translate(153.49,0)\" style=\"font-family: 'Open Sans', verdana, arial, sans-serif; font-size: 16px; fill: rgb(68, 68, 68); fill-opacity: 1; white-space: pre;\">10</text></g><g class=\"xtick\"><text text-anchor=\"middle\" x=\"0\" y=\"470.2\" transform=\"translate(226.98,0)\" style=\"font-family: 'Open Sans', verdana, arial, sans-serif; font-size: 16px; fill: rgb(68, 68, 68); fill-opacity: 1; white-space: pre;\">20</text></g><g class=\"xtick\"><text text-anchor=\"middle\" x=\"0\" y=\"470.2\" transform=\"translate(300.48,0)\" style=\"font-family: 'Open Sans', verdana, arial, sans-serif; font-size: 16px; fill: rgb(68, 68, 68); fill-opacity: 1; white-space: pre;\">30</text></g><g class=\"xtick\"><text text-anchor=\"middle\" x=\"0\" y=\"470.2\" transform=\"translate(373.97,0)\" style=\"font-family: 'Open Sans', verdana, arial, sans-serif; font-size: 16px; fill: rgb(68, 68, 68); fill-opacity: 1; white-space: pre;\">40</text></g><g class=\"xtick\"><text text-anchor=\"middle\" x=\"0\" y=\"470.2\" transform=\"translate(447.46,0)\" style=\"font-family: 'Open Sans', verdana, arial, sans-serif; font-size: 16px; fill: rgb(68, 68, 68); fill-opacity: 1; white-space: pre;\">50</text></g><g class=\"xtick\"><text text-anchor=\"middle\" x=\"0\" y=\"470.2\" transform=\"translate(520.95,0)\" style=\"font-family: 'Open Sans', verdana, arial, sans-serif; font-size: 16px; fill: rgb(68, 68, 68); fill-opacity: 1; white-space: pre;\">60</text></g></g><g class=\"yaxislayer-above\"><path class=\"ytick ticks crisp\" d=\"M80,0h5\" transform=\"translate(0,429.31)\" style=\"stroke: rgb(68, 68, 68); stroke-opacity: 1; stroke-width: 1px;\"/><path class=\"ytick ticks crisp\" d=\"M80,0h5\" transform=\"translate(0,379.74)\" style=\"stroke: rgb(68, 68, 68); stroke-opacity: 1; stroke-width: 1px;\"/><path class=\"ytick ticks crisp\" d=\"M80,0h5\" transform=\"translate(0,330.18)\" style=\"stroke: rgb(68, 68, 68); stroke-opacity: 1; stroke-width: 1px;\"/><path class=\"ytick ticks crisp\" d=\"M80,0h5\" transform=\"translate(0,280.61)\" style=\"stroke: rgb(68, 68, 68); stroke-opacity: 1; stroke-width: 1px;\"/><path class=\"ytick ticks crisp\" d=\"M80,0h5\" transform=\"translate(0,231.04)\" style=\"stroke: rgb(68, 68, 68); stroke-opacity: 1; stroke-width: 1px;\"/><path class=\"ytick ticks crisp\" d=\"M80,0h5\" transform=\"translate(0,181.48000000000002)\" style=\"stroke: rgb(68, 68, 68); stroke-opacity: 1; stroke-width: 1px;\"/><path class=\"ytick ticks crisp\" d=\"M80,0h5\" transform=\"translate(0,131.91)\" style=\"stroke: rgb(68, 68, 68); stroke-opacity: 1; stroke-width: 1px;\"/><path class=\"ytick ticks crisp\" d=\"M80,0h5\" transform=\"translate(0,82.34)\" style=\"stroke: rgb(68, 68, 68); stroke-opacity: 1; stroke-width: 1px;\"/><g class=\"ytick\"><text text-anchor=\"end\" x=\"75.8\" y=\"7\" transform=\"translate(0,429.31)\" style=\"font-family: 'Open Sans', verdana, arial, sans-serif; font-size: 20px; fill: rgb(68, 68, 68); fill-opacity: 1; white-space: pre;\">10​<tspan style=\"font-size:70%\" dy=\"-0.6em\">−21</tspan><tspan dy=\"0.42em\">​</tspan></text></g><g class=\"ytick\"><text text-anchor=\"end\" x=\"75.8\" y=\"7\" transform=\"translate(0,379.74)\" style=\"font-family: 'Open Sans', verdana, arial, sans-serif; font-size: 20px; fill: rgb(68, 68, 68); fill-opacity: 1; white-space: pre;\">10​<tspan style=\"font-size:70%\" dy=\"-0.6em\">−18</tspan><tspan dy=\"0.42em\">​</tspan></text></g><g class=\"ytick\"><text text-anchor=\"end\" x=\"75.8\" y=\"5.6\" transform=\"translate(0,330.18)\" style=\"font-family: 'Open Sans', verdana, arial, sans-serif; font-size: 16px; fill: rgb(68, 68, 68); fill-opacity: 1; white-space: pre;\">1f</text></g><g class=\"ytick\"><text text-anchor=\"end\" x=\"75.8\" y=\"5.6\" transform=\"translate(0,280.61)\" style=\"font-family: 'Open Sans', verdana, arial, sans-serif; font-size: 16px; fill: rgb(68, 68, 68); fill-opacity: 1; white-space: pre;\">1p</text></g><g class=\"ytick\"><text text-anchor=\"end\" x=\"75.8\" y=\"5.6\" transform=\"translate(0,231.04)\" style=\"font-family: 'Open Sans', verdana, arial, sans-serif; font-size: 16px; fill: rgb(68, 68, 68); fill-opacity: 1; white-space: pre;\">1n</text></g><g class=\"ytick\"><text text-anchor=\"end\" x=\"75.8\" y=\"5.6\" transform=\"translate(0,181.48000000000002)\" style=\"font-family: 'Open Sans', verdana, arial, sans-serif; font-size: 16px; fill: rgb(68, 68, 68); fill-opacity: 1; white-space: pre;\">1μ</text></g><g class=\"ytick\"><text text-anchor=\"end\" x=\"75.8\" y=\"5.6\" transform=\"translate(0,131.91)\" style=\"font-family: 'Open Sans', verdana, arial, sans-serif; font-size: 16px; fill: rgb(68, 68, 68); fill-opacity: 1; white-space: pre;\">0.001</text></g><g class=\"ytick\"><text text-anchor=\"end\" x=\"75.8\" y=\"5.6\" transform=\"translate(0,82.34)\" style=\"font-family: 'Open Sans', verdana, arial, sans-serif; font-size: 16px; fill: rgb(68, 68, 68); fill-opacity: 1; white-space: pre;\">1</text></g></g><g class=\"overaxes-above\"/></g></g><g class=\"polarlayer\"/><g class=\"ternarylayer\"/><g class=\"geolayer\"/><g class=\"funnelarealayer\"/><g class=\"pielayer\"/><g class=\"treemaplayer\"/><g class=\"sunburstlayer\"/><g class=\"glimages\"/><defs id=\"topdefs-bc31c4\"><g class=\"clips\"/><clipPath id=\"legendbc31c4\"><rect width=\"136\" height=\"106\" x=\"0\" y=\"0\"/></clipPath></defs><g class=\"layer-above\"><g class=\"imagelayer\"/><g class=\"shapelayer\"/></g><g class=\"infolayer\"><g class=\"legend\" pointer-events=\"all\" transform=\"translate(552.26,60)\"><rect class=\"bg\" shape-rendering=\"crispEdges\" style=\"stroke: rgb(68, 68, 68); stroke-opacity: 1; fill: rgb(255, 255, 255); fill-opacity: 1; stroke-width: 0px;\" width=\"136\" height=\"106\" x=\"0\" y=\"0\"/><g class=\"scrollbox\" transform=\"\" clip-path=\"url('#legendbc31c4')\"><g class=\"groups\"><g class=\"traces\" transform=\"translate(0,16.9)\" style=\"opacity: 1;\"><text class=\"legendtext\" text-anchor=\"start\" x=\"40\" y=\"6.24\" style=\"font-family: 'Open Sans', verdana, arial, sans-serif; font-size: 16px; fill: rgb(68, 68, 68); fill-opacity: 1; white-space: pre;\">r_kk</text><g class=\"layers\" style=\"opacity: 1;\"><g class=\"legendfill\"/><g class=\"legendlines\"><path class=\"js-line\" d=\"M5,0h30\" style=\"fill: none; stroke: rgb(226, 74, 51); stroke-opacity: 1; stroke-width: 2px;\"/></g><g class=\"legendsymbols\"><g class=\"legendpoints\"/></g></g><rect class=\"legendtoggle\" x=\"0\" y=\"-11.9\" width=\"130.796875\" height=\"23.8\" style=\"fill: rgb(0, 0, 0); fill-opacity: 0;\"/></g><g class=\"traces\" transform=\"translate(0,40.7)\" style=\"opacity: 1;\"><text class=\"legendtext\" text-anchor=\"start\" x=\"40\" y=\"6.24\" style=\"font-family: 'Open Sans', verdana, arial, sans-serif; font-size: 16px; fill: rgb(68, 68, 68); fill-opacity: 1; white-space: pre;\">GS Classical</text><g class=\"layers\" style=\"opacity: 1;\"><g class=\"legendfill\"/><g class=\"legendlines\"><path class=\"js-line\" d=\"M5,0h30\" style=\"fill: none; stroke: rgb(52, 138, 189); stroke-opacity: 1; stroke-width: 2px;\"/></g><g class=\"legendsymbols\"><g class=\"legendpoints\"/></g></g><rect class=\"legendtoggle\" x=\"0\" y=\"-11.9\" width=\"130.796875\" height=\"23.8\" style=\"fill: rgb(0, 0, 0); fill-opacity: 0;\"/></g><g class=\"traces\" transform=\"translate(0,64.5)\" style=\"opacity: 1;\"><text class=\"legendtext\" text-anchor=\"start\" x=\"40\" y=\"6.24\" style=\"font-family: 'Open Sans', verdana, arial, sans-serif; font-size: 16px; fill: rgb(68, 68, 68); fill-opacity: 1; white-space: pre;\">GS Modified</text><g class=\"layers\" style=\"opacity: 1;\"><g class=\"legendfill\"/><g class=\"legendlines\"><path class=\"js-line\" d=\"M5,0h30\" style=\"fill: none; stroke: rgb(152, 142, 213); stroke-opacity: 1; stroke-width: 2px;\"/></g><g class=\"legendsymbols\"><g class=\"legendpoints\"/></g></g><rect class=\"legendtoggle\" x=\"0\" y=\"-11.9\" width=\"130.796875\" height=\"23.8\" style=\"fill: rgb(0, 0, 0); fill-opacity: 0;\"/></g><g class=\"traces\" transform=\"translate(0,88.30000000000001)\" style=\"opacity: 1;\"><text class=\"legendtext\" text-anchor=\"start\" x=\"40\" y=\"6.24\" style=\"font-family: 'Open Sans', verdana, arial, sans-serif; font-size: 16px; fill: rgb(68, 68, 68); fill-opacity: 1; white-space: pre;\">Error in q_k</text><g class=\"layers\" style=\"opacity: 1;\"><g class=\"legendfill\"/><g class=\"legendlines\"><path class=\"js-line\" d=\"M5,0h30\" style=\"fill: none; stroke: rgb(119, 119, 119); stroke-opacity: 1; stroke-width: 2px;\"/></g><g class=\"legendsymbols\"><g class=\"legendpoints\"/></g></g><rect class=\"legendtoggle\" x=\"0\" y=\"-11.9\" width=\"130.796875\" height=\"23.8\" style=\"fill: rgb(0, 0, 0); fill-opacity: 0;\"/></g></g></g><rect class=\"scrollbar\" rx=\"20\" ry=\"3\" width=\"0\" height=\"0\" style=\"fill: rgb(128, 139, 164); fill-opacity: 1;\" x=\"0\" y=\"0\"/></g><g class=\"g-gtitle\"/><g class=\"g-xtitle\" transform=\"translate(0,-19.5)\"><text class=\"xtitle\" x=\"311.5\" y=\"514\" text-anchor=\"middle\" style=\"font-family: 'Open Sans', verdana, arial, sans-serif; font-size: 18px; fill: rgb(85, 85, 85); opacity: 1; font-weight: normal; white-space: pre;\">Column index</text></g><g class=\"g-ytitle\"><text class=\"ytitle\" transform=\"rotate(-90,34,255)\" x=\"34\" y=\"255\" text-anchor=\"middle\" style=\"font-family: 'Open Sans', verdana, arial, sans-serif; font-size: 18px; fill: rgb(85, 85, 85); opacity: 1; font-weight: normal; white-space: pre;\">Magnitude</text></g></g></svg>"
      ],
      "text/html": [
       "<div\n",
       "    class=\"webio-mountpoint\"\n",
       "    data-webio-mountpoint=\"12546587429808247156\"\n",
       ">\n",
       "    <script>\n",
       "    if (window.require && require.defined && require.defined(\"nbextensions/webio-jupyter-notebook\")) {\n",
       "        console.log(\"Jupyter WebIO extension detected, not mounting.\");\n",
       "    } else if (window.WebIO) {\n",
       "        WebIO.mount(\n",
       "            document.querySelector('[data-webio-mountpoint=\"12546587429808247156\"]'),\n",
       "            {\"props\":{},\"nodeType\":\"Scope\",\"type\":\"node\",\"instanceArgs\":{\"imports\":{\"data\":[{\"name\":\"Plotly\",\"type\":\"js\",\"url\":\"\\/assetserver\\/57533c5d787f8bc76a9e58ed0a1abce5f1b0c14d-plotly-latest.min.js\"},{\"name\":null,\"type\":\"js\",\"url\":\"\\/assetserver\\/58a7932c57029f7dbaa4105104076ff149fc7585-plotly_webio.bundle.js\"}],\"type\":\"async_block\"},\"id\":\"3969148317667055426\",\"handlers\":{\"_toImage\":[\"(function (options){return this.Plotly.toImage(this.plotElem,options).then((function (data){return WebIO.setval({\\\"name\\\":\\\"image\\\",\\\"scope\\\":\\\"3969148317667055426\\\",\\\"id\\\":\\\"5759869204564566767\\\",\\\"type\\\":\\\"observable\\\"},data)}))})\"],\"__get_gd_contents\":[\"(function (prop){prop==\\\"data\\\" ? (WebIO.setval({\\\"name\\\":\\\"__gd_contents\\\",\\\"scope\\\":\\\"3969148317667055426\\\",\\\"id\\\":\\\"12712938464900079132\\\",\\\"type\\\":\\\"observable\\\"},this.plotElem.data)) : undefined; return prop==\\\"layout\\\" ? (WebIO.setval({\\\"name\\\":\\\"__gd_contents\\\",\\\"scope\\\":\\\"3969148317667055426\\\",\\\"id\\\":\\\"12712938464900079132\\\",\\\"type\\\":\\\"observable\\\"},this.plotElem.layout)) : undefined})\"],\"_downloadImage\":[\"(function (options){return this.Plotly.downloadImage(this.plotElem,options)})\"],\"_commands\":[\"(function (args){var fn=args.shift(); var elem=this.plotElem; var Plotly=this.Plotly; args.unshift(elem); return Plotly[fn].apply(this,args)})\"]},\"systemjs_options\":null,\"mount_callbacks\":[\"function () {\\n    var handler = ((function (Plotly,PlotlyWebIO){PlotlyWebIO.init(WebIO); var gd=this.dom.querySelector(\\\"#plot-21561e8f-aefb-4af8-adb2-7f1a6e8b13b0\\\"); this.plotElem=gd; this.Plotly=Plotly; (window.Blink!==undefined) ? (gd.style.width=\\\"100%\\\", gd.style.height=\\\"100vh\\\", gd.style.marginLeft=\\\"0%\\\", gd.style.marginTop=\\\"0vh\\\") : undefined; window.onresize=(function (){return Plotly.Plots.resize(gd)}); Plotly.newPlot(gd,[{\\\"y\\\":[0.5,0.125,0.041666666666666664,0.015625,0.00625,0.0026041666666666665,0.0011160714285714285,0.00048828125,0.00021701388888888888,9.765625e-5,4.438920454545455e-5,2.0345052083333332e-5,9.390024038461539e-6,4.359654017857143e-6,2.0345052083333333e-6,9.5367431640625e-7,4.4878791360294117e-7,2.1192762586805554e-7,1.0038677014802631e-7,4.76837158203125e-8,2.270653134300595e-8,1.0837208140980114e-8,5.183012589164402e-9,2.483526865641276e-9,1.1920928955078125e-9,5.73121584378756e-10,2.759474295156973e-10,1.330460820879255e-10,6.422914307692955e-11,3.104408582051595e-11,1.502133184863675e-11,7.275957614183426e-12,3.527737025058631e-12,1.7119900268666884e-12,8.315380130495344e-13,4.0421986745463475e-13,1.9664750308603855e-13,9.573628439715034e-14,4.664075393707324e-14,2.2737367544323207e-14,1.1091398802108881e-14,5.4136589391245725e-15,2.6438799470143262e-15,1.2918958832001822e-15,6.315935428978669e-16,3.089316242435218e-16,1.5117930548087238e-16,7.401486830834377e-17,3.6252180395923476e-17,1.7763568394002505e-17,8.707631565687502e-18,4.270088556250602e-18,2.09476042382105e-18,1.02798428206033e-18,5.046468293750711e-19,2.4781763942525814e-19,1.2173498077030225e-19,5.981805089575197e-20,2.940209281316622e-20,1.4456028966473392e-20,7.109522442527898e-21,3.497426362856466e-21,1.7209558293420704e-21,8.470329472543003e-22],\\\"type\\\":\\\"scatter\\\",\\\"name\\\":\\\"r_kk\\\",\\\"marker\\\":{\\\"color\\\":\\\"#E24A33\\\",\\\"line\\\":{\\\"color\\\":\\\"#348ABD\\\",\\\"width\\\":0.5},\\\"size\\\":10}},{\\\"y\\\":[0.49999999999999994,0.125,0.041666666666666664,0.015624999999999997,0.006250000000000001,0.002604166666666667,0.0011160714285714283,0.00048828125,0.00021701388888888983,9.765625000000029e-5,4.4389204545453476e-5,2.0345052083332756e-5,9.39002403846267e-6,4.359654017857629e-6,2.0345052083325413e-6,9.536743164094677e-7,4.4878791361680085e-7,2.1192762594628597e-7,1.0038677052977145e-7,4.7683717198759713e-8,2.2706541022170957e-8,1.0837398240704197e-8,5.184287976500051e-9,2.487077860085011e-9,1.2238833411468093e-9,6.786402968918553e-10,6.208833106871207e-10,7.643826808234364e-10,8.284836901374826e-10,4.917395070888842e-10,8.930627339040384e-10,1.202788309268584e-9,1.5961502393162597e-9,1.9303752086609154e-9,2.2033817421183026e-9,2.4307820415215584e-9,2.646953026933481e-9,2.8828954274285165e-9,3.1051833284041188e-9,3.309413150088379e-9,3.4908598576620835e-9,3.6679629893115476e-9,3.83276781380685e-9,4.0117512410438085e-9,4.176781804106932e-9,4.349966060680394e-9,4.49057290121154e-9,4.638719803238111e-9,4.778744402629368e-9,4.915634754408083e-9,5.021822368570744e-9,5.1521278783568745e-9,5.275497942046299e-9,5.393216839572812e-9,5.499038771794344e-9,5.599611353963386e-9,5.692449496326514e-9,5.784215549705856e-9,5.8853869802657134e-9,5.9806710188980546e-9,6.063121552129852e-9,6.148516698050588e-9,6.224435574155441e-9,6.2997475067148544e-9],\\\"type\\\":\\\"scatter\\\",\\\"name\\\":\\\"GS Classical\\\",\\\"marker\\\":{\\\"color\\\":\\\"#348ABD\\\",\\\"line\\\":{\\\"color\\\":\\\"#348ABD\\\",\\\"width\\\":0.5},\\\"size\\\":10}},{\\\"y\\\":[0.49999999999999994,0.125,0.041666666666666664,0.015624999999999998,0.006250000000000002,0.0026041666666666674,0.0011160714285714285,0.0004882812499999997,0.00021701388888888993,9.765624999999987e-5,4.4389204545453584e-5,2.0345052083332953e-5,9.39002403846263e-6,4.359654017857597e-6,2.034505208332367e-6,9.53674316407378e-7,4.4878791360248324e-7,2.1192762586792555e-7,1.0038677014938232e-7,4.7683715820013904e-8,2.2706531342714013e-8,1.0837208142332313e-8,5.183012587690047e-9,2.483526865654078e-9,1.1920928948293774e-9,5.731215848978508e-10,2.759474294652509e-10,1.3304608148000596e-10,6.422914381062106e-11,3.1044085143783174e-11,1.502133174567482e-11,7.27595860812024e-12,3.5277369575274986e-12,1.7119894026019355e-12,8.31537895484137e-13,4.042196271918057e-13,1.966478370652279e-13,9.573616358147418e-14,4.664144121121882e-14,2.273719881170693e-14,1.1090350981988867e-14,5.414966391501222e-15,2.6438927078003986e-15,1.2916718594264066e-15,6.310008765745598e-16,3.09885109358849e-16,1.5147090050791042e-16,7.35602059445747e-17,3.686568864550698e-17,2.1405198861117068e-17,1.489869432141532e-17,6.633204013528828e-18,5.34759384694378e-18,4.53985178772676e-18,3.2799228842729498e-18,3.48455342793753e-18,2.6103636021734833e-18,3.4934497549055595e-18,2.729720882387128e-18,3.315158359102139e-18,1.887678507774449e-18,2.3643680805893388e-18,2.1312708680527456e-18,2.0929762834886365e-18],\\\"type\\\":\\\"scatter\\\",\\\"name\\\":\\\"GS Modified\\\",\\\"marker\\\":{\\\"color\\\":\\\"#988ED5\\\",\\\"line\\\":{\\\"color\\\":\\\"#348ABD\\\",\\\"width\\\":0.5},\\\"size\\\":10}},{\\\"y\\\":[1.5700924586837752e-16,6.29785931692991e-16,5.66430880171396e-16,7.882043836729312e-15,1.616993414526527e-14,2.344161018127084e-14,4.7067104720617097e-14,6.994082416948258e-14,1.2560169530122977e-13,4.6320780776797e-13,9.109683387336675e-13,6.825333557378999e-13,2.4899011641783725e-12,2.874900054365741e-12,5.551287054318673e-12,1.398027919345406e-11,2.9150200175500865e-11,9.047344673114974e-11,2.4577541467757694e-10,3.652283860190271e-10,1.2974740320486042e-9,1.0345756992343794e-9,4.63841635368402e-9,3.902651570360717e-9,7.238917848496317e-9,2.388709206635039e-8,3.2932280592427823e-8,5.971285096269647e-8,2.922365497041915e-7,8.840959398475034e-7,9.09656929556757e-7,1.214741107851369e-6,1.7244818452870024e-6,6.313140242518168e-6,1.0199793302022075e-5,1.9809882652939636e-5,4.3796577575319405e-5,8.432675910214485e-5,0.00015623099244253672,0.0003023736047000808,0.0005811284622974125,0.0015383530576103313,0.003169507195623597,0.005068268640765602,0.008219593097567418,0.027371315338546292,0.03128695374601276,0.08072650191490843,0.11216533966923622,0.6173868754232283,0.883658588180056,0.9910756373074302,1.104783930253767,1.3106034938266002,1.366566483799306,1.402856099379874,1.4376894310369244,1.445812321201657,1.4576799240038687,1.485987047404361,1.3443459561037614,1.4701994777314582,1.3439411619020845,1.4018066249271444],\\\"type\\\":\\\"scatter\\\",\\\"name\\\":\\\"Error in q_k\\\",\\\"marker\\\":{\\\"color\\\":\\\"#777777\\\",\\\"line\\\":{\\\"color\\\":\\\"#348ABD\\\",\\\"width\\\":0.5},\\\"size\\\":10}}],{\\\"xaxis\\\":{\\\"showgrid\\\":true,\\\"gridcolor\\\":\\\"#E5E5E5\\\",\\\"titlefont\\\":{\\\"color\\\":\\\"#555555\\\",\\\"size\\\":18},\\\"zeroline\\\":false,\\\"ticks\\\":\\\"inside\\\",\\\"title\\\":\\\"Column index\\\",\\\"linewidth\\\":1.0,\\\"mirror\\\":true,\\\"linecolor\\\":\\\"black\\\"},\\\"titlefont\\\":{\\\"size\\\":18},\\\"font\\\":{\\\"size\\\":16},\\\"height\\\":300,\\\"margin\\\":{\\\"l\\\":80,\\\"b\\\":50,\\\"r\\\":50,\\\"t\\\":60},\\\"yaxis\\\":{\\\"showgrid\\\":true,\\\"gridcolor\\\":\\\"#E5E5E5\\\",\\\"titlefont\\\":{\\\"color\\\":\\\"#555555\\\",\\\"size\\\":18},\\\"zeroline\\\":false,\\\"type\\\":\\\"log\\\",\\\"ticks\\\":\\\"inside\\\",\\\"title\\\":\\\"Magnitude\\\",\\\"linewidth\\\":1.0,\\\"mirror\\\":true,\\\"linecolor\\\":\\\"black\\\"},\\\"width\\\":500},{}); gd.on(\\\"plotly_hover\\\",(function (data){var filtered_data=WebIO.PlotlyCommands.filterEventData(gd,data,\\\"hover\\\"); return !(filtered_data.isnil) ? (WebIO.setval({\\\"name\\\":\\\"hover\\\",\\\"scope\\\":\\\"3969148317667055426\\\",\\\"id\\\":\\\"13094301605713079187\\\",\\\"type\\\":\\\"observable\\\"},filtered_data.out)) : undefined})); gd.on(\\\"plotly_unhover\\\",(function (){return WebIO.setval({\\\"name\\\":\\\"hover\\\",\\\"scope\\\":\\\"3969148317667055426\\\",\\\"id\\\":\\\"13094301605713079187\\\",\\\"type\\\":\\\"observable\\\"},{})})); gd.on(\\\"plotly_selected\\\",(function (data){var filtered_data=WebIO.PlotlyCommands.filterEventData(gd,data,\\\"selected\\\"); return !(filtered_data.isnil) ? (WebIO.setval({\\\"name\\\":\\\"selected\\\",\\\"scope\\\":\\\"3969148317667055426\\\",\\\"id\\\":\\\"11749558737110036816\\\",\\\"type\\\":\\\"observable\\\"},filtered_data.out)) : undefined})); gd.on(\\\"plotly_deselect\\\",(function (){return WebIO.setval({\\\"name\\\":\\\"selected\\\",\\\"scope\\\":\\\"3969148317667055426\\\",\\\"id\\\":\\\"11749558737110036816\\\",\\\"type\\\":\\\"observable\\\"},{})})); gd.on(\\\"plotly_relayout\\\",(function (data){var filtered_data=WebIO.PlotlyCommands.filterEventData(gd,data,\\\"relayout\\\"); return !(filtered_data.isnil) ? (WebIO.setval({\\\"name\\\":\\\"relayout\\\",\\\"scope\\\":\\\"3969148317667055426\\\",\\\"id\\\":\\\"6722086029156505044\\\",\\\"type\\\":\\\"observable\\\"},filtered_data.out)) : undefined})); return gd.on(\\\"plotly_click\\\",(function (data){var filtered_data=WebIO.PlotlyCommands.filterEventData(gd,data,\\\"click\\\"); return !(filtered_data.isnil) ? (WebIO.setval({\\\"name\\\":\\\"click\\\",\\\"scope\\\":\\\"3969148317667055426\\\",\\\"id\\\":\\\"7078443303424842655\\\",\\\"type\\\":\\\"observable\\\"},filtered_data.out)) : undefined}))}));\\n    (WebIO.importBlock({\\\"data\\\":[{\\\"name\\\":\\\"Plotly\\\",\\\"type\\\":\\\"js\\\",\\\"url\\\":\\\"\\/assetserver\\/57533c5d787f8bc76a9e58ed0a1abce5f1b0c14d-plotly-latest.min.js\\\"},{\\\"name\\\":null,\\\"type\\\":\\\"js\\\",\\\"url\\\":\\\"\\/assetserver\\/58a7932c57029f7dbaa4105104076ff149fc7585-plotly_webio.bundle.js\\\"}],\\\"type\\\":\\\"async_block\\\"})).then((imports) => handler.apply(this, imports));\\n}\\n\"],\"observables\":{\"_toImage\":{\"sync\":false,\"id\":\"17685690970194733820\",\"value\":{}},\"hover\":{\"sync\":false,\"id\":\"13094301605713079187\",\"value\":{}},\"selected\":{\"sync\":false,\"id\":\"11749558737110036816\",\"value\":{}},\"__gd_contents\":{\"sync\":false,\"id\":\"12712938464900079132\",\"value\":{}},\"click\":{\"sync\":false,\"id\":\"7078443303424842655\",\"value\":{}},\"image\":{\"sync\":true,\"id\":\"5759869204564566767\",\"value\":\"\"},\"__get_gd_contents\":{\"sync\":false,\"id\":\"850059494414228846\",\"value\":\"\"},\"_downloadImage\":{\"sync\":false,\"id\":\"2165473227487621710\",\"value\":{}},\"relayout\":{\"sync\":false,\"id\":\"6722086029156505044\",\"value\":{}},\"_commands\":{\"sync\":false,\"id\":\"25912657133577945\",\"value\":[]}}},\"children\":[{\"props\":{\"id\":\"plot-21561e8f-aefb-4af8-adb2-7f1a6e8b13b0\"},\"nodeType\":\"DOM\",\"type\":\"node\",\"instanceArgs\":{\"namespace\":\"html\",\"tag\":\"div\"},\"children\":[]}]},\n",
       "            window,\n",
       "        );\n",
       "    } else {\n",
       "        document\n",
       "            .querySelector('[data-webio-mountpoint=\"12546587429808247156\"]')\n",
       "            .innerHTML = (\n",
       "                '<div style=\"padding: 1em; background-color: #f8d6da; border: 1px solid #f5c6cb\">' +\n",
       "                '<p><strong>WebIO not detected.</strong></p>' +\n",
       "                '<p>Please read ' +\n",
       "                '<a href=\"https://juliagizmos.github.io/WebIO.jl/latest/troubleshooting/not-detected/\" target=\"_blank\">the troubleshooting guide</a> ' +\n",
       "                'for more information on how to resolve this issue.</p>' +\n",
       "                '<p><a href=\"https://juliagizmos.github.io/WebIO.jl/latest/troubleshooting/not-detected/\" target=\"_blank\">https://juliagizmos.github.io/WebIO.jl/latest/troubleshooting/not-detected/</a></p>' +\n",
       "                '</div>'\n",
       "            );\n",
       "    }\n",
       "    </script>\n",
       "</div>\n"
      ],
      "text/plain": [
       "data: [\n",
       "  \"scatter with fields marker, name, type, and y\",\n",
       "  \"scatter with fields marker, name, type, and y\",\n",
       "  \"scatter with fields marker, name, type, and y\",\n",
       "  \"scatter with fields marker, name, type, and y\"\n",
       "]\n",
       "\n",
       "layout: \"layout with fields font, height, margin, titlefont, width, xaxis, and yaxis\"\n",
       "\n"
      ]
     },
     "execution_count": 8,
     "metadata": {
      "application/vnd.webio.node+json": {
       "kernelId": "4b7ce2e0-2c08-477b-8954-48b2f5bea872"
      }
     },
     "output_type": "execute_result"
    }
   ],
   "source": [
    "# We use the modified Gram-Schmidt algorithm now\n",
    "A = Q*R\n",
    "MGS = geqrfMGS!(A);\n",
    "\n",
    "e = zeros(n)\n",
    "for j=1:n\n",
    "    e[j] = norm(Q[:,j]-A[:,j])\n",
    "end\n",
    "\n",
    "t1 = scatter(y=diag(R),name=\"r_kk\")\n",
    "t2 = scatter(y=diag(CGS),name=\"GS Classical\")\n",
    "t3 = scatter(y=diag(MGS),name=\"GS Modified\")\n",
    "t4 = scatter(y=e,name=\"Error in q_k\")\n",
    "p = plot([t1, t2, t3, t4],Layout(xaxis_title=\"Column index\",yaxis_title=\"Magnitude\",\n",
    "        yaxis_type=\"log\", width=500, height=300, margin=attr(l=80)))\n",
    "# It's way more accurate; we reach machine precision"
   ]
  },
  {
   "cell_type": "code",
   "execution_count": 9,
   "metadata": {},
   "outputs": [],
   "source": [
    "if output\n",
    "    plotToPDF(p,\"fig_cgs\")\n",
    "end"
   ]
  }
 ],
 "metadata": {
  "@webio": {
   "lastCommId": "e387883dffb84d538fe46f87468ca91b",
   "lastKernelId": "4b7ce2e0-2c08-477b-8954-48b2f5bea872"
  },
  "anaconda-cloud": {},
  "kernelspec": {
   "display_name": "Julia 1.5.1",
   "language": "julia",
   "name": "julia-1.5"
  },
  "language_info": {
   "file_extension": ".jl",
   "mimetype": "application/julia",
   "name": "julia",
   "version": "1.5.1"
  }
 },
 "nbformat": 4,
 "nbformat_minor": 4
}
