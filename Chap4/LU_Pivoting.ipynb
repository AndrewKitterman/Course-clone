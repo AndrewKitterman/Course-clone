{
 "cells": [
  {
   "cell_type": "code",
   "execution_count": 1,
   "metadata": {},
   "outputs": [
    {
     "data": {
      "text/plain": [
       "false"
      ]
     },
     "execution_count": 1,
     "metadata": {},
     "output_type": "execute_result"
    }
   ],
   "source": [
    "using LinearAlgebra\n",
    "using Random\n",
    "rng = MersenneTwister()\n",
    "Random.seed!(rng, 2018)\n",
    "output = false"
   ]
  },
  {
   "cell_type": "code",
   "execution_count": 2,
   "metadata": {},
   "outputs": [
    {
     "data": {
      "text/plain": [
       "6×6 Array{Float64,2}:\n",
       " -4.0   8.0  -9.0  -7.0  -5.0    8.0\n",
       "  4.0   0.0   2.0   1.0   2.0  -10.0\n",
       " -2.0   0.0   3.0  -4.0   3.0   -4.0\n",
       " -2.0   6.0  -8.0  -3.0  -4.0    4.0\n",
       "  4.0  -4.0   4.0   4.0   4.0   -4.0\n",
       "  0.0  -4.0   3.0   5.0   0.0    0.0"
      ]
     },
     "execution_count": 2,
     "metadata": {},
     "output_type": "execute_result"
    }
   ],
   "source": [
    "# Size of the matrix\n",
    "n = 64;\n",
    "\n",
    "# Random initialization of matrix A\n",
    "L = zeros(Float64,n,n)\n",
    "U = zeros(Float64,n,n)\n",
    "P = randperm(rng,n) # Randow row permutation\n",
    "for i=1:n\n",
    "    L[P[i],i] = 3 # Largest entry in the column\n",
    "    L[P[i+1:n],i] = rand(rng, -2:2, n-i)\n",
    "    U[i,i] = rand(rng, 1:2)\n",
    "    U[i,i+1:n] = rand(rng, -2:2, n-i)\n",
    "end\n",
    "A = L * U\n",
    "A0 = copy(A);\n",
    "A0[1:6,1:6]"
   ]
  },
  {
   "cell_type": "code",
   "execution_count": 3,
   "metadata": {},
   "outputs": [
    {
     "data": {
      "text/plain": [
       "1×64 Adjoint{Float64,Array{Float64,1}}:\n",
       " -878.0  451.0  270.0  -307.0  87.0  …  -949.0  427.0  -615.0  -95.0  158.0"
      ]
     },
     "execution_count": 3,
     "metadata": {},
     "output_type": "execute_result"
    }
   ],
   "source": [
    "# Initializing the right-hand side\n",
    "xe = rand(rng, 0:9, n) # This will be our solution\n",
    "b = A * xe\n",
    "b'"
   ]
  },
  {
   "cell_type": "code",
   "execution_count": 4,
   "metadata": {},
   "outputs": [
    {
     "data": {
      "text/plain": [
       "getrs (generic function with 3 methods)"
      ]
     },
     "execution_count": 4,
     "metadata": {},
     "output_type": "execute_result"
    }
   ],
   "source": [
    "include(\"../src/getrf.jl\")"
   ]
  },
  {
   "cell_type": "code",
   "execution_count": 5,
   "metadata": {},
   "outputs": [
    {
     "name": "stderr",
     "output_type": "stream",
     "text": [
      "┌ Info: getrf!: permutation is correct\n",
      "└ @ Main In[5]:5\n",
      "┌ Info: getrf!: solution is correct\n",
      "└ @ Main In[5]:11\n"
     ]
    }
   ],
   "source": [
    "A = copy(A0)\n",
    "P0 = copy(P) # Save the reference permutation we initialized above\n",
    "P = getrf!(A) \n",
    "if P == P0\n",
    "    @info \"getrf!: permutation is correct\"\n",
    "end\n",
    "\n",
    "# Solve\n",
    "x = getrs(A, P, b)\n",
    "if x == xe # No roundoff error should occur for this example\n",
    "    @info \"getrf!: solution is correct\"\n",
    "end"
   ]
  },
  {
   "cell_type": "code",
   "execution_count": 6,
   "metadata": {},
   "outputs": [
    {
     "data": {
      "text/plain": [
       "flip_last_bit (generic function with 1 method)"
      ]
     },
     "execution_count": 6,
     "metadata": {},
     "output_type": "execute_result"
    }
   ],
   "source": [
    "function flip_last_bit(A)\n",
    "    B = Matrix{Float64}(undef,size(A))\n",
    "    for j=1:size(A,2)\n",
    "        for i=1:size(A,1)\n",
    "            last_bit_flpd = xor( Int64( significand(A[i,j]) / eps(Float64) ), 1)\n",
    "            B[i,j] = (2.0^exponent(A[i,j])) * (Float64(last_bit_flpd) * eps(Float64))\n",
    "        end\n",
    "    end\n",
    "    return B\n",
    "end"
   ]
  },
  {
   "cell_type": "code",
   "execution_count": 7,
   "metadata": {},
   "outputs": [
    {
     "data": {
      "text/plain": [
       "\"TEST PASSED\""
      ]
     },
     "execution_count": 7,
     "metadata": {},
     "output_type": "execute_result"
    }
   ],
   "source": [
    "# Test flip_last_bit()\n",
    "ntrial = 128\n",
    "x = (1<<20) * ( randn(ntrial,ntrial) .- 0.5 )\n",
    "# This test will fail if you modify flip_last_bit()\n",
    "# You can still run the rest of the script safely\n",
    "abs.(x - flip_last_bit(x)) == eps(Float64) * (2.0.^exponent.(x)) ? \"TEST PASSED\" : \"TEST FAILED\""
   ]
  },
  {
   "cell_type": "code",
   "execution_count": 8,
   "metadata": {},
   "outputs": [],
   "source": [
    "# Test the accuracy of the solver\n",
    "# Random orthonormal matrix Q\n",
    "X = rand(rng, n,n)\n",
    "Q,R = qr(X)\n",
    "b = randn(rng, n)\n",
    "ntrial = 64\n",
    "e = Matrix{Float64}(undef,2,ntrial)\n",
    "for k=1:ntrial\n",
    "    # Diagonal\n",
    "    d = fill(1.0,n); d[n-k+1:end] = (1.0/2.0).^(1:k)\n",
    "    A = Q * diagm(0 => d) * transpose(Q)\n",
    "    # Make a small change\n",
    "    B = flip_last_bit(A)    \n",
    "    xe = A\\b\n",
    "    xf = B\\b\n",
    "    P = getrf!(A)\n",
    "    x = getrs(A, P, b)\n",
    "    e[1,k] = norm(x-xe) / norm(xe)\n",
    "    e[2,k] = norm(xf-xe) / norm(xe)\n",
    "end"
   ]
  },
  {
   "cell_type": "code",
   "execution_count": 9,
   "metadata": {},
   "outputs": [
    {
     "data": {
      "text/html": [
       "    <script class='js-collapse-script'>\n",
       "        var curMatch =\n",
       "            window.location.href\n",
       "            .match(/(.*?)\\/notebooks\\/.*\\.ipynb/);\n",
       "\n",
       "        curMatch = curMatch ||\n",
       "            window.location.href\n",
       "            .match(/(.*?)\\/apps\\/.*\\.ipynb/);\n",
       "\n",
       "        if ( curMatch ) {\n",
       "            $('head').append('<base href=\"' + curMatch[1] + '/\">');\n",
       "        }\n",
       "    </script>\n"
      ],
      "text/plain": [
       "HTML{String}(\"    <script class='js-collapse-script'>\\n        var curMatch =\\n            window.location.href\\n            .match(/(.*?)\\\\/notebooks\\\\/.*\\\\.ipynb/);\\n\\n        curMatch = curMatch ||\\n            window.location.href\\n            .match(/(.*?)\\\\/apps\\\\/.*\\\\.ipynb/);\\n\\n        if ( curMatch ) {\\n            \\$('head').append('<base href=\\\"' + curMatch[1] + '/\\\">');\\n        }\\n    </script>\\n\")"
      ]
     },
     "metadata": {},
     "output_type": "display_data"
    },
    {
     "data": {
      "text/html": [
       "<script class='js-collapse-script' src='/assetserver/f562d6507acc94a42cdf3b074249b311a179837e-assets/webio/dist/bundle.js'></script>"
      ],
      "text/plain": [
       "HTML{String}(\"<script class='js-collapse-script' src='/assetserver/f562d6507acc94a42cdf3b074249b311a179837e-assets/webio/dist/bundle.js'></script>\")"
      ]
     },
     "metadata": {},
     "output_type": "display_data"
    },
    {
     "data": {
      "text/html": [
       "<script class='js-collapse-script' src='/assetserver/f562d6507acc94a42cdf3b074249b311a179837e-assets/providers/ijulia_setup.js'></script>"
      ],
      "text/plain": [
       "HTML{String}(\"<script class='js-collapse-script' src='/assetserver/f562d6507acc94a42cdf3b074249b311a179837e-assets/providers/ijulia_setup.js'></script>\")"
      ]
     },
     "metadata": {},
     "output_type": "display_data"
    },
    {
     "data": {
      "text/html": [
       "  <script class='js-collapse-script'>\n",
       "    $('.js-collapse-script').parent('.output_subarea').css('padding', '0');\n",
       "  </script>\n"
      ],
      "text/plain": [
       "HTML{String}(\"  <script class='js-collapse-script'>\\n    \\$('.js-collapse-script').parent('.output_subarea').css('padding', '0');\\n  </script>\\n\")"
      ]
     },
     "metadata": {},
     "output_type": "display_data"
    },
    {
     "data": {
      "text/plain": [
       "plotToPDF (generic function with 1 method)"
      ]
     },
     "execution_count": 9,
     "metadata": {},
     "output_type": "execute_result"
    }
   ],
   "source": [
    "include(\"../load_plot_pkg.jl\")"
   ]
  },
  {
   "cell_type": "code",
   "execution_count": 10,
   "metadata": {},
   "outputs": [
    {
     "data": {
      "text/html": [
       "<div class='display:none'></div><unsafe-script style='display:none'>\n",
       "WebIO.mount(this.previousSibling,{&quot;props&quot;:{},&quot;nodeType&quot;:&quot;Scope&quot;,&quot;type&quot;:&quot;node&quot;,&quot;instanceArgs&quot;:{&quot;imports&quot;:{&quot;data&quot;:[{&quot;name&quot;:&quot;Plotly&quot;,&quot;type&quot;:&quot;js&quot;,&quot;url&quot;:&quot;/assetserver/1e2c0da7fbe518270434b2ec2c46e20d1e0891d6-plotly-latest.min.js&quot;},{&quot;name&quot;:null,&quot;type&quot;:&quot;js&quot;,&quot;url&quot;:&quot;/assetserver/2009f112a9eee3177314b516a62b493c2ea5b3f5-plotly_webio.bundle.js&quot;}],&quot;type&quot;:&quot;async_block&quot;},&quot;id&quot;:&quot;scope-d88cf58c-0789-4aa2-9861-c79cfc6a0423&quot;,&quot;handlers&quot;:{&quot;_toImage&quot;:[(function (options){return this.Plotly.toImage(this.plotElem,options).then((function (data){return WebIO.setval({&quot;name&quot;:&quot;image&quot;,&quot;scope&quot;:&quot;scope-d88cf58c-0789-4aa2-9861-c79cfc6a0423&quot;,&quot;id&quot;:&quot;ob_05&quot;,&quot;type&quot;:&quot;observable&quot;},data)}))})],&quot;__get_gd_contents&quot;:[(function (prop){prop==&quot;data&quot; ? (WebIO.setval({&quot;name&quot;:&quot;__gd_contents&quot;,&quot;scope&quot;:&quot;scope-d88cf58c-0789-4aa2-9861-c79cfc6a0423&quot;,&quot;id&quot;:&quot;ob_06&quot;,&quot;type&quot;:&quot;observable&quot;},this.plotElem.data)) : undefined; return prop==&quot;layout&quot; ? (WebIO.setval({&quot;name&quot;:&quot;__gd_contents&quot;,&quot;scope&quot;:&quot;scope-d88cf58c-0789-4aa2-9861-c79cfc6a0423&quot;,&quot;id&quot;:&quot;ob_06&quot;,&quot;type&quot;:&quot;observable&quot;},this.plotElem.layout)) : undefined})],&quot;_promises&quot;:{&quot;importsLoaded&quot;:[(function (Plotly){var gd=this.dom.querySelector(&quot;#plot-bcaea8db-6b4c-4326-88b8-4d7239c0737c&quot;); this.plotElem=gd; this.Plotly=Plotly; (window.Blink!==undefined) ? (gd.style.width=&quot;100%&quot;, gd.style.height=&quot;100vh&quot;, gd.style.marginLeft=&quot;0%&quot;, gd.style.marginTop=&quot;0vh&quot;) : undefined; window.onresize=(function (){return Plotly.Plots.resize(gd)}); Plotly.newPlot(gd,[{&quot;marker&quot;:{&quot;color&quot;:&quot;#E24A33&quot;,&quot;line&quot;:{&quot;color&quot;:&quot;#348ABD&quot;,&quot;width&quot;:0.5},&quot;size&quot;:10},&quot;y&quot;:[2.7459870679686333e-16,3.3564625807695514e-16,2.544421554057234e-16,4.648808509775238e-16,1.1734987384041638e-15,1.2658355168197791e-15,2.8570039960063658e-15,1.4780162155847632e-14,1.403592903454203e-14,7.692170474516186e-14,1.410625642129358e-13,1.453814806362715e-13,4.275692735578436e-13,1.4567040655163147e-12,4.763468290853902e-13,2.343074810196215e-12,1.640452282929067e-12,3.697598182374236e-12,3.699440640158287e-11,3.2267743059229e-11,4.17440071701736e-11,3.1752821112852104e-10,1.857642540941756e-10,5.062764161935808e-10,1.6188233602690137e-9,9.857474830090347e-10,2.8709752843223033e-9,4.534894198817881e-9,2.305213392313394e-8,1.3892736721547684e-8,2.680648270107067e-8,1.1117024671810634e-7,1.0370465432946885e-7,1.5426733944692799e-6,7.231834838135774e-7,9.458659887483197e-7,1.5608779137927004e-6,5.669551192979489e-6,6.537550168696374e-6,4.923430910724187e-6,0.00011742267501626267,4.163045022475753e-5,0.00019562955241561838,0.00014743100410684066,0.0014388374437408766,0.0009034839903529963,0.0021965523841089027,0.004091721777388997,0.008416442294305706,0.016088285316738598,0.018724145210457233,0.022646356160237455,0.04193247362549232,0.2746449919770712,0.13709604467509484,1.1846777465536595,0.4624316857901507,3.174123228708136,22.83957204342748,2.293045974109274,0.7739753000115581,1.1700742824679358,3.74063187863955,3.74063187863955],&quot;type&quot;:&quot;scatter&quot;,&quot;name&quot;:&quot;Pivoted LU&quot;,&quot;x&quot;:[1,2,3,4,5,6,7,8,9,10,11,12,13,14,15,16,17,18,19,20,21,22,23,24,25,26,27,28,29,30,31,32,33,34,35,36,37,38,39,40,41,42,43,44,45,46,47,48,49,50,51,52,53,54,55,56,57,58,59,60,61,62,63,64]},{&quot;marker&quot;:{&quot;color&quot;:&quot;#348ABD&quot;,&quot;line&quot;:{&quot;color&quot;:&quot;#348ABD&quot;,&quot;width&quot;:0.5},&quot;size&quot;:10},&quot;y&quot;:[1.5725285379337652e-16,2.345177431103714e-16,2.594585925834586e-16,1.0159144324605305e-15,1.4401342838803271e-15,2.0903985953768042e-15,5.316063849638982e-15,9.175646270361319e-15,1.5514412025245804e-14,2.7267625883737094e-14,3.189444944293773e-14,8.222970671204346e-14,5.204120714876027e-13,5.682495548821628e-13,1.6615707021351086e-12,1.8807980141472206e-12,2.7285402557141953e-12,5.9542105849441e-12,2.0128220781643376e-11,3.4713598652568425e-11,4.531134407128448e-11,2.0680449689241797e-11,2.2654464653640042e-10,2.7059523336189034e-10,5.802399230468366e-10,2.344235741205181e-9,4.601551099011563e-9,6.610223493081164e-9,1.7125280827677645e-8,1.3530913088650742e-8,3.870365097984317e-8,8.969356302663443e-8,1.0671724533374157e-7,1.1159070553184357e-7,3.1279450850989163e-7,2.405205157161108e-6,2.4621420043048895e-6,7.07916339359184e-6,1.0961971608244546e-5,3.969280464122968e-5,3.8174441764779716e-5,0.00011021349478883272,0.00012120569470456552,0.0011581836959075197,0.0005916420900551446,0.0007815854668531226,0.0028518726960032946,0.009543646960058879,0.004655788422232222,0.005933918467387276,0.025885630100368595,0.04583681184513595,0.04238653866358418,0.38500427798799153,0.3528110820349835,1.1240088220361988,0.633671803773728,4.952071907481318,0.7238140154927486,1.0435622965008688,3.3116581428528304,1.0479272023811352,11.257644963996444,11.257644963996444],&quot;type&quot;:&quot;scatter&quot;,&quot;name&quot;:&quot;Perturbed Input using \\\\&quot;,&quot;x&quot;:[1,2,3,4,5,6,7,8,9,10,11,12,13,14,15,16,17,18,19,20,21,22,23,24,25,26,27,28,29,30,31,32,33,34,35,36,37,38,39,40,41,42,43,44,45,46,47,48,49,50,51,52,53,54,55,56,57,58,59,60,61,62,63,64]}],{&quot;xaxis&quot;:{&quot;showgrid&quot;:true,&quot;gridcolor&quot;:&quot;#E5E5E5&quot;,&quot;titlefont&quot;:{&quot;color&quot;:&quot;#555555&quot;,&quot;size&quot;:18},&quot;zeroline&quot;:false,&quot;ticks&quot;:&quot;inside&quot;,&quot;title&quot;:&quot;Matrix index&quot;,&quot;linewidth&quot;:1.0,&quot;mirror&quot;:true,&quot;linecolor&quot;:&quot;black&quot;},&quot;titlefont&quot;:{&quot;size&quot;:18},&quot;font&quot;:{&quot;size&quot;:16},&quot;height&quot;:350,&quot;margin&quot;:{&quot;l&quot;:50,&quot;b&quot;:50,&quot;r&quot;:50,&quot;t&quot;:60},&quot;yaxis&quot;:{&quot;showgrid&quot;:true,&quot;gridcolor&quot;:&quot;#E5E5E5&quot;,&quot;titlefont&quot;:{&quot;color&quot;:&quot;#555555&quot;,&quot;size&quot;:18},&quot;zeroline&quot;:false,&quot;type&quot;:&quot;log&quot;,&quot;ticks&quot;:&quot;inside&quot;,&quot;title&quot;:&quot;Error&quot;,&quot;linewidth&quot;:1.0,&quot;mirror&quot;:true,&quot;linecolor&quot;:&quot;black&quot;},&quot;width&quot;:580},{}); gd.on(&quot;plotly_hover&quot;,(function (data){var filtered_data=WebIO.CommandSets.Plotly.filterEventData(gd,data,&quot;hover&quot;); return !(filtered_data.isnil) ? (WebIO.setval({&quot;name&quot;:&quot;hover&quot;,&quot;scope&quot;:&quot;scope-d88cf58c-0789-4aa2-9861-c79cfc6a0423&quot;,&quot;id&quot;:&quot;ob_01&quot;,&quot;type&quot;:&quot;observable&quot;},filtered_data.out)) : undefined})); gd.on(&quot;plotly_unhover&quot;,(function (){return WebIO.setval({&quot;name&quot;:&quot;hover&quot;,&quot;scope&quot;:&quot;scope-d88cf58c-0789-4aa2-9861-c79cfc6a0423&quot;,&quot;id&quot;:&quot;ob_01&quot;,&quot;type&quot;:&quot;observable&quot;},{})})); gd.on(&quot;plotly_selected&quot;,(function (data){var filtered_data=WebIO.CommandSets.Plotly.filterEventData(gd,data,&quot;selected&quot;); return !(filtered_data.isnil) ? (WebIO.setval({&quot;name&quot;:&quot;selected&quot;,&quot;scope&quot;:&quot;scope-d88cf58c-0789-4aa2-9861-c79cfc6a0423&quot;,&quot;id&quot;:&quot;ob_02&quot;,&quot;type&quot;:&quot;observable&quot;},filtered_data.out)) : undefined})); gd.on(&quot;plotly_deselect&quot;,(function (){return WebIO.setval({&quot;name&quot;:&quot;selected&quot;,&quot;scope&quot;:&quot;scope-d88cf58c-0789-4aa2-9861-c79cfc6a0423&quot;,&quot;id&quot;:&quot;ob_02&quot;,&quot;type&quot;:&quot;observable&quot;},{})})); gd.on(&quot;plotly_relayout&quot;,(function (data){var filtered_data=WebIO.CommandSets.Plotly.filterEventData(gd,data,&quot;relayout&quot;); return !(filtered_data.isnil) ? (WebIO.setval({&quot;name&quot;:&quot;relayout&quot;,&quot;scope&quot;:&quot;scope-d88cf58c-0789-4aa2-9861-c79cfc6a0423&quot;,&quot;id&quot;:&quot;ob_04&quot;,&quot;type&quot;:&quot;observable&quot;},filtered_data.out)) : undefined})); return gd.on(&quot;plotly_click&quot;,(function (data){var filtered_data=WebIO.CommandSets.Plotly.filterEventData(gd,data,&quot;click&quot;); return !(filtered_data.isnil) ? (WebIO.setval({&quot;name&quot;:&quot;click&quot;,&quot;scope&quot;:&quot;scope-d88cf58c-0789-4aa2-9861-c79cfc6a0423&quot;,&quot;id&quot;:&quot;ob_03&quot;,&quot;type&quot;:&quot;observable&quot;},filtered_data.out)) : undefined}))})]},&quot;_downloadImage&quot;:[(function (options){return this.Plotly.downloadImage(this.plotElem,options)})],&quot;_commands&quot;:[(function (args){var fn=args.shift(); var elem=this.plotElem; var Plotly=this.Plotly; args.unshift(elem); return Plotly[fn].apply(this,args)})]},&quot;systemjs_options&quot;:null,&quot;observables&quot;:{&quot;_toImage&quot;:{&quot;sync&quot;:false,&quot;id&quot;:&quot;ob_08&quot;,&quot;value&quot;:{}},&quot;hover&quot;:{&quot;sync&quot;:false,&quot;id&quot;:&quot;ob_01&quot;,&quot;value&quot;:{}},&quot;selected&quot;:{&quot;sync&quot;:false,&quot;id&quot;:&quot;ob_02&quot;,&quot;value&quot;:{}},&quot;__gd_contents&quot;:{&quot;sync&quot;:false,&quot;id&quot;:&quot;ob_06&quot;,&quot;value&quot;:{}},&quot;click&quot;:{&quot;sync&quot;:false,&quot;id&quot;:&quot;ob_03&quot;,&quot;value&quot;:{}},&quot;image&quot;:{&quot;sync&quot;:true,&quot;id&quot;:&quot;ob_05&quot;,&quot;value&quot;:&quot;&quot;},&quot;__get_gd_contents&quot;:{&quot;sync&quot;:false,&quot;id&quot;:&quot;ob_10&quot;,&quot;value&quot;:&quot;&quot;},&quot;_downloadImage&quot;:{&quot;sync&quot;:false,&quot;id&quot;:&quot;ob_09&quot;,&quot;value&quot;:{}},&quot;relayout&quot;:{&quot;sync&quot;:false,&quot;id&quot;:&quot;ob_04&quot;,&quot;value&quot;:{}},&quot;_commands&quot;:{&quot;sync&quot;:false,&quot;id&quot;:&quot;ob_07&quot;,&quot;value&quot;:[]}}},&quot;children&quot;:[{&quot;props&quot;:{&quot;id&quot;:&quot;plot-bcaea8db-6b4c-4326-88b8-4d7239c0737c&quot;},&quot;nodeType&quot;:&quot;DOM&quot;,&quot;type&quot;:&quot;node&quot;,&quot;instanceArgs&quot;:{&quot;namespace&quot;:&quot;html&quot;,&quot;tag&quot;:&quot;div&quot;},&quot;children&quot;:[]}]})</unsafe-script>"
      ],
      "text/plain": [
       "data: [\n",
       "  \"scatter with fields marker, name, type, x, and y\",\n",
       "  \"scatter with fields marker, name, type, x, and y\"\n",
       "]\n",
       "\n",
       "layout: \"layout with fields font, height, margin, titlefont, width, xaxis, and yaxis\"\n",
       "\n"
      ]
     },
     "execution_count": 10,
     "metadata": {},
     "output_type": "execute_result"
    }
   ],
   "source": [
    "# Re-run all cells to get the plot below\n",
    "t1 = scatter(x=1:n,y=e[1,:],name=\"Pivoted LU\")\n",
    "t2 = scatter(x=1:n,y=e[2,:],name=\"Perturbed Input using \\\\\")\n",
    "l = Layout(yaxis_type=\"log\",xaxis_title=\"Matrix index\",yaxis_title=\"Error\",\n",
    "    height=350,width=580)\n",
    "p = plot([t1, t2],l)"
   ]
  },
  {
   "cell_type": "code",
   "execution_count": 11,
   "metadata": {},
   "outputs": [],
   "source": [
    "if output\n",
    "    plotToPDF(p,\"fig_lu1\")\n",
    "end"
   ]
  }
 ],
 "metadata": {
  "kernelspec": {
   "display_name": "Julia 1.0.0",
   "language": "julia",
   "name": "julia-1.0"
  },
  "language_info": {
   "file_extension": ".jl",
   "mimetype": "application/julia",
   "name": "julia",
   "version": "1.0.0"
  }
 },
 "nbformat": 4,
 "nbformat_minor": 1
}
