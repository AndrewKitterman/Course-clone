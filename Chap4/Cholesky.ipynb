{
 "cells": [
  {
   "cell_type": "code",
   "execution_count": 1,
   "metadata": {},
   "outputs": [],
   "source": [
    "using LinearAlgebra\n",
    "using Random\n",
    "rng = MersenneTwister()\n",
    "Random.seed!(rng, 2018)\n",
    ";"
   ]
  },
  {
   "cell_type": "code",
   "execution_count": 2,
   "metadata": {},
   "outputs": [],
   "source": [
    "# Size of the matrix\n",
    "n = 512;\n",
    "\n",
    "# Random initialization of matrix A\n",
    "G = zeros(Float64,n,n)\n",
    "for i=1:n\n",
    "    G[i,i] = rand(rng, 1:2)\n",
    "    G[i+1:n,i] = rand(rng, -2:2, n-i)\n",
    "end\n",
    "A = G * transpose(G)\n",
    "A0 = copy(A);"
   ]
  },
  {
   "cell_type": "code",
   "execution_count": 3,
   "metadata": {},
   "outputs": [
    {
     "data": {
      "text/plain": [
       "1×512 Adjoint{Float64,Array{Float64,1}}:\n",
       " -4.0  -228.0  -69.0  -485.0  -564.0  …  8753.0  -261.0  4119.0  8767.0"
      ]
     },
     "execution_count": 3,
     "metadata": {},
     "output_type": "execute_result"
    }
   ],
   "source": [
    "# Initializing the right-hand side\n",
    "xe = rand(rng, 0:9, n) # This will be our solution\n",
    "b = A * xe\n",
    "b'"
   ]
  },
  {
   "cell_type": "code",
   "execution_count": 4,
   "metadata": {},
   "outputs": [
    {
     "data": {
      "text/plain": [
       "potrs (generic function with 1 method)"
      ]
     },
     "execution_count": 4,
     "metadata": {},
     "output_type": "execute_result"
    }
   ],
   "source": [
    "include(\"../src/getrf.jl\")\n",
    "include(\"../src/potrf.jl\")"
   ]
  },
  {
   "cell_type": "code",
   "execution_count": 5,
   "metadata": {},
   "outputs": [
    {
     "name": "stdout",
     "output_type": "stream",
     "text": [
      "  0.061692 seconds (29.72 k allocations: 1.431 MiB)\n"
     ]
    },
    {
     "data": {
      "text/plain": [
       "\"TEST PASSED\""
      ]
     },
     "execution_count": 5,
     "metadata": {},
     "output_type": "execute_result"
    }
   ],
   "source": [
    "A = copy(A0)\n",
    "@time potrf!(A)\n",
    "# Solve\n",
    "x = potrs(A, b)\n",
    "norm(x - xe) == 0 ? \"TEST PASSED\" : \"TEST FAILED\""
   ]
  },
  {
   "cell_type": "code",
   "execution_count": 6,
   "metadata": {},
   "outputs": [
    {
     "name": "stdout",
     "output_type": "stream",
     "text": [
      "  0.226570 seconds (396.66 k allocations: 21.444 MiB, 2.11% gc time)\n",
      "  0.019007 seconds (4 allocations: 160 bytes)\n"
     ]
    }
   ],
   "source": [
    "# Compare with LU factorization\n",
    "A = copy(A0)\n",
    "@time getrf!(A);\n",
    "A = copy(A0)\n",
    "@time potrf!(A)"
   ]
  }
 ],
 "metadata": {
  "kernelspec": {
   "display_name": "Julia 1.0.0",
   "language": "julia",
   "name": "julia-1.0"
  },
  "language_info": {
   "file_extension": ".jl",
   "mimetype": "application/julia",
   "name": "julia",
   "version": "1.0.0"
  }
 },
 "nbformat": 4,
 "nbformat_minor": 1
}
