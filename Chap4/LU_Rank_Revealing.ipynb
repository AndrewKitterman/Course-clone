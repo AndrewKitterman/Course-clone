{
 "cells": [
  {
   "cell_type": "code",
   "execution_count": 1,
   "metadata": {},
   "outputs": [],
   "source": [
    "using LinearAlgebra\n",
    "using Random\n",
    "rng = MersenneTwister()\n",
    "Random.seed!(rng, 2018)\n",
    "output = false\n",
    ";"
   ]
  },
  {
   "cell_type": "code",
   "execution_count": 2,
   "metadata": {},
   "outputs": [],
   "source": [
    "# Size of the matrix\n",
    "n = 24;"
   ]
  },
  {
   "cell_type": "code",
   "execution_count": 3,
   "metadata": {},
   "outputs": [
    {
     "data": {
      "text/plain": [
       "getrs (generic function with 3 methods)"
      ]
     },
     "execution_count": 3,
     "metadata": {},
     "output_type": "execute_result"
    }
   ],
   "source": [
    "include(\"../src/getrf.jl\")"
   ]
  },
  {
   "cell_type": "code",
   "execution_count": 4,
   "metadata": {},
   "outputs": [],
   "source": [
    "# Initialize matrix\n",
    "d = (1.0/2.0).^(n-1:-1:0)\n",
    "Q, = qr(rand(n,n))\n",
    "A = Q * diagm(0 => d);"
   ]
  },
  {
   "cell_type": "code",
   "execution_count": 5,
   "metadata": {},
   "outputs": [
    {
     "name": "stdout",
     "output_type": "stream",
     "text": [
      "norm(x1 - x2) / norm(x2) = 3.557971025263982e-16\n"
     ]
    },
    {
     "data": {
      "text/plain": [
       "\"TEST PASSED\""
      ]
     },
     "execution_count": 5,
     "metadata": {},
     "output_type": "execute_result"
    }
   ],
   "source": [
    "# Testing rook pivoting kernel\n",
    "b = rand(n)\n",
    "x1 = (A1 = copy(A); P = getrf!(A1); getrs(A1, P, b))\n",
    "x2 = (A1 = copy(A); (P_row, P_col) = getrfRook!(A1); getrs(A1, P_row, P_col, b))\n",
    "@show norm(x1-x2)/norm(x2)\n",
    "norm(x1-x2)/norm(x2) < 1e2*eps(Float64) ? \"TEST PASSED\" : \"TEST FAILED\""
   ]
  },
  {
   "cell_type": "code",
   "execution_count": 6,
   "metadata": {},
   "outputs": [
    {
     "name": "stdout",
     "output_type": "stream",
     "text": [
      "  0.000031 seconds (149 allocations: 16.484 KiB)\n",
      "  0.000029 seconds (199 allocations: 37.906 KiB)\n"
     ]
    }
   ],
   "source": [
    "dA = Array{Float64}(undef,n,3)\n",
    "A1 = copy(A)\n",
    "@time getrf!(A1)\n",
    "dA[:,1] = abs.(diag(A1))\n",
    "\n",
    "A1 = copy(A)\n",
    "@time getrfRook!(A1)\n",
    "dA[:,2] = abs.(diag(A1));\n",
    "\n",
    "# These are the sorted singular values of the matrix\n",
    "dA[:,3] = sort(d)[n:-1:1]; "
   ]
  },
  {
   "cell_type": "code",
   "execution_count": 7,
   "metadata": {},
   "outputs": [
    {
     "data": {
      "text/html": [
       "    <script class='js-collapse-script'>\n",
       "        var curMatch =\n",
       "            window.location.href\n",
       "            .match(/(.*?)\\/notebooks\\/.*\\.ipynb/);\n",
       "\n",
       "        curMatch = curMatch ||\n",
       "            window.location.href\n",
       "            .match(/(.*?)\\/apps\\/.*\\.ipynb/);\n",
       "\n",
       "        if ( curMatch ) {\n",
       "            $('head').append('<base href=\"' + curMatch[1] + '/\">');\n",
       "        }\n",
       "    </script>\n"
      ],
      "text/plain": [
       "HTML{String}(\"    <script class='js-collapse-script'>\\n        var curMatch =\\n            window.location.href\\n            .match(/(.*?)\\\\/notebooks\\\\/.*\\\\.ipynb/);\\n\\n        curMatch = curMatch ||\\n            window.location.href\\n            .match(/(.*?)\\\\/apps\\\\/.*\\\\.ipynb/);\\n\\n        if ( curMatch ) {\\n            \\$('head').append('<base href=\\\"' + curMatch[1] + '/\\\">');\\n        }\\n    </script>\\n\")"
      ]
     },
     "metadata": {},
     "output_type": "display_data"
    },
    {
     "data": {
      "text/html": [
       "<script class='js-collapse-script' src='/assetserver/f562d6507acc94a42cdf3b074249b311a179837e-assets/webio/dist/bundle.js'></script>"
      ],
      "text/plain": [
       "HTML{String}(\"<script class='js-collapse-script' src='/assetserver/f562d6507acc94a42cdf3b074249b311a179837e-assets/webio/dist/bundle.js'></script>\")"
      ]
     },
     "metadata": {},
     "output_type": "display_data"
    },
    {
     "data": {
      "text/html": [
       "<script class='js-collapse-script' src='/assetserver/f562d6507acc94a42cdf3b074249b311a179837e-assets/providers/ijulia_setup.js'></script>"
      ],
      "text/plain": [
       "HTML{String}(\"<script class='js-collapse-script' src='/assetserver/f562d6507acc94a42cdf3b074249b311a179837e-assets/providers/ijulia_setup.js'></script>\")"
      ]
     },
     "metadata": {},
     "output_type": "display_data"
    },
    {
     "data": {
      "text/html": [
       "  <script class='js-collapse-script'>\n",
       "    $('.js-collapse-script').parent('.output_subarea').css('padding', '0');\n",
       "  </script>\n"
      ],
      "text/plain": [
       "HTML{String}(\"  <script class='js-collapse-script'>\\n    \\$('.js-collapse-script').parent('.output_subarea').css('padding', '0');\\n  </script>\\n\")"
      ]
     },
     "metadata": {},
     "output_type": "display_data"
    },
    {
     "data": {
      "text/plain": [
       "plotToPDF (generic function with 1 method)"
      ]
     },
     "execution_count": 7,
     "metadata": {},
     "output_type": "execute_result"
    }
   ],
   "source": [
    "include(\"../load_plot_pkg.jl\")"
   ]
  },
  {
   "cell_type": "code",
   "execution_count": 8,
   "metadata": {},
   "outputs": [
    {
     "data": {
      "text/html": [
       "<div class='display:none'></div><unsafe-script style='display:none'>\n",
       "WebIO.mount(this.previousSibling,{&quot;props&quot;:{},&quot;nodeType&quot;:&quot;Scope&quot;,&quot;type&quot;:&quot;node&quot;,&quot;instanceArgs&quot;:{&quot;imports&quot;:{&quot;data&quot;:[{&quot;name&quot;:&quot;Plotly&quot;,&quot;type&quot;:&quot;js&quot;,&quot;url&quot;:&quot;/assetserver/1e2c0da7fbe518270434b2ec2c46e20d1e0891d6-plotly-latest.min.js&quot;},{&quot;name&quot;:null,&quot;type&quot;:&quot;js&quot;,&quot;url&quot;:&quot;/assetserver/2009f112a9eee3177314b516a62b493c2ea5b3f5-plotly_webio.bundle.js&quot;}],&quot;type&quot;:&quot;async_block&quot;},&quot;id&quot;:&quot;scope-d88cf58c-0789-4aa2-9861-c79cfc6a0423&quot;,&quot;handlers&quot;:{&quot;_toImage&quot;:[(function (options){return this.Plotly.toImage(this.plotElem,options).then((function (data){return WebIO.setval({&quot;name&quot;:&quot;image&quot;,&quot;scope&quot;:&quot;scope-d88cf58c-0789-4aa2-9861-c79cfc6a0423&quot;,&quot;id&quot;:&quot;ob_05&quot;,&quot;type&quot;:&quot;observable&quot;},data)}))})],&quot;__get_gd_contents&quot;:[(function (prop){prop==&quot;data&quot; ? (WebIO.setval({&quot;name&quot;:&quot;__gd_contents&quot;,&quot;scope&quot;:&quot;scope-d88cf58c-0789-4aa2-9861-c79cfc6a0423&quot;,&quot;id&quot;:&quot;ob_06&quot;,&quot;type&quot;:&quot;observable&quot;},this.plotElem.data)) : undefined; return prop==&quot;layout&quot; ? (WebIO.setval({&quot;name&quot;:&quot;__gd_contents&quot;,&quot;scope&quot;:&quot;scope-d88cf58c-0789-4aa2-9861-c79cfc6a0423&quot;,&quot;id&quot;:&quot;ob_06&quot;,&quot;type&quot;:&quot;observable&quot;},this.plotElem.layout)) : undefined})],&quot;_promises&quot;:{&quot;importsLoaded&quot;:[(function (Plotly){var gd=this.dom.querySelector(&quot;#plot-df8c717b-9234-4906-badb-f81e27b76a8b&quot;); this.plotElem=gd; this.Plotly=Plotly; (window.Blink!==undefined) ? (gd.style.width=&quot;100%&quot;, gd.style.height=&quot;100vh&quot;, gd.style.marginLeft=&quot;0%&quot;, gd.style.marginTop=&quot;0vh&quot;) : undefined; window.onresize=(function (){return Plotly.Plots.resize(gd)}); Plotly.newPlot(gd,[{&quot;marker&quot;:{&quot;color&quot;:&quot;#E24A33&quot;,&quot;line&quot;:{&quot;color&quot;:&quot;#348ABD&quot;,&quot;width&quot;:0.5},&quot;size&quot;:10},&quot;y&quot;:[4.162601351669624e-8,1.1043319609830254e-7,3.234097855172869e-7,5.463153094258739e-7,1.03031416926518e-6,3.096526391386437e-6,7.484435245930165e-6,8.59985351934164e-6,2.6458427632458473e-5,5.595397905353622e-5,0.0001328287299542031,0.0002014918881666371,0.00045220007379564656,0.0006470860654394238,0.0021087529368497937,0.006144791056069958,0.006840806650414295,0.0315633775788667,0.0668301636998876,0.10344969117560106,0.23808735994257763,0.5000795396618603,0.8782285481666957,2.1058143596398233],&quot;type&quot;:&quot;scatter&quot;,&quot;name&quot;:&quot;Pivoted LU&quot;,&quot;x&quot;:[1,2,3,4,5,6,7,8,9,10,11,12,13,14,15,16,17,18,19,20,21,22,23,24]},{&quot;marker&quot;:{&quot;color&quot;:&quot;#348ABD&quot;,&quot;line&quot;:{&quot;color&quot;:&quot;#348ABD&quot;,&quot;width&quot;:0.5},&quot;size&quot;:10},&quot;y&quot;:[0.09632832519664633,0.4038562155497344,0.28786788668758767,0.06424145332511001,0.037530186873309834,0.011042037186371166,0.019790435354946442,0.002739549208004566,0.0017897380553648875,0.004539417897311214,0.0011810665587257377,0.00032812628878670113,0.0002713197068625824,6.410496189290546e-5,0.0001749764564023345,9.744661663993778e-6,2.545910408345912e-5,2.291271105385571e-5,8.483879985285442e-6,3.6672748303220796e-6,1.6357944780521609e-6,1.0459738168152539e-6,3.293804991389837e-7,5.335044478717867e-7],&quot;type&quot;:&quot;scatter&quot;,&quot;name&quot;:&quot;Rook LU&quot;,&quot;x&quot;:[1,2,3,4,5,6,7,8,9,10,11,12,13,14,15,16,17,18,19,20,21,22,23,24]},{&quot;marker&quot;:{&quot;color&quot;:&quot;#988ED5&quot;,&quot;line&quot;:{&quot;color&quot;:&quot;#348ABD&quot;,&quot;width&quot;:0.5},&quot;size&quot;:10},&quot;y&quot;:[1.0,0.5,0.25,0.125,0.0625,0.03125,0.015625,0.0078125,0.00390625,0.001953125,0.0009765625,0.00048828125,0.000244140625,0.0001220703125,6.103515625e-5,3.0517578125e-5,1.52587890625e-5,7.62939453125e-6,3.814697265625e-6,1.9073486328125e-6,9.5367431640625e-7,4.76837158203125e-7,2.384185791015625e-7,1.1920928955078125e-7],&quot;type&quot;:&quot;scatter&quot;,&quot;name&quot;:&quot;Singular Values&quot;,&quot;x&quot;:[1,2,3,4,5,6,7,8,9,10,11,12,13,14,15,16,17,18,19,20,21,22,23,24]}],{&quot;xaxis&quot;:{&quot;showgrid&quot;:true,&quot;gridcolor&quot;:&quot;#E5E5E5&quot;,&quot;titlefont&quot;:{&quot;color&quot;:&quot;#555555&quot;,&quot;size&quot;:18},&quot;zeroline&quot;:false,&quot;ticks&quot;:&quot;inside&quot;,&quot;title&quot;:&quot;Diagonal entry&quot;,&quot;linewidth&quot;:1.0,&quot;mirror&quot;:true,&quot;linecolor&quot;:&quot;black&quot;},&quot;titlefont&quot;:{&quot;size&quot;:18},&quot;font&quot;:{&quot;size&quot;:16},&quot;height&quot;:350,&quot;margin&quot;:{&quot;l&quot;:70,&quot;b&quot;:50,&quot;r&quot;:50,&quot;t&quot;:60},&quot;yaxis&quot;:{&quot;showgrid&quot;:true,&quot;gridcolor&quot;:&quot;#E5E5E5&quot;,&quot;titlefont&quot;:{&quot;color&quot;:&quot;#555555&quot;,&quot;size&quot;:18},&quot;zeroline&quot;:false,&quot;type&quot;:&quot;log&quot;,&quot;ticks&quot;:&quot;inside&quot;,&quot;title&quot;:&quot;Magnitude&quot;,&quot;linewidth&quot;:1.0,&quot;mirror&quot;:true,&quot;linecolor&quot;:&quot;black&quot;},&quot;width&quot;:550},{}); gd.on(&quot;plotly_hover&quot;,(function (data){var filtered_data=WebIO.CommandSets.Plotly.filterEventData(gd,data,&quot;hover&quot;); return !(filtered_data.isnil) ? (WebIO.setval({&quot;name&quot;:&quot;hover&quot;,&quot;scope&quot;:&quot;scope-d88cf58c-0789-4aa2-9861-c79cfc6a0423&quot;,&quot;id&quot;:&quot;ob_01&quot;,&quot;type&quot;:&quot;observable&quot;},filtered_data.out)) : undefined})); gd.on(&quot;plotly_unhover&quot;,(function (){return WebIO.setval({&quot;name&quot;:&quot;hover&quot;,&quot;scope&quot;:&quot;scope-d88cf58c-0789-4aa2-9861-c79cfc6a0423&quot;,&quot;id&quot;:&quot;ob_01&quot;,&quot;type&quot;:&quot;observable&quot;},{})})); gd.on(&quot;plotly_selected&quot;,(function (data){var filtered_data=WebIO.CommandSets.Plotly.filterEventData(gd,data,&quot;selected&quot;); return !(filtered_data.isnil) ? (WebIO.setval({&quot;name&quot;:&quot;selected&quot;,&quot;scope&quot;:&quot;scope-d88cf58c-0789-4aa2-9861-c79cfc6a0423&quot;,&quot;id&quot;:&quot;ob_02&quot;,&quot;type&quot;:&quot;observable&quot;},filtered_data.out)) : undefined})); gd.on(&quot;plotly_deselect&quot;,(function (){return WebIO.setval({&quot;name&quot;:&quot;selected&quot;,&quot;scope&quot;:&quot;scope-d88cf58c-0789-4aa2-9861-c79cfc6a0423&quot;,&quot;id&quot;:&quot;ob_02&quot;,&quot;type&quot;:&quot;observable&quot;},{})})); gd.on(&quot;plotly_relayout&quot;,(function (data){var filtered_data=WebIO.CommandSets.Plotly.filterEventData(gd,data,&quot;relayout&quot;); return !(filtered_data.isnil) ? (WebIO.setval({&quot;name&quot;:&quot;relayout&quot;,&quot;scope&quot;:&quot;scope-d88cf58c-0789-4aa2-9861-c79cfc6a0423&quot;,&quot;id&quot;:&quot;ob_04&quot;,&quot;type&quot;:&quot;observable&quot;},filtered_data.out)) : undefined})); return gd.on(&quot;plotly_click&quot;,(function (data){var filtered_data=WebIO.CommandSets.Plotly.filterEventData(gd,data,&quot;click&quot;); return !(filtered_data.isnil) ? (WebIO.setval({&quot;name&quot;:&quot;click&quot;,&quot;scope&quot;:&quot;scope-d88cf58c-0789-4aa2-9861-c79cfc6a0423&quot;,&quot;id&quot;:&quot;ob_03&quot;,&quot;type&quot;:&quot;observable&quot;},filtered_data.out)) : undefined}))})]},&quot;_downloadImage&quot;:[(function (options){return this.Plotly.downloadImage(this.plotElem,options)})],&quot;_commands&quot;:[(function (args){var fn=args.shift(); var elem=this.plotElem; var Plotly=this.Plotly; args.unshift(elem); return Plotly[fn].apply(this,args)})]},&quot;systemjs_options&quot;:null,&quot;observables&quot;:{&quot;_toImage&quot;:{&quot;sync&quot;:false,&quot;id&quot;:&quot;ob_08&quot;,&quot;value&quot;:{}},&quot;hover&quot;:{&quot;sync&quot;:false,&quot;id&quot;:&quot;ob_01&quot;,&quot;value&quot;:{}},&quot;selected&quot;:{&quot;sync&quot;:false,&quot;id&quot;:&quot;ob_02&quot;,&quot;value&quot;:{}},&quot;__gd_contents&quot;:{&quot;sync&quot;:false,&quot;id&quot;:&quot;ob_06&quot;,&quot;value&quot;:{}},&quot;click&quot;:{&quot;sync&quot;:false,&quot;id&quot;:&quot;ob_03&quot;,&quot;value&quot;:{}},&quot;image&quot;:{&quot;sync&quot;:true,&quot;id&quot;:&quot;ob_05&quot;,&quot;value&quot;:&quot;&quot;},&quot;__get_gd_contents&quot;:{&quot;sync&quot;:false,&quot;id&quot;:&quot;ob_10&quot;,&quot;value&quot;:&quot;&quot;},&quot;_downloadImage&quot;:{&quot;sync&quot;:false,&quot;id&quot;:&quot;ob_09&quot;,&quot;value&quot;:{}},&quot;relayout&quot;:{&quot;sync&quot;:false,&quot;id&quot;:&quot;ob_04&quot;,&quot;value&quot;:{}},&quot;_commands&quot;:{&quot;sync&quot;:false,&quot;id&quot;:&quot;ob_07&quot;,&quot;value&quot;:[]}}},&quot;children&quot;:[{&quot;props&quot;:{&quot;id&quot;:&quot;plot-df8c717b-9234-4906-badb-f81e27b76a8b&quot;},&quot;nodeType&quot;:&quot;DOM&quot;,&quot;type&quot;:&quot;node&quot;,&quot;instanceArgs&quot;:{&quot;namespace&quot;:&quot;html&quot;,&quot;tag&quot;:&quot;div&quot;},&quot;children&quot;:[]}]})</unsafe-script>"
      ],
      "text/plain": [
       "data: [\n",
       "  \"scatter with fields marker, name, type, x, and y\",\n",
       "  \"scatter with fields marker, name, type, x, and y\",\n",
       "  \"scatter with fields marker, name, type, x, and y\"\n",
       "]\n",
       "\n",
       "layout: \"layout with fields font, height, margin, titlefont, width, xaxis, and yaxis\"\n",
       "\n"
      ]
     },
     "execution_count": 8,
     "metadata": {},
     "output_type": "execute_result"
    }
   ],
   "source": [
    "t1 = scatter(x=1:n,y=dA[:,1],name=\"Pivoted LU\")\n",
    "t2 = scatter(x=1:n,y=dA[:,2],name=\"Rook LU\")\n",
    "t3 = scatter(x=1:n,y=dA[:,3],name=\"Singular Values\")\n",
    "l = Layout(yaxis_type=\"log\",xaxis_title=\"Diagonal entry\",yaxis_title=\"Magnitude\",\n",
    "    height=350,width=550,margin=attr(l=70))\n",
    "p = plot([t1, t2, t3],l)"
   ]
  },
  {
   "cell_type": "code",
   "execution_count": 9,
   "metadata": {},
   "outputs": [],
   "source": [
    "if output\n",
    "    plotToPDF(p,\"fig_rook_pivoting\")\n",
    "end"
   ]
  }
 ],
 "metadata": {
  "anaconda-cloud": {},
  "kernelspec": {
   "display_name": "Julia 1.0.0",
   "language": "julia",
   "name": "julia-1.0"
  },
  "language_info": {
   "file_extension": ".jl",
   "mimetype": "application/julia",
   "name": "julia",
   "version": "1.0.0"
  }
 },
 "nbformat": 4,
 "nbformat_minor": 1
}
