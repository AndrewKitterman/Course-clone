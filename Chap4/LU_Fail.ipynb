{
 "cells": [
  {
   "cell_type": "code",
   "execution_count": 1,
   "metadata": {
    "collapsed": true
   },
   "outputs": [],
   "source": [
    "# Initialize the random number generator\n",
    "rng = MersenneTwister(0);"
   ]
  },
  {
   "cell_type": "code",
   "execution_count": 2,
   "metadata": {
    "collapsed": true
   },
   "outputs": [],
   "source": [
    "# Size of the matrix\n",
    "n = 4;"
   ]
  },
  {
   "cell_type": "code",
   "execution_count": 3,
   "metadata": {},
   "outputs": [
    {
     "name": "stdout",
     "output_type": "stream",
     "text": [
      "det(A) = -1.0\n",
      "A:\n",
      "[1.0 2.0 1.0 1.0; 1.0 3.0 2.0 2.0; 1.0 2.0 1.0 2.0; 2.0 5.0 4.0 5.0]\n"
     ]
    }
   ],
   "source": [
    "srand(rng, 2016)\n",
    "\n",
    "# Initialization of matrix A\n",
    "L = zeros(Float64,n,n)\n",
    "U = zeros(Float64,n,n)\n",
    "for i=1:n\n",
    "    L[i,i] = 1\n",
    "    L[i+1:n,i] = rand(rng, 0:2, n-i)\n",
    "    U[i,i] = 1\n",
    "    U[i,i+1:n] = rand(rng, 0:2, n-i)\n",
    "end\n",
    "L[3,:] = zeros(1,n)\n",
    "L[3,[1,4]] = 1\n",
    "L[4,1:2] = rand(rng, 0:2, 2)\n",
    "L[4,3] = 1\n",
    "L[4,4:end] = zeros(1,n-3)\n",
    "A = L * U\n",
    "@show det(A)\n",
    "println(\"A:\\n\",A)"
   ]
  },
  {
   "cell_type": "code",
   "execution_count": 4,
   "metadata": {},
   "outputs": [
    {
     "data": {
      "text/plain": [
       "getrs (generic function with 3 methods)"
      ]
     },
     "execution_count": 4,
     "metadata": {},
     "output_type": "execute_result"
    }
   ],
   "source": [
    "include(\"../src/getrf.jl\")"
   ]
  },
  {
   "cell_type": "code",
   "execution_count": 5,
   "metadata": {},
   "outputs": [
    {
     "name": "stdout",
     "output_type": "stream",
     "text": [
      "One of the pivots A[k,k] was 0. The algorithm could not proceed.\n"
     ]
    }
   ],
   "source": [
    "# This call is expected to fail\n",
    "try\n",
    "    getrfOuter!(A)\n",
    "catch\n",
    "    println(\"One of the pivots A[k,k] was 0. The algorithm could not proceed.\")\n",
    "end    "
   ]
  },
  {
   "cell_type": "code",
   "execution_count": 6,
   "metadata": {},
   "outputs": [
    {
     "name": "stdout",
     "output_type": "stream",
     "text": [
      "L:\n",
      "[1.0 0.0 0.0 0.0; 1.0 1.0 0.0 0.0; 1.0 0.0 0.0 1.0; 2.0 1.0 1.0 0.0]\n",
      "U:\n",
      "[1.0 2.0 1.0 1.0; 0.0 1.0 1.0 1.0; 0.0 0.0 1.0 2.0; 0.0 0.0 0.0 1.0]\n"
     ]
    }
   ],
   "source": [
    "println(\"L:\\n\",L)\n",
    "println(\"U:\\n\",U)"
   ]
  },
  {
   "cell_type": "code",
   "execution_count": 7,
   "metadata": {},
   "outputs": [
    {
     "data": {
      "text/plain": [
       "2×2 Array{Float64,2}:\n",
       " 1.0e-17  1.0    \n",
       " 1.0      3.14159"
      ]
     },
     "execution_count": 7,
     "metadata": {},
     "output_type": "execute_result"
    }
   ],
   "source": [
    "n = 2\n",
    "ϵ = 1e-17 # Type \\epsilon [TAB]\n",
    "# ϵ = eps(Float64) / π \n",
    "# ϵ = 0.25 * eps(Float64) / π\n",
    "A = [ϵ 1; 1 π] # Type \\pi [TAB]\n",
    "A0 = copy(A)"
   ]
  },
  {
   "cell_type": "code",
   "execution_count": 8,
   "metadata": {},
   "outputs": [
    {
     "name": "stdout",
     "output_type": "stream",
     "text": [
      "L:\n",
      "[1.0 0.0; 1.0e17 1.0]\n",
      "U:\n",
      "[1.0e-17 1.0; 0.0 -1.0e17]\n",
      "LU:\n",
      "[1.0e-17 1.0; 1.0 0.0]\n",
      "A:\n",
      "[1.0e-17 1.0; 1.0 3.14159]\n"
     ]
    }
   ],
   "source": [
    "getrfOuter!(A)\n",
    "L = tril(A,-1) + eye(2)\n",
    "U = triu(A)\n",
    "println(\"L:\\n\",L)\n",
    "println(\"U:\\n\",U)\n",
    "println(\"LU:\\n\",L*U)\n",
    "println(\"A:\\n\",A0)"
   ]
  }
 ],
 "metadata": {
  "anaconda-cloud": {},
  "kernelspec": {
   "display_name": "Julia 0.6.0",
   "language": "julia",
   "name": "julia-0.6"
  },
  "language_info": {
   "file_extension": ".jl",
   "mimetype": "application/julia",
   "name": "julia",
   "version": "0.6.0"
  }
 },
 "nbformat": 4,
 "nbformat_minor": 1
}
