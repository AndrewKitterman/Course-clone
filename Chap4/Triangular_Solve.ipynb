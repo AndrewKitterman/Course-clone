{
 "cells": [
  {
   "cell_type": "code",
   "execution_count": 1,
   "metadata": {
    "collapsed": true
   },
   "outputs": [],
   "source": [
    "# Initialize the random number generator\n",
    "rng = MersenneTwister(2016);"
   ]
  },
  {
   "cell_type": "code",
   "execution_count": 2,
   "metadata": {
    "collapsed": true
   },
   "outputs": [],
   "source": [
    "# Size of the matrix\n",
    "n = 4000;"
   ]
  },
  {
   "cell_type": "code",
   "execution_count": 3,
   "metadata": {},
   "outputs": [
    {
     "data": {
      "text/plain": [
       "6×6 Array{Float64,2}:\n",
       "  1.0   0.0   0.0  0.0  0.0  0.0\n",
       " -2.0   1.0   0.0  0.0  0.0  0.0\n",
       "  2.0   2.0   1.0  0.0  0.0  0.0\n",
       "  0.0   0.0  -2.0  1.0  0.0  0.0\n",
       "  1.0   2.0  -2.0  1.0  1.0  0.0\n",
       " -1.0  -1.0  -2.0  0.0  0.0  1.0"
      ]
     },
     "execution_count": 3,
     "metadata": {},
     "output_type": "execute_result"
    }
   ],
   "source": [
    "# Lower triangular matrix\n",
    "L = zeros(Float64,n,n)\n",
    "# Filling the matrix with random integer entries\n",
    "for j=1:n # Column j\n",
    "    L[j,j] = 1 # Should be non-zero\n",
    "    L[j+1:n,j] = rand(rng, -2:2, n-j) \n",
    "end\n",
    "L[1:6,1:6]"
   ]
  },
  {
   "cell_type": "code",
   "execution_count": 4,
   "metadata": {},
   "outputs": [
    {
     "data": {
      "text/plain": [
       "1×4000 RowVector{Float64,Array{Float64,1}}:\n",
       " 4.0  0.0  30.0  -12.0  10.0  -20.0  …  145.0  483.0  -433.0  38.0  424.0"
      ]
     },
     "execution_count": 4,
     "metadata": {},
     "output_type": "execute_result"
    }
   ],
   "source": [
    "# Initializing the right-hand side\n",
    "xe = rand(rng, 0:9, n) # This will be our solution\n",
    "b = L * xe\n",
    "b'"
   ]
  },
  {
   "cell_type": "code",
   "execution_count": 5,
   "metadata": {
    "scrolled": false
   },
   "outputs": [
    {
     "data": {
      "text/plain": [
       "trtrs (generic function with 1 method)"
      ]
     },
     "execution_count": 5,
     "metadata": {},
     "output_type": "execute_result"
    }
   ],
   "source": [
    "# Load our triangular solvers\n",
    "include(\"../src/trtrs.jl\")"
   ]
  },
  {
   "cell_type": "code",
   "execution_count": 6,
   "metadata": {},
   "outputs": [],
   "source": [
    "x = trtrsRow(L, b)\n",
    "# Let's check the result\n",
    "@assert x == xe\n",
    "\n",
    "x = trtrs(L, b)\n",
    "@assert x == xe"
   ]
  },
  {
   "cell_type": "code",
   "execution_count": 7,
   "metadata": {},
   "outputs": [
    {
     "name": "stdout",
     "output_type": "stream",
     "text": [
      "  0.094239 seconds (86 allocations: 37.764 KiB)\n",
      "  0.025759 seconds (6 allocations: 31.484 KiB)\n"
     ]
    }
   ],
   "source": [
    "@time x = trtrsRow(L, b)\n",
    "@time x = trtrs(L, b);"
   ]
  }
 ],
 "metadata": {
  "anaconda-cloud": {},
  "kernelspec": {
   "display_name": "Julia 0.6.0",
   "language": "julia",
   "name": "julia-0.6"
  },
  "language_info": {
   "file_extension": ".jl",
   "mimetype": "application/julia",
   "name": "julia",
   "version": "0.6.0"
  }
 },
 "nbformat": 4,
 "nbformat_minor": 1
}
