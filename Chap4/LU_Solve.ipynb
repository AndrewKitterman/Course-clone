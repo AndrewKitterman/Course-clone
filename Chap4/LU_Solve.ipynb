{
 "cells": [
  {
   "cell_type": "code",
   "execution_count": 1,
   "metadata": {},
   "outputs": [],
   "source": [
    "# Initialize the random number generator\n",
    "using Random\n",
    "rng = MersenneTwister(0);"
   ]
  },
  {
   "cell_type": "code",
   "execution_count": 2,
   "metadata": {},
   "outputs": [],
   "source": [
    "# Size of the matrix\n",
    "n = 512;"
   ]
  },
  {
   "cell_type": "code",
   "execution_count": 3,
   "metadata": {},
   "outputs": [
    {
     "data": {
      "text/plain": [
       "6×6 Array{Float64,2}:\n",
       "  1.0  -1.0  -2.0   0.0   2.0  -1.0\n",
       " -2.0   4.0   3.0   1.0  -2.0   0.0\n",
       "  0.0   2.0   0.0  -1.0   2.0  -2.0\n",
       " -1.0   1.0   1.0   3.0  -2.0   3.0\n",
       " -2.0  -2.0   7.0  -2.0  -7.0  10.0\n",
       "  0.0   4.0  -1.0   2.0   4.0   1.0"
      ]
     },
     "execution_count": 3,
     "metadata": {},
     "output_type": "execute_result"
    }
   ],
   "source": [
    "# Random initialization of matrix A\n",
    "L = zeros(Float64,n,n)\n",
    "U = zeros(Float64,n,n)\n",
    "for i=1:n\n",
    "    L[i,i] = 1\n",
    "    L[i+1:n,i] = rand(rng, -2:2, n-i)\n",
    "    U[i,i] = rand(rng, 1:2)\n",
    "    U[i,i+1:n] = rand(rng, -2:2, n-i)\n",
    "end\n",
    "A = L * U\n",
    "A0 = copy(A);\n",
    "A0[1:6,1:6]"
   ]
  },
  {
   "cell_type": "code",
   "execution_count": 4,
   "metadata": {},
   "outputs": [
    {
     "data": {
      "text/plain": [
       "1×512 LinearAlgebra.Adjoint{Float64,Array{Float64,1}}:\n",
       " 168.0  -359.0  52.0  -265.0  -236.0  …  2344.0  -4226.0  492.0  1086.0"
      ]
     },
     "execution_count": 4,
     "metadata": {},
     "output_type": "execute_result"
    }
   ],
   "source": [
    "# Initializing the right-hand side\n",
    "xe = rand(rng, 0:9, n) # This will be our solution\n",
    "b = A * xe\n",
    "b'"
   ]
  },
  {
   "cell_type": "code",
   "execution_count": 5,
   "metadata": {},
   "outputs": [
    {
     "data": {
      "text/plain": [
       "getrs (generic function with 3 methods)"
      ]
     },
     "execution_count": 5,
     "metadata": {},
     "output_type": "execute_result"
    }
   ],
   "source": [
    "include(\"../src/getrf.jl\")"
   ]
  },
  {
   "cell_type": "code",
   "execution_count": 6,
   "metadata": {},
   "outputs": [
    {
     "name": "stdout",
     "output_type": "stream",
     "text": [
      "getrfOuter!: PASSED\n",
      "getrfAxpy!: PASSED\n",
      "getrfDot!: PASSED\n"
     ]
    }
   ],
   "source": [
    "# Test our solvers\n",
    "map([getrfOuter!, getrfAxpy!, getrfDot!]) do solver\n",
    "    A = copy(A0)\n",
    "    solver(A)\n",
    "    # Solve\n",
    "    x = getrs(A, b)\n",
    "    @assert x == xe\n",
    "    println(string(solver) * \": PASSED\")\n",
    "end    \n",
    ";"
   ]
  },
  {
   "cell_type": "code",
   "execution_count": 7,
   "metadata": {},
   "outputs": [
    {
     "name": "stdout",
     "output_type": "stream",
     "text": [
      "  0.284855 seconds\n",
      "  0.043774 seconds\n",
      "  0.121703 seconds\n"
     ]
    }
   ],
   "source": [
    "# Time the solvers\n",
    "map([getrfOuter!, getrfAxpy!, getrfDot!]) do solver\n",
    "    A = copy(A0); @time solver(A)\n",
    "end\n",
    ";"
   ]
  }
 ],
 "metadata": {
  "anaconda-cloud": {},
  "kernelspec": {
   "display_name": "Julia 1.0.0",
   "language": "julia",
   "name": "julia-1.0"
  },
  "language_info": {
   "file_extension": ".jl",
   "mimetype": "application/julia",
   "name": "julia",
   "version": "1.0.0"
  }
 },
 "nbformat": 4,
 "nbformat_minor": 1
}
