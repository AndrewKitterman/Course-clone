{
 "cells": [
  {
   "cell_type": "code",
   "execution_count": 1,
   "metadata": {},
   "outputs": [],
   "source": [
    "include(\"../src/geqrf.jl\")\n",
    "using Random\n",
    "rng = MersenneTwister(2018)\n",
    "import LinearAlgebra.dot\n",
    "import LinearAlgebra.norm\n",
    "import LinearAlgebra.cond\n",
    "import LinearAlgebra.triu\n",
    "import LinearAlgebra.qr\n",
    "import LinearAlgebra.UniformScaling\n",
    ";"
   ]
  },
  {
   "cell_type": "code",
   "execution_count": 2,
   "metadata": {},
   "outputs": [
    {
     "data": {
      "text/plain": [
       "4-element Array{Float64,1}:\n",
       " 0.6545394330653942 \n",
       " 0.10890604479083299\n",
       " 0.7235855808911327 \n",
       " 0.7203666853246062 "
      ]
     },
     "execution_count": 2,
     "metadata": {},
     "output_type": "execute_result"
    }
   ],
   "source": [
    "n = 4\n",
    "x = rand(rng, n)"
   ]
  },
  {
   "cell_type": "code",
   "execution_count": 3,
   "metadata": {},
   "outputs": [
    {
     "data": {
      "text/plain": [
       "(0.4386315945756382, [1.87224, 0.108906, 0.723586, 0.720367])"
      ]
     },
     "execution_count": 3,
     "metadata": {},
     "output_type": "execute_result"
    }
   ],
   "source": [
    "beta, v = house(x)"
   ]
  },
  {
   "cell_type": "code",
   "execution_count": 4,
   "metadata": {},
   "outputs": [
    {
     "name": "stdout",
     "output_type": "stream",
     "text": [
      "Px = [1.2177, -0.0, -0.0, -0.0]\n",
      "y = [1.2177, 0.0, 0.0, 0.0]\n",
      "norm(Px - y) = 0.0\n"
     ]
    },
    {
     "data": {
      "text/plain": [
       "0.0"
      ]
     },
     "execution_count": 4,
     "metadata": {},
     "output_type": "execute_result"
    }
   ],
   "source": [
    "n = length(x)\n",
    "y = zeros(n); y[1] = norm(x)\n",
    "Px = x - beta * dot(v,x) * v\n",
    "if Px[1] < 0\n",
    "    Px = -Px\n",
    "end\n",
    "@show Px\n",
    "@show y\n",
    "@show norm(Px - y)"
   ]
  },
  {
   "cell_type": "code",
   "execution_count": 5,
   "metadata": {},
   "outputs": [
    {
     "data": {
      "text/plain": [
       "1×4 LinearAlgebra.Adjoint{Float64,Array{Float64,1}}:\n",
       " 1.0  0.0  0.0  0.0"
      ]
     },
     "execution_count": 5,
     "metadata": {},
     "output_type": "execute_result"
    }
   ],
   "source": [
    "n = 4\n",
    "e1 = zeros(n); e1[1] = 1.0\n",
    "e1'"
   ]
  },
  {
   "cell_type": "code",
   "execution_count": 6,
   "metadata": {},
   "outputs": [],
   "source": [
    "# Insert Julia code for exercise here"
   ]
  },
  {
   "cell_type": "code",
   "execution_count": 7,
   "metadata": {},
   "outputs": [
    {
     "data": {
      "text/plain": [
       "4×4 Array{Float64,2}:\n",
       " 0.5   0.903281    1.10219    1.09724  \n",
       " 0.5   0.520598   -0.152935  -0.767982 \n",
       " 0.5  -0.0205981  -0.513732   0.267982 \n",
       " 0.5  -0.403281    0.231146  -0.0972388"
      ]
     },
     "execution_count": 7,
     "metadata": {},
     "output_type": "execute_result"
    }
   ],
   "source": [
    "# Testing QR factorization using Householder transformations\n",
    "n = 4\n",
    "\n",
    "# Building an orthogonal matrix Q\n",
    "Q = zeros(n,n)\n",
    "for j=0:n-1, i=0:n-1\n",
    "    Q[i+1,j+1] = cos(π*(2i+1)*j/2n)\n",
    "end\n",
    "for j=1:n\n",
    "    Q[:,j] /= norm(Q[:,j])\n",
    "end\n",
    "\n",
    "# Initializing an upper triangular matrix R\n",
    "R = triu(Float64[ i/j for i=1:n, j=1:n ])\n",
    "\n",
    "# Matrix A\n",
    "A = Q*R"
   ]
  },
  {
   "cell_type": "code",
   "execution_count": 8,
   "metadata": {},
   "outputs": [
    {
     "name": "stdout",
     "output_type": "stream",
     "text": [
      "(R, triu(A)) = ([1.0 0.5 0.333333 0.25; 0.0 1.0 0.666667 0.5; 0.0 0.0 1.0 0.75; 0.0 0.0 0.0 1.0], [-1.0 -0.5 -0.333333 -0.25; 0.0 -1.0 -0.666667 -0.5; 0.0 0.0 1.0 0.75; 0.0 0.0 0.0 -1.0])\n"
     ]
    },
    {
     "data": {
      "text/plain": [
       "([1.0 0.5 0.333333 0.25; 0.0 1.0 0.666667 0.5; 0.0 0.0 1.0 0.75; 0.0 0.0 0.0 1.0], [-1.0 -0.5 -0.333333 -0.25; 0.0 -1.0 -0.666667 -0.5; 0.0 0.0 1.0 0.75; 0.0 0.0 0.0 -1.0])"
      ]
     },
     "execution_count": 8,
     "metadata": {},
     "output_type": "execute_result"
    }
   ],
   "source": [
    "# QR factorization\n",
    "geqrf!(A)\n",
    "# The factor R is stored in the upper triangular part of A\n",
    "\n",
    "# These matrices should match up to the sign of each row\n",
    "@show R,triu(A)"
   ]
  },
  {
   "cell_type": "code",
   "execution_count": 9,
   "metadata": {},
   "outputs": [
    {
     "name": "stdout",
     "output_type": "stream",
     "text": [
      "norm(Q0' * Q0 - UniformScaling(1.0)) = 8.678550884996376e-15\n",
      "norm(R - R0) = 8.912549009342026e-9\n",
      "back_err = 2.3380444056710806e-14\n",
      "condA = 5.453654884464741e9\n",
      "0.0001 * condA * back_err = 1.275088729308355e-8\n"
     ]
    },
    {
     "data": {
      "text/plain": [
       "1.275088729308355e-8"
      ]
     },
     "execution_count": 9,
     "metadata": {},
     "output_type": "execute_result"
    }
   ],
   "source": [
    "# Illustrating the accuracy of QR factorizations using Householder transformations\n",
    "n = 64\n",
    "\n",
    "rng = MersenneTwister(2018)\n",
    "Q, R = qr(rand(rng,n,n))\n",
    "R = triu(rand(rng,n,n))\n",
    "\n",
    "# Matrix A\n",
    "A = Q*R\n",
    "\n",
    "A0 = copy(A)\n",
    "# Appending I as a way to get Q\n",
    "A0 = hcat(A,UniformScaling(1.0))\n",
    "# QR factorization\n",
    "geqrf!(A0)\n",
    "# The factor R is stored in the upper triangular part of A0\n",
    "R0 = triu(A0[:,1:n])\n",
    "# Q^T is stored in column n+1 to 2n\n",
    "Q0 = A0[:,n+1:2*n]'\n",
    "\n",
    "# Fixing the sign\n",
    "for j=1:n\n",
    "    if R0[j,j] * R[j,j] < 0\n",
    "        R0[j,:] = -R0[j,:]\n",
    "        Q0[:,j] = -Q0[:,j]\n",
    "    end\n",
    "end\n",
    "\n",
    "condA = cond(A)\n",
    "back_err = norm(Q0 * R0 - A)\n",
    "\n",
    "# Accuracy of Q and R\n",
    "@show norm(Q0' * Q0 - UniformScaling(1.0))   # Orthogonality\n",
    "@show norm(R - R0)              # Forward error\n",
    "@show back_err                  # Backward error\n",
    "@show condA                     # Condition number of A\n",
    "@show 1e-4 * condA * back_err   # Predicted forward error"
   ]
  },
  {
   "cell_type": "code",
   "execution_count": 10,
   "metadata": {},
   "outputs": [],
   "source": [
    "# Systematic testing\n",
    "\n",
    "n_test = 32:128\n",
    "err = zeros(4,length(n_test))\n",
    "k = 1\n",
    "\n",
    "for n=n_test\n",
    "    rng = MersenneTwister(2018 + n)\n",
    "    Q, R = qr(rand(rng,n,n))\n",
    "    R = triu(rand(rng,n,n))\n",
    "\n",
    "    # Matrix A\n",
    "    A = Q*R\n",
    "    A0 = hcat(A,UniformScaling(1.0))\n",
    "    \n",
    "    # QR factorization\n",
    "    geqrf!(A0)\n",
    "    R0 = triu(A0[:,1:n])\n",
    "    Q0 = A0[:,n+1:2*n]'\n",
    "\n",
    "    # Fixing the sign\n",
    "    for j=1:n\n",
    "        if R0[j,j] * R[j,j] < 0\n",
    "            R0[j,:] = -R0[j,:]\n",
    "            Q0[:,j] = -Q0[:,j]\n",
    "        end\n",
    "    end\n",
    "\n",
    "    condA = cond(A)\n",
    "    back_err = norm(Q0 * R0 - A)\n",
    "\n",
    "    # Saving values for plotting\n",
    "    err[1,k] = norm(Q0' * Q0 - UniformScaling(1.0))   # Orthogonality\n",
    "    err[2,k] = norm(R - R0)                           # Forward error\n",
    "    err[3,k] = back_err                               # Backward error\n",
    "    err[4,k] = 1e-4*condA*back_err                    # Predicted forward error\n",
    "    k = k+1\n",
    "end"
   ]
  },
  {
   "cell_type": "code",
   "execution_count": 11,
   "metadata": {},
   "outputs": [
    {
     "data": {
      "text/html": [
       "    <script class='js-collapse-script'>\n",
       "        var curMatch =\n",
       "            window.location.href\n",
       "            .match(/(.*?)\\/notebooks\\/.*\\.ipynb/);\n",
       "\n",
       "        curMatch = curMatch ||\n",
       "            window.location.href\n",
       "            .match(/(.*?)\\/apps\\/.*\\.ipynb/);\n",
       "\n",
       "        if ( curMatch ) {\n",
       "            $('head').append('<base href=\"' + curMatch[1] + '/\">');\n",
       "        }\n",
       "    </script>\n"
      ],
      "text/plain": [
       "HTML{String}(\"    <script class='js-collapse-script'>\\n        var curMatch =\\n            window.location.href\\n            .match(/(.*?)\\\\/notebooks\\\\/.*\\\\.ipynb/);\\n\\n        curMatch = curMatch ||\\n            window.location.href\\n            .match(/(.*?)\\\\/apps\\\\/.*\\\\.ipynb/);\\n\\n        if ( curMatch ) {\\n            \\$('head').append('<base href=\\\"' + curMatch[1] + '/\\\">');\\n        }\\n    </script>\\n\")"
      ]
     },
     "metadata": {},
     "output_type": "display_data"
    },
    {
     "data": {
      "text/html": [
       "<script class='js-collapse-script' src='/assetserver/f562d6507acc94a42cdf3b074249b311a179837e-assets/webio/dist/bundle.js'></script>"
      ],
      "text/plain": [
       "HTML{String}(\"<script class='js-collapse-script' src='/assetserver/f562d6507acc94a42cdf3b074249b311a179837e-assets/webio/dist/bundle.js'></script>\")"
      ]
     },
     "metadata": {},
     "output_type": "display_data"
    },
    {
     "data": {
      "text/html": [
       "<script class='js-collapse-script' src='/assetserver/f562d6507acc94a42cdf3b074249b311a179837e-assets/providers/ijulia_setup.js'></script>"
      ],
      "text/plain": [
       "HTML{String}(\"<script class='js-collapse-script' src='/assetserver/f562d6507acc94a42cdf3b074249b311a179837e-assets/providers/ijulia_setup.js'></script>\")"
      ]
     },
     "metadata": {},
     "output_type": "display_data"
    },
    {
     "data": {
      "text/html": [
       "  <script class='js-collapse-script'>\n",
       "    $('.js-collapse-script').parent('.output_subarea').css('padding', '0');\n",
       "  </script>\n"
      ],
      "text/plain": [
       "HTML{String}(\"  <script class='js-collapse-script'>\\n    \\$('.js-collapse-script').parent('.output_subarea').css('padding', '0');\\n  </script>\\n\")"
      ]
     },
     "metadata": {},
     "output_type": "display_data"
    }
   ],
   "source": [
    "using PlotlyJS"
   ]
  },
  {
   "cell_type": "code",
   "execution_count": 12,
   "metadata": {},
   "outputs": [
    {
     "data": {
      "text/html": [
       "<div class='display:none'></div><unsafe-script style='display:none'>\n",
       "WebIO.mount(this.previousSibling,{&quot;props&quot;:{},&quot;nodeType&quot;:&quot;Scope&quot;,&quot;type&quot;:&quot;node&quot;,&quot;instanceArgs&quot;:{&quot;imports&quot;:{&quot;data&quot;:[{&quot;name&quot;:&quot;Plotly&quot;,&quot;type&quot;:&quot;js&quot;,&quot;url&quot;:&quot;/assetserver/1e2c0da7fbe518270434b2ec2c46e20d1e0891d6-plotly-latest.min.js&quot;},{&quot;name&quot;:null,&quot;type&quot;:&quot;js&quot;,&quot;url&quot;:&quot;/assetserver/2009f112a9eee3177314b516a62b493c2ea5b3f5-plotly_webio.bundle.js&quot;}],&quot;type&quot;:&quot;async_block&quot;},&quot;id&quot;:&quot;scope-d88cf58c-0789-4aa2-9861-c79cfc6a0423&quot;,&quot;handlers&quot;:{&quot;_toImage&quot;:[(function (options){return this.Plotly.toImage(this.plotElem,options).then((function (data){return WebIO.setval({&quot;name&quot;:&quot;image&quot;,&quot;scope&quot;:&quot;scope-d88cf58c-0789-4aa2-9861-c79cfc6a0423&quot;,&quot;id&quot;:&quot;ob_05&quot;,&quot;type&quot;:&quot;observable&quot;},data)}))})],&quot;__get_gd_contents&quot;:[(function (prop){prop==&quot;data&quot; ? (WebIO.setval({&quot;name&quot;:&quot;__gd_contents&quot;,&quot;scope&quot;:&quot;scope-d88cf58c-0789-4aa2-9861-c79cfc6a0423&quot;,&quot;id&quot;:&quot;ob_06&quot;,&quot;type&quot;:&quot;observable&quot;},this.plotElem.data)) : undefined; return prop==&quot;layout&quot; ? (WebIO.setval({&quot;name&quot;:&quot;__gd_contents&quot;,&quot;scope&quot;:&quot;scope-d88cf58c-0789-4aa2-9861-c79cfc6a0423&quot;,&quot;id&quot;:&quot;ob_06&quot;,&quot;type&quot;:&quot;observable&quot;},this.plotElem.layout)) : undefined})],&quot;_promises&quot;:{&quot;importsLoaded&quot;:[(function (Plotly){var gd=this.dom.querySelector(&quot;#plot-9bb74863-7e67-4450-a14a-4f44c0536a08&quot;); this.plotElem=gd; this.Plotly=Plotly; (window.Blink!==undefined) ? (gd.style.width=&quot;100%&quot;, gd.style.height=&quot;100vh&quot;, gd.style.marginLeft=&quot;0%&quot;, gd.style.marginTop=&quot;0vh&quot;) : undefined; window.onresize=(function (){return Plotly.Plots.resize(gd)}); Plotly.newPlot(gd,[{&quot;y&quot;:[3.740820581725647e-15,4.180250763871298e-15,4.555636089087893e-15,4.21245252525427e-15,4.69050148823578e-15,4.687869597364091e-15,4.524146093617887e-15,4.8954674405803385e-15,5.3648825180546896e-15,4.680368325929509e-15,5.201967642683914e-15,5.38286542282369e-15,5.717059354829052e-15,5.5851135372320195e-15,5.6208124928425375e-15,5.829051826719559e-15,5.388338195442561e-15,6.049140984087422e-15,6.232553110348435e-15,6.243200807771229e-15,6.6333112246969996e-15,6.264925942642678e-15,6.388355903357559e-15,6.8034743253995495e-15,7.189772501545027e-15,6.7060702870324525e-15,6.901618003274122e-15,7.26347911225293e-15,6.9568223779714604e-15,6.569419203060985e-15,7.699967596351038e-15,6.974145155103735e-15,7.859522834253229e-15,7.841206245088525e-15,8.11611354044421e-15,7.570236314449598e-15,8.284153848298303e-15,7.994699440463336e-15,8.345467519990517e-15,8.444400060960768e-15,8.703907182084633e-15,8.480006610191333e-15,9.076616792808775e-15,8.535070342950532e-15,8.796940111362572e-15,8.597042224408174e-15,8.925064943221383e-15,9.59761425537993e-15,8.875195735746739e-15,9.364120725978179e-15,9.413748765084079e-15,1.0391183091337394e-14,9.387052971211572e-15,1.0265973625649993e-14,9.911410745148763e-15,1.021302505519891e-14,1.0853219200234284e-14,1.098154002802261e-14,1.0237296584679482e-14,1.0171582720051157e-14,1.11449973481039e-14,1.1005588203634509e-14,1.1016809266715931e-14,1.0953789646349915e-14,1.0804666447336008e-14,1.1236091079583727e-14,1.1674615763073129e-14,1.1712444629990439e-14,1.1939417676462034e-14,1.0876860798460775e-14,1.1972500379960566e-14,1.1562304081545904e-14,1.1497149749630971e-14,1.1270770596621947e-14,1.1667976957320077e-14,1.2005246519313303e-14,1.339349392956483e-14,1.2494591544047742e-14,1.2445293172500853e-14,1.2611450637524053e-14,1.3260350667703951e-14,1.2504893794351483e-14,1.2422081119023373e-14,1.3571571890632228e-14,1.2392577901108332e-14,1.2483845925633579e-14,1.2716353470499212e-14,1.333827134303731e-14,1.2861373660341759e-14,1.373580545814387e-14,1.4197493644696482e-14,1.4378996448499038e-14,1.4856831217041893e-14,1.4612889464994743e-14,1.4138397312137838e-14,1.4591278568855204e-14,1.5206381616004243e-14],&quot;type&quot;:&quot;scatter&quot;,&quot;name&quot;:&quot;Orthogonality&quot;,&quot;x&quot;:[1,2,3,4,5,6,7,8,9,10,11,12,13,14,15,16,17,18,19,20,21,22,23,24,25,26,27,28,29,30,31,32,33,34,35,36,37,38,39,40,41,42,43,44,45,46,47,48,49,50,51,52,53,54,55,56,57,58,59,60,61,62,63,64]},{&quot;y&quot;:[7.562021225116676e-13,1.028288725005542e-10,2.3739892566196876e-11,1.9244259093228143e-11,1.2229391311026145e-7,1.1764181376822365e-8,3.4026161426244e-8,2.666098163111444e-7,3.576472785877716e-8,6.273269898053862e-10,3.640340344283999e-8,3.215461060071452e-9,1.6768261722354252e-6,4.71358515272393e-11,1.356421124148715e-10,1.1141508051779394e-7,9.325635919125544e-8,0.0022450352216148418,1.9356169351876718e-7,4.205189135854632e-8,3.177528662432554e-5,6.935386765584887e-6,8.202244522081475e-7,2.546910507463517e-9,1.8609855734982203e-6,1.5208062927349858e-6,0.0001708201570572119,2.5917569960546666e-9,4.994437777753579e-8,2.3052541986693317e-5,0.0002492595495938882,1.7762247961573785,0.035030682489301135,0.00044578717734717227,3.6072551767869533e-7,0.041121504076378414,0.005989975791250214,1.3595862388350008,1.7699381438413029,0.0091095057041858,0.0013670885508410828,0.00024952051117477523,0.0007103099440389619,0.8026522413228299,4.595832607130235e-6,2.399243871664033,5.019407994411327e-6,1.6300928029403905,2.4234438980762123,0.363397675000347,0.04853391005042135,4.020207681127304,0.0003727922022044141,0.019891897929065618,0.11580408495409272,3.160663544856514,8.13320025614187,0.2122935133593922,3.2497337728868513e-7,0.8096972875368321,0.7738703205362103,3.812908528147968,3.7747114439736675,3.6279087558479883,2.8599241867785987,3.8843747758923786,5.211843706051097,6.879808147608677,8.081295611254814e-5,6.001556239126384,4.603679352634495,6.8012315441440965,8.730557653324677,7.671395031147665,0.6392840401090996,6.006304613933983,9.794387617551028,6.852527812211076,4.314505977075245,5.814039025383773,2.772387363591011,2.7867082623821307,6.763839431423638,7.277102788180237,5.759199739047786,3.2159648121693647,4.027079562928635,10.12652081970989,6.6421789178768895,5.894650939769155,6.678589443659472,4.489747550463052,9.509607348858125,7.942204930741301,6.983995834164267,12.330070883984513,13.412757545680162],&quot;type&quot;:&quot;scatter&quot;,&quot;name&quot;:&quot;Forward Error&quot;,&quot;x&quot;:[1,2,3,4,5,6,7,8,9,10,11,12,13,14,15,16,17,18,19,20,21,22,23,24,25,26,27,28,29,30,31,32,33,34,35,36,37,38,39,40,41,42,43,44,45,46,47,48,49,50,51,52,53,54,55,56,57,58,59,60,61,62,63,64]},{&quot;y&quot;:[8.008473785405181e-15,8.547179329953125e-15,9.355805520963183e-15,8.77043138463294e-15,1.1967889048460044e-14,9.245184454808419e-15,9.805383639727225e-15,1.0500058301414522e-14,1.2018168866625517e-14,1.2557978473735189e-14,1.3240843658742458e-14,1.0872097340582548e-14,1.3564136397806905e-14,1.2335880382028162e-14,1.456517557166142e-14,1.6296833951493946e-14,1.5749635244420258e-14,1.501984540552538e-14,1.4791260731032204e-14,1.786986377852438e-14,1.6218028906390323e-14,1.8143857865029372e-14,1.8075614554145132e-14,1.9227252066395895e-14,1.8084262873625382e-14,1.8720417448905184e-14,1.7512496105351605e-14,1.8777097140414154e-14,2.0276322766710716e-14,1.7704548968049172e-14,2.0788503777248655e-14,2.01670707029193e-14,2.179327105372333e-14,2.052292340940067e-14,2.0939729144565408e-14,2.3774746451746072e-14,2.317840324248351e-14,2.51472214169413e-14,2.2889402531735774e-14,2.83698111764134e-14,3.1773591163125514e-14,2.4614250455657965e-14,2.5461051293406908e-14,2.513580198026321e-14,2.6531772264074648e-14,2.7163019091243815e-14,2.7186862195490738e-14,3.032599629403786e-14,2.7688762918282005e-14,3.048257563798689e-14,2.6976460783313824e-14,3.047428762040606e-14,2.961289116263302e-14,3.21092830156346e-14,3.436413882734101e-14,3.349536960946622e-14,3.62771533749266e-14,3.889657934132997e-14,3.6911330953628425e-14,3.4940431403204585e-14,3.837165606609022e-14,3.677149218259188e-14,3.5215521821066283e-14,3.658561401171089e-14,4.0128959341698616e-14,3.852706652913674e-14,4.021977083122598e-14,4.252055088096717e-14,4.2332769826476357e-14,3.935247710190775e-14,4.490369208883687e-14,3.932678005620526e-14,4.30870960709725e-14,4.27644146103359e-14,4.6281624101389664e-14,4.3486062788938726e-14,4.2774141025683036e-14,4.7258700605173867e-14,4.6502312779494795e-14,4.883036197638746e-14,4.773562974170069e-14,4.7344015559791513e-14,4.746351947736969e-14,5.0664364899308265e-14,4.889330337545555e-14,5.056665407024045e-14,5.071232018324858e-14,5.366033317265483e-14,4.898000339337063e-14,5.37737081235422e-14,5.513823411913321e-14,5.113180920785339e-14,5.971325763518708e-14,5.443611598681572e-14,5.3109131299065865e-14,5.819433763313606e-14,6.57265862180117e-14],&quot;type&quot;:&quot;scatter&quot;,&quot;name&quot;:&quot;Backward Error&quot;,&quot;x&quot;:[1,2,3,4,5,6,7,8,9,10,11,12,13,14,15,16,17,18,19,20,21,22,23,24,25,26,27,28,29,30,31,32,33,34,35,36,37,38,39,40,41,42,43,44,45,46,47,48,49,50,51,52,53,54,55,56,57,58,59,60,61,62,63,64]},{&quot;y&quot;:[1.0129362284667665e-13,1.609650325827926e-11,2.6705027821706835e-11,1.868983492822508e-11,2.0607760495855537e-8,2.1881938584841203e-9,4.1484058398581804e-8,7.189313035500248e-8,1.7065086588230615e-8,1.1708647606605109e-9,6.310204043596559e-9,2.416896282975626e-10,1.7354097138106655e-6,1.0081860338604356e-11,3.037623701167938e-10,8.526686545358952e-8,4.029217729244097e-7,0.01389101932900914,1.703321861854421e-8,9.159018699242711e-8,6.208290217501868e-6,5.15073277791895e-6,2.911360209464952e-6,4.760443400342915e-9,7.9659926720282e-5,2.6319828168800807e-6,0.0013779878668087739,1.3492866732080044e-9,1.5262102304379477e-8,0.00010822762659034774,5.7536146583515975e-5,0.18391715189675584,0.08962837575422153,0.0007262130011141723,5.292653680977896e-7,1.0632681079602375,0.016751486980253652,1.3853521363684036,1.5414670272782593,0.008906252315903019,0.0015942897284006604,0.00036417774704695834,0.0011225389212215634,0.6155876188327658,0.0006175025866322052,4.316722756431131,3.5709936742745445e-5,0.7441449559408911,1.0288525341979053,1.677969422792948,0.3695808331145631,2.212217300577699,0.0007625625028061294,0.5700517294445965,0.8624679869236331,0.9756265296232318,22.834546132801936,0.8520863825801638,1.034292230822589e-6,0.4316989872387594,3.7909278385852896,0.49682979777404257,0.3233229725099361,3.5344782618312593,1.7258112983038694,19.731765085254775,0.8128988614932713,2.435089725757859,0.0006261933517011438,0.7548923431316338,1.823753592292253,0.35638887677083547,2.446319610823112,0.7114449297469592,3.140110968053711,1.03361751882414,2.84271041770125,0.7909921960637262,0.789269191979355,3.3682993911519326,13.82519595499939,0.6117630525870213,3.5994608860301915,1.7157259403054705,3.355406493979432,3.228107972823386,3.05351465888362,149.9842813572672,2.583431226421875,0.9344755640354881,0.6635116692879864,9.995693411753088,2.073092439461752,0.38761376893610716,0.6460666051144841,1.4777415279969954,11.015284354340995],&quot;type&quot;:&quot;scatter&quot;,&quot;name&quot;:&quot;Predicted Forward Error&quot;,&quot;x&quot;:[1,2,3,4,5,6,7,8,9,10,11,12,13,14,15,16,17,18,19,20,21,22,23,24,25,26,27,28,29,30,31,32,33,34,35,36,37,38,39,40,41,42,43,44,45,46,47,48,49,50,51,52,53,54,55,56,57,58,59,60,61,62,63,64]}],{&quot;xaxis&quot;:{&quot;title&quot;:&quot;Matrix size&quot;},&quot;margin&quot;:{&quot;l&quot;:50,&quot;b&quot;:50,&quot;r&quot;:50,&quot;t&quot;:60},&quot;yaxis&quot;:{&quot;type&quot;:&quot;log&quot;,&quot;title&quot;:&quot;Error&quot;}},{}); gd.on(&quot;plotly_hover&quot;,(function (data){var filtered_data=WebIO.CommandSets.Plotly.filterEventData(gd,data,&quot;hover&quot;); return !(filtered_data.isnil) ? (WebIO.setval({&quot;name&quot;:&quot;hover&quot;,&quot;scope&quot;:&quot;scope-d88cf58c-0789-4aa2-9861-c79cfc6a0423&quot;,&quot;id&quot;:&quot;ob_01&quot;,&quot;type&quot;:&quot;observable&quot;},filtered_data.out)) : undefined})); gd.on(&quot;plotly_unhover&quot;,(function (){return WebIO.setval({&quot;name&quot;:&quot;hover&quot;,&quot;scope&quot;:&quot;scope-d88cf58c-0789-4aa2-9861-c79cfc6a0423&quot;,&quot;id&quot;:&quot;ob_01&quot;,&quot;type&quot;:&quot;observable&quot;},{})})); gd.on(&quot;plotly_selected&quot;,(function (data){var filtered_data=WebIO.CommandSets.Plotly.filterEventData(gd,data,&quot;selected&quot;); return !(filtered_data.isnil) ? (WebIO.setval({&quot;name&quot;:&quot;selected&quot;,&quot;scope&quot;:&quot;scope-d88cf58c-0789-4aa2-9861-c79cfc6a0423&quot;,&quot;id&quot;:&quot;ob_02&quot;,&quot;type&quot;:&quot;observable&quot;},filtered_data.out)) : undefined})); gd.on(&quot;plotly_deselect&quot;,(function (){return WebIO.setval({&quot;name&quot;:&quot;selected&quot;,&quot;scope&quot;:&quot;scope-d88cf58c-0789-4aa2-9861-c79cfc6a0423&quot;,&quot;id&quot;:&quot;ob_02&quot;,&quot;type&quot;:&quot;observable&quot;},{})})); gd.on(&quot;plotly_relayout&quot;,(function (data){var filtered_data=WebIO.CommandSets.Plotly.filterEventData(gd,data,&quot;relayout&quot;); return !(filtered_data.isnil) ? (WebIO.setval({&quot;name&quot;:&quot;relayout&quot;,&quot;scope&quot;:&quot;scope-d88cf58c-0789-4aa2-9861-c79cfc6a0423&quot;,&quot;id&quot;:&quot;ob_04&quot;,&quot;type&quot;:&quot;observable&quot;},filtered_data.out)) : undefined})); return gd.on(&quot;plotly_click&quot;,(function (data){var filtered_data=WebIO.CommandSets.Plotly.filterEventData(gd,data,&quot;click&quot;); return !(filtered_data.isnil) ? (WebIO.setval({&quot;name&quot;:&quot;click&quot;,&quot;scope&quot;:&quot;scope-d88cf58c-0789-4aa2-9861-c79cfc6a0423&quot;,&quot;id&quot;:&quot;ob_03&quot;,&quot;type&quot;:&quot;observable&quot;},filtered_data.out)) : undefined}))})]},&quot;_downloadImage&quot;:[(function (options){return this.Plotly.downloadImage(this.plotElem,options)})],&quot;_commands&quot;:[(function (args){var fn=args.shift(); var elem=this.plotElem; var Plotly=this.Plotly; args.unshift(elem); return Plotly[fn].apply(this,args)})]},&quot;systemjs_options&quot;:null,&quot;observables&quot;:{&quot;_toImage&quot;:{&quot;sync&quot;:false,&quot;id&quot;:&quot;ob_08&quot;,&quot;value&quot;:{}},&quot;hover&quot;:{&quot;sync&quot;:false,&quot;id&quot;:&quot;ob_01&quot;,&quot;value&quot;:{}},&quot;selected&quot;:{&quot;sync&quot;:false,&quot;id&quot;:&quot;ob_02&quot;,&quot;value&quot;:{}},&quot;__gd_contents&quot;:{&quot;sync&quot;:false,&quot;id&quot;:&quot;ob_06&quot;,&quot;value&quot;:{}},&quot;click&quot;:{&quot;sync&quot;:false,&quot;id&quot;:&quot;ob_03&quot;,&quot;value&quot;:{}},&quot;image&quot;:{&quot;sync&quot;:true,&quot;id&quot;:&quot;ob_05&quot;,&quot;value&quot;:&quot;&quot;},&quot;__get_gd_contents&quot;:{&quot;sync&quot;:false,&quot;id&quot;:&quot;ob_10&quot;,&quot;value&quot;:&quot;&quot;},&quot;_downloadImage&quot;:{&quot;sync&quot;:false,&quot;id&quot;:&quot;ob_09&quot;,&quot;value&quot;:{}},&quot;relayout&quot;:{&quot;sync&quot;:false,&quot;id&quot;:&quot;ob_04&quot;,&quot;value&quot;:{}},&quot;_commands&quot;:{&quot;sync&quot;:false,&quot;id&quot;:&quot;ob_07&quot;,&quot;value&quot;:[]}}},&quot;children&quot;:[{&quot;props&quot;:{&quot;id&quot;:&quot;plot-9bb74863-7e67-4450-a14a-4f44c0536a08&quot;},&quot;nodeType&quot;:&quot;DOM&quot;,&quot;type&quot;:&quot;node&quot;,&quot;instanceArgs&quot;:{&quot;namespace&quot;:&quot;html&quot;,&quot;tag&quot;:&quot;div&quot;},&quot;children&quot;:[]}]})</unsafe-script>"
      ],
      "text/plain": [
       "data: [\n",
       "  \"scatter with fields name, type, x, and y\",\n",
       "  \"scatter with fields name, type, x, and y\",\n",
       "  \"scatter with fields name, type, x, and y\",\n",
       "  \"scatter with fields name, type, x, and y\"\n",
       "]\n",
       "\n",
       "layout: \"layout with fields margin, xaxis, and yaxis\"\n",
       "\n"
      ]
     },
     "execution_count": 12,
     "metadata": {},
     "output_type": "execute_result"
    }
   ],
   "source": [
    "t1 = scatter(x=1:n, y=err[1,:], name=\"Orthogonality\")\n",
    "t2 = scatter(x=1:n, y=err[2,:], name=\"Forward Error\")\n",
    "t3 = scatter(x=1:n, y=err[3,:], name=\"Backward Error\")\n",
    "t4 = scatter(x=1:n, y=err[4,:], name=\"Predicted Forward Error\")\n",
    "l = Layout(yaxis_type=\"log\", xaxis_title=\"Matrix size\", yaxis_title=\"Error\")\n",
    "# l[:height] = 300\n",
    "# l[:width] = 450\n",
    "plot([t1, t2, t3, t4], l)"
   ]
  }
 ],
 "metadata": {
  "anaconda-cloud": {},
  "kernelspec": {
   "display_name": "Julia 1.0.0",
   "language": "julia",
   "name": "julia-1.0"
  },
  "language_info": {
   "file_extension": ".jl",
   "mimetype": "application/julia",
   "name": "julia",
   "version": "1.0.0"
  }
 },
 "nbformat": 4,
 "nbformat_minor": 1
}
