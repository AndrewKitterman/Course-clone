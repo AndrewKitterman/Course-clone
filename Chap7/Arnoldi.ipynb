{
 "cells": [
  {
   "cell_type": "code",
   "execution_count": 1,
   "metadata": {},
   "outputs": [
    {
     "name": "stderr",
     "output_type": "stream",
     "text": [
      "┌ Info: Precompiling Interact [c601a237-2ae4-5e1e-952c-7a85b0c7eef1]\n",
      "└ @ Base loading.jl:1278\n"
     ]
    },
    {
     "data": {
      "text/html": [
       "<script>\n",
       "// Immediately-invoked-function-expression to avoid global variables.\n",
       "(function() {\n",
       "    var warning_div = document.getElementById(\"webio-warning-13250443377621033076\");\n",
       "    var hide = function () {\n",
       "        var script = document.getElementById(\"webio-setup-1353696886424866150\");\n",
       "        var parent = script && script.parentElement;\n",
       "        var grandparent = parent && parent.parentElement;\n",
       "        if (grandparent) {\n",
       "            grandparent.style.display = \"none\";\n",
       "        }\n",
       "        warning_div.style.display = \"none\";\n",
       "    };\n",
       "    if (typeof Jupyter !== \"undefined\") {\n",
       "        console.log(\"WebIO detected Jupyter notebook environment.\");\n",
       "        // Jupyter notebook.\n",
       "        var extensions = (\n",
       "            Jupyter\n",
       "            && Jupyter.notebook.config.data\n",
       "            && Jupyter.notebook.config.data.load_extensions\n",
       "        );\n",
       "        if (extensions && extensions[\"webio-jupyter-notebook\"]) {\n",
       "            // Extension already loaded.\n",
       "            console.log(\"Jupyter WebIO nbextension detected; not loading ad-hoc.\");\n",
       "            hide();\n",
       "            return;\n",
       "        }\n",
       "    } else if (window.location.pathname.includes(\"/lab\")) {\n",
       "        // Guessing JupyterLa\n",
       "        console.log(\"Jupyter Lab detected; make sure the @webio/jupyter-lab-provider labextension is installed.\");\n",
       "        hide();\n",
       "        return;\n",
       "    }\n",
       "})();\n",
       "\n",
       "</script>\n",
       "<p\n",
       "    id=\"webio-warning-13250443377621033076\"\n",
       "    class=\"output_text output_stderr\"\n",
       "    style=\"padding: 1em; font-weight: bold;\"\n",
       ">\n",
       "    Unable to load WebIO. Please make sure WebIO works for your Jupyter client.\n",
       "    For troubleshooting, please see <a href=\"https://juliagizmos.github.io/WebIO.jl/latest/providers/ijulia/\">\n",
       "    the WebIO/IJulia documentation</a>.\n",
       "    <!-- TODO: link to installation docs. -->\n",
       "</p>\n"
      ],
      "text/plain": [
       "HTML{String}(\"<script>\\n// Immediately-invoked-function-expression to avoid global variables.\\n(function() {\\n    var warning_div = document.getElementById(\\\"webio-warning-13250443377621033076\\\");\\n    var hide = function () {\\n        var script = document.getElementById(\\\"webio-setup-1353696886424866150\\\");\\n        var parent = script && script.parentElement;\\n        var grandparent = parent && parent.parentElement;\\n        if (grandparent) {\\n            grandparent.style.display = \\\"none\\\";\\n        }\\n        warning_div.style.display = \\\"none\\\";\\n    };\\n    if (typeof Jupyter !== \\\"undefined\\\") {\\n        console.log(\\\"WebIO detected Jupyter notebook environment.\\\");\\n        // Jupyter notebook.\\n        var extensions = (\\n            Jupyter\\n            && Jupyter.notebook.config.data\\n            && Jupyter.notebook.config.data.load_extensions\\n        );\\n        if (extensions && extensions[\\\"webio-jupyter-notebook\\\"]) {\\n            // Extension already loaded.\\n            console.log(\\\"Jupyter WebIO nbextension detected; not loading ad-hoc.\\\");\\n            hide();\\n            return;\\n        }\\n    } else if (window.location.pathname.includes(\\\"/lab\\\")) {\\n        // Guessing JupyterLa\\n        console.log(\\\"Jupyter Lab detected; make sure the @webio/jupyter-lab-provider labextension is installed.\\\");\\n        hide();\\n        return;\\n    }\\n})();\\n\\n</script>\\n<p\\n    id=\\\"webio-warning-13250443377621033076\\\"\\n    class=\\\"output_text output_stderr\\\"\\n    style=\\\"padding: 1em; font-weight: bold;\\\"\\n>\\n    Unable to load WebIO. Please make sure WebIO works for your Jupyter client.\\n    For troubleshooting, please see <a href=\\\"https://juliagizmos.github.io/WebIO.jl/latest/providers/ijulia/\\\">\\n    the WebIO/IJulia documentation</a>.\\n    <!-- TODO: link to installation docs. -->\\n</p>\\n\")"
      ]
     },
     "metadata": {},
     "output_type": "display_data"
    }
   ],
   "source": [
    "using Printf\n",
    "using Random\n",
    "using LinearAlgebra\n",
    "using Interact\n",
    "rng = MersenneTwister(18);"
   ]
  },
  {
   "cell_type": "code",
   "execution_count": 2,
   "metadata": {},
   "outputs": [
    {
     "data": {
      "text/plain": [
       "eig_k (generic function with 1 method)"
      ]
     },
     "execution_count": 2,
     "metadata": {},
     "output_type": "execute_result"
    }
   ],
   "source": [
    "function Arnoldi_Compute_Hk(A,q,kmax)\n",
    "    H = zeros(kmax, kmax)\n",
    "    r = copy(q[:,1])\n",
    "    q[:,1] = r / norm(r)\n",
    "    \n",
    "    for k = 1:kmax\n",
    "        if k > 1\n",
    "            q[:,k] = r / H[k,k-1]\n",
    "        end\n",
    "\n",
    "        r = A * q[:,k] # Multiply by A\n",
    "        for i=1:k\n",
    "            # Make vector orthogonal\n",
    "            H[i,k] = dot(q[:,i], r)\n",
    "            r -= H[i,k] * q[:,i]\n",
    "        end\n",
    "\n",
    "        if k<kmax\n",
    "            H[k+1,k] = norm(r)\n",
    "        end\n",
    "    end\n",
    "    return H\n",
    "end\n",
    "\n",
    "function eig_k(H,k)\n",
    "    Hk = H[1:k,1:k]\n",
    "    L = eigen(Hk).values # Eigenvalue estimates at step k        \n",
    "    return L    \n",
    "end"
   ]
  },
  {
   "cell_type": "code",
   "execution_count": 3,
   "metadata": {},
   "outputs": [],
   "source": [
    "n = 128\n",
    "\n",
    "# Case 1\n",
    "nh = div(n,2)\n",
    "@assert 2*nh == n\n",
    "θ = 2*π*rand(nh)\n",
    "D = sqrt.(rand(nh)) .* (cos.(θ) + sin.(θ)*im)\n",
    "D = [D;conj(D)]\n",
    "D[nh] = 2\n",
    "D[n] = 2\n",
    "X = rand(n,nh) + rand(n,nh)*im\n",
    "X = hcat(X,conj(X))\n",
    "\n",
    "# Case 2\n",
    "# X = rand(n,n)\n",
    "# D = cos(linspace(0,π,n))\n",
    "\n",
    "A = real( X * diagm(0 => D) / X )\n",
    "\n",
    "kmax = n # Size of Arnoldi space\n",
    "\n",
    "q = zeros(n,kmax)\n",
    "# Random starting vector\n",
    "q[:,1] = rand(n)\n",
    "q[:,1] /= norm(q[:,1])\n",
    "\n",
    "Hk = Arnoldi_Compute_Hk(A,q,kmax);"
   ]
  },
  {
   "cell_type": "code",
   "execution_count": 4,
   "metadata": {},
   "outputs": [
    {
     "data": {
      "text/plain": [
       "lt (generic function with 1 method)"
      ]
     },
     "execution_count": 4,
     "metadata": {},
     "output_type": "execute_result"
    }
   ],
   "source": [
    "function lt(z1,z2)\n",
    "    if abs( abs(z1)-abs(z2) ) > eps(Float32) * (abs(z1) + abs(z2))\n",
    "        return abs(z1) < abs(z2)\n",
    "    elseif abs( real(z1-z2) ) > eps(Float32) * (abs(z1) + abs(z2))\n",
    "        return real(z1) < real(z2)\n",
    "    else\n",
    "        return imag(z1) < imag(z2)\n",
    "    end\n",
    "end"
   ]
  },
  {
   "cell_type": "code",
   "execution_count": 5,
   "metadata": {},
   "outputs": [
    {
     "name": "stdout",
     "output_type": "stream",
     "text": [
      "norm(D - D1) / norm(D) = 1.1747934625375197e-14\n"
     ]
    },
    {
     "data": {
      "text/plain": [
       "1.1747934625375197e-14"
      ]
     },
     "execution_count": 5,
     "metadata": {},
     "output_type": "execute_result"
    }
   ],
   "source": [
    "# Testing accuracy\n",
    "D = eigen(A).values; D1 = eigen(Hk).values\n",
    "sort!(D, lt=lt); sort!(D1, lt=lt)\n",
    "@show norm(D-D1) / norm(D)"
   ]
  },
  {
   "cell_type": "code",
   "execution_count": 6,
   "metadata": {},
   "outputs": [
    {
     "data": {
      "text/plain": [
       "false"
      ]
     },
     "execution_count": 6,
     "metadata": {},
     "output_type": "execute_result"
    }
   ],
   "source": [
    "include(\"../load_plot_pkg.jl\")\n",
    "output = false"
   ]
  },
  {
   "cell_type": "code",
   "execution_count": 7,
   "metadata": {},
   "outputs": [
    {
     "data": {
      "application/vnd.webio.node+json": {
       "children": [
        {
         "children": [
          {
           "children": [
            {
             "children": [
              {
               "children": [
                {
                 "children": [
                  "k"
                 ],
                 "instanceArgs": {
                  "namespace": "html",
                  "tag": "label"
                 },
                 "nodeType": "DOM",
                 "props": {
                  "className": "interact ",
                  "style": {
                   "padding": "5px 10px 0px 10px"
                  }
                 },
                 "type": "node"
                }
               ],
               "instanceArgs": {
                "namespace": "html",
                "tag": "div"
               },
               "nodeType": "DOM",
               "props": {
                "className": "interact-flex-row-left"
               },
               "type": "node"
              },
              {
               "children": [
                {
                 "children": [],
                 "instanceArgs": {
                  "namespace": "html",
                  "tag": "input"
                 },
                 "nodeType": "DOM",
                 "props": {
                  "attributes": {
                   "data-bind": "numericValue: index, valueUpdate: 'input', event: {change: function (){this.changes(this.changes()+1)}}",
                   "orient": "horizontal",
                   "type": "range"
                  },
                  "className": "slider slider is-fullwidth",
                  "max": 128,
                  "min": 1,
                  "step": 1,
                  "style": {}
                 },
                 "type": "node"
                }
               ],
               "instanceArgs": {
                "namespace": "html",
                "tag": "div"
               },
               "nodeType": "DOM",
               "props": {
                "className": "interact-flex-row-center"
               },
               "type": "node"
              },
              {
               "children": [
                {
                 "children": [],
                 "instanceArgs": {
                  "namespace": "html",
                  "tag": "p"
                 },
                 "nodeType": "DOM",
                 "props": {
                  "attributes": {
                   "data-bind": "text: formatted_val"
                  }
                 },
                 "type": "node"
                }
               ],
               "instanceArgs": {
                "namespace": "html",
                "tag": "div"
               },
               "nodeType": "DOM",
               "props": {
                "className": "interact-flex-row-right"
               },
               "type": "node"
              }
             ],
             "instanceArgs": {
              "namespace": "html",
              "tag": "div"
             },
             "nodeType": "DOM",
             "props": {
              "className": "interact-flex-row interact-widget"
             },
             "type": "node"
            }
           ],
           "instanceArgs": {
            "handlers": {
             "changes": [
              "(function (val){return (val!=this.model[\"changes\"]()) ? (this.valueFromJulia[\"changes\"]=true, this.model[\"changes\"](val)) : undefined})"
             ],
             "index": [
              "(function (val){return (val!=this.model[\"index\"]()) ? (this.valueFromJulia[\"index\"]=true, this.model[\"index\"](val)) : undefined})"
             ]
            },
            "id": "13428884957449532133",
            "imports": {
             "data": [
              {
               "name": "knockout",
               "type": "js",
               "url": "/assetserver/9b065ae8e54d70e8c0a9ace862b876df8ccf5ccc-knockout.js"
              },
              {
               "name": "knockout_punches",
               "type": "js",
               "url": "/assetserver/460b6546ace26ff29067687e00b12abd1c180809-knockout_punches.js"
              },
              {
               "name": null,
               "type": "js",
               "url": "/assetserver/07b93b47467aea907bce815be3c97683bbaa8b9e-all.js"
              },
              {
               "name": null,
               "type": "css",
               "url": "/assetserver/20d5cb6544606f3af3d3f97eac9fa6a4ab574acd-style.css"
              },
              {
               "name": null,
               "type": "css",
               "url": "/assetserver/7947ff20caec889622c6b1b73a645b94265772f4-bulma_confined.min.css"
              }
             ],
             "type": "async_block"
            },
            "mount_callbacks": [
             "function () {\n    var handler = (function (ko, koPunches) {\n    ko.punches.enableAll();\n    ko.bindingHandlers.numericValue = {\n        init: function(element, valueAccessor, allBindings, data, context) {\n            var stringified = ko.observable(ko.unwrap(valueAccessor()));\n            stringified.subscribe(function(value) {\n                var val = parseFloat(value);\n                if (!isNaN(val)) {\n                    valueAccessor()(val);\n                }\n            });\n            valueAccessor().subscribe(function(value) {\n                var str = JSON.stringify(value);\n                if ((str == \"0\") && ([\"-0\", \"-0.\"].indexOf(stringified()) >= 0))\n                     return;\n                 if ([\"null\", \"\"].indexOf(str) >= 0)\n                     return;\n                stringified(str);\n            });\n            ko.applyBindingsToNode(\n                element,\n                {\n                    value: stringified,\n                    valueUpdate: allBindings.get('valueUpdate'),\n                },\n                context,\n            );\n        }\n    };\n    var json_data = {\"formatted_vals\":[\"1\",\"2\",\"3\",\"4\",\"5\",\"6\",\"7\",\"8\",\"9\",\"10\",\"11\",\"12\",\"13\",\"14\",\"15\",\"16\",\"17\",\"18\",\"19\",\"20\",\"21\",\"22\",\"23\",\"24\",\"25\",\"26\",\"27\",\"28\",\"29\",\"30\",\"31\",\"32\",\"33\",\"34\",\"35\",\"36\",\"37\",\"38\",\"39\",\"40\",\"41\",\"42\",\"43\",\"44\",\"45\",\"46\",\"47\",\"48\",\"49\",\"50\",\"51\",\"52\",\"53\",\"54\",\"55\",\"56\",\"57\",\"58\",\"59\",\"60\",\"61\",\"62\",\"63\",\"64\",\"65\",\"66\",\"67\",\"68\",\"69\",\"70\",\"71\",\"72\",\"73\",\"74\",\"75\",\"76\",\"77\",\"78\",\"79\",\"80\",\"81\",\"82\",\"83\",\"84\",\"85\",\"86\",\"87\",\"88\",\"89\",\"90\",\"91\",\"92\",\"93\",\"94\",\"95\",\"96\",\"97\",\"98\",\"99\",\"100\",\"101\",\"102\",\"103\",\"104\",\"105\",\"106\",\"107\",\"108\",\"109\",\"110\",\"111\",\"112\",\"113\",\"114\",\"115\",\"116\",\"117\",\"118\",\"119\",\"120\",\"121\",\"122\",\"123\",\"124\",\"125\",\"126\",\"127\",\"128\"],\"changes\":WebIO.getval({\"name\":\"changes\",\"scope\":\"13428884957449532133\",\"id\":\"16297460967567362666\",\"type\":\"observable\"}),\"index\":WebIO.getval({\"name\":\"index\",\"scope\":\"13428884957449532133\",\"id\":\"13630079898035726672\",\"type\":\"observable\"})};\n    var self = this;\n    function AppViewModel() {\n        for (var key in json_data) {\n            var el = json_data[key];\n            this[key] = Array.isArray(el) ? ko.observableArray(el) : ko.observable(el);\n        }\n        \n        [this[\"formatted_val\"]=ko.computed(    function(){\n        return this.formatted_vals()[parseInt(this.index())-(1)];\n    }\n,this)]\n        [this[\"changes\"].subscribe((function (val){!(this.valueFromJulia[\"changes\"]) ? (WebIO.setval({\"name\":\"changes\",\"scope\":\"13428884957449532133\",\"id\":\"16297460967567362666\",\"type\":\"observable\"},val)) : undefined; return this.valueFromJulia[\"changes\"]=false}),self),this[\"index\"].subscribe((function (val){!(this.valueFromJulia[\"index\"]) ? (WebIO.setval({\"name\":\"index\",\"scope\":\"13428884957449532133\",\"id\":\"13630079898035726672\",\"type\":\"observable\"},val)) : undefined; return this.valueFromJulia[\"index\"]=false}),self)]\n        \n    }\n    self.model = new AppViewModel();\n    self.valueFromJulia = {};\n    for (var key in json_data) {\n        self.valueFromJulia[key] = false;\n    }\n    ko.applyBindings(self.model, self.dom);\n}\n);\n    (WebIO.importBlock({\"data\":[{\"name\":\"knockout\",\"type\":\"js\",\"url\":\"/assetserver/9b065ae8e54d70e8c0a9ace862b876df8ccf5ccc-knockout.js\"},{\"name\":\"knockout_punches\",\"type\":\"js\",\"url\":\"/assetserver/460b6546ace26ff29067687e00b12abd1c180809-knockout_punches.js\"}],\"type\":\"async_block\"})).then((imports) => handler.apply(this, imports));\n}\n"
            ],
            "observables": {
             "changes": {
              "id": "16297460967567362666",
              "sync": false,
              "value": 0
             },
             "index": {
              "id": "13630079898035726672",
              "sync": true,
              "value": 64
             }
            },
            "systemjs_options": null
           },
           "nodeType": "Scope",
           "props": {},
           "type": "node"
          }
         ],
         "instanceArgs": {
          "namespace": "html",
          "tag": "div"
         },
         "nodeType": "DOM",
         "props": {
          "className": "field interact-widget"
         },
         "type": "node"
        },
        {
         "children": [
          {
           "children": [],
           "instanceArgs": {
            "id": "11729830106107496569",
            "name": "obs-node"
           },
           "nodeType": "ObservableNode",
           "props": {},
           "type": "node"
          }
         ],
         "instanceArgs": {
          "handlers": {},
          "id": "10232940823444288818",
          "imports": {
           "data": [],
           "type": "async_block"
          },
          "mount_callbacks": [],
          "observables": {
           "obs-node": {
            "id": "11729830106107496569",
            "sync": false,
            "value": {
             "children": [
              {
               "children": [
                {
                 "children": [],
                 "instanceArgs": {
                  "namespace": "html",
                  "tag": "div"
                 },
                 "nodeType": "DOM",
                 "props": {
                  "id": "plot-c40cf929-5db8-4a60-b28d-bff20142bcb0"
                 },
                 "type": "node"
                }
               ],
               "instanceArgs": {
                "handlers": {
                 "__get_gd_contents": [
                  "(function (prop){prop==\"data\" ? (WebIO.setval({\"name\":\"__gd_contents\",\"scope\":\"15461597738960341640\",\"id\":\"10895629007868711487\",\"type\":\"observable\"},this.plotElem.data)) : undefined; return prop==\"layout\" ? (WebIO.setval({\"name\":\"__gd_contents\",\"scope\":\"15461597738960341640\",\"id\":\"10895629007868711487\",\"type\":\"observable\"},this.plotElem.layout)) : undefined})"
                 ],
                 "_commands": [
                  "(function (args){var fn=args.shift(); var elem=this.plotElem; var Plotly=this.Plotly; args.unshift(elem); return Plotly[fn].apply(this,args)})"
                 ],
                 "_downloadImage": [
                  "(function (options){return this.Plotly.downloadImage(this.plotElem,options)})"
                 ],
                 "_toImage": [
                  "(function (options){return this.Plotly.toImage(this.plotElem,options).then((function (data){return WebIO.setval({\"name\":\"image\",\"scope\":\"15461597738960341640\",\"id\":\"13559039712993313920\",\"type\":\"observable\"},data)}))})"
                 ]
                },
                "id": "15461597738960341640",
                "imports": {
                 "data": [
                  {
                   "name": "Plotly",
                   "type": "js",
                   "url": "/assetserver/57533c5d787f8bc76a9e58ed0a1abce5f1b0c14d-plotly-latest.min.js"
                  },
                  {
                   "name": null,
                   "type": "js",
                   "url": "/assetserver/58a7932c57029f7dbaa4105104076ff149fc7585-plotly_webio.bundle.js"
                  }
                 ],
                 "type": "async_block"
                },
                "mount_callbacks": [
                 "function () {\n    var handler = ((function (Plotly,PlotlyWebIO){PlotlyWebIO.init(WebIO); var gd=this.dom.querySelector(\"#plot-c40cf929-5db8-4a60-b28d-bff20142bcb0\"); this.plotElem=gd; this.Plotly=Plotly; (window.Blink!==undefined) ? (gd.style.width=\"100%\", gd.style.height=\"100vh\", gd.style.marginLeft=\"0%\", gd.style.marginTop=\"0vh\") : undefined; window.onresize=(function (){return Plotly.Plots.resize(gd)}); Plotly.newPlot(gd,[{\"marker\":{\"color\":\"#E24A33\",\"line\":{\"color\":\"#348ABD\",\"width\":0.5},\"size\":10},\"mode\":\"markers\",\"y\":[-0.10879037172432661,0.10879037172432661,-0.10975154797655741,0.10975154797655741,-0.13574989776119825,0.13574989776119825,-0.2586418035994159,0.2586418035994159,-0.25405753948613863,0.25405753948613863,-0.25937290392145046,0.25937290392145046,-0.10958000387513785,0.10958000387513785,-0.06620116864384624,0.06620116864384624,-0.1241160634388358,0.1241160634388358,-0.11891441024179619,0.11891441024179619,-0.15324486888652875,0.15324486888652875,-0.27693427571701096,0.27693427571701096,-0.1469983478745087,0.1469983478745087,-0.006070372044894234,0.006070372044894234,-0.2733124752131209,0.2733124752131209,-0.15010276060352204,0.15010276060352204,-0.4076166157076757,0.4076166157076757,-0.435427617375865,0.435427617375865,-0.367673722039919,0.367673722039919,-0.21409644700340624,0.21409644700340624,-0.14614349130421586,0.14614349130421586,-0.5578882417258654,0.5578882417258654,-0.4159869952446049,0.4159869952446049,-0.33746811060321874,0.33746811060321874,-0.5698578632990555,0.5698578632990555,-0.07295304743558527,0.07295304743558527,-0.0077687744084616725,0.0077687744084616725,-0.4624195694651731,0.4624195694651731,-0.22665038990979033,0.22665038990979033,-0.1662578654643505,0.1662578654643505,-0.5367077151212837,0.5367077151212837,-0.15836119083078365,0.15836119083078365,-0.3304511042650952,0.3304511042650952,-0.7095807382647048,0.7095807382647048,-0.6452086879219459,0.6452086879219459,-0.731300948187981,0.731300948187981,-0.7101996309969153,0.7101996309969153,-0.7363127609317422,0.7363127609317422,-0.5564417107281155,0.5564417107281155,-0.8218101594883035,0.8218101594883035,-0.7349403448984013,0.7349403448984013,-0.5725344533659485,0.5725344533659485,-0.05343384818679309,0.05343384818679309,-0.022075690302093564,0.022075690302093564,-0.7829542463514122,0.7829542463514122,-0.3356657405904009,0.3356657405904009,-0.8278257536091009,0.8278257536091009,-0.6100238364637857,0.6100238364637857,-0.8579428831467321,0.8579428831467321,-0.2465493684529824,0.2465493684529824,-0.057589922155649724,0.057589922155649724,-0.8722121001128617,0.8722121001128617,-0.8472730760907735,0.8472730760907735,-0.28997375715904594,0.28997375715904594,-0.4332899047027232,0.4332899047027232,-0.8123437273543532,0.8123437273543532,-0.39608696295063567,0.39608696295063567,-0.7795196394843853,0.7795196394843853,-0.5778613528662261,0.5778613528662261,-0.9702019276716233,0.9702019276716233,-0.9482064801548805,0.9482064801548805,-0.6363985741119599,0.6363985741119599,-0.9950409851034387,0.9950409851034387,-2.0122098419976547e-14,2.0122098419976547e-14],\"type\":\"scatter\",\"name\":\"A\",\"x\":[-0.08918709450397054,-0.08918709450397054,0.1408045573352858,0.1408045573352858,0.1389557009297892,0.1389557009297892,-0.04253008075392087,-0.04253008075392087,0.07581846549397914,0.07581846549397914,-0.07743776140021558,-0.07743776140021558,0.26069783987870637,0.26069783987870637,-0.2983583349177032,-0.2983583349177032,0.2933804196501578,0.2933804196501578,0.31606766099877515,0.31606766099877515,0.31325629775361996,0.31325629775361996,0.2426175117064043,0.2426175117064043,0.4066689719517996,0.4066689719517996,0.43528476157447804,0.43528476157447804,0.3470266676670776,0.3470266676670776,-0.41707484404311546,-0.41707484404311546,-0.19824256144181238,-0.19824256144181238,-0.18708458053478302,-0.18708458053478302,0.4078152716991666,0.4078152716991666,-0.5140977209855127,-0.5140977209855127,0.5393394856603746,0.5393394856603746,-0.05448321301488068,-0.05448321301488068,-0.3787892597830979,-0.3787892597830979,-0.4718959365649278,-0.4718959365649278,0.14662853412238666,0.14662853412238666,-0.5945856860397631,-0.5945856860397631,-0.6001632594545074,-0.6001632594545074,0.3842103488896186,0.3842103488896186,0.6147183593836323,0.6147183593836323,-0.6365539601591952,-0.6365539601591952,0.41058938905390885,0.41058938905390885,0.6901142036782117,0.6901142036782117,0.6354530240453067,0.6354530240453067,-0.14114661172047757,-0.14114661172047757,0.3306266557328791,0.3306266557328791,-0.047519071171810964,-0.047519071171810964,0.21439327941744646,0.21439327941744646,0.1509513971334683,0.1509513971334683,0.5768832687360091,0.5768832687360091,-0.03056407630046251,-0.03056407630046251,0.3711841503035054,0.3711841503035054,0.5974226542278691,0.5974226542278691,-0.8375477982368175,-0.8375477982368175,0.8431533304389764,0.8431533304389764,-0.33278641507162615,-0.33278641507162615,0.7817827035457106,0.7817827035457106,-0.1967007561339742,-0.1967007561339742,0.5933219674458214,0.5933219674458214,-0.032293787955374076,-0.032293787955374076,0.8318795097238192,0.8318795097238192,-0.878284108628804,-0.878284108628804,-0.3244052902649379,-0.3244052902649379,-0.4026240648662433,-0.4026240648662433,-0.8940321182123798,-0.8940321182123798,-0.8401411096864391,-0.8401411096864391,-0.4990269579655238,-0.4990269579655238,0.8714828925775688,0.8714828925775688,-0.5736417024848666,-0.5736417024848666,-0.7879390918820168,-0.7879390918820168,0.1874964563992596,0.1874964563992596,0.27930706900332614,0.27930706900332614,0.7604128389076625,0.7604128389076625,-0.04092621100019783,-0.04092621100019783,2.000000000000005,2.000000000000005]},{\"marker\":{\"color\":\"#348ABD\",\"line\":{\"color\":\"#348ABD\",\"width\":0.5},\"size\":10},\"mode\":\"markers\",\"y\":[-0.28997121202568915,0.28997121202568915,-0.057711224431536,0.057711224431536,-0.4332902148516033,0.4332902148516033,-0.05001999151521939,0.05001999151521939,-0.5778614128394377,0.5778614128394377,0.0,-0.7795209572265548,0.7795209572265548,-0.8120694956225388,0.8120694956225388,-0.29091406777520323,0.29091406777520323,-0.12188267132340726,0.12188267132340726,-0.8469835451216485,0.8469835451216485,-0.7807386184629231,0.7807386184629231,-0.8722998601151722,0.8722998601151722,-0.8275351118906801,0.8275351118906801,-0.995038271653088,0.995038271653088,-0.7587893897093868,0.7587893897093868,-0.8594634816564333,0.8594634816564333,-0.4641553850267692,0.4641553850267692,-0.9701913874276151,0.9701913874276151,-0.696633923879662,0.696633923879662,-0.9482130637893178,0.9482130637893178,-0.7336369155905018,0.7336369155905018,-0.5495848511340681,0.5495848511340681,0.0,-0.5633247529199634,0.5633247529199634,-0.6054232500570406,0.6054232500570406,-0.16355934993910326,0.16355934993910326,-0.6363999261183063,0.6363999261183063,-0.34184487643824374,0.34184487643824374,-0.24599442157855209,0.24599442157855209,-0.018905774799210247,0.018905774799210247,-0.3960859676297567,0.3960859676297567,0.0,0.0],\"type\":\"scatter\",\"name\":\"Arnoldi\",\"x\":[-0.8940312106670951,-0.8940312106670951,-0.8784014066131323,-0.8784014066131323,-0.8401420781231024,-0.8401420781231024,-0.8362592469395849,-0.8362592469395849,-0.7879393099111964,-0.7879393099111964,-0.6157669887143555,-0.573639840395276,-0.573639840395276,-0.4990161732759877,-0.4990161732759877,-0.44464819664677835,-0.44464819664677835,-0.40499429898060735,-0.40499429898060735,-0.402928613862178,-0.402928613862178,-0.33299737186198325,-0.33299737186198325,-0.32444828248426794,-0.32444828248426794,-0.195584477347036,-0.195584477347036,-0.04091968382129185,-0.04091968382129185,-0.03514359669644776,-0.03514359669644776,-0.03193619469490616,-0.03193619469490616,0.17496962005951527,0.17496962005951527,0.18751128229868225,0.18751128229868225,0.20411078818020745,0.20411078818020745,0.2793046085387927,0.2793046085387927,0.3706701944876835,0.3706701944876835,0.3730446532317942,0.3730446532317942,0.5610989636582508,0.5899421619603977,0.5899421619603977,0.5967605954549953,0.5967605954549953,0.6366932623811072,0.6366932623811072,0.7604139289386501,0.7604139289386501,0.7749842378972858,0.7749842378972858,0.8314964082732764,0.8314964082732764,0.8452802292670493,0.8452802292670493,0.871496673958127,0.871496673958127,1.9999999985563284,2.000000000000001]}],{\"xaxis\":{\"showgrid\":true,\"gridcolor\":\"#E5E5E5\",\"titlefont\":{\"color\":\"#555555\",\"size\":18},\"zeroline\":false,\"ticks\":\"inside\",\"title\":\"Real part\",\"range\":[-1.1,2.1],\"linewidth\":1.0,\"mirror\":true,\"linecolor\":\"black\"},\"titlefont\":{\"size\":18},\"font\":{\"size\":16},\"height\":550,\"margin\":{\"l\":80,\"b\":50,\"r\":50,\"t\":60},\"yaxis\":{\"scaleanchor\":\"x\",\"ticks\":\"inside\",\"range\":[-1.1,1.1],\"linecolor\":\"black\",\"showgrid\":true,\"scaleratio\":1,\"title\":\"Imaginary part\",\"mirror\":true,\"gridcolor\":\"#E5E5E5\",\"titlefont\":{\"color\":\"#555555\",\"size\":18},\"zeroline\":false,\"linewidth\":1.0},\"width\":700},{}); gd.on(\"plotly_hover\",(function (data){var filtered_data=WebIO.PlotlyCommands.filterEventData(gd,data,\"hover\"); return !(filtered_data.isnil) ? (WebIO.setval({\"name\":\"hover\",\"scope\":\"15461597738960341640\",\"id\":\"15053271299962572372\",\"type\":\"observable\"},filtered_data.out)) : undefined})); gd.on(\"plotly_unhover\",(function (){return WebIO.setval({\"name\":\"hover\",\"scope\":\"15461597738960341640\",\"id\":\"15053271299962572372\",\"type\":\"observable\"},{})})); gd.on(\"plotly_selected\",(function (data){var filtered_data=WebIO.PlotlyCommands.filterEventData(gd,data,\"selected\"); return !(filtered_data.isnil) ? (WebIO.setval({\"name\":\"selected\",\"scope\":\"15461597738960341640\",\"id\":\"14634563450705664328\",\"type\":\"observable\"},filtered_data.out)) : undefined})); gd.on(\"plotly_deselect\",(function (){return WebIO.setval({\"name\":\"selected\",\"scope\":\"15461597738960341640\",\"id\":\"14634563450705664328\",\"type\":\"observable\"},{})})); gd.on(\"plotly_relayout\",(function (data){var filtered_data=WebIO.PlotlyCommands.filterEventData(gd,data,\"relayout\"); return !(filtered_data.isnil) ? (WebIO.setval({\"name\":\"relayout\",\"scope\":\"15461597738960341640\",\"id\":\"1277399592706455682\",\"type\":\"observable\"},filtered_data.out)) : undefined})); return gd.on(\"plotly_click\",(function (data){var filtered_data=WebIO.PlotlyCommands.filterEventData(gd,data,\"click\"); return !(filtered_data.isnil) ? (WebIO.setval({\"name\":\"click\",\"scope\":\"15461597738960341640\",\"id\":\"6607105024104025061\",\"type\":\"observable\"},filtered_data.out)) : undefined}))}));\n    (WebIO.importBlock({\"data\":[{\"name\":\"Plotly\",\"type\":\"js\",\"url\":\"/assetserver/57533c5d787f8bc76a9e58ed0a1abce5f1b0c14d-plotly-latest.min.js\"},{\"name\":null,\"type\":\"js\",\"url\":\"/assetserver/58a7932c57029f7dbaa4105104076ff149fc7585-plotly_webio.bundle.js\"}],\"type\":\"async_block\"})).then((imports) => handler.apply(this, imports));\n}\n"
                ],
                "observables": {
                 "__gd_contents": {
                  "id": "10895629007868711487",
                  "sync": false,
                  "value": {}
                 },
                 "__get_gd_contents": {
                  "id": "12354966328442972066",
                  "sync": false,
                  "value": ""
                 },
                 "_commands": {
                  "id": "3218544010459084578",
                  "sync": false,
                  "value": []
                 },
                 "_downloadImage": {
                  "id": "17905876220801708483",
                  "sync": false,
                  "value": {}
                 },
                 "_toImage": {
                  "id": "10451706395594791068",
                  "sync": false,
                  "value": {}
                 },
                 "click": {
                  "id": "6607105024104025061",
                  "sync": false,
                  "value": {}
                 },
                 "hover": {
                  "id": "15053271299962572372",
                  "sync": false,
                  "value": {}
                 },
                 "image": {
                  "id": "13559039712993313920",
                  "sync": true,
                  "value": ""
                 },
                 "relayout": {
                  "id": "1277399592706455682",
                  "sync": false,
                  "value": {}
                 },
                 "selected": {
                  "id": "14634563450705664328",
                  "sync": false,
                  "value": {}
                 }
                },
                "systemjs_options": null
               },
               "nodeType": "Scope",
               "props": {},
               "type": "node"
              }
             ],
             "instanceArgs": {
              "namespace": "html",
              "tag": "div"
             },
             "nodeType": "DOM",
             "props": {
              "className": "interact-flex-row interact-widget"
             },
             "type": "node"
            }
           }
          },
          "systemjs_options": null
         },
         "nodeType": "Scope",
         "props": {},
         "type": "node"
        }
       ],
       "instanceArgs": {
        "namespace": "html",
        "tag": "div"
       },
       "nodeType": "DOM",
       "props": {},
       "type": "node"
      },
      "text/html": [
       "<div\n",
       "    class=\"webio-mountpoint\"\n",
       "    data-webio-mountpoint=\"8254464738164128944\"\n",
       ">\n",
       "    <script>\n",
       "    if (window.require && require.defined && require.defined(\"nbextensions/webio-jupyter-notebook\")) {\n",
       "        console.log(\"Jupyter WebIO extension detected, not mounting.\");\n",
       "    } else if (window.WebIO) {\n",
       "        WebIO.mount(\n",
       "            document.querySelector('[data-webio-mountpoint=\"8254464738164128944\"]'),\n",
       "            {\"props\":{},\"nodeType\":\"DOM\",\"type\":\"node\",\"instanceArgs\":{\"namespace\":\"html\",\"tag\":\"div\"},\"children\":[{\"props\":{\"className\":\"field interact-widget\"},\"nodeType\":\"DOM\",\"type\":\"node\",\"instanceArgs\":{\"namespace\":\"html\",\"tag\":\"div\"},\"children\":[{\"props\":{},\"nodeType\":\"Scope\",\"type\":\"node\",\"instanceArgs\":{\"imports\":{\"data\":[{\"name\":\"knockout\",\"type\":\"js\",\"url\":\"\\/assetserver\\/9b065ae8e54d70e8c0a9ace862b876df8ccf5ccc-knockout.js\"},{\"name\":\"knockout_punches\",\"type\":\"js\",\"url\":\"\\/assetserver\\/460b6546ace26ff29067687e00b12abd1c180809-knockout_punches.js\"},{\"name\":null,\"type\":\"js\",\"url\":\"\\/assetserver\\/07b93b47467aea907bce815be3c97683bbaa8b9e-all.js\"},{\"name\":null,\"type\":\"css\",\"url\":\"\\/assetserver\\/20d5cb6544606f3af3d3f97eac9fa6a4ab574acd-style.css\"},{\"name\":null,\"type\":\"css\",\"url\":\"\\/assetserver\\/7947ff20caec889622c6b1b73a645b94265772f4-bulma_confined.min.css\"}],\"type\":\"async_block\"},\"id\":\"13428884957449532133\",\"handlers\":{\"changes\":[\"(function (val){return (val!=this.model[\\\"changes\\\"]()) ? (this.valueFromJulia[\\\"changes\\\"]=true, this.model[\\\"changes\\\"](val)) : undefined})\"],\"index\":[\"(function (val){return (val!=this.model[\\\"index\\\"]()) ? (this.valueFromJulia[\\\"index\\\"]=true, this.model[\\\"index\\\"](val)) : undefined})\"]},\"systemjs_options\":null,\"mount_callbacks\":[\"function () {\\n    var handler = (function (ko, koPunches) {\\n    ko.punches.enableAll();\\n    ko.bindingHandlers.numericValue = {\\n        init: function(element, valueAccessor, allBindings, data, context) {\\n            var stringified = ko.observable(ko.unwrap(valueAccessor()));\\n            stringified.subscribe(function(value) {\\n                var val = parseFloat(value);\\n                if (!isNaN(val)) {\\n                    valueAccessor()(val);\\n                }\\n            });\\n            valueAccessor().subscribe(function(value) {\\n                var str = JSON.stringify(value);\\n                if ((str == \\\"0\\\") && ([\\\"-0\\\", \\\"-0.\\\"].indexOf(stringified()) >= 0))\\n                     return;\\n                 if ([\\\"null\\\", \\\"\\\"].indexOf(str) >= 0)\\n                     return;\\n                stringified(str);\\n            });\\n            ko.applyBindingsToNode(\\n                element,\\n                {\\n                    value: stringified,\\n                    valueUpdate: allBindings.get('valueUpdate'),\\n                },\\n                context,\\n            );\\n        }\\n    };\\n    var json_data = {\\\"formatted_vals\\\":[\\\"1\\\",\\\"2\\\",\\\"3\\\",\\\"4\\\",\\\"5\\\",\\\"6\\\",\\\"7\\\",\\\"8\\\",\\\"9\\\",\\\"10\\\",\\\"11\\\",\\\"12\\\",\\\"13\\\",\\\"14\\\",\\\"15\\\",\\\"16\\\",\\\"17\\\",\\\"18\\\",\\\"19\\\",\\\"20\\\",\\\"21\\\",\\\"22\\\",\\\"23\\\",\\\"24\\\",\\\"25\\\",\\\"26\\\",\\\"27\\\",\\\"28\\\",\\\"29\\\",\\\"30\\\",\\\"31\\\",\\\"32\\\",\\\"33\\\",\\\"34\\\",\\\"35\\\",\\\"36\\\",\\\"37\\\",\\\"38\\\",\\\"39\\\",\\\"40\\\",\\\"41\\\",\\\"42\\\",\\\"43\\\",\\\"44\\\",\\\"45\\\",\\\"46\\\",\\\"47\\\",\\\"48\\\",\\\"49\\\",\\\"50\\\",\\\"51\\\",\\\"52\\\",\\\"53\\\",\\\"54\\\",\\\"55\\\",\\\"56\\\",\\\"57\\\",\\\"58\\\",\\\"59\\\",\\\"60\\\",\\\"61\\\",\\\"62\\\",\\\"63\\\",\\\"64\\\",\\\"65\\\",\\\"66\\\",\\\"67\\\",\\\"68\\\",\\\"69\\\",\\\"70\\\",\\\"71\\\",\\\"72\\\",\\\"73\\\",\\\"74\\\",\\\"75\\\",\\\"76\\\",\\\"77\\\",\\\"78\\\",\\\"79\\\",\\\"80\\\",\\\"81\\\",\\\"82\\\",\\\"83\\\",\\\"84\\\",\\\"85\\\",\\\"86\\\",\\\"87\\\",\\\"88\\\",\\\"89\\\",\\\"90\\\",\\\"91\\\",\\\"92\\\",\\\"93\\\",\\\"94\\\",\\\"95\\\",\\\"96\\\",\\\"97\\\",\\\"98\\\",\\\"99\\\",\\\"100\\\",\\\"101\\\",\\\"102\\\",\\\"103\\\",\\\"104\\\",\\\"105\\\",\\\"106\\\",\\\"107\\\",\\\"108\\\",\\\"109\\\",\\\"110\\\",\\\"111\\\",\\\"112\\\",\\\"113\\\",\\\"114\\\",\\\"115\\\",\\\"116\\\",\\\"117\\\",\\\"118\\\",\\\"119\\\",\\\"120\\\",\\\"121\\\",\\\"122\\\",\\\"123\\\",\\\"124\\\",\\\"125\\\",\\\"126\\\",\\\"127\\\",\\\"128\\\"],\\\"changes\\\":WebIO.getval({\\\"name\\\":\\\"changes\\\",\\\"scope\\\":\\\"13428884957449532133\\\",\\\"id\\\":\\\"16297460967567362666\\\",\\\"type\\\":\\\"observable\\\"}),\\\"index\\\":WebIO.getval({\\\"name\\\":\\\"index\\\",\\\"scope\\\":\\\"13428884957449532133\\\",\\\"id\\\":\\\"13630079898035726672\\\",\\\"type\\\":\\\"observable\\\"})};\\n    var self = this;\\n    function AppViewModel() {\\n        for (var key in json_data) {\\n            var el = json_data[key];\\n            this[key] = Array.isArray(el) ? ko.observableArray(el) : ko.observable(el);\\n        }\\n        \\n        [this[\\\"formatted_val\\\"]=ko.computed(    function(){\\n        return this.formatted_vals()[parseInt(this.index())-(1)];\\n    }\\n,this)]\\n        [this[\\\"changes\\\"].subscribe((function (val){!(this.valueFromJulia[\\\"changes\\\"]) ? (WebIO.setval({\\\"name\\\":\\\"changes\\\",\\\"scope\\\":\\\"13428884957449532133\\\",\\\"id\\\":\\\"16297460967567362666\\\",\\\"type\\\":\\\"observable\\\"},val)) : undefined; return this.valueFromJulia[\\\"changes\\\"]=false}),self),this[\\\"index\\\"].subscribe((function (val){!(this.valueFromJulia[\\\"index\\\"]) ? (WebIO.setval({\\\"name\\\":\\\"index\\\",\\\"scope\\\":\\\"13428884957449532133\\\",\\\"id\\\":\\\"13630079898035726672\\\",\\\"type\\\":\\\"observable\\\"},val)) : undefined; return this.valueFromJulia[\\\"index\\\"]=false}),self)]\\n        \\n    }\\n    self.model = new AppViewModel();\\n    self.valueFromJulia = {};\\n    for (var key in json_data) {\\n        self.valueFromJulia[key] = false;\\n    }\\n    ko.applyBindings(self.model, self.dom);\\n}\\n);\\n    (WebIO.importBlock({\\\"data\\\":[{\\\"name\\\":\\\"knockout\\\",\\\"type\\\":\\\"js\\\",\\\"url\\\":\\\"\\/assetserver\\/9b065ae8e54d70e8c0a9ace862b876df8ccf5ccc-knockout.js\\\"},{\\\"name\\\":\\\"knockout_punches\\\",\\\"type\\\":\\\"js\\\",\\\"url\\\":\\\"\\/assetserver\\/460b6546ace26ff29067687e00b12abd1c180809-knockout_punches.js\\\"}],\\\"type\\\":\\\"async_block\\\"})).then((imports) => handler.apply(this, imports));\\n}\\n\"],\"observables\":{\"changes\":{\"sync\":false,\"id\":\"16297460967567362666\",\"value\":0},\"index\":{\"sync\":true,\"id\":\"13630079898035726672\",\"value\":64}}},\"children\":[{\"props\":{\"className\":\"interact-flex-row interact-widget\"},\"nodeType\":\"DOM\",\"type\":\"node\",\"instanceArgs\":{\"namespace\":\"html\",\"tag\":\"div\"},\"children\":[{\"props\":{\"className\":\"interact-flex-row-left\"},\"nodeType\":\"DOM\",\"type\":\"node\",\"instanceArgs\":{\"namespace\":\"html\",\"tag\":\"div\"},\"children\":[{\"props\":{\"className\":\"interact \",\"style\":{\"padding\":\"5px 10px 0px 10px\"}},\"nodeType\":\"DOM\",\"type\":\"node\",\"instanceArgs\":{\"namespace\":\"html\",\"tag\":\"label\"},\"children\":[\"k\"]}]},{\"props\":{\"className\":\"interact-flex-row-center\"},\"nodeType\":\"DOM\",\"type\":\"node\",\"instanceArgs\":{\"namespace\":\"html\",\"tag\":\"div\"},\"children\":[{\"props\":{\"max\":128,\"min\":1,\"attributes\":{\"type\":\"range\",\"data-bind\":\"numericValue: index, valueUpdate: 'input', event: {change: function (){this.changes(this.changes()+1)}}\",\"orient\":\"horizontal\"},\"step\":1,\"className\":\"slider slider is-fullwidth\",\"style\":{}},\"nodeType\":\"DOM\",\"type\":\"node\",\"instanceArgs\":{\"namespace\":\"html\",\"tag\":\"input\"},\"children\":[]}]},{\"props\":{\"className\":\"interact-flex-row-right\"},\"nodeType\":\"DOM\",\"type\":\"node\",\"instanceArgs\":{\"namespace\":\"html\",\"tag\":\"div\"},\"children\":[{\"props\":{\"attributes\":{\"data-bind\":\"text: formatted_val\"}},\"nodeType\":\"DOM\",\"type\":\"node\",\"instanceArgs\":{\"namespace\":\"html\",\"tag\":\"p\"},\"children\":[]}]}]}]}]},{\"props\":{},\"nodeType\":\"Scope\",\"type\":\"node\",\"instanceArgs\":{\"imports\":{\"data\":[],\"type\":\"async_block\"},\"id\":\"7345562168008579250\",\"handlers\":{},\"systemjs_options\":null,\"mount_callbacks\":[],\"observables\":{\"obs-node\":{\"sync\":false,\"id\":\"11618781813180062274\",\"value\":{\"props\":{\"className\":\"interact-flex-row interact-widget\"},\"nodeType\":\"DOM\",\"type\":\"node\",\"instanceArgs\":{\"namespace\":\"html\",\"tag\":\"div\"},\"children\":[{\"props\":{},\"nodeType\":\"Scope\",\"type\":\"node\",\"instanceArgs\":{\"imports\":{\"data\":[{\"name\":\"Plotly\",\"type\":\"js\",\"url\":\"\\/assetserver\\/57533c5d787f8bc76a9e58ed0a1abce5f1b0c14d-plotly-latest.min.js\"},{\"name\":null,\"type\":\"js\",\"url\":\"\\/assetserver\\/58a7932c57029f7dbaa4105104076ff149fc7585-plotly_webio.bundle.js\"}],\"type\":\"async_block\"},\"id\":\"15461597738960341640\",\"handlers\":{\"_toImage\":[\"(function (options){return this.Plotly.toImage(this.plotElem,options).then((function (data){return WebIO.setval({\\\"name\\\":\\\"image\\\",\\\"scope\\\":\\\"15461597738960341640\\\",\\\"id\\\":\\\"13559039712993313920\\\",\\\"type\\\":\\\"observable\\\"},data)}))})\"],\"__get_gd_contents\":[\"(function (prop){prop==\\\"data\\\" ? (WebIO.setval({\\\"name\\\":\\\"__gd_contents\\\",\\\"scope\\\":\\\"15461597738960341640\\\",\\\"id\\\":\\\"10895629007868711487\\\",\\\"type\\\":\\\"observable\\\"},this.plotElem.data)) : undefined; return prop==\\\"layout\\\" ? (WebIO.setval({\\\"name\\\":\\\"__gd_contents\\\",\\\"scope\\\":\\\"15461597738960341640\\\",\\\"id\\\":\\\"10895629007868711487\\\",\\\"type\\\":\\\"observable\\\"},this.plotElem.layout)) : undefined})\"],\"_downloadImage\":[\"(function (options){return this.Plotly.downloadImage(this.plotElem,options)})\"],\"_commands\":[\"(function (args){var fn=args.shift(); var elem=this.plotElem; var Plotly=this.Plotly; args.unshift(elem); return Plotly[fn].apply(this,args)})\"]},\"systemjs_options\":null,\"mount_callbacks\":[\"function () {\\n    var handler = ((function (Plotly,PlotlyWebIO){PlotlyWebIO.init(WebIO); var gd=this.dom.querySelector(\\\"#plot-c40cf929-5db8-4a60-b28d-bff20142bcb0\\\"); this.plotElem=gd; this.Plotly=Plotly; (window.Blink!==undefined) ? (gd.style.width=\\\"100%\\\", gd.style.height=\\\"100vh\\\", gd.style.marginLeft=\\\"0%\\\", gd.style.marginTop=\\\"0vh\\\") : undefined; window.onresize=(function (){return Plotly.Plots.resize(gd)}); Plotly.newPlot(gd,[{\\\"marker\\\":{\\\"color\\\":\\\"#E24A33\\\",\\\"line\\\":{\\\"color\\\":\\\"#348ABD\\\",\\\"width\\\":0.5},\\\"size\\\":10},\\\"mode\\\":\\\"markers\\\",\\\"y\\\":[-0.10879037172432661,0.10879037172432661,-0.10975154797655741,0.10975154797655741,-0.13574989776119825,0.13574989776119825,-0.2586418035994159,0.2586418035994159,-0.25405753948613863,0.25405753948613863,-0.25937290392145046,0.25937290392145046,-0.10958000387513785,0.10958000387513785,-0.06620116864384624,0.06620116864384624,-0.1241160634388358,0.1241160634388358,-0.11891441024179619,0.11891441024179619,-0.15324486888652875,0.15324486888652875,-0.27693427571701096,0.27693427571701096,-0.1469983478745087,0.1469983478745087,-0.006070372044894234,0.006070372044894234,-0.2733124752131209,0.2733124752131209,-0.15010276060352204,0.15010276060352204,-0.4076166157076757,0.4076166157076757,-0.435427617375865,0.435427617375865,-0.367673722039919,0.367673722039919,-0.21409644700340624,0.21409644700340624,-0.14614349130421586,0.14614349130421586,-0.5578882417258654,0.5578882417258654,-0.4159869952446049,0.4159869952446049,-0.33746811060321874,0.33746811060321874,-0.5698578632990555,0.5698578632990555,-0.07295304743558527,0.07295304743558527,-0.0077687744084616725,0.0077687744084616725,-0.4624195694651731,0.4624195694651731,-0.22665038990979033,0.22665038990979033,-0.1662578654643505,0.1662578654643505,-0.5367077151212837,0.5367077151212837,-0.15836119083078365,0.15836119083078365,-0.3304511042650952,0.3304511042650952,-0.7095807382647048,0.7095807382647048,-0.6452086879219459,0.6452086879219459,-0.731300948187981,0.731300948187981,-0.7101996309969153,0.7101996309969153,-0.7363127609317422,0.7363127609317422,-0.5564417107281155,0.5564417107281155,-0.8218101594883035,0.8218101594883035,-0.7349403448984013,0.7349403448984013,-0.5725344533659485,0.5725344533659485,-0.05343384818679309,0.05343384818679309,-0.022075690302093564,0.022075690302093564,-0.7829542463514122,0.7829542463514122,-0.3356657405904009,0.3356657405904009,-0.8278257536091009,0.8278257536091009,-0.6100238364637857,0.6100238364637857,-0.8579428831467321,0.8579428831467321,-0.2465493684529824,0.2465493684529824,-0.057589922155649724,0.057589922155649724,-0.8722121001128617,0.8722121001128617,-0.8472730760907735,0.8472730760907735,-0.28997375715904594,0.28997375715904594,-0.4332899047027232,0.4332899047027232,-0.8123437273543532,0.8123437273543532,-0.39608696295063567,0.39608696295063567,-0.7795196394843853,0.7795196394843853,-0.5778613528662261,0.5778613528662261,-0.9702019276716233,0.9702019276716233,-0.9482064801548805,0.9482064801548805,-0.6363985741119599,0.6363985741119599,-0.9950409851034387,0.9950409851034387,-2.0122098419976547e-14,2.0122098419976547e-14],\\\"type\\\":\\\"scatter\\\",\\\"name\\\":\\\"A\\\",\\\"x\\\":[-0.08918709450397054,-0.08918709450397054,0.1408045573352858,0.1408045573352858,0.1389557009297892,0.1389557009297892,-0.04253008075392087,-0.04253008075392087,0.07581846549397914,0.07581846549397914,-0.07743776140021558,-0.07743776140021558,0.26069783987870637,0.26069783987870637,-0.2983583349177032,-0.2983583349177032,0.2933804196501578,0.2933804196501578,0.31606766099877515,0.31606766099877515,0.31325629775361996,0.31325629775361996,0.2426175117064043,0.2426175117064043,0.4066689719517996,0.4066689719517996,0.43528476157447804,0.43528476157447804,0.3470266676670776,0.3470266676670776,-0.41707484404311546,-0.41707484404311546,-0.19824256144181238,-0.19824256144181238,-0.18708458053478302,-0.18708458053478302,0.4078152716991666,0.4078152716991666,-0.5140977209855127,-0.5140977209855127,0.5393394856603746,0.5393394856603746,-0.05448321301488068,-0.05448321301488068,-0.3787892597830979,-0.3787892597830979,-0.4718959365649278,-0.4718959365649278,0.14662853412238666,0.14662853412238666,-0.5945856860397631,-0.5945856860397631,-0.6001632594545074,-0.6001632594545074,0.3842103488896186,0.3842103488896186,0.6147183593836323,0.6147183593836323,-0.6365539601591952,-0.6365539601591952,0.41058938905390885,0.41058938905390885,0.6901142036782117,0.6901142036782117,0.6354530240453067,0.6354530240453067,-0.14114661172047757,-0.14114661172047757,0.3306266557328791,0.3306266557328791,-0.047519071171810964,-0.047519071171810964,0.21439327941744646,0.21439327941744646,0.1509513971334683,0.1509513971334683,0.5768832687360091,0.5768832687360091,-0.03056407630046251,-0.03056407630046251,0.3711841503035054,0.3711841503035054,0.5974226542278691,0.5974226542278691,-0.8375477982368175,-0.8375477982368175,0.8431533304389764,0.8431533304389764,-0.33278641507162615,-0.33278641507162615,0.7817827035457106,0.7817827035457106,-0.1967007561339742,-0.1967007561339742,0.5933219674458214,0.5933219674458214,-0.032293787955374076,-0.032293787955374076,0.8318795097238192,0.8318795097238192,-0.878284108628804,-0.878284108628804,-0.3244052902649379,-0.3244052902649379,-0.4026240648662433,-0.4026240648662433,-0.8940321182123798,-0.8940321182123798,-0.8401411096864391,-0.8401411096864391,-0.4990269579655238,-0.4990269579655238,0.8714828925775688,0.8714828925775688,-0.5736417024848666,-0.5736417024848666,-0.7879390918820168,-0.7879390918820168,0.1874964563992596,0.1874964563992596,0.27930706900332614,0.27930706900332614,0.7604128389076625,0.7604128389076625,-0.04092621100019783,-0.04092621100019783,2.000000000000005,2.000000000000005]},{\\\"marker\\\":{\\\"color\\\":\\\"#348ABD\\\",\\\"line\\\":{\\\"color\\\":\\\"#348ABD\\\",\\\"width\\\":0.5},\\\"size\\\":10},\\\"mode\\\":\\\"markers\\\",\\\"y\\\":[-0.28997121202568915,0.28997121202568915,-0.057711224431536,0.057711224431536,-0.4332902148516033,0.4332902148516033,-0.05001999151521939,0.05001999151521939,-0.5778614128394377,0.5778614128394377,0.0,-0.7795209572265548,0.7795209572265548,-0.8120694956225388,0.8120694956225388,-0.29091406777520323,0.29091406777520323,-0.12188267132340726,0.12188267132340726,-0.8469835451216485,0.8469835451216485,-0.7807386184629231,0.7807386184629231,-0.8722998601151722,0.8722998601151722,-0.8275351118906801,0.8275351118906801,-0.995038271653088,0.995038271653088,-0.7587893897093868,0.7587893897093868,-0.8594634816564333,0.8594634816564333,-0.4641553850267692,0.4641553850267692,-0.9701913874276151,0.9701913874276151,-0.696633923879662,0.696633923879662,-0.9482130637893178,0.9482130637893178,-0.7336369155905018,0.7336369155905018,-0.5495848511340681,0.5495848511340681,0.0,-0.5633247529199634,0.5633247529199634,-0.6054232500570406,0.6054232500570406,-0.16355934993910326,0.16355934993910326,-0.6363999261183063,0.6363999261183063,-0.34184487643824374,0.34184487643824374,-0.24599442157855209,0.24599442157855209,-0.018905774799210247,0.018905774799210247,-0.3960859676297567,0.3960859676297567,0.0,0.0],\\\"type\\\":\\\"scatter\\\",\\\"name\\\":\\\"Arnoldi\\\",\\\"x\\\":[-0.8940312106670951,-0.8940312106670951,-0.8784014066131323,-0.8784014066131323,-0.8401420781231024,-0.8401420781231024,-0.8362592469395849,-0.8362592469395849,-0.7879393099111964,-0.7879393099111964,-0.6157669887143555,-0.573639840395276,-0.573639840395276,-0.4990161732759877,-0.4990161732759877,-0.44464819664677835,-0.44464819664677835,-0.40499429898060735,-0.40499429898060735,-0.402928613862178,-0.402928613862178,-0.33299737186198325,-0.33299737186198325,-0.32444828248426794,-0.32444828248426794,-0.195584477347036,-0.195584477347036,-0.04091968382129185,-0.04091968382129185,-0.03514359669644776,-0.03514359669644776,-0.03193619469490616,-0.03193619469490616,0.17496962005951527,0.17496962005951527,0.18751128229868225,0.18751128229868225,0.20411078818020745,0.20411078818020745,0.2793046085387927,0.2793046085387927,0.3706701944876835,0.3706701944876835,0.3730446532317942,0.3730446532317942,0.5610989636582508,0.5899421619603977,0.5899421619603977,0.5967605954549953,0.5967605954549953,0.6366932623811072,0.6366932623811072,0.7604139289386501,0.7604139289386501,0.7749842378972858,0.7749842378972858,0.8314964082732764,0.8314964082732764,0.8452802292670493,0.8452802292670493,0.871496673958127,0.871496673958127,1.9999999985563284,2.000000000000001]}],{\\\"xaxis\\\":{\\\"showgrid\\\":true,\\\"gridcolor\\\":\\\"#E5E5E5\\\",\\\"titlefont\\\":{\\\"color\\\":\\\"#555555\\\",\\\"size\\\":18},\\\"zeroline\\\":false,\\\"ticks\\\":\\\"inside\\\",\\\"title\\\":\\\"Real part\\\",\\\"range\\\":[-1.1,2.1],\\\"linewidth\\\":1.0,\\\"mirror\\\":true,\\\"linecolor\\\":\\\"black\\\"},\\\"titlefont\\\":{\\\"size\\\":18},\\\"font\\\":{\\\"size\\\":16},\\\"height\\\":550,\\\"margin\\\":{\\\"l\\\":80,\\\"b\\\":50,\\\"r\\\":50,\\\"t\\\":60},\\\"yaxis\\\":{\\\"scaleanchor\\\":\\\"x\\\",\\\"ticks\\\":\\\"inside\\\",\\\"range\\\":[-1.1,1.1],\\\"linecolor\\\":\\\"black\\\",\\\"showgrid\\\":true,\\\"scaleratio\\\":1,\\\"title\\\":\\\"Imaginary part\\\",\\\"mirror\\\":true,\\\"gridcolor\\\":\\\"#E5E5E5\\\",\\\"titlefont\\\":{\\\"color\\\":\\\"#555555\\\",\\\"size\\\":18},\\\"zeroline\\\":false,\\\"linewidth\\\":1.0},\\\"width\\\":700},{}); gd.on(\\\"plotly_hover\\\",(function (data){var filtered_data=WebIO.PlotlyCommands.filterEventData(gd,data,\\\"hover\\\"); return !(filtered_data.isnil) ? (WebIO.setval({\\\"name\\\":\\\"hover\\\",\\\"scope\\\":\\\"15461597738960341640\\\",\\\"id\\\":\\\"15053271299962572372\\\",\\\"type\\\":\\\"observable\\\"},filtered_data.out)) : undefined})); gd.on(\\\"plotly_unhover\\\",(function (){return WebIO.setval({\\\"name\\\":\\\"hover\\\",\\\"scope\\\":\\\"15461597738960341640\\\",\\\"id\\\":\\\"15053271299962572372\\\",\\\"type\\\":\\\"observable\\\"},{})})); gd.on(\\\"plotly_selected\\\",(function (data){var filtered_data=WebIO.PlotlyCommands.filterEventData(gd,data,\\\"selected\\\"); return !(filtered_data.isnil) ? (WebIO.setval({\\\"name\\\":\\\"selected\\\",\\\"scope\\\":\\\"15461597738960341640\\\",\\\"id\\\":\\\"14634563450705664328\\\",\\\"type\\\":\\\"observable\\\"},filtered_data.out)) : undefined})); gd.on(\\\"plotly_deselect\\\",(function (){return WebIO.setval({\\\"name\\\":\\\"selected\\\",\\\"scope\\\":\\\"15461597738960341640\\\",\\\"id\\\":\\\"14634563450705664328\\\",\\\"type\\\":\\\"observable\\\"},{})})); gd.on(\\\"plotly_relayout\\\",(function (data){var filtered_data=WebIO.PlotlyCommands.filterEventData(gd,data,\\\"relayout\\\"); return !(filtered_data.isnil) ? (WebIO.setval({\\\"name\\\":\\\"relayout\\\",\\\"scope\\\":\\\"15461597738960341640\\\",\\\"id\\\":\\\"1277399592706455682\\\",\\\"type\\\":\\\"observable\\\"},filtered_data.out)) : undefined})); return gd.on(\\\"plotly_click\\\",(function (data){var filtered_data=WebIO.PlotlyCommands.filterEventData(gd,data,\\\"click\\\"); return !(filtered_data.isnil) ? (WebIO.setval({\\\"name\\\":\\\"click\\\",\\\"scope\\\":\\\"15461597738960341640\\\",\\\"id\\\":\\\"6607105024104025061\\\",\\\"type\\\":\\\"observable\\\"},filtered_data.out)) : undefined}))}));\\n    (WebIO.importBlock({\\\"data\\\":[{\\\"name\\\":\\\"Plotly\\\",\\\"type\\\":\\\"js\\\",\\\"url\\\":\\\"\\/assetserver\\/57533c5d787f8bc76a9e58ed0a1abce5f1b0c14d-plotly-latest.min.js\\\"},{\\\"name\\\":null,\\\"type\\\":\\\"js\\\",\\\"url\\\":\\\"\\/assetserver\\/58a7932c57029f7dbaa4105104076ff149fc7585-plotly_webio.bundle.js\\\"}],\\\"type\\\":\\\"async_block\\\"})).then((imports) => handler.apply(this, imports));\\n}\\n\"],\"observables\":{\"_toImage\":{\"sync\":false,\"id\":\"10451706395594791068\",\"value\":{}},\"hover\":{\"sync\":false,\"id\":\"15053271299962572372\",\"value\":{}},\"selected\":{\"sync\":false,\"id\":\"14634563450705664328\",\"value\":{}},\"__gd_contents\":{\"sync\":false,\"id\":\"10895629007868711487\",\"value\":{}},\"click\":{\"sync\":false,\"id\":\"6607105024104025061\",\"value\":{}},\"image\":{\"sync\":true,\"id\":\"13559039712993313920\",\"value\":\"\"},\"__get_gd_contents\":{\"sync\":false,\"id\":\"12354966328442972066\",\"value\":\"\"},\"_downloadImage\":{\"sync\":false,\"id\":\"17905876220801708483\",\"value\":{}},\"relayout\":{\"sync\":false,\"id\":\"1277399592706455682\",\"value\":{}},\"_commands\":{\"sync\":false,\"id\":\"3218544010459084578\",\"value\":[]}}},\"children\":[{\"props\":{\"id\":\"plot-c40cf929-5db8-4a60-b28d-bff20142bcb0\"},\"nodeType\":\"DOM\",\"type\":\"node\",\"instanceArgs\":{\"namespace\":\"html\",\"tag\":\"div\"},\"children\":[]}]}]}}}},\"children\":[{\"props\":{},\"nodeType\":\"ObservableNode\",\"type\":\"node\",\"instanceArgs\":{\"id\":\"11618781813180062274\",\"name\":\"obs-node\"},\"children\":[]}]}]},\n",
       "            window,\n",
       "        );\n",
       "    } else {\n",
       "        document\n",
       "            .querySelector('[data-webio-mountpoint=\"8254464738164128944\"]')\n",
       "            .innerHTML = (\n",
       "                '<div style=\"padding: 1em; background-color: #f8d6da; border: 1px solid #f5c6cb\">' +\n",
       "                '<p><strong>WebIO not detected.</strong></p>' +\n",
       "                '<p>Please read ' +\n",
       "                '<a href=\"https://juliagizmos.github.io/WebIO.jl/latest/troubleshooting/not-detected/\" target=\"_blank\">the troubleshooting guide</a> ' +\n",
       "                'for more information on how to resolve this issue.</p>' +\n",
       "                '<p><a href=\"https://juliagizmos.github.io/WebIO.jl/latest/troubleshooting/not-detected/\" target=\"_blank\">https://juliagizmos.github.io/WebIO.jl/latest/troubleshooting/not-detected/</a></p>' +\n",
       "                '</div>'\n",
       "            );\n",
       "    }\n",
       "    </script>\n",
       "</div>\n"
      ],
      "text/plain": [
       "Node{WebIO.DOM}(WebIO.DOM(:html, :div), Any[Node{WebIO.DOM}(WebIO.DOM(:html, :div), Any[Scope(Node{WebIO.DOM}(WebIO.DOM(:html, :div), Any[Node{WebIO.DOM}(WebIO.DOM(:html, :div), Any[Node{WebIO.DOM}(WebIO.DOM(:html, :label), Any[\"k\"], Dict{Symbol,Any}(:className => \"interact \",:style => Dict{Any,Any}(:padding => \"5px 10px 0px 10px\")))], Dict{Symbol,Any}(:className => \"interact-flex-row-left\")), Node{WebIO.DOM}(WebIO.DOM(:html, :div), Any[Node{WebIO.DOM}(WebIO.DOM(:html, :input), Any[], Dict{Symbol,Any}(:max => 128,:min => 1,:attributes => Dict{Any,Any}(:type => \"range\",Symbol(\"data-bind\") => \"numericValue: index, valueUpdate: 'input', event: {change: function (){this.changes(this.changes()+1)}}\",\"orient\" => \"horizontal\"),:step => 1,:className => \"slider slider is-fullwidth\",:style => Dict{Any,Any}()))], Dict{Symbol,Any}(:className => \"interact-flex-row-center\")), Node{WebIO.DOM}(WebIO.DOM(:html, :div), Any[Node{WebIO.DOM}(WebIO.DOM(:html, :p), Any[], Dict{Symbol,Any}(:attributes => Dict(\"data-bind\" => \"text: formatted_val\")))], Dict{Symbol,Any}(:className => \"interact-flex-row-right\"))], Dict{Symbol,Any}(:className => \"interact-flex-row interact-widget\")), Dict{String,Tuple{Observables.AbstractObservable,Union{Nothing, Bool}}}(\"changes\" => (Observable{Int64} with 1 listeners. Value:\n",
       "0, nothing),\"index\" => (Observable{Int64} with 2 listeners. Value:\n",
       "64, nothing)), Set{String}(), nothing, Asset[Asset(\"js\", \"knockout\", \"/Users/darve/.julia/packages/Knockout/IP1uR/src/../assets/knockout.js\"), Asset(\"js\", \"knockout_punches\", \"/Users/darve/.julia/packages/Knockout/IP1uR/src/../assets/knockout_punches.js\"), Asset(\"js\", nothing, \"/Users/darve/.julia/packages/InteractBase/sOe2Z/src/../assets/all.js\"), Asset(\"css\", nothing, \"/Users/darve/.julia/packages/InteractBase/sOe2Z/src/../assets/style.css\"), Asset(\"css\", nothing, \"/Users/darve/.julia/packages/Interact/SbgIk/src/../assets/bulma_confined.min.css\")], Dict{Any,Any}(\"changes\" => Any[WebIO.JSString(\"(function (val){return (val!=this.model[\\\"changes\\\"]()) ? (this.valueFromJulia[\\\"changes\\\"]=true, this.model[\\\"changes\\\"](val)) : undefined})\")],\"index\" => Any[WebIO.JSString(\"(function (val){return (val!=this.model[\\\"index\\\"]()) ? (this.valueFromJulia[\\\"index\\\"]=true, this.model[\\\"index\\\"](val)) : undefined})\")]), WebIO.ConnectionPool(Channel{Any}(sz_max:32,sz_curr:0), Set{AbstractConnection}(), Base.GenericCondition{Base.AlwaysLockedST}(Base.InvasiveLinkedList{Task}(Task (runnable) @0x0000000110495b10, Task (runnable) @0x0000000110495b10), Base.AlwaysLockedST(1))), WebIO.JSString[WebIO.JSString(\"function () {\\n    var handler = (function (ko, koPunches) {\\n    ko.punches.enableAll();\\n    ko.bindingHandlers.numericValue = {\\n        init: function(element, valueAccessor, allBindings, data, context) {\\n            var stringified = ko.observable(ko.unwrap(valueAccessor()));\\n            stringified.subscribe(function(value) {\\n                var val = parseFloat(value);\\n                if (!isNaN(val)) {\\n                    valueAccessor()(val);\\n                }\\n            });\\n            valueAccessor().subscribe(function(value) {\\n                var str = JSON.stringify(value);\\n                if ((str == \\\"0\\\") && ([\\\"-0\\\", \\\"-0.\\\"].indexOf(stringified()) >= 0))\\n                     return;\\n                 if ([\\\"null\\\", \\\"\\\"].indexOf(str) >= 0)\\n                     return;\\n                stringified(str);\\n            });\\n            ko.applyBindingsToNode(\\n                element,\\n                {\\n                    value: stringified,\\n                    valueUpdate: allBindings.get('valueUpdate'),\\n                },\\n                context,\\n            );\\n        }\\n    };\\n    var json_data = {\\\"formatted_vals\\\":[\\\"1\\\",\\\"2\\\",\\\"3\\\",\\\"4\\\",\\\"5\\\",\\\"6\\\",\\\"7\\\",\\\"8\\\",\\\"9\\\",\\\"10\\\",\\\"11\\\",\\\"12\\\",\\\"13\\\",\\\"14\\\",\\\"15\\\",\\\"16\\\",\\\"17\\\",\\\"18\\\",\\\"19\\\",\\\"20\\\",\\\"21\\\",\\\"22\\\",\\\"23\\\",\\\"24\\\",\\\"25\\\",\\\"26\\\",\\\"27\\\",\\\"28\\\",\\\"29\\\",\\\"30\\\",\\\"31\\\",\\\"32\\\",\\\"33\\\",\\\"34\\\",\\\"35\\\",\\\"36\\\",\\\"37\\\",\\\"38\\\",\\\"39\\\",\\\"40\\\",\\\"41\\\",\\\"42\\\",\\\"43\\\",\\\"44\\\",\\\"45\\\",\\\"46\\\",\\\"47\\\",\\\"48\\\",\\\"49\\\",\\\"50\\\",\\\"51\\\",\\\"52\\\",\\\"53\\\",\\\"54\\\",\\\"55\\\",\\\"56\\\",\\\"57\\\",\\\"58\\\",\\\"59\\\",\\\"60\\\",\\\"61\\\",\\\"62\\\",\\\"63\\\",\\\"64\\\",\\\"65\\\",\\\"66\\\",\\\"67\\\",\\\"68\\\",\\\"69\\\",\\\"70\\\",\\\"71\\\",\\\"72\\\",\\\"73\\\",\\\"74\\\",\\\"75\\\",\\\"76\\\",\\\"77\\\",\\\"78\\\",\\\"79\\\",\\\"80\\\",\\\"81\\\",\\\"82\\\",\\\"83\\\",\\\"84\\\",\\\"85\\\",\\\"86\\\",\\\"87\\\",\\\"88\\\",\\\"89\\\",\\\"90\\\",\\\"91\\\",\\\"92\\\",\\\"93\\\",\\\"94\\\",\\\"95\\\",\\\"96\\\",\\\"97\\\",\\\"98\\\",\\\"99\\\",\\\"100\\\",\\\"101\\\",\\\"102\\\",\\\"103\\\",\\\"104\\\",\\\"105\\\",\\\"106\\\",\\\"107\\\",\\\"108\\\",\\\"109\\\",\\\"110\\\",\\\"111\\\",\\\"112\\\",\\\"113\\\",\\\"114\\\",\\\"115\\\",\\\"116\\\",\\\"117\\\",\\\"118\\\",\\\"119\\\",\\\"120\\\",\\\"121\\\",\\\"122\\\",\\\"123\\\",\\\"124\\\",\\\"125\\\",\\\"126\\\",\\\"127\\\",\\\"128\\\"],\\\"changes\\\":WebIO.getval({\\\"name\\\":\\\"changes\\\",\\\"scope\\\":\\\"13428884957449532133\\\",\\\"id\\\":\\\"16297460967567362666\\\",\\\"type\\\":\\\"observable\\\"}),\\\"index\\\":WebIO.getval({\\\"name\\\":\\\"index\\\",\\\"scope\\\":\\\"13428884957449532133\\\",\\\"id\\\":\\\"13630079898035726672\\\",\\\"type\\\":\\\"observable\\\"})};\\n    var self = this;\\n    function AppViewModel() {\\n        for (var key in json_data) {\\n            var el = json_data[key];\\n            this[key] = Array.isArray(el) ? ko.observableArray(el) : ko.observable(el);\\n        }\\n        \\n        [this[\\\"formatted_val\\\"]=ko.computed(    function(){\\n        return this.formatted_vals()[parseInt(this.index())-(1)];\\n    }\\n,this)]\\n        [this[\\\"changes\\\"].subscribe((function (val){!(this.valueFromJulia[\\\"changes\\\"]) ? (WebIO.setval({\\\"name\\\":\\\"changes\\\",\\\"scope\\\":\\\"13428884957449532133\\\",\\\"id\\\":\\\"16297460967567362666\\\",\\\"type\\\":\\\"observable\\\"},val)) : undefined; return this.valueFromJulia[\\\"changes\\\"]=false}),self),this[\\\"index\\\"].subscribe((function (val){!(this.valueFromJulia[\\\"index\\\"]) ? (WebIO.setval({\\\"name\\\":\\\"index\\\",\\\"scope\\\":\\\"13428884957449532133\\\",\\\"id\\\":\\\"13630079898035726672\\\",\\\"type\\\":\\\"observable\\\"},val)) : undefined; return this.valueFromJulia[\\\"index\\\"]=false}),self)]\\n        \\n    }\\n    self.model = new AppViewModel();\\n    self.valueFromJulia = {};\\n    for (var key in json_data) {\\n        self.valueFromJulia[key] = false;\\n    }\\n    ko.applyBindings(self.model, self.dom);\\n}\\n);\\n    (WebIO.importBlock({\\\"data\\\":[{\\\"name\\\":\\\"knockout\\\",\\\"type\\\":\\\"js\\\",\\\"url\\\":\\\"/assetserver/9b065ae8e54d70e8c0a9ace862b876df8ccf5ccc-knockout.js\\\"},{\\\"name\\\":\\\"knockout_punches\\\",\\\"type\\\":\\\"js\\\",\\\"url\\\":\\\"/assetserver/460b6546ace26ff29067687e00b12abd1c180809-knockout_punches.js\\\"}],\\\"type\\\":\\\"async_block\\\"})).then((imports) => handler.apply(this, imports));\\n}\\n\")])], Dict{Symbol,Any}(:className => \"field interact-widget\")), Observable{Any} with 0 listeners. Value:\n",
       "Node{WebIO.DOM}(WebIO.DOM(:html, :div), Any[PlotlyJS.SyncPlot(data: [\n",
       "  \"scatter with fields marker, mode, name, type, x, and y\",\n",
       "  \"scatter with fields marker, mode, name, type, x, and y\"\n",
       "]\n",
       "\n",
       "layout: \"layout with fields font, height, margin, titlefont, width, xaxis, and yaxis\"\n",
       "\n",
       ", Scope(Node{WebIO.DOM}(WebIO.DOM(:html, :div), Any[], Dict{Symbol,Any}(:id => \"plot-c40cf929-5db8-4a60-b28d-bff20142bcb0\")), Dict{String,Tuple{Observables.AbstractObservable,Union{Nothing, Bool}}}(\"_toImage\" => (Observable{Dict{Any,Any}} with 1 listeners. Value:\n",
       "Dict{Any,Any}(), nothing),\"hover\" => (Observable{Dict{Any,Any}} with 0 listeners. Value:\n",
       "Dict{Any,Any}(), nothing),\"selected\" => (Observable{Dict{Any,Any}} with 0 listeners. Value:\n",
       "Dict{Any,Any}(), nothing),\"__gd_contents\" => (Observable{Any} with 0 listeners. Value:\n",
       "Dict{Any,Any}(), nothing),\"click\" => (Observable{Dict{Any,Any}} with 0 listeners. Value:\n",
       "Dict{Any,Any}(), nothing),\"image\" => (Observable{String} with 1 listeners. Value:\n",
       "\"\", nothing),\"__get_gd_contents\" => (Observable{String} with 1 listeners. Value:\n",
       "\"\", nothing),\"_downloadImage\" => (Observable{Dict{Any,Any}} with 1 listeners. Value:\n",
       "Dict{Any,Any}(), nothing),\"relayout\" => (Observable{Dict{Any,Any}} with 0 listeners. Value:\n",
       "Dict{Any,Any}(), nothing),\"_commands\" => (Observable{Any} with 1 listeners. Value:\n",
       "Any[], nothing)…), Set{String}(), nothing, Asset[Asset(\"js\", \"Plotly\", \"/Users/darve/.julia/packages/PlotlyJS/m2Lzd/src/../assets/plotly-latest.min.js\"), Asset(\"js\", nothing, \"/Users/darve/.julia/packages/PlotlyJS/m2Lzd/src/../assets/plotly_webio.bundle.js\")], Dict{Any,Any}(\"_toImage\" => Any[WebIO.JSString(\"(function (options){return this.Plotly.toImage(this.plotElem,options).then((function (data){return WebIO.setval({\\\"name\\\":\\\"image\\\",\\\"scope\\\":\\\"15461597738960341640\\\",\\\"id\\\":\\\"13559039712993313920\\\",\\\"type\\\":\\\"observable\\\"},data)}))})\")],\"__get_gd_contents\" => Any[WebIO.JSString(\"(function (prop){prop==\\\"data\\\" ? (WebIO.setval({\\\"name\\\":\\\"__gd_contents\\\",\\\"scope\\\":\\\"15461597738960341640\\\",\\\"id\\\":\\\"10895629007868711487\\\",\\\"type\\\":\\\"observable\\\"},this.plotElem.data)) : undefined; return prop==\\\"layout\\\" ? (WebIO.setval({\\\"name\\\":\\\"__gd_contents\\\",\\\"scope\\\":\\\"15461597738960341640\\\",\\\"id\\\":\\\"10895629007868711487\\\",\\\"type\\\":\\\"observable\\\"},this.plotElem.layout)) : undefined})\")],\"_downloadImage\" => Any[WebIO.JSString(\"(function (options){return this.Plotly.downloadImage(this.plotElem,options)})\")],\"_commands\" => Any[WebIO.JSString(\"(function (args){var fn=args.shift(); var elem=this.plotElem; var Plotly=this.Plotly; args.unshift(elem); return Plotly[fn].apply(this,args)})\")]), WebIO.ConnectionPool(Channel{Any}(sz_max:32,sz_curr:0), Set{AbstractConnection}(), Base.GenericCondition{Base.AlwaysLockedST}(Base.InvasiveLinkedList{Task}(Task (runnable) @0x000000012432a890, Task (runnable) @0x000000012432a890), Base.AlwaysLockedST(1))), WebIO.JSString[WebIO.JSString(\"function () {\\n    var handler = ((function (Plotly,PlotlyWebIO){PlotlyWebIO.init(WebIO); var gd=this.dom.querySelector(\\\"#plot-c40cf929-5db8-4a60-b28d-bff20142bcb0\\\"); this.plotElem=gd; this.Plotly=Plotly; (window.Blink!==undefined) ? (gd.style.width=\\\"100%\\\", gd.style.height=\\\"100vh\\\", gd.style.marginLeft=\\\"0%\\\", gd.style.marginTop=\\\"0vh\\\") : undefined; window.onresize=(function (){return Plotly.Plots.resize(gd)}); Plotly.newPlot(gd,[{\\\"marker\\\":{\\\"color\\\":\\\"#E24A33\\\",\\\"line\\\":{\\\"color\\\":\\\"#348ABD\\\",\\\"width\\\":0.5},\\\"size\\\":10},\\\"mode\\\":\\\"markers\\\",\\\"y\\\":[-0.10879037172432661,0.10879037172432661,-0.10975154797655741,0.10975154797655741,-0.13574989776119825,0.13574989776119825,-0.2586418035994159,0.2586418035994159,-0.25405753948613863,0.25405753948613863,-0.25937290392145046,0.25937290392145046,-0.10958000387513785,0.10958000387513785,-0.06620116864384624,0.06620116864384624,-0.1241160634388358,0.1241160634388358,-0.11891441024179619,0.11891441024179619,-0.15324486888652875,0.15324486888652875,-0.27693427571701096,0.27693427571701096,-0.1469983478745087,0.1469983478745087,-0.006070372044894234,0.006070372044894234,-0.2733124752131209,0.2733124752131209,-0.15010276060352204,0.15010276060352204,-0.4076166157076757,0.4076166157076757,-0.435427617375865,0.435427617375865,-0.367673722039919,0.367673722039919,-0.21409644700340624,0.21409644700340624,-0.14614349130421586,0.14614349130421586,-0.5578882417258654,0.5578882417258654,-0.4159869952446049,0.4159869952446049,-0.33746811060321874,0.33746811060321874,-0.5698578632990555,0.5698578632990555,-0.07295304743558527,0.07295304743558527,-0.0077687744084616725,0.0077687744084616725,-0.4624195694651731,0.4624195694651731,-0.22665038990979033,0.22665038990979033,-0.1662578654643505,0.1662578654643505,-0.5367077151212837,0.5367077151212837,-0.15836119083078365,0.15836119083078365,-0.3304511042650952,0.3304511042650952,-0.7095807382647048,0.7095807382647048,-0.6452086879219459,0.6452086879219459,-0.731300948187981,0.731300948187981,-0.7101996309969153,0.7101996309969153,-0.7363127609317422,0.7363127609317422,-0.5564417107281155,0.5564417107281155,-0.8218101594883035,0.8218101594883035,-0.7349403448984013,0.7349403448984013,-0.5725344533659485,0.5725344533659485,-0.05343384818679309,0.05343384818679309,-0.022075690302093564,0.022075690302093564,-0.7829542463514122,0.7829542463514122,-0.3356657405904009,0.3356657405904009,-0.8278257536091009,0.8278257536091009,-0.6100238364637857,0.6100238364637857,-0.8579428831467321,0.8579428831467321,-0.2465493684529824,0.2465493684529824,-0.057589922155649724,0.057589922155649724,-0.8722121001128617,0.8722121001128617,-0.8472730760907735,0.8472730760907735,-0.28997375715904594,0.28997375715904594,-0.4332899047027232,0.4332899047027232,-0.8123437273543532,0.8123437273543532,-0.39608696295063567,0.39608696295063567,-0.7795196394843853,0.7795196394843853,-0.5778613528662261,0.5778613528662261,-0.9702019276716233,0.9702019276716233,-0.9482064801548805,0.9482064801548805,-0.6363985741119599,0.6363985741119599,-0.9950409851034387,0.9950409851034387,-2.0122098419976547e-14,2.0122098419976547e-14],\\\"type\\\":\\\"scatter\\\",\\\"name\\\":\\\"A\\\",\\\"x\\\":[-0.08918709450397054,-0.08918709450397054,0.1408045573352858,0.1408045573352858,0.1389557009297892,0.1389557009297892,-0.04253008075392087,-0.04253008075392087,0.07581846549397914,0.07581846549397914,-0.07743776140021558,-0.07743776140021558,0.26069783987870637,0.26069783987870637,-0.2983583349177032,-0.2983583349177032,0.2933804196501578,0.2933804196501578,0.31606766099877515,0.31606766099877515,0.31325629775361996,0.31325629775361996,0.2426175117064043,0.2426175117064043,0.4066689719517996,0.4066689719517996,0.43528476157447804,0.43528476157447804,0.3470266676670776,0.3470266676670776,-0.41707484404311546,-0.41707484404311546,-0.19824256144181238,-0.19824256144181238,-0.18708458053478302,-0.18708458053478302,0.4078152716991666,0.4078152716991666,-0.5140977209855127,-0.5140977209855127,0.5393394856603746,0.5393394856603746,-0.05448321301488068,-0.05448321301488068,-0.3787892597830979,-0.3787892597830979,-0.4718959365649278,-0.4718959365649278,0.14662853412238666,0.14662853412238666,-0.5945856860397631,-0.5945856860397631,-0.6001632594545074,-0.6001632594545074,0.3842103488896186,0.3842103488896186,0.6147183593836323,0.6147183593836323,-0.6365539601591952,-0.6365539601591952,0.41058938905390885,0.41058938905390885,0.6901142036782117,0.6901142036782117,0.6354530240453067,0.6354530240453067,-0.14114661172047757,-0.14114661172047757,0.3306266557328791,0.3306266557328791,-0.047519071171810964,-0.047519071171810964,0.21439327941744646,0.21439327941744646,0.1509513971334683,0.1509513971334683,0.5768832687360091,0.5768832687360091,-0.03056407630046251,-0.03056407630046251,0.3711841503035054,0.3711841503035054,0.5974226542278691,0.5974226542278691,-0.8375477982368175,-0.8375477982368175,0.8431533304389764,0.8431533304389764,-0.33278641507162615,-0.33278641507162615,0.7817827035457106,0.7817827035457106,-0.1967007561339742,-0.1967007561339742,0.5933219674458214,0.5933219674458214,-0.032293787955374076,-0.032293787955374076,0.8318795097238192,0.8318795097238192,-0.878284108628804,-0.878284108628804,-0.3244052902649379,-0.3244052902649379,-0.4026240648662433,-0.4026240648662433,-0.8940321182123798,-0.8940321182123798,-0.8401411096864391,-0.8401411096864391,-0.4990269579655238,-0.4990269579655238,0.8714828925775688,0.8714828925775688,-0.5736417024848666,-0.5736417024848666,-0.7879390918820168,-0.7879390918820168,0.1874964563992596,0.1874964563992596,0.27930706900332614,0.27930706900332614,0.7604128389076625,0.7604128389076625,-0.04092621100019783,-0.04092621100019783,2.000000000000005,2.000000000000005]},{\\\"marker\\\":{\\\"color\\\":\\\"#348ABD\\\",\\\"line\\\":{\\\"color\\\":\\\"#348ABD\\\",\\\"width\\\":0.5},\\\"size\\\":10},\\\"mode\\\":\\\"markers\\\",\\\"y\\\":[-0.28997121202568915,0.28997121202568915,-0.057711224431536,0.057711224431536,-0.4332902148516033,0.4332902148516033,-0.05001999151521939,0.05001999151521939,-0.5778614128394377,0.5778614128394377,0.0,-0.7795209572265548,0.7795209572265548,-0.8120694956225388,0.8120694956225388,-0.29091406777520323,0.29091406777520323,-0.12188267132340726,0.12188267132340726,-0.8469835451216485,0.8469835451216485,-0.7807386184629231,0.7807386184629231,-0.8722998601151722,0.8722998601151722,-0.8275351118906801,0.8275351118906801,-0.995038271653088,0.995038271653088,-0.7587893897093868,0.7587893897093868,-0.8594634816564333,0.8594634816564333,-0.4641553850267692,0.4641553850267692,-0.9701913874276151,0.9701913874276151,-0.696633923879662,0.696633923879662,-0.9482130637893178,0.9482130637893178,-0.7336369155905018,0.7336369155905018,-0.5495848511340681,0.5495848511340681,0.0,-0.5633247529199634,0.5633247529199634,-0.6054232500570406,0.6054232500570406,-0.16355934993910326,0.16355934993910326,-0.6363999261183063,0.6363999261183063,-0.34184487643824374,0.34184487643824374,-0.24599442157855209,0.24599442157855209,-0.018905774799210247,0.018905774799210247,-0.3960859676297567,0.3960859676297567,0.0,0.0],\\\"type\\\":\\\"scatter\\\",\\\"name\\\":\\\"Arnoldi\\\",\\\"x\\\":[-0.8940312106670951,-0.8940312106670951,-0.8784014066131323,-0.8784014066131323,-0.8401420781231024,-0.8401420781231024,-0.8362592469395849,-0.8362592469395849,-0.7879393099111964,-0.7879393099111964,-0.6157669887143555,-0.573639840395276,-0.573639840395276,-0.4990161732759877,-0.4990161732759877,-0.44464819664677835,-0.44464819664677835,-0.40499429898060735,-0.40499429898060735,-0.402928613862178,-0.402928613862178,-0.33299737186198325,-0.33299737186198325,-0.32444828248426794,-0.32444828248426794,-0.195584477347036,-0.195584477347036,-0.04091968382129185,-0.04091968382129185,-0.03514359669644776,-0.03514359669644776,-0.03193619469490616,-0.03193619469490616,0.17496962005951527,0.17496962005951527,0.18751128229868225,0.18751128229868225,0.20411078818020745,0.20411078818020745,0.2793046085387927,0.2793046085387927,0.3706701944876835,0.3706701944876835,0.3730446532317942,0.3730446532317942,0.5610989636582508,0.5899421619603977,0.5899421619603977,0.5967605954549953,0.5967605954549953,0.6366932623811072,0.6366932623811072,0.7604139289386501,0.7604139289386501,0.7749842378972858,0.7749842378972858,0.8314964082732764,0.8314964082732764,0.8452802292670493,0.8452802292670493,0.871496673958127,0.871496673958127,1.9999999985563284,2.000000000000001]}],{\\\"xaxis\\\":{\\\"showgrid\\\":true,\\\"gridcolor\\\":\\\"#E5E5E5\\\",\\\"titlefont\\\":{\\\"color\\\":\\\"#555555\\\",\\\"size\\\":18},\\\"zeroline\\\":false,\\\"ticks\\\":\\\"inside\\\",\\\"title\\\":\\\"Real part\\\",\\\"range\\\":[-1.1,2.1],\\\"linewidth\\\":1.0,\\\"mirror\\\":true,\\\"linecolor\\\":\\\"black\\\"},\\\"titlefont\\\":{\\\"size\\\":18},\\\"font\\\":{\\\"size\\\":16},\\\"height\\\":550,\\\"margin\\\":{\\\"l\\\":80,\\\"b\\\":50,\\\"r\\\":50,\\\"t\\\":60},\\\"yaxis\\\":{\\\"scaleanchor\\\":\\\"x\\\",\\\"ticks\\\":\\\"inside\\\",\\\"range\\\":[-1.1,1.1],\\\"linecolor\\\":\\\"black\\\",\\\"showgrid\\\":true,\\\"scaleratio\\\":1,\\\"title\\\":\\\"Imaginary part\\\",\\\"mirror\\\":true,\\\"gridcolor\\\":\\\"#E5E5E5\\\",\\\"titlefont\\\":{\\\"color\\\":\\\"#555555\\\",\\\"size\\\":18},\\\"zeroline\\\":false,\\\"linewidth\\\":1.0},\\\"width\\\":700},{}); gd.on(\\\"plotly_hover\\\",(function (data){var filtered_data=WebIO.PlotlyCommands.filterEventData(gd,data,\\\"hover\\\"); return !(filtered_data.isnil) ? (WebIO.setval({\\\"name\\\":\\\"hover\\\",\\\"scope\\\":\\\"15461597738960341640\\\",\\\"id\\\":\\\"15053271299962572372\\\",\\\"type\\\":\\\"observable\\\"},filtered_data.out)) : undefined})); gd.on(\\\"plotly_unhover\\\",(function (){return WebIO.setval({\\\"name\\\":\\\"hover\\\",\\\"scope\\\":\\\"15461597738960341640\\\",\\\"id\\\":\\\"15053271299962572372\\\",\\\"type\\\":\\\"observable\\\"},{})})); gd.on(\\\"plotly_selected\\\",(function (data){var filtered_data=WebIO.PlotlyCommands.filterEventData(gd,data,\\\"selected\\\"); return !(filtered_data.isnil) ? (WebIO.setval({\\\"name\\\":\\\"selected\\\",\\\"scope\\\":\\\"15461597738960341640\\\",\\\"id\\\":\\\"14634563450705664328\\\",\\\"type\\\":\\\"observable\\\"},filtered_data.out)) : undefined})); gd.on(\\\"plotly_deselect\\\",(function (){return WebIO.setval({\\\"name\\\":\\\"selected\\\",\\\"scope\\\":\\\"15461597738960341640\\\",\\\"id\\\":\\\"14634563450705664328\\\",\\\"type\\\":\\\"observable\\\"},{})})); gd.on(\\\"plotly_relayout\\\",(function (data){var filtered_data=WebIO.PlotlyCommands.filterEventData(gd,data,\\\"relayout\\\"); return !(filtered_data.isnil) ? (WebIO.setval({\\\"name\\\":\\\"relayout\\\",\\\"scope\\\":\\\"15461597738960341640\\\",\\\"id\\\":\\\"1277399592706455682\\\",\\\"type\\\":\\\"observable\\\"},filtered_data.out)) : undefined})); return gd.on(\\\"plotly_click\\\",(function (data){var filtered_data=WebIO.PlotlyCommands.filterEventData(gd,data,\\\"click\\\"); return !(filtered_data.isnil) ? (WebIO.setval({\\\"name\\\":\\\"click\\\",\\\"scope\\\":\\\"15461597738960341640\\\",\\\"id\\\":\\\"6607105024104025061\\\",\\\"type\\\":\\\"observable\\\"},filtered_data.out)) : undefined}))}));\\n    (WebIO.importBlock({\\\"data\\\":[{\\\"name\\\":\\\"Plotly\\\",\\\"type\\\":\\\"js\\\",\\\"url\\\":\\\"/assetserver/57533c5d787f8bc76a9e58ed0a1abce5f1b0c14d-plotly-latest.min.js\\\"},{\\\"name\\\":null,\\\"type\\\":\\\"js\\\",\\\"url\\\":\\\"/assetserver/58a7932c57029f7dbaa4105104076ff149fc7585-plotly_webio.bundle.js\\\"}],\\\"type\\\":\\\"async_block\\\"})).then((imports) => handler.apply(this, imports));\\n}\\n\")]), Dict{Any,Any}(), nothing)], Dict{Symbol,Any}(:className => \"interact-flex-row interact-widget\"))], Dict{Symbol,Any}())"
      ]
     },
     "execution_count": 7,
     "metadata": {
      "application/vnd.webio.node+json": {
       "kernelId": null
      }
     },
     "output_type": "execute_result"
    }
   ],
   "source": [
    "# Pre-computing all the data we are going to plot\n",
    "L = zeros(ComplexF64,n,kmax)\n",
    "for k=1:kmax\n",
    "    L[1:k,k] = eig_k(Hk,k)\n",
    "end\n",
    "\n",
    "@manipulate for k=1:kmax\n",
    "    t1 = scatter(x=real(D),y=imag(D),name=\"A\",mode=\"markers\")\n",
    "    t2 = scatter(x=real(L[1:k,k]),y=imag(L[1:k,k]),name=\"Arnoldi\",mode=\"markers\")\n",
    "    l = PlotlyJS.Layout(xaxis_title=\"Real part\",yaxis_title=\"Imaginary part\",\n",
    "        yaxis_scaleanchor=\"x\",yaxis_scaleratio=1,\n",
    "        xaxis_range=[-1.1,2.1],yaxis_range=[-1.1,1.1],\n",
    "        width=700,height=550,margin_l=80)\n",
    "    plot([t1,t2],l)\n",
    "end"
   ]
  },
  {
   "cell_type": "code",
   "execution_count": 8,
   "metadata": {},
   "outputs": [
    {
     "data": {
      "application/vnd.plotly.v1+json": {
       "data": [
        {
         "marker": {
          "color": "#E24A33",
          "line": {
           "color": "#348ABD",
           "width": 0.5
          },
          "size": 10
         },
         "mode": "markers",
         "name": "A",
         "type": "scatter",
         "x": [
          -0.08918709450397054,
          -0.08918709450397054,
          0.1408045573352858,
          0.1408045573352858,
          0.1389557009297892,
          0.1389557009297892,
          -0.04253008075392087,
          -0.04253008075392087,
          0.07581846549397914,
          0.07581846549397914,
          -0.07743776140021558,
          -0.07743776140021558,
          0.26069783987870637,
          0.26069783987870637,
          -0.2983583349177032,
          -0.2983583349177032,
          0.2933804196501578,
          0.2933804196501578,
          0.31606766099877515,
          0.31606766099877515,
          0.31325629775361996,
          0.31325629775361996,
          0.2426175117064043,
          0.2426175117064043,
          0.4066689719517996,
          0.4066689719517996,
          0.43528476157447804,
          0.43528476157447804,
          0.3470266676670776,
          0.3470266676670776,
          -0.41707484404311546,
          -0.41707484404311546,
          -0.19824256144181238,
          -0.19824256144181238,
          -0.18708458053478302,
          -0.18708458053478302,
          0.4078152716991666,
          0.4078152716991666,
          -0.5140977209855127,
          -0.5140977209855127,
          0.5393394856603746,
          0.5393394856603746,
          -0.05448321301488068,
          -0.05448321301488068,
          -0.3787892597830979,
          -0.3787892597830979,
          -0.4718959365649278,
          -0.4718959365649278,
          0.14662853412238666,
          0.14662853412238666,
          -0.5945856860397631,
          -0.5945856860397631,
          -0.6001632594545074,
          -0.6001632594545074,
          0.3842103488896186,
          0.3842103488896186,
          0.6147183593836323,
          0.6147183593836323,
          -0.6365539601591952,
          -0.6365539601591952,
          0.41058938905390885,
          0.41058938905390885,
          0.6901142036782117,
          0.6901142036782117,
          0.6354530240453067,
          0.6354530240453067,
          -0.14114661172047757,
          -0.14114661172047757,
          0.3306266557328791,
          0.3306266557328791,
          -0.047519071171810964,
          -0.047519071171810964,
          0.21439327941744646,
          0.21439327941744646,
          0.1509513971334683,
          0.1509513971334683,
          0.5768832687360091,
          0.5768832687360091,
          -0.03056407630046251,
          -0.03056407630046251,
          0.3711841503035054,
          0.3711841503035054,
          0.5974226542278691,
          0.5974226542278691,
          -0.8375477982368175,
          -0.8375477982368175,
          0.8431533304389764,
          0.8431533304389764,
          -0.33278641507162615,
          -0.33278641507162615,
          0.7817827035457106,
          0.7817827035457106,
          -0.1967007561339742,
          -0.1967007561339742,
          0.5933219674458214,
          0.5933219674458214,
          -0.032293787955374076,
          -0.032293787955374076,
          0.8318795097238192,
          0.8318795097238192,
          -0.878284108628804,
          -0.878284108628804,
          -0.3244052902649379,
          -0.3244052902649379,
          -0.4026240648662433,
          -0.4026240648662433,
          -0.8940321182123798,
          -0.8940321182123798,
          -0.8401411096864391,
          -0.8401411096864391,
          -0.4990269579655238,
          -0.4990269579655238,
          0.8714828925775688,
          0.8714828925775688,
          -0.5736417024848666,
          -0.5736417024848666,
          -0.7879390918820168,
          -0.7879390918820168,
          0.1874964563992596,
          0.1874964563992596,
          0.27930706900332614,
          0.27930706900332614,
          0.7604128389076625,
          0.7604128389076625,
          -0.04092621100019783,
          -0.04092621100019783,
          2.000000000000005,
          2.000000000000005
         ],
         "y": [
          -0.10879037172432661,
          0.10879037172432661,
          -0.10975154797655741,
          0.10975154797655741,
          -0.13574989776119825,
          0.13574989776119825,
          -0.2586418035994159,
          0.2586418035994159,
          -0.25405753948613863,
          0.25405753948613863,
          -0.25937290392145046,
          0.25937290392145046,
          -0.10958000387513785,
          0.10958000387513785,
          -0.06620116864384624,
          0.06620116864384624,
          -0.1241160634388358,
          0.1241160634388358,
          -0.11891441024179619,
          0.11891441024179619,
          -0.15324486888652875,
          0.15324486888652875,
          -0.27693427571701096,
          0.27693427571701096,
          -0.1469983478745087,
          0.1469983478745087,
          -0.006070372044894234,
          0.006070372044894234,
          -0.2733124752131209,
          0.2733124752131209,
          -0.15010276060352204,
          0.15010276060352204,
          -0.4076166157076757,
          0.4076166157076757,
          -0.435427617375865,
          0.435427617375865,
          -0.367673722039919,
          0.367673722039919,
          -0.21409644700340624,
          0.21409644700340624,
          -0.14614349130421586,
          0.14614349130421586,
          -0.5578882417258654,
          0.5578882417258654,
          -0.4159869952446049,
          0.4159869952446049,
          -0.33746811060321874,
          0.33746811060321874,
          -0.5698578632990555,
          0.5698578632990555,
          -0.07295304743558527,
          0.07295304743558527,
          -0.0077687744084616725,
          0.0077687744084616725,
          -0.4624195694651731,
          0.4624195694651731,
          -0.22665038990979033,
          0.22665038990979033,
          -0.1662578654643505,
          0.1662578654643505,
          -0.5367077151212837,
          0.5367077151212837,
          -0.15836119083078365,
          0.15836119083078365,
          -0.3304511042650952,
          0.3304511042650952,
          -0.7095807382647048,
          0.7095807382647048,
          -0.6452086879219459,
          0.6452086879219459,
          -0.731300948187981,
          0.731300948187981,
          -0.7101996309969153,
          0.7101996309969153,
          -0.7363127609317422,
          0.7363127609317422,
          -0.5564417107281155,
          0.5564417107281155,
          -0.8218101594883035,
          0.8218101594883035,
          -0.7349403448984013,
          0.7349403448984013,
          -0.5725344533659485,
          0.5725344533659485,
          -0.05343384818679309,
          0.05343384818679309,
          -0.022075690302093564,
          0.022075690302093564,
          -0.7829542463514122,
          0.7829542463514122,
          -0.3356657405904009,
          0.3356657405904009,
          -0.8278257536091009,
          0.8278257536091009,
          -0.6100238364637857,
          0.6100238364637857,
          -0.8579428831467321,
          0.8579428831467321,
          -0.2465493684529824,
          0.2465493684529824,
          -0.057589922155649724,
          0.057589922155649724,
          -0.8722121001128617,
          0.8722121001128617,
          -0.8472730760907735,
          0.8472730760907735,
          -0.28997375715904594,
          0.28997375715904594,
          -0.4332899047027232,
          0.4332899047027232,
          -0.8123437273543532,
          0.8123437273543532,
          -0.39608696295063567,
          0.39608696295063567,
          -0.7795196394843853,
          0.7795196394843853,
          -0.5778613528662261,
          0.5778613528662261,
          -0.9702019276716233,
          0.9702019276716233,
          -0.9482064801548805,
          0.9482064801548805,
          -0.6363985741119599,
          0.6363985741119599,
          -0.9950409851034387,
          0.9950409851034387,
          -2.0122098419976547e-14,
          2.0122098419976547e-14
         ]
        },
        {
         "marker": {
          "color": "black",
          "line": {
           "color": "#348ABD",
           "width": 1.3
          },
          "size": 10,
          "symbol": "square-open"
         },
         "mode": "markers",
         "name": "Arnoldi",
         "type": "scatter",
         "x": [
          -0.8940312106670951,
          -0.8940312106670951,
          -0.8784014066131323,
          -0.8784014066131323,
          -0.8401420781231024,
          -0.8401420781231024,
          -0.8362592469395849,
          -0.8362592469395849,
          -0.7879393099111964,
          -0.7879393099111964,
          -0.6157669887143555,
          -0.573639840395276,
          -0.573639840395276,
          -0.4990161732759877,
          -0.4990161732759877,
          -0.44464819664677835,
          -0.44464819664677835,
          -0.40499429898060735,
          -0.40499429898060735,
          -0.402928613862178,
          -0.402928613862178,
          -0.33299737186198325,
          -0.33299737186198325,
          -0.32444828248426794,
          -0.32444828248426794,
          -0.195584477347036,
          -0.195584477347036,
          -0.04091968382129185,
          -0.04091968382129185,
          -0.03514359669644776,
          -0.03514359669644776,
          -0.03193619469490616,
          -0.03193619469490616,
          0.17496962005951527,
          0.17496962005951527,
          0.18751128229868225,
          0.18751128229868225,
          0.20411078818020745,
          0.20411078818020745,
          0.2793046085387927,
          0.2793046085387927,
          0.3706701944876835,
          0.3706701944876835,
          0.3730446532317942,
          0.3730446532317942,
          0.5610989636582508,
          0.5899421619603977,
          0.5899421619603977,
          0.5967605954549953,
          0.5967605954549953,
          0.6366932623811072,
          0.6366932623811072,
          0.7604139289386501,
          0.7604139289386501,
          0.7749842378972858,
          0.7749842378972858,
          0.8314964082732764,
          0.8314964082732764,
          0.8452802292670493,
          0.8452802292670493,
          0.871496673958127,
          0.871496673958127,
          1.9999999985563284,
          2.000000000000001
         ],
         "y": [
          -0.28997121202568915,
          0.28997121202568915,
          -0.057711224431536,
          0.057711224431536,
          -0.4332902148516033,
          0.4332902148516033,
          -0.05001999151521939,
          0.05001999151521939,
          -0.5778614128394377,
          0.5778614128394377,
          0,
          -0.7795209572265548,
          0.7795209572265548,
          -0.8120694956225388,
          0.8120694956225388,
          -0.29091406777520323,
          0.29091406777520323,
          -0.12188267132340726,
          0.12188267132340726,
          -0.8469835451216485,
          0.8469835451216485,
          -0.7807386184629231,
          0.7807386184629231,
          -0.8722998601151722,
          0.8722998601151722,
          -0.8275351118906801,
          0.8275351118906801,
          -0.995038271653088,
          0.995038271653088,
          -0.7587893897093868,
          0.7587893897093868,
          -0.8594634816564333,
          0.8594634816564333,
          -0.4641553850267692,
          0.4641553850267692,
          -0.9701913874276151,
          0.9701913874276151,
          -0.696633923879662,
          0.696633923879662,
          -0.9482130637893178,
          0.9482130637893178,
          -0.7336369155905018,
          0.7336369155905018,
          -0.5495848511340681,
          0.5495848511340681,
          0,
          -0.5633247529199634,
          0.5633247529199634,
          -0.6054232500570406,
          0.6054232500570406,
          -0.16355934993910326,
          0.16355934993910326,
          -0.6363999261183063,
          0.6363999261183063,
          -0.34184487643824374,
          0.34184487643824374,
          -0.24599442157855209,
          0.24599442157855209,
          -0.018905774799210247,
          0.018905774799210247,
          -0.3960859676297567,
          0.3960859676297567,
          0,
          0
         ]
        }
       ],
       "frames": [],
       "layout": {
        "font": {
         "size": 16
        },
        "height": 300,
        "margin": {
         "b": 50,
         "l": 80,
         "r": 50,
         "t": 60
        },
        "titlefont": {
         "size": 18
        },
        "width": 500,
        "xaxis": {
         "gridcolor": "#E5E5E5",
         "linecolor": "black",
         "linewidth": 1,
         "mirror": true,
         "range": [
          -1.1,
          2.1
         ],
         "showgrid": true,
         "ticks": "inside",
         "title": "Real part",
         "titlefont": {
          "color": "#555555",
          "size": 18
         },
         "zeroline": false
        },
        "yaxis": {
         "gridcolor": "#E5E5E5",
         "linecolor": "black",
         "linewidth": 1,
         "mirror": true,
         "range": [
          -1.1,
          1.1
         ],
         "scaleanchor": "x",
         "scaleratio": 1,
         "showgrid": true,
         "ticks": "inside",
         "title": "Imaginary part",
         "titlefont": {
          "color": "#555555",
          "size": 18
         },
         "zeroline": false
        }
       }
      },
      "application/vnd.webio.node+json": {
       "children": [
        {
         "children": [],
         "instanceArgs": {
          "namespace": "html",
          "tag": "div"
         },
         "nodeType": "DOM",
         "props": {
          "id": "plot-9cd79570-786c-4062-82fa-0dfb85ee40ed"
         },
         "type": "node"
        }
       ],
       "instanceArgs": {
        "handlers": {
         "__get_gd_contents": [
          "(function (prop){prop==\"data\" ? (WebIO.setval({\"name\":\"__gd_contents\",\"scope\":\"1147299215936450718\",\"id\":\"7810873281275270197\",\"type\":\"observable\"},this.plotElem.data)) : undefined; return prop==\"layout\" ? (WebIO.setval({\"name\":\"__gd_contents\",\"scope\":\"1147299215936450718\",\"id\":\"7810873281275270197\",\"type\":\"observable\"},this.plotElem.layout)) : undefined})"
         ],
         "_commands": [
          "(function (args){var fn=args.shift(); var elem=this.plotElem; var Plotly=this.Plotly; args.unshift(elem); return Plotly[fn].apply(this,args)})"
         ],
         "_downloadImage": [
          "(function (options){return this.Plotly.downloadImage(this.plotElem,options)})"
         ],
         "_toImage": [
          "(function (options){return this.Plotly.toImage(this.plotElem,options).then((function (data){return WebIO.setval({\"name\":\"image\",\"scope\":\"1147299215936450718\",\"id\":\"8711231712656857683\",\"type\":\"observable\"},data)}))})"
         ]
        },
        "id": "1147299215936450718",
        "imports": {
         "data": [
          {
           "name": "Plotly",
           "type": "js",
           "url": "/assetserver/57533c5d787f8bc76a9e58ed0a1abce5f1b0c14d-plotly-latest.min.js"
          },
          {
           "name": null,
           "type": "js",
           "url": "/assetserver/58a7932c57029f7dbaa4105104076ff149fc7585-plotly_webio.bundle.js"
          }
         ],
         "type": "async_block"
        },
        "mount_callbacks": [
         "function () {\n    var handler = ((function (Plotly,PlotlyWebIO){PlotlyWebIO.init(WebIO); var gd=this.dom.querySelector(\"#plot-9cd79570-786c-4062-82fa-0dfb85ee40ed\"); this.plotElem=gd; this.Plotly=Plotly; (window.Blink!==undefined) ? (gd.style.width=\"100%\", gd.style.height=\"100vh\", gd.style.marginLeft=\"0%\", gd.style.marginTop=\"0vh\") : undefined; window.onresize=(function (){return Plotly.Plots.resize(gd)}); Plotly.newPlot(gd,[{\"marker\":{\"color\":\"#E24A33\",\"line\":{\"color\":\"#348ABD\",\"width\":0.5},\"size\":10},\"mode\":\"markers\",\"y\":[-0.10879037172432661,0.10879037172432661,-0.10975154797655741,0.10975154797655741,-0.13574989776119825,0.13574989776119825,-0.2586418035994159,0.2586418035994159,-0.25405753948613863,0.25405753948613863,-0.25937290392145046,0.25937290392145046,-0.10958000387513785,0.10958000387513785,-0.06620116864384624,0.06620116864384624,-0.1241160634388358,0.1241160634388358,-0.11891441024179619,0.11891441024179619,-0.15324486888652875,0.15324486888652875,-0.27693427571701096,0.27693427571701096,-0.1469983478745087,0.1469983478745087,-0.006070372044894234,0.006070372044894234,-0.2733124752131209,0.2733124752131209,-0.15010276060352204,0.15010276060352204,-0.4076166157076757,0.4076166157076757,-0.435427617375865,0.435427617375865,-0.367673722039919,0.367673722039919,-0.21409644700340624,0.21409644700340624,-0.14614349130421586,0.14614349130421586,-0.5578882417258654,0.5578882417258654,-0.4159869952446049,0.4159869952446049,-0.33746811060321874,0.33746811060321874,-0.5698578632990555,0.5698578632990555,-0.07295304743558527,0.07295304743558527,-0.0077687744084616725,0.0077687744084616725,-0.4624195694651731,0.4624195694651731,-0.22665038990979033,0.22665038990979033,-0.1662578654643505,0.1662578654643505,-0.5367077151212837,0.5367077151212837,-0.15836119083078365,0.15836119083078365,-0.3304511042650952,0.3304511042650952,-0.7095807382647048,0.7095807382647048,-0.6452086879219459,0.6452086879219459,-0.731300948187981,0.731300948187981,-0.7101996309969153,0.7101996309969153,-0.7363127609317422,0.7363127609317422,-0.5564417107281155,0.5564417107281155,-0.8218101594883035,0.8218101594883035,-0.7349403448984013,0.7349403448984013,-0.5725344533659485,0.5725344533659485,-0.05343384818679309,0.05343384818679309,-0.022075690302093564,0.022075690302093564,-0.7829542463514122,0.7829542463514122,-0.3356657405904009,0.3356657405904009,-0.8278257536091009,0.8278257536091009,-0.6100238364637857,0.6100238364637857,-0.8579428831467321,0.8579428831467321,-0.2465493684529824,0.2465493684529824,-0.057589922155649724,0.057589922155649724,-0.8722121001128617,0.8722121001128617,-0.8472730760907735,0.8472730760907735,-0.28997375715904594,0.28997375715904594,-0.4332899047027232,0.4332899047027232,-0.8123437273543532,0.8123437273543532,-0.39608696295063567,0.39608696295063567,-0.7795196394843853,0.7795196394843853,-0.5778613528662261,0.5778613528662261,-0.9702019276716233,0.9702019276716233,-0.9482064801548805,0.9482064801548805,-0.6363985741119599,0.6363985741119599,-0.9950409851034387,0.9950409851034387,-2.0122098419976547e-14,2.0122098419976547e-14],\"type\":\"scatter\",\"name\":\"A\",\"x\":[-0.08918709450397054,-0.08918709450397054,0.1408045573352858,0.1408045573352858,0.1389557009297892,0.1389557009297892,-0.04253008075392087,-0.04253008075392087,0.07581846549397914,0.07581846549397914,-0.07743776140021558,-0.07743776140021558,0.26069783987870637,0.26069783987870637,-0.2983583349177032,-0.2983583349177032,0.2933804196501578,0.2933804196501578,0.31606766099877515,0.31606766099877515,0.31325629775361996,0.31325629775361996,0.2426175117064043,0.2426175117064043,0.4066689719517996,0.4066689719517996,0.43528476157447804,0.43528476157447804,0.3470266676670776,0.3470266676670776,-0.41707484404311546,-0.41707484404311546,-0.19824256144181238,-0.19824256144181238,-0.18708458053478302,-0.18708458053478302,0.4078152716991666,0.4078152716991666,-0.5140977209855127,-0.5140977209855127,0.5393394856603746,0.5393394856603746,-0.05448321301488068,-0.05448321301488068,-0.3787892597830979,-0.3787892597830979,-0.4718959365649278,-0.4718959365649278,0.14662853412238666,0.14662853412238666,-0.5945856860397631,-0.5945856860397631,-0.6001632594545074,-0.6001632594545074,0.3842103488896186,0.3842103488896186,0.6147183593836323,0.6147183593836323,-0.6365539601591952,-0.6365539601591952,0.41058938905390885,0.41058938905390885,0.6901142036782117,0.6901142036782117,0.6354530240453067,0.6354530240453067,-0.14114661172047757,-0.14114661172047757,0.3306266557328791,0.3306266557328791,-0.047519071171810964,-0.047519071171810964,0.21439327941744646,0.21439327941744646,0.1509513971334683,0.1509513971334683,0.5768832687360091,0.5768832687360091,-0.03056407630046251,-0.03056407630046251,0.3711841503035054,0.3711841503035054,0.5974226542278691,0.5974226542278691,-0.8375477982368175,-0.8375477982368175,0.8431533304389764,0.8431533304389764,-0.33278641507162615,-0.33278641507162615,0.7817827035457106,0.7817827035457106,-0.1967007561339742,-0.1967007561339742,0.5933219674458214,0.5933219674458214,-0.032293787955374076,-0.032293787955374076,0.8318795097238192,0.8318795097238192,-0.878284108628804,-0.878284108628804,-0.3244052902649379,-0.3244052902649379,-0.4026240648662433,-0.4026240648662433,-0.8940321182123798,-0.8940321182123798,-0.8401411096864391,-0.8401411096864391,-0.4990269579655238,-0.4990269579655238,0.8714828925775688,0.8714828925775688,-0.5736417024848666,-0.5736417024848666,-0.7879390918820168,-0.7879390918820168,0.1874964563992596,0.1874964563992596,0.27930706900332614,0.27930706900332614,0.7604128389076625,0.7604128389076625,-0.04092621100019783,-0.04092621100019783,2.000000000000005,2.000000000000005]},{\"marker\":{\"symbol\":\"square-open\",\"color\":\"black\",\"line\":{\"color\":\"#348ABD\",\"width\":1.3},\"size\":10},\"mode\":\"markers\",\"y\":[-0.28997121202568915,0.28997121202568915,-0.057711224431536,0.057711224431536,-0.4332902148516033,0.4332902148516033,-0.05001999151521939,0.05001999151521939,-0.5778614128394377,0.5778614128394377,0.0,-0.7795209572265548,0.7795209572265548,-0.8120694956225388,0.8120694956225388,-0.29091406777520323,0.29091406777520323,-0.12188267132340726,0.12188267132340726,-0.8469835451216485,0.8469835451216485,-0.7807386184629231,0.7807386184629231,-0.8722998601151722,0.8722998601151722,-0.8275351118906801,0.8275351118906801,-0.995038271653088,0.995038271653088,-0.7587893897093868,0.7587893897093868,-0.8594634816564333,0.8594634816564333,-0.4641553850267692,0.4641553850267692,-0.9701913874276151,0.9701913874276151,-0.696633923879662,0.696633923879662,-0.9482130637893178,0.9482130637893178,-0.7336369155905018,0.7336369155905018,-0.5495848511340681,0.5495848511340681,0.0,-0.5633247529199634,0.5633247529199634,-0.6054232500570406,0.6054232500570406,-0.16355934993910326,0.16355934993910326,-0.6363999261183063,0.6363999261183063,-0.34184487643824374,0.34184487643824374,-0.24599442157855209,0.24599442157855209,-0.018905774799210247,0.018905774799210247,-0.3960859676297567,0.3960859676297567,0.0,0.0],\"type\":\"scatter\",\"name\":\"Arnoldi\",\"x\":[-0.8940312106670951,-0.8940312106670951,-0.8784014066131323,-0.8784014066131323,-0.8401420781231024,-0.8401420781231024,-0.8362592469395849,-0.8362592469395849,-0.7879393099111964,-0.7879393099111964,-0.6157669887143555,-0.573639840395276,-0.573639840395276,-0.4990161732759877,-0.4990161732759877,-0.44464819664677835,-0.44464819664677835,-0.40499429898060735,-0.40499429898060735,-0.402928613862178,-0.402928613862178,-0.33299737186198325,-0.33299737186198325,-0.32444828248426794,-0.32444828248426794,-0.195584477347036,-0.195584477347036,-0.04091968382129185,-0.04091968382129185,-0.03514359669644776,-0.03514359669644776,-0.03193619469490616,-0.03193619469490616,0.17496962005951527,0.17496962005951527,0.18751128229868225,0.18751128229868225,0.20411078818020745,0.20411078818020745,0.2793046085387927,0.2793046085387927,0.3706701944876835,0.3706701944876835,0.3730446532317942,0.3730446532317942,0.5610989636582508,0.5899421619603977,0.5899421619603977,0.5967605954549953,0.5967605954549953,0.6366932623811072,0.6366932623811072,0.7604139289386501,0.7604139289386501,0.7749842378972858,0.7749842378972858,0.8314964082732764,0.8314964082732764,0.8452802292670493,0.8452802292670493,0.871496673958127,0.871496673958127,1.9999999985563284,2.000000000000001]}],{\"xaxis\":{\"showgrid\":true,\"gridcolor\":\"#E5E5E5\",\"titlefont\":{\"color\":\"#555555\",\"size\":18},\"zeroline\":false,\"ticks\":\"inside\",\"title\":\"Real part\",\"range\":[-1.1,2.1],\"linewidth\":1.0,\"mirror\":true,\"linecolor\":\"black\"},\"titlefont\":{\"size\":18},\"font\":{\"size\":16},\"height\":300,\"margin\":{\"l\":80,\"b\":50,\"r\":50,\"t\":60},\"yaxis\":{\"scaleanchor\":\"x\",\"ticks\":\"inside\",\"range\":[-1.1,1.1],\"linecolor\":\"black\",\"showgrid\":true,\"scaleratio\":1,\"title\":\"Imaginary part\",\"mirror\":true,\"gridcolor\":\"#E5E5E5\",\"titlefont\":{\"color\":\"#555555\",\"size\":18},\"zeroline\":false,\"linewidth\":1.0},\"width\":500},{}); gd.on(\"plotly_hover\",(function (data){var filtered_data=WebIO.PlotlyCommands.filterEventData(gd,data,\"hover\"); return !(filtered_data.isnil) ? (WebIO.setval({\"name\":\"hover\",\"scope\":\"1147299215936450718\",\"id\":\"9418838239406160165\",\"type\":\"observable\"},filtered_data.out)) : undefined})); gd.on(\"plotly_unhover\",(function (){return WebIO.setval({\"name\":\"hover\",\"scope\":\"1147299215936450718\",\"id\":\"9418838239406160165\",\"type\":\"observable\"},{})})); gd.on(\"plotly_selected\",(function (data){var filtered_data=WebIO.PlotlyCommands.filterEventData(gd,data,\"selected\"); return !(filtered_data.isnil) ? (WebIO.setval({\"name\":\"selected\",\"scope\":\"1147299215936450718\",\"id\":\"2165206252728569998\",\"type\":\"observable\"},filtered_data.out)) : undefined})); gd.on(\"plotly_deselect\",(function (){return WebIO.setval({\"name\":\"selected\",\"scope\":\"1147299215936450718\",\"id\":\"2165206252728569998\",\"type\":\"observable\"},{})})); gd.on(\"plotly_relayout\",(function (data){var filtered_data=WebIO.PlotlyCommands.filterEventData(gd,data,\"relayout\"); return !(filtered_data.isnil) ? (WebIO.setval({\"name\":\"relayout\",\"scope\":\"1147299215936450718\",\"id\":\"16424159023917121758\",\"type\":\"observable\"},filtered_data.out)) : undefined})); return gd.on(\"plotly_click\",(function (data){var filtered_data=WebIO.PlotlyCommands.filterEventData(gd,data,\"click\"); return !(filtered_data.isnil) ? (WebIO.setval({\"name\":\"click\",\"scope\":\"1147299215936450718\",\"id\":\"5595259186650499966\",\"type\":\"observable\"},filtered_data.out)) : undefined}))}));\n    (WebIO.importBlock({\"data\":[{\"name\":\"Plotly\",\"type\":\"js\",\"url\":\"/assetserver/57533c5d787f8bc76a9e58ed0a1abce5f1b0c14d-plotly-latest.min.js\"},{\"name\":null,\"type\":\"js\",\"url\":\"/assetserver/58a7932c57029f7dbaa4105104076ff149fc7585-plotly_webio.bundle.js\"}],\"type\":\"async_block\"})).then((imports) => handler.apply(this, imports));\n}\n"
        ],
        "observables": {
         "__gd_contents": {
          "id": "7810873281275270197",
          "sync": false,
          "value": {}
         },
         "__get_gd_contents": {
          "id": "14815316092866141904",
          "sync": false,
          "value": ""
         },
         "_commands": {
          "id": "16794732438077750143",
          "sync": false,
          "value": []
         },
         "_downloadImage": {
          "id": "399327869027376661",
          "sync": false,
          "value": {}
         },
         "_toImage": {
          "id": "7229127105439269860",
          "sync": false,
          "value": {}
         },
         "click": {
          "id": "5595259186650499966",
          "sync": false,
          "value": {}
         },
         "hover": {
          "id": "9418838239406160165",
          "sync": false,
          "value": {}
         },
         "image": {
          "id": "8711231712656857683",
          "sync": true,
          "value": ""
         },
         "relayout": {
          "id": "16424159023917121758",
          "sync": false,
          "value": {}
         },
         "selected": {
          "id": "2165206252728569998",
          "sync": false,
          "value": {}
         }
        },
        "systemjs_options": null
       },
       "nodeType": "Scope",
       "props": {},
       "type": "node"
      },
      "image/png": "[encoded data removed]",
      "image/svg+xml": [
       "<svg class=\"main-svg\" xmlns=\"http://www.w3.org/2000/svg\" xmlns:xlink=\"http://www.w3.org/1999/xlink\" width=\"700\" height=\"500\" style=\"\" viewBox=\"0 0 700 500\"><rect x=\"0\" y=\"0\" width=\"700\" height=\"500\" style=\"fill: rgb(255, 255, 255); fill-opacity: 1;\"/><defs id=\"defs-b4d08f\"><g class=\"clips\"><clipPath id=\"clipb4d08fxyplot\" class=\"plotclip\"><rect width=\"498\" height=\"390\"/></clipPath><clipPath class=\"axesclip\" id=\"clipb4d08fx\"><rect x=\"80\" y=\"0\" width=\"498\" height=\"500\"/></clipPath><clipPath class=\"axesclip\" id=\"clipb4d08fy\"><rect x=\"0\" y=\"60\" width=\"700\" height=\"390\"/></clipPath><clipPath class=\"axesclip\" id=\"clipb4d08fxy\"><rect x=\"80\" y=\"60\" width=\"498\" height=\"390\"/></clipPath></g><g class=\"gradients\"/></defs><g class=\"bglayer\"/><g class=\"layer-below\"><g class=\"imagelayer\"/><g class=\"shapelayer\"/></g><g class=\"cartesianlayer\"><g class=\"subplot xy\"><g class=\"layer-subplot\"><g class=\"shapelayer\"/><g class=\"imagelayer\"/></g><g class=\"gridlayer\"><g class=\"x\"><path class=\"xgrid crisp\" transform=\"translate(95.56,0)\" d=\"M0,60v390\" style=\"stroke: rgb(229, 229, 229); stroke-opacity: 1; stroke-width: 1px;\"/><path class=\"xgrid crisp\" transform=\"translate(173.38,0)\" d=\"M0,60v390\" style=\"stroke: rgb(229, 229, 229); stroke-opacity: 1; stroke-width: 1px;\"/><path class=\"xgrid crisp\" transform=\"translate(251.19,0)\" d=\"M0,60v390\" style=\"stroke: rgb(229, 229, 229); stroke-opacity: 1; stroke-width: 1px;\"/><path class=\"xgrid crisp\" transform=\"translate(329,0)\" d=\"M0,60v390\" style=\"stroke: rgb(229, 229, 229); stroke-opacity: 1; stroke-width: 1px;\"/><path class=\"xgrid crisp\" transform=\"translate(406.81,0)\" d=\"M0,60v390\" style=\"stroke: rgb(229, 229, 229); stroke-opacity: 1; stroke-width: 1px;\"/><path class=\"xgrid crisp\" transform=\"translate(484.63,0)\" d=\"M0,60v390\" style=\"stroke: rgb(229, 229, 229); stroke-opacity: 1; stroke-width: 1px;\"/><path class=\"xgrid crisp\" transform=\"translate(562.44,0)\" d=\"M0,60v390\" style=\"stroke: rgb(229, 229, 229); stroke-opacity: 1; stroke-width: 1px;\"/></g><g class=\"y\"><path class=\"ygrid crisp\" transform=\"translate(0,410.63)\" d=\"M80,0h498\" style=\"stroke: rgb(229, 229, 229); stroke-opacity: 1; stroke-width: 1px;\"/><path class=\"ygrid crisp\" transform=\"translate(0,332.81)\" d=\"M80,0h498\" style=\"stroke: rgb(229, 229, 229); stroke-opacity: 1; stroke-width: 1px;\"/><path class=\"ygrid crisp\" transform=\"translate(0,255)\" d=\"M80,0h498\" style=\"stroke: rgb(229, 229, 229); stroke-opacity: 1; stroke-width: 1px;\"/><path class=\"ygrid crisp\" transform=\"translate(0,177.19)\" d=\"M80,0h498\" style=\"stroke: rgb(229, 229, 229); stroke-opacity: 1; stroke-width: 1px;\"/><path class=\"ygrid crisp\" transform=\"translate(0,99.38)\" d=\"M80,0h498\" style=\"stroke: rgb(229, 229, 229); stroke-opacity: 1; stroke-width: 1px;\"/></g></g><g class=\"zerolinelayer\"/><path class=\"xlines-below\"/><path class=\"ylines-below\"/><g class=\"overlines-below\"/><g class=\"xaxislayer-below\"/><g class=\"yaxislayer-below\"/><g class=\"overaxes-below\"/><g class=\"plot\" transform=\"translate(80,60)\" clip-path=\"url('#clipb4d08fxyplot')\"><g class=\"scatterlayer mlayer\"><g class=\"trace scatter trace05cb34\" style=\"stroke-miterlimit: 2; opacity: 1;\"><g class=\"fills\"/><g class=\"errorbars\"/><g class=\"lines\"/><g class=\"points\"><path class=\"point\" transform=\"translate(157.31,211.93)\" d=\"M5,0A5,5 0 1,1 0,-5A5,5 0 0,1 5,0Z\" style=\"opacity: 1; stroke-width: 0.5px; fill: rgb(226, 74, 51); fill-opacity: 1; stroke: rgb(52, 138, 189); stroke-opacity: 1;\"/><path class=\"point\" transform=\"translate(157.31,178.07)\" d=\"M5,0A5,5 0 1,1 0,-5A5,5 0 0,1 5,0Z\" style=\"opacity: 1; stroke-width: 0.5px; fill: rgb(226, 74, 51); fill-opacity: 1; stroke: rgb(52, 138, 189); stroke-opacity: 1;\"/><path class=\"point\" transform=\"translate(193.1,212.08)\" d=\"M5,0A5,5 0 1,1 0,-5A5,5 0 0,1 5,0Z\" style=\"opacity: 1; stroke-width: 0.5px; fill: rgb(226, 74, 51); fill-opacity: 1; stroke: rgb(52, 138, 189); stroke-opacity: 1;\"/><path class=\"point\" transform=\"translate(193.1,177.92)\" d=\"M5,0A5,5 0 1,1 0,-5A5,5 0 0,1 5,0Z\" style=\"opacity: 1; stroke-width: 0.5px; fill: rgb(226, 74, 51); fill-opacity: 1; stroke: rgb(52, 138, 189); stroke-opacity: 1;\"/><path class=\"point\" transform=\"translate(192.81,216.13)\" d=\"M5,0A5,5 0 1,1 0,-5A5,5 0 0,1 5,0Z\" style=\"opacity: 1; stroke-width: 0.5px; fill: rgb(226, 74, 51); fill-opacity: 1; stroke: rgb(52, 138, 189); stroke-opacity: 1;\"/><path class=\"point\" transform=\"translate(192.81,173.87)\" d=\"M5,0A5,5 0 1,1 0,-5A5,5 0 0,1 5,0Z\" style=\"opacity: 1; stroke-width: 0.5px; fill: rgb(226, 74, 51); fill-opacity: 1; stroke: rgb(52, 138, 189); stroke-opacity: 1;\"/><path class=\"point\" transform=\"translate(164.57,235.25)\" d=\"M5,0A5,5 0 1,1 0,-5A5,5 0 0,1 5,0Z\" style=\"opacity: 1; stroke-width: 0.5px; fill: rgb(226, 74, 51); fill-opacity: 1; stroke: rgb(52, 138, 189); stroke-opacity: 1;\"/><path class=\"point\" transform=\"translate(164.57,154.75)\" d=\"M5,0A5,5 0 1,1 0,-5A5,5 0 0,1 5,0Z\" style=\"opacity: 1; stroke-width: 0.5px; fill: rgb(226, 74, 51); fill-opacity: 1; stroke: rgb(52, 138, 189); stroke-opacity: 1;\"/><path class=\"point\" transform=\"translate(182.99,234.54)\" d=\"M5,0A5,5 0 1,1 0,-5A5,5 0 0,1 5,0Z\" style=\"opacity: 1; stroke-width: 0.5px; fill: rgb(226, 74, 51); fill-opacity: 1; stroke: rgb(52, 138, 189); stroke-opacity: 1;\"/><path class=\"point\" transform=\"translate(182.99,155.46)\" d=\"M5,0A5,5 0 1,1 0,-5A5,5 0 0,1 5,0Z\" style=\"opacity: 1; stroke-width: 0.5px; fill: rgb(226, 74, 51); fill-opacity: 1; stroke: rgb(52, 138, 189); stroke-opacity: 1;\"/><path class=\"point\" transform=\"translate(159.14,235.36)\" d=\"M5,0A5,5 0 1,1 0,-5A5,5 0 0,1 5,0Z\" style=\"opacity: 1; stroke-width: 0.5px; fill: rgb(226, 74, 51); fill-opacity: 1; stroke: rgb(52, 138, 189); stroke-opacity: 1;\"/><path class=\"point\" transform=\"translate(159.14,154.64)\" d=\"M5,0A5,5 0 1,1 0,-5A5,5 0 0,1 5,0Z\" style=\"opacity: 1; stroke-width: 0.5px; fill: rgb(226, 74, 51); fill-opacity: 1; stroke: rgb(52, 138, 189); stroke-opacity: 1;\"/><path class=\"point\" transform=\"translate(211.76,212.05)\" d=\"M5,0A5,5 0 1,1 0,-5A5,5 0 0,1 5,0Z\" style=\"opacity: 1; stroke-width: 0.5px; fill: rgb(226, 74, 51); fill-opacity: 1; stroke: rgb(52, 138, 189); stroke-opacity: 1;\"/><path class=\"point\" transform=\"translate(211.76,177.95)\" d=\"M5,0A5,5 0 1,1 0,-5A5,5 0 0,1 5,0Z\" style=\"opacity: 1; stroke-width: 0.5px; fill: rgb(226, 74, 51); fill-opacity: 1; stroke: rgb(52, 138, 189); stroke-opacity: 1;\"/><path class=\"point\" transform=\"translate(124.76,205.3)\" d=\"M5,0A5,5 0 1,1 0,-5A5,5 0 0,1 5,0Z\" style=\"opacity: 1; stroke-width: 0.5px; fill: rgb(226, 74, 51); fill-opacity: 1; stroke: rgb(52, 138, 189); stroke-opacity: 1;\"/><path class=\"point\" transform=\"translate(124.76,184.7)\" d=\"M5,0A5,5 0 1,1 0,-5A5,5 0 0,1 5,0Z\" style=\"opacity: 1; stroke-width: 0.5px; fill: rgb(226, 74, 51); fill-opacity: 1; stroke: rgb(52, 138, 189); stroke-opacity: 1;\"/><path class=\"point\" transform=\"translate(216.84,214.32)\" d=\"M5,0A5,5 0 1,1 0,-5A5,5 0 0,1 5,0Z\" style=\"opacity: 1; stroke-width: 0.5px; fill: rgb(226, 74, 51); fill-opacity: 1; stroke: rgb(52, 138, 189); stroke-opacity: 1;\"/><path class=\"point\" transform=\"translate(216.84,175.68)\" d=\"M5,0A5,5 0 1,1 0,-5A5,5 0 0,1 5,0Z\" style=\"opacity: 1; stroke-width: 0.5px; fill: rgb(226, 74, 51); fill-opacity: 1; stroke: rgb(52, 138, 189); stroke-opacity: 1;\"/><path class=\"point\" transform=\"translate(220.38,213.51)\" d=\"M5,0A5,5 0 1,1 0,-5A5,5 0 0,1 5,0Z\" style=\"opacity: 1; stroke-width: 0.5px; fill: rgb(226, 74, 51); fill-opacity: 1; stroke: rgb(52, 138, 189); stroke-opacity: 1;\"/><path class=\"point\" transform=\"translate(220.38,176.49)\" d=\"M5,0A5,5 0 1,1 0,-5A5,5 0 0,1 5,0Z\" style=\"opacity: 1; stroke-width: 0.5px; fill: rgb(226, 74, 51); fill-opacity: 1; stroke: rgb(52, 138, 189); stroke-opacity: 1;\"/><path class=\"point\" transform=\"translate(219.94,218.85)\" d=\"M5,0A5,5 0 1,1 0,-5A5,5 0 0,1 5,0Z\" style=\"opacity: 1; stroke-width: 0.5px; fill: rgb(226, 74, 51); fill-opacity: 1; stroke: rgb(52, 138, 189); stroke-opacity: 1;\"/><path class=\"point\" transform=\"translate(219.94,171.15)\" d=\"M5,0A5,5 0 1,1 0,-5A5,5 0 0,1 5,0Z\" style=\"opacity: 1; stroke-width: 0.5px; fill: rgb(226, 74, 51); fill-opacity: 1; stroke: rgb(52, 138, 189); stroke-opacity: 1;\"/><path class=\"point\" transform=\"translate(208.94,238.1)\" d=\"M5,0A5,5 0 1,1 0,-5A5,5 0 0,1 5,0Z\" style=\"opacity: 1; stroke-width: 0.5px; fill: rgb(226, 74, 51); fill-opacity: 1; stroke: rgb(52, 138, 189); stroke-opacity: 1;\"/><path class=\"point\" transform=\"translate(208.94,151.9)\" d=\"M5,0A5,5 0 1,1 0,-5A5,5 0 0,1 5,0Z\" style=\"opacity: 1; stroke-width: 0.5px; fill: rgb(226, 74, 51); fill-opacity: 1; stroke: rgb(52, 138, 189); stroke-opacity: 1;\"/><path class=\"point\" transform=\"translate(234.48,217.88)\" d=\"M5,0A5,5 0 1,1 0,-5A5,5 0 0,1 5,0Z\" style=\"opacity: 1; stroke-width: 0.5px; fill: rgb(226, 74, 51); fill-opacity: 1; stroke: rgb(52, 138, 189); stroke-opacity: 1;\"/><path class=\"point\" transform=\"translate(234.48,172.12)\" d=\"M5,0A5,5 0 1,1 0,-5A5,5 0 0,1 5,0Z\" style=\"opacity: 1; stroke-width: 0.5px; fill: rgb(226, 74, 51); fill-opacity: 1; stroke: rgb(52, 138, 189); stroke-opacity: 1;\"/><path class=\"point\" transform=\"translate(238.93,195.94)\" d=\"M5,0A5,5 0 1,1 0,-5A5,5 0 0,1 5,0Z\" style=\"opacity: 1; stroke-width: 0.5px; fill: rgb(226, 74, 51); fill-opacity: 1; stroke: rgb(52, 138, 189); stroke-opacity: 1;\"/><path class=\"point\" transform=\"translate(238.93,194.06)\" d=\"M5,0A5,5 0 1,1 0,-5A5,5 0 0,1 5,0Z\" style=\"opacity: 1; stroke-width: 0.5px; fill: rgb(226, 74, 51); fill-opacity: 1; stroke: rgb(52, 138, 189); stroke-opacity: 1;\"/><path class=\"point\" transform=\"translate(225.19,237.53)\" d=\"M5,0A5,5 0 1,1 0,-5A5,5 0 0,1 5,0Z\" style=\"opacity: 1; stroke-width: 0.5px; fill: rgb(226, 74, 51); fill-opacity: 1; stroke: rgb(52, 138, 189); stroke-opacity: 1;\"/><path class=\"point\" transform=\"translate(225.19,152.47)\" d=\"M5,0A5,5 0 1,1 0,-5A5,5 0 0,1 5,0Z\" style=\"opacity: 1; stroke-width: 0.5px; fill: rgb(226, 74, 51); fill-opacity: 1; stroke: rgb(52, 138, 189); stroke-opacity: 1;\"/><path class=\"point\" transform=\"translate(106.28,218.36)\" d=\"M5,0A5,5 0 1,1 0,-5A5,5 0 0,1 5,0Z\" style=\"opacity: 1; stroke-width: 0.5px; fill: rgb(226, 74, 51); fill-opacity: 1; stroke: rgb(52, 138, 189); stroke-opacity: 1;\"/><path class=\"point\" transform=\"translate(106.28,171.64)\" d=\"M5,0A5,5 0 1,1 0,-5A5,5 0 0,1 5,0Z\" style=\"opacity: 1; stroke-width: 0.5px; fill: rgb(226, 74, 51); fill-opacity: 1; stroke: rgb(52, 138, 189); stroke-opacity: 1;\"/><path class=\"point\" transform=\"translate(140.34,258.44)\" d=\"M5,0A5,5 0 1,1 0,-5A5,5 0 0,1 5,0Z\" style=\"opacity: 1; stroke-width: 0.5px; fill: rgb(226, 74, 51); fill-opacity: 1; stroke: rgb(52, 138, 189); stroke-opacity: 1;\"/><path class=\"point\" transform=\"translate(140.34,131.56)\" d=\"M5,0A5,5 0 1,1 0,-5A5,5 0 0,1 5,0Z\" style=\"opacity: 1; stroke-width: 0.5px; fill: rgb(226, 74, 51); fill-opacity: 1; stroke: rgb(52, 138, 189); stroke-opacity: 1;\"/><path class=\"point\" transform=\"translate(142.07,262.76)\" d=\"M5,0A5,5 0 1,1 0,-5A5,5 0 0,1 5,0Z\" style=\"opacity: 1; stroke-width: 0.5px; fill: rgb(226, 74, 51); fill-opacity: 1; stroke: rgb(52, 138, 189); stroke-opacity: 1;\"/><path class=\"point\" transform=\"translate(142.07,127.24)\" d=\"M5,0A5,5 0 1,1 0,-5A5,5 0 0,1 5,0Z\" style=\"opacity: 1; stroke-width: 0.5px; fill: rgb(226, 74, 51); fill-opacity: 1; stroke: rgb(52, 138, 189); stroke-opacity: 1;\"/><path class=\"point\" transform=\"translate(234.65,252.22)\" d=\"M5,0A5,5 0 1,1 0,-5A5,5 0 0,1 5,0Z\" style=\"opacity: 1; stroke-width: 0.5px; fill: rgb(226, 74, 51); fill-opacity: 1; stroke: rgb(52, 138, 189); stroke-opacity: 1;\"/><path class=\"point\" transform=\"translate(234.65,137.78)\" d=\"M5,0A5,5 0 1,1 0,-5A5,5 0 0,1 5,0Z\" style=\"opacity: 1; stroke-width: 0.5px; fill: rgb(226, 74, 51); fill-opacity: 1; stroke: rgb(52, 138, 189); stroke-opacity: 1;\"/><path class=\"point\" transform=\"translate(91.18,228.32)\" d=\"M5,0A5,5 0 1,1 0,-5A5,5 0 0,1 5,0Z\" style=\"opacity: 1; stroke-width: 0.5px; fill: rgb(226, 74, 51); fill-opacity: 1; stroke: rgb(52, 138, 189); stroke-opacity: 1;\"/><path class=\"point\" transform=\"translate(91.18,161.68)\" d=\"M5,0A5,5 0 1,1 0,-5A5,5 0 0,1 5,0Z\" style=\"opacity: 1; stroke-width: 0.5px; fill: rgb(226, 74, 51); fill-opacity: 1; stroke: rgb(52, 138, 189); stroke-opacity: 1;\"/><path class=\"point\" transform=\"translate(255.12,217.74)\" d=\"M5,0A5,5 0 1,1 0,-5A5,5 0 0,1 5,0Z\" style=\"opacity: 1; stroke-width: 0.5px; fill: rgb(226, 74, 51); fill-opacity: 1; stroke: rgb(52, 138, 189); stroke-opacity: 1;\"/><path class=\"point\" transform=\"translate(255.12,172.26)\" d=\"M5,0A5,5 0 1,1 0,-5A5,5 0 0,1 5,0Z\" style=\"opacity: 1; stroke-width: 0.5px; fill: rgb(226, 74, 51); fill-opacity: 1; stroke: rgb(52, 138, 189); stroke-opacity: 1;\"/><path class=\"point\" transform=\"translate(162.71,281.82)\" d=\"M5,0A5,5 0 1,1 0,-5A5,5 0 0,1 5,0Z\" style=\"opacity: 1; stroke-width: 0.5px; fill: rgb(226, 74, 51); fill-opacity: 1; stroke: rgb(52, 138, 189); stroke-opacity: 1;\"/><path class=\"point\" transform=\"translate(162.71,108.18)\" d=\"M5,0A5,5 0 1,1 0,-5A5,5 0 0,1 5,0Z\" style=\"opacity: 1; stroke-width: 0.5px; fill: rgb(226, 74, 51); fill-opacity: 1; stroke: rgb(52, 138, 189); stroke-opacity: 1;\"/><path class=\"point\" transform=\"translate(112.24,259.74)\" d=\"M5,0A5,5 0 1,1 0,-5A5,5 0 0,1 5,0Z\" style=\"opacity: 1; stroke-width: 0.5px; fill: rgb(226, 74, 51); fill-opacity: 1; stroke: rgb(52, 138, 189); stroke-opacity: 1;\"/><path class=\"point\" transform=\"translate(112.24,130.26)\" d=\"M5,0A5,5 0 1,1 0,-5A5,5 0 0,1 5,0Z\" style=\"opacity: 1; stroke-width: 0.5px; fill: rgb(226, 74, 51); fill-opacity: 1; stroke: rgb(52, 138, 189); stroke-opacity: 1;\"/><path class=\"point\" transform=\"translate(97.75,247.52)\" d=\"M5,0A5,5 0 1,1 0,-5A5,5 0 0,1 5,0Z\" style=\"opacity: 1; stroke-width: 0.5px; fill: rgb(226, 74, 51); fill-opacity: 1; stroke: rgb(52, 138, 189); stroke-opacity: 1;\"/><path class=\"point\" transform=\"translate(97.75,142.48)\" d=\"M5,0A5,5 0 1,1 0,-5A5,5 0 0,1 5,0Z\" style=\"opacity: 1; stroke-width: 0.5px; fill: rgb(226, 74, 51); fill-opacity: 1; stroke: rgb(52, 138, 189); stroke-opacity: 1;\"/><path class=\"point\" transform=\"translate(194.01,283.68)\" d=\"M5,0A5,5 0 1,1 0,-5A5,5 0 0,1 5,0Z\" style=\"opacity: 1; stroke-width: 0.5px; fill: rgb(226, 74, 51); fill-opacity: 1; stroke: rgb(52, 138, 189); stroke-opacity: 1;\"/><path class=\"point\" transform=\"translate(194.01,106.32)\" d=\"M5,0A5,5 0 1,1 0,-5A5,5 0 0,1 5,0Z\" style=\"opacity: 1; stroke-width: 0.5px; fill: rgb(226, 74, 51); fill-opacity: 1; stroke: rgb(52, 138, 189); stroke-opacity: 1;\"/><path class=\"point\" transform=\"translate(78.66,206.35)\" d=\"M5,0A5,5 0 1,1 0,-5A5,5 0 0,1 5,0Z\" style=\"opacity: 1; stroke-width: 0.5px; fill: rgb(226, 74, 51); fill-opacity: 1; stroke: rgb(52, 138, 189); stroke-opacity: 1;\"/><path class=\"point\" transform=\"translate(78.66,183.65)\" d=\"M5,0A5,5 0 1,1 0,-5A5,5 0 0,1 5,0Z\" style=\"opacity: 1; stroke-width: 0.5px; fill: rgb(226, 74, 51); fill-opacity: 1; stroke: rgb(52, 138, 189); stroke-opacity: 1;\"/><path class=\"point\" transform=\"translate(77.79,196.21)\" d=\"M5,0A5,5 0 1,1 0,-5A5,5 0 0,1 5,0Z\" style=\"opacity: 1; stroke-width: 0.5px; fill: rgb(226, 74, 51); fill-opacity: 1; stroke: rgb(52, 138, 189); stroke-opacity: 1;\"/><path class=\"point\" transform=\"translate(77.79,193.79)\" d=\"M5,0A5,5 0 1,1 0,-5A5,5 0 0,1 5,0Z\" style=\"opacity: 1; stroke-width: 0.5px; fill: rgb(226, 74, 51); fill-opacity: 1; stroke: rgb(52, 138, 189); stroke-opacity: 1;\"/><path class=\"point\" transform=\"translate(230.98,266.96)\" d=\"M5,0A5,5 0 1,1 0,-5A5,5 0 0,1 5,0Z\" style=\"opacity: 1; stroke-width: 0.5px; fill: rgb(226, 74, 51); fill-opacity: 1; stroke: rgb(52, 138, 189); stroke-opacity: 1;\"/><path class=\"point\" transform=\"translate(230.98,123.04)\" d=\"M5,0A5,5 0 1,1 0,-5A5,5 0 0,1 5,0Z\" style=\"opacity: 1; stroke-width: 0.5px; fill: rgb(226, 74, 51); fill-opacity: 1; stroke: rgb(52, 138, 189); stroke-opacity: 1;\"/><path class=\"point\" transform=\"translate(266.85,230.27)\" d=\"M5,0A5,5 0 1,1 0,-5A5,5 0 0,1 5,0Z\" style=\"opacity: 1; stroke-width: 0.5px; fill: rgb(226, 74, 51); fill-opacity: 1; stroke: rgb(52, 138, 189); stroke-opacity: 1;\"/><path class=\"point\" transform=\"translate(266.85,159.73)\" d=\"M5,0A5,5 0 1,1 0,-5A5,5 0 0,1 5,0Z\" style=\"opacity: 1; stroke-width: 0.5px; fill: rgb(226, 74, 51); fill-opacity: 1; stroke: rgb(52, 138, 189); stroke-opacity: 1;\"/><path class=\"point\" transform=\"translate(72.12,220.87)\" d=\"M5,0A5,5 0 1,1 0,-5A5,5 0 0,1 5,0Z\" style=\"opacity: 1; stroke-width: 0.5px; fill: rgb(226, 74, 51); fill-opacity: 1; stroke: rgb(52, 138, 189); stroke-opacity: 1;\"/><path class=\"point\" transform=\"translate(72.12,169.13)\" d=\"M5,0A5,5 0 1,1 0,-5A5,5 0 0,1 5,0Z\" style=\"opacity: 1; stroke-width: 0.5px; fill: rgb(226, 74, 51); fill-opacity: 1; stroke: rgb(52, 138, 189); stroke-opacity: 1;\"/><path class=\"point\" transform=\"translate(235.09,278.53)\" d=\"M5,0A5,5 0 1,1 0,-5A5,5 0 0,1 5,0Z\" style=\"opacity: 1; stroke-width: 0.5px; fill: rgb(226, 74, 51); fill-opacity: 1; stroke: rgb(52, 138, 189); stroke-opacity: 1;\"/><path class=\"point\" transform=\"translate(235.09,111.47)\" d=\"M5,0A5,5 0 1,1 0,-5A5,5 0 0,1 5,0Z\" style=\"opacity: 1; stroke-width: 0.5px; fill: rgb(226, 74, 51); fill-opacity: 1; stroke: rgb(52, 138, 189); stroke-opacity: 1;\"/><path class=\"point\" transform=\"translate(278.59,219.64)\" d=\"M5,0A5,5 0 1,1 0,-5A5,5 0 0,1 5,0Z\" style=\"opacity: 1; stroke-width: 0.5px; fill: rgb(226, 74, 51); fill-opacity: 1; stroke: rgb(52, 138, 189); stroke-opacity: 1;\"/><path class=\"point\" transform=\"translate(278.59,170.36)\" d=\"M5,0A5,5 0 1,1 0,-5A5,5 0 0,1 5,0Z\" style=\"opacity: 1; stroke-width: 0.5px; fill: rgb(226, 74, 51); fill-opacity: 1; stroke: rgb(52, 138, 189); stroke-opacity: 1;\"/><path class=\"point\" transform=\"translate(270.08,246.43)\" d=\"M5,0A5,5 0 1,1 0,-5A5,5 0 0,1 5,0Z\" style=\"opacity: 1; stroke-width: 0.5px; fill: rgb(226, 74, 51); fill-opacity: 1; stroke: rgb(52, 138, 189); stroke-opacity: 1;\"/><path class=\"point\" transform=\"translate(270.08,143.57)\" d=\"M5,0A5,5 0 1,1 0,-5A5,5 0 0,1 5,0Z\" style=\"opacity: 1; stroke-width: 0.5px; fill: rgb(226, 74, 51); fill-opacity: 1; stroke: rgb(52, 138, 189); stroke-opacity: 1;\"/><path class=\"point\" transform=\"translate(149.22,305.43)\" d=\"M5,0A5,5 0 1,1 0,-5A5,5 0 0,1 5,0Z\" style=\"opacity: 1; stroke-width: 0.5px; fill: rgb(226, 74, 51); fill-opacity: 1; stroke: rgb(52, 138, 189); stroke-opacity: 1;\"/><path class=\"point\" transform=\"translate(149.22,84.57)\" d=\"M5,0A5,5 0 1,1 0,-5A5,5 0 0,1 5,0Z\" style=\"opacity: 1; stroke-width: 0.5px; fill: rgb(226, 74, 51); fill-opacity: 1; stroke: rgb(52, 138, 189); stroke-opacity: 1;\"/><path class=\"point\" transform=\"translate(222.64,295.41)\" d=\"M5,0A5,5 0 1,1 0,-5A5,5 0 0,1 5,0Z\" style=\"opacity: 1; stroke-width: 0.5px; fill: rgb(226, 74, 51); fill-opacity: 1; stroke: rgb(52, 138, 189); stroke-opacity: 1;\"/><path class=\"point\" transform=\"translate(222.64,94.59)\" d=\"M5,0A5,5 0 1,1 0,-5A5,5 0 0,1 5,0Z\" style=\"opacity: 1; stroke-width: 0.5px; fill: rgb(226, 74, 51); fill-opacity: 1; stroke: rgb(52, 138, 189); stroke-opacity: 1;\"/><path class=\"point\" transform=\"translate(163.79,308.81)\" d=\"M5,0A5,5 0 1,1 0,-5A5,5 0 0,1 5,0Z\" style=\"opacity: 1; stroke-width: 0.5px; fill: rgb(226, 74, 51); fill-opacity: 1; stroke: rgb(52, 138, 189); stroke-opacity: 1;\"/><path class=\"point\" transform=\"translate(163.79,81.19)\" d=\"M5,0A5,5 0 1,1 0,-5A5,5 0 0,1 5,0Z\" style=\"opacity: 1; stroke-width: 0.5px; fill: rgb(226, 74, 51); fill-opacity: 1; stroke: rgb(52, 138, 189); stroke-opacity: 1;\"/><path class=\"point\" transform=\"translate(204.55,305.52)\" d=\"M5,0A5,5 0 1,1 0,-5A5,5 0 0,1 5,0Z\" style=\"opacity: 1; stroke-width: 0.5px; fill: rgb(226, 74, 51); fill-opacity: 1; stroke: rgb(52, 138, 189); stroke-opacity: 1;\"/><path class=\"point\" transform=\"translate(204.55,84.48)\" d=\"M5,0A5,5 0 1,1 0,-5A5,5 0 0,1 5,0Z\" style=\"opacity: 1; stroke-width: 0.5px; fill: rgb(226, 74, 51); fill-opacity: 1; stroke: rgb(52, 138, 189); stroke-opacity: 1;\"/><path class=\"point\" transform=\"translate(194.68,309.59)\" d=\"M5,0A5,5 0 1,1 0,-5A5,5 0 0,1 5,0Z\" style=\"opacity: 1; stroke-width: 0.5px; fill: rgb(226, 74, 51); fill-opacity: 1; stroke: rgb(52, 138, 189); stroke-opacity: 1;\"/><path class=\"point\" transform=\"translate(194.68,80.41)\" d=\"M5,0A5,5 0 1,1 0,-5A5,5 0 0,1 5,0Z\" style=\"opacity: 1; stroke-width: 0.5px; fill: rgb(226, 74, 51); fill-opacity: 1; stroke: rgb(52, 138, 189); stroke-opacity: 1;\"/><path class=\"point\" transform=\"translate(260.96,281.6)\" d=\"M5,0A5,5 0 1,1 0,-5A5,5 0 0,1 5,0Z\" style=\"opacity: 1; stroke-width: 0.5px; fill: rgb(226, 74, 51); fill-opacity: 1; stroke: rgb(52, 138, 189); stroke-opacity: 1;\"/><path class=\"point\" transform=\"translate(260.96,108.4)\" d=\"M5,0A5,5 0 1,1 0,-5A5,5 0 0,1 5,0Z\" style=\"opacity: 1; stroke-width: 0.5px; fill: rgb(226, 74, 51); fill-opacity: 1; stroke: rgb(52, 138, 189); stroke-opacity: 1;\"/><path class=\"point\" transform=\"translate(166.43,322.89)\" d=\"M5,0A5,5 0 1,1 0,-5A5,5 0 0,1 5,0Z\" style=\"opacity: 1; stroke-width: 0.5px; fill: rgb(226, 74, 51); fill-opacity: 1; stroke: rgb(52, 138, 189); stroke-opacity: 1;\"/><path class=\"point\" transform=\"translate(166.43,67.11)\" d=\"M5,0A5,5 0 1,1 0,-5A5,5 0 0,1 5,0Z\" style=\"opacity: 1; stroke-width: 0.5px; fill: rgb(226, 74, 51); fill-opacity: 1; stroke: rgb(52, 138, 189); stroke-opacity: 1;\"/><path class=\"point\" transform=\"translate(228.95,309.38)\" d=\"M5,0A5,5 0 1,1 0,-5A5,5 0 0,1 5,0Z\" style=\"opacity: 1; stroke-width: 0.5px; fill: rgb(226, 74, 51); fill-opacity: 1; stroke: rgb(52, 138, 189); stroke-opacity: 1;\"/><path class=\"point\" transform=\"translate(228.95,80.62)\" d=\"M5,0A5,5 0 1,1 0,-5A5,5 0 0,1 5,0Z\" style=\"opacity: 1; stroke-width: 0.5px; fill: rgb(226, 74, 51); fill-opacity: 1; stroke: rgb(52, 138, 189); stroke-opacity: 1;\"/><path class=\"point\" transform=\"translate(264.16,284.1)\" d=\"M5,0A5,5 0 1,1 0,-5A5,5 0 0,1 5,0Z\" style=\"opacity: 1; stroke-width: 0.5px; fill: rgb(226, 74, 51); fill-opacity: 1; stroke: rgb(52, 138, 189); stroke-opacity: 1;\"/><path class=\"point\" transform=\"translate(264.16,105.9)\" d=\"M5,0A5,5 0 1,1 0,-5A5,5 0 0,1 5,0Z\" style=\"opacity: 1; stroke-width: 0.5px; fill: rgb(226, 74, 51); fill-opacity: 1; stroke: rgb(52, 138, 189); stroke-opacity: 1;\"/><path class=\"point\" transform=\"translate(40.84,203.32)\" d=\"M5,0A5,5 0 1,1 0,-5A5,5 0 0,1 5,0Z\" style=\"opacity: 1; stroke-width: 0.5px; fill: rgb(226, 74, 51); fill-opacity: 1; stroke: rgb(52, 138, 189); stroke-opacity: 1;\"/><path class=\"point\" transform=\"translate(40.84,186.68)\" d=\"M5,0A5,5 0 1,1 0,-5A5,5 0 0,1 5,0Z\" style=\"opacity: 1; stroke-width: 0.5px; fill: rgb(226, 74, 51); fill-opacity: 1; stroke: rgb(52, 138, 189); stroke-opacity: 1;\"/><path class=\"point\" transform=\"translate(302.4,198.44)\" d=\"M5,0A5,5 0 1,1 0,-5A5,5 0 0,1 5,0Z\" style=\"opacity: 1; stroke-width: 0.5px; fill: rgb(226, 74, 51); fill-opacity: 1; stroke: rgb(52, 138, 189); stroke-opacity: 1;\"/><path class=\"point\" transform=\"translate(302.4,191.56)\" d=\"M5,0A5,5 0 1,1 0,-5A5,5 0 0,1 5,0Z\" style=\"opacity: 1; stroke-width: 0.5px; fill: rgb(226, 74, 51); fill-opacity: 1; stroke: rgb(52, 138, 189); stroke-opacity: 1;\"/><path class=\"point\" transform=\"translate(119.4,316.85)\" d=\"M5,0A5,5 0 1,1 0,-5A5,5 0 0,1 5,0Z\" style=\"opacity: 1; stroke-width: 0.5px; fill: rgb(226, 74, 51); fill-opacity: 1; stroke: rgb(52, 138, 189); stroke-opacity: 1;\"/><path class=\"point\" transform=\"translate(119.4,73.15)\" d=\"M5,0A5,5 0 1,1 0,-5A5,5 0 0,1 5,0Z\" style=\"opacity: 1; stroke-width: 0.5px; fill: rgb(226, 74, 51); fill-opacity: 1; stroke: rgb(52, 138, 189); stroke-opacity: 1;\"/><path class=\"point\" transform=\"translate(292.85,247.24)\" d=\"M5,0A5,5 0 1,1 0,-5A5,5 0 0,1 5,0Z\" style=\"opacity: 1; stroke-width: 0.5px; fill: rgb(226, 74, 51); fill-opacity: 1; stroke: rgb(52, 138, 189); stroke-opacity: 1;\"/><path class=\"point\" transform=\"translate(292.85,142.76)\" d=\"M5,0A5,5 0 1,1 0,-5A5,5 0 0,1 5,0Z\" style=\"opacity: 1; stroke-width: 0.5px; fill: rgb(226, 74, 51); fill-opacity: 1; stroke: rgb(52, 138, 189); stroke-opacity: 1;\"/><path class=\"point\" transform=\"translate(140.58,323.83)\" d=\"M5,0A5,5 0 1,1 0,-5A5,5 0 0,1 5,0Z\" style=\"opacity: 1; stroke-width: 0.5px; fill: rgb(226, 74, 51); fill-opacity: 1; stroke: rgb(52, 138, 189); stroke-opacity: 1;\"/><path class=\"point\" transform=\"translate(140.58,66.17)\" d=\"M5,0A5,5 0 1,1 0,-5A5,5 0 0,1 5,0Z\" style=\"opacity: 1; stroke-width: 0.5px; fill: rgb(226, 74, 51); fill-opacity: 1; stroke: rgb(52, 138, 189); stroke-opacity: 1;\"/><path class=\"point\" transform=\"translate(263.52,289.93)\" d=\"M5,0A5,5 0 1,1 0,-5A5,5 0 0,1 5,0Z\" style=\"opacity: 1; stroke-width: 0.5px; fill: rgb(226, 74, 51); fill-opacity: 1; stroke: rgb(52, 138, 189); stroke-opacity: 1;\"/><path class=\"point\" transform=\"translate(263.52,100.07)\" d=\"M5,0A5,5 0 1,1 0,-5A5,5 0 0,1 5,0Z\" style=\"opacity: 1; stroke-width: 0.5px; fill: rgb(226, 74, 51); fill-opacity: 1; stroke: rgb(52, 138, 189); stroke-opacity: 1;\"/><path class=\"point\" transform=\"translate(166.16,328.52)\" d=\"M5,0A5,5 0 1,1 0,-5A5,5 0 0,1 5,0Z\" style=\"opacity: 1; stroke-width: 0.5px; fill: rgb(226, 74, 51); fill-opacity: 1; stroke: rgb(52, 138, 189); stroke-opacity: 1;\"/><path class=\"point\" transform=\"translate(166.16,61.48)\" d=\"M5,0A5,5 0 1,1 0,-5A5,5 0 0,1 5,0Z\" style=\"opacity: 1; stroke-width: 0.5px; fill: rgb(226, 74, 51); fill-opacity: 1; stroke: rgb(52, 138, 189); stroke-opacity: 1;\"/><path class=\"point\" transform=\"translate(300.65,233.37)\" d=\"M5,0A5,5 0 1,1 0,-5A5,5 0 0,1 5,0Z\" style=\"opacity: 1; stroke-width: 0.5px; fill: rgb(226, 74, 51); fill-opacity: 1; stroke: rgb(52, 138, 189); stroke-opacity: 1;\"/><path class=\"point\" transform=\"translate(300.65,156.63)\" d=\"M5,0A5,5 0 1,1 0,-5A5,5 0 0,1 5,0Z\" style=\"opacity: 1; stroke-width: 0.5px; fill: rgb(226, 74, 51); fill-opacity: 1; stroke: rgb(52, 138, 189); stroke-opacity: 1;\"/><path class=\"point\" transform=\"translate(34.5,203.96)\" d=\"M5,0A5,5 0 1,1 0,-5A5,5 0 0,1 5,0Z\" style=\"opacity: 1; stroke-width: 0.5px; fill: rgb(226, 74, 51); fill-opacity: 1; stroke: rgb(52, 138, 189); stroke-opacity: 1;\"/><path class=\"point\" transform=\"translate(34.5,186.04)\" d=\"M5,0A5,5 0 1,1 0,-5A5,5 0 0,1 5,0Z\" style=\"opacity: 1; stroke-width: 0.5px; fill: rgb(226, 74, 51); fill-opacity: 1; stroke: rgb(52, 138, 189); stroke-opacity: 1;\"/><path class=\"point\" transform=\"translate(120.7,330.74)\" d=\"M5,0A5,5 0 1,1 0,-5A5,5 0 0,1 5,0Z\" style=\"opacity: 1; stroke-width: 0.5px; fill: rgb(226, 74, 51); fill-opacity: 1; stroke: rgb(52, 138, 189); stroke-opacity: 1;\"/><path class=\"point\" transform=\"translate(120.7,59.26)\" d=\"M5,0A5,5 0 1,1 0,-5A5,5 0 0,1 5,0Z\" style=\"opacity: 1; stroke-width: 0.5px; fill: rgb(226, 74, 51); fill-opacity: 1; stroke: rgb(52, 138, 189); stroke-opacity: 1;\"/><path class=\"point\" transform=\"translate(108.53,326.86)\" d=\"M5,0A5,5 0 1,1 0,-5A5,5 0 0,1 5,0Z\" style=\"opacity: 1; stroke-width: 0.5px; fill: rgb(226, 74, 51); fill-opacity: 1; stroke: rgb(52, 138, 189); stroke-opacity: 1;\"/><path class=\"point\" transform=\"translate(108.53,63.14)\" d=\"M5,0A5,5 0 1,1 0,-5A5,5 0 0,1 5,0Z\" style=\"opacity: 1; stroke-width: 0.5px; fill: rgb(226, 74, 51); fill-opacity: 1; stroke: rgb(52, 138, 189); stroke-opacity: 1;\"/><path class=\"point\" transform=\"translate(32.05,240.13)\" d=\"M5,0A5,5 0 1,1 0,-5A5,5 0 0,1 5,0Z\" style=\"opacity: 1; stroke-width: 0.5px; fill: rgb(226, 74, 51); fill-opacity: 1; stroke: rgb(52, 138, 189); stroke-opacity: 1;\"/><path class=\"point\" transform=\"translate(32.05,149.87)\" d=\"M5,0A5,5 0 1,1 0,-5A5,5 0 0,1 5,0Z\" style=\"opacity: 1; stroke-width: 0.5px; fill: rgb(226, 74, 51); fill-opacity: 1; stroke: rgb(52, 138, 189); stroke-opacity: 1;\"/><path class=\"point\" transform=\"translate(40.44,262.43)\" d=\"M5,0A5,5 0 1,1 0,-5A5,5 0 0,1 5,0Z\" style=\"opacity: 1; stroke-width: 0.5px; fill: rgb(226, 74, 51); fill-opacity: 1; stroke: rgb(52, 138, 189); stroke-opacity: 1;\"/><path class=\"point\" transform=\"translate(40.44,127.57)\" d=\"M5,0A5,5 0 1,1 0,-5A5,5 0 0,1 5,0Z\" style=\"opacity: 1; stroke-width: 0.5px; fill: rgb(226, 74, 51); fill-opacity: 1; stroke: rgb(52, 138, 189); stroke-opacity: 1;\"/><path class=\"point\" transform=\"translate(93.53,321.42)\" d=\"M5,0A5,5 0 1,1 0,-5A5,5 0 0,1 5,0Z\" style=\"opacity: 1; stroke-width: 0.5px; fill: rgb(226, 74, 51); fill-opacity: 1; stroke: rgb(52, 138, 189); stroke-opacity: 1;\"/><path class=\"point\" transform=\"translate(93.53,68.58)\" d=\"M5,0A5,5 0 1,1 0,-5A5,5 0 0,1 5,0Z\" style=\"opacity: 1; stroke-width: 0.5px; fill: rgb(226, 74, 51); fill-opacity: 1; stroke: rgb(52, 138, 189); stroke-opacity: 1;\"/><path class=\"point\" transform=\"translate(306.81,256.64)\" d=\"M5,0A5,5 0 1,1 0,-5A5,5 0 0,1 5,0Z\" style=\"opacity: 1; stroke-width: 0.5px; fill: rgb(226, 74, 51); fill-opacity: 1; stroke: rgb(52, 138, 189); stroke-opacity: 1;\"/><path class=\"point\" transform=\"translate(306.81,133.36)\" d=\"M5,0A5,5 0 1,1 0,-5A5,5 0 0,1 5,0Z\" style=\"opacity: 1; stroke-width: 0.5px; fill: rgb(226, 74, 51); fill-opacity: 1; stroke: rgb(52, 138, 189); stroke-opacity: 1;\"/><path class=\"point\" transform=\"translate(81.91,316.31)\" d=\"M5,0A5,5 0 1,1 0,-5A5,5 0 0,1 5,0Z\" style=\"opacity: 1; stroke-width: 0.5px; fill: rgb(226, 74, 51); fill-opacity: 1; stroke: rgb(52, 138, 189); stroke-opacity: 1;\"/><path class=\"point\" transform=\"translate(81.91,73.69)\" d=\"M5,0A5,5 0 1,1 0,-5A5,5 0 0,1 5,0Z\" style=\"opacity: 1; stroke-width: 0.5px; fill: rgb(226, 74, 51); fill-opacity: 1; stroke: rgb(52, 138, 189); stroke-opacity: 1;\"/><path class=\"point\" transform=\"translate(48.56,284.93)\" d=\"M5,0A5,5 0 1,1 0,-5A5,5 0 0,1 5,0Z\" style=\"opacity: 1; stroke-width: 0.5px; fill: rgb(226, 74, 51); fill-opacity: 1; stroke: rgb(52, 138, 189); stroke-opacity: 1;\"/><path class=\"point\" transform=\"translate(48.56,105.07)\" d=\"M5,0A5,5 0 1,1 0,-5A5,5 0 0,1 5,0Z\" style=\"opacity: 1; stroke-width: 0.5px; fill: rgb(226, 74, 51); fill-opacity: 1; stroke: rgb(52, 138, 189); stroke-opacity: 1;\"/><path class=\"point\" transform=\"translate(200.37,345.99)\" d=\"M5,0A5,5 0 1,1 0,-5A5,5 0 0,1 5,0Z\" style=\"opacity: 1; stroke-width: 0.5px; fill: rgb(226, 74, 51); fill-opacity: 1; stroke: rgb(52, 138, 189); stroke-opacity: 1;\"/><path class=\"point\" transform=\"translate(200.37,44.01)\" d=\"M5,0A5,5 0 1,1 0,-5A5,5 0 0,1 5,0Z\" style=\"opacity: 1; stroke-width: 0.5px; fill: rgb(226, 74, 51); fill-opacity: 1; stroke: rgb(52, 138, 189); stroke-opacity: 1;\"/><path class=\"point\" transform=\"translate(214.65,342.56)\" d=\"M5,0A5,5 0 1,1 0,-5A5,5 0 0,1 5,0Z\" style=\"opacity: 1; stroke-width: 0.5px; fill: rgb(226, 74, 51); fill-opacity: 1; stroke: rgb(52, 138, 189); stroke-opacity: 1;\"/><path class=\"point\" transform=\"translate(214.65,47.44)\" d=\"M5,0A5,5 0 1,1 0,-5A5,5 0 0,1 5,0Z\" style=\"opacity: 1; stroke-width: 0.5px; fill: rgb(226, 74, 51); fill-opacity: 1; stroke: rgb(52, 138, 189); stroke-opacity: 1;\"/><path class=\"point\" transform=\"translate(289.53,294.04)\" d=\"M5,0A5,5 0 1,1 0,-5A5,5 0 0,1 5,0Z\" style=\"opacity: 1; stroke-width: 0.5px; fill: rgb(226, 74, 51); fill-opacity: 1; stroke: rgb(52, 138, 189); stroke-opacity: 1;\"/><path class=\"point\" transform=\"translate(289.53,95.96)\" d=\"M5,0A5,5 0 1,1 0,-5A5,5 0 0,1 5,0Z\" style=\"opacity: 1; stroke-width: 0.5px; fill: rgb(226, 74, 51); fill-opacity: 1; stroke: rgb(52, 138, 189); stroke-opacity: 1;\"/><path class=\"point\" transform=\"translate(164.82,349.85)\" d=\"M5,0A5,5 0 1,1 0,-5A5,5 0 0,1 5,0Z\" style=\"opacity: 1; stroke-width: 0.5px; fill: rgb(226, 74, 51); fill-opacity: 1; stroke: rgb(52, 138, 189); stroke-opacity: 1;\"/><path class=\"point\" transform=\"translate(164.82,40.15)\" d=\"M5,0A5,5 0 1,1 0,-5A5,5 0 0,1 5,0Z\" style=\"opacity: 1; stroke-width: 0.5px; fill: rgb(226, 74, 51); fill-opacity: 1; stroke: rgb(52, 138, 189); stroke-opacity: 1;\"/><path class=\"point\" transform=\"translate(482.44,195)\" d=\"M5,0A5,5 0 1,1 0,-5A5,5 0 0,1 5,0Z\" style=\"opacity: 1; stroke-width: 0.5px; fill: rgb(226, 74, 51); fill-opacity: 1; stroke: rgb(52, 138, 189); stroke-opacity: 1;\"/><path class=\"point\" transform=\"translate(482.44,195)\" d=\"M5,0A5,5 0 1,1 0,-5A5,5 0 0,1 5,0Z\" style=\"opacity: 1; stroke-width: 0.5px; fill: rgb(226, 74, 51); fill-opacity: 1; stroke: rgb(52, 138, 189); stroke-opacity: 1;\"/></g><g class=\"text\"/></g><g class=\"trace scatter tracef3d054\" style=\"stroke-miterlimit: 2; opacity: 1;\"><g class=\"fills\"/><g class=\"errorbars\"/><g class=\"lines\"/><g class=\"points\"><path class=\"point\" transform=\"translate(32.05,240.13)\" d=\"M5,5H-5V-5H5Z\" style=\"opacity: 1; stroke: rgb(0, 0, 0); stroke-opacity: 1; stroke-width: 1.3px; fill: none;\"/><path class=\"point\" transform=\"translate(32.05,149.87)\" d=\"M5,5H-5V-5H5Z\" style=\"opacity: 1; stroke: rgb(0, 0, 0); stroke-opacity: 1; stroke-width: 1.3px; fill: none;\"/><path class=\"point\" transform=\"translate(34.49,203.98)\" d=\"M5,5H-5V-5H5Z\" style=\"opacity: 1; stroke: rgb(0, 0, 0); stroke-opacity: 1; stroke-width: 1.3px; fill: none;\"/><path class=\"point\" transform=\"translate(34.49,186.02)\" d=\"M5,5H-5V-5H5Z\" style=\"opacity: 1; stroke: rgb(0, 0, 0); stroke-opacity: 1; stroke-width: 1.3px; fill: none;\"/><path class=\"point\" transform=\"translate(40.44,262.43)\" d=\"M5,5H-5V-5H5Z\" style=\"opacity: 1; stroke: rgb(0, 0, 0); stroke-opacity: 1; stroke-width: 1.3px; fill: none;\"/><path class=\"point\" transform=\"translate(40.44,127.57)\" d=\"M5,5H-5V-5H5Z\" style=\"opacity: 1; stroke: rgb(0, 0, 0); stroke-opacity: 1; stroke-width: 1.3px; fill: none;\"/><path class=\"point\" transform=\"translate(41.04,202.78)\" d=\"M5,5H-5V-5H5Z\" style=\"opacity: 1; stroke: rgb(0, 0, 0); stroke-opacity: 1; stroke-width: 1.3px; fill: none;\"/><path class=\"point\" transform=\"translate(41.04,187.22)\" d=\"M5,5H-5V-5H5Z\" style=\"opacity: 1; stroke: rgb(0, 0, 0); stroke-opacity: 1; stroke-width: 1.3px; fill: none;\"/><path class=\"point\" transform=\"translate(48.56,284.93)\" d=\"M5,5H-5V-5H5Z\" style=\"opacity: 1; stroke: rgb(0, 0, 0); stroke-opacity: 1; stroke-width: 1.3px; fill: none;\"/><path class=\"point\" transform=\"translate(48.56,105.07)\" d=\"M5,5H-5V-5H5Z\" style=\"opacity: 1; stroke: rgb(0, 0, 0); stroke-opacity: 1; stroke-width: 1.3px; fill: none;\"/><path class=\"point\" transform=\"translate(75.36,195)\" d=\"M5,5H-5V-5H5Z\" style=\"opacity: 1; stroke: rgb(0, 0, 0); stroke-opacity: 1; stroke-width: 1.3px; fill: none;\"/><path class=\"point\" transform=\"translate(81.91,316.31)\" d=\"M5,5H-5V-5H5Z\" style=\"opacity: 1; stroke: rgb(0, 0, 0); stroke-opacity: 1; stroke-width: 1.3px; fill: none;\"/><path class=\"point\" transform=\"translate(81.91,73.69)\" d=\"M5,5H-5V-5H5Z\" style=\"opacity: 1; stroke: rgb(0, 0, 0); stroke-opacity: 1; stroke-width: 1.3px; fill: none;\"/><path class=\"point\" transform=\"translate(93.53,321.38)\" d=\"M5,5H-5V-5H5Z\" style=\"opacity: 1; stroke: rgb(0, 0, 0); stroke-opacity: 1; stroke-width: 1.3px; fill: none;\"/><path class=\"point\" transform=\"translate(93.53,68.62)\" d=\"M5,5H-5V-5H5Z\" style=\"opacity: 1; stroke: rgb(0, 0, 0); stroke-opacity: 1; stroke-width: 1.3px; fill: none;\"/><path class=\"point\" transform=\"translate(101.99,240.27)\" d=\"M5,5H-5V-5H5Z\" style=\"opacity: 1; stroke: rgb(0, 0, 0); stroke-opacity: 1; stroke-width: 1.3px; fill: none;\"/><path class=\"point\" transform=\"translate(101.99,149.73)\" d=\"M5,5H-5V-5H5Z\" style=\"opacity: 1; stroke: rgb(0, 0, 0); stroke-opacity: 1; stroke-width: 1.3px; fill: none;\"/><path class=\"point\" transform=\"translate(108.16,213.97)\" d=\"M5,5H-5V-5H5Z\" style=\"opacity: 1; stroke: rgb(0, 0, 0); stroke-opacity: 1; stroke-width: 1.3px; fill: none;\"/><path class=\"point\" transform=\"translate(108.16,176.03)\" d=\"M5,5H-5V-5H5Z\" style=\"opacity: 1; stroke: rgb(0, 0, 0); stroke-opacity: 1; stroke-width: 1.3px; fill: none;\"/><path class=\"point\" transform=\"translate(108.48,326.81)\" d=\"M5,5H-5V-5H5Z\" style=\"opacity: 1; stroke: rgb(0, 0, 0); stroke-opacity: 1; stroke-width: 1.3px; fill: none;\"/><path class=\"point\" transform=\"translate(108.48,63.19)\" d=\"M5,5H-5V-5H5Z\" style=\"opacity: 1; stroke: rgb(0, 0, 0); stroke-opacity: 1; stroke-width: 1.3px; fill: none;\"/><path class=\"point\" transform=\"translate(119.36,316.5)\" d=\"M5,5H-5V-5H5Z\" style=\"opacity: 1; stroke: rgb(0, 0, 0); stroke-opacity: 1; stroke-width: 1.3px; fill: none;\"/><path class=\"point\" transform=\"translate(119.36,73.5)\" d=\"M5,5H-5V-5H5Z\" style=\"opacity: 1; stroke: rgb(0, 0, 0); stroke-opacity: 1; stroke-width: 1.3px; fill: none;\"/><path class=\"point\" transform=\"translate(120.7,330.75)\" d=\"M5,5H-5V-5H5Z\" style=\"opacity: 1; stroke: rgb(0, 0, 0); stroke-opacity: 1; stroke-width: 1.3px; fill: none;\"/><path class=\"point\" transform=\"translate(120.7,59.25)\" d=\"M5,5H-5V-5H5Z\" style=\"opacity: 1; stroke: rgb(0, 0, 0); stroke-opacity: 1; stroke-width: 1.3px; fill: none;\"/><path class=\"point\" transform=\"translate(140.75,323.79)\" d=\"M5,5H-5V-5H5Z\" style=\"opacity: 1; stroke: rgb(0, 0, 0); stroke-opacity: 1; stroke-width: 1.3px; fill: none;\"/><path class=\"point\" transform=\"translate(140.75,66.21)\" d=\"M5,5H-5V-5H5Z\" style=\"opacity: 1; stroke: rgb(0, 0, 0); stroke-opacity: 1; stroke-width: 1.3px; fill: none;\"/><path class=\"point\" transform=\"translate(164.82,349.85)\" d=\"M5,5H-5V-5H5Z\" style=\"opacity: 1; stroke: rgb(0, 0, 0); stroke-opacity: 1; stroke-width: 1.3px; fill: none;\"/><path class=\"point\" transform=\"translate(164.82,40.15)\" d=\"M5,5H-5V-5H5Z\" style=\"opacity: 1; stroke: rgb(0, 0, 0); stroke-opacity: 1; stroke-width: 1.3px; fill: none;\"/><path class=\"point\" transform=\"translate(165.72,313.09)\" d=\"M5,5H-5V-5H5Z\" style=\"opacity: 1; stroke: rgb(0, 0, 0); stroke-opacity: 1; stroke-width: 1.3px; fill: none;\"/><path class=\"point\" transform=\"translate(165.72,76.91)\" d=\"M5,5H-5V-5H5Z\" style=\"opacity: 1; stroke: rgb(0, 0, 0); stroke-opacity: 1; stroke-width: 1.3px; fill: none;\"/><path class=\"point\" transform=\"translate(166.22,328.75)\" d=\"M5,5H-5V-5H5Z\" style=\"opacity: 1; stroke: rgb(0, 0, 0); stroke-opacity: 1; stroke-width: 1.3px; fill: none;\"/><path class=\"point\" transform=\"translate(166.22,61.25)\" d=\"M5,5H-5V-5H5Z\" style=\"opacity: 1; stroke: rgb(0, 0, 0); stroke-opacity: 1; stroke-width: 1.3px; fill: none;\"/><path class=\"point\" transform=\"translate(198.42,267.23)\" d=\"M5,5H-5V-5H5Z\" style=\"opacity: 1; stroke: rgb(0, 0, 0); stroke-opacity: 1; stroke-width: 1.3px; fill: none;\"/><path class=\"point\" transform=\"translate(198.42,122.77)\" d=\"M5,5H-5V-5H5Z\" style=\"opacity: 1; stroke: rgb(0, 0, 0); stroke-opacity: 1; stroke-width: 1.3px; fill: none;\"/><path class=\"point\" transform=\"translate(200.37,345.99)\" d=\"M5,5H-5V-5H5Z\" style=\"opacity: 1; stroke: rgb(0, 0, 0); stroke-opacity: 1; stroke-width: 1.3px; fill: none;\"/><path class=\"point\" transform=\"translate(200.37,44.01)\" d=\"M5,5H-5V-5H5Z\" style=\"opacity: 1; stroke: rgb(0, 0, 0); stroke-opacity: 1; stroke-width: 1.3px; fill: none;\"/><path class=\"point\" transform=\"translate(202.95,303.41)\" d=\"M5,5H-5V-5H5Z\" style=\"opacity: 1; stroke: rgb(0, 0, 0); stroke-opacity: 1; stroke-width: 1.3px; fill: none;\"/><path class=\"point\" transform=\"translate(202.95,86.59)\" d=\"M5,5H-5V-5H5Z\" style=\"opacity: 1; stroke: rgb(0, 0, 0); stroke-opacity: 1; stroke-width: 1.3px; fill: none;\"/><path class=\"point\" transform=\"translate(214.65,342.57)\" d=\"M5,5H-5V-5H5Z\" style=\"opacity: 1; stroke: rgb(0, 0, 0); stroke-opacity: 1; stroke-width: 1.3px; fill: none;\"/><path class=\"point\" transform=\"translate(214.65,47.43)\" d=\"M5,5H-5V-5H5Z\" style=\"opacity: 1; stroke: rgb(0, 0, 0); stroke-opacity: 1; stroke-width: 1.3px; fill: none;\"/><path class=\"point\" transform=\"translate(228.87,309.17)\" d=\"M5,5H-5V-5H5Z\" style=\"opacity: 1; stroke: rgb(0, 0, 0); stroke-opacity: 1; stroke-width: 1.3px; fill: none;\"/><path class=\"point\" transform=\"translate(228.87,80.83)\" d=\"M5,5H-5V-5H5Z\" style=\"opacity: 1; stroke: rgb(0, 0, 0); stroke-opacity: 1; stroke-width: 1.3px; fill: none;\"/><path class=\"point\" transform=\"translate(229.24,280.53)\" d=\"M5,5H-5V-5H5Z\" style=\"opacity: 1; stroke: rgb(0, 0, 0); stroke-opacity: 1; stroke-width: 1.3px; fill: none;\"/><path class=\"point\" transform=\"translate(229.24,109.47)\" d=\"M5,5H-5V-5H5Z\" style=\"opacity: 1; stroke: rgb(0, 0, 0); stroke-opacity: 1; stroke-width: 1.3px; fill: none;\"/><path class=\"point\" transform=\"translate(258.51,195)\" d=\"M5,5H-5V-5H5Z\" style=\"opacity: 1; stroke: rgb(0, 0, 0); stroke-opacity: 1; stroke-width: 1.3px; fill: none;\"/><path class=\"point\" transform=\"translate(263,282.67)\" d=\"M5,5H-5V-5H5Z\" style=\"opacity: 1; stroke: rgb(0, 0, 0); stroke-opacity: 1; stroke-width: 1.3px; fill: none;\"/><path class=\"point\" transform=\"translate(263,107.33)\" d=\"M5,5H-5V-5H5Z\" style=\"opacity: 1; stroke: rgb(0, 0, 0); stroke-opacity: 1; stroke-width: 1.3px; fill: none;\"/><path class=\"point\" transform=\"translate(264.06,289.22)\" d=\"M5,5H-5V-5H5Z\" style=\"opacity: 1; stroke: rgb(0, 0, 0); stroke-opacity: 1; stroke-width: 1.3px; fill: none;\"/><path class=\"point\" transform=\"translate(264.06,100.78)\" d=\"M5,5H-5V-5H5Z\" style=\"opacity: 1; stroke: rgb(0, 0, 0); stroke-opacity: 1; stroke-width: 1.3px; fill: none;\"/><path class=\"point\" transform=\"translate(270.27,220.45)\" d=\"M5,5H-5V-5H5Z\" style=\"opacity: 1; stroke: rgb(0, 0, 0); stroke-opacity: 1; stroke-width: 1.3px; fill: none;\"/><path class=\"point\" transform=\"translate(270.27,169.55)\" d=\"M5,5H-5V-5H5Z\" style=\"opacity: 1; stroke: rgb(0, 0, 0); stroke-opacity: 1; stroke-width: 1.3px; fill: none;\"/><path class=\"point\" transform=\"translate(289.53,294.04)\" d=\"M5,5H-5V-5H5Z\" style=\"opacity: 1; stroke: rgb(0, 0, 0); stroke-opacity: 1; stroke-width: 1.3px; fill: none;\"/><path class=\"point\" transform=\"translate(289.53,95.96)\" d=\"M5,5H-5V-5H5Z\" style=\"opacity: 1; stroke: rgb(0, 0, 0); stroke-opacity: 1; stroke-width: 1.3px; fill: none;\"/><path class=\"point\" transform=\"translate(291.79,248.2)\" d=\"M5,5H-5V-5H5Z\" style=\"opacity: 1; stroke: rgb(0, 0, 0); stroke-opacity: 1; stroke-width: 1.3px; fill: none;\"/><path class=\"point\" transform=\"translate(291.79,141.8)\" d=\"M5,5H-5V-5H5Z\" style=\"opacity: 1; stroke: rgb(0, 0, 0); stroke-opacity: 1; stroke-width: 1.3px; fill: none;\"/><path class=\"point\" transform=\"translate(300.59,233.28)\" d=\"M5,5H-5V-5H5Z\" style=\"opacity: 1; stroke: rgb(0, 0, 0); stroke-opacity: 1; stroke-width: 1.3px; fill: none;\"/><path class=\"point\" transform=\"translate(300.59,156.72)\" d=\"M5,5H-5V-5H5Z\" style=\"opacity: 1; stroke: rgb(0, 0, 0); stroke-opacity: 1; stroke-width: 1.3px; fill: none;\"/><path class=\"point\" transform=\"translate(302.73,197.94)\" d=\"M5,5H-5V-5H5Z\" style=\"opacity: 1; stroke: rgb(0, 0, 0); stroke-opacity: 1; stroke-width: 1.3px; fill: none;\"/><path class=\"point\" transform=\"translate(302.73,192.06)\" d=\"M5,5H-5V-5H5Z\" style=\"opacity: 1; stroke: rgb(0, 0, 0); stroke-opacity: 1; stroke-width: 1.3px; fill: none;\"/><path class=\"point\" transform=\"translate(306.81,256.64)\" d=\"M5,5H-5V-5H5Z\" style=\"opacity: 1; stroke: rgb(0, 0, 0); stroke-opacity: 1; stroke-width: 1.3px; fill: none;\"/><path class=\"point\" transform=\"translate(306.81,133.36)\" d=\"M5,5H-5V-5H5Z\" style=\"opacity: 1; stroke: rgb(0, 0, 0); stroke-opacity: 1; stroke-width: 1.3px; fill: none;\"/><path class=\"point\" transform=\"translate(482.44,195)\" d=\"M5,5H-5V-5H5Z\" style=\"opacity: 1; stroke: rgb(0, 0, 0); stroke-opacity: 1; stroke-width: 1.3px; fill: none;\"/><path class=\"point\" transform=\"translate(482.44,195)\" d=\"M5,5H-5V-5H5Z\" style=\"opacity: 1; stroke: rgb(0, 0, 0); stroke-opacity: 1; stroke-width: 1.3px; fill: none;\"/></g><g class=\"text\"/></g></g></g><g class=\"overplot\"/><path class=\"xlines-above crisp\" d=\"M79,450.5H579M79,59.5H579\" style=\"fill: none; stroke-width: 1px; stroke: rgb(0, 0, 0); stroke-opacity: 1;\"/><path class=\"ylines-above crisp\" d=\"M79.5,60V450M578.5,60V450\" style=\"fill: none; stroke-width: 1px; stroke: rgb(0, 0, 0); stroke-opacity: 1;\"/><g class=\"overlines-above\"/><g class=\"xaxislayer-above\"><path class=\"xtick ticks crisp\" d=\"M0,450v-5\" transform=\"translate(95.56,0)\" style=\"stroke: rgb(68, 68, 68); stroke-opacity: 1; stroke-width: 1px;\"/><path class=\"xtick ticks crisp\" d=\"M0,450v-5\" transform=\"translate(173.38,0)\" style=\"stroke: rgb(68, 68, 68); stroke-opacity: 1; stroke-width: 1px;\"/><path class=\"xtick ticks crisp\" d=\"M0,450v-5\" transform=\"translate(251.19,0)\" style=\"stroke: rgb(68, 68, 68); stroke-opacity: 1; stroke-width: 1px;\"/><path class=\"xtick ticks crisp\" d=\"M0,450v-5\" transform=\"translate(329,0)\" style=\"stroke: rgb(68, 68, 68); stroke-opacity: 1; stroke-width: 1px;\"/><path class=\"xtick ticks crisp\" d=\"M0,450v-5\" transform=\"translate(406.81,0)\" style=\"stroke: rgb(68, 68, 68); stroke-opacity: 1; stroke-width: 1px;\"/><path class=\"xtick ticks crisp\" d=\"M0,450v-5\" transform=\"translate(484.63,0)\" style=\"stroke: rgb(68, 68, 68); stroke-opacity: 1; stroke-width: 1px;\"/><path class=\"xtick ticks crisp\" d=\"M0,450v-5\" transform=\"translate(562.44,0)\" style=\"stroke: rgb(68, 68, 68); stroke-opacity: 1; stroke-width: 1px;\"/><g class=\"xtick\"><text text-anchor=\"middle\" x=\"0\" y=\"470.2\" transform=\"translate(95.56,0)\" style=\"font-family: 'Open Sans', verdana, arial, sans-serif; font-size: 16px; fill: rgb(68, 68, 68); fill-opacity: 1; white-space: pre;\">−1</text></g><g class=\"xtick\"><text text-anchor=\"middle\" x=\"0\" y=\"470.2\" transform=\"translate(173.38,0)\" style=\"font-family: 'Open Sans', verdana, arial, sans-serif; font-size: 16px; fill: rgb(68, 68, 68); fill-opacity: 1; white-space: pre;\">−0.5</text></g><g class=\"xtick\"><text text-anchor=\"middle\" x=\"0\" y=\"470.2\" transform=\"translate(251.19,0)\" style=\"font-family: 'Open Sans', verdana, arial, sans-serif; font-size: 16px; fill: rgb(68, 68, 68); fill-opacity: 1; white-space: pre;\">0</text></g><g class=\"xtick\"><text text-anchor=\"middle\" x=\"0\" y=\"470.2\" transform=\"translate(329,0)\" style=\"font-family: 'Open Sans', verdana, arial, sans-serif; font-size: 16px; fill: rgb(68, 68, 68); fill-opacity: 1; white-space: pre;\">0.5</text></g><g class=\"xtick\"><text text-anchor=\"middle\" x=\"0\" y=\"470.2\" transform=\"translate(406.81,0)\" style=\"font-family: 'Open Sans', verdana, arial, sans-serif; font-size: 16px; fill: rgb(68, 68, 68); fill-opacity: 1; white-space: pre;\">1</text></g><g class=\"xtick\"><text text-anchor=\"middle\" x=\"0\" y=\"470.2\" transform=\"translate(484.63,0)\" style=\"font-family: 'Open Sans', verdana, arial, sans-serif; font-size: 16px; fill: rgb(68, 68, 68); fill-opacity: 1; white-space: pre;\">1.5</text></g><g class=\"xtick\"><text text-anchor=\"middle\" x=\"0\" y=\"470.2\" transform=\"translate(562.44,0)\" style=\"font-family: 'Open Sans', verdana, arial, sans-serif; font-size: 16px; fill: rgb(68, 68, 68); fill-opacity: 1; white-space: pre;\">2</text></g></g><g class=\"yaxislayer-above\"><path class=\"ytick ticks crisp\" d=\"M80,0h5\" transform=\"translate(0,410.63)\" style=\"stroke: rgb(68, 68, 68); stroke-opacity: 1; stroke-width: 1px;\"/><path class=\"ytick ticks crisp\" d=\"M80,0h5\" transform=\"translate(0,332.81)\" style=\"stroke: rgb(68, 68, 68); stroke-opacity: 1; stroke-width: 1px;\"/><path class=\"ytick ticks crisp\" d=\"M80,0h5\" transform=\"translate(0,255)\" style=\"stroke: rgb(68, 68, 68); stroke-opacity: 1; stroke-width: 1px;\"/><path class=\"ytick ticks crisp\" d=\"M80,0h5\" transform=\"translate(0,177.19)\" style=\"stroke: rgb(68, 68, 68); stroke-opacity: 1; stroke-width: 1px;\"/><path class=\"ytick ticks crisp\" d=\"M80,0h5\" transform=\"translate(0,99.38)\" style=\"stroke: rgb(68, 68, 68); stroke-opacity: 1; stroke-width: 1px;\"/><g class=\"ytick\"><text text-anchor=\"end\" x=\"75.8\" y=\"5.6\" transform=\"translate(0,410.63)\" style=\"font-family: 'Open Sans', verdana, arial, sans-serif; font-size: 16px; fill: rgb(68, 68, 68); fill-opacity: 1; white-space: pre;\">−1</text></g><g class=\"ytick\"><text text-anchor=\"end\" x=\"75.8\" y=\"5.6\" transform=\"translate(0,332.81)\" style=\"font-family: 'Open Sans', verdana, arial, sans-serif; font-size: 16px; fill: rgb(68, 68, 68); fill-opacity: 1; white-space: pre;\">−0.5</text></g><g class=\"ytick\"><text text-anchor=\"end\" x=\"75.8\" y=\"5.6\" transform=\"translate(0,255)\" style=\"font-family: 'Open Sans', verdana, arial, sans-serif; font-size: 16px; fill: rgb(68, 68, 68); fill-opacity: 1; white-space: pre;\">0</text></g><g class=\"ytick\"><text text-anchor=\"end\" x=\"75.8\" y=\"5.6\" transform=\"translate(0,177.19)\" style=\"font-family: 'Open Sans', verdana, arial, sans-serif; font-size: 16px; fill: rgb(68, 68, 68); fill-opacity: 1; white-space: pre;\">0.5</text></g><g class=\"ytick\"><text text-anchor=\"end\" x=\"75.8\" y=\"5.6\" transform=\"translate(0,99.38)\" style=\"font-family: 'Open Sans', verdana, arial, sans-serif; font-size: 16px; fill: rgb(68, 68, 68); fill-opacity: 1; white-space: pre;\">1</text></g></g><g class=\"overaxes-above\"/></g></g><g class=\"polarlayer\"/><g class=\"ternarylayer\"/><g class=\"geolayer\"/><g class=\"funnelarealayer\"/><g class=\"pielayer\"/><g class=\"treemaplayer\"/><g class=\"sunburstlayer\"/><g class=\"glimages\"/><defs id=\"topdefs-b4d08f\"><g class=\"clips\"/><clipPath id=\"legendb4d08f\"><rect width=\"100\" height=\"58\" x=\"0\" y=\"0\"/></clipPath></defs><g class=\"layer-above\"><g class=\"imagelayer\"/><g class=\"shapelayer\"/></g><g class=\"infolayer\"><g class=\"legend\" pointer-events=\"all\" transform=\"translate(587.96,60)\"><rect class=\"bg\" shape-rendering=\"crispEdges\" style=\"stroke: rgb(68, 68, 68); stroke-opacity: 1; fill: rgb(255, 255, 255); fill-opacity: 1; stroke-width: 0px;\" width=\"100\" height=\"58\" x=\"0\" y=\"0\"/><g class=\"scrollbox\" transform=\"\" clip-path=\"url('#legendb4d08f')\"><g class=\"groups\"><g class=\"traces\" transform=\"translate(0,16.9)\" style=\"opacity: 1;\"><text class=\"legendtext\" text-anchor=\"start\" x=\"40\" y=\"6.24\" style=\"font-family: 'Open Sans', verdana, arial, sans-serif; font-size: 16px; fill: rgb(68, 68, 68); fill-opacity: 1; white-space: pre;\">A</text><g class=\"layers\" style=\"opacity: 1;\"><g class=\"legendfill\"/><g class=\"legendlines\"/><g class=\"legendsymbols\"><g class=\"legendpoints\"><path class=\"scatterpts\" transform=\"translate(20,0)\" d=\"M5,0A5,5 0 1,1 0,-5A5,5 0 0,1 5,0Z\" style=\"opacity: 1; stroke-width: 0.5px; fill: rgb(226, 74, 51); fill-opacity: 1; stroke: rgb(52, 138, 189); stroke-opacity: 1;\"/></g></g></g><rect class=\"legendtoggle\" x=\"0\" y=\"-11.9\" width=\"94.046875\" height=\"23.8\" style=\"fill: rgb(0, 0, 0); fill-opacity: 0;\"/></g><g class=\"traces\" transform=\"translate(0,40.7)\" style=\"opacity: 1;\"><text class=\"legendtext\" text-anchor=\"start\" x=\"40\" y=\"6.24\" style=\"font-family: 'Open Sans', verdana, arial, sans-serif; font-size: 16px; fill: rgb(68, 68, 68); fill-opacity: 1; white-space: pre;\">Arnoldi</text><g class=\"layers\" style=\"opacity: 1;\"><g class=\"legendfill\"/><g class=\"legendlines\"/><g class=\"legendsymbols\"><g class=\"legendpoints\"><path class=\"scatterpts\" transform=\"translate(20,0)\" d=\"M5,5H-5V-5H5Z\" style=\"opacity: 1; stroke: rgb(0, 0, 0); stroke-opacity: 1; stroke-width: 1.3px; fill: none;\"/></g></g></g><rect class=\"legendtoggle\" x=\"0\" y=\"-11.9\" width=\"94.046875\" height=\"23.8\" style=\"fill: rgb(0, 0, 0); fill-opacity: 0;\"/></g></g></g><rect class=\"scrollbar\" rx=\"20\" ry=\"3\" width=\"0\" height=\"0\" style=\"fill: rgb(128, 139, 164); fill-opacity: 1;\" x=\"0\" y=\"0\"/></g><g class=\"g-gtitle\"/><g class=\"g-xtitle\" transform=\"translate(0,-19.5)\"><text class=\"xtitle\" x=\"329\" y=\"514\" text-anchor=\"middle\" style=\"font-family: 'Open Sans', verdana, arial, sans-serif; font-size: 18px; fill: rgb(85, 85, 85); opacity: 1; font-weight: normal; white-space: pre;\">Real part</text></g><g class=\"g-ytitle\"><text class=\"ytitle\" transform=\"rotate(-90,34,255)\" x=\"34\" y=\"255\" text-anchor=\"middle\" style=\"font-family: 'Open Sans', verdana, arial, sans-serif; font-size: 18px; fill: rgb(85, 85, 85); opacity: 1; font-weight: normal; white-space: pre;\">Imaginary part</text></g></g></svg>"
      ],
      "text/html": [
       "<div\n",
       "    class=\"webio-mountpoint\"\n",
       "    data-webio-mountpoint=\"5277995996896102156\"\n",
       ">\n",
       "    <script>\n",
       "    if (window.require && require.defined && require.defined(\"nbextensions/webio-jupyter-notebook\")) {\n",
       "        console.log(\"Jupyter WebIO extension detected, not mounting.\");\n",
       "    } else if (window.WebIO) {\n",
       "        WebIO.mount(\n",
       "            document.querySelector('[data-webio-mountpoint=\"5277995996896102156\"]'),\n",
       "            {\"props\":{},\"nodeType\":\"Scope\",\"type\":\"node\",\"instanceArgs\":{\"imports\":{\"data\":[{\"name\":\"Plotly\",\"type\":\"js\",\"url\":\"\\/assetserver\\/57533c5d787f8bc76a9e58ed0a1abce5f1b0c14d-plotly-latest.min.js\"},{\"name\":null,\"type\":\"js\",\"url\":\"\\/assetserver\\/58a7932c57029f7dbaa4105104076ff149fc7585-plotly_webio.bundle.js\"}],\"type\":\"async_block\"},\"id\":\"1147299215936450718\",\"handlers\":{\"_toImage\":[\"(function (options){return this.Plotly.toImage(this.plotElem,options).then((function (data){return WebIO.setval({\\\"name\\\":\\\"image\\\",\\\"scope\\\":\\\"1147299215936450718\\\",\\\"id\\\":\\\"8711231712656857683\\\",\\\"type\\\":\\\"observable\\\"},data)}))})\"],\"__get_gd_contents\":[\"(function (prop){prop==\\\"data\\\" ? (WebIO.setval({\\\"name\\\":\\\"__gd_contents\\\",\\\"scope\\\":\\\"1147299215936450718\\\",\\\"id\\\":\\\"7810873281275270197\\\",\\\"type\\\":\\\"observable\\\"},this.plotElem.data)) : undefined; return prop==\\\"layout\\\" ? (WebIO.setval({\\\"name\\\":\\\"__gd_contents\\\",\\\"scope\\\":\\\"1147299215936450718\\\",\\\"id\\\":\\\"7810873281275270197\\\",\\\"type\\\":\\\"observable\\\"},this.plotElem.layout)) : undefined})\"],\"_downloadImage\":[\"(function (options){return this.Plotly.downloadImage(this.plotElem,options)})\"],\"_commands\":[\"(function (args){var fn=args.shift(); var elem=this.plotElem; var Plotly=this.Plotly; args.unshift(elem); return Plotly[fn].apply(this,args)})\"]},\"systemjs_options\":null,\"mount_callbacks\":[\"function () {\\n    var handler = ((function (Plotly,PlotlyWebIO){PlotlyWebIO.init(WebIO); var gd=this.dom.querySelector(\\\"#plot-9cd79570-786c-4062-82fa-0dfb85ee40ed\\\"); this.plotElem=gd; this.Plotly=Plotly; (window.Blink!==undefined) ? (gd.style.width=\\\"100%\\\", gd.style.height=\\\"100vh\\\", gd.style.marginLeft=\\\"0%\\\", gd.style.marginTop=\\\"0vh\\\") : undefined; window.onresize=(function (){return Plotly.Plots.resize(gd)}); Plotly.newPlot(gd,[{\\\"marker\\\":{\\\"color\\\":\\\"#E24A33\\\",\\\"line\\\":{\\\"color\\\":\\\"#348ABD\\\",\\\"width\\\":0.5},\\\"size\\\":10},\\\"mode\\\":\\\"markers\\\",\\\"y\\\":[-0.10879037172432661,0.10879037172432661,-0.10975154797655741,0.10975154797655741,-0.13574989776119825,0.13574989776119825,-0.2586418035994159,0.2586418035994159,-0.25405753948613863,0.25405753948613863,-0.25937290392145046,0.25937290392145046,-0.10958000387513785,0.10958000387513785,-0.06620116864384624,0.06620116864384624,-0.1241160634388358,0.1241160634388358,-0.11891441024179619,0.11891441024179619,-0.15324486888652875,0.15324486888652875,-0.27693427571701096,0.27693427571701096,-0.1469983478745087,0.1469983478745087,-0.006070372044894234,0.006070372044894234,-0.2733124752131209,0.2733124752131209,-0.15010276060352204,0.15010276060352204,-0.4076166157076757,0.4076166157076757,-0.435427617375865,0.435427617375865,-0.367673722039919,0.367673722039919,-0.21409644700340624,0.21409644700340624,-0.14614349130421586,0.14614349130421586,-0.5578882417258654,0.5578882417258654,-0.4159869952446049,0.4159869952446049,-0.33746811060321874,0.33746811060321874,-0.5698578632990555,0.5698578632990555,-0.07295304743558527,0.07295304743558527,-0.0077687744084616725,0.0077687744084616725,-0.4624195694651731,0.4624195694651731,-0.22665038990979033,0.22665038990979033,-0.1662578654643505,0.1662578654643505,-0.5367077151212837,0.5367077151212837,-0.15836119083078365,0.15836119083078365,-0.3304511042650952,0.3304511042650952,-0.7095807382647048,0.7095807382647048,-0.6452086879219459,0.6452086879219459,-0.731300948187981,0.731300948187981,-0.7101996309969153,0.7101996309969153,-0.7363127609317422,0.7363127609317422,-0.5564417107281155,0.5564417107281155,-0.8218101594883035,0.8218101594883035,-0.7349403448984013,0.7349403448984013,-0.5725344533659485,0.5725344533659485,-0.05343384818679309,0.05343384818679309,-0.022075690302093564,0.022075690302093564,-0.7829542463514122,0.7829542463514122,-0.3356657405904009,0.3356657405904009,-0.8278257536091009,0.8278257536091009,-0.6100238364637857,0.6100238364637857,-0.8579428831467321,0.8579428831467321,-0.2465493684529824,0.2465493684529824,-0.057589922155649724,0.057589922155649724,-0.8722121001128617,0.8722121001128617,-0.8472730760907735,0.8472730760907735,-0.28997375715904594,0.28997375715904594,-0.4332899047027232,0.4332899047027232,-0.8123437273543532,0.8123437273543532,-0.39608696295063567,0.39608696295063567,-0.7795196394843853,0.7795196394843853,-0.5778613528662261,0.5778613528662261,-0.9702019276716233,0.9702019276716233,-0.9482064801548805,0.9482064801548805,-0.6363985741119599,0.6363985741119599,-0.9950409851034387,0.9950409851034387,-2.0122098419976547e-14,2.0122098419976547e-14],\\\"type\\\":\\\"scatter\\\",\\\"name\\\":\\\"A\\\",\\\"x\\\":[-0.08918709450397054,-0.08918709450397054,0.1408045573352858,0.1408045573352858,0.1389557009297892,0.1389557009297892,-0.04253008075392087,-0.04253008075392087,0.07581846549397914,0.07581846549397914,-0.07743776140021558,-0.07743776140021558,0.26069783987870637,0.26069783987870637,-0.2983583349177032,-0.2983583349177032,0.2933804196501578,0.2933804196501578,0.31606766099877515,0.31606766099877515,0.31325629775361996,0.31325629775361996,0.2426175117064043,0.2426175117064043,0.4066689719517996,0.4066689719517996,0.43528476157447804,0.43528476157447804,0.3470266676670776,0.3470266676670776,-0.41707484404311546,-0.41707484404311546,-0.19824256144181238,-0.19824256144181238,-0.18708458053478302,-0.18708458053478302,0.4078152716991666,0.4078152716991666,-0.5140977209855127,-0.5140977209855127,0.5393394856603746,0.5393394856603746,-0.05448321301488068,-0.05448321301488068,-0.3787892597830979,-0.3787892597830979,-0.4718959365649278,-0.4718959365649278,0.14662853412238666,0.14662853412238666,-0.5945856860397631,-0.5945856860397631,-0.6001632594545074,-0.6001632594545074,0.3842103488896186,0.3842103488896186,0.6147183593836323,0.6147183593836323,-0.6365539601591952,-0.6365539601591952,0.41058938905390885,0.41058938905390885,0.6901142036782117,0.6901142036782117,0.6354530240453067,0.6354530240453067,-0.14114661172047757,-0.14114661172047757,0.3306266557328791,0.3306266557328791,-0.047519071171810964,-0.047519071171810964,0.21439327941744646,0.21439327941744646,0.1509513971334683,0.1509513971334683,0.5768832687360091,0.5768832687360091,-0.03056407630046251,-0.03056407630046251,0.3711841503035054,0.3711841503035054,0.5974226542278691,0.5974226542278691,-0.8375477982368175,-0.8375477982368175,0.8431533304389764,0.8431533304389764,-0.33278641507162615,-0.33278641507162615,0.7817827035457106,0.7817827035457106,-0.1967007561339742,-0.1967007561339742,0.5933219674458214,0.5933219674458214,-0.032293787955374076,-0.032293787955374076,0.8318795097238192,0.8318795097238192,-0.878284108628804,-0.878284108628804,-0.3244052902649379,-0.3244052902649379,-0.4026240648662433,-0.4026240648662433,-0.8940321182123798,-0.8940321182123798,-0.8401411096864391,-0.8401411096864391,-0.4990269579655238,-0.4990269579655238,0.8714828925775688,0.8714828925775688,-0.5736417024848666,-0.5736417024848666,-0.7879390918820168,-0.7879390918820168,0.1874964563992596,0.1874964563992596,0.27930706900332614,0.27930706900332614,0.7604128389076625,0.7604128389076625,-0.04092621100019783,-0.04092621100019783,2.000000000000005,2.000000000000005]},{\\\"marker\\\":{\\\"symbol\\\":\\\"square-open\\\",\\\"color\\\":\\\"black\\\",\\\"line\\\":{\\\"color\\\":\\\"#348ABD\\\",\\\"width\\\":1.3},\\\"size\\\":10},\\\"mode\\\":\\\"markers\\\",\\\"y\\\":[-0.28997121202568915,0.28997121202568915,-0.057711224431536,0.057711224431536,-0.4332902148516033,0.4332902148516033,-0.05001999151521939,0.05001999151521939,-0.5778614128394377,0.5778614128394377,0.0,-0.7795209572265548,0.7795209572265548,-0.8120694956225388,0.8120694956225388,-0.29091406777520323,0.29091406777520323,-0.12188267132340726,0.12188267132340726,-0.8469835451216485,0.8469835451216485,-0.7807386184629231,0.7807386184629231,-0.8722998601151722,0.8722998601151722,-0.8275351118906801,0.8275351118906801,-0.995038271653088,0.995038271653088,-0.7587893897093868,0.7587893897093868,-0.8594634816564333,0.8594634816564333,-0.4641553850267692,0.4641553850267692,-0.9701913874276151,0.9701913874276151,-0.696633923879662,0.696633923879662,-0.9482130637893178,0.9482130637893178,-0.7336369155905018,0.7336369155905018,-0.5495848511340681,0.5495848511340681,0.0,-0.5633247529199634,0.5633247529199634,-0.6054232500570406,0.6054232500570406,-0.16355934993910326,0.16355934993910326,-0.6363999261183063,0.6363999261183063,-0.34184487643824374,0.34184487643824374,-0.24599442157855209,0.24599442157855209,-0.018905774799210247,0.018905774799210247,-0.3960859676297567,0.3960859676297567,0.0,0.0],\\\"type\\\":\\\"scatter\\\",\\\"name\\\":\\\"Arnoldi\\\",\\\"x\\\":[-0.8940312106670951,-0.8940312106670951,-0.8784014066131323,-0.8784014066131323,-0.8401420781231024,-0.8401420781231024,-0.8362592469395849,-0.8362592469395849,-0.7879393099111964,-0.7879393099111964,-0.6157669887143555,-0.573639840395276,-0.573639840395276,-0.4990161732759877,-0.4990161732759877,-0.44464819664677835,-0.44464819664677835,-0.40499429898060735,-0.40499429898060735,-0.402928613862178,-0.402928613862178,-0.33299737186198325,-0.33299737186198325,-0.32444828248426794,-0.32444828248426794,-0.195584477347036,-0.195584477347036,-0.04091968382129185,-0.04091968382129185,-0.03514359669644776,-0.03514359669644776,-0.03193619469490616,-0.03193619469490616,0.17496962005951527,0.17496962005951527,0.18751128229868225,0.18751128229868225,0.20411078818020745,0.20411078818020745,0.2793046085387927,0.2793046085387927,0.3706701944876835,0.3706701944876835,0.3730446532317942,0.3730446532317942,0.5610989636582508,0.5899421619603977,0.5899421619603977,0.5967605954549953,0.5967605954549953,0.6366932623811072,0.6366932623811072,0.7604139289386501,0.7604139289386501,0.7749842378972858,0.7749842378972858,0.8314964082732764,0.8314964082732764,0.8452802292670493,0.8452802292670493,0.871496673958127,0.871496673958127,1.9999999985563284,2.000000000000001]}],{\\\"xaxis\\\":{\\\"showgrid\\\":true,\\\"gridcolor\\\":\\\"#E5E5E5\\\",\\\"titlefont\\\":{\\\"color\\\":\\\"#555555\\\",\\\"size\\\":18},\\\"zeroline\\\":false,\\\"ticks\\\":\\\"inside\\\",\\\"title\\\":\\\"Real part\\\",\\\"range\\\":[-1.1,2.1],\\\"linewidth\\\":1.0,\\\"mirror\\\":true,\\\"linecolor\\\":\\\"black\\\"},\\\"titlefont\\\":{\\\"size\\\":18},\\\"font\\\":{\\\"size\\\":16},\\\"height\\\":300,\\\"margin\\\":{\\\"l\\\":80,\\\"b\\\":50,\\\"r\\\":50,\\\"t\\\":60},\\\"yaxis\\\":{\\\"scaleanchor\\\":\\\"x\\\",\\\"ticks\\\":\\\"inside\\\",\\\"range\\\":[-1.1,1.1],\\\"linecolor\\\":\\\"black\\\",\\\"showgrid\\\":true,\\\"scaleratio\\\":1,\\\"title\\\":\\\"Imaginary part\\\",\\\"mirror\\\":true,\\\"gridcolor\\\":\\\"#E5E5E5\\\",\\\"titlefont\\\":{\\\"color\\\":\\\"#555555\\\",\\\"size\\\":18},\\\"zeroline\\\":false,\\\"linewidth\\\":1.0},\\\"width\\\":500},{}); gd.on(\\\"plotly_hover\\\",(function (data){var filtered_data=WebIO.PlotlyCommands.filterEventData(gd,data,\\\"hover\\\"); return !(filtered_data.isnil) ? (WebIO.setval({\\\"name\\\":\\\"hover\\\",\\\"scope\\\":\\\"1147299215936450718\\\",\\\"id\\\":\\\"9418838239406160165\\\",\\\"type\\\":\\\"observable\\\"},filtered_data.out)) : undefined})); gd.on(\\\"plotly_unhover\\\",(function (){return WebIO.setval({\\\"name\\\":\\\"hover\\\",\\\"scope\\\":\\\"1147299215936450718\\\",\\\"id\\\":\\\"9418838239406160165\\\",\\\"type\\\":\\\"observable\\\"},{})})); gd.on(\\\"plotly_selected\\\",(function (data){var filtered_data=WebIO.PlotlyCommands.filterEventData(gd,data,\\\"selected\\\"); return !(filtered_data.isnil) ? (WebIO.setval({\\\"name\\\":\\\"selected\\\",\\\"scope\\\":\\\"1147299215936450718\\\",\\\"id\\\":\\\"2165206252728569998\\\",\\\"type\\\":\\\"observable\\\"},filtered_data.out)) : undefined})); gd.on(\\\"plotly_deselect\\\",(function (){return WebIO.setval({\\\"name\\\":\\\"selected\\\",\\\"scope\\\":\\\"1147299215936450718\\\",\\\"id\\\":\\\"2165206252728569998\\\",\\\"type\\\":\\\"observable\\\"},{})})); gd.on(\\\"plotly_relayout\\\",(function (data){var filtered_data=WebIO.PlotlyCommands.filterEventData(gd,data,\\\"relayout\\\"); return !(filtered_data.isnil) ? (WebIO.setval({\\\"name\\\":\\\"relayout\\\",\\\"scope\\\":\\\"1147299215936450718\\\",\\\"id\\\":\\\"16424159023917121758\\\",\\\"type\\\":\\\"observable\\\"},filtered_data.out)) : undefined})); return gd.on(\\\"plotly_click\\\",(function (data){var filtered_data=WebIO.PlotlyCommands.filterEventData(gd,data,\\\"click\\\"); return !(filtered_data.isnil) ? (WebIO.setval({\\\"name\\\":\\\"click\\\",\\\"scope\\\":\\\"1147299215936450718\\\",\\\"id\\\":\\\"5595259186650499966\\\",\\\"type\\\":\\\"observable\\\"},filtered_data.out)) : undefined}))}));\\n    (WebIO.importBlock({\\\"data\\\":[{\\\"name\\\":\\\"Plotly\\\",\\\"type\\\":\\\"js\\\",\\\"url\\\":\\\"\\/assetserver\\/57533c5d787f8bc76a9e58ed0a1abce5f1b0c14d-plotly-latest.min.js\\\"},{\\\"name\\\":null,\\\"type\\\":\\\"js\\\",\\\"url\\\":\\\"\\/assetserver\\/58a7932c57029f7dbaa4105104076ff149fc7585-plotly_webio.bundle.js\\\"}],\\\"type\\\":\\\"async_block\\\"})).then((imports) => handler.apply(this, imports));\\n}\\n\"],\"observables\":{\"_toImage\":{\"sync\":false,\"id\":\"7229127105439269860\",\"value\":{}},\"hover\":{\"sync\":false,\"id\":\"9418838239406160165\",\"value\":{}},\"selected\":{\"sync\":false,\"id\":\"2165206252728569998\",\"value\":{}},\"__gd_contents\":{\"sync\":false,\"id\":\"7810873281275270197\",\"value\":{}},\"click\":{\"sync\":false,\"id\":\"5595259186650499966\",\"value\":{}},\"image\":{\"sync\":true,\"id\":\"8711231712656857683\",\"value\":\"\"},\"__get_gd_contents\":{\"sync\":false,\"id\":\"14815316092866141904\",\"value\":\"\"},\"_downloadImage\":{\"sync\":false,\"id\":\"399327869027376661\",\"value\":{}},\"relayout\":{\"sync\":false,\"id\":\"16424159023917121758\",\"value\":{}},\"_commands\":{\"sync\":false,\"id\":\"16794732438077750143\",\"value\":[]}}},\"children\":[{\"props\":{\"id\":\"plot-9cd79570-786c-4062-82fa-0dfb85ee40ed\"},\"nodeType\":\"DOM\",\"type\":\"node\",\"instanceArgs\":{\"namespace\":\"html\",\"tag\":\"div\"},\"children\":[]}]},\n",
       "            window,\n",
       "        );\n",
       "    } else {\n",
       "        document\n",
       "            .querySelector('[data-webio-mountpoint=\"5277995996896102156\"]')\n",
       "            .innerHTML = (\n",
       "                '<div style=\"padding: 1em; background-color: #f8d6da; border: 1px solid #f5c6cb\">' +\n",
       "                '<p><strong>WebIO not detected.</strong></p>' +\n",
       "                '<p>Please read ' +\n",
       "                '<a href=\"https://juliagizmos.github.io/WebIO.jl/latest/troubleshooting/not-detected/\" target=\"_blank\">the troubleshooting guide</a> ' +\n",
       "                'for more information on how to resolve this issue.</p>' +\n",
       "                '<p><a href=\"https://juliagizmos.github.io/WebIO.jl/latest/troubleshooting/not-detected/\" target=\"_blank\">https://juliagizmos.github.io/WebIO.jl/latest/troubleshooting/not-detected/</a></p>' +\n",
       "                '</div>'\n",
       "            );\n",
       "    }\n",
       "    </script>\n",
       "</div>\n"
      ],
      "text/plain": [
       "data: [\n",
       "  \"scatter with fields marker, mode, name, type, x, and y\",\n",
       "  \"scatter with fields marker, mode, name, type, x, and y\"\n",
       "]\n",
       "\n",
       "layout: \"layout with fields font, height, margin, titlefont, width, xaxis, and yaxis\"\n",
       "\n"
      ]
     },
     "execution_count": 8,
     "metadata": {
      "application/vnd.webio.node+json": {
       "kernelId": null
      }
     },
     "output_type": "execute_result"
    }
   ],
   "source": [
    "k = 64\n",
    "t1 = scatter(x=real(D),y=imag(D),name=\"A\",mode=\"markers\")\n",
    "t2 = scatter(x=real(L[1:k,k]),y=imag(L[1:k,k]),name=\"Arnoldi\",mode=\"markers\",\n",
    "    marker=attr(symbol=\"square-open\",line_width=1.3,color=\"black\"))\n",
    "l = PlotlyJS.Layout(xaxis_title=\"Real part\",yaxis_title=\"Imaginary part\",\n",
    "    yaxis_scaleanchor=\"x\",yaxis_scaleratio=1,\n",
    "    xaxis_range=[-1.1,2.1],yaxis_range=[-1.1,1.1],\n",
    "    width=500,height=300,margin_l=80)\n",
    "p = plot([t1,t2],l)"
   ]
  },
  {
   "cell_type": "code",
   "execution_count": 9,
   "metadata": {},
   "outputs": [],
   "source": [
    "if output\n",
    "    plotToPDF(p,\"arnoldi\")\n",
    "end"
   ]
  }
 ],
 "metadata": {
  "@webio": {
   "lastCommId": null,
   "lastKernelId": null
  },
  "anaconda-cloud": {},
  "kernelspec": {
   "display_name": "Julia 1.5.1",
   "language": "julia",
   "name": "julia-1.5"
  },
  "language_info": {
   "file_extension": ".jl",
   "mimetype": "application/julia",
   "name": "julia",
   "version": "1.5.1"
  },
  "widgets": {
   "state": {
    "63c772bd-dfa0-490e-8891-9526e6bb0c84": {
     "views": [
      {
       "cell_index": 4
      }
     ]
    }
   },
   "version": "1.2.0"
  }
 },
 "nbformat": 4,
 "nbformat_minor": 4
}
