{
 "cells": [
  {
   "cell_type": "code",
   "execution_count": 1,
   "metadata": {},
   "outputs": [],
   "source": [
    "using Printf\n",
    "using Random\n",
    "using LinearAlgebra"
   ]
  },
  {
   "cell_type": "code",
   "execution_count": 2,
   "metadata": {},
   "outputs": [
    {
     "data": {
      "text/plain": [
       "eig_k (generic function with 1 method)"
      ]
     },
     "execution_count": 2,
     "metadata": {},
     "output_type": "execute_result"
    }
   ],
   "source": [
    "function compute_Tk(A,q,kmax)\n",
    "    T = zeros(kmax, kmax)\n",
    "    r = copy(q[:,1])\n",
    "    q[:,1] = r / norm(r)\n",
    "    \n",
    "    for k = 1:kmax\n",
    "        if k > 1\n",
    "            q[:,k] = r / T[k,k-1]\n",
    "        end\n",
    "\n",
    "        r = A * q[:,k] # Multiply by A\n",
    "        for i=1:k\n",
    "            # Make vector orthogonal\n",
    "            T[i,k] = dot(q[:,i], r)\n",
    "            r -= T[i,k] * q[:,i]\n",
    "        end\n",
    "\n",
    "        if k<kmax\n",
    "            T[k+1,k] = norm(r)\n",
    "        end\n",
    "    end\n",
    "    return T\n",
    "end\n",
    "\n",
    "function eig_k(T,k)\n",
    "    Tk = T[1:k,1:k]\n",
    "    L = eigen(Tk).values # Eigenvalue estimates at step k        \n",
    "    return L    \n",
    "end"
   ]
  },
  {
   "cell_type": "code",
   "execution_count": 3,
   "metadata": {},
   "outputs": [],
   "source": [
    "n = 32\n",
    "rng = MersenneTwister(18);\n",
    "\n",
    "Q = qr(rand(n,n)).Q\n",
    "#D = cos.(LinRange(0,π,n))\n",
    "#D[div(n,2)] = 2\n",
    "D = LinRange(-1,1,n).^3\n",
    "\n",
    "A = Q * diagm(0 => D) * Q'\n",
    "\n",
    "q = zeros(n,n)\n",
    "# Random starting vector\n",
    "q[:,1] = rand(n)\n",
    "q[:,1] /= norm(q[:,1])\n",
    "\n",
    "Tk = compute_Tk(A,q,n);"
   ]
  },
  {
   "cell_type": "code",
   "execution_count": 4,
   "metadata": {},
   "outputs": [
    {
     "name": "stdout",
     "output_type": "stream",
     "text": [
      "norm(D - D1) / norm(D) = 2.406171792570893e-15\n"
     ]
    },
    {
     "data": {
      "text/plain": [
       "2.406171792570893e-15"
      ]
     },
     "execution_count": 4,
     "metadata": {},
     "output_type": "execute_result"
    }
   ],
   "source": [
    "# Testing accuracy\n",
    "D = eigen(A).values; D1 = eigen(Tk).values\n",
    "sort!(D); sort!(D1)\n",
    "@show norm(D-D1) / norm(D)"
   ]
  },
  {
   "cell_type": "code",
   "execution_count": 5,
   "metadata": {},
   "outputs": [
    {
     "data": {
      "text/html": [
       "    <script class='js-collapse-script'>\n",
       "        var curMatch =\n",
       "            window.location.href\n",
       "            .match(/(.*?)\\/notebooks\\/.*\\.ipynb/);\n",
       "\n",
       "        curMatch = curMatch ||\n",
       "            window.location.href\n",
       "            .match(/(.*?)\\/apps\\/.*\\.ipynb/);\n",
       "\n",
       "        if ( curMatch ) {\n",
       "            $('head').append('<base href=\"' + curMatch[1] + '/\">');\n",
       "        }\n",
       "    </script>\n"
      ],
      "text/plain": [
       "HTML{String}(\"    <script class='js-collapse-script'>\\n        var curMatch =\\n            window.location.href\\n            .match(/(.*?)\\\\/notebooks\\\\/.*\\\\.ipynb/);\\n\\n        curMatch = curMatch ||\\n            window.location.href\\n            .match(/(.*?)\\\\/apps\\\\/.*\\\\.ipynb/);\\n\\n        if ( curMatch ) {\\n            \\$('head').append('<base href=\\\"' + curMatch[1] + '/\\\">');\\n        }\\n    </script>\\n\")"
      ]
     },
     "metadata": {},
     "output_type": "display_data"
    },
    {
     "data": {
      "text/html": [
       "<script class='js-collapse-script' src='/assetserver/f562d6507acc94a42cdf3b074249b311a179837e-assets/webio/dist/bundle.js'></script>"
      ],
      "text/plain": [
       "HTML{String}(\"<script class='js-collapse-script' src='/assetserver/f562d6507acc94a42cdf3b074249b311a179837e-assets/webio/dist/bundle.js'></script>\")"
      ]
     },
     "metadata": {},
     "output_type": "display_data"
    },
    {
     "data": {
      "text/html": [
       "<script class='js-collapse-script' src='/assetserver/f562d6507acc94a42cdf3b074249b311a179837e-assets/providers/ijulia_setup.js'></script>"
      ],
      "text/plain": [
       "HTML{String}(\"<script class='js-collapse-script' src='/assetserver/f562d6507acc94a42cdf3b074249b311a179837e-assets/providers/ijulia_setup.js'></script>\")"
      ]
     },
     "metadata": {},
     "output_type": "display_data"
    },
    {
     "data": {
      "text/html": [
       "  <script class='js-collapse-script'>\n",
       "    $('.js-collapse-script').parent('.output_subarea').css('padding', '0');\n",
       "  </script>\n"
      ],
      "text/plain": [
       "HTML{String}(\"  <script class='js-collapse-script'>\\n    \\$('.js-collapse-script').parent('.output_subarea').css('padding', '0');\\n  </script>\\n\")"
      ]
     },
     "metadata": {},
     "output_type": "display_data"
    },
    {
     "data": {
      "text/plain": [
       "false"
      ]
     },
     "execution_count": 5,
     "metadata": {},
     "output_type": "execute_result"
    }
   ],
   "source": [
    "include(\"../load_plot_pkg.jl\")\n",
    "output = false"
   ]
  },
  {
   "cell_type": "code",
   "execution_count": 6,
   "metadata": {},
   "outputs": [
    {
     "data": {
      "text/html": [
       "<div class='display:none'></div><unsafe-script style='display:none'>\n",
       "WebIO.mount(this.previousSibling,{&quot;props&quot;:{},&quot;nodeType&quot;:&quot;Scope&quot;,&quot;type&quot;:&quot;node&quot;,&quot;instanceArgs&quot;:{&quot;imports&quot;:{&quot;data&quot;:[{&quot;name&quot;:&quot;Plotly&quot;,&quot;type&quot;:&quot;js&quot;,&quot;url&quot;:&quot;/assetserver/dcb3dd15c490ea36fd746b01c9e0f36d13203a53-plotly-latest.min.js&quot;},{&quot;name&quot;:null,&quot;type&quot;:&quot;js&quot;,&quot;url&quot;:&quot;/assetserver/5c06fe4bbe8b3ce13970b2cbc0747b7077b0e37b-plotly_webio.bundle.js&quot;}],&quot;type&quot;:&quot;async_block&quot;},&quot;id&quot;:&quot;scope-3947af19-9a61-4289-b24b-a8041c76aa3e&quot;,&quot;handlers&quot;:{&quot;_toImage&quot;:[(function (options){return this.Plotly.toImage(this.plotElem,options).then((function (data){return WebIO.setval({&quot;name&quot;:&quot;image&quot;,&quot;scope&quot;:&quot;scope-3947af19-9a61-4289-b24b-a8041c76aa3e&quot;,&quot;id&quot;:&quot;ob_05&quot;,&quot;type&quot;:&quot;observable&quot;},data)}))})],&quot;__get_gd_contents&quot;:[(function (prop){prop==&quot;data&quot; ? (WebIO.setval({&quot;name&quot;:&quot;__gd_contents&quot;,&quot;scope&quot;:&quot;scope-3947af19-9a61-4289-b24b-a8041c76aa3e&quot;,&quot;id&quot;:&quot;ob_06&quot;,&quot;type&quot;:&quot;observable&quot;},this.plotElem.data)) : undefined; return prop==&quot;layout&quot; ? (WebIO.setval({&quot;name&quot;:&quot;__gd_contents&quot;,&quot;scope&quot;:&quot;scope-3947af19-9a61-4289-b24b-a8041c76aa3e&quot;,&quot;id&quot;:&quot;ob_06&quot;,&quot;type&quot;:&quot;observable&quot;},this.plotElem.layout)) : undefined})],&quot;_promises&quot;:{&quot;importsLoaded&quot;:[(function (Plotly){var gd=this.dom.querySelector(&quot;#plot-4842d58a-bc91-4c5a-b38c-e2aaaafe1e21&quot;); this.plotElem=gd; this.Plotly=Plotly; (window.Blink!==undefined) ? (gd.style.width=&quot;100%&quot;, gd.style.height=&quot;100vh&quot;, gd.style.marginLeft=&quot;0%&quot;, gd.style.marginTop=&quot;0vh&quot;) : undefined; window.onresize=(function (){return Plotly.Plots.resize(gd)}); Plotly.newPlot(gd,[{&quot;showlegend&quot;:false,&quot;mode&quot;:&quot;lines&quot;,&quot;marker&quot;:{&quot;color&quot;:&quot;#E24A33&quot;,&quot;line&quot;:{&quot;color&quot;:&quot;#348ABD&quot;,&quot;width&quot;:0.5},&quot;size&quot;:10},&quot;y&quot;:[-0.6645192099589468,-0.944415421628768,-0.9811432939557441,-0.9920233247403062,-0.9971921420542311,-0.99919303566508,-0.9997942460171737,-0.9999482060169396,-0.9999910598518621,-0.999998892861994,-0.9999998672314838,-0.9999999873609504,-0.9999999991754577,-0.9999999999732919,-0.9999999999991971,-0.9999999999999694,-0.9999999999999993,-1.0000000000000016,-0.9999999999999996,-0.9999999999999988,-1.0000000000000004,-0.9999999999999981,-1.000000000000003,-0.9999999999999993,-1.0000000000000022,-1.0000000000000022,-1.0000000000000027,-1.0,-1.0000000000000027,-0.9999999999999992,-1.0000000000000009,-1.0],&quot;type&quot;:&quot;scatter&quot;,&quot;x&quot;:[1,2,3,4,5,6,7,8,9,10,11,12,13,14,15,16,17,18,19,20,21,22,23,24,25,26,27,28,29,30,31,32]},{&quot;showlegend&quot;:false,&quot;mode&quot;:&quot;lines&quot;,&quot;marker&quot;:{&quot;color&quot;:&quot;#348ABD&quot;,&quot;line&quot;:{&quot;color&quot;:&quot;#348ABD&quot;,&quot;width&quot;:0.5},&quot;size&quot;:10},&quot;y&quot;:[0.21046437606671753,0.5404840748052558,0.8399416218821147,0.9729074917511065,0.9905865295810291,0.9964556782401623,0.9990664090397768,0.9997253300675923,0.9999383578168192,0.9999932020651472,0.99999949511498,0.9999999449947173,0.9999999962542446,0.9999999998465939,0.9999999999950623,0.9999999999999535,1.000000000000002,0.9999999999999993,1.000000000000003,0.9999999999999982,0.9999999999999992,1.0000000000000007,0.9999999999999998,1.0000000000000016,1.0000000000000007,1.0000000000000024,1.0000000000000022,1.000000000000001,1.0000000000000022,1.0000000000000058,1.0000000000000016],&quot;type&quot;:&quot;scatter&quot;,&quot;x&quot;:[2,3,4,5,6,7,8,9,10,11,12,13,14,15,16,17,18,19,20,21,22,23,24,25,26,27,28,29,30,31,32]},{&quot;showlegend&quot;:false,&quot;mode&quot;:&quot;lines&quot;,&quot;marker&quot;:{&quot;color&quot;:&quot;#988ED5&quot;,&quot;line&quot;:{&quot;color&quot;:&quot;#348ABD&quot;,&quot;width&quot;:0.5},&quot;size&quot;:10},&quot;y&quot;:[-0.13879777971663013,-0.4270804508488015,-0.6487351758061397,-0.754972586530904,-0.7926012460649382,-0.807287617041564,-0.8152409888071012,-0.817941598604592,-0.8185169072547351,-0.8186447015174978,-0.8186675043009279,-0.8186699457378164,-0.8186700626071747,-0.8186700678030138,-0.8186700681338611,-0.8186700681412484,-0.818670068141382,-0.818670068141387,-0.8186700681413867,-0.8186700681413854,-0.8186700681413851,-0.8186700681413843,-0.8186700681413861,-0.8186700681413849,-0.8186700681413851,-0.8186700681413867,-0.8186700681413867,-0.8186700681413861,-0.8186700681413857,-0.8186700681413832],&quot;type&quot;:&quot;scatter&quot;,&quot;x&quot;:[3,4,5,6,7,8,9,10,11,12,13,14,15,16,17,18,19,20,21,22,23,24,25,26,27,28,29,30,31,32]},{&quot;showlegend&quot;:false,&quot;mode&quot;:&quot;lines&quot;,&quot;marker&quot;:{&quot;color&quot;:&quot;#777777&quot;,&quot;line&quot;:{&quot;color&quot;:&quot;#348ABD&quot;,&quot;width&quot;:0.5},&quot;size&quot;:10},&quot;y&quot;:[0.21058167813218265,0.37577676037649804,0.42905507509494417,0.6244398788994734,0.7521932240048244,0.7861892902287277,0.8056858758068219,0.8161599220820991,0.8183548406438905,0.8186102085448235,0.8186626643300208,0.8186695647475966,0.818670043697242,0.8186700677877974,0.8186700681357683,0.8186700681413015,0.8186700681413844,0.8186700681413855,0.8186700681413851,0.8186700681413858,0.8186700681413874,0.8186700681413854,0.8186700681413853,0.8186700681413843,0.8186700681413858,0.8186700681413868,0.8186700681413868,0.8186700681413867,0.8186700681413869],&quot;type&quot;:&quot;scatter&quot;,&quot;x&quot;:[4,5,6,7,8,9,10,11,12,13,14,15,16,17,18,19,20,21,22,23,24,25,26,27,28,29,30,31,32]},{&quot;showlegend&quot;:false,&quot;mode&quot;:&quot;lines&quot;,&quot;marker&quot;:{&quot;color&quot;:&quot;#FBC15E&quot;,&quot;line&quot;:{&quot;color&quot;:&quot;#348ABD&quot;,&quot;width&quot;:0.5},&quot;size&quot;:10},&quot;y&quot;:[-0.10271611656541631,-0.34362834270194076,-0.43700853970270354,-0.5213224939090371,-0.6102689887838739,-0.6443182836027129,-0.6543578798021991,-0.6586671482942809,-0.6603485174634275,-0.660676416162564,-0.6607010044517458,-0.6607027058597132,-0.6607028895848472,-0.6607028966399613,-0.6607028968433546,-0.660702896847955,-0.660702896848042,-0.6607028968480425,-0.6607028968480388,-0.6607028968480418,-0.6607028968480418,-0.6607028968480428,-0.6607028968480406,-0.6607028968480434,-0.660702896848042,-0.6607028968480411,-0.6607028968480413,-0.660702896848041],&quot;type&quot;:&quot;scatter&quot;,&quot;x&quot;:[5,6,7,8,9,10,11,12,13,14,15,16,17,18,19,20,21,22,23,24,25,26,27,28,29,30,31,32]},{&quot;showlegend&quot;:false,&quot;mode&quot;:&quot;lines&quot;,&quot;marker&quot;:{&quot;color&quot;:&quot;#8EBA42&quot;,&quot;line&quot;:{&quot;color&quot;:&quot;#348ABD&quot;,&quot;width&quot;:0.5},&quot;size&quot;:10},&quot;y&quot;:[0.04637093978989534,0.37462949206700413,0.4011264516996891,0.4184877154278191,0.5483670128292898,0.6374959122685111,0.6557814357794506,0.6588905679491353,0.6602210994847638,0.6606402013056435,0.6606980143969701,0.6607027889742091,0.6607028942078117,0.6607028967851993,0.66070289684688,0.6607028968480303,0.6607028968480415,0.6607028968480411,0.6607028968480403,0.660702896848042,0.6607028968480411,0.6607028968480413,0.6607028968480417,0.6607028968480405,0.6607028968480422,0.6607028968480415,0.660702896848043],&quot;type&quot;:&quot;scatter&quot;,&quot;x&quot;:[6,7,8,9,10,11,12,13,14,15,16,17,18,19,20,21,22,23,24,25,26,27,28,29,30,31,32]},{&quot;showlegend&quot;:false,&quot;mode&quot;:&quot;lines&quot;,&quot;marker&quot;:{&quot;color&quot;:&quot;#FFB5B8&quot;,&quot;line&quot;:{&quot;color&quot;:&quot;#348ABD&quot;,&quot;width&quot;:0.5},&quot;size&quot;:10},&quot;y&quot;:[-0.029900869608860226,-0.2818478998035047,-0.38034036780802544,-0.4090966132327199,-0.42697126597166435,-0.4678618368195743,-0.5116760314090156,-0.523071795739297,-0.5243172011806323,-0.5244566897493358,-0.5244850521261312,-0.5244871537347786,-0.5244872573213112,-0.5244872611336359,-0.5244872612517254,-0.524487261253386,-0.5244872612533982,-0.5244872612533982,-0.524487261253399,-0.5244872612533984,-0.524487261253399,-0.5244872612533993,-0.5244872612533974,-0.5244872612533993,-0.5244872612533982,-0.5244872612533995],&quot;type&quot;:&quot;scatter&quot;,&quot;x&quot;:[7,8,9,10,11,12,13,14,15,16,17,18,19,20,21,22,23,24,25,26,27,28,29,30,31,32]},{&quot;showlegend&quot;:false,&quot;mode&quot;:&quot;lines&quot;,&quot;marker&quot;:{&quot;color&quot;:&quot;#E24A33&quot;,&quot;line&quot;:{&quot;color&quot;:&quot;#348ABD&quot;,&quot;width&quot;:0.5},&quot;size&quot;:10},&quot;y&quot;:[0.012911718745232097,0.2575620906001573,0.39306852913457563,0.40395837986326727,0.40820149300190905,0.4110814906445652,0.46136802304489255,0.5134887726924349,0.5231759427186085,0.5244415395681193,0.5244854666408568,0.524487191181023,0.5244872591613744,0.5244872612187685,0.5244872612530631,0.5244872612533975,0.5244872612533988,0.5244872612533981,0.5244872612533995,0.5244872612533983,0.5244872612533995,0.5244872612533982,0.5244872612534,0.5244872612533988,0.5244872612533983],&quot;type&quot;:&quot;scatter&quot;,&quot;x&quot;:[8,9,10,11,12,13,14,15,16,17,18,19,20,21,22,23,24,25,26,27,28,29,30,31,32]},{&quot;showlegend&quot;:false,&quot;mode&quot;:&quot;lines&quot;,&quot;marker&quot;:{&quot;color&quot;:&quot;#348ABD&quot;,&quot;line&quot;:{&quot;color&quot;:&quot;#348ABD&quot;,&quot;width&quot;:0.5},&quot;size&quot;:10},&quot;y&quot;:[-0.020783778522163416,-0.1112386706776338,-0.24887009170552218,-0.3766057043629582,-0.4027133834671184,-0.40745325685216555,-0.40818729481546007,-0.4083301228288708,-0.4083980338311322,-0.4084106359678104,-0.40841185369409116,-0.40841193216702754,-0.40841193639066165,-0.40841193648966906,-0.4084119364908771,-0.4084119364908859,-0.4084119364908849,-0.40841193649088775,-0.40841193649088653,-0.40841193649088786,-0.4084119364908874,-0.40841193649088753,-0.40841193649088586,-0.40841193649088614],&quot;type&quot;:&quot;scatter&quot;,&quot;x&quot;:[9,10,11,12,13,14,15,16,17,18,19,20,21,22,23,24,25,26,27,28,29,30,31,32]},{&quot;showlegend&quot;:false,&quot;mode&quot;:&quot;lines&quot;,&quot;marker&quot;:{&quot;color&quot;:&quot;#988ED5&quot;,&quot;line&quot;:{&quot;color&quot;:&quot;#348ABD&quot;,&quot;width&quot;:0.5},&quot;size&quot;:10},&quot;y&quot;:[0.029464679661993034,0.1893530914260356,0.2698076737861698,0.321022658381208,0.4042222178714753,0.4076664778417437,0.4082639516010637,0.40840306969159934,0.40841134525059863,0.40841189619467594,0.4084119344321963,0.4084119364313796,0.40841193648988056,0.4084119364908789,0.40841193649088686,0.40841193649088636,0.4084119364908864,0.4084119364908865,0.40841193649088653,0.4084119364908864,0.4084119364908862,0.4084119364908857,0.4084119364908856],&quot;type&quot;:&quot;scatter&quot;,&quot;x&quot;:[10,11,12,13,14,15,16,17,18,19,20,21,22,23,24,25,26,27,28,29,30,31,32]},{&quot;showlegend&quot;:false,&quot;mode&quot;:&quot;lines&quot;,&quot;marker&quot;:{&quot;color&quot;:&quot;#777777&quot;,&quot;line&quot;:{&quot;color&quot;:&quot;#348ABD&quot;,&quot;width&quot;:0.5},&quot;size&quot;:10},&quot;y&quot;:[-0.012427522384929942,-0.13050486202616682,-0.18884571673279812,-0.21917993594412044,-0.23126394910619513,-0.24020396072607644,-0.2876745387959652,-0.3073029359541899,-0.31045282414306535,-0.31082586550855196,-0.31086406189563187,-0.31086566414527717,-0.3108656972744314,-0.31086569769113603,-0.31086569769393324,-0.31086569769393524,-0.3108656976939343,-0.3108656976939352,-0.31086569769393435,-0.31086569769393474,-0.3108656976939347,-0.31086569769393557],&quot;type&quot;:&quot;scatter&quot;,&quot;x&quot;:[11,12,13,14,15,16,17,18,19,20,21,22,23,24,25,26,27,28,29,30,31,32]},{&quot;showlegend&quot;:false,&quot;mode&quot;:&quot;lines&quot;,&quot;marker&quot;:{&quot;color&quot;:&quot;#FBC15E&quot;,&quot;line&quot;:{&quot;color&quot;:&quot;#348ABD&quot;,&quot;width&quot;:0.5},&quot;size&quot;:10},&quot;y&quot;:[0.007825770631958825,0.12609500343105567,0.26217441327974106,0.2879328984537728,0.30270146655734803,0.3099809106478416,0.3107570840710204,0.31085151731710176,0.31086434377744365,0.3108656228923338,0.3108656953005941,0.31086569766201616,0.31086569769369915,0.31086569769393524,0.3108656976939346,0.31086569769393435,0.3108656976939349,0.3108656976939336,0.3108656976939345,0.31086569769393424,0.31086569769393363],&quot;type&quot;:&quot;scatter&quot;,&quot;x&quot;:[12,13,14,15,16,17,18,19,20,21,22,23,24,25,26,27,28,29,30,31,32]},{&quot;showlegend&quot;:false,&quot;mode&quot;:&quot;lines&quot;,&quot;marker&quot;:{&quot;color&quot;:&quot;#8EBA42&quot;,&quot;line&quot;:{&quot;color&quot;:&quot;#348ABD&quot;,&quot;width&quot;:0.5},&quot;size&quot;:10},&quot;y&quot;:[-0.009009661846745357,-0.04591140903597147,-0.08983150919372082,-0.15157810204344496,-0.22355241043751237,-0.2286174106509638,-0.2298436351079536,-0.23015660520248238,-0.2302306886473111,-0.23023707457175951,-0.23023731432969513,-0.2302373199274378,-0.23023731999590516,-0.23023731999597152,-0.23023731999597177,-0.23023731999597133,-0.2302373199959725,-0.23023731999597186,-0.23023731999597208,-0.23023731999597175],&quot;type&quot;:&quot;scatter&quot;,&quot;x&quot;:[13,14,15,16,17,18,19,20,21,22,23,24,25,26,27,28,29,30,31,32]},{&quot;showlegend&quot;:false,&quot;mode&quot;:&quot;lines&quot;,&quot;marker&quot;:{&quot;color&quot;:&quot;#FFB5B8&quot;,&quot;line&quot;:{&quot;color&quot;:&quot;#348ABD&quot;,&quot;width&quot;:0.5},&quot;size&quot;:10},&quot;y&quot;:[0.025342844703726723,0.127379593033126,0.19933469872423665,0.2257663865131452,0.22913337662962346,0.22991735485503934,0.23016949060247643,0.23022882227753433,0.23023672925079405,0.23023730483947658,0.23023731978540918,0.2302373199957223,0.23023731999597186,0.23023731999597188,0.2302373199959717,0.23023731999597208,0.23023731999597158,0.23023731999597163,0.23023731999597125],&quot;type&quot;:&quot;scatter&quot;,&quot;x&quot;:[14,15,16,17,18,19,20,21,22,23,24,25,26,27,28,29,30,31,32]},{&quot;showlegend&quot;:false,&quot;mode&quot;:&quot;lines&quot;,&quot;marker&quot;:{&quot;color&quot;:&quot;#E24A33&quot;,&quot;line&quot;:{&quot;color&quot;:&quot;#348ABD&quot;,&quot;width&quot;:0.5},&quot;size&quot;:10},&quot;y&quot;:[0.003161838365809832,-0.03529259533147377,-0.0931715796608025,-0.1165266111810525,-0.14115255847418823,-0.1554600991837797,-0.1633583553966201,-0.1648042820930118,-0.16491041867106457,-0.16491545703150653,-0.1649155783059045,-0.16491557853019465,-0.16491557853042704,-0.16491557853042868,-0.16491557853042896,-0.16491557853042826,-0.16491557853042896,-0.16491557853042849],&quot;type&quot;:&quot;scatter&quot;,&quot;x&quot;:[15,16,17,18,19,20,21,22,23,24,25,26,27,28,29,30,31,32]},{&quot;showlegend&quot;:false,&quot;mode&quot;:&quot;lines&quot;,&quot;marker&quot;:{&quot;color&quot;:&quot;#348ABD&quot;,&quot;line&quot;:{&quot;color&quot;:&quot;#348ABD&quot;,&quot;width&quot;:0.5},&quot;size&quot;:10},&quot;y&quot;:[0.023577322717617914,0.059332838743270604,0.07788607263062917,0.11071909000691668,0.14615537775359036,0.1598438841118911,0.1640451959955208,0.16486662287285897,0.16491417125503427,0.16491557508687432,0.16491557852691233,0.16491557853040725,0.16491557853042835,0.16491557853042826,0.1649155785304286,0.16491557853042843,0.16491557853042835],&quot;type&quot;:&quot;scatter&quot;,&quot;x&quot;:[16,17,18,19,20,21,22,23,24,25,26,27,28,29,30,31,32]},{&quot;showlegend&quot;:false,&quot;mode&quot;:&quot;lines&quot;,&quot;marker&quot;:{&quot;color&quot;:&quot;#988ED5&quot;,&quot;line&quot;:{&quot;color&quot;:&quot;#348ABD&quot;,&quot;width&quot;:0.5},&quot;size&quot;:10},&quot;y&quot;:[-0.004990360825501855,-0.04391744551750887,-0.07726915885059991,-0.09202305702511115,-0.10761211943475452,-0.1125143222263572,-0.11320912635904586,-0.11328517704852423,-0.11328923293204474,-0.11328924839581783,-0.11328924843012407,-0.11328924843073301,-0.11328924843073436,-0.11328924843073403,-0.11328924843073403,-0.11328924843073408],&quot;type&quot;:&quot;scatter&quot;,&quot;x&quot;:[17,18,19,20,21,22,23,24,25,26,27,28,29,30,31,32]},{&quot;showlegend&quot;:false,&quot;mode&quot;:&quot;lines&quot;,&quot;marker&quot;:{&quot;color&quot;:&quot;#777777&quot;,&quot;line&quot;:{&quot;color&quot;:&quot;#348ABD&quot;,&quot;width&quot;:0.5},&quot;size&quot;:10},&quot;y&quot;:[0.006506354951890004,0.04978193602910846,0.06917300699709099,0.07976782268943232,0.10114456817879218,0.11198306910343803,0.11320359124620599,0.11328875440468168,0.11328924735192898,0.11328924841753303,0.113289248430719,0.11328924843073415,0.11328924843073404,0.11328924843073389,0.11328924843073421],&quot;type&quot;:&quot;scatter&quot;,&quot;x&quot;:[18,19,20,21,22,23,24,25,26,27,28,29,30,31,32]},{&quot;showlegend&quot;:false,&quot;mode&quot;:&quot;lines&quot;,&quot;marker&quot;:{&quot;color&quot;:&quot;#FBC15E&quot;,&quot;line&quot;:{&quot;color&quot;:&quot;#348ABD&quot;,&quot;width&quot;:0.5},&quot;size&quot;:10},&quot;y&quot;:[-0.003972257233918069,-0.026955914779671027,-0.06461612930133964,-0.07154517631166182,-0.07317362617414797,-0.07367233038592139,-0.07374643822002441,-0.07374710109659628,-0.07374710465807383,-0.07374710482968311,-0.07374710483031763,-0.07374710483031785,-0.07374710483031789,-0.07374710483031803],&quot;type&quot;:&quot;scatter&quot;,&quot;x&quot;:[19,20,21,22,23,24,25,26,27,28,29,30,31,32]},{&quot;showlegend&quot;:false,&quot;mode&quot;:&quot;lines&quot;,&quot;marker&quot;:{&quot;color&quot;:&quot;#8EBA42&quot;,&quot;line&quot;:{&quot;color&quot;:&quot;#348ABD&quot;,&quot;width&quot;:0.5},&quot;size&quot;:10},&quot;y&quot;:[0.006842540097730835,0.03280561235075367,0.0673605164545425,0.07256746550336804,0.07353662944881778,0.07374344239101947,0.07374708541222752,0.07374710431324628,0.073747104828956,0.07374710483031711,0.07374710483031804,0.07374710483031796,0.07374710483031804],&quot;type&quot;:&quot;scatter&quot;,&quot;x&quot;:[20,21,22,23,24,25,26,27,28,29,30,31,32]},{&quot;showlegend&quot;:false,&quot;mode&quot;:&quot;lines&quot;,&quot;marker&quot;:{&quot;color&quot;:&quot;#FFB5B8&quot;,&quot;line&quot;:{&quot;color&quot;:&quot;#348ABD&quot;,&quot;width&quot;:0.5},&quot;size&quot;:10},&quot;y&quot;:[-0.004821862891040404,-0.009387595162251837,-0.023420195929962695,-0.040502991004697446,-0.044598521864577786,-0.044676478343763405,-0.04467769341814623,-0.04467791991566007,-0.04467792285607934,-0.04467792286260788,-0.04467792286260952,-0.04467792286260955],&quot;type&quot;:&quot;scatter&quot;,&quot;x&quot;:[21,22,23,24,25,26,27,28,29,30,31,32]},{&quot;showlegend&quot;:false,&quot;mode&quot;:&quot;lines&quot;,&quot;marker&quot;:{&quot;color&quot;:&quot;#E24A33&quot;,&quot;line&quot;:{&quot;color&quot;:&quot;#348ABD&quot;,&quot;width&quot;:0.5},&quot;size&quot;:10},&quot;y&quot;:[0.017490358064262506,0.02663883299346401,0.035741964064074504,0.0442369107143079,0.044671184966841665,0.04467749678099414,0.04467791995336665,0.04467792285693029,0.044677922862607966,0.044677922862609465,0.04467792286260953],&quot;type&quot;:&quot;scatter&quot;,&quot;x&quot;:[22,23,24,25,26,27,28,29,30,31,32]},{&quot;showlegend&quot;:false,&quot;mode&quot;:&quot;lines&quot;,&quot;marker&quot;:{&quot;color&quot;:&quot;#348ABD&quot;,&quot;line&quot;:{&quot;color&quot;:&quot;#348ABD&quot;,&quot;width&quot;:0.5},&quot;size&quot;:10},&quot;y&quot;:[-0.003239371439513729,-0.008325512601355263,-0.011168159689620965,-0.011513751318858838,-0.01236632633011916,-0.024131152517710027,-0.024467870519591144,-0.02447047533856783,-0.024470477661033434,-0.024470477661038603],&quot;type&quot;:&quot;scatter&quot;,&quot;x&quot;:[23,24,25,26,27,28,29,30,31,32]},{&quot;showlegend&quot;:false,&quot;mode&quot;:&quot;lines&quot;,&quot;marker&quot;:{&quot;color&quot;:&quot;#988ED5&quot;,&quot;line&quot;:{&quot;color&quot;:&quot;#348ABD&quot;,&quot;width&quot;:0.5},&quot;size&quot;:10},&quot;y&quot;:[0.013191209586934973,0.023543265046394642,0.024416975263432426,0.024461598963612295,0.024470286150502972,0.02447047645411085,0.024470477660011588,0.024470477661038575,0.024470477661038516],&quot;type&quot;:&quot;scatter&quot;,&quot;x&quot;:[24,25,26,27,28,29,30,31,32]},{&quot;showlegend&quot;:false,&quot;mode&quot;:&quot;lines&quot;,&quot;marker&quot;:{&quot;color&quot;:&quot;#777777&quot;,&quot;line&quot;:{&quot;color&quot;:&quot;#348ABD&quot;,&quot;width&quot;:0.5},&quot;size&quot;:10},&quot;y&quot;:[0.0017080638927974101,-0.0001853526606932198,-0.010966239040125305,-0.011508802805207703,-0.011513354198444525,-0.011513543546070936,-0.011513544359026528,-0.011513544359034589],&quot;type&quot;:&quot;scatter&quot;,&quot;x&quot;:[25,26,27,28,29,30,31,32]},{&quot;showlegend&quot;:false,&quot;mode&quot;:&quot;lines&quot;,&quot;marker&quot;:{&quot;color&quot;:&quot;#FBC15E&quot;,&quot;line&quot;:{&quot;color&quot;:&quot;#348ABD&quot;,&quot;width&quot;:0.5},&quot;size&quot;:10},&quot;y&quot;:[0.009849411999089445,0.010830413993566632,0.011454201357748356,0.01151194322024421,0.011513538220613,0.011513544358971011,0.011513544359034612],&quot;type&quot;:&quot;scatter&quot;,&quot;x&quot;:[26,27,28,29,30,31,32]},{&quot;showlegend&quot;:false,&quot;mode&quot;:&quot;lines&quot;,&quot;marker&quot;:{&quot;color&quot;:&quot;#8EBA42&quot;,&quot;line&quot;:{&quot;color&quot;:&quot;#348ABD&quot;,&quot;width&quot;:0.5},&quot;size&quot;:10},&quot;y&quot;:[0.00019364718378930723,-0.0007196896505022826,-0.003280162625847765,-0.004170007179909976,-0.004195896188352092,-0.004195898090027206],&quot;type&quot;:&quot;scatter&quot;,&quot;x&quot;:[27,28,29,30,31,32]},{&quot;showlegend&quot;:false,&quot;mode&quot;:&quot;lines&quot;,&quot;marker&quot;:{&quot;color&quot;:&quot;#FFB5B8&quot;,&quot;line&quot;:{&quot;color&quot;:&quot;#348ABD&quot;,&quot;width&quot;:0.5},&quot;size&quot;:10},&quot;y&quot;:[0.002902218133331691,0.004035262311016117,0.004191386209317392,0.004195897716820708,0.00419589809002721],&quot;type&quot;:&quot;scatter&quot;,&quot;x&quot;:[28,29,30,31,32]},{&quot;showlegend&quot;:false,&quot;mode&quot;:&quot;lines&quot;,&quot;marker&quot;:{&quot;color&quot;:&quot;#E24A33&quot;,&quot;line&quot;:{&quot;color&quot;:&quot;#348ABD&quot;,&quot;width&quot;:0.5},&quot;size&quot;:10},&quot;y&quot;:[-0.000186576380066983,-0.0007441730349073575,-0.000906110987321613,-0.0009063139874458669],&quot;type&quot;:&quot;scatter&quot;,&quot;x&quot;:[29,30,31,32]},{&quot;showlegend&quot;:false,&quot;mode&quot;:&quot;lines&quot;,&quot;marker&quot;:{&quot;color&quot;:&quot;#348ABD&quot;,&quot;line&quot;:{&quot;color&quot;:&quot;#348ABD&quot;,&quot;width&quot;:0.5},&quot;size&quot;:10},&quot;y&quot;:[0.0004951554702788432,0.0009057059342779532,0.000906313987445852],&quot;type&quot;:&quot;scatter&quot;,&quot;x&quot;:[30,31,32]},{&quot;showlegend&quot;:false,&quot;mode&quot;:&quot;lines&quot;,&quot;marker&quot;:{&quot;color&quot;:&quot;#988ED5&quot;,&quot;line&quot;:{&quot;color&quot;:&quot;#348ABD&quot;,&quot;width&quot;:0.5},&quot;size&quot;:10},&quot;y&quot;:[2.322348176128803e-5,-3.356718472022313e-5],&quot;type&quot;:&quot;scatter&quot;,&quot;x&quot;:[31,32]},{&quot;showlegend&quot;:false,&quot;mode&quot;:&quot;lines&quot;,&quot;marker&quot;:{&quot;color&quot;:&quot;#777777&quot;,&quot;line&quot;:{&quot;color&quot;:&quot;#348ABD&quot;,&quot;width&quot;:0.5},&quot;size&quot;:10},&quot;y&quot;:[3.356718472018184e-5],&quot;type&quot;:&quot;scatter&quot;,&quot;x&quot;:[32]},{&quot;marker&quot;:{&quot;color&quot;:&quot;#FBC15E&quot;,&quot;line&quot;:{&quot;color&quot;:&quot;#348ABD&quot;,&quot;width&quot;:0.5},&quot;size&quot;:10},&quot;mode&quot;:&quot;markers&quot;,&quot;y&quot;:[-1.000000000000001,-0.8186700681413849,-0.6607028968480407,-0.5244872612533984,-0.40841193649088625,-0.3108656976939359,-0.2302373199959716,-0.1649155785304285,-0.11328924843073436,-0.07374710483031796,-0.04467792286260938,-0.02447047766103846,-0.01151354435903464,-0.0041958980900272,-0.0009063139874458897,-3.3567184720209884e-5,3.356718472014545e-5,0.00090631398744589,0.004195898090027198,0.011513544359034605,0.02447047766103854,0.04467792286260956,0.07374710483031792,0.1132892484307341,0.16491557853042865,0.23023731999597136,0.31086569769393413,0.40841193649088564,0.5244872612533996,0.6607028968480405,0.8186700681413858,0.9999999999999974],&quot;type&quot;:&quot;scatter&quot;,&quot;name&quot;:&quot;Exact&quot;,&quot;x&quot;:[32.0,32.0,32.0,32.0,32.0,32.0,32.0,32.0,32.0,32.0,32.0,32.0,32.0,32.0,32.0,32.0,32.0,32.0,32.0,32.0,32.0,32.0,32.0,32.0,32.0,32.0,32.0,32.0,32.0,32.0,32.0,32.0]}],{&quot;xaxis&quot;:{&quot;showgrid&quot;:true,&quot;gridcolor&quot;:&quot;#E5E5E5&quot;,&quot;titlefont&quot;:{&quot;color&quot;:&quot;#555555&quot;,&quot;size&quot;:18},&quot;zeroline&quot;:false,&quot;ticks&quot;:&quot;inside&quot;,&quot;title&quot;:&quot;Iteration&quot;,&quot;linewidth&quot;:1.0,&quot;mirror&quot;:true,&quot;linecolor&quot;:&quot;black&quot;},&quot;titlefont&quot;:{&quot;size&quot;:18},&quot;font&quot;:{&quot;size&quot;:16},&quot;height&quot;:400,&quot;margin&quot;:{&quot;l&quot;:80,&quot;b&quot;:50,&quot;r&quot;:50,&quot;t&quot;:60},&quot;yaxis&quot;:{&quot;showgrid&quot;:true,&quot;gridcolor&quot;:&quot;#E5E5E5&quot;,&quot;titlefont&quot;:{&quot;color&quot;:&quot;#555555&quot;,&quot;size&quot;:18},&quot;zeroline&quot;:false,&quot;ticks&quot;:&quot;inside&quot;,&quot;title&quot;:&quot;Eigenvalue estimates&quot;,&quot;linewidth&quot;:1.0,&quot;mirror&quot;:true,&quot;linecolor&quot;:&quot;black&quot;},&quot;width&quot;:500},{}); gd.on(&quot;plotly_hover&quot;,(function (data){var filtered_data=WebIO.CommandSets.Plotly.filterEventData(gd,data,&quot;hover&quot;); return !(filtered_data.isnil) ? (WebIO.setval({&quot;name&quot;:&quot;hover&quot;,&quot;scope&quot;:&quot;scope-3947af19-9a61-4289-b24b-a8041c76aa3e&quot;,&quot;id&quot;:&quot;ob_01&quot;,&quot;type&quot;:&quot;observable&quot;},filtered_data.out)) : undefined})); gd.on(&quot;plotly_unhover&quot;,(function (){return WebIO.setval({&quot;name&quot;:&quot;hover&quot;,&quot;scope&quot;:&quot;scope-3947af19-9a61-4289-b24b-a8041c76aa3e&quot;,&quot;id&quot;:&quot;ob_01&quot;,&quot;type&quot;:&quot;observable&quot;},{})})); gd.on(&quot;plotly_selected&quot;,(function (data){var filtered_data=WebIO.CommandSets.Plotly.filterEventData(gd,data,&quot;selected&quot;); return !(filtered_data.isnil) ? (WebIO.setval({&quot;name&quot;:&quot;selected&quot;,&quot;scope&quot;:&quot;scope-3947af19-9a61-4289-b24b-a8041c76aa3e&quot;,&quot;id&quot;:&quot;ob_02&quot;,&quot;type&quot;:&quot;observable&quot;},filtered_data.out)) : undefined})); gd.on(&quot;plotly_deselect&quot;,(function (){return WebIO.setval({&quot;name&quot;:&quot;selected&quot;,&quot;scope&quot;:&quot;scope-3947af19-9a61-4289-b24b-a8041c76aa3e&quot;,&quot;id&quot;:&quot;ob_02&quot;,&quot;type&quot;:&quot;observable&quot;},{})})); gd.on(&quot;plotly_relayout&quot;,(function (data){var filtered_data=WebIO.CommandSets.Plotly.filterEventData(gd,data,&quot;relayout&quot;); return !(filtered_data.isnil) ? (WebIO.setval({&quot;name&quot;:&quot;relayout&quot;,&quot;scope&quot;:&quot;scope-3947af19-9a61-4289-b24b-a8041c76aa3e&quot;,&quot;id&quot;:&quot;ob_04&quot;,&quot;type&quot;:&quot;observable&quot;},filtered_data.out)) : undefined})); return gd.on(&quot;plotly_click&quot;,(function (data){var filtered_data=WebIO.CommandSets.Plotly.filterEventData(gd,data,&quot;click&quot;); return !(filtered_data.isnil) ? (WebIO.setval({&quot;name&quot;:&quot;click&quot;,&quot;scope&quot;:&quot;scope-3947af19-9a61-4289-b24b-a8041c76aa3e&quot;,&quot;id&quot;:&quot;ob_03&quot;,&quot;type&quot;:&quot;observable&quot;},filtered_data.out)) : undefined}))})]},&quot;_downloadImage&quot;:[(function (options){return this.Plotly.downloadImage(this.plotElem,options)})],&quot;_commands&quot;:[(function (args){var fn=args.shift(); var elem=this.plotElem; var Plotly=this.Plotly; args.unshift(elem); return Plotly[fn].apply(this,args)})]},&quot;systemjs_options&quot;:null,&quot;observables&quot;:{&quot;_toImage&quot;:{&quot;sync&quot;:false,&quot;id&quot;:&quot;ob_08&quot;,&quot;value&quot;:{}},&quot;hover&quot;:{&quot;sync&quot;:false,&quot;id&quot;:&quot;ob_01&quot;,&quot;value&quot;:{}},&quot;selected&quot;:{&quot;sync&quot;:false,&quot;id&quot;:&quot;ob_02&quot;,&quot;value&quot;:{}},&quot;__gd_contents&quot;:{&quot;sync&quot;:false,&quot;id&quot;:&quot;ob_06&quot;,&quot;value&quot;:{}},&quot;click&quot;:{&quot;sync&quot;:false,&quot;id&quot;:&quot;ob_03&quot;,&quot;value&quot;:{}},&quot;image&quot;:{&quot;sync&quot;:true,&quot;id&quot;:&quot;ob_05&quot;,&quot;value&quot;:&quot;&quot;},&quot;__get_gd_contents&quot;:{&quot;sync&quot;:false,&quot;id&quot;:&quot;ob_10&quot;,&quot;value&quot;:&quot;&quot;},&quot;_downloadImage&quot;:{&quot;sync&quot;:false,&quot;id&quot;:&quot;ob_09&quot;,&quot;value&quot;:{}},&quot;relayout&quot;:{&quot;sync&quot;:false,&quot;id&quot;:&quot;ob_04&quot;,&quot;value&quot;:{}},&quot;_commands&quot;:{&quot;sync&quot;:false,&quot;id&quot;:&quot;ob_07&quot;,&quot;value&quot;:[]}}},&quot;children&quot;:[{&quot;props&quot;:{&quot;id&quot;:&quot;plot-4842d58a-bc91-4c5a-b38c-e2aaaafe1e21&quot;},&quot;nodeType&quot;:&quot;DOM&quot;,&quot;type&quot;:&quot;node&quot;,&quot;instanceArgs&quot;:{&quot;namespace&quot;:&quot;html&quot;,&quot;tag&quot;:&quot;div&quot;},&quot;children&quot;:[]}]})</unsafe-script>"
      ],
      "text/plain": [
       "data: [\n",
       "  \"scatter with fields marker, mode, showlegend, type, x, and y\",\n",
       "  \"scatter with fields marker, mode, showlegend, type, x, and y\",\n",
       "  \"scatter with fields marker, mode, showlegend, type, x, and y\",\n",
       "  \"scatter with fields marker, mode, showlegend, type, x, and y\",\n",
       "  \"scatter with fields marker, mode, showlegend, type, x, and y\",\n",
       "  \"scatter with fields marker, mode, showlegend, type, x, and y\",\n",
       "  \"scatter with fields marker, mode, showlegend, type, x, and y\",\n",
       "  \"scatter with fields marker, mode, showlegend, type, x, and y\",\n",
       "  \"scatter with fields marker, mode, showlegend, type, x, and y\",\n",
       "  \"scatter with fields marker, mode, showlegend, type, x, and y\",\n",
       "  \"scatter with fields marker, mode, showlegend, type, x, and y\",\n",
       "  \"scatter with fields marker, mode, showlegend, type, x, and y\",\n",
       "  \"scatter with fields marker, mode, showlegend, type, x, and y\",\n",
       "  \"scatter with fields marker, mode, showlegend, type, x, and y\",\n",
       "  \"scatter with fields marker, mode, showlegend, type, x, and y\",\n",
       "  \"scatter with fields marker, mode, showlegend, type, x, and y\",\n",
       "  \"scatter with fields marker, mode, showlegend, type, x, and y\",\n",
       "  \"scatter with fields marker, mode, showlegend, type, x, and y\",\n",
       "  \"scatter with fields marker, mode, showlegend, type, x, and y\",\n",
       "  \"scatter with fields marker, mode, showlegend, type, x, and y\",\n",
       "  \"scatter with fields marker, mode, showlegend, type, x, and y\",\n",
       "  \"scatter with fields marker, mode, showlegend, type, x, and y\",\n",
       "  \"scatter with fields marker, mode, showlegend, type, x, and y\",\n",
       "  \"scatter with fields marker, mode, showlegend, type, x, and y\",\n",
       "  \"scatter with fields marker, mode, showlegend, type, x, and y\",\n",
       "  \"scatter with fields marker, mode, showlegend, type, x, and y\",\n",
       "  \"scatter with fields marker, mode, showlegend, type, x, and y\",\n",
       "  \"scatter with fields marker, mode, showlegend, type, x, and y\",\n",
       "  \"scatter with fields marker, mode, showlegend, type, x, and y\",\n",
       "  \"scatter with fields marker, mode, showlegend, type, x, and y\",\n",
       "  \"scatter with fields marker, mode, showlegend, type, x, and y\",\n",
       "  \"scatter with fields marker, mode, showlegend, type, x, and y\",\n",
       "  \"scatter with fields marker, mode, name, type, x, and y\"\n",
       "]\n",
       "\n",
       "layout: \"layout with fields font, height, margin, titlefont, width, xaxis, and yaxis\"\n",
       "\n"
      ]
     },
     "execution_count": 6,
     "metadata": {},
     "output_type": "execute_result"
    }
   ],
   "source": [
    "L = zeros(n,n)\n",
    "for k=1:n\n",
    "    x = eig_k(Tk,k)\n",
    "    sort!(x)\n",
    "    for l=1:k\n",
    "        if l%2 == 1\n",
    "            L[l,k] = x[(l+1)>>1]\n",
    "        else\n",
    "            L[l,k] = x[k-(l-2)>>1]\n",
    "        end\n",
    "    end\n",
    "end\n",
    "\n",
    "t = Array{PlotlyJS.AbstractTrace,1}()\n",
    "for k=1:n\n",
    "    push!(t,scatter(x=k:n,y=L[k,k:n],mode=\"lines\",showlegend=false))\n",
    "end\n",
    "push!(t,scatter(x=n*ones(n),y=D,mode=\"markers\",name=\"Exact\"))\n",
    "\n",
    "p = plot(t,Layout(xaxis_title=\"Iteration\",yaxis_title=\"Eigenvalue estimates\",\n",
    "        width=500,height=400,margin_l=80))"
   ]
  },
  {
   "cell_type": "code",
   "execution_count": 7,
   "metadata": {},
   "outputs": [],
   "source": [
    "if output\n",
    "    plotToPDF(p,\"lanczos_cro2\")\n",
    "end"
   ]
  }
 ],
 "metadata": {
  "anaconda-cloud": {},
  "kernelspec": {
   "display_name": "Julia 1.0.0",
   "language": "julia",
   "name": "julia-1.0"
  },
  "language_info": {
   "file_extension": ".jl",
   "mimetype": "application/julia",
   "name": "julia",
   "version": "1.0.0"
  }
 },
 "nbformat": 4,
 "nbformat_minor": 1
}
