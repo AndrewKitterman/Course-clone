{
 "cells": [
  {
   "cell_type": "code",
   "execution_count": 1,
   "metadata": {},
   "outputs": [],
   "source": [
    "using Printf\n",
    "using Random\n",
    "using LinearAlgebra"
   ]
  },
  {
   "cell_type": "code",
   "execution_count": 2,
   "metadata": {},
   "outputs": [
    {
     "data": {
      "text/plain": [
       "eig_k (generic function with 1 method)"
      ]
     },
     "execution_count": 2,
     "metadata": {},
     "output_type": "execute_result"
    }
   ],
   "source": [
    "function compute_Tk(A,q,kmax)\n",
    "    T = zeros(kmax, kmax)\n",
    "    r = copy(q[:,1])\n",
    "    beta = norm(r)\n",
    "    q1 = zeros(n)\n",
    "\n",
    "    for k = 1:kmax        \n",
    "        q0 = copy(q1)\n",
    "        q1 = r/beta\n",
    "        r = A * q1\n",
    "        alpha = dot(q1, r)\n",
    "        T[k,k] = alpha\n",
    "        if k > 1\n",
    "            T[k-1,k] = beta\n",
    "            T[k,k-1] = beta\n",
    "        end\n",
    "        r = r - alpha*q1 - beta*q0\n",
    "        beta = norm(r)\n",
    "    end\n",
    "    \n",
    "    return T\n",
    "end\n",
    "\n",
    "function eig_k(T,k)\n",
    "    Tk = T[1:k,1:k]\n",
    "    L = eigen(Tk).values # Eigenvalue estimates at step k        \n",
    "    return L    \n",
    "end"
   ]
  },
  {
   "cell_type": "code",
   "execution_count": 3,
   "metadata": {},
   "outputs": [],
   "source": [
    "n = 32\n",
    "rng = MersenneTwister(18);\n",
    "\n",
    "Q, = qr(rand(n,n))\n",
    "\n",
    "# D = cos.(LinRange(0,π,n))\n",
    "# D[div(n,2)] = 2\n",
    "# D = cos.(LinRange(0,π/2,n))\n",
    "D = LinRange(-1,1,n).^3\n",
    "\n",
    "\n",
    "x = LinRange(0,1,n)\n",
    "# D = x\n",
    "# D = x.^2\n",
    "# D = x.^2/2 - x.^3/3\n",
    "# D = x.^5/5 - x.^4/2 + x.^3/3\n",
    "# D = x.^9/9 - x.^8/2 + 6/7*x.^7 - 2/3*x.^6 + x.^5/5\n",
    "\n",
    "A = Q * diagm(0 => D) * Q'\n",
    "\n",
    "q = zeros(n,n)\n",
    "# Random starting vector\n",
    "q[:,1] = rand(n)\n",
    "q[:,1] /= norm(q[:,1])\n",
    "\n",
    "Tk = compute_Tk(A,q,n);"
   ]
  },
  {
   "cell_type": "code",
   "execution_count": 4,
   "metadata": {},
   "outputs": [
    {
     "name": "stdout",
     "output_type": "stream",
     "text": [
      "norm(D - D1) / norm(D) = 0.35052414949081645\n"
     ]
    },
    {
     "data": {
      "text/plain": [
       "0.35052414949081645"
      ]
     },
     "execution_count": 4,
     "metadata": {},
     "output_type": "execute_result"
    }
   ],
   "source": [
    "# Testing accuracy\n",
    "D = eigen(A).values; D1 = eigen(Tk).values\n",
    "sort!(D); sort!(D1)\n",
    "@show norm(D-D1) / norm(D)"
   ]
  },
  {
   "cell_type": "code",
   "execution_count": 5,
   "metadata": {},
   "outputs": [
    {
     "data": {
      "text/html": [
       "    <script class='js-collapse-script'>\n",
       "        var curMatch =\n",
       "            window.location.href\n",
       "            .match(/(.*?)\\/notebooks\\/.*\\.ipynb/);\n",
       "\n",
       "        curMatch = curMatch ||\n",
       "            window.location.href\n",
       "            .match(/(.*?)\\/apps\\/.*\\.ipynb/);\n",
       "\n",
       "        if ( curMatch ) {\n",
       "            $('head').append('<base href=\"' + curMatch[1] + '/\">');\n",
       "        }\n",
       "    </script>\n"
      ],
      "text/plain": [
       "HTML{String}(\"    <script class='js-collapse-script'>\\n        var curMatch =\\n            window.location.href\\n            .match(/(.*?)\\\\/notebooks\\\\/.*\\\\.ipynb/);\\n\\n        curMatch = curMatch ||\\n            window.location.href\\n            .match(/(.*?)\\\\/apps\\\\/.*\\\\.ipynb/);\\n\\n        if ( curMatch ) {\\n            \\$('head').append('<base href=\\\"' + curMatch[1] + '/\\\">');\\n        }\\n    </script>\\n\")"
      ]
     },
     "metadata": {},
     "output_type": "display_data"
    },
    {
     "data": {
      "text/html": [
       "<script class='js-collapse-script' src='/assetserver/f562d6507acc94a42cdf3b074249b311a179837e-assets/webio/dist/bundle.js'></script>"
      ],
      "text/plain": [
       "HTML{String}(\"<script class='js-collapse-script' src='/assetserver/f562d6507acc94a42cdf3b074249b311a179837e-assets/webio/dist/bundle.js'></script>\")"
      ]
     },
     "metadata": {},
     "output_type": "display_data"
    },
    {
     "data": {
      "text/html": [
       "<script class='js-collapse-script' src='/assetserver/f562d6507acc94a42cdf3b074249b311a179837e-assets/providers/ijulia_setup.js'></script>"
      ],
      "text/plain": [
       "HTML{String}(\"<script class='js-collapse-script' src='/assetserver/f562d6507acc94a42cdf3b074249b311a179837e-assets/providers/ijulia_setup.js'></script>\")"
      ]
     },
     "metadata": {},
     "output_type": "display_data"
    },
    {
     "data": {
      "text/html": [
       "  <script class='js-collapse-script'>\n",
       "    $('.js-collapse-script').parent('.output_subarea').css('padding', '0');\n",
       "  </script>\n"
      ],
      "text/plain": [
       "HTML{String}(\"  <script class='js-collapse-script'>\\n    \\$('.js-collapse-script').parent('.output_subarea').css('padding', '0');\\n  </script>\\n\")"
      ]
     },
     "metadata": {},
     "output_type": "display_data"
    },
    {
     "data": {
      "text/plain": [
       "false"
      ]
     },
     "execution_count": 5,
     "metadata": {},
     "output_type": "execute_result"
    }
   ],
   "source": [
    "include(\"../load_plot_pkg.jl\")\n",
    "output = false"
   ]
  },
  {
   "cell_type": "code",
   "execution_count": 6,
   "metadata": {
    "scrolled": true
   },
   "outputs": [
    {
     "data": {
      "text/html": [
       "<div class='display:none'></div><unsafe-script style='display:none'>\n",
       "WebIO.mount(this.previousSibling,{&quot;props&quot;:{},&quot;nodeType&quot;:&quot;Scope&quot;,&quot;type&quot;:&quot;node&quot;,&quot;instanceArgs&quot;:{&quot;imports&quot;:{&quot;data&quot;:[{&quot;name&quot;:&quot;Plotly&quot;,&quot;type&quot;:&quot;js&quot;,&quot;url&quot;:&quot;/assetserver/dcb3dd15c490ea36fd746b01c9e0f36d13203a53-plotly-latest.min.js&quot;},{&quot;name&quot;:null,&quot;type&quot;:&quot;js&quot;,&quot;url&quot;:&quot;/assetserver/5c06fe4bbe8b3ce13970b2cbc0747b7077b0e37b-plotly_webio.bundle.js&quot;}],&quot;type&quot;:&quot;async_block&quot;},&quot;id&quot;:&quot;scope-3947af19-9a61-4289-b24b-a8041c76aa3e&quot;,&quot;handlers&quot;:{&quot;_toImage&quot;:[(function (options){return this.Plotly.toImage(this.plotElem,options).then((function (data){return WebIO.setval({&quot;name&quot;:&quot;image&quot;,&quot;scope&quot;:&quot;scope-3947af19-9a61-4289-b24b-a8041c76aa3e&quot;,&quot;id&quot;:&quot;ob_05&quot;,&quot;type&quot;:&quot;observable&quot;},data)}))})],&quot;__get_gd_contents&quot;:[(function (prop){prop==&quot;data&quot; ? (WebIO.setval({&quot;name&quot;:&quot;__gd_contents&quot;,&quot;scope&quot;:&quot;scope-3947af19-9a61-4289-b24b-a8041c76aa3e&quot;,&quot;id&quot;:&quot;ob_06&quot;,&quot;type&quot;:&quot;observable&quot;},this.plotElem.data)) : undefined; return prop==&quot;layout&quot; ? (WebIO.setval({&quot;name&quot;:&quot;__gd_contents&quot;,&quot;scope&quot;:&quot;scope-3947af19-9a61-4289-b24b-a8041c76aa3e&quot;,&quot;id&quot;:&quot;ob_06&quot;,&quot;type&quot;:&quot;observable&quot;},this.plotElem.layout)) : undefined})],&quot;_promises&quot;:{&quot;importsLoaded&quot;:[(function (Plotly){var gd=this.dom.querySelector(&quot;#plot-3b7e2541-17ca-4f12-be2e-77592ed9558c&quot;); this.plotElem=gd; this.Plotly=Plotly; (window.Blink!==undefined) ? (gd.style.width=&quot;100%&quot;, gd.style.height=&quot;100vh&quot;, gd.style.marginLeft=&quot;0%&quot;, gd.style.marginTop=&quot;0vh&quot;) : undefined; window.onresize=(function (){return Plotly.Plots.resize(gd)}); Plotly.newPlot(gd,[{&quot;showlegend&quot;:false,&quot;mode&quot;:&quot;lines&quot;,&quot;marker&quot;:{&quot;color&quot;:&quot;#E24A33&quot;,&quot;line&quot;:{&quot;color&quot;:&quot;#348ABD&quot;,&quot;width&quot;:0.5},&quot;size&quot;:10},&quot;y&quot;:[-0.673028845681566,-0.9639606440868287,-0.9924771427426288,-0.9957820588857788,-0.9985295152948326,-0.9997160308577678,-0.999945757116419,-0.9999867925559391,-0.9999979138489927,-0.9999996021740087,-0.9999999528658052,-0.9999999964333901,-0.9999999996798778,-0.9999999999855631,-0.9999999999994134,-0.9999999999999769,-0.9999999999999987,-0.9999999999999987,-1.0000000000000009,-1.0000000000000009,-0.9999999999999996,-0.9999999999999991,-1.0,-1.0,-0.9999999999999987,-1.0000000000000002,-0.999999999999999,-0.9999999999999991,-1.0,-0.9999999999999999,-0.9999999999999999,-0.9999999999999992],&quot;type&quot;:&quot;scatter&quot;,&quot;x&quot;:[1,2,3,4,5,6,7,8,9,10,11,12,13,14,15,16,17,18,19,20,21,22,23,24,25,26,27,28,29,30,31,32]},{&quot;showlegend&quot;:false,&quot;mode&quot;:&quot;lines&quot;,&quot;marker&quot;:{&quot;color&quot;:&quot;#348ABD&quot;,&quot;line&quot;:{&quot;color&quot;:&quot;#348ABD&quot;,&quot;width&quot;:0.5},&quot;size&quot;:10},&quot;y&quot;:[0.19248301632760573,0.6165326266517577,0.714984303438953,0.8582749785864493,0.9438349866095845,0.9777419294421605,0.9920782054930509,0.9976754490189135,0.9995098572896481,0.9999615506221594,0.9999975818289052,0.9999998424223288,0.9999999921217346,0.9999999996221965,0.9999999999865383,0.9999999999995487,0.9999999999999933,1.0,1.0,1.0,1.0,1.0,1.0,1.0,1.000000000000001,1.0,1.0,1.0,1.0,1.0,1.0],&quot;type&quot;:&quot;scatter&quot;,&quot;x&quot;:[2,3,4,5,6,7,8,9,10,11,12,13,14,15,16,17,18,19,20,21,22,23,24,25,26,27,28,29,30,31,32]},{&quot;showlegend&quot;:false,&quot;mode&quot;:&quot;lines&quot;,&quot;marker&quot;:{&quot;color&quot;:&quot;#988ED5&quot;,&quot;line&quot;:{&quot;color&quot;:&quot;#348ABD&quot;,&quot;width&quot;:0.5},&quot;size&quot;:10},&quot;y&quot;:[-0.05110342983927152,-0.32684303803638437,-0.7053896652529099,-0.7939328961754494,-0.8110675086747094,-0.8155272425514906,-0.8177304394988085,-0.8183431003190684,-0.8185949719401464,-0.8186599035594069,-0.818668543300141,-0.8186699574921559,-0.8186700612192042,-0.8186700677173115,-0.8186700681190775,-0.8186700681408496,-0.8186700681413814,-0.8186700681413865,-0.8186700681413854,-0.8186700681413843,-0.8186700681413848,-0.8186700681413845,-0.8186700681413859,-0.9708749977286243,-0.9996272086073731,-0.9999999602666051,-0.9999999917138208,-0.999999994734281,-0.9999999999950878,-0.9999999999999857],&quot;type&quot;:&quot;scatter&quot;,&quot;x&quot;:[3,4,5,6,7,8,9,10,11,12,13,14,15,16,17,18,19,20,21,22,23,24,25,26,27,28,29,30,31,32]},{&quot;showlegend&quot;:false,&quot;mode&quot;:&quot;lines&quot;,&quot;marker&quot;:{&quot;color&quot;:&quot;#777777&quot;,&quot;line&quot;:{&quot;color&quot;:&quot;#348ABD&quot;,&quot;width&quot;:0.5},&quot;size&quot;:10},&quot;y&quot;:[0.08198220265564071,0.505724226169342,0.6057376792352515,0.672062544215016,0.7358807777409024,0.7787049129143774,0.805100173926069,0.8169563390241644,0.8184994171299106,0.8186529745280029,0.8186686845768555,0.8186699616743588,0.8186700622774927,0.8186700678408431,0.8186700681346224,0.8186700681413467,0.8186700681413855,0.8186700681413857,0.8186700681413854,0.8186700681413852,0.818670068141385,0.8186700681413851,0.8186700681413839,0.9745238068116326,0.9999973917232746,0.9999995349013449,0.9999997016663962,0.9999999996504062,0.9999999999972898],&quot;type&quot;:&quot;scatter&quot;,&quot;x&quot;:[4,5,6,7,8,9,10,11,12,13,14,15,16,17,18,19,20,21,22,23,24,25,26,27,28,29,30,31,32]},{&quot;showlegend&quot;:false,&quot;mode&quot;:&quot;lines&quot;,&quot;marker&quot;:{&quot;color&quot;:&quot;#FBC15E&quot;,&quot;line&quot;:{&quot;color&quot;:&quot;#348ABD&quot;,&quot;width&quot;:0.5},&quot;size&quot;:10},&quot;y&quot;:[-0.033935824118497715,-0.12931005239350923,-0.26031275654952557,-0.3994726473904888,-0.5502787358524843,-0.5982740883838844,-0.6353071016071556,-0.6544951757019863,-0.6590420579197305,-0.6604889947098167,-0.6606807465987445,-0.6607006316586388,-0.6607027036149409,-0.6607028893811868,-0.6607028967749975,-0.6607028968475936,-0.6607028968480384,-0.6607028968480417,-0.6607028968480417,-0.6607028968480411,-0.6607028968480415,-0.8186700681413854,-0.8186700681413868,-0.8186700681413863,-0.8186700681413852,-0.8186700681413848,-0.8186700681413855,-0.8186700681413842],&quot;type&quot;:&quot;scatter&quot;,&quot;x&quot;:[5,6,7,8,9,10,11,12,13,14,15,16,17,18,19,20,21,22,23,24,25,26,27,28,29,30,31,32]},{&quot;showlegend&quot;:false,&quot;mode&quot;:&quot;lines&quot;,&quot;marker&quot;:{&quot;color&quot;:&quot;#8EBA42&quot;,&quot;line&quot;:{&quot;color&quot;:&quot;#348ABD&quot;,&quot;width&quot;:0.5},&quot;size&quot;:10},&quot;y&quot;:[0.08224512503824344,0.42347565654670816,0.5330906431217386,0.5807214071668891,0.6245920645149585,0.6541930006209385,0.6596443630847775,0.6605291848909556,0.6606780907877525,0.6606995803857626,0.6607025957180597,0.6607028720972953,0.6607028959697689,0.6607028968402413,0.6607028968479991,0.6607028968480414,0.6607028968480415,0.6607028968480413,0.6607028968480415,0.6607028968480417,0.6607028968480402,0.8186700681413857,0.8186700681413857,0.8186700681413855,0.8186700681413857,0.8186700681413854,0.8186700681413853],&quot;type&quot;:&quot;scatter&quot;,&quot;x&quot;:[6,7,8,9,10,11,12,13,14,15,16,17,18,19,20,21,22,23,24,25,26,27,28,29,30,31,32]},{&quot;showlegend&quot;:false,&quot;mode&quot;:&quot;lines&quot;,&quot;marker&quot;:{&quot;color&quot;:&quot;#FFB5B8&quot;,&quot;line&quot;:{&quot;color&quot;:&quot;#348ABD&quot;,&quot;width&quot;:0.5},&quot;size&quot;:10},&quot;y&quot;:[-0.004373977934902795,-0.09394606373155812,-0.20917211691402549,-0.254776998775897,-0.42378812890595596,-0.49257390914191856,-0.5099675575391516,-0.5209248439857861,-0.5238115777992542,-0.5243600584440917,-0.5244681106337918,-0.5244859842147922,-0.5244872405134393,-0.5244872610461813,-0.5244872612510638,-0.5244872612533351,-0.524487261253398,-0.524487261253398,-0.5244872612533984,-0.6607028968480423,-0.6607028968480397,-0.6607028968480406,-0.6607028968480406,-0.6607028968480404,-0.8184956036148137,-0.818669294728642],&quot;type&quot;:&quot;scatter&quot;,&quot;x&quot;:[7,8,9,10,11,12,13,14,15,16,17,18,19,20,21,22,23,24,25,26,27,28,29,30,31,32]},{&quot;showlegend&quot;:false,&quot;mode&quot;:&quot;lines&quot;,&quot;marker&quot;:{&quot;color&quot;:&quot;#E24A33&quot;,&quot;line&quot;:{&quot;color&quot;:&quot;#348ABD&quot;,&quot;width&quot;:0.5},&quot;size&quot;:10},&quot;y&quot;:[0.068370224669282,0.2931912045542212,0.4636819714312257,0.5127626527950013,0.5212568292916617,0.5235127163500606,0.5242002573034481,0.5244097574563575,0.5244740208940125,0.5244853678173158,0.5244871483093174,0.5244872596353034,0.5244872612394366,0.5244872612532584,0.5244872612533955,0.5244872612533993,0.5244872612533991,0.5244872612533993,0.5244872612533984,0.6607028968480417,0.660702896848042,0.660702896848042,0.6607028968480416,0.8184345031523963,0.8186654095787306],&quot;type&quot;:&quot;scatter&quot;,&quot;x&quot;:[8,9,10,11,12,13,14,15,16,17,18,19,20,21,22,23,24,25,26,27,28,29,30,31,32]},{&quot;showlegend&quot;:false,&quot;mode&quot;:&quot;lines&quot;,&quot;marker&quot;:{&quot;color&quot;:&quot;#348ABD&quot;,&quot;line&quot;:{&quot;color&quot;:&quot;#348ABD&quot;,&quot;width&quot;:0.5},&quot;size&quot;:10},&quot;y&quot;:[-0.0006165413845947709,-0.034371832082151776,-0.21082295586733024,-0.23172101403818202,-0.2609812269628766,-0.3697382456397815,-0.3965532033392427,-0.40407111240034554,-0.40712309190709406,-0.4082432715405504,-0.408406986394495,-0.40841185139154956,-0.4084119348426374,-0.40841193641722295,-0.40841193649037666,-0.4084119364908825,-0.40841193649088714,-0.5244872612533993,-0.5244872612533975,-0.5244872612533984,-0.5244872612533975,-0.5244872612533966,-0.6607028968480417,-0.660702896848042],&quot;type&quot;:&quot;scatter&quot;,&quot;x&quot;:[9,10,11,12,13,14,15,16,17,18,19,20,21,22,23,24,25,26,27,28,29,30,31,32]},{&quot;showlegend&quot;:false,&quot;mode&quot;:&quot;lines&quot;,&quot;marker&quot;:{&quot;color&quot;:&quot;#988ED5&quot;,&quot;line&quot;:{&quot;color&quot;:&quot;#348ABD&quot;,&quot;width&quot;:0.5},&quot;size&quot;:10},&quot;y&quot;:[0.11067715848756532,0.19030172482654917,0.24263374015001504,0.2996479056117526,0.3406890797880653,0.3750777317280899,0.3986214375319508,0.4059310164476996,0.4081436664272208,0.40840534726906597,0.4084118429671407,0.40841193492590966,0.40841193641617346,0.4084119364903206,0.40841193649088603,0.4084119364908866,0.40841193649088603,0.5244872612533995,0.5244872612533994,0.5244872612533991,0.5244872612534,0.6607028968480417,0.6607028968480417],&quot;type&quot;:&quot;scatter&quot;,&quot;x&quot;:[10,11,12,13,14,15,16,17,18,19,20,21,22,23,24,25,26,27,28,29,30,31,32]},{&quot;showlegend&quot;:false,&quot;mode&quot;:&quot;lines&quot;,&quot;marker&quot;:{&quot;color&quot;:&quot;#777777&quot;,&quot;line&quot;:{&quot;color&quot;:&quot;#348ABD&quot;,&quot;width&quot;:0.5},&quot;size&quot;:10},&quot;y&quot;:[-0.010616774495244119,-0.028392718521838445,-0.17640068176948942,-0.2257866305196874,-0.2303629958539597,-0.23622060813849477,-0.27264254442137537,-0.30343863835970075,-0.31047400220875443,-0.31085326964158666,-0.3108652513463088,-0.3108656628509485,-0.31086569726941504,-0.31086569769284345,-0.31086569769857575,-0.4084119364908866,-0.4084119364908836,-0.4084119364908849,-0.4084119364908856,-0.40841193649088514,-0.524487261253398,-0.5244872612533984],&quot;type&quot;:&quot;scatter&quot;,&quot;x&quot;:[11,12,13,14,15,16,17,18,19,20,21,22,23,24,25,26,27,28,29,30,31,32]},{&quot;showlegend&quot;:false,&quot;mode&quot;:&quot;lines&quot;,&quot;marker&quot;:{&quot;color&quot;:&quot;#FBC15E&quot;,&quot;line&quot;:{&quot;color&quot;:&quot;#348ABD&quot;,&quot;width&quot;:0.5},&quot;size&quot;:10},&quot;y&quot;:[0.06928279315866082,0.15041687239029244,0.1884926738336633,0.2521143605529549,0.28956094574640656,0.30183901722908657,0.30899138077106003,0.3107797667543064,0.3108635797262659,0.310865634891061,0.3108656923572636,0.31086569761996286,0.3108656976936742,0.31086569769384875,0.3108656976939479,0.4084119364908867,0.4084119364908867,0.4084119364908866,0.40841193649088703,0.5244872612533996,0.5244872612533991],&quot;type&quot;:&quot;scatter&quot;,&quot;x&quot;:[12,13,14,15,16,17,18,19,20,21,22,23,24,25,26,27,28,29,30,31,32]},{&quot;showlegend&quot;:false,&quot;mode&quot;:&quot;lines&quot;,&quot;marker&quot;:{&quot;color&quot;:&quot;#8EBA42&quot;,&quot;line&quot;:{&quot;color&quot;:&quot;#348ABD&quot;,&quot;width&quot;:0.5},&quot;size&quot;:10},&quot;y&quot;:[-0.012808063346407383,-0.03451572932880054,-0.07158902944333323,-0.1819012471173349,-0.2248637331665888,-0.22895226283613201,-0.230094231366333,-0.23022777267641836,-0.2302366023501694,-0.23023721453713786,-0.23023731750618226,-0.23023731998360475,-0.23023732024889632,-0.31086569769381167,-0.31086569769392747,-0.3108656976939346,-0.310865697693935,-0.3321379181388313,-0.40841193649088403,-0.4084119364908856],&quot;type&quot;:&quot;scatter&quot;,&quot;x&quot;:[13,14,15,16,17,18,19,20,21,22,23,24,25,26,27,28,29,30,31,32]},{&quot;showlegend&quot;:false,&quot;mode&quot;:&quot;lines&quot;,&quot;marker&quot;:{&quot;color&quot;:&quot;#FFB5B8&quot;,&quot;line&quot;:{&quot;color&quot;:&quot;#348ABD&quot;,&quot;width&quot;:0.5},&quot;size&quot;:10},&quot;y&quot;:[0.025659653875653388,0.14966129465758593,0.17040941800435427,0.18385607840159135,0.21531538597740063,0.2291174822849784,0.2301866974168344,0.23023438445658284,0.23023683920259141,0.23023730635092188,0.23023731990640928,0.23023731995749486,0.23023732000282449,0.3108656976939327,0.3108656976939346,0.310865697693935,0.3108656976939348,0.4084119364908865,0.40841193649088636],&quot;type&quot;:&quot;scatter&quot;,&quot;x&quot;:[14,15,16,17,18,19,20,21,22,23,24,25,26,27,28,29,30,31,32]},{&quot;showlegend&quot;:false,&quot;mode&quot;:&quot;lines&quot;,&quot;marker&quot;:{&quot;color&quot;:&quot;#E24A33&quot;,&quot;line&quot;:{&quot;color&quot;:&quot;#348ABD&quot;,&quot;width&quot;:0.5},&quot;size&quot;:10},&quot;y&quot;:[-0.004073742152568061,-0.03787039933534819,-0.06081132818323587,-0.11795522453863994,-0.1571307902844361,-0.16376089276097727,-0.1646931415454207,-0.1648460015106592,-0.1649117338900412,-0.16491553905131529,-0.2131488334202838,-0.23023731999448427,-0.2302373199958463,-0.23023731999597086,-0.2302373199959713,-0.31086569769393524,-0.3108656976939348,-0.3108656976939348],&quot;type&quot;:&quot;scatter&quot;,&quot;x&quot;:[15,16,17,18,19,20,21,22,23,24,25,26,27,28,29,30,31,32]},{&quot;showlegend&quot;:false,&quot;mode&quot;:&quot;lines&quot;,&quot;marker&quot;:{&quot;color&quot;:&quot;#348ABD&quot;,&quot;line&quot;:{&quot;color&quot;:&quot;#348ABD&quot;,&quot;width&quot;:0.5},&quot;size&quot;:10},&quot;y&quot;:[0.012740276274998186,0.1025264855303063,0.15618042707811297,0.1639613624970212,0.16482726686710847,0.16490322043166905,0.16491116404634765,0.16491525163282317,0.1649155740131566,0.1649155760621246,0.16491557906432908,0.23023731999492847,0.23023731999597008,0.23023731999597175,0.23553882663816905,0.310865697693934,0.3108656976939348],&quot;type&quot;:&quot;scatter&quot;,&quot;x&quot;:[16,17,18,19,20,21,22,23,24,25,26,27,28,29,30,31,32]},{&quot;showlegend&quot;:false,&quot;mode&quot;:&quot;lines&quot;,&quot;marker&quot;:{&quot;color&quot;:&quot;#988ED5&quot;,&quot;line&quot;:{&quot;color&quot;:&quot;#348ABD&quot;,&quot;width&quot;:0.5},&quot;size&quot;:10},&quot;y&quot;:[-0.003029113865075539,-0.036088614474244496,-0.05270780026835231,-0.06772171659843629,-0.08294338743118068,-0.09447301326513369,-0.11130132118463654,-0.11324517491538044,-0.16491532683355037,-0.16491557293177028,-0.1649155778450644,-0.1649155785286316,-0.1649155785308638,-0.2302373199959713,-0.2302373199959704,-0.23023731999597086],&quot;type&quot;:&quot;scatter&quot;,&quot;x&quot;:[17,18,19,20,21,22,23,24,25,26,27,28,29,30,31,32]},{&quot;showlegend&quot;:false,&quot;mode&quot;:&quot;lines&quot;,&quot;marker&quot;:{&quot;color&quot;:&quot;#777777&quot;,&quot;line&quot;:{&quot;color&quot;:&quot;#348ABD&quot;,&quot;width&quot;:0.5},&quot;size&quot;:10},&quot;y&quot;:[0.009884855187282993,0.048620055097500336,0.06827133935867213,0.07487549013993122,0.07856261267428932,0.10868798146674963,0.11315359070157216,0.11319695899078186,0.11331657649135418,0.16491557842496074,0.16491557853013228,0.16491557853044503,0.2302373199959301,0.2302373199959713,0.2302373199959713],&quot;type&quot;:&quot;scatter&quot;,&quot;x&quot;:[18,19,20,21,22,23,24,25,26,27,28,29,30,31,32]},{&quot;showlegend&quot;:false,&quot;mode&quot;:&quot;lines&quot;,&quot;marker&quot;:{&quot;color&quot;:&quot;#FBC15E&quot;,&quot;line&quot;:{&quot;color&quot;:&quot;#348ABD&quot;,&quot;width&quot;:0.5},&quot;size&quot;:10},&quot;y&quot;:[-0.003242037356766758,-0.03267783040387817,-0.04651912326156116,-0.0569114038556513,-0.07178349028803455,-0.07364677105721307,-0.11316625381116907,-0.11328126786066472,-0.11328780185142318,-0.11328924033851484,-0.11328925074467433,-0.1649155785282208,-0.1649155785304255,-0.16491557853042815],&quot;type&quot;:&quot;scatter&quot;,&quot;x&quot;:[19,20,21,22,23,24,25,26,27,28,29,30,31,32]},{&quot;showlegend&quot;:false,&quot;mode&quot;:&quot;lines&quot;,&quot;marker&quot;:{&quot;color&quot;:&quot;#8EBA42&quot;,&quot;line&quot;:{&quot;color&quot;:&quot;#348ABD&quot;,&quot;width&quot;:0.5},&quot;size&quot;:10},&quot;y&quot;:[0.004322920736944402,0.02026568234731929,0.042466164687703145,0.07294523135783526,0.07368531136524004,0.07369586893253544,0.07377474380201021,0.11328180645386154,0.11328920163060008,0.11328924912304883,0.16491557852974037,0.1649155785304286,0.16491557853042926],&quot;type&quot;:&quot;scatter&quot;,&quot;x&quot;:[20,21,22,23,24,25,26,27,28,29,30,31,32]},{&quot;showlegend&quot;:false,&quot;mode&quot;:&quot;lines&quot;,&quot;marker&quot;:{&quot;color&quot;:&quot;#FFB5B8&quot;,&quot;line&quot;:{&quot;color&quot;:&quot;#348ABD&quot;,&quot;width&quot;:0.5},&quot;size&quot;:10},&quot;y&quot;:[-0.0046517704770869805,-0.028968581476691346,-0.04238962461357043,-0.04434915869731548,-0.07356240834880068,-0.07372203878372452,-0.07374020802772474,-0.07374701201494727,-0.07374713990212345,-0.11328923993349882,-0.11328924840261978,-0.11328924843000898],&quot;type&quot;:&quot;scatter&quot;,&quot;x&quot;:[21,22,23,24,25,26,27,28,29,30,31,32]},{&quot;showlegend&quot;:false,&quot;mode&quot;:&quot;lines&quot;,&quot;marker&quot;:{&quot;color&quot;:&quot;#E24A33&quot;,&quot;line&quot;:{&quot;color&quot;:&quot;#348ABD&quot;,&quot;width&quot;:0.5},&quot;size&quot;:10},&quot;y&quot;:[0.0025781207991935062,0.021672402589037465,0.02502673439255343,0.02515448938195286,0.05015408780391084,0.07373684922109847,0.07374692689103624,0.0737470970129207,0.11328918007511868,0.11328924826065956,0.11328924843727217],&quot;type&quot;:&quot;scatter&quot;,&quot;x&quot;:[22,23,24,25,26,27,28,29,30,31,32]},{&quot;showlegend&quot;:false,&quot;mode&quot;:&quot;lines&quot;,&quot;marker&quot;:{&quot;color&quot;:&quot;#348ABD&quot;,&quot;line&quot;:{&quot;color&quot;:&quot;#348ABD&quot;,&quot;width&quot;:0.5},&quot;size&quot;:10},&quot;y&quot;:[-0.002769814803759818,-0.01823119511981952,-0.044218439383572505,-0.04455293980510622,-0.04462390916542769,-0.04467579526906773,-0.04467922075743691,-0.07374701293024533,-0.07374710408972662,-0.07374710479829383],&quot;type&quot;:&quot;scatter&quot;,&quot;x&quot;:[23,24,25,26,27,28,29,30,31,32]},{&quot;showlegend&quot;:false,&quot;mode&quot;:&quot;lines&quot;,&quot;marker&quot;:{&quot;color&quot;:&quot;#988ED5&quot;,&quot;line&quot;:{&quot;color&quot;:&quot;#348ABD&quot;,&quot;width&quot;:0.5},&quot;size&quot;:10},&quot;y&quot;:[-0.00040953040080982106,-0.00021038954671070975,0.024241130639902853,0.03378544973419484,0.04429353782385825,0.04462291703839061,0.07374689210825436,0.07374710329430367,0.07374710491296554],&quot;type&quot;:&quot;scatter&quot;,&quot;x&quot;:[24,25,26,27,28,29,30,31,32]},{&quot;showlegend&quot;:false,&quot;mode&quot;:&quot;lines&quot;,&quot;marker&quot;:{&quot;color&quot;:&quot;#777777&quot;,&quot;line&quot;:{&quot;color&quot;:&quot;#348ABD&quot;,&quot;width&quot;:0.5},&quot;size&quot;:10},&quot;y&quot;:[-0.016891020635836806,-0.021140883763151264,-0.02234930818086589,-0.024184105994494276,-0.02493383047656983,-0.044675843795289216,-0.044677876655017545,-0.044677919293725],&quot;type&quot;:&quot;scatter&quot;,&quot;x&quot;:[25,26,27,28,29,30,31,32]},{&quot;showlegend&quot;:false,&quot;mode&quot;:&quot;lines&quot;,&quot;marker&quot;:{&quot;color&quot;:&quot;#FBC15E&quot;,&quot;line&quot;:{&quot;color&quot;:&quot;#348ABD&quot;,&quot;width&quot;:0.5},&quot;size&quot;:10},&quot;y&quot;:[-0.000910835833318302,0.022799561722869566,0.024386298696196462,0.024442678416551455,0.04426050951788374,0.04466861302362102,0.04467868643718875],&quot;type&quot;:&quot;scatter&quot;,&quot;x&quot;:[26,27,28,29,30,31,32]},{&quot;showlegend&quot;:false,&quot;mode&quot;:&quot;lines&quot;,&quot;marker&quot;:{&quot;color&quot;:&quot;#8EBA42&quot;,&quot;line&quot;:{&quot;color&quot;:&quot;#348ABD&quot;,&quot;width&quot;:0.5},&quot;size&quot;:10},&quot;y&quot;:[-0.0011718090685812754,-0.005929827034657276,-0.01725730584253804,-0.02418886726422298,-0.024448769555146743,-0.024467101636074684],&quot;type&quot;:&quot;scatter&quot;,&quot;x&quot;:[27,28,29,30,31,32]},{&quot;showlegend&quot;:false,&quot;mode&quot;:&quot;lines&quot;,&quot;marker&quot;:{&quot;color&quot;:&quot;#FFB5B8&quot;,&quot;line&quot;:{&quot;color&quot;:&quot;#348ABD&quot;,&quot;width&quot;:0.5},&quot;size&quot;:10},&quot;y&quot;:[0.00014900844326559692,0.0014405409364031119,0.02438334193608649,0.02446275164968037,0.024471536119653692],&quot;type&quot;:&quot;scatter&quot;,&quot;x&quot;:[28,29,30,31,32]},{&quot;showlegend&quot;:false,&quot;mode&quot;:&quot;lines&quot;,&quot;marker&quot;:{&quot;color&quot;:&quot;#E24A33&quot;,&quot;line&quot;:{&quot;color&quot;:&quot;#348ABD&quot;,&quot;width&quot;:0.5},&quot;size&quot;:10},&quot;y&quot;:[-0.0029139667808373293,-0.005972696150521317,-0.010222795223044034,-0.01108029652221676],&quot;type&quot;:&quot;scatter&quot;,&quot;x&quot;:[29,30,31,32]},{&quot;showlegend&quot;:false,&quot;mode&quot;:&quot;lines&quot;,&quot;marker&quot;:{&quot;color&quot;:&quot;#348ABD&quot;,&quot;line&quot;:{&quot;color&quot;:&quot;#348ABD&quot;,&quot;width&quot;:0.5},&quot;size&quot;:10},&quot;y&quot;:[0.00013649567570239718,0.0049923904652504625,0.011485438847799956],&quot;type&quot;:&quot;scatter&quot;,&quot;x&quot;:[30,31,32]},{&quot;showlegend&quot;:false,&quot;mode&quot;:&quot;lines&quot;,&quot;marker&quot;:{&quot;color&quot;:&quot;#988ED5&quot;,&quot;line&quot;:{&quot;color&quot;:&quot;#348ABD&quot;,&quot;width&quot;:0.5},&quot;size&quot;:10},&quot;y&quot;:[-0.0010807776553196646,-0.001782897016973095],&quot;type&quot;:&quot;scatter&quot;,&quot;x&quot;:[31,32]},{&quot;showlegend&quot;:false,&quot;mode&quot;:&quot;lines&quot;,&quot;marker&quot;:{&quot;color&quot;:&quot;#777777&quot;,&quot;line&quot;:{&quot;color&quot;:&quot;#348ABD&quot;,&quot;width&quot;:0.5},&quot;size&quot;:10},&quot;y&quot;:[0.0018015623311006257],&quot;type&quot;:&quot;scatter&quot;,&quot;x&quot;:[32]},{&quot;marker&quot;:{&quot;color&quot;:&quot;#FBC15E&quot;,&quot;line&quot;:{&quot;color&quot;:&quot;#348ABD&quot;,&quot;width&quot;:0.5},&quot;size&quot;:10},&quot;mode&quot;:&quot;markers&quot;,&quot;y&quot;:[-1.000000000000002,-0.8186700681413882,-0.6607028968480426,-0.5244872612533996,-0.4084119364908863,-0.31086569769393524,-0.23023731999597236,-0.1649155785304283,-0.11328924843073408,-0.07374710483031797,-0.04467792286260961,-0.024470477661038575,-0.01151354435903464,-0.004195898090027198,-0.0009063139874459908,-3.356718472015508e-5,3.356718472020806e-5,0.0009063139874458507,0.004195898090027181,0.011513544359034584,0.02447047766103851,0.04467792286260954,0.073747104830318,0.11328924843073415,0.1649155785304284,0.23023731999597197,0.3108656976939349,0.4084119364908867,0.5244872612533993,0.6607028968480428,0.8186700681413842,0.9999999999999997],&quot;type&quot;:&quot;scatter&quot;,&quot;name&quot;:&quot;Exact&quot;,&quot;x&quot;:[32.0,32.0,32.0,32.0,32.0,32.0,32.0,32.0,32.0,32.0,32.0,32.0,32.0,32.0,32.0,32.0,32.0,32.0,32.0,32.0,32.0,32.0,32.0,32.0,32.0,32.0,32.0,32.0,32.0,32.0,32.0,32.0]}],{&quot;xaxis&quot;:{&quot;showgrid&quot;:true,&quot;gridcolor&quot;:&quot;#E5E5E5&quot;,&quot;titlefont&quot;:{&quot;color&quot;:&quot;#555555&quot;,&quot;size&quot;:18},&quot;zeroline&quot;:false,&quot;ticks&quot;:&quot;inside&quot;,&quot;title&quot;:&quot;Iteration&quot;,&quot;linewidth&quot;:1.0,&quot;mirror&quot;:true,&quot;linecolor&quot;:&quot;black&quot;},&quot;titlefont&quot;:{&quot;size&quot;:18},&quot;font&quot;:{&quot;size&quot;:16},&quot;height&quot;:400,&quot;margin&quot;:{&quot;l&quot;:80,&quot;b&quot;:50,&quot;r&quot;:50,&quot;t&quot;:60},&quot;yaxis&quot;:{&quot;showgrid&quot;:true,&quot;gridcolor&quot;:&quot;#E5E5E5&quot;,&quot;titlefont&quot;:{&quot;color&quot;:&quot;#555555&quot;,&quot;size&quot;:18},&quot;zeroline&quot;:false,&quot;ticks&quot;:&quot;inside&quot;,&quot;title&quot;:&quot;Eigenvalue estimates&quot;,&quot;linewidth&quot;:1.0,&quot;mirror&quot;:true,&quot;linecolor&quot;:&quot;black&quot;},&quot;width&quot;:500},{}); gd.on(&quot;plotly_hover&quot;,(function (data){var filtered_data=WebIO.CommandSets.Plotly.filterEventData(gd,data,&quot;hover&quot;); return !(filtered_data.isnil) ? (WebIO.setval({&quot;name&quot;:&quot;hover&quot;,&quot;scope&quot;:&quot;scope-3947af19-9a61-4289-b24b-a8041c76aa3e&quot;,&quot;id&quot;:&quot;ob_01&quot;,&quot;type&quot;:&quot;observable&quot;},filtered_data.out)) : undefined})); gd.on(&quot;plotly_unhover&quot;,(function (){return WebIO.setval({&quot;name&quot;:&quot;hover&quot;,&quot;scope&quot;:&quot;scope-3947af19-9a61-4289-b24b-a8041c76aa3e&quot;,&quot;id&quot;:&quot;ob_01&quot;,&quot;type&quot;:&quot;observable&quot;},{})})); gd.on(&quot;plotly_selected&quot;,(function (data){var filtered_data=WebIO.CommandSets.Plotly.filterEventData(gd,data,&quot;selected&quot;); return !(filtered_data.isnil) ? (WebIO.setval({&quot;name&quot;:&quot;selected&quot;,&quot;scope&quot;:&quot;scope-3947af19-9a61-4289-b24b-a8041c76aa3e&quot;,&quot;id&quot;:&quot;ob_02&quot;,&quot;type&quot;:&quot;observable&quot;},filtered_data.out)) : undefined})); gd.on(&quot;plotly_deselect&quot;,(function (){return WebIO.setval({&quot;name&quot;:&quot;selected&quot;,&quot;scope&quot;:&quot;scope-3947af19-9a61-4289-b24b-a8041c76aa3e&quot;,&quot;id&quot;:&quot;ob_02&quot;,&quot;type&quot;:&quot;observable&quot;},{})})); gd.on(&quot;plotly_relayout&quot;,(function (data){var filtered_data=WebIO.CommandSets.Plotly.filterEventData(gd,data,&quot;relayout&quot;); return !(filtered_data.isnil) ? (WebIO.setval({&quot;name&quot;:&quot;relayout&quot;,&quot;scope&quot;:&quot;scope-3947af19-9a61-4289-b24b-a8041c76aa3e&quot;,&quot;id&quot;:&quot;ob_04&quot;,&quot;type&quot;:&quot;observable&quot;},filtered_data.out)) : undefined})); return gd.on(&quot;plotly_click&quot;,(function (data){var filtered_data=WebIO.CommandSets.Plotly.filterEventData(gd,data,&quot;click&quot;); return !(filtered_data.isnil) ? (WebIO.setval({&quot;name&quot;:&quot;click&quot;,&quot;scope&quot;:&quot;scope-3947af19-9a61-4289-b24b-a8041c76aa3e&quot;,&quot;id&quot;:&quot;ob_03&quot;,&quot;type&quot;:&quot;observable&quot;},filtered_data.out)) : undefined}))})]},&quot;_downloadImage&quot;:[(function (options){return this.Plotly.downloadImage(this.plotElem,options)})],&quot;_commands&quot;:[(function (args){var fn=args.shift(); var elem=this.plotElem; var Plotly=this.Plotly; args.unshift(elem); return Plotly[fn].apply(this,args)})]},&quot;systemjs_options&quot;:null,&quot;observables&quot;:{&quot;_toImage&quot;:{&quot;sync&quot;:false,&quot;id&quot;:&quot;ob_08&quot;,&quot;value&quot;:{}},&quot;hover&quot;:{&quot;sync&quot;:false,&quot;id&quot;:&quot;ob_01&quot;,&quot;value&quot;:{}},&quot;selected&quot;:{&quot;sync&quot;:false,&quot;id&quot;:&quot;ob_02&quot;,&quot;value&quot;:{}},&quot;__gd_contents&quot;:{&quot;sync&quot;:false,&quot;id&quot;:&quot;ob_06&quot;,&quot;value&quot;:{}},&quot;click&quot;:{&quot;sync&quot;:false,&quot;id&quot;:&quot;ob_03&quot;,&quot;value&quot;:{}},&quot;image&quot;:{&quot;sync&quot;:true,&quot;id&quot;:&quot;ob_05&quot;,&quot;value&quot;:&quot;&quot;},&quot;__get_gd_contents&quot;:{&quot;sync&quot;:false,&quot;id&quot;:&quot;ob_10&quot;,&quot;value&quot;:&quot;&quot;},&quot;_downloadImage&quot;:{&quot;sync&quot;:false,&quot;id&quot;:&quot;ob_09&quot;,&quot;value&quot;:{}},&quot;relayout&quot;:{&quot;sync&quot;:false,&quot;id&quot;:&quot;ob_04&quot;,&quot;value&quot;:{}},&quot;_commands&quot;:{&quot;sync&quot;:false,&quot;id&quot;:&quot;ob_07&quot;,&quot;value&quot;:[]}}},&quot;children&quot;:[{&quot;props&quot;:{&quot;id&quot;:&quot;plot-3b7e2541-17ca-4f12-be2e-77592ed9558c&quot;},&quot;nodeType&quot;:&quot;DOM&quot;,&quot;type&quot;:&quot;node&quot;,&quot;instanceArgs&quot;:{&quot;namespace&quot;:&quot;html&quot;,&quot;tag&quot;:&quot;div&quot;},&quot;children&quot;:[]}]})</unsafe-script>"
      ],
      "text/plain": [
       "data: [\n",
       "  \"scatter with fields marker, mode, showlegend, type, x, and y\",\n",
       "  \"scatter with fields marker, mode, showlegend, type, x, and y\",\n",
       "  \"scatter with fields marker, mode, showlegend, type, x, and y\",\n",
       "  \"scatter with fields marker, mode, showlegend, type, x, and y\",\n",
       "  \"scatter with fields marker, mode, showlegend, type, x, and y\",\n",
       "  \"scatter with fields marker, mode, showlegend, type, x, and y\",\n",
       "  \"scatter with fields marker, mode, showlegend, type, x, and y\",\n",
       "  \"scatter with fields marker, mode, showlegend, type, x, and y\",\n",
       "  \"scatter with fields marker, mode, showlegend, type, x, and y\",\n",
       "  \"scatter with fields marker, mode, showlegend, type, x, and y\",\n",
       "  \"scatter with fields marker, mode, showlegend, type, x, and y\",\n",
       "  \"scatter with fields marker, mode, showlegend, type, x, and y\",\n",
       "  \"scatter with fields marker, mode, showlegend, type, x, and y\",\n",
       "  \"scatter with fields marker, mode, showlegend, type, x, and y\",\n",
       "  \"scatter with fields marker, mode, showlegend, type, x, and y\",\n",
       "  \"scatter with fields marker, mode, showlegend, type, x, and y\",\n",
       "  \"scatter with fields marker, mode, showlegend, type, x, and y\",\n",
       "  \"scatter with fields marker, mode, showlegend, type, x, and y\",\n",
       "  \"scatter with fields marker, mode, showlegend, type, x, and y\",\n",
       "  \"scatter with fields marker, mode, showlegend, type, x, and y\",\n",
       "  \"scatter with fields marker, mode, showlegend, type, x, and y\",\n",
       "  \"scatter with fields marker, mode, showlegend, type, x, and y\",\n",
       "  \"scatter with fields marker, mode, showlegend, type, x, and y\",\n",
       "  \"scatter with fields marker, mode, showlegend, type, x, and y\",\n",
       "  \"scatter with fields marker, mode, showlegend, type, x, and y\",\n",
       "  \"scatter with fields marker, mode, showlegend, type, x, and y\",\n",
       "  \"scatter with fields marker, mode, showlegend, type, x, and y\",\n",
       "  \"scatter with fields marker, mode, showlegend, type, x, and y\",\n",
       "  \"scatter with fields marker, mode, showlegend, type, x, and y\",\n",
       "  \"scatter with fields marker, mode, showlegend, type, x, and y\",\n",
       "  \"scatter with fields marker, mode, showlegend, type, x, and y\",\n",
       "  \"scatter with fields marker, mode, showlegend, type, x, and y\",\n",
       "  \"scatter with fields marker, mode, name, type, x, and y\"\n",
       "]\n",
       "\n",
       "layout: \"layout with fields font, height, margin, titlefont, width, xaxis, and yaxis\"\n",
       "\n"
      ]
     },
     "execution_count": 6,
     "metadata": {},
     "output_type": "execute_result"
    }
   ],
   "source": [
    "L = zeros(n,n)\n",
    "for k=1:n\n",
    "    x = eig_k(Tk,k)\n",
    "    sort!(x)\n",
    "    for l=1:k\n",
    "        if l%2 == 1\n",
    "            L[l,k] = x[(l+1)>>1]\n",
    "        else\n",
    "            L[l,k] = x[k-(l-2)>>1]\n",
    "        end\n",
    "    end\n",
    "end\n",
    "\n",
    "t = Array{PlotlyJS.AbstractTrace,1}()\n",
    "for k=1:n\n",
    "    push!(t,scatter(x=k:n,y=L[k,k:n],mode=\"lines\",showlegend=false))\n",
    "end\n",
    "push!(t,scatter(x=n*ones(n),y=D,mode=\"markers\",name=\"Exact\"))\n",
    "\n",
    "p = plot(t,Layout(xaxis_title=\"Iteration\",yaxis_title=\"Eigenvalue estimates\",\n",
    "        width=500,height=400,margin_l=80))"
   ]
  },
  {
   "cell_type": "code",
   "execution_count": 7,
   "metadata": {},
   "outputs": [],
   "source": [
    "if output\n",
    "    plotToPDF(p,\"lanczos_cro1\")\n",
    "end"
   ]
  }
 ],
 "metadata": {
  "anaconda-cloud": {},
  "kernelspec": {
   "display_name": "Julia 1.0.0",
   "language": "julia",
   "name": "julia-1.0"
  },
  "language_info": {
   "file_extension": ".jl",
   "mimetype": "application/julia",
   "name": "julia",
   "version": "1.0.0"
  }
 },
 "nbformat": 4,
 "nbformat_minor": 1
}
