{
 "cells": [
  {
   "cell_type": "code",
   "execution_count": 15,
   "metadata": {
    "collapsed": true
   },
   "outputs": [],
   "source": [
    "# Initialize the random number generator\n",
    "rng = MersenneTwister(2016);"
   ]
  },
  {
   "cell_type": "code",
   "execution_count": 16,
   "metadata": {
    "collapsed": false
   },
   "outputs": [
    {
     "data": {
      "text/plain": [
       "gees_testsuite (generic function with 1 method)"
      ]
     },
     "execution_count": 16,
     "metadata": {},
     "output_type": "execute_result"
    }
   ],
   "source": [
    "include(\"gees.jl\")"
   ]
  },
  {
   "cell_type": "code",
   "execution_count": 17,
   "metadata": {
    "collapsed": false
   },
   "outputs": [
    {
     "name": "stdout",
     "output_type": "stream",
     "text": [
      "Matrix A\n",
      " -2.3e+00  1.2e+00  2.8e+00 -4.7e+00\n",
      " -3.3e+00  1.1e+00  3.9e+00 -5.9e+00\n",
      " -1.3e+00 -1.2e+00  3.9e+00 -4.5e+00\n",
      " -6.1e-01 -5.9e-01  1.4e+00 -1.3e+00\n"
     ]
    },
    {
     "data": {
      "text/plain": [
       "4-element Array{Complex{Float64},1}:\n",
       "         0.5+0.0im\n",
       " 4.30211e-16-1.0im\n",
       " 4.30211e-16+1.0im\n",
       "         1.0+0.0im"
      ]
     },
     "execution_count": 17,
     "metadata": {},
     "output_type": "execute_result"
    }
   ],
   "source": [
    "n = 4\n",
    "Λ = diagm(Float32[2.0^(-i) for i=0:n-3])\n",
    "A = zeros(n,n)\n",
    "A[1:n-2,1:n-2] = Λ\n",
    "A[n-1:n,n-1:n] = [0 1; -1 0]\n",
    "X = rand(rng, n, n)\n",
    "\n",
    "# Λ = diagm(Float32[2.0^(-i) for i=0:n-1])\n",
    "# A = Λ\n",
    "# X, = qr(rand(rng, n, n))\n",
    "\n",
    "A = X * A / X\n",
    "\n",
    "println(\"Matrix A\")\n",
    "pretty_print(A)\n",
    "Λ = eigenvalue_sorted(A)"
   ]
  },
  {
   "cell_type": "code",
   "execution_count": 18,
   "metadata": {
    "collapsed": false
   },
   "outputs": [
    {
     "data": {
      "text/plain": [
       "4x4 Array{Float64,2}:\n",
       " -2.2636   -1.27441  0.173003   -5.44537 \n",
       "  3.54181   1.10846  0.921535    8.81452 \n",
       "  0.0      -1.03282  1.67318     2.69294 \n",
       "  0.0       0.0      0.0120129   0.981953"
      ]
     },
     "execution_count": 18,
     "metadata": {},
     "output_type": "execute_result"
    }
   ],
   "source": [
    "# Applying Householder reflections to make matrix A upper Hessenberg\n",
    "gehrd!(A)\n",
    "A0 = copy(A)"
   ]
  },
  {
   "cell_type": "code",
   "execution_count": 19,
   "metadata": {
    "collapsed": false
   },
   "outputs": [
    {
     "name": "stdout",
     "output_type": "stream",
     "text": [
      "Norm for lower part of matrix = 0.0\n",
      "Matrix A\n"
     ]
    },
    {
     "data": {
      "text/plain": [
       "4x4 Array{Float64,2}:\n",
       " -2.2636   -1.27441  0.173003   -5.44537 \n",
       "  3.54181   1.10846  0.921535    8.81452 \n",
       "  0.0      -1.03282  1.67318     2.69294 \n",
       "  0.0       0.0      0.0120129   0.981953"
      ]
     },
     "execution_count": 19,
     "metadata": {},
     "output_type": "execute_result"
    }
   ],
   "source": [
    "# Checking that A is upper Hessenberg now\n",
    "println(\"Norm for lower part of matrix = \",norm(tril(A,-2)))\n",
    "println(\"Matrix A\")\n",
    "A"
   ]
  },
  {
   "cell_type": "code",
   "execution_count": 20,
   "metadata": {
    "collapsed": false
   },
   "outputs": [
    {
     "name": "stdout",
     "output_type": "stream",
     "text": [
      "5.718490613591023e-15\n"
     ]
    }
   ],
   "source": [
    "# Checking that the eigenvalues are the same\n",
    "D = eigenvalue_sorted(A)\n",
    "println(norm(D-Λ))"
   ]
  },
  {
   "cell_type": "code",
   "execution_count": 21,
   "metadata": {
    "collapsed": false
   },
   "outputs": [
    {
     "data": {
      "text/plain": [
       "4x4 Array{Float64,2}:\n",
       " -0.89831   2.47099   -2.65777    -10.6821  \n",
       " -0.958563  1.36666    1.5524      -2.36684 \n",
       "  0.0       0.108168   0.158493    -1.06853 \n",
       "  0.0       0.0       -0.0884887    0.873154"
      ]
     },
     "execution_count": 21,
     "metadata": {},
     "output_type": "execute_result"
    }
   ],
   "source": [
    "# Sequential version of QR iteration using Givens rotations\n",
    "givens_QR_iteration_s!(A)\n",
    "A"
   ]
  },
  {
   "cell_type": "code",
   "execution_count": 22,
   "metadata": {
    "collapsed": false
   },
   "outputs": [
    {
     "name": "stdout",
     "output_type": "stream",
     "text": [
      "norm(tril(A,-2)) = 0.0\n",
      "norm(D - Λ) = 5.69824738883827e-15\n"
     ]
    },
    {
     "data": {
      "text/plain": [
       "5.69824738883827e-15"
      ]
     },
     "execution_count": 22,
     "metadata": {},
     "output_type": "execute_result"
    }
   ],
   "source": [
    "# Testing the result\n",
    "D = eigenvalue_sorted(A)\n",
    "@show norm(tril(A,-2))\n",
    "@show norm(D-Λ)"
   ]
  },
  {
   "cell_type": "code",
   "execution_count": 23,
   "metadata": {
    "collapsed": false
   },
   "outputs": [
    {
     "data": {
      "text/plain": [
       "4x4 Array{Float64,2}:\n",
       " -0.89831      2.47099      -2.65777    -10.6821  \n",
       " -0.958563     1.36666       1.5524      -2.36684 \n",
       "  3.33067e-16  0.108168      0.158493    -1.06853 \n",
       "  0.0          8.67362e-18  -0.0884887    0.873154"
      ]
     },
     "execution_count": 23,
     "metadata": {},
     "output_type": "execute_result"
    }
   ],
   "source": [
    "# QR iteration with bulge chasing\n",
    "A = copy(A0)\n",
    "givens_QR_iteration!(A)\n",
    "A"
   ]
  },
  {
   "cell_type": "code",
   "execution_count": 24,
   "metadata": {
    "collapsed": false
   },
   "outputs": [
    {
     "name": "stdout",
     "output_type": "stream",
     "text": [
      "norm(tril(A,-2)) = 3.3306690738754696e-16\n",
      "norm(D - Λ) = 5.123140958641412e-15\n"
     ]
    },
    {
     "data": {
      "text/plain": [
       "5.123140958641412e-15"
      ]
     },
     "execution_count": 24,
     "metadata": {},
     "output_type": "execute_result"
    }
   ],
   "source": [
    "# Testing the result\n",
    "D = eigenvalue_sorted(A)\n",
    "@show norm(tril(A,-2))\n",
    "@show norm(D-Λ)"
   ]
  },
  {
   "cell_type": "code",
   "execution_count": 25,
   "metadata": {
    "collapsed": false
   },
   "outputs": [
    {
     "data": {
      "text/plain": [
       "4x4 Array{Float64,2}:\n",
       " -0.486195     -3.37541    3.46473     10.471   \n",
       "  0.341144      0.370591   2.38897      0.383429\n",
       " -5.55112e-17  -0.041794   0.615662    -0.257046\n",
       "  4.33681e-19   0.0       -8.13185e-5   0.999942"
      ]
     },
     "execution_count": 25,
     "metadata": {},
     "output_type": "execute_result"
    }
   ],
   "source": [
    "# Single step of QR iteration with double real shift\n",
    "A = copy(A0)\n",
    "gees_single_step!(A, false) # false: exceptional_shift is not applied\n",
    "A"
   ]
  },
  {
   "cell_type": "code",
   "execution_count": 26,
   "metadata": {
    "collapsed": false
   },
   "outputs": [
    {
     "name": "stdout",
     "output_type": "stream",
     "text": [
      "norm(tril(A,-2)) = 5.551284527130373e-17\n",
      "norm(D - Λ) = 4.67115133410009e-15\n"
     ]
    },
    {
     "data": {
      "text/plain": [
       "4.67115133410009e-15"
      ]
     },
     "execution_count": 26,
     "metadata": {},
     "output_type": "execute_result"
    }
   ],
   "source": [
    "# Testing the result\n",
    "D = eigenvalue_sorted(A)\n",
    "@show norm(tril(A,-2))\n",
    "@show norm(D-Λ)"
   ]
  },
  {
   "cell_type": "code",
   "execution_count": 27,
   "metadata": {
    "collapsed": false
   },
   "outputs": [
    {
     "name": "stdout",
     "output_type": "stream",
     "text": [
      "\n",
      " *** Test no 1 ***\n",
      "Size of matrix 1\n",
      "norm(D0 - D1) = 0.0\n",
      "norm(D1 - D2) = 0.0\n",
      "\n",
      " *** Test no 2 ***\n",
      "Size of matrix 2\n",
      "norm(D0 - D1) = 0.0\n",
      "norm(D1 - D2) = 0.0\n",
      "\n",
      " *** Test no 3 ***\n",
      "Size of matrix 3\n",
      "norm(D0 - D1) = 1.336327202703161e-15\n",
      "norm(D1 - D2) = 2.237726045655905e-16\n",
      "\n",
      " *** Test no 4 ***\n",
      "Size of matrix 4\n",
      "norm(D0 - D1) = 3.647298083769891e-15\n",
      "norm(D1 - D2) = 4.458205583648681e-16\n",
      "\n",
      " *** Test no 5 ***\n",
      "Size of matrix 3\n",
      "Exceptional shift\n",
      "norm(D0 - D1) = 3.6821932062951477e-16\n",
      "norm(D1 - D2) = 0.0\n",
      "\n",
      " *** Test no 6 ***\n",
      "Size of matrix 4\n",
      "Exceptional shift\n",
      "norm(D0 - D1) = 8.0051527712734e-16\n",
      "norm(D1 - D2) = 3.920818324662287e-17\n",
      "\n",
      " *** Test no 7 ***\n",
      "Size of matrix 7\n",
      "norm(D0 - D1) = 2.3376920389573177e-14\n",
      "norm(D1 - D2) = 3.863026258982364e-15\n",
      "\n",
      " *** Test no 8 ***\n",
      "Size of matrix 8\n",
      "norm(D0 - D1) = 2.3675684962721063e-14\n",
      "norm(D1 - D2) = 5.659279512727921e-15\n",
      "\n",
      " *** Test no 9 ***\n",
      "Size of matrix 9\n",
      "Exceptional shift\n",
      "norm(D0 - D1) = 6.655153300303468e-14\n",
      "norm(D1 - D2) = 4.610909566101516e-14\n",
      "\n",
      " *** Test no 10 ***\n",
      "Size of matrix 10\n",
      "Exceptional shift\n",
      "norm(D0 - D1) = 3.317470879651265e-14\n",
      "norm(D1 - D2) = 1.0961317791741957e-14\n",
      "\n",
      " *** Test no 11 ***\n",
      "Size of matrix 1\n",
      "norm(D0 - D1) = 0.0\n",
      "norm(D1 - D2) = 0.0\n",
      "\n",
      " *** Test no 12 ***\n",
      "Size of matrix 2\n",
      "norm(D0 - D1) = 0.0\n",
      "norm(D1 - D2) = 0.0\n",
      "\n",
      " *** Test no 13 ***\n",
      "Size of matrix 3\n",
      "Exceptional shift\n",
      "norm(D0 - D1) = 3.6821932062951477e-16\n",
      "norm(D1 - D2) = 0.0\n",
      "\n",
      " *** Test no 14 ***\n",
      "Size of matrix 4\n",
      "Exceptional shift\n",
      "norm(D0 - D1) = 7.889616961715915e-16\n",
      "norm(D1 - D2) = 1.6805307704560016e-15\n",
      "\n",
      " *** Test no 15 ***\n",
      "Size of matrix 5\n",
      "Exceptional shift\n",
      "norm(D0 - D1) = 1.3414875847488985e-15\n",
      "norm(D1 - D2) = 1.1537776118301384e-15\n",
      "\n",
      " *** Test no 16 ***\n",
      "Size of matrix 6\n",
      "Exceptional shift\n",
      "norm(D0 - D1) = 2.257605148121872e-15\n",
      "norm(D1 - D2) = 1.1775693440128313e-15\n",
      "\n",
      " *** Test no 17 ***\n",
      "Size of matrix 7\n",
      "Exceptional shift\n",
      "norm(D0 - D1) = 1.5978149875000297e-15\n",
      "norm(D1 - D2) = 1.735999762954231e-15\n",
      "\n",
      " *** Test no 18 ***\n",
      "Size of matrix 8\n",
      "Exceptional shift\n",
      "norm(D0 - D1) = 3.2110214185320387e-15\n",
      "norm(D1 - D2) = 3.14508762904515e-15\n",
      "\n",
      " *** Test no 19 ***\n",
      "Size of matrix 9\n",
      "Exceptional shift\n",
      "norm(D0 - D1) = 2.6413043426588164e-15\n",
      "norm(D1 - D2) = 2.4030622849295204e-15\n",
      "\n",
      " *** Test no 20 ***\n",
      "Size of matrix 10\n",
      "Exceptional shift\n",
      "norm(D0 - D1) = 3.3482014605291036e-15\n",
      "norm(D1 - D2) = 1.9641850382783467e-15\n",
      "\n",
      " *** Test no 21 ***\n",
      "Size of matrix 1\n",
      "norm(D0 - D1) = 0.0\n",
      "norm(D1 - D2) = 0.0\n",
      "\n",
      " *** Test no 22 ***\n",
      "Size of matrix 2\n",
      "norm(D0 - D1) = 0.0\n",
      "norm(D1 - D2) = 0.0\n",
      "\n",
      " *** Test no 23 ***\n",
      "Size of matrix 3\n",
      "Exceptional shift\n",
      "norm(D0 - D1) = 3.6821932062951477e-16\n",
      "norm(D1 - D2) = 0.0\n",
      "\n",
      " *** Test no 24 ***\n",
      "Size of matrix 4\n",
      "norm(D0 - D1) = 0.0\n",
      "norm(D1 - D2) = 1.1102230246251565e-15\n",
      "\n",
      " *** Test no 25 ***\n",
      "Size of matrix 5\n",
      "norm(D0 - D1) = 6.843874359417885e-16\n",
      "norm(D1 - D2) = 0.0\n",
      "\n",
      " *** Test no 26 ***\n",
      "Size of matrix 6\n",
      "norm(D0 - D1) = 1.2994827337208943e-15\n",
      "norm(D1 - D2) = 1.5700924586837752e-16\n",
      "\n",
      " *** Test no 27 ***\n",
      "Size of matrix 7\n",
      "norm(D0 - D1) = 2.032041781255059e-15\n",
      "norm(D1 - D2) = 2.3208707134311084e-15\n",
      "\n",
      " *** Test no 28 ***\n",
      "Size of matrix 8\n",
      "Exceptional shift\n",
      "Exceptional shift\n",
      "norm(D0 - D1) = 7.889616961715915e-16\n",
      "norm(D1 - D2) = 2.561344912845726e-15\n",
      "\n",
      " *** Test no 29 ***\n",
      "Size of matrix 9\n",
      "Exceptional shift\n",
      "norm(D0 - D1) = 7.065416064076988e-16\n",
      "norm(D1 - D2) = 1.008410140090063e-15\n",
      "\n",
      " *** Test no 30 ***\n",
      "Size of matrix 10\n",
      "Exceptional shift\n",
      "norm(D0 - D1) = 1.0648885158809838e-15\n",
      "norm(D1 - D2) = 1.3755121145835177e-15\n",
      "\n",
      " *** Test no 31 ***\n",
      "Size of matrix 1\n",
      "norm(D0 - D1) = 0.0\n",
      "norm(D1 - D2) = 0.0\n",
      "\n",
      " *** Test no 32 ***\n",
      "Size of matrix 2\n",
      "norm(D0 - D1) = 0.0\n",
      "norm(D1 - D2) = 0.0\n",
      "\n",
      " *** Test no 33 ***\n",
      "Size of matrix 3\n",
      "norm(D0 - D1) = 6.661338147750939e-16\n",
      "norm(D1 - D2) = 0.0\n",
      "\n",
      " *** Test no 34 ***\n",
      "Size of matrix 4\n",
      "norm(D0 - D1) = 9.550499576785472e-16\n",
      "norm(D1 - D2) = 1.0488232314233657e-13\n",
      "\n",
      " *** Test no 35 ***\n",
      "Size of matrix 5\n",
      "norm(D0 - D1) = 6.661338147750939e-16\n",
      "norm(D1 - D2) = 1.1102230246251565e-15\n",
      "\n",
      " *** Test no 36 ***\n",
      "Size of matrix 6\n",
      "norm(D0 - D1) = 1.0488652445989456e-13\n",
      "norm(D1 - D2) = 1.0488232314233657e-13\n",
      "\n",
      " *** Test no 37 ***\n",
      "Size of matrix 7\n",
      "Exceptional shift\n",
      "norm(D0 - D1) = 9.18873053048877e-16\n",
      "norm(D1 - D2) = 1.9373312250675786e-15\n",
      "\n",
      " *** Test no 38 ***\n",
      "Size of matrix 8\n",
      "norm(D0 - D1) = 6.280786876697801e-14\n",
      "norm(D1 - D2) = 6.282552865154312e-14\n",
      "\n",
      " *** Test no 39 ***\n",
      "Size of matrix 9\n",
      "Exceptional shift\n",
      "Exceptional shift\n",
      "norm(D0 - D1) = 1.4174378709434725e-15\n",
      "norm(D1 - D2) = 2.6205144170004346e-15\n",
      "\n",
      " *** Test no 40 ***\n",
      "Size of matrix 10\n",
      "norm(D0 - D1) = 2.862998051573224e-15\n",
      "norm(D1 - D2) = 3.5147042229600285e-14\n",
      "\n",
      " *** Test no 41 ***\n",
      "Size of matrix 1\n",
      "norm(D0 - D1) = 0.0\n",
      "norm(D1 - D2) = 0.0\n",
      "\n",
      " *** Test no 42 ***\n",
      "Size of matrix 2\n",
      "norm(D0 - D1) = 0.0\n",
      "norm(D1 - D2) = 1.1102230246251565e-16\n",
      "\n",
      " *** Test no 43 ***\n",
      "Size of matrix 3\n",
      "norm(D0 - D1) = 6.473657049138938e-16\n",
      "norm(D1 - D2) = 1.5700924586837752e-16\n",
      "\n",
      " *** Test no 44 ***\n",
      "Size of matrix 4\n",
      "norm(D0 - D1) = 1.4438235944202963e-15\n",
      "norm(D1 - D2) = 8.527784864785346e-16\n",
      "\n",
      " *** Test no 45 ***\n",
      "Size of matrix 5\n",
      "norm(D0 - D1) = 1.6031097647355054e-15\n",
      "norm(D1 - D2) = 9.805224261780596e-16\n",
      "\n",
      " *** Test no 46 ***\n",
      "Size of matrix 6\n",
      "norm(D0 - D1) = 2.2483729490517396e-15\n",
      "norm(D1 - D2) = 1.92015631799469e-15\n",
      "\n",
      " *** Test no 47 ***\n",
      "Size of matrix 7\n",
      "norm(D0 - D1) = 3.0191764484350342e-15\n",
      "norm(D1 - D2) = 2.9384228978615137e-15\n",
      "\n",
      " *** Test no 48 ***\n",
      "Size of matrix 8\n",
      "norm(D0 - D1) = 2.5161313386208044e-15\n",
      "norm(D1 - D2) = 1.0362907589042387e-15\n",
      "\n",
      " *** Test no 49 ***\n",
      "Size of matrix 9\n",
      "norm(D0 - D1) = 2.5199747040656607e-15\n",
      "norm(D1 - D2) = 1.7489316560905997e-15\n",
      "\n",
      " *** Test no 50 ***\n",
      "Size of matrix 10\n",
      "norm(D0 - D1) = 2.478807554969332e-15\n",
      "norm(D1 - D2) = 3.979998568667599e-15\n"
     ]
    },
    {
     "data": {
      "text/plain": [
       "50-element Array{Float64,1}:\n",
       " 0.0        \n",
       " 0.0        \n",
       " 1.11336e-15\n",
       " 4.07941e-15\n",
       " 3.68219e-16\n",
       " 7.93734e-16\n",
       " 2.65992e-14\n",
       " 2.7647e-14 \n",
       " 1.10636e-13\n",
       " 2.65459e-14\n",
       " 0.0        \n",
       " 0.0        \n",
       " 3.68219e-16\n",
       " ⋮          \n",
       " 2.52591e-15\n",
       " 3.54285e-14\n",
       " 0.0        \n",
       " 1.11022e-16\n",
       " 7.02167e-16\n",
       " 1.5862e-15 \n",
       " 1.6486e-15 \n",
       " 2.53656e-15\n",
       " 1.00554e-15\n",
       " 1.62601e-15\n",
       " 2.26903e-15\n",
       " 4.11251e-15"
      ]
     },
     "execution_count": 27,
     "metadata": {},
     "output_type": "execute_result"
    }
   ],
   "source": [
    "err = gees_testsuite()"
   ]
  },
  {
   "cell_type": "code",
   "execution_count": 28,
   "metadata": {
    "collapsed": false
   },
   "outputs": [
    {
     "data": {
      "text/html": [
       "<html>\n",
       "<head>\n",
       "     <script src=\"/Users/darve/.julia/v0.4/PlotlyJS/deps/plotly-latest.min.js\"></script>\n",
       "</head>\n",
       "<body>\n",
       "     <div id=\"d242c748-ff87-48de-a9fe-dead1dbd74ee\" class=\"plotly-graph-div\"></div>\n",
       "\n",
       "<script>\n",
       "    window.PLOTLYENV=window.PLOTLYENV || {};\n",
       "    window.PLOTLYENV.BASE_URL=\"https://plot.ly\";\n",
       "    Plotly.newPlot('d242c748-ff87-48de-a9fe-dead1dbd74ee', [{\"yaxis\":\"y\",\"y\":[0.0,0.0,1.1133627712727935e-15,4.079408714931764e-15,3.6821932062951477e-16,7.93733533540139e-16,2.6599234087090118e-14,2.7647033368818066e-14,1.1063589692134972e-13,2.654592644967629e-14,0.0,0.0,3.6821932062951477e-16,1.932952170156116e-15,9.28879225241625e-16,1.4686870114880516e-15,1.1834425442573871e-15,2.0411201962889075e-15,3.065703529144609e-15,2.7319157601378223e-15,0.0,0.0,3.6821932062951477e-16,1.1102230246251565e-15,6.843874359417885e-16,1.2994827337208943e-15,1.076401158743041e-15,2.7336071744532854e-15,1.0053497077208614e-15,1.6523311681268211e-15,0.0,0.0,6.661338147750939e-16,1.0488514362583686e-13,1.2947314098277875e-15,7.889616961715915e-16,1.4304223057953898e-15,1.790180836524724e-15,2.525909879581224e-15,3.542848922214632e-14,0.0,1.1102230246251565e-16,7.021666937153402e-16,1.5862013993650003e-15,1.6485970816179637e-15,2.5365619957353453e-15,1.0055412576335687e-15,1.6260124930807873e-15,2.2690289164823745e-15,4.112510960426847e-15],\"showlegend\":true,\"name\":\"Error\",\"type\":\"scatter\",\"xaxis\":\"x\",\"line\":{\"width\":1,\"dash\":\"solid\",\"color\":\"rgba(0, 154, 250, 1.000)\",\"shape\":\"linear\"},\"x\":[1,2,3,4,5,6,7,8,9,10,11,12,13,14,15,16,17,18,19,20,21,22,23,24,25,26,27,28,29,30,31,32,33,34,35,36,37,38,39,40,41,42,43,44,45,46,47,48,49,50],\"mode\":\"lines\"}],\n",
       "               {\"yaxis\":{\"type\":\"log\",\"titlefont\":{\"size\":15,\"color\":\"rgba(0, 0, 0, 1.000)\",\"family\":\"Helvetica\"},\"title\":\"Error\",\"tickfont\":{\"size\":11,\"color\":\"rgba(0, 0, 0, 1.000)\",\"family\":\"Helvetica\"},\"tickmode\":\"array\",\"showgrid\":true,\"tickvals\":[0.0],\"domain\":[0.09549978127734039,0.9901574803149606],\"ticktext\":[],\"zeroline\":false,\"linecolor\":\"rgba(0, 0, 0, 1.000)\",\"tickcolor\":\"rgba(0, 0, 0, 1.000)\",\"anchor\":\"x\"},\"annotations\":[],\"width\":600,\"plot_bgcolor\":\"rgba(255, 255, 255, 1.000)\",\"showlegend\":true,\"legend\":{\"bgcolor\":\"rgba(255, 255, 255, 1.000)\",\"font\":{\"size\":11,\"color\":\"rgba(0, 0, 0, 1.000)\",\"family\":\"Helvetica\"},\"bordercolor\":\"rgba(0, 0, 0, 1.000)\"},\"xaxis\":{\"type\":\"-\",\"titlefont\":{\"size\":15,\"color\":\"rgba(0, 0, 0, 1.000)\",\"family\":\"Helvetica\"},\"title\":\"Test index\",\"tickfont\":{\"size\":11,\"color\":\"rgba(0, 0, 0, 1.000)\",\"family\":\"Helvetica\"},\"tickmode\":\"array\",\"showgrid\":true,\"tickvals\":[10.0,20.0,30.0,40.0,50.0],\"domain\":[0.34042359288422275,0.9934383202099737],\"ticktext\":[\"10\",\"20\",\"30\",\"40\",\"50\"],\"zeroline\":false,\"linecolor\":\"rgba(0, 0, 0, 1.000)\",\"tickcolor\":\"rgba(0, 0, 0, 1.000)\",\"anchor\":\"y\"},\"paper_bgcolor\":\"rgba(255, 255, 255, 1.000)\",\"margin\":{\"r\":0,\"l\":0,\"b\":0,\"t\":20},\"height\":400}, {showLink: false});\n",
       "\n",
       " </script>\n",
       "\n",
       "</body>\n",
       "</html>\n"
      ]
     },
     "execution_count": 28,
     "metadata": {},
     "output_type": "execute_result"
    }
   ],
   "source": [
    "# Plot error at each step of the test suite\n",
    "using Plots\n",
    "plotlyjs()\n",
    "plot(err,yscale=:log10,left_margin=40mm,lab=\"Error\")\n",
    "xlabel!(\"Test index\")\n",
    "ylabel!(\"Error\")"
   ]
  }
 ],
 "metadata": {
  "anaconda-cloud": {},
  "kernelspec": {
   "display_name": "Julia 0.4.6",
   "language": "julia",
   "name": "julia-0.4"
  },
  "language_info": {
   "file_extension": ".jl",
   "mimetype": "application/julia",
   "name": "julia",
   "version": "0.4.6"
  }
 },
 "nbformat": 4,
 "nbformat_minor": 0
}
