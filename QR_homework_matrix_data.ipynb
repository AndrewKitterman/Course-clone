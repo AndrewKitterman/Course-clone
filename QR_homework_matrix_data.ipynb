{
 "cells": [
  {
   "cell_type": "code",
   "execution_count": 11,
   "metadata": {
    "collapsed": false
   },
   "outputs": [
    {
     "name": "stdout",
     "output_type": "stream",
     "text": [
      "Size of matrix 100\n"
     ]
    }
   ],
   "source": [
    "n = 100\n",
    "println(\"Size of matrix \", n)\n",
    "\n",
    "# Initialize the random number generator\n",
    "rng = MersenneTwister()\n",
    "srand(rng,2016);"
   ]
  },
  {
   "cell_type": "code",
   "execution_count": 12,
   "metadata": {
    "collapsed": false
   },
   "outputs": [
    {
     "data": {
      "text/plain": [
       "100x100 Array{Float64,2}:\n",
       " 0.342467    0.109134   0.194421  0.427609   …  0.296547  0.286048  0.308559\n",
       " 0.506994    0.172025   0.203335  0.37765       0.293948  0.332298  0.358958\n",
       " 0.262614    0.0574672  0.286399  0.28407       0.226588  0.195978  0.24372 \n",
       " 0.042304    0.457542   0.288619  0.476554      0.376134  0.379916  0.352044\n",
       " 0.176999    0.498643   0.191831  0.212997      0.26048   0.348928  0.231721\n",
       " 0.647117    0.377775   0.520633  0.30521    …  0.384808  0.480648  0.472047\n",
       " 0.67616     0.216147   0.17777   0.547673      0.379615  0.417274  0.447735\n",
       " 0.473001    0.263328   0.556703  0.488064      0.421821  0.398723  0.428664\n",
       " 0.380321    0.512117   0.114287  0.535529      0.394822  0.397794  0.301741\n",
       " 0.577446    0.271379   0.638627  0.25413       0.347284  0.381344  0.397129\n",
       " 0.559499    0.344285   0.236738  0.534638   …  0.39434   0.422574  0.412113\n",
       " 0.466998    0.297941   0.197739  0.492588      0.358187  0.394769  0.352927\n",
       " 0.32886     0.211029   0.381522  0.311561      0.297539  0.273056  0.31304 \n",
       " ⋮                                           ⋱                              \n",
       " 0.00499441  0.301635   0.273098  0.0672176     0.176529  0.2246    0.187653\n",
       " 0.428131    0.358349   0.417971  0.203704      0.294888  0.411213  0.383414\n",
       " 0.651842    0.215084   0.187144  0.54647    …  0.377114  0.411716  0.440571\n",
       " 0.786046    0.308918   0.312909  0.542188      0.420373  0.442061  0.439309\n",
       " 0.646675    0.584065   0.538248  0.681371      0.57417   0.552803  0.527218\n",
       " 0.441248    0.194145   0.246468  0.496716      0.343035  0.317493  0.296085\n",
       " 0.434217    0.354987   0.383831  0.302632      0.324501  0.319907  0.300508\n",
       " 0.28754     0.199954   0.554973  0.533584   …  0.41901   0.294344  0.35643 \n",
       " 0.00281455  0.576561   0.193743  0.410161      0.348982  0.324992  0.240044\n",
       " 0.587455    0.4021     0.347668  0.276685      0.319623  0.400044  0.340346\n",
       " 0.287814    0.311208   0.161054  0.550989      0.368728  0.313095  0.298183\n",
       " 0.296363    0.458215   0.125583  0.464861      0.35404   0.350924  0.294728"
      ]
     },
     "execution_count": 12,
     "metadata": {},
     "output_type": "execute_result"
    }
   ],
   "source": [
    "# Initialize the matrix\n",
    "Qe, Re = qr(rand(n,n))\n",
    "# Qe is orthogonal, Re is upper triangular\n",
    "for i=1:n\n",
    "    # Multiply row i by 1/2^i\n",
    "    Re[i,:] /= 2.0^(i/3.2)\n",
    "end\n",
    "\n",
    "# A = Qe * Re\n",
    "A = Qe * Re"
   ]
  },
  {
   "cell_type": "code",
   "execution_count": 13,
   "metadata": {
    "collapsed": false
   },
   "outputs": [],
   "source": [
    "# Compute QR factorization of A\n",
    "Q, R = qr(A)\n",
    "\n",
    "# Fix possible differences in the sign of the diagonal entries of R\n",
    "for i=1:n\n",
    "    if R[i,i] * Re[i,i] < 0\n",
    "        R[i,:] = -R[i,:]\n",
    "        Q[:,i] = -Q[:,i]\n",
    "    end\n",
    "end\n",
    "\n",
    "# We now expect that Q=Qe and R=Re."
   ]
  },
  {
   "cell_type": "code",
   "execution_count": 14,
   "metadata": {
    "collapsed": true
   },
   "outputs": [],
   "source": [
    "# Calculate the error in Q\n",
    "e = zeros(n)\n",
    "for j=1:n\n",
    "    # Processing column j\n",
    "    e[j] = norm(Q[:,j] - Qe[:,j])\n",
    "end"
   ]
  },
  {
   "cell_type": "code",
   "execution_count": 15,
   "metadata": {
    "collapsed": false
   },
   "outputs": [
    {
     "data": {
      "text/plain": [
       "3x3 Array{Float64,2}:\n",
       " -0.204      -0.0545431   0.127219  \n",
       "  0.0918746  -0.0790826  -0.00625086\n",
       "  0.0841469   0.0893579  -0.116492  "
      ]
     },
     "execution_count": 15,
     "metadata": {},
     "output_type": "execute_result"
    }
   ],
   "source": [
    "Q[end-2:end,end-2:end]"
   ]
  },
  {
   "cell_type": "code",
   "execution_count": 16,
   "metadata": {
    "collapsed": false
   },
   "outputs": [
    {
     "data": {
      "text/plain": [
       "3x3 Array{Float64,2}:\n",
       " -0.204003   -0.0545366   0.127218  \n",
       "  0.0918726  -0.0790831  -0.00624713\n",
       "  0.0841502   0.0893527  -0.116494  "
      ]
     },
     "execution_count": 16,
     "metadata": {},
     "output_type": "execute_result"
    }
   ],
   "source": [
    "Qe[end-2:end,end-2:end]"
   ]
  },
  {
   "cell_type": "code",
   "execution_count": 17,
   "metadata": {
    "collapsed": false
   },
   "outputs": [
    {
     "data": {
      "text/plain": [
       "Plots.PlotlyJSBackend()"
      ]
     },
     "execution_count": 17,
     "metadata": {},
     "output_type": "execute_result"
    }
   ],
   "source": [
    "using Plots\n",
    "plotlyjs()"
   ]
  },
  {
   "cell_type": "code",
   "execution_count": 18,
   "metadata": {
    "collapsed": false
   },
   "outputs": [
    {
     "data": {
      "text/html": [
       "<html>\n",
       "<head>\n",
       "     <script src=\"/Users/darve/.julia/v0.4/PlotlyJS/deps/plotly-latest.min.js\"></script>\n",
       "</head>\n",
       "<body>\n",
       "     <div id=\"7c70fed7-966b-4e4e-9fa7-5f6204faa089\" class=\"plotly-graph-div\"></div>\n",
       "\n",
       "<script>\n",
       "    window.PLOTLYENV=window.PLOTLYENV || {};\n",
       "    window.PLOTLYENV.BASE_URL=\"https://plot.ly\";\n",
       "    Plotly.newPlot('7c70fed7-966b-4e4e-9fa7-5f6204faa089', [{\"yaxis\":\"y\",\"y\":[8.371725890308806e-17,5.024417002497159e-16,4.430157805784562e-16,6.77475593561704e-16,8.083216926290042e-16,1.2029678811798828e-15,1.0875004161467534e-15,1.948339286669668e-15,3.159165785913771e-15,3.2430895478619295e-15,3.209807351847481e-15,5.209310260689281e-15,5.5125216029503276e-15,8.352117662638905e-15,9.048892492390678e-15,1.385072662564192e-14,2.020625265478112e-14,1.841672387012131e-14,3.8955948866816994e-14,5.3435248761432497e-14,5.469346982783046e-14,6.773449077214977e-14,9.831805119905252e-14,1.1442935982274425e-13,1.592380023602025e-13,1.2189846001145332e-13,1.6833608290832035e-13,1.9679235942994482e-13,3.3920741636041657e-13,3.6373679478975234e-13,4.860303499407805e-13,6.620896489570935e-13,6.158129224032744e-13,8.919938319802934e-13,1.4156738970384373e-12,1.3580503092981977e-12,3.1260342771309903e-12,3.197656571152658e-12,3.0249296791543227e-12,4.864392163861098e-12,7.67163597811797e-12,6.69690364595951e-12,1.0560915772184812e-11,1.2219755559654996e-11,1.3411012638106771e-11,1.9215489914981323e-11,2.7185133869792166e-11,2.346906387480199e-11,3.653421423127491e-11,4.2911084045720485e-11,6.661867014674863e-11,1.203500245432797e-10,8.571736504270621e-11,9.819971877027431e-11,1.0099733049475955e-10,1.6764586278569602e-10,2.6913967960048674e-10,3.297233403624355e-10,3.753103253901717e-10,5.726178886962818e-10,5.190878810873776e-10,9.159063557749475e-10,1.3048128948321584e-9,1.0621617412481217e-9,1.618271901542628e-9,1.449755983710926e-9,2.2221466251747646e-9,2.0006159696008722e-9,3.3106913816713633e-9,5.9084573650320125e-9,5.586687899963644e-9,6.6887840261866185e-9,9.058001882590685e-9,9.271565427037777e-9,1.504885349259374e-8,1.600069056800233e-8,2.6189786973561934e-8,3.002355038401081e-8,3.3317564455833885e-8,5.2634937837151564e-8,6.004382481858083e-8,5.993571279735546e-8,1.226147923857772e-7,1.1515522879370532e-7,1.8480090692433163e-7,4.038565733916278e-7,3.099229618777872e-7,2.410339603130184e-7,1.089666385579367e-6,8.369350017980946e-7,8.793222642104633e-7,1.4083200744914385e-6,1.7230634218052476e-6,1.5561249797548233e-6,3.3172345122607905e-6,4.62290223854157e-6,4.978111505779231e-6,2.0697447268783718e-5,3.0439542072067288e-5,2.8882913305385383e-5],\"showlegend\":true,\"name\":\"Error in R[i,i]\",\"type\":\"scatter\",\"xaxis\":\"x\",\"line\":{\"width\":1,\"dash\":\"solid\",\"color\":\"rgba(0, 154, 250, 1.000)\",\"shape\":\"linear\"},\"x\":[1,2,3,4,5,6,7,8,9,10,11,12,13,14,15,16,17,18,19,20,21,22,23,24,25,26,27,28,29,30,31,32,33,34,35,36,37,38,39,40,41,42,43,44,45,46,47,48,49,50,51,52,53,54,55,56,57,58,59,60,61,62,63,64,65,66,67,68,69,70,71,72,73,74,75,76,77,78,79,80,81,82,83,84,85,86,87,88,89,90,91,92,93,94,95,96,97,98,99,100],\"mode\":\"lines\"}],  {\"yaxis\":{\"type\":\"log\",\"titlefont\":{\"size\":15,\"color\":\"rgba(0, 0, 0, 1.000)\",\"family\":\"Helvetica\"},\"title\":\"Error\",\"tickfont\":{\"size\":11,\"color\":\"rgba(0, 0, 0, 1.000)\",\"family\":\"Helvetica\"},\"tickmode\":\"array\",\"showgrid\":true,\"tickvals\":[1.0e-15,1.0e-10,9.999999999999999e-6],\"domain\":[0.09549978127734039,0.9901574803149606],\"ticktext\":[\"10^-15\",\"10^-10\",\"10^-5\"],\"zeroline\":false,\"linecolor\":\"rgba(0, 0, 0, 1.000)\",\"tickcolor\":\"rgba(0, 0, 0, 1.000)\",\"anchor\":\"x\"},\"annotations\":[],\"width\":600,\"plot_bgcolor\":\"rgba(255, 255, 255, 1.000)\",\"showlegend\":true,\"legend\":{\"bgcolor\":\"rgba(255, 255, 255, 1.000)\",\"font\":{\"size\":11,\"color\":\"rgba(0, 0, 0, 1.000)\",\"family\":\"Helvetica\"},\"bordercolor\":\"rgba(0, 0, 0, 1.000)\"},\"xaxis\":{\"type\":\"-\",\"titlefont\":{\"size\":15,\"color\":\"rgba(0, 0, 0, 1.000)\",\"family\":\"Helvetica\"},\"title\":\"Column index\",\"tickfont\":{\"size\":11,\"color\":\"rgba(0, 0, 0, 1.000)\",\"family\":\"Helvetica\"},\"tickmode\":\"array\",\"showgrid\":true,\"tickvals\":[25.0,50.0,75.0,100.0],\"domain\":[0.16128973461650625,0.9934383202099737],\"ticktext\":[\"25\",\"50\",\"75\",\"100\"],\"zeroline\":false,\"linecolor\":\"rgba(0, 0, 0, 1.000)\",\"tickcolor\":\"rgba(0, 0, 0, 1.000)\",\"anchor\":\"y\"},\"paper_bgcolor\":\"rgba(255, 255, 255, 1.000)\",\"margin\":{\"r\":0,\"l\":0,\"b\":0,\"t\":20},\"height\":400}, {showLink: false});\n",
       "\n",
       " </script>\n",
       "\n",
       "</body>\n",
       "</html>\n"
      ]
     },
     "execution_count": 18,
     "metadata": {},
     "output_type": "execute_result"
    }
   ],
   "source": [
    "# Re-run all cells to get the plot below\n",
    "plot(e, lab=\"Error in R[i,i]\", yscale = :log, \n",
    "xlabel=\"Column index\", ylabel=\"Error\", left_margin = 50px)"
   ]
  },
  {
   "cell_type": "code",
   "execution_count": 19,
   "metadata": {
    "collapsed": false
   },
   "outputs": [],
   "source": [
    "using HDF5\n",
    "h5open(\"QR_hwk_matrix_data.h5\", \"w\") do file\n",
    "    write(file,\"matrix_A\", A)\n",
    "end"
   ]
  },
  {
   "cell_type": "code",
   "execution_count": 20,
   "metadata": {
    "collapsed": false
   },
   "outputs": [
    {
     "name": "stdout",
     "output_type": "stream",
     "text": [
      "norm(A - A0) = 0.0\n"
     ]
    },
    {
     "data": {
      "text/plain": [
       "0.0"
      ]
     },
     "execution_count": 20,
     "metadata": {},
     "output_type": "execute_result"
    }
   ],
   "source": [
    "A0 = h5read(\"QR_hwk_matrix_data.h5\", \"matrix_A\")\n",
    "@show norm(A - A0)"
   ]
  }
 ],
 "metadata": {
  "kernelspec": {
   "display_name": "Julia 0.4.5",
   "language": "julia",
   "name": "julia-0.4"
  },
  "language_info": {
   "file_extension": ".jl",
   "mimetype": "application/julia",
   "name": "julia",
   "version": "0.4.5"
  }
 },
 "nbformat": 4,
 "nbformat_minor": 0
}
