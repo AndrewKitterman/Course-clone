{
 "cells": [
  {
   "cell_type": "code",
   "execution_count": 20,
   "metadata": {
    "collapsed": false
   },
   "outputs": [
    {
     "name": "stdout",
     "output_type": "stream",
     "text": [
      "Size of matrix 100\n"
     ]
    }
   ],
   "source": [
    "n = 100\n",
    "println(\"Size of matrix \", n)\n",
    "\n",
    "# Initialize the random number generator\n",
    "rng = MersenneTwister()\n",
    "srand(rng,2016);"
   ]
  },
  {
   "cell_type": "code",
   "execution_count": 21,
   "metadata": {
    "collapsed": false
   },
   "outputs": [
    {
     "data": {
      "text/plain": [
       "100x100 Array{Float64,2}:\n",
       " 0.232013   0.465931   0.302787   0.171239  …  0.304122   0.294825  0.346204\n",
       " 0.423923   0.110158   0.118809   0.146936     0.231141   0.232082  0.192774\n",
       " 0.563675   0.374586   0.365052   0.470234     0.429727   0.423167  0.418462\n",
       " 0.742348   0.422258   0.392294   0.572932     0.465739   0.478383  0.519336\n",
       " 0.354684   0.387623   0.378326   0.555012     0.322785   0.344664  0.435702\n",
       " 0.729969   0.457436   0.509164   0.563351  …  0.506315   0.488468  0.512236\n",
       " 0.439658   0.646943   0.455061   0.224522     0.420897   0.377645  0.442352\n",
       " 0.190296   0.497899   0.564405   0.521545     0.318694   0.308501  0.450729\n",
       " 0.599053   0.454904   0.393327   0.358556     0.457939   0.435148  0.460616\n",
       " 0.672347   0.531917   0.702929   0.48234      0.550512   0.526382  0.514949\n",
       " 0.389425   0.696006   0.36373    0.191647  …  0.435454   0.379395  0.415142\n",
       " 0.313872   0.599609   0.311459   0.528617     0.374113   0.375363  0.488815\n",
       " 0.382734   0.0684468  0.472275   0.170672     0.275186   0.240404  0.213213\n",
       " ⋮                                          ⋱                               \n",
       " 0.0174403  0.176966   0.0940462  0.338838     0.0964797  0.14045   0.205951\n",
       " 0.188283   0.214315   0.488958   0.289324     0.238049   0.239532  0.319872\n",
       " 0.0333484  0.0261754  0.341018   0.135083  …  0.111525   0.11217   0.148603\n",
       " 0.552488   0.325343   0.283334   0.193418     0.393417   0.362002  0.355743\n",
       " 0.237808   0.629507   0.582747   0.301296     0.397071   0.368144  0.410652\n",
       " 0.638338   0.442043   0.325396   0.427857     0.441998   0.424667  0.465037\n",
       " 0.148276   0.195291   0.0816273  0.452947     0.177992   0.205557  0.279323\n",
       " 0.261166   0.263558   0.329937   0.13515   …  0.300371   0.268388  0.299398\n",
       " 0.343412   0.622645   0.196208   0.239569     0.332786   0.314752  0.361936\n",
       " 0.487846   0.483456   0.273107   0.514493     0.383056   0.415024  0.48226 \n",
       " 0.746979   0.358083   0.529891   0.602496     0.529938   0.523966  0.540986\n",
       " 0.107756   0.16362    0.181205   0.465787     0.148538   0.19725   0.316004"
      ]
     },
     "execution_count": 21,
     "metadata": {},
     "output_type": "execute_result"
    }
   ],
   "source": [
    "# Initialize the matrix\n",
    "Qe, Re = qr(rand(n,n))\n",
    "# Qe is orthogonal, Re is upper triangular\n",
    "for i=1:n\n",
    "    # Multiply row i by 1/2^i\n",
    "    Re[i,:] /= 2.0^(i/3.2)\n",
    "end\n",
    "\n",
    "# A = Qe * Re\n",
    "A = Qe * Re"
   ]
  },
  {
   "cell_type": "code",
   "execution_count": 22,
   "metadata": {
    "collapsed": false
   },
   "outputs": [],
   "source": [
    "# Compute QR factorization of A\n",
    "Q, R = qr(A)\n",
    "\n",
    "# Fix possible differences in the sign of the diagonal entries of R\n",
    "for i=1:n\n",
    "    if R[i,i] * Re[i,i] < 0\n",
    "        R[i,:] = -R[i,:]\n",
    "        Q[:,i] = -Q[:,i]\n",
    "    end\n",
    "end\n",
    "\n",
    "# We now expect that Q=Qe and R=Re."
   ]
  },
  {
   "cell_type": "code",
   "execution_count": 23,
   "metadata": {
    "collapsed": true
   },
   "outputs": [],
   "source": [
    "# Calculate the error in Q\n",
    "e = zeros(n)\n",
    "for j=1:n\n",
    "    # Processing column j\n",
    "    e[j] = norm(Q[:,j] - Qe[:,j])\n",
    "end"
   ]
  },
  {
   "cell_type": "code",
   "execution_count": 24,
   "metadata": {
    "collapsed": false
   },
   "outputs": [
    {
     "data": {
      "text/plain": [
       "3x3 Array{Float64,2}:\n",
       " -0.033099    0.0890033   0.0745556\n",
       " -0.0778292  -0.178561   -0.0350562\n",
       "  0.076302    0.0728049  -0.114085 "
      ]
     },
     "execution_count": 24,
     "metadata": {},
     "output_type": "execute_result"
    }
   ],
   "source": [
    "Q[end-2:end,end-2:end]"
   ]
  },
  {
   "cell_type": "code",
   "execution_count": 25,
   "metadata": {
    "collapsed": false
   },
   "outputs": [
    {
     "data": {
      "text/plain": [
       "3x3 Array{Float64,2}:\n",
       " -0.0330996   0.0890036   0.0745546\n",
       " -0.0778291  -0.178561   -0.0350574\n",
       "  0.076303    0.0728046  -0.114084 "
      ]
     },
     "execution_count": 25,
     "metadata": {},
     "output_type": "execute_result"
    }
   ],
   "source": [
    "Qe[end-2:end,end-2:end]"
   ]
  },
  {
   "cell_type": "code",
   "execution_count": 26,
   "metadata": {
    "collapsed": false
   },
   "outputs": [
    {
     "data": {
      "text/plain": [
       "Plots.PlotlyBackend()"
      ]
     },
     "execution_count": 26,
     "metadata": {},
     "output_type": "execute_result"
    }
   ],
   "source": [
    "using Plots\n",
    "plotly()"
   ]
  },
  {
   "cell_type": "code",
   "execution_count": 27,
   "metadata": {
    "collapsed": false
   },
   "outputs": [
    {
     "data": {
      "text/html": [
       "<script src=\"/Users/darve/.julia/v0.4/Plots/deps/plotly-latest.min.js\"></script>    <div id=\"465e37b3-1365-4ab9-b854-f5fd914f6152\" style=\"width:600px;height:400px;\"></div>\n",
       "    <script>\n",
       "    PLOT = document.getElementById('465e37b3-1365-4ab9-b854-f5fd914f6152');\n",
       "    Plotly.plot(PLOT, [{\"yaxis\":\"y\",\"y\":[2.3206141324282063e-16,3.217666741498379e-16,1.2796522567295754e-15,4.331019523196438e-16,8.003624792225518e-16,1.0312460533913575e-15,1.2395934500406124e-15,2.4289182824039585e-15,1.656375312680561e-15,6.758612898988773e-15,5.6224296969875344e-15,5.169297826018425e-15,1.0393824034993108e-14,6.9105683366567216e-15,9.62856796427035e-15,1.755409444858084e-14,2.297518052096256e-14,1.9993017580118416e-14,3.0084024052684547e-14,4.03103327426791e-14,6.835958592136836e-14,8.892764859740402e-14,9.765644133601332e-14,8.554232483868475e-14,1.3483276289207896e-13,1.2809405858330758e-13,3.83211784737386e-13,1.8506926333651153e-13,3.4915891255961464e-13,3.567977498562275e-13,4.198582855972383e-13,7.226081355591956e-13,7.862346361231308e-13,9.35003424631621e-13,1.5816776678596825e-12,1.5162704875471394e-12,2.4845788260908287e-12,2.9625428029946083e-12,4.1655596214812416e-12,4.413186313366949e-12,5.219409365405059e-12,9.21367369266132e-12,7.727144556769001e-12,1.1253960010706187e-11,1.587186404912625e-11,2.052922516701429e-11,3.04240212607225e-11,2.6265720786118893e-11,4.097553110724584e-11,3.2599429180336504e-11,5.576594890907032e-11,7.533103052401496e-11,9.344722799546348e-11,1.1235491495972515e-10,8.877349063551365e-11,1.5665162914119774e-10,2.0118219199881545e-10,2.8729023940361274e-10,3.8608774841683433e-10,4.2081102151211745e-10,4.884349365889577e-10,7.009096378587778e-10,9.390973021513507e-10,9.450008750922757e-10,1.3606134512596186e-9,1.3742457461076526e-9,2.7766086096012938e-9,3.2288006352958807e-9,3.575676816552086e-9,5.556180687019733e-9,4.6329563430346266e-9,6.972373686429339e-9,7.006975240019794e-9,1.1419406940117304e-8,6.562293306263231e-9,1.5409492470145304e-8,2.4475030051093036e-8,2.2083850913449207e-8,2.9114423971840828e-8,7.204977829596035e-8,5.901687233745542e-8,1.007446856931156e-7,8.371598175516748e-8,1.4732717216949076e-7,1.6645754376095834e-7,1.7161566553861345e-7,2.854552148594213e-7,2.722443182015169e-7,3.2855587707794243e-7,4.6310157436016667e-7,4.144386756167246e-7,1.2487390469509738e-6,1.4632340568794187e-6,1.2354249719784742e-6,1.1588366682695357e-6,2.8668708920778723e-6,8.522787747411934e-6,8.560296059113705e-6,3.2006266661998433e-6,1.1624962618393065e-5],\"showlegend\":true,\"name\":\"Error in R[i,i]\",\"type\":\"scatter\",\"xaxis\":\"x\",\"line\":{\"width\":1,\"dash\":\"solid\",\"color\":\"rgba(0, 154, 250, 1.000)\",\"shape\":\"linear\"},\"x\":[1,2,3,4,5,6,7,8,9,10,11,12,13,14,15,16,17,18,19,20,21,22,23,24,25,26,27,28,29,30,31,32,33,34,35,36,37,38,39,40,41,42,43,44,45,46,47,48,49,50,51,52,53,54,55,56,57,58,59,60,61,62,63,64,65,66,67,68,69,70,71,72,73,74,75,76,77,78,79,80,81,82,83,84,85,86,87,88,89,90,91,92,93,94,95,96,97,98,99,100],\"mode\":\"lines\"}], {\"yaxis\":{\"type\":\"log\",\"titlefont\":{\"size\":15,\"color\":\"rgba(0, 0, 0, 1.000)\",\"family\":\"Helvetica\"},\"title\":\"Error\",\"tickfont\":{\"size\":11,\"color\":\"rgba(0, 0, 0, 1.000)\",\"family\":\"Helvetica\"},\"tickmode\":\"array\",\"showgrid\":true,\"tickvals\":[1.0e-15,1.0e-10,9.999999999999999e-6],\"domain\":[0.09549978127734039,0.9901574803149606],\"ticktext\":[\"10^-15\",\"10^-10\",\"10^-5\"],\"zeroline\":false,\"linecolor\":\"rgba(0, 0, 0, 1.000)\",\"tickcolor\":\"rgba(0, 0, 0, 1.000)\",\"anchor\":\"x\"},\"annotations\":[],\"width\":600,\"plot_bgcolor\":\"rgba(255, 255, 255, 1.000)\",\"showlegend\":true,\"legend\":{\"bgcolor\":\"rgba(255, 255, 255, 1.000)\",\"font\":{\"size\":11,\"color\":\"rgba(0, 0, 0, 1.000)\",\"family\":\"Helvetica\"},\"bordercolor\":\"rgba(0, 0, 0, 1.000)\"},\"xaxis\":{\"type\":\"-\",\"titlefont\":{\"size\":15,\"color\":\"rgba(0, 0, 0, 1.000)\",\"family\":\"Helvetica\"},\"title\":\"Column index\",\"tickfont\":{\"size\":11,\"color\":\"rgba(0, 0, 0, 1.000)\",\"family\":\"Helvetica\"},\"tickmode\":\"array\",\"showgrid\":true,\"tickvals\":[25.0,50.0,75.0,100.0],\"domain\":[0.16128973461650625,0.9934383202099737],\"ticktext\":[\"25\",\"50\",\"75\",\"100\"],\"zeroline\":false,\"linecolor\":\"rgba(0, 0, 0, 1.000)\",\"tickcolor\":\"rgba(0, 0, 0, 1.000)\",\"anchor\":\"y\"},\"paper_bgcolor\":\"rgba(255, 255, 255, 1.000)\",\"height\":400,\"margin\":{\"r\":0,\"l\":0,\"b\":0,\"t\":20}});\n",
       "    </script>\n"
      ]
     },
     "execution_count": 27,
     "metadata": {},
     "output_type": "execute_result"
    }
   ],
   "source": [
    "# Re-run all cells to get the plot below\n",
    "plot(e, lab=\"Error in R[i,i]\", yscale = :log, \n",
    "xlabel=\"Column index\", ylabel=\"Error\", left_margin = 50px)"
   ]
  },
  {
   "cell_type": "code",
   "execution_count": 32,
   "metadata": {
    "collapsed": false
   },
   "outputs": [],
   "source": [
    "using HDF5\n",
    "h5open(\"QR_hwk_matrix_data.h5\", \"w\") do file\n",
    "    write(file,\"matrix_A\", A)\n",
    "end"
   ]
  },
  {
   "cell_type": "code",
   "execution_count": 33,
   "metadata": {
    "collapsed": false
   },
   "outputs": [
    {
     "name": "stdout",
     "output_type": "stream",
     "text": [
      "norm(A - A0) = 0.0\n"
     ]
    },
    {
     "data": {
      "text/plain": [
       "0.0"
      ]
     },
     "execution_count": 33,
     "metadata": {},
     "output_type": "execute_result"
    }
   ],
   "source": [
    "A0 = h5read(\"QR_hwk_matrix_data.h5\", \"matrix_A\")\n",
    "@show norm(A - A0)"
   ]
  }
 ],
 "metadata": {
  "kernelspec": {
   "display_name": "Julia 0.4.5",
   "language": "julia",
   "name": "julia-0.4"
  },
  "language_info": {
   "file_extension": ".jl",
   "mimetype": "application/julia",
   "name": "julia",
   "version": "0.4.5"
  }
 },
 "nbformat": 4,
 "nbformat_minor": 0
}
