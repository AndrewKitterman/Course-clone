{
 "cells": [
  {
   "cell_type": "code",
   "execution_count": 11,
   "metadata": {
    "collapsed": false
   },
   "outputs": [
    {
     "name": "stdout",
     "output_type": "stream",
     "text": [
      "Size of matrix 100\n"
     ]
    }
   ],
   "source": [
    "n = 100\n",
    "println(\"Size of matrix \", n)\n",
    "\n",
    "# Initialize the random number generator\n",
    "rng = MersenneTwister()\n",
    "srand(rng,2016);"
   ]
  },
  {
   "cell_type": "code",
   "execution_count": 12,
   "metadata": {
    "collapsed": false
   },
   "outputs": [
    {
     "data": {
      "text/plain": [
       "100x100 Array{Float64,2}:\n",
       " 0.0785007   0.635468  0.290226   0.394613   …  0.36946   0.233083  0.246932\n",
       " 0.594569    0.468127  0.351396   0.583359      0.427129  0.410978  0.424277\n",
       " 0.38351     0.264236  0.304636   0.498319      0.322499  0.286445  0.270181\n",
       " 0.00923175  0.440428  0.0792185  0.0878123     0.174971  0.10088   0.130817\n",
       " 0.460129    0.136421  0.158014   0.453045      0.296471  0.364604  0.321631\n",
       " 0.215303    0.67748   0.12018    0.360223   …  0.361753  0.281492  0.272235\n",
       " 0.470177    0.346776  0.182542   0.542895      0.383255  0.342773  0.31916 \n",
       " 0.720122    0.528559  0.24202    0.492034      0.448347  0.421856  0.426323\n",
       " 0.282529    0.048728  0.220701   0.503897      0.258314  0.265944  0.246901\n",
       " 0.205221    0.198483  0.116425   0.100353      0.170491  0.148366  0.175118\n",
       " 0.765105    0.1275    0.230864   0.45799    …  0.330332  0.398348  0.371674\n",
       " 0.609578    0.499197  0.64397    0.620918      0.553801  0.550991  0.591134\n",
       " 0.175199    0.513229  0.381939   0.454868      0.382503  0.26924   0.279523\n",
       " ⋮                                           ⋱                              \n",
       " 0.772773    0.201316  0.221503   0.52363       0.387132  0.450628  0.394261\n",
       " 0.554731    0.117797  0.562903   0.246687      0.305501  0.364549  0.419514\n",
       " 0.508174    0.397613  0.486082   0.418729   …  0.424244  0.408865  0.456286\n",
       " 0.262792    0.518345  0.442911   0.547106      0.448417  0.376928  0.401594\n",
       " 0.636849    0.198047  0.5321     0.58352       0.403744  0.439914  0.459092\n",
       " 0.679868    0.472272  0.422875   0.483639      0.430741  0.43906   0.46425 \n",
       " 0.285761    0.37718   0.0867217  0.298651      0.251677  0.209542  0.195147\n",
       " 0.276184    0.472699  0.56087    0.378836   …  0.371072  0.322605  0.392638\n",
       " 0.248209    0.219998  0.187824   0.446184      0.28114   0.279138  0.288531\n",
       " 0.762402    0.615177  0.562632   0.638451      0.510717  0.506995  0.527379\n",
       " 0.281299    0.530806  0.311687   0.369945      0.355394  0.295332  0.31742 \n",
       " 0.38877     0.2072    0.356034   0.391299      0.327359  0.332783  0.352118"
      ]
     },
     "execution_count": 12,
     "metadata": {},
     "output_type": "execute_result"
    }
   ],
   "source": [
    "# Initialize the matrix\n",
    "Qe, Re = qr(rand(n,n))\n",
    "# Qe is orthogonal, Re is upper triangular\n",
    "for i=1:n\n",
    "    # Multiply row i by 1/2^i\n",
    "    Re[i,:] /= 2.0^(i/3.2)\n",
    "end\n",
    "\n",
    "# A = Qe * Re\n",
    "A = Qe * Re"
   ]
  },
  {
   "cell_type": "code",
   "execution_count": 13,
   "metadata": {
    "collapsed": false
   },
   "outputs": [],
   "source": [
    "# Compute QR factorization of A\n",
    "Q, R = qr(A)\n",
    "\n",
    "# Fix possible differences in the sign of the diagonal entries of R\n",
    "for i=1:n\n",
    "    if R[i,i] * Re[i,i] < 0\n",
    "        R[i,:] = -R[i,:]\n",
    "        Q[:,i] = -Q[:,i]\n",
    "    end\n",
    "end\n",
    "\n",
    "# We now expect that Q=Qe and R=Re."
   ]
  },
  {
   "cell_type": "code",
   "execution_count": 14,
   "metadata": {
    "collapsed": true
   },
   "outputs": [],
   "source": [
    "# Calculate the error in Q\n",
    "e = zeros(n)\n",
    "for j=1:n\n",
    "    # Processing column j\n",
    "    e[j] = norm(Q[:,j] - Qe[:,j])\n",
    "end"
   ]
  },
  {
   "cell_type": "code",
   "execution_count": 15,
   "metadata": {
    "collapsed": false
   },
   "outputs": [
    {
     "data": {
      "text/plain": [
       "3x3 Array{Float64,2}:\n",
       " -0.11499    -0.120949   -0.126733 \n",
       "  0.0412328  -0.0161359   0.0183317\n",
       "  0.156034    0.0732003   0.135901 "
      ]
     },
     "execution_count": 15,
     "metadata": {},
     "output_type": "execute_result"
    }
   ],
   "source": [
    "Q[end-2:end,end-2:end]"
   ]
  },
  {
   "cell_type": "code",
   "execution_count": 16,
   "metadata": {
    "collapsed": false
   },
   "outputs": [
    {
     "data": {
      "text/plain": [
       "3x3 Array{Float64,2}:\n",
       " -0.114991   -0.120949   -0.126732 \n",
       "  0.0412327  -0.0161357   0.0183317\n",
       "  0.156034    0.0732003   0.135901 "
      ]
     },
     "execution_count": 16,
     "metadata": {},
     "output_type": "execute_result"
    }
   ],
   "source": [
    "Qe[end-2:end,end-2:end]"
   ]
  },
  {
   "cell_type": "code",
   "execution_count": 17,
   "metadata": {
    "collapsed": false
   },
   "outputs": [
    {
     "data": {
      "text/plain": [
       "Plots.PlotlyJSBackend()"
      ]
     },
     "execution_count": 17,
     "metadata": {},
     "output_type": "execute_result"
    }
   ],
   "source": [
    "using Plots\n",
    "plotlyjs()"
   ]
  },
  {
   "cell_type": "code",
   "execution_count": 18,
   "metadata": {
    "collapsed": false
   },
   "outputs": [
    {
     "data": {
      "text/html": [
       "<html>\n",
       "<head>\n",
       "     <script src=\"/Users/darve/.julia/v0.4/PlotlyJS/deps/plotly-latest.min.js\"></script>\n",
       "</head>\n",
       "<body>\n",
       "     <div id=\"33c342d9-1b59-4131-9854-97b1540df81f\" class=\"plotly-graph-div\"></div>\n",
       "\n",
       "<script>\n",
       "    window.PLOTLYENV=window.PLOTLYENV || {};\n",
       "    window.PLOTLYENV.BASE_URL=\"https://plot.ly\";\n",
       "    Plotly.newPlot('33c342d9-1b59-4131-9854-97b1540df81f', [{\"yaxis\":\"y\",\"y\":[3.3254757136216803e-16,6.198337451650669e-16,9.2041548917074e-16,8.106739075072605e-16,1.975652036194654e-15,2.2288498231730786e-15,1.4268034680810355e-15,1.9446408781606456e-15,2.141574973173231e-15,3.625788276270699e-15,4.7482030767239486e-15,5.2000421725136165e-15,7.509068718572463e-15,7.93884751380659e-15,1.4713043841457495e-14,1.074396331878423e-14,1.8757736865142184e-14,1.623550733493535e-14,4.1357694681755485e-14,3.96518674481239e-14,5.847626811406781e-14,6.746301772164015e-14,8.754931335388378e-14,1.642559125758372e-13,1.983538992980975e-13,2.1372802519909722e-13,1.9768985379211498e-13,2.390885820543517e-13,3.4846773738500966e-13,5.307312726604897e-13,5.280611330295329e-13,5.82451391771952e-13,7.178919307326054e-13,1.0088416840583213e-12,1.2502097868504908e-12,1.2461748563734461e-12,2.2960128442180544e-12,2.1070780175804577e-12,4.021990347841148e-12,3.88582710142654e-12,5.595025085071644e-12,7.160528151515553e-12,1.02138256341411e-11,1.0687423009758878e-11,1.1594025378820365e-11,1.8209881261727355e-11,3.2917384398744595e-11,2.3416673681172992e-11,4.6500875115925617e-11,4.3469853029840985e-11,5.826491640066106e-11,7.91034328404395e-11,6.604122179230452e-11,9.094258339285521e-11,1.0864517590029385e-10,1.2985040986605853e-10,2.157226836926245e-10,3.3035073834593433e-10,2.514582381486854e-10,4.828119141367443e-10,5.369056947029097e-10,6.828548099540052e-10,6.696275127088163e-10,1.1341988601787516e-9,1.5729049373390434e-9,1.9020542761699177e-9,2.3307573148528347e-9,2.3034816945081946e-9,4.2526289831222565e-9,3.2331489311667814e-9,5.390369406385154e-9,1.0072270019013487e-8,6.155117395266821e-9,1.483378362187108e-8,1.4603416085484264e-8,1.7925273798362065e-8,1.631247521579311e-8,3.068024815685046e-8,4.224063216426061e-8,5.322888003459984e-8,3.638971093915723e-8,7.329715498141769e-8,1.1608503124872084e-7,9.240905090435382e-8,1.0980930011500715e-7,2.1706354113756495e-7,3.174553141973621e-7,2.5724090509134244e-7,5.063170089866858e-7,4.298133888916341e-7,7.180135236607487e-7,1.0455308870202406e-6,1.5976039545473952e-6,9.688143645524581e-7,2.113693800114083e-6,2.333370042855788e-6,2.4861625881111826e-6,2.3005568577316905e-6,5.106448154513558e-6,4.3914933175496494e-6],\"showlegend\":true,\"name\":\"Error in R[i,i]\",\"type\":\"scatter\",\"xaxis\":\"x\",\"line\":{\"width\":1,\"dash\":\"solid\",\"color\":\"rgba(0, 154, 250, 1.000)\",\"shape\":\"linear\"},\"x\":[1,2,3,4,5,6,7,8,9,10,11,12,13,14,15,16,17,18,19,20,21,22,23,24,25,26,27,28,29,30,31,32,33,34,35,36,37,38,39,40,41,42,43,44,45,46,47,48,49,50,51,52,53,54,55,56,57,58,59,60,61,62,63,64,65,66,67,68,69,70,71,72,73,74,75,76,77,78,79,80,81,82,83,84,85,86,87,88,89,90,91,92,93,94,95,96,97,98,99,100],\"mode\":\"lines\"}],\n",
       "               {\"yaxis\":{\"type\":\"log\",\"titlefont\":{\"size\":15,\"color\":\"rgba(0, 0, 0, 1.000)\",\"family\":\"Helvetica\"},\"title\":\"Error\",\"tickfont\":{\"size\":11,\"color\":\"rgba(0, 0, 0, 1.000)\",\"family\":\"Helvetica\"},\"tickmode\":\"array\",\"showgrid\":true,\"tickvals\":[1.0e-15,1.0e-10],\"domain\":[0.09549978127734039,0.9901574803149606],\"ticktext\":[\"10^-15\",\"10^-10\"],\"zeroline\":false,\"linecolor\":\"rgba(0, 0, 0, 1.000)\",\"tickcolor\":\"rgba(0, 0, 0, 1.000)\",\"anchor\":\"x\"},\"annotations\":[],\"width\":600,\"plot_bgcolor\":\"rgba(255, 255, 255, 1.000)\",\"showlegend\":true,\"legend\":{\"bgcolor\":\"rgba(255, 255, 255, 1.000)\",\"font\":{\"size\":11,\"color\":\"rgba(0, 0, 0, 1.000)\",\"family\":\"Helvetica\"},\"bordercolor\":\"rgba(0, 0, 0, 1.000)\"},\"xaxis\":{\"type\":\"-\",\"titlefont\":{\"size\":15,\"color\":\"rgba(0, 0, 0, 1.000)\",\"family\":\"Helvetica\"},\"title\":\"Column index\",\"tickfont\":{\"size\":11,\"color\":\"rgba(0, 0, 0, 1.000)\",\"family\":\"Helvetica\"},\"tickmode\":\"array\",\"showgrid\":true,\"tickvals\":[25.0,50.0,75.0,100.0],\"domain\":[0.16128973461650625,0.9934383202099737],\"ticktext\":[\"25\",\"50\",\"75\",\"100\"],\"zeroline\":false,\"linecolor\":\"rgba(0, 0, 0, 1.000)\",\"tickcolor\":\"rgba(0, 0, 0, 1.000)\",\"anchor\":\"y\"},\"paper_bgcolor\":\"rgba(255, 255, 255, 1.000)\",\"margin\":{\"r\":0,\"l\":0,\"b\":0,\"t\":20},\"height\":400}, {showLink: false});\n",
       "\n",
       " </script>\n",
       "\n",
       "</body>\n",
       "</html>\n"
      ]
     },
     "execution_count": 18,
     "metadata": {},
     "output_type": "execute_result"
    }
   ],
   "source": [
    "# Re-run all cells to get the plot below\n",
    "plot(e, lab=\"Error in R[i,i]\", yscale = :log, \n",
    "xlabel=\"Column index\", ylabel=\"Error\", left_margin = 50px)"
   ]
  },
  {
   "cell_type": "code",
   "execution_count": 19,
   "metadata": {
    "collapsed": false
   },
   "outputs": [],
   "source": [
    "using HDF5\n",
    "h5open(\"QR_hwk_matrix_data.h5\", \"w\") do file\n",
    "    write(file,\"matrix_A\", A)\n",
    "end"
   ]
  },
  {
   "cell_type": "code",
   "execution_count": 20,
   "metadata": {
    "collapsed": false
   },
   "outputs": [
    {
     "name": "stdout",
     "output_type": "stream",
     "text": [
      "norm(A - A0) = 0.0\n"
     ]
    },
    {
     "data": {
      "text/plain": [
       "0.0"
      ]
     },
     "execution_count": 20,
     "metadata": {},
     "output_type": "execute_result"
    }
   ],
   "source": [
    "A0 = h5read(\"QR_hwk_matrix_data.h5\", \"matrix_A\")\n",
    "@show norm(A - A0)"
   ]
  }
 ],
 "metadata": {
  "anaconda-cloud": {},
  "kernelspec": {
   "display_name": "Julia 0.4.6",
   "language": "julia",
   "name": "julia-0.4"
  },
  "language_info": {
   "file_extension": ".jl",
   "mimetype": "application/julia",
   "name": "julia",
   "version": "0.4.6"
  }
 },
 "nbformat": 4,
 "nbformat_minor": 0
}
