{
 "cells": [
  {
   "cell_type": "code",
   "execution_count": 14,
   "metadata": {
    "collapsed": true
   },
   "outputs": [],
   "source": [
    "# Initialize the random number generator\n",
    "rng = MersenneTwister();\n",
    "srand(rng, 2016);"
   ]
  },
  {
   "cell_type": "code",
   "execution_count": 15,
   "metadata": {
    "collapsed": true
   },
   "outputs": [],
   "source": [
    "# Size of the matrix\n",
    "n = 64;"
   ]
  },
  {
   "cell_type": "code",
   "execution_count": 16,
   "metadata": {
    "collapsed": false
   },
   "outputs": [
    {
     "data": {
      "text/plain": [
       "6x6 Array{Float64,2}:\n",
       "  2.0   3.0  -5.0   2.0  -5.0  -2.0\n",
       " -2.0  -2.0   4.0  -7.0  -1.0   1.0\n",
       " -1.0   1.0   5.0  -3.0   3.0   3.0\n",
       " -1.0   0.0   6.0  -6.0  -3.0   4.0\n",
       "  0.0   1.0  -3.0   4.0   0.0   2.0\n",
       "  1.0   0.0  -6.0   8.0   0.0  -3.0"
      ]
     },
     "execution_count": 16,
     "metadata": {},
     "output_type": "execute_result"
    }
   ],
   "source": [
    "# Random initialization of matrix A\n",
    "L = zeros(Float64,n,n)\n",
    "U = zeros(Float64,n,n)\n",
    "P = randperm(rng,n) # Randow row permutation\n",
    "for i=1:n\n",
    "    L[P[i],i] = 3 # Largest entry in the column\n",
    "    L[P[i+1:n],i] = rand(rng, -2:2, n-i)\n",
    "    U[i,i] = rand(rng, 1:2)\n",
    "    U[i,i+1:n] = rand(rng, -2:2, n-i)\n",
    "end\n",
    "A = L * U\n",
    "A0 = copy(A);\n",
    "A0[1:6,1:6]"
   ]
  },
  {
   "cell_type": "code",
   "execution_count": 17,
   "metadata": {
    "collapsed": false
   },
   "outputs": [
    {
     "data": {
      "text/plain": [
       "1x64 Array{Float64,2}:\n",
       " 533.0  -49.0  -844.0  -244.0  1402.0  380.0  …  -189.0  -333.0  -382.0  -5.0"
      ]
     },
     "execution_count": 17,
     "metadata": {},
     "output_type": "execute_result"
    }
   ],
   "source": [
    "# Initializing the right-hand side\n",
    "xe = rand(rng, 0:9, n) # This will be our solution\n",
    "b = A * xe\n",
    "b'"
   ]
  },
  {
   "cell_type": "code",
   "execution_count": 18,
   "metadata": {
    "collapsed": false
   },
   "outputs": [
    {
     "data": {
      "text/plain": [
       "getrs (generic function with 3 methods)"
      ]
     },
     "execution_count": 18,
     "metadata": {},
     "output_type": "execute_result"
    }
   ],
   "source": [
    "include(\"getrf.jl\")"
   ]
  },
  {
   "cell_type": "code",
   "execution_count": 19,
   "metadata": {
    "collapsed": false
   },
   "outputs": [
    {
     "name": "stdout",
     "output_type": "stream",
     "text": [
      "norm(x - xe) = 0.0\n",
      "getrf!: PASSED\n"
     ]
    }
   ],
   "source": [
    "A = copy(A0)\n",
    "P = getrf!(A)\n",
    "# Solve\n",
    "x = getrs(A, P, b)\n",
    "@show norm(x-xe)\n",
    "@assert x == xe # No roundoff error should occur for this example\n",
    "println(\"getrf!: PASSED\")"
   ]
  },
  {
   "cell_type": "code",
   "execution_count": 20,
   "metadata": {
    "collapsed": false
   },
   "outputs": [
    {
     "data": {
      "text/plain": [
       "flip_last_bit (generic function with 1 method)"
      ]
     },
     "execution_count": 20,
     "metadata": {},
     "output_type": "execute_result"
    }
   ],
   "source": [
    "function flip_last_bit(A)\n",
    "    B = Array{Float64}(size(A))\n",
    "    for j=1:size(A,2)\n",
    "        for i=1:size(A,1)\n",
    "            last_bit_flpd = Int64( significand(A[i,j]) / eps(Float64) ) $ 1\n",
    "            B[i,j] = (2.0^exponent(A[i,j])) * (Float64(last_bit_flpd) * eps(Float64))\n",
    "        end\n",
    "    end\n",
    "    return B\n",
    "end"
   ]
  },
  {
   "cell_type": "code",
   "execution_count": 21,
   "metadata": {
    "collapsed": false
   },
   "outputs": [
    {
     "data": {
      "text/plain": [
       "\"TEST PASSED\""
      ]
     },
     "execution_count": 21,
     "metadata": {},
     "output_type": "execute_result"
    }
   ],
   "source": [
    "# Test flip_last_bit()\n",
    "ntrial = 128\n",
    "x = (1<<20) * ( randn(ntrial,ntrial) - 0.5 )\n",
    "# This test will fail if you modify flip_last_bit()\n",
    "# You can still run the rest of the script safely\n",
    "abs(x - flip_last_bit(x)) == eps(Float64) * (2.0.^exponent(x)) ? \"TEST PASSED\" : \"TEST FAILED\""
   ]
  },
  {
   "cell_type": "code",
   "execution_count": 22,
   "metadata": {
    "collapsed": false
   },
   "outputs": [],
   "source": [
    "# Test the accuracy of the solver\n",
    "# Random orthonormal matrix Q\n",
    "X = rand(rng, n,n)\n",
    "Q,R = qr(X)\n",
    "b = randn(rng, n)\n",
    "ntrial = 64\n",
    "e = Array{Float64}(2,ntrial)\n",
    "for k=1:ntrial\n",
    "    A = Q * diagm([ ones(n-k); (1.0/2.0).^(1:k) ]) * Q.'\n",
    "    B = flip_last_bit(A)    \n",
    "    xe = A\\b\n",
    "    xf = B\\b\n",
    "    P = getrf!(A)\n",
    "    x = getrs(A, P, b)\n",
    "    e[1,k] = norm(x-xe) / norm(xe)\n",
    "    e[2,k] = norm(xf - xe) / norm(xe)\n",
    "end"
   ]
  },
  {
   "cell_type": "code",
   "execution_count": 23,
   "metadata": {
    "collapsed": false
   },
   "outputs": [
    {
     "data": {
      "text/plain": [
       "Plots.PlotlyJSBackend()"
      ]
     },
     "execution_count": 23,
     "metadata": {},
     "output_type": "execute_result"
    }
   ],
   "source": [
    "using Plots\n",
    "plotlyjs()"
   ]
  },
  {
   "cell_type": "code",
   "execution_count": 24,
   "metadata": {
    "collapsed": false
   },
   "outputs": [
    {
     "data": {
      "text/html": [
       "<html>\n",
       "<head>\n",
       "     <script src=\"/Users/darve/.julia/v0.4/PlotlyJS/deps/plotly-latest.min.js\"></script>\n",
       "</head>\n",
       "<body>\n",
       "     <div id=\"498db5c3-3ddb-49fb-be39-8181971e87ff\" class=\"plotly-graph-div\"></div>\n",
       "\n",
       "<script>\n",
       "    window.PLOTLYENV=window.PLOTLYENV || {};\n",
       "    window.PLOTLYENV.BASE_URL=\"https://plot.ly\";\n",
       "    Plotly.newPlot('498db5c3-3ddb-49fb-be39-8181971e87ff', [{\"yaxis\":\"y\",\"y\":[1.9898472448763027e-16,2.0890392759926124e-16,6.108411855695152e-16,6.497553741379282e-16,8.560791587137025e-16,2.8583208922280123e-15,7.851654912709973e-15,2.0312595530211604e-15,1.2649048808358403e-14,1.3258357911321371e-14,2.5988610105951718e-14,5.080997060950542e-14,2.8696285792080887e-13,2.0295985141780748e-13,1.1716869782529676e-12,1.6430854708756615e-12,1.8019194826392056e-12,3.3112717076813652e-12,7.730623346475656e-12,3.1128600774444914e-11,2.8737391495650667e-11,4.1055349740985486e-11,2.1781618307827174e-10,2.6919786225284567e-10,5.189371477120066e-10,3.1398789128305484e-9,2.7212703619017122e-9,6.956626687226847e-9,7.05403883305148e-9,1.086927287616813e-8,5.1754499640752954e-8,8.73707372476013e-8,2.0602673515057378e-7,2.57936810432361e-7,4.106952952573111e-7,1.0172715058902245e-6,2.933273973408417e-6,2.8796381323034934e-6,8.617693521169977e-6,1.7333234184123253e-5,2.2283152703852482e-5,6.304954226331635e-5,0.00011648054178791356,2.253986097180375e-5,0.0006785715967851204,0.002915240872138416,0.001623265671425706,0.0012263304691586896,0.013993270066958363,0.010312269872755495,0.005065015331652442,0.053622617602985354,0.0706541721108693,2.2020326205443186,1.1238211706865902,0.28210198037484985,1.030206312994014,2.461778917508078,6.477608692324029,2.0399002645550537,3.1505169016600076,1.434672295055072,0.6687577071266433,0.6687577071266433],\"showlegend\":true,\"name\":\"Pivoted LU\",\"type\":\"scatter\",\"xaxis\":\"x\",\"line\":{\"width\":1,\"dash\":\"solid\",\"color\":\"rgba(0, 154, 250, 1.000)\",\"shape\":\"linear\"},\"x\":[1,2,3,4,5,6,7,8,9,10,11,12,13,14,15,16,17,18,19,20,21,22,23,24,25,26,27,28,29,30,31,32,33,34,35,36,37,38,39,40,41,42,43,44,45,46,47,48,49,50,51,52,53,54,55,56,57,58,59,60,61,62,63,64],\"mode\":\"lines\"},{\"yaxis\":\"y\",\"y\":[1.8188364811284436e-16,1.663511342240204e-16,1.9206220844548508e-16,4.798923733764223e-16,4.2511640555974207e-16,1.540991987837732e-15,4.495887057664639e-15,4.613285455355453e-15,8.365110668872303e-15,1.8676489248456706e-14,7.863135245941339e-14,1.79338255832183e-13,1.89791993237219e-13,1.6184348958405584e-13,2.9848761050781497e-13,1.4593049240395852e-12,3.791157840229997e-12,7.360903825515788e-12,1.714204633238142e-11,3.975136773694669e-11,1.0404582009007978e-10,6.172886066742478e-11,1.6868144107352835e-10,4.395875729853636e-10,3.2694800551154687e-9,1.345932396274959e-9,6.1215529823655325e-9,1.5444361076227416e-9,1.7644607062153727e-8,2.1297468752431532e-8,8.196786606280013e-8,6.704507808675369e-8,1.243944693954016e-7,9.866637375131364e-8,2.9142535390252217e-7,9.898485082959917e-7,2.9992345640844467e-6,5.242606366536101e-6,1.8126108145006577e-5,1.3099979256613686e-5,2.074423015456707e-5,4.8765268535639036e-5,0.00017659759158859776,0.00018059762623441427,0.00024270649474687222,0.001656339261561481,0.003984669648328665,0.0023630038592404,0.0057162662574093736,0.018934304979885144,0.03335449682782206,0.05999595155010811,0.08583261279604983,0.743819764258971,0.8063096372919357,1.2505468559406556,1.1307915882489956,1.6287424640503323,0.8140192608867074,0.5806481536512736,0.7884611527697211,1.1898777687067885,3.016561668402048,3.016561668402048],\"showlegend\":true,\"name\":\"Perturbed Input\",\"type\":\"scatter\",\"xaxis\":\"x\",\"line\":{\"width\":1,\"dash\":\"solid\",\"color\":\"rgba(227, 111, 71, 1.000)\",\"shape\":\"linear\"},\"x\":[1,2,3,4,5,6,7,8,9,10,11,12,13,14,15,16,17,18,19,20,21,22,23,24,25,26,27,28,29,30,31,32,33,34,35,36,37,38,39,40,41,42,43,44,45,46,47,48,49,50,51,52,53,54,55,56,57,58,59,60,61,62,63,64],\"mode\":\"lines\"}],  {\"yaxis\":{\"type\":\"log\",\"titlefont\":{\"size\":15,\"color\":\"rgba(0, 0, 0, 1.000)\",\"family\":\"Helvetica\"},\"title\":\"Error\",\"tickfont\":{\"size\":11,\"color\":\"rgba(0, 0, 0, 1.000)\",\"family\":\"Helvetica\"},\"tickmode\":\"array\",\"showgrid\":true,\"tickvals\":[1.0e-15,1.0e-10,9.999999999999999e-6,1.0],\"domain\":[0.09549978127734039,0.9901574803149606],\"ticktext\":[\"10^-15\",\"10^-10\",\"10^-5\",\"10^0\"],\"zeroline\":false,\"linecolor\":\"rgba(0, 0, 0, 1.000)\",\"tickcolor\":\"rgba(0, 0, 0, 1.000)\",\"anchor\":\"x\"},\"annotations\":[],\"width\":600,\"plot_bgcolor\":\"rgba(255, 255, 255, 1.000)\",\"showlegend\":true,\"legend\":{\"bgcolor\":\"rgba(255, 255, 255, 1.000)\",\"font\":{\"size\":11,\"color\":\"rgba(0, 0, 0, 1.000)\",\"family\":\"Helvetica\"},\"bordercolor\":\"rgba(0, 0, 0, 1.000)\"},\"xaxis\":{\"type\":\"-\",\"titlefont\":{\"size\":15,\"color\":\"rgba(0, 0, 0, 1.000)\",\"family\":\"Helvetica\"},\"title\":\"Matrix index\",\"tickfont\":{\"size\":11,\"color\":\"rgba(0, 0, 0, 1.000)\",\"family\":\"Helvetica\"},\"tickmode\":\"array\",\"showgrid\":true,\"tickvals\":[20.0,40.0,60.0],\"domain\":[0.16128973461650625,0.9934383202099737],\"ticktext\":[\"20\",\"40\",\"60\"],\"zeroline\":false,\"linecolor\":\"rgba(0, 0, 0, 1.000)\",\"tickcolor\":\"rgba(0, 0, 0, 1.000)\",\"anchor\":\"y\"},\"paper_bgcolor\":\"rgba(255, 255, 255, 1.000)\",\"margin\":{\"r\":0,\"l\":0,\"b\":0,\"t\":20},\"height\":400}, {showLink: false});\n",
       "\n",
       " </script>\n",
       "\n",
       "</body>\n",
       "</html>\n"
      ]
     },
     "execution_count": 24,
     "metadata": {},
     "output_type": "execute_result"
    }
   ],
   "source": [
    "# Re-run all cells to get the plot below\n",
    "plot(e', lab=[\"Pivoted LU\" \"Perturbed Input\"], yscale = :log, \n",
    "xlabel=\"Matrix index\", ylabel=\"Error\", left_margin = 50px)"
   ]
  },
  {
   "cell_type": "code",
   "execution_count": 25,
   "metadata": {
    "collapsed": false
   },
   "outputs": [],
   "source": [
    "generate_tex_pgfplot = false \n",
    "if generate_tex_pgfplot\n",
    "    pgfplots()\n",
    "    plt = plot(e', lab=[\"Pivoted LU\" \"Perturbed Input\"], yscale = :log, \n",
    "xlabel=\"Matrix index\", ylabel=\"Error\", left_margin = 50px)\n",
    "end"
   ]
  },
  {
   "cell_type": "code",
   "execution_count": 26,
   "metadata": {
    "collapsed": true
   },
   "outputs": [],
   "source": [
    "if generate_tex_pgfplot\n",
    "    PGFPlots.save(\"error_pivoted_lu.tex\", plt.o, include_preamble=false)\n",
    "end"
   ]
  }
 ],
 "metadata": {
  "kernelspec": {
   "display_name": "Julia 0.4.5",
   "language": "julia",
   "name": "julia-0.4"
  },
  "language_info": {
   "file_extension": ".jl",
   "mimetype": "application/julia",
   "name": "julia",
   "version": "0.4.5"
  }
 },
 "nbformat": 4,
 "nbformat_minor": 0
}
