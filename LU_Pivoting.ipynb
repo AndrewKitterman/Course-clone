{
 "cells": [
  {
   "cell_type": "code",
   "execution_count": 14,
   "metadata": {
    "collapsed": true
   },
   "outputs": [],
   "source": [
    "# Initialize the random number generator\n",
    "rng = MersenneTwister();\n",
    "srand(2016);"
   ]
  },
  {
   "cell_type": "code",
   "execution_count": 15,
   "metadata": {
    "collapsed": true
   },
   "outputs": [],
   "source": [
    "# Size of the matrix\n",
    "n = 64;"
   ]
  },
  {
   "cell_type": "code",
   "execution_count": 16,
   "metadata": {
    "collapsed": false
   },
   "outputs": [
    {
     "data": {
      "text/plain": [
       "6x6 Array{Float64,2}:\n",
       "  0.0   0.0   2.0   0.0  -5.0    3.0\n",
       " -2.0  -4.0   5.0   2.0  -1.0    1.0\n",
       "  2.0   4.0  -5.0  -1.0  -2.0  -12.0\n",
       " -4.0  -4.0   4.0   2.0  -4.0   -1.0\n",
       "  4.0   3.0   5.0  -6.0  -4.0    7.0\n",
       " -2.0  -1.0  -4.0   1.0   5.0   -5.0"
      ]
     },
     "execution_count": 16,
     "metadata": {},
     "output_type": "execute_result"
    }
   ],
   "source": [
    "# Random initialization of matrix A\n",
    "L = zeros(Float64,n,n)\n",
    "U = zeros(Float64,n,n)\n",
    "P = randperm(rng,n) # Randow row permutation\n",
    "for i=1:n\n",
    "    L[P[i],i] = 3 # Largest entry in the column\n",
    "    L[P[i+1:n],i] = rand(rng, -2:2, n-i)\n",
    "    U[i,i] = rand(rng, 1:2)\n",
    "    U[i,i+1:n] = rand(rng, -2:2, n-i)\n",
    "end\n",
    "A = L * U\n",
    "A0 = copy(A);\n",
    "A0[1:6,1:6]"
   ]
  },
  {
   "cell_type": "code",
   "execution_count": 17,
   "metadata": {
    "collapsed": false
   },
   "outputs": [
    {
     "data": {
      "text/plain": [
       "1x64 Array{Float64,2}:\n",
       " -148.0  -52.0  -537.0  132.0  -154.0  …  -173.0  183.0  20.0  9.0  490.0"
      ]
     },
     "execution_count": 17,
     "metadata": {},
     "output_type": "execute_result"
    }
   ],
   "source": [
    "# Initializing the right-hand side\n",
    "xe = rand(rng, 0:9, n) # This will be our solution\n",
    "b = A * xe\n",
    "b'"
   ]
  },
  {
   "cell_type": "code",
   "execution_count": 18,
   "metadata": {
    "collapsed": false
   },
   "outputs": [
    {
     "ename": "LoadError",
     "evalue": "LoadError: LoadError: UndefVarError: P_row not defined\nwhile loading /Users/darve/git_directories/numerical_linear_algebra/Code/getrf.jl, in expression starting on line 121\nwhile loading In[18], in expression starting on line 1",
     "output_type": "error",
     "traceback": [
      "LoadError: LoadError: UndefVarError: P_row not defined\nwhile loading /Users/darve/git_directories/numerical_linear_algebra/Code/getrf.jl, in expression starting on line 121\nwhile loading In[18], in expression starting on line 1",
      "",
      " in include at /Applications/Julia-0.4.5.app/Contents/Resources/julia/lib/julia/sys.dylib",
      " in include_from_node1 at /Applications/Julia-0.4.5.app/Contents/Resources/julia/lib/julia/sys.dylib"
     ]
    }
   ],
   "source": [
    "include(\"getrf.jl\")"
   ]
  },
  {
   "cell_type": "code",
   "execution_count": 19,
   "metadata": {
    "collapsed": false
   },
   "outputs": [
    {
     "name": "stdout",
     "output_type": "stream",
     "text": [
      "norm(x - xe) = 0.0\n",
      "getrf!: PASSED\n"
     ]
    }
   ],
   "source": [
    "A = copy(A0)\n",
    "P = getrf!(A)\n",
    "# Solve\n",
    "x = getrs(A, P, b)\n",
    "@show norm(x-xe)\n",
    "@assert x == xe # No roundoff error should occur for this example\n",
    "println(\"getrf!: PASSED\")"
   ]
  },
  {
   "cell_type": "code",
   "execution_count": 20,
   "metadata": {
    "collapsed": false
   },
   "outputs": [
    {
     "data": {
      "text/plain": [
       "flip_last_bit (generic function with 1 method)"
      ]
     },
     "execution_count": 20,
     "metadata": {},
     "output_type": "execute_result"
    }
   ],
   "source": [
    "function flip_last_bit(A)\n",
    "    B = Array{Float64}(size(A))\n",
    "    for j=1:size(A,2)\n",
    "        for i=1:size(A,1)\n",
    "            last_bit_flpd = Int64( significand(A[i,j]) / eps(Float64) ) $ 1\n",
    "            B[i,j] = (2.0^exponent(A[i,j])) * (Float64(last_bit_flpd) * eps(Float64))\n",
    "        end\n",
    "    end\n",
    "    return B\n",
    "end"
   ]
  },
  {
   "cell_type": "code",
   "execution_count": 21,
   "metadata": {
    "collapsed": false
   },
   "outputs": [
    {
     "data": {
      "text/plain": [
       "\"TEST PASSED\""
      ]
     },
     "execution_count": 21,
     "metadata": {},
     "output_type": "execute_result"
    }
   ],
   "source": [
    "# Test flip_last_bit()\n",
    "ntrial = 128\n",
    "x = (1<<20) * ( randn(ntrial,ntrial) - 0.5 )\n",
    "# This test will fail if you modify flip_last_bit()\n",
    "# You can still run the rest of the script safely\n",
    "abs(x - flip_last_bit(x)) == eps(Float64) * (2.0.^exponent(x)) ? \"TEST PASSED\" : \"TEST FAILED\""
   ]
  },
  {
   "cell_type": "code",
   "execution_count": 22,
   "metadata": {
    "collapsed": false
   },
   "outputs": [],
   "source": [
    "# Test the accuracy of the solver\n",
    "# Random orthonormal matrix Q\n",
    "X = rand(n,n)\n",
    "Q,R = qr(X)\n",
    "b = randn(n)\n",
    "ntrial = 64\n",
    "e = Array{Float64}(2,ntrial)\n",
    "for k=1:ntrial\n",
    "    A = Q * diagm([ ones(n-k); (1.0/2.0).^(1:k) ]) * Q.'\n",
    "    B = flip_last_bit(A)    \n",
    "    xe = A\\b\n",
    "    xf = B\\b\n",
    "    P = getrf!(A)\n",
    "    x = getrs(A, P, b)\n",
    "    e[1,k] = norm(x-xe) / norm(xe)\n",
    "    e[2,k] = norm(xf - xe) / norm(xe)\n",
    "end"
   ]
  },
  {
   "cell_type": "code",
   "execution_count": 23,
   "metadata": {
    "collapsed": false
   },
   "outputs": [
    {
     "data": {
      "text/plain": [
       "Plots.PlotlyBackend()"
      ]
     },
     "execution_count": 23,
     "metadata": {},
     "output_type": "execute_result"
    }
   ],
   "source": [
    "using Plots\n",
    "plotly()"
   ]
  },
  {
   "cell_type": "code",
   "execution_count": 24,
   "metadata": {
    "collapsed": false
   },
   "outputs": [
    {
     "data": {
      "text/html": [
       "<script src=\"/Users/darve/.julia/v0.4/Plots/deps/plotly-latest.min.js\"></script>    <div id=\"f4b74436-981b-4125-a30c-2ceb407d851a\" style=\"width:600px;height:400px;\"></div>\n",
       "    <script>\n",
       "    PLOT = document.getElementById('f4b74436-981b-4125-a30c-2ceb407d851a');\n",
       "    Plotly.plot(PLOT, [{\"yaxis\":\"y\",\"y\":[2.2857288295012453e-16,2.883641760615928e-16,5.977675868474062e-16,3.2375357368202266e-16,3.4830326013547825e-16,3.4926248133443796e-15,3.0320108327182545e-15,4.0372790428724565e-15,6.195489394052258e-15,1.3963916860192687e-14,2.6867582847993275e-14,1.941477415416276e-13,1.9922627899463801e-13,3.625573463376517e-13,2.6318822139830916e-12,1.3540983633456701e-12,2.090049966966858e-12,2.9261456659696526e-12,7.280482794217391e-12,6.926635912987596e-11,7.376732303601833e-11,6.022473065426408e-11,2.4823758268825576e-10,7.9220169115053e-10,8.007531942648395e-10,1.802895340092006e-9,4.313070901893823e-9,4.865422019440974e-9,1.205217177777024e-8,2.8265260963451345e-8,8.914769070514609e-8,1.398842057496303e-7,3.242608071130902e-7,7.836763966179454e-7,4.2108544095012686e-7,1.1234016428318962e-6,1.4273500106671867e-6,2.487895135687252e-6,5.520778382935151e-6,2.0077171365203323e-5,2.7971767544762327e-5,2.7972137921589716e-5,0.00012955747711077467,0.000178473320992597,0.001074367006762179,0.0012391417404049652,0.0023898970704227113,0.0019250407016131632,0.008422242068690527,0.021528062125204656,0.01247217162122318,0.028906500636274545,0.16914256481798745,5.192688043394399,0.40996893960137487,0.3904803439992829,0.9856952369093763,0.43566029308282567,1.0352609981728302,1.4409091211430771,2.2864093675246613,1.2878991028646918,0.882798100089019,0.882798100089019],\"showlegend\":true,\"name\":\"Pivoted LU\",\"type\":\"scatter\",\"xaxis\":\"x\",\"line\":{\"width\":1,\"dash\":\"solid\",\"color\":\"rgba(0, 154, 250, 1.000)\",\"shape\":\"linear\"},\"x\":[1,2,3,4,5,6,7,8,9,10,11,12,13,14,15,16,17,18,19,20,21,22,23,24,25,26,27,28,29,30,31,32,33,34,35,36,37,38,39,40,41,42,43,44,45,46,47,48,49,50,51,52,53,54,55,56,57,58,59,60,61,62,63,64],\"mode\":\"lines\"},{\"yaxis\":\"y\",\"y\":[1.671900366893105e-16,1.971807333655539e-16,5.412733602352075e-16,6.62934075468837e-16,8.652948955815934e-16,8.530615710759071e-16,8.167784674061944e-16,3.2202764928592214e-15,3.3117075919167738e-15,1.1404091309647875e-14,2.3270523573209594e-14,7.766173462049706e-14,3.344961843394698e-13,2.6688343979747475e-13,1.294861409436943e-12,2.316439388233914e-12,2.3677784424704178e-12,1.145060318429747e-11,5.407710871104709e-12,3.40276907923661e-11,7.472828897294412e-11,9.549272886220411e-11,4.047175643101649e-10,5.298043926800472e-10,4.661718610202631e-10,2.238429953806713e-9,3.2204027028614975e-9,8.521467905794965e-9,4.87793722566334e-9,5.656563706544484e-8,3.011589197607419e-8,8.783585215188972e-8,1.465607375261173e-7,4.3267004460835825e-7,1.1528901077512441e-6,1.777364211800256e-6,8.11134640100947e-6,7.497417665748065e-6,2.0391162782880178e-5,2.108230495940908e-5,3.674628377295311e-5,0.00010023069969171203,0.00019888479523717787,0.0003214361980332528,0.0005293785084942223,0.0010522679897123687,0.001976416497652148,0.0034115899350638974,0.017734678054329076,0.019716109688976177,0.018624014621628993,0.07129982136130061,0.24000217444279828,0.5380404055556839,1.7298186996215819,0.5513094450491833,0.8855793369813225,5.081039035221552,0.8285902141755264,1.0556592328065026,0.9026709558230555,0.8887503587546421,0.9460457725778468,0.9460457725778468],\"showlegend\":true,\"name\":\"Perturbed Input\",\"type\":\"scatter\",\"xaxis\":\"x\",\"line\":{\"width\":1,\"dash\":\"solid\",\"color\":\"rgba(227, 111, 71, 1.000)\",\"shape\":\"linear\"},\"x\":[1,2,3,4,5,6,7,8,9,10,11,12,13,14,15,16,17,18,19,20,21,22,23,24,25,26,27,28,29,30,31,32,33,34,35,36,37,38,39,40,41,42,43,44,45,46,47,48,49,50,51,52,53,54,55,56,57,58,59,60,61,62,63,64],\"mode\":\"lines\"}], {\"yaxis\":{\"type\":\"log\",\"titlefont\":{\"size\":15,\"color\":\"rgba(0, 0, 0, 1.000)\",\"family\":\"Helvetica\"},\"title\":\"Error\",\"tickfont\":{\"size\":11,\"color\":\"rgba(0, 0, 0, 1.000)\",\"family\":\"Helvetica\"},\"tickmode\":\"array\",\"showgrid\":true,\"tickvals\":[1.0e-15,1.0e-10,9.999999999999999e-6,1.0],\"domain\":[0.09549978127734039,0.9901574803149606],\"ticktext\":[\"10^-15\",\"10^-10\",\"10^-5\",\"10^0\"],\"zeroline\":false,\"linecolor\":\"rgba(0, 0, 0, 1.000)\",\"tickcolor\":\"rgba(0, 0, 0, 1.000)\",\"anchor\":\"x\"},\"annotations\":[],\"width\":600,\"plot_bgcolor\":\"rgba(255, 255, 255, 1.000)\",\"showlegend\":true,\"legend\":{\"bgcolor\":\"rgba(255, 255, 255, 1.000)\",\"font\":{\"size\":11,\"color\":\"rgba(0, 0, 0, 1.000)\",\"family\":\"Helvetica\"},\"bordercolor\":\"rgba(0, 0, 0, 1.000)\"},\"xaxis\":{\"linecolor\":\"rgba(0, 0, 0, 1.000)\",\"type\":\"-\",\"domain\":[0.16128973461650625,0.9934383202099737],\"titlefont\":{\"size\":15,\"color\":\"rgba(0, 0, 0, 1.000)\",\"family\":\"Helvetica\"},\"tickcolor\":\"rgba(0, 0, 0, 1.000)\",\"title\":\"Matrix index\",\"showgrid\":true,\"zeroline\":false,\"anchor\":\"y\",\"tickfont\":{\"size\":11,\"color\":\"rgba(0, 0, 0, 1.000)\",\"family\":\"Helvetica\"}},\"paper_bgcolor\":\"rgba(255, 255, 255, 1.000)\",\"height\":400,\"margin\":{\"r\":0,\"l\":0,\"b\":0,\"t\":20}});\n",
       "    </script>\n"
      ]
     },
     "execution_count": 24,
     "metadata": {},
     "output_type": "execute_result"
    }
   ],
   "source": [
    "# Re-run all cells to get the plot below\n",
    "plot(e', lab=[\"Pivoted LU\" \"Perturbed Input\"], yscale = :log, \n",
    "xlabel=\"Matrix index\", ylabel=\"Error\", left_margin = 50px)"
   ]
  },
  {
   "cell_type": "code",
   "execution_count": 25,
   "metadata": {
    "collapsed": false
   },
   "outputs": [],
   "source": [
    "generate_tex_pgfplot = false \n",
    "if generate_tex_pgfplot\n",
    "    pgfplots()\n",
    "    plt = plot(e', lab=[\"Pivoted LU\" \"Perturbed Input\"], yscale = :log, \n",
    "xlabel=\"Matrix index\", ylabel=\"Error\", left_margin = 50px)\n",
    "end"
   ]
  },
  {
   "cell_type": "code",
   "execution_count": 26,
   "metadata": {
    "collapsed": true
   },
   "outputs": [],
   "source": [
    "if generate_tex_pgfplot\n",
    "    PGFPlots.save(\"error_pivoted_lu.tex\", plt.o, include_preamble=false)\n",
    "end"
   ]
  }
 ],
 "metadata": {
  "kernelspec": {
   "display_name": "Julia 0.4.5",
   "language": "julia",
   "name": "julia-0.4"
  },
  "language_info": {
   "file_extension": ".jl",
   "mimetype": "application/julia",
   "name": "julia",
   "version": "0.4.5"
  }
 },
 "nbformat": 4,
 "nbformat_minor": 0
}
