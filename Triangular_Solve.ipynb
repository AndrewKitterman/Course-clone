{
 "cells": [
  {
   "cell_type": "code",
   "execution_count": 8,
   "metadata": {
    "collapsed": false
   },
   "outputs": [],
   "source": [
    "# Initialize the random number generator\n",
    "rng = MersenneTwister();"
   ]
  },
  {
   "cell_type": "code",
   "execution_count": 9,
   "metadata": {
    "collapsed": false
   },
   "outputs": [],
   "source": [
    "# Size of the matrix\n",
    "n = 4000;"
   ]
  },
  {
   "cell_type": "code",
   "execution_count": 10,
   "metadata": {
    "collapsed": false
   },
   "outputs": [
    {
     "data": {
      "text/plain": [
       "6x6 Array{Float64,2}:\n",
       "  1.0   0.0   0.0   0.0  0.0  0.0\n",
       " -2.0   1.0   0.0   0.0  0.0  0.0\n",
       " -1.0  -1.0   1.0   0.0  0.0  0.0\n",
       "  2.0  -1.0  -1.0   1.0  0.0  0.0\n",
       "  0.0   2.0   0.0  -2.0  1.0  0.0\n",
       "  2.0  -2.0   1.0  -2.0  2.0  1.0"
      ]
     },
     "execution_count": 10,
     "metadata": {},
     "output_type": "execute_result"
    }
   ],
   "source": [
    "# Lower triangular matrix\n",
    "L = zeros(Float64,n,n)\n",
    "# Filling the matrix with random integer entries\n",
    "for j=1:n # Column j\n",
    "    L[j,j] = 1 # Should be non-zero\n",
    "    L[j+1:n,j] = rand(rng, -2:2, n-j) \n",
    "end\n",
    "L[1:6,1:6]"
   ]
  },
  {
   "cell_type": "code",
   "execution_count": 11,
   "metadata": {
    "collapsed": false
   },
   "outputs": [
    {
     "data": {
      "text/plain": [
       "1x4000 Array{Float64,2}:\n",
       " 3.0  0.0  -7.0  3.0  2.0  -5.0  13.0  …  142.0  1034.0  337.0  -374.0  605.0"
      ]
     },
     "execution_count": 11,
     "metadata": {},
     "output_type": "execute_result"
    }
   ],
   "source": [
    "# Initializing the right-hand side\n",
    "xe = rand(rng, 0:9, n) # This will be our solution\n",
    "b = L * xe\n",
    "b'"
   ]
  },
  {
   "cell_type": "code",
   "execution_count": 12,
   "metadata": {
    "collapsed": false,
    "scrolled": false
   },
   "outputs": [
    {
     "data": {
      "text/plain": [
       "trtrs (generic function with 1 method)"
      ]
     },
     "execution_count": 12,
     "metadata": {},
     "output_type": "execute_result"
    }
   ],
   "source": [
    "# Load our triangular solvers\n",
    "include(\"trtrs.jl\")"
   ]
  },
  {
   "cell_type": "code",
   "execution_count": 13,
   "metadata": {
    "collapsed": false
   },
   "outputs": [],
   "source": [
    "x = trtrsRow(L, b)\n",
    "# Let's check the result\n",
    "@assert x == xe\n",
    "\n",
    "x = trtrs(L, b)\n",
    "@assert x == xe"
   ]
  },
  {
   "cell_type": "code",
   "execution_count": 14,
   "metadata": {
    "collapsed": false
   },
   "outputs": [
    {
     "name": "stdout",
     "output_type": "stream",
     "text": [
      "  0.105897 seconds (6 allocations: 31.469 KB)\n",
      "  0.020028 seconds (6 allocations: 31.469 KB)\n"
     ]
    }
   ],
   "source": [
    "@time x = trtrsRow(L, b)\n",
    "@time x = trtrs(L, b);"
   ]
  }
 ],
 "metadata": {
  "kernelspec": {
   "display_name": "Julia 0.4.5",
   "language": "julia",
   "name": "julia-0.4"
  },
  "language_info": {
   "file_extension": ".jl",
   "mimetype": "application/julia",
   "name": "julia",
   "version": "0.4.5"
  }
 },
 "nbformat": 4,
 "nbformat_minor": 0
}
