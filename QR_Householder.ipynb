{
 "cells": [
  {
   "cell_type": "code",
   "execution_count": 1,
   "metadata": {
    "collapsed": false
   },
   "outputs": [
    {
     "data": {
      "text/plain": [
       "geqrfGS (generic function with 1 method)"
      ]
     },
     "execution_count": 1,
     "metadata": {},
     "output_type": "execute_result"
    }
   ],
   "source": [
    "include(\"geqrf.jl\")"
   ]
  },
  {
   "cell_type": "code",
   "execution_count": 2,
   "metadata": {
    "collapsed": false
   },
   "outputs": [
    {
     "data": {
      "text/plain": [
       "32-element Array{Float64,1}:\n",
       " 0.415916 \n",
       " 0.43767  \n",
       " 0.329398 \n",
       " 0.862195 \n",
       " 0.597538 \n",
       " 0.168616 \n",
       " 0.0341336\n",
       " 0.489089 \n",
       " 0.593423 \n",
       " 0.0748041\n",
       " 0.834973 \n",
       " 0.469812 \n",
       " 0.795244 \n",
       " ⋮        \n",
       " 0.507305 \n",
       " 0.369299 \n",
       " 0.856091 \n",
       " 0.290203 \n",
       " 0.742931 \n",
       " 0.13874  \n",
       " 0.0446816\n",
       " 0.549649 \n",
       " 0.197724 \n",
       " 0.466844 \n",
       " 0.431455 \n",
       " 0.508584 "
      ]
     },
     "execution_count": 2,
     "metadata": {},
     "output_type": "execute_result"
    }
   ],
   "source": [
    "n = 32\n",
    "x = rand(n)"
   ]
  },
  {
   "cell_type": "code",
   "execution_count": 3,
   "metadata": {
    "collapsed": false
   },
   "outputs": [
    {
     "data": {
      "text/plain": [
       "(0.8540547508025111,[1.0,-0.179823,-0.135338,-0.354245,-0.245507,-0.0692784,-0.0140243,-0.200949,-0.243816,-0.0307343  …  -0.351737,-0.119234,-0.305244,-0.0570035,-0.0183581,-0.225831,-0.0812378,-0.19181,-0.17727,-0.208959])"
      ]
     },
     "execution_count": 3,
     "metadata": {},
     "output_type": "execute_result"
    }
   ],
   "source": [
    "beta, v = house(x)"
   ]
  },
  {
   "cell_type": "code",
   "execution_count": 4,
   "metadata": {
    "collapsed": false
   },
   "outputs": [
    {
     "name": "stdout",
     "output_type": "stream",
     "text": [
      "norm(Px - y) = 6.858632435964056e-16\n"
     ]
    },
    {
     "data": {
      "text/plain": [
       "6.858632435964056e-16"
      ]
     },
     "execution_count": 4,
     "metadata": {},
     "output_type": "execute_result"
    }
   ],
   "source": [
    "y = zeros(n); y[1] = norm(x)\n",
    "Px = x - beta * dot(v,x) * v\n",
    "@show norm(Px - y)"
   ]
  },
  {
   "cell_type": "code",
   "execution_count": 5,
   "metadata": {
    "collapsed": false
   },
   "outputs": [
    {
     "data": {
      "text/plain": [
       "1x32 Array{Float64,2}:\n",
       " 1.0  0.0  0.0  0.0  0.0  0.0  0.0  0.0  …  0.0  0.0  0.0  0.0  0.0  0.0  0.0"
      ]
     },
     "execution_count": 5,
     "metadata": {},
     "output_type": "execute_result"
    }
   ],
   "source": [
    "e1 = zeros(n); e1[1] = 1.0\n",
    "e1'"
   ]
  },
  {
   "cell_type": "code",
   "execution_count": 6,
   "metadata": {
    "collapsed": true
   },
   "outputs": [],
   "source": [
    "# Insert Julia code for exercise here"
   ]
  },
  {
   "cell_type": "code",
   "execution_count": 7,
   "metadata": {
    "collapsed": false
   },
   "outputs": [
    {
     "name": "stdout",
     "output_type": "stream",
     "text": [
      "(R,triu(A)) = (\n",
      "[1.0 0.5 0.3333333333333333 0.25\n",
      " 0.0 1.0 0.6666666666666666 0.5\n",
      " 0.0 0.0 1.0 0.75\n",
      " 0.0 0.0 0.0 1.0],\n",
      "\n",
      "[1.0 0.5 0.33333333333333326 0.24999999999999967\n",
      " 0.0 0.9999999999999999 0.6666666666666667 0.5000000000000002\n",
      " 0.0 0.0 1.0 0.75\n",
      " 0.0 0.0 0.0 -1.0000000000000004])\n"
     ]
    },
    {
     "data": {
      "text/plain": [
       "(\n",
       "4x4 Array{Float64,2}:\n",
       " 1.0  0.5  0.333333  0.25\n",
       " 0.0  1.0  0.666667  0.5 \n",
       " 0.0  0.0  1.0       0.75\n",
       " 0.0  0.0  0.0       1.0 ,\n",
       "\n",
       "4x4 Array{Float64,2}:\n",
       " 1.0  0.5  0.333333   0.25\n",
       " 0.0  1.0  0.666667   0.5 \n",
       " 0.0  0.0  1.0        0.75\n",
       " 0.0  0.0  0.0       -1.0 )"
      ]
     },
     "execution_count": 7,
     "metadata": {},
     "output_type": "execute_result"
    }
   ],
   "source": [
    "# Testing QR factorization using Householder transformations\n",
    "n = 4\n",
    "\n",
    "# Building an orthogonal matrix Q\n",
    "Q = zeros(n,n)\n",
    "for j=0:n-1, i=0:n-1\n",
    "    Q[i+1,j+1] = cos(π*(2i+1)*j/2n)\n",
    "end\n",
    "for j=1:n\n",
    "    Q[:,j] /= norm(Q[:,j])\n",
    "end\n",
    "\n",
    "# Initializing an upper triangular matrix R\n",
    "R = triu(Float64[ i/j for i=1:n, j=1:n ])\n",
    "\n",
    "# Matrix A\n",
    "A = Q*R\n",
    "# QR factorization\n",
    "geqrf!(A)\n",
    "# The factor R is stored in the upper triangular part of A\n",
    "\n",
    "# These matrices should match up to the sign of each row\n",
    "@show R,triu(A)"
   ]
  }
 ],
 "metadata": {
  "kernelspec": {
   "display_name": "Julia 0.4.5",
   "language": "julia",
   "name": "julia-0.4"
  },
  "language_info": {
   "file_extension": ".jl",
   "mimetype": "application/julia",
   "name": "julia",
   "version": "0.4.5"
  }
 },
 "nbformat": 4,
 "nbformat_minor": 0
}
