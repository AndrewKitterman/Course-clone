{
 "cells": [
  {
   "cell_type": "code",
   "execution_count": 2,
   "metadata": {
    "collapsed": false
   },
   "outputs": [
    {
     "data": {
      "text/plain": [
       "geqrfMGS! (generic function with 1 method)"
      ]
     },
     "execution_count": 2,
     "metadata": {},
     "output_type": "execute_result"
    }
   ],
   "source": [
    "include(\"geqrf.jl\")"
   ]
  },
  {
   "cell_type": "code",
   "execution_count": 3,
   "metadata": {
    "collapsed": false
   },
   "outputs": [
    {
     "data": {
      "text/plain": [
       "32-element Array{Float64,1}:\n",
       " 0.236729  \n",
       " 0.476513  \n",
       " 0.589524  \n",
       " 0.336845  \n",
       " 0.5636    \n",
       " 0.221532  \n",
       " 0.821042  \n",
       " 0.841374  \n",
       " 0.615093  \n",
       " 0.190004  \n",
       " 0.842753  \n",
       " 0.00322135\n",
       " 0.709239  \n",
       " ⋮         \n",
       " 0.576871  \n",
       " 0.542172  \n",
       " 0.832438  \n",
       " 0.967977  \n",
       " 0.961315  \n",
       " 0.214749  \n",
       " 0.519267  \n",
       " 0.652337  \n",
       " 0.0626117 \n",
       " 0.729213  \n",
       " 0.645761  \n",
       " 0.425333  "
      ]
     },
     "execution_count": 3,
     "metadata": {},
     "output_type": "execute_result"
    }
   ],
   "source": [
    "n = 32\n",
    "x = rand(n)"
   ]
  },
  {
   "cell_type": "code",
   "execution_count": 4,
   "metadata": {
    "collapsed": false
   },
   "outputs": [
    {
     "data": {
      "text/plain": [
       "(0.930169347639067,[1.0,-0.151115,-0.186954,-0.106823,-0.178733,-0.0702537,-0.260374,-0.266823,-0.195063,-0.0602554  …  -0.263988,-0.306972,-0.304859,-0.0681026,-0.164674,-0.206874,-0.0198559,-0.231253,-0.204788,-0.134885])"
      ]
     },
     "execution_count": 4,
     "metadata": {},
     "output_type": "execute_result"
    }
   ],
   "source": [
    "beta, v = house(x)"
   ]
  },
  {
   "cell_type": "code",
   "execution_count": 5,
   "metadata": {
    "collapsed": false
   },
   "outputs": [
    {
     "name": "stdout",
     "output_type": "stream",
     "text": [
      "norm(Px - y) = 4.967009300928487e-16\n"
     ]
    },
    {
     "data": {
      "text/plain": [
       "4.967009300928487e-16"
      ]
     },
     "execution_count": 5,
     "metadata": {},
     "output_type": "execute_result"
    }
   ],
   "source": [
    "y = zeros(n); y[1] = norm(x)\n",
    "Px = x - beta * dot(v,x) * v\n",
    "@show norm(Px - y)"
   ]
  },
  {
   "cell_type": "code",
   "execution_count": 6,
   "metadata": {
    "collapsed": false
   },
   "outputs": [
    {
     "data": {
      "text/plain": [
       "1x32 Array{Float64,2}:\n",
       " 1.0  0.0  0.0  0.0  0.0  0.0  0.0  0.0  …  0.0  0.0  0.0  0.0  0.0  0.0  0.0"
      ]
     },
     "execution_count": 6,
     "metadata": {},
     "output_type": "execute_result"
    }
   ],
   "source": [
    "e1 = zeros(n); e1[1] = 1.0\n",
    "e1'"
   ]
  },
  {
   "cell_type": "code",
   "execution_count": 7,
   "metadata": {
    "collapsed": true
   },
   "outputs": [],
   "source": [
    "# Insert Julia code for exercise here"
   ]
  },
  {
   "cell_type": "code",
   "execution_count": 8,
   "metadata": {
    "collapsed": false
   },
   "outputs": [
    {
     "name": "stdout",
     "output_type": "stream",
     "text": [
      "(R,triu(A)) = (\n",
      "[1.0 0.5 0.3333333333333333 0.25\n",
      " 0.0 1.0 0.6666666666666666 0.5\n",
      " 0.0 0.0 1.0 0.75\n",
      " 0.0 0.0 0.0 1.0],\n",
      "\n",
      "[1.0 0.5 0.33333333333333326 0.24999999999999967\n",
      " 0.0 0.9999999999999999 0.6666666666666667 0.5000000000000002\n",
      " 0.0 0.0 1.0 0.75\n",
      " 0.0 0.0 0.0 -1.0000000000000004])\n"
     ]
    },
    {
     "data": {
      "text/plain": [
       "(\n",
       "4x4 Array{Float64,2}:\n",
       " 1.0  0.5  0.333333  0.25\n",
       " 0.0  1.0  0.666667  0.5 \n",
       " 0.0  0.0  1.0       0.75\n",
       " 0.0  0.0  0.0       1.0 ,\n",
       "\n",
       "4x4 Array{Float64,2}:\n",
       " 1.0  0.5  0.333333   0.25\n",
       " 0.0  1.0  0.666667   0.5 \n",
       " 0.0  0.0  1.0        0.75\n",
       " 0.0  0.0  0.0       -1.0 )"
      ]
     },
     "execution_count": 8,
     "metadata": {},
     "output_type": "execute_result"
    }
   ],
   "source": [
    "# Testing QR factorization using Householder transformations\n",
    "n = 4\n",
    "\n",
    "# Building an orthogonal matrix Q\n",
    "Q = zeros(n,n)\n",
    "for j=0:n-1, i=0:n-1\n",
    "    Q[i+1,j+1] = cos(π*(2i+1)*j/2n)\n",
    "end\n",
    "for j=1:n\n",
    "    Q[:,j] /= norm(Q[:,j])\n",
    "end\n",
    "\n",
    "# Initializing an upper triangular matrix R\n",
    "R = triu(Float64[ i/j for i=1:n, j=1:n ])\n",
    "\n",
    "# Matrix A\n",
    "A = Q*R\n",
    "# QR factorization\n",
    "geqrf!(A)\n",
    "# The factor R is stored in the upper triangular part of A\n",
    "\n",
    "# These matrices should match up to the sign of each row\n",
    "@show R,triu(A)"
   ]
  },
  {
   "cell_type": "code",
   "execution_count": 22,
   "metadata": {
    "collapsed": false
   },
   "outputs": [
    {
     "name": "stdout",
     "output_type": "stream",
     "text": [
      "norm(R - triu(A)) = 66.33802856404111\n",
      "norm(Q * R - A0) = 0.0\n",
      "norm(Q' * Q - eye(n,n)) = 9.41588211381689e-14\n"
     ]
    },
    {
     "data": {
      "text/plain": [
       "9.41588211381689e-14"
      ]
     },
     "execution_count": 22,
     "metadata": {},
     "output_type": "execute_result"
    }
   ],
   "source": [
    "# Testing accuracy of QR factorizations using Householder transformations\n",
    "n = 256\n",
    "\n",
    "# Building an orthogonal matrix Q\n",
    "Q = zeros(n,n)\n",
    "for j=0:n-1, i=0:n-1\n",
    "    Q[i+1,j+1] = cos(π*(2i+1)*j/2n)\n",
    "end\n",
    "for j=1:n\n",
    "    Q[:,j] /= norm(Q[:,j])\n",
    "end\n",
    "\n",
    "# Initializing a random upper triangular matrix R\n",
    "R = triu(rand(n,n))\n",
    "\n",
    "# Matrix A\n",
    "A = Q*R\n",
    "A0 = copy(A)\n",
    "# QR factorization\n",
    "geqrf!(A)\n",
    "# The factor R is stored in the upper triangular part of A\n",
    "\n",
    "# Fixing the sign\n",
    "for i=1:n\n",
    "    if A[i,i] * R[i,i] < 0\n",
    "        R[i,:] = -R[i,:]\n",
    "        Q[:,i] = -Q[:,i]\n",
    "    end\n",
    "end\n",
    "\n",
    "# Testing the accuracy of Q and R\n",
    "@show norm(R - triu(A)) # Forward error\n",
    "@show norm(Q*R - A0) # Backward error\n",
    "@show norm(Q' * Q - eye(n,n)) # Orthogonality of Q"
   ]
  }
 ],
 "metadata": {
  "kernelspec": {
   "display_name": "Julia 0.4.5",
   "language": "julia",
   "name": "julia-0.4"
  },
  "language_info": {
   "file_extension": ".jl",
   "mimetype": "application/julia",
   "name": "julia",
   "version": "0.4.5"
  }
 },
 "nbformat": 4,
 "nbformat_minor": 0
}
