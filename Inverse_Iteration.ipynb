{
 "cells": [
  {
   "cell_type": "code",
   "execution_count": 1,
   "metadata": {
    "collapsed": true
   },
   "outputs": [],
   "source": [
    "# Initialize the random number generator\n",
    "rng = MersenneTwister(17);"
   ]
  },
  {
   "cell_type": "code",
   "execution_count": 2,
   "metadata": {
    "collapsed": false
   },
   "outputs": [
    {
     "data": {
      "text/plain": [
       "8x8 Array{Float64,2}:\n",
       "  0.0384624   -1.56996   -0.154514   …  0.587415   -2.47099   4.73639\n",
       "  0.401152    -5.90661   -1.2716        2.13599    -8.03664  18.4138 \n",
       "  0.0757717   -4.4529    -0.789973      1.69741    -6.14284  13.7928 \n",
       "  0.226433    -6.39289   -1.2604        2.3113     -8.76717  19.8248 \n",
       "  0.503808   -10.6681    -2.26779       3.86963   -14.3144   33.1394 \n",
       " -0.149001    -0.678503   0.0503477  …  0.400748   -1.14258   1.94272\n",
       "  0.0514747   -5.85998   -1.16015       2.24269    -7.78805  18.2443 \n",
       "  0.357506    -7.39172   -1.62379       2.72042    -9.76903  23.0428 "
      ]
     },
     "execution_count": 2,
     "metadata": {},
     "output_type": "execute_result"
    }
   ],
   "source": [
    "# Size of matrix\n",
    "n = 8\n",
    "X = rand(rng, n, n)\n",
    "for i=1:n\n",
    "    X[:,i] /= norm(X[:,i])\n",
    "end\n",
    "\n",
    "Λ = diagm(Float32[2.0^(-i) for i=0:n-1])\n",
    "\n",
    "A = X * Λ / X"
   ]
  },
  {
   "cell_type": "code",
   "execution_count": 3,
   "metadata": {
    "collapsed": false
   },
   "outputs": [
    {
     "name": "stdout",
     "output_type": "stream",
     "text": [
      "Exact answer: 0.25\n",
      "Iteration: 1 | e-value: 0.22910633918979875\n",
      "Iteration: 2 | e-value: 0.3002391350910989\n",
      "Iteration: 3 | e-value: 0.24756418907626374\n",
      "Iteration: 4 | e-value: 0.24942813997250798\n",
      "Iteration: 5 | e-value: 0.2503619841879016\n",
      "Iteration: 6 | e-value: 0.24988797387760403\n",
      "Iteration: 7 | e-value: 0.25003142721733157\n",
      "Iteration: 8 | e-value: 0.24999174238657462\n"
     ]
    }
   ],
   "source": [
    "qk = rand(rng, n)\n",
    "qk /= norm(qk)\n",
    "\n",
    "ev0 = Λ[3,3]\n",
    "ev = ev0 * 0.9\n",
    "# Our initial approximation of an eigenvalue of interest\n",
    "\n",
    "println(\"Exact answer: \", ev0)\n",
    "\n",
    "I = eye(n)\n",
    "\n",
    "for k=1:8\n",
    "    zk = (A - ev * I) \\ qk\n",
    "    qk = zk/norm(zk)       # Normalize e-vector\n",
    "    μ = dot(qk, A * qk)    # E-value approximation\n",
    "    println(\"Iteration: \",k,\" | e-value: \", μ)\n",
    "end"
   ]
  }
 ],
 "metadata": {
  "anaconda-cloud": {},
  "kernelspec": {
   "display_name": "Julia 0.4.6",
   "language": "julia",
   "name": "julia-0.4"
  },
  "language_info": {
   "file_extension": ".jl",
   "mimetype": "application/julia",
   "name": "julia",
   "version": "0.4.6"
  }
 },
 "nbformat": 4,
 "nbformat_minor": 0
}
