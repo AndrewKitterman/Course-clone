{
 "cells": [
  {
   "cell_type": "code",
   "execution_count": 1,
   "metadata": {},
   "outputs": [],
   "source": [
    "include(\"../src/geqrf.jl\")\n",
    "using Random\n",
    "rng = MersenneTwister(2018)\n",
    "import LinearAlgebra.dot\n",
    "import LinearAlgebra.norm\n",
    "import LinearAlgebra.triu\n",
    ";"
   ]
  },
  {
   "cell_type": "code",
   "execution_count": 2,
   "metadata": {},
   "outputs": [
    {
     "data": {
      "text/plain": [
       "6×6 Array{Float64,2}:\n",
       " 0.654539  0.151455  0.970956  0.40543     0.379994  0.29234\n",
       " 0.108906  0.612651  0.966637  0.540992    0.740725  0.497368\n",
       " 0.0       0.982534  0.34616   0.00765431  0.960489  0.339104\n",
       " 0.0       0.0       0.249169  0.501108    0.585616  0.0791543\n",
       " 0.0       0.0       0.0       0.602202    0.191024  0.658122\n",
       " 0.0       0.0       0.0       0.0         0.422507  0.0184764"
      ]
     },
     "execution_count": 2,
     "metadata": {},
     "output_type": "execute_result"
    }
   ],
   "source": [
    "n = 6\n",
    "A = triu(rand(rng,n,n),-1)\n",
    "\n",
    "# A is a matrix with non-zero entries only above the first sub-diagonal.\n",
    "# Such a matrix is also called an upper Hessenberg matrix.\n",
    "A"
   ]
  },
  {
   "cell_type": "code",
   "execution_count": 3,
   "metadata": {},
   "outputs": [
    {
     "data": {
      "text/plain": [
       "6×6 Array{Float64,2}:\n",
       " 0.663538      0.249955   1.11644    0.488725   0.496415   0.370008\n",
       " 1.38778e-17  -1.14069   -0.701611  -0.243892  -1.16683   -0.516954\n",
       " 0.0           0.0        0.565998   0.578373   0.336559   0.222505\n",
       " 0.0           0.0        0.0       -0.661824  -0.375907  -0.590149\n",
       " 0.0           0.0        0.0        0.0       -0.557731   0.176641\n",
       " 0.0           0.0        0.0        0.0        0.0       -0.233295"
      ]
     },
     "execution_count": 3,
     "metadata": {},
     "output_type": "execute_result"
    }
   ],
   "source": [
    "for k=1:n-1\n",
    "    c, s = givens(A[k,k], A[k+1,k])\n",
    "    # Apply the Givens rotation to row k and k+1\n",
    "    for j=k:n\n",
    "        A[k,j], A[k+1,j] =\n",
    "            ( c * A[k,j] - s * A[k+1,j],\n",
    "              s * A[k,j] + c * A[k+1,j] )\n",
    "    end\n",
    "end\n",
    "# A is now upper triangular\n",
    "A"
   ]
  }
 ],
 "metadata": {
  "@webio": {
   "lastCommId": null,
   "lastKernelId": null
  },
  "kernelspec": {
   "display_name": "Julia 1.5.1",
   "language": "julia",
   "name": "julia-1.5"
  },
  "language_info": {
   "file_extension": ".jl",
   "mimetype": "application/julia",
   "name": "julia",
   "version": "1.5.1"
  }
 },
 "nbformat": 4,
 "nbformat_minor": 1
}
