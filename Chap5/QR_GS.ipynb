{
 "cells": [
  {
   "cell_type": "code",
   "execution_count": 1,
   "metadata": {},
   "outputs": [],
   "source": [
    "include(\"../src/geqrf.jl\")\n",
    "using Random\n",
    "rng = MersenneTwister(2018)\n",
    "import LinearAlgebra.dot\n",
    "import LinearAlgebra.norm\n",
    "import LinearAlgebra.triu\n",
    "import LinearAlgebra.diag\n",
    "using Printf\n",
    ";"
   ]
  },
  {
   "cell_type": "code",
   "execution_count": 2,
   "metadata": {},
   "outputs": [
    {
     "data": {
      "text/plain": [
       "orthogonal_matrix (generic function with 1 method)"
      ]
     },
     "execution_count": 2,
     "metadata": {},
     "output_type": "execute_result"
    }
   ],
   "source": [
    "function orthogonal_matrix(m,n)\n",
    "    # Building an orthogonal matrix Q\n",
    "    Q = zeros(m,n)\n",
    "    for j=0:n-1, i=0:m-1\n",
    "        Q[i+1,j+1] = cos(π*(2i+1)*j/2m)\n",
    "    end\n",
    "    for j=1:n\n",
    "        Q[:,j] /= norm(Q[:,j])\n",
    "    end\n",
    "    return Q\n",
    "end    "
   ]
  },
  {
   "cell_type": "code",
   "execution_count": 3,
   "metadata": {},
   "outputs": [
    {
     "name": "stdout",
     "output_type": "stream",
     "text": [
      "norm(Q - A) = 4.999857065771613e-16\n",
      "norm(R - RGS) = 4.079219866531555e-16\n"
     ]
    },
    {
     "data": {
      "text/plain": [
       "4.079219866531555e-16"
      ]
     },
     "execution_count": 3,
     "metadata": {},
     "output_type": "execute_result"
    }
   ],
   "source": [
    "# Testing QR factorization using CGS\n",
    "n = 4\n",
    "m = 8\n",
    "\n",
    "# Building an orthogonal matrix Q\n",
    "Q = orthogonal_matrix(m,n)\n",
    "\n",
    "# Initializing an upper triangular matrix R\n",
    "R = triu(Float64[ i/j for i=1:n, j=1:n ])\n",
    "\n",
    "# Matrix A\n",
    "A = Q*R\n",
    "# QR factorization\n",
    "RGS = geqrfCGS!(A)\n",
    "# The factor Q is stored in A\n",
    "\n",
    "# These matrices should now be equal\n",
    "@show norm(Q-A)\n",
    "@show norm(R-RGS)"
   ]
  },
  {
   "cell_type": "code",
   "execution_count": 4,
   "metadata": {},
   "outputs": [
    {
     "data": {
      "text/plain": [
       "pretty_print (generic function with 1 method)"
      ]
     },
     "execution_count": 4,
     "metadata": {},
     "output_type": "execute_result"
    }
   ],
   "source": [
    "function pretty_print(A)\n",
    "    m = size(A,1)\n",
    "    n = size(A,2)\n",
    "    for i=1:m\n",
    "        for j=1:n\n",
    "            @printf \"%12.3e\" A[i,j]\n",
    "        end\n",
    "        @printf \"\\n\"\n",
    "    end\n",
    "end    "
   ]
  },
  {
   "cell_type": "code",
   "execution_count": 5,
   "metadata": {},
   "outputs": [
    {
     "name": "stdout",
     "output_type": "stream",
     "text": [
      "e = 2.0 ^ -10 * sqrt(eps(Float64)) = 1.4551915228366852e-11\n",
      "A\n",
      "   1.000e+00   1.000e+00   1.000e+00\n",
      "   1.455e-11   0.000e+00   0.000e+00\n",
      "   0.000e+00   1.455e-11   0.000e+00\n",
      "   0.000e+00   0.000e+00   1.455e-11\n",
      "\n",
      "CGS\n",
      "   1.000e+00   0.000e+00   0.000e+00\n",
      "   1.455e-11  -7.071e-01  -7.071e-01\n",
      "   0.000e+00   7.071e-01   0.000e+00\n",
      "   0.000e+00   0.000e+00   7.071e-01\n",
      "\n",
      "MGS\n",
      "   1.000e+00   0.000e+00   0.000e+00\n",
      "   1.455e-11  -7.071e-01  -4.082e-01\n",
      "   0.000e+00   7.071e-01  -4.082e-01\n",
      "   0.000e+00   0.000e+00   8.165e-01\n"
     ]
    }
   ],
   "source": [
    "@show e = 2.0^(-10) * sqrt(eps(Float64))\n",
    "A0 = [1 1 1; e 0 0; 0 e 0; 0 0 e]\n",
    "@printf \"A\\n\"\n",
    "pretty_print(A0)\n",
    "A = copy(A0); geqrfCGS!(A)\n",
    "@printf \"\\nCGS\\n\"\n",
    "pretty_print(A)\n",
    "\n",
    "A = copy(A0); geqrfMGS!(A)\n",
    "@printf \"\\nMGS\\n\"\n",
    "pretty_print(A)"
   ]
  },
  {
   "cell_type": "code",
   "execution_count": 6,
   "metadata": {},
   "outputs": [
    {
     "data": {
      "text/html": [
       "    <script class='js-collapse-script'>\n",
       "        var curMatch =\n",
       "            window.location.href\n",
       "            .match(/(.*?)\\/notebooks\\/.*\\.ipynb/);\n",
       "\n",
       "        curMatch = curMatch ||\n",
       "            window.location.href\n",
       "            .match(/(.*?)\\/apps\\/.*\\.ipynb/);\n",
       "\n",
       "        if ( curMatch ) {\n",
       "            $('head').append('<base href=\"' + curMatch[1] + '/\">');\n",
       "        }\n",
       "    </script>\n"
      ],
      "text/plain": [
       "HTML{String}(\"    <script class='js-collapse-script'>\\n        var curMatch =\\n            window.location.href\\n            .match(/(.*?)\\\\/notebooks\\\\/.*\\\\.ipynb/);\\n\\n        curMatch = curMatch ||\\n            window.location.href\\n            .match(/(.*?)\\\\/apps\\\\/.*\\\\.ipynb/);\\n\\n        if ( curMatch ) {\\n            \\$('head').append('<base href=\\\"' + curMatch[1] + '/\\\">');\\n        }\\n    </script>\\n\")"
      ]
     },
     "metadata": {},
     "output_type": "display_data"
    },
    {
     "data": {
      "text/html": [
       "<script class='js-collapse-script' src='/assetserver/f562d6507acc94a42cdf3b074249b311a179837e-assets/webio/dist/bundle.js'></script>"
      ],
      "text/plain": [
       "HTML{String}(\"<script class='js-collapse-script' src='/assetserver/f562d6507acc94a42cdf3b074249b311a179837e-assets/webio/dist/bundle.js'></script>\")"
      ]
     },
     "metadata": {},
     "output_type": "display_data"
    },
    {
     "data": {
      "text/html": [
       "<script class='js-collapse-script' src='/assetserver/f562d6507acc94a42cdf3b074249b311a179837e-assets/providers/ijulia_setup.js'></script>"
      ],
      "text/plain": [
       "HTML{String}(\"<script class='js-collapse-script' src='/assetserver/f562d6507acc94a42cdf3b074249b311a179837e-assets/providers/ijulia_setup.js'></script>\")"
      ]
     },
     "metadata": {},
     "output_type": "display_data"
    },
    {
     "data": {
      "text/html": [
       "  <script class='js-collapse-script'>\n",
       "    $('.js-collapse-script').parent('.output_subarea').css('padding', '0');\n",
       "  </script>\n"
      ],
      "text/plain": [
       "HTML{String}(\"  <script class='js-collapse-script'>\\n    \\$('.js-collapse-script').parent('.output_subarea').css('padding', '0');\\n  </script>\\n\")"
      ]
     },
     "metadata": {},
     "output_type": "display_data"
    }
   ],
   "source": [
    "include(\"../load_plot_pkg.jl\")\n",
    "output = false\n",
    "if output\n",
    "    using ORCA\n",
    "end"
   ]
  },
  {
   "cell_type": "code",
   "execution_count": 7,
   "metadata": {},
   "outputs": [
    {
     "data": {
      "text/html": [
       "<div class='display:none'></div><unsafe-script style='display:none'>\n",
       "WebIO.mount(this.previousSibling,{&quot;props&quot;:{},&quot;nodeType&quot;:&quot;Scope&quot;,&quot;type&quot;:&quot;node&quot;,&quot;instanceArgs&quot;:{&quot;imports&quot;:{&quot;data&quot;:[{&quot;name&quot;:&quot;Plotly&quot;,&quot;type&quot;:&quot;js&quot;,&quot;url&quot;:&quot;/assetserver/1e2c0da7fbe518270434b2ec2c46e20d1e0891d6-plotly-latest.min.js&quot;},{&quot;name&quot;:null,&quot;type&quot;:&quot;js&quot;,&quot;url&quot;:&quot;/assetserver/2009f112a9eee3177314b516a62b493c2ea5b3f5-plotly_webio.bundle.js&quot;}],&quot;type&quot;:&quot;async_block&quot;},&quot;id&quot;:&quot;scope-d88cf58c-0789-4aa2-9861-c79cfc6a0423&quot;,&quot;handlers&quot;:{&quot;_toImage&quot;:[(function (options){return this.Plotly.toImage(this.plotElem,options).then((function (data){return WebIO.setval({&quot;name&quot;:&quot;image&quot;,&quot;scope&quot;:&quot;scope-d88cf58c-0789-4aa2-9861-c79cfc6a0423&quot;,&quot;id&quot;:&quot;ob_05&quot;,&quot;type&quot;:&quot;observable&quot;},data)}))})],&quot;__get_gd_contents&quot;:[(function (prop){prop==&quot;data&quot; ? (WebIO.setval({&quot;name&quot;:&quot;__gd_contents&quot;,&quot;scope&quot;:&quot;scope-d88cf58c-0789-4aa2-9861-c79cfc6a0423&quot;,&quot;id&quot;:&quot;ob_06&quot;,&quot;type&quot;:&quot;observable&quot;},this.plotElem.data)) : undefined; return prop==&quot;layout&quot; ? (WebIO.setval({&quot;name&quot;:&quot;__gd_contents&quot;,&quot;scope&quot;:&quot;scope-d88cf58c-0789-4aa2-9861-c79cfc6a0423&quot;,&quot;id&quot;:&quot;ob_06&quot;,&quot;type&quot;:&quot;observable&quot;},this.plotElem.layout)) : undefined})],&quot;_promises&quot;:{&quot;importsLoaded&quot;:[(function (Plotly){var gd=this.dom.querySelector(&quot;#plot-411d4769-700d-453a-b52e-761f7226e2bf&quot;); this.plotElem=gd; this.Plotly=Plotly; (window.Blink!==undefined) ? (gd.style.width=&quot;100%&quot;, gd.style.height=&quot;100vh&quot;, gd.style.marginLeft=&quot;0%&quot;, gd.style.marginTop=&quot;0vh&quot;) : undefined; window.onresize=(function (){return Plotly.Plots.resize(gd)}); Plotly.newPlot(gd,[{&quot;y&quot;:[0.5,0.125,0.041666666666666664,0.015625,0.00625,0.0026041666666666665,0.0011160714285714285,0.00048828125,0.00021701388888888888,9.765625e-5,4.438920454545455e-5,2.0345052083333332e-5,9.390024038461539e-6,4.359654017857143e-6,2.0345052083333333e-6,9.5367431640625e-7,4.4878791360294117e-7,2.1192762586805554e-7,1.0038677014802631e-7,4.76837158203125e-8,2.270653134300595e-8,1.0837208140980114e-8,5.183012589164402e-9,2.483526865641276e-9,1.1920928955078125e-9,5.73121584378756e-10,2.759474295156973e-10,1.330460820879255e-10,6.422914307692955e-11,3.104408582051595e-11,1.502133184863675e-11,7.275957614183426e-12,3.527737025058631e-12,1.7119900268666884e-12,8.315380130495344e-13,4.0421986745463475e-13,1.9664750308603855e-13,9.573628439715034e-14,4.664075393707324e-14,2.2737367544323207e-14,1.1091398802108881e-14,5.4136589391245725e-15,2.6438799470143262e-15,1.2918958832001822e-15,6.315935428978669e-16,3.089316242435218e-16,1.5117930548087238e-16,7.401486830834377e-17,3.6252180395923476e-17,1.7763568394002505e-17,8.707631565687502e-18,4.270088556250602e-18,2.09476042382105e-18,1.02798428206033e-18,5.046468293750711e-19,2.4781763942525814e-19,1.2173498077030225e-19,5.981805089575197e-20,2.940209281316622e-20,1.4456028966473392e-20,7.109522442527898e-21,3.497426362856466e-21,1.7209558293420704e-21,8.470329472543003e-22],&quot;type&quot;:&quot;scatter&quot;,&quot;name&quot;:&quot;exact&quot;,&quot;marker&quot;:{&quot;color&quot;:&quot;#E24A33&quot;,&quot;line&quot;:{&quot;color&quot;:&quot;#348ABD&quot;,&quot;width&quot;:0.5},&quot;size&quot;:10}},{&quot;y&quot;:[0.49999999999999994,0.125,0.041666666666666664,0.015624999999999997,0.006250000000000001,0.002604166666666667,0.0011160714285714283,0.00048828125,0.00021701388888888983,9.765625000000029e-5,4.4389204545453476e-5,2.0345052083332756e-5,9.39002403846267e-6,4.359654017857629e-6,2.0345052083325413e-6,9.536743164094677e-7,4.4878791361680085e-7,2.1192762594628597e-7,1.0038677052977145e-7,4.7683717198759713e-8,2.2706541022170957e-8,1.0837398240704197e-8,5.184287976500051e-9,2.487077860085011e-9,1.2238833411468093e-9,6.786402968918553e-10,6.208833106871207e-10,7.643826808234364e-10,8.284836901374826e-10,4.917395070888842e-10,8.930627339040384e-10,1.202788309268584e-9,1.5961502393162597e-9,1.9303752086609154e-9,2.2033817421183026e-9,2.4307820415215584e-9,2.646953026933481e-9,2.8828954274285165e-9,3.1051833284041188e-9,3.309413150088379e-9,3.4908598576620835e-9,3.6679629893115476e-9,3.83276781380685e-9,4.0117512410438085e-9,4.176781804106932e-9,4.349966060680394e-9,4.49057290121154e-9,4.638719803238111e-9,4.778744402629368e-9,4.915634754408083e-9,5.021822368570744e-9,5.1521278783568745e-9,5.275497942046299e-9,5.393216839572812e-9,5.499038771794344e-9,5.599611353963386e-9,5.692449496326514e-9,5.784215549705856e-9,5.8853869802657134e-9,5.9806710188980546e-9,6.063121552129852e-9,6.148516698050588e-9,6.224435574155441e-9,6.2997475067148544e-9],&quot;type&quot;:&quot;scatter&quot;,&quot;name&quot;:&quot;CGS&quot;,&quot;marker&quot;:{&quot;color&quot;:&quot;#348ABD&quot;,&quot;line&quot;:{&quot;color&quot;:&quot;#348ABD&quot;,&quot;width&quot;:0.5},&quot;size&quot;:10}},{&quot;y&quot;:[1.5700924586837752e-16,6.29785931692991e-16,1.6995356782062242e-15,1.1497852858108991e-14,5.795256918129784e-14,5.86387656849119e-13,4.201616970803709e-12,2.1712895800946992e-11,1.0110347042682066e-10,4.612200982447007e-10,2.267337671461073e-9,1.0474317238690713e-8,4.192604644354569e-8,1.4963950463665324e-7,5.495447715410168e-7,2.1654413805555835e-6,8.018893924823216e-6,2.71695318963491e-5,8.70562831473493e-5,0.00024046604454708184,0.0009233483083103464,0.005923001163325806,0.022181540448149628,0.05343739696835822,0.22792570053971833,0.5576477016689939,1.054093635926362,1.2852572489877827,1.3582885255409836,1.3688453815529151,1.4022695754573282,1.4099296135644215,1.4126498830165608,1.4135863123448444,1.4139466820656816,1.4140959718006296,1.4141610281516892,1.414190079449797,1.4142029416585218,1.4142087051982888,1.4142113169988728,1.4142125201274012,1.4142130754481774,1.414213334377601,1.4142134557124206,1.4142135124281774,1.4142135386063872,1.4142135505411517,1.414213557096618,1.4142135598657541,1.4142135607824557,1.4142135613386737,1.414213562917469,1.4142135631730632,1.4142135642917897,1.4142135634221413,1.4142135632522468,1.414213562516879,1.414213562557731,1.4142135622827994,1.4142135628576922,1.414213561863225,1.4142135617660119,1.4142135622696284],&quot;type&quot;:&quot;scatter&quot;,&quot;name&quot;:&quot;Error in qk&quot;,&quot;marker&quot;:{&quot;color&quot;:&quot;#988ED5&quot;,&quot;line&quot;:{&quot;color&quot;:&quot;#348ABD&quot;,&quot;width&quot;:0.5},&quot;size&quot;:10}}],{&quot;xaxis&quot;:{&quot;showgrid&quot;:true,&quot;gridcolor&quot;:&quot;#E5E5E5&quot;,&quot;titlefont&quot;:{&quot;color&quot;:&quot;#555555&quot;,&quot;size&quot;:18},&quot;zeroline&quot;:false,&quot;ticks&quot;:&quot;inside&quot;,&quot;linewidth&quot;:1.0,&quot;mirror&quot;:true,&quot;linecolor&quot;:&quot;black&quot;},&quot;titlefont&quot;:{&quot;size&quot;:18},&quot;font&quot;:{&quot;size&quot;:16},&quot;height&quot;:300,&quot;margin&quot;:{&quot;l&quot;:50,&quot;b&quot;:50,&quot;r&quot;:50,&quot;t&quot;:60},&quot;yaxis&quot;:{&quot;showgrid&quot;:true,&quot;gridcolor&quot;:&quot;#E5E5E5&quot;,&quot;titlefont&quot;:{&quot;color&quot;:&quot;#555555&quot;,&quot;size&quot;:18},&quot;zeroline&quot;:false,&quot;type&quot;:&quot;log&quot;,&quot;ticks&quot;:&quot;inside&quot;,&quot;linewidth&quot;:1.0,&quot;mirror&quot;:true,&quot;linecolor&quot;:&quot;black&quot;},&quot;width&quot;:500},{}); gd.on(&quot;plotly_hover&quot;,(function (data){var filtered_data=WebIO.CommandSets.Plotly.filterEventData(gd,data,&quot;hover&quot;); return !(filtered_data.isnil) ? (WebIO.setval({&quot;name&quot;:&quot;hover&quot;,&quot;scope&quot;:&quot;scope-d88cf58c-0789-4aa2-9861-c79cfc6a0423&quot;,&quot;id&quot;:&quot;ob_01&quot;,&quot;type&quot;:&quot;observable&quot;},filtered_data.out)) : undefined})); gd.on(&quot;plotly_unhover&quot;,(function (){return WebIO.setval({&quot;name&quot;:&quot;hover&quot;,&quot;scope&quot;:&quot;scope-d88cf58c-0789-4aa2-9861-c79cfc6a0423&quot;,&quot;id&quot;:&quot;ob_01&quot;,&quot;type&quot;:&quot;observable&quot;},{})})); gd.on(&quot;plotly_selected&quot;,(function (data){var filtered_data=WebIO.CommandSets.Plotly.filterEventData(gd,data,&quot;selected&quot;); return !(filtered_data.isnil) ? (WebIO.setval({&quot;name&quot;:&quot;selected&quot;,&quot;scope&quot;:&quot;scope-d88cf58c-0789-4aa2-9861-c79cfc6a0423&quot;,&quot;id&quot;:&quot;ob_02&quot;,&quot;type&quot;:&quot;observable&quot;},filtered_data.out)) : undefined})); gd.on(&quot;plotly_deselect&quot;,(function (){return WebIO.setval({&quot;name&quot;:&quot;selected&quot;,&quot;scope&quot;:&quot;scope-d88cf58c-0789-4aa2-9861-c79cfc6a0423&quot;,&quot;id&quot;:&quot;ob_02&quot;,&quot;type&quot;:&quot;observable&quot;},{})})); gd.on(&quot;plotly_relayout&quot;,(function (data){var filtered_data=WebIO.CommandSets.Plotly.filterEventData(gd,data,&quot;relayout&quot;); return !(filtered_data.isnil) ? (WebIO.setval({&quot;name&quot;:&quot;relayout&quot;,&quot;scope&quot;:&quot;scope-d88cf58c-0789-4aa2-9861-c79cfc6a0423&quot;,&quot;id&quot;:&quot;ob_04&quot;,&quot;type&quot;:&quot;observable&quot;},filtered_data.out)) : undefined})); return gd.on(&quot;plotly_click&quot;,(function (data){var filtered_data=WebIO.CommandSets.Plotly.filterEventData(gd,data,&quot;click&quot;); return !(filtered_data.isnil) ? (WebIO.setval({&quot;name&quot;:&quot;click&quot;,&quot;scope&quot;:&quot;scope-d88cf58c-0789-4aa2-9861-c79cfc6a0423&quot;,&quot;id&quot;:&quot;ob_03&quot;,&quot;type&quot;:&quot;observable&quot;},filtered_data.out)) : undefined}))})]},&quot;_downloadImage&quot;:[(function (options){return this.Plotly.downloadImage(this.plotElem,options)})],&quot;_commands&quot;:[(function (args){var fn=args.shift(); var elem=this.plotElem; var Plotly=this.Plotly; args.unshift(elem); return Plotly[fn].apply(this,args)})]},&quot;systemjs_options&quot;:null,&quot;observables&quot;:{&quot;_toImage&quot;:{&quot;sync&quot;:false,&quot;id&quot;:&quot;ob_08&quot;,&quot;value&quot;:{}},&quot;hover&quot;:{&quot;sync&quot;:false,&quot;id&quot;:&quot;ob_01&quot;,&quot;value&quot;:{}},&quot;selected&quot;:{&quot;sync&quot;:false,&quot;id&quot;:&quot;ob_02&quot;,&quot;value&quot;:{}},&quot;__gd_contents&quot;:{&quot;sync&quot;:false,&quot;id&quot;:&quot;ob_06&quot;,&quot;value&quot;:{}},&quot;click&quot;:{&quot;sync&quot;:false,&quot;id&quot;:&quot;ob_03&quot;,&quot;value&quot;:{}},&quot;image&quot;:{&quot;sync&quot;:true,&quot;id&quot;:&quot;ob_05&quot;,&quot;value&quot;:&quot;&quot;},&quot;__get_gd_contents&quot;:{&quot;sync&quot;:false,&quot;id&quot;:&quot;ob_10&quot;,&quot;value&quot;:&quot;&quot;},&quot;_downloadImage&quot;:{&quot;sync&quot;:false,&quot;id&quot;:&quot;ob_09&quot;,&quot;value&quot;:{}},&quot;relayout&quot;:{&quot;sync&quot;:false,&quot;id&quot;:&quot;ob_04&quot;,&quot;value&quot;:{}},&quot;_commands&quot;:{&quot;sync&quot;:false,&quot;id&quot;:&quot;ob_07&quot;,&quot;value&quot;:[]}}},&quot;children&quot;:[{&quot;props&quot;:{&quot;id&quot;:&quot;plot-411d4769-700d-453a-b52e-761f7226e2bf&quot;},&quot;nodeType&quot;:&quot;DOM&quot;,&quot;type&quot;:&quot;node&quot;,&quot;instanceArgs&quot;:{&quot;namespace&quot;:&quot;html&quot;,&quot;tag&quot;:&quot;div&quot;},&quot;children&quot;:[]}]})</unsafe-script>"
      ],
      "text/plain": [
       "data: [\n",
       "  \"scatter with fields marker, name, type, and y\",\n",
       "  \"scatter with fields marker, name, type, and y\",\n",
       "  \"scatter with fields marker, name, type, and y\"\n",
       "]\n",
       "\n",
       "layout: \"layout with fields font, height, margin, titlefont, width, xaxis, and yaxis\"\n",
       "\n"
      ]
     },
     "execution_count": 7,
     "metadata": {},
     "output_type": "execute_result"
    }
   ],
   "source": [
    "n = 64\n",
    "m = 128\n",
    "\n",
    "Q = orthogonal_matrix(m,n)\n",
    "R = triu(Float64[ 2.0^(-i)/j for i=1:n, j=1:n ])\n",
    "# R has decaying entries on the diagonal\n",
    "\n",
    "A = Q*R\n",
    "CGS = geqrfCGS!(A)\n",
    "\n",
    "e = zeros(n)\n",
    "for j=1:n\n",
    "    e[j] = norm(Q[:,j]-A[:,j])\n",
    "end\n",
    "\n",
    "line1 = scatter(y=diag(R),name=\"exact\")\n",
    "line2 = scatter(y=diag(CGS),name=\"CGS\")\n",
    "line3 = scatter(y=e,name=\"Error in qk\")\n",
    "plot([line1, line2, line3],Layout(yaxis_type=\"log\"))"
   ]
  },
  {
   "cell_type": "code",
   "execution_count": 8,
   "metadata": {},
   "outputs": [
    {
     "data": {
      "text/html": [
       "<div class='display:none'></div><unsafe-script style='display:none'>\n",
       "WebIO.mount(this.previousSibling,{&quot;props&quot;:{},&quot;nodeType&quot;:&quot;Scope&quot;,&quot;type&quot;:&quot;node&quot;,&quot;instanceArgs&quot;:{&quot;imports&quot;:{&quot;data&quot;:[{&quot;name&quot;:&quot;Plotly&quot;,&quot;type&quot;:&quot;js&quot;,&quot;url&quot;:&quot;/assetserver/1e2c0da7fbe518270434b2ec2c46e20d1e0891d6-plotly-latest.min.js&quot;},{&quot;name&quot;:null,&quot;type&quot;:&quot;js&quot;,&quot;url&quot;:&quot;/assetserver/2009f112a9eee3177314b516a62b493c2ea5b3f5-plotly_webio.bundle.js&quot;}],&quot;type&quot;:&quot;async_block&quot;},&quot;id&quot;:&quot;scope-9d8eb75b-ca5e-401b-8ac0-5820c2cf777b&quot;,&quot;handlers&quot;:{&quot;_toImage&quot;:[(function (options){return this.Plotly.toImage(this.plotElem,options).then((function (data){return WebIO.setval({&quot;name&quot;:&quot;image&quot;,&quot;scope&quot;:&quot;scope-9d8eb75b-ca5e-401b-8ac0-5820c2cf777b&quot;,&quot;id&quot;:&quot;ob_15&quot;,&quot;type&quot;:&quot;observable&quot;},data)}))})],&quot;__get_gd_contents&quot;:[(function (prop){prop==&quot;data&quot; ? (WebIO.setval({&quot;name&quot;:&quot;__gd_contents&quot;,&quot;scope&quot;:&quot;scope-9d8eb75b-ca5e-401b-8ac0-5820c2cf777b&quot;,&quot;id&quot;:&quot;ob_16&quot;,&quot;type&quot;:&quot;observable&quot;},this.plotElem.data)) : undefined; return prop==&quot;layout&quot; ? (WebIO.setval({&quot;name&quot;:&quot;__gd_contents&quot;,&quot;scope&quot;:&quot;scope-9d8eb75b-ca5e-401b-8ac0-5820c2cf777b&quot;,&quot;id&quot;:&quot;ob_16&quot;,&quot;type&quot;:&quot;observable&quot;},this.plotElem.layout)) : undefined})],&quot;_promises&quot;:{&quot;importsLoaded&quot;:[(function (Plotly){var gd=this.dom.querySelector(&quot;#plot-62aa053f-43df-46be-9715-748c7a177a25&quot;); this.plotElem=gd; this.Plotly=Plotly; (window.Blink!==undefined) ? (gd.style.width=&quot;100%&quot;, gd.style.height=&quot;100vh&quot;, gd.style.marginLeft=&quot;0%&quot;, gd.style.marginTop=&quot;0vh&quot;) : undefined; window.onresize=(function (){return Plotly.Plots.resize(gd)}); Plotly.newPlot(gd,[{&quot;y&quot;:[0.5,0.125,0.041666666666666664,0.015625,0.00625,0.0026041666666666665,0.0011160714285714285,0.00048828125,0.00021701388888888888,9.765625e-5,4.438920454545455e-5,2.0345052083333332e-5,9.390024038461539e-6,4.359654017857143e-6,2.0345052083333333e-6,9.5367431640625e-7,4.4878791360294117e-7,2.1192762586805554e-7,1.0038677014802631e-7,4.76837158203125e-8,2.270653134300595e-8,1.0837208140980114e-8,5.183012589164402e-9,2.483526865641276e-9,1.1920928955078125e-9,5.73121584378756e-10,2.759474295156973e-10,1.330460820879255e-10,6.422914307692955e-11,3.104408582051595e-11,1.502133184863675e-11,7.275957614183426e-12,3.527737025058631e-12,1.7119900268666884e-12,8.315380130495344e-13,4.0421986745463475e-13,1.9664750308603855e-13,9.573628439715034e-14,4.664075393707324e-14,2.2737367544323207e-14,1.1091398802108881e-14,5.4136589391245725e-15,2.6438799470143262e-15,1.2918958832001822e-15,6.315935428978669e-16,3.089316242435218e-16,1.5117930548087238e-16,7.401486830834377e-17,3.6252180395923476e-17,1.7763568394002505e-17,8.707631565687502e-18,4.270088556250602e-18,2.09476042382105e-18,1.02798428206033e-18,5.046468293750711e-19,2.4781763942525814e-19,1.2173498077030225e-19,5.981805089575197e-20,2.940209281316622e-20,1.4456028966473392e-20,7.109522442527898e-21,3.497426362856466e-21,1.7209558293420704e-21,8.470329472543003e-22],&quot;type&quot;:&quot;scatter&quot;,&quot;name&quot;:&quot;r_kk&quot;,&quot;marker&quot;:{&quot;color&quot;:&quot;#E24A33&quot;,&quot;line&quot;:{&quot;color&quot;:&quot;#348ABD&quot;,&quot;width&quot;:0.5},&quot;size&quot;:10}},{&quot;y&quot;:[0.49999999999999994,0.125,0.041666666666666664,0.015624999999999997,0.006250000000000001,0.002604166666666667,0.0011160714285714283,0.00048828125,0.00021701388888888983,9.765625000000029e-5,4.4389204545453476e-5,2.0345052083332756e-5,9.39002403846267e-6,4.359654017857629e-6,2.0345052083325413e-6,9.536743164094677e-7,4.4878791361680085e-7,2.1192762594628597e-7,1.0038677052977145e-7,4.7683717198759713e-8,2.2706541022170957e-8,1.0837398240704197e-8,5.184287976500051e-9,2.487077860085011e-9,1.2238833411468093e-9,6.786402968918553e-10,6.208833106871207e-10,7.643826808234364e-10,8.284836901374826e-10,4.917395070888842e-10,8.930627339040384e-10,1.202788309268584e-9,1.5961502393162597e-9,1.9303752086609154e-9,2.2033817421183026e-9,2.4307820415215584e-9,2.646953026933481e-9,2.8828954274285165e-9,3.1051833284041188e-9,3.309413150088379e-9,3.4908598576620835e-9,3.6679629893115476e-9,3.83276781380685e-9,4.0117512410438085e-9,4.176781804106932e-9,4.349966060680394e-9,4.49057290121154e-9,4.638719803238111e-9,4.778744402629368e-9,4.915634754408083e-9,5.021822368570744e-9,5.1521278783568745e-9,5.275497942046299e-9,5.393216839572812e-9,5.499038771794344e-9,5.599611353963386e-9,5.692449496326514e-9,5.784215549705856e-9,5.8853869802657134e-9,5.9806710188980546e-9,6.063121552129852e-9,6.148516698050588e-9,6.224435574155441e-9,6.2997475067148544e-9],&quot;type&quot;:&quot;scatter&quot;,&quot;name&quot;:&quot;GS Classical&quot;,&quot;marker&quot;:{&quot;color&quot;:&quot;#348ABD&quot;,&quot;line&quot;:{&quot;color&quot;:&quot;#348ABD&quot;,&quot;width&quot;:0.5},&quot;size&quot;:10}},{&quot;y&quot;:[0.49999999999999994,0.125,0.041666666666666664,0.015624999999999998,0.006250000000000002,0.0026041666666666674,0.0011160714285714285,0.0004882812499999997,0.00021701388888888993,9.765624999999987e-5,4.4389204545453584e-5,2.0345052083332953e-5,9.39002403846263e-6,4.359654017857597e-6,2.034505208332367e-6,9.53674316407378e-7,4.4878791360248324e-7,2.1192762586792555e-7,1.0038677014938232e-7,4.7683715820013904e-8,2.2706531342714013e-8,1.0837208142332313e-8,5.183012587690047e-9,2.483526865654078e-9,1.1920928948293774e-9,5.731215848978508e-10,2.759474294652509e-10,1.3304608148000596e-10,6.422914381062106e-11,3.1044085143783174e-11,1.502133174567482e-11,7.27595860812024e-12,3.5277369575274986e-12,1.7119894026019355e-12,8.31537895484137e-13,4.042196271918057e-13,1.966478370652279e-13,9.573616358147418e-14,4.664144121121882e-14,2.273719881170693e-14,1.1090350981988867e-14,5.414966391501222e-15,2.6438927078003986e-15,1.2916718594264066e-15,6.310008765745598e-16,3.09885109358849e-16,1.5147090050791042e-16,7.35602059445747e-17,3.686568864550698e-17,2.1405198861117068e-17,1.489869432141532e-17,6.633204013528828e-18,5.34759384694378e-18,4.53985178772676e-18,3.2799228842729498e-18,3.48455342793753e-18,2.6103636021734833e-18,3.4934497549055595e-18,2.729720882387128e-18,3.315158359102139e-18,1.887678507774449e-18,2.3643680805893388e-18,2.1312708680527456e-18,2.0929762834886365e-18],&quot;type&quot;:&quot;scatter&quot;,&quot;name&quot;:&quot;GS Modified&quot;,&quot;marker&quot;:{&quot;color&quot;:&quot;#988ED5&quot;,&quot;line&quot;:{&quot;color&quot;:&quot;#348ABD&quot;,&quot;width&quot;:0.5},&quot;size&quot;:10}},{&quot;y&quot;:[1.5700924586837752e-16,6.29785931692991e-16,5.66430880171396e-16,7.882043836729312e-15,1.616993414526527e-14,2.344161018127084e-14,4.7067104720617097e-14,6.994082416948258e-14,1.2560169530122977e-13,4.6320780776797e-13,9.109683387336675e-13,6.825333557378999e-13,2.4899011641783725e-12,2.874900054365741e-12,5.551287054318673e-12,1.398027919345406e-11,2.9150200175500865e-11,9.047344673114974e-11,2.4577541467757694e-10,3.652283860190271e-10,1.2974740320486042e-9,1.0345756992343794e-9,4.63841635368402e-9,3.902651570360717e-9,7.238917848496317e-9,2.388709206635039e-8,3.2932280592427823e-8,5.971285096269647e-8,2.922365497041915e-7,8.840959398475034e-7,9.09656929556757e-7,1.214741107851369e-6,1.7244818452870024e-6,6.313140242518168e-6,1.0199793302022075e-5,1.9809882652939636e-5,4.3796577575319405e-5,8.432675910214485e-5,0.00015623099244253672,0.0003023736047000808,0.0005811284622974125,0.0015383530576103313,0.003169507195623597,0.005068268640765602,0.008219593097567418,0.027371315338546292,0.03128695374601276,0.08072650191490843,0.11216533966923622,0.6173868754232283,0.883658588180056,0.9910756373074302,1.104783930253767,1.3106034938266002,1.366566483799306,1.402856099379874,1.4376894310369244,1.445812321201657,1.4576799240038687,1.485987047404361,1.3443459561037614,1.4701994777314582,1.3439411619020845,1.4018066249271444],&quot;type&quot;:&quot;scatter&quot;,&quot;name&quot;:&quot;Error in q_k&quot;,&quot;marker&quot;:{&quot;color&quot;:&quot;#777777&quot;,&quot;line&quot;:{&quot;color&quot;:&quot;#348ABD&quot;,&quot;width&quot;:0.5},&quot;size&quot;:10}}],{&quot;xaxis&quot;:{&quot;showgrid&quot;:true,&quot;gridcolor&quot;:&quot;#E5E5E5&quot;,&quot;titlefont&quot;:{&quot;color&quot;:&quot;#555555&quot;,&quot;size&quot;:18},&quot;zeroline&quot;:false,&quot;ticks&quot;:&quot;inside&quot;,&quot;title&quot;:&quot;Column index&quot;,&quot;linewidth&quot;:1.0,&quot;mirror&quot;:true,&quot;linecolor&quot;:&quot;black&quot;},&quot;titlefont&quot;:{&quot;size&quot;:18},&quot;font&quot;:{&quot;size&quot;:16},&quot;height&quot;:300,&quot;margin&quot;:{&quot;l&quot;:80,&quot;b&quot;:50,&quot;r&quot;:50,&quot;t&quot;:60},&quot;yaxis&quot;:{&quot;showgrid&quot;:true,&quot;gridcolor&quot;:&quot;#E5E5E5&quot;,&quot;titlefont&quot;:{&quot;color&quot;:&quot;#555555&quot;,&quot;size&quot;:18},&quot;zeroline&quot;:false,&quot;type&quot;:&quot;log&quot;,&quot;ticks&quot;:&quot;inside&quot;,&quot;title&quot;:&quot;Magnitude&quot;,&quot;linewidth&quot;:1.0,&quot;mirror&quot;:true,&quot;linecolor&quot;:&quot;black&quot;},&quot;width&quot;:500},{}); gd.on(&quot;plotly_hover&quot;,(function (data){var filtered_data=WebIO.CommandSets.Plotly.filterEventData(gd,data,&quot;hover&quot;); return !(filtered_data.isnil) ? (WebIO.setval({&quot;name&quot;:&quot;hover&quot;,&quot;scope&quot;:&quot;scope-9d8eb75b-ca5e-401b-8ac0-5820c2cf777b&quot;,&quot;id&quot;:&quot;ob_11&quot;,&quot;type&quot;:&quot;observable&quot;},filtered_data.out)) : undefined})); gd.on(&quot;plotly_unhover&quot;,(function (){return WebIO.setval({&quot;name&quot;:&quot;hover&quot;,&quot;scope&quot;:&quot;scope-9d8eb75b-ca5e-401b-8ac0-5820c2cf777b&quot;,&quot;id&quot;:&quot;ob_11&quot;,&quot;type&quot;:&quot;observable&quot;},{})})); gd.on(&quot;plotly_selected&quot;,(function (data){var filtered_data=WebIO.CommandSets.Plotly.filterEventData(gd,data,&quot;selected&quot;); return !(filtered_data.isnil) ? (WebIO.setval({&quot;name&quot;:&quot;selected&quot;,&quot;scope&quot;:&quot;scope-9d8eb75b-ca5e-401b-8ac0-5820c2cf777b&quot;,&quot;id&quot;:&quot;ob_12&quot;,&quot;type&quot;:&quot;observable&quot;},filtered_data.out)) : undefined})); gd.on(&quot;plotly_deselect&quot;,(function (){return WebIO.setval({&quot;name&quot;:&quot;selected&quot;,&quot;scope&quot;:&quot;scope-9d8eb75b-ca5e-401b-8ac0-5820c2cf777b&quot;,&quot;id&quot;:&quot;ob_12&quot;,&quot;type&quot;:&quot;observable&quot;},{})})); gd.on(&quot;plotly_relayout&quot;,(function (data){var filtered_data=WebIO.CommandSets.Plotly.filterEventData(gd,data,&quot;relayout&quot;); return !(filtered_data.isnil) ? (WebIO.setval({&quot;name&quot;:&quot;relayout&quot;,&quot;scope&quot;:&quot;scope-9d8eb75b-ca5e-401b-8ac0-5820c2cf777b&quot;,&quot;id&quot;:&quot;ob_14&quot;,&quot;type&quot;:&quot;observable&quot;},filtered_data.out)) : undefined})); return gd.on(&quot;plotly_click&quot;,(function (data){var filtered_data=WebIO.CommandSets.Plotly.filterEventData(gd,data,&quot;click&quot;); return !(filtered_data.isnil) ? (WebIO.setval({&quot;name&quot;:&quot;click&quot;,&quot;scope&quot;:&quot;scope-9d8eb75b-ca5e-401b-8ac0-5820c2cf777b&quot;,&quot;id&quot;:&quot;ob_13&quot;,&quot;type&quot;:&quot;observable&quot;},filtered_data.out)) : undefined}))})]},&quot;_downloadImage&quot;:[(function (options){return this.Plotly.downloadImage(this.plotElem,options)})],&quot;_commands&quot;:[(function (args){var fn=args.shift(); var elem=this.plotElem; var Plotly=this.Plotly; args.unshift(elem); return Plotly[fn].apply(this,args)})]},&quot;systemjs_options&quot;:null,&quot;observables&quot;:{&quot;_toImage&quot;:{&quot;sync&quot;:false,&quot;id&quot;:&quot;ob_18&quot;,&quot;value&quot;:{}},&quot;hover&quot;:{&quot;sync&quot;:false,&quot;id&quot;:&quot;ob_11&quot;,&quot;value&quot;:{}},&quot;selected&quot;:{&quot;sync&quot;:false,&quot;id&quot;:&quot;ob_12&quot;,&quot;value&quot;:{}},&quot;__gd_contents&quot;:{&quot;sync&quot;:false,&quot;id&quot;:&quot;ob_16&quot;,&quot;value&quot;:{}},&quot;click&quot;:{&quot;sync&quot;:false,&quot;id&quot;:&quot;ob_13&quot;,&quot;value&quot;:{}},&quot;image&quot;:{&quot;sync&quot;:true,&quot;id&quot;:&quot;ob_15&quot;,&quot;value&quot;:&quot;&quot;},&quot;__get_gd_contents&quot;:{&quot;sync&quot;:false,&quot;id&quot;:&quot;ob_20&quot;,&quot;value&quot;:&quot;&quot;},&quot;_downloadImage&quot;:{&quot;sync&quot;:false,&quot;id&quot;:&quot;ob_19&quot;,&quot;value&quot;:{}},&quot;relayout&quot;:{&quot;sync&quot;:false,&quot;id&quot;:&quot;ob_14&quot;,&quot;value&quot;:{}},&quot;_commands&quot;:{&quot;sync&quot;:false,&quot;id&quot;:&quot;ob_17&quot;,&quot;value&quot;:[]}}},&quot;children&quot;:[{&quot;props&quot;:{&quot;id&quot;:&quot;plot-62aa053f-43df-46be-9715-748c7a177a25&quot;},&quot;nodeType&quot;:&quot;DOM&quot;,&quot;type&quot;:&quot;node&quot;,&quot;instanceArgs&quot;:{&quot;namespace&quot;:&quot;html&quot;,&quot;tag&quot;:&quot;div&quot;},&quot;children&quot;:[]}]})</unsafe-script>"
      ],
      "text/plain": [
       "data: [\n",
       "  \"scatter with fields marker, name, type, and y\",\n",
       "  \"scatter with fields marker, name, type, and y\",\n",
       "  \"scatter with fields marker, name, type, and y\",\n",
       "  \"scatter with fields marker, name, type, and y\"\n",
       "]\n",
       "\n",
       "layout: \"layout with fields font, height, margin, titlefont, width, xaxis, and yaxis\"\n",
       "\n"
      ]
     },
     "execution_count": 8,
     "metadata": {},
     "output_type": "execute_result"
    }
   ],
   "source": [
    "# We use the modified Gram-Schmidt algorithm now\n",
    "A = Q*R\n",
    "MGS = geqrfMGS!(A);\n",
    "\n",
    "e = zeros(n)\n",
    "for j=1:n\n",
    "    e[j] = norm(Q[:,j]-A[:,j])\n",
    "end\n",
    "\n",
    "t1 = scatter(y=diag(R),name=\"r_kk\")\n",
    "t2 = scatter(y=diag(CGS),name=\"GS Classical\")\n",
    "t3 = scatter(y=diag(MGS),name=\"GS Modified\")\n",
    "t4 = scatter(y=e,name=\"Error in q_k\")\n",
    "p = plot([t1, t2, t3, t4],Layout(xaxis_title=\"Column index\",yaxis_title=\"Magnitude\",\n",
    "        yaxis_type=\"log\", width=500, height=300, margin=attr(l=80)))\n",
    "# It's way more accurate; we reach machine precision"
   ]
  },
  {
   "cell_type": "code",
   "execution_count": 9,
   "metadata": {},
   "outputs": [],
   "source": [
    "if output\n",
    "    plotToPDF(p,\"fig_cgs\")\n",
    "end"
   ]
  }
 ],
 "metadata": {
  "anaconda-cloud": {},
  "kernelspec": {
   "display_name": "Julia 1.0.0",
   "language": "julia",
   "name": "julia-1.0"
  },
  "language_info": {
   "file_extension": ".jl",
   "mimetype": "application/julia",
   "name": "julia",
   "version": "1.0.0"
  }
 },
 "nbformat": 4,
 "nbformat_minor": 1
}
