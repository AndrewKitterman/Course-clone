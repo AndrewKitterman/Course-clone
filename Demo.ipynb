{
 "cells": [
  {
   "cell_type": "markdown",
   "metadata": {},
   "source": [
    "Let's try to solve a linear system using our solver and compare the solution with the \n",
    "Julia \\ solver."
   ]
  },
  {
   "cell_type": "code",
   "execution_count": 1,
   "metadata": {},
   "outputs": [
    {
     "data": {
      "text/html": [
       "    <script class='js-collapse-script'>\n",
       "        var curMatch =\n",
       "            window.location.href\n",
       "            .match(/(.*?)\\/notebooks\\/.*\\.ipynb/);\n",
       "\n",
       "        curMatch = curMatch ||\n",
       "            window.location.href\n",
       "            .match(/(.*?)\\/apps\\/.*\\.ipynb/);\n",
       "\n",
       "        if ( curMatch ) {\n",
       "            $('head').append('<base href=\"' + curMatch[1] + '/\">');\n",
       "        }\n",
       "    </script>\n"
      ],
      "text/plain": [
       "HTML{String}(\"    <script class='js-collapse-script'>\\n        var curMatch =\\n            window.location.href\\n            .match(/(.*?)\\\\/notebooks\\\\/.*\\\\.ipynb/);\\n\\n        curMatch = curMatch ||\\n            window.location.href\\n            .match(/(.*?)\\\\/apps\\\\/.*\\\\.ipynb/);\\n\\n        if ( curMatch ) {\\n            \\$('head').append('<base href=\\\"' + curMatch[1] + '/\\\">');\\n        }\\n    </script>\\n\")"
      ]
     },
     "metadata": {},
     "output_type": "display_data"
    },
    {
     "data": {
      "text/html": [
       "<script class='js-collapse-script' src='/assetserver/f562d6507acc94a42cdf3b074249b311a179837e-assets/webio/dist/bundle.js'></script>"
      ],
      "text/plain": [
       "HTML{String}(\"<script class='js-collapse-script' src='/assetserver/f562d6507acc94a42cdf3b074249b311a179837e-assets/webio/dist/bundle.js'></script>\")"
      ]
     },
     "metadata": {},
     "output_type": "display_data"
    },
    {
     "data": {
      "text/html": [
       "<script class='js-collapse-script' src='/assetserver/f562d6507acc94a42cdf3b074249b311a179837e-assets/providers/ijulia_setup.js'></script>"
      ],
      "text/plain": [
       "HTML{String}(\"<script class='js-collapse-script' src='/assetserver/f562d6507acc94a42cdf3b074249b311a179837e-assets/providers/ijulia_setup.js'></script>\")"
      ]
     },
     "metadata": {},
     "output_type": "display_data"
    },
    {
     "data": {
      "text/html": [
       "  <script class='js-collapse-script'>\n",
       "    $('.js-collapse-script').parent('.output_subarea').css('padding', '0');\n",
       "  </script>\n"
      ],
      "text/plain": [
       "HTML{String}(\"  <script class='js-collapse-script'>\\n    \\$('.js-collapse-script').parent('.output_subarea').css('padding', '0');\\n  </script>\\n\")"
      ]
     },
     "metadata": {},
     "output_type": "display_data"
    }
   ],
   "source": [
    "# Load the Julia file with code for our solver\n",
    "include(\"src/getrf.jl\")\n",
    "using LinearAlgebra\n",
    "using Random\n",
    "using PlotlyJS"
   ]
  },
  {
   "cell_type": "code",
   "execution_count": 2,
   "metadata": {},
   "outputs": [],
   "source": [
    "n = 64\n",
    "Random.seed!(2018)\n",
    "A = rand(n,n) # Matrix A\n",
    "A0 = copy(A) # Save a copy\n",
    "xe = rand(n) # This will be our solution\n",
    "b = A * xe # This is our right-hand side b\n",
    ";"
   ]
  },
  {
   "cell_type": "code",
   "execution_count": 3,
   "metadata": {},
   "outputs": [
    {
     "name": "stdout",
     "output_type": "stream",
     "text": [
      "norm(x - xe) = 1.9816456433210509e-13\n"
     ]
    },
    {
     "data": {
      "text/plain": [
       "\"SUCCESS\""
      ]
     },
     "execution_count": 3,
     "metadata": {},
     "output_type": "execute_result"
    }
   ],
   "source": [
    "# Solve Ax = b using our solver\n",
    "P = getrf!(A) # Factorization\n",
    "# Solve\n",
    "x = getrs(A, P, b)\n",
    "# Print the error\n",
    "@show norm(x-xe)\n",
    "# The error should be small\n",
    "norm(x-xe) < 1e-12 ? \"SUCCESS\" : \"FAIL\""
   ]
  },
  {
   "cell_type": "code",
   "execution_count": 4,
   "metadata": {},
   "outputs": [
    {
     "name": "stdout",
     "output_type": "stream",
     "text": [
      "norm(x_jl - xe) = 3.914132951874621e-14\n"
     ]
    },
    {
     "data": {
      "text/plain": [
       "\"SUCCESS\""
      ]
     },
     "execution_count": 4,
     "metadata": {},
     "output_type": "execute_result"
    }
   ],
   "source": [
    "# Let's compare with Julia's solver\n",
    "A = copy(A0) # Reset A to its original value\n",
    "x_jl = A \\ b\n",
    "# Print the error\n",
    "@show norm(x_jl-xe)\n",
    "norm(x_jl-xe) < 1e-12 ? \"SUCCESS\" : \"FAIL\""
   ]
  },
  {
   "cell_type": "markdown",
   "metadata": {},
   "source": [
    "Let's plot something"
   ]
  },
  {
   "cell_type": "code",
   "execution_count": 5,
   "metadata": {},
   "outputs": [
    {
     "data": {
      "text/html": [
       "<div class='display:none'></div><unsafe-script style='display:none'>\n",
       "WebIO.mount(this.previousSibling,{&quot;props&quot;:{},&quot;nodeType&quot;:&quot;Scope&quot;,&quot;type&quot;:&quot;node&quot;,&quot;instanceArgs&quot;:{&quot;imports&quot;:{&quot;data&quot;:[{&quot;name&quot;:&quot;Plotly&quot;,&quot;type&quot;:&quot;js&quot;,&quot;url&quot;:&quot;/assetserver/0975385ca1cc4d52f70f6a1dc91ecaef1dc6af6a-plotly-latest.min.js&quot;},{&quot;name&quot;:null,&quot;type&quot;:&quot;js&quot;,&quot;url&quot;:&quot;/assetserver/f1d24541e3ab99ee26f1ffb68ae732a937e4b293-plotly_webio.bundle.js&quot;}],&quot;type&quot;:&quot;async_block&quot;},&quot;id&quot;:&quot;scope-d88cf58c-0789-4aa2-9861-c79cfc6a0423&quot;,&quot;handlers&quot;:{&quot;_toImage&quot;:[(function (options){return this.Plotly.toImage(this.plotElem,options).then((function (data){return WebIO.setval({&quot;name&quot;:&quot;image&quot;,&quot;scope&quot;:&quot;scope-d88cf58c-0789-4aa2-9861-c79cfc6a0423&quot;,&quot;id&quot;:&quot;ob_05&quot;,&quot;type&quot;:&quot;observable&quot;},data)}))})],&quot;__get_gd_contents&quot;:[(function (prop){prop==&quot;data&quot; ? (WebIO.setval({&quot;name&quot;:&quot;__gd_contents&quot;,&quot;scope&quot;:&quot;scope-d88cf58c-0789-4aa2-9861-c79cfc6a0423&quot;,&quot;id&quot;:&quot;ob_06&quot;,&quot;type&quot;:&quot;observable&quot;},this.plotElem.data)) : undefined; return prop==&quot;layout&quot; ? (WebIO.setval({&quot;name&quot;:&quot;__gd_contents&quot;,&quot;scope&quot;:&quot;scope-d88cf58c-0789-4aa2-9861-c79cfc6a0423&quot;,&quot;id&quot;:&quot;ob_06&quot;,&quot;type&quot;:&quot;observable&quot;},this.plotElem.layout)) : undefined})],&quot;_promises&quot;:{&quot;importsLoaded&quot;:[(function (Plotly){var gd=this.dom.querySelector(&quot;#plot-deb5a1a5-736d-462f-bbc7-8de2b6c926ee&quot;); this.plotElem=gd; this.Plotly=Plotly; (window.Blink!==undefined) ? (gd.style.width=&quot;100%&quot;, gd.style.height=&quot;100vh&quot;, gd.style.marginLeft=&quot;0%&quot;, gd.style.marginTop=&quot;0vh&quot;) : undefined; window.onresize=(function (){return Plotly.Plots.resize(gd)}); Plotly.newPlot(gd,[{&quot;y&quot;:[0.0,0.003890754955686623,0.015259268382851821,0.033212071379736044,0.056318408164159006,0.08269457996854959,0.11011579760646911,0.13614968062941474,0.15830437077307988,0.1741834027676229,0.18163903866706305,0.1789157464525882,0.16477589410751245,0.1386005211834583,0.10045920643743775,0.051144520100411636,-0.007831734932518594,-0.07428140720541541,-0.14542096171846874,-0.21798753907467233,-0.28838528937744523,-0.3528555283115805,-0.40766291042951125,-0.44928881231706325,-0.47462251987498005,-0.48114065515874904,-0.4670655748125551,-0.4314942188783046,-0.37449005940082347,-0.29713234641935393,-0.20151870999379626,-0.09071927063620956,0.03131735548008086,0.15990349640027696,0.2897924399158928,0.41539211368056334,0.5310037424860029,0.6310753715387716,0.7104591465757604,0.7646607246445684,0.7900691879929369,0.7841563598577694,0.7456354636352183,0.6745705911692099,0.5724303946677679,0.44208171285757386,0.28772139114904716,0.11474725031769399,-0.07042811768940113,-0.26061441468989527,-0.4481228253529802,-0.6250764902266072,-0.7837397397633634,-0.9168523882601681,-1.0179547764635133,-1.0816892493335424,-1.104064375379909,-1.0826694435892854,-1.016828574035177,-0.9076860840272831,-0.7582174751214159,-0.5731634395992627,-0.3588875046648553,-0.12316120453233262,0.12511614428681286,0.3762530290841213,0.6201440494024778,0.8466761805522449,1.04614667311619,1.20967537255909,1.329594053530701,1.3997959044995272,1.4160295627639103,1.3761240496636384,1.280133523231179,1.1303938554279305,0.9314865344553372,0.6901091510435885,0.41485559889412055,0.11591294369714089,-0.19531446862586058,-0.5066398409363642,-0.8055711212071331,-1.079811880850561,-1.3177658060049693,-1.5090241525950852,-1.6448157792138585,-1.7184004838846376,-1.7253883017621034,-1.663970106453755,-1.535048201040256,-1.3422594601729563,-1.0918878416746225,-0.792667556240529,-0.455482686715939,-0.09297339908149356,0.2809370961637439,0.6515771623132728,1.0041024120378161,1.3240898528814777,1.598126736586314,1.8143701175410802,1.9630538730476952,2.036921647796789,2.0315668035206342,1.9456638906863044,1.7810802857632155,1.542861298169337,1.2390870642139253,0.8806047126285027,0.4806443995644566,0.05433266109435087,-0.3818790834164048,-0.8108493091021748,-1.2154199549933968,-1.5791023185303223,-1.8867478716818407,-2.1251767524046388,-2.283737947397722,-2.354777515249563,-2.3339945250756813,-2.220668585063794,-2.0177477512326143,-1.731791051047894,-1.3727656170290876,-0.9537042739282433,-0.490235124416518,-2.462298487963891e-15],&quot;type&quot;:&quot;scatter3d&quot;,&quot;z&quot;:[1,2,3,4,5,6,7,8,9,10,11,12,13,14,15,16,17,18,19,20,21,22,23,24,25,26,27,28,29,30,31,32,33,34,35,36,37,38,39,40,41,42,43,44,45,46,47,48,49,50,51,52,53,54,55,56,57,58,59,60,61,62,63,64,65,66,67,68,69,70,71,72,73,74,75,76,77,78,79,80,81,82,83,84,85,86,87,88,89,90,91,92,93,94,95,96,97,98,99,100,101,102,103,104,105,106,107,108,109,110,111,112,113,114,115,116,117,118,119,120,121,122,123,124,125,126,127,128],&quot;x&quot;:[0.0,0.19403317029915207,0.36519330113988796,0.4920973976424479,0.5562610786377876,0.5433482852683069,0.44419272950833416,0.255533182395096,-0.019580835042190332,-0.37173966122388025,-0.7854889064121101,-1.2399993816060342,-1.710062790924002,-2.1673671918446744,-2.581991058778581,-2.924042448197923,-3.165360888041484,-3.281194672148971,-3.2517655223090927,-3.063636179671991,-2.7108042944138586,-2.1954576884291566,-1.5283411736330819,-0.7287029546935289,0.17619157169295355,1.151969992394906,2.1584575160449497,3.151326595061029,4.084023961078438,4.909892173394846,5.58439098579401,6.067316203019061,6.324910668109536,6.331763836180636,6.0724030717238495,5.542491155658491,4.749560088865927,3.713230512891589,2.4648881408692183,1.046812563098112,-0.4892213819874672,-2.083824903233106,-3.672291236775471,-5.187217556047167,-6.561346714972682,-7.73050967324486,-8.636541370337603,-9.23004018232012,-9.472844158572737,-9.340105993372697,-8.821862887843793,-7.924016603732153,-6.668662376807084,-5.093732018890433,-3.2519454043121536,-1.2090944003362532,0.9582871158276838,3.1657855007899793,5.324395011217998,7.3441028481457415,9.137627315772164,10.624154411990693,11.732914128856489,12.406440400009942,12.603368025406926,12.300635780252774,11.494986740842407,10.203683835945604,8.464389723286628,6.334194065069677,3.8878067553561286,1.2149711647101127,-1.5828144877128996,-4.396148416940489,-7.11200319618663,-9.618263043471723,-11.80833846830673,-13.585668847279447,-14.867923826185107,-15.590722677650964,-15.710706693310843,-15.207822847768393,-14.086706515690642,-12.377085848698481,-10.133169179254919,-7.4320179791884415,-4.370949797025527,-1.0640565058227884,2.3620386039136565,5.7730274878252565,9.032182328655201,12.005832446855486,14.568833894873757,16.609808402068182,18.03593335154485,18.77707854595018,18.789108241607416,18.056197520733974,16.5920494135412,14.439941862384526,11.6715799817075,8.384777273866908,4.700037568971252,0.756155495182297,-3.2950046647011537,-7.2943556014306,-11.081834046356693,-14.502802975114088,-17.414353021293433,-19.69124677398285,-21.231259643316864,-21.959691160787795,-21.832850279877828,-20.84035640299855,-19.00614306694565,-16.388101746355073,-13.076357115118164,-9.190220205021662,-4.873920002713134,-0.2912649212526095,4.38056884105877,8.957886711751398,13.257698160546617,17.105028168111918,20.3400257692212,22.824581321242977,24.44817945769315,25.132741228718345]}],{&quot;margin&quot;:{&quot;l&quot;:50,&quot;b&quot;:50,&quot;r&quot;:50,&quot;t&quot;:60}},{}); gd.on(&quot;plotly_hover&quot;,(function (data){var filtered_data=WebIO.CommandSets.Plotly.filterEventData(gd,data,&quot;hover&quot;); return !(filtered_data.isnil) ? (WebIO.setval({&quot;name&quot;:&quot;hover&quot;,&quot;scope&quot;:&quot;scope-d88cf58c-0789-4aa2-9861-c79cfc6a0423&quot;,&quot;id&quot;:&quot;ob_01&quot;,&quot;type&quot;:&quot;observable&quot;},filtered_data.out)) : undefined})); gd.on(&quot;plotly_unhover&quot;,(function (){return WebIO.setval({&quot;name&quot;:&quot;hover&quot;,&quot;scope&quot;:&quot;scope-d88cf58c-0789-4aa2-9861-c79cfc6a0423&quot;,&quot;id&quot;:&quot;ob_01&quot;,&quot;type&quot;:&quot;observable&quot;},{})})); gd.on(&quot;plotly_selected&quot;,(function (data){var filtered_data=WebIO.CommandSets.Plotly.filterEventData(gd,data,&quot;selected&quot;); return !(filtered_data.isnil) ? (WebIO.setval({&quot;name&quot;:&quot;selected&quot;,&quot;scope&quot;:&quot;scope-d88cf58c-0789-4aa2-9861-c79cfc6a0423&quot;,&quot;id&quot;:&quot;ob_02&quot;,&quot;type&quot;:&quot;observable&quot;},filtered_data.out)) : undefined})); gd.on(&quot;plotly_deselect&quot;,(function (){return WebIO.setval({&quot;name&quot;:&quot;selected&quot;,&quot;scope&quot;:&quot;scope-d88cf58c-0789-4aa2-9861-c79cfc6a0423&quot;,&quot;id&quot;:&quot;ob_02&quot;,&quot;type&quot;:&quot;observable&quot;},{})})); gd.on(&quot;plotly_relayout&quot;,(function (data){var filtered_data=WebIO.CommandSets.Plotly.filterEventData(gd,data,&quot;relayout&quot;); return !(filtered_data.isnil) ? (WebIO.setval({&quot;name&quot;:&quot;relayout&quot;,&quot;scope&quot;:&quot;scope-d88cf58c-0789-4aa2-9861-c79cfc6a0423&quot;,&quot;id&quot;:&quot;ob_04&quot;,&quot;type&quot;:&quot;observable&quot;},filtered_data.out)) : undefined})); return gd.on(&quot;plotly_click&quot;,(function (data){var filtered_data=WebIO.CommandSets.Plotly.filterEventData(gd,data,&quot;click&quot;); return !(filtered_data.isnil) ? (WebIO.setval({&quot;name&quot;:&quot;click&quot;,&quot;scope&quot;:&quot;scope-d88cf58c-0789-4aa2-9861-c79cfc6a0423&quot;,&quot;id&quot;:&quot;ob_03&quot;,&quot;type&quot;:&quot;observable&quot;},filtered_data.out)) : undefined}))})]},&quot;_downloadImage&quot;:[(function (options){return this.Plotly.downloadImage(this.plotElem,options)})],&quot;_commands&quot;:[(function (args){var fn=args.shift(); var elem=this.plotElem; var Plotly=this.Plotly; args.unshift(elem); return Plotly[fn].apply(this,args)})]},&quot;systemjs_options&quot;:null,&quot;observables&quot;:{&quot;_toImage&quot;:{&quot;sync&quot;:false,&quot;id&quot;:&quot;ob_08&quot;,&quot;value&quot;:{}},&quot;hover&quot;:{&quot;sync&quot;:false,&quot;id&quot;:&quot;ob_01&quot;,&quot;value&quot;:{}},&quot;selected&quot;:{&quot;sync&quot;:false,&quot;id&quot;:&quot;ob_02&quot;,&quot;value&quot;:{}},&quot;__gd_contents&quot;:{&quot;sync&quot;:false,&quot;id&quot;:&quot;ob_06&quot;,&quot;value&quot;:{}},&quot;click&quot;:{&quot;sync&quot;:false,&quot;id&quot;:&quot;ob_03&quot;,&quot;value&quot;:{}},&quot;image&quot;:{&quot;sync&quot;:true,&quot;id&quot;:&quot;ob_05&quot;,&quot;value&quot;:&quot;&quot;},&quot;__get_gd_contents&quot;:{&quot;sync&quot;:false,&quot;id&quot;:&quot;ob_10&quot;,&quot;value&quot;:&quot;&quot;},&quot;_downloadImage&quot;:{&quot;sync&quot;:false,&quot;id&quot;:&quot;ob_09&quot;,&quot;value&quot;:{}},&quot;relayout&quot;:{&quot;sync&quot;:false,&quot;id&quot;:&quot;ob_04&quot;,&quot;value&quot;:{}},&quot;_commands&quot;:{&quot;sync&quot;:false,&quot;id&quot;:&quot;ob_07&quot;,&quot;value&quot;:[]}}},&quot;children&quot;:[{&quot;props&quot;:{&quot;id&quot;:&quot;plot-deb5a1a5-736d-462f-bbc7-8de2b6c926ee&quot;},&quot;nodeType&quot;:&quot;DOM&quot;,&quot;type&quot;:&quot;node&quot;,&quot;instanceArgs&quot;:{&quot;namespace&quot;:&quot;html&quot;,&quot;tag&quot;:&quot;div&quot;},&quot;children&quot;:[]}]})</unsafe-script>"
      ],
      "text/plain": [
       "data: [\n",
       "  \"scatter3d with fields type, x, y, and z\"\n",
       "]\n",
       "\n",
       "layout: \"layout with field margin\"\n",
       "\n"
      ]
     },
     "execution_count": 5,
     "metadata": {},
     "output_type": "execute_result"
    }
   ],
   "source": [
    "# 3D plot\n",
    "n = 128\n",
    "ts = LinRange(0,8π,n) # Type \\pi followed by TAB to get the pi symbol\n",
    "x = ts .* cos.(ts)\n",
    "y = (0.1ts) .* sin.(ts)\n",
    "z = 1:n\n",
    "plot([scatter3d(x=x,y=y,z=z)])\n",
    "# Default spiral with markers"
   ]
  },
  {
   "cell_type": "code",
   "execution_count": 6,
   "metadata": {},
   "outputs": [
    {
     "data": {
      "text/html": [
       "<div class='display:none'></div><unsafe-script style='display:none'>\n",
       "WebIO.mount(this.previousSibling,{&quot;props&quot;:{},&quot;nodeType&quot;:&quot;Scope&quot;,&quot;type&quot;:&quot;node&quot;,&quot;instanceArgs&quot;:{&quot;imports&quot;:{&quot;data&quot;:[{&quot;name&quot;:&quot;Plotly&quot;,&quot;type&quot;:&quot;js&quot;,&quot;url&quot;:&quot;/assetserver/0975385ca1cc4d52f70f6a1dc91ecaef1dc6af6a-plotly-latest.min.js&quot;},{&quot;name&quot;:null,&quot;type&quot;:&quot;js&quot;,&quot;url&quot;:&quot;/assetserver/f1d24541e3ab99ee26f1ffb68ae732a937e4b293-plotly_webio.bundle.js&quot;}],&quot;type&quot;:&quot;async_block&quot;},&quot;id&quot;:&quot;scope-9d8eb75b-ca5e-401b-8ac0-5820c2cf777b&quot;,&quot;handlers&quot;:{&quot;_toImage&quot;:[(function (options){return this.Plotly.toImage(this.plotElem,options).then((function (data){return WebIO.setval({&quot;name&quot;:&quot;image&quot;,&quot;scope&quot;:&quot;scope-9d8eb75b-ca5e-401b-8ac0-5820c2cf777b&quot;,&quot;id&quot;:&quot;ob_15&quot;,&quot;type&quot;:&quot;observable&quot;},data)}))})],&quot;__get_gd_contents&quot;:[(function (prop){prop==&quot;data&quot; ? (WebIO.setval({&quot;name&quot;:&quot;__gd_contents&quot;,&quot;scope&quot;:&quot;scope-9d8eb75b-ca5e-401b-8ac0-5820c2cf777b&quot;,&quot;id&quot;:&quot;ob_16&quot;,&quot;type&quot;:&quot;observable&quot;},this.plotElem.data)) : undefined; return prop==&quot;layout&quot; ? (WebIO.setval({&quot;name&quot;:&quot;__gd_contents&quot;,&quot;scope&quot;:&quot;scope-9d8eb75b-ca5e-401b-8ac0-5820c2cf777b&quot;,&quot;id&quot;:&quot;ob_16&quot;,&quot;type&quot;:&quot;observable&quot;},this.plotElem.layout)) : undefined})],&quot;_promises&quot;:{&quot;importsLoaded&quot;:[(function (Plotly){var gd=this.dom.querySelector(&quot;#plot-157ffefd-74fd-415c-b645-4f34fa8d5c77&quot;); this.plotElem=gd; this.Plotly=Plotly; (window.Blink!==undefined) ? (gd.style.width=&quot;100%&quot;, gd.style.height=&quot;100vh&quot;, gd.style.marginLeft=&quot;0%&quot;, gd.style.marginTop=&quot;0vh&quot;) : undefined; window.onresize=(function (){return Plotly.Plots.resize(gd)}); Plotly.newPlot(gd,[{&quot;mode&quot;:&quot;lines&quot;,&quot;y&quot;:[0.0,0.003890754955686623,0.015259268382851821,0.03321207137973605,0.056318408164159006,0.08269457996854959,0.11011579760646913,0.13614968062941474,0.15830437077307988,0.1741834027676229,0.18163903866706302,0.1789157464525882,0.16477589410751248,0.1386005211834583,0.10045920643743775,0.051144520100411636,-0.007831734932518594,-0.07428140720541541,-0.14542096171846874,-0.21798753907467233,-0.2883852893774453,-0.3528555283115805,-0.40766291042951125,-0.44928881231706325,-0.4746225198749801,-0.48114065515874904,-0.4670655748125551,-0.4314942188783046,-0.37449005940082347,-0.2971323464193544,-0.20151870999379626,-0.09071927063621009,0.03131735548008086,0.15990349640027698,0.2897924399158928,0.41539211368056284,0.5310037424860029,0.6310753715387716,0.7104591465757604,0.7646607246445684,0.7900691879929369,0.7841563598577695,0.7456354636352183,0.6745705911692109,0.5724303946677679,0.4420817128575739,0.28772139114904716,0.11474725031769564,-0.07042811768940113,-0.2606144146898953,-0.4481228253529802,-0.6250764902266072,-0.7837397397633634,-0.9168523882601682,-1.0179547764635133,-1.0816892493335424,-1.104064375379909,-1.0826694435892847,-1.016828574035178,-0.9076860840272831,-0.7582174751214159,-0.573163439599261,-0.35888750466485736,-0.12316120453233263,0.12511614428681286,0.3762530290841235,0.6201440494024779,0.8466761805522469,1.04614667311619,1.20967537255909,1.3295940535307003,1.3997959044995274,1.4160295627639103,1.3761240496636387,1.280133523231179,1.130393855427929,0.9314865344553372,0.6901091510435909,0.41485559889412055,0.11591294369714089,-0.19531446862586338,-0.5066398409363642,-0.8055711212071333,-1.079811880850561,-1.3177658060049693,-1.5090241525950852,-1.6448157792138571,-1.7184004838846376,-1.7253883017621034,-1.663970106453755,-1.5350482010402562,-1.342259460172952,-1.0918878416746225,-0.792667556240529,-0.4554826867159455,-0.09297339908149356,0.2809370961637439,0.6515771623132729,1.0041024120378164,1.3240898528814828,1.598126736586314,1.8143701175410774,1.9630538730476952,2.0369216477967895,2.0315668035206342,1.9456638906863044,1.7810802857632158,1.5428612981693317,1.2390870642139253,0.8806047126285097,0.4806443995644566,0.05433266109435087,-0.3818790834164048,-0.810849309102175,-1.2154199549934037,-1.5791023185303286,-1.8867478716818358,-2.1251767524046357,-2.283737947397722,-2.3547775152495634,-2.3339945250756813,-2.220668585063794,-2.01774775123261,-1.7317910510478882,-1.3727656170290947,-0.9537042739282433,-0.49023512441651806,-2.462298487963891e-15],&quot;type&quot;:&quot;scatter3d&quot;,&quot;z&quot;:[0.0,0.6931471805599453,1.0986122886681098,1.3862943611198906,1.6094379124341003,1.791759469228055,1.9459101490553132,2.0794415416798357,2.1972245773362196,2.302585092994046,2.3978952727983707,2.4849066497880004,2.5649493574615367,2.6390573296152584,2.70805020110221,2.772588722239781,2.833213344056216,2.8903717578961645,2.9444389791664403,2.995732273553991,3.044522437723423,3.091042453358316,3.1354942159291497,3.1780538303479458,3.2188758248682006,3.258096538021482,3.295836866004329,3.332204510175204,3.367295829986474,3.4011973816621555,3.4339872044851463,3.4657359027997265,3.4965075614664802,3.5263605246161616,3.5553480614894135,3.58351893845611,3.6109179126442243,3.6375861597263857,3.6635616461296463,3.6888794541139363,3.713572066704308,3.7376696182833684,3.7612001156935624,3.784189633918261,3.8066624897703196,3.828641396489095,3.8501476017100584,3.871201010907891,3.8918202981106265,3.912023005428146,3.9318256327243257,3.9512437185814275,3.970291913552122,3.9889840465642745,4.007333185232471,4.02535169073515,4.04305126783455,4.060443010546419,4.07753744390572,4.0943445622221,4.110873864173311,4.127134385045092,4.143134726391533,4.1588830833596715,4.174387269895637,4.189654742026425,4.204692619390966,4.219507705176107,4.23410650459726,4.248495242049359,4.2626798770413155,4.276666119016055,4.290459441148391,4.30406509320417,4.31748811353631,4.330733340286331,4.343805421853684,4.356708826689592,4.3694478524670215,4.382026634673881,4.394449154672439,4.406719247264253,4.418840607796598,4.430816798843313,4.442651256490317,4.454347296253507,4.465908118654584,4.477336814478207,4.48863636973214,4.499809670330265,4.51085950651685,4.5217885770490405,4.532599493153256,4.543294782270004,4.553876891600541,4.564348191467836,4.574710978503383,4.584967478670572,4.59511985013459,4.605170185988092,4.61512051684126,4.624972813284271,4.634728988229636,4.6443908991413725,4.653960350157523,4.663439094112067,4.672828834461906,4.68213122712422,4.6913478822291435,4.700480365792417,4.709530201312334,4.718498871295094,4.727387818712341,4.736198448394496,4.74493212836325,4.7535901911063645,4.762173934797756,4.770684624465665,4.77912349311153,4.787491742782046,4.795790545596741,4.804021044733257,4.812184355372417,4.820281565605037,4.8283137373023015,4.836281906951478,4.844187086458591,4.852030263919617],&quot;x&quot;:[0.0,0.19403317029915207,0.36519330113988796,0.4920973976424479,0.5562610786377876,0.5433482852683068,0.44419272950833416,0.255533182395096,-0.019580835042190332,-0.37173966122388025,-0.7854889064121106,-1.2399993816060342,-1.710062790924002,-2.1673671918446744,-2.581991058778581,-2.924042448197923,-3.165360888041484,-3.281194672148971,-3.2517655223090927,-3.063636179671991,-2.7108042944138577,-2.1954576884291566,-1.5283411736330819,-0.7287029546935289,0.17619157169295355,1.151969992394906,2.1584575160449497,3.151326595061029,4.084023961078438,4.909892173394843,5.58439098579401,6.06731620301906,6.324910668109536,6.331763836180636,6.0724030717238495,5.542491155658494,4.749560088865927,3.713230512891589,2.4648881408692183,1.046812563098112,-0.4892213819874742,-2.083824903233106,-3.672291236775471,-5.187217556047154,-6.561346714972682,-7.73050967324486,-8.636541370337603,-9.230040182320117,-9.472844158572737,-9.340105993372697,-8.821862887843793,-7.924016603732153,-6.668662376807084,-5.093732018890433,-3.2519454043121536,-1.2090944003362532,0.9582871158276838,3.1657855007899993,5.3243950112179785,7.3441028481457415,9.137627315772164,10.624154411990705,11.732914128856482,12.406440400009942,12.603368025406926,12.300635780252769,11.494986740842407,10.20368383594559,8.464389723286628,6.334194065069677,3.887806755356152,1.2149711647101127,-1.5828144877128996,-4.396148416940489,-7.11200319618663,-9.618263043471744,-11.80833846830673,-13.585668847279432,-14.867923826185107,-15.590722677650964,-15.710706693310842,-15.207822847768393,-14.086706515690642,-12.377085848698481,-10.133169179254919,-7.4320179791884415,-4.370949797025585,-1.0640565058227884,2.3620386039136565,5.7730274878252565,9.032182328655201,12.005832446855536,14.568833894873757,16.609808402068182,18.03593335154483,18.77707854595018,18.789108241607416,18.056197520733974,16.5920494135412,14.439941862384481,11.6715799817075,8.38477727386697,4.700037568971252,0.756155495182297,-3.2950046647011537,-7.2943556014306,-11.081834046356693,-14.502802975114143,-17.414353021293433,-19.691246773982815,-21.231259643316864,-21.959691160787795,-21.832850279877828,-20.84035640299855,-19.006143066945608,-16.388101746355016,-13.076357115118228,-9.190220205021737,-4.873920002713134,-0.2912649212526095,4.38056884105877,8.957886711751398,13.257698160546692,17.105028168111982,20.340025769221146,22.824581321242977,24.44817945769315,25.132741228718345]}],{&quot;margin&quot;:{&quot;l&quot;:50,&quot;b&quot;:50,&quot;r&quot;:50,&quot;t&quot;:60}},{}); gd.on(&quot;plotly_hover&quot;,(function (data){var filtered_data=WebIO.CommandSets.Plotly.filterEventData(gd,data,&quot;hover&quot;); return !(filtered_data.isnil) ? (WebIO.setval({&quot;name&quot;:&quot;hover&quot;,&quot;scope&quot;:&quot;scope-9d8eb75b-ca5e-401b-8ac0-5820c2cf777b&quot;,&quot;id&quot;:&quot;ob_11&quot;,&quot;type&quot;:&quot;observable&quot;},filtered_data.out)) : undefined})); gd.on(&quot;plotly_unhover&quot;,(function (){return WebIO.setval({&quot;name&quot;:&quot;hover&quot;,&quot;scope&quot;:&quot;scope-9d8eb75b-ca5e-401b-8ac0-5820c2cf777b&quot;,&quot;id&quot;:&quot;ob_11&quot;,&quot;type&quot;:&quot;observable&quot;},{})})); gd.on(&quot;plotly_selected&quot;,(function (data){var filtered_data=WebIO.CommandSets.Plotly.filterEventData(gd,data,&quot;selected&quot;); return !(filtered_data.isnil) ? (WebIO.setval({&quot;name&quot;:&quot;selected&quot;,&quot;scope&quot;:&quot;scope-9d8eb75b-ca5e-401b-8ac0-5820c2cf777b&quot;,&quot;id&quot;:&quot;ob_12&quot;,&quot;type&quot;:&quot;observable&quot;},filtered_data.out)) : undefined})); gd.on(&quot;plotly_deselect&quot;,(function (){return WebIO.setval({&quot;name&quot;:&quot;selected&quot;,&quot;scope&quot;:&quot;scope-9d8eb75b-ca5e-401b-8ac0-5820c2cf777b&quot;,&quot;id&quot;:&quot;ob_12&quot;,&quot;type&quot;:&quot;observable&quot;},{})})); gd.on(&quot;plotly_relayout&quot;,(function (data){var filtered_data=WebIO.CommandSets.Plotly.filterEventData(gd,data,&quot;relayout&quot;); return !(filtered_data.isnil) ? (WebIO.setval({&quot;name&quot;:&quot;relayout&quot;,&quot;scope&quot;:&quot;scope-9d8eb75b-ca5e-401b-8ac0-5820c2cf777b&quot;,&quot;id&quot;:&quot;ob_14&quot;,&quot;type&quot;:&quot;observable&quot;},filtered_data.out)) : undefined})); return gd.on(&quot;plotly_click&quot;,(function (data){var filtered_data=WebIO.CommandSets.Plotly.filterEventData(gd,data,&quot;click&quot;); return !(filtered_data.isnil) ? (WebIO.setval({&quot;name&quot;:&quot;click&quot;,&quot;scope&quot;:&quot;scope-9d8eb75b-ca5e-401b-8ac0-5820c2cf777b&quot;,&quot;id&quot;:&quot;ob_13&quot;,&quot;type&quot;:&quot;observable&quot;},filtered_data.out)) : undefined}))})]},&quot;_downloadImage&quot;:[(function (options){return this.Plotly.downloadImage(this.plotElem,options)})],&quot;_commands&quot;:[(function (args){var fn=args.shift(); var elem=this.plotElem; var Plotly=this.Plotly; args.unshift(elem); return Plotly[fn].apply(this,args)})]},&quot;systemjs_options&quot;:null,&quot;observables&quot;:{&quot;_toImage&quot;:{&quot;sync&quot;:false,&quot;id&quot;:&quot;ob_18&quot;,&quot;value&quot;:{}},&quot;hover&quot;:{&quot;sync&quot;:false,&quot;id&quot;:&quot;ob_11&quot;,&quot;value&quot;:{}},&quot;selected&quot;:{&quot;sync&quot;:false,&quot;id&quot;:&quot;ob_12&quot;,&quot;value&quot;:{}},&quot;__gd_contents&quot;:{&quot;sync&quot;:false,&quot;id&quot;:&quot;ob_16&quot;,&quot;value&quot;:{}},&quot;click&quot;:{&quot;sync&quot;:false,&quot;id&quot;:&quot;ob_13&quot;,&quot;value&quot;:{}},&quot;image&quot;:{&quot;sync&quot;:true,&quot;id&quot;:&quot;ob_15&quot;,&quot;value&quot;:&quot;&quot;},&quot;__get_gd_contents&quot;:{&quot;sync&quot;:false,&quot;id&quot;:&quot;ob_20&quot;,&quot;value&quot;:&quot;&quot;},&quot;_downloadImage&quot;:{&quot;sync&quot;:false,&quot;id&quot;:&quot;ob_19&quot;,&quot;value&quot;:{}},&quot;relayout&quot;:{&quot;sync&quot;:false,&quot;id&quot;:&quot;ob_14&quot;,&quot;value&quot;:{}},&quot;_commands&quot;:{&quot;sync&quot;:false,&quot;id&quot;:&quot;ob_17&quot;,&quot;value&quot;:[]}}},&quot;children&quot;:[{&quot;props&quot;:{&quot;id&quot;:&quot;plot-157ffefd-74fd-415c-b645-4f34fa8d5c77&quot;},&quot;nodeType&quot;:&quot;DOM&quot;,&quot;type&quot;:&quot;node&quot;,&quot;instanceArgs&quot;:{&quot;namespace&quot;:&quot;html&quot;,&quot;tag&quot;:&quot;div&quot;},&quot;children&quot;:[]}]})</unsafe-script>"
      ],
      "text/plain": [
       "data: [\n",
       "  \"scatter3d with fields mode, type, x, y, and z\"\n",
       "]\n",
       "\n",
       "layout: \"layout with field margin\"\n",
       "\n"
      ]
     },
     "execution_count": 6,
     "metadata": {},
     "output_type": "execute_result"
    }
   ],
   "source": [
    "# 3D plot\n",
    "n = 128\n",
    "ts = range(0,stop=8π,length=n) # Type \\pi followed by TAB to get the pi symbol\n",
    "x = ts .* cos.(ts)\n",
    "y = (0.1ts) .* sin.(ts)\n",
    "z = 1:n\n",
    "z = log.(z)\n",
    "plot([scatter3d(x=x,y=y,z=z,mode=\"lines\")])\n",
    "# Spiral without markers"
   ]
  }
 ],
 "metadata": {
  "anaconda-cloud": {},
  "kernelspec": {
   "display_name": "Julia 1.0.0",
   "language": "julia",
   "name": "julia-1.0"
  },
  "language_info": {
   "file_extension": ".jl",
   "mimetype": "application/julia",
   "name": "julia",
   "version": "1.0.0"
  }
 },
 "nbformat": 4,
 "nbformat_minor": 1
}
