{
 "cells": [
  {
   "cell_type": "code",
   "execution_count": 8,
   "metadata": {
    "collapsed": true
   },
   "outputs": [],
   "source": [
    "# Initialize the random number generator\n",
    "rng = MersenneTwister();"
   ]
  },
  {
   "cell_type": "code",
   "execution_count": 9,
   "metadata": {
    "collapsed": true
   },
   "outputs": [],
   "source": [
    "# Size of the matrix\n",
    "n = 512;"
   ]
  },
  {
   "cell_type": "code",
   "execution_count": 10,
   "metadata": {
    "collapsed": false
   },
   "outputs": [
    {
     "data": {
      "text/plain": [
       "6x6 Array{Float64,2}:\n",
       "  1.0  -1.0  -2.0   2.0   2.0  -2.0\n",
       " -2.0   4.0   4.0  -3.0  -6.0   2.0\n",
       " -1.0   5.0   4.0  -1.0  -4.0   0.0\n",
       "  2.0  -4.0  -4.0   4.0   7.0  -2.0\n",
       "  0.0  -4.0   2.0  -1.0  10.0   7.0\n",
       "  2.0   2.0   0.0   3.0   7.0  -1.0"
      ]
     },
     "execution_count": 10,
     "metadata": {},
     "output_type": "execute_result"
    }
   ],
   "source": [
    "# Random initialization of matrix A\n",
    "L = zeros(Float64,n,n)\n",
    "U = zeros(Float64,n,n)\n",
    "for i=1:n\n",
    "    L[i,i] = 1\n",
    "    L[i+1:n,i] = rand(rng, -2:2, n-i)\n",
    "    U[i,i] = rand(rng, 1:2)\n",
    "    U[i,i+1:n] = rand(rng, -2:2, n-i)\n",
    "end\n",
    "A = L * U\n",
    "A0 = copy(A);\n",
    "A0[1:6,1:6]"
   ]
  },
  {
   "cell_type": "code",
   "execution_count": 11,
   "metadata": {
    "collapsed": false
   },
   "outputs": [
    {
     "data": {
      "text/plain": [
       "1x512 Array{Float64,2}:\n",
       " 48.0  -188.0  -288.0  392.0  551.0  …  -2369.0  -2213.0  1989.0  -1777.0"
      ]
     },
     "execution_count": 11,
     "metadata": {},
     "output_type": "execute_result"
    }
   ],
   "source": [
    "# Initializing the right-hand side\n",
    "xe = rand(rng, 0:9, n) # This will be our solution\n",
    "b = A * xe\n",
    "b'"
   ]
  },
  {
   "cell_type": "code",
   "execution_count": 12,
   "metadata": {
    "collapsed": false
   },
   "outputs": [
    {
     "data": {
      "text/plain": [
       "getrs (generic function with 3 methods)"
      ]
     },
     "execution_count": 12,
     "metadata": {},
     "output_type": "execute_result"
    }
   ],
   "source": [
    "include(\"getrf.jl\")"
   ]
  },
  {
   "cell_type": "code",
   "execution_count": 13,
   "metadata": {
    "collapsed": false
   },
   "outputs": [
    {
     "name": "stdout",
     "output_type": "stream",
     "text": [
      "getrfOuter!: PASSED\n",
      "getrfAxpy!: PASSED\n",
      "getrfDot!: PASSED\n"
     ]
    },
    {
     "data": {
      "text/plain": [
       "3-element Array{Void,1}:\n",
       " nothing\n",
       " nothing\n",
       " nothing"
      ]
     },
     "execution_count": 13,
     "metadata": {},
     "output_type": "execute_result"
    }
   ],
   "source": [
    "# Test our solvers\n",
    "map([getrfOuter!, getrfAxpy!, getrfDot!]) do solver\n",
    "    A = copy(A0)\n",
    "    solver(A)\n",
    "    # Solve\n",
    "    x = getrs(A, b)\n",
    "    @assert x == xe\n",
    "    println(string(solver) * \": PASSED\")\n",
    "end    "
   ]
  },
  {
   "cell_type": "code",
   "execution_count": 14,
   "metadata": {
    "collapsed": false
   },
   "outputs": [
    {
     "name": "stdout",
     "output_type": "stream",
     "text": [
      "  0.151760 seconds (4 allocations: 160 bytes, 4.54% gc time)\n",
      "  0.093780 seconds (4 allocations: 160 bytes)\n",
      "  0.146238 seconds (4 allocations: 160 bytes)\n"
     ]
    },
    {
     "data": {
      "text/plain": [
       "3-element Array{Void,1}:\n",
       " nothing\n",
       " nothing\n",
       " nothing"
      ]
     },
     "execution_count": 14,
     "metadata": {},
     "output_type": "execute_result"
    }
   ],
   "source": [
    "# Time the solvers\n",
    "map([getrfOuter!, getrfAxpy!, getrfDot!]) do solver\n",
    "    A = copy(A0); @time solver(A)\n",
    "end"
   ]
  }
 ],
 "metadata": {
  "kernelspec": {
   "display_name": "Julia 0.4.5",
   "language": "julia",
   "name": "julia-0.4"
  },
  "language_info": {
   "file_extension": ".jl",
   "mimetype": "application/julia",
   "name": "julia",
   "version": "0.4.5"
  }
 },
 "nbformat": 4,
 "nbformat_minor": 0
}
