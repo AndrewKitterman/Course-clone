{
 "cells": [
  {
   "cell_type": "code",
   "execution_count": 11,
   "metadata": {},
   "outputs": [],
   "source": [
    "using Printf\n",
    "using Random\n",
    "using LinearAlgebra\n",
    "using PlotlyJS\n",
    "rng = MersenneTwister(18);"
   ]
  },
  {
   "cell_type": "code",
   "execution_count": 12,
   "metadata": {},
   "outputs": [
    {
     "data": {
      "text/plain": [
       "pretty_print (generic function with 1 method)"
      ]
     },
     "execution_count": 12,
     "metadata": {},
     "output_type": "execute_result"
    }
   ],
   "source": [
    "function pretty_print(v)\n",
    "    @printf \"[\"\n",
    "    for i=1:length(v)\n",
    "        @printf \"%8.5f\" v[i]\n",
    "        if i < length(v)\n",
    "            @printf \"  \"\n",
    "        end\n",
    "    end\n",
    "    @printf \"]\\n\"\n",
    "end    "
   ]
  },
  {
   "cell_type": "code",
   "execution_count": 13,
   "metadata": {},
   "outputs": [
    {
     "data": {
      "text/plain": [
       "3×3 Diagonal{Float32,Array{Float32,1}}:\n",
       " 1.0   ⋅    ⋅  \n",
       "  ⋅   0.5   ⋅  \n",
       "  ⋅    ⋅   0.25"
      ]
     },
     "execution_count": 13,
     "metadata": {},
     "output_type": "execute_result"
    }
   ],
   "source": [
    "# Size of matrix\n",
    "n = 3\n",
    "X = rand(rng, n, n)\n",
    "Λ = diagm(0 => Float32[2.0^(-i) for i=0:n-1])\n",
    "\n",
    "A = X * Λ / X\n",
    "Diagonal(Λ)"
   ]
  },
  {
   "cell_type": "code",
   "execution_count": 14,
   "metadata": {},
   "outputs": [
    {
     "name": "stdout",
     "output_type": "stream",
     "text": [
      "Iteration:  1 | e-value: -0.1974 | qk, x1 =\n",
      "[ 0.61914   0.58831   0.52015]\n",
      "[ 0.63141   0.63530   0.44466]\n",
      "Iteration:  2 | e-value:  1.3476 | qk, x1 =\n",
      "[ 0.63384   0.61352   0.47100]\n",
      "[ 0.63141   0.63530   0.44466]\n",
      "Iteration:  3 | e-value:  1.1011 | qk, x1 =\n",
      "[ 0.63405   0.62437   0.45622]\n",
      "[ 0.63141   0.63530   0.44466]\n",
      "Iteration:  4 | e-value:  1.0394 | qk, x1 =\n",
      "[ 0.63305   0.62979   0.45012]\n",
      "[ 0.63141   0.63530   0.44466]\n",
      "Iteration:  5 | e-value:  1.0174 | qk, x1 =\n",
      "[ 0.63231   0.63253   0.44732]\n",
      "[ 0.63141   0.63530   0.44466]\n",
      "Iteration:  6 | e-value:  1.0082 | qk, x1 =\n",
      "[ 0.63188   0.63391   0.44597]\n",
      "[ 0.63141   0.63530   0.44466]\n",
      "Iteration:  7 | e-value:  1.0040 | qk, x1 =\n",
      "[ 0.63165   0.63460   0.44531]\n",
      "[ 0.63141   0.63530   0.44466]\n"
     ]
    }
   ],
   "source": [
    "x1 = X[:,1]\n",
    "x1 /= norm(x1)\n",
    "# Largest e-value: 1\n",
    "# E-vector: x1\n",
    "\n",
    "qk = randn(rng, n)\n",
    "qk /= norm(qk)\n",
    "\n",
    "niter = 20\n",
    "err = zeros(niter)\n",
    "\n",
    "for k=1:niter\n",
    "    zk = A * qk          # Power iteration: multiply by A\n",
    "    eval = dot(zk,qk)    # E-value approximation\n",
    "    qk = zk/norm(zk)     # Normalize e-vector\n",
    "\n",
    "    if k < 8 # We stop printing afterwards\n",
    "        @printf \"Iteration: %2d | e-value: %7.4f | qk, x1 =\\n\" k eval\n",
    "        if (qk[1]*x1[1] < 0)\n",
    "            qk = -qk\n",
    "        end\n",
    "        pretty_print(qk)\n",
    "        pretty_print(x1)\n",
    "    end\n",
    "    err[k] = abs(Λ[1,1] - eval)\n",
    "end"
   ]
  },
  {
   "cell_type": "code",
   "execution_count": 20,
   "metadata": {},
   "outputs": [
    {
     "data": {
      "text/html": [
       "<div class='display:none'></div><unsafe-script style='display:none'>\n",
       "WebIO.mount(this.previousSibling,{&quot;props&quot;:{},&quot;nodeType&quot;:&quot;Scope&quot;,&quot;type&quot;:&quot;node&quot;,&quot;instanceArgs&quot;:{&quot;imports&quot;:{&quot;data&quot;:[{&quot;name&quot;:&quot;Plotly&quot;,&quot;type&quot;:&quot;js&quot;,&quot;url&quot;:&quot;/assetserver/1e2c0da7fbe518270434b2ec2c46e20d1e0891d6-plotly-latest.min.js&quot;},{&quot;name&quot;:null,&quot;type&quot;:&quot;js&quot;,&quot;url&quot;:&quot;/assetserver/2009f112a9eee3177314b516a62b493c2ea5b3f5-plotly_webio.bundle.js&quot;}],&quot;type&quot;:&quot;async_block&quot;},&quot;id&quot;:&quot;scope-e0d333a0-cbda-49ea-97d5-3e52c8393fcc&quot;,&quot;handlers&quot;:{&quot;_toImage&quot;:[(function (options){return this.Plotly.toImage(this.plotElem,options).then((function (data){return WebIO.setval({&quot;name&quot;:&quot;image&quot;,&quot;scope&quot;:&quot;scope-e0d333a0-cbda-49ea-97d5-3e52c8393fcc&quot;,&quot;id&quot;:&quot;ob_55&quot;,&quot;type&quot;:&quot;observable&quot;},data)}))})],&quot;__get_gd_contents&quot;:[(function (prop){prop==&quot;data&quot; ? (WebIO.setval({&quot;name&quot;:&quot;__gd_contents&quot;,&quot;scope&quot;:&quot;scope-e0d333a0-cbda-49ea-97d5-3e52c8393fcc&quot;,&quot;id&quot;:&quot;ob_56&quot;,&quot;type&quot;:&quot;observable&quot;},this.plotElem.data)) : undefined; return prop==&quot;layout&quot; ? (WebIO.setval({&quot;name&quot;:&quot;__gd_contents&quot;,&quot;scope&quot;:&quot;scope-e0d333a0-cbda-49ea-97d5-3e52c8393fcc&quot;,&quot;id&quot;:&quot;ob_56&quot;,&quot;type&quot;:&quot;observable&quot;},this.plotElem.layout)) : undefined})],&quot;_promises&quot;:{&quot;importsLoaded&quot;:[(function (Plotly){var gd=this.dom.querySelector(&quot;#plot-87a18389-7711-4fc5-9f9b-ca270783f7fb&quot;); this.plotElem=gd; this.Plotly=Plotly; (window.Blink!==undefined) ? (gd.style.width=&quot;100%&quot;, gd.style.height=&quot;100vh&quot;, gd.style.marginLeft=&quot;0%&quot;, gd.style.marginTop=&quot;0vh&quot;) : undefined; window.onresize=(function (){return Plotly.Plots.resize(gd)}); Plotly.newPlot(gd,[{&quot;y&quot;:[1.1973638767138364,0.3476366581484447,0.10107456076543908,0.039441722115777234,0.01741620590051829,0.008176565700616312,0.0039602976845936055,0.0019487271907809856,0.0009665777819656274,0.0004813510019399114,0.00024019209088610438,0.00011997532517526999,5.995749902076852e-5,2.9971210678381155e-5,1.4983720888928076e-5,7.491389363734058e-6,3.7455769166250263e-6,1.872759016974257e-6,9.363721487076759e-7,4.681842329379293e-7],&quot;type&quot;:&quot;scatter&quot;,&quot;x&quot;:[1,2,3,4,5,6,7,8,9,10,11,12,13,14,15,16,17,18,19,20]}],{&quot;xaxis&quot;:{&quot;title&quot;:&quot;Iteration&quot;},&quot;margin&quot;:{&quot;l&quot;:50,&quot;b&quot;:50,&quot;r&quot;:50,&quot;t&quot;:60},&quot;yaxis&quot;:{&quot;type&quot;:&quot;log&quot;,&quot;title&quot;:&quot;Error&quot;},&quot;width&quot;:400},{}); gd.on(&quot;plotly_hover&quot;,(function (data){var filtered_data=WebIO.CommandSets.Plotly.filterEventData(gd,data,&quot;hover&quot;); return !(filtered_data.isnil) ? (WebIO.setval({&quot;name&quot;:&quot;hover&quot;,&quot;scope&quot;:&quot;scope-e0d333a0-cbda-49ea-97d5-3e52c8393fcc&quot;,&quot;id&quot;:&quot;ob_51&quot;,&quot;type&quot;:&quot;observable&quot;},filtered_data.out)) : undefined})); gd.on(&quot;plotly_unhover&quot;,(function (){return WebIO.setval({&quot;name&quot;:&quot;hover&quot;,&quot;scope&quot;:&quot;scope-e0d333a0-cbda-49ea-97d5-3e52c8393fcc&quot;,&quot;id&quot;:&quot;ob_51&quot;,&quot;type&quot;:&quot;observable&quot;},{})})); gd.on(&quot;plotly_selected&quot;,(function (data){var filtered_data=WebIO.CommandSets.Plotly.filterEventData(gd,data,&quot;selected&quot;); return !(filtered_data.isnil) ? (WebIO.setval({&quot;name&quot;:&quot;selected&quot;,&quot;scope&quot;:&quot;scope-e0d333a0-cbda-49ea-97d5-3e52c8393fcc&quot;,&quot;id&quot;:&quot;ob_52&quot;,&quot;type&quot;:&quot;observable&quot;},filtered_data.out)) : undefined})); gd.on(&quot;plotly_deselect&quot;,(function (){return WebIO.setval({&quot;name&quot;:&quot;selected&quot;,&quot;scope&quot;:&quot;scope-e0d333a0-cbda-49ea-97d5-3e52c8393fcc&quot;,&quot;id&quot;:&quot;ob_52&quot;,&quot;type&quot;:&quot;observable&quot;},{})})); gd.on(&quot;plotly_relayout&quot;,(function (data){var filtered_data=WebIO.CommandSets.Plotly.filterEventData(gd,data,&quot;relayout&quot;); return !(filtered_data.isnil) ? (WebIO.setval({&quot;name&quot;:&quot;relayout&quot;,&quot;scope&quot;:&quot;scope-e0d333a0-cbda-49ea-97d5-3e52c8393fcc&quot;,&quot;id&quot;:&quot;ob_54&quot;,&quot;type&quot;:&quot;observable&quot;},filtered_data.out)) : undefined})); return gd.on(&quot;plotly_click&quot;,(function (data){var filtered_data=WebIO.CommandSets.Plotly.filterEventData(gd,data,&quot;click&quot;); return !(filtered_data.isnil) ? (WebIO.setval({&quot;name&quot;:&quot;click&quot;,&quot;scope&quot;:&quot;scope-e0d333a0-cbda-49ea-97d5-3e52c8393fcc&quot;,&quot;id&quot;:&quot;ob_53&quot;,&quot;type&quot;:&quot;observable&quot;},filtered_data.out)) : undefined}))})]},&quot;_downloadImage&quot;:[(function (options){return this.Plotly.downloadImage(this.plotElem,options)})],&quot;_commands&quot;:[(function (args){var fn=args.shift(); var elem=this.plotElem; var Plotly=this.Plotly; args.unshift(elem); return Plotly[fn].apply(this,args)})]},&quot;systemjs_options&quot;:null,&quot;observables&quot;:{&quot;_toImage&quot;:{&quot;sync&quot;:false,&quot;id&quot;:&quot;ob_58&quot;,&quot;value&quot;:{}},&quot;hover&quot;:{&quot;sync&quot;:false,&quot;id&quot;:&quot;ob_51&quot;,&quot;value&quot;:{}},&quot;selected&quot;:{&quot;sync&quot;:false,&quot;id&quot;:&quot;ob_52&quot;,&quot;value&quot;:{}},&quot;__gd_contents&quot;:{&quot;sync&quot;:false,&quot;id&quot;:&quot;ob_56&quot;,&quot;value&quot;:{}},&quot;click&quot;:{&quot;sync&quot;:false,&quot;id&quot;:&quot;ob_53&quot;,&quot;value&quot;:{}},&quot;image&quot;:{&quot;sync&quot;:true,&quot;id&quot;:&quot;ob_55&quot;,&quot;value&quot;:&quot;&quot;},&quot;__get_gd_contents&quot;:{&quot;sync&quot;:false,&quot;id&quot;:&quot;ob_60&quot;,&quot;value&quot;:&quot;&quot;},&quot;_downloadImage&quot;:{&quot;sync&quot;:false,&quot;id&quot;:&quot;ob_59&quot;,&quot;value&quot;:{}},&quot;relayout&quot;:{&quot;sync&quot;:false,&quot;id&quot;:&quot;ob_54&quot;,&quot;value&quot;:{}},&quot;_commands&quot;:{&quot;sync&quot;:false,&quot;id&quot;:&quot;ob_57&quot;,&quot;value&quot;:[]}}},&quot;children&quot;:[{&quot;props&quot;:{&quot;id&quot;:&quot;plot-87a18389-7711-4fc5-9f9b-ca270783f7fb&quot;},&quot;nodeType&quot;:&quot;DOM&quot;,&quot;type&quot;:&quot;node&quot;,&quot;instanceArgs&quot;:{&quot;namespace&quot;:&quot;html&quot;,&quot;tag&quot;:&quot;div&quot;},&quot;children&quot;:[]}]})</unsafe-script>"
      ],
      "text/plain": [
       "data: [\n",
       "  \"scatter with fields type, x, and y\"\n",
       "]\n",
       "\n",
       "layout: \"layout with fields margin, width, xaxis, and yaxis\"\n",
       "\n"
      ]
     },
     "execution_count": 20,
     "metadata": {},
     "output_type": "execute_result"
    }
   ],
   "source": [
    "# Error in eigenvalue calculation\n",
    "plot(err,Layout(yaxis_type=\"log\",xaxis_title=\"Iteration\",yaxis_title=\"Error\",width=400))"
   ]
  },
  {
   "cell_type": "code",
   "execution_count": null,
   "metadata": {},
   "outputs": [],
   "source": []
  }
 ],
 "metadata": {
  "anaconda-cloud": {},
  "kernelspec": {
   "display_name": "Julia 1.0.0",
   "language": "julia",
   "name": "julia-1.0"
  },
  "language_info": {
   "file_extension": ".jl",
   "mimetype": "application/julia",
   "name": "julia",
   "version": "1.0.0"
  }
 },
 "nbformat": 4,
 "nbformat_minor": 1
}
