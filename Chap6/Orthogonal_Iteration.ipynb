{
 "cells": [
  {
   "cell_type": "code",
   "execution_count": 1,
   "metadata": {},
   "outputs": [
    {
     "name": "stderr",
     "output_type": "stream",
     "text": [
      "┌ Info: Precompiling PlotlyJS [f0f68f2c-4968-5e81-91da-67840de0976a]\n",
      "└ @ Base loading.jl:1278\n"
     ]
    },
    {
     "data": {
      "text/html": [
       "<script>\n",
       "// Immediately-invoked-function-expression to avoid global variables.\n",
       "(function() {\n",
       "    var warning_div = document.getElementById(\"webio-warning-2086994279471320156\");\n",
       "    var hide = function () {\n",
       "        var script = document.getElementById(\"webio-setup-4379900829190101657\");\n",
       "        var parent = script && script.parentElement;\n",
       "        var grandparent = parent && parent.parentElement;\n",
       "        if (grandparent) {\n",
       "            grandparent.style.display = \"none\";\n",
       "        }\n",
       "        warning_div.style.display = \"none\";\n",
       "    };\n",
       "    if (typeof Jupyter !== \"undefined\") {\n",
       "        console.log(\"WebIO detected Jupyter notebook environment.\");\n",
       "        // Jupyter notebook.\n",
       "        var extensions = (\n",
       "            Jupyter\n",
       "            && Jupyter.notebook.config.data\n",
       "            && Jupyter.notebook.config.data.load_extensions\n",
       "        );\n",
       "        if (extensions && extensions[\"webio-jupyter-notebook\"]) {\n",
       "            // Extension already loaded.\n",
       "            console.log(\"Jupyter WebIO nbextension detected; not loading ad-hoc.\");\n",
       "            hide();\n",
       "            return;\n",
       "        }\n",
       "    } else if (window.location.pathname.includes(\"/lab\")) {\n",
       "        // Guessing JupyterLa\n",
       "        console.log(\"Jupyter Lab detected; make sure the @webio/jupyter-lab-provider labextension is installed.\");\n",
       "        hide();\n",
       "        return;\n",
       "    }\n",
       "})();\n",
       "\n",
       "</script>\n",
       "<p\n",
       "    id=\"webio-warning-2086994279471320156\"\n",
       "    class=\"output_text output_stderr\"\n",
       "    style=\"padding: 1em; font-weight: bold;\"\n",
       ">\n",
       "    Unable to load WebIO. Please make sure WebIO works for your Jupyter client.\n",
       "    For troubleshooting, please see <a href=\"https://juliagizmos.github.io/WebIO.jl/latest/providers/ijulia/\">\n",
       "    the WebIO/IJulia documentation</a>.\n",
       "    <!-- TODO: link to installation docs. -->\n",
       "</p>\n"
      ],
      "text/plain": [
       "HTML{String}(\"<script>\\n// Immediately-invoked-function-expression to avoid global variables.\\n(function() {\\n    var warning_div = document.getElementById(\\\"webio-warning-2086994279471320156\\\");\\n    var hide = function () {\\n        var script = document.getElementById(\\\"webio-setup-4379900829190101657\\\");\\n        var parent = script && script.parentElement;\\n        var grandparent = parent && parent.parentElement;\\n        if (grandparent) {\\n            grandparent.style.display = \\\"none\\\";\\n        }\\n        warning_div.style.display = \\\"none\\\";\\n    };\\n    if (typeof Jupyter !== \\\"undefined\\\") {\\n        console.log(\\\"WebIO detected Jupyter notebook environment.\\\");\\n        // Jupyter notebook.\\n        var extensions = (\\n            Jupyter\\n            && Jupyter.notebook.config.data\\n            && Jupyter.notebook.config.data.load_extensions\\n        );\\n        if (extensions && extensions[\\\"webio-jupyter-notebook\\\"]) {\\n            // Extension already loaded.\\n            console.log(\\\"Jupyter WebIO nbextension detected; not loading ad-hoc.\\\");\\n            hide();\\n            return;\\n        }\\n    } else if (window.location.pathname.includes(\\\"/lab\\\")) {\\n        // Guessing JupyterLa\\n        console.log(\\\"Jupyter Lab detected; make sure the @webio/jupyter-lab-provider labextension is installed.\\\");\\n        hide();\\n        return;\\n    }\\n})();\\n\\n</script>\\n<p\\n    id=\\\"webio-warning-2086994279471320156\\\"\\n    class=\\\"output_text output_stderr\\\"\\n    style=\\\"padding: 1em; font-weight: bold;\\\"\\n>\\n    Unable to load WebIO. Please make sure WebIO works for your Jupyter client.\\n    For troubleshooting, please see <a href=\\\"https://juliagizmos.github.io/WebIO.jl/latest/providers/ijulia/\\\">\\n    the WebIO/IJulia documentation</a>.\\n    <!-- TODO: link to installation docs. -->\\n</p>\\n\")"
      ]
     },
     "metadata": {},
     "output_type": "display_data"
    }
   ],
   "source": [
    "using Printf\n",
    "using Random\n",
    "using LinearAlgebra\n",
    "using PlotlyJS\n",
    "rng = MersenneTwister(18);"
   ]
  },
  {
   "cell_type": "code",
   "execution_count": 2,
   "metadata": {},
   "outputs": [
    {
     "data": {
      "text/plain": [
       "pretty_print (generic function with 1 method)"
      ]
     },
     "execution_count": 2,
     "metadata": {},
     "output_type": "execute_result"
    }
   ],
   "source": [
    "function pretty_print(v)\n",
    "    @printf \"[\"\n",
    "    for i=1:length(v)\n",
    "        @printf \"%8.5f\" v[i]\n",
    "        if i < length(v)\n",
    "            @printf \"  \"\n",
    "        end\n",
    "    end\n",
    "    @printf \"]\\n\"\n",
    "end    "
   ]
  },
  {
   "cell_type": "code",
   "execution_count": 3,
   "metadata": {},
   "outputs": [
    {
     "data": {
      "text/plain": [
       "4×4 Array{Float64,2}:\n",
       " 0.48757   0.234468  0.209575  0.175088\n",
       " 0.234468  0.398881  0.230961  0.282065\n",
       " 0.209575  0.230961  0.211785  0.153633\n",
       " 0.175088  0.282065  0.153633  0.229889"
      ]
     },
     "execution_count": 3,
     "metadata": {},
     "output_type": "execute_result"
    }
   ],
   "source": [
    "# Size of matrix\n",
    "n = 4\n",
    "X = rand(rng, n, n)\n",
    "X, = qr(X)\n",
    "\n",
    "Λ = diagm(0 => Float32[4.0^(-i) for i=0:n-1])\n",
    "\n",
    "A = X * Λ / X"
   ]
  },
  {
   "cell_type": "code",
   "execution_count": 4,
   "metadata": {},
   "outputs": [
    {
     "name": "stdout",
     "output_type": "stream",
     "text": [
      "\n",
      "Iteration 1\n",
      "[-0.57523  -0.56989  -0.41021  -0.41960]\n",
      "[-0.57255  -0.57607  -0.40321  -0.42161]\n",
      "[ 0.75642  -0.48586   0.05824  -0.43403]\n",
      "[ 0.79309  -0.48973  -0.05163  -0.35848]\n",
      "\n",
      "Iteration 2\n",
      "[-0.57355  -0.57532  -0.40354  -0.42097]\n",
      "[-0.57255  -0.57607  -0.40321  -0.42161]\n",
      "[ 0.78512  -0.49235  -0.02272  -0.37505]\n",
      "[ 0.79309  -0.48973  -0.05163  -0.35848]\n",
      "\n",
      "Iteration 3\n",
      "[-0.57282  -0.57590  -0.40321  -0.42147]\n",
      "[-0.57255  -0.57607  -0.40321  -0.42161]\n",
      "[ 0.79117  -0.49061  -0.04433  -0.36248]\n",
      "[ 0.79309  -0.48973  -0.05163  -0.35848]\n",
      "\n",
      "Iteration 4\n",
      "[-0.57262  -0.57603  -0.40320  -0.42157]\n",
      "[-0.57255  -0.57607  -0.40321  -0.42161]\n",
      "[ 0.79261  -0.48997  -0.04980  -0.35947]\n",
      "[ 0.79309  -0.48973  -0.05163  -0.35848]\n"
     ]
    }
   ],
   "source": [
    "r = 2\n",
    "Qk = rand(rng, n, r)\n",
    "\n",
    "for k=1:4\n",
    "    Qk = A * Qk\n",
    "    F = qr(Qk); Qk = F.Q\n",
    "    \n",
    "    # This step is optional; it makes the solution unique\n",
    "    for j=1:2\n",
    "        if Qk[1,j] * X[1,j] < 0\n",
    "            Qk[:,j] = -Qk[:,j]\n",
    "            # This avoids sign differences\n",
    "        end\n",
    "    end\n",
    "    \n",
    "    println(\"\\nIteration \",k)\n",
    "    pretty_print(Qk[:,1])\n",
    "    pretty_print(X[:,1])\n",
    "    pretty_print(Qk[:,2])\n",
    "    pretty_print(X[:,2])\n",
    "end"
   ]
  },
  {
   "cell_type": "code",
   "execution_count": 5,
   "metadata": {},
   "outputs": [
    {
     "data": {
      "text/plain": [
       "30×2 Array{Float64,2}:\n",
       " 0.0673486    1.53041\n",
       " 0.0144416    0.923675\n",
       " 0.00357035   0.341001\n",
       " 0.000891959  0.0889157\n",
       " 0.00022298   0.0222908\n",
       " 5.57448e-5   0.00557368\n",
       " 1.39362e-5   0.00139343\n",
       " 3.48405e-6   0.000348359\n",
       " 8.71013e-7   8.70897e-5\n",
       " 2.17753e-7   2.17724e-5\n",
       " 5.44383e-8   5.44311e-6\n",
       " 1.36096e-8   1.36078e-6\n",
       " 3.40239e-9   3.40194e-7\n",
       " ⋮            \n",
       " 8.30696e-13  8.30551e-11\n",
       " 2.07667e-13  2.07637e-11\n",
       " 5.18536e-14  5.19091e-12\n",
       " 1.31167e-14  1.29765e-12\n",
       " 3.24918e-15  3.2435e-13\n",
       " 7.77156e-16  8.11155e-14\n",
       " 2.6037e-16   2.022e-14\n",
       " 3.18887e-16  4.99396e-15\n",
       " 2.54384e-16  1.22251e-15\n",
       " 3.18887e-16  3.81576e-16\n",
       " 2.54384e-16  3.37732e-16\n",
       " 3.18887e-16  2.50666e-16"
      ]
     },
     "execution_count": 5,
     "metadata": {},
     "output_type": "execute_result"
    }
   ],
   "source": [
    "Qk = rand(rng, n, r)\n",
    "niter = 30\n",
    "err = zeros(niter,2)\n",
    "\n",
    "for k=1:niter\n",
    "    Qk = A * Qk\n",
    "    F = qr(Qk)\n",
    "    Qk = Matrix(F.Q); Rk = F.R\n",
    "    for j=1:2\n",
    "        if Qk[1,j] * X[1,j] < 0\n",
    "            Qk[:,j] = -Qk[:,j]\n",
    "        end\n",
    "        err[k,j] = norm(Qk[:,j] - X[:,j])\n",
    "    end\n",
    "end\n",
    "err"
   ]
  },
  {
   "cell_type": "code",
   "execution_count": 6,
   "metadata": {},
   "outputs": [
    {
     "data": {
      "application/vnd.plotly.v1+json": {
       "data": [
        {
         "name": "Error in q1",
         "type": "scatter",
         "y": [
          0.0673485550280248,
          0.014441595763241038,
          0.0035703499518434873,
          0.0008919587331038528,
          0.00022297985602946795,
          5.574481045372269e-05,
          1.3936200214085869e-05,
          3.484050016074004e-06,
          8.710125035164935e-07,
          2.177531260519122e-07,
          5.443828159592116e-08,
          1.3609570420056994e-08,
          3.402392481862589e-09,
          8.505983719012828e-10,
          2.1264949085078342e-10,
          5.3162362774845445e-11,
          1.3290706881110154e-11,
          3.3227073152613233e-12,
          8.306962827150783e-13,
          2.0766686062975972e-13,
          5.1853595994789855e-14,
          1.3116734141391905e-14,
          3.2491810634609256e-15,
          7.771561172376096e-16,
          2.603703785810335e-16,
          3.188872858294072e-16,
          2.5438405243138006e-16,
          3.188872858294072e-16,
          2.5438405243138006e-16,
          3.188872858294072e-16
         ]
        },
        {
         "name": "Error in q2",
         "type": "scatter",
         "y": [
          1.530407791827847,
          0.9236750776120808,
          0.3410011761776449,
          0.08891572718169631,
          0.02229081978643233,
          0.005573676882484461,
          0.0013934344119682152,
          0.0003483588403614037,
          8.708971379925659e-05,
          2.1772428507811866e-05,
          5.443107127676377e-06,
          1.3607767819648657e-06,
          3.401941954316115e-07,
          8.504854879346633e-08,
          2.126213705763066e-08,
          5.315534201181916e-09,
          1.3288833982194562e-09,
          3.3222065001395776e-10,
          8.305512825298867e-11,
          2.0763720761433312e-11,
          5.190910560530296e-12,
          1.2976496085264538e-12,
          3.2435008438955636e-13,
          8.111545011356001e-14,
          2.0220009463262255e-14,
          4.9939648947601424e-15,
          1.2225062931717345e-15,
          3.815760786470701e-16,
          3.377324398933778e-16,
          2.5066604164831255e-16
         ]
        },
        {
         "line": {
          "dash": "dash"
         },
         "name": "Theoretical convergence",
         "type": "scatter",
         "y": [
          0.25,
          0.0625,
          0.015625,
          0.00390625,
          0.0009765625,
          0.000244140625,
          6.103515625e-05,
          1.52587890625e-05,
          3.814697265625e-06,
          9.5367431640625e-07,
          2.384185791015625e-07,
          5.960464477539063e-08,
          1.4901161193847656e-08,
          3.725290298461914e-09,
          9.313225746154785e-10,
          2.3283064365386963e-10,
          5.820766091346741e-11,
          1.4551915228366852e-11,
          3.637978807091713e-12,
          9.094947017729282e-13,
          2.2737367544323206e-13,
          5.684341886080802e-14,
          1.4210854715202004e-14,
          3.552713678800501e-15,
          8.881784197001252e-16,
          2.220446049250313e-16,
          5.551115123125783e-17,
          1.3877787807814457e-17,
          3.469446951953614e-18,
          8.673617379884035e-19
         ]
        }
       ],
       "frames": [],
       "layout": {
        "margin": {
         "b": 50,
         "l": 50,
         "r": 50,
         "t": 60
        },
        "width": 600,
        "xaxis": {
         "title": "Iteration"
        },
        "yaxis": {
         "title": "Error",
         "type": "log"
        }
       }
      },
      "application/vnd.webio.node+json": {
       "children": [
        {
         "children": [],
         "instanceArgs": {
          "namespace": "html",
          "tag": "div"
         },
         "nodeType": "DOM",
         "props": {
          "id": "plot-e09502b8-5253-41da-be82-1c110c5d079e"
         },
         "type": "node"
        }
       ],
       "instanceArgs": {
        "handlers": {
         "__get_gd_contents": [
          "(function (prop){prop==\"data\" ? (WebIO.setval({\"name\":\"__gd_contents\",\"scope\":\"3685922223591593370\",\"id\":\"12585757844251713348\",\"type\":\"observable\"},this.plotElem.data)) : undefined; return prop==\"layout\" ? (WebIO.setval({\"name\":\"__gd_contents\",\"scope\":\"3685922223591593370\",\"id\":\"12585757844251713348\",\"type\":\"observable\"},this.plotElem.layout)) : undefined})"
         ],
         "_commands": [
          "(function (args){var fn=args.shift(); var elem=this.plotElem; var Plotly=this.Plotly; args.unshift(elem); return Plotly[fn].apply(this,args)})"
         ],
         "_downloadImage": [
          "(function (options){return this.Plotly.downloadImage(this.plotElem,options)})"
         ],
         "_toImage": [
          "(function (options){return this.Plotly.toImage(this.plotElem,options).then((function (data){return WebIO.setval({\"name\":\"image\",\"scope\":\"3685922223591593370\",\"id\":\"14438426882705828361\",\"type\":\"observable\"},data)}))})"
         ]
        },
        "id": "3685922223591593370",
        "imports": {
         "data": [
          {
           "name": "Plotly",
           "type": "js",
           "url": "/assetserver/57533c5d787f8bc76a9e58ed0a1abce5f1b0c14d-plotly-latest.min.js"
          },
          {
           "name": null,
           "type": "js",
           "url": "/assetserver/58a7932c57029f7dbaa4105104076ff149fc7585-plotly_webio.bundle.js"
          }
         ],
         "type": "async_block"
        },
        "mount_callbacks": [
         "function () {\n    var handler = ((function (Plotly,PlotlyWebIO){PlotlyWebIO.init(WebIO); var gd=this.dom.querySelector(\"#plot-e09502b8-5253-41da-be82-1c110c5d079e\"); this.plotElem=gd; this.Plotly=Plotly; (window.Blink!==undefined) ? (gd.style.width=\"100%\", gd.style.height=\"100vh\", gd.style.marginLeft=\"0%\", gd.style.marginTop=\"0vh\") : undefined; window.onresize=(function (){return Plotly.Plots.resize(gd)}); Plotly.newPlot(gd,[{\"y\":[0.0673485550280248,0.014441595763241038,0.0035703499518434873,0.0008919587331038528,0.00022297985602946795,5.574481045372269e-5,1.3936200214085869e-5,3.484050016074004e-6,8.710125035164935e-7,2.177531260519122e-7,5.443828159592116e-8,1.3609570420056994e-8,3.402392481862589e-9,8.505983719012828e-10,2.1264949085078342e-10,5.3162362774845445e-11,1.3290706881110154e-11,3.3227073152613233e-12,8.306962827150783e-13,2.0766686062975972e-13,5.1853595994789855e-14,1.3116734141391905e-14,3.2491810634609256e-15,7.771561172376096e-16,2.603703785810335e-16,3.188872858294072e-16,2.5438405243138006e-16,3.188872858294072e-16,2.5438405243138006e-16,3.188872858294072e-16],\"type\":\"scatter\",\"name\":\"Error in q1\"},{\"y\":[1.530407791827847,0.9236750776120808,0.3410011761776449,0.08891572718169631,0.02229081978643233,0.005573676882484461,0.0013934344119682152,0.0003483588403614037,8.708971379925659e-5,2.1772428507811866e-5,5.443107127676377e-6,1.3607767819648657e-6,3.401941954316115e-7,8.504854879346633e-8,2.126213705763066e-8,5.315534201181916e-9,1.3288833982194562e-9,3.3222065001395776e-10,8.305512825298867e-11,2.0763720761433312e-11,5.190910560530296e-12,1.2976496085264538e-12,3.2435008438955636e-13,8.111545011356001e-14,2.0220009463262255e-14,4.9939648947601424e-15,1.2225062931717345e-15,3.815760786470701e-16,3.377324398933778e-16,2.5066604164831255e-16],\"type\":\"scatter\",\"name\":\"Error in q2\"},{\"line\":{\"dash\":\"dash\"},\"y\":[0.25,0.0625,0.015625,0.00390625,0.0009765625,0.000244140625,6.103515625e-5,1.52587890625e-5,3.814697265625e-6,9.5367431640625e-7,2.384185791015625e-7,5.960464477539063e-8,1.4901161193847656e-8,3.725290298461914e-9,9.313225746154785e-10,2.3283064365386963e-10,5.820766091346741e-11,1.4551915228366852e-11,3.637978807091713e-12,9.094947017729282e-13,2.2737367544323206e-13,5.684341886080802e-14,1.4210854715202004e-14,3.552713678800501e-15,8.881784197001252e-16,2.220446049250313e-16,5.551115123125783e-17,1.3877787807814457e-17,3.469446951953614e-18,8.673617379884035e-19],\"type\":\"scatter\",\"name\":\"Theoretical convergence\"}],{\"xaxis\":{\"title\":\"Iteration\"},\"margin\":{\"l\":50,\"b\":50,\"r\":50,\"t\":60},\"yaxis\":{\"type\":\"log\",\"title\":\"Error\"},\"width\":600},{}); gd.on(\"plotly_hover\",(function (data){var filtered_data=WebIO.PlotlyCommands.filterEventData(gd,data,\"hover\"); return !(filtered_data.isnil) ? (WebIO.setval({\"name\":\"hover\",\"scope\":\"3685922223591593370\",\"id\":\"12091240313197139982\",\"type\":\"observable\"},filtered_data.out)) : undefined})); gd.on(\"plotly_unhover\",(function (){return WebIO.setval({\"name\":\"hover\",\"scope\":\"3685922223591593370\",\"id\":\"12091240313197139982\",\"type\":\"observable\"},{})})); gd.on(\"plotly_selected\",(function (data){var filtered_data=WebIO.PlotlyCommands.filterEventData(gd,data,\"selected\"); return !(filtered_data.isnil) ? (WebIO.setval({\"name\":\"selected\",\"scope\":\"3685922223591593370\",\"id\":\"16742591535737564439\",\"type\":\"observable\"},filtered_data.out)) : undefined})); gd.on(\"plotly_deselect\",(function (){return WebIO.setval({\"name\":\"selected\",\"scope\":\"3685922223591593370\",\"id\":\"16742591535737564439\",\"type\":\"observable\"},{})})); gd.on(\"plotly_relayout\",(function (data){var filtered_data=WebIO.PlotlyCommands.filterEventData(gd,data,\"relayout\"); return !(filtered_data.isnil) ? (WebIO.setval({\"name\":\"relayout\",\"scope\":\"3685922223591593370\",\"id\":\"5394731654552094049\",\"type\":\"observable\"},filtered_data.out)) : undefined})); return gd.on(\"plotly_click\",(function (data){var filtered_data=WebIO.PlotlyCommands.filterEventData(gd,data,\"click\"); return !(filtered_data.isnil) ? (WebIO.setval({\"name\":\"click\",\"scope\":\"3685922223591593370\",\"id\":\"16166302422943834433\",\"type\":\"observable\"},filtered_data.out)) : undefined}))}));\n    (WebIO.importBlock({\"data\":[{\"name\":\"Plotly\",\"type\":\"js\",\"url\":\"/assetserver/57533c5d787f8bc76a9e58ed0a1abce5f1b0c14d-plotly-latest.min.js\"},{\"name\":null,\"type\":\"js\",\"url\":\"/assetserver/58a7932c57029f7dbaa4105104076ff149fc7585-plotly_webio.bundle.js\"}],\"type\":\"async_block\"})).then((imports) => handler.apply(this, imports));\n}\n"
        ],
        "observables": {
         "__gd_contents": {
          "id": "12585757844251713348",
          "sync": false,
          "value": {}
         },
         "__get_gd_contents": {
          "id": "12320960300589999247",
          "sync": false,
          "value": ""
         },
         "_commands": {
          "id": "664303224992472614",
          "sync": false,
          "value": []
         },
         "_downloadImage": {
          "id": "16147364166222319648",
          "sync": false,
          "value": {}
         },
         "_toImage": {
          "id": "16731231830417749300",
          "sync": false,
          "value": {}
         },
         "click": {
          "id": "16166302422943834433",
          "sync": false,
          "value": {}
         },
         "hover": {
          "id": "12091240313197139982",
          "sync": false,
          "value": {}
         },
         "image": {
          "id": "14438426882705828361",
          "sync": true,
          "value": ""
         },
         "relayout": {
          "id": "5394731654552094049",
          "sync": false,
          "value": {}
         },
         "selected": {
          "id": "16742591535737564439",
          "sync": false,
          "value": {}
         }
        },
        "systemjs_options": null
       },
       "nodeType": "Scope",
       "props": {},
       "type": "node"
      },
      "image/png": "[encoded data removed]",
      "image/svg+xml": [
       "<svg class=\"main-svg\" xmlns=\"http://www.w3.org/2000/svg\" xmlns:xlink=\"http://www.w3.org/1999/xlink\" width=\"700\" height=\"500\" style=\"\" viewBox=\"0 0 700 500\"><rect x=\"0\" y=\"0\" width=\"700\" height=\"500\" style=\"fill: rgb(255, 255, 255); fill-opacity: 1;\"/><defs id=\"defs-887cb3\"><g class=\"clips\"><clipPath id=\"clip887cb3xyplot\" class=\"plotclip\"><rect width=\"447\" height=\"390\"/></clipPath><clipPath class=\"axesclip\" id=\"clip887cb3x\"><rect x=\"50\" y=\"0\" width=\"447\" height=\"500\"/></clipPath><clipPath class=\"axesclip\" id=\"clip887cb3y\"><rect x=\"0\" y=\"60\" width=\"700\" height=\"390\"/></clipPath><clipPath class=\"axesclip\" id=\"clip887cb3xy\"><rect x=\"50\" y=\"60\" width=\"447\" height=\"390\"/></clipPath></g><g class=\"gradients\"/></defs><g class=\"bglayer\"/><g class=\"layer-below\"><g class=\"imagelayer\"/><g class=\"shapelayer\"/></g><g class=\"cartesianlayer\"><g class=\"subplot xy\"><g class=\"layer-subplot\"><g class=\"shapelayer\"/><g class=\"imagelayer\"/></g><g class=\"gridlayer\"><g class=\"x\"><path class=\"xgrid crisp\" transform=\"translate(127.07,0)\" d=\"M0,60v390\" style=\"stroke: rgb(238, 238, 238); stroke-opacity: 1; stroke-width: 1px;\"/><path class=\"xgrid crisp\" transform=\"translate(204.14,0)\" d=\"M0,60v390\" style=\"stroke: rgb(238, 238, 238); stroke-opacity: 1; stroke-width: 1px;\"/><path class=\"xgrid crisp\" transform=\"translate(281.21000000000004,0)\" d=\"M0,60v390\" style=\"stroke: rgb(238, 238, 238); stroke-opacity: 1; stroke-width: 1px;\"/><path class=\"xgrid crisp\" transform=\"translate(358.28,0)\" d=\"M0,60v390\" style=\"stroke: rgb(238, 238, 238); stroke-opacity: 1; stroke-width: 1px;\"/><path class=\"xgrid crisp\" transform=\"translate(435.34,0)\" d=\"M0,60v390\" style=\"stroke: rgb(238, 238, 238); stroke-opacity: 1; stroke-width: 1px;\"/></g><g class=\"y\"><path class=\"ygrid crisp\" transform=\"translate(0,429.31)\" d=\"M50,0h447\" style=\"stroke: rgb(238, 238, 238); stroke-opacity: 1; stroke-width: 1px;\"/><path class=\"ygrid crisp\" transform=\"translate(0,371.6)\" d=\"M50,0h447\" style=\"stroke: rgb(238, 238, 238); stroke-opacity: 1; stroke-width: 1px;\"/><path class=\"ygrid crisp\" transform=\"translate(0,313.89)\" d=\"M50,0h447\" style=\"stroke: rgb(238, 238, 238); stroke-opacity: 1; stroke-width: 1px;\"/><path class=\"ygrid crisp\" transform=\"translate(0,256.18)\" d=\"M50,0h447\" style=\"stroke: rgb(238, 238, 238); stroke-opacity: 1; stroke-width: 1px;\"/><path class=\"ygrid crisp\" transform=\"translate(0,198.47)\" d=\"M50,0h447\" style=\"stroke: rgb(238, 238, 238); stroke-opacity: 1; stroke-width: 1px;\"/><path class=\"ygrid crisp\" transform=\"translate(0,140.76)\" d=\"M50,0h447\" style=\"stroke: rgb(238, 238, 238); stroke-opacity: 1; stroke-width: 1px;\"/><path class=\"ygrid crisp\" transform=\"translate(0,83.06)\" d=\"M50,0h447\" style=\"stroke: rgb(238, 238, 238); stroke-opacity: 1; stroke-width: 1px;\"/></g></g><g class=\"zerolinelayer\"><path class=\"xzl zl crisp\" transform=\"translate(50,0)\" d=\"M0,60v390\" style=\"stroke: rgb(68, 68, 68); stroke-opacity: 1; stroke-width: 1px;\"/></g><path class=\"xlines-below\"/><path class=\"ylines-below\"/><g class=\"overlines-below\"/><g class=\"xaxislayer-below\"/><g class=\"yaxislayer-below\"/><g class=\"overaxes-below\"/><g class=\"plot\" transform=\"translate(50, 60)\" clip-path=\"url('#clip887cb3xyplot')\"><g class=\"scatterlayer mlayer\"><g class=\"trace scatter traced9190e\" style=\"stroke-miterlimit: 2; opacity: 1;\"><g class=\"fills\"/><g class=\"errorbars\"/><g class=\"lines\"><path class=\"js-line\" d=\"M0,45.59L15.41,58.46L30.83,70.13L354.52,313.71L369.93,322.84L385.34,321.15L400.76,323.04L416.17,321.15L431.59,323.04L447,321.15\" style=\"vector-effect: non-scaling-stroke; fill: none; stroke: rgb(31, 119, 180); stroke-opacity: 1; stroke-width: 2px; opacity: 1;\"/></g><g class=\"points\"/><g class=\"text\"/></g><g class=\"trace scatter trace7e347d\" style=\"stroke-miterlimit: 2; opacity: 1;\"><g class=\"fills\"/><g class=\"errorbars\"/><g class=\"lines\"><path class=\"js-line\" d=\"M0,19.5L15.41,23.72L30.83,32.04L77.07,66.41L92.48,77.99L400.76,309.92L416.17,319.65L431.59,320.67L447,323.16\" style=\"vector-effect: non-scaling-stroke; fill: none; stroke: rgb(255, 127, 14); stroke-opacity: 1; stroke-width: 2px; opacity: 1;\"/></g><g class=\"points\"/><g class=\"text\"/></g><g class=\"trace scatter traced5ec81\" style=\"stroke-miterlimit: 2; opacity: 1;\"><g class=\"fills\"/><g class=\"errorbars\"/><g class=\"lines\"><path class=\"js-line\" d=\"M0,34.64L447,370.5\" style=\"vector-effect: non-scaling-stroke; fill: none; stroke: rgb(44, 160, 44); stroke-opacity: 1; stroke-width: 2px; opacity: 1; stroke-dasharray: 9px, 9px;\"/></g><g class=\"points\"/><g class=\"text\"/></g></g></g><g class=\"overplot\"/><path class=\"xlines-above crisp\" d=\"M0,0\" style=\"fill: none;\"/><path class=\"ylines-above crisp\" d=\"M0,0\" style=\"fill: none;\"/><g class=\"overlines-above\"/><g class=\"xaxislayer-above\"><g class=\"xtick\"><text text-anchor=\"middle\" x=\"0\" y=\"463\" transform=\"translate(50,0)\" style=\"font-family: 'Open Sans', verdana, arial, sans-serif; font-size: 12px; fill: rgb(68, 68, 68); fill-opacity: 1; white-space: pre;\">0</text></g><g class=\"xtick\"><text text-anchor=\"middle\" x=\"0\" y=\"463\" transform=\"translate(127.07,0)\" style=\"font-family: 'Open Sans', verdana, arial, sans-serif; font-size: 12px; fill: rgb(68, 68, 68); fill-opacity: 1; white-space: pre;\">5</text></g><g class=\"xtick\"><text text-anchor=\"middle\" x=\"0\" y=\"463\" transform=\"translate(204.14,0)\" style=\"font-family: 'Open Sans', verdana, arial, sans-serif; font-size: 12px; fill: rgb(68, 68, 68); fill-opacity: 1; white-space: pre;\">10</text></g><g class=\"xtick\"><text text-anchor=\"middle\" x=\"0\" y=\"463\" transform=\"translate(281.21000000000004,0)\" style=\"font-family: 'Open Sans', verdana, arial, sans-serif; font-size: 12px; fill: rgb(68, 68, 68); fill-opacity: 1; white-space: pre;\">15</text></g><g class=\"xtick\"><text text-anchor=\"middle\" x=\"0\" y=\"463\" transform=\"translate(358.28,0)\" style=\"font-family: 'Open Sans', verdana, arial, sans-serif; font-size: 12px; fill: rgb(68, 68, 68); fill-opacity: 1; white-space: pre;\">20</text></g><g class=\"xtick\"><text text-anchor=\"middle\" x=\"0\" y=\"463\" transform=\"translate(435.34,0)\" style=\"font-family: 'Open Sans', verdana, arial, sans-serif; font-size: 12px; fill: rgb(68, 68, 68); fill-opacity: 1; white-space: pre;\">25</text></g></g><g class=\"yaxislayer-above\"><g class=\"ytick\"><text text-anchor=\"end\" x=\"49\" y=\"5.25\" transform=\"translate(0,429.31)\" style=\"font-family: 'Open Sans', verdana, arial, sans-serif; font-size: 15px; fill: rgb(68, 68, 68); fill-opacity: 1; white-space: pre;\">10​<tspan style=\"font-size:70%\" dy=\"-0.6em\">−18</tspan><tspan dy=\"0.42em\">​</tspan></text></g><g class=\"ytick\"><text text-anchor=\"end\" x=\"49\" y=\"4.199999999999999\" transform=\"translate(0,371.6)\" style=\"font-family: 'Open Sans', verdana, arial, sans-serif; font-size: 12px; fill: rgb(68, 68, 68); fill-opacity: 1; white-space: pre;\">1f</text></g><g class=\"ytick\"><text text-anchor=\"end\" x=\"49\" y=\"4.199999999999999\" transform=\"translate(0,313.89)\" style=\"font-family: 'Open Sans', verdana, arial, sans-serif; font-size: 12px; fill: rgb(68, 68, 68); fill-opacity: 1; white-space: pre;\">1p</text></g><g class=\"ytick\"><text text-anchor=\"end\" x=\"49\" y=\"4.199999999999999\" transform=\"translate(0,256.18)\" style=\"font-family: 'Open Sans', verdana, arial, sans-serif; font-size: 12px; fill: rgb(68, 68, 68); fill-opacity: 1; white-space: pre;\">1n</text></g><g class=\"ytick\"><text text-anchor=\"end\" x=\"49\" y=\"4.199999999999999\" transform=\"translate(0,198.47)\" style=\"font-family: 'Open Sans', verdana, arial, sans-serif; font-size: 12px; fill: rgb(68, 68, 68); fill-opacity: 1; white-space: pre;\">1μ</text></g><g class=\"ytick\"><text text-anchor=\"end\" x=\"49\" y=\"4.199999999999999\" transform=\"translate(0,140.76)\" style=\"font-family: 'Open Sans', verdana, arial, sans-serif; font-size: 12px; fill: rgb(68, 68, 68); fill-opacity: 1; white-space: pre;\">0.001</text></g><g class=\"ytick\"><text text-anchor=\"end\" x=\"49\" y=\"4.199999999999999\" transform=\"translate(0,83.06)\" style=\"font-family: 'Open Sans', verdana, arial, sans-serif; font-size: 12px; fill: rgb(68, 68, 68); fill-opacity: 1; white-space: pre;\">1</text></g></g><g class=\"overaxes-above\"/></g></g><g class=\"polarlayer\"/><g class=\"ternarylayer\"/><g class=\"geolayer\"/><g class=\"funnelarealayer\"/><g class=\"pielayer\"/><g class=\"treemaplayer\"/><g class=\"sunburstlayer\"/><g class=\"glimages\"/><defs id=\"topdefs-887cb3\"><g class=\"clips\"/><clipPath id=\"legend887cb3\"><rect width=\"182\" height=\"67\" x=\"0\" y=\"0\"/></clipPath></defs><g class=\"layer-above\"><g class=\"imagelayer\"/><g class=\"shapelayer\"/></g><g class=\"infolayer\"><g class=\"legend\" pointer-events=\"all\" transform=\"translate(505.94, 60)\"><rect class=\"bg\" shape-rendering=\"crispEdges\" style=\"stroke: rgb(68, 68, 68); stroke-opacity: 1; fill: rgb(255, 255, 255); fill-opacity: 1; stroke-width: 0px;\" width=\"182\" height=\"67\" x=\"0\" y=\"0\"/><g class=\"scrollbox\" transform=\"translate(0, 0)\" clip-path=\"url('#legend887cb3')\"><g class=\"groups\"><g class=\"traces\" transform=\"translate(0, 14.5)\" style=\"opacity: 1;\"><text class=\"legendtext\" text-anchor=\"start\" x=\"40\" y=\"4.680000000000001\" style=\"font-family: 'Open Sans', verdana, arial, sans-serif; font-size: 12px; fill: rgb(68, 68, 68); fill-opacity: 1; white-space: pre;\">Error in q1</text><g class=\"layers\" style=\"opacity: 1;\"><g class=\"legendfill\"/><g class=\"legendlines\"><path class=\"js-line\" d=\"M5,0h30\" style=\"fill: none; stroke: rgb(31, 119, 180); stroke-opacity: 1; stroke-width: 2px;\"/></g><g class=\"legendsymbols\"><g class=\"legendpoints\"/></g></g><rect class=\"legendtoggle\" x=\"0\" y=\"-9.5\" width=\"176.515625\" height=\"19\" style=\"fill: rgb(0, 0, 0); fill-opacity: 0;\"/></g><g class=\"traces\" transform=\"translate(0, 33.5)\" style=\"opacity: 1;\"><text class=\"legendtext\" text-anchor=\"start\" x=\"40\" y=\"4.680000000000001\" style=\"font-family: 'Open Sans', verdana, arial, sans-serif; font-size: 12px; fill: rgb(68, 68, 68); fill-opacity: 1; white-space: pre;\">Error in q2</text><g class=\"layers\" style=\"opacity: 1;\"><g class=\"legendfill\"/><g class=\"legendlines\"><path class=\"js-line\" d=\"M5,0h30\" style=\"fill: none; stroke: rgb(255, 127, 14); stroke-opacity: 1; stroke-width: 2px;\"/></g><g class=\"legendsymbols\"><g class=\"legendpoints\"/></g></g><rect class=\"legendtoggle\" x=\"0\" y=\"-9.5\" width=\"176.515625\" height=\"19\" style=\"fill: rgb(0, 0, 0); fill-opacity: 0;\"/></g><g class=\"traces\" transform=\"translate(0, 52.5)\" style=\"opacity: 1;\"><text class=\"legendtext\" text-anchor=\"start\" x=\"40\" y=\"4.680000000000001\" style=\"font-family: 'Open Sans', verdana, arial, sans-serif; font-size: 12px; fill: rgb(68, 68, 68); fill-opacity: 1; white-space: pre;\">Theoretical convergence</text><g class=\"layers\" style=\"opacity: 1;\"><g class=\"legendfill\"/><g class=\"legendlines\"><path class=\"js-line\" d=\"M5,0h30\" style=\"fill: none; stroke: rgb(44, 160, 44); stroke-opacity: 1; stroke-dasharray: 9px, 9px; stroke-width: 2px;\"/></g><g class=\"legendsymbols\"><g class=\"legendpoints\"/></g></g><rect class=\"legendtoggle\" x=\"0\" y=\"-9.5\" width=\"176.515625\" height=\"19\" style=\"fill: rgb(0, 0, 0); fill-opacity: 0;\"/></g></g></g><rect class=\"scrollbar\" rx=\"20\" ry=\"3\" width=\"0\" height=\"0\" style=\"fill: rgb(128, 139, 164); fill-opacity: 1;\" x=\"0\" y=\"0\"/></g><g class=\"g-gtitle\"/><g class=\"g-xtitle\" transform=\"translate(0,-6)\"><text class=\"xtitle\" x=\"273.5\" y=\"502\" text-anchor=\"middle\" style=\"font-family: 'Open Sans', verdana, arial, sans-serif; font-size: 14px; fill: rgb(68, 68, 68); opacity: 1; font-weight: normal; white-space: pre;\">Iteration</text></g><g class=\"g-ytitle\" transform=\"translate(3,0)\"><text class=\"ytitle\" transform=\"rotate(-90,12,255)\" x=\"12\" y=\"255\" text-anchor=\"middle\" style=\"font-family: 'Open Sans', verdana, arial, sans-serif; font-size: 14px; fill: rgb(68, 68, 68); opacity: 1; font-weight: normal; white-space: pre;\">Error</text></g></g></svg>"
      ],
      "text/html": [
       "<div\n",
       "    class=\"webio-mountpoint\"\n",
       "    data-webio-mountpoint=\"4504193436871362462\"\n",
       ">\n",
       "    <script>\n",
       "    if (window.require && require.defined && require.defined(\"nbextensions/webio-jupyter-notebook\")) {\n",
       "        console.log(\"Jupyter WebIO extension detected, not mounting.\");\n",
       "    } else if (window.WebIO) {\n",
       "        WebIO.mount(\n",
       "            document.querySelector('[data-webio-mountpoint=\"4504193436871362462\"]'),\n",
       "            {\"props\":{},\"nodeType\":\"Scope\",\"type\":\"node\",\"instanceArgs\":{\"imports\":{\"data\":[{\"name\":\"Plotly\",\"type\":\"js\",\"url\":\"\\/assetserver\\/57533c5d787f8bc76a9e58ed0a1abce5f1b0c14d-plotly-latest.min.js\"},{\"name\":null,\"type\":\"js\",\"url\":\"\\/assetserver\\/58a7932c57029f7dbaa4105104076ff149fc7585-plotly_webio.bundle.js\"}],\"type\":\"async_block\"},\"id\":\"3685922223591593370\",\"handlers\":{\"_toImage\":[\"(function (options){return this.Plotly.toImage(this.plotElem,options).then((function (data){return WebIO.setval({\\\"name\\\":\\\"image\\\",\\\"scope\\\":\\\"3685922223591593370\\\",\\\"id\\\":\\\"14438426882705828361\\\",\\\"type\\\":\\\"observable\\\"},data)}))})\"],\"__get_gd_contents\":[\"(function (prop){prop==\\\"data\\\" ? (WebIO.setval({\\\"name\\\":\\\"__gd_contents\\\",\\\"scope\\\":\\\"3685922223591593370\\\",\\\"id\\\":\\\"12585757844251713348\\\",\\\"type\\\":\\\"observable\\\"},this.plotElem.data)) : undefined; return prop==\\\"layout\\\" ? (WebIO.setval({\\\"name\\\":\\\"__gd_contents\\\",\\\"scope\\\":\\\"3685922223591593370\\\",\\\"id\\\":\\\"12585757844251713348\\\",\\\"type\\\":\\\"observable\\\"},this.plotElem.layout)) : undefined})\"],\"_downloadImage\":[\"(function (options){return this.Plotly.downloadImage(this.plotElem,options)})\"],\"_commands\":[\"(function (args){var fn=args.shift(); var elem=this.plotElem; var Plotly=this.Plotly; args.unshift(elem); return Plotly[fn].apply(this,args)})\"]},\"systemjs_options\":null,\"mount_callbacks\":[\"function () {\\n    var handler = ((function (Plotly,PlotlyWebIO){PlotlyWebIO.init(WebIO); var gd=this.dom.querySelector(\\\"#plot-e09502b8-5253-41da-be82-1c110c5d079e\\\"); this.plotElem=gd; this.Plotly=Plotly; (window.Blink!==undefined) ? (gd.style.width=\\\"100%\\\", gd.style.height=\\\"100vh\\\", gd.style.marginLeft=\\\"0%\\\", gd.style.marginTop=\\\"0vh\\\") : undefined; window.onresize=(function (){return Plotly.Plots.resize(gd)}); Plotly.newPlot(gd,[{\\\"y\\\":[0.0673485550280248,0.014441595763241038,0.0035703499518434873,0.0008919587331038528,0.00022297985602946795,5.574481045372269e-5,1.3936200214085869e-5,3.484050016074004e-6,8.710125035164935e-7,2.177531260519122e-7,5.443828159592116e-8,1.3609570420056994e-8,3.402392481862589e-9,8.505983719012828e-10,2.1264949085078342e-10,5.3162362774845445e-11,1.3290706881110154e-11,3.3227073152613233e-12,8.306962827150783e-13,2.0766686062975972e-13,5.1853595994789855e-14,1.3116734141391905e-14,3.2491810634609256e-15,7.771561172376096e-16,2.603703785810335e-16,3.188872858294072e-16,2.5438405243138006e-16,3.188872858294072e-16,2.5438405243138006e-16,3.188872858294072e-16],\\\"type\\\":\\\"scatter\\\",\\\"name\\\":\\\"Error in q1\\\"},{\\\"y\\\":[1.530407791827847,0.9236750776120808,0.3410011761776449,0.08891572718169631,0.02229081978643233,0.005573676882484461,0.0013934344119682152,0.0003483588403614037,8.708971379925659e-5,2.1772428507811866e-5,5.443107127676377e-6,1.3607767819648657e-6,3.401941954316115e-7,8.504854879346633e-8,2.126213705763066e-8,5.315534201181916e-9,1.3288833982194562e-9,3.3222065001395776e-10,8.305512825298867e-11,2.0763720761433312e-11,5.190910560530296e-12,1.2976496085264538e-12,3.2435008438955636e-13,8.111545011356001e-14,2.0220009463262255e-14,4.9939648947601424e-15,1.2225062931717345e-15,3.815760786470701e-16,3.377324398933778e-16,2.5066604164831255e-16],\\\"type\\\":\\\"scatter\\\",\\\"name\\\":\\\"Error in q2\\\"},{\\\"line\\\":{\\\"dash\\\":\\\"dash\\\"},\\\"y\\\":[0.25,0.0625,0.015625,0.00390625,0.0009765625,0.000244140625,6.103515625e-5,1.52587890625e-5,3.814697265625e-6,9.5367431640625e-7,2.384185791015625e-7,5.960464477539063e-8,1.4901161193847656e-8,3.725290298461914e-9,9.313225746154785e-10,2.3283064365386963e-10,5.820766091346741e-11,1.4551915228366852e-11,3.637978807091713e-12,9.094947017729282e-13,2.2737367544323206e-13,5.684341886080802e-14,1.4210854715202004e-14,3.552713678800501e-15,8.881784197001252e-16,2.220446049250313e-16,5.551115123125783e-17,1.3877787807814457e-17,3.469446951953614e-18,8.673617379884035e-19],\\\"type\\\":\\\"scatter\\\",\\\"name\\\":\\\"Theoretical convergence\\\"}],{\\\"xaxis\\\":{\\\"title\\\":\\\"Iteration\\\"},\\\"margin\\\":{\\\"l\\\":50,\\\"b\\\":50,\\\"r\\\":50,\\\"t\\\":60},\\\"yaxis\\\":{\\\"type\\\":\\\"log\\\",\\\"title\\\":\\\"Error\\\"},\\\"width\\\":600},{}); gd.on(\\\"plotly_hover\\\",(function (data){var filtered_data=WebIO.PlotlyCommands.filterEventData(gd,data,\\\"hover\\\"); return !(filtered_data.isnil) ? (WebIO.setval({\\\"name\\\":\\\"hover\\\",\\\"scope\\\":\\\"3685922223591593370\\\",\\\"id\\\":\\\"12091240313197139982\\\",\\\"type\\\":\\\"observable\\\"},filtered_data.out)) : undefined})); gd.on(\\\"plotly_unhover\\\",(function (){return WebIO.setval({\\\"name\\\":\\\"hover\\\",\\\"scope\\\":\\\"3685922223591593370\\\",\\\"id\\\":\\\"12091240313197139982\\\",\\\"type\\\":\\\"observable\\\"},{})})); gd.on(\\\"plotly_selected\\\",(function (data){var filtered_data=WebIO.PlotlyCommands.filterEventData(gd,data,\\\"selected\\\"); return !(filtered_data.isnil) ? (WebIO.setval({\\\"name\\\":\\\"selected\\\",\\\"scope\\\":\\\"3685922223591593370\\\",\\\"id\\\":\\\"16742591535737564439\\\",\\\"type\\\":\\\"observable\\\"},filtered_data.out)) : undefined})); gd.on(\\\"plotly_deselect\\\",(function (){return WebIO.setval({\\\"name\\\":\\\"selected\\\",\\\"scope\\\":\\\"3685922223591593370\\\",\\\"id\\\":\\\"16742591535737564439\\\",\\\"type\\\":\\\"observable\\\"},{})})); gd.on(\\\"plotly_relayout\\\",(function (data){var filtered_data=WebIO.PlotlyCommands.filterEventData(gd,data,\\\"relayout\\\"); return !(filtered_data.isnil) ? (WebIO.setval({\\\"name\\\":\\\"relayout\\\",\\\"scope\\\":\\\"3685922223591593370\\\",\\\"id\\\":\\\"5394731654552094049\\\",\\\"type\\\":\\\"observable\\\"},filtered_data.out)) : undefined})); return gd.on(\\\"plotly_click\\\",(function (data){var filtered_data=WebIO.PlotlyCommands.filterEventData(gd,data,\\\"click\\\"); return !(filtered_data.isnil) ? (WebIO.setval({\\\"name\\\":\\\"click\\\",\\\"scope\\\":\\\"3685922223591593370\\\",\\\"id\\\":\\\"16166302422943834433\\\",\\\"type\\\":\\\"observable\\\"},filtered_data.out)) : undefined}))}));\\n    (WebIO.importBlock({\\\"data\\\":[{\\\"name\\\":\\\"Plotly\\\",\\\"type\\\":\\\"js\\\",\\\"url\\\":\\\"\\/assetserver\\/57533c5d787f8bc76a9e58ed0a1abce5f1b0c14d-plotly-latest.min.js\\\"},{\\\"name\\\":null,\\\"type\\\":\\\"js\\\",\\\"url\\\":\\\"\\/assetserver\\/58a7932c57029f7dbaa4105104076ff149fc7585-plotly_webio.bundle.js\\\"}],\\\"type\\\":\\\"async_block\\\"})).then((imports) => handler.apply(this, imports));\\n}\\n\"],\"observables\":{\"_toImage\":{\"sync\":false,\"id\":\"16731231830417749300\",\"value\":{}},\"hover\":{\"sync\":false,\"id\":\"12091240313197139982\",\"value\":{}},\"selected\":{\"sync\":false,\"id\":\"16742591535737564439\",\"value\":{}},\"__gd_contents\":{\"sync\":false,\"id\":\"12585757844251713348\",\"value\":{}},\"click\":{\"sync\":false,\"id\":\"16166302422943834433\",\"value\":{}},\"image\":{\"sync\":true,\"id\":\"14438426882705828361\",\"value\":\"\"},\"__get_gd_contents\":{\"sync\":false,\"id\":\"12320960300589999247\",\"value\":\"\"},\"_downloadImage\":{\"sync\":false,\"id\":\"16147364166222319648\",\"value\":{}},\"relayout\":{\"sync\":false,\"id\":\"5394731654552094049\",\"value\":{}},\"_commands\":{\"sync\":false,\"id\":\"664303224992472614\",\"value\":[]}}},\"children\":[{\"props\":{\"id\":\"plot-e09502b8-5253-41da-be82-1c110c5d079e\"},\"nodeType\":\"DOM\",\"type\":\"node\",\"instanceArgs\":{\"namespace\":\"html\",\"tag\":\"div\"},\"children\":[]}]},\n",
       "            window,\n",
       "        );\n",
       "    } else {\n",
       "        document\n",
       "            .querySelector('[data-webio-mountpoint=\"4504193436871362462\"]')\n",
       "            .innerHTML = (\n",
       "                '<div style=\"padding: 1em; background-color: #f8d6da; border: 1px solid #f5c6cb\">' +\n",
       "                '<p><strong>WebIO not detected.</strong></p>' +\n",
       "                '<p>Please read ' +\n",
       "                '<a href=\"https://juliagizmos.github.io/WebIO.jl/latest/troubleshooting/not-detected/\" target=\"_blank\">the troubleshooting guide</a> ' +\n",
       "                'for more information on how to resolve this issue.</p>' +\n",
       "                '<p><a href=\"https://juliagizmos.github.io/WebIO.jl/latest/troubleshooting/not-detected/\" target=\"_blank\">https://juliagizmos.github.io/WebIO.jl/latest/troubleshooting/not-detected/</a></p>' +\n",
       "                '</div>'\n",
       "            );\n",
       "    }\n",
       "    </script>\n",
       "</div>\n"
      ],
      "text/plain": [
       "data: [\n",
       "  \"scatter with fields name, type, and y\",\n",
       "  \"scatter with fields name, type, and y\",\n",
       "  \"scatter with fields line, name, type, and y\"\n",
       "]\n",
       "\n",
       "layout: \"layout with fields margin, width, xaxis, and yaxis\"\n",
       "\n"
      ]
     },
     "execution_count": 6,
     "metadata": {
      "application/vnd.webio.node+json": {
       "kernelId": "cca0f9cc-83af-416b-a6e0-efd1c71dbf9a"
      }
     },
     "output_type": "execute_result"
    }
   ],
   "source": [
    "t1 = scatter(y=err[:,1], name=\"Error in q1\")\n",
    "t2 = scatter(y=err[:,2], name=\"Error in q2\")\n",
    "t3 = scatter(y=[4.0^(-i) for i=1:niter],\n",
    "    name=\"Theoretical convergence\", line_dash=\"dash\")\n",
    "plot([t1, t2, t3],\n",
    "    Layout(yaxis_type=\"log\",\n",
    "        xaxis_title=\"Iteration\", yaxis_title=\"Error\", \n",
    "        width=600))"
   ]
  }
 ],
 "metadata": {
  "@webio": {
   "lastCommId": "2e1a05dfc8db40f58b0d6fb377490f46",
   "lastKernelId": "cca0f9cc-83af-416b-a6e0-efd1c71dbf9a"
  },
  "anaconda-cloud": {},
  "kernelspec": {
   "display_name": "Julia 1.5.1",
   "language": "julia",
   "name": "julia-1.5"
  },
  "language_info": {
   "file_extension": ".jl",
   "mimetype": "application/julia",
   "name": "julia",
   "version": "1.5.1"
  }
 },
 "nbformat": 4,
 "nbformat_minor": 4
}
