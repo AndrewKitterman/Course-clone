{
 "cells": [
  {
   "cell_type": "code",
   "execution_count": 8,
   "metadata": {},
   "outputs": [],
   "source": [
    "using Printf\n",
    "using Random\n",
    "using LinearAlgebra\n",
    "using PlotlyJS\n",
    "rng = MersenneTwister(18);"
   ]
  },
  {
   "cell_type": "code",
   "execution_count": 9,
   "metadata": {},
   "outputs": [
    {
     "data": {
      "text/plain": [
       "pretty_print (generic function with 1 method)"
      ]
     },
     "execution_count": 9,
     "metadata": {},
     "output_type": "execute_result"
    }
   ],
   "source": [
    "function pretty_print(v)\n",
    "    @printf \"[\"\n",
    "    for i=1:length(v)\n",
    "        @printf \"%8.5f\" v[i]\n",
    "        if i < length(v)\n",
    "            @printf \"  \"\n",
    "        end\n",
    "    end\n",
    "    @printf \"]\\n\"\n",
    "end    "
   ]
  },
  {
   "cell_type": "code",
   "execution_count": 10,
   "metadata": {},
   "outputs": [
    {
     "data": {
      "text/plain": [
       "4×4 Array{Float64,2}:\n",
       " 0.48757   0.234468  0.209575  0.175088\n",
       " 0.234468  0.398881  0.230961  0.282065\n",
       " 0.209575  0.230961  0.211785  0.153633\n",
       " 0.175088  0.282065  0.153633  0.229889"
      ]
     },
     "execution_count": 10,
     "metadata": {},
     "output_type": "execute_result"
    }
   ],
   "source": [
    "# Size of matrix\n",
    "n = 4\n",
    "X = rand(rng, n, n)\n",
    "X, = qr(X)\n",
    "\n",
    "Λ = diagm(0 => Float32[4.0^(-i) for i=0:n-1])\n",
    "\n",
    "A = X * Λ / X"
   ]
  },
  {
   "cell_type": "code",
   "execution_count": 11,
   "metadata": {},
   "outputs": [
    {
     "name": "stdout",
     "output_type": "stream",
     "text": [
      "\n",
      "Iteration 1\n",
      "[-0.57523  -0.56989  -0.41021  -0.41960]\n",
      "[-0.57255  -0.57607  -0.40321  -0.42161]\n",
      "[ 0.75642  -0.48586   0.05824  -0.43403]\n",
      "[ 0.79309  -0.48973  -0.05163  -0.35848]\n",
      "\n",
      "Iteration 2\n",
      "[-0.57355  -0.57532  -0.40354  -0.42097]\n",
      "[-0.57255  -0.57607  -0.40321  -0.42161]\n",
      "[ 0.78512  -0.49235  -0.02272  -0.37505]\n",
      "[ 0.79309  -0.48973  -0.05163  -0.35848]\n",
      "\n",
      "Iteration 3\n",
      "[-0.57282  -0.57590  -0.40321  -0.42147]\n",
      "[-0.57255  -0.57607  -0.40321  -0.42161]\n",
      "[ 0.79117  -0.49061  -0.04433  -0.36248]\n",
      "[ 0.79309  -0.48973  -0.05163  -0.35848]\n",
      "\n",
      "Iteration 4\n",
      "[-0.57262  -0.57603  -0.40320  -0.42157]\n",
      "[-0.57255  -0.57607  -0.40321  -0.42161]\n",
      "[ 0.79261  -0.48997  -0.04980  -0.35947]\n",
      "[ 0.79309  -0.48973  -0.05163  -0.35848]\n"
     ]
    }
   ],
   "source": [
    "r = 2\n",
    "Qk = rand(rng, n, r)\n",
    "\n",
    "for k=1:4\n",
    "    Qk = A * Qk\n",
    "    F = qr(Qk); Qk = F.Q\n",
    "    \n",
    "    # This step is optional; it makes the solution unique\n",
    "    for j=1:2\n",
    "        if Qk[1,j] * X[1,j] < 0\n",
    "            Qk[:,j] = -Qk[:,j]\n",
    "            # This avoids sign differences\n",
    "        end\n",
    "    end\n",
    "    \n",
    "    println(\"\\nIteration \",k)\n",
    "    pretty_print(Qk[:,1])\n",
    "    pretty_print(X[:,1])\n",
    "    pretty_print(Qk[:,2])\n",
    "    pretty_print(X[:,2])\n",
    "end"
   ]
  },
  {
   "cell_type": "code",
   "execution_count": 12,
   "metadata": {},
   "outputs": [
    {
     "data": {
      "text/plain": [
       "30×2 Array{Float64,2}:\n",
       " 0.0673486    1.53041    \n",
       " 0.0144416    0.923675   \n",
       " 0.00357035   0.341001   \n",
       " 0.000891959  0.0889157  \n",
       " 0.00022298   0.0222908  \n",
       " 5.57448e-5   0.00557368 \n",
       " 1.39362e-5   0.00139343 \n",
       " 3.48405e-6   0.000348359\n",
       " 8.71013e-7   8.70897e-5 \n",
       " 2.17753e-7   2.17724e-5 \n",
       " 5.44383e-8   5.44311e-6 \n",
       " 1.36096e-8   1.36078e-6 \n",
       " 3.40239e-9   3.40194e-7 \n",
       " ⋮                       \n",
       " 8.30696e-13  8.30551e-11\n",
       " 2.07667e-13  2.07637e-11\n",
       " 5.18536e-14  5.19091e-12\n",
       " 1.31167e-14  1.29765e-12\n",
       " 3.24918e-15  3.2435e-13 \n",
       " 7.77156e-16  8.11155e-14\n",
       " 2.6037e-16   2.022e-14  \n",
       " 3.18887e-16  4.99396e-15\n",
       " 2.54384e-16  1.22251e-15\n",
       " 3.18887e-16  3.81576e-16\n",
       " 2.54384e-16  3.37732e-16\n",
       " 3.18887e-16  2.50666e-16"
      ]
     },
     "execution_count": 12,
     "metadata": {},
     "output_type": "execute_result"
    }
   ],
   "source": [
    "Qk = rand(rng, n, r)\n",
    "niter = 30\n",
    "err = zeros(niter,2)\n",
    "\n",
    "for k=1:niter\n",
    "    Qk = A * Qk\n",
    "    F = qr(Qk)\n",
    "    Qk = Matrix(F.Q); Rk = F.R\n",
    "    for j=1:2\n",
    "        if Qk[1,j] * X[1,j] < 0\n",
    "            Qk[:,j] = -Qk[:,j]\n",
    "        end\n",
    "        err[k,j] = norm(Qk[:,j] - X[:,j])\n",
    "    end\n",
    "end\n",
    "err"
   ]
  },
  {
   "cell_type": "code",
   "execution_count": 13,
   "metadata": {},
   "outputs": [
    {
     "data": {
      "text/html": [
       "<div class='display:none'></div><unsafe-script style='display:none'>\n",
       "WebIO.mount(this.previousSibling,{&quot;props&quot;:{},&quot;nodeType&quot;:&quot;Scope&quot;,&quot;type&quot;:&quot;node&quot;,&quot;instanceArgs&quot;:{&quot;imports&quot;:{&quot;data&quot;:[{&quot;name&quot;:&quot;Plotly&quot;,&quot;type&quot;:&quot;js&quot;,&quot;url&quot;:&quot;/assetserver/1e2c0da7fbe518270434b2ec2c46e20d1e0891d6-plotly-latest.min.js&quot;},{&quot;name&quot;:null,&quot;type&quot;:&quot;js&quot;,&quot;url&quot;:&quot;/assetserver/2009f112a9eee3177314b516a62b493c2ea5b3f5-plotly_webio.bundle.js&quot;}],&quot;type&quot;:&quot;async_block&quot;},&quot;id&quot;:&quot;scope-9d8eb75b-ca5e-401b-8ac0-5820c2cf777b&quot;,&quot;handlers&quot;:{&quot;_toImage&quot;:[(function (options){return this.Plotly.toImage(this.plotElem,options).then((function (data){return WebIO.setval({&quot;name&quot;:&quot;image&quot;,&quot;scope&quot;:&quot;scope-9d8eb75b-ca5e-401b-8ac0-5820c2cf777b&quot;,&quot;id&quot;:&quot;ob_15&quot;,&quot;type&quot;:&quot;observable&quot;},data)}))})],&quot;__get_gd_contents&quot;:[(function (prop){prop==&quot;data&quot; ? (WebIO.setval({&quot;name&quot;:&quot;__gd_contents&quot;,&quot;scope&quot;:&quot;scope-9d8eb75b-ca5e-401b-8ac0-5820c2cf777b&quot;,&quot;id&quot;:&quot;ob_16&quot;,&quot;type&quot;:&quot;observable&quot;},this.plotElem.data)) : undefined; return prop==&quot;layout&quot; ? (WebIO.setval({&quot;name&quot;:&quot;__gd_contents&quot;,&quot;scope&quot;:&quot;scope-9d8eb75b-ca5e-401b-8ac0-5820c2cf777b&quot;,&quot;id&quot;:&quot;ob_16&quot;,&quot;type&quot;:&quot;observable&quot;},this.plotElem.layout)) : undefined})],&quot;_promises&quot;:{&quot;importsLoaded&quot;:[(function (Plotly){var gd=this.dom.querySelector(&quot;#plot-c339c101-407c-4973-b13a-14c10d4d81c8&quot;); this.plotElem=gd; this.Plotly=Plotly; (window.Blink!==undefined) ? (gd.style.width=&quot;100%&quot;, gd.style.height=&quot;100vh&quot;, gd.style.marginLeft=&quot;0%&quot;, gd.style.marginTop=&quot;0vh&quot;) : undefined; window.onresize=(function (){return Plotly.Plots.resize(gd)}); Plotly.newPlot(gd,[{&quot;y&quot;:[0.0673485550280248,0.014441595763241038,0.0035703499518434873,0.0008919587331038528,0.00022297985602946795,5.574481045372269e-5,1.3936200214085869e-5,3.484050016074004e-6,8.710125035164935e-7,2.177531260519122e-7,5.443828159592116e-8,1.3609570420056994e-8,3.402392481862589e-9,8.505983719012828e-10,2.1264949085078342e-10,5.3162362774845445e-11,1.3290706881110154e-11,3.3227073152613233e-12,8.306962827150783e-13,2.0766686062975972e-13,5.1853595994789855e-14,1.3116734141391905e-14,3.2491810634609256e-15,7.771561172376096e-16,2.603703785810335e-16,3.188872858294072e-16,2.5438405243138006e-16,3.188872858294072e-16,2.5438405243138006e-16,3.188872858294072e-16],&quot;type&quot;:&quot;scatter&quot;,&quot;name&quot;:&quot;Error in q1&quot;},{&quot;y&quot;:[1.530407791827847,0.9236750776120808,0.3410011761776449,0.08891572718169631,0.02229081978643233,0.005573676882484461,0.0013934344119682152,0.0003483588403614037,8.708971379925659e-5,2.1772428507811866e-5,5.443107127676377e-6,1.3607767819648657e-6,3.401941954316115e-7,8.504854879346633e-8,2.126213705763066e-8,5.315534201181916e-9,1.3288833982194562e-9,3.3222065001395776e-10,8.305512825298867e-11,2.0763720761433312e-11,5.190910560530296e-12,1.2976496085264538e-12,3.2435008438955636e-13,8.111545011356001e-14,2.0220009463262255e-14,4.9939648947601424e-15,1.2225062931717345e-15,3.815760786470701e-16,3.377324398933778e-16,2.5066604164831255e-16],&quot;type&quot;:&quot;scatter&quot;,&quot;name&quot;:&quot;Error in q2&quot;},{&quot;line&quot;:{&quot;dash&quot;:&quot;dash&quot;},&quot;y&quot;:[0.25,0.0625,0.015625,0.00390625,0.0009765625,0.000244140625,6.103515625e-5,1.52587890625e-5,3.814697265625e-6,9.5367431640625e-7,2.384185791015625e-7,5.960464477539063e-8,1.4901161193847656e-8,3.725290298461914e-9,9.313225746154785e-10,2.3283064365386963e-10,5.820766091346741e-11,1.4551915228366852e-11,3.637978807091713e-12,9.094947017729282e-13,2.2737367544323206e-13,5.684341886080802e-14,1.4210854715202004e-14,3.552713678800501e-15,8.881784197001252e-16,2.220446049250313e-16,5.551115123125783e-17,1.3877787807814457e-17,3.469446951953614e-18,8.673617379884035e-19],&quot;type&quot;:&quot;scatter&quot;,&quot;name&quot;:&quot;Theoretical convergence&quot;}],{&quot;xaxis&quot;:{&quot;title&quot;:&quot;Iteration&quot;},&quot;margin&quot;:{&quot;l&quot;:50,&quot;b&quot;:50,&quot;r&quot;:50,&quot;t&quot;:60},&quot;yaxis&quot;:{&quot;type&quot;:&quot;log&quot;,&quot;title&quot;:&quot;Error&quot;},&quot;width&quot;:600},{}); gd.on(&quot;plotly_hover&quot;,(function (data){var filtered_data=WebIO.CommandSets.Plotly.filterEventData(gd,data,&quot;hover&quot;); return !(filtered_data.isnil) ? (WebIO.setval({&quot;name&quot;:&quot;hover&quot;,&quot;scope&quot;:&quot;scope-9d8eb75b-ca5e-401b-8ac0-5820c2cf777b&quot;,&quot;id&quot;:&quot;ob_11&quot;,&quot;type&quot;:&quot;observable&quot;},filtered_data.out)) : undefined})); gd.on(&quot;plotly_unhover&quot;,(function (){return WebIO.setval({&quot;name&quot;:&quot;hover&quot;,&quot;scope&quot;:&quot;scope-9d8eb75b-ca5e-401b-8ac0-5820c2cf777b&quot;,&quot;id&quot;:&quot;ob_11&quot;,&quot;type&quot;:&quot;observable&quot;},{})})); gd.on(&quot;plotly_selected&quot;,(function (data){var filtered_data=WebIO.CommandSets.Plotly.filterEventData(gd,data,&quot;selected&quot;); return !(filtered_data.isnil) ? (WebIO.setval({&quot;name&quot;:&quot;selected&quot;,&quot;scope&quot;:&quot;scope-9d8eb75b-ca5e-401b-8ac0-5820c2cf777b&quot;,&quot;id&quot;:&quot;ob_12&quot;,&quot;type&quot;:&quot;observable&quot;},filtered_data.out)) : undefined})); gd.on(&quot;plotly_deselect&quot;,(function (){return WebIO.setval({&quot;name&quot;:&quot;selected&quot;,&quot;scope&quot;:&quot;scope-9d8eb75b-ca5e-401b-8ac0-5820c2cf777b&quot;,&quot;id&quot;:&quot;ob_12&quot;,&quot;type&quot;:&quot;observable&quot;},{})})); gd.on(&quot;plotly_relayout&quot;,(function (data){var filtered_data=WebIO.CommandSets.Plotly.filterEventData(gd,data,&quot;relayout&quot;); return !(filtered_data.isnil) ? (WebIO.setval({&quot;name&quot;:&quot;relayout&quot;,&quot;scope&quot;:&quot;scope-9d8eb75b-ca5e-401b-8ac0-5820c2cf777b&quot;,&quot;id&quot;:&quot;ob_14&quot;,&quot;type&quot;:&quot;observable&quot;},filtered_data.out)) : undefined})); return gd.on(&quot;plotly_click&quot;,(function (data){var filtered_data=WebIO.CommandSets.Plotly.filterEventData(gd,data,&quot;click&quot;); return !(filtered_data.isnil) ? (WebIO.setval({&quot;name&quot;:&quot;click&quot;,&quot;scope&quot;:&quot;scope-9d8eb75b-ca5e-401b-8ac0-5820c2cf777b&quot;,&quot;id&quot;:&quot;ob_13&quot;,&quot;type&quot;:&quot;observable&quot;},filtered_data.out)) : undefined}))})]},&quot;_downloadImage&quot;:[(function (options){return this.Plotly.downloadImage(this.plotElem,options)})],&quot;_commands&quot;:[(function (args){var fn=args.shift(); var elem=this.plotElem; var Plotly=this.Plotly; args.unshift(elem); return Plotly[fn].apply(this,args)})]},&quot;systemjs_options&quot;:null,&quot;observables&quot;:{&quot;_toImage&quot;:{&quot;sync&quot;:false,&quot;id&quot;:&quot;ob_18&quot;,&quot;value&quot;:{}},&quot;hover&quot;:{&quot;sync&quot;:false,&quot;id&quot;:&quot;ob_11&quot;,&quot;value&quot;:{}},&quot;selected&quot;:{&quot;sync&quot;:false,&quot;id&quot;:&quot;ob_12&quot;,&quot;value&quot;:{}},&quot;__gd_contents&quot;:{&quot;sync&quot;:false,&quot;id&quot;:&quot;ob_16&quot;,&quot;value&quot;:{}},&quot;click&quot;:{&quot;sync&quot;:false,&quot;id&quot;:&quot;ob_13&quot;,&quot;value&quot;:{}},&quot;image&quot;:{&quot;sync&quot;:true,&quot;id&quot;:&quot;ob_15&quot;,&quot;value&quot;:&quot;&quot;},&quot;__get_gd_contents&quot;:{&quot;sync&quot;:false,&quot;id&quot;:&quot;ob_20&quot;,&quot;value&quot;:&quot;&quot;},&quot;_downloadImage&quot;:{&quot;sync&quot;:false,&quot;id&quot;:&quot;ob_19&quot;,&quot;value&quot;:{}},&quot;relayout&quot;:{&quot;sync&quot;:false,&quot;id&quot;:&quot;ob_14&quot;,&quot;value&quot;:{}},&quot;_commands&quot;:{&quot;sync&quot;:false,&quot;id&quot;:&quot;ob_17&quot;,&quot;value&quot;:[]}}},&quot;children&quot;:[{&quot;props&quot;:{&quot;id&quot;:&quot;plot-c339c101-407c-4973-b13a-14c10d4d81c8&quot;},&quot;nodeType&quot;:&quot;DOM&quot;,&quot;type&quot;:&quot;node&quot;,&quot;instanceArgs&quot;:{&quot;namespace&quot;:&quot;html&quot;,&quot;tag&quot;:&quot;div&quot;},&quot;children&quot;:[]}]})</unsafe-script>"
      ],
      "text/plain": [
       "data: [\n",
       "  \"scatter with fields name, type, and y\",\n",
       "  \"scatter with fields name, type, and y\",\n",
       "  \"scatter with fields line, name, type, and y\"\n",
       "]\n",
       "\n",
       "layout: \"layout with fields margin, width, xaxis, and yaxis\"\n",
       "\n"
      ]
     },
     "execution_count": 13,
     "metadata": {},
     "output_type": "execute_result"
    }
   ],
   "source": [
    "t1 = scatter(y=err[:,1], name=\"Error in q1\")\n",
    "t2 = scatter(y=err[:,2], name=\"Error in q2\")\n",
    "t3 = scatter(y=[4.0^(-i) for i=1:niter],\n",
    "    name=\"Theoretical convergence\", line_dash=\"dash\")\n",
    "plot([t1, t2, t3],\n",
    "    Layout(yaxis_type=\"log\",\n",
    "        xaxis_title=\"Iteration\", yaxis_title=\"Error\", \n",
    "        width=600))"
   ]
  }
 ],
 "metadata": {
  "anaconda-cloud": {},
  "kernelspec": {
   "display_name": "Julia 1.0.0",
   "language": "julia",
   "name": "julia-1.0"
  },
  "language_info": {
   "file_extension": ".jl",
   "mimetype": "application/julia",
   "name": "julia",
   "version": "1.0.0"
  }
 },
 "nbformat": 4,
 "nbformat_minor": 1
}
