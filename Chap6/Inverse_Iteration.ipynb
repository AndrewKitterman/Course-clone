{
 "cells": [
  {
   "cell_type": "code",
   "execution_count": 1,
   "metadata": {},
   "outputs": [],
   "source": [
    "using Printf\n",
    "using Random\n",
    "using LinearAlgebra\n",
    "rng = MersenneTwister(18);"
   ]
  },
  {
   "cell_type": "code",
   "execution_count": 2,
   "metadata": {},
   "outputs": [
    {
     "data": {
      "text/plain": [
       "8×8 Diagonal{Float32,Array{Float32,1}}:\n",
       " 1.0   ⋅    ⋅     ⋅      ⋅       ⋅        ⋅         ⋅       \n",
       "  ⋅   0.5   ⋅     ⋅      ⋅       ⋅        ⋅         ⋅       \n",
       "  ⋅    ⋅   0.25   ⋅      ⋅       ⋅        ⋅         ⋅       \n",
       "  ⋅    ⋅    ⋅    0.125   ⋅       ⋅        ⋅         ⋅       \n",
       "  ⋅    ⋅    ⋅     ⋅     0.0625   ⋅        ⋅         ⋅       \n",
       "  ⋅    ⋅    ⋅     ⋅      ⋅      0.03125   ⋅         ⋅       \n",
       "  ⋅    ⋅    ⋅     ⋅      ⋅       ⋅       0.015625   ⋅       \n",
       "  ⋅    ⋅    ⋅     ⋅      ⋅       ⋅        ⋅        0.0078125"
      ]
     },
     "execution_count": 2,
     "metadata": {},
     "output_type": "execute_result"
    }
   ],
   "source": [
    "# Size of matrix\n",
    "n = 8\n",
    "X = rand(rng, n, n)\n",
    "for i=1:n\n",
    "    X[:,i] /= norm(X[:,i])\n",
    "end\n",
    "\n",
    "Λ = diagm(0 => Float32[2.0^(-i) for i=0:n-1])\n",
    "\n",
    "A = X * Λ / X\n",
    "Diagonal(Λ)"
   ]
  },
  {
   "cell_type": "code",
   "execution_count": 3,
   "metadata": {},
   "outputs": [
    {
     "name": "stdout",
     "output_type": "stream",
     "text": [
      "Exact answer: 0.25\n",
      "Initial guess: 0.225\n",
      "Iteration: 1 | e-value: 0.22458631564985737\n",
      "Iteration: 2 | e-value: 0.25714423465121167\n",
      "Iteration: 3 | e-value: 0.24907485989915507\n",
      "Iteration: 4 | e-value: 0.25021854613948735\n",
      "Iteration: 5 | e-value: 0.2499526593945788\n",
      "Iteration: 6 | e-value: 0.25001182249103904\n",
      "Iteration: 7 | e-value: 0.24999707148221273\n",
      "Iteration: 8 | e-value: 0.25000073930927985\n"
     ]
    }
   ],
   "source": [
    "qk = rand(rng, n)\n",
    "qk /= norm(qk)\n",
    "\n",
    "μ0 = Λ[3,3]\n",
    "μ = μ0 * 0.9\n",
    "# Our initial approximation of an eigenvalue of interest\n",
    "\n",
    "println(\"Exact answer: \", μ0)\n",
    "println(\"Initial guess: \", μ)\n",
    "\n",
    "for k=1:8\n",
    "    zk = (A - μ * I) \\ qk\n",
    "    qk = zk/norm(zk)       # Normalize e-vector\n",
    "    ev = dot(qk, A * qk)   # E-value approximation\n",
    "    println(\"Iteration: \",k,\" | e-value: \", ev)\n",
    "end"
   ]
  }
 ],
 "metadata": {
  "anaconda-cloud": {},
  "kernelspec": {
   "display_name": "Julia 1.0.0",
   "language": "julia",
   "name": "julia-1.0"
  },
  "language_info": {
   "file_extension": ".jl",
   "mimetype": "application/julia",
   "name": "julia",
   "version": "1.0.0"
  }
 },
 "nbformat": 4,
 "nbformat_minor": 1
}
