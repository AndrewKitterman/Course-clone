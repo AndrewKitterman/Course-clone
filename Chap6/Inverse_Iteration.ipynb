{
 "cells": [
  {
   "cell_type": "code",
   "execution_count": 1,
   "metadata": {},
   "outputs": [],
   "source": [
    "using Printf\n",
    "using Random\n",
    "using LinearAlgebra\n",
    "rng = MersenneTwister(18);"
   ]
  },
  {
   "cell_type": "code",
   "execution_count": 2,
   "metadata": {},
   "outputs": [
    {
     "data": {
      "text/plain": [
       "8×8 Array{Float64,2}:\n",
       " -1.25526   -3.91078  -1.50272   -2.04336  …  1.31643   2.22052  -4.3347 \n",
       " -1.00672   -2.63138  -1.43969   -1.43578     1.16723   1.52022  -3.32419\n",
       " -1.02591   -2.47733  -0.792647  -1.38927     0.817689  1.58701  -2.9894 \n",
       " -1.31842   -3.82009  -1.13222   -2.0211      1.08216   2.32746  -4.07547\n",
       " -1.62281   -5.17881  -1.81602   -2.69745     1.66153   2.90947  -5.42041\n",
       " -1.57653   -5.20667  -1.1112    -2.7403   …  1.30579   3.03725  -4.75879\n",
       " -2.74314  -10.6952   -1.92218   -5.39586     2.25973   5.9975   -9.15166\n",
       " -2.5921   -10.6141   -1.88098   -5.31059     2.25876   5.78703  -8.79844"
      ]
     },
     "execution_count": 2,
     "metadata": {},
     "output_type": "execute_result"
    }
   ],
   "source": [
    "# Size of matrix\n",
    "n = 8\n",
    "X = rand(rng, n, n)\n",
    "for i=1:n\n",
    "    X[:,i] /= norm(X[:,i])\n",
    "end\n",
    "\n",
    "Λ = diagm(0 => Float32[2.0^(-i) for i=0:n-1])\n",
    "\n",
    "A = X * Λ / X"
   ]
  },
  {
   "cell_type": "code",
   "execution_count": 3,
   "metadata": {},
   "outputs": [
    {
     "name": "stdout",
     "output_type": "stream",
     "text": [
      "Exact answer: 0.25\n",
      "Initial guess: 0.225\n",
      "Iteration: 1 | e-value: 0.22458631564985737\n",
      "Iteration: 2 | e-value: 0.25714423465121167\n",
      "Iteration: 3 | e-value: 0.24907485989915507\n",
      "Iteration: 4 | e-value: 0.25021854613948735\n",
      "Iteration: 5 | e-value: 0.2499526593945788\n",
      "Iteration: 6 | e-value: 0.25001182249103904\n",
      "Iteration: 7 | e-value: 0.24999707148221273\n",
      "Iteration: 8 | e-value: 0.25000073930927985\n"
     ]
    }
   ],
   "source": [
    "qk = rand(rng, n)\n",
    "qk /= norm(qk)\n",
    "\n",
    "μ0 = Λ[3,3]\n",
    "μ = μ0 * 0.9\n",
    "# Our initial approximation of an eigenvalue of interest\n",
    "\n",
    "println(\"Exact answer: \", μ0)\n",
    "println(\"Initial guess: \", μ)\n",
    "\n",
    "I = UniformScaling(1.0)\n",
    "\n",
    "for k=1:8\n",
    "    zk = (A - μ * I) \\ qk\n",
    "    qk = zk/norm(zk)       # Normalize e-vector\n",
    "    ev = dot(qk, A * qk)   # E-value approximation\n",
    "    println(\"Iteration: \",k,\" | e-value: \", ev)\n",
    "end"
   ]
  }
 ],
 "metadata": {
  "anaconda-cloud": {},
  "kernelspec": {
   "display_name": "Julia 1.0.0",
   "language": "julia",
   "name": "julia-1.0"
  },
  "language_info": {
   "file_extension": ".jl",
   "mimetype": "application/julia",
   "name": "julia",
   "version": "1.0.0"
  }
 },
 "nbformat": 4,
 "nbformat_minor": 1
}
