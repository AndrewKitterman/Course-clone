{
 "cells": [
  {
   "cell_type": "code",
   "execution_count": 1,
   "metadata": {},
   "outputs": [],
   "source": [
    "using Printf\n",
    "using Random\n",
    "using LinearAlgebra\n",
    "rng = MersenneTwister(18);"
   ]
  },
  {
   "cell_type": "code",
   "execution_count": 2,
   "metadata": {},
   "outputs": [
    {
     "data": {
      "text/plain": [
       "gees_testsuite (generic function with 1 method)"
      ]
     },
     "execution_count": 2,
     "metadata": {},
     "output_type": "execute_result"
    }
   ],
   "source": [
    "include(\"../src/gees.jl\")"
   ]
  },
  {
   "cell_type": "code",
   "execution_count": 3,
   "metadata": {},
   "outputs": [
    {
     "name": "stdout",
     "output_type": "stream",
     "text": [
      "Matrix A\n",
      " -5.4e-01  1.9e+00  3.5e+00 -3.8e+00\n",
      " -1.2e+00  2.7e+00  4.4e+00 -4.8e+00\n",
      " -1.4e+00  2.5e+00  5.8e+00 -6.1e+00\n",
      " -1.6e+00  2.6e+00  6.4e+00 -6.4e+00\n"
     ]
    },
    {
     "data": {
      "text/plain": [
       "4-element Array{Complex{Float64},1}:\n",
       "     0.5000000000000014 + 0.0im               \n",
       " -2.254489997466358e-15 - 0.9999999999999979im\n",
       " -2.254489997466358e-15 + 0.9999999999999979im\n",
       "     1.0000000000000002 + 0.0im               "
      ]
     },
     "execution_count": 3,
     "metadata": {},
     "output_type": "execute_result"
    }
   ],
   "source": [
    "n = 4\n",
    "Λ = diagm(0 => Float32[2.0^(-i) for i=0:n-3])\n",
    "A = zeros(n,n)\n",
    "A[1:n-2,1:n-2] = Λ\n",
    "A[n-1:n,n-1:n] = [0 1; -1 0]\n",
    "X = rand(rng, n, n)\n",
    "\n",
    "# Λ = diagm(Float32[2.0^(-i) for i=0:n-1])\n",
    "# A = Λ\n",
    "# X, = qr(rand(rng, n, n))\n",
    "\n",
    "A = X * A / X\n",
    "\n",
    "println(\"Matrix A\")\n",
    "pretty_print(A)\n",
    "Λ = eigenvalue_sorted(A)"
   ]
  },
  {
   "cell_type": "code",
   "execution_count": 4,
   "metadata": {},
   "outputs": [
    {
     "data": {
      "text/plain": [
       "4×4 Array{Float64,2}:\n",
       " -0.539952  -0.357157  -0.092044  -5.49345 \n",
       "  2.47328    0.960772   1.00985   14.52    \n",
       "  0.0       -0.177055   0.608983   0.640705\n",
       "  0.0        0.0       -0.337349   0.470196"
      ]
     },
     "execution_count": 4,
     "metadata": {},
     "output_type": "execute_result"
    }
   ],
   "source": [
    "# Applying Householder reflections to make matrix A upper Hessenberg\n",
    "gehrd!(A)\n",
    "A0 = copy(A)"
   ]
  },
  {
   "cell_type": "code",
   "execution_count": 5,
   "metadata": {},
   "outputs": [
    {
     "name": "stdout",
     "output_type": "stream",
     "text": [
      "Norm for lower part of matrix = 0.0\n",
      "Matrix A\n"
     ]
    },
    {
     "data": {
      "text/plain": [
       "4×4 Array{Float64,2}:\n",
       " -0.539952  -0.357157  -0.092044  -5.49345 \n",
       "  2.47328    0.960772   1.00985   14.52    \n",
       "  0.0       -0.177055   0.608983   0.640705\n",
       "  0.0        0.0       -0.337349   0.470196"
      ]
     },
     "execution_count": 5,
     "metadata": {},
     "output_type": "execute_result"
    }
   ],
   "source": [
    "# Checking that A is upper Hessenberg now\n",
    "println(\"Norm for lower part of matrix = \",norm(tril(A,-2)))\n",
    "println(\"Matrix A\")\n",
    "A"
   ]
  },
  {
   "cell_type": "code",
   "execution_count": 6,
   "metadata": {},
   "outputs": [
    {
     "name": "stdout",
     "output_type": "stream",
     "text": [
      "6.5876948602543385e-15\n"
     ]
    }
   ],
   "source": [
    "# Checking that the eigenvalues are the same\n",
    "D = eigenvalue_sorted(A)\n",
    "println(norm(D-Λ))"
   ]
  },
  {
   "cell_type": "code",
   "execution_count": 7,
   "metadata": {},
   "outputs": [
    {
     "data": {
      "text/plain": [
       "4×4 Array{Float64,2}:\n",
       "  0.451537   2.47787   12.6387     8.84444 \n",
       " -0.222977   0.397203  -0.96249   -0.312148\n",
       "  0.0       -0.343572  -0.614769  -0.889788\n",
       "  0.0        0.0        1.48843    1.26603 "
      ]
     },
     "execution_count": 7,
     "metadata": {},
     "output_type": "execute_result"
    }
   ],
   "source": [
    "# Sequential version of QR iteration using Givens rotations\n",
    "givens_QR_iteration_s!(A)\n",
    "A"
   ]
  },
  {
   "cell_type": "code",
   "execution_count": 8,
   "metadata": {},
   "outputs": [
    {
     "name": "stdout",
     "output_type": "stream",
     "text": [
      "norm(tril(A, -2)) = 0.0\n",
      "norm(D - Λ) = 8.591904876735825e-15\n"
     ]
    },
    {
     "data": {
      "text/plain": [
       "8.591904876735825e-15"
      ]
     },
     "execution_count": 8,
     "metadata": {},
     "output_type": "execute_result"
    }
   ],
   "source": [
    "# Testing the result\n",
    "D = eigenvalue_sorted(A)\n",
    "@show norm(tril(A,-2))\n",
    "@show norm(D-Λ)"
   ]
  },
  {
   "cell_type": "code",
   "execution_count": 9,
   "metadata": {},
   "outputs": [
    {
     "data": {
      "text/plain": [
       "4×4 Array{Float64,2}:\n",
       "  0.451537      2.47787   12.6387     8.84444 \n",
       " -0.222977      0.397203  -0.96249   -0.312148\n",
       " -1.38778e-17  -0.343572  -0.614769  -0.889788\n",
       "  0.0           0.0        1.48843    1.26603 "
      ]
     },
     "execution_count": 9,
     "metadata": {},
     "output_type": "execute_result"
    }
   ],
   "source": [
    "# QR iteration with bulge chasing\n",
    "A = copy(A0)\n",
    "givens_QR_iteration!(A)\n",
    "A"
   ]
  },
  {
   "cell_type": "code",
   "execution_count": 10,
   "metadata": {},
   "outputs": [
    {
     "name": "stdout",
     "output_type": "stream",
     "text": [
      "norm(tril(A, -2)) = 1.3877787807814457e-17\n",
      "norm(D - Λ) = 7.421766257945797e-15\n"
     ]
    },
    {
     "data": {
      "text/plain": [
       "7.421766257945797e-15"
      ]
     },
     "execution_count": 10,
     "metadata": {},
     "output_type": "execute_result"
    }
   ],
   "source": [
    "# Testing the result\n",
    "D = eigenvalue_sorted(A)\n",
    "@show norm(tril(A,-2))\n",
    "@show norm(D-Λ)"
   ]
  },
  {
   "cell_type": "code",
   "execution_count": 11,
   "metadata": {},
   "outputs": [
    {
     "data": {
      "text/plain": [
       "4×4 Array{Float64,2}:\n",
       "  0.468597     -9.28401      11.4643    4.48211 \n",
       "  0.170054     -1.3458        2.30061   0.703774\n",
       " -2.77556e-17  -0.855179      1.9012    0.395864\n",
       " -1.38778e-17   1.11022e-16   0.594268  0.476006"
      ]
     },
     "execution_count": 11,
     "metadata": {},
     "output_type": "execute_result"
    }
   ],
   "source": [
    "# Single step of QR iteration with double real shift\n",
    "A = copy(A0)\n",
    "gees_single_step!(A, false) # false: exceptional_shift is not applied\n",
    "A"
   ]
  },
  {
   "cell_type": "code",
   "execution_count": 12,
   "metadata": {},
   "outputs": [
    {
     "name": "stdout",
     "output_type": "stream",
     "text": [
      "norm(tril(A, -2)) = 1.1527756336890508e-16\n",
      "norm(D - Λ) = 8.282747520521628e-15\n"
     ]
    },
    {
     "data": {
      "text/plain": [
       "8.282747520521628e-15"
      ]
     },
     "execution_count": 12,
     "metadata": {},
     "output_type": "execute_result"
    }
   ],
   "source": [
    "# Testing the result\n",
    "D = eigenvalue_sorted(A)\n",
    "@show norm(tril(A,-2))\n",
    "@show norm(D-Λ)"
   ]
  },
  {
   "cell_type": "code",
   "execution_count": 13,
   "metadata": {},
   "outputs": [
    {
     "name": "stdout",
     "output_type": "stream",
     "text": [
      "\n",
      " *** Test no 1 ***\n",
      "Size of matrix 1\n",
      "norm(D0 - D1) = 0.0\n",
      "norm(D1 - D2) = 0.0\n",
      "\n",
      " *** Test no 2 ***\n",
      "Size of matrix 2\n",
      "norm(D0 - D1) = 0.0\n",
      "norm(D1 - D2) = 0.0\n",
      "\n",
      " *** Test no 3 ***\n",
      "Size of matrix 3\n",
      "norm(D0 - D1) = 1.336327202703161e-15\n",
      "norm(D1 - D2) = 2.237726045655905e-16\n",
      "\n",
      " *** Test no 4 ***\n",
      "Size of matrix 4\n",
      "norm(D0 - D1) = 2.754662226278516e-15\n",
      "norm(D1 - D2) = 4.458205583648681e-16\n",
      "\n",
      " *** Test no 5 ***\n",
      "Size of matrix 3\n",
      "Exceptional shift\n",
      "norm(D0 - D1) = 3.6821932062951477e-16\n",
      "norm(D1 - D2) = 0.0\n",
      "\n",
      " *** Test no 6 ***\n",
      "Size of matrix 4\n",
      "Exceptional shift\n",
      "norm(D0 - D1) = 8.0051527712734e-16\n",
      "norm(D1 - D2) = 3.920818324662287e-17\n",
      "\n",
      " *** Test no 7 ***\n",
      "Size of matrix 7\n",
      "norm(D0 - D1) = 1.3551551429195005e-14\n",
      "norm(D1 - D2) = 6.2967088217668685e-15\n",
      "\n",
      " *** Test no 8 ***\n",
      "Size of matrix 8\n",
      "norm(D0 - D1) = 1.2335472145246274e-14\n",
      "norm(D1 - D2) = 8.638897829988681e-15\n",
      "\n",
      " *** Test no 9 ***\n",
      "Size of matrix 9\n",
      "Exceptional shift\n",
      "norm(D0 - D1) = 1.7151933610150863e-13\n",
      "norm(D1 - D2) = 8.36672940130322e-15\n",
      "\n",
      " *** Test no 10 ***\n",
      "Size of matrix 10\n",
      "Exceptional shift\n",
      "norm(D0 - D1) = 1.0998197182864726e-14\n",
      "norm(D1 - D2) = 1.0329428672392108e-14\n",
      "\n",
      " *** Test no 11 ***\n",
      "Size of matrix 1\n",
      "norm(D0 - D1) = 0.0\n",
      "norm(D1 - D2) = 0.0\n",
      "\n",
      " *** Test no 12 ***\n",
      "Size of matrix 2\n",
      "norm(D0 - D1) = 0.0\n",
      "norm(D1 - D2) = 0.0\n",
      "\n",
      " *** Test no 13 ***\n",
      "Size of matrix 3\n",
      "Exceptional shift\n",
      "norm(D0 - D1) = 3.6821932062951477e-16\n",
      "norm(D1 - D2) = 0.0\n",
      "\n",
      " *** Test no 14 ***\n",
      "Size of matrix 4\n",
      "Exceptional shift\n",
      "norm(D0 - D1) = 7.889616961715915e-16\n",
      "norm(D1 - D2) = 1.6805307704560016e-15\n",
      "\n",
      " *** Test no 15 ***\n",
      "Size of matrix 5\n",
      "Exceptional shift\n",
      "norm(D0 - D1) = 1.1644117316690922e-15\n",
      "norm(D1 - D2) = 9.773746735086136e-16\n",
      "\n",
      " *** Test no 16 ***\n",
      "Size of matrix 6\n",
      "Exceptional shift\n",
      "norm(D0 - D1) = 2.257605148121872e-15\n",
      "norm(D1 - D2) = 1.1775693440128313e-15\n",
      "\n",
      " *** Test no 17 ***\n",
      "Size of matrix 7\n",
      "Exceptional shift\n",
      "norm(D0 - D1) = 1.5978149875000297e-15\n",
      "norm(D1 - D2) = 1.735999762954231e-15\n",
      "\n",
      " *** Test no 18 ***\n",
      "Size of matrix 8\n",
      "Exceptional shift\n",
      "norm(D0 - D1) = 3.2110214185320387e-15\n",
      "norm(D1 - D2) = 3.14508762904515e-15\n",
      "\n",
      " *** Test no 19 ***\n",
      "Size of matrix 9\n",
      "Exceptional shift\n",
      "norm(D0 - D1) = 2.6413043426588164e-15\n",
      "norm(D1 - D2) = 2.4030622849295204e-15\n",
      "\n",
      " *** Test no 20 ***\n",
      "Size of matrix 10\n",
      "Exceptional shift\n",
      "norm(D0 - D1) = 3.3482014605291036e-15\n",
      "norm(D1 - D2) = 1.9641850382783467e-15\n",
      "\n",
      " *** Test no 21 ***\n",
      "Size of matrix 1\n",
      "norm(D0 - D1) = 0.0\n",
      "norm(D1 - D2) = 0.0\n",
      "\n",
      " *** Test no 22 ***\n",
      "Size of matrix 2\n",
      "norm(D0 - D1) = 0.0\n",
      "norm(D1 - D2) = 0.0\n",
      "\n",
      " *** Test no 23 ***\n",
      "Size of matrix 3\n",
      "norm(D0 - D1) = 6.753223014464259e-16\n",
      "norm(D1 - D2) = 1.1102230246251565e-16\n",
      "\n",
      " *** Test no 24 ***\n",
      "Size of matrix 4\n",
      "norm(D0 - D1) = 7.065416064076988e-16\n",
      "norm(D1 - D2) = 3.925231146709438e-16\n",
      "\n",
      " *** Test no 25 ***\n",
      "Size of matrix 5\n",
      "Exceptional shift\n",
      "norm(D0 - D1) = 1.1644117316690922e-15\n",
      "norm(D1 - D2) = 9.773746735086136e-16\n",
      "\n",
      " *** Test no 26 ***\n",
      "Size of matrix 6\n",
      "norm(D0 - D1) = 1.6504651808933464e-15\n",
      "norm(D1 - D2) = 1.656056835017272e-15\n",
      "\n",
      " *** Test no 27 ***\n",
      "Size of matrix 7\n",
      "norm(D0 - D1) = 2.032041781255059e-15\n",
      "norm(D1 - D2) = 2.3208707134311084e-15\n",
      "\n",
      " *** Test no 28 ***\n",
      "Size of matrix 8\n",
      "Exceptional shift\n",
      "norm(D0 - D1) = 3.2110214185320387e-15\n",
      "norm(D1 - D2) = 3.14508762904515e-15\n",
      "\n",
      " *** Test no 29 ***\n",
      "Size of matrix 9\n",
      "Exceptional shift\n",
      "norm(D0 - D1) = 3.1401849173675503e-16\n",
      "norm(D1 - D2) = 3.6821932062951477e-16\n",
      "\n",
      " *** Test no 30 ***\n",
      "Size of matrix 10\n",
      "Exceptional shift\n",
      "norm(D0 - D1) = 3.3482014605291036e-15\n",
      "norm(D1 - D2) = 1.9641850382783467e-15\n",
      "\n",
      " *** Test no 31 ***\n",
      "Size of matrix 1\n",
      "norm(D0 - D1) = 0.0\n",
      "norm(D1 - D2) = 0.0\n",
      "\n",
      " *** Test no 32 ***\n",
      "Size of matrix 2\n",
      "norm(D0 - D1) = 0.0\n",
      "norm(D1 - D2) = 0.0\n",
      "\n",
      " *** Test no 33 ***\n",
      "Size of matrix 3\n",
      "norm(D0 - D1) = 1.5701065894523151e-13\n",
      "norm(D1 - D2) = 1.570092458683775e-13\n",
      "\n",
      " *** Test no 34 ***\n",
      "Size of matrix 4\n",
      "Exceptional shift\n",
      "norm(D0 - D1) = 1.3018518929051675e-15\n",
      "norm(D1 - D2) = 1.7554167342883505e-15\n",
      "\n",
      " *** Test no 35 ***\n",
      "Size of matrix 5\n",
      "norm(D0 - D1) = 5.20740757162067e-16\n",
      "norm(D1 - D2) = 5.89255511483504e-15\n",
      "\n",
      " *** Test no 36 ***\n",
      "Size of matrix 6\n",
      "norm(D0 - D1) = 0.0\n",
      "norm(D1 - D2) = 2.2193810899844703e-13\n",
      "\n",
      " *** Test no 37 ***\n",
      "Size of matrix 7\n",
      "Exceptional shift\n",
      "norm(D0 - D1) = 1.0520052997240635e-13\n",
      "norm(D1 - D2) = 1.0543223469134047e-13\n",
      "\n",
      " *** Test no 38 ***\n",
      "Size of matrix 8\n",
      "Exceptional shift\n",
      "Exceptional shift\n",
      "norm(D0 - D1) = 2.1181705310112556e-15\n",
      "norm(D1 - D2) = 2.0932930538913656e-15\n",
      "\n",
      " *** Test no 39 ***\n",
      "Size of matrix 9\n",
      "norm(D0 - D1) = 2.020278949710324e-15\n",
      "norm(D1 - D2) = 3.895823197286622e-14\n",
      "\n",
      " *** Test no 40 ***\n",
      "Size of matrix 10\n",
      "Exceptional shift\n",
      "norm(D0 - D1) = 1.573234210558904e-13\n",
      "norm(D1 - D2) = 1.5724762083819744e-13\n",
      "\n",
      " *** Test no 41 ***\n",
      "Size of matrix 1\n",
      "norm(D0 - D1) = 0.0\n",
      "norm(D1 - D2) = 0.0\n",
      "\n",
      " *** Test no 42 ***\n",
      "Size of matrix 2\n",
      "norm(D0 - D1) = 0.0\n",
      "norm(D1 - D2) = 1.1102230246251565e-16\n",
      "\n",
      " *** Test no 43 ***\n",
      "Size of matrix 3\n",
      "norm(D0 - D1) = 7.928578270080922e-16\n",
      "norm(D1 - D2) = 0.0\n",
      "\n",
      " *** Test no 44 ***\n",
      "Size of matrix 4\n",
      "norm(D0 - D1) = 1.518714489757095e-15\n",
      "norm(D1 - D2) = 8.527784864785346e-16\n",
      "\n",
      " *** Test no 45 ***\n",
      "Size of matrix 5\n",
      "norm(D0 - D1) = 2.1152589550219202e-15\n",
      "norm(D1 - D2) = 1.1537776118301384e-15\n",
      "\n",
      " *** Test no 46 ***\n",
      "Size of matrix 6\n",
      "norm(D0 - D1) = 1.7558555336288595e-15\n",
      "norm(D1 - D2) = 1.0656117000158708e-15\n",
      "\n",
      " *** Test no 47 ***\n",
      "Size of matrix 7\n",
      "norm(D0 - D1) = 2.8166097754072895e-15\n",
      "norm(D1 - D2) = 1.916542091876757e-15\n",
      "\n",
      " *** Test no 48 ***\n",
      "Size of matrix 8\n",
      "norm(D0 - D1) = 2.3772776086965327e-15\n",
      "norm(D1 - D2) = 1.5463617361248926e-15\n",
      "\n",
      " *** Test no 49 ***\n",
      "Size of matrix 9\n",
      "norm(D0 - D1) = 3.2511365275524845e-15\n",
      "norm(D1 - D2) = 2.7572478783152913e-15\n",
      "\n",
      " *** Test no 50 ***\n",
      "Size of matrix 10\n",
      "norm(D0 - D1) = 4.682103179659986e-15\n",
      "norm(D1 - D2) = 3.857126344106778e-15\n"
     ]
    }
   ],
   "source": [
    "err = gees_testsuite()\n",
    ";"
   ]
  },
  {
   "cell_type": "code",
   "execution_count": 14,
   "metadata": {},
   "outputs": [
    {
     "data": {
      "text/html": [
       "<script>\n",
       "// Immediately-invoked-function-expression to avoid global variables.\n",
       "(function() {\n",
       "    var warning_div = document.getElementById(\"webio-warning-14395293515238271876\");\n",
       "    var hide = function () {\n",
       "        var script = document.getElementById(\"webio-setup-11398678022019640542\");\n",
       "        var parent = script && script.parentElement;\n",
       "        var grandparent = parent && parent.parentElement;\n",
       "        if (grandparent) {\n",
       "            grandparent.style.display = \"none\";\n",
       "        }\n",
       "        warning_div.style.display = \"none\";\n",
       "    };\n",
       "    if (typeof Jupyter !== \"undefined\") {\n",
       "        console.log(\"WebIO detected Jupyter notebook environment.\");\n",
       "        // Jupyter notebook.\n",
       "        var extensions = (\n",
       "            Jupyter\n",
       "            && Jupyter.notebook.config.data\n",
       "            && Jupyter.notebook.config.data.load_extensions\n",
       "        );\n",
       "        if (extensions && extensions[\"webio-jupyter-notebook\"]) {\n",
       "            // Extension already loaded.\n",
       "            console.log(\"Jupyter WebIO nbextension detected; not loading ad-hoc.\");\n",
       "            hide();\n",
       "            return;\n",
       "        }\n",
       "    } else if (window.location.pathname.includes(\"/lab\")) {\n",
       "        // Guessing JupyterLa\n",
       "        console.log(\"Jupyter Lab detected; make sure the @webio/jupyter-lab-provider labextension is installed.\");\n",
       "        hide();\n",
       "        return;\n",
       "    }\n",
       "})();\n",
       "\n",
       "</script>\n",
       "<p\n",
       "    id=\"webio-warning-14395293515238271876\"\n",
       "    class=\"output_text output_stderr\"\n",
       "    style=\"padding: 1em; font-weight: bold;\"\n",
       ">\n",
       "    Unable to load WebIO. Please make sure WebIO works for your Jupyter client.\n",
       "    For troubleshooting, please see <a href=\"https://juliagizmos.github.io/WebIO.jl/latest/providers/ijulia/\">\n",
       "    the WebIO/IJulia documentation</a>.\n",
       "    <!-- TODO: link to installation docs. -->\n",
       "</p>\n"
      ],
      "text/plain": [
       "HTML{String}(\"<script>\\n// Immediately-invoked-function-expression to avoid global variables.\\n(function() {\\n    var warning_div = document.getElementById(\\\"webio-warning-14395293515238271876\\\");\\n    var hide = function () {\\n        var script = document.getElementById(\\\"webio-setup-11398678022019640542\\\");\\n        var parent = script && script.parentElement;\\n        var grandparent = parent && parent.parentElement;\\n        if (grandparent) {\\n            grandparent.style.display = \\\"none\\\";\\n        }\\n        warning_div.style.display = \\\"none\\\";\\n    };\\n    if (typeof Jupyter !== \\\"undefined\\\") {\\n        console.log(\\\"WebIO detected Jupyter notebook environment.\\\");\\n        // Jupyter notebook.\\n        var extensions = (\\n            Jupyter\\n            && Jupyter.notebook.config.data\\n            && Jupyter.notebook.config.data.load_extensions\\n        );\\n        if (extensions && extensions[\\\"webio-jupyter-notebook\\\"]) {\\n            // Extension already loaded.\\n            console.log(\\\"Jupyter WebIO nbextension detected; not loading ad-hoc.\\\");\\n            hide();\\n            return;\\n        }\\n    } else if (window.location.pathname.includes(\\\"/lab\\\")) {\\n        // Guessing JupyterLa\\n        console.log(\\\"Jupyter Lab detected; make sure the @webio/jupyter-lab-provider labextension is installed.\\\");\\n        hide();\\n        return;\\n    }\\n})();\\n\\n</script>\\n<p\\n    id=\\\"webio-warning-14395293515238271876\\\"\\n    class=\\\"output_text output_stderr\\\"\\n    style=\\\"padding: 1em; font-weight: bold;\\\"\\n>\\n    Unable to load WebIO. Please make sure WebIO works for your Jupyter client.\\n    For troubleshooting, please see <a href=\\\"https://juliagizmos.github.io/WebIO.jl/latest/providers/ijulia/\\\">\\n    the WebIO/IJulia documentation</a>.\\n    <!-- TODO: link to installation docs. -->\\n</p>\\n\")"
      ]
     },
     "metadata": {},
     "output_type": "display_data"
    },
    {
     "name": "stderr",
     "output_type": "stream",
     "text": [
      "┌ Warning: Accessing `scope.id` is deprecated, use `scopeid(scope)` instead.\n",
      "│   caller = ip:0x0\n",
      "└ @ Core :-1\n"
     ]
    },
    {
     "data": {
      "application/vnd.plotly.v1+json": {
       "data": [
        {
         "name": "Error",
         "type": "scatter",
         "y": [
          1e-16,
          1e-16,
          1.2133627712727935e-15,
          3.28355363380977e-15,
          4.682193206295148e-16,
          8.93733533540139e-16,
          1.03764058230777e-14,
          8.707451065480633e-15,
          1.7815258004021908e-13,
          1.091564126287314e-14,
          1e-16,
          1e-16,
          4.682193206295148e-16,
          2.032952170156116e-15,
          1.051817968857363e-15,
          1.5686870114880516e-15,
          1.2834425442573872e-15,
          2.1411201962889075e-15,
          3.1657035291446092e-15,
          2.8319157601378223e-15,
          1e-16,
          1e-16,
          7.66133814775094e-16,
          4.845925372767127e-16,
          1.051817968857363e-15,
          3.115027253194862e-15,
          1.176401158743041e-15,
          2.1411201962889075e-15,
          7.181460191301303e-16,
          2.8319157601378223e-15,
          1e-16,
          1e-16,
          7.66133814775094e-16,
          2.341166056980587e-15,
          5.850698067283841e-15,
          2.2203810899844703e-13,
          9.706583865735264e-16,
          1.2403455171351628e-15,
          3.955488389574925e-14,
          1.0773746735086136e-15,
          1e-16,
          2.1102230246251565e-16,
          8.928578270080922e-16,
          1.9515278288508872e-15,
          1.2046579618885444e-15,
          1.3755491433176289e-15,
          2.4265067194628704e-15,
          2.7795273524776e-15,
          5.1084780462386845e-15,
          4.094923162860491e-15
         ]
        }
       ],
       "layout": {
        "margin": {
         "b": 50,
         "l": 50,
         "r": 50,
         "t": 60
        },
        "xaxis": {
         "title": "Test index"
        },
        "yaxis": {
         "exponentformat": "power",
         "title": "Error",
         "type": "log"
        }
       }
      },
      "application/vnd.webio.node+json": {
       "children": [
        {
         "children": [],
         "instanceArgs": {
          "namespace": "html",
          "tag": "div"
         },
         "nodeType": "DOM",
         "props": {
          "id": "plot-0e73d8ec-71c0-48cd-be8e-491b1e864e5b"
         },
         "type": "node"
        }
       ],
       "instanceArgs": {
        "handlers": {
         "__get_gd_contents": [
          "(function (prop){prop==\"data\" ? (WebIO.setval({\"name\":\"__gd_contents\",\"scope\":\"14845679959501474922\",\"id\":\"ob_06\",\"type\":\"observable\"},this.plotElem.data)) : undefined; return prop==\"layout\" ? (WebIO.setval({\"name\":\"__gd_contents\",\"scope\":\"14845679959501474922\",\"id\":\"ob_06\",\"type\":\"observable\"},this.plotElem.layout)) : undefined})"
         ],
         "_commands": [
          "(function (args){var fn=args.shift(); var elem=this.plotElem; var Plotly=this.Plotly; args.unshift(elem); return Plotly[fn].apply(this,args)})"
         ],
         "_downloadImage": [
          "(function (options){return this.Plotly.downloadImage(this.plotElem,options)})"
         ],
         "_toImage": [
          "(function (options){return this.Plotly.toImage(this.plotElem,options).then((function (data){return WebIO.setval({\"name\":\"image\",\"scope\":\"14845679959501474922\",\"id\":\"ob_05\",\"type\":\"observable\"},data)}))})"
         ]
        },
        "id": "14845679959501474922",
        "imports": {
         "data": [
          {
           "name": "Plotly",
           "type": "js",
           "url": "/assetserver/97455d9c0b966d1d15f929ab040a6c64584c2805-plotly-latest.min.js"
          },
          {
           "name": null,
           "type": "js",
           "url": "/assetserver/78f257495fc6b801c547799036543b377e886736-plotly_webio.bundle.js"
          }
         ],
         "type": "async_block"
        },
        "mount_callbacks": [
         "function () {\n    var handler = ((function (Plotly){var gd=this.dom.querySelector(\"#plot-0e73d8ec-71c0-48cd-be8e-491b1e864e5b\"); this.plotElem=gd; this.Plotly=Plotly; (window.Blink!==undefined) ? (gd.style.width=\"100%\", gd.style.height=\"100vh\", gd.style.marginLeft=\"0%\", gd.style.marginTop=\"0vh\") : undefined; window.onresize=(function (){return Plotly.Plots.resize(gd)}); Plotly.newPlot(gd,[{\"y\":[1.0e-16,1.0e-16,1.2133627712727935e-15,3.28355363380977e-15,4.682193206295148e-16,8.93733533540139e-16,1.03764058230777e-14,8.707451065480633e-15,1.7815258004021908e-13,1.091564126287314e-14,1.0e-16,1.0e-16,4.682193206295148e-16,2.032952170156116e-15,1.051817968857363e-15,1.5686870114880516e-15,1.2834425442573872e-15,2.1411201962889075e-15,3.1657035291446092e-15,2.8319157601378223e-15,1.0e-16,1.0e-16,7.66133814775094e-16,4.845925372767127e-16,1.051817968857363e-15,3.115027253194862e-15,1.176401158743041e-15,2.1411201962889075e-15,7.181460191301303e-16,2.8319157601378223e-15,1.0e-16,1.0e-16,7.66133814775094e-16,2.341166056980587e-15,5.850698067283841e-15,2.2203810899844703e-13,9.706583865735264e-16,1.2403455171351628e-15,3.955488389574925e-14,1.0773746735086136e-15,1.0e-16,2.1102230246251565e-16,8.928578270080922e-16,1.9515278288508872e-15,1.2046579618885444e-15,1.3755491433176289e-15,2.4265067194628704e-15,2.7795273524776e-15,5.1084780462386845e-15,4.094923162860491e-15],\"type\":\"scatter\",\"name\":\"Error\"}],{\"xaxis\":{\"title\":\"Test index\"},\"margin\":{\"l\":50,\"b\":50,\"r\":50,\"t\":60},\"yaxis\":{\"type\":\"log\",\"title\":\"Error\",\"exponentformat\":\"power\"}},{}); gd.on(\"plotly_hover\",(function (data){var filtered_data=WebIO.PlotlyCommands.filterEventData(gd,data,\"hover\"); return !(filtered_data.isnil) ? (WebIO.setval({\"name\":\"hover\",\"scope\":\"14845679959501474922\",\"id\":\"ob_01\",\"type\":\"observable\"},filtered_data.out)) : undefined})); gd.on(\"plotly_unhover\",(function (){return WebIO.setval({\"name\":\"hover\",\"scope\":\"14845679959501474922\",\"id\":\"ob_01\",\"type\":\"observable\"},{})})); gd.on(\"plotly_selected\",(function (data){var filtered_data=WebIO.PlotlyCommands.filterEventData(gd,data,\"selected\"); return !(filtered_data.isnil) ? (WebIO.setval({\"name\":\"selected\",\"scope\":\"14845679959501474922\",\"id\":\"ob_02\",\"type\":\"observable\"},filtered_data.out)) : undefined})); gd.on(\"plotly_deselect\",(function (){return WebIO.setval({\"name\":\"selected\",\"scope\":\"14845679959501474922\",\"id\":\"ob_02\",\"type\":\"observable\"},{})})); gd.on(\"plotly_relayout\",(function (data){var filtered_data=WebIO.PlotlyCommands.filterEventData(gd,data,\"relayout\"); return !(filtered_data.isnil) ? (WebIO.setval({\"name\":\"relayout\",\"scope\":\"14845679959501474922\",\"id\":\"ob_04\",\"type\":\"observable\"},filtered_data.out)) : undefined})); return gd.on(\"plotly_click\",(function (data){var filtered_data=WebIO.PlotlyCommands.filterEventData(gd,data,\"click\"); return !(filtered_data.isnil) ? (WebIO.setval({\"name\":\"click\",\"scope\":\"14845679959501474922\",\"id\":\"ob_03\",\"type\":\"observable\"},filtered_data.out)) : undefined}))}));\n    (WebIO.importBlock({\"data\":[{\"name\":\"Plotly\",\"type\":\"js\",\"url\":\"/assetserver/97455d9c0b966d1d15f929ab040a6c64584c2805-plotly-latest.min.js\"},{\"name\":null,\"type\":\"js\",\"url\":\"/assetserver/78f257495fc6b801c547799036543b377e886736-plotly_webio.bundle.js\"}],\"type\":\"async_block\"})).then((imports) => handler.apply(this, imports));\n}\n"
        ],
        "observables": {
         "__gd_contents": {
          "id": "ob_06",
          "sync": false,
          "value": {}
         },
         "__get_gd_contents": {
          "id": "ob_10",
          "sync": false,
          "value": ""
         },
         "_commands": {
          "id": "ob_07",
          "sync": false,
          "value": []
         },
         "_downloadImage": {
          "id": "ob_09",
          "sync": false,
          "value": {}
         },
         "_toImage": {
          "id": "ob_08",
          "sync": false,
          "value": {}
         },
         "click": {
          "id": "ob_03",
          "sync": false,
          "value": {}
         },
         "hover": {
          "id": "ob_01",
          "sync": false,
          "value": {}
         },
         "image": {
          "id": "ob_05",
          "sync": true,
          "value": ""
         },
         "relayout": {
          "id": "ob_04",
          "sync": false,
          "value": {}
         },
         "selected": {
          "id": "ob_02",
          "sync": false,
          "value": {}
         }
        },
        "systemjs_options": null
       },
       "nodeType": "Scope",
       "props": {},
       "type": "node"
      },
      "text/html": [
       "<div\n",
       "    class=\"webio-mountpoint\"\n",
       "    data-webio-mountpoint=\"18376560700343118416\"\n",
       ">\n",
       "    <script>\n",
       "    if (window.require && require.defined && require.defined(\"nbextensions/webio-jupyter-notebook\")) {\n",
       "        console.log(\"Jupyter WebIO extension detected, not mounting.\");\n",
       "    } else if (window.WebIO) {\n",
       "        WebIO.mount(\n",
       "            document.querySelector('[data-webio-mountpoint=\"18376560700343118416\"]'),\n",
       "            {\"props\":{},\"nodeType\":\"Scope\",\"type\":\"node\",\"instanceArgs\":{\"imports\":{\"data\":[{\"name\":\"Plotly\",\"type\":\"js\",\"url\":\"\\/assetserver\\/97455d9c0b966d1d15f929ab040a6c64584c2805-plotly-latest.min.js\"},{\"name\":null,\"type\":\"js\",\"url\":\"\\/assetserver\\/78f257495fc6b801c547799036543b377e886736-plotly_webio.bundle.js\"}],\"type\":\"async_block\"},\"id\":\"14845679959501474922\",\"handlers\":{\"_toImage\":[\"(function (options){return this.Plotly.toImage(this.plotElem,options).then((function (data){return WebIO.setval({\\\"name\\\":\\\"image\\\",\\\"scope\\\":\\\"14845679959501474922\\\",\\\"id\\\":\\\"ob_05\\\",\\\"type\\\":\\\"observable\\\"},data)}))})\"],\"__get_gd_contents\":[\"(function (prop){prop==\\\"data\\\" ? (WebIO.setval({\\\"name\\\":\\\"__gd_contents\\\",\\\"scope\\\":\\\"14845679959501474922\\\",\\\"id\\\":\\\"ob_06\\\",\\\"type\\\":\\\"observable\\\"},this.plotElem.data)) : undefined; return prop==\\\"layout\\\" ? (WebIO.setval({\\\"name\\\":\\\"__gd_contents\\\",\\\"scope\\\":\\\"14845679959501474922\\\",\\\"id\\\":\\\"ob_06\\\",\\\"type\\\":\\\"observable\\\"},this.plotElem.layout)) : undefined})\"],\"_downloadImage\":[\"(function (options){return this.Plotly.downloadImage(this.plotElem,options)})\"],\"_commands\":[\"(function (args){var fn=args.shift(); var elem=this.plotElem; var Plotly=this.Plotly; args.unshift(elem); return Plotly[fn].apply(this,args)})\"]},\"systemjs_options\":null,\"mount_callbacks\":[\"function () {\\n    var handler = ((function (Plotly){var gd=this.dom.querySelector(\\\"#plot-0e73d8ec-71c0-48cd-be8e-491b1e864e5b\\\"); this.plotElem=gd; this.Plotly=Plotly; (window.Blink!==undefined) ? (gd.style.width=\\\"100%\\\", gd.style.height=\\\"100vh\\\", gd.style.marginLeft=\\\"0%\\\", gd.style.marginTop=\\\"0vh\\\") : undefined; window.onresize=(function (){return Plotly.Plots.resize(gd)}); Plotly.newPlot(gd,[{\\\"y\\\":[1.0e-16,1.0e-16,1.2133627712727935e-15,3.28355363380977e-15,4.682193206295148e-16,8.93733533540139e-16,1.03764058230777e-14,8.707451065480633e-15,1.7815258004021908e-13,1.091564126287314e-14,1.0e-16,1.0e-16,4.682193206295148e-16,2.032952170156116e-15,1.051817968857363e-15,1.5686870114880516e-15,1.2834425442573872e-15,2.1411201962889075e-15,3.1657035291446092e-15,2.8319157601378223e-15,1.0e-16,1.0e-16,7.66133814775094e-16,4.845925372767127e-16,1.051817968857363e-15,3.115027253194862e-15,1.176401158743041e-15,2.1411201962889075e-15,7.181460191301303e-16,2.8319157601378223e-15,1.0e-16,1.0e-16,7.66133814775094e-16,2.341166056980587e-15,5.850698067283841e-15,2.2203810899844703e-13,9.706583865735264e-16,1.2403455171351628e-15,3.955488389574925e-14,1.0773746735086136e-15,1.0e-16,2.1102230246251565e-16,8.928578270080922e-16,1.9515278288508872e-15,1.2046579618885444e-15,1.3755491433176289e-15,2.4265067194628704e-15,2.7795273524776e-15,5.1084780462386845e-15,4.094923162860491e-15],\\\"type\\\":\\\"scatter\\\",\\\"name\\\":\\\"Error\\\"}],{\\\"xaxis\\\":{\\\"title\\\":\\\"Test index\\\"},\\\"margin\\\":{\\\"l\\\":50,\\\"b\\\":50,\\\"r\\\":50,\\\"t\\\":60},\\\"yaxis\\\":{\\\"type\\\":\\\"log\\\",\\\"title\\\":\\\"Error\\\",\\\"exponentformat\\\":\\\"power\\\"}},{}); gd.on(\\\"plotly_hover\\\",(function (data){var filtered_data=WebIO.PlotlyCommands.filterEventData(gd,data,\\\"hover\\\"); return !(filtered_data.isnil) ? (WebIO.setval({\\\"name\\\":\\\"hover\\\",\\\"scope\\\":\\\"14845679959501474922\\\",\\\"id\\\":\\\"ob_01\\\",\\\"type\\\":\\\"observable\\\"},filtered_data.out)) : undefined})); gd.on(\\\"plotly_unhover\\\",(function (){return WebIO.setval({\\\"name\\\":\\\"hover\\\",\\\"scope\\\":\\\"14845679959501474922\\\",\\\"id\\\":\\\"ob_01\\\",\\\"type\\\":\\\"observable\\\"},{})})); gd.on(\\\"plotly_selected\\\",(function (data){var filtered_data=WebIO.PlotlyCommands.filterEventData(gd,data,\\\"selected\\\"); return !(filtered_data.isnil) ? (WebIO.setval({\\\"name\\\":\\\"selected\\\",\\\"scope\\\":\\\"14845679959501474922\\\",\\\"id\\\":\\\"ob_02\\\",\\\"type\\\":\\\"observable\\\"},filtered_data.out)) : undefined})); gd.on(\\\"plotly_deselect\\\",(function (){return WebIO.setval({\\\"name\\\":\\\"selected\\\",\\\"scope\\\":\\\"14845679959501474922\\\",\\\"id\\\":\\\"ob_02\\\",\\\"type\\\":\\\"observable\\\"},{})})); gd.on(\\\"plotly_relayout\\\",(function (data){var filtered_data=WebIO.PlotlyCommands.filterEventData(gd,data,\\\"relayout\\\"); return !(filtered_data.isnil) ? (WebIO.setval({\\\"name\\\":\\\"relayout\\\",\\\"scope\\\":\\\"14845679959501474922\\\",\\\"id\\\":\\\"ob_04\\\",\\\"type\\\":\\\"observable\\\"},filtered_data.out)) : undefined})); return gd.on(\\\"plotly_click\\\",(function (data){var filtered_data=WebIO.PlotlyCommands.filterEventData(gd,data,\\\"click\\\"); return !(filtered_data.isnil) ? (WebIO.setval({\\\"name\\\":\\\"click\\\",\\\"scope\\\":\\\"14845679959501474922\\\",\\\"id\\\":\\\"ob_03\\\",\\\"type\\\":\\\"observable\\\"},filtered_data.out)) : undefined}))}));\\n    (WebIO.importBlock({\\\"data\\\":[{\\\"name\\\":\\\"Plotly\\\",\\\"type\\\":\\\"js\\\",\\\"url\\\":\\\"\\/assetserver\\/97455d9c0b966d1d15f929ab040a6c64584c2805-plotly-latest.min.js\\\"},{\\\"name\\\":null,\\\"type\\\":\\\"js\\\",\\\"url\\\":\\\"\\/assetserver\\/78f257495fc6b801c547799036543b377e886736-plotly_webio.bundle.js\\\"}],\\\"type\\\":\\\"async_block\\\"})).then((imports) => handler.apply(this, imports));\\n}\\n\"],\"observables\":{\"_toImage\":{\"sync\":false,\"id\":\"ob_08\",\"value\":{}},\"hover\":{\"sync\":false,\"id\":\"ob_01\",\"value\":{}},\"selected\":{\"sync\":false,\"id\":\"ob_02\",\"value\":{}},\"__gd_contents\":{\"sync\":false,\"id\":\"ob_06\",\"value\":{}},\"click\":{\"sync\":false,\"id\":\"ob_03\",\"value\":{}},\"image\":{\"sync\":true,\"id\":\"ob_05\",\"value\":\"\"},\"__get_gd_contents\":{\"sync\":false,\"id\":\"ob_10\",\"value\":\"\"},\"_downloadImage\":{\"sync\":false,\"id\":\"ob_09\",\"value\":{}},\"relayout\":{\"sync\":false,\"id\":\"ob_04\",\"value\":{}},\"_commands\":{\"sync\":false,\"id\":\"ob_07\",\"value\":[]}}},\"children\":[{\"props\":{\"id\":\"plot-0e73d8ec-71c0-48cd-be8e-491b1e864e5b\"},\"nodeType\":\"DOM\",\"type\":\"node\",\"instanceArgs\":{\"namespace\":\"html\",\"tag\":\"div\"},\"children\":[]}]},\n",
       "            window,\n",
       "        );\n",
       "    } else {\n",
       "        document\n",
       "            .querySelector('[data-webio-mountpoint=\"18376560700343118416\"]')\n",
       "            .innerHTML = (\n",
       "                '<strong>WebIO not detected. Please read ' +\n",
       "                '<a href=\"https://juliagizmos.github.io/WebIO.jl/latest/troubleshooting/not-detected/\">the troubleshooting guide</a> ' +\n",
       "                'for more information on how to resolve this issue.' +\n",
       "                '</strong>'\n",
       "            );\n",
       "    }\n",
       "    </script>\n",
       "</div>\n"
      ],
      "text/plain": [
       "data: [\n",
       "  \"scatter with fields name, type, and y\"\n",
       "]\n",
       "\n",
       "layout: \"layout with fields margin, xaxis, and yaxis\"\n",
       "\n"
      ]
     },
     "execution_count": 14,
     "metadata": {
      "application/vnd.webio.node+json": {
       "kernelId": "290574f0-7d22-444b-88a3-279ad08e1c6e"
      }
     },
     "output_type": "execute_result"
    }
   ],
   "source": [
    "# Plot error at each step of the test suite\n",
    "using PlotlyJS\n",
    "plot([scatter(y=err.+1e-16,name=\"Error\")],\n",
    "     Layout(yaxis_type=\"log\",yaxis_exponentformat=\"power\",xaxis_title=\"Test index\", yaxis_title=\"Error\")\n",
    "    )"
   ]
  }
 ],
 "metadata": {
  "@webio": {
   "lastCommId": "9d167923c9b844d18f77fce6a6dcd18b",
   "lastKernelId": "290574f0-7d22-444b-88a3-279ad08e1c6e"
  },
  "anaconda-cloud": {},
  "kernelspec": {
   "display_name": "Julia 1.1.1",
   "language": "julia",
   "name": "julia-1.1"
  },
  "language_info": {
   "file_extension": ".jl",
   "mimetype": "application/julia",
   "name": "julia",
   "version": "1.1.1"
  }
 },
 "nbformat": 4,
 "nbformat_minor": 1
}
