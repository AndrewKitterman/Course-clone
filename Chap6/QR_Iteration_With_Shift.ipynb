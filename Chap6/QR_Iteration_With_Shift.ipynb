{
 "cells": [
  {
   "cell_type": "code",
   "execution_count": 1,
   "metadata": {},
   "outputs": [],
   "source": [
    "using Printf\n",
    "using Random\n",
    "using LinearAlgebra\n",
    "rng = MersenneTwister(18);"
   ]
  },
  {
   "cell_type": "code",
   "execution_count": 2,
   "metadata": {},
   "outputs": [
    {
     "data": {
      "text/plain": [
       "gees_testsuite (generic function with 1 method)"
      ]
     },
     "execution_count": 2,
     "metadata": {},
     "output_type": "execute_result"
    }
   ],
   "source": [
    "include(\"../src/gees.jl\")"
   ]
  },
  {
   "cell_type": "code",
   "execution_count": 3,
   "metadata": {},
   "outputs": [
    {
     "name": "stdout",
     "output_type": "stream",
     "text": [
      "Matrix A\n",
      " -5.4e-01  1.9e+00  3.5e+00 -3.8e+00\n",
      " -1.2e+00  2.7e+00  4.4e+00 -4.8e+00\n",
      " -1.4e+00  2.5e+00  5.8e+00 -6.1e+00\n",
      " -1.6e+00  2.6e+00  6.4e+00 -6.4e+00\n"
     ]
    },
    {
     "data": {
      "text/plain": [
       "4-element Array{Complex{Float64},1}:\n",
       "     0.5000000000000014 + 0.0im               \n",
       " -2.254489997466358e-15 - 0.9999999999999979im\n",
       " -2.254489997466358e-15 + 0.9999999999999979im\n",
       "     1.0000000000000002 + 0.0im               "
      ]
     },
     "execution_count": 3,
     "metadata": {},
     "output_type": "execute_result"
    }
   ],
   "source": [
    "n = 4\n",
    "Λ = diagm(0 => Float32[2.0^(-i) for i=0:n-3])\n",
    "A = zeros(n,n)\n",
    "A[1:n-2,1:n-2] = Λ\n",
    "A[n-1:n,n-1:n] = [0 1; -1 0]\n",
    "X = rand(rng, n, n)\n",
    "\n",
    "# Λ = diagm(Float32[2.0^(-i) for i=0:n-1])\n",
    "# A = Λ\n",
    "# X, = qr(rand(rng, n, n))\n",
    "\n",
    "A = X * A / X\n",
    "\n",
    "println(\"Matrix A\")\n",
    "pretty_print(A)\n",
    "Λ = eigenvalue_sorted(A)"
   ]
  },
  {
   "cell_type": "code",
   "execution_count": 4,
   "metadata": {},
   "outputs": [
    {
     "data": {
      "text/plain": [
       "4×4 Array{Float64,2}:\n",
       " -0.539952  -0.357157  -0.092044  -5.49345 \n",
       "  2.47328    0.960772   1.00985   14.52    \n",
       "  0.0       -0.177055   0.608983   0.640705\n",
       "  0.0        0.0       -0.337349   0.470196"
      ]
     },
     "execution_count": 4,
     "metadata": {},
     "output_type": "execute_result"
    }
   ],
   "source": [
    "# Applying Householder reflections to make matrix A upper Hessenberg\n",
    "gehrd!(A)\n",
    "A0 = copy(A)"
   ]
  },
  {
   "cell_type": "code",
   "execution_count": 5,
   "metadata": {},
   "outputs": [
    {
     "name": "stdout",
     "output_type": "stream",
     "text": [
      "Norm for lower part of matrix = 0.0\n",
      "Matrix A\n"
     ]
    },
    {
     "data": {
      "text/plain": [
       "4×4 Array{Float64,2}:\n",
       " -0.539952  -0.357157  -0.092044  -5.49345 \n",
       "  2.47328    0.960772   1.00985   14.52    \n",
       "  0.0       -0.177055   0.608983   0.640705\n",
       "  0.0        0.0       -0.337349   0.470196"
      ]
     },
     "execution_count": 5,
     "metadata": {},
     "output_type": "execute_result"
    }
   ],
   "source": [
    "# Checking that A is upper Hessenberg now\n",
    "println(\"Norm for lower part of matrix = \",norm(tril(A,-2)))\n",
    "println(\"Matrix A\")\n",
    "A"
   ]
  },
  {
   "cell_type": "code",
   "execution_count": 6,
   "metadata": {},
   "outputs": [
    {
     "name": "stdout",
     "output_type": "stream",
     "text": [
      "6.5876948602543385e-15\n"
     ]
    }
   ],
   "source": [
    "# Checking that the eigenvalues are the same\n",
    "D = eigenvalue_sorted(A)\n",
    "println(norm(D-Λ))"
   ]
  },
  {
   "cell_type": "code",
   "execution_count": 7,
   "metadata": {},
   "outputs": [
    {
     "data": {
      "text/plain": [
       "4×4 Array{Float64,2}:\n",
       "  0.451537   2.47787   12.6387     8.84444 \n",
       " -0.222977   0.397203  -0.96249   -0.312148\n",
       "  0.0       -0.343572  -0.614769  -0.889788\n",
       "  0.0        0.0        1.48843    1.26603 "
      ]
     },
     "execution_count": 7,
     "metadata": {},
     "output_type": "execute_result"
    }
   ],
   "source": [
    "# Sequential version of QR iteration using Givens rotations\n",
    "givens_QR_iteration_s!(A)\n",
    "A"
   ]
  },
  {
   "cell_type": "code",
   "execution_count": 8,
   "metadata": {},
   "outputs": [
    {
     "name": "stdout",
     "output_type": "stream",
     "text": [
      "norm(tril(A, -2)) = 0.0\n",
      "norm(D - Λ) = 8.591904876735825e-15\n"
     ]
    },
    {
     "data": {
      "text/plain": [
       "8.591904876735825e-15"
      ]
     },
     "execution_count": 8,
     "metadata": {},
     "output_type": "execute_result"
    }
   ],
   "source": [
    "# Testing the result\n",
    "D = eigenvalue_sorted(A)\n",
    "@show norm(tril(A,-2))\n",
    "@show norm(D-Λ)"
   ]
  },
  {
   "cell_type": "code",
   "execution_count": 9,
   "metadata": {},
   "outputs": [
    {
     "data": {
      "text/plain": [
       "4×4 Array{Float64,2}:\n",
       "  0.451537      2.47787   12.6387     8.84444 \n",
       " -0.222977      0.397203  -0.96249   -0.312148\n",
       " -1.38778e-17  -0.343572  -0.614769  -0.889788\n",
       "  0.0           0.0        1.48843    1.26603 "
      ]
     },
     "execution_count": 9,
     "metadata": {},
     "output_type": "execute_result"
    }
   ],
   "source": [
    "# QR iteration with bulge chasing\n",
    "A = copy(A0)\n",
    "givens_QR_iteration!(A)\n",
    "A"
   ]
  },
  {
   "cell_type": "code",
   "execution_count": 10,
   "metadata": {},
   "outputs": [
    {
     "name": "stdout",
     "output_type": "stream",
     "text": [
      "norm(tril(A, -2)) = 1.3877787807814457e-17\n",
      "norm(D - Λ) = 7.421766257945797e-15\n"
     ]
    },
    {
     "data": {
      "text/plain": [
       "7.421766257945797e-15"
      ]
     },
     "execution_count": 10,
     "metadata": {},
     "output_type": "execute_result"
    }
   ],
   "source": [
    "# Testing the result\n",
    "D = eigenvalue_sorted(A)\n",
    "@show norm(tril(A,-2))\n",
    "@show norm(D-Λ)"
   ]
  },
  {
   "cell_type": "code",
   "execution_count": 11,
   "metadata": {},
   "outputs": [
    {
     "data": {
      "text/plain": [
       "4×4 Array{Float64,2}:\n",
       "  0.468597     -9.28401      11.4643    4.48211 \n",
       "  0.170054     -1.3458        2.30061   0.703774\n",
       " -2.77556e-17  -0.855179      1.9012    0.395864\n",
       " -1.38778e-17   1.11022e-16   0.594268  0.476006"
      ]
     },
     "execution_count": 11,
     "metadata": {},
     "output_type": "execute_result"
    }
   ],
   "source": [
    "# Single step of QR iteration with double real shift\n",
    "A = copy(A0)\n",
    "gees_single_step!(A, false) # false: exceptional_shift is not applied\n",
    "A"
   ]
  },
  {
   "cell_type": "code",
   "execution_count": 12,
   "metadata": {},
   "outputs": [
    {
     "name": "stdout",
     "output_type": "stream",
     "text": [
      "norm(tril(A, -2)) = 1.1527756336890508e-16\n",
      "norm(D - Λ) = 8.282747520521628e-15\n"
     ]
    },
    {
     "data": {
      "text/plain": [
       "8.282747520521628e-15"
      ]
     },
     "execution_count": 12,
     "metadata": {},
     "output_type": "execute_result"
    }
   ],
   "source": [
    "# Testing the result\n",
    "D = eigenvalue_sorted(A)\n",
    "@show norm(tril(A,-2))\n",
    "@show norm(D-Λ)"
   ]
  },
  {
   "cell_type": "code",
   "execution_count": 13,
   "metadata": {},
   "outputs": [
    {
     "name": "stdout",
     "output_type": "stream",
     "text": [
      "\n",
      " *** Test no 1 ***\n",
      "Size of matrix 1\n",
      "norm(D0 - D1) = 0.0\n",
      "norm(D1 - D2) = 0.0\n",
      "\n",
      " *** Test no 2 ***\n",
      "Size of matrix 2\n",
      "norm(D0 - D1) = 0.0\n",
      "norm(D1 - D2) = 0.0\n",
      "\n",
      " *** Test no 3 ***\n",
      "Size of matrix 3\n",
      "norm(D0 - D1) = 1.336327202703161e-15\n",
      "norm(D1 - D2) = 2.237726045655905e-16\n",
      "\n",
      " *** Test no 4 ***\n",
      "Size of matrix 4\n",
      "norm(D0 - D1) = 2.754662226278516e-15\n",
      "norm(D1 - D2) = 4.458205583648681e-16\n",
      "\n",
      " *** Test no 5 ***\n",
      "Size of matrix 3\n",
      "Exceptional shift\n",
      "norm(D0 - D1) = 3.6821932062951477e-16\n",
      "norm(D1 - D2) = 0.0\n",
      "\n",
      " *** Test no 6 ***\n",
      "Size of matrix 4\n",
      "Exceptional shift\n",
      "norm(D0 - D1) = 8.0051527712734e-16\n",
      "norm(D1 - D2) = 3.920818324662287e-17\n",
      "\n",
      " *** Test no 7 ***\n",
      "Size of matrix 7\n",
      "norm(D0 - D1) = 1.3551551429195005e-14\n",
      "norm(D1 - D2) = 6.2967088217668685e-15\n",
      "\n",
      " *** Test no 8 ***\n",
      "Size of matrix 8\n",
      "norm(D0 - D1) = 1.2335472145246274e-14\n",
      "norm(D1 - D2) = 8.638897829988681e-15\n",
      "\n",
      " *** Test no 9 ***\n",
      "Size of matrix 9\n",
      "Exceptional shift\n",
      "norm(D0 - D1) = 1.7151933610150863e-13\n",
      "norm(D1 - D2) = 8.36672940130322e-15\n",
      "\n",
      " *** Test no 10 ***\n",
      "Size of matrix 10\n",
      "Exceptional shift\n",
      "norm(D0 - D1) = 1.0998197182864726e-14\n",
      "norm(D1 - D2) = 1.0329428672392108e-14\n",
      "\n",
      " *** Test no 11 ***\n",
      "Size of matrix 1\n",
      "norm(D0 - D1) = 0.0\n",
      "norm(D1 - D2) = 0.0\n",
      "\n",
      " *** Test no 12 ***\n",
      "Size of matrix 2\n",
      "norm(D0 - D1) = 0.0\n",
      "norm(D1 - D2) = 0.0\n",
      "\n",
      " *** Test no 13 ***\n",
      "Size of matrix 3\n",
      "Exceptional shift\n",
      "norm(D0 - D1) = 3.6821932062951477e-16\n",
      "norm(D1 - D2) = 0.0\n",
      "\n",
      " *** Test no 14 ***\n",
      "Size of matrix 4\n",
      "Exceptional shift\n",
      "norm(D0 - D1) = 7.889616961715915e-16\n",
      "norm(D1 - D2) = 1.6805307704560016e-15\n",
      "\n",
      " *** Test no 15 ***\n",
      "Size of matrix 5\n",
      "Exceptional shift\n",
      "norm(D0 - D1) = 1.1644117316690922e-15\n",
      "norm(D1 - D2) = 9.773746735086136e-16\n",
      "\n",
      " *** Test no 16 ***\n",
      "Size of matrix 6\n",
      "Exceptional shift\n",
      "norm(D0 - D1) = 2.257605148121872e-15\n",
      "norm(D1 - D2) = 1.1775693440128313e-15\n",
      "\n",
      " *** Test no 17 ***\n",
      "Size of matrix 7\n",
      "Exceptional shift\n",
      "norm(D0 - D1) = 1.5978149875000297e-15\n",
      "norm(D1 - D2) = 1.735999762954231e-15\n",
      "\n",
      " *** Test no 18 ***\n",
      "Size of matrix 8\n",
      "Exceptional shift\n",
      "norm(D0 - D1) = 3.2110214185320387e-15\n",
      "norm(D1 - D2) = 3.14508762904515e-15\n",
      "\n",
      " *** Test no 19 ***\n",
      "Size of matrix 9\n",
      "Exceptional shift\n",
      "norm(D0 - D1) = 2.6413043426588164e-15\n",
      "norm(D1 - D2) = 2.4030622849295204e-15\n",
      "\n",
      " *** Test no 20 ***\n",
      "Size of matrix 10\n",
      "Exceptional shift\n",
      "norm(D0 - D1) = 3.3482014605291036e-15\n",
      "norm(D1 - D2) = 1.9641850382783467e-15\n",
      "\n",
      " *** Test no 21 ***\n",
      "Size of matrix 1\n",
      "norm(D0 - D1) = 0.0\n",
      "norm(D1 - D2) = 0.0\n",
      "\n",
      " *** Test no 22 ***\n",
      "Size of matrix 2\n",
      "norm(D0 - D1) = 0.0\n",
      "norm(D1 - D2) = 0.0\n",
      "\n",
      " *** Test no 23 ***\n",
      "Size of matrix 3\n",
      "norm(D0 - D1) = 6.753223014464259e-16\n",
      "norm(D1 - D2) = 1.1102230246251565e-16\n",
      "\n",
      " *** Test no 24 ***\n",
      "Size of matrix 4\n",
      "norm(D0 - D1) = 7.065416064076988e-16\n",
      "norm(D1 - D2) = 3.925231146709438e-16\n",
      "\n",
      " *** Test no 25 ***\n",
      "Size of matrix 5\n",
      "Exceptional shift\n",
      "norm(D0 - D1) = 1.1644117316690922e-15\n",
      "norm(D1 - D2) = 9.773746735086136e-16\n",
      "\n",
      " *** Test no 26 ***\n",
      "Size of matrix 6\n",
      "norm(D0 - D1) = 1.6504651808933464e-15\n",
      "norm(D1 - D2) = 1.656056835017272e-15\n",
      "\n",
      " *** Test no 27 ***\n",
      "Size of matrix 7\n",
      "norm(D0 - D1) = 2.032041781255059e-15\n",
      "norm(D1 - D2) = 2.3208707134311084e-15\n",
      "\n",
      " *** Test no 28 ***\n",
      "Size of matrix 8\n",
      "Exceptional shift\n",
      "norm(D0 - D1) = 3.2110214185320387e-15\n",
      "norm(D1 - D2) = 3.14508762904515e-15\n",
      "\n",
      " *** Test no 29 ***\n",
      "Size of matrix 9\n",
      "Exceptional shift\n",
      "norm(D0 - D1) = 3.1401849173675503e-16\n",
      "norm(D1 - D2) = 3.6821932062951477e-16\n",
      "\n",
      " *** Test no 30 ***\n",
      "Size of matrix 10\n",
      "Exceptional shift\n",
      "norm(D0 - D1) = 3.3482014605291036e-15\n",
      "norm(D1 - D2) = 1.9641850382783467e-15\n",
      "\n",
      " *** Test no 31 ***\n",
      "Size of matrix 1\n",
      "norm(D0 - D1) = 0.0\n",
      "norm(D1 - D2) = 0.0\n",
      "\n",
      " *** Test no 32 ***\n",
      "Size of matrix 2\n",
      "norm(D0 - D1) = 0.0\n",
      "norm(D1 - D2) = 0.0\n",
      "\n",
      " *** Test no 33 ***\n",
      "Size of matrix 3\n",
      "norm(D0 - D1) = 1.5701065894523151e-13\n",
      "norm(D1 - D2) = 1.570092458683775e-13\n",
      "\n",
      " *** Test no 34 ***\n",
      "Size of matrix 4\n",
      "Exceptional shift\n",
      "norm(D0 - D1) = 1.3018518929051675e-15\n",
      "norm(D1 - D2) = 1.7554167342883505e-15\n",
      "\n",
      " *** Test no 35 ***\n",
      "Size of matrix 5\n",
      "norm(D0 - D1) = 5.20740757162067e-16\n",
      "norm(D1 - D2) = 5.89255511483504e-15\n",
      "\n",
      " *** Test no 36 ***\n",
      "Size of matrix 6\n",
      "norm(D0 - D1) = 0.0\n",
      "norm(D1 - D2) = 2.2193810899844703e-13\n",
      "\n",
      " *** Test no 37 ***\n",
      "Size of matrix 7\n",
      "Exceptional shift\n",
      "norm(D0 - D1) = 1.0520052997240635e-13\n",
      "norm(D1 - D2) = 1.0543223469134047e-13\n",
      "\n",
      " *** Test no 38 ***\n",
      "Size of matrix 8\n",
      "Exceptional shift\n",
      "Exceptional shift\n",
      "norm(D0 - D1) = 2.1181705310112556e-15\n",
      "norm(D1 - D2) = 2.0932930538913656e-15\n",
      "\n",
      " *** Test no 39 ***\n",
      "Size of matrix 9\n",
      "norm(D0 - D1) = 2.020278949710324e-15\n",
      "norm(D1 - D2) = 3.895823197286622e-14\n",
      "\n",
      " *** Test no 40 ***\n",
      "Size of matrix 10\n",
      "Exceptional shift\n",
      "norm(D0 - D1) = 1.573234210558904e-13\n",
      "norm(D1 - D2) = 1.5724762083819744e-13\n",
      "\n",
      " *** Test no 41 ***\n",
      "Size of matrix 1\n",
      "norm(D0 - D1) = 0.0\n",
      "norm(D1 - D2) = 0.0\n",
      "\n",
      " *** Test no 42 ***\n",
      "Size of matrix 2\n",
      "norm(D0 - D1) = 0.0\n",
      "norm(D1 - D2) = 1.1102230246251565e-16\n",
      "\n",
      " *** Test no 43 ***\n",
      "Size of matrix 3\n",
      "norm(D0 - D1) = 7.928578270080922e-16\n",
      "norm(D1 - D2) = 0.0\n",
      "\n",
      " *** Test no 44 ***\n",
      "Size of matrix 4\n",
      "norm(D0 - D1) = 1.518714489757095e-15\n",
      "norm(D1 - D2) = 8.527784864785346e-16\n",
      "\n",
      " *** Test no 45 ***\n",
      "Size of matrix 5\n",
      "norm(D0 - D1) = 2.1152589550219202e-15\n",
      "norm(D1 - D2) = 1.1537776118301384e-15\n",
      "\n",
      " *** Test no 46 ***\n",
      "Size of matrix 6\n",
      "norm(D0 - D1) = 1.7558555336288595e-15\n",
      "norm(D1 - D2) = 1.0656117000158708e-15\n",
      "\n",
      " *** Test no 47 ***\n",
      "Size of matrix 7\n",
      "norm(D0 - D1) = 2.8166097754072895e-15\n",
      "norm(D1 - D2) = 1.916542091876757e-15\n",
      "\n",
      " *** Test no 48 ***\n",
      "Size of matrix 8\n",
      "norm(D0 - D1) = 2.3772776086965327e-15\n",
      "norm(D1 - D2) = 1.5463617361248926e-15\n",
      "\n",
      " *** Test no 49 ***\n",
      "Size of matrix 9\n",
      "norm(D0 - D1) = 3.2511365275524845e-15\n",
      "norm(D1 - D2) = 2.7572478783152913e-15\n",
      "\n",
      " *** Test no 50 ***\n",
      "Size of matrix 10\n",
      "norm(D0 - D1) = 4.682103179659986e-15\n",
      "norm(D1 - D2) = 3.857126344106778e-15\n"
     ]
    }
   ],
   "source": [
    "err = gees_testsuite()\n",
    ";"
   ]
  },
  {
   "cell_type": "code",
   "execution_count": 14,
   "metadata": {},
   "outputs": [
    {
     "data": {
      "text/html": [
       "    <script class='js-collapse-script'>\n",
       "        var curMatch =\n",
       "            window.location.href\n",
       "            .match(/(.*?)\\/notebooks\\/.*\\.ipynb/);\n",
       "\n",
       "        curMatch = curMatch ||\n",
       "            window.location.href\n",
       "            .match(/(.*?)\\/apps\\/.*\\.ipynb/);\n",
       "\n",
       "        if ( curMatch ) {\n",
       "            $('head').append('<base href=\"' + curMatch[1] + '/\">');\n",
       "        }\n",
       "    </script>\n"
      ],
      "text/plain": [
       "HTML{String}(\"    <script class='js-collapse-script'>\\n        var curMatch =\\n            window.location.href\\n            .match(/(.*?)\\\\/notebooks\\\\/.*\\\\.ipynb/);\\n\\n        curMatch = curMatch ||\\n            window.location.href\\n            .match(/(.*?)\\\\/apps\\\\/.*\\\\.ipynb/);\\n\\n        if ( curMatch ) {\\n            \\$('head').append('<base href=\\\"' + curMatch[1] + '/\\\">');\\n        }\\n    </script>\\n\")"
      ]
     },
     "metadata": {},
     "output_type": "display_data"
    },
    {
     "data": {
      "text/html": [
       "<script class='js-collapse-script' src='/assetserver/f562d6507acc94a42cdf3b074249b311a179837e-assets/webio/dist/bundle.js'></script>"
      ],
      "text/plain": [
       "HTML{String}(\"<script class='js-collapse-script' src='/assetserver/f562d6507acc94a42cdf3b074249b311a179837e-assets/webio/dist/bundle.js'></script>\")"
      ]
     },
     "metadata": {},
     "output_type": "display_data"
    },
    {
     "data": {
      "text/html": [
       "<script class='js-collapse-script' src='/assetserver/f562d6507acc94a42cdf3b074249b311a179837e-assets/providers/ijulia_setup.js'></script>"
      ],
      "text/plain": [
       "HTML{String}(\"<script class='js-collapse-script' src='/assetserver/f562d6507acc94a42cdf3b074249b311a179837e-assets/providers/ijulia_setup.js'></script>\")"
      ]
     },
     "metadata": {},
     "output_type": "display_data"
    },
    {
     "data": {
      "text/html": [
       "  <script class='js-collapse-script'>\n",
       "    $('.js-collapse-script').parent('.output_subarea').css('padding', '0');\n",
       "  </script>\n"
      ],
      "text/plain": [
       "HTML{String}(\"  <script class='js-collapse-script'>\\n    \\$('.js-collapse-script').parent('.output_subarea').css('padding', '0');\\n  </script>\\n\")"
      ]
     },
     "metadata": {},
     "output_type": "display_data"
    },
    {
     "data": {
      "text/html": [
       "<div class='display:none'></div><unsafe-script style='display:none'>\n",
       "WebIO.mount(this.previousSibling,{&quot;props&quot;:{},&quot;nodeType&quot;:&quot;Scope&quot;,&quot;type&quot;:&quot;node&quot;,&quot;instanceArgs&quot;:{&quot;imports&quot;:{&quot;data&quot;:[{&quot;name&quot;:&quot;Plotly&quot;,&quot;type&quot;:&quot;js&quot;,&quot;url&quot;:&quot;/assetserver/1e2c0da7fbe518270434b2ec2c46e20d1e0891d6-plotly-latest.min.js&quot;},{&quot;name&quot;:null,&quot;type&quot;:&quot;js&quot;,&quot;url&quot;:&quot;/assetserver/2009f112a9eee3177314b516a62b493c2ea5b3f5-plotly_webio.bundle.js&quot;}],&quot;type&quot;:&quot;async_block&quot;},&quot;id&quot;:&quot;scope-d88cf58c-0789-4aa2-9861-c79cfc6a0423&quot;,&quot;handlers&quot;:{&quot;_toImage&quot;:[(function (options){return this.Plotly.toImage(this.plotElem,options).then((function (data){return WebIO.setval({&quot;name&quot;:&quot;image&quot;,&quot;scope&quot;:&quot;scope-d88cf58c-0789-4aa2-9861-c79cfc6a0423&quot;,&quot;id&quot;:&quot;ob_05&quot;,&quot;type&quot;:&quot;observable&quot;},data)}))})],&quot;__get_gd_contents&quot;:[(function (prop){prop==&quot;data&quot; ? (WebIO.setval({&quot;name&quot;:&quot;__gd_contents&quot;,&quot;scope&quot;:&quot;scope-d88cf58c-0789-4aa2-9861-c79cfc6a0423&quot;,&quot;id&quot;:&quot;ob_06&quot;,&quot;type&quot;:&quot;observable&quot;},this.plotElem.data)) : undefined; return prop==&quot;layout&quot; ? (WebIO.setval({&quot;name&quot;:&quot;__gd_contents&quot;,&quot;scope&quot;:&quot;scope-d88cf58c-0789-4aa2-9861-c79cfc6a0423&quot;,&quot;id&quot;:&quot;ob_06&quot;,&quot;type&quot;:&quot;observable&quot;},this.plotElem.layout)) : undefined})],&quot;_promises&quot;:{&quot;importsLoaded&quot;:[(function (Plotly){var gd=this.dom.querySelector(&quot;#plot-09407251-648f-4dc0-83cf-ef038f288e9a&quot;); this.plotElem=gd; this.Plotly=Plotly; (window.Blink!==undefined) ? (gd.style.width=&quot;100%&quot;, gd.style.height=&quot;100vh&quot;, gd.style.marginLeft=&quot;0%&quot;, gd.style.marginTop=&quot;0vh&quot;) : undefined; window.onresize=(function (){return Plotly.Plots.resize(gd)}); Plotly.newPlot(gd,[{&quot;y&quot;:[1.0e-16,1.0e-16,1.2133627712727935e-15,3.28355363380977e-15,4.682193206295148e-16,8.93733533540139e-16,1.03764058230777e-14,8.707451065480633e-15,1.7815258004021908e-13,1.091564126287314e-14,1.0e-16,1.0e-16,4.682193206295148e-16,2.032952170156116e-15,1.051817968857363e-15,1.5686870114880516e-15,1.2834425442573872e-15,2.1411201962889075e-15,3.1657035291446092e-15,2.8319157601378223e-15,1.0e-16,1.0e-16,7.66133814775094e-16,4.845925372767127e-16,1.051817968857363e-15,3.115027253194862e-15,1.176401158743041e-15,2.1411201962889075e-15,7.181460191301303e-16,2.8319157601378223e-15,1.0e-16,1.0e-16,7.66133814775094e-16,2.341166056980587e-15,5.850698067283841e-15,2.2203810899844703e-13,9.706583865735264e-16,1.2403455171351628e-15,3.955488389574925e-14,1.0773746735086136e-15,1.0e-16,2.1102230246251565e-16,8.928578270080922e-16,1.9515278288508872e-15,1.2046579618885444e-15,1.3755491433176289e-15,2.4265067194628704e-15,2.7795273524776e-15,5.1084780462386845e-15,4.094923162860491e-15],&quot;type&quot;:&quot;scatter&quot;,&quot;name&quot;:&quot;Error&quot;}],{&quot;xaxis&quot;:{&quot;title&quot;:&quot;Test index&quot;},&quot;margin&quot;:{&quot;l&quot;:50,&quot;b&quot;:50,&quot;r&quot;:50,&quot;t&quot;:60},&quot;yaxis&quot;:{&quot;type&quot;:&quot;log&quot;,&quot;title&quot;:&quot;Error&quot;,&quot;exponentformat&quot;:&quot;power&quot;}},{}); gd.on(&quot;plotly_hover&quot;,(function (data){var filtered_data=WebIO.CommandSets.Plotly.filterEventData(gd,data,&quot;hover&quot;); return !(filtered_data.isnil) ? (WebIO.setval({&quot;name&quot;:&quot;hover&quot;,&quot;scope&quot;:&quot;scope-d88cf58c-0789-4aa2-9861-c79cfc6a0423&quot;,&quot;id&quot;:&quot;ob_01&quot;,&quot;type&quot;:&quot;observable&quot;},filtered_data.out)) : undefined})); gd.on(&quot;plotly_unhover&quot;,(function (){return WebIO.setval({&quot;name&quot;:&quot;hover&quot;,&quot;scope&quot;:&quot;scope-d88cf58c-0789-4aa2-9861-c79cfc6a0423&quot;,&quot;id&quot;:&quot;ob_01&quot;,&quot;type&quot;:&quot;observable&quot;},{})})); gd.on(&quot;plotly_selected&quot;,(function (data){var filtered_data=WebIO.CommandSets.Plotly.filterEventData(gd,data,&quot;selected&quot;); return !(filtered_data.isnil) ? (WebIO.setval({&quot;name&quot;:&quot;selected&quot;,&quot;scope&quot;:&quot;scope-d88cf58c-0789-4aa2-9861-c79cfc6a0423&quot;,&quot;id&quot;:&quot;ob_02&quot;,&quot;type&quot;:&quot;observable&quot;},filtered_data.out)) : undefined})); gd.on(&quot;plotly_deselect&quot;,(function (){return WebIO.setval({&quot;name&quot;:&quot;selected&quot;,&quot;scope&quot;:&quot;scope-d88cf58c-0789-4aa2-9861-c79cfc6a0423&quot;,&quot;id&quot;:&quot;ob_02&quot;,&quot;type&quot;:&quot;observable&quot;},{})})); gd.on(&quot;plotly_relayout&quot;,(function (data){var filtered_data=WebIO.CommandSets.Plotly.filterEventData(gd,data,&quot;relayout&quot;); return !(filtered_data.isnil) ? (WebIO.setval({&quot;name&quot;:&quot;relayout&quot;,&quot;scope&quot;:&quot;scope-d88cf58c-0789-4aa2-9861-c79cfc6a0423&quot;,&quot;id&quot;:&quot;ob_04&quot;,&quot;type&quot;:&quot;observable&quot;},filtered_data.out)) : undefined})); return gd.on(&quot;plotly_click&quot;,(function (data){var filtered_data=WebIO.CommandSets.Plotly.filterEventData(gd,data,&quot;click&quot;); return !(filtered_data.isnil) ? (WebIO.setval({&quot;name&quot;:&quot;click&quot;,&quot;scope&quot;:&quot;scope-d88cf58c-0789-4aa2-9861-c79cfc6a0423&quot;,&quot;id&quot;:&quot;ob_03&quot;,&quot;type&quot;:&quot;observable&quot;},filtered_data.out)) : undefined}))})]},&quot;_downloadImage&quot;:[(function (options){return this.Plotly.downloadImage(this.plotElem,options)})],&quot;_commands&quot;:[(function (args){var fn=args.shift(); var elem=this.plotElem; var Plotly=this.Plotly; args.unshift(elem); return Plotly[fn].apply(this,args)})]},&quot;systemjs_options&quot;:null,&quot;observables&quot;:{&quot;_toImage&quot;:{&quot;sync&quot;:false,&quot;id&quot;:&quot;ob_08&quot;,&quot;value&quot;:{}},&quot;hover&quot;:{&quot;sync&quot;:false,&quot;id&quot;:&quot;ob_01&quot;,&quot;value&quot;:{}},&quot;selected&quot;:{&quot;sync&quot;:false,&quot;id&quot;:&quot;ob_02&quot;,&quot;value&quot;:{}},&quot;__gd_contents&quot;:{&quot;sync&quot;:false,&quot;id&quot;:&quot;ob_06&quot;,&quot;value&quot;:{}},&quot;click&quot;:{&quot;sync&quot;:false,&quot;id&quot;:&quot;ob_03&quot;,&quot;value&quot;:{}},&quot;image&quot;:{&quot;sync&quot;:true,&quot;id&quot;:&quot;ob_05&quot;,&quot;value&quot;:&quot;&quot;},&quot;__get_gd_contents&quot;:{&quot;sync&quot;:false,&quot;id&quot;:&quot;ob_10&quot;,&quot;value&quot;:&quot;&quot;},&quot;_downloadImage&quot;:{&quot;sync&quot;:false,&quot;id&quot;:&quot;ob_09&quot;,&quot;value&quot;:{}},&quot;relayout&quot;:{&quot;sync&quot;:false,&quot;id&quot;:&quot;ob_04&quot;,&quot;value&quot;:{}},&quot;_commands&quot;:{&quot;sync&quot;:false,&quot;id&quot;:&quot;ob_07&quot;,&quot;value&quot;:[]}}},&quot;children&quot;:[{&quot;props&quot;:{&quot;id&quot;:&quot;plot-09407251-648f-4dc0-83cf-ef038f288e9a&quot;},&quot;nodeType&quot;:&quot;DOM&quot;,&quot;type&quot;:&quot;node&quot;,&quot;instanceArgs&quot;:{&quot;namespace&quot;:&quot;html&quot;,&quot;tag&quot;:&quot;div&quot;},&quot;children&quot;:[]}]})</unsafe-script>"
      ],
      "text/plain": [
       "data: [\n",
       "  \"scatter with fields name, type, and y\"\n",
       "]\n",
       "\n",
       "layout: \"layout with fields margin, xaxis, and yaxis\"\n",
       "\n"
      ]
     },
     "execution_count": 14,
     "metadata": {},
     "output_type": "execute_result"
    }
   ],
   "source": [
    "# Plot error at each step of the test suite\n",
    "using PlotlyJS\n",
    "plot([scatter(y=err.+1e-16,name=\"Error\")],\n",
    "     Layout(yaxis_type=\"log\",yaxis_exponentformat=\"power\",xaxis_title=\"Test index\", yaxis_title=\"Error\")\n",
    "    )"
   ]
  }
 ],
 "metadata": {
  "anaconda-cloud": {},
  "kernelspec": {
   "display_name": "Julia 1.0.0",
   "language": "julia",
   "name": "julia-1.0"
  },
  "language_info": {
   "file_extension": ".jl",
   "mimetype": "application/julia",
   "name": "julia",
   "version": "1.0.0"
  }
 },
 "nbformat": 4,
 "nbformat_minor": 1
}
