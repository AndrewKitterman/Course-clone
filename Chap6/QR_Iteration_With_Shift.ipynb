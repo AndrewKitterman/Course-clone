{
 "cells": [
  {
   "cell_type": "code",
   "execution_count": 33,
   "metadata": {
    "collapsed": true
   },
   "outputs": [],
   "source": [
    "# Initialize the random number generator\n",
    "rng = MersenneTwister(2016);"
   ]
  },
  {
   "cell_type": "code",
   "execution_count": 34,
   "metadata": {},
   "outputs": [
    {
     "name": "stderr",
     "output_type": "stream",
     "text": [
      "\u001b[1m\u001b[33mWARNING: \u001b[39m\u001b[22m\u001b[33mreplacing docs for 'eigenvalue_sorted :: Tuple{Any}' in module 'Main'.\u001b[39m\n",
      "\u001b[1m\u001b[33mWARNING: \u001b[39m\u001b[22m\u001b[33mreplacing docs for 'house :: Tuple{Any}' in module 'Main'.\u001b[39m\n",
      "\u001b[1m\u001b[33mWARNING: \u001b[39m\u001b[22m\u001b[33mreplacing docs for 'givens :: Tuple{Any,Any}' in module 'Main'.\u001b[39m\n",
      "\u001b[1m\u001b[33mWARNING: \u001b[39m\u001b[22m\u001b[33mreplacing docs for 'apply_left_householder! :: NTuple{5,Any}' in module 'Main'.\u001b[39m\n",
      "\u001b[1m\u001b[33mWARNING: \u001b[39m\u001b[22m\u001b[33mreplacing docs for 'apply_right_householder! :: NTuple{5,Any}' in module 'Main'.\u001b[39m\n",
      "\u001b[1m\u001b[33mWARNING: \u001b[39m\u001b[22m\u001b[33mreplacing docs for 'givens_QR_iteration_s! :: Tuple{Any}' in module 'Main'.\u001b[39m\n",
      "\u001b[1m\u001b[33mWARNING: \u001b[39m\u001b[22m\u001b[33mreplacing docs for 'givens_QR_iteration! :: Tuple{Any}' in module 'Main'.\u001b[39m\n",
      "\u001b[1m\u001b[33mWARNING: \u001b[39m\u001b[22m\u001b[33mreplacing docs for 'double_shift_st :: Tuple{Any}' in module 'Main'.\u001b[39m\n",
      "\u001b[1m\u001b[33mWARNING: \u001b[39m\u001b[22m\u001b[33mreplacing docs for 'gees_single_step! :: Tuple{Any,Any}' in module 'Main'.\u001b[39m\n"
     ]
    },
    {
     "data": {
      "text/plain": [
       "gees_testsuite (generic function with 1 method)"
      ]
     },
     "execution_count": 34,
     "metadata": {},
     "output_type": "execute_result"
    }
   ],
   "source": [
    "include(\"../src/gees.jl\")"
   ]
  },
  {
   "cell_type": "code",
   "execution_count": 35,
   "metadata": {},
   "outputs": [
    {
     "name": "stdout",
     "output_type": "stream",
     "text": [
      "Matrix A\n",
      " -2.3e+00  1.2e+00  2.8e+00 -4.7e+00\n",
      " -3.3e+00  1.1e+00  3.9e+00 -5.9e+00\n",
      " -1.3e+00 -1.2e+00  3.9e+00 -4.5e+00\n",
      " -6.1e-01 -5.9e-01  1.4e+00 -1.3e+00\n"
     ]
    },
    {
     "data": {
      "text/plain": [
       "4-element Array{Complex{Float64},1}:\n",
       "       0.5+0.0im\n",
       " 4.996e-16-1.0im\n",
       " 4.996e-16+1.0im\n",
       "       1.0+0.0im"
      ]
     },
     "execution_count": 35,
     "metadata": {},
     "output_type": "execute_result"
    }
   ],
   "source": [
    "n = 4\n",
    "Λ = diagm(Float32[2.0^(-i) for i=0:n-3])\n",
    "A = zeros(n,n)\n",
    "A[1:n-2,1:n-2] = Λ\n",
    "A[n-1:n,n-1:n] = [0 1; -1 0]\n",
    "X = rand(rng, n, n)\n",
    "\n",
    "# Λ = diagm(Float32[2.0^(-i) for i=0:n-1])\n",
    "# A = Λ\n",
    "# X, = qr(rand(rng, n, n))\n",
    "\n",
    "A = X * A / X\n",
    "\n",
    "println(\"Matrix A\")\n",
    "pretty_print(A)\n",
    "Λ = eigenvalue_sorted(A)"
   ]
  },
  {
   "cell_type": "code",
   "execution_count": 36,
   "metadata": {},
   "outputs": [
    {
     "data": {
      "text/plain": [
       "4×4 Array{Float64,2}:\n",
       " -2.2636   -1.27441  0.173003   -5.44537 \n",
       "  3.54181   1.10846  0.921535    8.81452 \n",
       "  0.0      -1.03282  1.67318     2.69294 \n",
       "  0.0       0.0      0.0120129   0.981953"
      ]
     },
     "execution_count": 36,
     "metadata": {},
     "output_type": "execute_result"
    }
   ],
   "source": [
    "# Applying Householder reflections to make matrix A upper Hessenberg\n",
    "gehrd!(A)\n",
    "A0 = copy(A)"
   ]
  },
  {
   "cell_type": "code",
   "execution_count": 37,
   "metadata": {},
   "outputs": [
    {
     "name": "stdout",
     "output_type": "stream",
     "text": [
      "Norm for lower part of matrix = 0.0\n",
      "Matrix A\n"
     ]
    },
    {
     "data": {
      "text/plain": [
       "4×4 Array{Float64,2}:\n",
       " -2.2636   -1.27441  0.173003   -5.44537 \n",
       "  3.54181   1.10846  0.921535    8.81452 \n",
       "  0.0      -1.03282  1.67318     2.69294 \n",
       "  0.0       0.0      0.0120129   0.981953"
      ]
     },
     "execution_count": 37,
     "metadata": {},
     "output_type": "execute_result"
    }
   ],
   "source": [
    "# Checking that A is upper Hessenberg now\n",
    "println(\"Norm for lower part of matrix = \",norm(tril(A,-2)))\n",
    "println(\"Matrix A\")\n",
    "A"
   ]
  },
  {
   "cell_type": "code",
   "execution_count": 38,
   "metadata": {},
   "outputs": [
    {
     "name": "stdout",
     "output_type": "stream",
     "text": [
      "2.963224561596756e-15\n"
     ]
    }
   ],
   "source": [
    "# Checking that the eigenvalues are the same\n",
    "D = eigenvalue_sorted(A)\n",
    "println(norm(D-Λ))"
   ]
  },
  {
   "cell_type": "code",
   "execution_count": 39,
   "metadata": {},
   "outputs": [
    {
     "data": {
      "text/plain": [
       "4×4 Array{Float64,2}:\n",
       " -0.89831   2.47099   -2.65777    -10.6821  \n",
       " -0.958563  1.36666    1.5524      -2.36684 \n",
       "  0.0       0.108168   0.158493    -1.06853 \n",
       "  0.0       0.0       -0.0884887    0.873154"
      ]
     },
     "execution_count": 39,
     "metadata": {},
     "output_type": "execute_result"
    }
   ],
   "source": [
    "# Sequential version of QR iteration using Givens rotations\n",
    "givens_QR_iteration_s!(A)\n",
    "A"
   ]
  },
  {
   "cell_type": "code",
   "execution_count": 40,
   "metadata": {},
   "outputs": [
    {
     "name": "stdout",
     "output_type": "stream",
     "text": [
      "norm(tril(A, -2)) = 0.0\n",
      "norm(D - Λ) = 3.8595722234280725e-15\n"
     ]
    },
    {
     "data": {
      "text/plain": [
       "3.8595722234280725e-15"
      ]
     },
     "execution_count": 40,
     "metadata": {},
     "output_type": "execute_result"
    }
   ],
   "source": [
    "# Testing the result\n",
    "D = eigenvalue_sorted(A)\n",
    "@show norm(tril(A,-2))\n",
    "@show norm(D-Λ)"
   ]
  },
  {
   "cell_type": "code",
   "execution_count": 41,
   "metadata": {},
   "outputs": [
    {
     "data": {
      "text/plain": [
       "4×4 Array{Float64,2}:\n",
       " -0.89831    2.47099      -2.65777    -10.6821  \n",
       " -0.958563   1.36666       1.5524      -2.36684 \n",
       "  0.0        0.108168      0.158493    -1.06853 \n",
       "  0.0       -1.73472e-18  -0.0884887    0.873154"
      ]
     },
     "execution_count": 41,
     "metadata": {},
     "output_type": "execute_result"
    }
   ],
   "source": [
    "# QR iteration with bulge chasing\n",
    "A = copy(A0)\n",
    "givens_QR_iteration!(A)\n",
    "A"
   ]
  },
  {
   "cell_type": "code",
   "execution_count": 42,
   "metadata": {},
   "outputs": [
    {
     "name": "stdout",
     "output_type": "stream",
     "text": [
      "norm(tril(A, -2)) = 1.734723475976807e-18\n",
      "norm(D - Λ) = 4.165972287575991e-15\n"
     ]
    },
    {
     "data": {
      "text/plain": [
       "4.165972287575991e-15"
      ]
     },
     "execution_count": 42,
     "metadata": {},
     "output_type": "execute_result"
    }
   ],
   "source": [
    "# Testing the result\n",
    "D = eigenvalue_sorted(A)\n",
    "@show norm(tril(A,-2))\n",
    "@show norm(D-Λ)"
   ]
  },
  {
   "cell_type": "code",
   "execution_count": 43,
   "metadata": {},
   "outputs": [
    {
     "data": {
      "text/plain": [
       "4×4 Array{Float64,2}:\n",
       " -0.486195  -3.37541       3.46473     10.471   \n",
       "  0.341144   0.370591      2.38897      0.383429\n",
       "  0.0       -0.041794      0.615662    -0.257046\n",
       "  0.0       -4.33681e-19  -8.13185e-5   0.999942"
      ]
     },
     "execution_count": 43,
     "metadata": {},
     "output_type": "execute_result"
    }
   ],
   "source": [
    "# Single step of QR iteration with double real shift\n",
    "A = copy(A0)\n",
    "gees_single_step!(A, false) # false: exceptional_shift is not applied\n",
    "A"
   ]
  },
  {
   "cell_type": "code",
   "execution_count": 44,
   "metadata": {},
   "outputs": [
    {
     "name": "stdout",
     "output_type": "stream",
     "text": [
      "norm(tril(A, -2)) = 4.336808689942018e-19\n",
      "norm(D - Λ) = 3.0099126994644805e-15\n"
     ]
    },
    {
     "data": {
      "text/plain": [
       "3.0099126994644805e-15"
      ]
     },
     "execution_count": 44,
     "metadata": {},
     "output_type": "execute_result"
    }
   ],
   "source": [
    "# Testing the result\n",
    "D = eigenvalue_sorted(A)\n",
    "@show norm(tril(A,-2))\n",
    "@show norm(D-Λ)"
   ]
  },
  {
   "cell_type": "code",
   "execution_count": 45,
   "metadata": {},
   "outputs": [
    {
     "name": "stdout",
     "output_type": "stream",
     "text": [
      "\n",
      " *** Test no 1 ***\n",
      "Size of matrix 1\n",
      "norm(D0 - D1) = 0.0\n",
      "norm(D1 - D2) = 0.0\n",
      "\n",
      " *** Test no 2 ***\n",
      "Size of matrix 2\n",
      "norm(D0 - D1) = 0.0\n",
      "norm(D1 - D2) = 0.0\n",
      "\n",
      " *** Test no 3 ***\n",
      "Size of matrix 3\n",
      "norm(D0 - D1) = 1.336327202703161e-15\n",
      "norm(D1 - D2) = 2.237726045655905e-16\n",
      "\n",
      " *** Test no 4 ***\n",
      "Size of matrix 4\n",
      "norm(D0 - D1) = 2.754662226278516e-15\n",
      "norm(D1 - D2) = 4.458205583648681e-16\n",
      "\n",
      " *** Test no 5 ***\n",
      "Size of matrix 3\n",
      "Exceptional shift\n",
      "norm(D0 - D1) = 3.6821932062951477e-16\n",
      "norm(D1 - D2) = 0.0\n",
      "\n",
      " *** Test no 6 ***\n",
      "Size of matrix 4\n",
      "Exceptional shift\n",
      "norm(D0 - D1) = 8.0051527712734e-16\n",
      "norm(D1 - D2) = 3.920818324662287e-17\n",
      "\n",
      " *** Test no 7 ***\n",
      "Size of matrix 7\n",
      "norm(D0 - D1) = 1.1651946346022834e-14\n",
      "norm(D1 - D2) = 2.3346671351838435e-15\n",
      "\n",
      " *** Test no 8 ***\n",
      "Size of matrix 8\n",
      "norm(D0 - D1) = 2.202929105556676e-14\n",
      "norm(D1 - D2) = 1.3425610344532707e-14\n",
      "\n",
      " *** Test no 9 ***\n",
      "Size of matrix 9\n",
      "Exceptional shift\n",
      "norm(D0 - D1) = 8.401029090435554e-14\n",
      "norm(D1 - D2) = 1.1186185675857063e-14\n",
      "\n",
      " *** Test no 10 ***\n",
      "Size of matrix 10\n",
      "Exceptional shift\n",
      "norm(D0 - D1) = 5.3771547924614495e-14\n",
      "norm(D1 - D2) = 1.0513054013155382e-14\n",
      "\n",
      " *** Test no 11 ***\n",
      "Size of matrix 1\n",
      "norm(D0 - D1) = 0.0\n",
      "norm(D1 - D2) = 0.0\n",
      "\n",
      " *** Test no 12 ***\n",
      "Size of matrix 2\n",
      "norm(D0 - D1) = 0.0\n",
      "norm(D1 - D2) = 0.0\n",
      "\n",
      " *** Test no 13 ***\n",
      "Size of matrix 3\n",
      "Exceptional shift\n",
      "norm(D0 - D1) = 3.6821932062951477e-16\n",
      "norm(D1 - D2) = 0.0\n",
      "\n",
      " *** Test no 14 ***\n",
      "Size of matrix 4\n",
      "Exceptional shift\n",
      "norm(D0 - D1) = 7.889616961715915e-16\n",
      "norm(D1 - D2) = 1.6805307704560016e-15\n",
      "\n",
      " *** Test no 15 ***\n",
      "Size of matrix 5\n",
      "Exceptional shift\n",
      "norm(D0 - D1) = 1.1644117316690922e-15\n",
      "norm(D1 - D2) = 9.773746735086136e-16\n",
      "\n",
      " *** Test no 16 ***\n",
      "Size of matrix 6\n",
      "Exceptional shift\n",
      "norm(D0 - D1) = 2.257605148121872e-15\n",
      "norm(D1 - D2) = 1.1775693440128313e-15\n",
      "\n",
      " *** Test no 17 ***\n",
      "Size of matrix 7\n",
      "Exceptional shift\n",
      "norm(D0 - D1) = 1.5978149875000297e-15\n",
      "norm(D1 - D2) = 1.735999762954231e-15\n",
      "\n",
      " *** Test no 18 ***\n",
      "Size of matrix 8\n",
      "Exceptional shift\n",
      "norm(D0 - D1) = 3.2110214185320387e-15\n",
      "norm(D1 - D2) = 3.14508762904515e-15\n",
      "\n",
      " *** Test no 19 ***\n",
      "Size of matrix 9\n",
      "Exceptional shift\n",
      "norm(D0 - D1) = 2.6413043426588164e-15\n",
      "norm(D1 - D2) = 2.4030622849295204e-15\n",
      "\n",
      " *** Test no 20 ***\n",
      "Size of matrix 10\n",
      "Exceptional shift\n",
      "norm(D0 - D1) = 3.3482014605291036e-15\n",
      "norm(D1 - D2) = 1.9641850382783467e-15\n",
      "\n",
      " *** Test no 21 ***\n",
      "Size of matrix 1\n",
      "norm(D0 - D1) = 0.0\n",
      "norm(D1 - D2) = 0.0\n",
      "\n",
      " *** Test no 22 ***\n",
      "Size of matrix 2\n",
      "norm(D0 - D1) = 0.0\n",
      "norm(D1 - D2) = 0.0\n",
      "\n",
      " *** Test no 23 ***\n",
      "Size of matrix 3\n",
      "norm(D0 - D1) = 6.753223014464259e-16\n",
      "norm(D1 - D2) = 1.1102230246251565e-16\n",
      "\n",
      " *** Test no 24 ***\n",
      "Size of matrix 4\n",
      "norm(D0 - D1) = 7.065416064076988e-16\n",
      "norm(D1 - D2) = 3.925231146709438e-16\n",
      "\n",
      " *** Test no 25 ***\n",
      "Size of matrix 5\n",
      "Exceptional shift\n",
      "norm(D0 - D1) = 1.1644117316690922e-15\n",
      "norm(D1 - D2) = 9.773746735086136e-16\n",
      "\n",
      " *** Test no 26 ***\n",
      "Size of matrix 6\n",
      "norm(D0 - D1) = 1.6504651808933464e-15\n",
      "norm(D1 - D2) = 1.656056835017272e-15\n",
      "\n",
      " *** Test no 27 ***\n",
      "Size of matrix 7\n",
      "norm(D0 - D1) = 2.032041781255059e-15\n",
      "norm(D1 - D2) = 2.3208707134311084e-15\n",
      "\n",
      " *** Test no 28 ***\n",
      "Size of matrix 8\n",
      "Exceptional shift\n",
      "norm(D0 - D1) = 3.2110214185320387e-15\n",
      "norm(D1 - D2) = 3.14508762904515e-15\n",
      "\n",
      " *** Test no 29 ***\n",
      "Size of matrix 9\n",
      "Exceptional shift\n",
      "norm(D0 - D1) = 3.1401849173675503e-16\n",
      "norm(D1 - D2) = 3.6821932062951477e-16\n",
      "\n",
      " *** Test no 30 ***\n",
      "Size of matrix 10\n",
      "Exceptional shift\n",
      "norm(D0 - D1) = 3.3482014605291036e-15\n",
      "norm(D1 - D2) = 1.9641850382783467e-15\n",
      "\n",
      " *** Test no 31 ***\n",
      "Size of matrix 1\n",
      "norm(D0 - D1) = 0.0\n",
      "norm(D1 - D2) = 0.0\n",
      "\n",
      " *** Test no 32 ***\n",
      "Size of matrix 2\n",
      "norm(D0 - D1) = 0.0\n",
      "norm(D1 - D2) = 0.0\n",
      "\n",
      " *** Test no 33 ***\n",
      "Size of matrix 3\n",
      "norm(D0 - D1) = 6.661338147750939e-16\n",
      "norm(D1 - D2) = 0.0\n",
      "\n",
      " *** Test no 34 ***\n",
      "Size of matrix 4\n",
      "Exceptional shift\n",
      "norm(D0 - D1) = 1.3018518929051675e-15\n",
      "norm(D1 - D2) = 1.7554167342883505e-15\n",
      "\n",
      " *** Test no 35 ***\n",
      "Size of matrix 5\n",
      "norm(D0 - D1) = 5.20740757162067e-16\n",
      "norm(D1 - D2) = 5.89255511483504e-15\n",
      "\n",
      " *** Test no 36 ***\n",
      "Size of matrix 6\n",
      "norm(D0 - D1) = 0.0\n",
      "norm(D1 - D2) = 1.4217791915866692e-15\n",
      "\n",
      " *** Test no 37 ***\n",
      "Size of matrix 7\n",
      "Exceptional shift\n",
      "norm(D0 - D1) = 1.0520052997240635e-13\n",
      "norm(D1 - D2) = 1.0543223469134047e-13\n",
      "\n",
      " *** Test no 38 ***\n",
      "Size of matrix 8\n",
      "Exceptional shift\n",
      "Exceptional shift\n",
      "norm(D0 - D1) = 2.1181705310112556e-15\n",
      "norm(D1 - D2) = 2.0932930538913656e-15\n",
      "\n",
      " *** Test no 39 ***\n",
      "Size of matrix 9\n",
      "norm(D0 - D1) = 2.020278949710324e-15\n",
      "norm(D1 - D2) = 3.895823197286622e-14\n",
      "\n",
      " *** Test no 40 ***\n",
      "Size of matrix 10\n",
      "Exceptional shift\n",
      "norm(D0 - D1) = 1.573234210558904e-13\n",
      "norm(D1 - D2) = 1.5724762083819744e-13\n",
      "\n",
      " *** Test no 41 ***\n",
      "Size of matrix 1\n",
      "norm(D0 - D1) = 0.0\n",
      "norm(D1 - D2) = 0.0\n",
      "\n",
      " *** Test no 42 ***\n",
      "Size of matrix 2\n",
      "norm(D0 - D1) = 0.0\n",
      "norm(D1 - D2) = 1.1102230246251565e-16\n",
      "\n",
      " *** Test no 43 ***\n",
      "Size of matrix 3\n",
      "norm(D0 - D1) = 6.473657049138938e-16\n",
      "norm(D1 - D2) = 1.5700924586837752e-16\n",
      "\n",
      " *** Test no 44 ***\n",
      "Size of matrix 4\n",
      "norm(D0 - D1) = 1.518714489757095e-15\n",
      "norm(D1 - D2) = 8.527784864785346e-16\n",
      "\n",
      " *** Test no 45 ***\n",
      "Size of matrix 5\n",
      "norm(D0 - D1) = 1.6031097647355054e-15\n",
      "norm(D1 - D2) = 9.805224261780596e-16\n",
      "\n",
      " *** Test no 46 ***\n",
      "Size of matrix 6\n",
      "norm(D0 - D1) = 2.596889734522116e-15\n",
      "norm(D1 - D2) = 1.92015631799469e-15\n",
      "\n",
      " *** Test no 47 ***\n",
      "Size of matrix 7\n",
      "norm(D0 - D1) = 2.823166392873813e-15\n",
      "norm(D1 - D2) = 4.514015818715853e-16\n",
      "\n",
      " *** Test no 48 ***\n",
      "Size of matrix 8\n",
      "norm(D0 - D1) = 3.2427731182360426e-15\n",
      "norm(D1 - D2) = 1.0362907589042387e-15\n",
      "\n",
      " *** Test no 49 ***\n",
      "Size of matrix 9\n",
      "norm(D0 - D1) = 4.0340702577029156e-15\n",
      "norm(D1 - D2) = 4.612198794310921e-15\n",
      "\n",
      " *** Test no 50 ***\n",
      "Size of matrix 10\n",
      "norm(D0 - D1) = 3.773788754920691e-15\n",
      "norm(D1 - D2) = 1.845380537359574e-15\n"
     ]
    },
    {
     "data": {
      "text/plain": [
       "50-element Array{Float64,1}:\n",
       " 0.0        \n",
       " 0.0        \n",
       " 1.11336e-15\n",
       " 3.18355e-15\n",
       " 3.68219e-16\n",
       " 7.93734e-16\n",
       " 1.12554e-14\n",
       " 1.23272e-14\n",
       " 9.30708e-14\n",
       " 5.33481e-14\n",
       " 0.0        \n",
       " 0.0        \n",
       " 3.68219e-16\n",
       " ⋮          \n",
       " 3.94549e-14\n",
       " 9.77375e-16\n",
       " 0.0        \n",
       " 1.11022e-16\n",
       " 7.02167e-16\n",
       " 1.85153e-15\n",
       " 1.6486e-15 \n",
       " 2.69786e-15\n",
       " 3.00075e-15\n",
       " 2.40563e-15\n",
       " 4.88353e-15\n",
       " 3.41247e-15"
      ]
     },
     "execution_count": 45,
     "metadata": {},
     "output_type": "execute_result"
    }
   ],
   "source": [
    "err = gees_testsuite()"
   ]
  },
  {
   "cell_type": "code",
   "execution_count": 46,
   "metadata": {},
   "outputs": [
    {
     "data": {
      "text/html": [
       "<div id=\"4c13579c-5ed1-44a9-b11a-587352e72868\" class=\"plotly-graph-div\"></div>\n",
       "\n",
       "<script>\n",
       "    window.PLOTLYENV=window.PLOTLYENV || {};\n",
       "    window.PLOTLYENV.BASE_URL=\"https://plot.ly\";\n",
       "    require(['plotly'], function(Plotly) {\n",
       "        Plotly.newPlot('4c13579c-5ed1-44a9-b11a-587352e72868', [{\"showlegend\":true,\"mode\":\"lines\",\"xaxis\":\"x\",\"colorbar\":{\"title\":\"\"},\"line\":{\"color\":\"rgba(0, 154, 250, 1.000)\",\"width\":1,\"dash\":\"solid\",\"shape\":\"linear\"},\"y\":[1.0e-16,1.0e-16,1.2133627712727935e-15,3.28355363380977e-15,4.682193206295148e-16,8.93733533540139e-16,1.1355412092162138e-14,1.2427225756187782e-14,9.317075253455874e-14,5.344805572215396e-14,1.0e-16,1.0e-16,4.682193206295148e-16,2.032952170156116e-15,1.051817968857363e-15,1.5686870114880516e-15,1.2834425442573872e-15,2.1411201962889075e-15,3.1657035291446092e-15,2.8319157601378223e-15,1.0e-16,1.0e-16,7.66133814775094e-16,4.845925372767127e-16,1.051817968857363e-15,3.115027253194862e-15,1.176401158743041e-15,2.1411201962889075e-15,7.181460191301303e-16,2.8319157601378223e-15,1.0e-16,1.0e-16,7.66133814775094e-16,2.341166056980587e-15,5.850698067283841e-15,1.5217791915866693e-15,9.706583865735264e-16,1.2403455171351628e-15,3.955488389574925e-14,1.0773746735086136e-15,1.0e-16,2.1102230246251565e-16,8.021666937153402e-16,1.9515278288508872e-15,1.7485970816179638e-15,2.7978647938375716e-15,3.1007487169018474e-15,2.5056255520954974e-15,4.983532205058584e-15,3.5124687274380968e-15],\"type\":\"scatter\",\"name\":\"Error\",\"yaxis\":\"y\",\"x\":[1,2,3,4,5,6,7,8,9,10,11,12,13,14,15,16,17,18,19,20,21,22,23,24,25,26,27,28,29,30,31,32,33,34,35,36,37,38,39,40,41,42,43,44,45,46,47,48,49,50]}],\n",
       "               {\"showlegend\":true,\"xaxis\":{\"gridwidth\":0.5,\"tickvals\":[10.0,20.0,30.0,40.0,50.0],\"visible\":true,\"ticks\":\"inside\",\"tickmode\":\"array\",\"domain\":[0.1505431612715077,0.9934383202099738],\"linecolor\":\"rgba(0, 0, 0, 1.000)\",\"showgrid\":true,\"title\":\"Test index\",\"mirror\":false,\"tickangle\":0,\"showline\":true,\"gridcolor\":\"rgba(0, 0, 0, 0.100)\",\"titlefont\":{\"color\":\"rgba(0, 0, 0, 1.000)\",\"family\":\"sans-serif\",\"size\":15},\"tickcolor\":\"rgb(0, 0, 0)\",\"ticktext\":[\"10\",\"20\",\"30\",\"40\",\"50\"],\"zeroline\":false,\"type\":\"-\",\"tickfont\":{\"color\":\"rgba(0, 0, 0, 1.000)\",\"family\":\"sans-serif\",\"size\":11},\"zerolinecolor\":\"rgba(0, 0, 0, 1.000)\",\"anchor\":\"y\"},\"paper_bgcolor\":\"rgba(255, 255, 255, 1.000)\",\"annotations\":[],\"height\":400,\"margin\":{\"l\":0,\"b\":20,\"r\":0,\"t\":20},\"plot_bgcolor\":\"rgba(255, 255, 255, 1.000)\",\"yaxis\":{\"gridwidth\":0.5,\"tickvals\":[1.0e-16,3.1622776601683793e-16,1.0e-15,3.1622776601683794e-15,1.0e-14,3.1622776601683796e-14],\"visible\":true,\"ticks\":\"inside\",\"tickmode\":\"array\",\"domain\":[0.07581474190726165,0.9901574803149606],\"linecolor\":\"rgba(0, 0, 0, 1.000)\",\"showgrid\":true,\"title\":\"Error\",\"mirror\":false,\"tickangle\":0,\"showline\":true,\"gridcolor\":\"rgba(0, 0, 0, 0.100)\",\"titlefont\":{\"color\":\"rgba(0, 0, 0, 1.000)\",\"family\":\"sans-serif\",\"size\":15},\"tickcolor\":\"rgb(0, 0, 0)\",\"ticktext\":[\"10^-16.0\",\"10^-15.5\",\"10^-15.0\",\"10^-14.5\",\"10^-14.0\",\"10^-13.5\"],\"zeroline\":false,\"type\":\"log\",\"tickfont\":{\"color\":\"rgba(0, 0, 0, 1.000)\",\"family\":\"sans-serif\",\"size\":11},\"zerolinecolor\":\"rgba(0, 0, 0, 1.000)\",\"anchor\":\"x\"},\"legend\":{\"bordercolor\":\"rgba(0, 0, 0, 1.000)\",\"bgcolor\":\"rgba(255, 255, 255, 1.000)\",\"font\":{\"color\":\"rgba(0, 0, 0, 1.000)\",\"family\":\"sans-serif\",\"size\":11},\"y\":1.0,\"x\":1.0},\"width\":600}, {showLink: false});\n",
       "\n",
       "    });\n",
       " </script>\n"
      ]
     },
     "execution_count": 46,
     "metadata": {},
     "output_type": "execute_result"
    }
   ],
   "source": [
    "# Plot error at each step of the test suite\n",
    "using Plots\n",
    "plotlyjs()\n",
    "plot(err + 1e-16,yscale=:log10,lab=\"Error\")\n",
    "xlabel!(\"Test index\")\n",
    "ylabel!(\"Error\")"
   ]
  }
 ],
 "metadata": {
  "anaconda-cloud": {},
  "kernelspec": {
   "display_name": "Julia 0.6.0",
   "language": "julia",
   "name": "julia-0.6"
  },
  "language_info": {
   "file_extension": ".jl",
   "mimetype": "application/julia",
   "name": "julia",
   "version": "0.6.0"
  }
 },
 "nbformat": 4,
 "nbformat_minor": 1
}
