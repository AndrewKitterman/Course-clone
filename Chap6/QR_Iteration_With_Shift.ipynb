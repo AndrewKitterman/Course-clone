{
 "cells": [
  {
   "cell_type": "code",
   "execution_count": 1,
   "metadata": {},
   "outputs": [],
   "source": [
    "using Printf\n",
    "using Random\n",
    "using LinearAlgebra\n",
    "rng = MersenneTwister(18);"
   ]
  },
  {
   "cell_type": "code",
   "execution_count": 2,
   "metadata": {},
   "outputs": [
    {
     "data": {
      "text/plain": [
       "gees_testsuite (generic function with 1 method)"
      ]
     },
     "execution_count": 2,
     "metadata": {},
     "output_type": "execute_result"
    }
   ],
   "source": [
    "include(\"../src/gees.jl\")"
   ]
  },
  {
   "cell_type": "code",
   "execution_count": 3,
   "metadata": {},
   "outputs": [
    {
     "name": "stdout",
     "output_type": "stream",
     "text": [
      "Matrix A\n",
      " -5.4e-01  1.9e+00  3.5e+00 -3.8e+00\n",
      " -1.2e+00  2.7e+00  4.4e+00 -4.8e+00\n",
      " -1.4e+00  2.5e+00  5.8e+00 -6.1e+00\n",
      " -1.6e+00  2.6e+00  6.4e+00 -6.4e+00\n"
     ]
    },
    {
     "data": {
      "text/plain": [
       "4-element Array{Complex{Float64},1}:\n",
       "     0.5000000000000014 + 0.0im\n",
       " -2.254489997466358e-15 - 0.9999999999999979im\n",
       " -2.254489997466358e-15 + 0.9999999999999979im\n",
       "     1.0000000000000002 + 0.0im"
      ]
     },
     "execution_count": 3,
     "metadata": {},
     "output_type": "execute_result"
    }
   ],
   "source": [
    "n = 4\n",
    "Λ = diagm(0 => Float32[2.0^(-i) for i=0:n-3])\n",
    "A = zeros(n,n)\n",
    "A[1:n-2,1:n-2] = Λ\n",
    "A[n-1:n,n-1:n] = [0 1; -1 0]\n",
    "X = rand(rng, n, n)\n",
    "\n",
    "# Λ = diagm(Float32[2.0^(-i) for i=0:n-1])\n",
    "# A = Λ\n",
    "# X, = qr(rand(rng, n, n))\n",
    "\n",
    "A = X * A / X\n",
    "\n",
    "println(\"Matrix A\")\n",
    "pretty_print(A)\n",
    "Λ = eigenvalue_sorted(A)"
   ]
  },
  {
   "cell_type": "code",
   "execution_count": 4,
   "metadata": {},
   "outputs": [
    {
     "data": {
      "text/plain": [
       "4×4 Array{Float64,2}:\n",
       " -0.539952  -0.357157  -0.092044  -5.49345\n",
       "  2.47328    0.960772   1.00985   14.52\n",
       "  0.0       -0.177055   0.608983   0.640705\n",
       "  0.0        0.0       -0.337349   0.470196"
      ]
     },
     "execution_count": 4,
     "metadata": {},
     "output_type": "execute_result"
    }
   ],
   "source": [
    "# Applying Householder reflections to make matrix A upper Hessenberg\n",
    "gehrd!(A)\n",
    "A0 = copy(A)"
   ]
  },
  {
   "cell_type": "code",
   "execution_count": 5,
   "metadata": {},
   "outputs": [
    {
     "name": "stdout",
     "output_type": "stream",
     "text": [
      "Norm for lower part of matrix = 0.0\n",
      "Matrix A\n"
     ]
    },
    {
     "data": {
      "text/plain": [
       "4×4 Array{Float64,2}:\n",
       " -0.539952  -0.357157  -0.092044  -5.49345\n",
       "  2.47328    0.960772   1.00985   14.52\n",
       "  0.0       -0.177055   0.608983   0.640705\n",
       "  0.0        0.0       -0.337349   0.470196"
      ]
     },
     "execution_count": 5,
     "metadata": {},
     "output_type": "execute_result"
    }
   ],
   "source": [
    "# Checking that A is upper Hessenberg now\n",
    "println(\"Norm for lower part of matrix = \",norm(tril(A,-2)))\n",
    "println(\"Matrix A\")\n",
    "A"
   ]
  },
  {
   "cell_type": "code",
   "execution_count": 6,
   "metadata": {},
   "outputs": [
    {
     "name": "stdout",
     "output_type": "stream",
     "text": [
      "6.5876948602543385e-15\n"
     ]
    }
   ],
   "source": [
    "# Checking that the eigenvalues are the same\n",
    "D = eigenvalue_sorted(A)\n",
    "println(norm(D-Λ))"
   ]
  },
  {
   "cell_type": "code",
   "execution_count": 7,
   "metadata": {},
   "outputs": [
    {
     "data": {
      "text/plain": [
       "4×4 Array{Float64,2}:\n",
       "  0.451537   2.47787   12.6387     8.84444\n",
       " -0.222977   0.397203  -0.96249   -0.312148\n",
       "  0.0       -0.343572  -0.614769  -0.889788\n",
       "  0.0        0.0        1.48843    1.26603"
      ]
     },
     "execution_count": 7,
     "metadata": {},
     "output_type": "execute_result"
    }
   ],
   "source": [
    "# Sequential version of QR iteration using Givens rotations\n",
    "givens_QR_iteration_s!(A)\n",
    "A"
   ]
  },
  {
   "cell_type": "code",
   "execution_count": 8,
   "metadata": {},
   "outputs": [
    {
     "name": "stdout",
     "output_type": "stream",
     "text": [
      "norm(tril(A, -2)) = 0.0\n",
      "norm(D - Λ) = 8.591904876735825e-15\n"
     ]
    },
    {
     "data": {
      "text/plain": [
       "8.591904876735825e-15"
      ]
     },
     "execution_count": 8,
     "metadata": {},
     "output_type": "execute_result"
    }
   ],
   "source": [
    "# Testing the result\n",
    "D = eigenvalue_sorted(A)\n",
    "@show norm(tril(A,-2))\n",
    "@show norm(D-Λ)"
   ]
  },
  {
   "cell_type": "code",
   "execution_count": 9,
   "metadata": {},
   "outputs": [
    {
     "data": {
      "text/plain": [
       "4×4 Array{Float64,2}:\n",
       "  0.451537      2.47787   12.6387     8.84444\n",
       " -0.222977      0.397203  -0.96249   -0.312148\n",
       " -1.38778e-17  -0.343572  -0.614769  -0.889788\n",
       "  0.0           0.0        1.48843    1.26603"
      ]
     },
     "execution_count": 9,
     "metadata": {},
     "output_type": "execute_result"
    }
   ],
   "source": [
    "# QR iteration with bulge chasing\n",
    "A = copy(A0)\n",
    "givens_QR_iteration!(A)\n",
    "A"
   ]
  },
  {
   "cell_type": "code",
   "execution_count": 10,
   "metadata": {},
   "outputs": [
    {
     "name": "stdout",
     "output_type": "stream",
     "text": [
      "norm(tril(A, -2)) = 1.3877787807814457e-17\n",
      "norm(D - Λ) = 7.421766257945797e-15\n"
     ]
    },
    {
     "data": {
      "text/plain": [
       "7.421766257945797e-15"
      ]
     },
     "execution_count": 10,
     "metadata": {},
     "output_type": "execute_result"
    }
   ],
   "source": [
    "# Testing the result\n",
    "D = eigenvalue_sorted(A)\n",
    "@show norm(tril(A,-2))\n",
    "@show norm(D-Λ)"
   ]
  },
  {
   "cell_type": "code",
   "execution_count": 11,
   "metadata": {},
   "outputs": [
    {
     "data": {
      "text/plain": [
       "4×4 Array{Float64,2}:\n",
       "  0.468597     -9.28401      11.4643    4.48211\n",
       "  0.170054     -1.3458        2.30061   0.703774\n",
       " -2.77556e-17  -0.855179      1.9012    0.395864\n",
       " -1.38778e-17   1.11022e-16   0.594268  0.476006"
      ]
     },
     "execution_count": 11,
     "metadata": {},
     "output_type": "execute_result"
    }
   ],
   "source": [
    "# Single step of QR iteration with double real shift\n",
    "A = copy(A0)\n",
    "gees_single_step!(A, false) # false: exceptional_shift is not applied\n",
    "A"
   ]
  },
  {
   "cell_type": "code",
   "execution_count": 12,
   "metadata": {},
   "outputs": [
    {
     "name": "stdout",
     "output_type": "stream",
     "text": [
      "norm(tril(A, -2)) = 1.1527756336890508e-16\n",
      "norm(D - Λ) = 8.282747520521628e-15\n"
     ]
    },
    {
     "data": {
      "text/plain": [
       "8.282747520521628e-15"
      ]
     },
     "execution_count": 12,
     "metadata": {},
     "output_type": "execute_result"
    }
   ],
   "source": [
    "# Testing the result\n",
    "D = eigenvalue_sorted(A)\n",
    "@show norm(tril(A,-2))\n",
    "@show norm(D-Λ)"
   ]
  },
  {
   "cell_type": "code",
   "execution_count": 13,
   "metadata": {},
   "outputs": [
    {
     "name": "stdout",
     "output_type": "stream",
     "text": [
      "\n",
      " *** Test no 1 ***\n",
      "Size of matrix 1\n",
      "norm(D0 - D1) = 0.0\n",
      "norm(D1 - D2) = 0.0\n",
      "\n",
      " *** Test no 2 ***\n",
      "Size of matrix 2\n",
      "norm(D0 - D1) = 0.0\n",
      "norm(D1 - D2) = 0.0\n",
      "\n",
      " *** Test no 3 ***\n",
      "Size of matrix 3\n",
      "norm(D0 - D1) = 1.336327202703161e-15\n",
      "norm(D1 - D2) = 2.237726045655905e-16\n",
      "\n",
      " *** Test no 4 ***\n",
      "Size of matrix 4\n",
      "norm(D0 - D1) = 2.754662226278516e-15\n",
      "norm(D1 - D2) = 4.458205583648681e-16\n",
      "\n",
      " *** Test no 5 ***\n",
      "Size of matrix 3\n",
      "Exceptional shift\n",
      "norm(D0 - D1) = 3.6821932062951477e-16\n",
      "norm(D1 - D2) = 0.0\n",
      "\n",
      " *** Test no 6 ***\n",
      "Size of matrix 4\n",
      "Exceptional shift\n",
      "norm(D0 - D1) = 8.0051527712734e-16\n",
      "norm(D1 - D2) = 3.920818324662287e-17\n",
      "\n",
      " *** Test no 7 ***\n",
      "Size of matrix 7\n",
      "norm(D0 - D1) = 1.3551551429195005e-14\n",
      "norm(D1 - D2) = 6.2967088217668685e-15\n",
      "\n",
      " *** Test no 8 ***\n",
      "Size of matrix 8\n",
      "norm(D0 - D1) = 1.2335472145246274e-14\n",
      "norm(D1 - D2) = 8.638897829988681e-15\n",
      "\n",
      " *** Test no 9 ***\n",
      "Size of matrix 9\n",
      "Exceptional shift\n",
      "norm(D0 - D1) = 1.7151933610150863e-13\n",
      "norm(D1 - D2) = 8.36672940130322e-15\n",
      "\n",
      " *** Test no 10 ***\n",
      "Size of matrix 10\n",
      "Exceptional shift\n",
      "norm(D0 - D1) = 1.0998197182864726e-14\n",
      "norm(D1 - D2) = 1.0329428672392108e-14\n",
      "\n",
      " *** Test no 11 ***\n",
      "Size of matrix 1\n",
      "norm(D0 - D1) = 0.0\n",
      "norm(D1 - D2) = 0.0\n",
      "\n",
      " *** Test no 12 ***\n",
      "Size of matrix 2\n",
      "norm(D0 - D1) = 0.0\n",
      "norm(D1 - D2) = 0.0\n",
      "\n",
      " *** Test no 13 ***\n",
      "Size of matrix 3\n",
      "Exceptional shift\n",
      "norm(D0 - D1) = 3.6821932062951477e-16\n",
      "norm(D1 - D2) = 0.0\n",
      "\n",
      " *** Test no 14 ***\n",
      "Size of matrix 4\n",
      "Exceptional shift\n",
      "norm(D0 - D1) = 7.889616961715915e-16\n",
      "norm(D1 - D2) = 1.6805307704560016e-15\n",
      "\n",
      " *** Test no 15 ***\n",
      "Size of matrix 5\n",
      "Exceptional shift\n",
      "norm(D0 - D1) = 1.3414875847488985e-15\n",
      "norm(D1 - D2) = 1.1537776118301384e-15\n",
      "\n",
      " *** Test no 16 ***\n",
      "Size of matrix 6\n",
      "Exceptional shift\n",
      "norm(D0 - D1) = 2.257605148121872e-15\n",
      "norm(D1 - D2) = 1.1775693440128313e-15\n",
      "\n",
      " *** Test no 17 ***\n",
      "Size of matrix 7\n",
      "Exceptional shift\n",
      "norm(D0 - D1) = 1.7940496434212595e-15\n",
      "norm(D1 - D2) = 1.6260124930807873e-15\n",
      "\n",
      " *** Test no 18 ***\n",
      "Size of matrix 8\n",
      "Exceptional shift\n",
      "norm(D0 - D1) = 3.2110214185320387e-15\n",
      "norm(D1 - D2) = 3.14508762904515e-15\n",
      "\n",
      " *** Test no 19 ***\n",
      "Size of matrix 9\n",
      "Exceptional shift\n",
      "norm(D0 - D1) = 2.6413043426588164e-15\n",
      "norm(D1 - D2) = 2.4030622849295204e-15\n",
      "\n",
      " *** Test no 20 ***\n",
      "Size of matrix 10\n",
      "Exceptional shift\n",
      "norm(D0 - D1) = 3.3482014605291036e-15\n",
      "norm(D1 - D2) = 1.9641850382783467e-15\n",
      "\n",
      " *** Test no 21 ***\n",
      "Size of matrix 1\n",
      "norm(D0 - D1) = 0.0\n",
      "norm(D1 - D2) = 0.0\n",
      "\n",
      " *** Test no 22 ***\n",
      "Size of matrix 2\n",
      "norm(D0 - D1) = 0.0\n",
      "norm(D1 - D2) = 0.0\n",
      "\n",
      " *** Test no 23 ***\n",
      "Size of matrix 3\n",
      "norm(D0 - D1) = 6.753223014464259e-16\n",
      "norm(D1 - D2) = 1.1102230246251565e-16\n",
      "\n",
      " *** Test no 24 ***\n",
      "Size of matrix 4\n",
      "norm(D0 - D1) = 7.065416064076988e-16\n",
      "norm(D1 - D2) = 3.925231146709438e-16\n",
      "\n",
      " *** Test no 25 ***\n",
      "Size of matrix 5\n",
      "Exceptional shift\n",
      "norm(D0 - D1) = 1.3414875847488985e-15\n",
      "norm(D1 - D2) = 1.1537776118301384e-15\n",
      "\n",
      " *** Test no 26 ***\n",
      "Size of matrix 6\n",
      "norm(D0 - D1) = 1.6504651808933464e-15\n",
      "norm(D1 - D2) = 1.656056835017272e-15\n",
      "\n",
      " *** Test no 27 ***\n",
      "Size of matrix 7\n",
      "norm(D0 - D1) = 2.032041781255059e-15\n",
      "norm(D1 - D2) = 2.3208707134311084e-15\n",
      "\n",
      " *** Test no 28 ***\n",
      "Size of matrix 8\n",
      "Exceptional shift\n",
      "norm(D0 - D1) = 3.2110214185320387e-15\n",
      "norm(D1 - D2) = 3.14508762904515e-15\n",
      "\n",
      " *** Test no 29 ***\n",
      "Size of matrix 9\n",
      "Exceptional shift\n",
      "norm(D0 - D1) = 0.0\n",
      "norm(D1 - D2) = 3.6821932062951477e-16\n",
      "\n",
      " *** Test no 30 ***\n",
      "Size of matrix 10\n",
      "Exceptional shift\n",
      "norm(D0 - D1) = 3.3482014605291036e-15\n",
      "norm(D1 - D2) = 1.9641850382783467e-15\n",
      "\n",
      " *** Test no 31 ***\n",
      "Size of matrix 1\n",
      "norm(D0 - D1) = 0.0\n",
      "norm(D1 - D2) = 0.0\n",
      "\n",
      " *** Test no 32 ***\n",
      "Size of matrix 2\n",
      "norm(D0 - D1) = 0.0\n",
      "norm(D1 - D2) = 0.0\n",
      "\n",
      " *** Test no 33 ***\n",
      "Size of matrix 3\n",
      "norm(D0 - D1) = 6.661338147750939e-16\n",
      "norm(D1 - D2) = 0.0\n",
      "\n",
      " *** Test no 34 ***\n",
      "Size of matrix 4\n",
      "Exceptional shift\n",
      "norm(D0 - D1) = 1.3018518929051675e-15\n",
      "norm(D1 - D2) = 1.7554167342883505e-15\n",
      "\n",
      " *** Test no 35 ***\n",
      "Size of matrix 5\n",
      "norm(D0 - D1) = 5.20740757162067e-16\n",
      "norm(D1 - D2) = 5.89255511483504e-15\n",
      "\n",
      " *** Test no 36 ***\n",
      "Size of matrix 6\n",
      "norm(D0 - D1) = 0.0\n",
      "norm(D1 - D2) = 1.4217791915866692e-15\n",
      "\n",
      " *** Test no 37 ***\n",
      "Size of matrix 7\n",
      "Exceptional shift\n",
      "norm(D0 - D1) = 9.550499576785472e-16\n",
      "norm(D1 - D2) = 4.079219866531555e-16\n",
      "\n",
      " *** Test no 38 ***\n",
      "Size of matrix 8\n",
      "Exceptional shift\n",
      "Exceptional shift\n",
      "norm(D0 - D1) = 2.220446049250313e-15\n",
      "norm(D1 - D2) = 2.1812421540521875e-15\n",
      "\n",
      " *** Test no 39 ***\n",
      "Size of matrix 9\n",
      "norm(D0 - D1) = 2.020278949710324e-15\n",
      "norm(D1 - D2) = 1.246265869255606e-15\n",
      "\n",
      " *** Test no 40 ***\n",
      "Size of matrix 10\n",
      "Exceptional shift\n",
      "norm(D0 - D1) = 2.220446049250313e-16\n",
      "norm(D1 - D2) = 9.28879225241625e-16\n",
      "\n",
      " *** Test no 41 ***\n",
      "Size of matrix 1\n",
      "norm(D0 - D1) = 0.0\n",
      "norm(D1 - D2) = 0.0\n",
      "\n",
      " *** Test no 42 ***\n",
      "Size of matrix 2\n",
      "norm(D0 - D1) = 0.0\n",
      "norm(D1 - D2) = 1.1102230246251565e-16\n",
      "\n",
      " *** Test no 43 ***\n",
      "Size of matrix 3\n",
      "norm(D0 - D1) = 7.928578270080922e-16\n",
      "norm(D1 - D2) = 0.0\n",
      "\n",
      " *** Test no 44 ***\n",
      "Size of matrix 4\n",
      "norm(D0 - D1) = 1.518714489757095e-15\n",
      "norm(D1 - D2) = 8.527784864785346e-16\n",
      "\n",
      " *** Test no 45 ***\n",
      "Size of matrix 5\n",
      "norm(D0 - D1) = 2.1152589550219202e-15\n",
      "norm(D1 - D2) = 1.1537776118301384e-15\n",
      "\n",
      " *** Test no 46 ***\n",
      "Size of matrix 6\n",
      "norm(D0 - D1) = 1.7558555336288595e-15\n",
      "norm(D1 - D2) = 1.0656117000158708e-15\n",
      "\n",
      " *** Test no 47 ***\n",
      "Size of matrix 7\n",
      "norm(D0 - D1) = 2.8166097754072895e-15\n",
      "norm(D1 - D2) = 1.916542091876757e-15\n",
      "\n",
      " *** Test no 48 ***\n",
      "Size of matrix 8\n",
      "norm(D0 - D1) = 2.3772776086965327e-15\n",
      "norm(D1 - D2) = 1.5463617361248926e-15\n",
      "\n",
      " *** Test no 49 ***\n",
      "Size of matrix 9\n",
      "norm(D0 - D1) = 2.2618293006768036e-15\n",
      "norm(D1 - D2) = 1.737995547973855e-15\n",
      "\n",
      " *** Test no 50 ***\n",
      "Size of matrix 10\n",
      "norm(D0 - D1) = 3.889941694558112e-15\n",
      "norm(D1 - D2) = 3.4952745255882252e-15\n"
     ]
    }
   ],
   "source": [
    "err = gees_testsuite()\n",
    ";"
   ]
  },
  {
   "cell_type": "code",
   "execution_count": 14,
   "metadata": {},
   "outputs": [
    {
     "data": {
      "text/html": [
       "<script>\n",
       "// Immediately-invoked-function-expression to avoid global variables.\n",
       "(function() {\n",
       "    var warning_div = document.getElementById(\"webio-warning-6563658632370931904\");\n",
       "    var hide = function () {\n",
       "        var script = document.getElementById(\"webio-setup-8412760803590903560\");\n",
       "        var parent = script && script.parentElement;\n",
       "        var grandparent = parent && parent.parentElement;\n",
       "        if (grandparent) {\n",
       "            grandparent.style.display = \"none\";\n",
       "        }\n",
       "        warning_div.style.display = \"none\";\n",
       "    };\n",
       "    if (typeof Jupyter !== \"undefined\") {\n",
       "        console.log(\"WebIO detected Jupyter notebook environment.\");\n",
       "        // Jupyter notebook.\n",
       "        var extensions = (\n",
       "            Jupyter\n",
       "            && Jupyter.notebook.config.data\n",
       "            && Jupyter.notebook.config.data.load_extensions\n",
       "        );\n",
       "        if (extensions && extensions[\"webio-jupyter-notebook\"]) {\n",
       "            // Extension already loaded.\n",
       "            console.log(\"Jupyter WebIO nbextension detected; not loading ad-hoc.\");\n",
       "            hide();\n",
       "            return;\n",
       "        }\n",
       "    } else if (window.location.pathname.includes(\"/lab\")) {\n",
       "        // Guessing JupyterLa\n",
       "        console.log(\"Jupyter Lab detected; make sure the @webio/jupyter-lab-provider labextension is installed.\");\n",
       "        hide();\n",
       "        return;\n",
       "    }\n",
       "})();\n",
       "\n",
       "</script>\n",
       "<p\n",
       "    id=\"webio-warning-6563658632370931904\"\n",
       "    class=\"output_text output_stderr\"\n",
       "    style=\"padding: 1em; font-weight: bold;\"\n",
       ">\n",
       "    Unable to load WebIO. Please make sure WebIO works for your Jupyter client.\n",
       "    For troubleshooting, please see <a href=\"https://juliagizmos.github.io/WebIO.jl/latest/providers/ijulia/\">\n",
       "    the WebIO/IJulia documentation</a>.\n",
       "    <!-- TODO: link to installation docs. -->\n",
       "</p>\n"
      ],
      "text/plain": [
       "HTML{String}(\"<script>\\n// Immediately-invoked-function-expression to avoid global variables.\\n(function() {\\n    var warning_div = document.getElementById(\\\"webio-warning-6563658632370931904\\\");\\n    var hide = function () {\\n        var script = document.getElementById(\\\"webio-setup-8412760803590903560\\\");\\n        var parent = script && script.parentElement;\\n        var grandparent = parent && parent.parentElement;\\n        if (grandparent) {\\n            grandparent.style.display = \\\"none\\\";\\n        }\\n        warning_div.style.display = \\\"none\\\";\\n    };\\n    if (typeof Jupyter !== \\\"undefined\\\") {\\n        console.log(\\\"WebIO detected Jupyter notebook environment.\\\");\\n        // Jupyter notebook.\\n        var extensions = (\\n            Jupyter\\n            && Jupyter.notebook.config.data\\n            && Jupyter.notebook.config.data.load_extensions\\n        );\\n        if (extensions && extensions[\\\"webio-jupyter-notebook\\\"]) {\\n            // Extension already loaded.\\n            console.log(\\\"Jupyter WebIO nbextension detected; not loading ad-hoc.\\\");\\n            hide();\\n            return;\\n        }\\n    } else if (window.location.pathname.includes(\\\"/lab\\\")) {\\n        // Guessing JupyterLa\\n        console.log(\\\"Jupyter Lab detected; make sure the @webio/jupyter-lab-provider labextension is installed.\\\");\\n        hide();\\n        return;\\n    }\\n})();\\n\\n</script>\\n<p\\n    id=\\\"webio-warning-6563658632370931904\\\"\\n    class=\\\"output_text output_stderr\\\"\\n    style=\\\"padding: 1em; font-weight: bold;\\\"\\n>\\n    Unable to load WebIO. Please make sure WebIO works for your Jupyter client.\\n    For troubleshooting, please see <a href=\\\"https://juliagizmos.github.io/WebIO.jl/latest/providers/ijulia/\\\">\\n    the WebIO/IJulia documentation</a>.\\n    <!-- TODO: link to installation docs. -->\\n</p>\\n\")"
      ]
     },
     "metadata": {},
     "output_type": "display_data"
    },
    {
     "data": {
      "application/vnd.plotly.v1+json": {
       "data": [
        {
         "name": "Error",
         "type": "scatter",
         "y": [
          1e-16,
          1e-16,
          1.2133627712727935e-15,
          3.28355363380977e-15,
          4.682193206295148e-16,
          8.93733533540139e-16,
          1.03764058230777e-14,
          8.707451065480633e-15,
          1.7815258004021908e-13,
          1.091564126287314e-14,
          1e-16,
          1e-16,
          4.682193206295148e-16,
          2.032952170156116e-15,
          1.0288792252416251e-15,
          1.5686870114880516e-15,
          2.10032798622099e-15,
          2.1411201962889075e-15,
          3.1657035291446092e-15,
          2.8319157601378223e-15,
          1e-16,
          1e-16,
          7.66133814775094e-16,
          4.845925372767127e-16,
          1.0288792252416251e-15,
          3.115027253194862e-15,
          1.176401158743041e-15,
          2.1411201962889075e-15,
          4.682193206295148e-16,
          2.8319157601378223e-15,
          1e-16,
          1e-16,
          7.66133814775094e-16,
          2.341166056980587e-15,
          5.850698067283841e-15,
          1.5217791915866693e-15,
          9.706583865735264e-16,
          1.2212702919885051e-15,
          2.0532463489002323e-15,
          1.0550499576785473e-15,
          1e-16,
          2.1102230246251565e-16,
          8.928578270080922e-16,
          1.9515278288508872e-15,
          1.2046579618885444e-15,
          1.3755491433176289e-15,
          2.4265067194628704e-15,
          2.7795273524776e-15,
          3.1033830194726017e-15,
          2.6728235887559274e-15
         ]
        }
       ],
       "frames": [],
       "layout": {
        "margin": {
         "b": 50,
         "l": 50,
         "r": 50,
         "t": 60
        },
        "xaxis": {
         "title": "Test index"
        },
        "yaxis": {
         "exponentformat": "power",
         "title": "Error",
         "type": "log"
        }
       }
      },
      "application/vnd.webio.node+json": {
       "children": [
        {
         "children": [],
         "instanceArgs": {
          "namespace": "html",
          "tag": "div"
         },
         "nodeType": "DOM",
         "props": {
          "id": "plot-29f4d1da-03e2-46a6-bc7e-7433f925853d"
         },
         "type": "node"
        }
       ],
       "instanceArgs": {
        "handlers": {
         "__get_gd_contents": [
          "(function (prop){prop==\"data\" ? (WebIO.setval({\"name\":\"__gd_contents\",\"scope\":\"15143990276762644848\",\"id\":\"8885184428536296617\",\"type\":\"observable\"},this.plotElem.data)) : undefined; return prop==\"layout\" ? (WebIO.setval({\"name\":\"__gd_contents\",\"scope\":\"15143990276762644848\",\"id\":\"8885184428536296617\",\"type\":\"observable\"},this.plotElem.layout)) : undefined})"
         ],
         "_commands": [
          "(function (args){var fn=args.shift(); var elem=this.plotElem; var Plotly=this.Plotly; args.unshift(elem); return Plotly[fn].apply(this,args)})"
         ],
         "_downloadImage": [
          "(function (options){return this.Plotly.downloadImage(this.plotElem,options)})"
         ],
         "_toImage": [
          "(function (options){return this.Plotly.toImage(this.plotElem,options).then((function (data){return WebIO.setval({\"name\":\"image\",\"scope\":\"15143990276762644848\",\"id\":\"918765450108610094\",\"type\":\"observable\"},data)}))})"
         ]
        },
        "id": "15143990276762644848",
        "imports": {
         "data": [
          {
           "name": "Plotly",
           "type": "js",
           "url": "/assetserver/57533c5d787f8bc76a9e58ed0a1abce5f1b0c14d-plotly-latest.min.js"
          },
          {
           "name": null,
           "type": "js",
           "url": "/assetserver/58a7932c57029f7dbaa4105104076ff149fc7585-plotly_webio.bundle.js"
          }
         ],
         "type": "async_block"
        },
        "mount_callbacks": [
         "function () {\n    var handler = ((function (Plotly,PlotlyWebIO){PlotlyWebIO.init(WebIO); var gd=this.dom.querySelector(\"#plot-29f4d1da-03e2-46a6-bc7e-7433f925853d\"); this.plotElem=gd; this.Plotly=Plotly; (window.Blink!==undefined) ? (gd.style.width=\"100%\", gd.style.height=\"100vh\", gd.style.marginLeft=\"0%\", gd.style.marginTop=\"0vh\") : undefined; window.onresize=(function (){return Plotly.Plots.resize(gd)}); Plotly.newPlot(gd,[{\"y\":[1.0e-16,1.0e-16,1.2133627712727935e-15,3.28355363380977e-15,4.682193206295148e-16,8.93733533540139e-16,1.03764058230777e-14,8.707451065480633e-15,1.7815258004021908e-13,1.091564126287314e-14,1.0e-16,1.0e-16,4.682193206295148e-16,2.032952170156116e-15,1.0288792252416251e-15,1.5686870114880516e-15,2.10032798622099e-15,2.1411201962889075e-15,3.1657035291446092e-15,2.8319157601378223e-15,1.0e-16,1.0e-16,7.66133814775094e-16,4.845925372767127e-16,1.0288792252416251e-15,3.115027253194862e-15,1.176401158743041e-15,2.1411201962889075e-15,4.682193206295148e-16,2.8319157601378223e-15,1.0e-16,1.0e-16,7.66133814775094e-16,2.341166056980587e-15,5.850698067283841e-15,1.5217791915866693e-15,9.706583865735264e-16,1.2212702919885051e-15,2.0532463489002323e-15,1.0550499576785473e-15,1.0e-16,2.1102230246251565e-16,8.928578270080922e-16,1.9515278288508872e-15,1.2046579618885444e-15,1.3755491433176289e-15,2.4265067194628704e-15,2.7795273524776e-15,3.1033830194726017e-15,2.6728235887559274e-15],\"type\":\"scatter\",\"name\":\"Error\"}],{\"xaxis\":{\"title\":\"Test index\"},\"margin\":{\"l\":50,\"b\":50,\"r\":50,\"t\":60},\"yaxis\":{\"type\":\"log\",\"title\":\"Error\",\"exponentformat\":\"power\"}},{}); gd.on(\"plotly_hover\",(function (data){var filtered_data=WebIO.PlotlyCommands.filterEventData(gd,data,\"hover\"); return !(filtered_data.isnil) ? (WebIO.setval({\"name\":\"hover\",\"scope\":\"15143990276762644848\",\"id\":\"14185130433105578855\",\"type\":\"observable\"},filtered_data.out)) : undefined})); gd.on(\"plotly_unhover\",(function (){return WebIO.setval({\"name\":\"hover\",\"scope\":\"15143990276762644848\",\"id\":\"14185130433105578855\",\"type\":\"observable\"},{})})); gd.on(\"plotly_selected\",(function (data){var filtered_data=WebIO.PlotlyCommands.filterEventData(gd,data,\"selected\"); return !(filtered_data.isnil) ? (WebIO.setval({\"name\":\"selected\",\"scope\":\"15143990276762644848\",\"id\":\"1038935474010712710\",\"type\":\"observable\"},filtered_data.out)) : undefined})); gd.on(\"plotly_deselect\",(function (){return WebIO.setval({\"name\":\"selected\",\"scope\":\"15143990276762644848\",\"id\":\"1038935474010712710\",\"type\":\"observable\"},{})})); gd.on(\"plotly_relayout\",(function (data){var filtered_data=WebIO.PlotlyCommands.filterEventData(gd,data,\"relayout\"); return !(filtered_data.isnil) ? (WebIO.setval({\"name\":\"relayout\",\"scope\":\"15143990276762644848\",\"id\":\"2948803800312866873\",\"type\":\"observable\"},filtered_data.out)) : undefined})); return gd.on(\"plotly_click\",(function (data){var filtered_data=WebIO.PlotlyCommands.filterEventData(gd,data,\"click\"); return !(filtered_data.isnil) ? (WebIO.setval({\"name\":\"click\",\"scope\":\"15143990276762644848\",\"id\":\"9945578379437369945\",\"type\":\"observable\"},filtered_data.out)) : undefined}))}));\n    (WebIO.importBlock({\"data\":[{\"name\":\"Plotly\",\"type\":\"js\",\"url\":\"/assetserver/57533c5d787f8bc76a9e58ed0a1abce5f1b0c14d-plotly-latest.min.js\"},{\"name\":null,\"type\":\"js\",\"url\":\"/assetserver/58a7932c57029f7dbaa4105104076ff149fc7585-plotly_webio.bundle.js\"}],\"type\":\"async_block\"})).then((imports) => handler.apply(this, imports));\n}\n"
        ],
        "observables": {
         "__gd_contents": {
          "id": "8885184428536296617",
          "sync": false,
          "value": {}
         },
         "__get_gd_contents": {
          "id": "14736290323598474667",
          "sync": false,
          "value": ""
         },
         "_commands": {
          "id": "5294539422494348706",
          "sync": false,
          "value": []
         },
         "_downloadImage": {
          "id": "18416836449103305013",
          "sync": false,
          "value": {}
         },
         "_toImage": {
          "id": "16245765391606416098",
          "sync": false,
          "value": {}
         },
         "click": {
          "id": "9945578379437369945",
          "sync": false,
          "value": {}
         },
         "hover": {
          "id": "14185130433105578855",
          "sync": false,
          "value": {}
         },
         "image": {
          "id": "918765450108610094",
          "sync": true,
          "value": ""
         },
         "relayout": {
          "id": "2948803800312866873",
          "sync": false,
          "value": {}
         },
         "selected": {
          "id": "1038935474010712710",
          "sync": false,
          "value": {}
         }
        },
        "systemjs_options": null
       },
       "nodeType": "Scope",
       "props": {},
       "type": "node"
      },
      "image/png": "[encoded data removed]",
      "image/svg+xml": [
       "<svg class=\"main-svg\" xmlns=\"http://www.w3.org/2000/svg\" xmlns:xlink=\"http://www.w3.org/1999/xlink\" width=\"700\" height=\"500\" style=\"\" viewBox=\"0 0 700 500\"><rect x=\"0\" y=\"0\" width=\"700\" height=\"500\" style=\"fill: rgb(255, 255, 255); fill-opacity: 1;\"/><defs id=\"defs-c57e1a\"><g class=\"clips\"><clipPath id=\"clipc57e1axyplot\" class=\"plotclip\"><rect width=\"600\" height=\"390\"/></clipPath><clipPath class=\"axesclip\" id=\"clipc57e1ax\"><rect x=\"50\" y=\"0\" width=\"600\" height=\"500\"/></clipPath><clipPath class=\"axesclip\" id=\"clipc57e1ay\"><rect x=\"0\" y=\"60\" width=\"700\" height=\"390\"/></clipPath><clipPath class=\"axesclip\" id=\"clipc57e1axy\"><rect x=\"50\" y=\"60\" width=\"600\" height=\"390\"/></clipPath></g><g class=\"gradients\"/></defs><g class=\"bglayer\"/><g class=\"layer-below\"><g class=\"imagelayer\"/><g class=\"shapelayer\"/></g><g class=\"cartesianlayer\"><g class=\"subplot xy\"><g class=\"layer-subplot\"><g class=\"shapelayer\"/><g class=\"imagelayer\"/></g><g class=\"gridlayer\"><g class=\"x\"><path class=\"xgrid crisp\" transform=\"translate(172.45,0)\" d=\"M0,60v390\" style=\"stroke: rgb(238, 238, 238); stroke-opacity: 1; stroke-width: 1px;\"/><path class=\"xgrid crisp\" transform=\"translate(294.9,0)\" d=\"M0,60v390\" style=\"stroke: rgb(238, 238, 238); stroke-opacity: 1; stroke-width: 1px;\"/><path class=\"xgrid crisp\" transform=\"translate(417.35,0)\" d=\"M0,60v390\" style=\"stroke: rgb(238, 238, 238); stroke-opacity: 1; stroke-width: 1px;\"/><path class=\"xgrid crisp\" transform=\"translate(539.8,0)\" d=\"M0,60v390\" style=\"stroke: rgb(238, 238, 238); stroke-opacity: 1; stroke-width: 1px;\"/></g><g class=\"y\"><path class=\"ygrid crisp\" transform=\"translate(0,430.5)\" d=\"M50,0h600\" style=\"stroke: rgb(238, 238, 238); stroke-opacity: 1; stroke-width: 1px;\"/><path class=\"ygrid crisp\" transform=\"translate(0,398)\" d=\"M50,0h600\" style=\"stroke: rgb(238, 238, 238); stroke-opacity: 1; stroke-width: 1px;\"/><path class=\"ygrid crisp\" transform=\"translate(0,355.03)\" d=\"M50,0h600\" style=\"stroke: rgb(238, 238, 238); stroke-opacity: 1; stroke-width: 1px;\"/><path class=\"ygrid crisp\" transform=\"translate(0,322.53)\" d=\"M50,0h600\" style=\"stroke: rgb(238, 238, 238); stroke-opacity: 1; stroke-width: 1px;\"/><path class=\"ygrid crisp\" transform=\"translate(0,290.02)\" d=\"M50,0h600\" style=\"stroke: rgb(238, 238, 238); stroke-opacity: 1; stroke-width: 1px;\"/><path class=\"ygrid crisp\" transform=\"translate(0,247.06)\" d=\"M50,0h600\" style=\"stroke: rgb(238, 238, 238); stroke-opacity: 1; stroke-width: 1px;\"/><path class=\"ygrid crisp\" transform=\"translate(0,214.55)\" d=\"M50,0h600\" style=\"stroke: rgb(238, 238, 238); stroke-opacity: 1; stroke-width: 1px;\"/><path class=\"ygrid crisp\" transform=\"translate(0,182.05)\" d=\"M50,0h600\" style=\"stroke: rgb(238, 238, 238); stroke-opacity: 1; stroke-width: 1px;\"/><path class=\"ygrid crisp\" transform=\"translate(0,139.07999999999998)\" d=\"M50,0h600\" style=\"stroke: rgb(238, 238, 238); stroke-opacity: 1; stroke-width: 1px;\"/><path class=\"ygrid crisp\" transform=\"translate(0,106.58)\" d=\"M50,0h600\" style=\"stroke: rgb(238, 238, 238); stroke-opacity: 1; stroke-width: 1px;\"/><path class=\"ygrid crisp\" transform=\"translate(0,74.08)\" d=\"M50,0h600\" style=\"stroke: rgb(238, 238, 238); stroke-opacity: 1; stroke-width: 1px;\"/></g></g><g class=\"zerolinelayer\"><path class=\"xzl zl crisp\" transform=\"translate(50,0)\" d=\"M0,60v390\" style=\"stroke: rgb(68, 68, 68); stroke-opacity: 1; stroke-width: 1px;\"/></g><path class=\"xlines-below\"/><path class=\"ylines-below\"/><g class=\"overlines-below\"/><g class=\"xaxislayer-below\"/><g class=\"yaxislayer-below\"/><g class=\"overaxes-below\"/><g class=\"plot\" transform=\"translate(50, 60)\" clip-path=\"url('#clipc57e1axyplot')\"><g class=\"scatterlayer mlayer\"><g class=\"trace scatter tracea5c43d\" style=\"stroke-miterlimit: 2; opacity: 1;\"><g class=\"fills\"/><g class=\"errorbars\"/><g class=\"lines\"><path class=\"js-line\" d=\"M0,370.5L12.24,370.5L24.49,253.46L36.73,206.77L48.98,298.11L61.22,267.79L73.47,152.82L85.71,161.04L97.96,19.5L110.2,150.44L122.45,370.5L134.69,370.5L146.94,298.11L159.18,229.26L171.43,261.19L183.67,241.41L195.92,227.73L208.16,226.83L220.41,208.49L232.65,213.71L244.9,370.5L257.14,370.5L269.39,275.02L281.63,296.5L293.88,261.19L306.12,209.25L318.37,254.91L330.61,226.83L342.86,298.11L355.1,213.71L367.35,370.5L379.59,370.5L391.84,275.02L404.08,222.64L416.33,179.69L428.57,242.84L440.82,263.92L453.06,253.15L465.31,228.79L477.55,260.01L489.8,370.5L502.04,335.48L514.29,267.84L526.53,231.17L538.78,253.8L551.02,247.57L563.27,220.96L575.51,214.59L587.76,209.42L600,216.42\" style=\"vector-effect: non-scaling-stroke; fill: none; stroke: rgb(31, 119, 180); stroke-opacity: 1; stroke-width: 2px; opacity: 1;\"/></g><g class=\"points\"/><g class=\"text\"/></g></g></g><g class=\"overplot\"/><path class=\"xlines-above crisp\" d=\"M0,0\" style=\"fill: none;\"/><path class=\"ylines-above crisp\" d=\"M0,0\" style=\"fill: none;\"/><g class=\"overlines-above\"/><g class=\"xaxislayer-above\"><g class=\"xtick\"><text text-anchor=\"middle\" x=\"0\" y=\"463\" transform=\"translate(50,0)\" style=\"font-family: 'Open Sans', verdana, arial, sans-serif; font-size: 12px; fill: rgb(68, 68, 68); fill-opacity: 1; white-space: pre;\">0</text></g><g class=\"xtick\"><text text-anchor=\"middle\" x=\"0\" y=\"463\" transform=\"translate(172.45,0)\" style=\"font-family: 'Open Sans', verdana, arial, sans-serif; font-size: 12px; fill: rgb(68, 68, 68); fill-opacity: 1; white-space: pre;\">10</text></g><g class=\"xtick\"><text text-anchor=\"middle\" x=\"0\" y=\"463\" transform=\"translate(294.9,0)\" style=\"font-family: 'Open Sans', verdana, arial, sans-serif; font-size: 12px; fill: rgb(68, 68, 68); fill-opacity: 1; white-space: pre;\">20</text></g><g class=\"xtick\"><text text-anchor=\"middle\" x=\"0\" y=\"463\" transform=\"translate(417.35,0)\" style=\"font-family: 'Open Sans', verdana, arial, sans-serif; font-size: 12px; fill: rgb(68, 68, 68); fill-opacity: 1; white-space: pre;\">30</text></g><g class=\"xtick\"><text text-anchor=\"middle\" x=\"0\" y=\"463\" transform=\"translate(539.8,0)\" style=\"font-family: 'Open Sans', verdana, arial, sans-serif; font-size: 12px; fill: rgb(68, 68, 68); fill-opacity: 1; white-space: pre;\">40</text></g></g><g class=\"yaxislayer-above\"><g class=\"ytick\"><text text-anchor=\"end\" x=\"49\" y=\"5.25\" transform=\"translate(0,430.5)\" style=\"font-family: 'Open Sans', verdana, arial, sans-serif; font-size: 15px; fill: rgb(68, 68, 68); fill-opacity: 1; white-space: pre;\">10​<tspan style=\"font-size:70%\" dy=\"-0.6em\">−16</tspan><tspan dy=\"0.42em\">​</tspan></text></g><g class=\"ytick\"><text text-anchor=\"end\" x=\"49\" y=\"3.15\" transform=\"translate(0,398)\" style=\"font-family: 'Open Sans', verdana, arial, sans-serif; font-size: 9px; fill: rgb(68, 68, 68); fill-opacity: 1; white-space: pre;\">2</text></g><g class=\"ytick\"><text text-anchor=\"end\" x=\"49\" y=\"3.15\" transform=\"translate(0,355.03)\" style=\"font-family: 'Open Sans', verdana, arial, sans-serif; font-size: 9px; fill: rgb(68, 68, 68); fill-opacity: 1; white-space: pre;\">5</text></g><g class=\"ytick\"><text text-anchor=\"end\" x=\"49\" y=\"5.25\" transform=\"translate(0,322.53)\" style=\"font-family: 'Open Sans', verdana, arial, sans-serif; font-size: 15px; fill: rgb(68, 68, 68); fill-opacity: 1; white-space: pre;\">10​<tspan style=\"font-size:70%\" dy=\"-0.6em\">−15</tspan><tspan dy=\"0.42em\">​</tspan></text></g><g class=\"ytick\"><text text-anchor=\"end\" x=\"49\" y=\"3.15\" transform=\"translate(0,290.02)\" style=\"font-family: 'Open Sans', verdana, arial, sans-serif; font-size: 9px; fill: rgb(68, 68, 68); fill-opacity: 1; white-space: pre;\">2</text></g><g class=\"ytick\"><text text-anchor=\"end\" x=\"49\" y=\"3.15\" transform=\"translate(0,247.06)\" style=\"font-family: 'Open Sans', verdana, arial, sans-serif; font-size: 9px; fill: rgb(68, 68, 68); fill-opacity: 1; white-space: pre;\">5</text></g><g class=\"ytick\"><text text-anchor=\"end\" x=\"49\" y=\"5.25\" transform=\"translate(0,214.55)\" style=\"font-family: 'Open Sans', verdana, arial, sans-serif; font-size: 15px; fill: rgb(68, 68, 68); fill-opacity: 1; white-space: pre;\">10​<tspan style=\"font-size:70%\" dy=\"-0.6em\">−14</tspan><tspan dy=\"0.42em\">​</tspan></text></g><g class=\"ytick\"><text text-anchor=\"end\" x=\"49\" y=\"3.15\" transform=\"translate(0,182.05)\" style=\"font-family: 'Open Sans', verdana, arial, sans-serif; font-size: 9px; fill: rgb(68, 68, 68); fill-opacity: 1; white-space: pre;\">2</text></g><g class=\"ytick\"><text text-anchor=\"end\" x=\"49\" y=\"3.15\" transform=\"translate(0,139.07999999999998)\" style=\"font-family: 'Open Sans', verdana, arial, sans-serif; font-size: 9px; fill: rgb(68, 68, 68); fill-opacity: 1; white-space: pre;\">5</text></g><g class=\"ytick\"><text text-anchor=\"end\" x=\"49\" y=\"5.25\" transform=\"translate(0,106.58)\" style=\"font-family: 'Open Sans', verdana, arial, sans-serif; font-size: 15px; fill: rgb(68, 68, 68); fill-opacity: 1; white-space: pre;\">10​<tspan style=\"font-size:70%\" dy=\"-0.6em\">−13</tspan><tspan dy=\"0.42em\">​</tspan></text></g><g class=\"ytick\"><text text-anchor=\"end\" x=\"49\" y=\"3.15\" transform=\"translate(0,74.08)\" style=\"font-family: 'Open Sans', verdana, arial, sans-serif; font-size: 9px; fill: rgb(68, 68, 68); fill-opacity: 1; white-space: pre;\">2</text></g></g><g class=\"overaxes-above\"/></g></g><g class=\"polarlayer\"/><g class=\"ternarylayer\"/><g class=\"geolayer\"/><g class=\"funnelarealayer\"/><g class=\"pielayer\"/><g class=\"treemaplayer\"/><g class=\"sunburstlayer\"/><g class=\"glimages\"/><defs id=\"topdefs-c57e1a\"><g class=\"clips\"/></defs><g class=\"layer-above\"><g class=\"imagelayer\"/><g class=\"shapelayer\"/></g><g class=\"infolayer\"><g class=\"g-gtitle\"/><g class=\"g-xtitle\" transform=\"translate(0,-6)\"><text class=\"xtitle\" x=\"350\" y=\"502\" text-anchor=\"middle\" style=\"font-family: 'Open Sans', verdana, arial, sans-serif; font-size: 14px; fill: rgb(68, 68, 68); opacity: 1; font-weight: normal; white-space: pre;\">Test index</text></g><g class=\"g-ytitle\" transform=\"translate(3,0)\"><text class=\"ytitle\" transform=\"rotate(-90,12,255)\" x=\"12\" y=\"255\" text-anchor=\"middle\" style=\"font-family: 'Open Sans', verdana, arial, sans-serif; font-size: 14px; fill: rgb(68, 68, 68); opacity: 1; font-weight: normal; white-space: pre;\">Error</text></g></g></svg>"
      ],
      "text/html": [
       "<div\n",
       "    class=\"webio-mountpoint\"\n",
       "    data-webio-mountpoint=\"18194107311195522365\"\n",
       ">\n",
       "    <script>\n",
       "    if (window.require && require.defined && require.defined(\"nbextensions/webio-jupyter-notebook\")) {\n",
       "        console.log(\"Jupyter WebIO extension detected, not mounting.\");\n",
       "    } else if (window.WebIO) {\n",
       "        WebIO.mount(\n",
       "            document.querySelector('[data-webio-mountpoint=\"18194107311195522365\"]'),\n",
       "            {\"props\":{},\"nodeType\":\"Scope\",\"type\":\"node\",\"instanceArgs\":{\"imports\":{\"data\":[{\"name\":\"Plotly\",\"type\":\"js\",\"url\":\"\\/assetserver\\/57533c5d787f8bc76a9e58ed0a1abce5f1b0c14d-plotly-latest.min.js\"},{\"name\":null,\"type\":\"js\",\"url\":\"\\/assetserver\\/58a7932c57029f7dbaa4105104076ff149fc7585-plotly_webio.bundle.js\"}],\"type\":\"async_block\"},\"id\":\"15143990276762644848\",\"handlers\":{\"_toImage\":[\"(function (options){return this.Plotly.toImage(this.plotElem,options).then((function (data){return WebIO.setval({\\\"name\\\":\\\"image\\\",\\\"scope\\\":\\\"15143990276762644848\\\",\\\"id\\\":\\\"918765450108610094\\\",\\\"type\\\":\\\"observable\\\"},data)}))})\"],\"__get_gd_contents\":[\"(function (prop){prop==\\\"data\\\" ? (WebIO.setval({\\\"name\\\":\\\"__gd_contents\\\",\\\"scope\\\":\\\"15143990276762644848\\\",\\\"id\\\":\\\"8885184428536296617\\\",\\\"type\\\":\\\"observable\\\"},this.plotElem.data)) : undefined; return prop==\\\"layout\\\" ? (WebIO.setval({\\\"name\\\":\\\"__gd_contents\\\",\\\"scope\\\":\\\"15143990276762644848\\\",\\\"id\\\":\\\"8885184428536296617\\\",\\\"type\\\":\\\"observable\\\"},this.plotElem.layout)) : undefined})\"],\"_downloadImage\":[\"(function (options){return this.Plotly.downloadImage(this.plotElem,options)})\"],\"_commands\":[\"(function (args){var fn=args.shift(); var elem=this.plotElem; var Plotly=this.Plotly; args.unshift(elem); return Plotly[fn].apply(this,args)})\"]},\"systemjs_options\":null,\"mount_callbacks\":[\"function () {\\n    var handler = ((function (Plotly,PlotlyWebIO){PlotlyWebIO.init(WebIO); var gd=this.dom.querySelector(\\\"#plot-29f4d1da-03e2-46a6-bc7e-7433f925853d\\\"); this.plotElem=gd; this.Plotly=Plotly; (window.Blink!==undefined) ? (gd.style.width=\\\"100%\\\", gd.style.height=\\\"100vh\\\", gd.style.marginLeft=\\\"0%\\\", gd.style.marginTop=\\\"0vh\\\") : undefined; window.onresize=(function (){return Plotly.Plots.resize(gd)}); Plotly.newPlot(gd,[{\\\"y\\\":[1.0e-16,1.0e-16,1.2133627712727935e-15,3.28355363380977e-15,4.682193206295148e-16,8.93733533540139e-16,1.03764058230777e-14,8.707451065480633e-15,1.7815258004021908e-13,1.091564126287314e-14,1.0e-16,1.0e-16,4.682193206295148e-16,2.032952170156116e-15,1.0288792252416251e-15,1.5686870114880516e-15,2.10032798622099e-15,2.1411201962889075e-15,3.1657035291446092e-15,2.8319157601378223e-15,1.0e-16,1.0e-16,7.66133814775094e-16,4.845925372767127e-16,1.0288792252416251e-15,3.115027253194862e-15,1.176401158743041e-15,2.1411201962889075e-15,4.682193206295148e-16,2.8319157601378223e-15,1.0e-16,1.0e-16,7.66133814775094e-16,2.341166056980587e-15,5.850698067283841e-15,1.5217791915866693e-15,9.706583865735264e-16,1.2212702919885051e-15,2.0532463489002323e-15,1.0550499576785473e-15,1.0e-16,2.1102230246251565e-16,8.928578270080922e-16,1.9515278288508872e-15,1.2046579618885444e-15,1.3755491433176289e-15,2.4265067194628704e-15,2.7795273524776e-15,3.1033830194726017e-15,2.6728235887559274e-15],\\\"type\\\":\\\"scatter\\\",\\\"name\\\":\\\"Error\\\"}],{\\\"xaxis\\\":{\\\"title\\\":\\\"Test index\\\"},\\\"margin\\\":{\\\"l\\\":50,\\\"b\\\":50,\\\"r\\\":50,\\\"t\\\":60},\\\"yaxis\\\":{\\\"type\\\":\\\"log\\\",\\\"title\\\":\\\"Error\\\",\\\"exponentformat\\\":\\\"power\\\"}},{}); gd.on(\\\"plotly_hover\\\",(function (data){var filtered_data=WebIO.PlotlyCommands.filterEventData(gd,data,\\\"hover\\\"); return !(filtered_data.isnil) ? (WebIO.setval({\\\"name\\\":\\\"hover\\\",\\\"scope\\\":\\\"15143990276762644848\\\",\\\"id\\\":\\\"14185130433105578855\\\",\\\"type\\\":\\\"observable\\\"},filtered_data.out)) : undefined})); gd.on(\\\"plotly_unhover\\\",(function (){return WebIO.setval({\\\"name\\\":\\\"hover\\\",\\\"scope\\\":\\\"15143990276762644848\\\",\\\"id\\\":\\\"14185130433105578855\\\",\\\"type\\\":\\\"observable\\\"},{})})); gd.on(\\\"plotly_selected\\\",(function (data){var filtered_data=WebIO.PlotlyCommands.filterEventData(gd,data,\\\"selected\\\"); return !(filtered_data.isnil) ? (WebIO.setval({\\\"name\\\":\\\"selected\\\",\\\"scope\\\":\\\"15143990276762644848\\\",\\\"id\\\":\\\"1038935474010712710\\\",\\\"type\\\":\\\"observable\\\"},filtered_data.out)) : undefined})); gd.on(\\\"plotly_deselect\\\",(function (){return WebIO.setval({\\\"name\\\":\\\"selected\\\",\\\"scope\\\":\\\"15143990276762644848\\\",\\\"id\\\":\\\"1038935474010712710\\\",\\\"type\\\":\\\"observable\\\"},{})})); gd.on(\\\"plotly_relayout\\\",(function (data){var filtered_data=WebIO.PlotlyCommands.filterEventData(gd,data,\\\"relayout\\\"); return !(filtered_data.isnil) ? (WebIO.setval({\\\"name\\\":\\\"relayout\\\",\\\"scope\\\":\\\"15143990276762644848\\\",\\\"id\\\":\\\"2948803800312866873\\\",\\\"type\\\":\\\"observable\\\"},filtered_data.out)) : undefined})); return gd.on(\\\"plotly_click\\\",(function (data){var filtered_data=WebIO.PlotlyCommands.filterEventData(gd,data,\\\"click\\\"); return !(filtered_data.isnil) ? (WebIO.setval({\\\"name\\\":\\\"click\\\",\\\"scope\\\":\\\"15143990276762644848\\\",\\\"id\\\":\\\"9945578379437369945\\\",\\\"type\\\":\\\"observable\\\"},filtered_data.out)) : undefined}))}));\\n    (WebIO.importBlock({\\\"data\\\":[{\\\"name\\\":\\\"Plotly\\\",\\\"type\\\":\\\"js\\\",\\\"url\\\":\\\"\\/assetserver\\/57533c5d787f8bc76a9e58ed0a1abce5f1b0c14d-plotly-latest.min.js\\\"},{\\\"name\\\":null,\\\"type\\\":\\\"js\\\",\\\"url\\\":\\\"\\/assetserver\\/58a7932c57029f7dbaa4105104076ff149fc7585-plotly_webio.bundle.js\\\"}],\\\"type\\\":\\\"async_block\\\"})).then((imports) => handler.apply(this, imports));\\n}\\n\"],\"observables\":{\"_toImage\":{\"sync\":false,\"id\":\"16245765391606416098\",\"value\":{}},\"hover\":{\"sync\":false,\"id\":\"14185130433105578855\",\"value\":{}},\"selected\":{\"sync\":false,\"id\":\"1038935474010712710\",\"value\":{}},\"__gd_contents\":{\"sync\":false,\"id\":\"8885184428536296617\",\"value\":{}},\"click\":{\"sync\":false,\"id\":\"9945578379437369945\",\"value\":{}},\"image\":{\"sync\":true,\"id\":\"918765450108610094\",\"value\":\"\"},\"__get_gd_contents\":{\"sync\":false,\"id\":\"14736290323598474667\",\"value\":\"\"},\"_downloadImage\":{\"sync\":false,\"id\":\"18416836449103305013\",\"value\":{}},\"relayout\":{\"sync\":false,\"id\":\"2948803800312866873\",\"value\":{}},\"_commands\":{\"sync\":false,\"id\":\"5294539422494348706\",\"value\":[]}}},\"children\":[{\"props\":{\"id\":\"plot-29f4d1da-03e2-46a6-bc7e-7433f925853d\"},\"nodeType\":\"DOM\",\"type\":\"node\",\"instanceArgs\":{\"namespace\":\"html\",\"tag\":\"div\"},\"children\":[]}]},\n",
       "            window,\n",
       "        );\n",
       "    } else {\n",
       "        document\n",
       "            .querySelector('[data-webio-mountpoint=\"18194107311195522365\"]')\n",
       "            .innerHTML = (\n",
       "                '<div style=\"padding: 1em; background-color: #f8d6da; border: 1px solid #f5c6cb\">' +\n",
       "                '<p><strong>WebIO not detected.</strong></p>' +\n",
       "                '<p>Please read ' +\n",
       "                '<a href=\"https://juliagizmos.github.io/WebIO.jl/latest/troubleshooting/not-detected/\" target=\"_blank\">the troubleshooting guide</a> ' +\n",
       "                'for more information on how to resolve this issue.</p>' +\n",
       "                '<p><a href=\"https://juliagizmos.github.io/WebIO.jl/latest/troubleshooting/not-detected/\" target=\"_blank\">https://juliagizmos.github.io/WebIO.jl/latest/troubleshooting/not-detected/</a></p>' +\n",
       "                '</div>'\n",
       "            );\n",
       "    }\n",
       "    </script>\n",
       "</div>\n"
      ],
      "text/plain": [
       "data: [\n",
       "  \"scatter with fields name, type, and y\"\n",
       "]\n",
       "\n",
       "layout: \"layout with fields margin, xaxis, and yaxis\"\n",
       "\n"
      ]
     },
     "execution_count": 14,
     "metadata": {
      "application/vnd.webio.node+json": {
       "kernelId": "4835a524-38ec-4c7a-a1cc-fbe5c490d990"
      }
     },
     "output_type": "execute_result"
    }
   ],
   "source": [
    "# Plot error at each step of the test suite\n",
    "using PlotlyJS\n",
    "plot([scatter(y=err.+1e-16,name=\"Error\")],\n",
    "     Layout(yaxis_type=\"log\",yaxis_exponentformat=\"power\",xaxis_title=\"Test index\", yaxis_title=\"Error\")\n",
    "    )"
   ]
  }
 ],
 "metadata": {
  "@webio": {
   "lastCommId": "719970650e8144048ea60af8cdcd8b93",
   "lastKernelId": "4835a524-38ec-4c7a-a1cc-fbe5c490d990"
  },
  "anaconda-cloud": {},
  "kernelspec": {
   "display_name": "Julia 1.5.1",
   "language": "julia",
   "name": "julia-1.5"
  },
  "language_info": {
   "file_extension": ".jl",
   "mimetype": "application/julia",
   "name": "julia",
   "version": "1.5.1"
  }
 },
 "nbformat": 4,
 "nbformat_minor": 4
}
