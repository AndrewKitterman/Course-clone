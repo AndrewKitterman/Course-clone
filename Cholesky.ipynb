{
 "cells": [
  {
   "cell_type": "code",
   "execution_count": 354,
   "metadata": {
    "collapsed": true
   },
   "outputs": [],
   "source": [
    "# Initialize the random number generator\n",
    "rng = MersenneTwister();"
   ]
  },
  {
   "cell_type": "code",
   "execution_count": 355,
   "metadata": {
    "collapsed": true
   },
   "outputs": [],
   "source": [
    "# Size of the matrix\n",
    "n = 512;"
   ]
  },
  {
   "cell_type": "code",
   "execution_count": 356,
   "metadata": {
    "collapsed": false
   },
   "outputs": [],
   "source": [
    "# Random initialization of matrix A\n",
    "G = zeros(Float64,n,n)\n",
    "for i=1:n\n",
    "    G[i,i] = rand(rng, 1:2)\n",
    "    G[i+1:n,i] = rand(rng, -2:2, n-i)\n",
    "end\n",
    "A = G * G.'\n",
    "A0 = copy(A);"
   ]
  },
  {
   "cell_type": "code",
   "execution_count": 357,
   "metadata": {
    "collapsed": false
   },
   "outputs": [
    {
     "data": {
      "text/plain": [
       "1x512 Array{Float64,2}:\n",
       " -65.0  269.0  -192.0  249.0  -122.0  …  1014.0  6802.0  4706.0  8407.0"
      ]
     },
     "execution_count": 357,
     "metadata": {},
     "output_type": "execute_result"
    }
   ],
   "source": [
    "# Initializing the right-hand side\n",
    "xe = rand(rng, 0:9, n) # This will be our solution\n",
    "b = A * xe\n",
    "b'"
   ]
  },
  {
   "cell_type": "code",
   "execution_count": 358,
   "metadata": {
    "collapsed": false
   },
   "outputs": [
    {
     "data": {
      "text/plain": [
       "potrs (generic function with 1 method)"
      ]
     },
     "execution_count": 358,
     "metadata": {},
     "output_type": "execute_result"
    }
   ],
   "source": [
    "include(\"getrf.jl\")\n",
    "include(\"potrf.jl\")"
   ]
  },
  {
   "cell_type": "code",
   "execution_count": 374,
   "metadata": {
    "collapsed": false
   },
   "outputs": [
    {
     "name": "stdout",
     "output_type": "stream",
     "text": [
      "  0.079433 seconds (4 allocations: 160 bytes)\n"
     ]
    },
    {
     "data": {
      "text/plain": [
       "\"TEST PASSED\""
      ]
     },
     "execution_count": 374,
     "metadata": {},
     "output_type": "execute_result"
    }
   ],
   "source": [
    "A = copy(A0)\n",
    "@time potrf!(A)\n",
    "# Solve\n",
    "x = potrs(A, b)\n",
    "norm(x - xe) == 0 ? \"TEST PASSED\" : \"TEST FAILED\""
   ]
  },
  {
   "cell_type": "code",
   "execution_count": 368,
   "metadata": {
    "collapsed": false
   },
   "outputs": [
    {
     "name": "stdout",
     "output_type": "stream",
     "text": [
      "  0.133696 seconds (4.64 k allocations: 2.270 MB, 2.40% gc time)\n"
     ]
    }
   ],
   "source": [
    "# Compare with LU factorization\n",
    "A = copy(A0)\n",
    "@time getrf!(A);"
   ]
  }
 ],
 "metadata": {
  "kernelspec": {
   "display_name": "Julia 0.4.5",
   "language": "julia",
   "name": "julia-0.4"
  },
  "language_info": {
   "file_extension": ".jl",
   "mimetype": "application/julia",
   "name": "julia",
   "version": "0.4.5"
  }
 },
 "nbformat": 4,
 "nbformat_minor": 0
}
