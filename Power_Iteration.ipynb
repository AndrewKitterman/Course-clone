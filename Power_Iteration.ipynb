{
 "cells": [
  {
   "cell_type": "code",
   "execution_count": 1,
   "metadata": {
    "collapsed": true
   },
   "outputs": [],
   "source": [
    "# Initialize the random number generator\n",
    "rng = MersenneTwister(17);"
   ]
  },
  {
   "cell_type": "code",
   "execution_count": 2,
   "metadata": {
    "collapsed": false
   },
   "outputs": [
    {
     "data": {
      "text/plain": [
       "pretty_print (generic function with 1 method)"
      ]
     },
     "execution_count": 2,
     "metadata": {},
     "output_type": "execute_result"
    }
   ],
   "source": [
    "function pretty_print(v)\n",
    "    @printf \"[\"\n",
    "    for i=1:length(v)\n",
    "        @printf \"%8.5f\" v[i]\n",
    "        if i < length(v)\n",
    "            @printf \"  \"\n",
    "        end\n",
    "    end\n",
    "    @printf \"]\\n\"\n",
    "end    "
   ]
  },
  {
   "cell_type": "code",
   "execution_count": 3,
   "metadata": {
    "collapsed": false
   },
   "outputs": [
    {
     "data": {
      "text/plain": [
       "3x3 Array{Float64,2}:\n",
       "  0.15695   0.198397  -0.0967046\n",
       " -1.20509   1.19549   -0.0111219\n",
       " -0.990164  0.571865   0.397559 "
      ]
     },
     "execution_count": 3,
     "metadata": {},
     "output_type": "execute_result"
    }
   ],
   "source": [
    "# Size of matrix\n",
    "n = 3\n",
    "X = rand(rng, n, n)\n",
    "Λ = diagm(Float32[2.0^(-i) for i=0:n-1])\n",
    "\n",
    "A = X * Λ / X"
   ]
  },
  {
   "cell_type": "code",
   "execution_count": 4,
   "metadata": {
    "collapsed": false
   },
   "outputs": [
    {
     "name": "stdout",
     "output_type": "stream",
     "text": [
      "Iteration:  1 | e-value:  0.6141 | qk, x1 =\n",
      "[-0.15209  -0.94004  -0.30529]\n",
      "[ 0.12703   0.81522   0.56505]\n",
      "Iteration:  2 | e-value:  1.0636 | qk, x1 =\n",
      "[-0.16724  -0.86662  -0.47011]\n",
      "[ 0.12703   0.81522   0.56505]\n",
      "Iteration:  3 | e-value:  0.9872 | qk, x1 =\n",
      "[-0.15442  -0.83847  -0.52262]\n",
      "[ 0.12703   0.81522   0.56505]\n",
      "Iteration:  4 | e-value:  0.9805 | qk, x1 =\n",
      "[-0.14278  -0.82632  -0.54481]\n",
      "[ 0.12703   0.81522   0.56505]\n",
      "Iteration:  5 | e-value:  0.9866 | qk, x1 =\n",
      "[-0.13547  -0.82065  -0.55514]\n",
      "[ 0.12703   0.81522   0.56505]\n",
      "Iteration:  6 | e-value:  0.9923 | qk, x1 =\n",
      "[-0.13139  -0.81791  -0.56015]\n",
      "[ 0.12703   0.81522   0.56505]\n",
      "Iteration:  7 | e-value:  0.9959 | qk, x1 =\n",
      "[-0.12925  -0.81655  -0.56261]\n",
      "[ 0.12703   0.81522   0.56505]\n"
     ]
    }
   ],
   "source": [
    "x1 = X[:,1]\n",
    "x1 /= norm(x1)\n",
    "# Largest e-value: 1\n",
    "# E-vector: x1\n",
    "\n",
    "qk = randn(rng, n)\n",
    "qk /= norm(qk)\n",
    "\n",
    "niter = 20\n",
    "err = zeros(niter)\n",
    "\n",
    "for k=1:niter\n",
    "    zk = A * qk          # Power iteration: multiply by A\n",
    "    eval = dot(zk,qk)    # E-value approximation\n",
    "    qk = zk/norm(zk)     # Normalize e-vector\n",
    "\n",
    "    if k < 8 # We stop printing afterwards\n",
    "        @printf \"Iteration: %2d | e-value: %7.4f | qk, x1 =\\n\" k eval\n",
    "        pretty_print(qk)\n",
    "        pretty_print(x1)\n",
    "    end\n",
    "    err[k] = abs(Λ[1,1] - eval)\n",
    "end"
   ]
  },
  {
   "cell_type": "code",
   "execution_count": 6,
   "metadata": {
    "collapsed": false
   },
   "outputs": [
    {
     "data": {
      "text/html": [
       "<html>\n",
       "<head>\n",
       "     <script src=\"/Users/darve/.julia/v0.4/PlotlyJS/deps/plotly-latest.min.js\"></script>\n",
       "</head>\n",
       "<body>\n",
       "     <div id=\"48e6e183-e4bc-4348-bef1-b6a593df8e66\" class=\"plotly-graph-div\"></div>\n",
       "\n",
       "<script>\n",
       "    window.PLOTLYENV=window.PLOTLYENV || {};\n",
       "    window.PLOTLYENV.BASE_URL=\"https://plot.ly\";\n",
       "    Plotly.newPlot('48e6e183-e4bc-4348-bef1-b6a593df8e66', [{\"yaxis\":\"y\",\"y\":[0.3859306962386362,0.06363818968734392,0.012803180426766536,0.019545122757284927,0.013398554473840973,0.007663494224839251,0.004081232364171683,0.0021041262494112534,0.0010680885786908956,0.0005380695036862893,0.0002700434344908853,0.000135274186718215,6.770024816815656e-5,3.3865917471898044e-5,1.6936907669018453e-5,8.46944114107906e-6,4.234967406091528e-6,2.1175454133492977e-6,1.0587881345003325e-6,5.293979240539315e-7],\"showlegend\":true,\"name\":\"y1\",\"type\":\"scatter\",\"xaxis\":\"x\",\"line\":{\"width\":1,\"dash\":\"solid\",\"color\":\"rgba(0, 154, 250, 1.000)\",\"shape\":\"linear\"},\"x\":[1,2,3,4,5,6,7,8,9,10,11,12,13,14,15,16,17,18,19,20],\"mode\":\"lines\"}],\n",
       "               {\"yaxis\":{\"type\":\"log\",\"titlefont\":{\"size\":15,\"color\":\"rgba(0, 0, 0, 1.000)\",\"family\":\"Helvetica\"},\"title\":\"Error\",\"tickfont\":{\"size\":11,\"color\":\"rgba(0, 0, 0, 1.000)\",\"family\":\"Helvetica\"},\"tickmode\":\"array\",\"showgrid\":true,\"tickvals\":[1.0e-6,0.0001,0.01],\"domain\":[0.09549978127734039,0.9901574803149606],\"ticktext\":[\"10^-6\",\"10^-4\",\"10^-2\"],\"zeroline\":false,\"linecolor\":\"rgba(0, 0, 0, 1.000)\",\"tickcolor\":\"rgba(0, 0, 0, 1.000)\",\"anchor\":\"x\"},\"annotations\":[],\"width\":600,\"plot_bgcolor\":\"rgba(255, 255, 255, 1.000)\",\"showlegend\":true,\"legend\":{\"bgcolor\":\"rgba(255, 255, 255, 1.000)\",\"font\":{\"size\":11,\"color\":\"rgba(0, 0, 0, 1.000)\",\"family\":\"Helvetica\"},\"bordercolor\":\"rgba(0, 0, 0, 1.000)\"},\"xaxis\":{\"type\":\"-\",\"titlefont\":{\"size\":15,\"color\":\"rgba(0, 0, 0, 1.000)\",\"family\":\"Helvetica\"},\"title\":\"Iteration\",\"tickfont\":{\"size\":11,\"color\":\"rgba(0, 0, 0, 1.000)\",\"family\":\"Helvetica\"},\"tickmode\":\"array\",\"showgrid\":true,\"tickvals\":[5.0,10.0,15.0,20.0],\"domain\":[0.2748067949839603,0.9934383202099737],\"ticktext\":[\"5\",\"10\",\"15\",\"20\"],\"zeroline\":false,\"linecolor\":\"rgba(0, 0, 0, 1.000)\",\"tickcolor\":\"rgba(0, 0, 0, 1.000)\",\"anchor\":\"y\"},\"paper_bgcolor\":\"rgba(255, 255, 255, 1.000)\",\"margin\":{\"r\":0,\"l\":0,\"b\":0,\"t\":20},\"height\":400}, {showLink: false});\n",
       "\n",
       " </script>\n",
       "\n",
       "</body>\n",
       "</html>\n"
      ]
     },
     "execution_count": 6,
     "metadata": {},
     "output_type": "execute_result"
    }
   ],
   "source": [
    "using Plots\n",
    "plotlyjs()\n",
    "# Error in eigenvalue calculation\n",
    "# Semilogy plot\n",
    "plot(err,yscale=:log10,left_margin=30mm)\n",
    "xaxis!(\"Iteration\")\n",
    "yaxis!(\"Error\")"
   ]
  }
 ],
 "metadata": {
  "anaconda-cloud": {},
  "kernelspec": {
   "display_name": "Julia 0.4.6",
   "language": "julia",
   "name": "julia-0.4"
  },
  "language_info": {
   "file_extension": ".jl",
   "mimetype": "application/julia",
   "name": "julia",
   "version": "0.4.6"
  }
 },
 "nbformat": 4,
 "nbformat_minor": 0
}
