{
 "cells": [
  {
   "cell_type": "code",
   "execution_count": 11,
   "metadata": {
    "collapsed": true
   },
   "outputs": [],
   "source": [
    "# Initialize the random number generator\n",
    "rng = MersenneTwister();\n",
    "srand(2016);"
   ]
  },
  {
   "cell_type": "code",
   "execution_count": 12,
   "metadata": {
    "collapsed": false
   },
   "outputs": [],
   "source": [
    "# Size of the matrix\n",
    "n = 24;"
   ]
  },
  {
   "cell_type": "code",
   "execution_count": 13,
   "metadata": {
    "collapsed": false
   },
   "outputs": [
    {
     "data": {
      "text/plain": [
       "getrs (generic function with 3 methods)"
      ]
     },
     "execution_count": 13,
     "metadata": {},
     "output_type": "execute_result"
    }
   ],
   "source": [
    "include(\"getrf.jl\")"
   ]
  },
  {
   "cell_type": "code",
   "execution_count": 14,
   "metadata": {
    "collapsed": false
   },
   "outputs": [],
   "source": [
    "# Initialize matrix\n",
    "d = (1.0/2.0).^(n-1:-1:0)\n",
    "Q, = qr(rand(n,n))\n",
    "A = Q * diagm(d);"
   ]
  },
  {
   "cell_type": "code",
   "execution_count": 15,
   "metadata": {
    "collapsed": false
   },
   "outputs": [
    {
     "name": "stdout",
     "output_type": "stream",
     "text": [
      "norm(x1 - x2) / norm(x2) = 8.759762900049334e-17\n"
     ]
    },
    {
     "data": {
      "text/plain": [
       "\"TEST PASSED\""
      ]
     },
     "execution_count": 15,
     "metadata": {},
     "output_type": "execute_result"
    }
   ],
   "source": [
    "# Testing rook pivoting kernel\n",
    "b = rand(n)\n",
    "x1 = (A1 = copy(A); P = getrf!(A1); getrs(A1, P, b))\n",
    "x2 = (A1 = copy(A); (P_row, P_col) = getrfRook!(A1); getrs(A1, P_row, P_col, b))\n",
    "@show norm(x1-x2)/norm(x2)\n",
    "norm(x1-x2)/norm(x2) < 1e2*eps(Float64) ? \"TEST PASSED\" : \"TEST FAILED\""
   ]
  },
  {
   "cell_type": "code",
   "execution_count": 16,
   "metadata": {
    "collapsed": false
   },
   "outputs": [
    {
     "name": "stdout",
     "output_type": "stream",
     "text": [
      "  0.000042 seconds (222 allocations: 16.188 KB)\n",
      "  0.000076 seconds (469 allocations: 40.281 KB)\n"
     ]
    }
   ],
   "source": [
    "dA = Array{Float64}(n,3)\n",
    "A1 = copy(A)\n",
    "@time getrf!(A1)\n",
    "dA[:,1] = abs(diag(A1))\n",
    "\n",
    "A1 = copy(A)\n",
    "@time getrfRook!(A1)\n",
    "dA[:,2] = abs(diag(A1));\n",
    "\n",
    "# These are the sorted singular values of the matrix\n",
    "dA[:,3] = sort(d)[n:-1:1]; "
   ]
  },
  {
   "cell_type": "code",
   "execution_count": 17,
   "metadata": {
    "collapsed": false
   },
   "outputs": [
    {
     "data": {
      "text/plain": [
       "Plots.PlotlyJSBackend()"
      ]
     },
     "execution_count": 17,
     "metadata": {},
     "output_type": "execute_result"
    }
   ],
   "source": [
    "using Plots\n",
    "plotlyjs()"
   ]
  },
  {
   "cell_type": "code",
   "execution_count": 18,
   "metadata": {
    "collapsed": false
   },
   "outputs": [
    {
     "data": {
      "text/html": [
       "<html>\n",
       "<head>\n",
       "     <script src=\"/Users/darve/.julia/v0.4/PlotlyJS/deps/plotly-latest.min.js\"></script>\n",
       "</head>\n",
       "<body>\n",
       "     <div id=\"9350e853-a5fb-4cb3-919a-ffa9cc6b1b40\" class=\"plotly-graph-div\"></div>\n",
       "\n",
       "<script>\n",
       "    window.PLOTLYENV=window.PLOTLYENV || {};\n",
       "    window.PLOTLYENV.BASE_URL=\"https://plot.ly\";\n",
       "    Plotly.newPlot('9350e853-a5fb-4cb3-919a-ffa9cc6b1b40', [{\"yaxis\":\"y\",\"y\":[4.028125253962959e-8,1.1273287269922326e-7,2.453112856070875e-7,5.242224104332509e-7,1.2105686205797017e-6,2.8361712625620985e-6,6.147068300363492e-6,9.308367113884696e-6,1.9129565702589186e-5,6.515126587501637e-5,0.0001169347805565816,0.00014809936882801314,0.0005074124703812244,0.0007556386984794169,0.0016578690253535135,0.007352823429490239,0.011157847799087003,0.012967208189967314,0.06049267525742245,0.22834517669391707,0.24513958017176485,0.4580015587407781,0.8244809912376803,3.8466616099687734],\"showlegend\":true,\"name\":\"Pivoted LU\",\"type\":\"scatter\",\"xaxis\":\"x\",\"line\":{\"width\":1,\"dash\":\"solid\",\"color\":\"rgba(0, 154, 250, 1.000)\",\"shape\":\"linear\"},\"x\":[1,2,3,4,5,6,7,8,9,10,11,12,13,14,15,16,17,18,19,20,21,22,23,24],\"mode\":\"lines\"},{\"yaxis\":\"y\",\"y\":[0.48592709135599155,0.2828354518196172,0.057648162133705154,0.1498136701832185,0.045101014176169525,0.008095944290417597,0.01461566181946415,0.00687725345913884,0.002498689944810839,0.001420855534396304,0.0010753670742354123,0.0004242305402096888,0.00037906087438115794,9.059431180614017e-5,6.710536028715078e-5,1.5241963904064958e-5,4.563970540749408e-5,9.474705488054893e-6,4.48643190863421e-6,4.178982793586077e-6,1.1490800546623895e-6,1.5756376906629917e-6,5.051981982614255e-7,4.481406602620451e-7],\"showlegend\":true,\"name\":\"Rook LU\",\"type\":\"scatter\",\"xaxis\":\"x\",\"line\":{\"width\":1,\"dash\":\"solid\",\"color\":\"rgba(227, 111, 71, 1.000)\",\"shape\":\"linear\"},\"x\":[1,2,3,4,5,6,7,8,9,10,11,12,13,14,15,16,17,18,19,20,21,22,23,24],\"mode\":\"lines\"},{\"yaxis\":\"y\",\"y\":[1.0,0.5,0.25,0.125,0.0625,0.03125,0.015625,0.0078125,0.00390625,0.001953125,0.0009765625,0.00048828125,0.000244140625,0.0001220703125,6.103515625e-5,3.0517578125e-5,1.52587890625e-5,7.62939453125e-6,3.814697265625e-6,1.9073486328125e-6,9.5367431640625e-7,4.76837158203125e-7,2.384185791015625e-7,1.1920928955078125e-7],\"showlegend\":true,\"name\":\"Singular Values\",\"type\":\"scatter\",\"xaxis\":\"x\",\"line\":{\"width\":1,\"dash\":\"solid\",\"color\":\"rgba(62, 164, 78, 1.000)\",\"shape\":\"linear\"},\"x\":[1,2,3,4,5,6,7,8,9,10,11,12,13,14,15,16,17,18,19,20,21,22,23,24],\"mode\":\"lines\"}],  {\"yaxis\":{\"type\":\"log\",\"titlefont\":{\"size\":15,\"color\":\"rgba(0, 0, 0, 1.000)\",\"family\":\"Helvetica\"},\"title\":\"Magnitude\",\"tickfont\":{\"size\":11,\"color\":\"rgba(0, 0, 0, 1.000)\",\"family\":\"Helvetica\"},\"tickmode\":\"array\",\"showgrid\":true,\"tickvals\":[9.999999999999999e-6,0.0031622776601683794,1.0],\"domain\":[0.09549978127734039,0.9901574803149606],\"ticktext\":[\"10^-5.0\",\"10^-2.5\",\"10^0.0\"],\"zeroline\":false,\"linecolor\":\"rgba(0, 0, 0, 1.000)\",\"tickcolor\":\"rgba(0, 0, 0, 1.000)\",\"anchor\":\"x\"},\"annotations\":[],\"width\":600,\"plot_bgcolor\":\"rgba(255, 255, 255, 1.000)\",\"showlegend\":true,\"legend\":{\"bgcolor\":\"rgba(255, 255, 255, 1.000)\",\"font\":{\"size\":11,\"color\":\"rgba(0, 0, 0, 1.000)\",\"family\":\"Helvetica\"},\"bordercolor\":\"rgba(0, 0, 0, 1.000)\"},\"xaxis\":{\"type\":\"-\",\"titlefont\":{\"size\":15,\"color\":\"rgba(0, 0, 0, 1.000)\",\"family\":\"Helvetica\"},\"title\":\"Diagonal entry\",\"tickfont\":{\"size\":11,\"color\":\"rgba(0, 0, 0, 1.000)\",\"family\":\"Helvetica\"},\"tickmode\":\"array\",\"showgrid\":true,\"tickvals\":[5.0,10.0,15.0,20.0],\"domain\":[0.16128973461650625,0.9934383202099737],\"ticktext\":[\"5\",\"10\",\"15\",\"20\"],\"zeroline\":false,\"linecolor\":\"rgba(0, 0, 0, 1.000)\",\"tickcolor\":\"rgba(0, 0, 0, 1.000)\",\"anchor\":\"y\"},\"paper_bgcolor\":\"rgba(255, 255, 255, 1.000)\",\"margin\":{\"r\":0,\"l\":0,\"b\":0,\"t\":20},\"height\":400}, {showLink: false});\n",
       "\n",
       " </script>\n",
       "\n",
       "</body>\n",
       "</html>\n"
      ]
     },
     "execution_count": 18,
     "metadata": {},
     "output_type": "execute_result"
    }
   ],
   "source": [
    "# Run all cells to see the plot\n",
    "plot(dA, lab=[\"Pivoted LU\" \"Rook LU\" \"Singular Values\"], \n",
    "xlabel=\"Diagonal entry\", ylabel=\"Magnitude\",\n",
    "           yscale=:log, left_margin=50px)"
   ]
  },
  {
   "cell_type": "code",
   "execution_count": 19,
   "metadata": {
    "collapsed": false
   },
   "outputs": [],
   "source": [
    "generate_tex_pgfplot = false \n",
    "if generate_tex_pgfplot\n",
    "    pgfplots()\n",
    "    plt = plot(dA, lab=[\"Pivoted LU\" \"Rook LU\" \"Singular Values\"], \n",
    "    xlabel=\"Diagonal entry\", ylabel=\"Magnitude\",\n",
    "           yscale=:log)\n",
    "end    "
   ]
  },
  {
   "cell_type": "code",
   "execution_count": 20,
   "metadata": {
    "collapsed": false
   },
   "outputs": [],
   "source": [
    "if generate_tex_pgfplot\n",
    "    PGFPlots.save(\"rook_pivoting_lu.tex\", plt.o, include_preamble=false)\n",
    "end"
   ]
  }
 ],
 "metadata": {
  "kernelspec": {
   "display_name": "Julia 0.4.5",
   "language": "julia",
   "name": "julia-0.4"
  },
  "language_info": {
   "file_extension": ".jl",
   "mimetype": "application/julia",
   "name": "julia",
   "version": "0.4.5"
  }
 },
 "nbformat": 4,
 "nbformat_minor": 0
}
