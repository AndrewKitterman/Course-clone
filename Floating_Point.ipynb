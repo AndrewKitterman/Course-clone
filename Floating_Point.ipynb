{
 "cells": [
  {
   "cell_type": "code",
   "execution_count": 14,
   "metadata": {
    "collapsed": false
   },
   "outputs": [
    {
     "name": "stdout",
     "output_type": "stream",
     "text": [
      "M = typemax(Int8) = 127\n"
     ]
    },
    {
     "data": {
      "text/plain": [
       "127"
      ]
     },
     "execution_count": 14,
     "metadata": {},
     "output_type": "execute_result"
    }
   ],
   "source": [
    "@show M = typemax(Int8)"
   ]
  },
  {
   "cell_type": "code",
   "execution_count": 15,
   "metadata": {
    "collapsed": false
   },
   "outputs": [
    {
     "name": "stdout",
     "output_type": "stream",
     "text": [
      "bits(Int8(0)) = \"00000000\"\n",
      "bits(Int8(1)) = \"00000001\"\n",
      "bits(Int8(2)) = \"00000010\"\n",
      "bits(Int8(3)) = \"00000011\"\n"
     ]
    },
    {
     "data": {
      "text/plain": [
       "\"00000011\""
      ]
     },
     "execution_count": 15,
     "metadata": {},
     "output_type": "execute_result"
    }
   ],
   "source": [
    "@show bits(Int8(0))\n",
    "@show bits(Int8(1))\n",
    "@show bits(Int8(2))\n",
    "@show bits(Int8(3))"
   ]
  },
  {
   "cell_type": "code",
   "execution_count": 16,
   "metadata": {
    "collapsed": false
   },
   "outputs": [
    {
     "name": "stdout",
     "output_type": "stream",
     "text": [
      "bits(Int8(-1)) = \"11111111\"\n",
      "bits(Int8(-128)) = \"10000000\"\n"
     ]
    },
    {
     "data": {
      "text/plain": [
       "\"10000000\""
      ]
     },
     "execution_count": 16,
     "metadata": {},
     "output_type": "execute_result"
    }
   ],
   "source": [
    "@show bits(Int8(-1))\n",
    "@show bits(Int8(-128))"
   ]
  },
  {
   "cell_type": "code",
   "execution_count": 17,
   "metadata": {
    "collapsed": false
   },
   "outputs": [
    {
     "name": "stdout",
     "output_type": "stream",
     "text": [
      "bits(Int8(4)) = \"00000100\"\n",
      "bits(Int8(-3)) = \"11111101\"\n"
     ]
    },
    {
     "data": {
      "text/plain": [
       "\"11111101\""
      ]
     },
     "execution_count": 17,
     "metadata": {},
     "output_type": "execute_result"
    }
   ],
   "source": [
    "@show bits(Int8(4))\n",
    "@show bits(Int8(-3))"
   ]
  },
  {
   "cell_type": "code",
   "execution_count": 18,
   "metadata": {
    "collapsed": false
   },
   "outputs": [
    {
     "name": "stdout",
     "output_type": "stream",
     "text": [
      "bits(Int8(3)) = \"00000011\"\n",
      "bits(Int8(-5)) = \"11111011\"\n",
      "bits(Int8(-2)) = \"11111110\"\n"
     ]
    },
    {
     "data": {
      "text/plain": [
       "\"11111110\""
      ]
     },
     "execution_count": 18,
     "metadata": {},
     "output_type": "execute_result"
    }
   ],
   "source": [
    "@show bits(Int8(3))\n",
    "@show bits(Int8(-5))\n",
    "@show bits(Int8(-2))"
   ]
  },
  {
   "cell_type": "code",
   "execution_count": 19,
   "metadata": {
    "collapsed": false
   },
   "outputs": [
    {
     "name": "stdout",
     "output_type": "stream",
     "text": [
      "1.000000000000000222044604925031308084726333618164\n",
      "2.000000000000000444089209850062616169452667236328\n"
     ]
    }
   ],
   "source": [
    "@printf \"%.48f\\n\" nextfloat(1.0)\n",
    "@printf \"%.48f\\n\" nextfloat(2.0)"
   ]
  },
  {
   "cell_type": "code",
   "execution_count": 20,
   "metadata": {
    "collapsed": false
   },
   "outputs": [
    {
     "name": "stdout",
     "output_type": "stream",
     "text": [
      "bits(Float32(3.140625)) = \"01000000010010010000000000000000\"\n"
     ]
    },
    {
     "data": {
      "text/plain": [
       "\"01000000010010010000000000000000\""
      ]
     },
     "execution_count": 20,
     "metadata": {},
     "output_type": "execute_result"
    }
   ],
   "source": [
    "@show bits(Float32(3.140625))"
   ]
  },
  {
   "cell_type": "code",
   "execution_count": 21,
   "metadata": {
    "collapsed": false
   },
   "outputs": [
    {
     "name": "stdout",
     "output_type": "stream",
     "text": [
      "0.00000000000000011102230246251565404236316680908203125\n",
      "0.00000000000000033306690738754696212708950042724609375\n"
     ]
    }
   ],
   "source": [
    "@printf \"%.53f\\n\" ((1.0 + 2.0^(-52)) -  1.0) - 2.0^(-53)\n",
    "@printf \"%.53f\\n\"  (1.0 + 2.0^(-52)) - (1.0  - 2.0^(-53))"
   ]
  },
  {
   "cell_type": "code",
   "execution_count": 22,
   "metadata": {
    "collapsed": false
   },
   "outputs": [
    {
     "name": "stdout",
     "output_type": "stream",
     "text": [
      "0.3000000000000000444089209850062616169452667236328125\n",
      "0.299999999999999988897769753748434595763683319091796875\n",
      "0.40000000000000002220446049250313080847263336181640625\n",
      "0.40000000000000002220446049250313080847263336181640625\n"
     ]
    }
   ],
   "source": [
    "@printf \"%.52f\\n\" 0.1 + 0.2\n",
    "@printf \"%.54f\\n\" 0.3\n",
    "@printf \"%.53f\\n\" 0.1 + 0.3\n",
    "@printf \"%.53f\\n\" 0.4"
   ]
  },
  {
   "cell_type": "code",
   "execution_count": 23,
   "metadata": {
    "collapsed": false
   },
   "outputs": [
    {
     "data": {
      "text/plain": [
       "Plots.PyPlotBackend()"
      ]
     },
     "execution_count": 23,
     "metadata": {},
     "output_type": "execute_result"
    }
   ],
   "source": [
    "using Plots\n",
    "pyplot()"
   ]
  },
  {
   "cell_type": "code",
   "execution_count": 33,
   "metadata": {
    "collapsed": false
   },
   "outputs": [
    {
     "data": {
      "text/html": [
       "<img src=\"data:image/png;base64,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\" />"
      ]
     },
     "execution_count": 33,
     "metadata": {},
     "output_type": "execute_result"
    }
   ],
   "source": [
    "# Re-run this script with \"Cell -> Run All\" to see the plot\n",
    "\n",
    "function f(x)\n",
    "    z = Array(Float64,length(x))\n",
    "    for i=1:length(x)\n",
    "        z[i] = (exp(x[i])-1) / ((1 + x[i]) - 1) - 1\n",
    "    end\n",
    "    return z\n",
    "end\n",
    "s = 8e-3\n",
    "x = 1e-9 * (-1-s/2 : s : 1+s/2)\n",
    "# x = 1e-7 * (-1-s/2 : s : 1+s/2)\n",
    "plot(x,(exp(x)-1) ./ x - 1, lab=\"l1\")\n",
    "plot!(x,f(x),lab=\"l2\")\n",
    "# Compiler makes unhelpful optimizations if we use (exp(x)-1) ./ ((1+x)-1) - 1\n",
    "# plot!(x,(exp(x)-1) ./ ((1+x)-1) - 1,lab=\"z2b\")\n",
    "plot!(x,x/2 + x.^2/6 + x.^3/24,lab=\"l3\")"
   ]
  },
  {
   "cell_type": "code",
   "execution_count": 27,
   "metadata": {
    "collapsed": false
   },
   "outputs": [
    {
     "name": "stdout",
     "output_type": "stream",
     "text": [
      "set_bigfloat_precision(16) = 16\n",
      "x0       1.000045776367187500000000000000\n",
      "x1       1.000000000000000000000000000000\n",
      "x-y BF   0.000061035156250000000000000000\n",
      "x-y 64   0.000045776367187500000000000000\n",
      "For Err  3.333333e-01\n",
      "x pertub 0.000015258789062500000000000000\n",
      "f        0.000061035156250000000000000000\n",
      "B error  1.525879e-05\n"
     ]
    }
   ],
   "source": [
    "@show set_bigfloat_precision(16)\n",
    "ϵ = 2.0^(-15) + 2.0^(-16)\n",
    "x0 = 1 + ϵ\n",
    "x1 = 1\n",
    "\n",
    "@printf \"x0       %.30f\\n\" x0\n",
    "@printf \"x1       %.30f\\n\" x1\n",
    "\n",
    "BF = BigFloat(x0) - BigFloat(x1)\n",
    "@printf \"x-y BF   %.30f\\n\" BF\n",
    "\n",
    "fx = x0 - x1\n",
    "@assert fx == ϵ\n",
    "@printf \"x-y 64   %.30f\\n\" fx\n",
    "\n",
    "δf = Float64(BF) - fx\n",
    "@assert 2.0^(-16) == δf\n",
    "@printf \"For Err  %e\\n\" δf / fx\n",
    "\n",
    "δx = δf\n",
    "@printf \"x pertub %.30f\\n\" δx\n",
    "x1t = x1 - δx\n",
    "\n",
    "@printf \"f        %.30f\\n\" x0 - x1t\n",
    "@printf \"B error  %e\\n\" abs(δx) / x1"
   ]
  },
  {
   "cell_type": "code",
   "execution_count": 29,
   "metadata": {
    "collapsed": false
   },
   "outputs": [
    {
     "name": "stdout",
     "output_type": "stream",
     "text": [
      "A = [0.5000000596046448 0.4999999403953552\n",
      " 0.4999999403953552 0.5000000596046448]\n",
      "x = A \\ b = [1.0,1.0]\n",
      "xe = A \\ (b + e) = [1.5000000596046377,0.5000000596046519]\n",
      "x - xe = [-0.5000000596046377,0.4999999403953481]\n"
     ]
    },
    {
     "data": {
      "text/plain": [
       "2-element Array{Float64,1}:\n",
       " -0.5\n",
       "  0.5"
      ]
     },
     "execution_count": 29,
     "metadata": {},
     "output_type": "execute_result"
    }
   ],
   "source": [
    "U = [1 1; 1 -1]; ϵ = 2.0^(-23)\n",
    "A = 1/2 * U * diagm([1,ϵ]) * U.' # Has norm 1\n",
    "b = [1; 1]; e = [2.0^(-23); 0]\n",
    "@show A\n",
    "@show x = A \\ b\n",
    "@show xe = A \\ (b + e)\n",
    "@show x - xe"
   ]
  }
 ],
 "metadata": {
  "anaconda-cloud": {},
  "kernelspec": {
   "display_name": "Julia 0.4.6",
   "language": "julia",
   "name": "julia-0.4"
  },
  "language_info": {
   "file_extension": ".jl",
   "mimetype": "application/julia",
   "name": "julia",
   "version": "0.4.6"
  }
 },
 "nbformat": 4,
 "nbformat_minor": 0
}
