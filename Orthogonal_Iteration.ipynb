{
 "cells": [
  {
   "cell_type": "code",
   "execution_count": 8,
   "metadata": {
    "collapsed": true
   },
   "outputs": [],
   "source": [
    "# Initialize the random number generator\n",
    "rng = MersenneTwister(2016);"
   ]
  },
  {
   "cell_type": "code",
   "execution_count": 9,
   "metadata": {
    "collapsed": false
   },
   "outputs": [
    {
     "data": {
      "text/plain": [
       "pretty_print (generic function with 1 method)"
      ]
     },
     "execution_count": 9,
     "metadata": {},
     "output_type": "execute_result"
    }
   ],
   "source": [
    "function pretty_print(v)\n",
    "    @printf \"[\"\n",
    "    for i=1:length(v)\n",
    "        @printf \"%8.5f\" v[i]\n",
    "        if i < length(v)\n",
    "            @printf \"  \"\n",
    "        end\n",
    "    end\n",
    "    @printf \"]\\n\"\n",
    "end    "
   ]
  },
  {
   "cell_type": "code",
   "execution_count": 10,
   "metadata": {
    "collapsed": false
   },
   "outputs": [
    {
     "data": {
      "text/plain": [
       "4x4 Array{Float64,2}:\n",
       "  0.4243     0.325641   0.290424  -0.0383016\n",
       "  0.325641   0.327093   0.278628   0.0323107\n",
       "  0.290424   0.278628   0.438948   0.115986 \n",
       " -0.0383016  0.0323107  0.115986   0.137785 "
      ]
     },
     "execution_count": 10,
     "metadata": {},
     "output_type": "execute_result"
    }
   ],
   "source": [
    "# Size of matrix\n",
    "n = 4\n",
    "Q = rand(rng, n, n)\n",
    "Q, = qr(Q)\n",
    "\n",
    "Λ = diagm(Float32[4.0^(-i) for i=0:n-1])\n",
    "\n",
    "A = Q * Λ * Q'"
   ]
  },
  {
   "cell_type": "code",
   "execution_count": 11,
   "metadata": {
    "collapsed": false
   },
   "outputs": [
    {
     "name": "stdout",
     "output_type": "stream",
     "text": [
      "\n",
      "Iteration 1\n",
      "[-0.51027  -0.49695  -0.67445  -0.19436]\n",
      "[-0.59721  -0.53726  -0.59106  -0.07311]\n",
      "[ 0.51902   0.39708  -0.52932  -0.54108]\n",
      "[ 0.49054   0.13115  -0.53093  -0.67844]\n",
      "\n",
      "Iteration 2\n",
      "[-0.57508  -0.53058  -0.61413  -0.10301]\n",
      "[-0.59721  -0.53726  -0.59106  -0.07311]\n",
      "[ 0.50480   0.19864  -0.53580  -0.64703]\n",
      "[ 0.49054   0.13115  -0.53093  -0.67844]\n",
      "\n",
      "Iteration 3\n",
      "[-0.59174  -0.53575  -0.59692  -0.08061]\n",
      "[-0.59721  -0.53726  -0.59106  -0.07311]\n",
      "[ 0.49455   0.14800  -0.53250  -0.67079]\n",
      "[ 0.49054   0.13115  -0.53093  -0.67844]\n",
      "\n",
      "Iteration 4\n",
      "[-0.59585  -0.53689  -0.59253  -0.07499]\n",
      "[-0.59721  -0.53726  -0.59106  -0.07311]\n",
      "[ 0.49157   0.13536  -0.53135  -0.67654]\n",
      "[ 0.49054   0.13115  -0.53093  -0.67844]\n"
     ]
    }
   ],
   "source": [
    "r = 2\n",
    "Qk = rand(rng, n, r)\n",
    "\n",
    "for k=1:4\n",
    "    Qk = A * Qk\n",
    "    Qk, Rk = qr(Qk)\n",
    "    for j=1:2\n",
    "        if Qk[1,j] * Q[1,j] < 0\n",
    "            Qk[:,j] = -Qk[:,j]\n",
    "            # This is not necessary but avoids conflicting signs later\n",
    "        end\n",
    "    end\n",
    "    println(\"\\nIteration \",k)\n",
    "    pretty_print(Qk[:,1])\n",
    "    pretty_print(Q[:,1])\n",
    "    pretty_print(Qk[:,2])\n",
    "    pretty_print(Q[:,2])\n",
    "end"
   ]
  },
  {
   "cell_type": "code",
   "execution_count": 12,
   "metadata": {
    "collapsed": false
   },
   "outputs": [
    {
     "data": {
      "text/plain": [
       "30x2 Array{Float64,2}:\n",
       " 0.126301     1.15456    \n",
       " 0.0313297    0.602246   \n",
       " 0.00782845   0.173239   \n",
       " 0.00195705   0.0437703  \n",
       " 0.000489262  0.0109499  \n",
       " 0.000122315  0.00273759 \n",
       " 3.05788e-5   0.000684399\n",
       " 7.64471e-6   0.0001711  \n",
       " 1.91118e-6   4.2775e-5  \n",
       " 4.77794e-7   1.06937e-5 \n",
       " 1.19449e-7   2.67344e-6 \n",
       " 2.98622e-8   6.68359e-7 \n",
       " 7.46554e-9   1.6709e-7  \n",
       " ⋮                       \n",
       " 1.82266e-12  4.07936e-11\n",
       " 4.55891e-13  1.01985e-11\n",
       " 1.1406e-13   2.54969e-12\n",
       " 2.8662e-14   6.37648e-13\n",
       " 7.13232e-15  1.59609e-13\n",
       " 1.76592e-15  4.01093e-14\n",
       " 3.98609e-16  1.02808e-14\n",
       " 2.32634e-16  2.81962e-15\n",
       " 1.11886e-16  9.22221e-16\n",
       " 1.11022e-16  5.55112e-16\n",
       " 1.11022e-16  3.33067e-16\n",
       " 1.11022e-16  3.84593e-16"
      ]
     },
     "execution_count": 12,
     "metadata": {},
     "output_type": "execute_result"
    }
   ],
   "source": [
    "Qk = rand(rng, n, r)\n",
    "niter = 30\n",
    "err = zeros(niter,2)\n",
    "\n",
    "for k=1:niter\n",
    "    Qk = A * Qk\n",
    "    Qk, Rk = qr(Qk)\n",
    "    for j=1:2\n",
    "        if Qk[1,j] * Q[1,j] < 0\n",
    "            Qk[:,j] = -Qk[:,j]\n",
    "        end\n",
    "        err[k,j] = norm(Qk[:,j] - Q[:,j])\n",
    "    end\n",
    "end\n",
    "err"
   ]
  },
  {
   "cell_type": "code",
   "execution_count": 13,
   "metadata": {
    "collapsed": false
   },
   "outputs": [],
   "source": [
    "using PlotlyJS"
   ]
  },
  {
   "cell_type": "code",
   "execution_count": 14,
   "metadata": {
    "collapsed": false
   },
   "outputs": [
    {
     "data": {
      "text/html": [
       "<div id=\"120a25cf-6b33-4e57-ac09-fb58cec25a28\" class=\"plotly-graph-div\"></div>\n",
       "\n",
       "<script>\n",
       "    window.PLOTLYENV=window.PLOTLYENV || {};\n",
       "    window.PLOTLYENV.BASE_URL=\"https://plot.ly\";\n",
       "    require(['plotly'], function(Plotly) {\n",
       "        Plotly.newPlot('120a25cf-6b33-4e57-ac09-fb58cec25a28', [{\"y\":[0.1263013184895126,0.03132967589174735,0.007828449732518353,0.001957050284628753,0.0004892615999606581,0.00012231538481499919,3.0578845966758204e-5,7.644711488109268e-6,1.911177871887826e-6,4.777944680570387e-7,1.1944861698849678e-7,2.9862154373362113e-8,7.465538518078104e-9,1.8663846639124324e-9,4.665961491181244e-10,1.1664916839477258e-10,2.916241989606227e-11,7.290509892877206e-12,1.8226618195694745e-12,4.558908340980728e-13,1.1405990942181044e-13,2.8661959484433425e-14,7.132318894096712e-15,1.7659178253678205e-15,3.98609107286759e-16,2.3263411494723067e-16,1.1188630228279524e-16,1.1102230246251565e-16,1.1102230246251565e-16,1.1102230246251565e-16],\"name\":\"q1 err\",\"type\":\"scatter\"},{\"y\":[1.154555281573563,0.6022460985595839,0.17323917758639204,0.04377027253943534,0.010949904032636808,0.002737590772351008,0.0006843994864161578,0.00017109989962502752,4.2774975344530246e-5,1.0693743843080032e-5,2.673435961096566e-6,6.683589906489127e-7,1.6708974775358732e-7,4.177243721611481e-8,1.044310955735402e-8,2.610777526086301e-9,6.52694505803511e-10,1.6317374590208314e-10,4.0793600059948085e-11,1.0198472407971008e-11,2.5496904142283895e-12,6.376479705041386e-13,1.5960933955290013e-13,4.0109332538473045e-14,1.0280809080416362e-14,2.819616784322031e-15,9.222205069512407e-16,5.551115123125783e-16,3.3306690738754696e-16,3.8459253727671276e-16],\"name\":\"q2 err\",\"type\":\"scatter\"},{\"y\":[0.25,0.0625,0.015625,0.00390625,0.0009765625,0.00024414062,6.1035156e-5,1.5258789e-5,3.8146973e-6,9.536743e-7,2.3841858e-7,5.9604645e-8,1.4901161e-8,3.7252903e-9,9.313226e-10,2.3283064e-10,5.820766e-11,1.4551915e-11,3.637979e-12,9.094947e-13,2.2737368e-13,5.684342e-14,1.4210855e-14,3.5527137e-15,8.881784e-16,2.220446e-16,5.551115e-17,1.3877788e-17,3.469447e-18,8.6736174e-19],\"name\":\"Theory\",\"type\":\"scatter\",\"line\":{\"dash\":\"dash\"}}],\n",
       "               {\"yaxis\":{\"type\":\"log\",\"title\":\"Error\"},\"xaxis\":{\"title\":\"Iteration\"},\"margin\":{\"r\":50,\"l\":50,\"b\":50,\"t\":60}}, {showLink: false});\n",
       "\n",
       "    });\n",
       " </script>\n"
      ]
     },
     "execution_count": 14,
     "metadata": {},
     "output_type": "execute_result"
    }
   ],
   "source": [
    "sc1 = scatter(y=err[:,1],name=\"q1 err\")\n",
    "sc2 = scatter(y=err[:,2],name=\"q2 err\")\n",
    "sc3 = scatter(y=Float32[4.0^(-i) for i=1:niter],name=\"Theory\",line_dash=\"dash\")\n",
    "plot([sc1, sc2, sc3],Layout(yaxis_type=\"log\",xaxis_title=\"Iteration\",yaxis_title=\"Error\"))"
   ]
  }
 ],
 "metadata": {
  "anaconda-cloud": {},
  "kernelspec": {
   "display_name": "Julia 0.4.6",
   "language": "julia",
   "name": "julia-0.4"
  },
  "language_info": {
   "file_extension": ".jl",
   "mimetype": "application/julia",
   "name": "julia",
   "version": "0.4.6"
  }
 },
 "nbformat": 4,
 "nbformat_minor": 0
}
