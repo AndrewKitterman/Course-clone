{
 "cells": [
  {
   "cell_type": "code",
   "execution_count": 11,
   "metadata": {
    "collapsed": true
   },
   "outputs": [],
   "source": [
    "# Initialize the random number generator\n",
    "rng = MersenneTwister(2016);"
   ]
  },
  {
   "cell_type": "code",
   "execution_count": 12,
   "metadata": {
    "collapsed": false
   },
   "outputs": [
    {
     "data": {
      "text/plain": [
       "pretty_print (generic function with 1 method)"
      ]
     },
     "execution_count": 12,
     "metadata": {},
     "output_type": "execute_result"
    }
   ],
   "source": [
    "function pretty_print(v)\n",
    "    @printf \"[\"\n",
    "    for i=1:length(v)\n",
    "        @printf \"%8.5f\" v[i]\n",
    "        if i < length(v)\n",
    "            @printf \"  \"\n",
    "        end\n",
    "    end\n",
    "    @printf \"]\\n\"\n",
    "end    "
   ]
  },
  {
   "cell_type": "code",
   "execution_count": 13,
   "metadata": {
    "collapsed": false
   },
   "outputs": [
    {
     "data": {
      "text/plain": [
       "4x4 Array{Float64,2}:\n",
       "  0.530496   0.290802   0.221849  -0.0953488\n",
       "  0.290802   0.446154   0.204698   0.0396639\n",
       "  0.221849   0.204698   0.572017   0.143619 \n",
       " -0.0953488  0.0396639  0.143619   0.326334 "
      ]
     },
     "execution_count": 13,
     "metadata": {},
     "output_type": "execute_result"
    }
   ],
   "source": [
    "# Size of matrix\n",
    "n = 4\n",
    "Q = rand(rng, n, n)\n",
    "Q, = qr(Q)\n",
    "\n",
    "Λ = diagm(Float32[2.0^(-i) for i=0:n-1])\n",
    "\n",
    "A = Q * Λ * Q'"
   ]
  },
  {
   "cell_type": "code",
   "execution_count": 14,
   "metadata": {
    "collapsed": false
   },
   "outputs": [
    {
     "name": "stdout",
     "output_type": "stream",
     "text": [
      "\n",
      "Iteration 1\n",
      "[-0.45382  -0.40682  -0.71866  -0.33477]\n",
      "[-0.59721  -0.53726  -0.59106  -0.07311]\n",
      "[ 0.48450   0.62440  -0.48502  -0.37435]\n",
      "[ 0.49054   0.13115  -0.53093  -0.67844]\n",
      "\n",
      "Iteration 2\n",
      "[-0.51027  -0.49695  -0.67445  -0.19436]\n",
      "[-0.59721  -0.53726  -0.59106  -0.07311]\n",
      "[ 0.51902   0.39708  -0.52932  -0.54108]\n",
      "[ 0.49054   0.13115  -0.53093  -0.67844]\n",
      "\n",
      "Iteration 3\n",
      "[-0.55270  -0.52190  -0.63599  -0.13288]\n",
      "[-0.59721  -0.53726  -0.59106  -0.07311]\n",
      "[ 0.51426   0.26596  -0.53696  -0.61358]\n",
      "[ 0.49054   0.13115  -0.53093  -0.67844]\n",
      "\n",
      "Iteration 4\n",
      "[-0.57508  -0.53058  -0.61413  -0.10301]\n",
      "[-0.59721  -0.53726  -0.59106  -0.07311]\n",
      "[ 0.50480   0.19864  -0.53580  -0.64703]\n",
      "[ 0.49054   0.13115  -0.53093  -0.67844]\n"
     ]
    }
   ],
   "source": [
    "r = 2\n",
    "Qk = rand(rng, n, r)\n",
    "\n",
    "for k=1:4\n",
    "    Qk = A * Qk\n",
    "    Qk, = qr(Qk)\n",
    "    for j=1:2\n",
    "        if Qk[1,j] * Q[1,j] < 0\n",
    "            Qk[:,j] = -Qk[:,j]\n",
    "            # This is not necessary but avoids conflicting signs\n",
    "        end\n",
    "    end\n",
    "    println(\"\\nIteration \",k)\n",
    "    pretty_print(Qk[:,1])\n",
    "    pretty_print(Q[:,1])\n",
    "    pretty_print(Qk[:,2])\n",
    "    pretty_print(Q[:,2])\n",
    "end"
   ]
  },
  {
   "cell_type": "code",
   "execution_count": 15,
   "metadata": {
    "collapsed": false
   },
   "outputs": [
    {
     "data": {
      "text/plain": [
       "30x2 Array{Float64,2}:\n",
       " 0.258078     1.53948   \n",
       " 0.126301     1.15456   \n",
       " 0.0627601    0.917151  \n",
       " 0.0313297    0.602246  \n",
       " 0.0156585    0.335526  \n",
       " 0.00782845   0.173239  \n",
       " 0.00391413   0.0873537 \n",
       " 0.00195705   0.0437703 \n",
       " 0.000978524  0.0218969 \n",
       " 0.000489262  0.0109499 \n",
       " 0.000244631  0.00547514\n",
       " 0.000122315  0.00273759\n",
       " 6.11577e-5   0.0013688 \n",
       " ⋮                      \n",
       " 9.55589e-7   2.13875e-5\n",
       " 4.77794e-7   1.06937e-5\n",
       " 2.38897e-7   5.34687e-6\n",
       " 1.19449e-7   2.67344e-6\n",
       " 5.97243e-8   1.33672e-6\n",
       " 2.98622e-8   6.68359e-7\n",
       " 1.49311e-8   3.34179e-7\n",
       " 7.46554e-9   1.6709e-7 \n",
       " 3.73277e-9   8.35449e-8\n",
       " 1.86638e-9   4.17724e-8\n",
       " 9.33192e-10  2.08862e-8\n",
       " 4.66596e-10  1.04431e-8"
      ]
     },
     "execution_count": 15,
     "metadata": {},
     "output_type": "execute_result"
    }
   ],
   "source": [
    "Qk = rand(rng, n, r)\n",
    "niter = 30\n",
    "err = zeros(niter,2)\n",
    "\n",
    "for k=1:niter\n",
    "    Qk = A * Qk\n",
    "    Qk, Rk = qr(Qk)\n",
    "    for j=1:2\n",
    "        if Qk[1,j] * Q[1,j] < 0\n",
    "            Qk[:,j] = -Qk[:,j]\n",
    "        end\n",
    "        err[k,j] = norm(Qk[:,j] - Q[:,j])\n",
    "    end\n",
    "end\n",
    "err"
   ]
  },
  {
   "cell_type": "code",
   "execution_count": 16,
   "metadata": {
    "collapsed": false
   },
   "outputs": [
    {
     "data": {
      "text/plain": [
       "Plots.PlotlyJSBackend()"
      ]
     },
     "execution_count": 16,
     "metadata": {},
     "output_type": "execute_result"
    }
   ],
   "source": [
    "using Plots\n",
    "plotlyjs()"
   ]
  },
  {
   "cell_type": "code",
   "execution_count": 17,
   "metadata": {
    "collapsed": false
   },
   "outputs": [
    {
     "data": {
      "text/html": [
       "<html>\n",
       "<head>\n",
       "     <script src=\"/Users/darve/.julia/v0.4/PlotlyJS/deps/plotly-latest.min.js\"></script>\n",
       "</head>\n",
       "<body>\n",
       "     <div id=\"2b00e1be-c378-4361-b509-39b034f869d9\" class=\"plotly-graph-div\"></div>\n",
       "\n",
       "<script>\n",
       "    window.PLOTLYENV=window.PLOTLYENV || {};\n",
       "    window.PLOTLYENV.BASE_URL=\"https://plot.ly\";\n",
       "    Plotly.newPlot('2b00e1be-c378-4361-b509-39b034f869d9', [{\"yaxis\":\"y\",\"y\":[0.25807838320764404,0.12630131848951276,0.06276013016904398,0.03132967589174745,0.015658489649638962,0.00782844973251852,0.00391412543108978,0.0019570502846288185,0.0009785235884024865,0.0004892615999608274,0.00024463077570034474,0.0001223153848151843,6.11576920281956e-5,3.0578845966691214e-5,1.5289422977363945e-5,7.644711487922148e-6,3.822355743871471e-6,1.911177871860948e-6,9.555889360699407e-7,4.777944680946998e-7,2.3889723398348865e-7,1.1944861708510268e-7,5.972430863154334e-8,2.9862154493068674e-8,1.4931077331118964e-8,7.465538721580051e-9,3.732769362135869e-9,1.8663847204039283e-9,9.331923952904225e-10,4.665961872274778e-10],\"showlegend\":true,\"name\":\"Error in q1\",\"type\":\"scatter\",\"xaxis\":\"x\",\"line\":{\"width\":1,\"dash\":\"solid\",\"color\":\"rgba(0, 154, 250, 1.000)\",\"shape\":\"linear\"},\"x\":[1,2,3,4,5,6,7,8,9,10,11,12,13,14,15,16,17,18,19,20,21,22,23,24,25,26,27,28,29,30],\"mode\":\"lines\"},{\"yaxis\":\"y\",\"y\":[1.5394815276877258,1.15455528157357,0.9171508766728367,0.6022460985595961,0.3355264684547229,0.17323917758639665,0.0873536526989128,0.043770272539436356,0.021896870993378788,0.01094990403263716,0.005475135636371222,0.00273759077235091,0.0013687982554979902,0.0006843994864162434,0.00034219978804163554,0.00017109989962523818,8.554995051348033e-5,4.2774975344251e-5,2.138748768322321e-5,1.0693743843212439e-5,5.346871922054566e-6,2.6734359610672413e-6,1.3367179807002841e-6,6.683589903892025e-7,3.341794952451419e-7,1.6708974769510655e-7,8.354487397264559e-8,4.177243721121563e-8,2.088621857846361e-8,1.0443109339508521e-8],\"showlegend\":true,\"name\":\"Error in q2\",\"type\":\"scatter\",\"xaxis\":\"x\",\"line\":{\"width\":1,\"dash\":\"solid\",\"color\":\"rgba(227, 111, 71, 1.000)\",\"shape\":\"linear\"},\"x\":[1,2,3,4,5,6,7,8,9,10,11,12,13,14,15,16,17,18,19,20,21,22,23,24,25,26,27,28,29,30],\"mode\":\"lines\"},{\"yaxis\":\"y\",\"y\":[0.25,0.0625,0.015625,0.00390625,0.0009765625,0.00024414062,6.1035156e-5,1.5258789e-5,3.8146973e-6,9.536743e-7,2.3841858e-7,5.9604645e-8,1.4901161e-8,3.7252903e-9,9.313226e-10,2.3283064e-10,5.820766e-11,1.4551915e-11,3.637979e-12,9.094947e-13,2.2737368e-13,5.684342e-14,1.4210855e-14,3.5527137e-15,8.881784e-16,2.220446e-16,5.551115e-17,1.3877788e-17,3.469447e-18,8.6736174e-19],\"showlegend\":true,\"name\":\"Theoretical convergence\",\"type\":\"scatter\",\"xaxis\":\"x\",\"line\":{\"width\":1,\"dash\":\"dash\",\"color\":\"rgba(62, 164, 78, 1.000)\",\"shape\":\"linear\"},\"x\":[1,2,3,4,5,6,7,8,9,10,11,12,13,14,15,16,17,18,19,20,21,22,23,24,25,26,27,28,29,30],\"mode\":\"lines\"}],\n",
       "               {\"yaxis\":{\"type\":\"log\",\"titlefont\":{\"size\":15,\"color\":\"rgba(0, 0, 0, 1.000)\",\"family\":\"Helvetica\"},\"title\":\"Error\",\"tickfont\":{\"size\":11,\"color\":\"rgba(0, 0, 0, 1.000)\",\"family\":\"Helvetica\"},\"tickmode\":\"array\",\"showgrid\":true,\"tickvals\":[1.0e-15,1.0e-10,9.999999999999999e-6,1.0],\"domain\":[0.09549978127734039,0.9901574803149606],\"ticktext\":[\"10^-15\",\"10^-10\",\"10^-5\",\"10^0\"],\"zeroline\":false,\"linecolor\":\"rgba(0, 0, 0, 1.000)\",\"tickcolor\":\"rgba(0, 0, 0, 1.000)\",\"anchor\":\"x\"},\"annotations\":[],\"width\":600,\"plot_bgcolor\":\"rgba(255, 255, 255, 1.000)\",\"showlegend\":true,\"legend\":{\"bgcolor\":\"rgba(255, 255, 255, 1.000)\",\"font\":{\"size\":11,\"color\":\"rgba(0, 0, 0, 1.000)\",\"family\":\"Helvetica\"},\"bordercolor\":\"rgba(0, 0, 0, 1.000)\"},\"xaxis\":{\"type\":\"-\",\"titlefont\":{\"size\":15,\"color\":\"rgba(0, 0, 0, 1.000)\",\"family\":\"Helvetica\"},\"title\":\"Iteration\",\"tickfont\":{\"size\":11,\"color\":\"rgba(0, 0, 0, 1.000)\",\"family\":\"Helvetica\"},\"tickmode\":\"array\",\"showgrid\":true,\"tickvals\":[10.0,20.0,30.0],\"domain\":[0.2748067949839603,0.9934383202099737],\"ticktext\":[\"10\",\"20\",\"30\"],\"zeroline\":false,\"linecolor\":\"rgba(0, 0, 0, 1.000)\",\"tickcolor\":\"rgba(0, 0, 0, 1.000)\",\"anchor\":\"y\"},\"paper_bgcolor\":\"rgba(255, 255, 255, 1.000)\",\"margin\":{\"r\":0,\"l\":0,\"b\":0,\"t\":20},\"height\":400}, {showLink: false});\n",
       "\n",
       " </script>\n",
       "\n",
       "</body>\n",
       "</html>\n"
      ]
     },
     "execution_count": 17,
     "metadata": {},
     "output_type": "execute_result"
    }
   ],
   "source": [
    "plot(err[:,1],lab=\"Error in q1\",yscale=:log10,left_margin=30mm)\n",
    "plot!(err[:,2],lab=\"Error in q2\")\n",
    "plot!(Float32[4.0^(-i) for i=1:niter],lab=\"Theoretical convergence\",linestyle=:dash)\n",
    "xaxis!(\"Iteration\")\n",
    "yaxis!(\"Error\")"
   ]
  }
 ],
 "metadata": {
  "anaconda-cloud": {},
  "kernelspec": {
   "display_name": "Julia 0.4.6",
   "language": "julia",
   "name": "julia-0.4"
  },
  "language_info": {
   "file_extension": ".jl",
   "mimetype": "application/julia",
   "name": "julia",
   "version": "0.4.6"
  }
 },
 "nbformat": 4,
 "nbformat_minor": 0
}
