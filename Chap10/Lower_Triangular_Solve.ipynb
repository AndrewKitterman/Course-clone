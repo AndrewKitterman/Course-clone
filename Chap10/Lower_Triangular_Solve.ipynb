{
 "cells": [
  {
   "cell_type": "code",
   "execution_count": 1,
   "metadata": {},
   "outputs": [],
   "source": [
    "using LinearAlgebra\n",
    "using SparseArrays\n",
    "using Plots\n",
    "using Random\n",
    "using MatrixMarket"
   ]
  },
  {
   "cell_type": "code",
   "execution_count": 2,
   "metadata": {},
   "outputs": [
    {
     "name": "stdout",
     "output_type": "stream",
     "text": [
      "MatrixMarket.mmread(file_name, true) = (150, 150, 1095, \"coordinate\", \"integer\", \"symmetric\")\n",
      "Number of rows    = 150\n",
      "Number of columns = 150\n",
      "Number of entries = 1095\n"
     ]
    },
    {
     "data": {
      "text/plain": [
       "150×150 SparseMatrixCSC{Int64,Int64} with 1095 stored entries:\n",
       "  [1  ,   1]  =  2\n",
       "  [2  ,   1]  =  1\n",
       "  [3  ,   1]  =  1\n",
       "  [5  ,   1]  =  1\n",
       "  [9  ,   1]  =  1\n",
       "  [17 ,   1]  =  1\n",
       "  [33 ,   1]  =  1\n",
       "  [65 ,   1]  =  1\n",
       "  [129,   1]  =  1\n",
       "  [2  ,   2]  =  3\n",
       "  [3  ,   2]  =  1\n",
       "  [4  ,   2]  =  1\n",
       "  ⋮\n",
       "  [146, 146]  =  839\n",
       "  [147, 146]  =  1\n",
       "  [148, 146]  =  1\n",
       "  [150, 146]  =  1\n",
       "  [147, 147]  =  853\n",
       "  [148, 147]  =  1\n",
       "  [149, 147]  =  1\n",
       "  [148, 148]  =  857\n",
       "  [149, 148]  =  1\n",
       "  [150, 148]  =  1\n",
       "  [149, 149]  =  859\n",
       "  [150, 149]  =  1\n",
       "  [150, 150]  =  863"
      ]
     },
     "execution_count": 2,
     "metadata": {},
     "output_type": "execute_result"
    }
   ],
   "source": [
    "file_name = \"Trefethen_150/Trefethen_150.mtx\"\n",
    "# The entries are zero everywhere except for the prime numbers\n",
    "# 2, 3, 5, 7, ..., 863 along the main diagonal.\n",
    "# Then, we add the number 1 in all the positions A[i,j] with\n",
    "# |i-j| = 1, 2, 4, 8, ..., 128.\n",
    "\n",
    "# Load the matrix using the matrix market format (this is an optional step).\n",
    "# Information data for the matrix\n",
    "@show MatrixMarket.mmread(file_name,true)\n",
    "rows, cols, entries, mat_format, field, symm = MatrixMarket.mmread(file_name,true)\n",
    "\n",
    "println(\"Number of rows    = \", rows)\n",
    "println(\"Number of columns = \", cols)\n",
    "println(\"Number of entries = \", entries)\n",
    "\n",
    "# Read the matrix data\n",
    "Amm = MatrixMarket.mmread(file_name)\n",
    "\n",
    "# Keep only the lower triangular part\n",
    "Lmm = tril(Amm)"
   ]
  },
  {
   "cell_type": "code",
   "execution_count": 3,
   "metadata": {},
   "outputs": [
    {
     "data": {
      "image/png": "[encoded data removed]"
     },
     "execution_count": 3,
     "metadata": {},
     "output_type": "execute_result"
    }
   ],
   "source": [
    "# Plot the matrix\n",
    "pyplot()\n",
    "n = Lmm.m # Size of matrix\n",
    "plot(spy(Lmm), xaxis=((0,n+1), 1:20:n), yaxis=((0,n+1), 1:20:n), \n",
    "    markersize = 5, clims = (1,2))"
   ]
  },
  {
   "cell_type": "code",
   "execution_count": 4,
   "metadata": {},
   "outputs": [],
   "source": [
    "include(\"Sparse.jl\")\n",
    ";"
   ]
  },
  {
   "cell_type": "code",
   "execution_count": 5,
   "metadata": {},
   "outputs": [
    {
     "name": "stdout",
     "output_type": "stream",
     "text": [
      "Error should be equal to 0: 0.0\n"
     ]
    },
    {
     "data": {
      "text/plain": [
       "\"PASS\""
      ]
     },
     "execution_count": 5,
     "metadata": {},
     "output_type": "execute_result"
    }
   ],
   "source": [
    "L = SparseMatrixCSR(Lmm);\n",
    "\n",
    "# Matrix-vector product using the CSR format\n",
    "Random.seed!(2018)\n",
    "b = Float64[ rand(-9:9) for _=1:L.n ]\n",
    "b = L*b\n",
    "\n",
    "x = Vector{Float64}(undef,L.m)\n",
    "# Solving: L x = b\n",
    "# L is lower triangular\n",
    "for i=1:L.m\n",
    "    x[i] = b[i]\n",
    "    for k=L.rowptr[i]:L.rowptr[i+1]-2\n",
    "        x[i] -= L.nzval[k] * x[L.colval[k]]\n",
    "    end\n",
    "    x[i] /= L.nzval[L.rowptr[i+1]-1]\n",
    "end    \n",
    "\n",
    "println(\"Error should be equal to 0: \", norm(b - L * x))\n",
    "norm(b - L * x) == 0 ? \"PASS\" : \"FAIL\""
   ]
  }
 ],
 "metadata": {
  "@webio": {
   "lastCommId": null,
   "lastKernelId": null
  },
  "anaconda-cloud": {},
  "kernelspec": {
   "display_name": "Julia 1.5.1",
   "language": "julia",
   "name": "julia-1.5"
  },
  "language_info": {
   "file_extension": ".jl",
   "mimetype": "application/julia",
   "name": "julia",
   "version": "1.5.1"
  }
 },
 "nbformat": 4,
 "nbformat_minor": 4
}
