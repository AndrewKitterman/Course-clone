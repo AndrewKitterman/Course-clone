{
 "cells": [
  {
   "cell_type": "code",
   "execution_count": 1,
   "metadata": {},
   "outputs": [
    {
     "data": {
      "text/plain": [
       "11"
      ]
     },
     "execution_count": 1,
     "metadata": {},
     "output_type": "execute_result"
    }
   ],
   "source": [
    "using MatrixMarket\n",
    "using LinearAlgebra\n",
    "using SparseArrays\n",
    "using Plots\n",
    "using Printf\n",
    "\n",
    "# Read the matrix data\n",
    "file_name = \"example_A.mtx\"\n",
    "A_CSC = SparseMatrixCSC{Float64,Int64}( MatrixMarket.mmread(file_name) )\n",
    "# A is symmetric; we only read the lower triangular part\n",
    "\n",
    "include(\"Sparse.jl\")\n",
    "A = SparseMatrixCSR(A_CSC)\n",
    "n = A.m # Size of matrix"
   ]
  },
  {
   "cell_type": "code",
   "execution_count": 2,
   "metadata": {},
   "outputs": [
    {
     "data": {
      "image/png": "[encoded data removed]"
     },
     "execution_count": 2,
     "metadata": {},
     "output_type": "execute_result"
    }
   ],
   "source": [
    "pyplot()\n",
    "plot(spy(A_CSC), xaxis=((0,n+1), 1:n), yaxis=((0,n+1), 1:n), \n",
    "    markersize = 5, clims = (1,2)) "
   ]
  },
  {
   "cell_type": "code",
   "execution_count": 3,
   "metadata": {},
   "outputs": [
    {
     "data": {
      "text/plain": [
       "etree"
      ]
     },
     "execution_count": 3,
     "metadata": {},
     "output_type": "execute_result"
    }
   ],
   "source": [
    "\"\"\"Function that calculates the elimination tree given a CSR structure\"\"\"\n",
    "function etree(Ap::Vector{Int}, Aj::Vector{Int})\n",
    "    n = length(Ap) - 1\n",
    "    parent   = fill(-1,n) # e-tree information\n",
    "    ancestor = fill(-1,n) # ancestor information to reduce the running time\n",
    "\n",
    "    # We compute the elimination tree\n",
    "    for k=1:n\n",
    "        parent[k]   = -1 # Initialize to -1\n",
    "        ancestor[k] = -1\n",
    "\n",
    "        for p = Ap[k]:Ap[k+1]-1\n",
    "            j = Aj[p] # column index\n",
    "            # Traverse row k and stop before the diagonal\n",
    "            while j != -1 && j < k\n",
    "                jnext = ancestor[j] # Search for the root\n",
    "                ancestor[j] = k # Update ancestor for efficiency\n",
    "                if jnext == -1    # We have found a root\n",
    "                    parent[j] = k # Connect to k\n",
    "                end\n",
    "                j = jnext\n",
    "            end\n",
    "        end\n",
    "    end\n",
    "    return parent\n",
    "end"
   ]
  },
  {
   "cell_type": "code",
   "execution_count": 4,
   "metadata": {},
   "outputs": [
    {
     "data": {
      "text/plain": [
       "row_subtree (generic function with 1 method)"
      ]
     },
     "execution_count": 4,
     "metadata": {},
     "output_type": "execute_result"
    }
   ],
   "source": [
    "function row_subtree(Ap, Aj, parent, k)\n",
    "    n = length(Ap) - 1\n",
    "    s = Vector{Int64}(undef,n)\n",
    "    w  = fill(false,n) # Used to mark points as visited\n",
    "    w[k] = true\n",
    "    len = 1\n",
    "\n",
    "    for p=Ap[k]:Ap[k+1]-1\n",
    "        j = Aj[p] # column index\n",
    "        # Traverse row k and stop before the diagonal\n",
    "        while !w[j] && j < k # Stop when marked node is found\n",
    "            s[len] = j  # Add node to row sub-tree\n",
    "            w[j] = true # Mark node\n",
    "            len += 1\n",
    "            j = parent[j] # Move to parent in e-tree\n",
    "        end\n",
    "    end\n",
    "        \n",
    "    len -= 1\n",
    "    return s[1:len]\n",
    "end"
   ]
  },
  {
   "cell_type": "code",
   "execution_count": 5,
   "metadata": {},
   "outputs": [
    {
     "name": "stdout",
     "output_type": "stream",
     "text": [
      "parent_tree = [6, 3, 8, 6, 8, 7, 9, 10, 10, 11, -1]\n"
     ]
    }
   ],
   "source": [
    "# Compute the elimination tree\n",
    "parent_tree = etree(A.rowptr, A.colval)\n",
    "\n",
    "@show parent_tree\n",
    "\n",
    "# We write the elimination tree to a DOT file.\n",
    "# Use Graphviz to see the graph of the tree.\n",
    "# Open the file \"etree.dot\" using Graphviz.\n",
    "# http://www.graphviz.org/\n",
    "# Command line:\n",
    "# xdot, or\n",
    "# dot -Tpng etree.dot > etree.png\n",
    "#\n",
    "n = A.m # Size of matrix\n",
    "open(\"etree.dot\", \"w\") do f\n",
    "    @printf f \"digraph G {\\n\"\n",
    "    for k=1:n\n",
    "        @printf f \"%d;\\n\" k\n",
    "        if parent_tree[k] != -1\n",
    "            @printf f \"%d -> %d;\\n\" k parent_tree[k]\n",
    "        end\n",
    "    end\n",
    "    @printf f \"label=\\\"Elimination tree of A\\\";\\n\"\n",
    "    @printf f \"labelloc=\\\"t\\\";\\n\"    \n",
    "    @printf f \"}\"\n",
    "end"
   ]
  },
  {
   "cell_type": "code",
   "execution_count": 6,
   "metadata": {},
   "outputs": [],
   "source": [
    "n = A.m # Size of matrix\n",
    "\n",
    "# Select the index of the row subtree\n",
    "k = 8\n",
    "@assert k>=1\n",
    "@assert k<=n\n",
    "\n",
    "# Compute the row sparsity pattern\n",
    "s = row_subtree(A.rowptr, A.colval, parent_tree, k)\n",
    "\n",
    "# We write the row sub-tree to a DOT file.\n",
    "# Use Graphviz to see the graph of the row sub-tree.\n",
    "# Open the file \"row_subtree.dot\".\n",
    "open(\"row_subtree.dot\", \"w\") do f\n",
    "    @printf f \"digraph G {\\n\"\n",
    "    @printf f \"%d; \\n\" k\n",
    "    for i=1:length(s)\n",
    "        @printf f \"%d -> %d;\\n\" s[i] parent_tree[s[i]]\n",
    "    end\n",
    "    @printf f \"label=\\\"Row sub-tree of node %d\\\";\\n\" k\n",
    "    @printf f \"labelloc=\\\"t\\\";\\n\"    \n",
    "    @printf f \"}\"\n",
    "end"
   ]
  }
 ],
 "metadata": {
  "anaconda-cloud": {},
  "kernelspec": {
   "display_name": "Julia 1.0.0",
   "language": "julia",
   "name": "julia-1.0"
  },
  "language_info": {
   "file_extension": ".jl",
   "mimetype": "application/julia",
   "name": "julia",
   "version": "1.0.0"
  }
 },
 "nbformat": 4,
 "nbformat_minor": 1
}
