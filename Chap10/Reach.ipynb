{
 "cells": [
  {
   "cell_type": "code",
   "execution_count": 1,
   "metadata": {},
   "outputs": [
    {
     "data": {
      "image/png": "[encoded data removed]"
     },
     "execution_count": 1,
     "metadata": {},
     "output_type": "execute_result"
    }
   ],
   "source": [
    "using SparseArrays\n",
    "using Plots\n",
    "using MatrixMarket\n",
    "\n",
    "# Read the matrix data\n",
    "file_name = \"reach_example.mtx\"\n",
    "L = MatrixMarket.mmread(file_name)\n",
    "\n",
    "pyplot()\n",
    "spy(L)"
   ]
  },
  {
   "cell_type": "code",
   "execution_count": 2,
   "metadata": {},
   "outputs": [
    {
     "data": {
      "text/plain": [
       "dfs"
      ]
     },
     "execution_count": 2,
     "metadata": {},
     "output_type": "execute_result"
    }
   ],
   "source": [
    "\"\"\"\n",
    "dfs: depth-first search construction of the reach. The ordering\n",
    "of the nodes is important for correctness of the lower triangular solve.\n",
    "\n",
    "input j: index of node for which reach is computed\n",
    "input/output xi: reach set of node\n",
    "input/output top: pointer that locates where the data\n",
    "                  is stored in xi.\n",
    "input/output w: used to mark nodes already visited\n",
    "input Lp: indexing array of L\n",
    "input Li: row index array for L\n",
    "\"\"\"\n",
    "function dfs(j, xi, top, w, Lp, Li)\n",
    "    # Mark the current node\n",
    "    w[j] = true\n",
    "\n",
    "    # Loop over non-zero entries in column j of L\n",
    "    for k=Lp[j]:Lp[j+1]-1\n",
    "        if !w[Li[k]] # Skip node that was marked\n",
    "            xi, top, w = dfs(Li[k], xi, top, w, Lp, Li)\n",
    "            # Call dfs recursively for all nodes in column j\n",
    "        end\n",
    "    end\n",
    "\n",
    "    # Insert j before all nodes inserted so far\n",
    "    xi[top] = j\n",
    "    # Move top one position up\n",
    "    top = top-1\n",
    "\n",
    "    return xi, top, w\n",
    "end"
   ]
  },
  {
   "cell_type": "code",
   "execution_count": 3,
   "metadata": {},
   "outputs": [
    {
     "name": "stdout",
     "output_type": "stream",
     "text": [
      "Reach of node 6\n",
      "[6, 10, 11, 9, 12, 13, 14]\n"
     ]
    }
   ],
   "source": [
    "n = L.m # Size of matrix\n",
    "\n",
    "# Starting node\n",
    "node = 6\n",
    "@assert node>=1\n",
    "@assert node<=n\n",
    "\n",
    "top = n\n",
    "\n",
    "xi = zeros(Int64,n)\n",
    "w  = fill(false,n) # Flag whether a node was visited or not\n",
    "xi, top, w = dfs(node, xi, top, w, L.colptr, L.rowval)\n",
    "xi = xi[top+1:end] # Keeping only the relevant data\n",
    "\n",
    "println(\"Reach of node \", node)\n",
    "println(xi)"
   ]
  },
  {
   "cell_type": "code",
   "execution_count": 4,
   "metadata": {},
   "outputs": [
    {
     "name": "stdout",
     "output_type": "stream",
     "text": [
      "[6, 10, 11, 4, 9, 12, 13, 14]\n"
     ]
    }
   ],
   "source": [
    "top = n\n",
    "xi = zeros(Int64,n)\n",
    "w  = fill(false,n) # Flag whether a node was visited or not\n",
    "xi, top, w = dfs(4, xi, top, w, L.colptr, L.rowval)\n",
    "xi, top, w = dfs(6, xi, top, w, L.colptr, L.rowval)\n",
    "xi = xi[top+1:end] # Keeping only the relevant data\n",
    "println(xi)"
   ]
  }
 ],
 "metadata": {
  "anaconda-cloud": {},
  "kernelspec": {
   "display_name": "Julia 1.0.0",
   "language": "julia",
   "name": "julia-1.0"
  },
  "language_info": {
   "file_extension": ".jl",
   "mimetype": "application/julia",
   "name": "julia",
   "version": "1.0.0"
  }
 },
 "nbformat": 4,
 "nbformat_minor": 1
}
